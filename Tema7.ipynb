{
 "cells": [
  {
   "cell_type": "markdown",
   "metadata": {},
   "source": [
    "# Exercicis del tema 7"
   ]
  },
  {
   "cell_type": "code",
   "execution_count": null,
   "metadata": {},
   "outputs": [],
   "source": [
    "%load_ext asymagic\n",
    "\n",
    "def mcm_llista(llista):\n",
    "    \"\"\"\n",
    "    Retorna el mínim comú múltipe d'una llista de nombres enters\n",
    "    \"\"\"\n",
    "    if len(llista) == 0:\n",
    "        return 1\n",
    "    mcm = llista[0]\n",
    "    for i in llista[1:]:\n",
    "        mcm = mcm * i // gcd(mcm, i)\n",
    "    return mcm\n",
    "\n",
    "def completa_quadrats(expr,vi,vf):\n",
    "    \"\"\"\n",
    "    Completa quadrats en un polinomi de segon grau\n",
    "    \"\"\"\n",
    "    l = len(vi)\n",
    "    d2 = [diff(expr,t,2)/2 for t in vi]\n",
    "    zeros = len([t for t in d2 if t != 0])\n",
    "    if zeros < len(d2) - 1:\n",
    "        print(\"Expressió no vàlida\")\n",
    "        return None, None\n",
    "    d1 = [diff(expr,t) for t in vi]\n",
    "    d1 = [d1[i] - 2*d2[i]*vi[i] for i in range(l)]\n",
    "    ti = expr - sum([d2[i]*vi[i]^2 + d1[i]*vi[i] for i in range(l) if d2[i] != 0])\n",
    "    c = [d1[i]/(2*d2[i]) if d2[i] != 0 else 0 for i in range(l)]\n",
    "    if zeros == len(d2):\n",
    "        s = sum([d2[i]*vf[i]^2 for i in range(l)]) == -ti + sum([d2[i]*c[i]^2 for i in range(l)])\n",
    "        r = [vf[i] == vi[i] + c[i] for i in range(l)]\n",
    "        return s, r\n",
    "    ti = expr - sum([d2[i]*vi[i]^2 + d1[i]*vi[i] for i in range(l)])\n",
    "    ti -= sum([d2[i]*c[i]^2 for i in range(l)])\n",
    "    k = d2.index(0)\n",
    "    s = vf[k] == - sum([d2[i]*vf[i]^2 for i in range(l)])/d1[k]\n",
    "    r = [vf[i] == vi[i] + c[i] if d2[i] != 0 else vf[i] == vi[i] + ti/d1[k] for i in range(l)]\n",
    "    return s,r\n",
    "\n",
    "def centre_conica_quadrica(Q,L):\n",
    "    \"\"\"\n",
    "    Retorna un centre, si és possible, d'una cònica o una quàdrica.\n",
    "    \"\"\"\n",
    "    try:\n",
    "        C = Q.solve_right(-L)\n",
    "        return vector(C)\n",
    "    except:\n",
    "        return []\n",
    "\n",
    "def gram_schmidt(vecs):\n",
    "    \"\"\"\n",
    "    Aplica el mètode de Gram-Schmidt a una llista de vectors\n",
    "    \"\"\"\n",
    "    v = []\n",
    "    for u in vecs:\n",
    "        if len(v) == 0:\n",
    "            v.append(simplifica_vector(u))\n",
    "            continue\n",
    "        w = u - sum([u.dot_product(x)/x.dot_product(x)*x for x in v])\n",
    "        v.append(simplifica_vector(w))\n",
    "    return v\n",
    "    \n",
    "def diagonalitza_matriu_simetrica(A):\n",
    "    \"\"\"\n",
    "    Retorna els valors propis i una base ortonormal de vectors propis d'una\n",
    "    matriu simètrica A\n",
    "    \"\"\"\n",
    "    if A.T != A:\n",
    "        return None\n",
    "    D, C = Q.eigenmatrix_right()\n",
    "    r = D.nrows()\n",
    "    vaps = [D[i,i] for i in range(r)]\n",
    "    veps = gram_schmidt([vector(u) for u in C.columns()])\n",
    "    l = list(zip(vaps,veps))\n",
    "    p = sorted([x for x in l if x[0] > 0],key=lambda x: x[0])\n",
    "    n = sorted([x for x in l if x[0] < 0],key=lambda x: -x[0])\n",
    "    z = [x for x in l if x[0] == 0]\n",
    "    l = p + n + z\n",
    "    vaps, veps = map(list,zip(*l))\n",
    "    if r == 2:\n",
    "        if veps[0][0] < 0:\n",
    "            veps[0] = -veps[0]\n",
    "        if veps[1][1] < 0:\n",
    "            veps[1] = -veps[1]\n",
    "    if r == 3:\n",
    "        if matrix(veps).T.det() < 0:\n",
    "            veps[2] = -veps[2]\n",
    "    return vaps, veps\n",
    "\n",
    "def equacio_reduida_conica_quadrica_amb_centre(Q,L,f,vaps,centre):\n",
    "    \"\"\"\n",
    "    Retorna l'equació reduïda d'una cònica o quàdrica amb centre\n",
    "    \"\"\"\n",
    "    x1, y1, z1 = var('x1 y1 z1')\n",
    "    X = vector([x1,y1,z1])\n",
    "    n = Q.nrows()\n",
    "    q = sum([vaps[i]*X[i]^2 for i in range(n)])\n",
    "    f1 = centre*Q*centre + 2*L*centre + f\n",
    "    if f1 != 0:\n",
    "        eq = q == -f1\n",
    "        return - eq / f1\n",
    "    mcm = mcm_llista([x for x in vaps if x != 0])\n",
    "    eq = q == 0\n",
    "    return eq / abs(mcm)\n",
    "\n",
    "def normalitza(l):\n",
    "    \"\"\"\n",
    "    Retorna la llista de vectors normalitzats\n",
    "    \"\"\"\n",
    "    t = list(l)\n",
    "    return [u.normalized() for u in t]\n",
    "\n",
    "def simplifica_vector(v):\n",
    "    \"\"\"\n",
    "    Retorna el vector simplificat\n",
    "    \"\"\"\n",
    "    f = []\n",
    "    for r in v:\n",
    "        if isinstance(r,Rational):\n",
    "            f.append(r.denom())\n",
    "    if len(f) > 0:\n",
    "        n = prod(f)/gcd(f)\n",
    "        v = n*v\n",
    "    f = []\n",
    "    for r in v:\n",
    "        f.append(r)\n",
    "    n = gcd(f)\n",
    "    return v/n\n",
    "\n",
    "def coordenades_en_canonica(ref,l):\n",
    "    \"\"\"\n",
    "    Retorna les coordenades en la referència canònica dels punts que\n",
    "    tenen coordenades \"l\" en la referència \"ref\"\n",
    "    \"\"\"\n",
    "    if isinstance(l,list) or isinstance(l,tuple):\n",
    "        if len(l) == 0:\n",
    "            return None\n",
    "        res = []\n",
    "        for p in l:\n",
    "            n = len(p)\n",
    "            res.append(vector(ref[0]) + sum([p[i]*ref[1][i] for i in range(n)]))\n",
    "        return res\n",
    "    n = len(l)\n",
    "    return vector(ref[0]) + sum([l[i]*ref[1][i] for i in range(n)])\n",
    "\n",
    "def components_en_canonica(base,l):\n",
    "    \"\"\"\n",
    "    Retorna les components en la base canònica del vector que\n",
    "    té components \"l\" en la base \"base\"\n",
    "    \"\"\"\n",
    "    if len(l) == 0:\n",
    "        return None\n",
    "    res = []\n",
    "    for v in l:\n",
    "        n = len(v)\n",
    "        res.append(sum([v[i]*base[i] for i in range(n)]))\n",
    "    return res\n",
    "\n",
    "def equacio_reduida_parabola(L,vaps,veps):\n",
    "    \"\"\"\n",
    "    Retorna l'equació reduïda d'una paràbola\n",
    "    \"\"\"\n",
    "    x1, y1 = var('x1 y1')\n",
    "    X = vector([x1,y1])\n",
    "    v = veps[1]\n",
    "    v = v.normalized()\n",
    "    eq = y1 == - vaps[0]*x1^2/(2*v*L)\n",
    "    return eq\n",
    "\n",
    "def parametre_parabola(L,vaps,veps):\n",
    "    \"\"\"\n",
    "    Retorna el paràmetre d'una paràbola\n",
    "    \"\"\"\n",
    "    v = veps[1]\n",
    "    v = v.normalized()\n",
    "    p = abs(v*L/vaps[0])\n",
    "    return p\n",
    "\n",
    "def vertex_parabola(Q,L,f,vaps,veps):\n",
    "    \"\"\"\n",
    "    Retorna el vèrtex d'una paràbola\n",
    "    \"\"\"\n",
    "    x, y = var('x y')\n",
    "    X = vector([x,y])\n",
    "    v = veps[0]\n",
    "    s = vaps[0]*v*X + v*L == 0\n",
    "    p = X*Q*X + 2*L*X + f == 0\n",
    "    sol = solve([s,p],[x,y])\n",
    "    \n",
    "    return vector([sol[0][0].right(),sol[0][1].right()])\n",
    "\n",
    "def vertex_paraboloide_cilindre_parabolic(Q,L,f,vaps,veps):\n",
    "    \"\"\"\n",
    "    Retorna el vèrtex d'un paraboloide o els vèrtexs d'un\n",
    "    cilindre parabòlic\n",
    "    \"\"\"\n",
    "    x, y, z = var('x y z')\n",
    "    X = vector([x,y,z])\n",
    "    eqs = []\n",
    "    for i in range(3):\n",
    "        if vaps[i] == 0:\n",
    "            continue\n",
    "        eq = vaps[i]*veps[i].dot_product(X) + veps[i]*L == 0\n",
    "        eqs.append(eq)\n",
    "    eqs.append(X*Q*X + 2*L*X + f == 0)\n",
    "    sol = solve(eqs,[x,y,z])\n",
    "    return vector([sol[0][0].right(),sol[0][1].right(),sol[0][2].right()])\n",
    "\n",
    "def equacio_reduida_quadrica_sense_centre(L,vaps,veps):\n",
    "    \"\"\"\n",
    "    Retorna l'equació reduïda d'una quàdrica sense centre\n",
    "    \"\"\"\n",
    "    x1, y1, z1 = var('x1 y1 z1')\n",
    "    X = vector([x1,y1,z1])\n",
    "    v = veps[2]\n",
    "    v = v.normalized()\n",
    "    eq = z1 == - vaps[0]*x1^2/(2*v*L) - vaps[1]*y1^2/(2*v*L)\n",
    "    return eq\n",
    "\n",
    "def simplificar_radicals(A):\n",
    "    \"\"\"\n",
    "    Simplifica les arrels quadrades en una matriu o en un vector\n",
    "    \"\"\"\n",
    "    try:\n",
    "        for i in range(A.nrows()):\n",
    "            for j in range(A.ncols()):\n",
    "                A[i,j] = A[i,j]._sympy_().simplify()._sage_()\n",
    "        return A\n",
    "    except:\n",
    "        pass\n",
    "    try:\n",
    "        for i in range(A.length()):\n",
    "            A[i] = A[i]._sympy_().simplify()._sage_()\n",
    "        return A\n",
    "    except:\n",
    "        pass\n",
    "    try:\n",
    "        return A._sympy_().simplify()._sage_()\n",
    "    except:\n",
    "        pass\n",
    "    if isinstance(A,list):\n",
    "        try:\n",
    "            return [simplificar_radicals(x) for x in A]\n",
    "        except:\n",
    "            pass\n",
    "    return None"
   ]
  },
  {
   "cell_type": "markdown",
   "metadata": {},
   "source": [
    "## Exercici 1\n",
    "Trobeu l'equació conjunta del parell de rectes $x-2y+2=0$ i $-3x+y-1=0$."
   ]
  },
  {
   "cell_type": "markdown",
   "metadata": {},
   "source": [
    "És evident que els punts que compleixen una de les dues equacions han de complir\n",
    "$$\n",
    " (x-2y+2)(-3x+y-1)=0\\,,\n",
    "$$\n",
    "per tant només cal multiplicar aquests dos termes."
   ]
  },
  {
   "cell_type": "code",
   "execution_count": null,
   "metadata": {},
   "outputs": [],
   "source": [
    "x, y = var('x y')\n",
    "eq = expand((x-2*y+2)*(-3*x+y-1) == 0)\n",
    "show(eq)"
   ]
  },
  {
   "cell_type": "markdown",
   "metadata": {},
   "source": [
    "L'equació del parell de rectes és\n",
    "$$\n",
    "  3x^2 - 7xy + 2y^2 + 7x - 4y + 2 = 0\\,.\n",
    "$$"
   ]
  },
  {
   "cell_type": "markdown",
   "metadata": {},
   "source": [
    "## Exercici 2\n",
    "Calculeu l'equació de la circumferència de centre $(2,-3)$ i radi $4$."
   ]
  },
  {
   "cell_type": "markdown",
   "metadata": {},
   "source": [
    "Recordem que l'equació de la circumferència de centre $(x_0,y_0)$ i radi $r$ és\n",
    "$$\n",
    "  (x-x_0)^2 + (y-y_0)^2 = r^2\\,.\n",
    "$$"
   ]
  },
  {
   "cell_type": "code",
   "execution_count": null,
   "metadata": {},
   "outputs": [],
   "source": [
    "x, y = var('x y')\n",
    "eq = expand((x-2)^2 + (y+3)^2 - 4^2 == 0)\n",
    "show(eq)"
   ]
  },
  {
   "cell_type": "markdown",
   "metadata": {},
   "source": [
    "L'equació de la circumferència és $x^2+y^2-4x+6y-3=0$."
   ]
  },
  {
   "cell_type": "markdown",
   "metadata": {},
   "source": [
    "## Exercici 3\n",
    "Es considera l'el·lipse que té per focus els punts $(2,1)$ i $(0,3)$ i semieix major igual a $2$.\n",
    "1. Determineu una referència principal i l'equació reduïda.\n",
    "2. Calculeu la seva equació en la referència canònica."
   ]
  },
  {
   "cell_type": "markdown",
   "metadata": {},
   "source": [
    "Els focus i el semieix major són:"
   ]
  },
  {
   "cell_type": "code",
   "execution_count": null,
   "metadata": {},
   "outputs": [],
   "source": [
    "F1 = vector([2,1])\n",
    "F2 = vector([0,3])\n",
    "a = 2"
   ]
  },
  {
   "cell_type": "markdown",
   "metadata": {},
   "source": [
    "La semidistància focal de l'el·lipse és"
   ]
  },
  {
   "cell_type": "code",
   "execution_count": null,
   "metadata": {},
   "outputs": [],
   "source": [
    "c = (F2-F1).norm()/2\n",
    "show(c)"
   ]
  },
  {
   "cell_type": "markdown",
   "metadata": {},
   "source": [
    "El semieix menor és"
   ]
  },
  {
   "cell_type": "code",
   "execution_count": null,
   "metadata": {},
   "outputs": [],
   "source": [
    "b = sqrt(a^2-c^2)\n",
    "show(b)"
   ]
  },
  {
   "cell_type": "markdown",
   "metadata": {},
   "source": [
    "Per tant, l'equació reduïda de l'el·lipse, és a dir, la seva equació en la referència principal és\n",
    "$$\n",
    "  \\frac{x'^2}{4}+\\frac{y'^2}{2}=1\\,.\n",
    "$$"
   ]
  },
  {
   "cell_type": "markdown",
   "metadata": {},
   "source": [
    "El centre de la e·lipse és el punt mitjà dels focus:"
   ]
  },
  {
   "cell_type": "code",
   "execution_count": null,
   "metadata": {},
   "outputs": [],
   "source": [
    "B = (F1+F2)/2\n",
    "show(B)"
   ]
  },
  {
   "cell_type": "markdown",
   "metadata": {},
   "source": [
    "Les direcció de l'eix principal és"
   ]
  },
  {
   "cell_type": "code",
   "execution_count": null,
   "metadata": {},
   "outputs": [],
   "source": [
    "u1 = F1-B\n",
    "show(u1)"
   ]
  },
  {
   "cell_type": "markdown",
   "metadata": {},
   "source": [
    "i, com que $\\vec u_2$ ha de ser perpendicular a $\\vec u_1$, tenim que $\\vec u_2=(1,1)$. Aleshores, la referència principal i l'equació reduïda de l'el·lipse són\n",
    "$$\n",
    "  \\mathcal{R}'=\\left\\{(1,2);\\frac{1}{\\sqrt{2}}(1,-1),\\frac{1}{\\sqrt{2}}(1,1)\\right\\}\n",
    "  \\qquad\\text{i}\\qquad\n",
    "  \\frac{x'^2}{4} + \\frac{y'^2}{2} = 1\\,.\n",
    "$$"
   ]
  },
  {
   "cell_type": "markdown",
   "metadata": {},
   "source": [
    "En el gràfic següent podem veure representada l'el·lipse:"
   ]
  },
  {
   "cell_type": "code",
   "execution_count": null,
   "metadata": {},
   "outputs": [],
   "source": [
    "%%asy --fmt svg\n",
    "import geometry;\n",
    "import coordenades;\n",
    "import graph;\n",
    "\n",
    "unitsize(1cm);\n",
    "\n",
    "Canonica(-7,8,-5,9);\n",
    "Elipse((1,2),(1,-1),4,2,x=8,y=7);"
   ]
  },
  {
   "cell_type": "markdown",
   "metadata": {},
   "source": [
    "El canvi de coordenades de la referència $\\mathcal{R}'$ a la referència canònica vé donat per\n",
    "$$\n",
    "  \\left(\\begin{array}{c} x \\\\ y \\end{array}\\right) \n",
    "  = \\left(\\begin{array}{r} 1 \\\\ 2 \\end{array}\\right) \n",
    "  + \\frac{1}{\\sqrt{2}}\\left(\\begin{array}{rr}\n",
    "   1 & 1 \\\\\n",
    "  -1 & 1 \\\\\n",
    "  \\end{array}\\right) \n",
    "  \\left(\\begin{array}{c} x' \\\\ y' \\end{array}\\right)\\,. \n",
    "$$"
   ]
  },
  {
   "cell_type": "markdown",
   "metadata": {},
   "source": [
    "Per o obtenir l'equació de l'el·lipse en lña referència canònica, hem d'aïllar $(x',y')$ en funció de $(x,y)$ a partir d'aquesta iqualtat i substituir-ho a l'equació reduïda de la el·lipse."
   ]
  },
  {
   "cell_type": "code",
   "execution_count": null,
   "metadata": {
    "scrolled": true,
    "tags": []
   },
   "outputs": [],
   "source": [
    "x , y = var('x y')\n",
    "x1, y1 = var('x1 y1')\n",
    "C = 1/sqrt(2)*matrix([[1,1],[-1,1]])\n",
    "X = vector([x,y])\n",
    "X1 = vector([x1,y1])\n",
    "P = C.inverse() * (X - B)\n",
    "show(P)"
   ]
  },
  {
   "cell_type": "code",
   "execution_count": null,
   "metadata": {},
   "outputs": [],
   "source": [
    "eqr = x1^2/4 + y1^2/2 - 1 == 0\n",
    "eq = expand(eqr.subs(x1=P[0],y1=P[1]))\n",
    "## show(eq)\n",
    "show(8*eq)"
   ]
  },
  {
   "cell_type": "markdown",
   "metadata": {},
   "source": [
    "L'equació de l'el·lipse en la referència canònica és $3x^2+2xy+3y^2-10x-14y+11 = 0$."
   ]
  },
  {
   "cell_type": "markdown",
   "metadata": {},
   "source": [
    "**Una altra manera d'obtenir aquesta equació**"
   ]
  },
  {
   "cell_type": "markdown",
   "metadata": {},
   "source": [
    "Recodem que si les matrius i el terme independent en la referència canònica d'una cònica són $Q$, $L$ i $f$ i fem el canvi de coordenades\n",
    "$$\n",
    "  \\left(\\begin{array}{c} x\\\\ y \\end{array}\\right)\n",
    "  = B + C\\left(\\begin{array}{c} x'\\\\ y'  \\end{array}\\right)\\,,\n",
    "$$\n",
    "les matrius i el terme independent de la cònica en la referència $\\mathcal{R}'$ són\n",
    "$$\n",
    "  \\begin{aligned}\n",
    "  Q' &= C^tQC\\\\\n",
    "  L' &= C^t(QB+L)\\\\\n",
    "  f' &= B^tQB + 2L^tB + f\\,.\n",
    "  \\end{aligned}\n",
    "$$\n",
    "Si aïllem $Q$, $L$ i $f$, tindrem que\n",
    "$$\n",
    "  \\begin{aligned}\n",
    "  Q &= CQ'C^t\\\\\n",
    "  L &= CL' - QB \\\\\n",
    "  f &= f' - B^tQB - 2L^tB\\,.\n",
    "  \\end{aligned}\n",
    "$$\n",
    "\n",
    "Així docs, una altra manera de calcular l'equació de la cònica en la referència és escriure l'eqació reduïda com a\n",
    "$$\n",
    "  x'^2 + 2y'^2 - 4 = 0\n",
    "$$\n",
    "i aplicar aquestes fórmules."
   ]
  },
  {
   "cell_type": "markdown",
   "metadata": {},
   "source": [
    "Escrivim primer les matrius i el terme independent de la cònica en la referència $\\mathcal{R}'$:"
   ]
  },
  {
   "cell_type": "code",
   "execution_count": null,
   "metadata": {},
   "outputs": [],
   "source": [
    "Q1 = matrix([[1,0],[0,2]])\n",
    "L1 = vector([0,0])\n",
    "f1 = -4 "
   ]
  },
  {
   "cell_type": "markdown",
   "metadata": {},
   "source": [
    "Calculem ara les matrius i el terme independent de la cònica en la referència canònica"
   ]
  },
  {
   "cell_type": "code",
   "execution_count": null,
   "metadata": {},
   "outputs": [],
   "source": [
    "Q = C*Q1*C.T\n",
    "L = C*L1 - Q*B\n",
    "f = f1 - (B*Q*B + 2*L*B)"
   ]
  },
  {
   "cell_type": "markdown",
   "metadata": {},
   "source": [
    "L'equació de la cònica en la referència canònica és"
   ]
  },
  {
   "cell_type": "code",
   "execution_count": null,
   "metadata": {},
   "outputs": [],
   "source": [
    "eq = expand(X*Q*X + 2*L*X + f) == 0\n",
    "## show(eq)\n",
    "show(2*eq)"
   ]
  },
  {
   "cell_type": "markdown",
   "metadata": {},
   "source": [
    "## Exercici 4\n",
    "Es considera la paràbola que té per focus el punt $(-2,1)$ i per directriu la recta d'equació\n",
    "$$x+2y-10=0 \\,. $$\n",
    "1. Determineu una referència principal i l'equació reduïda.\n",
    "1. Calculeu la seva equació en la referència canònica."
   ]
  },
  {
   "cell_type": "markdown",
   "metadata": {},
   "source": [
    "Trobem en primer lloc la projecció ortogonal del focus sobre la recta directriu. La recta perpendicular a la directriu que passa pel focus té equació $2x-y+5=0$. Aleshores,"
   ]
  },
  {
   "cell_type": "code",
   "execution_count": null,
   "metadata": {},
   "outputs": [],
   "source": [
    "x, y = var('x y')\n",
    "show(solve([x+2*y-10==0,2*x-y+5==0],[x,y]))"
   ]
  },
  {
   "cell_type": "code",
   "execution_count": null,
   "metadata": {},
   "outputs": [],
   "source": [
    "F = vector([-2,1])\n",
    "F1 = vector([0,5])\n",
    "V = (F+F1)/2\n",
    "show(V)"
   ]
  },
  {
   "cell_type": "markdown",
   "metadata": {},
   "source": [
    "El vèrtex de la paràbola és el punt $(-1,3)$ i les direccions dels eixos principals són $\\vec u_1=(2,-1)$ (vector director de la recta directriu) i $\\vec u_2=(1,2)$ (perpendicular a l'anterior)."
   ]
  },
  {
   "cell_type": "markdown",
   "metadata": {},
   "source": [
    "El paràmetre de la paràbola és "
   ]
  },
  {
   "cell_type": "code",
   "execution_count": null,
   "metadata": {},
   "outputs": [],
   "source": [
    "p = (F-F1).norm()\n",
    "show(p)"
   ]
  },
  {
   "cell_type": "markdown",
   "metadata": {},
   "source": [
    "La referència principal de la paràbola és\n",
    "$$\n",
    "  \\mathcal{R}'=\\left\\{(-1,3),\\frac{1}{\\sqrt{5}}(2,-1),\\frac{1}{\\sqrt{5}}(1,2)\\right\\}\n",
    "$$"
   ]
  },
  {
   "cell_type": "markdown",
   "metadata": {},
   "source": [
    "L'equació reduïda d'una paràbola és de la forma\n",
    "$$\n",
    "  y'=\\pm\\frac{x'^2}{2p}\n",
    "$$\n",
    "i per determinar si el signe és positiu o negatiu, hem de veure si el vector $\\overrightarrow{VF}$ té el mateix sentit o el contrari que el vector $\\vec u_2$:"
   ]
  },
  {
   "cell_type": "code",
   "execution_count": null,
   "metadata": {},
   "outputs": [],
   "source": [
    "show(F-V)"
   ]
  },
  {
   "cell_type": "markdown",
   "metadata": {},
   "source": [
    "Per tant, l'equació reduïda de la paràbola\n",
    "$$\n",
    "   y'=-\\frac{x'^2}{4\\sqrt{5}}\n",
    "$$\n",
    "En el gràfic següent podem veure representada la paràbola:"
   ]
  },
  {
   "cell_type": "code",
   "execution_count": null,
   "metadata": {},
   "outputs": [],
   "source": [
    "%%asy --fmt svg\n",
    "import geometry;\n",
    "import coordenades;\n",
    "import graph;\n",
    "\n",
    "unitsize(1cm);\n",
    "\n",
    "Canonica(-12,8,-6,10);\n",
    "Parabola((-1,3),(-2,1),x=9,y=8);"
   ]
  },
  {
   "cell_type": "markdown",
   "metadata": {},
   "source": [
    "Calculem l'equació de la paràbola en la referència canònica:"
   ]
  },
  {
   "cell_type": "markdown",
   "metadata": {},
   "source": [
    "El canvi de coordenades de la referència $\\mathcal{R}'$ a la referència canònica vé donat per\n",
    "$$\n",
    "  \\left(\\begin{array}{c} x \\\\ y \\end{array}\\right) \n",
    "  = \\left(\\begin{array}{r} -1 \\\\ 3 \\end{array}\\right) \n",
    "  + \\frac{1}{\\sqrt{5}}\\left(\\begin{array}{rr}\n",
    "   2 & 1 \\\\\n",
    "  -1 & 2 \\\\\n",
    "  \\end{array}\\right) \n",
    "  \\left(\\begin{array}{c} x' \\\\ y' \\end{array}\\right)\\,. \n",
    "$$"
   ]
  },
  {
   "cell_type": "code",
   "execution_count": null,
   "metadata": {},
   "outputs": [],
   "source": [
    "x , y = var('x y')\n",
    "x1, y1 = var('x1 y1')\n",
    "C = 1/sqrt(5)*matrix([[2,1],[-1,2]])\n",
    "X = vector([x,y])\n",
    "X1 = vector([x1,y1])\n",
    "P = C.inverse() * (X - V)\n",
    "show(P)"
   ]
  },
  {
   "cell_type": "code",
   "execution_count": null,
   "metadata": {},
   "outputs": [],
   "source": [
    "eqr = y1+x1^2/(4*sqrt(5)) == 0\n",
    "eq = expand(eqr.subs(x1=P[0],y1=P[1]))\n",
    "show(eq)"
   ]
  },
  {
   "cell_type": "markdown",
   "metadata": {},
   "source": [
    "Com que tots els termes estan multiplicats per $\\sqrt{5}$ i el denominador comú és 100, multipliquem l'equacio per $\\frac{100}{\\sqrt{5}}$:"
   ]
  },
  {
   "cell_type": "code",
   "execution_count": null,
   "metadata": {},
   "outputs": [],
   "source": [
    "eq = expand(100/sqrt(5)*eq)\n",
    "show(eq)"
   ]
  },
  {
   "cell_type": "markdown",
   "metadata": {},
   "source": [
    "L'equació de la paràbola en la referència canònica és $4x^2-4xy+y^2+40x+30y-75 = 0$."
   ]
  },
  {
   "cell_type": "markdown",
   "metadata": {
    "tags": []
   },
   "source": [
    "**Una altra manera d'obtenir l'equació**"
   ]
  },
  {
   "cell_type": "markdown",
   "metadata": {},
   "source": [
    "Escrivim primer les matrius i el terme independent de la cònica en la referència $\\mathcal{R}'$. Per això, observem que l'equació reduïda es pot escriure com\n",
    "$$\n",
    "  x'^2 + 4\\sqrt{5}\\,y' = 0\\,.\n",
    "$$"
   ]
  },
  {
   "cell_type": "code",
   "execution_count": null,
   "metadata": {},
   "outputs": [],
   "source": [
    "Q1 = matrix([[1,0],[0,0]])\n",
    "L1 = vector([0,2*sqrt(5)])\n",
    "f1 = 0"
   ]
  },
  {
   "cell_type": "markdown",
   "metadata": {},
   "source": [
    "Calculem ara les matrius i el terme independent de la cònica en la referència canònica"
   ]
  },
  {
   "cell_type": "code",
   "execution_count": null,
   "metadata": {},
   "outputs": [],
   "source": [
    "Q = C*Q1*C.T\n",
    "L = C*L1 - Q*B\n",
    "f = f1 - (B*Q*B + 2*L*B)"
   ]
  },
  {
   "cell_type": "markdown",
   "metadata": {},
   "source": [
    "L'equació de la cònica en la referència canònica és"
   ]
  },
  {
   "cell_type": "code",
   "execution_count": null,
   "metadata": {},
   "outputs": [],
   "source": [
    "eq = expand(X*Q*X + 2*L*X + f) == 0\n",
    "## show(eq)\n",
    "show(5*eq)"
   ]
  },
  {
   "cell_type": "markdown",
   "metadata": {},
   "source": [
    "## Exercici 5\n",
    "Es considera la hipèrbola que té per focus els punts $(-1,2)$ i $(3,0)$ i semieix real $2$.\n",
    "1. Determineu una referència principal i l'equació reduïda.\n",
    "1. Calculeu la seva equació en la referència canònica."
   ]
  },
  {
   "cell_type": "markdown",
   "metadata": {},
   "source": [
    "En primer lloc, escrivim els focus i el semieix real:"
   ]
  },
  {
   "cell_type": "code",
   "execution_count": null,
   "metadata": {},
   "outputs": [],
   "source": [
    "F1 = vector([-1,2])\n",
    "F2 = vector([3,0])\n",
    "a = 2"
   ]
  },
  {
   "cell_type": "markdown",
   "metadata": {},
   "source": [
    "El centre de la hipèrbola ñes el punt mitjà del segment que uneix els focus i la semidistància focal és la meitat de distància entre els focus. Aleshores, també podrem trobar el semieix imaginari."
   ]
  },
  {
   "cell_type": "code",
   "execution_count": null,
   "metadata": {},
   "outputs": [],
   "source": [
    "B = (F1+F2)/2\n",
    "show(B)"
   ]
  },
  {
   "cell_type": "markdown",
   "metadata": {},
   "source": [
    "La semidistància focal és"
   ]
  },
  {
   "cell_type": "code",
   "execution_count": null,
   "metadata": {},
   "outputs": [],
   "source": [
    "c = (F1-F2).norm()/2\n",
    "show(c)"
   ]
  },
  {
   "cell_type": "markdown",
   "metadata": {},
   "source": [
    "i el semieix imaginari"
   ]
  },
  {
   "cell_type": "code",
   "execution_count": null,
   "metadata": {},
   "outputs": [],
   "source": [
    "b = sqrt(c^2-a^2)\n",
    "show(b)"
   ]
  },
  {
   "cell_type": "markdown",
   "metadata": {},
   "source": [
    "L'equació reduïda de la hipèrbola és\n",
    "$$\n",
    "  \\frac{x'^2}{4}-y'^2=1\n",
    "$$\n",
    "i les direccions dels eixos principals són"
   ]
  },
  {
   "cell_type": "code",
   "execution_count": null,
   "metadata": {},
   "outputs": [],
   "source": [
    "u1 = F2-B\n",
    "show(u1)"
   ]
  },
  {
   "cell_type": "markdown",
   "metadata": {},
   "source": [
    "és a dir, $\\vec u_1=(2,-1)$ i $\\vec u_2=(1,2)$. La referència principal de la hipèrbola és\n",
    "$$\n",
    "  \\mathcal{R}'=\\left\\{(1,1),\\frac{1}{\\sqrt{5}}(2,-1),\\frac{1}{\\sqrt{5}}(1,2)\\right\\}\\,.\n",
    "$$\n",
    "En el gràfic següent podem veure representada la hipèrbola:"
   ]
  },
  {
   "cell_type": "code",
   "execution_count": null,
   "metadata": {},
   "outputs": [],
   "source": [
    "%%asy --fmt svg\n",
    "import geometry;\n",
    "import coordenades;\n",
    "import graph;\n",
    "\n",
    "unitsize(1cm);\n",
    "\n",
    "Canonica(-9,12,-8,10);\n",
    "Hiperbola((1,1),(2,-1),4,1,x=10,y=8);"
   ]
  },
  {
   "cell_type": "markdown",
   "metadata": {},
   "source": [
    "Calculem l'equació de la paràbola en la referència canònica:"
   ]
  },
  {
   "cell_type": "markdown",
   "metadata": {},
   "source": [
    "El canvi de coordenades de la referència $\\mathcal{R}'$ a la referència canònica vé donat per\n",
    "$$\n",
    "  \\left(\\begin{array}{c} x \\\\ y \\end{array}\\right) \n",
    "  = \\left(\\begin{array}{r} 1 \\\\ 1 \\end{array}\\right) \n",
    "  + \\frac{1}{\\sqrt{5}}\\left(\\begin{array}{rr}\n",
    "   2 & 1 \\\\\n",
    "  -1 & 2 \\\\\n",
    "  \\end{array}\\right) \n",
    "  \\left(\\begin{array}{c} x' \\\\ y' \\end{array}\\right)\\,. \n",
    "$$"
   ]
  },
  {
   "cell_type": "code",
   "execution_count": null,
   "metadata": {},
   "outputs": [],
   "source": [
    "x , y = var('x y')\n",
    "x1, y1 = var('x1 y1')\n",
    "C = 1/sqrt(5)*matrix([[2,1],[-1,2]])\n",
    "X = vector([x,y])\n",
    "X1 = vector([x1,y1])\n",
    "P = C.inverse() * (X - B)\n",
    "show(P)"
   ]
  },
  {
   "cell_type": "code",
   "execution_count": null,
   "metadata": {},
   "outputs": [],
   "source": [
    "eqr = x1^2/4-y1^2-1 == 0\n",
    "eq = expand(eqr.subs(x1=P[0],y1=P[1]))\n",
    "show(eq)"
   ]
  },
  {
   "cell_type": "markdown",
   "metadata": {},
   "source": [
    "Com que ens queda el denominador comú 4, podem multiplicar l'equació per 4 o per $-4$:"
   ]
  },
  {
   "cell_type": "code",
   "execution_count": null,
   "metadata": {},
   "outputs": [],
   "source": [
    "eq = -4*eq\n",
    "show(eq)"
   ]
  },
  {
   "cell_type": "markdown",
   "metadata": {},
   "source": [
    "L'equació de la hipèrbola en la referència canònica és $4xy+3y^2-4x-10y+11=0$."
   ]
  },
  {
   "cell_type": "markdown",
   "metadata": {
    "tags": []
   },
   "source": [
    "**Una altra manera d'obtenir l'equació**"
   ]
  },
  {
   "cell_type": "markdown",
   "metadata": {},
   "source": [
    "Escrivim primer les matrius i el terme independent de la cònica en la referència $\\mathcal{R}'$. Per això, observem que l'equació reduïda es pot escriure com\n",
    "$$\n",
    "  x'^2 - 4y'^2 - 4 = 0\\,.\n",
    "$$"
   ]
  },
  {
   "cell_type": "code",
   "execution_count": null,
   "metadata": {},
   "outputs": [],
   "source": [
    "Q1 = matrix([[1,0],[0,-4]])\n",
    "L1 = vector([0,0])\n",
    "f1 = -4"
   ]
  },
  {
   "cell_type": "markdown",
   "metadata": {},
   "source": [
    "Calculem ara les matrius i el terme independent de la cònica en la referència canònica"
   ]
  },
  {
   "cell_type": "code",
   "execution_count": null,
   "metadata": {},
   "outputs": [],
   "source": [
    "Q = C*Q1*C.T\n",
    "L = C*L1 - Q*B\n",
    "f = f1 - (B*Q*B + 2*L*B)"
   ]
  },
  {
   "cell_type": "markdown",
   "metadata": {},
   "source": [
    "L'equació de la cònica en la referència canònica és"
   ]
  },
  {
   "cell_type": "code",
   "execution_count": null,
   "metadata": {},
   "outputs": [],
   "source": [
    "eq = expand(X*Q*X + 2*L*X + f) == 0\n",
    "## show(eq)\n",
    "show(-eq)"
   ]
  },
  {
   "cell_type": "markdown",
   "metadata": {},
   "source": [
    "## Exercici 6\n",
    "Trobeu les rectes que formen la cònica\n",
    "$$\n",
    "  2x^2-2y^2-3xy+4x-3y+2=0 \\,.\n",
    "$$"
   ]
  },
  {
   "cell_type": "markdown",
   "metadata": {},
   "source": [
    "Es tracta de descomposar en factors el polinomi de segon grau:\n",
    "$$\n",
    "  2x^2-2y^2-3xy+4x-3y+2 = (Ax+By+C)(ax+by+c)\\,,\n",
    "$$\n",
    "i això ho podem fer amb la funció *factor*."
   ]
  },
  {
   "cell_type": "code",
   "execution_count": null,
   "metadata": {},
   "outputs": [],
   "source": [
    "x, y = var('x y')\n",
    "eq = 2*x^2-2*y^2-3*x*y+4*x-3*y+2\n",
    "show(factor(eq))"
   ]
  },
  {
   "cell_type": "markdown",
   "metadata": {},
   "source": [
    "Les dues rectes tenen equacions $2x+y+2=0$ i $x-2y+1=0$."
   ]
  },
  {
   "cell_type": "markdown",
   "metadata": {},
   "source": [
    "## Exercici 7\n",
    "Determineu el centre i el radi de la circumferència d'equació\n",
    "$$\n",
    "  4x^2+4y^2-8x+4y-15=0 \\,.\n",
    "$$"
   ]
  },
  {
   "cell_type": "markdown",
   "metadata": {},
   "source": [
    "Hem de completar quadrats en aquesta expressió:"
   ]
  },
  {
   "cell_type": "code",
   "execution_count": null,
   "metadata": {},
   "outputs": [],
   "source": [
    "x, y = var('x y')\n",
    "x1, y1 = var('x1 y1')\n",
    "eq = 4*x^2+4*y^2-8*x+4*y-15\n",
    "t, r  = completa_quadrats(eq,[x,y],[x1,y1])\n",
    "show(t,r)"
   ]
  },
  {
   "cell_type": "markdown",
   "metadata": {},
   "source": [
    "És a dir, l'equació $4x^2+4y^2-8x+4y-15=0$ es pot escriure com a \n",
    "$$\n",
    "  4(x-1)^2 + 4\\left(y+\\frac{1}{2}\\right)^2 = 20\n",
    "  \\qquad\\text{o, dividint per 4}\\qquad\n",
    "  (x-1)^2 + \\left(y+\\frac{1}{2}\\right)^2 = 5\\,.\n",
    "$$\n",
    "Es tracta, doncs, de la circumferència de centre $C=\\left(1,-\\frac{1}{2}\\right)$ i radi $r=\\sqrt{5}$."
   ]
  },
  {
   "cell_type": "markdown",
   "metadata": {},
   "source": [
    "## Exercici 8\n",
    "Es considera la cònica d'equació\n",
    "$$\n",
    "   3x^2+2xy+3y^2+16x+16=0\\,. \n",
    "$$\n",
    "1. Classifiqueu-la.\n",
    "2. Determineu els elements geomètrics, els paràmetres i la definició mètrica.\n",
    "3. Representeu-la gràficament."
   ]
  },
  {
   "cell_type": "markdown",
   "metadata": {},
   "source": [
    "Les matrius de la part quadràtica i lineal de la cònica i el terme independent són:\n",
    "$$\n",
    "  Q=\\left(\\begin{array}{rr}\n",
    "   3 & 1 \\\\\n",
    "   1 & 3\n",
    "  \\end{array}\\right)\\,,\\qquad\n",
    "  L = \\left(\\begin{array}{r} 8 \\\\ 0 \\end{array}\\right)\\qquad\\text{i}\\qquad\n",
    "  f=16\\,.\n",
    "$$"
   ]
  },
  {
   "cell_type": "code",
   "execution_count": null,
   "metadata": {},
   "outputs": [],
   "source": [
    "Q = matrix([[3,1],[1,3]])\n",
    "L = vector([8,0])\n",
    "f = 16"
   ]
  },
  {
   "cell_type": "markdown",
   "metadata": {},
   "source": [
    "Per calcular el seu centre, si en té, hem de resoldre el sistema d'equacions $QX=-L$, és a dir,\n",
    "$$\n",
    "  \\left(\\begin{array}{rr}\n",
    "   3 & 1 \\\\\n",
    "   1 & 3\n",
    "  \\end{array}\\right)\n",
    "  \\left(\\begin{array}{r} x \\\\ y \\end{array}\\right)\n",
    "  = \\left(\\begin{array}{r} -8 \\\\ 0 \\end{array}\\right)\\,,\n",
    "$$\n",
    "i la funció *centre_conica_quadrica* ja ho fa."
   ]
  },
  {
   "cell_type": "code",
   "execution_count": null,
   "metadata": {},
   "outputs": [],
   "source": [
    "B = centre_conica_quadrica(Q,L)\n",
    "show(B)"
   ]
  },
  {
   "cell_type": "markdown",
   "metadata": {},
   "source": [
    "A continuació, necessitem els valors i vectors propis de la matriu $Q$. Recordem del capítol anterior que s'ha de calcular el polinomi característic, els valors propis i, finalment, el vectors propis. La funció *diagonalitza_matriu_simetrica* ja ho fa tot."
   ]
  },
  {
   "cell_type": "code",
   "execution_count": null,
   "metadata": {},
   "outputs": [],
   "source": [
    "l, v = diagonalitza_matriu_simetrica(Q)\n",
    "show(l)"
   ]
  },
  {
   "cell_type": "markdown",
   "metadata": {},
   "source": [
    "Quan els valors propis tenen el mateix signe, és habitual posar en primer lloc el més petit en valor absolut. Aleshores els canviem d'ordre"
   ]
  },
  {
   "cell_type": "code",
   "execution_count": null,
   "metadata": {},
   "outputs": [],
   "source": [
    "show(v)"
   ]
  },
  {
   "cell_type": "markdown",
   "metadata": {},
   "source": [
    "Els valors propis de $Q$ són $\\lambda_1=2$ i $\\lambda_2=4$ amb vectors propis $\\vec u_1=(1,-1)$ i $\\vec u_2=(1,1)$, respectivament."
   ]
  },
  {
   "cell_type": "markdown",
   "metadata": {},
   "source": [
    "Ara ja podem calcular l'equació reduïda de la cònica:"
   ]
  },
  {
   "cell_type": "code",
   "execution_count": null,
   "metadata": {},
   "outputs": [],
   "source": [
    "eq = equacio_reduida_conica_quadrica_amb_centre(Q,L,f,l,B)\n",
    "show(eq)"
   ]
  },
  {
   "cell_type": "markdown",
   "metadata": {},
   "source": [
    "La cònica és una el·lipse amb referència principal i equació reduïda\n",
    "$$\n",
    "  \\mathcal{R}'=\\left\\{(-3,1)\\,;\\frac{1}{\\sqrt{2}}(1,-1),\\frac{1}{\\sqrt{2}}(1,1)\\right\\}\\qquad\\text{i}\\qquad\n",
    "  \\frac{x'^2}{4}+\\frac{y'^2}{2}=1\\,.\n",
    "$$\n",
    "El semieix major és $a=2$ i el semieix menor $b=\\sqrt{2}$."
   ]
  },
  {
   "cell_type": "markdown",
   "metadata": {},
   "source": [
    "En el següent gràfic podem veure l'el·lipse"
   ]
  },
  {
   "cell_type": "code",
   "execution_count": null,
   "metadata": {},
   "outputs": [],
   "source": [
    "%%asy --fmt svg\n",
    "import geometry;\n",
    "import coordenades;\n",
    "import graph;\n",
    "\n",
    "unitsize(1cm);\n",
    "\n",
    "Canonica(-9,4,-6,8);\n",
    "Elipse((-3,1),(1,-1),4,2,x=7,y=6);"
   ]
  },
  {
   "cell_type": "markdown",
   "metadata": {},
   "source": [
    "La semidistància focal és"
   ]
  },
  {
   "cell_type": "code",
   "execution_count": null,
   "metadata": {},
   "outputs": [],
   "source": [
    "a = 2\n",
    "b = sqrt(2)\n",
    "c = sqrt(a^2-b^2)\n",
    "show(c)"
   ]
  },
  {
   "cell_type": "markdown",
   "metadata": {},
   "source": [
    "Les coordenades dels focus de l'el·lipse en la referència principal són $(c,0)_{\\mathcal{R}'}$ i $(-c,0)_{\\mathcal{R}'}$. Calculem ara les seves coordenades en la referència canònica:"
   ]
  },
  {
   "cell_type": "code",
   "execution_count": null,
   "metadata": {},
   "outputs": [],
   "source": [
    "v = normalitza(v)\n",
    "ref = [B,v]\n",
    "show(coordenades_en_canonica(ref,[(c,0),(-c,0)]))"
   ]
  },
  {
   "cell_type": "markdown",
   "metadata": {},
   "source": [
    "Els vèrtexs de l'el·lipse són els punts que en la referència principal tenen coordenades $(a,0)_{\\mathcal{R}'}$, $(-a,0)_{\\mathcal{R}'}$, $(0,b)_{\\mathcal{R}'}$ i $(0,-b)_{\\mathcal{R}'}$. Calculem ara les seves coordenades en la referència canònica:"
   ]
  },
  {
   "cell_type": "code",
   "execution_count": null,
   "metadata": {},
   "outputs": [],
   "source": [
    "show(coordenades_en_canonica(ref,[(a,0),(-a,0),(0,b),(0,-b)]))"
   ]
  },
  {
   "cell_type": "markdown",
   "metadata": {},
   "source": [
    "Els vèrtexs que estan sobre l'eix de les $x'$ són $\\big(-3+\\sqrt{2},1-\\sqrt{2}\\big)$ i $\\big(-3-\\sqrt{2},1+\\sqrt{2}\\big)$ i els vèrtexs que estan sobre l'eix de les $y'$ són $(-2,2)$ i $(-4,0)$."
   ]
  },
  {
   "cell_type": "markdown",
   "metadata": {},
   "source": [
    "**Definició mètrica**: el·lipse formada pels punts del pla tals que la suma de les seves distàncies als punts $(-4,2)$ i $(-2,0)$ és $4$."
   ]
  },
  {
   "cell_type": "markdown",
   "metadata": {},
   "source": [
    "## Exercici 9\n",
    "Es considera la cònica d'equació\n",
    "$$4x^2-4xy+y^2+32x+34y-11=0 \\,. $$\n",
    "1. Classifiqueu-la.\n",
    "2. Determineu els elements geomètrics, els paràmetres i la definició mètrica.\n",
    "3. Representeu-la gràficament."
   ]
  },
  {
   "cell_type": "markdown",
   "metadata": {},
   "source": [
    "Essencialment, hem de seguir els mateixos passos que a l'exercici anterior."
   ]
  },
  {
   "cell_type": "markdown",
   "metadata": {},
   "source": [
    "Les matrius de la part quadràtica i lineal de la cònica i el terme independent són:\n",
    "$$\n",
    "  Q=\\left(\\begin{array}{rr}\n",
    "    4 & -2 \\\\\n",
    "   -2 &  1\n",
    "  \\end{array}\\right)\\,,\\qquad\n",
    "  L = \\left(\\begin{array}{r} 16 \\\\ 17 \\end{array}\\right)\\qquad\\text{i}\\qquad\n",
    "  f=-11\\,.\n",
    "$$"
   ]
  },
  {
   "cell_type": "code",
   "execution_count": null,
   "metadata": {},
   "outputs": [],
   "source": [
    "Q = matrix([[4,-2],[-2,1]])\n",
    "L = vector([16,17])\n",
    "f = -11"
   ]
  },
  {
   "cell_type": "markdown",
   "metadata": {},
   "source": [
    "Centre de la cònica:"
   ]
  },
  {
   "cell_type": "code",
   "execution_count": null,
   "metadata": {},
   "outputs": [],
   "source": [
    "B = centre_conica_quadrica(Q,L)\n",
    "show(B)"
   ]
  },
  {
   "cell_type": "markdown",
   "metadata": {},
   "source": [
    "La cònica no té centre, per tant, és una **paràbola**. En aquest cas, haurem de calcular el seu vèrtex."
   ]
  },
  {
   "cell_type": "markdown",
   "metadata": {},
   "source": [
    "Valors i vectors propis de la matriu $Q$:"
   ]
  },
  {
   "cell_type": "code",
   "execution_count": null,
   "metadata": {},
   "outputs": [],
   "source": [
    "l, v = diagonalitza_matriu_simetrica(Q)\n",
    "show(l)"
   ]
  },
  {
   "cell_type": "code",
   "execution_count": null,
   "metadata": {},
   "outputs": [],
   "source": [
    "show(v)"
   ]
  },
  {
   "cell_type": "markdown",
   "metadata": {},
   "source": [
    "Els vectors propis de $Q$ són $\\lambda_1=5$ i $\\lambda_2=0$ amb vectors propis $\\vec u_1=(2,-1)$ i $\\vec u_2=(1,2)$, respectivament."
   ]
  },
  {
   "cell_type": "markdown",
   "metadata": {},
   "source": [
    "Calculem ara l'equació reduïda, el paràmetre i el vèrtex de la paràbola, utilitzant les funcions *equacio_reduida_parabola*, *parametre_parabola* i *vertex_parabola*."
   ]
  },
  {
   "cell_type": "code",
   "execution_count": null,
   "metadata": {},
   "outputs": [],
   "source": [
    "show(equacio_reduida_parabola(L,l,v))"
   ]
  },
  {
   "cell_type": "code",
   "execution_count": null,
   "metadata": {},
   "outputs": [],
   "source": [
    "p = parametre_parabola(L,l,v)\n",
    "show(p)"
   ]
  },
  {
   "cell_type": "code",
   "execution_count": null,
   "metadata": {},
   "outputs": [],
   "source": [
    "V = vertex_parabola(Q,L,f,l,v)\n",
    "show(V)"
   ]
  },
  {
   "cell_type": "markdown",
   "metadata": {},
   "source": [
    "La referència principal i l'equació reduïda de la paràbola és són\n",
    "$$\n",
    "  \\mathcal{R}'=\\left\\{(-1,1)\\,;\\frac{1}{\\sqrt{5}}(2,-1),\\frac{1}{\\sqrt{5}}(1,2)\\right\\}\\qquad\\text{i}\\qquad\n",
    "  y'=-\\frac{x'^2}{4\\sqrt{5}}\\,.\n",
    "$$"
   ]
  },
  {
   "cell_type": "markdown",
   "metadata": {},
   "source": [
    "El focus de la paràbola és el punt $\\left(0,-\\sqrt{5}\\right)_{\\mathcal{R}'}$. Les seves coordenades en la referència canònica són"
   ]
  },
  {
   "cell_type": "code",
   "execution_count": null,
   "metadata": {},
   "outputs": [],
   "source": [
    "v = normalitza(v)\n",
    "ref = [V,v]\n",
    "F1 = vector([0,-sqrt(5)])\n",
    "F = coordenades_en_canonica(ref,F1)\n",
    "show(F)"
   ]
  },
  {
   "cell_type": "markdown",
   "metadata": {},
   "source": [
    "El focus és el punt $F=(-2,-1)$. En el gràfic següent podem veure representada la paràbola:"
   ]
  },
  {
   "cell_type": "code",
   "execution_count": null,
   "metadata": {},
   "outputs": [],
   "source": [
    "%%asy --fmt svg\n",
    "import geometry;\n",
    "import coordenades;\n",
    "import graph;\n",
    "\n",
    "unitsize(1cm);\n",
    "\n",
    "Canonica(-12,8,-8,8);\n",
    "Parabola((-1,1),(-2,-1),x=8,y=7);"
   ]
  },
  {
   "cell_type": "markdown",
   "metadata": {},
   "source": [
    "Finalment, la recta directriu és la recta que té vector director $(2,-1)$ i passa pel punt $F_2$, on"
   ]
  },
  {
   "cell_type": "code",
   "execution_count": null,
   "metadata": {},
   "outputs": [],
   "source": [
    "F2 = vector([0,sqrt(5)])\n",
    "F = coordenades_en_canonica(ref,F2)\n",
    "show(F)"
   ]
  },
  {
   "cell_type": "markdown",
   "metadata": {},
   "source": [
    "és a dir, la seva equació és $x+2y=6$."
   ]
  },
  {
   "cell_type": "markdown",
   "metadata": {},
   "source": [
    "**Definició mètrica**: paràbola formada pels punts que equidisten del focus $F=(-2,-1)$ i de la recta directriu $x+2y=6$."
   ]
  },
  {
   "cell_type": "markdown",
   "metadata": {},
   "source": [
    "## Exercici 10\n",
    "Es considera la cònica no degenerada d'equació\n",
    "$$\n",
    "  3x^2-4xy-8x+8y=0 \\,. \n",
    "$$\n",
    "1. Classifiqueu-la.\n",
    "2. Determineu els elements geomètrics, els paràmetres i la definició mètrica."
   ]
  },
  {
   "cell_type": "markdown",
   "metadata": {},
   "source": [
    "Les matrius de la part quadràtica i lineal de la cònica i el terme independent són:\n",
    "$$\n",
    "  Q=\\left(\\begin{array}{rr}\n",
    "    3 & -2 \\\\\n",
    "   -2 &  0\n",
    "  \\end{array}\\right)\\,,\\qquad\n",
    "  L = \\left(\\begin{array}{r} -4 \\\\ 4 \\end{array}\\right)\\qquad\\text{i}\\qquad\n",
    "  f=0\\,.\n",
    "$$"
   ]
  },
  {
   "cell_type": "code",
   "execution_count": null,
   "metadata": {},
   "outputs": [],
   "source": [
    "Q = matrix([[3,-2],[-2,0]])\n",
    "L = vector([-4,4])\n",
    "f = 0"
   ]
  },
  {
   "cell_type": "markdown",
   "metadata": {},
   "source": [
    "Centre de la cònica:"
   ]
  },
  {
   "cell_type": "code",
   "execution_count": null,
   "metadata": {},
   "outputs": [],
   "source": [
    "B = centre_conica_quadrica(Q,L)\n",
    "show(B)"
   ]
  },
  {
   "cell_type": "markdown",
   "metadata": {},
   "source": [
    "Valors i vectors propis de la matriu $Q$:"
   ]
  },
  {
   "cell_type": "code",
   "execution_count": null,
   "metadata": {},
   "outputs": [],
   "source": [
    "l, v = diagonalitza_matriu_simetrica(Q)\n",
    "show(l)"
   ]
  },
  {
   "cell_type": "code",
   "execution_count": null,
   "metadata": {},
   "outputs": [],
   "source": [
    "show(v)"
   ]
  },
  {
   "cell_type": "markdown",
   "metadata": {},
   "source": [
    "Els valors propis de $Q$ són $\\lambda_1=4$ i $\\lambda_2=-1$ amb vectors propis $\\vec u_1=(2,-1)$ i $\\vec u_2=(1,2)$, respectivament."
   ]
  },
  {
   "cell_type": "code",
   "execution_count": null,
   "metadata": {},
   "outputs": [],
   "source": [
    "eq = equacio_reduida_conica_quadrica_amb_centre(Q,L,f,l,B)\n",
    "show(eq)"
   ]
  },
  {
   "cell_type": "markdown",
   "metadata": {},
   "source": [
    "La cònica és una hipèrbola amb referència principal i equació reduïda\n",
    "$$\n",
    "  \\mathcal{R}'=\\left\\{(2,1)\\,;\\frac{1}{\\sqrt{5}}(2,-1),\\frac{1}{\\sqrt{5}}(1,2)\\right\\}\\qquad\\text{i}\\qquad\n",
    "  x'^2-\\frac{y'^2}{4}=1\\,.\n",
    "$$\n",
    "El semieix real és $a=1$ i el semieix imaginari $b=2$. La semidistància focal és "
   ]
  },
  {
   "cell_type": "code",
   "execution_count": null,
   "metadata": {},
   "outputs": [],
   "source": [
    "a = 1\n",
    "b = 2\n",
    "c = sqrt(a^2+b^2)\n",
    "show(c)"
   ]
  },
  {
   "cell_type": "markdown",
   "metadata": {},
   "source": [
    "En el gràfic següent podem veure la hipèrbola"
   ]
  },
  {
   "cell_type": "code",
   "execution_count": null,
   "metadata": {},
   "outputs": [],
   "source": [
    "%%asy --fmt svg\n",
    "import geometry;\n",
    "import coordenades;\n",
    "import graph;\n",
    "\n",
    "unitsize(1.3cm);\n",
    "\n",
    "Canonica(-6,10,-8,9);\n",
    "Hiperbola((2,1),(2,-1),1,4,x=8,y=8);"
   ]
  },
  {
   "cell_type": "markdown",
   "metadata": {},
   "source": [
    "Els focus són els punts de coordenades $\\left(\\sqrt{5},0\\right)_{\\mathcal{R}'}$ i $\\left(-\\sqrt{5},0\\right)_{\\mathcal{R}'}$, mente que és vèrtexs tenen coordenades\n",
    "$(1,0)_{\\mathcal{R}'}$ i $(-1,0)_{\\mathcal{R}'}$. Les seves coordenades en la referència canònica són"
   ]
  },
  {
   "cell_type": "code",
   "execution_count": null,
   "metadata": {},
   "outputs": [],
   "source": [
    "B1 = normalitza(v)\n",
    "ref = [B,B1]\n",
    "show(coordenades_en_canonica(ref,[(c,0),(-c,0),(a,0),(-a,0)]))"
   ]
  },
  {
   "cell_type": "markdown",
   "metadata": {},
   "source": [
    "Les components dels vectors directors de les asímtotes (en la base $\\mathcal{B}'=\\{(2,-1),(1,2)\\}$ són $(a,\\pm b)_{\\mathcal{B}'}$, és a dir, $(1,2)_{\\mathcal{B}'}$ i $(1,-2)_{\\mathcal{B}'}$. Les components en la base canònica d'aquest vectors són"
   ]
  },
  {
   "cell_type": "code",
   "execution_count": null,
   "metadata": {},
   "outputs": [],
   "source": [
    "B1 = [vector([2,-1]),vector([1,2])]\n",
    "w1 = vector([a,b])\n",
    "w2 = vector([a,-b])\n",
    "w = components_en_canonica(B1,[w1,w2])\n",
    "show(w)"
   ]
  },
  {
   "cell_type": "markdown",
   "metadata": {},
   "source": [
    "Per tant, les equacions de les asímptotes de la hipèrbola (recordem que paqssen pel centre $(2,1)$) són $3x-4y=2$ i $x=2$."
   ]
  },
  {
   "cell_type": "markdown",
   "metadata": {},
   "source": [
    "**Definició mètrica**: hipèbola formada pels punts tals que el valor absolut de la diferència de les seves distàncies a $(4,0)$ i $(0,2)$ és $2$."
   ]
  },
  {
   "cell_type": "markdown",
   "metadata": {
    "tags": []
   },
   "source": [
    "## Exercici 11\n",
    "Donada la quàdrica d'equació\n",
    "$$\n",
    " 7 x^2 + 7 y^2 - 5 z^2 - 34 x y - 10 x z - 10 y z + 136 x - 56 y + 40 z -8 = 0\n",
    "$$\n",
    "en la refrència canònica, trobeu la seva equació en la referència $\\mathcal{R}'=\\left\\{(-2,2,4);\\,\\frac{1}{\\sqrt{2}}(1,-1,0),\\frac{1}{\\sqrt{3}}(1,1,1),\\frac{1}{\\sqrt{6}}(-1,-1,2)\\right\\}$."
   ]
  },
  {
   "cell_type": "markdown",
   "metadata": {},
   "source": [
    "En aquest cas tenim que les matrius de la part quadràtica i lineal de la cònica i el terme independent són:\n",
    "$$\n",
    "  Q=\\left(\\begin{array}{rrr}\n",
    "     7 & -17 & -5 \\\\\n",
    "   -17 &   7 & -5 \\\\\n",
    "    -5 &  -5 & -5\n",
    "  \\end{array}\\right)\\,,\\qquad\n",
    "  L = \\left(\\begin{array}{r} 68 \\\\ -28 \\\\ 20 \\end{array}\\right)\\qquad\\text{i}\\qquad\n",
    "  f=-8\\,.\n",
    "$$\n",
    "i hem d'aplicar el canvi de coordenades\n",
    "$$\n",
    "  \\left(\\begin{array}{c} x\\\\ y\\\\ z \\end{array}\\right)\n",
    "  = \\left(\\begin{array}{r} -2\\\\ 2\\\\ 4 \\end{array}\\right) \n",
    "  +\\frac{1}{\\sqrt{6}}\\left(\\begin{array}{ccr} \n",
    "   \\sqrt{3} & \\sqrt{2} & -1 \\\\ \n",
    "  -\\sqrt{3} & \\sqrt{2} & -1 \\\\ \n",
    "   0        & \\sqrt{2} &  2\n",
    "   \\end{array}\\right) \n",
    "  \\left(\\begin{array}{c} x'\\\\ y'\\\\ z' \\end{array}\\right)\\,,\n",
    "$$"
   ]
  },
  {
   "cell_type": "code",
   "execution_count": null,
   "metadata": {},
   "outputs": [],
   "source": [
    "Q = matrix([[7,-17,-5],[-17,7,-5],[-5,-5,-5]])\n",
    "L = vector([68,-28,20])\n",
    "f = -8"
   ]
  },
  {
   "cell_type": "code",
   "execution_count": null,
   "metadata": {},
   "outputs": [],
   "source": [
    "v1 = 1/sqrt(2)*vector([1,-1,0])\n",
    "v2 = 1/sqrt(3)*vector([1,1,1])\n",
    "v3 = 1/sqrt(6)*vector([-1,-1,2])\n",
    "C = matrix([v1,v2,v3]).T\n",
    "B = vector([-2,2,4])"
   ]
  },
  {
   "cell_type": "markdown",
   "metadata": {},
   "source": [
    "Sabem que les matrius i el terme independent de l'equació de la quàdrica en la referència $\\mathcal{R}'$ són\n",
    "$$\n",
    "  \\begin{aligned}\n",
    "  Q' &= C^tQC\\\\\n",
    "  L' &= C^t(QB+L)\\\\\n",
    "  f' &= B^tQB + 2L^tB + f\\,.\n",
    "  \\end{aligned}\n",
    "$$"
   ]
  },
  {
   "cell_type": "code",
   "execution_count": null,
   "metadata": {},
   "outputs": [],
   "source": [
    "Q1 = C.T*Q*C\n",
    "L1 = C.T*(Q*B+L)\n",
    "f1 = B*Q*B +2*L*B + f\n",
    "show(Q1)"
   ]
  },
  {
   "cell_type": "code",
   "execution_count": null,
   "metadata": {},
   "outputs": [],
   "source": [
    "show(L1)"
   ]
  },
  {
   "cell_type": "code",
   "execution_count": null,
   "metadata": {},
   "outputs": [],
   "source": [
    "show(f1)"
   ]
  },
  {
   "cell_type": "code",
   "execution_count": null,
   "metadata": {},
   "outputs": [],
   "source": [
    "x1, y1, z1 = var('x1 y1 z1')\n",
    "X1 = vector([x1,y1,z1])\n",
    "eq = X1*Q1*X1 +2*L1*X1 == -f1\n",
    "## show(eq)\n",
    "show(eq/120)"
   ]
  },
  {
   "cell_type": "markdown",
   "metadata": {},
   "source": [
    "L'equació de la quàdrica en la referència $\\mathcal{R}'$ és\n",
    "$$\n",
    "  \\frac{x'^2}{5}-\\frac{y'^2}{8}=1\n",
    "$$\n",
    "i es tracta d'un cilindre hiperbòlic."
   ]
  },
  {
   "cell_type": "markdown",
   "metadata": {},
   "source": [
    "## Exercici 12\n",
    "Calculeu l'equació en la referència canònica\n",
    "de la quàdrica  que en la referència euclidiana $\\mathcal{R}'=\\left\\{(3,-1,2);\\,\\frac13(2,2,-1),\\frac13(2,-1,2),\\frac13(-1,2,2)\\right\\}$ té equació\n",
    "$$\n",
    "  x'^2+y'^2-2z'^2=0\\,. \n",
    "$$"
   ]
  },
  {
   "cell_type": "markdown",
   "metadata": {},
   "source": [
    "En aquest cas, les matrius $Q'$ i $L'$ i el terme independent $f'$ són\n",
    "$$\n",
    "  Q'=\\left(\\begin{array}{rrr}\n",
    "   1 & 0 &  0\\\\\n",
    "   0 & 1 &  0\\\\\n",
    "   0 & 0 & -2\n",
    "  \\end{array}\\right)\\,,\\qquad\n",
    "  L' = \\left(\\begin{array}{r} 0 \\\\ 0 \\\\ 0 \\end{array}\\right)\\qquad\\text{i}\\qquad\n",
    "  f'=0\\,.\n",
    "$$"
   ]
  },
  {
   "cell_type": "markdown",
   "metadata": {},
   "source": [
    "Recodem que si les matrius i el terme independent en la referència canònica d'una quàdrica són $Q$, $L$ i $f$ i fem el canvi de coordenades\n",
    "$$\n",
    "  \\left(\\begin{array}{c} x\\\\ y\\\\ z \\end{array}\\right)\n",
    "  = B + C\\left(\\begin{array}{c} x'\\\\ y'\\\\ z' \\end{array}\\right)\\,,\n",
    "$$\n",
    "les matrius i el terme indepent de la quàdrica en la referència $\\mathcal{R}'$ són\n",
    "$$\n",
    "  \\begin{aligned}\n",
    "  Q' &= C^tQC\\\\\n",
    "  L' &= C^t(QB+L)\\\\\n",
    "  f' &= B^tQB + 2L^tB + f\\,.\n",
    "  \\end{aligned}\n",
    "$$\n",
    "Si aïllem $Q$, $L$ i $f$, tindrem que\n",
    "$$\n",
    "  \\begin{aligned}\n",
    "  Q &= CQ'C^t\\\\\n",
    "  L &= CL' - QB \\\\\n",
    "  f &= f' - B^tQB - 2L^tB\\,.\n",
    "  \\end{aligned}\n",
    "$$"
   ]
  },
  {
   "cell_type": "code",
   "execution_count": null,
   "metadata": {},
   "outputs": [],
   "source": [
    "Q1 = matrix([[1,0,0],[0,1,0],[0,0,-2]])\n",
    "L1 = vector([0,0,0])\n",
    "f1 = 0"
   ]
  },
  {
   "cell_type": "code",
   "execution_count": null,
   "metadata": {},
   "outputs": [],
   "source": [
    "C = 1/3*matrix([[2,2,-1],[2,-1,2],[-1,2,2]])\n",
    "B = vector([3,-1,2])\n",
    "show(C)"
   ]
  },
  {
   "cell_type": "code",
   "execution_count": null,
   "metadata": {},
   "outputs": [],
   "source": [
    "Q = C*Q1*C.T\n",
    "show(Q)"
   ]
  },
  {
   "cell_type": "code",
   "execution_count": null,
   "metadata": {},
   "outputs": [],
   "source": [
    "L = C*L1 - Q*B\n",
    "show(L)"
   ]
  },
  {
   "cell_type": "code",
   "execution_count": null,
   "metadata": {},
   "outputs": [],
   "source": [
    "f = f1 - (B*Q*B + 2*L*B)\n",
    "show(f)"
   ]
  },
  {
   "cell_type": "markdown",
   "metadata": {},
   "source": [
    "L'equació de la quàdrica en la referència canònica és"
   ]
  },
  {
   "cell_type": "code",
   "execution_count": null,
   "metadata": {},
   "outputs": [],
   "source": [
    "x, y, z = var('x y z')\n",
    "X = vector([x,y,z])\n",
    "eq = expand(X*Q*X + 2*L*X + f) == 0\n",
    "## show(eq)\n",
    "show(3*eq)"
   ]
  },
  {
   "cell_type": "markdown",
   "metadata": {},
   "source": [
    "és a dir,\n",
    "$$\n",
    "  2x^2-y^2-z^2+4xy+4xz-8yz-16x+2y-16z+41=0\\,.\n",
    "$$"
   ]
  },
  {
   "cell_type": "markdown",
   "metadata": {},
   "source": [
    "## Exercici 13\n",
    "Trobeu l'equació de la quàdrica formada pel parell de plans\n",
    "$$\n",
    "  x-2y+3z-1=0 \\qquad \\text{i} \\qquad y-2z+2=0 \\,.\n",
    "$$"
   ]
  },
  {
   "cell_type": "markdown",
   "metadata": {},
   "source": [
    "Es tracta d'un parell de plans secants i la seva equació és"
   ]
  },
  {
   "cell_type": "code",
   "execution_count": null,
   "metadata": {},
   "outputs": [],
   "source": [
    "x, y, z = var('x y z')\n",
    "eq = expand((x-2*y+3*z-1)*(y-2*z+2))\n",
    "show(eq == 0)"
   ]
  },
  {
   "cell_type": "markdown",
   "metadata": {},
   "source": [
    "i, si canviem el signe, ens queda l'equació\n",
    "$$\n",
    "  2y^2+6z^2-xy+2xz-7yz-2x+5y-8z+2=0\\,.\n",
    "$$"
   ]
  },
  {
   "cell_type": "markdown",
   "metadata": {},
   "source": [
    "## Exercici 14\n",
    "Determineu les equacions dels dos plans que formen la quàdrica d'equació\n",
    "$$\n",
    "  x^2+3y^2+15z^2+4xy-8xz-14yz=0 \\,.\n",
    "$$"
   ]
  },
  {
   "cell_type": "markdown",
   "metadata": {},
   "source": [
    "Només cal que descomposem en factors el terme $x^2+3y^2+15z^2+4xy-8xz-14yz$:"
   ]
  },
  {
   "cell_type": "code",
   "execution_count": null,
   "metadata": {},
   "outputs": [],
   "source": [
    "x, y, z = var('x y z')\n",
    "show(factor(x^2+3*y^2+15*z^2+4*x*y-8*x*z-14*y*z))"
   ]
  },
  {
   "cell_type": "markdown",
   "metadata": {},
   "source": [
    "Les equacions dels dos plans són $x+3y-5z=0$ i $x+y-3z=0$ i es tracta de dos plans secants."
   ]
  },
  {
   "cell_type": "markdown",
   "metadata": {},
   "source": [
    "## Exercici 15\n",
    "Calculeu l'equació de l'esfera de centre $(1,-2,1)$ i radi $3$."
   ]
  },
  {
   "cell_type": "markdown",
   "metadata": {},
   "source": [
    "Recordem que l'equació de l'esfera de centre $(x_0,y_0,z_0)$ i radi $r$ és\n",
    "$$\n",
    "  (x-x_0)^2 + (y-y_0)^2 + (z-z_0)^2= r^2\\,.\n",
    "$$"
   ]
  },
  {
   "cell_type": "code",
   "execution_count": null,
   "metadata": {},
   "outputs": [],
   "source": [
    "x, y, z = var('x y z')\n",
    "eq = expand((x-1)^2+(y+2)^2+(z-1)^2 - 3^2) == 0\n",
    "show(eq)"
   ]
  },
  {
   "cell_type": "markdown",
   "metadata": {},
   "source": [
    "L'equació de l'esfera és $x^2 + y^2 + z^2 - 2x + 4y - 2z - 3 = 0$."
   ]
  },
  {
   "cell_type": "markdown",
   "metadata": {},
   "source": [
    "## Exercici 16\n",
    "Determineu el centre i el radi de l'esfera d'equació\n",
    "$$\n",
    "  x^2+y^2+z^2-4x+2y-6z+10=0 \\,.\n",
    "$$"
   ]
  },
  {
   "cell_type": "markdown",
   "metadata": {},
   "source": [
    "Per determinar el centre i el radi, hem de completar quadrats:"
   ]
  },
  {
   "cell_type": "code",
   "execution_count": null,
   "metadata": {},
   "outputs": [],
   "source": [
    "x, y, z = var('x y z')\n",
    "x1, y1, z1 = var('x1 y1 z1')\n",
    "eq = x^2 + y^2 + z^2 - 4*x + 2*y - 6*z + 10\n",
    "show(completa_quadrats(eq,[x,y,z],[x1,y1,z1]))"
   ]
  },
  {
   "cell_type": "markdown",
   "metadata": {},
   "source": [
    "És a dir, l'equació de l'esfera es pot escriure com a\n",
    "$$\n",
    "  (x-2)^2 + (y+1)^2 + (z-3)^3 = 4\\,.\n",
    "$$"
   ]
  },
  {
   "cell_type": "markdown",
   "metadata": {},
   "source": [
    "Es tracta de la circumferència de centre $C=(2,-1,3)$ i radi $r=2$."
   ]
  },
  {
   "cell_type": "markdown",
   "metadata": {
    "tags": []
   },
   "source": [
    "## Exercici 17\n",
    "Classifiqueu la quàdrica d'equació\n",
    "$$\n",
    "  4x^2+4y^2+z^2+2xy-4xz+4yz+2x-2y+4z-6=0 \\,.\n",
    "$$"
   ]
  },
  {
   "cell_type": "markdown",
   "metadata": {
    "tags": []
   },
   "source": [
    "Les matrius de la part quadràtica i lineal de la cònica i el terme independent són:\n",
    "$$\n",
    "  Q=\\left(\\begin{array}{rrr}\n",
    "    4 & 1 & -2 \\\\\n",
    "    1 & 4 &  2 \\\\\n",
    "   -2 & 2 &  1\n",
    "  \\end{array}\\right)\\,,\\qquad\n",
    "  L = \\left(\\begin{array}{r} 1 \\\\ -1 \\\\ 2 \\end{array}\\right)\\qquad\\text{i}\\qquad\n",
    "  f=-6\\,.\n",
    "$$"
   ]
  },
  {
   "cell_type": "code",
   "execution_count": null,
   "metadata": {},
   "outputs": [],
   "source": [
    "Q = matrix([[4,1,-2],[1,4,2],[-2,2,1]])\n",
    "L = vector([1,-1,2])\n",
    "f = -6"
   ]
  },
  {
   "cell_type": "markdown",
   "metadata": {},
   "source": [
    "Centre de la quàdrica: solució de $QX=-L$."
   ]
  },
  {
   "cell_type": "code",
   "execution_count": null,
   "metadata": {},
   "outputs": [],
   "source": [
    "C = centre_conica_quadrica(Q,L)\n",
    "show(C)"
   ]
  },
  {
   "cell_type": "markdown",
   "metadata": {},
   "source": [
    "Valors i vectors propis de la matriu $Q$:"
   ]
  },
  {
   "cell_type": "code",
   "execution_count": null,
   "metadata": {},
   "outputs": [],
   "source": [
    "l, v = diagonalitza_matriu_simetrica(Q)\n",
    "show(l)"
   ]
  },
  {
   "cell_type": "code",
   "execution_count": null,
   "metadata": {},
   "outputs": [],
   "source": [
    "show(v)"
   ]
  },
  {
   "cell_type": "markdown",
   "metadata": {},
   "source": [
    "Com que és una quàdrica amb centre, la seva equació reduïda és"
   ]
  },
  {
   "cell_type": "code",
   "execution_count": null,
   "metadata": {},
   "outputs": [],
   "source": [
    "eq = equacio_reduida_conica_quadrica_amb_centre(Q,L,f,l,C)\n",
    "show(eq)"
   ]
  },
  {
   "cell_type": "markdown",
   "metadata": {},
   "source": [
    "Per tant, la quàdrica és un **con de revolució**, la seva referència principal és\n",
    "$$\n",
    "   \\mathcal{R}'=\\left\\{(1,-1,2);\\,\\frac{1}{\\sqrt{5}}(2,0,-1),\\frac{1}{\\sqrt{30}}(1,5,2),\\frac{1}{\\sqrt{6}}(1,-1,2)\\right\\}\n",
    "$$\n",
    "i la seva equació reduïda\n",
    "$$\n",
    "  x'^2+y'^2-\\frac{z'^2}{5}=0\\,.\n",
    "$$"
   ]
  },
  {
   "cell_type": "markdown",
   "metadata": {
    "tags": []
   },
   "source": [
    "## Exercici 18\n",
    "Classifiqueu la quàdrica d'equació\n",
    "$$\n",
    "  23 x^2 + 23 y^2 + 8 z^2 - 34 x y + 4 x z + 4 y z + 84 x - 76 y - 24 z + 68 = 0\\,.\n",
    "$$"
   ]
  },
  {
   "cell_type": "markdown",
   "metadata": {},
   "source": [
    "Les matrius de la part quadràtica i lineal de la cònica i el terme independent són:\n",
    "$$\n",
    "  Q=\\left(\\begin{array}{rrr}\n",
    "    23 & -17 & 2 \\\\\n",
    "   -17 &  23 & 2 \\\\\n",
    "     2 &   2 & 8\n",
    "  \\end{array}\\right)\\,,\\qquad\n",
    "  L = \\left(\\begin{array}{r} 42 \\\\ -38 \\\\ -12 \\end{array}\\right)\\qquad\\text{i}\\qquad\n",
    "  f=68\\,.\n",
    "$$"
   ]
  },
  {
   "cell_type": "code",
   "execution_count": null,
   "metadata": {},
   "outputs": [],
   "source": [
    "Q = matrix([[23,-17,2],[-17,23,2],[2,2,8]])\n",
    "L = vector([42,-38,-12])\n",
    "f = 68"
   ]
  },
  {
   "cell_type": "markdown",
   "metadata": {},
   "source": [
    "Centre de la quàdrica:"
   ]
  },
  {
   "cell_type": "code",
   "execution_count": null,
   "metadata": {},
   "outputs": [],
   "source": [
    "B = centre_conica_quadrica(Q,L)\n",
    "show(B)"
   ]
  },
  {
   "cell_type": "markdown",
   "metadata": {},
   "source": [
    "Valors i vectors propis de la matriu $Q$:"
   ]
  },
  {
   "cell_type": "code",
   "execution_count": null,
   "metadata": {},
   "outputs": [],
   "source": [
    "l, v = diagonalitza_matriu_simetrica(Q)\n",
    "show(l)"
   ]
  },
  {
   "cell_type": "code",
   "execution_count": null,
   "metadata": {},
   "outputs": [],
   "source": [
    "show(v)"
   ]
  },
  {
   "cell_type": "markdown",
   "metadata": {},
   "source": [
    "Equació reduïda:"
   ]
  },
  {
   "cell_type": "code",
   "execution_count": null,
   "metadata": {},
   "outputs": [],
   "source": [
    "eq = equacio_reduida_conica_quadrica_amb_centre(Q,L,f,l,B)\n",
    "show(eq)"
   ]
  },
  {
   "cell_type": "markdown",
   "metadata": {},
   "source": [
    "La quàdrica és un **el·lipsoide real**, la seva referència principal és\n",
    "$$\n",
    "  \\mathcal{R}'=\\left\\{(-2,0,2);\\,\\frac{1}{\\sqrt{3}}(1,1,-1),\\frac{1}{\\sqrt{6}}(1,1,2),\\frac{1}{\\sqrt{2}}(1,-1,0)\\right\\}\n",
    "$$\n",
    "i l'equació reduïda\n",
    "$$\n",
    "  \\frac{x'^2}{10}+\\frac{y'^2}{4}+z'^2=1\\,.\n",
    "$$"
   ]
  },
  {
   "cell_type": "markdown",
   "metadata": {},
   "source": [
    "## Exercici 19\n",
    "Classifiqueu la quàdrica d'equació\n",
    "$$\n",
    "  37 x^2 + 7 y^2 + 7 z^2 + 34 x y + 34 x z + 26 y z - 154 x - 86 y - 38 z + 13 = 0\\,.\n",
    "$$"
   ]
  },
  {
   "cell_type": "markdown",
   "metadata": {},
   "source": [
    "Les matrius de la part quadràtica i lineal de la cònica i el terme independent són:\n",
    "$$\n",
    "  Q=\\left(\\begin{array}{rrr}\n",
    "    37 & 17 & 17 \\\\\n",
    "    17 &  7 & 13 \\\\\n",
    "    17 & 13 &  7\n",
    "  \\end{array}\\right)\\,,\\qquad\n",
    "  L = \\left(\\begin{array}{r} -77 \\\\ -43 \\\\ -19 \\end{array}\\right)\\qquad\\text{i}\\qquad\n",
    "  f=13\\,.\n",
    "$$"
   ]
  },
  {
   "cell_type": "code",
   "execution_count": null,
   "metadata": {},
   "outputs": [],
   "source": [
    "Q = matrix([[37,17,17],[17,7,13],[17,13,7]])\n",
    "L = vector([-77,-43,-19])\n",
    "f = 13"
   ]
  },
  {
   "cell_type": "markdown",
   "metadata": {},
   "source": [
    "Centre de la quàdrica:"
   ]
  },
  {
   "cell_type": "code",
   "execution_count": null,
   "metadata": {},
   "outputs": [],
   "source": [
    "C = centre_conica_quadrica(Q,L)\n",
    "show(C)"
   ]
  },
  {
   "cell_type": "markdown",
   "metadata": {},
   "source": [
    "Valors i vectors propis de $Q$:"
   ]
  },
  {
   "cell_type": "code",
   "execution_count": null,
   "metadata": {},
   "outputs": [],
   "source": [
    "l, v = diagonalitza_matriu_simetrica(Q)\n",
    "show(l)"
   ]
  },
  {
   "cell_type": "code",
   "execution_count": null,
   "metadata": {},
   "outputs": [],
   "source": [
    "show(v)"
   ]
  },
  {
   "cell_type": "markdown",
   "metadata": {},
   "source": [
    "Equació reduïda amb aquests valors i vectors propis:"
   ]
  },
  {
   "cell_type": "code",
   "execution_count": null,
   "metadata": {},
   "outputs": [],
   "source": [
    "eq = equacio_reduida_conica_quadrica_amb_centre(Q,L,f,l,C)\n",
    "show(eq)"
   ]
  },
  {
   "cell_type": "code",
   "execution_count": null,
   "metadata": {},
   "outputs": [],
   "source": [
    "eq = equacio_reduida_conica_quadrica_amb_centre(Q,L,f,l,C)\n",
    "show(eq)"
   ]
  },
  {
   "cell_type": "markdown",
   "metadata": {},
   "source": [
    "La quàdrica és un **hiperboloide d'una fulla**, la seva referència principal amb orientació positiva és\n",
    "$$\n",
    "  \\mathcal{R}'=\\left\\{(3,-3,1);\\,\\frac{1}{\\sqrt{3}}(1,-1,-1),\\frac{1}{\\sqrt{6}}(2,1,1),\\frac{1}{\\sqrt{2}}(0,-1,1)\\right\\}\n",
    "$$\n",
    "i l'equació reduïda\n",
    "$$\n",
    "  \\frac{x'^2}{36}+\\frac{y'^2}{2}-\\frac{z'^2}{18}=1\\,.\n",
    "$$"
   ]
  },
  {
   "cell_type": "markdown",
   "metadata": {},
   "source": [
    "## Exercici 20\n",
    "Classifiqueu la quàdrica d'equació\n",
    "$$\n",
    "  -11x^2 - 11y^2 + 7z^2 + 32xy - 4xz - 4yz - 68x + 40y + 22z + 79 = 0\\,.\n",
    "$$"
   ]
  },
  {
   "cell_type": "markdown",
   "metadata": {},
   "source": [
    "Les matrius de la part quadràtica i lineal de la cònica i el terme independent són:\n",
    "$$\n",
    "  Q=\\left(\\begin{array}{rrr}\n",
    "   -11 &  16 &  -2 \\\\\n",
    "    16 & -11 &  -2 \\\\\n",
    "    -2 &  -2 &   7\n",
    "  \\end{array}\\right)\\,,\\qquad\n",
    "  L = \\left(\\begin{array}{r} -34 \\\\ 20 \\\\ 11 \\end{array}\\right)\\qquad\\text{i}\\qquad\n",
    "  f=79\\,.\n",
    "$$"
   ]
  },
  {
   "cell_type": "code",
   "execution_count": null,
   "metadata": {},
   "outputs": [],
   "source": [
    "Q = matrix([[-11,16,-2],[16,-11,-2],[-2,-2,7]])\n",
    "L = vector([-34,20,11])\n",
    "f = 79"
   ]
  },
  {
   "cell_type": "markdown",
   "metadata": {},
   "source": [
    "Centre de la quàdrica:"
   ]
  },
  {
   "cell_type": "code",
   "execution_count": null,
   "metadata": {},
   "outputs": [],
   "source": [
    "C = centre_conica_quadrica(Q,L)\n",
    "show(C)"
   ]
  },
  {
   "cell_type": "markdown",
   "metadata": {},
   "source": [
    "Valors i vectors propis de la matriu $Q$:"
   ]
  },
  {
   "cell_type": "code",
   "execution_count": null,
   "metadata": {},
   "outputs": [],
   "source": [
    "l, v = diagonalitza_matriu_simetrica(Q)\n",
    "show(l)"
   ]
  },
  {
   "cell_type": "code",
   "execution_count": null,
   "metadata": {},
   "outputs": [],
   "source": [
    "show(v)"
   ]
  },
  {
   "cell_type": "code",
   "execution_count": null,
   "metadata": {},
   "outputs": [],
   "source": [
    "eq = equacio_reduida_conica_quadrica_amb_centre(Q,L,f,l,C)\n",
    "show(-eq)"
   ]
  },
  {
   "cell_type": "markdown",
   "metadata": {},
   "source": [
    "Es tracta d'un **hiperboloide de dues fulles**. La referència principal és\n",
    "$$\n",
    "  \\mathcal{R}'=\\left\\{(0,2,-1);\\,\\frac{1}{\\sqrt{3}}(1,1,1),\\frac{1}{\\sqrt{6}}(1,1,-2),\\frac{1}{\\sqrt{2}}(-1,1,0)\\right\\}\\,,\n",
    "$$\n",
    "i l'equació reduïda\n",
    "$$\n",
    "  \\frac{x'^2}{36}+\\frac{y'^2}{12}-\\frac{z'^2}{4}=-1\\,.\n",
    "$$"
   ]
  },
  {
   "cell_type": "markdown",
   "metadata": {},
   "source": [
    "## Exercici 21\n",
    "Classifiqueu la quàdrica d'equació\n",
    "$$\n",
    "  11 x^2 - 5 y^2 + z^2 - 26 x y - 38 x z - 6 y z - 112 x + 28 z -14  = 0\\,.\n",
    "$$"
   ]
  },
  {
   "cell_type": "markdown",
   "metadata": {},
   "source": [
    "Les matrius de la part quadràtica i lineal de la cònica i el terme independent són:\n",
    "$$\n",
    "  Q=\\left(\\begin{array}{rrr}\n",
    "    11 & -13 & -19 \\\\\n",
    "   -13 &  -5 &  -3 \\\\\n",
    "   -19 &  -3 &   1\n",
    "  \\end{array}\\right)\\,,\\qquad\n",
    "  L = \\left(\\begin{array}{r} -56 \\\\ 0 \\\\ 14 \\end{array}\\right)\\qquad\\text{i}\\qquad\n",
    "  f=-14\\,.\n",
    "$$"
   ]
  },
  {
   "cell_type": "code",
   "execution_count": null,
   "metadata": {
    "tags": []
   },
   "outputs": [],
   "source": [
    "Q = matrix([[11,-13,-19],[-13,-5,-3],[-19,-3,1]])\n",
    "L = vector([-56,0,14])\n",
    "f = -14"
   ]
  },
  {
   "cell_type": "markdown",
   "metadata": {},
   "source": [
    "Centre de la quàdrica:"
   ]
  },
  {
   "cell_type": "code",
   "execution_count": null,
   "metadata": {},
   "outputs": [],
   "source": [
    "C = centre_conica_quadrica(Q,L)\n",
    "show(C)"
   ]
  },
  {
   "cell_type": "markdown",
   "metadata": {},
   "source": [
    "Valors i vectors propis de la matriu $Q$:"
   ]
  },
  {
   "cell_type": "code",
   "execution_count": null,
   "metadata": {},
   "outputs": [],
   "source": [
    "l, v = diagonalitza_matriu_simetrica(Q)\n",
    "show(l)"
   ]
  },
  {
   "cell_type": "code",
   "execution_count": null,
   "metadata": {},
   "outputs": [],
   "source": [
    "show(v)"
   ]
  },
  {
   "cell_type": "markdown",
   "metadata": {},
   "source": [
    "**Observació**: com que hem trobat un centre i la matriu $Q$ té el valor propi $\\lambda=0$, sabem que el sistema d'equacions $QX=-L$ és compatible indeterminat.\n",
    "Trobem la solució general:"
   ]
  },
  {
   "cell_type": "code",
   "execution_count": null,
   "metadata": {},
   "outputs": [],
   "source": [
    "x, y, z = var('x y z')\n",
    "X = vector([x,y,z])\n",
    "QX = Q * X\n",
    "eqs = [QX[i] == -L[i] for i in range(3)]\n",
    "show(eqs)"
   ]
  },
  {
   "cell_type": "code",
   "execution_count": null,
   "metadata": {},
   "outputs": [],
   "source": [
    "sol = solve(eqs,[y,z])\n",
    "show(sol)"
   ]
  },
  {
   "cell_type": "markdown",
   "metadata": {},
   "source": [
    "Aleshores, el punt $C=(0,3,-5)$ també és un centre de la quàdrica."
   ]
  },
  {
   "cell_type": "markdown",
   "metadata": {},
   "source": [
    "Equació reduïda"
   ]
  },
  {
   "cell_type": "code",
   "execution_count": null,
   "metadata": {},
   "outputs": [],
   "source": [
    "eq = equacio_reduida_conica_quadrica_amb_centre(Q,L,f,l,C)\n",
    "show(eq)"
   ]
  },
  {
   "cell_type": "markdown",
   "metadata": {},
   "source": [
    "Així doncs, la referència principal de la quàdrica és\n",
    "$$\n",
    "  \\mathcal{R}'=\\left\\{(0,3,-5);\\,\\frac{1}{\\sqrt{14}}(3,-1,-2),\\frac{1}{\\sqrt{3}}(1,1,1),\\frac{1}{\\sqrt{42}}(1,-5,4)\\right\\}\\,,\n",
    "$$\n",
    "l'equació reduïda\n",
    "$$\n",
    "  \\frac{x'^2}{3}-\\frac{y'^2}{4}=1\n",
    "$$\n",
    "i es tracta d'un **cilindre hiperbòlic**."
   ]
  },
  {
   "cell_type": "markdown",
   "metadata": {},
   "source": [
    "## Exercici 22\n",
    "Classifiqueu la quàdrica d'equació\n",
    "$$\n",
    "  5 x^{2} + 2 y^{2} + 2 z^{2} - 2 x y - 2 x z + 4 y z + 26 x + 2 y + 2 z + 11 = 0\\,.\n",
    "$$"
   ]
  },
  {
   "cell_type": "markdown",
   "metadata": {},
   "source": [
    "Les matrius de la part quadràtica i lineal de la cònica i el terme independent són:\n",
    "$$\n",
    "  Q=\\left(\\begin{array}{rrr}\n",
    "    5 & -1 & -1 \\\\\n",
    "   -1 &  2 &  2 \\\\\n",
    "   -1 &  2 &  2\n",
    "  \\end{array}\\right)\\,,\\qquad\n",
    "  L = \\left(\\begin{array}{r} 13 \\\\ 1 \\\\ 1 \\end{array}\\right)\\qquad\\text{i}\\qquad\n",
    "  f=11\\,.\n",
    "$$"
   ]
  },
  {
   "cell_type": "code",
   "execution_count": null,
   "metadata": {},
   "outputs": [],
   "source": [
    "Q = matrix([[5,-1,-1],[-1,2,2],[-1,2,2]])\n",
    "L = vector([13,1,1])\n",
    "f = 11"
   ]
  },
  {
   "cell_type": "markdown",
   "metadata": {},
   "source": [
    "Centre de la quàdrica:"
   ]
  },
  {
   "cell_type": "code",
   "execution_count": null,
   "metadata": {},
   "outputs": [],
   "source": [
    "C = centre_conica_quadrica(Q,L)\n",
    "show(C)"
   ]
  },
  {
   "cell_type": "markdown",
   "metadata": {},
   "source": [
    "Valors i vectors propis de la matriu $Q$:"
   ]
  },
  {
   "cell_type": "code",
   "execution_count": null,
   "metadata": {},
   "outputs": [],
   "source": [
    "l, v = diagonalitza_matriu_simetrica(Q)\n",
    "show(l)"
   ]
  },
  {
   "cell_type": "code",
   "execution_count": null,
   "metadata": {},
   "outputs": [],
   "source": [
    "show(v)"
   ]
  },
  {
   "cell_type": "markdown",
   "metadata": {},
   "source": [
    "L'equacio reduïda de la quàdrica és"
   ]
  },
  {
   "cell_type": "code",
   "execution_count": null,
   "metadata": {},
   "outputs": [],
   "source": [
    "eq = equacio_reduida_conica_quadrica_amb_centre(Q,L,f,l,C)\n",
    "show(eq)"
   ]
  },
  {
   "cell_type": "markdown",
   "metadata": {},
   "source": [
    "Es tracta d'un **cilindre el·líptic**. La referència principal és\n",
    "$$\n",
    "  \\mathcal{R}'=\\left\\{(-3,-2,0);\\,\\frac{1}{\\sqrt{3}}(1,1,1),\\frac{1}{\\sqrt{6}}(2,-1,-1),\\frac{1}{\\sqrt{2}}(0,1,-1)\\right\\}\\,,\n",
    "$$\n",
    "i l'equació reduïda\n",
    "$$\n",
    "  \\frac{x'^2}{10}+\\frac{y'^2}{5}=1\\,.\n",
    "$$"
   ]
  },
  {
   "cell_type": "markdown",
   "metadata": {},
   "source": [
    "## Exercici 23\n",
    "Classifiqueu la quàdrica d'equació\n",
    "$$\n",
    "  9x^2+2y^2-4z^2-12xy-12xz-2x+24y+14z-5=0 \\,.\n",
    "$$"
   ]
  },
  {
   "cell_type": "markdown",
   "metadata": {},
   "source": [
    "Les matrius de la part quadràtica i lineal de la cònica i el terme independent són:\n",
    "$$\n",
    "  Q=\\left(\\begin{array}{rrr}\n",
    "    9 & -6 & -6 \\\\\n",
    "   -6 &  2 &  0 \\\\\n",
    "   -6 &  0 & -4\n",
    "  \\end{array}\\right)\\,,\\qquad\n",
    "  L = \\left(\\begin{array}{r} -1 \\\\ 12 \\\\ 7 \\end{array}\\right)\\qquad\\text{i}\\qquad\n",
    "  f=-5\\,.\n",
    "$$"
   ]
  },
  {
   "cell_type": "code",
   "execution_count": null,
   "metadata": {},
   "outputs": [],
   "source": [
    "Q = matrix([[9,-6,-6],[-6,2,0],[-6,0,-4]])\n",
    "L = vector([-1,12,7])\n",
    "f = -5"
   ]
  },
  {
   "cell_type": "markdown",
   "metadata": {},
   "source": [
    "Centre de la quàdrica:"
   ]
  },
  {
   "cell_type": "code",
   "execution_count": null,
   "metadata": {},
   "outputs": [],
   "source": [
    "B = centre_conica_quadrica(Q,L)\n",
    "show(B)"
   ]
  },
  {
   "cell_type": "markdown",
   "metadata": {},
   "source": [
    "Es tracta d'una quàdrica sense centre. Com que la matriu $Q$ té rang 2, és un paraboloide el·líptic o hiperbòlic."
   ]
  },
  {
   "cell_type": "markdown",
   "metadata": {},
   "source": [
    "Valors i vectors propis de la matriu $Q$:"
   ]
  },
  {
   "cell_type": "code",
   "execution_count": null,
   "metadata": {},
   "outputs": [],
   "source": [
    "l, v = diagonalitza_matriu_simetrica(Q)\n",
    "show(l)"
   ]
  },
  {
   "cell_type": "code",
   "execution_count": null,
   "metadata": {},
   "outputs": [],
   "source": [
    "show(v)"
   ]
  },
  {
   "cell_type": "markdown",
   "metadata": {},
   "source": [
    "Com que $Q$ té un valor propi positiu i un de negatiu, la quàdrica és un **paraboloide hiperbòlic**."
   ]
  },
  {
   "cell_type": "markdown",
   "metadata": {},
   "source": [
    "Càlcul del vèrtex del paraboloide: "
   ]
  },
  {
   "cell_type": "code",
   "execution_count": null,
   "metadata": {},
   "outputs": [],
   "source": [
    "V = vertex_paraboloide_cilindre_parabolic(Q,L,f,l,v)\n",
    "show(V)"
   ]
  },
  {
   "cell_type": "markdown",
   "metadata": {},
   "source": [
    "Per tant, la referència principal (hem canviat de signe el primer vector propi per tal de tenir una base amb orientació positiva) del paraboloide hiperbòlic és\n",
    "$$\n",
    "  \\mathcal{R}'=\\left\\{(1,0,1);\\,\\frac{1}{7}(6,-3,-2),\\frac{1}{7}(3,2,6),\\frac{1}{7}(-2,-6,3)\\right\\}\\,.\n",
    "$$"
   ]
  },
  {
   "cell_type": "markdown",
   "metadata": {},
   "source": [
    "i la seva equació reduïda és"
   ]
  },
  {
   "cell_type": "code",
   "execution_count": null,
   "metadata": {},
   "outputs": [],
   "source": [
    "show(equacio_reduida_quadrica_sense_centre(L,l,v))"
   ]
  },
  {
   "cell_type": "markdown",
   "metadata": {},
   "source": [
    "és a dir,\n",
    "$$\n",
    "  z'=x'^2-\\frac{y'^2}{2}\\,.\n",
    "$$"
   ]
  },
  {
   "cell_type": "markdown",
   "metadata": {},
   "source": [
    "## Exercici 24\n",
    "Classifiqueu la quàdrica d'equació\n",
    "$$\n",
    "  8 x^2 + 29 y^2 + 29 z^2 - 24 x y + 24 x z - 14 y z - 60 x - 86 y + 218 z - 91 = 0\\,.\n",
    "$$"
   ]
  },
  {
   "cell_type": "markdown",
   "metadata": {},
   "source": [
    "Les matrius de la part quadràtica i lineal de la cònica i el terme independent són:\n",
    "$$\n",
    "  Q=\\left(\\begin{array}{rrr}\n",
    "     8 & -12 & 12 \\\\\n",
    "   -12 &  29 & -7 \\\\\n",
    "    12 &  -7 & 29\n",
    "  \\end{array}\\right)\\,,\\qquad\n",
    "  L = \\left(\\begin{array}{r} -30 \\\\ -43 \\\\ 109 \\end{array}\\right)\\qquad\\text{i}\\qquad\n",
    "  f=-91\\,.\n",
    "$$"
   ]
  },
  {
   "cell_type": "code",
   "execution_count": null,
   "metadata": {},
   "outputs": [],
   "source": [
    "Q = matrix([[8,-12,12],[-12,29,-7],[12,-7,29]])\n",
    "L = vector([-30,-43,109])\n",
    "f = -91"
   ]
  },
  {
   "cell_type": "markdown",
   "metadata": {},
   "source": [
    "Centre de la quàdrica:"
   ]
  },
  {
   "cell_type": "code",
   "execution_count": null,
   "metadata": {},
   "outputs": [],
   "source": [
    "B = centre_conica_quadrica(Q,L)\n",
    "show(B)"
   ]
  },
  {
   "cell_type": "markdown",
   "metadata": {},
   "source": [
    "Es tracta d'una quàdrica sense centre. Com que la matriu $Q$ té rang 2, és un paraboloide el·líptic o hiperbòlic."
   ]
  },
  {
   "cell_type": "markdown",
   "metadata": {},
   "source": [
    "Valors i vectors propis de la matriu $Q$:"
   ]
  },
  {
   "cell_type": "code",
   "execution_count": null,
   "metadata": {},
   "outputs": [],
   "source": [
    "l, v = diagonalitza_matriu_simetrica(Q)\n",
    "show(l)"
   ]
  },
  {
   "cell_type": "markdown",
   "metadata": {},
   "source": [
    "Com que els dos valors propis no nuls de $Q$ són positius, la quàdrica és un paraboloide el·líptic."
   ]
  },
  {
   "cell_type": "code",
   "execution_count": null,
   "metadata": {},
   "outputs": [],
   "source": [
    "show(v)"
   ]
  },
  {
   "cell_type": "markdown",
   "metadata": {},
   "source": [
    "Vèrtex del paraboloide:"
   ]
  },
  {
   "cell_type": "code",
   "execution_count": null,
   "metadata": {},
   "outputs": [],
   "source": [
    "V = vertex_paraboloide_cilindre_parabolic(Q,L,f,l,v)\n",
    "show(V)"
   ]
  },
  {
   "cell_type": "markdown",
   "metadata": {},
   "source": [
    "Equació reduïda:"
   ]
  },
  {
   "cell_type": "code",
   "execution_count": null,
   "metadata": {},
   "outputs": [],
   "source": [
    "eq = equacio_reduida_quadrica_sense_centre(L,l,v)\n",
    "show(eq)"
   ]
  },
  {
   "cell_type": "markdown",
   "metadata": {},
   "source": [
    "La quàdrica és un **paraboloide el·líptic**, la seva referència principal amb orientació positiva és\n",
    "$$\n",
    "  \\mathcal{R}'=\\left\\{(-3,-1,-2);\\,\\frac{1}{\\sqrt{3}}(0,1,1),\\frac{1}{\\sqrt{22}}(2,-3,3),\\frac{1}{\\sqrt{11}}(3,1,-1)\\right\\}\n",
    "$$\n",
    "i l'equació reduïda\n",
    "$$\n",
    "  z'=\\frac{x'^2}{2\\sqrt{11}}+\\frac{y'^2}{\\sqrt{11}}\\,.\n",
    "$$"
   ]
  },
  {
   "cell_type": "markdown",
   "metadata": {
    "tags": []
   },
   "source": [
    "## Exercici 25\n",
    "Classifiqueu la quàdrica d'equació\n",
    "$$\n",
    "  x^2+y^2+4z^2+2xy+4xz+4yz-48x-24y+84=0 \\,.\n",
    "$$"
   ]
  },
  {
   "cell_type": "markdown",
   "metadata": {},
   "source": [
    "Les matrius de la part quadràtica i lineal de la cònica i el terme independent són:\n",
    "$$\n",
    "  Q=\\left(\\begin{array}{rrr}\n",
    "    1 & 1 & 2 \\\\\n",
    "    1 & 1 & 2 \\\\\n",
    "    2 & 2 & 4\n",
    "  \\end{array}\\right)\\,,\\qquad\n",
    "  L = \\left(\\begin{array}{r} -24 \\\\ -12 \\\\ 0 \\end{array}\\right)\\qquad\\text{i}\\qquad\n",
    "  f=84\\,.\n",
    "$$"
   ]
  },
  {
   "cell_type": "code",
   "execution_count": null,
   "metadata": {},
   "outputs": [],
   "source": [
    "Q = matrix([[1,1,2],[1,1,2],[2,2,4]])\n",
    "L = vector([-24,-12,0])\n",
    "f = 84"
   ]
  },
  {
   "cell_type": "markdown",
   "metadata": {},
   "source": [
    "Centre de la quàdrica:"
   ]
  },
  {
   "cell_type": "code",
   "execution_count": null,
   "metadata": {},
   "outputs": [],
   "source": [
    "B = centre_conica_quadrica(Q,L)\n",
    "show(B)"
   ]
  },
  {
   "cell_type": "markdown",
   "metadata": {},
   "source": [
    "Com que la quàdrica no té centre i la matriu $Q$ té rang 1, podem assegurar que es tracta d'un **cilindre parabòlic**."
   ]
  },
  {
   "cell_type": "markdown",
   "metadata": {},
   "source": [
    "Valors i vectors propis de la matriu $Q$:"
   ]
  },
  {
   "cell_type": "code",
   "execution_count": null,
   "metadata": {},
   "outputs": [],
   "source": [
    "l, v = diagonalitza_matriu_simetrica(Q)\n",
    "show(l)"
   ]
  },
  {
   "cell_type": "code",
   "execution_count": null,
   "metadata": {},
   "outputs": [],
   "source": [
    "show(v)"
   ]
  },
  {
   "cell_type": "markdown",
   "metadata": {},
   "source": [
    "Aquests no són necessàriament els vectors que hem d'escollir per a la referència principal. La referència principal estarà formada pels vectors"
   ]
  },
  {
   "cell_type": "code",
   "execution_count": null,
   "metadata": {},
   "outputs": [],
   "source": [
    "v1 = simplifica_vector(v[0])\n",
    "v2 = simplifica_vector(v1.cross_product(L))\n",
    "v3 = simplifica_vector(v1.cross_product(v2))\n",
    "v = [v1,v2,v3]\n",
    "show(v)"
   ]
  },
  {
   "cell_type": "code",
   "execution_count": null,
   "metadata": {},
   "outputs": [],
   "source": [
    "V = vertex_paraboloide_cilindre_parabolic(Q,L,f,l,v)\n",
    "show(V)"
   ]
  },
  {
   "cell_type": "markdown",
   "metadata": {},
   "source": [
    "D'entre tots els punts de la recta de vèrtexs del cilindre parabòlic, n'escollim un com a origen de la referència principal. Si donem al paràmetre el valor $r_1=1$, tindrem el punt $V=(1,3,1)$."
   ]
  },
  {
   "cell_type": "markdown",
   "metadata": {},
   "source": [
    "Aleshores, un punt de la recta de vèrtexs del cilindre parabòlic és el punt $V=(1,3,1)$, la referència principal (recordem que no és única) és\n",
    "$$\n",
    "  \\mathcal{R}'=\\left\\{(1,3,1);\\,\\frac{1}{\\sqrt{6}}(1,1,2),\\frac{1}{\\sqrt{21}}(2,-4,1),\\frac{1}{\\sqrt{14}}(3,1,-2)\\right\\}\n",
    "$$"
   ]
  },
  {
   "cell_type": "markdown",
   "metadata": {},
   "source": [
    "i l'equació reduïda"
   ]
  },
  {
   "cell_type": "code",
   "execution_count": null,
   "metadata": {},
   "outputs": [],
   "source": [
    "eq = equacio_reduida_quadrica_sense_centre(L,l,v)\n",
    "show(eq)"
   ]
  },
  {
   "cell_type": "markdown",
   "metadata": {},
   "source": [
    "és a dir,\n",
    "$$\n",
    "  z'=\\frac{x'^2}{2\\sqrt{14}}\\,.\n",
    "$$"
   ]
  }
 ],
 "metadata": {
  "kernelspec": {
   "display_name": "SageMath 10.1",
   "language": "sage",
   "name": "sagemath"
  },
  "language_info": {
   "codemirror_mode": {
    "name": "ipython",
    "version": 3
   },
   "file_extension": ".py",
   "mimetype": "text/x-python",
   "name": "python",
   "nbconvert_exporter": "python",
   "pygments_lexer": "ipython3",
   "version": "3.11.6"
  }
 },
 "nbformat": 4,
 "nbformat_minor": 4
}
