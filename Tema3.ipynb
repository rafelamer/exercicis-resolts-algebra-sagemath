{
 "cells": [
  {
   "cell_type": "markdown",
   "metadata": {},
   "source": [
    "# Tema 3"
   ]
  },
  {
   "cell_type": "code",
   "execution_count": 15,
   "metadata": {},
   "outputs": [],
   "source": [
    "%load_ext asymagic"
   ]
  },
  {
   "cell_type": "markdown",
   "metadata": {},
   "source": [
    "## Exercici 1\n",
    "Calculeu la suma dels vectors $(1,-3,2)$ i $(0,1,3)$."
   ]
  },
  {
   "cell_type": "code",
   "execution_count": null,
   "metadata": {},
   "outputs": [],
   "source": [
    "u = vector([1,-3,2])\n",
    "v = vector([0,1,3])\n",
    "show(u+v)"
   ]
  },
  {
   "cell_type": "markdown",
   "metadata": {},
   "source": [
    "## Exercici 2\n",
    "Calculeu el producte de l'escalar $-3$ i el vector $(-1,2,3)$."
   ]
  },
  {
   "cell_type": "code",
   "execution_count": null,
   "metadata": {},
   "outputs": [],
   "source": [
    "u = vector([-1,2,3])\n",
    "show(-3*u)"
   ]
  },
  {
   "cell_type": "markdown",
   "metadata": {},
   "source": [
    "## Exercici 3\n",
    "Calculeu la combinació lineal dels vectors\n",
    "$$(-1,2,-2) \\,, \\qquad (3,-2,1) \\qquad \\text{i} \\qquad (-5,2,1)$$\n",
    "amb els escalars $3$, $2$ i $-1$, respectivament."
   ]
  },
  {
   "cell_type": "code",
   "execution_count": null,
   "metadata": {},
   "outputs": [],
   "source": [
    "u1 = vector([-1,2,-2])\n",
    "u2 = vector([3,-2,1])\n",
    "u3 = vector([-5,2,1])\n",
    "u = 3*u1+2*u2-u3\n",
    "show(u)"
   ]
  },
  {
   "cell_type": "markdown",
   "metadata": {},
   "source": [
    "## Exercici 4\n",
    "Determineu si el vector $(1,-1,1)$ és combinació lineal dels vectors del sistema \n",
    "$$\\{(2,-1,3),(-3,1,2),(7,-3,4)\\} \\,. $$"
   ]
  },
  {
   "cell_type": "markdown",
   "metadata": {},
   "source": [
    "Hem de comprovar si podem trobar coeficients $t_1$, $t_2$ i $t_3$ tals que\n",
    "$$\n",
    "  t_1(2,-1,3)+t_2(-3,1,2)+t_3(7,-3,4)=(1,-1,1)\\,.\n",
    "$$"
   ]
  },
  {
   "cell_type": "code",
   "execution_count": 2,
   "metadata": {},
   "outputs": [
    {
     "data": {
      "text/html": [
       "<html>\\(\\displaystyle \\left[\\right]\\)</html>"
      ],
      "text/latex": [
       "$\\displaystyle \\left[\\right]$"
      ],
      "text/plain": [
       "[]"
      ]
     },
     "metadata": {},
     "output_type": "display_data"
    }
   ],
   "source": [
    "t1, t2, t3 = var('t1 t2 t3')\n",
    "show(solve([2*t1 - 3*t2 + 7*t3 == 1,-t1 + t2 - 3*t3 == -1,3*t1 + 2*t2 + 4*t3 == 1],[t1,t2,t3]))"
   ]
  },
  {
   "cell_type": "markdown",
   "metadata": {},
   "source": [
    "El sistema d'equacions és incompatible, per tant el vector $(1,-1,1)$ no és combinació lineal dels vectors $(2,-1,3)$, $(-3,1,2)$ i $(7,-3,4)$."
   ]
  },
  {
   "cell_type": "markdown",
   "metadata": {},
   "source": [
    "## Exercici 5\n",
    "Analitzeu si el vectors de $V_3$\n",
    "$$(4,0,-5) \\,, \\qquad (2,-1,-3) \\qquad \\text{i} \\qquad (0,2,1)$$\n",
    "són linealment dependents i, en cas afirmatiu, determineu una relació de dependència lineal entre ells."
   ]
  },
  {
   "cell_type": "markdown",
   "metadata": {},
   "source": [
    "Hem de veure si és possible trobar uns coeficients $t_1$, $t_2$ i $t_3$ tals que\n",
    "$$\n",
    "  t_1\\vec u_1 + t_2\\vec u_2 +t_3\\vec u_3 = \\vec 0\\,.\n",
    "$$"
   ]
  },
  {
   "cell_type": "code",
   "execution_count": 6,
   "metadata": {},
   "outputs": [
    {
     "data": {
      "text/html": [
       "<html>\\(\\displaystyle \\left[\\left[t_{1} = -r_{2}, t_{2} = 2 \\, r_{2}, t_{3} = r_{2}\\right]\\right]\\)</html>"
      ],
      "text/latex": [
       "$\\displaystyle \\left[\\left[t_{1} = -r_{2}, t_{2} = 2 \\, r_{2}, t_{3} = r_{2}\\right]\\right]$"
      ],
      "text/plain": [
       "[[t1 == -r2, t2 == 2*r2, t3 == r2]]"
      ]
     },
     "metadata": {},
     "output_type": "display_data"
    }
   ],
   "source": [
    "show(solve([4*t1 + 2*t2 == 0, -t2 + 2*t3 == 0, -5*t1 - 3*t2 + t3 == 0],[t1,t2,t3]))"
   ]
  },
  {
   "cell_type": "markdown",
   "metadata": {},
   "source": [
    "El sistema és compatible indeterminat i els tres vectors són linealment dependents. A partir de la solució, escrivim una relació de dependència (prenent $r_1=1$ i, aleshores, $t_1=-1$, $t_2=2$ i $t_3=1$)\n",
    "$$\n",
    "  -(4,0,-5)+2(2,-1,-3)+(0,2,1)=(0,0,0)\\,.\n",
    "$$"
   ]
  },
  {
   "cell_type": "markdown",
   "metadata": {},
   "source": [
    "## Exercici 6\n",
    "Determineu el rang del sistema de vectors\n",
    "$$\\{(-1,4,2),(3,0,-1),(-1,2,1)\\} \\,. $$"
   ]
  },
  {
   "cell_type": "code",
   "execution_count": 7,
   "metadata": {},
   "outputs": [
    {
     "data": {
      "text/html": [
       "<html>\\(\\displaystyle \\left(\\begin{array}{rrr}\n",
       "-1 & 3 & -1 \\\\\n",
       "4 & 0 & 2 \\\\\n",
       "2 & -1 & 1\n",
       "\\end{array}\\right)\\)</html>"
      ],
      "text/latex": [
       "$\\displaystyle \\left(\\begin{array}{rrr}\n",
       "-1 & 3 & -1 \\\\\n",
       "4 & 0 & 2 \\\\\n",
       "2 & -1 & 1\n",
       "\\end{array}\\right)$"
      ],
      "text/plain": [
       "[-1  3 -1]\n",
       "[ 4  0  2]\n",
       "[ 2 -1  1]"
      ]
     },
     "metadata": {},
     "output_type": "display_data"
    }
   ],
   "source": [
    "u1 = vector([-1,4,2])\n",
    "u2 = vector([3,0,-1])\n",
    "u3 = vector([-1,2,1])\n",
    "A = matrix([u1,u2,u3]).T\n",
    "show(A)"
   ]
  },
  {
   "cell_type": "code",
   "execution_count": 8,
   "metadata": {},
   "outputs": [
    {
     "data": {
      "text/plain": [
       "3"
      ]
     },
     "execution_count": 8,
     "metadata": {},
     "output_type": "execute_result"
    }
   ],
   "source": [
    "A.rank()"
   ]
  },
  {
   "cell_type": "markdown",
   "metadata": {},
   "source": [
    "El rang és 3. Per tant, els tres vectors són linealment independents."
   ]
  },
  {
   "cell_type": "markdown",
   "metadata": {},
   "source": [
    "## Exercici 7\n",
    "Comproveu que el conjunt definit per generadors\n",
    "$$V=\\langle (3,5,1),(1,3,3),(3,2,-5),(2,3,0) \\rangle$$\n",
    "és un pla vectorial de $V_3$ i determineu una base i una equació implícita minimal seva."
   ]
  },
  {
   "cell_type": "markdown",
   "metadata": {},
   "source": [
    "Hem de veure que el conjunt de totes les combinacions lineals d'aquests vectors formen un pla vectorial."
   ]
  },
  {
   "cell_type": "code",
   "execution_count": 9,
   "metadata": {},
   "outputs": [
    {
     "data": {
      "text/html": [
       "<html>\\(\\displaystyle \\left(\\begin{array}{rrrr}\n",
       "3 & 1 & 3 & 2 \\\\\n",
       "5 & 3 & 2 & 3 \\\\\n",
       "1 & 3 & -5 & 0\n",
       "\\end{array}\\right)\\)</html>"
      ],
      "text/latex": [
       "$\\displaystyle \\left(\\begin{array}{rrrr}\n",
       "3 & 1 & 3 & 2 \\\\\n",
       "5 & 3 & 2 & 3 \\\\\n",
       "1 & 3 & -5 & 0\n",
       "\\end{array}\\right)$"
      ],
      "text/plain": [
       "[ 3  1  3  2]\n",
       "[ 5  3  2  3]\n",
       "[ 1  3 -5  0]"
      ]
     },
     "metadata": {},
     "output_type": "display_data"
    }
   ],
   "source": [
    "u1 = vector([3,5,1])\n",
    "u2 = vector([1,3,3])\n",
    "u3 = vector([3,2,-5])\n",
    "u4 = vector([2,3,0])\n",
    "A = matrix([u1,u2,u3,u4]).T\n",
    "show(A)"
   ]
  },
  {
   "cell_type": "code",
   "execution_count": 10,
   "metadata": {},
   "outputs": [
    {
     "data": {
      "text/plain": [
       "2"
      ]
     },
     "execution_count": 10,
     "metadata": {},
     "output_type": "execute_result"
    }
   ],
   "source": [
    "A.rank()"
   ]
  },
  {
   "cell_type": "markdown",
   "metadata": {},
   "source": [
    "Com que el rang és 2, els quatre vectors estan continguts en un pla. Com a base d'aquest pla podem agafar els dos primers vectors, és a dir, es tracta del pla generat pels vectors $(3,5,1)$ i $(1,3,3)$.\n",
    "\n",
    "L'equació implícita del pla és"
   ]
  },
  {
   "cell_type": "code",
   "execution_count": 11,
   "metadata": {},
   "outputs": [
    {
     "data": {
      "text/html": [
       "<html>\\(\\displaystyle \\left(\\begin{array}{rrr}\n",
       "3 & 1 & x \\\\\n",
       "5 & 3 & y \\\\\n",
       "1 & 3 & z\n",
       "\\end{array}\\right)\\)</html>"
      ],
      "text/latex": [
       "$\\displaystyle \\left(\\begin{array}{rrr}\n",
       "3 & 1 & x \\\\\n",
       "5 & 3 & y \\\\\n",
       "1 & 3 & z\n",
       "\\end{array}\\right)$"
      ],
      "text/plain": [
       "[3 1 x]\n",
       "[5 3 y]\n",
       "[1 3 z]"
      ]
     },
     "metadata": {},
     "output_type": "display_data"
    }
   ],
   "source": [
    "x, y, z = var('x y z')\n",
    "u = vector([x,y,z])\n",
    "A = matrix([u1,u2,u]).T\n",
    "show(A)"
   ]
  },
  {
   "cell_type": "code",
   "execution_count": 12,
   "metadata": {},
   "outputs": [
    {
     "data": {
      "text/html": [
       "<html>\\(\\displaystyle 12 \\, x - 8 \\, y + 4 \\, z = 0\\)</html>"
      ],
      "text/latex": [
       "$\\displaystyle 12 \\, x - 8 \\, y + 4 \\, z = 0$"
      ],
      "text/plain": [
       "12*x - 8*y + 4*z == 0"
      ]
     },
     "metadata": {},
     "output_type": "display_data"
    }
   ],
   "source": [
    "show(A.det() == 0)"
   ]
  },
  {
   "cell_type": "markdown",
   "metadata": {},
   "source": [
    "Si simplifiquem per 4, ens queda l'equació\n",
    "$$\n",
    "  3x-2y+z=0\\,.\n",
    "$$"
   ]
  },
  {
   "cell_type": "markdown",
   "metadata": {},
   "source": [
    "## Exercici 8\n",
    "Comproveu que el conjunt definit per les solucions de les equacions implícites\n",
    "$$V: \\, \\left. \\begin{aligned} 2x-y+5z&=0\\\\\n",
    "                              4x-2y+7z&=0\\\\\n",
    "                                2x-y+z&=0\n",
    "               \\end{aligned} \\, \\right\\}\n",
    "$$\n",
    "és una recta vectorial de $V_3$ i trobeu-ne unes equacions implícites minimals i una base."
   ]
  },
  {
   "cell_type": "code",
   "execution_count": 13,
   "metadata": {},
   "outputs": [
    {
     "data": {
      "text/plain": [
       "[[x == 1/2*r3, y == r3, z == 0]]"
      ]
     },
     "execution_count": 13,
     "metadata": {},
     "output_type": "execute_result"
    }
   ],
   "source": [
    "x, y, z = var('x y z')\n",
    "solve([2*x - y+ 5*z == 0,4*x - 2*y+7*z == 0,2*x - y + z==0],[x,y,z])"
   ]
  },
  {
   "cell_type": "markdown",
   "metadata": {},
   "source": [
    "La solució d'aquest sistema és\n",
    "$$\\left.\\begin{aligned} \n",
    "  x &= \\frac{t}{2}\\\\\n",
    "  y &= t \\\\\n",
    "  z &= 0\n",
    "  \\end{aligned}\\right\\}\\,,\n",
    "$$\n",
    "és a dir, els vectors de la forma $\\left(\\frac{t}{2},t,0\\right)=t\\left(\\frac{1}{2},1,0\\right)$. Així doncs, el vector $(1,2,0)$ és una base de la recta vectorial."
   ]
  },
  {
   "cell_type": "markdown",
   "metadata": {},
   "source": [
    "Pel que fa al sistema d'equacions, calculem el rang de la seva matriu dels coeficients de les incògnites."
   ]
  },
  {
   "cell_type": "code",
   "execution_count": 14,
   "metadata": {},
   "outputs": [
    {
     "data": {
      "text/plain": [
       "2"
      ]
     },
     "execution_count": 14,
     "metadata": {},
     "output_type": "execute_result"
    }
   ],
   "source": [
    "A = matrix([[2,-1,5],[4,-2,5],[2,-1,0]])\n",
    "A.rank()"
   ]
  },
  {
   "cell_type": "markdown",
   "metadata": {},
   "source": [
    "Veiem que les dues primeres equacions del sistema són linealment independents i la tercera és combinació lineal de les dues primeres. Unes equacions implícites minimals (linealment independents) seràn\n",
    "$$\n",
    "  \\left. \\begin{aligned} \n",
    "  2x-y+5z&=0\\\\\n",
    "  4x-2y+7z&=0\n",
    "  \\end{aligned}\\right\\}\\,.\n",
    "$$"
   ]
  },
  {
   "cell_type": "markdown",
   "metadata": {
    "tags": []
   },
   "source": [
    "## Exercici 9\n",
    "Determineu quins dels sistemes següents són base de $V_3$ i, en cas afirmatiu, trobeu la seva orientació:\n",
    "1. $\\{(-2,3,-1),(1,2,5),(-3,2,9)\\}$;\n",
    "1. $\\{(-1,1,-1),(8,-7,6),(8,-3,-2)\\}$;\n",
    "1. $\\{(-1,5,-4),(5,0,1),(2,-2,-3)\\}$."
   ]
  },
  {
   "cell_type": "code",
   "execution_count": null,
   "metadata": {},
   "outputs": [],
   "source": [
    "A = matrix([[-2,3,-1],[1,2,5],[-3,2,9]]).T\n",
    "show(A)"
   ]
  },
  {
   "cell_type": "code",
   "execution_count": null,
   "metadata": {},
   "outputs": [],
   "source": [
    "show(A.det())"
   ]
  },
  {
   "cell_type": "markdown",
   "metadata": {},
   "source": [
    "És base amb orientació negativa."
   ]
  },
  {
   "cell_type": "code",
   "execution_count": null,
   "metadata": {},
   "outputs": [],
   "source": [
    "A = matrix([[-1,1,-1],[8,-7,6],[8,-3,-2]]).T\n",
    "show(A)"
   ]
  },
  {
   "cell_type": "code",
   "execution_count": null,
   "metadata": {},
   "outputs": [],
   "source": [
    "show(A.det())"
   ]
  },
  {
   "cell_type": "markdown",
   "metadata": {},
   "source": [
    "No és base."
   ]
  },
  {
   "cell_type": "code",
   "execution_count": null,
   "metadata": {},
   "outputs": [],
   "source": [
    "A = matrix([[-1,5,-4],[5,0,1],[2,-2,-3]]).T\n",
    "show(A)"
   ]
  },
  {
   "cell_type": "code",
   "execution_count": null,
   "metadata": {},
   "outputs": [],
   "source": [
    "show(A.det())"
   ]
  },
  {
   "cell_type": "markdown",
   "metadata": {},
   "source": [
    "És base amb orientació positiva."
   ]
  },
  {
   "cell_type": "markdown",
   "metadata": {},
   "source": [
    "## Exercici 10\n",
    "Representeu gràficament el vector que en la base $\\mathcal{B}'=\\{((2,-1),(1,1)\\}$ té components $(-4,3)$, és a dir, $\\vec u=(-4,3)_{\\mathcal{B}'}$ i trobeu les seves components en la base canònica."
   ]
  },
  {
   "cell_type": "code",
   "execution_count": 16,
   "metadata": {},
   "outputs": [
    {
     "data": {
      "image/svg+xml": [
       "<svg xmlns=\"http://www.w3.org/2000/svg\" xmlns:xlink=\"http://www.w3.org/1999/xlink\" version=\"1.1\" width=\"567.637796pt\" height=\"567.637796pt\" viewBox=\"340.228346 337.677165 567.637796 567.637796\">\n",
       "<defs>\n",
       "<path id=\"g0-0\" d=\"M7.878456-2.749689C8.081694-2.749689 8.296887-2.749689 8.296887-2.988792S8.081694-3.227895 7.878456-3.227895H1.41071C1.207472-3.227895 .992279-3.227895 .992279-2.988792S1.207472-2.749689 1.41071-2.749689H7.878456Z\"/>\n",
       "<path id=\"g1-49\" d=\"M3.443088-7.663263C3.443088-7.938232 3.443088-7.950187 3.203985-7.950187C2.917061-7.627397 2.319303-7.185056 1.08792-7.185056V-6.838356C1.362889-6.838356 1.960648-6.838356 2.618182-7.149191V-.920548C2.618182-.490162 2.582316-.3467 1.530262-.3467H1.159651V0C1.482441-.02391 2.642092-.02391 3.036613-.02391S4.578829-.02391 4.901619 0V-.3467H4.531009C3.478954-.3467 3.443088-.490162 3.443088-.920548V-7.663263Z\"/>\n",
       "<path id=\"g1-50\" d=\"M5.260274-2.008468H4.99726C4.961395-1.80523 4.865753-1.147696 4.746202-.956413C4.662516-.848817 3.981071-.848817 3.622416-.848817H1.41071C1.733499-1.123786 2.462765-1.888917 2.773599-2.175841C4.590785-3.849564 5.260274-4.471233 5.260274-5.654795C5.260274-7.029639 4.172354-7.950187 2.785554-7.950187S.585803-6.766625 .585803-5.738481C.585803-5.128767 1.111831-5.128767 1.147696-5.128767C1.398755-5.128767 1.709589-5.308095 1.709589-5.69066C1.709589-6.025405 1.482441-6.252553 1.147696-6.252553C1.0401-6.252553 1.016189-6.252553 .980324-6.240598C1.207472-7.053549 1.853051-7.603487 2.630137-7.603487C3.646326-7.603487 4.267995-6.75467 4.267995-5.654795C4.267995-4.638605 3.682192-3.753923 3.000747-2.988792L.585803-.286924V0H4.94944L5.260274-2.008468Z\"/>\n",
       "<path id=\"g1-51\" d=\"M2.199751-4.291905C1.996513-4.27995 1.948692-4.267995 1.948692-4.160399C1.948692-4.040847 2.008468-4.040847 2.223661-4.040847H2.773599C3.789788-4.040847 4.244085-3.203985 4.244085-2.056289C4.244085-.490162 3.431133-.071731 2.84533-.071731C2.271482-.071731 1.291158-.3467 .944458-1.135741C1.327024-1.075965 1.673724-1.291158 1.673724-1.721544C1.673724-2.068244 1.422665-2.307347 1.08792-2.307347C.800996-2.307347 .490162-2.139975 .490162-1.685679C.490162-.621669 1.554172 .251059 2.881196 .251059C4.303861 .251059 5.355915-.836862 5.355915-2.044334C5.355915-3.144209 4.471233-4.004981 3.323537-4.208219C4.363636-4.507098 5.033126-5.379826 5.033126-6.312329C5.033126-7.256787 4.052802-7.950187 2.893151-7.950187C1.697634-7.950187 .812951-7.220922 .812951-6.348194C.812951-5.869988 1.183562-5.774346 1.362889-5.774346C1.613948-5.774346 1.900872-5.953674 1.900872-6.312329C1.900872-6.694894 1.613948-6.862267 1.350934-6.862267C1.279203-6.862267 1.255293-6.862267 1.219427-6.850311C1.673724-7.663263 2.797509-7.663263 2.857285-7.663263C3.251806-7.663263 4.028892-7.483935 4.028892-6.312329C4.028892-6.085181 3.993026-5.415691 3.646326-4.901619C3.287671-4.375592 2.881196-4.339726 2.558406-4.327771L2.199751-4.291905Z\"/>\n",
       "<path id=\"g1-52\" d=\"M4.315816-7.782814C4.315816-8.009963 4.315816-8.069738 4.148443-8.069738C4.052802-8.069738 4.016936-8.069738 3.921295-7.926276L.32279-2.343213V-1.996513H3.466999V-.908593C3.466999-.466252 3.443088-.3467 2.570361-.3467H2.331258V0C2.606227-.02391 3.550685-.02391 3.88543-.02391S5.176588-.02391 5.451557 0V-.3467H5.212453C4.351681-.3467 4.315816-.466252 4.315816-.908593V-1.996513H5.523288V-2.343213H4.315816V-7.782814ZM3.526775-6.850311V-2.343213H.621669L3.526775-6.850311Z\"/>\n",
       "<path id=\"g1-53\" d=\"M1.530262-6.850311C2.044334-6.682939 2.462765-6.670984 2.594271-6.670984C3.945205-6.670984 4.805978-7.663263 4.805978-7.830635C4.805978-7.878456 4.782067-7.938232 4.710336-7.938232C4.686426-7.938232 4.662516-7.938232 4.554919-7.890411C3.88543-7.603487 3.311582-7.567621 3.000747-7.567621C2.211706-7.567621 1.649813-7.806725 1.422665-7.902366C1.338979-7.938232 1.315068-7.938232 1.303113-7.938232C1.207472-7.938232 1.207472-7.866501 1.207472-7.675218V-4.124533C1.207472-3.90934 1.207472-3.837609 1.350934-3.837609C1.41071-3.837609 1.422665-3.849564 1.542217-3.993026C1.876961-4.483188 2.438854-4.770112 3.036613-4.770112C3.670237-4.770112 3.981071-4.184309 4.076712-3.981071C4.27995-3.514819 4.291905-2.929016 4.291905-2.47472S4.291905-1.338979 3.957161-.800996C3.694147-.37061 3.227895-.071731 2.701868-.071731C1.912827-.071731 1.135741-.609714 .920548-1.482441C.980324-1.458531 1.052055-1.446575 1.111831-1.446575C1.315068-1.446575 1.637858-1.566127 1.637858-1.972603C1.637858-2.307347 1.41071-2.49863 1.111831-2.49863C.896638-2.49863 .585803-2.391034 .585803-1.924782C.585803-.908593 1.398755 .251059 2.725778 .251059C4.076712 .251059 5.260274-.884682 5.260274-2.402989C5.260274-3.825654 4.303861-5.009215 3.048568-5.009215C2.367123-5.009215 1.841096-4.710336 1.530262-4.375592V-6.850311Z\"/>\n",
       "<path id=\"g1-54\" d=\"M1.470486-4.160399C1.470486-7.185056 2.940971-7.663263 3.58655-7.663263C4.016936-7.663263 4.447323-7.531756 4.674471-7.173101C4.531009-7.173101 4.076712-7.173101 4.076712-6.682939C4.076712-6.419925 4.25604-6.192777 4.566874-6.192777C4.865753-6.192777 5.068991-6.372105 5.068991-6.718804C5.068991-7.340473 4.614695-7.950187 3.574595-7.950187C2.068244-7.950187 .490162-6.40797 .490162-3.777833C.490162-.490162 1.924782 .251059 2.940971 .251059C4.244085 .251059 5.355915-.884682 5.355915-2.438854C5.355915-4.028892 4.244085-5.092902 3.048568-5.092902C1.984558-5.092902 1.590037-4.172354 1.470486-3.837609V-4.160399ZM2.940971-.071731C2.187796-.071731 1.829141-.74122 1.721544-.992279C1.613948-1.303113 1.494396-1.888917 1.494396-2.725778C1.494396-3.670237 1.924782-4.853798 3.000747-4.853798C3.658281-4.853798 4.004981-4.411457 4.184309-4.004981C4.375592-3.56264 4.375592-2.964882 4.375592-2.450809C4.375592-1.841096 4.375592-1.303113 4.148443-.848817C3.849564-.274969 3.419178-.071731 2.940971-.071731Z\"/>\n",
       "<path id=\"g1-55\" d=\"M5.678705-7.424159V-7.699128H2.797509C1.350934-7.699128 1.327024-7.854545 1.279203-8.081694H1.016189L.645579-5.69066H.908593C.944458-5.905853 1.052055-6.647073 1.207472-6.77858C1.303113-6.850311 2.199751-6.850311 2.367123-6.850311H4.901619L3.634371-5.033126C3.311582-4.566874 2.10411-2.606227 2.10411-.358655C2.10411-.227148 2.10411 .251059 2.594271 .251059C3.096389 .251059 3.096389-.215193 3.096389-.37061V-.968369C3.096389-2.749689 3.383313-4.136488 3.945205-4.937484L5.678705-7.424159Z\"/>\n",
       "<path id=\"g1-56\" d=\"M3.56264-4.315816C4.160399-4.638605 5.033126-5.188543 5.033126-6.192777C5.033126-7.232877 4.028892-7.950187 2.929016-7.950187C1.745455-7.950187 .812951-7.07746 .812951-5.989539C.812951-5.583064 .932503-5.176588 1.267248-4.770112C1.398755-4.614695 1.41071-4.60274 2.247572-4.016936C1.08792-3.478954 .490162-2.677958 .490162-1.80523C.490162-.537983 1.697634 .251059 2.917061 .251059C4.244085 .251059 5.355915-.729265 5.355915-1.984558C5.355915-3.203985 4.495143-3.741968 3.56264-4.315816ZM1.936737-5.391781C1.78132-5.499377 1.303113-5.810212 1.303113-6.396015C1.303113-7.173101 2.116065-7.663263 2.917061-7.663263C3.777833-7.663263 4.542964-7.041594 4.542964-6.180822C4.542964-5.451557 4.016936-4.865753 3.323537-4.483188L1.936737-5.391781ZM2.49863-3.849564L3.945205-2.905106C4.25604-2.701868 4.805978-2.331258 4.805978-1.601993C4.805978-.6934 3.88543-.071731 2.929016-.071731C1.912827-.071731 1.0401-.812951 1.0401-1.80523C1.0401-2.737733 1.721544-3.490909 2.49863-3.849564Z\"/>\n",
       "<path id=\"g1-57\" d=\"M4.375592-3.478954C4.375592-.657534 3.120299-.071731 2.402989-.071731C2.116065-.071731 1.482441-.107597 1.183562-.526027H1.255293C1.338979-.502117 1.769365-.573848 1.769365-1.016189C1.769365-1.279203 1.590037-1.506351 1.279203-1.506351S.777086-1.303113 .777086-.992279C.777086-.251059 1.374844 .251059 2.414944 .251059C3.90934 .251059 5.355915-1.338979 5.355915-3.93325C5.355915-7.149191 4.016936-7.950187 2.964882-7.950187C1.649813-7.950187 .490162-6.850311 .490162-5.272229S1.601993-2.618182 2.797509-2.618182C3.682192-2.618182 4.136488-3.263761 4.375592-3.873474V-3.478954ZM2.84533-2.857285C2.092154-2.857285 1.769365-3.466999 1.661768-3.694147C1.470486-4.148443 1.470486-4.722291 1.470486-5.260274C1.470486-5.929763 1.470486-6.503611 1.78132-6.993773C1.996513-7.316563 2.319303-7.663263 2.964882-7.663263C3.646326-7.663263 3.993026-7.065504 4.112578-6.790535C4.351681-6.204732 4.351681-5.188543 4.351681-5.009215C4.351681-4.004981 3.897385-2.857285 2.84533-2.857285Z\"/>\n",
       "</defs>\n",
       "<g id=\"page1\">\n",
       "<g transform=\"translate(340.228 337.677)scale(.996264)\">\n",
       "<path d=\"M.355659 569.411V.355659\" fill=\"none\" stroke=\"#cccccc\" stroke-linecap=\"round\" stroke-linejoin=\"round\" stroke-miterlimit=\"10.0375\" stroke-width=\"0.426791\"/>\n",
       "</g>\n",
       "<g transform=\"translate(340.228 337.677)scale(.996264)\">\n",
       "<path d=\"M7.46885 569.411V.355659\" fill=\"none\" stroke=\"#cccccc\" stroke-dasharray=\"0,0.682969\" stroke-linecap=\"round\" stroke-linejoin=\"round\" stroke-miterlimit=\"10.0375\" stroke-width=\"0.170717\"/>\n",
       "</g>\n",
       "<g transform=\"translate(340.228 337.677)scale(.996264)\">\n",
       "<path d=\"M14.582 569.411V.355659\" fill=\"none\" stroke=\"#cccccc\" stroke-dasharray=\"0,0.682969\" stroke-linecap=\"round\" stroke-linejoin=\"round\" stroke-miterlimit=\"10.0375\" stroke-width=\"0.170717\"/>\n",
       "</g>\n",
       "<g transform=\"translate(340.228 337.677)scale(.996264)\">\n",
       "<path d=\"M21.6952 569.411V.355659\" fill=\"none\" stroke=\"#cccccc\" stroke-dasharray=\"0,0.682969\" stroke-linecap=\"round\" stroke-linejoin=\"round\" stroke-miterlimit=\"10.0375\" stroke-width=\"0.170717\"/>\n",
       "</g>\n",
       "<g transform=\"translate(340.228 337.677)scale(.996264)\">\n",
       "<path d=\"M28.8084 569.411V.355659\" fill=\"none\" stroke=\"#cccccc\" stroke-linecap=\"round\" stroke-linejoin=\"round\" stroke-miterlimit=\"10.0375\" stroke-width=\"0.426791\"/>\n",
       "</g>\n",
       "<g transform=\"translate(340.228 337.677)scale(.996264)\">\n",
       "<path d=\"M35.9216 569.411V.355659\" fill=\"none\" stroke=\"#cccccc\" stroke-dasharray=\"0,0.682969\" stroke-linecap=\"round\" stroke-linejoin=\"round\" stroke-miterlimit=\"10.0375\" stroke-width=\"0.170717\"/>\n",
       "</g>\n",
       "<g transform=\"translate(340.228 337.677)scale(.996264)\">\n",
       "<path d=\"M43.0348 569.411V.355659\" fill=\"none\" stroke=\"#cccccc\" stroke-dasharray=\"0,0.682969\" stroke-linecap=\"round\" stroke-linejoin=\"round\" stroke-miterlimit=\"10.0375\" stroke-width=\"0.170717\"/>\n",
       "</g>\n",
       "<g transform=\"translate(340.228 337.677)scale(.996264)\">\n",
       "<path d=\"M50.148 569.411V.355659\" fill=\"none\" stroke=\"#cccccc\" stroke-dasharray=\"0,0.682969\" stroke-linecap=\"round\" stroke-linejoin=\"round\" stroke-miterlimit=\"10.0375\" stroke-width=\"0.170717\"/>\n",
       "</g>\n",
       "<g transform=\"translate(340.228 337.677)scale(.996264)\">\n",
       "<path d=\"M57.2612 569.411V.355659\" fill=\"none\" stroke=\"#cccccc\" stroke-linecap=\"round\" stroke-linejoin=\"round\" stroke-miterlimit=\"10.0375\" stroke-width=\"0.426791\"/>\n",
       "</g>\n",
       "<g transform=\"translate(340.228 337.677)scale(.996264)\">\n",
       "<path d=\"M64.3744 569.411V.355659\" fill=\"none\" stroke=\"#cccccc\" stroke-dasharray=\"0,0.682969\" stroke-linecap=\"round\" stroke-linejoin=\"round\" stroke-miterlimit=\"10.0375\" stroke-width=\"0.170717\"/>\n",
       "</g>\n",
       "<g transform=\"translate(340.228 337.677)scale(.996264)\">\n",
       "<path d=\"M71.4875 569.411V.355659\" fill=\"none\" stroke=\"#cccccc\" stroke-dasharray=\"0,0.682969\" stroke-linecap=\"round\" stroke-linejoin=\"round\" stroke-miterlimit=\"10.0375\" stroke-width=\"0.170717\"/>\n",
       "</g>\n",
       "<g transform=\"translate(340.228 337.677)scale(.996264)\">\n",
       "<path d=\"M78.6007 569.411V.355659\" fill=\"none\" stroke=\"#cccccc\" stroke-dasharray=\"0,0.682969\" stroke-linecap=\"round\" stroke-linejoin=\"round\" stroke-miterlimit=\"10.0375\" stroke-width=\"0.170717\"/>\n",
       "</g>\n",
       "<g transform=\"translate(340.228 337.677)scale(.996264)\">\n",
       "<path d=\"M85.7139 569.411V.355659\" fill=\"none\" stroke=\"#cccccc\" stroke-linecap=\"round\" stroke-linejoin=\"round\" stroke-miterlimit=\"10.0375\" stroke-width=\"0.426791\"/>\n",
       "</g>\n",
       "<g transform=\"translate(340.228 337.677)scale(.996264)\">\n",
       "<path d=\"M92.8271 569.411V.355659\" fill=\"none\" stroke=\"#cccccc\" stroke-dasharray=\"0,0.682969\" stroke-linecap=\"round\" stroke-linejoin=\"round\" stroke-miterlimit=\"10.0375\" stroke-width=\"0.170717\"/>\n",
       "</g>\n",
       "<g transform=\"translate(340.228 337.677)scale(.996264)\">\n",
       "<path d=\"M99.9403 569.411V.355659\" fill=\"none\" stroke=\"#cccccc\" stroke-dasharray=\"0,0.682969\" stroke-linecap=\"round\" stroke-linejoin=\"round\" stroke-miterlimit=\"10.0375\" stroke-width=\"0.170717\"/>\n",
       "</g>\n",
       "<g transform=\"translate(340.228 337.677)scale(.996264)\">\n",
       "<path d=\"M107.053 569.411V.355659\" fill=\"none\" stroke=\"#cccccc\" stroke-dasharray=\"0,0.682969\" stroke-linecap=\"round\" stroke-linejoin=\"round\" stroke-miterlimit=\"10.0375\" stroke-width=\"0.170717\"/>\n",
       "</g>\n",
       "<g transform=\"translate(340.228 337.677)scale(.996264)\">\n",
       "<path d=\"M114.167 569.411V.355659\" fill=\"none\" stroke=\"#cccccc\" stroke-linecap=\"round\" stroke-linejoin=\"round\" stroke-miterlimit=\"10.0375\" stroke-width=\"0.426791\"/>\n",
       "</g>\n",
       "<g transform=\"translate(340.228 337.677)scale(.996264)\">\n",
       "<path d=\"M121.28 569.411V.355659\" fill=\"none\" stroke=\"#cccccc\" stroke-dasharray=\"0,0.682969\" stroke-linecap=\"round\" stroke-linejoin=\"round\" stroke-miterlimit=\"10.0375\" stroke-width=\"0.170717\"/>\n",
       "</g>\n",
       "<g transform=\"translate(340.228 337.677)scale(.996264)\">\n",
       "<path d=\"M128.393 569.411V.355659\" fill=\"none\" stroke=\"#cccccc\" stroke-dasharray=\"0,0.682969\" stroke-linecap=\"round\" stroke-linejoin=\"round\" stroke-miterlimit=\"10.0375\" stroke-width=\"0.170717\"/>\n",
       "</g>\n",
       "<g transform=\"translate(340.228 337.677)scale(.996264)\">\n",
       "<path d=\"M135.506 569.411V.355659\" fill=\"none\" stroke=\"#cccccc\" stroke-dasharray=\"0,0.682969\" stroke-linecap=\"round\" stroke-linejoin=\"round\" stroke-miterlimit=\"10.0375\" stroke-width=\"0.170717\"/>\n",
       "</g>\n",
       "<g transform=\"translate(340.228 337.677)scale(.996264)\">\n",
       "<path d=\"M142.619 569.411V.355659\" fill=\"none\" stroke=\"#cccccc\" stroke-linecap=\"round\" stroke-linejoin=\"round\" stroke-miterlimit=\"10.0375\" stroke-width=\"0.426791\"/>\n",
       "</g>\n",
       "<g transform=\"translate(340.228 337.677)scale(.996264)\">\n",
       "<path d=\"M149.733 569.411V.355659\" fill=\"none\" stroke=\"#cccccc\" stroke-dasharray=\"0,0.682969\" stroke-linecap=\"round\" stroke-linejoin=\"round\" stroke-miterlimit=\"10.0375\" stroke-width=\"0.170717\"/>\n",
       "</g>\n",
       "<g transform=\"translate(340.228 337.677)scale(.996264)\">\n",
       "<path d=\"M156.846 569.411V.355659\" fill=\"none\" stroke=\"#cccccc\" stroke-dasharray=\"0,0.682969\" stroke-linecap=\"round\" stroke-linejoin=\"round\" stroke-miterlimit=\"10.0375\" stroke-width=\"0.170717\"/>\n",
       "</g>\n",
       "<g transform=\"translate(340.228 337.677)scale(.996264)\">\n",
       "<path d=\"M163.959 569.411V.355659\" fill=\"none\" stroke=\"#cccccc\" stroke-dasharray=\"0,0.682969\" stroke-linecap=\"round\" stroke-linejoin=\"round\" stroke-miterlimit=\"10.0375\" stroke-width=\"0.170717\"/>\n",
       "</g>\n",
       "<g transform=\"translate(340.228 337.677)scale(.996264)\">\n",
       "<path d=\"M171.072 569.411V.355659\" fill=\"none\" stroke=\"#cccccc\" stroke-linecap=\"round\" stroke-linejoin=\"round\" stroke-miterlimit=\"10.0375\" stroke-width=\"0.426791\"/>\n",
       "</g>\n",
       "<g transform=\"translate(340.228 337.677)scale(.996264)\">\n",
       "<path d=\"M178.185 569.411V.355659\" fill=\"none\" stroke=\"#cccccc\" stroke-dasharray=\"0,0.682969\" stroke-linecap=\"round\" stroke-linejoin=\"round\" stroke-miterlimit=\"10.0375\" stroke-width=\"0.170717\"/>\n",
       "</g>\n",
       "<g transform=\"translate(340.228 337.677)scale(.996264)\">\n",
       "<path d=\"M185.299 569.411V.355659\" fill=\"none\" stroke=\"#cccccc\" stroke-dasharray=\"0,0.682969\" stroke-linecap=\"round\" stroke-linejoin=\"round\" stroke-miterlimit=\"10.0375\" stroke-width=\"0.170717\"/>\n",
       "</g>\n",
       "<g transform=\"translate(340.228 337.677)scale(.996264)\">\n",
       "<path d=\"M192.412 569.411V.355659\" fill=\"none\" stroke=\"#cccccc\" stroke-dasharray=\"0,0.682969\" stroke-linecap=\"round\" stroke-linejoin=\"round\" stroke-miterlimit=\"10.0375\" stroke-width=\"0.170717\"/>\n",
       "</g>\n",
       "<g transform=\"translate(340.228 337.677)scale(.996264)\">\n",
       "<path d=\"M199.525 569.411V.355659\" fill=\"none\" stroke=\"#cccccc\" stroke-linecap=\"round\" stroke-linejoin=\"round\" stroke-miterlimit=\"10.0375\" stroke-width=\"0.426791\"/>\n",
       "</g>\n",
       "<g transform=\"translate(340.228 337.677)scale(.996264)\">\n",
       "<path d=\"M206.638 569.411V.355659\" fill=\"none\" stroke=\"#cccccc\" stroke-dasharray=\"0,0.682969\" stroke-linecap=\"round\" stroke-linejoin=\"round\" stroke-miterlimit=\"10.0375\" stroke-width=\"0.170717\"/>\n",
       "</g>\n",
       "<g transform=\"translate(340.228 337.677)scale(.996264)\">\n",
       "<path d=\"M213.751 569.411V.355659\" fill=\"none\" stroke=\"#cccccc\" stroke-dasharray=\"0,0.682969\" stroke-linecap=\"round\" stroke-linejoin=\"round\" stroke-miterlimit=\"10.0375\" stroke-width=\"0.170717\"/>\n",
       "</g>\n",
       "<g transform=\"translate(340.228 337.677)scale(.996264)\">\n",
       "<path d=\"M220.865 569.411V.355659\" fill=\"none\" stroke=\"#cccccc\" stroke-dasharray=\"0,0.682969\" stroke-linecap=\"round\" stroke-linejoin=\"round\" stroke-miterlimit=\"10.0375\" stroke-width=\"0.170717\"/>\n",
       "</g>\n",
       "<g transform=\"translate(340.228 337.677)scale(.996264)\">\n",
       "<path d=\"M227.978 569.411V.355659\" fill=\"none\" stroke=\"#cccccc\" stroke-linecap=\"round\" stroke-linejoin=\"round\" stroke-miterlimit=\"10.0375\" stroke-width=\"0.426791\"/>\n",
       "</g>\n",
       "<g transform=\"translate(340.228 337.677)scale(.996264)\">\n",
       "<path d=\"M235.091 569.411V.355659\" fill=\"none\" stroke=\"#cccccc\" stroke-dasharray=\"0,0.682969\" stroke-linecap=\"round\" stroke-linejoin=\"round\" stroke-miterlimit=\"10.0375\" stroke-width=\"0.170717\"/>\n",
       "</g>\n",
       "<g transform=\"translate(340.228 337.677)scale(.996264)\">\n",
       "<path d=\"M242.204 569.411V.355659\" fill=\"none\" stroke=\"#cccccc\" stroke-dasharray=\"0,0.682969\" stroke-linecap=\"round\" stroke-linejoin=\"round\" stroke-miterlimit=\"10.0375\" stroke-width=\"0.170717\"/>\n",
       "</g>\n",
       "<g transform=\"translate(340.228 337.677)scale(.996264)\">\n",
       "<path d=\"M249.317 569.411V.355659\" fill=\"none\" stroke=\"#cccccc\" stroke-dasharray=\"0,0.682969\" stroke-linecap=\"round\" stroke-linejoin=\"round\" stroke-miterlimit=\"10.0375\" stroke-width=\"0.170717\"/>\n",
       "</g>\n",
       "<g transform=\"translate(340.228 337.677)scale(.996264)\">\n",
       "<path d=\"M256.43 569.411V.355659\" fill=\"none\" stroke=\"#cccccc\" stroke-linecap=\"round\" stroke-linejoin=\"round\" stroke-miterlimit=\"10.0375\" stroke-width=\"0.426791\"/>\n",
       "</g>\n",
       "<g transform=\"translate(340.228 337.677)scale(.996264)\">\n",
       "<path d=\"M263.544 569.411V.355659\" fill=\"none\" stroke=\"#cccccc\" stroke-dasharray=\"0,0.682969\" stroke-linecap=\"round\" stroke-linejoin=\"round\" stroke-miterlimit=\"10.0375\" stroke-width=\"0.170717\"/>\n",
       "</g>\n",
       "<g transform=\"translate(340.228 337.677)scale(.996264)\">\n",
       "<path d=\"M270.657 569.411V.355659\" fill=\"none\" stroke=\"#cccccc\" stroke-dasharray=\"0,0.682969\" stroke-linecap=\"round\" stroke-linejoin=\"round\" stroke-miterlimit=\"10.0375\" stroke-width=\"0.170717\"/>\n",
       "</g>\n",
       "<g transform=\"translate(340.228 337.677)scale(.996264)\">\n",
       "<path d=\"M277.77 569.411V.355659\" fill=\"none\" stroke=\"#cccccc\" stroke-dasharray=\"0,0.682969\" stroke-linecap=\"round\" stroke-linejoin=\"round\" stroke-miterlimit=\"10.0375\" stroke-width=\"0.170717\"/>\n",
       "</g>\n",
       "<g transform=\"translate(340.228 337.677)scale(.996264)\">\n",
       "<path d=\"M284.883 569.411V.355659\" fill=\"none\" stroke=\"#cccccc\" stroke-linecap=\"round\" stroke-linejoin=\"round\" stroke-miterlimit=\"10.0375\" stroke-width=\"0.426791\"/>\n",
       "</g>\n",
       "<g transform=\"translate(340.228 337.677)scale(.996264)\">\n",
       "<path d=\"M291.996 569.411V.355659\" fill=\"none\" stroke=\"#cccccc\" stroke-dasharray=\"0,0.682969\" stroke-linecap=\"round\" stroke-linejoin=\"round\" stroke-miterlimit=\"10.0375\" stroke-width=\"0.170717\"/>\n",
       "</g>\n",
       "<g transform=\"translate(340.228 337.677)scale(.996264)\">\n",
       "<path d=\"M299.11 569.411V.355659\" fill=\"none\" stroke=\"#cccccc\" stroke-dasharray=\"0,0.682969\" stroke-linecap=\"round\" stroke-linejoin=\"round\" stroke-miterlimit=\"10.0375\" stroke-width=\"0.170717\"/>\n",
       "</g>\n",
       "<g transform=\"translate(340.228 337.677)scale(.996264)\">\n",
       "<path d=\"M306.223 569.411V.355659\" fill=\"none\" stroke=\"#cccccc\" stroke-dasharray=\"0,0.682969\" stroke-linecap=\"round\" stroke-linejoin=\"round\" stroke-miterlimit=\"10.0375\" stroke-width=\"0.170717\"/>\n",
       "</g>\n",
       "<g transform=\"translate(340.228 337.677)scale(.996264)\">\n",
       "<path d=\"M313.336 569.411V.355659\" fill=\"none\" stroke=\"#cccccc\" stroke-linecap=\"round\" stroke-linejoin=\"round\" stroke-miterlimit=\"10.0375\" stroke-width=\"0.426791\"/>\n",
       "</g>\n",
       "<g transform=\"translate(340.228 337.677)scale(.996264)\">\n",
       "<path d=\"M320.449 569.411V.355659\" fill=\"none\" stroke=\"#cccccc\" stroke-dasharray=\"0,0.682969\" stroke-linecap=\"round\" stroke-linejoin=\"round\" stroke-miterlimit=\"10.0375\" stroke-width=\"0.170717\"/>\n",
       "</g>\n",
       "<g transform=\"translate(340.228 337.677)scale(.996264)\">\n",
       "<path d=\"M327.562 569.411V.355659\" fill=\"none\" stroke=\"#cccccc\" stroke-dasharray=\"0,0.682969\" stroke-linecap=\"round\" stroke-linejoin=\"round\" stroke-miterlimit=\"10.0375\" stroke-width=\"0.170717\"/>\n",
       "</g>\n",
       "<g transform=\"translate(340.228 337.677)scale(.996264)\">\n",
       "<path d=\"M334.676 569.411V.355659\" fill=\"none\" stroke=\"#cccccc\" stroke-dasharray=\"0,0.682969\" stroke-linecap=\"round\" stroke-linejoin=\"round\" stroke-miterlimit=\"10.0375\" stroke-width=\"0.170717\"/>\n",
       "</g>\n",
       "<g transform=\"translate(340.228 337.677)scale(.996264)\">\n",
       "<path d=\"M341.789 569.411V.355659\" fill=\"none\" stroke=\"#cccccc\" stroke-linecap=\"round\" stroke-linejoin=\"round\" stroke-miterlimit=\"10.0375\" stroke-width=\"0.426791\"/>\n",
       "</g>\n",
       "<g transform=\"translate(340.228 337.677)scale(.996264)\">\n",
       "<path d=\"M348.902 569.411V.355659\" fill=\"none\" stroke=\"#cccccc\" stroke-dasharray=\"0,0.682969\" stroke-linecap=\"round\" stroke-linejoin=\"round\" stroke-miterlimit=\"10.0375\" stroke-width=\"0.170717\"/>\n",
       "</g>\n",
       "<g transform=\"translate(340.228 337.677)scale(.996264)\">\n",
       "<path d=\"M356.015 569.411V.355659\" fill=\"none\" stroke=\"#cccccc\" stroke-dasharray=\"0,0.682969\" stroke-linecap=\"round\" stroke-linejoin=\"round\" stroke-miterlimit=\"10.0375\" stroke-width=\"0.170717\"/>\n",
       "</g>\n",
       "<g transform=\"translate(340.228 337.677)scale(.996264)\">\n",
       "<path d=\"M363.128 569.411V.355659\" fill=\"none\" stroke=\"#cccccc\" stroke-dasharray=\"0,0.682969\" stroke-linecap=\"round\" stroke-linejoin=\"round\" stroke-miterlimit=\"10.0375\" stroke-width=\"0.170717\"/>\n",
       "</g>\n",
       "<g transform=\"translate(340.228 337.677)scale(.996264)\">\n",
       "<path d=\"M370.241 569.411V.355659\" fill=\"none\" stroke=\"#cccccc\" stroke-linecap=\"round\" stroke-linejoin=\"round\" stroke-miterlimit=\"10.0375\" stroke-width=\"0.426791\"/>\n",
       "</g>\n",
       "<g transform=\"translate(340.228 337.677)scale(.996264)\">\n",
       "<path d=\"M377.355 569.411V.355659\" fill=\"none\" stroke=\"#cccccc\" stroke-dasharray=\"0,0.682969\" stroke-linecap=\"round\" stroke-linejoin=\"round\" stroke-miterlimit=\"10.0375\" stroke-width=\"0.170717\"/>\n",
       "</g>\n",
       "<g transform=\"translate(340.228 337.677)scale(.996264)\">\n",
       "<path d=\"M384.468 569.411V.355659\" fill=\"none\" stroke=\"#cccccc\" stroke-dasharray=\"0,0.682969\" stroke-linecap=\"round\" stroke-linejoin=\"round\" stroke-miterlimit=\"10.0375\" stroke-width=\"0.170717\"/>\n",
       "</g>\n",
       "<g transform=\"translate(340.228 337.677)scale(.996264)\">\n",
       "<path d=\"M391.581 569.411V.355659\" fill=\"none\" stroke=\"#cccccc\" stroke-dasharray=\"0,0.682969\" stroke-linecap=\"round\" stroke-linejoin=\"round\" stroke-miterlimit=\"10.0375\" stroke-width=\"0.170717\"/>\n",
       "</g>\n",
       "<g transform=\"translate(340.228 337.677)scale(.996264)\">\n",
       "<path d=\"M398.694 569.411V.355659\" fill=\"none\" stroke=\"#cccccc\" stroke-linecap=\"round\" stroke-linejoin=\"round\" stroke-miterlimit=\"10.0375\" stroke-width=\"0.426791\"/>\n",
       "</g>\n",
       "<g transform=\"translate(340.228 337.677)scale(.996264)\">\n",
       "<path d=\"M405.807 569.411V.355659\" fill=\"none\" stroke=\"#cccccc\" stroke-dasharray=\"0,0.682969\" stroke-linecap=\"round\" stroke-linejoin=\"round\" stroke-miterlimit=\"10.0375\" stroke-width=\"0.170717\"/>\n",
       "</g>\n",
       "<g transform=\"translate(340.228 337.677)scale(.996264)\">\n",
       "<path d=\"M412.921 569.411V.355659\" fill=\"none\" stroke=\"#cccccc\" stroke-dasharray=\"0,0.682969\" stroke-linecap=\"round\" stroke-linejoin=\"round\" stroke-miterlimit=\"10.0375\" stroke-width=\"0.170717\"/>\n",
       "</g>\n",
       "<g transform=\"translate(340.228 337.677)scale(.996264)\">\n",
       "<path d=\"M420.034 569.411V.355659\" fill=\"none\" stroke=\"#cccccc\" stroke-dasharray=\"0,0.682969\" stroke-linecap=\"round\" stroke-linejoin=\"round\" stroke-miterlimit=\"10.0375\" stroke-width=\"0.170717\"/>\n",
       "</g>\n",
       "<g transform=\"translate(340.228 337.677)scale(.996264)\">\n",
       "<path d=\"M427.147 569.411V.355659\" fill=\"none\" stroke=\"#cccccc\" stroke-linecap=\"round\" stroke-linejoin=\"round\" stroke-miterlimit=\"10.0375\" stroke-width=\"0.426791\"/>\n",
       "</g>\n",
       "<g transform=\"translate(340.228 337.677)scale(.996264)\">\n",
       "<path d=\"M434.26 569.411V.355659\" fill=\"none\" stroke=\"#cccccc\" stroke-dasharray=\"0,0.682969\" stroke-linecap=\"round\" stroke-linejoin=\"round\" stroke-miterlimit=\"10.0375\" stroke-width=\"0.170717\"/>\n",
       "</g>\n",
       "<g transform=\"translate(340.228 337.677)scale(.996264)\">\n",
       "<path d=\"M441.373 569.411V.355659\" fill=\"none\" stroke=\"#cccccc\" stroke-dasharray=\"0,0.682969\" stroke-linecap=\"round\" stroke-linejoin=\"round\" stroke-miterlimit=\"10.0375\" stroke-width=\"0.170717\"/>\n",
       "</g>\n",
       "<g transform=\"translate(340.228 337.677)scale(.996264)\">\n",
       "<path d=\"M448.487 569.411V.355659\" fill=\"none\" stroke=\"#cccccc\" stroke-dasharray=\"0,0.682969\" stroke-linecap=\"round\" stroke-linejoin=\"round\" stroke-miterlimit=\"10.0375\" stroke-width=\"0.170717\"/>\n",
       "</g>\n",
       "<g transform=\"translate(340.228 337.677)scale(.996264)\">\n",
       "<path d=\"M455.6 569.411V.355659\" fill=\"none\" stroke=\"#cccccc\" stroke-linecap=\"round\" stroke-linejoin=\"round\" stroke-miterlimit=\"10.0375\" stroke-width=\"0.426791\"/>\n",
       "</g>\n",
       "<g transform=\"translate(340.228 337.677)scale(.996264)\">\n",
       "<path d=\"M462.713 569.411V.355659\" fill=\"none\" stroke=\"#cccccc\" stroke-dasharray=\"0,0.682969\" stroke-linecap=\"round\" stroke-linejoin=\"round\" stroke-miterlimit=\"10.0375\" stroke-width=\"0.170717\"/>\n",
       "</g>\n",
       "<g transform=\"translate(340.228 337.677)scale(.996264)\">\n",
       "<path d=\"M469.826 569.411V.355659\" fill=\"none\" stroke=\"#cccccc\" stroke-dasharray=\"0,0.682969\" stroke-linecap=\"round\" stroke-linejoin=\"round\" stroke-miterlimit=\"10.0375\" stroke-width=\"0.170717\"/>\n",
       "</g>\n",
       "<g transform=\"translate(340.228 337.677)scale(.996264)\">\n",
       "<path d=\"M476.939 569.411V.355659\" fill=\"none\" stroke=\"#cccccc\" stroke-dasharray=\"0,0.682969\" stroke-linecap=\"round\" stroke-linejoin=\"round\" stroke-miterlimit=\"10.0375\" stroke-width=\"0.170717\"/>\n",
       "</g>\n",
       "<g transform=\"translate(340.228 337.677)scale(.996264)\">\n",
       "<path d=\"M484.053 569.411V.355659\" fill=\"none\" stroke=\"#cccccc\" stroke-linecap=\"round\" stroke-linejoin=\"round\" stroke-miterlimit=\"10.0375\" stroke-width=\"0.426791\"/>\n",
       "</g>\n",
       "<g transform=\"translate(340.228 337.677)scale(.996264)\">\n",
       "<path d=\"M491.166 569.411V.355659\" fill=\"none\" stroke=\"#cccccc\" stroke-dasharray=\"0,0.682969\" stroke-linecap=\"round\" stroke-linejoin=\"round\" stroke-miterlimit=\"10.0375\" stroke-width=\"0.170717\"/>\n",
       "</g>\n",
       "<g transform=\"translate(340.228 337.677)scale(.996264)\">\n",
       "<path d=\"M498.279 569.411V.355659\" fill=\"none\" stroke=\"#cccccc\" stroke-dasharray=\"0,0.682969\" stroke-linecap=\"round\" stroke-linejoin=\"round\" stroke-miterlimit=\"10.0375\" stroke-width=\"0.170717\"/>\n",
       "</g>\n",
       "<g transform=\"translate(340.228 337.677)scale(.996264)\">\n",
       "<path d=\"M505.392 569.411V.355659\" fill=\"none\" stroke=\"#cccccc\" stroke-dasharray=\"0,0.682969\" stroke-linecap=\"round\" stroke-linejoin=\"round\" stroke-miterlimit=\"10.0375\" stroke-width=\"0.170717\"/>\n",
       "</g>\n",
       "<g transform=\"translate(340.228 337.677)scale(.996264)\">\n",
       "<path d=\"M512.505 569.411V.355659\" fill=\"none\" stroke=\"#cccccc\" stroke-linecap=\"round\" stroke-linejoin=\"round\" stroke-miterlimit=\"10.0375\" stroke-width=\"0.426791\"/>\n",
       "</g>\n",
       "<g transform=\"translate(340.228 337.677)scale(.996264)\">\n",
       "<path d=\"M519.618 569.411V.355659\" fill=\"none\" stroke=\"#cccccc\" stroke-dasharray=\"0,0.682969\" stroke-linecap=\"round\" stroke-linejoin=\"round\" stroke-miterlimit=\"10.0375\" stroke-width=\"0.170717\"/>\n",
       "</g>\n",
       "<g transform=\"translate(340.228 337.677)scale(.996264)\">\n",
       "<path d=\"M526.732 569.411V.355659\" fill=\"none\" stroke=\"#cccccc\" stroke-dasharray=\"0,0.682969\" stroke-linecap=\"round\" stroke-linejoin=\"round\" stroke-miterlimit=\"10.0375\" stroke-width=\"0.170717\"/>\n",
       "</g>\n",
       "<g transform=\"translate(340.228 337.677)scale(.996264)\">\n",
       "<path d=\"M533.845 569.411V.355659\" fill=\"none\" stroke=\"#cccccc\" stroke-dasharray=\"0,0.682969\" stroke-linecap=\"round\" stroke-linejoin=\"round\" stroke-miterlimit=\"10.0375\" stroke-width=\"0.170717\"/>\n",
       "</g>\n",
       "<g transform=\"translate(340.228 337.677)scale(.996264)\">\n",
       "<path d=\"M540.958 569.411V.355659\" fill=\"none\" stroke=\"#cccccc\" stroke-linecap=\"round\" stroke-linejoin=\"round\" stroke-miterlimit=\"10.0375\" stroke-width=\"0.426791\"/>\n",
       "</g>\n",
       "<g transform=\"translate(340.228 337.677)scale(.996264)\">\n",
       "<path d=\"M548.071 569.411V.355659\" fill=\"none\" stroke=\"#cccccc\" stroke-dasharray=\"0,0.682969\" stroke-linecap=\"round\" stroke-linejoin=\"round\" stroke-miterlimit=\"10.0375\" stroke-width=\"0.170717\"/>\n",
       "</g>\n",
       "<g transform=\"translate(340.228 337.677)scale(.996264)\">\n",
       "<path d=\"M555.184 569.411V.355659\" fill=\"none\" stroke=\"#cccccc\" stroke-dasharray=\"0,0.682969\" stroke-linecap=\"round\" stroke-linejoin=\"round\" stroke-miterlimit=\"10.0375\" stroke-width=\"0.170717\"/>\n",
       "</g>\n",
       "<g transform=\"translate(340.228 337.677)scale(.996264)\">\n",
       "<path d=\"M562.298 569.411V.355659\" fill=\"none\" stroke=\"#cccccc\" stroke-dasharray=\"0,0.682969\" stroke-linecap=\"round\" stroke-linejoin=\"round\" stroke-miterlimit=\"10.0375\" stroke-width=\"0.170717\"/>\n",
       "</g>\n",
       "<g transform=\"translate(340.228 337.677)scale(.996264)\">\n",
       "<path d=\"M569.411 569.411V.355659\" fill=\"none\" stroke=\"#cccccc\" stroke-linecap=\"round\" stroke-linejoin=\"round\" stroke-miterlimit=\"10.0375\" stroke-width=\"0.426791\"/>\n",
       "</g>\n",
       "<g transform=\"translate(340.228 337.677)scale(.996264)\">\n",
       "<path d=\"M.355659 569.411H569.411\" fill=\"none\" stroke=\"#cccccc\" stroke-linecap=\"round\" stroke-linejoin=\"round\" stroke-miterlimit=\"10.0375\" stroke-width=\"0.426791\"/>\n",
       "</g>\n",
       "<g transform=\"translate(340.228 337.677)scale(.996264)\">\n",
       "<path d=\"M.355659 562.298H569.411\" fill=\"none\" stroke=\"#cccccc\" stroke-dasharray=\"0,0.682969\" stroke-linecap=\"round\" stroke-linejoin=\"round\" stroke-miterlimit=\"10.0375\" stroke-width=\"0.170717\"/>\n",
       "</g>\n",
       "<g transform=\"translate(340.228 337.677)scale(.996264)\">\n",
       "<path d=\"M.355659 555.184H569.411\" fill=\"none\" stroke=\"#cccccc\" stroke-dasharray=\"0,0.682969\" stroke-linecap=\"round\" stroke-linejoin=\"round\" stroke-miterlimit=\"10.0375\" stroke-width=\"0.170717\"/>\n",
       "</g>\n",
       "<g transform=\"translate(340.228 337.677)scale(.996264)\">\n",
       "<path d=\"M.355659 548.071H569.411\" fill=\"none\" stroke=\"#cccccc\" stroke-dasharray=\"0,0.682969\" stroke-linecap=\"round\" stroke-linejoin=\"round\" stroke-miterlimit=\"10.0375\" stroke-width=\"0.170717\"/>\n",
       "</g>\n",
       "<g transform=\"translate(340.228 337.677)scale(.996264)\">\n",
       "<path d=\"M.355659 540.958H569.411\" fill=\"none\" stroke=\"#cccccc\" stroke-dasharray=\"0,0.682969\" stroke-linecap=\"round\" stroke-linejoin=\"round\" stroke-miterlimit=\"10.0375\" stroke-width=\"0.170717\"/>\n",
       "</g>\n",
       "<g transform=\"translate(340.228 337.677)scale(.996264)\">\n",
       "<path d=\"M.355659 540.958H569.411\" fill=\"none\" stroke=\"#cccccc\" stroke-linecap=\"round\" stroke-linejoin=\"round\" stroke-miterlimit=\"10.0375\" stroke-width=\"0.426791\"/>\n",
       "</g>\n",
       "<g transform=\"translate(340.228 337.677)scale(.996264)\">\n",
       "<path d=\"M.355659 533.845H569.411\" fill=\"none\" stroke=\"#cccccc\" stroke-dasharray=\"0,0.682969\" stroke-linecap=\"round\" stroke-linejoin=\"round\" stroke-miterlimit=\"10.0375\" stroke-width=\"0.170717\"/>\n",
       "</g>\n",
       "<g transform=\"translate(340.228 337.677)scale(.996264)\">\n",
       "<path d=\"M.355659 526.732H569.411\" fill=\"none\" stroke=\"#cccccc\" stroke-dasharray=\"0,0.682969\" stroke-linecap=\"round\" stroke-linejoin=\"round\" stroke-miterlimit=\"10.0375\" stroke-width=\"0.170717\"/>\n",
       "</g>\n",
       "<g transform=\"translate(340.228 337.677)scale(.996264)\">\n",
       "<path d=\"M.355659 519.618H569.411\" fill=\"none\" stroke=\"#cccccc\" stroke-dasharray=\"0,0.682969\" stroke-linecap=\"round\" stroke-linejoin=\"round\" stroke-miterlimit=\"10.0375\" stroke-width=\"0.170717\"/>\n",
       "</g>\n",
       "<g transform=\"translate(340.228 337.677)scale(.996264)\">\n",
       "<path d=\"M.355659 512.505H569.411\" fill=\"none\" stroke=\"#cccccc\" stroke-dasharray=\"0,0.682969\" stroke-linecap=\"round\" stroke-linejoin=\"round\" stroke-miterlimit=\"10.0375\" stroke-width=\"0.170717\"/>\n",
       "</g>\n",
       "<g transform=\"translate(340.228 337.677)scale(.996264)\">\n",
       "<path d=\"M.355659 512.505H569.411\" fill=\"none\" stroke=\"#cccccc\" stroke-linecap=\"round\" stroke-linejoin=\"round\" stroke-miterlimit=\"10.0375\" stroke-width=\"0.426791\"/>\n",
       "</g>\n",
       "<g transform=\"translate(340.228 337.677)scale(.996264)\">\n",
       "<path d=\"M.355659 505.392H569.411\" fill=\"none\" stroke=\"#cccccc\" stroke-dasharray=\"0,0.682969\" stroke-linecap=\"round\" stroke-linejoin=\"round\" stroke-miterlimit=\"10.0375\" stroke-width=\"0.170717\"/>\n",
       "</g>\n",
       "<g transform=\"translate(340.228 337.677)scale(.996264)\">\n",
       "<path d=\"M.355659 498.279H569.411\" fill=\"none\" stroke=\"#cccccc\" stroke-dasharray=\"0,0.682969\" stroke-linecap=\"round\" stroke-linejoin=\"round\" stroke-miterlimit=\"10.0375\" stroke-width=\"0.170717\"/>\n",
       "</g>\n",
       "<g transform=\"translate(340.228 337.677)scale(.996264)\">\n",
       "<path d=\"M.355659 491.166H569.411\" fill=\"none\" stroke=\"#cccccc\" stroke-dasharray=\"0,0.682969\" stroke-linecap=\"round\" stroke-linejoin=\"round\" stroke-miterlimit=\"10.0375\" stroke-width=\"0.170717\"/>\n",
       "</g>\n",
       "<g transform=\"translate(340.228 337.677)scale(.996264)\">\n",
       "<path d=\"M.355659 484.053H569.411\" fill=\"none\" stroke=\"#cccccc\" stroke-dasharray=\"0,0.682969\" stroke-linecap=\"round\" stroke-linejoin=\"round\" stroke-miterlimit=\"10.0375\" stroke-width=\"0.170717\"/>\n",
       "</g>\n",
       "<g transform=\"translate(340.228 337.677)scale(.996264)\">\n",
       "<path d=\"M.355659 484.053H569.411\" fill=\"none\" stroke=\"#cccccc\" stroke-linecap=\"round\" stroke-linejoin=\"round\" stroke-miterlimit=\"10.0375\" stroke-width=\"0.426791\"/>\n",
       "</g>\n",
       "<g transform=\"translate(340.228 337.677)scale(.996264)\">\n",
       "<path d=\"M.355659 476.939H569.411\" fill=\"none\" stroke=\"#cccccc\" stroke-dasharray=\"0,0.682969\" stroke-linecap=\"round\" stroke-linejoin=\"round\" stroke-miterlimit=\"10.0375\" stroke-width=\"0.170717\"/>\n",
       "</g>\n",
       "<g transform=\"translate(340.228 337.677)scale(.996264)\">\n",
       "<path d=\"M.355659 469.826H569.411\" fill=\"none\" stroke=\"#cccccc\" stroke-dasharray=\"0,0.682969\" stroke-linecap=\"round\" stroke-linejoin=\"round\" stroke-miterlimit=\"10.0375\" stroke-width=\"0.170717\"/>\n",
       "</g>\n",
       "<g transform=\"translate(340.228 337.677)scale(.996264)\">\n",
       "<path d=\"M.355659 462.713H569.411\" fill=\"none\" stroke=\"#cccccc\" stroke-dasharray=\"0,0.682969\" stroke-linecap=\"round\" stroke-linejoin=\"round\" stroke-miterlimit=\"10.0375\" stroke-width=\"0.170717\"/>\n",
       "</g>\n",
       "<g transform=\"translate(340.228 337.677)scale(.996264)\">\n",
       "<path d=\"M.355659 455.6H569.411\" fill=\"none\" stroke=\"#cccccc\" stroke-dasharray=\"0,0.682969\" stroke-linecap=\"round\" stroke-linejoin=\"round\" stroke-miterlimit=\"10.0375\" stroke-width=\"0.170717\"/>\n",
       "</g>\n",
       "<g transform=\"translate(340.228 337.677)scale(.996264)\">\n",
       "<path d=\"M.355659 455.6H569.411\" fill=\"none\" stroke=\"#cccccc\" stroke-linecap=\"round\" stroke-linejoin=\"round\" stroke-miterlimit=\"10.0375\" stroke-width=\"0.426791\"/>\n",
       "</g>\n",
       "<g transform=\"translate(340.228 337.677)scale(.996264)\">\n",
       "<path d=\"M.355659 448.487H569.411\" fill=\"none\" stroke=\"#cccccc\" stroke-dasharray=\"0,0.682969\" stroke-linecap=\"round\" stroke-linejoin=\"round\" stroke-miterlimit=\"10.0375\" stroke-width=\"0.170717\"/>\n",
       "</g>\n",
       "<g transform=\"translate(340.228 337.677)scale(.996264)\">\n",
       "<path d=\"M.355659 441.373H569.411\" fill=\"none\" stroke=\"#cccccc\" stroke-dasharray=\"0,0.682969\" stroke-linecap=\"round\" stroke-linejoin=\"round\" stroke-miterlimit=\"10.0375\" stroke-width=\"0.170717\"/>\n",
       "</g>\n",
       "<g transform=\"translate(340.228 337.677)scale(.996264)\">\n",
       "<path d=\"M.355659 434.26H569.411\" fill=\"none\" stroke=\"#cccccc\" stroke-dasharray=\"0,0.682969\" stroke-linecap=\"round\" stroke-linejoin=\"round\" stroke-miterlimit=\"10.0375\" stroke-width=\"0.170717\"/>\n",
       "</g>\n",
       "<g transform=\"translate(340.228 337.677)scale(.996264)\">\n",
       "<path d=\"M.355659 427.147H569.411\" fill=\"none\" stroke=\"#cccccc\" stroke-dasharray=\"0,0.682969\" stroke-linecap=\"round\" stroke-linejoin=\"round\" stroke-miterlimit=\"10.0375\" stroke-width=\"0.170717\"/>\n",
       "</g>\n",
       "<g transform=\"translate(340.228 337.677)scale(.996264)\">\n",
       "<path d=\"M.355659 427.147H569.411\" fill=\"none\" stroke=\"#cccccc\" stroke-linecap=\"round\" stroke-linejoin=\"round\" stroke-miterlimit=\"10.0375\" stroke-width=\"0.426791\"/>\n",
       "</g>\n",
       "<g transform=\"translate(340.228 337.677)scale(.996264)\">\n",
       "<path d=\"M.355659 420.034H569.411\" fill=\"none\" stroke=\"#cccccc\" stroke-dasharray=\"0,0.682969\" stroke-linecap=\"round\" stroke-linejoin=\"round\" stroke-miterlimit=\"10.0375\" stroke-width=\"0.170717\"/>\n",
       "</g>\n",
       "<g transform=\"translate(340.228 337.677)scale(.996264)\">\n",
       "<path d=\"M.355659 412.921H569.411\" fill=\"none\" stroke=\"#cccccc\" stroke-dasharray=\"0,0.682969\" stroke-linecap=\"round\" stroke-linejoin=\"round\" stroke-miterlimit=\"10.0375\" stroke-width=\"0.170717\"/>\n",
       "</g>\n",
       "<g transform=\"translate(340.228 337.677)scale(.996264)\">\n",
       "<path d=\"M.355659 405.807H569.411\" fill=\"none\" stroke=\"#cccccc\" stroke-dasharray=\"0,0.682969\" stroke-linecap=\"round\" stroke-linejoin=\"round\" stroke-miterlimit=\"10.0375\" stroke-width=\"0.170717\"/>\n",
       "</g>\n",
       "<g transform=\"translate(340.228 337.677)scale(.996264)\">\n",
       "<path d=\"M.355659 398.694H569.411\" fill=\"none\" stroke=\"#cccccc\" stroke-dasharray=\"0,0.682969\" stroke-linecap=\"round\" stroke-linejoin=\"round\" stroke-miterlimit=\"10.0375\" stroke-width=\"0.170717\"/>\n",
       "</g>\n",
       "<g transform=\"translate(340.228 337.677)scale(.996264)\">\n",
       "<path d=\"M.355659 398.694H569.411\" fill=\"none\" stroke=\"#cccccc\" stroke-linecap=\"round\" stroke-linejoin=\"round\" stroke-miterlimit=\"10.0375\" stroke-width=\"0.426791\"/>\n",
       "</g>\n",
       "<g transform=\"translate(340.228 337.677)scale(.996264)\">\n",
       "<path d=\"M.355659 391.581H569.411\" fill=\"none\" stroke=\"#cccccc\" stroke-dasharray=\"0,0.682969\" stroke-linecap=\"round\" stroke-linejoin=\"round\" stroke-miterlimit=\"10.0375\" stroke-width=\"0.170717\"/>\n",
       "</g>\n",
       "<g transform=\"translate(340.228 337.677)scale(.996264)\">\n",
       "<path d=\"M.355659 384.468H569.411\" fill=\"none\" stroke=\"#cccccc\" stroke-dasharray=\"0,0.682969\" stroke-linecap=\"round\" stroke-linejoin=\"round\" stroke-miterlimit=\"10.0375\" stroke-width=\"0.170717\"/>\n",
       "</g>\n",
       "<g transform=\"translate(340.228 337.677)scale(.996264)\">\n",
       "<path d=\"M.355659 377.355H569.411\" fill=\"none\" stroke=\"#cccccc\" stroke-dasharray=\"0,0.682969\" stroke-linecap=\"round\" stroke-linejoin=\"round\" stroke-miterlimit=\"10.0375\" stroke-width=\"0.170717\"/>\n",
       "</g>\n",
       "<g transform=\"translate(340.228 337.677)scale(.996264)\">\n",
       "<path d=\"M.355659 370.241H569.411\" fill=\"none\" stroke=\"#cccccc\" stroke-dasharray=\"0,0.682969\" stroke-linecap=\"round\" stroke-linejoin=\"round\" stroke-miterlimit=\"10.0375\" stroke-width=\"0.170717\"/>\n",
       "</g>\n",
       "<g transform=\"translate(340.228 337.677)scale(.996264)\">\n",
       "<path d=\"M.355659 370.241H569.411\" fill=\"none\" stroke=\"#cccccc\" stroke-linecap=\"round\" stroke-linejoin=\"round\" stroke-miterlimit=\"10.0375\" stroke-width=\"0.426791\"/>\n",
       "</g>\n",
       "<g transform=\"translate(340.228 337.677)scale(.996264)\">\n",
       "<path d=\"M.355659 363.128H569.411\" fill=\"none\" stroke=\"#cccccc\" stroke-dasharray=\"0,0.682969\" stroke-linecap=\"round\" stroke-linejoin=\"round\" stroke-miterlimit=\"10.0375\" stroke-width=\"0.170717\"/>\n",
       "</g>\n",
       "<g transform=\"translate(340.228 337.677)scale(.996264)\">\n",
       "<path d=\"M.355659 356.015H569.411\" fill=\"none\" stroke=\"#cccccc\" stroke-dasharray=\"0,0.682969\" stroke-linecap=\"round\" stroke-linejoin=\"round\" stroke-miterlimit=\"10.0375\" stroke-width=\"0.170717\"/>\n",
       "</g>\n",
       "<g transform=\"translate(340.228 337.677)scale(.996264)\">\n",
       "<path d=\"M.355659 348.902H569.411\" fill=\"none\" stroke=\"#cccccc\" stroke-dasharray=\"0,0.682969\" stroke-linecap=\"round\" stroke-linejoin=\"round\" stroke-miterlimit=\"10.0375\" stroke-width=\"0.170717\"/>\n",
       "</g>\n",
       "<g transform=\"translate(340.228 337.677)scale(.996264)\">\n",
       "<path d=\"M.355659 341.789H569.411\" fill=\"none\" stroke=\"#cccccc\" stroke-dasharray=\"0,0.682969\" stroke-linecap=\"round\" stroke-linejoin=\"round\" stroke-miterlimit=\"10.0375\" stroke-width=\"0.170717\"/>\n",
       "</g>\n",
       "<g transform=\"translate(340.228 337.677)scale(.996264)\">\n",
       "<path d=\"M.355659 341.789H569.411\" fill=\"none\" stroke=\"#cccccc\" stroke-linecap=\"round\" stroke-linejoin=\"round\" stroke-miterlimit=\"10.0375\" stroke-width=\"0.426791\"/>\n",
       "</g>\n",
       "<g transform=\"translate(340.228 337.677)scale(.996264)\">\n",
       "<path d=\"M.355659 334.676H569.411\" fill=\"none\" stroke=\"#cccccc\" stroke-dasharray=\"0,0.682969\" stroke-linecap=\"round\" stroke-linejoin=\"round\" stroke-miterlimit=\"10.0375\" stroke-width=\"0.170717\"/>\n",
       "</g>\n",
       "<g transform=\"translate(340.228 337.677)scale(.996264)\">\n",
       "<path d=\"M.355659 327.562H569.411\" fill=\"none\" stroke=\"#cccccc\" stroke-dasharray=\"0,0.682969\" stroke-linecap=\"round\" stroke-linejoin=\"round\" stroke-miterlimit=\"10.0375\" stroke-width=\"0.170717\"/>\n",
       "</g>\n",
       "<g transform=\"translate(340.228 337.677)scale(.996264)\">\n",
       "<path d=\"M.355659 320.449H569.411\" fill=\"none\" stroke=\"#cccccc\" stroke-dasharray=\"0,0.682969\" stroke-linecap=\"round\" stroke-linejoin=\"round\" stroke-miterlimit=\"10.0375\" stroke-width=\"0.170717\"/>\n",
       "</g>\n",
       "<g transform=\"translate(340.228 337.677)scale(.996264)\">\n",
       "<path d=\"M.355659 313.336H569.411\" fill=\"none\" stroke=\"#cccccc\" stroke-dasharray=\"0,0.682969\" stroke-linecap=\"round\" stroke-linejoin=\"round\" stroke-miterlimit=\"10.0375\" stroke-width=\"0.170717\"/>\n",
       "</g>\n",
       "<g transform=\"translate(340.228 337.677)scale(.996264)\">\n",
       "<path d=\"M.355659 313.336H569.411\" fill=\"none\" stroke=\"#cccccc\" stroke-linecap=\"round\" stroke-linejoin=\"round\" stroke-miterlimit=\"10.0375\" stroke-width=\"0.426791\"/>\n",
       "</g>\n",
       "<g transform=\"translate(340.228 337.677)scale(.996264)\">\n",
       "<path d=\"M.355659 306.223H569.411\" fill=\"none\" stroke=\"#cccccc\" stroke-dasharray=\"0,0.682969\" stroke-linecap=\"round\" stroke-linejoin=\"round\" stroke-miterlimit=\"10.0375\" stroke-width=\"0.170717\"/>\n",
       "</g>\n",
       "<g transform=\"translate(340.228 337.677)scale(.996264)\">\n",
       "<path d=\"M.355659 299.11H569.411\" fill=\"none\" stroke=\"#cccccc\" stroke-dasharray=\"0,0.682969\" stroke-linecap=\"round\" stroke-linejoin=\"round\" stroke-miterlimit=\"10.0375\" stroke-width=\"0.170717\"/>\n",
       "</g>\n",
       "<g transform=\"translate(340.228 337.677)scale(.996264)\">\n",
       "<path d=\"M.355659 291.996H569.411\" fill=\"none\" stroke=\"#cccccc\" stroke-dasharray=\"0,0.682969\" stroke-linecap=\"round\" stroke-linejoin=\"round\" stroke-miterlimit=\"10.0375\" stroke-width=\"0.170717\"/>\n",
       "</g>\n",
       "<g transform=\"translate(340.228 337.677)scale(.996264)\">\n",
       "<path d=\"M.355659 284.883H569.411\" fill=\"none\" stroke=\"#cccccc\" stroke-dasharray=\"0,0.682969\" stroke-linecap=\"round\" stroke-linejoin=\"round\" stroke-miterlimit=\"10.0375\" stroke-width=\"0.170717\"/>\n",
       "</g>\n",
       "<g transform=\"translate(340.228 337.677)scale(.996264)\">\n",
       "<path d=\"M.355659 284.883H569.411\" fill=\"none\" stroke=\"#cccccc\" stroke-linecap=\"round\" stroke-linejoin=\"round\" stroke-miterlimit=\"10.0375\" stroke-width=\"0.426791\"/>\n",
       "</g>\n",
       "<g transform=\"translate(340.228 337.677)scale(.996264)\">\n",
       "<path d=\"M.355659 277.77H569.411\" fill=\"none\" stroke=\"#cccccc\" stroke-dasharray=\"0,0.682969\" stroke-linecap=\"round\" stroke-linejoin=\"round\" stroke-miterlimit=\"10.0375\" stroke-width=\"0.170717\"/>\n",
       "</g>\n",
       "<g transform=\"translate(340.228 337.677)scale(.996264)\">\n",
       "<path d=\"M.355659 270.657H569.411\" fill=\"none\" stroke=\"#cccccc\" stroke-dasharray=\"0,0.682969\" stroke-linecap=\"round\" stroke-linejoin=\"round\" stroke-miterlimit=\"10.0375\" stroke-width=\"0.170717\"/>\n",
       "</g>\n",
       "<g transform=\"translate(340.228 337.677)scale(.996264)\">\n",
       "<path d=\"M.355659 263.544H569.411\" fill=\"none\" stroke=\"#cccccc\" stroke-dasharray=\"0,0.682969\" stroke-linecap=\"round\" stroke-linejoin=\"round\" stroke-miterlimit=\"10.0375\" stroke-width=\"0.170717\"/>\n",
       "</g>\n",
       "<g transform=\"translate(340.228 337.677)scale(.996264)\">\n",
       "<path d=\"M.355659 256.43H569.411\" fill=\"none\" stroke=\"#cccccc\" stroke-dasharray=\"0,0.682969\" stroke-linecap=\"round\" stroke-linejoin=\"round\" stroke-miterlimit=\"10.0375\" stroke-width=\"0.170717\"/>\n",
       "</g>\n",
       "<g transform=\"translate(340.228 337.677)scale(.996264)\">\n",
       "<path d=\"M.355659 256.43H569.411\" fill=\"none\" stroke=\"#cccccc\" stroke-linecap=\"round\" stroke-linejoin=\"round\" stroke-miterlimit=\"10.0375\" stroke-width=\"0.426791\"/>\n",
       "</g>\n",
       "<g transform=\"translate(340.228 337.677)scale(.996264)\">\n",
       "<path d=\"M.355659 249.317H569.411\" fill=\"none\" stroke=\"#cccccc\" stroke-dasharray=\"0,0.682969\" stroke-linecap=\"round\" stroke-linejoin=\"round\" stroke-miterlimit=\"10.0375\" stroke-width=\"0.170717\"/>\n",
       "</g>\n",
       "<g transform=\"translate(340.228 337.677)scale(.996264)\">\n",
       "<path d=\"M.355659 242.204H569.411\" fill=\"none\" stroke=\"#cccccc\" stroke-dasharray=\"0,0.682969\" stroke-linecap=\"round\" stroke-linejoin=\"round\" stroke-miterlimit=\"10.0375\" stroke-width=\"0.170717\"/>\n",
       "</g>\n",
       "<g transform=\"translate(340.228 337.677)scale(.996264)\">\n",
       "<path d=\"M.355659 235.091H569.411\" fill=\"none\" stroke=\"#cccccc\" stroke-dasharray=\"0,0.682969\" stroke-linecap=\"round\" stroke-linejoin=\"round\" stroke-miterlimit=\"10.0375\" stroke-width=\"0.170717\"/>\n",
       "</g>\n",
       "<g transform=\"translate(340.228 337.677)scale(.996264)\">\n",
       "<path d=\"M.355659 227.978H569.411\" fill=\"none\" stroke=\"#cccccc\" stroke-dasharray=\"0,0.682969\" stroke-linecap=\"round\" stroke-linejoin=\"round\" stroke-miterlimit=\"10.0375\" stroke-width=\"0.170717\"/>\n",
       "</g>\n",
       "<g transform=\"translate(340.228 337.677)scale(.996264)\">\n",
       "<path d=\"M.355659 227.978H569.411\" fill=\"none\" stroke=\"#cccccc\" stroke-linecap=\"round\" stroke-linejoin=\"round\" stroke-miterlimit=\"10.0375\" stroke-width=\"0.426791\"/>\n",
       "</g>\n",
       "<g transform=\"translate(340.228 337.677)scale(.996264)\">\n",
       "<path d=\"M.355659 220.865H569.411\" fill=\"none\" stroke=\"#cccccc\" stroke-dasharray=\"0,0.682969\" stroke-linecap=\"round\" stroke-linejoin=\"round\" stroke-miterlimit=\"10.0375\" stroke-width=\"0.170717\"/>\n",
       "</g>\n",
       "<g transform=\"translate(340.228 337.677)scale(.996264)\">\n",
       "<path d=\"M.355659 213.751H569.411\" fill=\"none\" stroke=\"#cccccc\" stroke-dasharray=\"0,0.682969\" stroke-linecap=\"round\" stroke-linejoin=\"round\" stroke-miterlimit=\"10.0375\" stroke-width=\"0.170717\"/>\n",
       "</g>\n",
       "<g transform=\"translate(340.228 337.677)scale(.996264)\">\n",
       "<path d=\"M.355659 206.638H569.411\" fill=\"none\" stroke=\"#cccccc\" stroke-dasharray=\"0,0.682969\" stroke-linecap=\"round\" stroke-linejoin=\"round\" stroke-miterlimit=\"10.0375\" stroke-width=\"0.170717\"/>\n",
       "</g>\n",
       "<g transform=\"translate(340.228 337.677)scale(.996264)\">\n",
       "<path d=\"M.355659 199.525H569.411\" fill=\"none\" stroke=\"#cccccc\" stroke-dasharray=\"0,0.682969\" stroke-linecap=\"round\" stroke-linejoin=\"round\" stroke-miterlimit=\"10.0375\" stroke-width=\"0.170717\"/>\n",
       "</g>\n",
       "<g transform=\"translate(340.228 337.677)scale(.996264)\">\n",
       "<path d=\"M.355659 199.525H569.411\" fill=\"none\" stroke=\"#cccccc\" stroke-linecap=\"round\" stroke-linejoin=\"round\" stroke-miterlimit=\"10.0375\" stroke-width=\"0.426791\"/>\n",
       "</g>\n",
       "<g transform=\"translate(340.228 337.677)scale(.996264)\">\n",
       "<path d=\"M.355659 192.412H569.411\" fill=\"none\" stroke=\"#cccccc\" stroke-dasharray=\"0,0.682969\" stroke-linecap=\"round\" stroke-linejoin=\"round\" stroke-miterlimit=\"10.0375\" stroke-width=\"0.170717\"/>\n",
       "</g>\n",
       "<g transform=\"translate(340.228 337.677)scale(.996264)\">\n",
       "<path d=\"M.355659 185.299H569.411\" fill=\"none\" stroke=\"#cccccc\" stroke-dasharray=\"0,0.682969\" stroke-linecap=\"round\" stroke-linejoin=\"round\" stroke-miterlimit=\"10.0375\" stroke-width=\"0.170717\"/>\n",
       "</g>\n",
       "<g transform=\"translate(340.228 337.677)scale(.996264)\">\n",
       "<path d=\"M.355659 178.185H569.411\" fill=\"none\" stroke=\"#cccccc\" stroke-dasharray=\"0,0.682969\" stroke-linecap=\"round\" stroke-linejoin=\"round\" stroke-miterlimit=\"10.0375\" stroke-width=\"0.170717\"/>\n",
       "</g>\n",
       "<g transform=\"translate(340.228 337.677)scale(.996264)\">\n",
       "<path d=\"M.355659 171.072H569.411\" fill=\"none\" stroke=\"#cccccc\" stroke-dasharray=\"0,0.682969\" stroke-linecap=\"round\" stroke-linejoin=\"round\" stroke-miterlimit=\"10.0375\" stroke-width=\"0.170717\"/>\n",
       "</g>\n",
       "<g transform=\"translate(340.228 337.677)scale(.996264)\">\n",
       "<path d=\"M.355659 171.072H569.411\" fill=\"none\" stroke=\"#cccccc\" stroke-linecap=\"round\" stroke-linejoin=\"round\" stroke-miterlimit=\"10.0375\" stroke-width=\"0.426791\"/>\n",
       "</g>\n",
       "<g transform=\"translate(340.228 337.677)scale(.996264)\">\n",
       "<path d=\"M.355659 163.959H569.411\" fill=\"none\" stroke=\"#cccccc\" stroke-dasharray=\"0,0.682969\" stroke-linecap=\"round\" stroke-linejoin=\"round\" stroke-miterlimit=\"10.0375\" stroke-width=\"0.170717\"/>\n",
       "</g>\n",
       "<g transform=\"translate(340.228 337.677)scale(.996264)\">\n",
       "<path d=\"M.355659 156.846H569.411\" fill=\"none\" stroke=\"#cccccc\" stroke-dasharray=\"0,0.682969\" stroke-linecap=\"round\" stroke-linejoin=\"round\" stroke-miterlimit=\"10.0375\" stroke-width=\"0.170717\"/>\n",
       "</g>\n",
       "<g transform=\"translate(340.228 337.677)scale(.996264)\">\n",
       "<path d=\"M.355659 149.733H569.411\" fill=\"none\" stroke=\"#cccccc\" stroke-dasharray=\"0,0.682969\" stroke-linecap=\"round\" stroke-linejoin=\"round\" stroke-miterlimit=\"10.0375\" stroke-width=\"0.170717\"/>\n",
       "</g>\n",
       "<g transform=\"translate(340.228 337.677)scale(.996264)\">\n",
       "<path d=\"M.355659 142.619H569.411\" fill=\"none\" stroke=\"#cccccc\" stroke-dasharray=\"0,0.682969\" stroke-linecap=\"round\" stroke-linejoin=\"round\" stroke-miterlimit=\"10.0375\" stroke-width=\"0.170717\"/>\n",
       "</g>\n",
       "<g transform=\"translate(340.228 337.677)scale(.996264)\">\n",
       "<path d=\"M.355659 142.619H569.411\" fill=\"none\" stroke=\"#cccccc\" stroke-linecap=\"round\" stroke-linejoin=\"round\" stroke-miterlimit=\"10.0375\" stroke-width=\"0.426791\"/>\n",
       "</g>\n",
       "<g transform=\"translate(340.228 337.677)scale(.996264)\">\n",
       "<path d=\"M.355659 135.506H569.411\" fill=\"none\" stroke=\"#cccccc\" stroke-dasharray=\"0,0.682969\" stroke-linecap=\"round\" stroke-linejoin=\"round\" stroke-miterlimit=\"10.0375\" stroke-width=\"0.170717\"/>\n",
       "</g>\n",
       "<g transform=\"translate(340.228 337.677)scale(.996264)\">\n",
       "<path d=\"M.355659 128.393H569.411\" fill=\"none\" stroke=\"#cccccc\" stroke-dasharray=\"0,0.682969\" stroke-linecap=\"round\" stroke-linejoin=\"round\" stroke-miterlimit=\"10.0375\" stroke-width=\"0.170717\"/>\n",
       "</g>\n",
       "<g transform=\"translate(340.228 337.677)scale(.996264)\">\n",
       "<path d=\"M.355659 121.28H569.411\" fill=\"none\" stroke=\"#cccccc\" stroke-dasharray=\"0,0.682969\" stroke-linecap=\"round\" stroke-linejoin=\"round\" stroke-miterlimit=\"10.0375\" stroke-width=\"0.170717\"/>\n",
       "</g>\n",
       "<g transform=\"translate(340.228 337.677)scale(.996264)\">\n",
       "<path d=\"M.355659 114.167H569.411\" fill=\"none\" stroke=\"#cccccc\" stroke-dasharray=\"0,0.682969\" stroke-linecap=\"round\" stroke-linejoin=\"round\" stroke-miterlimit=\"10.0375\" stroke-width=\"0.170717\"/>\n",
       "</g>\n",
       "<g transform=\"translate(340.228 337.677)scale(.996264)\">\n",
       "<path d=\"M.355659 114.167H569.411\" fill=\"none\" stroke=\"#cccccc\" stroke-linecap=\"round\" stroke-linejoin=\"round\" stroke-miterlimit=\"10.0375\" stroke-width=\"0.426791\"/>\n",
       "</g>\n",
       "<g transform=\"translate(340.228 337.677)scale(.996264)\">\n",
       "<path d=\"M.355659 107.053H569.411\" fill=\"none\" stroke=\"#cccccc\" stroke-dasharray=\"0,0.682969\" stroke-linecap=\"round\" stroke-linejoin=\"round\" stroke-miterlimit=\"10.0375\" stroke-width=\"0.170717\"/>\n",
       "</g>\n",
       "<g transform=\"translate(340.228 337.677)scale(.996264)\">\n",
       "<path d=\"M.355659 99.9403H569.411\" fill=\"none\" stroke=\"#cccccc\" stroke-dasharray=\"0,0.682969\" stroke-linecap=\"round\" stroke-linejoin=\"round\" stroke-miterlimit=\"10.0375\" stroke-width=\"0.170717\"/>\n",
       "</g>\n",
       "<g transform=\"translate(340.228 337.677)scale(.996264)\">\n",
       "<path d=\"M.355659 92.8271H569.411\" fill=\"none\" stroke=\"#cccccc\" stroke-dasharray=\"0,0.682969\" stroke-linecap=\"round\" stroke-linejoin=\"round\" stroke-miterlimit=\"10.0375\" stroke-width=\"0.170717\"/>\n",
       "</g>\n",
       "<g transform=\"translate(340.228 337.677)scale(.996264)\">\n",
       "<path d=\"M.355659 85.7139H569.411\" fill=\"none\" stroke=\"#cccccc\" stroke-dasharray=\"0,0.682969\" stroke-linecap=\"round\" stroke-linejoin=\"round\" stroke-miterlimit=\"10.0375\" stroke-width=\"0.170717\"/>\n",
       "</g>\n",
       "<g transform=\"translate(340.228 337.677)scale(.996264)\">\n",
       "<path d=\"M.355659 85.7139H569.411\" fill=\"none\" stroke=\"#cccccc\" stroke-linecap=\"round\" stroke-linejoin=\"round\" stroke-miterlimit=\"10.0375\" stroke-width=\"0.426791\"/>\n",
       "</g>\n",
       "<g transform=\"translate(340.228 337.677)scale(.996264)\">\n",
       "<path d=\"M.355659 78.6007H569.411\" fill=\"none\" stroke=\"#cccccc\" stroke-dasharray=\"0,0.682969\" stroke-linecap=\"round\" stroke-linejoin=\"round\" stroke-miterlimit=\"10.0375\" stroke-width=\"0.170717\"/>\n",
       "</g>\n",
       "<g transform=\"translate(340.228 337.677)scale(.996264)\">\n",
       "<path d=\"M.355659 71.4875H569.411\" fill=\"none\" stroke=\"#cccccc\" stroke-dasharray=\"0,0.682969\" stroke-linecap=\"round\" stroke-linejoin=\"round\" stroke-miterlimit=\"10.0375\" stroke-width=\"0.170717\"/>\n",
       "</g>\n",
       "<g transform=\"translate(340.228 337.677)scale(.996264)\">\n",
       "<path d=\"M.355659 64.3744H569.411\" fill=\"none\" stroke=\"#cccccc\" stroke-dasharray=\"0,0.682969\" stroke-linecap=\"round\" stroke-linejoin=\"round\" stroke-miterlimit=\"10.0375\" stroke-width=\"0.170717\"/>\n",
       "</g>\n",
       "<g transform=\"translate(340.228 337.677)scale(.996264)\">\n",
       "<path d=\"M.355659 57.2612H569.411\" fill=\"none\" stroke=\"#cccccc\" stroke-dasharray=\"0,0.682969\" stroke-linecap=\"round\" stroke-linejoin=\"round\" stroke-miterlimit=\"10.0375\" stroke-width=\"0.170717\"/>\n",
       "</g>\n",
       "<g transform=\"translate(340.228 337.677)scale(.996264)\">\n",
       "<path d=\"M.355659 57.2612H569.411\" fill=\"none\" stroke=\"#cccccc\" stroke-linecap=\"round\" stroke-linejoin=\"round\" stroke-miterlimit=\"10.0375\" stroke-width=\"0.426791\"/>\n",
       "</g>\n",
       "<g transform=\"translate(340.228 337.677)scale(.996264)\">\n",
       "<path d=\"M.355659 50.148H569.411\" fill=\"none\" stroke=\"#cccccc\" stroke-dasharray=\"0,0.682969\" stroke-linecap=\"round\" stroke-linejoin=\"round\" stroke-miterlimit=\"10.0375\" stroke-width=\"0.170717\"/>\n",
       "</g>\n",
       "<g transform=\"translate(340.228 337.677)scale(.996264)\">\n",
       "<path d=\"M.355659 43.0348H569.411\" fill=\"none\" stroke=\"#cccccc\" stroke-dasharray=\"0,0.682969\" stroke-linecap=\"round\" stroke-linejoin=\"round\" stroke-miterlimit=\"10.0375\" stroke-width=\"0.170717\"/>\n",
       "</g>\n",
       "<g transform=\"translate(340.228 337.677)scale(.996264)\">\n",
       "<path d=\"M.355659 35.9216H569.411\" fill=\"none\" stroke=\"#cccccc\" stroke-dasharray=\"0,0.682969\" stroke-linecap=\"round\" stroke-linejoin=\"round\" stroke-miterlimit=\"10.0375\" stroke-width=\"0.170717\"/>\n",
       "</g>\n",
       "<g transform=\"translate(340.228 337.677)scale(.996264)\">\n",
       "<path d=\"M.355659 28.8084H569.411\" fill=\"none\" stroke=\"#cccccc\" stroke-dasharray=\"0,0.682969\" stroke-linecap=\"round\" stroke-linejoin=\"round\" stroke-miterlimit=\"10.0375\" stroke-width=\"0.170717\"/>\n",
       "</g>\n",
       "<g transform=\"translate(340.228 337.677)scale(.996264)\">\n",
       "<path d=\"M.355659 28.8084H569.411\" fill=\"none\" stroke=\"#cccccc\" stroke-linecap=\"round\" stroke-linejoin=\"round\" stroke-miterlimit=\"10.0375\" stroke-width=\"0.426791\"/>\n",
       "</g>\n",
       "<g transform=\"translate(340.228 337.677)scale(.996264)\">\n",
       "<path d=\"M.355659 21.6952H569.411\" fill=\"none\" stroke=\"#cccccc\" stroke-dasharray=\"0,0.682969\" stroke-linecap=\"round\" stroke-linejoin=\"round\" stroke-miterlimit=\"10.0375\" stroke-width=\"0.170717\"/>\n",
       "</g>\n",
       "<g transform=\"translate(340.228 337.677)scale(.996264)\">\n",
       "<path d=\"M.355659 14.582H569.411\" fill=\"none\" stroke=\"#cccccc\" stroke-dasharray=\"0,0.682969\" stroke-linecap=\"round\" stroke-linejoin=\"round\" stroke-miterlimit=\"10.0375\" stroke-width=\"0.170717\"/>\n",
       "</g>\n",
       "<g transform=\"translate(340.228 337.677)scale(.996264)\">\n",
       "<path d=\"M.355659 7.46885H569.411\" fill=\"none\" stroke=\"#cccccc\" stroke-dasharray=\"0,0.682969\" stroke-linecap=\"round\" stroke-linejoin=\"round\" stroke-miterlimit=\"10.0375\" stroke-width=\"0.170717\"/>\n",
       "</g>\n",
       "<g transform=\"translate(340.228 337.677)scale(.996264)\">\n",
       "<path d=\"M.355659 .355659H569.411\" fill=\"none\" stroke=\"#cccccc\" stroke-dasharray=\"0,0.682969\" stroke-linecap=\"round\" stroke-linejoin=\"round\" stroke-miterlimit=\"10.0375\" stroke-width=\"0.170717\"/>\n",
       "</g>\n",
       "<g transform=\"translate(340.228 337.677)scale(.996264)\">\n",
       "<path d=\"M.355659 .355659H569.411\" fill=\"none\" stroke=\"#cccccc\" stroke-linecap=\"round\" stroke-linejoin=\"round\" stroke-miterlimit=\"10.0375\" stroke-width=\"0.426791\"/>\n",
       "</g>\n",
       "<g transform=\"translate(340.228 337.677)scale(.996264)\">\n",
       "<path d=\"M.355659 284.883H569.411\" fill=\"none\" stroke=\"#000000\" stroke-linecap=\"round\" stroke-linejoin=\"round\" stroke-miterlimit=\"10.0375\" stroke-width=\"0.711319\"/>\n",
       "</g>\n",
       "<g transform=\"translate(340.228 337.677)scale(.996264)\">\n",
       "<path d=\"M284.883 569.411V.355659\" fill=\"none\" stroke=\"#000000\" stroke-linecap=\"round\" stroke-linejoin=\"round\" stroke-miterlimit=\"10.0375\" stroke-width=\"0.711319\"/>\n",
       "</g>\n",
       "<g transform=\"translate(340.228 337.677)scale(.996264)\">\n",
       "<path d=\"M28.8084 284.883V289.151\" fill=\"none\" stroke=\"#000000\" stroke-linecap=\"round\" stroke-linejoin=\"round\" stroke-miterlimit=\"10.0375\" stroke-width=\"0.711319\"/>\n",
       "</g>\n",
       "<use x=\"361.357221\" y=\"637.094234\" xlink:href=\"#g0-0\"/>\n",
       "<use x=\"370.655718\" y=\"637.094234\" xlink:href=\"#g1-57\"/>\n",
       "<g transform=\"translate(340.228 337.677)scale(.996264)\">\n",
       "<path d=\"M35.9216 284.883V287.017\" fill=\"none\" stroke=\"#000000\" stroke-linecap=\"round\" stroke-linejoin=\"round\" stroke-miterlimit=\"10.0375\" stroke-width=\"0.426791\"/>\n",
       "</g>\n",
       "<g transform=\"translate(340.228 337.677)scale(.996264)\">\n",
       "<path d=\"M43.0348 284.883V287.017\" fill=\"none\" stroke=\"#000000\" stroke-linecap=\"round\" stroke-linejoin=\"round\" stroke-miterlimit=\"10.0375\" stroke-width=\"0.426791\"/>\n",
       "</g>\n",
       "<g transform=\"translate(340.228 337.677)scale(.996264)\">\n",
       "<path d=\"M50.148 284.883V287.017\" fill=\"none\" stroke=\"#000000\" stroke-linecap=\"round\" stroke-linejoin=\"round\" stroke-miterlimit=\"10.0375\" stroke-width=\"0.426791\"/>\n",
       "</g>\n",
       "<g transform=\"translate(340.228 337.677)scale(.996264)\">\n",
       "<path d=\"M57.2612 284.883V289.151\" fill=\"none\" stroke=\"#000000\" stroke-linecap=\"round\" stroke-linejoin=\"round\" stroke-miterlimit=\"10.0375\" stroke-width=\"0.711319\"/>\n",
       "</g>\n",
       "<use x=\"389.703681\" y=\"637.094234\" xlink:href=\"#g0-0\"/>\n",
       "<use x=\"399.002178\" y=\"637.094234\" xlink:href=\"#g1-56\"/>\n",
       "<g transform=\"translate(340.228 337.677)scale(.996264)\">\n",
       "<path d=\"M64.3744 284.883V287.017\" fill=\"none\" stroke=\"#000000\" stroke-linecap=\"round\" stroke-linejoin=\"round\" stroke-miterlimit=\"10.0375\" stroke-width=\"0.426791\"/>\n",
       "</g>\n",
       "<g transform=\"translate(340.228 337.677)scale(.996264)\">\n",
       "<path d=\"M71.4875 284.883V287.017\" fill=\"none\" stroke=\"#000000\" stroke-linecap=\"round\" stroke-linejoin=\"round\" stroke-miterlimit=\"10.0375\" stroke-width=\"0.426791\"/>\n",
       "</g>\n",
       "<g transform=\"translate(340.228 337.677)scale(.996264)\">\n",
       "<path d=\"M78.6007 284.883V287.017\" fill=\"none\" stroke=\"#000000\" stroke-linecap=\"round\" stroke-linejoin=\"round\" stroke-miterlimit=\"10.0375\" stroke-width=\"0.426791\"/>\n",
       "</g>\n",
       "<g transform=\"translate(340.228 337.677)scale(.996264)\">\n",
       "<path d=\"M85.7139 284.883V289.151\" fill=\"none\" stroke=\"#000000\" stroke-linecap=\"round\" stroke-linejoin=\"round\" stroke-miterlimit=\"10.0375\" stroke-width=\"0.711319\"/>\n",
       "</g>\n",
       "<use x=\"418.05014\" y=\"637.094234\" xlink:href=\"#g0-0\"/>\n",
       "<use x=\"427.348637\" y=\"637.094234\" xlink:href=\"#g1-55\"/>\n",
       "<g transform=\"translate(340.228 337.677)scale(.996264)\">\n",
       "<path d=\"M92.8271 284.883V287.017\" fill=\"none\" stroke=\"#000000\" stroke-linecap=\"round\" stroke-linejoin=\"round\" stroke-miterlimit=\"10.0375\" stroke-width=\"0.426791\"/>\n",
       "</g>\n",
       "<g transform=\"translate(340.228 337.677)scale(.996264)\">\n",
       "<path d=\"M99.9403 284.883V287.017\" fill=\"none\" stroke=\"#000000\" stroke-linecap=\"round\" stroke-linejoin=\"round\" stroke-miterlimit=\"10.0375\" stroke-width=\"0.426791\"/>\n",
       "</g>\n",
       "<g transform=\"translate(340.228 337.677)scale(.996264)\">\n",
       "<path d=\"M107.053 284.883V287.017\" fill=\"none\" stroke=\"#000000\" stroke-linecap=\"round\" stroke-linejoin=\"round\" stroke-miterlimit=\"10.0375\" stroke-width=\"0.426791\"/>\n",
       "</g>\n",
       "<g transform=\"translate(340.228 337.677)scale(.996264)\">\n",
       "<path d=\"M114.167 284.883V289.151\" fill=\"none\" stroke=\"#000000\" stroke-linecap=\"round\" stroke-linejoin=\"round\" stroke-miterlimit=\"10.0375\" stroke-width=\"0.711319\"/>\n",
       "</g>\n",
       "<use x=\"446.396585\" y=\"637.094234\" xlink:href=\"#g0-0\"/>\n",
       "<use x=\"455.695082\" y=\"637.094234\" xlink:href=\"#g1-54\"/>\n",
       "<g transform=\"translate(340.228 337.677)scale(.996264)\">\n",
       "<path d=\"M121.28 284.883V287.017\" fill=\"none\" stroke=\"#000000\" stroke-linecap=\"round\" stroke-linejoin=\"round\" stroke-miterlimit=\"10.0375\" stroke-width=\"0.426791\"/>\n",
       "</g>\n",
       "<g transform=\"translate(340.228 337.677)scale(.996264)\">\n",
       "<path d=\"M128.393 284.883V287.017\" fill=\"none\" stroke=\"#000000\" stroke-linecap=\"round\" stroke-linejoin=\"round\" stroke-miterlimit=\"10.0375\" stroke-width=\"0.426791\"/>\n",
       "</g>\n",
       "<g transform=\"translate(340.228 337.677)scale(.996264)\">\n",
       "<path d=\"M135.506 284.883V287.017\" fill=\"none\" stroke=\"#000000\" stroke-linecap=\"round\" stroke-linejoin=\"round\" stroke-miterlimit=\"10.0375\" stroke-width=\"0.426791\"/>\n",
       "</g>\n",
       "<g transform=\"translate(340.228 337.677)scale(.996264)\">\n",
       "<path d=\"M142.619 284.883V289.151\" fill=\"none\" stroke=\"#000000\" stroke-linecap=\"round\" stroke-linejoin=\"round\" stroke-miterlimit=\"10.0375\" stroke-width=\"0.711319\"/>\n",
       "</g>\n",
       "<use x=\"474.743044\" y=\"637.094234\" xlink:href=\"#g0-0\"/>\n",
       "<use x=\"484.041541\" y=\"637.094234\" xlink:href=\"#g1-53\"/>\n",
       "<g transform=\"translate(340.228 337.677)scale(.996264)\">\n",
       "<path d=\"M149.733 284.883V287.017\" fill=\"none\" stroke=\"#000000\" stroke-linecap=\"round\" stroke-linejoin=\"round\" stroke-miterlimit=\"10.0375\" stroke-width=\"0.426791\"/>\n",
       "</g>\n",
       "<g transform=\"translate(340.228 337.677)scale(.996264)\">\n",
       "<path d=\"M156.846 284.883V287.017\" fill=\"none\" stroke=\"#000000\" stroke-linecap=\"round\" stroke-linejoin=\"round\" stroke-miterlimit=\"10.0375\" stroke-width=\"0.426791\"/>\n",
       "</g>\n",
       "<g transform=\"translate(340.228 337.677)scale(.996264)\">\n",
       "<path d=\"M163.959 284.883V287.017\" fill=\"none\" stroke=\"#000000\" stroke-linecap=\"round\" stroke-linejoin=\"round\" stroke-miterlimit=\"10.0375\" stroke-width=\"0.426791\"/>\n",
       "</g>\n",
       "<g transform=\"translate(340.228 337.677)scale(.996264)\">\n",
       "<path d=\"M171.072 284.883V289.151\" fill=\"none\" stroke=\"#000000\" stroke-linecap=\"round\" stroke-linejoin=\"round\" stroke-miterlimit=\"10.0375\" stroke-width=\"0.711319\"/>\n",
       "</g>\n",
       "<use x=\"503.089504\" y=\"637.094234\" xlink:href=\"#g0-0\"/>\n",
       "<use x=\"512.388001\" y=\"637.094234\" xlink:href=\"#g1-52\"/>\n",
       "<g transform=\"translate(340.228 337.677)scale(.996264)\">\n",
       "<path d=\"M178.185 284.883V287.017\" fill=\"none\" stroke=\"#000000\" stroke-linecap=\"round\" stroke-linejoin=\"round\" stroke-miterlimit=\"10.0375\" stroke-width=\"0.426791\"/>\n",
       "</g>\n",
       "<g transform=\"translate(340.228 337.677)scale(.996264)\">\n",
       "<path d=\"M185.299 284.883V287.017\" fill=\"none\" stroke=\"#000000\" stroke-linecap=\"round\" stroke-linejoin=\"round\" stroke-miterlimit=\"10.0375\" stroke-width=\"0.426791\"/>\n",
       "</g>\n",
       "<g transform=\"translate(340.228 337.677)scale(.996264)\">\n",
       "<path d=\"M192.412 284.883V287.017\" fill=\"none\" stroke=\"#000000\" stroke-linecap=\"round\" stroke-linejoin=\"round\" stroke-miterlimit=\"10.0375\" stroke-width=\"0.426791\"/>\n",
       "</g>\n",
       "<g transform=\"translate(340.228 337.677)scale(.996264)\">\n",
       "<path d=\"M199.525 284.883V289.151\" fill=\"none\" stroke=\"#000000\" stroke-linecap=\"round\" stroke-linejoin=\"round\" stroke-miterlimit=\"10.0375\" stroke-width=\"0.711319\"/>\n",
       "</g>\n",
       "<use x=\"531.435963\" y=\"637.094234\" xlink:href=\"#g0-0\"/>\n",
       "<use x=\"540.73446\" y=\"637.094234\" xlink:href=\"#g1-51\"/>\n",
       "<g transform=\"translate(340.228 337.677)scale(.996264)\">\n",
       "<path d=\"M206.638 284.883V287.017\" fill=\"none\" stroke=\"#000000\" stroke-linecap=\"round\" stroke-linejoin=\"round\" stroke-miterlimit=\"10.0375\" stroke-width=\"0.426791\"/>\n",
       "</g>\n",
       "<g transform=\"translate(340.228 337.677)scale(.996264)\">\n",
       "<path d=\"M213.751 284.883V287.017\" fill=\"none\" stroke=\"#000000\" stroke-linecap=\"round\" stroke-linejoin=\"round\" stroke-miterlimit=\"10.0375\" stroke-width=\"0.426791\"/>\n",
       "</g>\n",
       "<g transform=\"translate(340.228 337.677)scale(.996264)\">\n",
       "<path d=\"M220.865 284.883V287.017\" fill=\"none\" stroke=\"#000000\" stroke-linecap=\"round\" stroke-linejoin=\"round\" stroke-miterlimit=\"10.0375\" stroke-width=\"0.426791\"/>\n",
       "</g>\n",
       "<g transform=\"translate(340.228 337.677)scale(.996264)\">\n",
       "<path d=\"M227.978 284.883V289.151\" fill=\"none\" stroke=\"#000000\" stroke-linecap=\"round\" stroke-linejoin=\"round\" stroke-miterlimit=\"10.0375\" stroke-width=\"0.711319\"/>\n",
       "</g>\n",
       "<use x=\"559.782423\" y=\"637.094234\" xlink:href=\"#g0-0\"/>\n",
       "<use x=\"569.08092\" y=\"637.094234\" xlink:href=\"#g1-50\"/>\n",
       "<g transform=\"translate(340.228 337.677)scale(.996264)\">\n",
       "<path d=\"M235.091 284.883V287.017\" fill=\"none\" stroke=\"#000000\" stroke-linecap=\"round\" stroke-linejoin=\"round\" stroke-miterlimit=\"10.0375\" stroke-width=\"0.426791\"/>\n",
       "</g>\n",
       "<g transform=\"translate(340.228 337.677)scale(.996264)\">\n",
       "<path d=\"M242.204 284.883V287.017\" fill=\"none\" stroke=\"#000000\" stroke-linecap=\"round\" stroke-linejoin=\"round\" stroke-miterlimit=\"10.0375\" stroke-width=\"0.426791\"/>\n",
       "</g>\n",
       "<g transform=\"translate(340.228 337.677)scale(.996264)\">\n",
       "<path d=\"M249.317 284.883V287.017\" fill=\"none\" stroke=\"#000000\" stroke-linecap=\"round\" stroke-linejoin=\"round\" stroke-miterlimit=\"10.0375\" stroke-width=\"0.426791\"/>\n",
       "</g>\n",
       "<g transform=\"translate(340.228 337.677)scale(.996264)\">\n",
       "<path d=\"M256.43 284.883V289.151\" fill=\"none\" stroke=\"#000000\" stroke-linecap=\"round\" stroke-linejoin=\"round\" stroke-miterlimit=\"10.0375\" stroke-width=\"0.711319\"/>\n",
       "</g>\n",
       "<use x=\"588.128867\" y=\"637.094234\" xlink:href=\"#g0-0\"/>\n",
       "<use x=\"597.427364\" y=\"637.094234\" xlink:href=\"#g1-49\"/>\n",
       "<g transform=\"translate(340.228 337.677)scale(.996264)\">\n",
       "<path d=\"M263.544 284.883V287.017\" fill=\"none\" stroke=\"#000000\" stroke-linecap=\"round\" stroke-linejoin=\"round\" stroke-miterlimit=\"10.0375\" stroke-width=\"0.426791\"/>\n",
       "</g>\n",
       "<g transform=\"translate(340.228 337.677)scale(.996264)\">\n",
       "<path d=\"M270.657 284.883V287.017\" fill=\"none\" stroke=\"#000000\" stroke-linecap=\"round\" stroke-linejoin=\"round\" stroke-miterlimit=\"10.0375\" stroke-width=\"0.426791\"/>\n",
       "</g>\n",
       "<g transform=\"translate(340.228 337.677)scale(.996264)\">\n",
       "<path d=\"M277.77 284.883V287.017\" fill=\"none\" stroke=\"#000000\" stroke-linecap=\"round\" stroke-linejoin=\"round\" stroke-miterlimit=\"10.0375\" stroke-width=\"0.426791\"/>\n",
       "</g>\n",
       "<g transform=\"translate(340.228 337.677)scale(.996264)\">\n",
       "<path d=\"M313.336 284.883V289.151\" fill=\"none\" stroke=\"#000000\" stroke-linecap=\"round\" stroke-linejoin=\"round\" stroke-miterlimit=\"10.0375\" stroke-width=\"0.711319\"/>\n",
       "</g>\n",
       "<use x=\"649.471024\" y=\"637.094219\" xlink:href=\"#g1-49\"/>\n",
       "<g transform=\"translate(340.228 337.677)scale(.996264)\">\n",
       "<path d=\"M306.223 284.883V287.017\" fill=\"none\" stroke=\"#000000\" stroke-linecap=\"round\" stroke-linejoin=\"round\" stroke-miterlimit=\"10.0375\" stroke-width=\"0.426791\"/>\n",
       "</g>\n",
       "<g transform=\"translate(340.228 337.677)scale(.996264)\">\n",
       "<path d=\"M299.11 284.883V287.017\" fill=\"none\" stroke=\"#000000\" stroke-linecap=\"round\" stroke-linejoin=\"round\" stroke-miterlimit=\"10.0375\" stroke-width=\"0.426791\"/>\n",
       "</g>\n",
       "<g transform=\"translate(340.228 337.677)scale(.996264)\">\n",
       "<path d=\"M291.996 284.883V287.017\" fill=\"none\" stroke=\"#000000\" stroke-linecap=\"round\" stroke-linejoin=\"round\" stroke-miterlimit=\"10.0375\" stroke-width=\"0.426791\"/>\n",
       "</g>\n",
       "<g transform=\"translate(340.228 337.677)scale(.996264)\">\n",
       "<path d=\"M341.789 284.883V289.151\" fill=\"none\" stroke=\"#000000\" stroke-linecap=\"round\" stroke-linejoin=\"round\" stroke-miterlimit=\"10.0375\" stroke-width=\"0.711319\"/>\n",
       "</g>\n",
       "<use x=\"677.817483\" y=\"637.094219\" xlink:href=\"#g1-50\"/>\n",
       "<g transform=\"translate(340.228 337.677)scale(.996264)\">\n",
       "<path d=\"M334.676 284.883V287.017\" fill=\"none\" stroke=\"#000000\" stroke-linecap=\"round\" stroke-linejoin=\"round\" stroke-miterlimit=\"10.0375\" stroke-width=\"0.426791\"/>\n",
       "</g>\n",
       "<g transform=\"translate(340.228 337.677)scale(.996264)\">\n",
       "<path d=\"M327.562 284.883V287.017\" fill=\"none\" stroke=\"#000000\" stroke-linecap=\"round\" stroke-linejoin=\"round\" stroke-miterlimit=\"10.0375\" stroke-width=\"0.426791\"/>\n",
       "</g>\n",
       "<g transform=\"translate(340.228 337.677)scale(.996264)\">\n",
       "<path d=\"M320.449 284.883V287.017\" fill=\"none\" stroke=\"#000000\" stroke-linecap=\"round\" stroke-linejoin=\"round\" stroke-miterlimit=\"10.0375\" stroke-width=\"0.426791\"/>\n",
       "</g>\n",
       "<g transform=\"translate(340.228 337.677)scale(.996264)\">\n",
       "<path d=\"M370.241 284.883V289.151\" fill=\"none\" stroke=\"#000000\" stroke-linecap=\"round\" stroke-linejoin=\"round\" stroke-miterlimit=\"10.0375\" stroke-width=\"0.711319\"/>\n",
       "</g>\n",
       "<use x=\"706.163943\" y=\"637.094219\" xlink:href=\"#g1-51\"/>\n",
       "<g transform=\"translate(340.228 337.677)scale(.996264)\">\n",
       "<path d=\"M363.128 284.883V287.017\" fill=\"none\" stroke=\"#000000\" stroke-linecap=\"round\" stroke-linejoin=\"round\" stroke-miterlimit=\"10.0375\" stroke-width=\"0.426791\"/>\n",
       "</g>\n",
       "<g transform=\"translate(340.228 337.677)scale(.996264)\">\n",
       "<path d=\"M356.015 284.883V287.017\" fill=\"none\" stroke=\"#000000\" stroke-linecap=\"round\" stroke-linejoin=\"round\" stroke-miterlimit=\"10.0375\" stroke-width=\"0.426791\"/>\n",
       "</g>\n",
       "<g transform=\"translate(340.228 337.677)scale(.996264)\">\n",
       "<path d=\"M348.902 284.883V287.017\" fill=\"none\" stroke=\"#000000\" stroke-linecap=\"round\" stroke-linejoin=\"round\" stroke-miterlimit=\"10.0375\" stroke-width=\"0.426791\"/>\n",
       "</g>\n",
       "<g transform=\"translate(340.228 337.677)scale(.996264)\">\n",
       "<path d=\"M398.694 284.883V289.151\" fill=\"none\" stroke=\"#000000\" stroke-linecap=\"round\" stroke-linejoin=\"round\" stroke-miterlimit=\"10.0375\" stroke-width=\"0.711319\"/>\n",
       "</g>\n",
       "<use x=\"734.510387\" y=\"637.094219\" xlink:href=\"#g1-52\"/>\n",
       "<g transform=\"translate(340.228 337.677)scale(.996264)\">\n",
       "<path d=\"M391.581 284.883V287.017\" fill=\"none\" stroke=\"#000000\" stroke-linecap=\"round\" stroke-linejoin=\"round\" stroke-miterlimit=\"10.0375\" stroke-width=\"0.426791\"/>\n",
       "</g>\n",
       "<g transform=\"translate(340.228 337.677)scale(.996264)\">\n",
       "<path d=\"M384.468 284.883V287.017\" fill=\"none\" stroke=\"#000000\" stroke-linecap=\"round\" stroke-linejoin=\"round\" stroke-miterlimit=\"10.0375\" stroke-width=\"0.426791\"/>\n",
       "</g>\n",
       "<g transform=\"translate(340.228 337.677)scale(.996264)\">\n",
       "<path d=\"M377.355 284.883V287.017\" fill=\"none\" stroke=\"#000000\" stroke-linecap=\"round\" stroke-linejoin=\"round\" stroke-miterlimit=\"10.0375\" stroke-width=\"0.426791\"/>\n",
       "</g>\n",
       "<g transform=\"translate(340.228 337.677)scale(.996264)\">\n",
       "<path d=\"M427.147 284.883V289.151\" fill=\"none\" stroke=\"#000000\" stroke-linecap=\"round\" stroke-linejoin=\"round\" stroke-miterlimit=\"10.0375\" stroke-width=\"0.711319\"/>\n",
       "</g>\n",
       "<use x=\"762.856847\" y=\"637.094219\" xlink:href=\"#g1-53\"/>\n",
       "<g transform=\"translate(340.228 337.677)scale(.996264)\">\n",
       "<path d=\"M420.034 284.883V287.017\" fill=\"none\" stroke=\"#000000\" stroke-linecap=\"round\" stroke-linejoin=\"round\" stroke-miterlimit=\"10.0375\" stroke-width=\"0.426791\"/>\n",
       "</g>\n",
       "<g transform=\"translate(340.228 337.677)scale(.996264)\">\n",
       "<path d=\"M412.921 284.883V287.017\" fill=\"none\" stroke=\"#000000\" stroke-linecap=\"round\" stroke-linejoin=\"round\" stroke-miterlimit=\"10.0375\" stroke-width=\"0.426791\"/>\n",
       "</g>\n",
       "<g transform=\"translate(340.228 337.677)scale(.996264)\">\n",
       "<path d=\"M405.807 284.883V287.017\" fill=\"none\" stroke=\"#000000\" stroke-linecap=\"round\" stroke-linejoin=\"round\" stroke-miterlimit=\"10.0375\" stroke-width=\"0.426791\"/>\n",
       "</g>\n",
       "<g transform=\"translate(340.228 337.677)scale(.996264)\">\n",
       "<path d=\"M455.6 284.883V289.151\" fill=\"none\" stroke=\"#000000\" stroke-linecap=\"round\" stroke-linejoin=\"round\" stroke-miterlimit=\"10.0375\" stroke-width=\"0.711319\"/>\n",
       "</g>\n",
       "<use x=\"791.203306\" y=\"637.094219\" xlink:href=\"#g1-54\"/>\n",
       "<g transform=\"translate(340.228 337.677)scale(.996264)\">\n",
       "<path d=\"M448.487 284.883V287.017\" fill=\"none\" stroke=\"#000000\" stroke-linecap=\"round\" stroke-linejoin=\"round\" stroke-miterlimit=\"10.0375\" stroke-width=\"0.426791\"/>\n",
       "</g>\n",
       "<g transform=\"translate(340.228 337.677)scale(.996264)\">\n",
       "<path d=\"M441.373 284.883V287.017\" fill=\"none\" stroke=\"#000000\" stroke-linecap=\"round\" stroke-linejoin=\"round\" stroke-miterlimit=\"10.0375\" stroke-width=\"0.426791\"/>\n",
       "</g>\n",
       "<g transform=\"translate(340.228 337.677)scale(.996264)\">\n",
       "<path d=\"M434.26 284.883V287.017\" fill=\"none\" stroke=\"#000000\" stroke-linecap=\"round\" stroke-linejoin=\"round\" stroke-miterlimit=\"10.0375\" stroke-width=\"0.426791\"/>\n",
       "</g>\n",
       "<g transform=\"translate(340.228 337.677)scale(.996264)\">\n",
       "<path d=\"M484.053 284.883V289.151\" fill=\"none\" stroke=\"#000000\" stroke-linecap=\"round\" stroke-linejoin=\"round\" stroke-miterlimit=\"10.0375\" stroke-width=\"0.711319\"/>\n",
       "</g>\n",
       "<use x=\"819.549766\" y=\"637.094219\" xlink:href=\"#g1-55\"/>\n",
       "<g transform=\"translate(340.228 337.677)scale(.996264)\">\n",
       "<path d=\"M476.939 284.883V287.017\" fill=\"none\" stroke=\"#000000\" stroke-linecap=\"round\" stroke-linejoin=\"round\" stroke-miterlimit=\"10.0375\" stroke-width=\"0.426791\"/>\n",
       "</g>\n",
       "<g transform=\"translate(340.228 337.677)scale(.996264)\">\n",
       "<path d=\"M469.826 284.883V287.017\" fill=\"none\" stroke=\"#000000\" stroke-linecap=\"round\" stroke-linejoin=\"round\" stroke-miterlimit=\"10.0375\" stroke-width=\"0.426791\"/>\n",
       "</g>\n",
       "<g transform=\"translate(340.228 337.677)scale(.996264)\">\n",
       "<path d=\"M462.713 284.883V287.017\" fill=\"none\" stroke=\"#000000\" stroke-linecap=\"round\" stroke-linejoin=\"round\" stroke-miterlimit=\"10.0375\" stroke-width=\"0.426791\"/>\n",
       "</g>\n",
       "<g transform=\"translate(340.228 337.677)scale(.996264)\">\n",
       "<path d=\"M512.505 284.883V289.151\" fill=\"none\" stroke=\"#000000\" stroke-linecap=\"round\" stroke-linejoin=\"round\" stroke-miterlimit=\"10.0375\" stroke-width=\"0.711319\"/>\n",
       "</g>\n",
       "<use x=\"847.896225\" y=\"637.094219\" xlink:href=\"#g1-56\"/>\n",
       "<g transform=\"translate(340.228 337.677)scale(.996264)\">\n",
       "<path d=\"M505.392 284.883V287.017\" fill=\"none\" stroke=\"#000000\" stroke-linecap=\"round\" stroke-linejoin=\"round\" stroke-miterlimit=\"10.0375\" stroke-width=\"0.426791\"/>\n",
       "</g>\n",
       "<g transform=\"translate(340.228 337.677)scale(.996264)\">\n",
       "<path d=\"M498.279 284.883V287.017\" fill=\"none\" stroke=\"#000000\" stroke-linecap=\"round\" stroke-linejoin=\"round\" stroke-miterlimit=\"10.0375\" stroke-width=\"0.426791\"/>\n",
       "</g>\n",
       "<g transform=\"translate(340.228 337.677)scale(.996264)\">\n",
       "<path d=\"M491.166 284.883V287.017\" fill=\"none\" stroke=\"#000000\" stroke-linecap=\"round\" stroke-linejoin=\"round\" stroke-miterlimit=\"10.0375\" stroke-width=\"0.426791\"/>\n",
       "</g>\n",
       "<g transform=\"translate(340.228 337.677)scale(.996264)\">\n",
       "<path d=\"M540.958 284.883V289.151\" fill=\"none\" stroke=\"#000000\" stroke-linecap=\"round\" stroke-linejoin=\"round\" stroke-miterlimit=\"10.0375\" stroke-width=\"0.711319\"/>\n",
       "</g>\n",
       "<use x=\"876.242685\" y=\"637.094219\" xlink:href=\"#g1-57\"/>\n",
       "<g transform=\"translate(340.228 337.677)scale(.996264)\">\n",
       "<path d=\"M533.845 284.883V287.017\" fill=\"none\" stroke=\"#000000\" stroke-linecap=\"round\" stroke-linejoin=\"round\" stroke-miterlimit=\"10.0375\" stroke-width=\"0.426791\"/>\n",
       "</g>\n",
       "<g transform=\"translate(340.228 337.677)scale(.996264)\">\n",
       "<path d=\"M526.732 284.883V287.017\" fill=\"none\" stroke=\"#000000\" stroke-linecap=\"round\" stroke-linejoin=\"round\" stroke-miterlimit=\"10.0375\" stroke-width=\"0.426791\"/>\n",
       "</g>\n",
       "<g transform=\"translate(340.228 337.677)scale(.996264)\">\n",
       "<path d=\"M519.618 284.883V287.017\" fill=\"none\" stroke=\"#000000\" stroke-linecap=\"round\" stroke-linejoin=\"round\" stroke-miterlimit=\"10.0375\" stroke-width=\"0.426791\"/>\n",
       "</g>\n",
       "<g transform=\"translate(340.228 337.677)scale(.996264)\">\n",
       "<path d=\"M284.883 540.958H280.615\" fill=\"none\" stroke=\"#000000\" stroke-linecap=\"round\" stroke-linejoin=\"round\" stroke-miterlimit=\"10.0375\" stroke-width=\"0.711319\"/>\n",
       "</g>\n",
       "<use x=\"600.94584\" y=\"879.908245\" xlink:href=\"#g0-0\"/>\n",
       "<use x=\"610.244337\" y=\"879.908245\" xlink:href=\"#g1-57\"/>\n",
       "<g transform=\"translate(340.228 337.677)scale(.996264)\">\n",
       "<path d=\"M284.883 533.845H282.749\" fill=\"none\" stroke=\"#000000\" stroke-linecap=\"round\" stroke-linejoin=\"round\" stroke-miterlimit=\"10.0375\" stroke-width=\"0.426791\"/>\n",
       "</g>\n",
       "<g transform=\"translate(340.228 337.677)scale(.996264)\">\n",
       "<path d=\"M284.883 526.732H282.749\" fill=\"none\" stroke=\"#000000\" stroke-linecap=\"round\" stroke-linejoin=\"round\" stroke-miterlimit=\"10.0375\" stroke-width=\"0.426791\"/>\n",
       "</g>\n",
       "<g transform=\"translate(340.228 337.677)scale(.996264)\">\n",
       "<path d=\"M284.883 519.618H282.749\" fill=\"none\" stroke=\"#000000\" stroke-linecap=\"round\" stroke-linejoin=\"round\" stroke-miterlimit=\"10.0375\" stroke-width=\"0.426791\"/>\n",
       "</g>\n",
       "<g transform=\"translate(340.228 337.677)scale(.996264)\">\n",
       "<path d=\"M284.883 512.505H280.615\" fill=\"none\" stroke=\"#000000\" stroke-linecap=\"round\" stroke-linejoin=\"round\" stroke-miterlimit=\"10.0375\" stroke-width=\"0.711319\"/>\n",
       "</g>\n",
       "<use x=\"600.94584\" y=\"851.561786\" xlink:href=\"#g0-0\"/>\n",
       "<use x=\"610.244337\" y=\"851.561786\" xlink:href=\"#g1-56\"/>\n",
       "<g transform=\"translate(340.228 337.677)scale(.996264)\">\n",
       "<path d=\"M284.883 505.392H282.749\" fill=\"none\" stroke=\"#000000\" stroke-linecap=\"round\" stroke-linejoin=\"round\" stroke-miterlimit=\"10.0375\" stroke-width=\"0.426791\"/>\n",
       "</g>\n",
       "<g transform=\"translate(340.228 337.677)scale(.996264)\">\n",
       "<path d=\"M284.883 498.279H282.749\" fill=\"none\" stroke=\"#000000\" stroke-linecap=\"round\" stroke-linejoin=\"round\" stroke-miterlimit=\"10.0375\" stroke-width=\"0.426791\"/>\n",
       "</g>\n",
       "<g transform=\"translate(340.228 337.677)scale(.996264)\">\n",
       "<path d=\"M284.883 491.166H282.749\" fill=\"none\" stroke=\"#000000\" stroke-linecap=\"round\" stroke-linejoin=\"round\" stroke-miterlimit=\"10.0375\" stroke-width=\"0.426791\"/>\n",
       "</g>\n",
       "<g transform=\"translate(340.228 337.677)scale(.996264)\">\n",
       "<path d=\"M284.883 484.053H280.615\" fill=\"none\" stroke=\"#000000\" stroke-linecap=\"round\" stroke-linejoin=\"round\" stroke-miterlimit=\"10.0375\" stroke-width=\"0.711319\"/>\n",
       "</g>\n",
       "<use x=\"600.94584\" y=\"823.215341\" xlink:href=\"#g0-0\"/>\n",
       "<use x=\"610.244337\" y=\"823.215341\" xlink:href=\"#g1-55\"/>\n",
       "<g transform=\"translate(340.228 337.677)scale(.996264)\">\n",
       "<path d=\"M284.883 476.939H282.749\" fill=\"none\" stroke=\"#000000\" stroke-linecap=\"round\" stroke-linejoin=\"round\" stroke-miterlimit=\"10.0375\" stroke-width=\"0.426791\"/>\n",
       "</g>\n",
       "<g transform=\"translate(340.228 337.677)scale(.996264)\">\n",
       "<path d=\"M284.883 469.826H282.749\" fill=\"none\" stroke=\"#000000\" stroke-linecap=\"round\" stroke-linejoin=\"round\" stroke-miterlimit=\"10.0375\" stroke-width=\"0.426791\"/>\n",
       "</g>\n",
       "<g transform=\"translate(340.228 337.677)scale(.996264)\">\n",
       "<path d=\"M284.883 462.713H282.749\" fill=\"none\" stroke=\"#000000\" stroke-linecap=\"round\" stroke-linejoin=\"round\" stroke-miterlimit=\"10.0375\" stroke-width=\"0.426791\"/>\n",
       "</g>\n",
       "<g transform=\"translate(340.228 337.677)scale(.996264)\">\n",
       "<path d=\"M284.883 455.6H280.615\" fill=\"none\" stroke=\"#000000\" stroke-linecap=\"round\" stroke-linejoin=\"round\" stroke-miterlimit=\"10.0375\" stroke-width=\"0.711319\"/>\n",
       "</g>\n",
       "<use x=\"600.94584\" y=\"794.868882\" xlink:href=\"#g0-0\"/>\n",
       "<use x=\"610.244337\" y=\"794.868882\" xlink:href=\"#g1-54\"/>\n",
       "<g transform=\"translate(340.228 337.677)scale(.996264)\">\n",
       "<path d=\"M284.883 448.487H282.749\" fill=\"none\" stroke=\"#000000\" stroke-linecap=\"round\" stroke-linejoin=\"round\" stroke-miterlimit=\"10.0375\" stroke-width=\"0.426791\"/>\n",
       "</g>\n",
       "<g transform=\"translate(340.228 337.677)scale(.996264)\">\n",
       "<path d=\"M284.883 441.373H282.749\" fill=\"none\" stroke=\"#000000\" stroke-linecap=\"round\" stroke-linejoin=\"round\" stroke-miterlimit=\"10.0375\" stroke-width=\"0.426791\"/>\n",
       "</g>\n",
       "<g transform=\"translate(340.228 337.677)scale(.996264)\">\n",
       "<path d=\"M284.883 434.26H282.749\" fill=\"none\" stroke=\"#000000\" stroke-linecap=\"round\" stroke-linejoin=\"round\" stroke-miterlimit=\"10.0375\" stroke-width=\"0.426791\"/>\n",
       "</g>\n",
       "<g transform=\"translate(340.228 337.677)scale(.996264)\">\n",
       "<path d=\"M284.883 427.147H280.615\" fill=\"none\" stroke=\"#000000\" stroke-linecap=\"round\" stroke-linejoin=\"round\" stroke-miterlimit=\"10.0375\" stroke-width=\"0.711319\"/>\n",
       "</g>\n",
       "<use x=\"600.94584\" y=\"766.522422\" xlink:href=\"#g0-0\"/>\n",
       "<use x=\"610.244337\" y=\"766.522422\" xlink:href=\"#g1-53\"/>\n",
       "<g transform=\"translate(340.228 337.677)scale(.996264)\">\n",
       "<path d=\"M284.883 420.034H282.749\" fill=\"none\" stroke=\"#000000\" stroke-linecap=\"round\" stroke-linejoin=\"round\" stroke-miterlimit=\"10.0375\" stroke-width=\"0.426791\"/>\n",
       "</g>\n",
       "<g transform=\"translate(340.228 337.677)scale(.996264)\">\n",
       "<path d=\"M284.883 412.921H282.749\" fill=\"none\" stroke=\"#000000\" stroke-linecap=\"round\" stroke-linejoin=\"round\" stroke-miterlimit=\"10.0375\" stroke-width=\"0.426791\"/>\n",
       "</g>\n",
       "<g transform=\"translate(340.228 337.677)scale(.996264)\">\n",
       "<path d=\"M284.883 405.807H282.749\" fill=\"none\" stroke=\"#000000\" stroke-linecap=\"round\" stroke-linejoin=\"round\" stroke-miterlimit=\"10.0375\" stroke-width=\"0.426791\"/>\n",
       "</g>\n",
       "<g transform=\"translate(340.228 337.677)scale(.996264)\">\n",
       "<path d=\"M284.883 398.694H280.615\" fill=\"none\" stroke=\"#000000\" stroke-linecap=\"round\" stroke-linejoin=\"round\" stroke-miterlimit=\"10.0375\" stroke-width=\"0.711319\"/>\n",
       "</g>\n",
       "<use x=\"600.94584\" y=\"738.175962\" xlink:href=\"#g0-0\"/>\n",
       "<use x=\"610.244337\" y=\"738.175962\" xlink:href=\"#g1-52\"/>\n",
       "<g transform=\"translate(340.228 337.677)scale(.996264)\">\n",
       "<path d=\"M284.883 391.581H282.749\" fill=\"none\" stroke=\"#000000\" stroke-linecap=\"round\" stroke-linejoin=\"round\" stroke-miterlimit=\"10.0375\" stroke-width=\"0.426791\"/>\n",
       "</g>\n",
       "<g transform=\"translate(340.228 337.677)scale(.996264)\">\n",
       "<path d=\"M284.883 384.468H282.749\" fill=\"none\" stroke=\"#000000\" stroke-linecap=\"round\" stroke-linejoin=\"round\" stroke-miterlimit=\"10.0375\" stroke-width=\"0.426791\"/>\n",
       "</g>\n",
       "<g transform=\"translate(340.228 337.677)scale(.996264)\">\n",
       "<path d=\"M284.883 377.355H282.749\" fill=\"none\" stroke=\"#000000\" stroke-linecap=\"round\" stroke-linejoin=\"round\" stroke-miterlimit=\"10.0375\" stroke-width=\"0.426791\"/>\n",
       "</g>\n",
       "<g transform=\"translate(340.228 337.677)scale(.996264)\">\n",
       "<path d=\"M284.883 370.241H280.615\" fill=\"none\" stroke=\"#000000\" stroke-linecap=\"round\" stroke-linejoin=\"round\" stroke-miterlimit=\"10.0375\" stroke-width=\"0.711319\"/>\n",
       "</g>\n",
       "<use x=\"600.94584\" y=\"709.829503\" xlink:href=\"#g0-0\"/>\n",
       "<use x=\"610.244337\" y=\"709.829503\" xlink:href=\"#g1-51\"/>\n",
       "<g transform=\"translate(340.228 337.677)scale(.996264)\">\n",
       "<path d=\"M284.883 363.128H282.749\" fill=\"none\" stroke=\"#000000\" stroke-linecap=\"round\" stroke-linejoin=\"round\" stroke-miterlimit=\"10.0375\" stroke-width=\"0.426791\"/>\n",
       "</g>\n",
       "<g transform=\"translate(340.228 337.677)scale(.996264)\">\n",
       "<path d=\"M284.883 356.015H282.749\" fill=\"none\" stroke=\"#000000\" stroke-linecap=\"round\" stroke-linejoin=\"round\" stroke-miterlimit=\"10.0375\" stroke-width=\"0.426791\"/>\n",
       "</g>\n",
       "<g transform=\"translate(340.228 337.677)scale(.996264)\">\n",
       "<path d=\"M284.883 348.902H282.749\" fill=\"none\" stroke=\"#000000\" stroke-linecap=\"round\" stroke-linejoin=\"round\" stroke-miterlimit=\"10.0375\" stroke-width=\"0.426791\"/>\n",
       "</g>\n",
       "<g transform=\"translate(340.228 337.677)scale(.996264)\">\n",
       "<path d=\"M284.883 341.789H280.615\" fill=\"none\" stroke=\"#000000\" stroke-linecap=\"round\" stroke-linejoin=\"round\" stroke-miterlimit=\"10.0375\" stroke-width=\"0.711319\"/>\n",
       "</g>\n",
       "<use x=\"600.94584\" y=\"681.483059\" xlink:href=\"#g0-0\"/>\n",
       "<use x=\"610.244337\" y=\"681.483059\" xlink:href=\"#g1-50\"/>\n",
       "<g transform=\"translate(340.228 337.677)scale(.996264)\">\n",
       "<path d=\"M284.883 334.676H282.749\" fill=\"none\" stroke=\"#000000\" stroke-linecap=\"round\" stroke-linejoin=\"round\" stroke-miterlimit=\"10.0375\" stroke-width=\"0.426791\"/>\n",
       "</g>\n",
       "<g transform=\"translate(340.228 337.677)scale(.996264)\">\n",
       "<path d=\"M284.883 327.562H282.749\" fill=\"none\" stroke=\"#000000\" stroke-linecap=\"round\" stroke-linejoin=\"round\" stroke-miterlimit=\"10.0375\" stroke-width=\"0.426791\"/>\n",
       "</g>\n",
       "<g transform=\"translate(340.228 337.677)scale(.996264)\">\n",
       "<path d=\"M284.883 320.449H282.749\" fill=\"none\" stroke=\"#000000\" stroke-linecap=\"round\" stroke-linejoin=\"round\" stroke-miterlimit=\"10.0375\" stroke-width=\"0.426791\"/>\n",
       "</g>\n",
       "<g transform=\"translate(340.228 337.677)scale(.996264)\">\n",
       "<path d=\"M284.883 313.336H280.615\" fill=\"none\" stroke=\"#000000\" stroke-linecap=\"round\" stroke-linejoin=\"round\" stroke-miterlimit=\"10.0375\" stroke-width=\"0.711319\"/>\n",
       "</g>\n",
       "<use x=\"600.94584\" y=\"653.136599\" xlink:href=\"#g0-0\"/>\n",
       "<use x=\"610.244337\" y=\"653.136599\" xlink:href=\"#g1-49\"/>\n",
       "<g transform=\"translate(340.228 337.677)scale(.996264)\">\n",
       "<path d=\"M284.883 306.223H282.749\" fill=\"none\" stroke=\"#000000\" stroke-linecap=\"round\" stroke-linejoin=\"round\" stroke-miterlimit=\"10.0375\" stroke-width=\"0.426791\"/>\n",
       "</g>\n",
       "<g transform=\"translate(340.228 337.677)scale(.996264)\">\n",
       "<path d=\"M284.883 299.11H282.749\" fill=\"none\" stroke=\"#000000\" stroke-linecap=\"round\" stroke-linejoin=\"round\" stroke-miterlimit=\"10.0375\" stroke-width=\"0.426791\"/>\n",
       "</g>\n",
       "<g transform=\"translate(340.228 337.677)scale(.996264)\">\n",
       "<path d=\"M284.883 291.996H282.749\" fill=\"none\" stroke=\"#000000\" stroke-linecap=\"round\" stroke-linejoin=\"round\" stroke-miterlimit=\"10.0375\" stroke-width=\"0.426791\"/>\n",
       "</g>\n",
       "<g transform=\"translate(340.228 337.677)scale(.996264)\">\n",
       "<path d=\"M284.883 256.43H280.615\" fill=\"none\" stroke=\"#000000\" stroke-linecap=\"round\" stroke-linejoin=\"round\" stroke-miterlimit=\"10.0375\" stroke-width=\"0.711319\"/>\n",
       "</g>\n",
       "<use x=\"610.244329\" y=\"596.941797\" xlink:href=\"#g1-49\"/>\n",
       "<g transform=\"translate(340.228 337.677)scale(.996264)\">\n",
       "<path d=\"M284.883 263.544H282.749\" fill=\"none\" stroke=\"#000000\" stroke-linecap=\"round\" stroke-linejoin=\"round\" stroke-miterlimit=\"10.0375\" stroke-width=\"0.426791\"/>\n",
       "</g>\n",
       "<g transform=\"translate(340.228 337.677)scale(.996264)\">\n",
       "<path d=\"M284.883 270.657H282.749\" fill=\"none\" stroke=\"#000000\" stroke-linecap=\"round\" stroke-linejoin=\"round\" stroke-miterlimit=\"10.0375\" stroke-width=\"0.426791\"/>\n",
       "</g>\n",
       "<g transform=\"translate(340.228 337.677)scale(.996264)\">\n",
       "<path d=\"M284.883 277.77H282.749\" fill=\"none\" stroke=\"#000000\" stroke-linecap=\"round\" stroke-linejoin=\"round\" stroke-miterlimit=\"10.0375\" stroke-width=\"0.426791\"/>\n",
       "</g>\n",
       "<g transform=\"translate(340.228 337.677)scale(.996264)\">\n",
       "<path d=\"M284.883 227.978H280.615\" fill=\"none\" stroke=\"#000000\" stroke-linecap=\"round\" stroke-linejoin=\"round\" stroke-miterlimit=\"10.0375\" stroke-width=\"0.711319\"/>\n",
       "</g>\n",
       "<use x=\"610.244329\" y=\"568.595337\" xlink:href=\"#g1-50\"/>\n",
       "<g transform=\"translate(340.228 337.677)scale(.996264)\">\n",
       "<path d=\"M284.883 235.091H282.749\" fill=\"none\" stroke=\"#000000\" stroke-linecap=\"round\" stroke-linejoin=\"round\" stroke-miterlimit=\"10.0375\" stroke-width=\"0.426791\"/>\n",
       "</g>\n",
       "<g transform=\"translate(340.228 337.677)scale(.996264)\">\n",
       "<path d=\"M284.883 242.204H282.749\" fill=\"none\" stroke=\"#000000\" stroke-linecap=\"round\" stroke-linejoin=\"round\" stroke-miterlimit=\"10.0375\" stroke-width=\"0.426791\"/>\n",
       "</g>\n",
       "<g transform=\"translate(340.228 337.677)scale(.996264)\">\n",
       "<path d=\"M284.883 249.317H282.749\" fill=\"none\" stroke=\"#000000\" stroke-linecap=\"round\" stroke-linejoin=\"round\" stroke-miterlimit=\"10.0375\" stroke-width=\"0.426791\"/>\n",
       "</g>\n",
       "<g transform=\"translate(340.228 337.677)scale(.996264)\">\n",
       "<path d=\"M284.883 199.525H280.615\" fill=\"none\" stroke=\"#000000\" stroke-linecap=\"round\" stroke-linejoin=\"round\" stroke-miterlimit=\"10.0375\" stroke-width=\"0.711319\"/>\n",
       "</g>\n",
       "<use x=\"610.244329\" y=\"540.248893\" xlink:href=\"#g1-51\"/>\n",
       "<g transform=\"translate(340.228 337.677)scale(.996264)\">\n",
       "<path d=\"M284.883 206.638H282.749\" fill=\"none\" stroke=\"#000000\" stroke-linecap=\"round\" stroke-linejoin=\"round\" stroke-miterlimit=\"10.0375\" stroke-width=\"0.426791\"/>\n",
       "</g>\n",
       "<g transform=\"translate(340.228 337.677)scale(.996264)\">\n",
       "<path d=\"M284.883 213.751H282.749\" fill=\"none\" stroke=\"#000000\" stroke-linecap=\"round\" stroke-linejoin=\"round\" stroke-miterlimit=\"10.0375\" stroke-width=\"0.426791\"/>\n",
       "</g>\n",
       "<g transform=\"translate(340.228 337.677)scale(.996264)\">\n",
       "<path d=\"M284.883 220.865H282.749\" fill=\"none\" stroke=\"#000000\" stroke-linecap=\"round\" stroke-linejoin=\"round\" stroke-miterlimit=\"10.0375\" stroke-width=\"0.426791\"/>\n",
       "</g>\n",
       "<g transform=\"translate(340.228 337.677)scale(.996264)\">\n",
       "<path d=\"M284.883 171.072H280.615\" fill=\"none\" stroke=\"#000000\" stroke-linecap=\"round\" stroke-linejoin=\"round\" stroke-miterlimit=\"10.0375\" stroke-width=\"0.711319\"/>\n",
       "</g>\n",
       "<use x=\"610.244329\" y=\"511.902433\" xlink:href=\"#g1-52\"/>\n",
       "<g transform=\"translate(340.228 337.677)scale(.996264)\">\n",
       "<path d=\"M284.883 178.185H282.749\" fill=\"none\" stroke=\"#000000\" stroke-linecap=\"round\" stroke-linejoin=\"round\" stroke-miterlimit=\"10.0375\" stroke-width=\"0.426791\"/>\n",
       "</g>\n",
       "<g transform=\"translate(340.228 337.677)scale(.996264)\">\n",
       "<path d=\"M284.883 185.299H282.749\" fill=\"none\" stroke=\"#000000\" stroke-linecap=\"round\" stroke-linejoin=\"round\" stroke-miterlimit=\"10.0375\" stroke-width=\"0.426791\"/>\n",
       "</g>\n",
       "<g transform=\"translate(340.228 337.677)scale(.996264)\">\n",
       "<path d=\"M284.883 192.412H282.749\" fill=\"none\" stroke=\"#000000\" stroke-linecap=\"round\" stroke-linejoin=\"round\" stroke-miterlimit=\"10.0375\" stroke-width=\"0.426791\"/>\n",
       "</g>\n",
       "<g transform=\"translate(340.228 337.677)scale(.996264)\">\n",
       "<path d=\"M284.883 142.619H280.615\" fill=\"none\" stroke=\"#000000\" stroke-linecap=\"round\" stroke-linejoin=\"round\" stroke-miterlimit=\"10.0375\" stroke-width=\"0.711319\"/>\n",
       "</g>\n",
       "<use x=\"610.244329\" y=\"483.555974\" xlink:href=\"#g1-53\"/>\n",
       "<g transform=\"translate(340.228 337.677)scale(.996264)\">\n",
       "<path d=\"M284.883 149.733H282.749\" fill=\"none\" stroke=\"#000000\" stroke-linecap=\"round\" stroke-linejoin=\"round\" stroke-miterlimit=\"10.0375\" stroke-width=\"0.426791\"/>\n",
       "</g>\n",
       "<g transform=\"translate(340.228 337.677)scale(.996264)\">\n",
       "<path d=\"M284.883 156.846H282.749\" fill=\"none\" stroke=\"#000000\" stroke-linecap=\"round\" stroke-linejoin=\"round\" stroke-miterlimit=\"10.0375\" stroke-width=\"0.426791\"/>\n",
       "</g>\n",
       "<g transform=\"translate(340.228 337.677)scale(.996264)\">\n",
       "<path d=\"M284.883 163.959H282.749\" fill=\"none\" stroke=\"#000000\" stroke-linecap=\"round\" stroke-linejoin=\"round\" stroke-miterlimit=\"10.0375\" stroke-width=\"0.426791\"/>\n",
       "</g>\n",
       "<g transform=\"translate(340.228 337.677)scale(.996264)\">\n",
       "<path d=\"M284.883 114.167H280.615\" fill=\"none\" stroke=\"#000000\" stroke-linecap=\"round\" stroke-linejoin=\"round\" stroke-miterlimit=\"10.0375\" stroke-width=\"0.711319\"/>\n",
       "</g>\n",
       "<use x=\"610.244329\" y=\"455.209514\" xlink:href=\"#g1-54\"/>\n",
       "<g transform=\"translate(340.228 337.677)scale(.996264)\">\n",
       "<path d=\"M284.883 121.28H282.749\" fill=\"none\" stroke=\"#000000\" stroke-linecap=\"round\" stroke-linejoin=\"round\" stroke-miterlimit=\"10.0375\" stroke-width=\"0.426791\"/>\n",
       "</g>\n",
       "<g transform=\"translate(340.228 337.677)scale(.996264)\">\n",
       "<path d=\"M284.883 128.393H282.749\" fill=\"none\" stroke=\"#000000\" stroke-linecap=\"round\" stroke-linejoin=\"round\" stroke-miterlimit=\"10.0375\" stroke-width=\"0.426791\"/>\n",
       "</g>\n",
       "<g transform=\"translate(340.228 337.677)scale(.996264)\">\n",
       "<path d=\"M284.883 135.506H282.749\" fill=\"none\" stroke=\"#000000\" stroke-linecap=\"round\" stroke-linejoin=\"round\" stroke-miterlimit=\"10.0375\" stroke-width=\"0.426791\"/>\n",
       "</g>\n",
       "<g transform=\"translate(340.228 337.677)scale(.996264)\">\n",
       "<path d=\"M284.883 85.7139H280.615\" fill=\"none\" stroke=\"#000000\" stroke-linecap=\"round\" stroke-linejoin=\"round\" stroke-miterlimit=\"10.0375\" stroke-width=\"0.711319\"/>\n",
       "</g>\n",
       "<use x=\"610.244329\" y=\"426.863054\" xlink:href=\"#g1-55\"/>\n",
       "<g transform=\"translate(340.228 337.677)scale(.996264)\">\n",
       "<path d=\"M284.883 92.8271H282.749\" fill=\"none\" stroke=\"#000000\" stroke-linecap=\"round\" stroke-linejoin=\"round\" stroke-miterlimit=\"10.0375\" stroke-width=\"0.426791\"/>\n",
       "</g>\n",
       "<g transform=\"translate(340.228 337.677)scale(.996264)\">\n",
       "<path d=\"M284.883 99.9403H282.749\" fill=\"none\" stroke=\"#000000\" stroke-linecap=\"round\" stroke-linejoin=\"round\" stroke-miterlimit=\"10.0375\" stroke-width=\"0.426791\"/>\n",
       "</g>\n",
       "<g transform=\"translate(340.228 337.677)scale(.996264)\">\n",
       "<path d=\"M284.883 107.053H282.749\" fill=\"none\" stroke=\"#000000\" stroke-linecap=\"round\" stroke-linejoin=\"round\" stroke-miterlimit=\"10.0375\" stroke-width=\"0.426791\"/>\n",
       "</g>\n",
       "<g transform=\"translate(340.228 337.677)scale(.996264)\">\n",
       "<path d=\"M284.883 57.2612H280.615\" fill=\"none\" stroke=\"#000000\" stroke-linecap=\"round\" stroke-linejoin=\"round\" stroke-miterlimit=\"10.0375\" stroke-width=\"0.711319\"/>\n",
       "</g>\n",
       "<use x=\"610.244329\" y=\"398.51661\" xlink:href=\"#g1-56\"/>\n",
       "<g transform=\"translate(340.228 337.677)scale(.996264)\">\n",
       "<path d=\"M284.883 64.3744H282.749\" fill=\"none\" stroke=\"#000000\" stroke-linecap=\"round\" stroke-linejoin=\"round\" stroke-miterlimit=\"10.0375\" stroke-width=\"0.426791\"/>\n",
       "</g>\n",
       "<g transform=\"translate(340.228 337.677)scale(.996264)\">\n",
       "<path d=\"M284.883 71.4875H282.749\" fill=\"none\" stroke=\"#000000\" stroke-linecap=\"round\" stroke-linejoin=\"round\" stroke-miterlimit=\"10.0375\" stroke-width=\"0.426791\"/>\n",
       "</g>\n",
       "<g transform=\"translate(340.228 337.677)scale(.996264)\">\n",
       "<path d=\"M284.883 78.6007H282.749\" fill=\"none\" stroke=\"#000000\" stroke-linecap=\"round\" stroke-linejoin=\"round\" stroke-miterlimit=\"10.0375\" stroke-width=\"0.426791\"/>\n",
       "</g>\n",
       "<g transform=\"translate(340.228 337.677)scale(.996264)\">\n",
       "<path d=\"M284.883 28.8084H280.615\" fill=\"none\" stroke=\"#000000\" stroke-linecap=\"round\" stroke-linejoin=\"round\" stroke-miterlimit=\"10.0375\" stroke-width=\"0.711319\"/>\n",
       "</g>\n",
       "<use x=\"610.244329\" y=\"370.170151\" xlink:href=\"#g1-57\"/>\n",
       "<g transform=\"translate(340.228 337.677)scale(.996264)\">\n",
       "<path d=\"M284.883 35.9216H282.749\" fill=\"none\" stroke=\"#000000\" stroke-linecap=\"round\" stroke-linejoin=\"round\" stroke-miterlimit=\"10.0375\" stroke-width=\"0.426791\"/>\n",
       "</g>\n",
       "<g transform=\"translate(340.228 337.677)scale(.996264)\">\n",
       "<path d=\"M284.883 43.0348H282.749\" fill=\"none\" stroke=\"#000000\" stroke-linecap=\"round\" stroke-linejoin=\"round\" stroke-miterlimit=\"10.0375\" stroke-width=\"0.426791\"/>\n",
       "</g>\n",
       "<g transform=\"translate(340.228 337.677)scale(.996264)\">\n",
       "<path d=\"M284.883 50.148H282.749\" fill=\"none\" stroke=\"#000000\" stroke-linecap=\"round\" stroke-linejoin=\"round\" stroke-miterlimit=\"10.0375\" stroke-width=\"0.426791\"/>\n",
       "</g>\n",
       "<g transform=\"translate(340.228 337.677)scale(.996264)\">\n",
       "<path d=\"M.355659 142.619L569.411 427.147\" fill=\"none\" stroke=\"#ff0000\" stroke-linecap=\"round\" stroke-linejoin=\"round\" stroke-miterlimit=\"10.0375\" stroke-width=\"0.711319\"/>\n",
       "</g>\n",
       "<g transform=\"translate(340.228 337.677)scale(.996264)\">\n",
       "<path d=\"M57.2612 512.505L512.505 57.2612\" fill=\"none\" stroke=\"#ff0000\" stroke-linecap=\"round\" stroke-linejoin=\"round\" stroke-miterlimit=\"10.0375\" stroke-width=\"0.711319\"/>\n",
       "</g>\n",
       "<g transform=\"translate(340.228 337.677)scale(.996264)\">\n",
       "<path d=\"M57.2612 171.072L53.8468 174.487\" fill=\"none\" stroke=\"#ff0000\" stroke-linecap=\"round\" stroke-linejoin=\"round\" stroke-miterlimit=\"10.0375\" stroke-width=\"0.711319\"/>\n",
       "</g>\n",
       "<g fill=\"#f00\" transform=\"matrix(.8 .6 -.6 .8 386.9792 -132.1116)\">\n",
       "<use x=\"384.081028\" y=\"522.117666\" xlink:href=\"#g0-0\"/>\n",
       "<use x=\"393.379525\" y=\"522.117666\" xlink:href=\"#g1-52\"/>\n",
       "</g>\n",
       "<g transform=\"translate(340.228 337.677)scale(.996264)\">\n",
       "<path d=\"M71.4875 178.185L69.7804 179.893\" fill=\"none\" stroke=\"#ff0000\" stroke-linecap=\"round\" stroke-linejoin=\"round\" stroke-miterlimit=\"10.0375\" stroke-width=\"0.426791\"/>\n",
       "</g>\n",
       "<g transform=\"translate(340.228 337.677)scale(.996264)\">\n",
       "<path d=\"M85.7139 185.299L84.0068 187.006\" fill=\"none\" stroke=\"#ff0000\" stroke-linecap=\"round\" stroke-linejoin=\"round\" stroke-miterlimit=\"10.0375\" stroke-width=\"0.426791\"/>\n",
       "</g>\n",
       "<g transform=\"translate(340.228 337.677)scale(.996264)\">\n",
       "<path d=\"M99.9403 192.412L98.2331 194.119\" fill=\"none\" stroke=\"#ff0000\" stroke-linecap=\"round\" stroke-linejoin=\"round\" stroke-miterlimit=\"10.0375\" stroke-width=\"0.426791\"/>\n",
       "</g>\n",
       "<g transform=\"translate(340.228 337.677)scale(.996264)\">\n",
       "<path d=\"M114.167 199.525L110.752 202.939\" fill=\"none\" stroke=\"#ff0000\" stroke-linecap=\"round\" stroke-linejoin=\"round\" stroke-miterlimit=\"10.0375\" stroke-width=\"0.711319\"/>\n",
       "</g>\n",
       "<g fill=\"#f00\" transform=\"matrix(.8 .6 -.6 .8 415.326 -160.458)\">\n",
       "<use x=\"440.773947\" y=\"550.464126\" xlink:href=\"#g0-0\"/>\n",
       "<use x=\"450.072444\" y=\"550.464126\" xlink:href=\"#g1-51\"/>\n",
       "</g>\n",
       "<g transform=\"translate(340.228 337.677)scale(.996264)\">\n",
       "<path d=\"M128.393 206.638L126.686 208.345\" fill=\"none\" stroke=\"#ff0000\" stroke-linecap=\"round\" stroke-linejoin=\"round\" stroke-miterlimit=\"10.0375\" stroke-width=\"0.426791\"/>\n",
       "</g>\n",
       "<g transform=\"translate(340.228 337.677)scale(.996264)\">\n",
       "<path d=\"M142.619 213.751L140.912 215.458\" fill=\"none\" stroke=\"#ff0000\" stroke-linecap=\"round\" stroke-linejoin=\"round\" stroke-miterlimit=\"10.0375\" stroke-width=\"0.426791\"/>\n",
       "</g>\n",
       "<g transform=\"translate(340.228 337.677)scale(.996264)\">\n",
       "<path d=\"M156.846 220.865L155.139 222.572\" fill=\"none\" stroke=\"#ff0000\" stroke-linecap=\"round\" stroke-linejoin=\"round\" stroke-miterlimit=\"10.0375\" stroke-width=\"0.426791\"/>\n",
       "</g>\n",
       "<g transform=\"translate(340.228 337.677)scale(.996264)\">\n",
       "<path d=\"M171.072 227.978L167.658 231.392\" fill=\"none\" stroke=\"#ff0000\" stroke-linecap=\"round\" stroke-linejoin=\"round\" stroke-miterlimit=\"10.0375\" stroke-width=\"0.711319\"/>\n",
       "</g>\n",
       "<g fill=\"#f00\" transform=\"matrix(.8 .6 -.6 .8 443.6722 -188.8046)\">\n",
       "<use x=\"497.466866\" y=\"578.81057\" xlink:href=\"#g0-0\"/>\n",
       "<use x=\"506.765363\" y=\"578.81057\" xlink:href=\"#g1-50\"/>\n",
       "</g>\n",
       "<g transform=\"translate(340.228 337.677)scale(.996264)\">\n",
       "<path d=\"M185.299 235.091L183.591 236.798\" fill=\"none\" stroke=\"#ff0000\" stroke-linecap=\"round\" stroke-linejoin=\"round\" stroke-miterlimit=\"10.0375\" stroke-width=\"0.426791\"/>\n",
       "</g>\n",
       "<g transform=\"translate(340.228 337.677)scale(.996264)\">\n",
       "<path d=\"M199.525 242.204L197.818 243.911\" fill=\"none\" stroke=\"#ff0000\" stroke-linecap=\"round\" stroke-linejoin=\"round\" stroke-miterlimit=\"10.0375\" stroke-width=\"0.426791\"/>\n",
       "</g>\n",
       "<g transform=\"translate(340.228 337.677)scale(.996264)\">\n",
       "<path d=\"M213.751 249.317L212.044 251.024\" fill=\"none\" stroke=\"#ff0000\" stroke-linecap=\"round\" stroke-linejoin=\"round\" stroke-miterlimit=\"10.0375\" stroke-width=\"0.426791\"/>\n",
       "</g>\n",
       "<g transform=\"translate(340.228 337.677)scale(.996264)\">\n",
       "<path d=\"M227.978 256.43L224.563 259.845\" fill=\"none\" stroke=\"#ff0000\" stroke-linecap=\"round\" stroke-linejoin=\"round\" stroke-miterlimit=\"10.0375\" stroke-width=\"0.711319\"/>\n",
       "</g>\n",
       "<g fill=\"#f00\" transform=\"matrix(.8 .6 -.6 .8 472.019 -217.151)\">\n",
       "<use x=\"554.15977\" y=\"607.15703\" xlink:href=\"#g0-0\"/>\n",
       "<use x=\"563.458267\" y=\"607.15703\" xlink:href=\"#g1-49\"/>\n",
       "</g>\n",
       "<g transform=\"translate(340.228 337.677)scale(.996264)\">\n",
       "<path d=\"M242.204 263.544L240.497 265.251\" fill=\"none\" stroke=\"#ff0000\" stroke-linecap=\"round\" stroke-linejoin=\"round\" stroke-miterlimit=\"10.0375\" stroke-width=\"0.426791\"/>\n",
       "</g>\n",
       "<g transform=\"translate(340.228 337.677)scale(.996264)\">\n",
       "<path d=\"M256.43 270.657L254.723 272.364\" fill=\"none\" stroke=\"#ff0000\" stroke-linecap=\"round\" stroke-linejoin=\"round\" stroke-miterlimit=\"10.0375\" stroke-width=\"0.426791\"/>\n",
       "</g>\n",
       "<g transform=\"translate(340.228 337.677)scale(.996264)\">\n",
       "<path d=\"M270.657 277.77L268.95 279.477\" fill=\"none\" stroke=\"#ff0000\" stroke-linecap=\"round\" stroke-linejoin=\"round\" stroke-miterlimit=\"10.0375\" stroke-width=\"0.426791\"/>\n",
       "</g>\n",
       "<g transform=\"translate(340.228 337.677)scale(.996264)\">\n",
       "<path d=\"M341.789 313.336L338.374 316.75\" fill=\"none\" stroke=\"#ff0000\" stroke-linecap=\"round\" stroke-linejoin=\"round\" stroke-miterlimit=\"10.0375\" stroke-width=\"0.711319\"/>\n",
       "</g>\n",
       "<g fill=\"#f00\" transform=\"matrix(.8 .6 -.6 .8 528.7118 -273.8434)\">\n",
       "<use x=\"672.194846\" y=\"663.849933\" xlink:href=\"#g1-49\"/>\n",
       "</g>\n",
       "<g transform=\"translate(340.228 337.677)scale(.996264)\">\n",
       "<path d=\"M327.562 306.223L325.855 307.93\" fill=\"none\" stroke=\"#ff0000\" stroke-linecap=\"round\" stroke-linejoin=\"round\" stroke-miterlimit=\"10.0375\" stroke-width=\"0.426791\"/>\n",
       "</g>\n",
       "<g transform=\"translate(340.228 337.677)scale(.996264)\">\n",
       "<path d=\"M313.336 299.11L311.629 300.817\" fill=\"none\" stroke=\"#ff0000\" stroke-linecap=\"round\" stroke-linejoin=\"round\" stroke-miterlimit=\"10.0375\" stroke-width=\"0.426791\"/>\n",
       "</g>\n",
       "<g transform=\"translate(340.228 337.677)scale(.996264)\">\n",
       "<path d=\"M299.11 291.996L297.402 293.704\" fill=\"none\" stroke=\"#ff0000\" stroke-linecap=\"round\" stroke-linejoin=\"round\" stroke-miterlimit=\"10.0375\" stroke-width=\"0.426791\"/>\n",
       "</g>\n",
       "<g transform=\"translate(340.228 337.677)scale(.996264)\">\n",
       "<path d=\"M398.694 341.789L395.28 345.203\" fill=\"none\" stroke=\"#ff0000\" stroke-linecap=\"round\" stroke-linejoin=\"round\" stroke-miterlimit=\"10.0375\" stroke-width=\"0.711319\"/>\n",
       "</g>\n",
       "<g fill=\"#f00\" transform=\"matrix(.8 .6 -.6 .8 557.058 -302.19)\">\n",
       "<use x=\"728.887749\" y=\"692.196393\" xlink:href=\"#g1-50\"/>\n",
       "</g>\n",
       "<g transform=\"translate(340.228 337.677)scale(.996264)\">\n",
       "<path d=\"M384.468 334.676L382.761 336.383\" fill=\"none\" stroke=\"#ff0000\" stroke-linecap=\"round\" stroke-linejoin=\"round\" stroke-miterlimit=\"10.0375\" stroke-width=\"0.426791\"/>\n",
       "</g>\n",
       "<g transform=\"translate(340.228 337.677)scale(.996264)\">\n",
       "<path d=\"M370.241 327.562L368.534 329.27\" fill=\"none\" stroke=\"#ff0000\" stroke-linecap=\"round\" stroke-linejoin=\"round\" stroke-miterlimit=\"10.0375\" stroke-width=\"0.426791\"/>\n",
       "</g>\n",
       "<g transform=\"translate(340.228 337.677)scale(.996264)\">\n",
       "<path d=\"M356.015 320.449L354.308 322.156\" fill=\"none\" stroke=\"#ff0000\" stroke-linecap=\"round\" stroke-linejoin=\"round\" stroke-miterlimit=\"10.0375\" stroke-width=\"0.426791\"/>\n",
       "</g>\n",
       "<g transform=\"translate(340.228 337.677)scale(.996264)\">\n",
       "<path d=\"M455.6 370.241L452.185 373.656\" fill=\"none\" stroke=\"#ff0000\" stroke-linecap=\"round\" stroke-linejoin=\"round\" stroke-miterlimit=\"10.0375\" stroke-width=\"0.711319\"/>\n",
       "</g>\n",
       "<g fill=\"#f00\" transform=\"matrix(.8 .6 -.6 .8 585.4042 -330.5366)\">\n",
       "<use x=\"785.580669\" y=\"720.542853\" xlink:href=\"#g1-51\"/>\n",
       "</g>\n",
       "<g transform=\"translate(340.228 337.677)scale(.996264)\">\n",
       "<path d=\"M441.373 363.128L439.666 364.835\" fill=\"none\" stroke=\"#ff0000\" stroke-linecap=\"round\" stroke-linejoin=\"round\" stroke-miterlimit=\"10.0375\" stroke-width=\"0.426791\"/>\n",
       "</g>\n",
       "<g transform=\"translate(340.228 337.677)scale(.996264)\">\n",
       "<path d=\"M427.147 356.015L425.44 357.722\" fill=\"none\" stroke=\"#ff0000\" stroke-linecap=\"round\" stroke-linejoin=\"round\" stroke-miterlimit=\"10.0375\" stroke-width=\"0.426791\"/>\n",
       "</g>\n",
       "<g transform=\"translate(340.228 337.677)scale(.996264)\">\n",
       "<path d=\"M412.921 348.902L411.213 350.609\" fill=\"none\" stroke=\"#ff0000\" stroke-linecap=\"round\" stroke-linejoin=\"round\" stroke-miterlimit=\"10.0375\" stroke-width=\"0.426791\"/>\n",
       "</g>\n",
       "<g transform=\"translate(340.228 337.677)scale(.996264)\">\n",
       "<path d=\"M512.505 398.694L509.091 402.109\" fill=\"none\" stroke=\"#ff0000\" stroke-linecap=\"round\" stroke-linejoin=\"round\" stroke-miterlimit=\"10.0375\" stroke-width=\"0.711319\"/>\n",
       "</g>\n",
       "<g fill=\"#f00\" transform=\"matrix(.8 .6 -.6 .8 613.751 -358.883)\">\n",
       "<use x=\"842.273572\" y=\"748.889297\" xlink:href=\"#g1-52\"/>\n",
       "</g>\n",
       "<g transform=\"translate(340.228 337.677)scale(.996264)\">\n",
       "<path d=\"M498.279 391.581L496.572 393.288\" fill=\"none\" stroke=\"#ff0000\" stroke-linecap=\"round\" stroke-linejoin=\"round\" stroke-miterlimit=\"10.0375\" stroke-width=\"0.426791\"/>\n",
       "</g>\n",
       "<g transform=\"translate(340.228 337.677)scale(.996264)\">\n",
       "<path d=\"M484.053 384.468L482.345 386.175\" fill=\"none\" stroke=\"#ff0000\" stroke-linecap=\"round\" stroke-linejoin=\"round\" stroke-miterlimit=\"10.0375\" stroke-width=\"0.426791\"/>\n",
       "</g>\n",
       "<g transform=\"translate(340.228 337.677)scale(.996264)\">\n",
       "<path d=\"M469.826 377.355L468.119 379.062\" fill=\"none\" stroke=\"#ff0000\" stroke-linecap=\"round\" stroke-linejoin=\"round\" stroke-miterlimit=\"10.0375\" stroke-width=\"0.426791\"/>\n",
       "</g>\n",
       "<g transform=\"translate(340.228 337.677)scale(.996264)\">\n",
       "<path d=\"M85.7139 484.053L80.0234 481.207\" fill=\"none\" stroke=\"#ff0000\" stroke-linecap=\"round\" stroke-linejoin=\"round\" stroke-miterlimit=\"10.0375\" stroke-width=\"0.711319\"/>\n",
       "</g>\n",
       "<g fill=\"#f00\" transform=\"matrix(.8 .6 -.6 .8 572.2826 -87.2358)\">\n",
       "<use x=\"401.843672\" y=\"818.159624\" xlink:href=\"#g0-0\"/>\n",
       "<use x=\"411.142169\" y=\"818.159624\" xlink:href=\"#g1-55\"/>\n",
       "</g>\n",
       "<g transform=\"translate(340.228 337.677)scale(.996264)\">\n",
       "<path d=\"M92.8271 476.939L89.9818 475.517\" fill=\"none\" stroke=\"#ff0000\" stroke-linecap=\"round\" stroke-linejoin=\"round\" stroke-miterlimit=\"10.0375\" stroke-width=\"0.426791\"/>\n",
       "</g>\n",
       "<g transform=\"translate(340.228 337.677)scale(.996264)\">\n",
       "<path d=\"M99.9403 469.826L97.095 468.403\" fill=\"none\" stroke=\"#ff0000\" stroke-linecap=\"round\" stroke-linejoin=\"round\" stroke-miterlimit=\"10.0375\" stroke-width=\"0.426791\"/>\n",
       "</g>\n",
       "<g transform=\"translate(340.228 337.677)scale(.996264)\">\n",
       "<path d=\"M107.053 462.713L104.208 461.29\" fill=\"none\" stroke=\"#ff0000\" stroke-linecap=\"round\" stroke-linejoin=\"round\" stroke-miterlimit=\"10.0375\" stroke-width=\"0.426791\"/>\n",
       "</g>\n",
       "<g transform=\"translate(340.228 337.677)scale(.996264)\">\n",
       "<path d=\"M114.167 455.6L108.476 452.754\" fill=\"none\" stroke=\"#ff0000\" stroke-linecap=\"round\" stroke-linejoin=\"round\" stroke-miterlimit=\"10.0375\" stroke-width=\"0.711319\"/>\n",
       "</g>\n",
       "<g fill=\"#f00\" transform=\"matrix(.8 .6 -.6 .8 560.9438 -109.9134)\">\n",
       "<use x=\"430.190132\" y=\"789.813164\" xlink:href=\"#g0-0\"/>\n",
       "<use x=\"439.488629\" y=\"789.813164\" xlink:href=\"#g1-54\"/>\n",
       "</g>\n",
       "<g transform=\"translate(340.228 337.677)scale(.996264)\">\n",
       "<path d=\"M121.28 448.487L118.435 447.064\" fill=\"none\" stroke=\"#ff0000\" stroke-linecap=\"round\" stroke-linejoin=\"round\" stroke-miterlimit=\"10.0375\" stroke-width=\"0.426791\"/>\n",
       "</g>\n",
       "<g transform=\"translate(340.228 337.677)scale(.996264)\">\n",
       "<path d=\"M128.393 441.373L125.548 439.951\" fill=\"none\" stroke=\"#ff0000\" stroke-linecap=\"round\" stroke-linejoin=\"round\" stroke-miterlimit=\"10.0375\" stroke-width=\"0.426791\"/>\n",
       "</g>\n",
       "<g transform=\"translate(340.228 337.677)scale(.996264)\">\n",
       "<path d=\"M135.506 434.26L132.661 432.838\" fill=\"none\" stroke=\"#ff0000\" stroke-linecap=\"round\" stroke-linejoin=\"round\" stroke-miterlimit=\"10.0375\" stroke-width=\"0.426791\"/>\n",
       "</g>\n",
       "<g transform=\"translate(340.228 337.677)scale(.996264)\">\n",
       "<path d=\"M142.619 427.147L136.929 424.302\" fill=\"none\" stroke=\"#ff0000\" stroke-linecap=\"round\" stroke-linejoin=\"round\" stroke-miterlimit=\"10.0375\" stroke-width=\"0.711319\"/>\n",
       "</g>\n",
       "<g fill=\"#f00\" transform=\"matrix(.8 .6 -.6 .8 549.6054 -132.5902)\">\n",
       "<use x=\"458.536591\" y=\"761.466704\" xlink:href=\"#g0-0\"/>\n",
       "<use x=\"467.835088\" y=\"761.466704\" xlink:href=\"#g1-53\"/>\n",
       "</g>\n",
       "<g transform=\"translate(340.228 337.677)scale(.996264)\">\n",
       "<path d=\"M149.733 420.034L146.887 418.611\" fill=\"none\" stroke=\"#ff0000\" stroke-linecap=\"round\" stroke-linejoin=\"round\" stroke-miterlimit=\"10.0375\" stroke-width=\"0.426791\"/>\n",
       "</g>\n",
       "<g transform=\"translate(340.228 337.677)scale(.996264)\">\n",
       "<path d=\"M156.846 412.921L154.001 411.498\" fill=\"none\" stroke=\"#ff0000\" stroke-linecap=\"round\" stroke-linejoin=\"round\" stroke-miterlimit=\"10.0375\" stroke-width=\"0.426791\"/>\n",
       "</g>\n",
       "<g transform=\"translate(340.228 337.677)scale(.996264)\">\n",
       "<path d=\"M163.959 405.807L161.114 404.385\" fill=\"none\" stroke=\"#ff0000\" stroke-linecap=\"round\" stroke-linejoin=\"round\" stroke-miterlimit=\"10.0375\" stroke-width=\"0.426791\"/>\n",
       "</g>\n",
       "<g transform=\"translate(340.228 337.677)scale(.996264)\">\n",
       "<path d=\"M171.072 398.694L165.382 395.849\" fill=\"none\" stroke=\"#ff0000\" stroke-linecap=\"round\" stroke-linejoin=\"round\" stroke-miterlimit=\"10.0375\" stroke-width=\"0.711319\"/>\n",
       "</g>\n",
       "<g fill=\"#f00\" transform=\"matrix(.8 .6 -.6 .8 538.2666 -155.2678)\">\n",
       "<use x=\"486.883036\" y=\"733.12026\" xlink:href=\"#g0-0\"/>\n",
       "<use x=\"496.181533\" y=\"733.12026\" xlink:href=\"#g1-52\"/>\n",
       "</g>\n",
       "<g transform=\"translate(340.228 337.677)scale(.996264)\">\n",
       "<path d=\"M178.185 391.581L175.34 390.158\" fill=\"none\" stroke=\"#ff0000\" stroke-linecap=\"round\" stroke-linejoin=\"round\" stroke-miterlimit=\"10.0375\" stroke-width=\"0.426791\"/>\n",
       "</g>\n",
       "<g transform=\"translate(340.228 337.677)scale(.996264)\">\n",
       "<path d=\"M185.299 384.468L182.453 383.045\" fill=\"none\" stroke=\"#ff0000\" stroke-linecap=\"round\" stroke-linejoin=\"round\" stroke-miterlimit=\"10.0375\" stroke-width=\"0.426791\"/>\n",
       "</g>\n",
       "<g transform=\"translate(340.228 337.677)scale(.996264)\">\n",
       "<path d=\"M192.412 377.355L189.566 375.932\" fill=\"none\" stroke=\"#ff0000\" stroke-linecap=\"round\" stroke-linejoin=\"round\" stroke-miterlimit=\"10.0375\" stroke-width=\"0.426791\"/>\n",
       "</g>\n",
       "<g transform=\"translate(340.228 337.677)scale(.996264)\">\n",
       "<path d=\"M199.525 370.241L193.834 367.396\" fill=\"none\" stroke=\"#ff0000\" stroke-linecap=\"round\" stroke-linejoin=\"round\" stroke-miterlimit=\"10.0375\" stroke-width=\"0.711319\"/>\n",
       "</g>\n",
       "<g fill=\"#f00\" transform=\"matrix(.8 .6 -.6 .8 526.9282 -177.9446)\">\n",
       "<use x=\"515.229495\" y=\"704.773801\" xlink:href=\"#g0-0\"/>\n",
       "<use x=\"524.527992\" y=\"704.773801\" xlink:href=\"#g1-51\"/>\n",
       "</g>\n",
       "<g transform=\"translate(340.228 337.677)scale(.996264)\">\n",
       "<path d=\"M206.638 363.128L203.793 361.706\" fill=\"none\" stroke=\"#ff0000\" stroke-linecap=\"round\" stroke-linejoin=\"round\" stroke-miterlimit=\"10.0375\" stroke-width=\"0.426791\"/>\n",
       "</g>\n",
       "<g transform=\"translate(340.228 337.677)scale(.996264)\">\n",
       "<path d=\"M213.751 356.015L210.906 354.592\" fill=\"none\" stroke=\"#ff0000\" stroke-linecap=\"round\" stroke-linejoin=\"round\" stroke-miterlimit=\"10.0375\" stroke-width=\"0.426791\"/>\n",
       "</g>\n",
       "<g transform=\"translate(340.228 337.677)scale(.996264)\">\n",
       "<path d=\"M220.865 348.902L218.019 347.479\" fill=\"none\" stroke=\"#ff0000\" stroke-linecap=\"round\" stroke-linejoin=\"round\" stroke-miterlimit=\"10.0375\" stroke-width=\"0.426791\"/>\n",
       "</g>\n",
       "<g transform=\"translate(340.228 337.677)scale(.996264)\">\n",
       "<path d=\"M227.978 341.789L222.287 338.943\" fill=\"none\" stroke=\"#ff0000\" stroke-linecap=\"round\" stroke-linejoin=\"round\" stroke-miterlimit=\"10.0375\" stroke-width=\"0.711319\"/>\n",
       "</g>\n",
       "<g fill=\"#f00\" transform=\"matrix(.8 .6 -.6 .8 515.5892 -200.6216)\">\n",
       "<use x=\"543.575955\" y=\"676.427341\" xlink:href=\"#g0-0\"/>\n",
       "<use x=\"552.874452\" y=\"676.427341\" xlink:href=\"#g1-50\"/>\n",
       "</g>\n",
       "<g transform=\"translate(340.228 337.677)scale(.996264)\">\n",
       "<path d=\"M235.091 334.676L232.246 333.253\" fill=\"none\" stroke=\"#ff0000\" stroke-linecap=\"round\" stroke-linejoin=\"round\" stroke-miterlimit=\"10.0375\" stroke-width=\"0.426791\"/>\n",
       "</g>\n",
       "<g transform=\"translate(340.228 337.677)scale(.996264)\">\n",
       "<path d=\"M242.204 327.562L239.359 326.14\" fill=\"none\" stroke=\"#ff0000\" stroke-linecap=\"round\" stroke-linejoin=\"round\" stroke-miterlimit=\"10.0375\" stroke-width=\"0.426791\"/>\n",
       "</g>\n",
       "<g transform=\"translate(340.228 337.677)scale(.996264)\">\n",
       "<path d=\"M249.317 320.449L246.472 319.027\" fill=\"none\" stroke=\"#ff0000\" stroke-linecap=\"round\" stroke-linejoin=\"round\" stroke-miterlimit=\"10.0375\" stroke-width=\"0.426791\"/>\n",
       "</g>\n",
       "<g transform=\"translate(340.228 337.677)scale(.996264)\">\n",
       "<path d=\"M256.43 313.336L250.74 310.491\" fill=\"none\" stroke=\"#ff0000\" stroke-linecap=\"round\" stroke-linejoin=\"round\" stroke-miterlimit=\"10.0375\" stroke-width=\"0.711319\"/>\n",
       "</g>\n",
       "<g fill=\"#f00\" transform=\"matrix(.8 .6 -.6 .8 504.251 -223.299)\">\n",
       "<use x=\"571.922414\" y=\"648.080881\" xlink:href=\"#g0-0\"/>\n",
       "<use x=\"581.220911\" y=\"648.080881\" xlink:href=\"#g1-49\"/>\n",
       "</g>\n",
       "<g transform=\"translate(340.228 337.677)scale(.996264)\">\n",
       "<path d=\"M263.544 306.223L260.698 304.8\" fill=\"none\" stroke=\"#ff0000\" stroke-linecap=\"round\" stroke-linejoin=\"round\" stroke-miterlimit=\"10.0375\" stroke-width=\"0.426791\"/>\n",
       "</g>\n",
       "<g transform=\"translate(340.228 337.677)scale(.996264)\">\n",
       "<path d=\"M270.657 299.11L267.812 297.687\" fill=\"none\" stroke=\"#ff0000\" stroke-linecap=\"round\" stroke-linejoin=\"round\" stroke-miterlimit=\"10.0375\" stroke-width=\"0.426791\"/>\n",
       "</g>\n",
       "<g transform=\"translate(340.228 337.677)scale(.996264)\">\n",
       "<path d=\"M277.77 291.996L274.925 290.574\" fill=\"none\" stroke=\"#ff0000\" stroke-linecap=\"round\" stroke-linejoin=\"round\" stroke-miterlimit=\"10.0375\" stroke-width=\"0.426791\"/>\n",
       "</g>\n",
       "<g transform=\"translate(340.228 337.677)scale(.996264)\">\n",
       "<path d=\"M313.336 256.43L307.645 253.585\" fill=\"none\" stroke=\"#ff0000\" stroke-linecap=\"round\" stroke-linejoin=\"round\" stroke-miterlimit=\"10.0375\" stroke-width=\"0.711319\"/>\n",
       "</g>\n",
       "<g fill=\"#f00\" transform=\"matrix(.8 .6 -.6 .8 481.5738 -268.6534)\">\n",
       "<use x=\"637.913808\" y=\"591.886094\" xlink:href=\"#g1-49\"/>\n",
       "</g>\n",
       "<g transform=\"translate(340.228 337.677)scale(.996264)\">\n",
       "<path d=\"M306.223 263.544L303.378 262.121\" fill=\"none\" stroke=\"#ff0000\" stroke-linecap=\"round\" stroke-linejoin=\"round\" stroke-miterlimit=\"10.0375\" stroke-width=\"0.426791\"/>\n",
       "</g>\n",
       "<g transform=\"translate(340.228 337.677)scale(.996264)\">\n",
       "<path d=\"M299.11 270.657L296.264 269.234\" fill=\"none\" stroke=\"#ff0000\" stroke-linecap=\"round\" stroke-linejoin=\"round\" stroke-miterlimit=\"10.0375\" stroke-width=\"0.426791\"/>\n",
       "</g>\n",
       "<g transform=\"translate(340.228 337.677)scale(.996264)\">\n",
       "<path d=\"M291.996 277.77L289.151 276.347\" fill=\"none\" stroke=\"#ff0000\" stroke-linecap=\"round\" stroke-linejoin=\"round\" stroke-miterlimit=\"10.0375\" stroke-width=\"0.426791\"/>\n",
       "</g>\n",
       "<g transform=\"translate(340.228 337.677)scale(.996264)\">\n",
       "<path d=\"M341.789 227.978L336.098 225.132\" fill=\"none\" stroke=\"#ff0000\" stroke-linecap=\"round\" stroke-linejoin=\"round\" stroke-miterlimit=\"10.0375\" stroke-width=\"0.711319\"/>\n",
       "</g>\n",
       "<g fill=\"#f00\" transform=\"matrix(.8 .6 -.6 .8 470.2348 -291.3304)\">\n",
       "<use x=\"666.260267\" y=\"563.539635\" xlink:href=\"#g1-50\"/>\n",
       "</g>\n",
       "<g transform=\"translate(340.228 337.677)scale(.996264)\">\n",
       "<path d=\"M334.676 235.091L331.83 233.668\" fill=\"none\" stroke=\"#ff0000\" stroke-linecap=\"round\" stroke-linejoin=\"round\" stroke-miterlimit=\"10.0375\" stroke-width=\"0.426791\"/>\n",
       "</g>\n",
       "<g transform=\"translate(340.228 337.677)scale(.996264)\">\n",
       "<path d=\"M327.562 242.204L324.717 240.781\" fill=\"none\" stroke=\"#ff0000\" stroke-linecap=\"round\" stroke-linejoin=\"round\" stroke-miterlimit=\"10.0375\" stroke-width=\"0.426791\"/>\n",
       "</g>\n",
       "<g transform=\"translate(340.228 337.677)scale(.996264)\">\n",
       "<path d=\"M320.449 249.317L317.604 247.895\" fill=\"none\" stroke=\"#ff0000\" stroke-linecap=\"round\" stroke-linejoin=\"round\" stroke-miterlimit=\"10.0375\" stroke-width=\"0.426791\"/>\n",
       "</g>\n",
       "<g transform=\"translate(340.228 337.677)scale(.996264)\">\n",
       "<path d=\"M370.241 199.525L364.551 196.68\" fill=\"none\" stroke=\"#ff0000\" stroke-linecap=\"round\" stroke-linejoin=\"round\" stroke-miterlimit=\"10.0375\" stroke-width=\"0.711319\"/>\n",
       "</g>\n",
       "<g fill=\"#f00\" transform=\"matrix(.8 .6 -.6 .8 458.8966 -314.0078)\">\n",
       "<use x=\"694.606727\" y=\"535.193175\" xlink:href=\"#g1-51\"/>\n",
       "</g>\n",
       "<g transform=\"translate(340.228 337.677)scale(.996264)\">\n",
       "<path d=\"M363.128 206.638L360.283 205.216\" fill=\"none\" stroke=\"#ff0000\" stroke-linecap=\"round\" stroke-linejoin=\"round\" stroke-miterlimit=\"10.0375\" stroke-width=\"0.426791\"/>\n",
       "</g>\n",
       "<g transform=\"translate(340.228 337.677)scale(.996264)\">\n",
       "<path d=\"M356.015 213.751L353.17 212.329\" fill=\"none\" stroke=\"#ff0000\" stroke-linecap=\"round\" stroke-linejoin=\"round\" stroke-miterlimit=\"10.0375\" stroke-width=\"0.426791\"/>\n",
       "</g>\n",
       "<g transform=\"translate(340.228 337.677)scale(.996264)\">\n",
       "<path d=\"M348.902 220.865L346.057 219.442\" fill=\"none\" stroke=\"#ff0000\" stroke-linecap=\"round\" stroke-linejoin=\"round\" stroke-miterlimit=\"10.0375\" stroke-width=\"0.426791\"/>\n",
       "</g>\n",
       "<g transform=\"translate(340.228 337.677)scale(.996264)\">\n",
       "<path d=\"M398.694 171.072L393.004 168.227\" fill=\"none\" stroke=\"#ff0000\" stroke-linecap=\"round\" stroke-linejoin=\"round\" stroke-miterlimit=\"10.0375\" stroke-width=\"0.711319\"/>\n",
       "</g>\n",
       "<g fill=\"#f00\" transform=\"matrix(.8 .6 -.6 .8 447.5582 -336.6846)\">\n",
       "<use x=\"722.953186\" y=\"506.846716\" xlink:href=\"#g1-52\"/>\n",
       "</g>\n",
       "<g transform=\"translate(340.228 337.677)scale(.996264)\">\n",
       "<path d=\"M391.581 178.185L388.736 176.763\" fill=\"none\" stroke=\"#ff0000\" stroke-linecap=\"round\" stroke-linejoin=\"round\" stroke-miterlimit=\"10.0375\" stroke-width=\"0.426791\"/>\n",
       "</g>\n",
       "<g transform=\"translate(340.228 337.677)scale(.996264)\">\n",
       "<path d=\"M384.468 185.299L381.623 183.876\" fill=\"none\" stroke=\"#ff0000\" stroke-linecap=\"round\" stroke-linejoin=\"round\" stroke-miterlimit=\"10.0375\" stroke-width=\"0.426791\"/>\n",
       "</g>\n",
       "<g transform=\"translate(340.228 337.677)scale(.996264)\">\n",
       "<path d=\"M377.355 192.412L374.509 190.989\" fill=\"none\" stroke=\"#ff0000\" stroke-linecap=\"round\" stroke-linejoin=\"round\" stroke-miterlimit=\"10.0375\" stroke-width=\"0.426791\"/>\n",
       "</g>\n",
       "<g transform=\"translate(340.228 337.677)scale(.996264)\">\n",
       "<path d=\"M427.147 142.619L421.456 139.774\" fill=\"none\" stroke=\"#ff0000\" stroke-linecap=\"round\" stroke-linejoin=\"round\" stroke-miterlimit=\"10.0375\" stroke-width=\"0.711319\"/>\n",
       "</g>\n",
       "<g fill=\"#f00\" transform=\"matrix(.8 .6 -.6 .8 436.2194 -359.3622)\">\n",
       "<use x=\"751.299646\" y=\"478.500256\" xlink:href=\"#g1-53\"/>\n",
       "</g>\n",
       "<g transform=\"translate(340.228 337.677)scale(.996264)\">\n",
       "<path d=\"M420.034 149.733L417.189 148.31\" fill=\"none\" stroke=\"#ff0000\" stroke-linecap=\"round\" stroke-linejoin=\"round\" stroke-miterlimit=\"10.0375\" stroke-width=\"0.426791\"/>\n",
       "</g>\n",
       "<g transform=\"translate(340.228 337.677)scale(.996264)\">\n",
       "<path d=\"M412.921 156.846L410.075 155.423\" fill=\"none\" stroke=\"#ff0000\" stroke-linecap=\"round\" stroke-linejoin=\"round\" stroke-miterlimit=\"10.0375\" stroke-width=\"0.426791\"/>\n",
       "</g>\n",
       "<g transform=\"translate(340.228 337.677)scale(.996264)\">\n",
       "<path d=\"M405.807 163.959L402.962 162.536\" fill=\"none\" stroke=\"#ff0000\" stroke-linecap=\"round\" stroke-linejoin=\"round\" stroke-miterlimit=\"10.0375\" stroke-width=\"0.426791\"/>\n",
       "</g>\n",
       "<g transform=\"translate(340.228 337.677)scale(.996264)\">\n",
       "<path d=\"M455.6 114.167L449.909 111.321\" fill=\"none\" stroke=\"#ff0000\" stroke-linecap=\"round\" stroke-linejoin=\"round\" stroke-miterlimit=\"10.0375\" stroke-width=\"0.711319\"/>\n",
       "</g>\n",
       "<g fill=\"#f00\" transform=\"matrix(.8 .6 -.6 .8 424.881 -382.039)\">\n",
       "<use x=\"779.646106\" y=\"450.153796\" xlink:href=\"#g1-54\"/>\n",
       "</g>\n",
       "<g transform=\"translate(340.228 337.677)scale(.996264)\">\n",
       "<path d=\"M448.487 121.28L445.641 119.857\" fill=\"none\" stroke=\"#ff0000\" stroke-linecap=\"round\" stroke-linejoin=\"round\" stroke-miterlimit=\"10.0375\" stroke-width=\"0.426791\"/>\n",
       "</g>\n",
       "<g transform=\"translate(340.228 337.677)scale(.996264)\">\n",
       "<path d=\"M441.373 128.393L438.528 126.97\" fill=\"none\" stroke=\"#ff0000\" stroke-linecap=\"round\" stroke-linejoin=\"round\" stroke-miterlimit=\"10.0375\" stroke-width=\"0.426791\"/>\n",
       "</g>\n",
       "<g transform=\"translate(340.228 337.677)scale(.996264)\">\n",
       "<path d=\"M434.26 135.506L431.415 134.084\" fill=\"none\" stroke=\"#ff0000\" stroke-linecap=\"round\" stroke-linejoin=\"round\" stroke-miterlimit=\"10.0375\" stroke-width=\"0.426791\"/>\n",
       "</g>\n",
       "<g transform=\"translate(340.228 337.677)scale(.996264)\">\n",
       "<path d=\"M484.053 85.7139L478.362 82.8687\" fill=\"none\" stroke=\"#ff0000\" stroke-linecap=\"round\" stroke-linejoin=\"round\" stroke-miterlimit=\"10.0375\" stroke-width=\"0.711319\"/>\n",
       "</g>\n",
       "<g fill=\"#f00\" transform=\"matrix(.8 .6 -.6 .8 413.5422 -404.7166)\">\n",
       "<use x=\"807.99255\" y=\"421.807352\" xlink:href=\"#g1-55\"/>\n",
       "</g>\n",
       "<g transform=\"translate(340.228 337.677)scale(.996264)\">\n",
       "<path d=\"M476.939 92.8271L474.094 91.4045\" fill=\"none\" stroke=\"#ff0000\" stroke-linecap=\"round\" stroke-linejoin=\"round\" stroke-miterlimit=\"10.0375\" stroke-width=\"0.426791\"/>\n",
       "</g>\n",
       "<g transform=\"translate(340.228 337.677)scale(.996264)\">\n",
       "<path d=\"M469.826 99.9403L466.981 98.5177\" fill=\"none\" stroke=\"#ff0000\" stroke-linecap=\"round\" stroke-linejoin=\"round\" stroke-miterlimit=\"10.0375\" stroke-width=\"0.426791\"/>\n",
       "</g>\n",
       "<g transform=\"translate(340.228 337.677)scale(.996264)\">\n",
       "<path d=\"M462.713 107.053L459.868 105.631\" fill=\"none\" stroke=\"#ff0000\" stroke-linecap=\"round\" stroke-linejoin=\"round\" stroke-miterlimit=\"10.0375\" stroke-width=\"0.426791\"/>\n",
       "</g>\n",
       "<g transform=\"translate(340.228 337.677)scale(.996264)\">\n",
       "<path d=\"M336.699 310.791L284.883 284.883\" fill=\"none\" stroke=\"#ff0000\" stroke-linecap=\"round\" stroke-linejoin=\"round\" stroke-miterlimit=\"10.0375\" stroke-width=\"1.5649\"/>\n",
       "</g>\n",
       "<g transform=\"translate(340.228 337.677)scale(.996264)\">\n",
       "<path d=\"M341.789 313.336L337.381 309.427L336.017 312.155L341.789 313.336Z\" fill=\"#ff0000\"/>\n",
       "</g>\n",
       "<g transform=\"translate(340.228 337.677)scale(.996264)\">\n",
       "<path d=\"M341.789 313.336L337.381 309.427L336.017 312.155L341.789 313.336Z\" fill=\"none\" stroke=\"#ff0000\" stroke-linecap=\"round\" stroke-linejoin=\"round\" stroke-miterlimit=\"10.0375\" stroke-width=\"1.5649\"/>\n",
       "</g>\n",
       "<g transform=\"translate(340.228 337.677)scale(.996264)\">\n",
       "<path d=\"M309.312 260.454L284.883 284.883\" fill=\"none\" stroke=\"#ff0000\" stroke-linecap=\"round\" stroke-linejoin=\"round\" stroke-miterlimit=\"10.0375\" stroke-width=\"1.5649\"/>\n",
       "</g>\n",
       "<g transform=\"translate(340.228 337.677)scale(.996264)\">\n",
       "<path d=\"M313.336 256.43L308.234 259.376L310.39 261.532L313.336 256.43Z\" fill=\"#ff0000\"/>\n",
       "</g>\n",
       "<g transform=\"translate(340.228 337.677)scale(.996264)\">\n",
       "<path d=\"M313.336 256.43L308.234 259.376L310.39 261.532L313.336 256.43Z\" fill=\"none\" stroke=\"#ff0000\" stroke-linecap=\"round\" stroke-linejoin=\"round\" stroke-miterlimit=\"10.0375\" stroke-width=\"1.5649\"/>\n",
       "</g>\n",
       "<g transform=\"translate(340.228 337.677)scale(.996264)\">\n",
       "<path d=\"M147.287 92.2482L284.883 284.883\" fill=\"none\" stroke=\"#0000ff\" stroke-linecap=\"round\" stroke-linejoin=\"round\" stroke-miterlimit=\"10.0375\" stroke-width=\"1.5649\"/>\n",
       "</g>\n",
       "<g transform=\"translate(340.228 337.677)scale(.996264)\">\n",
       "<path d=\"M142.619 85.7139L145.536 93.4988L149.038 90.9976L142.619 85.7139Z\" fill=\"#0000ff\"/>\n",
       "</g>\n",
       "<g transform=\"translate(340.228 337.677)scale(.996264)\">\n",
       "<path d=\"M142.619 85.7139L145.536 93.4988L149.038 90.9976L142.619 85.7139Z\" fill=\"none\" stroke=\"#0000ff\" stroke-linecap=\"round\" stroke-linejoin=\"round\" stroke-miterlimit=\"10.0375\" stroke-width=\"1.5649\"/>\n",
       "</g>\n",
       "<g transform=\"translate(340.228 337.677)scale(.996264)\">\n",
       "<path d=\"M57.2612 171.072L142.619 85.7139L370.241 199.525\" fill=\"none\" stroke=\"#ff0000\" stroke-dasharray=\"2.27396,2.27396,2.27396,2.27396\" stroke-linecap=\"round\" stroke-linejoin=\"round\" stroke-miterlimit=\"10.0375\" stroke-width=\"0.284528\"/>\n",
       "</g>\n",
       "</g>\n",
       "</svg>"
      ],
      "text/plain": [
       "<IPython.core.display.SVG object>"
      ]
     },
     "execution_count": 16,
     "metadata": {},
     "output_type": "execute_result"
    }
   ],
   "source": [
    "%%asy --fmt svg\n",
    "import geometry;\n",
    "import coordenades;\n",
    "import graph;\n",
    "\n",
    "unitsize(1cm);\n",
    "pair o = (0,0),\n",
    "     u = (-4,3);\n",
    "\n",
    "Canonica(-10,10,-10,10);\n",
    "picture p = Coordenades(-5,5,-8,8,color=red,tickx=0.12,ticky=0.1,base=true,quadricula=false);\n",
    "draw(p,o--u,blue+linewidth(0.55mm),Arrow(8));\n",
    "draw(p,(u.x,0)--u--(0,u.y),linetype(\"8 8 8 8\")+linewidth(0.1mm)+red);\n",
    "transform tr = Base((2,-1),(1,1));\n",
    "add(tr*p);"
   ]
  },
  {
   "cell_type": "markdown",
   "metadata": {},
   "source": [
    "Les coordenades del vector $\\vec u$ en la base canònica seran "
   ]
  },
  {
   "cell_type": "code",
   "execution_count": 17,
   "metadata": {},
   "outputs": [
    {
     "data": {
      "text/html": [
       "<html>\\(\\displaystyle \\left(-5,\\,7\\right)\\)</html>"
      ],
      "text/latex": [
       "$\\displaystyle \\left(-5,\\,7\\right)$"
      ],
      "text/plain": [
       "(-5, 7)"
      ]
     },
     "metadata": {},
     "output_type": "display_data"
    }
   ],
   "source": [
    "u1 = vector([2,-1])\n",
    "u2 = vector([1,1])\n",
    "u = -4*u1+3*u2\n",
    "show(u)"
   ]
  },
  {
   "cell_type": "markdown",
   "metadata": {},
   "source": [
    "és a dir, $\\vec u=(-4,3)_{\\mathcal{B}'}=(-5,7)$."
   ]
  },
  {
   "cell_type": "markdown",
   "metadata": {},
   "source": [
    "## Exercici 11\n",
    "Determineu el vector que té components $(1,-2,1)$ en la base\n",
    "$$\n",
    "  \\mathcal{B}'=\\{(3,-1,1),(2,1,0),(-1,2,4)\\} \\,. \n",
    "$$"
   ]
  },
  {
   "cell_type": "markdown",
   "metadata": {},
   "source": [
    "Observem que també podríem escriure $\\vec u=(1,-2,1)_{\\mathcal{B}'}$. Aleshores, $\\vec u=1(3,-1,1)-2(2,1,0)+1(-1,2,4)$."
   ]
  },
  {
   "cell_type": "code",
   "execution_count": 18,
   "metadata": {},
   "outputs": [
    {
     "data": {
      "text/html": [
       "<html>\\(\\displaystyle \\left(-2,\\,-1,\\,5\\right)\\)</html>"
      ],
      "text/latex": [
       "$\\displaystyle \\left(-2,\\,-1,\\,5\\right)$"
      ],
      "text/plain": [
       "(-2, -1, 5)"
      ]
     },
     "metadata": {},
     "output_type": "display_data"
    }
   ],
   "source": [
    "u1 = vector([3,-1,1])\n",
    "u2 = vector([2,1,0])\n",
    "u3 = vector([-1,2,4])\n",
    "u = u1-2*u2+u3\n",
    "show(u)"
   ]
  },
  {
   "cell_type": "markdown",
   "metadata": {},
   "source": [
    "Les components del vector $\\vec u$ en la base canònica són $(-2,-1,5)$, és a dir, $\\vec u=(-2,-1,5)$."
   ]
  },
  {
   "cell_type": "markdown",
   "metadata": {},
   "source": [
    "## Exercici 12\n",
    "Calculeu les components del vector $\\vec u=(-2,2,-10)$ en la base\n",
    "$$\\mathcal{B}'=\\{(1,2,-1),(2,1,-2),(3,2,1)\\} \\,. $$"
   ]
  },
  {
   "cell_type": "markdown",
   "metadata": {},
   "source": [
    "Hem de trobar els coeficients $x'$, $y'$ i $z'$ tals que\n",
    "$$\n",
    "  (-2,2,-10)=x'(1,2,-1) + y'(2,1,-2) + z'(3,2,1)\\,.\n",
    "$$\n",
    "**Observació**: Com a variables o incògnites $x'$, $y'$ i $z'$, farem servir x1, y1 i z1."
   ]
  },
  {
   "cell_type": "code",
   "execution_count": 21,
   "metadata": {},
   "outputs": [
    {
     "data": {
      "text/html": [
       "<html>\\(\\displaystyle \\left[\\left[x_{1} = 3, y_{1} = 2, z_{1} = \\left(-3\\right)\\right]\\right]\\)</html>"
      ],
      "text/latex": [
       "$\\displaystyle \\left[\\left[x_{1} = 3, y_{1} = 2, z_{1} = \\left(-3\\right)\\right]\\right]$"
      ],
      "text/plain": [
       "[[x1 == 3, y1 == 2, z1 == -3]]"
      ]
     },
     "metadata": {},
     "output_type": "display_data"
    }
   ],
   "source": [
    "x1, y1, z1 = var('x1 y1 z1')\n",
    "show(solve([x1 + 2*y1 + 3*z1 == -2, 2*x1 + y1 + 2*z1 == 2, -x1 - 2*y1 + z1 == -10],[x1,y1,z1]))"
   ]
  },
  {
   "cell_type": "markdown",
   "metadata": {},
   "source": [
    "Les components del vector $\\vec u=(-2,2,-1)$ en la base $\\mathcal{B}'$ són $(3,2,-3)$, és a dir,\n",
    "$$\n",
    "  \\vec u=(-2,2,-1)=(3,2,-3)_{\\mathcal{B}'}\\,.\n",
    "$$"
   ]
  },
  {
   "cell_type": "markdown",
   "metadata": {},
   "source": [
    "## Exercici 13\n",
    "Les equacions d'una recta de $V_3$ en la base canònica són\n",
    "$$\n",
    "  \\left.\\begin{aligned} \n",
    "    x+3y-z&=0\\\\\n",
    "   -2x+y+3z&=0\n",
    "  \\end{aligned}\\right\\}\\,.\n",
    "$$\n",
    "1. Calculeu la matriu de canvi de base de la base $\\mathcal{B}'=\\{(1,1,1),(2,3,3),(1,2,0)\\}$ a la base canònica i escriviu la corresponent fórmula del canvi de base.\n",
    "2. Determineu les equacions de la recta anterior en la base $\\mathcal{B}'$."
   ]
  },
  {
   "cell_type": "markdown",
   "metadata": {},
   "source": [
    "Apartat (b)"
   ]
  },
  {
   "cell_type": "code",
   "execution_count": 22,
   "metadata": {},
   "outputs": [
    {
     "data": {
      "text/html": [
       "<html>\\(\\displaystyle \\left[x + 3 \\, y - z = 0, -2 \\, x + y + 3 \\, z = 0\\right]\\)</html>"
      ],
      "text/latex": [
       "$\\displaystyle \\left[x + 3 \\, y - z = 0, -2 \\, x + y + 3 \\, z = 0\\right]$"
      ],
      "text/plain": [
       "[x + 3*y - z == 0, -2*x + y + 3*z == 0]"
      ]
     },
     "metadata": {},
     "output_type": "display_data"
    }
   ],
   "source": [
    "x, y, z = var('x y z')\n",
    "eqs = [x + 3*y - z == 0,-2*x + y + 3*z == 0]\n",
    "show(eqs)"
   ]
  },
  {
   "cell_type": "code",
   "execution_count": 23,
   "metadata": {},
   "outputs": [
    {
     "data": {
      "text/html": [
       "<html>\\(\\displaystyle \\left(\\begin{array}{rrr}\n",
       "1 & 2 & 1 \\\\\n",
       "1 & 3 & 2 \\\\\n",
       "1 & 3 & 0\n",
       "\\end{array}\\right)\\)</html>"
      ],
      "text/latex": [
       "$\\displaystyle \\left(\\begin{array}{rrr}\n",
       "1 & 2 & 1 \\\\\n",
       "1 & 3 & 2 \\\\\n",
       "1 & 3 & 0\n",
       "\\end{array}\\right)$"
      ],
      "text/plain": [
       "[1 2 1]\n",
       "[1 3 2]\n",
       "[1 3 0]"
      ]
     },
     "metadata": {},
     "output_type": "display_data"
    }
   ],
   "source": [
    "C = matrix([[1,2,1],[1,3,2],[1,3,0]])\n",
    "show(C)"
   ]
  },
  {
   "cell_type": "code",
   "execution_count": 25,
   "metadata": {},
   "outputs": [
    {
     "data": {
      "text/html": [
       "<html>\\(\\displaystyle x_{1} + 2 \\, y_{1} + z_{1}\\)</html>"
      ],
      "text/latex": [
       "$\\displaystyle x_{1} + 2 \\, y_{1} + z_{1}$"
      ],
      "text/plain": [
       "x1 + 2*y1 + z1"
      ]
     },
     "metadata": {},
     "output_type": "display_data"
    },
    {
     "data": {
      "text/html": [
       "<html>\\(\\displaystyle x_{1} + 3 \\, y_{1} + 2 \\, z_{1}\\)</html>"
      ],
      "text/latex": [
       "$\\displaystyle x_{1} + 3 \\, y_{1} + 2 \\, z_{1}$"
      ],
      "text/plain": [
       "x1 + 3*y1 + 2*z1"
      ]
     },
     "metadata": {},
     "output_type": "display_data"
    },
    {
     "data": {
      "text/html": [
       "<html>\\(\\displaystyle x_{1} + 3 \\, y_{1}\\)</html>"
      ],
      "text/latex": [
       "$\\displaystyle x_{1} + 3 \\, y_{1}$"
      ],
      "text/plain": [
       "x1 + 3*y1"
      ]
     },
     "metadata": {},
     "output_type": "display_data"
    }
   ],
   "source": [
    "x1, y1, z1 = var('x1 y1 z1')\n",
    "X1 = vector([x1,y1,z1])\n",
    "x, y, z = C * X1\n",
    "show(x)\n",
    "show(y)\n",
    "show(z)"
   ]
  },
  {
   "cell_type": "code",
   "execution_count": 27,
   "metadata": {},
   "outputs": [
    {
     "data": {
      "text/html": [
       "<html>\\(\\displaystyle 3 \\, x_{1} + 8 \\, y_{1} + 7 \\, z_{1} = 0\\)</html>"
      ],
      "text/latex": [
       "$\\displaystyle 3 \\, x_{1} + 8 \\, y_{1} + 7 \\, z_{1} = 0$"
      ],
      "text/plain": [
       "3*x1 + 8*y1 + 7*z1 == 0"
      ]
     },
     "metadata": {},
     "output_type": "display_data"
    }
   ],
   "source": [
    "eq1 = eqs[0].subs(x=x,y=y,z=z).expand()\n",
    "show(eq1)"
   ]
  },
  {
   "cell_type": "code",
   "execution_count": 28,
   "metadata": {},
   "outputs": [
    {
     "data": {
      "text/html": [
       "<html>\\(\\displaystyle 2 \\, x_{1} + 8 \\, y_{1} = 0\\)</html>"
      ],
      "text/latex": [
       "$\\displaystyle 2 \\, x_{1} + 8 \\, y_{1} = 0$"
      ],
      "text/plain": [
       "2*x1 + 8*y1 == 0"
      ]
     },
     "metadata": {},
     "output_type": "display_data"
    }
   ],
   "source": [
    "eq2 = eqs[1].subs(x=x,y=y,z=z).expand()\n",
    "show(eq2)"
   ]
  },
  {
   "cell_type": "markdown",
   "metadata": {},
   "source": [
    "Les equacions de la recta en la base $\\mathcal{B}'$ són\n",
    "$$\n",
    "  \\left.\\begin{aligned} \n",
    "    3x'+8y'+7z'&=0\\\\\n",
    "    2x'+8y'&=0\n",
    "  \\end{aligned}\\right\\}\\,,\n",
    "  \\qquad\\text{o bé,}\\qquad\n",
    "  \\left.\\begin{aligned} \n",
    "    3x'+8y'+7z'&=0\\\\\n",
    "    x'+4y'&=0\n",
    "  \\end{aligned}\\right\\}\\,.\n",
    "$$"
   ]
  },
  {
   "cell_type": "markdown",
   "metadata": {
    "tags": []
   },
   "source": [
    "## Exercici 14\n",
    "L'equació d'un pla vectorial de $V_3$ en la base $\\mathcal{B}'=\\{(1,1,1),(1,2,2),(-1,-1,0)\\}$ és\n",
    "$$x'-2y'-3z'=0 \\,. $$\n",
    "1. Calculeu la matriu de canvi de base de la base canònica a la base $\\mathcal{B}'$ i escriviu la corresponent fórmula de canvi de base.\n",
    "1. Determineu l'equació del pla anterior en la base canònica."
   ]
  },
  {
   "cell_type": "code",
   "execution_count": 29,
   "metadata": {},
   "outputs": [
    {
     "data": {
      "text/html": [
       "<html>\\(\\displaystyle \\left(\\begin{array}{rrr}\n",
       "2 & -2 & 1 \\\\\n",
       "-1 & 1 & 0 \\\\\n",
       "0 & -1 & 1\n",
       "\\end{array}\\right)\\)</html>"
      ],
      "text/latex": [
       "$\\displaystyle \\left(\\begin{array}{rrr}\n",
       "2 & -2 & 1 \\\\\n",
       "-1 & 1 & 0 \\\\\n",
       "0 & -1 & 1\n",
       "\\end{array}\\right)$"
      ],
      "text/plain": [
       "[ 2 -2  1]\n",
       "[-1  1  0]\n",
       "[ 0 -1  1]"
      ]
     },
     "metadata": {},
     "output_type": "display_data"
    }
   ],
   "source": [
    "C = matrix([[1,1,-1],[1,2,-1],[1,2,0]])\n",
    "show(C.inverse())"
   ]
  },
  {
   "cell_type": "markdown",
   "metadata": {},
   "source": [
    "L'expressió o fórmula del canvi de base de $\\mathcal{B}_c$ a $\\mathcal{B}'$ és\n",
    "$$\n",
    "  \\left(\\begin{array}{c} x' \\\\ y' \\\\ z'\\end{array}\\right) \n",
    "  =\\left(\\begin{array}{rrr}\n",
    "   2 & -2 & 1 \\\\\n",
    "  -1 &  1 & 0 \\\\\n",
    "   0 & -1 & 1\n",
    "  \\end{array}\\right) \n",
    "  \\left(\\begin{array}{c} x \\\\ y \\\\ z\\end{array}\\right)\\,. \n",
    "$$"
   ]
  },
  {
   "cell_type": "code",
   "execution_count": 35,
   "metadata": {},
   "outputs": [
    {
     "data": {
      "text/html": [
       "<html>\\(\\displaystyle x_{1} - 2 \\, y_{1} - 3 \\, z_{1} = 0\\)</html>"
      ],
      "text/latex": [
       "$\\displaystyle x_{1} - 2 \\, y_{1} - 3 \\, z_{1} = 0$"
      ],
      "text/plain": [
       "x1 - 2*y1 - 3*z1 == 0"
      ]
     },
     "metadata": {},
     "output_type": "display_data"
    }
   ],
   "source": [
    "x1, y1, z1 = var('x1 y1 z1')\n",
    "eq1 = x1 - 2*y1 -3*z1 == 0\n",
    "show(eq1)"
   ]
  },
  {
   "cell_type": "code",
   "execution_count": 36,
   "metadata": {},
   "outputs": [
    {
     "data": {
      "text/html": [
       "<html>\\(\\displaystyle 2 \\, x - 2 \\, y + z\\)</html>"
      ],
      "text/latex": [
       "$\\displaystyle 2 \\, x - 2 \\, y + z$"
      ],
      "text/plain": [
       "2*x - 2*y + z"
      ]
     },
     "metadata": {},
     "output_type": "display_data"
    },
    {
     "data": {
      "text/html": [
       "<html>\\(\\displaystyle -x + y\\)</html>"
      ],
      "text/latex": [
       "$\\displaystyle -x + y$"
      ],
      "text/plain": [
       "-x + y"
      ]
     },
     "metadata": {},
     "output_type": "display_data"
    },
    {
     "data": {
      "text/html": [
       "<html>\\(\\displaystyle -y + z\\)</html>"
      ],
      "text/latex": [
       "$\\displaystyle -y + z$"
      ],
      "text/plain": [
       "-y + z"
      ]
     },
     "metadata": {},
     "output_type": "display_data"
    }
   ],
   "source": [
    "x, y, z = var('x y z')\n",
    "X = vector([x,y,z])\n",
    "x1, y1, z1 = C.inverse() * X\n",
    "show(x1)\n",
    "show(y1)\n",
    "show(z1)"
   ]
  },
  {
   "cell_type": "code",
   "execution_count": 37,
   "metadata": {},
   "outputs": [
    {
     "data": {
      "text/html": [
       "<html>\\(\\displaystyle 4 \\, x - y - 2 \\, z = 0\\)</html>"
      ],
      "text/latex": [
       "$\\displaystyle 4 \\, x - y - 2 \\, z = 0$"
      ],
      "text/plain": [
       "4*x - y - 2*z == 0"
      ]
     },
     "metadata": {},
     "output_type": "display_data"
    }
   ],
   "source": [
    "eq = eq1.subs(x1=x1,y1=y1,z1=z1).expand()\n",
    "show(eq)"
   ]
  },
  {
   "cell_type": "markdown",
   "metadata": {},
   "source": [
    "Així doncs, l'equació del pla en la base canònica és\n",
    "$$\n",
    "  4x-y-2z=0\\,.\n",
    "$$"
   ]
  },
  {
   "cell_type": "markdown",
   "metadata": {},
   "source": [
    "## Exercici 15\n",
    "L'equació d'un pla de $V_3$ en la base $\\mathcal{B}'=\\{(1,1,1),(0,1,1),(0,0,1)\\}$ és\n",
    "$$\n",
    "  2x'+y'-z'=0 \\,.\n",
    "$$\n",
    "1. Calculeu la matriu de canvi de base de la base $\\mathcal{B}''=\\{(1,2,1),(2,1,1),(1,1,2)\\}$ a la base $\\mathcal{B}'$ i escriviu la corresponent fórmula de canvi de base.\n",
    "1. Calculeu l'equació del pla anterior en la base $\\mathcal{B}''$."
   ]
  },
  {
   "cell_type": "code",
   "execution_count": 38,
   "metadata": {},
   "outputs": [
    {
     "data": {
      "text/html": [
       "<html>\\(\\displaystyle \\left(\\begin{array}{rrr}\n",
       "1 & 0 & 0 \\\\\n",
       "1 & 1 & 0 \\\\\n",
       "1 & 1 & 1\n",
       "\\end{array}\\right)\\)</html>"
      ],
      "text/latex": [
       "$\\displaystyle \\left(\\begin{array}{rrr}\n",
       "1 & 0 & 0 \\\\\n",
       "1 & 1 & 0 \\\\\n",
       "1 & 1 & 1\n",
       "\\end{array}\\right)$"
      ],
      "text/plain": [
       "[1 0 0]\n",
       "[1 1 0]\n",
       "[1 1 1]"
      ]
     },
     "metadata": {},
     "output_type": "display_data"
    }
   ],
   "source": [
    "C = matrix([[1,0,0],[1,1,0],[1,1,1]])\n",
    "D = matrix([[1,2,1],[2,1,1],[1,1,2]])\n",
    "show(C)"
   ]
  },
  {
   "cell_type": "code",
   "execution_count": 39,
   "metadata": {},
   "outputs": [
    {
     "data": {
      "text/html": [
       "<html>\\(\\displaystyle \\left(\\begin{array}{rrr}\n",
       "1 & 2 & 1 \\\\\n",
       "2 & 1 & 1 \\\\\n",
       "1 & 1 & 2\n",
       "\\end{array}\\right)\\)</html>"
      ],
      "text/latex": [
       "$\\displaystyle \\left(\\begin{array}{rrr}\n",
       "1 & 2 & 1 \\\\\n",
       "2 & 1 & 1 \\\\\n",
       "1 & 1 & 2\n",
       "\\end{array}\\right)$"
      ],
      "text/plain": [
       "[1 2 1]\n",
       "[2 1 1]\n",
       "[1 1 2]"
      ]
     },
     "metadata": {},
     "output_type": "display_data"
    }
   ],
   "source": [
    "show(D)"
   ]
  },
  {
   "cell_type": "code",
   "execution_count": 40,
   "metadata": {},
   "outputs": [
    {
     "data": {
      "text/html": [
       "<html>\\(\\displaystyle \\left(\\begin{array}{rrr}\n",
       "1 & 2 & 1 \\\\\n",
       "1 & -1 & 0 \\\\\n",
       "-1 & 0 & 1\n",
       "\\end{array}\\right)\\)</html>"
      ],
      "text/latex": [
       "$\\displaystyle \\left(\\begin{array}{rrr}\n",
       "1 & 2 & 1 \\\\\n",
       "1 & -1 & 0 \\\\\n",
       "-1 & 0 & 1\n",
       "\\end{array}\\right)$"
      ],
      "text/plain": [
       "[ 1  2  1]\n",
       "[ 1 -1  0]\n",
       "[-1  0  1]"
      ]
     },
     "metadata": {},
     "output_type": "display_data"
    }
   ],
   "source": [
    "E = C.inverse() * D\n",
    "show(E)"
   ]
  },
  {
   "cell_type": "markdown",
   "metadata": {},
   "source": [
    "La matriu del canvi de base de $\\mathcal{B}''$ a $\\mathcal{B}'$ és\n",
    "$$\n",
    "  E=\\left(\\begin{array}{rrr}\n",
    "   1 &  2 & 1 \\\\\n",
    "   1 & -1 & 0 \\\\\n",
    "  -1 &  0 & 1\n",
    "  \\end{array}\\right) \n",
    "$$\n",
    "i l'expressió del canvi de base de $\\mathcal{B}''$ a $\\mathcal{B}'$\n",
    "$$\n",
    "  \\left(\\begin{array}{c} x' \\\\ y' \\\\ z'\\end{array}\\right)\n",
    "  =\\left(\\begin{array}{rrr}\n",
    "   1 &  2 & 1 \\\\\n",
    "   1 & -1 & 0 \\\\\n",
    "  -1 &  0 & 1\n",
    "  \\end{array}\\right) \n",
    "  \\left(\\begin{array}{c} x'' \\\\ y'' \\\\ z''\\end{array}\\right)\\,.\n",
    "$$"
   ]
  },
  {
   "cell_type": "code",
   "execution_count": 42,
   "metadata": {},
   "outputs": [
    {
     "data": {
      "text/html": [
       "<html>\\(\\displaystyle 2 \\, x_{1} + y_{1} - z_{1} = 0\\)</html>"
      ],
      "text/latex": [
       "$\\displaystyle 2 \\, x_{1} + y_{1} - z_{1} = 0$"
      ],
      "text/plain": [
       "2*x1 + y1 - z1 == 0"
      ]
     },
     "metadata": {},
     "output_type": "display_data"
    }
   ],
   "source": [
    "x1, y1, z1 = var('x1 y1 z1')\n",
    "eq1 = 2*x1 + y1 - z1 == 0\n",
    "show(eq1)"
   ]
  },
  {
   "cell_type": "code",
   "execution_count": 44,
   "metadata": {},
   "outputs": [
    {
     "data": {
      "text/html": [
       "<html>\\(\\displaystyle x_{2} + 2 \\, y_{2} + z_{2}\\)</html>"
      ],
      "text/latex": [
       "$\\displaystyle x_{2} + 2 \\, y_{2} + z_{2}$"
      ],
      "text/plain": [
       "x2 + 2*y2 + z2"
      ]
     },
     "metadata": {},
     "output_type": "display_data"
    },
    {
     "data": {
      "text/html": [
       "<html>\\(\\displaystyle x_{2} - y_{2}\\)</html>"
      ],
      "text/latex": [
       "$\\displaystyle x_{2} - y_{2}$"
      ],
      "text/plain": [
       "x2 - y2"
      ]
     },
     "metadata": {},
     "output_type": "display_data"
    },
    {
     "data": {
      "text/html": [
       "<html>\\(\\displaystyle -x_{2} + z_{2}\\)</html>"
      ],
      "text/latex": [
       "$\\displaystyle -x_{2} + z_{2}$"
      ],
      "text/plain": [
       "-x2 + z2"
      ]
     },
     "metadata": {},
     "output_type": "display_data"
    }
   ],
   "source": [
    "x2, y2, z2 = var('x2 y2 z2')\n",
    "X2 = vector([x2,y2,z2])\n",
    "x1, y1, z1 = E * X2\n",
    "show(x1)\n",
    "show(y1)\n",
    "show(z1)"
   ]
  },
  {
   "cell_type": "code",
   "execution_count": 45,
   "metadata": {},
   "outputs": [
    {
     "data": {
      "text/html": [
       "<html>\\(\\displaystyle 4 \\, x_{2} + 3 \\, y_{2} + z_{2} = 0\\)</html>"
      ],
      "text/latex": [
       "$\\displaystyle 4 \\, x_{2} + 3 \\, y_{2} + z_{2} = 0$"
      ],
      "text/plain": [
       "4*x2 + 3*y2 + z2 == 0"
      ]
     },
     "metadata": {},
     "output_type": "display_data"
    }
   ],
   "source": [
    "eq2 = eq1.subs(x1=x1,y1=y1,z1=z1).expand()\n",
    "show(eq2)"
   ]
  },
  {
   "cell_type": "markdown",
   "metadata": {},
   "source": [
    "L'equació del pla en la base $\\mathcal{B}''$ és\n",
    "$$\n",
    "  4x''+3y''+z''=0\\,.\n",
    "$$"
   ]
  },
  {
   "cell_type": "markdown",
   "metadata": {},
   "source": [
    "## Exercici 16\n",
    "L'equació implícita del pla vectorial $P$ és $x-2y+3z=0$. Calculeu la seva equació en la base $\\mathcal{B}'=\\{(-2,1,1),(1,-1,2),(-1,1,-1)\\}$."
   ]
  },
  {
   "cell_type": "code",
   "execution_count": 46,
   "metadata": {},
   "outputs": [
    {
     "data": {
      "text/html": [
       "<html>\\(\\displaystyle \\left(\\begin{array}{rrr}\n",
       "-2 & 1 & -1 \\\\\n",
       "1 & -1 & 1 \\\\\n",
       "1 & 2 & -1\n",
       "\\end{array}\\right)\\)</html>"
      ],
      "text/latex": [
       "$\\displaystyle \\left(\\begin{array}{rrr}\n",
       "-2 & 1 & -1 \\\\\n",
       "1 & -1 & 1 \\\\\n",
       "1 & 2 & -1\n",
       "\\end{array}\\right)$"
      ],
      "text/plain": [
       "[-2  1 -1]\n",
       "[ 1 -1  1]\n",
       "[ 1  2 -1]"
      ]
     },
     "metadata": {},
     "output_type": "display_data"
    }
   ],
   "source": [
    "u1 = vector([-2,1,1])\n",
    "u2 = vector([1,-1,2])\n",
    "u3 = vector([-1,1,-1])\n",
    "C = matrix([u1,u2,u3]).T\n",
    "show(C)"
   ]
  },
  {
   "cell_type": "code",
   "execution_count": 47,
   "metadata": {},
   "outputs": [
    {
     "data": {
      "text/html": [
       "<html>\\(\\displaystyle x - 2 \\, y + 3 \\, z = 0\\)</html>"
      ],
      "text/latex": [
       "$\\displaystyle x - 2 \\, y + 3 \\, z = 0$"
      ],
      "text/plain": [
       "x - 2*y + 3*z == 0"
      ]
     },
     "metadata": {},
     "output_type": "display_data"
    }
   ],
   "source": [
    "x, y, z = var('x y z')\n",
    "eq = x - 2*y + 3*z == 0\n",
    "show(eq)"
   ]
  },
  {
   "cell_type": "code",
   "execution_count": 48,
   "metadata": {},
   "outputs": [
    {
     "data": {
      "text/html": [
       "<html>\\(\\displaystyle -2 \\, x_{1} + y_{1} - z_{1}\\)</html>"
      ],
      "text/latex": [
       "$\\displaystyle -2 \\, x_{1} + y_{1} - z_{1}$"
      ],
      "text/plain": [
       "-2*x1 + y1 - z1"
      ]
     },
     "metadata": {},
     "output_type": "display_data"
    },
    {
     "data": {
      "text/html": [
       "<html>\\(\\displaystyle x_{1} - y_{1} + z_{1}\\)</html>"
      ],
      "text/latex": [
       "$\\displaystyle x_{1} - y_{1} + z_{1}$"
      ],
      "text/plain": [
       "x1 - y1 + z1"
      ]
     },
     "metadata": {},
     "output_type": "display_data"
    },
    {
     "data": {
      "text/html": [
       "<html>\\(\\displaystyle x_{1} + 2 \\, y_{1} - z_{1}\\)</html>"
      ],
      "text/latex": [
       "$\\displaystyle x_{1} + 2 \\, y_{1} - z_{1}$"
      ],
      "text/plain": [
       "x1 + 2*y1 - z1"
      ]
     },
     "metadata": {},
     "output_type": "display_data"
    }
   ],
   "source": [
    "x1, y1, z1 = var('x1 y1 z1')\n",
    "X1 = vector([x1,y1,z1])\n",
    "x, y, z = C * X1\n",
    "show(x)\n",
    "show(y)\n",
    "show(z)"
   ]
  },
  {
   "cell_type": "code",
   "execution_count": 49,
   "metadata": {},
   "outputs": [
    {
     "data": {
      "text/html": [
       "<html>\\(\\displaystyle -x_{1} + 9 \\, y_{1} - 6 \\, z_{1} = 0\\)</html>"
      ],
      "text/latex": [
       "$\\displaystyle -x_{1} + 9 \\, y_{1} - 6 \\, z_{1} = 0$"
      ],
      "text/plain": [
       "-x1 + 9*y1 - 6*z1 == 0"
      ]
     },
     "metadata": {},
     "output_type": "display_data"
    }
   ],
   "source": [
    "eq1 = eq.subs(x=x,y=y,z=z).expand()\n",
    "show(eq1)"
   ]
  },
  {
   "cell_type": "markdown",
   "metadata": {},
   "source": [
    "Si canviem de signe, tenim que l'equació de $P$ en la base $\\mathcal{B}'$ és $x'-9y'+6z'=0$."
   ]
  },
  {
   "cell_type": "markdown",
   "metadata": {
    "tags": []
   },
   "source": [
    "## Exercici 17\n",
    "Representeu la recta vectorial que en la base $\\mathcal{B}'=\\{(1,1),(-2,1)\\}$ té equació $2x'-3y'=0$. Quina és la seva equació en la base canònica?"
   ]
  },
  {
   "cell_type": "markdown",
   "metadata": {},
   "source": [
    "El vector $\\vec u=(3,2)_{\\mathcal{B}'}$ és un generador de la recta vectorial. Aleshores, la representació gràfica és"
   ]
  },
  {
   "cell_type": "code",
   "execution_count": 50,
   "metadata": {},
   "outputs": [
    {
     "data": {
      "image/svg+xml": [
       "<svg xmlns=\"http://www.w3.org/2000/svg\" xmlns:xlink=\"http://www.w3.org/1999/xlink\" version=\"1.1\" width=\"567.637796pt\" height=\"567.637796pt\" viewBox=\"340.228346 337.677165 567.637796 567.637796\">\n",
       "<defs>\n",
       "<path id=\"g0-0\" d=\"M7.878456-2.749689C8.081694-2.749689 8.296887-2.749689 8.296887-2.988792S8.081694-3.227895 7.878456-3.227895H1.41071C1.207472-3.227895 .992279-3.227895 .992279-2.988792S1.207472-2.749689 1.41071-2.749689H7.878456Z\"/>\n",
       "<path id=\"g1-49\" d=\"M3.443088-7.663263C3.443088-7.938232 3.443088-7.950187 3.203985-7.950187C2.917061-7.627397 2.319303-7.185056 1.08792-7.185056V-6.838356C1.362889-6.838356 1.960648-6.838356 2.618182-7.149191V-.920548C2.618182-.490162 2.582316-.3467 1.530262-.3467H1.159651V0C1.482441-.02391 2.642092-.02391 3.036613-.02391S4.578829-.02391 4.901619 0V-.3467H4.531009C3.478954-.3467 3.443088-.490162 3.443088-.920548V-7.663263Z\"/>\n",
       "<path id=\"g1-50\" d=\"M5.260274-2.008468H4.99726C4.961395-1.80523 4.865753-1.147696 4.746202-.956413C4.662516-.848817 3.981071-.848817 3.622416-.848817H1.41071C1.733499-1.123786 2.462765-1.888917 2.773599-2.175841C4.590785-3.849564 5.260274-4.471233 5.260274-5.654795C5.260274-7.029639 4.172354-7.950187 2.785554-7.950187S.585803-6.766625 .585803-5.738481C.585803-5.128767 1.111831-5.128767 1.147696-5.128767C1.398755-5.128767 1.709589-5.308095 1.709589-5.69066C1.709589-6.025405 1.482441-6.252553 1.147696-6.252553C1.0401-6.252553 1.016189-6.252553 .980324-6.240598C1.207472-7.053549 1.853051-7.603487 2.630137-7.603487C3.646326-7.603487 4.267995-6.75467 4.267995-5.654795C4.267995-4.638605 3.682192-3.753923 3.000747-2.988792L.585803-.286924V0H4.94944L5.260274-2.008468Z\"/>\n",
       "<path id=\"g1-51\" d=\"M2.199751-4.291905C1.996513-4.27995 1.948692-4.267995 1.948692-4.160399C1.948692-4.040847 2.008468-4.040847 2.223661-4.040847H2.773599C3.789788-4.040847 4.244085-3.203985 4.244085-2.056289C4.244085-.490162 3.431133-.071731 2.84533-.071731C2.271482-.071731 1.291158-.3467 .944458-1.135741C1.327024-1.075965 1.673724-1.291158 1.673724-1.721544C1.673724-2.068244 1.422665-2.307347 1.08792-2.307347C.800996-2.307347 .490162-2.139975 .490162-1.685679C.490162-.621669 1.554172 .251059 2.881196 .251059C4.303861 .251059 5.355915-.836862 5.355915-2.044334C5.355915-3.144209 4.471233-4.004981 3.323537-4.208219C4.363636-4.507098 5.033126-5.379826 5.033126-6.312329C5.033126-7.256787 4.052802-7.950187 2.893151-7.950187C1.697634-7.950187 .812951-7.220922 .812951-6.348194C.812951-5.869988 1.183562-5.774346 1.362889-5.774346C1.613948-5.774346 1.900872-5.953674 1.900872-6.312329C1.900872-6.694894 1.613948-6.862267 1.350934-6.862267C1.279203-6.862267 1.255293-6.862267 1.219427-6.850311C1.673724-7.663263 2.797509-7.663263 2.857285-7.663263C3.251806-7.663263 4.028892-7.483935 4.028892-6.312329C4.028892-6.085181 3.993026-5.415691 3.646326-4.901619C3.287671-4.375592 2.881196-4.339726 2.558406-4.327771L2.199751-4.291905Z\"/>\n",
       "<path id=\"g1-52\" d=\"M4.315816-7.782814C4.315816-8.009963 4.315816-8.069738 4.148443-8.069738C4.052802-8.069738 4.016936-8.069738 3.921295-7.926276L.32279-2.343213V-1.996513H3.466999V-.908593C3.466999-.466252 3.443088-.3467 2.570361-.3467H2.331258V0C2.606227-.02391 3.550685-.02391 3.88543-.02391S5.176588-.02391 5.451557 0V-.3467H5.212453C4.351681-.3467 4.315816-.466252 4.315816-.908593V-1.996513H5.523288V-2.343213H4.315816V-7.782814ZM3.526775-6.850311V-2.343213H.621669L3.526775-6.850311Z\"/>\n",
       "<path id=\"g1-53\" d=\"M1.530262-6.850311C2.044334-6.682939 2.462765-6.670984 2.594271-6.670984C3.945205-6.670984 4.805978-7.663263 4.805978-7.830635C4.805978-7.878456 4.782067-7.938232 4.710336-7.938232C4.686426-7.938232 4.662516-7.938232 4.554919-7.890411C3.88543-7.603487 3.311582-7.567621 3.000747-7.567621C2.211706-7.567621 1.649813-7.806725 1.422665-7.902366C1.338979-7.938232 1.315068-7.938232 1.303113-7.938232C1.207472-7.938232 1.207472-7.866501 1.207472-7.675218V-4.124533C1.207472-3.90934 1.207472-3.837609 1.350934-3.837609C1.41071-3.837609 1.422665-3.849564 1.542217-3.993026C1.876961-4.483188 2.438854-4.770112 3.036613-4.770112C3.670237-4.770112 3.981071-4.184309 4.076712-3.981071C4.27995-3.514819 4.291905-2.929016 4.291905-2.47472S4.291905-1.338979 3.957161-.800996C3.694147-.37061 3.227895-.071731 2.701868-.071731C1.912827-.071731 1.135741-.609714 .920548-1.482441C.980324-1.458531 1.052055-1.446575 1.111831-1.446575C1.315068-1.446575 1.637858-1.566127 1.637858-1.972603C1.637858-2.307347 1.41071-2.49863 1.111831-2.49863C.896638-2.49863 .585803-2.391034 .585803-1.924782C.585803-.908593 1.398755 .251059 2.725778 .251059C4.076712 .251059 5.260274-.884682 5.260274-2.402989C5.260274-3.825654 4.303861-5.009215 3.048568-5.009215C2.367123-5.009215 1.841096-4.710336 1.530262-4.375592V-6.850311Z\"/>\n",
       "<path id=\"g1-54\" d=\"M1.470486-4.160399C1.470486-7.185056 2.940971-7.663263 3.58655-7.663263C4.016936-7.663263 4.447323-7.531756 4.674471-7.173101C4.531009-7.173101 4.076712-7.173101 4.076712-6.682939C4.076712-6.419925 4.25604-6.192777 4.566874-6.192777C4.865753-6.192777 5.068991-6.372105 5.068991-6.718804C5.068991-7.340473 4.614695-7.950187 3.574595-7.950187C2.068244-7.950187 .490162-6.40797 .490162-3.777833C.490162-.490162 1.924782 .251059 2.940971 .251059C4.244085 .251059 5.355915-.884682 5.355915-2.438854C5.355915-4.028892 4.244085-5.092902 3.048568-5.092902C1.984558-5.092902 1.590037-4.172354 1.470486-3.837609V-4.160399ZM2.940971-.071731C2.187796-.071731 1.829141-.74122 1.721544-.992279C1.613948-1.303113 1.494396-1.888917 1.494396-2.725778C1.494396-3.670237 1.924782-4.853798 3.000747-4.853798C3.658281-4.853798 4.004981-4.411457 4.184309-4.004981C4.375592-3.56264 4.375592-2.964882 4.375592-2.450809C4.375592-1.841096 4.375592-1.303113 4.148443-.848817C3.849564-.274969 3.419178-.071731 2.940971-.071731Z\"/>\n",
       "<path id=\"g1-55\" d=\"M5.678705-7.424159V-7.699128H2.797509C1.350934-7.699128 1.327024-7.854545 1.279203-8.081694H1.016189L.645579-5.69066H.908593C.944458-5.905853 1.052055-6.647073 1.207472-6.77858C1.303113-6.850311 2.199751-6.850311 2.367123-6.850311H4.901619L3.634371-5.033126C3.311582-4.566874 2.10411-2.606227 2.10411-.358655C2.10411-.227148 2.10411 .251059 2.594271 .251059C3.096389 .251059 3.096389-.215193 3.096389-.37061V-.968369C3.096389-2.749689 3.383313-4.136488 3.945205-4.937484L5.678705-7.424159Z\"/>\n",
       "<path id=\"g1-56\" d=\"M3.56264-4.315816C4.160399-4.638605 5.033126-5.188543 5.033126-6.192777C5.033126-7.232877 4.028892-7.950187 2.929016-7.950187C1.745455-7.950187 .812951-7.07746 .812951-5.989539C.812951-5.583064 .932503-5.176588 1.267248-4.770112C1.398755-4.614695 1.41071-4.60274 2.247572-4.016936C1.08792-3.478954 .490162-2.677958 .490162-1.80523C.490162-.537983 1.697634 .251059 2.917061 .251059C4.244085 .251059 5.355915-.729265 5.355915-1.984558C5.355915-3.203985 4.495143-3.741968 3.56264-4.315816ZM1.936737-5.391781C1.78132-5.499377 1.303113-5.810212 1.303113-6.396015C1.303113-7.173101 2.116065-7.663263 2.917061-7.663263C3.777833-7.663263 4.542964-7.041594 4.542964-6.180822C4.542964-5.451557 4.016936-4.865753 3.323537-4.483188L1.936737-5.391781ZM2.49863-3.849564L3.945205-2.905106C4.25604-2.701868 4.805978-2.331258 4.805978-1.601993C4.805978-.6934 3.88543-.071731 2.929016-.071731C1.912827-.071731 1.0401-.812951 1.0401-1.80523C1.0401-2.737733 1.721544-3.490909 2.49863-3.849564Z\"/>\n",
       "<path id=\"g1-57\" d=\"M4.375592-3.478954C4.375592-.657534 3.120299-.071731 2.402989-.071731C2.116065-.071731 1.482441-.107597 1.183562-.526027H1.255293C1.338979-.502117 1.769365-.573848 1.769365-1.016189C1.769365-1.279203 1.590037-1.506351 1.279203-1.506351S.777086-1.303113 .777086-.992279C.777086-.251059 1.374844 .251059 2.414944 .251059C3.90934 .251059 5.355915-1.338979 5.355915-3.93325C5.355915-7.149191 4.016936-7.950187 2.964882-7.950187C1.649813-7.950187 .490162-6.850311 .490162-5.272229S1.601993-2.618182 2.797509-2.618182C3.682192-2.618182 4.136488-3.263761 4.375592-3.873474V-3.478954ZM2.84533-2.857285C2.092154-2.857285 1.769365-3.466999 1.661768-3.694147C1.470486-4.148443 1.470486-4.722291 1.470486-5.260274C1.470486-5.929763 1.470486-6.503611 1.78132-6.993773C1.996513-7.316563 2.319303-7.663263 2.964882-7.663263C3.646326-7.663263 3.993026-7.065504 4.112578-6.790535C4.351681-6.204732 4.351681-5.188543 4.351681-5.009215C4.351681-4.004981 3.897385-2.857285 2.84533-2.857285Z\"/>\n",
       "</defs>\n",
       "<g id=\"page1\">\n",
       "<g transform=\"translate(340.228 337.677)scale(.996264)\">\n",
       "<path d=\"M.355659 569.411V.355659\" fill=\"none\" stroke=\"#cccccc\" stroke-linecap=\"round\" stroke-linejoin=\"round\" stroke-miterlimit=\"10.0375\" stroke-width=\"0.426791\"/>\n",
       "</g>\n",
       "<g transform=\"translate(340.228 337.677)scale(.996264)\">\n",
       "<path d=\"M7.46885 569.411V.355659\" fill=\"none\" stroke=\"#cccccc\" stroke-dasharray=\"0,0.682969\" stroke-linecap=\"round\" stroke-linejoin=\"round\" stroke-miterlimit=\"10.0375\" stroke-width=\"0.170717\"/>\n",
       "</g>\n",
       "<g transform=\"translate(340.228 337.677)scale(.996264)\">\n",
       "<path d=\"M14.582 569.411V.355659\" fill=\"none\" stroke=\"#cccccc\" stroke-dasharray=\"0,0.682969\" stroke-linecap=\"round\" stroke-linejoin=\"round\" stroke-miterlimit=\"10.0375\" stroke-width=\"0.170717\"/>\n",
       "</g>\n",
       "<g transform=\"translate(340.228 337.677)scale(.996264)\">\n",
       "<path d=\"M21.6952 569.411V.355659\" fill=\"none\" stroke=\"#cccccc\" stroke-dasharray=\"0,0.682969\" stroke-linecap=\"round\" stroke-linejoin=\"round\" stroke-miterlimit=\"10.0375\" stroke-width=\"0.170717\"/>\n",
       "</g>\n",
       "<g transform=\"translate(340.228 337.677)scale(.996264)\">\n",
       "<path d=\"M28.8084 569.411V.355659\" fill=\"none\" stroke=\"#cccccc\" stroke-linecap=\"round\" stroke-linejoin=\"round\" stroke-miterlimit=\"10.0375\" stroke-width=\"0.426791\"/>\n",
       "</g>\n",
       "<g transform=\"translate(340.228 337.677)scale(.996264)\">\n",
       "<path d=\"M35.9216 569.411V.355659\" fill=\"none\" stroke=\"#cccccc\" stroke-dasharray=\"0,0.682969\" stroke-linecap=\"round\" stroke-linejoin=\"round\" stroke-miterlimit=\"10.0375\" stroke-width=\"0.170717\"/>\n",
       "</g>\n",
       "<g transform=\"translate(340.228 337.677)scale(.996264)\">\n",
       "<path d=\"M43.0348 569.411V.355659\" fill=\"none\" stroke=\"#cccccc\" stroke-dasharray=\"0,0.682969\" stroke-linecap=\"round\" stroke-linejoin=\"round\" stroke-miterlimit=\"10.0375\" stroke-width=\"0.170717\"/>\n",
       "</g>\n",
       "<g transform=\"translate(340.228 337.677)scale(.996264)\">\n",
       "<path d=\"M50.148 569.411V.355659\" fill=\"none\" stroke=\"#cccccc\" stroke-dasharray=\"0,0.682969\" stroke-linecap=\"round\" stroke-linejoin=\"round\" stroke-miterlimit=\"10.0375\" stroke-width=\"0.170717\"/>\n",
       "</g>\n",
       "<g transform=\"translate(340.228 337.677)scale(.996264)\">\n",
       "<path d=\"M57.2612 569.411V.355659\" fill=\"none\" stroke=\"#cccccc\" stroke-linecap=\"round\" stroke-linejoin=\"round\" stroke-miterlimit=\"10.0375\" stroke-width=\"0.426791\"/>\n",
       "</g>\n",
       "<g transform=\"translate(340.228 337.677)scale(.996264)\">\n",
       "<path d=\"M64.3744 569.411V.355659\" fill=\"none\" stroke=\"#cccccc\" stroke-dasharray=\"0,0.682969\" stroke-linecap=\"round\" stroke-linejoin=\"round\" stroke-miterlimit=\"10.0375\" stroke-width=\"0.170717\"/>\n",
       "</g>\n",
       "<g transform=\"translate(340.228 337.677)scale(.996264)\">\n",
       "<path d=\"M71.4875 569.411V.355659\" fill=\"none\" stroke=\"#cccccc\" stroke-dasharray=\"0,0.682969\" stroke-linecap=\"round\" stroke-linejoin=\"round\" stroke-miterlimit=\"10.0375\" stroke-width=\"0.170717\"/>\n",
       "</g>\n",
       "<g transform=\"translate(340.228 337.677)scale(.996264)\">\n",
       "<path d=\"M78.6007 569.411V.355659\" fill=\"none\" stroke=\"#cccccc\" stroke-dasharray=\"0,0.682969\" stroke-linecap=\"round\" stroke-linejoin=\"round\" stroke-miterlimit=\"10.0375\" stroke-width=\"0.170717\"/>\n",
       "</g>\n",
       "<g transform=\"translate(340.228 337.677)scale(.996264)\">\n",
       "<path d=\"M85.7139 569.411V.355659\" fill=\"none\" stroke=\"#cccccc\" stroke-linecap=\"round\" stroke-linejoin=\"round\" stroke-miterlimit=\"10.0375\" stroke-width=\"0.426791\"/>\n",
       "</g>\n",
       "<g transform=\"translate(340.228 337.677)scale(.996264)\">\n",
       "<path d=\"M92.8271 569.411V.355659\" fill=\"none\" stroke=\"#cccccc\" stroke-dasharray=\"0,0.682969\" stroke-linecap=\"round\" stroke-linejoin=\"round\" stroke-miterlimit=\"10.0375\" stroke-width=\"0.170717\"/>\n",
       "</g>\n",
       "<g transform=\"translate(340.228 337.677)scale(.996264)\">\n",
       "<path d=\"M99.9403 569.411V.355659\" fill=\"none\" stroke=\"#cccccc\" stroke-dasharray=\"0,0.682969\" stroke-linecap=\"round\" stroke-linejoin=\"round\" stroke-miterlimit=\"10.0375\" stroke-width=\"0.170717\"/>\n",
       "</g>\n",
       "<g transform=\"translate(340.228 337.677)scale(.996264)\">\n",
       "<path d=\"M107.053 569.411V.355659\" fill=\"none\" stroke=\"#cccccc\" stroke-dasharray=\"0,0.682969\" stroke-linecap=\"round\" stroke-linejoin=\"round\" stroke-miterlimit=\"10.0375\" stroke-width=\"0.170717\"/>\n",
       "</g>\n",
       "<g transform=\"translate(340.228 337.677)scale(.996264)\">\n",
       "<path d=\"M114.167 569.411V.355659\" fill=\"none\" stroke=\"#cccccc\" stroke-linecap=\"round\" stroke-linejoin=\"round\" stroke-miterlimit=\"10.0375\" stroke-width=\"0.426791\"/>\n",
       "</g>\n",
       "<g transform=\"translate(340.228 337.677)scale(.996264)\">\n",
       "<path d=\"M121.28 569.411V.355659\" fill=\"none\" stroke=\"#cccccc\" stroke-dasharray=\"0,0.682969\" stroke-linecap=\"round\" stroke-linejoin=\"round\" stroke-miterlimit=\"10.0375\" stroke-width=\"0.170717\"/>\n",
       "</g>\n",
       "<g transform=\"translate(340.228 337.677)scale(.996264)\">\n",
       "<path d=\"M128.393 569.411V.355659\" fill=\"none\" stroke=\"#cccccc\" stroke-dasharray=\"0,0.682969\" stroke-linecap=\"round\" stroke-linejoin=\"round\" stroke-miterlimit=\"10.0375\" stroke-width=\"0.170717\"/>\n",
       "</g>\n",
       "<g transform=\"translate(340.228 337.677)scale(.996264)\">\n",
       "<path d=\"M135.506 569.411V.355659\" fill=\"none\" stroke=\"#cccccc\" stroke-dasharray=\"0,0.682969\" stroke-linecap=\"round\" stroke-linejoin=\"round\" stroke-miterlimit=\"10.0375\" stroke-width=\"0.170717\"/>\n",
       "</g>\n",
       "<g transform=\"translate(340.228 337.677)scale(.996264)\">\n",
       "<path d=\"M142.619 569.411V.355659\" fill=\"none\" stroke=\"#cccccc\" stroke-linecap=\"round\" stroke-linejoin=\"round\" stroke-miterlimit=\"10.0375\" stroke-width=\"0.426791\"/>\n",
       "</g>\n",
       "<g transform=\"translate(340.228 337.677)scale(.996264)\">\n",
       "<path d=\"M149.733 569.411V.355659\" fill=\"none\" stroke=\"#cccccc\" stroke-dasharray=\"0,0.682969\" stroke-linecap=\"round\" stroke-linejoin=\"round\" stroke-miterlimit=\"10.0375\" stroke-width=\"0.170717\"/>\n",
       "</g>\n",
       "<g transform=\"translate(340.228 337.677)scale(.996264)\">\n",
       "<path d=\"M156.846 569.411V.355659\" fill=\"none\" stroke=\"#cccccc\" stroke-dasharray=\"0,0.682969\" stroke-linecap=\"round\" stroke-linejoin=\"round\" stroke-miterlimit=\"10.0375\" stroke-width=\"0.170717\"/>\n",
       "</g>\n",
       "<g transform=\"translate(340.228 337.677)scale(.996264)\">\n",
       "<path d=\"M163.959 569.411V.355659\" fill=\"none\" stroke=\"#cccccc\" stroke-dasharray=\"0,0.682969\" stroke-linecap=\"round\" stroke-linejoin=\"round\" stroke-miterlimit=\"10.0375\" stroke-width=\"0.170717\"/>\n",
       "</g>\n",
       "<g transform=\"translate(340.228 337.677)scale(.996264)\">\n",
       "<path d=\"M171.072 569.411V.355659\" fill=\"none\" stroke=\"#cccccc\" stroke-linecap=\"round\" stroke-linejoin=\"round\" stroke-miterlimit=\"10.0375\" stroke-width=\"0.426791\"/>\n",
       "</g>\n",
       "<g transform=\"translate(340.228 337.677)scale(.996264)\">\n",
       "<path d=\"M178.185 569.411V.355659\" fill=\"none\" stroke=\"#cccccc\" stroke-dasharray=\"0,0.682969\" stroke-linecap=\"round\" stroke-linejoin=\"round\" stroke-miterlimit=\"10.0375\" stroke-width=\"0.170717\"/>\n",
       "</g>\n",
       "<g transform=\"translate(340.228 337.677)scale(.996264)\">\n",
       "<path d=\"M185.299 569.411V.355659\" fill=\"none\" stroke=\"#cccccc\" stroke-dasharray=\"0,0.682969\" stroke-linecap=\"round\" stroke-linejoin=\"round\" stroke-miterlimit=\"10.0375\" stroke-width=\"0.170717\"/>\n",
       "</g>\n",
       "<g transform=\"translate(340.228 337.677)scale(.996264)\">\n",
       "<path d=\"M192.412 569.411V.355659\" fill=\"none\" stroke=\"#cccccc\" stroke-dasharray=\"0,0.682969\" stroke-linecap=\"round\" stroke-linejoin=\"round\" stroke-miterlimit=\"10.0375\" stroke-width=\"0.170717\"/>\n",
       "</g>\n",
       "<g transform=\"translate(340.228 337.677)scale(.996264)\">\n",
       "<path d=\"M199.525 569.411V.355659\" fill=\"none\" stroke=\"#cccccc\" stroke-linecap=\"round\" stroke-linejoin=\"round\" stroke-miterlimit=\"10.0375\" stroke-width=\"0.426791\"/>\n",
       "</g>\n",
       "<g transform=\"translate(340.228 337.677)scale(.996264)\">\n",
       "<path d=\"M206.638 569.411V.355659\" fill=\"none\" stroke=\"#cccccc\" stroke-dasharray=\"0,0.682969\" stroke-linecap=\"round\" stroke-linejoin=\"round\" stroke-miterlimit=\"10.0375\" stroke-width=\"0.170717\"/>\n",
       "</g>\n",
       "<g transform=\"translate(340.228 337.677)scale(.996264)\">\n",
       "<path d=\"M213.751 569.411V.355659\" fill=\"none\" stroke=\"#cccccc\" stroke-dasharray=\"0,0.682969\" stroke-linecap=\"round\" stroke-linejoin=\"round\" stroke-miterlimit=\"10.0375\" stroke-width=\"0.170717\"/>\n",
       "</g>\n",
       "<g transform=\"translate(340.228 337.677)scale(.996264)\">\n",
       "<path d=\"M220.865 569.411V.355659\" fill=\"none\" stroke=\"#cccccc\" stroke-dasharray=\"0,0.682969\" stroke-linecap=\"round\" stroke-linejoin=\"round\" stroke-miterlimit=\"10.0375\" stroke-width=\"0.170717\"/>\n",
       "</g>\n",
       "<g transform=\"translate(340.228 337.677)scale(.996264)\">\n",
       "<path d=\"M227.978 569.411V.355659\" fill=\"none\" stroke=\"#cccccc\" stroke-linecap=\"round\" stroke-linejoin=\"round\" stroke-miterlimit=\"10.0375\" stroke-width=\"0.426791\"/>\n",
       "</g>\n",
       "<g transform=\"translate(340.228 337.677)scale(.996264)\">\n",
       "<path d=\"M235.091 569.411V.355659\" fill=\"none\" stroke=\"#cccccc\" stroke-dasharray=\"0,0.682969\" stroke-linecap=\"round\" stroke-linejoin=\"round\" stroke-miterlimit=\"10.0375\" stroke-width=\"0.170717\"/>\n",
       "</g>\n",
       "<g transform=\"translate(340.228 337.677)scale(.996264)\">\n",
       "<path d=\"M242.204 569.411V.355659\" fill=\"none\" stroke=\"#cccccc\" stroke-dasharray=\"0,0.682969\" stroke-linecap=\"round\" stroke-linejoin=\"round\" stroke-miterlimit=\"10.0375\" stroke-width=\"0.170717\"/>\n",
       "</g>\n",
       "<g transform=\"translate(340.228 337.677)scale(.996264)\">\n",
       "<path d=\"M249.317 569.411V.355659\" fill=\"none\" stroke=\"#cccccc\" stroke-dasharray=\"0,0.682969\" stroke-linecap=\"round\" stroke-linejoin=\"round\" stroke-miterlimit=\"10.0375\" stroke-width=\"0.170717\"/>\n",
       "</g>\n",
       "<g transform=\"translate(340.228 337.677)scale(.996264)\">\n",
       "<path d=\"M256.43 569.411V.355659\" fill=\"none\" stroke=\"#cccccc\" stroke-linecap=\"round\" stroke-linejoin=\"round\" stroke-miterlimit=\"10.0375\" stroke-width=\"0.426791\"/>\n",
       "</g>\n",
       "<g transform=\"translate(340.228 337.677)scale(.996264)\">\n",
       "<path d=\"M263.544 569.411V.355659\" fill=\"none\" stroke=\"#cccccc\" stroke-dasharray=\"0,0.682969\" stroke-linecap=\"round\" stroke-linejoin=\"round\" stroke-miterlimit=\"10.0375\" stroke-width=\"0.170717\"/>\n",
       "</g>\n",
       "<g transform=\"translate(340.228 337.677)scale(.996264)\">\n",
       "<path d=\"M270.657 569.411V.355659\" fill=\"none\" stroke=\"#cccccc\" stroke-dasharray=\"0,0.682969\" stroke-linecap=\"round\" stroke-linejoin=\"round\" stroke-miterlimit=\"10.0375\" stroke-width=\"0.170717\"/>\n",
       "</g>\n",
       "<g transform=\"translate(340.228 337.677)scale(.996264)\">\n",
       "<path d=\"M277.77 569.411V.355659\" fill=\"none\" stroke=\"#cccccc\" stroke-dasharray=\"0,0.682969\" stroke-linecap=\"round\" stroke-linejoin=\"round\" stroke-miterlimit=\"10.0375\" stroke-width=\"0.170717\"/>\n",
       "</g>\n",
       "<g transform=\"translate(340.228 337.677)scale(.996264)\">\n",
       "<path d=\"M284.883 569.411V.355659\" fill=\"none\" stroke=\"#cccccc\" stroke-linecap=\"round\" stroke-linejoin=\"round\" stroke-miterlimit=\"10.0375\" stroke-width=\"0.426791\"/>\n",
       "</g>\n",
       "<g transform=\"translate(340.228 337.677)scale(.996264)\">\n",
       "<path d=\"M291.996 569.411V.355659\" fill=\"none\" stroke=\"#cccccc\" stroke-dasharray=\"0,0.682969\" stroke-linecap=\"round\" stroke-linejoin=\"round\" stroke-miterlimit=\"10.0375\" stroke-width=\"0.170717\"/>\n",
       "</g>\n",
       "<g transform=\"translate(340.228 337.677)scale(.996264)\">\n",
       "<path d=\"M299.11 569.411V.355659\" fill=\"none\" stroke=\"#cccccc\" stroke-dasharray=\"0,0.682969\" stroke-linecap=\"round\" stroke-linejoin=\"round\" stroke-miterlimit=\"10.0375\" stroke-width=\"0.170717\"/>\n",
       "</g>\n",
       "<g transform=\"translate(340.228 337.677)scale(.996264)\">\n",
       "<path d=\"M306.223 569.411V.355659\" fill=\"none\" stroke=\"#cccccc\" stroke-dasharray=\"0,0.682969\" stroke-linecap=\"round\" stroke-linejoin=\"round\" stroke-miterlimit=\"10.0375\" stroke-width=\"0.170717\"/>\n",
       "</g>\n",
       "<g transform=\"translate(340.228 337.677)scale(.996264)\">\n",
       "<path d=\"M313.336 569.411V.355659\" fill=\"none\" stroke=\"#cccccc\" stroke-linecap=\"round\" stroke-linejoin=\"round\" stroke-miterlimit=\"10.0375\" stroke-width=\"0.426791\"/>\n",
       "</g>\n",
       "<g transform=\"translate(340.228 337.677)scale(.996264)\">\n",
       "<path d=\"M320.449 569.411V.355659\" fill=\"none\" stroke=\"#cccccc\" stroke-dasharray=\"0,0.682969\" stroke-linecap=\"round\" stroke-linejoin=\"round\" stroke-miterlimit=\"10.0375\" stroke-width=\"0.170717\"/>\n",
       "</g>\n",
       "<g transform=\"translate(340.228 337.677)scale(.996264)\">\n",
       "<path d=\"M327.562 569.411V.355659\" fill=\"none\" stroke=\"#cccccc\" stroke-dasharray=\"0,0.682969\" stroke-linecap=\"round\" stroke-linejoin=\"round\" stroke-miterlimit=\"10.0375\" stroke-width=\"0.170717\"/>\n",
       "</g>\n",
       "<g transform=\"translate(340.228 337.677)scale(.996264)\">\n",
       "<path d=\"M334.676 569.411V.355659\" fill=\"none\" stroke=\"#cccccc\" stroke-dasharray=\"0,0.682969\" stroke-linecap=\"round\" stroke-linejoin=\"round\" stroke-miterlimit=\"10.0375\" stroke-width=\"0.170717\"/>\n",
       "</g>\n",
       "<g transform=\"translate(340.228 337.677)scale(.996264)\">\n",
       "<path d=\"M341.789 569.411V.355659\" fill=\"none\" stroke=\"#cccccc\" stroke-linecap=\"round\" stroke-linejoin=\"round\" stroke-miterlimit=\"10.0375\" stroke-width=\"0.426791\"/>\n",
       "</g>\n",
       "<g transform=\"translate(340.228 337.677)scale(.996264)\">\n",
       "<path d=\"M348.902 569.411V.355659\" fill=\"none\" stroke=\"#cccccc\" stroke-dasharray=\"0,0.682969\" stroke-linecap=\"round\" stroke-linejoin=\"round\" stroke-miterlimit=\"10.0375\" stroke-width=\"0.170717\"/>\n",
       "</g>\n",
       "<g transform=\"translate(340.228 337.677)scale(.996264)\">\n",
       "<path d=\"M356.015 569.411V.355659\" fill=\"none\" stroke=\"#cccccc\" stroke-dasharray=\"0,0.682969\" stroke-linecap=\"round\" stroke-linejoin=\"round\" stroke-miterlimit=\"10.0375\" stroke-width=\"0.170717\"/>\n",
       "</g>\n",
       "<g transform=\"translate(340.228 337.677)scale(.996264)\">\n",
       "<path d=\"M363.128 569.411V.355659\" fill=\"none\" stroke=\"#cccccc\" stroke-dasharray=\"0,0.682969\" stroke-linecap=\"round\" stroke-linejoin=\"round\" stroke-miterlimit=\"10.0375\" stroke-width=\"0.170717\"/>\n",
       "</g>\n",
       "<g transform=\"translate(340.228 337.677)scale(.996264)\">\n",
       "<path d=\"M370.241 569.411V.355659\" fill=\"none\" stroke=\"#cccccc\" stroke-linecap=\"round\" stroke-linejoin=\"round\" stroke-miterlimit=\"10.0375\" stroke-width=\"0.426791\"/>\n",
       "</g>\n",
       "<g transform=\"translate(340.228 337.677)scale(.996264)\">\n",
       "<path d=\"M377.355 569.411V.355659\" fill=\"none\" stroke=\"#cccccc\" stroke-dasharray=\"0,0.682969\" stroke-linecap=\"round\" stroke-linejoin=\"round\" stroke-miterlimit=\"10.0375\" stroke-width=\"0.170717\"/>\n",
       "</g>\n",
       "<g transform=\"translate(340.228 337.677)scale(.996264)\">\n",
       "<path d=\"M384.468 569.411V.355659\" fill=\"none\" stroke=\"#cccccc\" stroke-dasharray=\"0,0.682969\" stroke-linecap=\"round\" stroke-linejoin=\"round\" stroke-miterlimit=\"10.0375\" stroke-width=\"0.170717\"/>\n",
       "</g>\n",
       "<g transform=\"translate(340.228 337.677)scale(.996264)\">\n",
       "<path d=\"M391.581 569.411V.355659\" fill=\"none\" stroke=\"#cccccc\" stroke-dasharray=\"0,0.682969\" stroke-linecap=\"round\" stroke-linejoin=\"round\" stroke-miterlimit=\"10.0375\" stroke-width=\"0.170717\"/>\n",
       "</g>\n",
       "<g transform=\"translate(340.228 337.677)scale(.996264)\">\n",
       "<path d=\"M398.694 569.411V.355659\" fill=\"none\" stroke=\"#cccccc\" stroke-linecap=\"round\" stroke-linejoin=\"round\" stroke-miterlimit=\"10.0375\" stroke-width=\"0.426791\"/>\n",
       "</g>\n",
       "<g transform=\"translate(340.228 337.677)scale(.996264)\">\n",
       "<path d=\"M405.807 569.411V.355659\" fill=\"none\" stroke=\"#cccccc\" stroke-dasharray=\"0,0.682969\" stroke-linecap=\"round\" stroke-linejoin=\"round\" stroke-miterlimit=\"10.0375\" stroke-width=\"0.170717\"/>\n",
       "</g>\n",
       "<g transform=\"translate(340.228 337.677)scale(.996264)\">\n",
       "<path d=\"M412.921 569.411V.355659\" fill=\"none\" stroke=\"#cccccc\" stroke-dasharray=\"0,0.682969\" stroke-linecap=\"round\" stroke-linejoin=\"round\" stroke-miterlimit=\"10.0375\" stroke-width=\"0.170717\"/>\n",
       "</g>\n",
       "<g transform=\"translate(340.228 337.677)scale(.996264)\">\n",
       "<path d=\"M420.034 569.411V.355659\" fill=\"none\" stroke=\"#cccccc\" stroke-dasharray=\"0,0.682969\" stroke-linecap=\"round\" stroke-linejoin=\"round\" stroke-miterlimit=\"10.0375\" stroke-width=\"0.170717\"/>\n",
       "</g>\n",
       "<g transform=\"translate(340.228 337.677)scale(.996264)\">\n",
       "<path d=\"M427.147 569.411V.355659\" fill=\"none\" stroke=\"#cccccc\" stroke-linecap=\"round\" stroke-linejoin=\"round\" stroke-miterlimit=\"10.0375\" stroke-width=\"0.426791\"/>\n",
       "</g>\n",
       "<g transform=\"translate(340.228 337.677)scale(.996264)\">\n",
       "<path d=\"M434.26 569.411V.355659\" fill=\"none\" stroke=\"#cccccc\" stroke-dasharray=\"0,0.682969\" stroke-linecap=\"round\" stroke-linejoin=\"round\" stroke-miterlimit=\"10.0375\" stroke-width=\"0.170717\"/>\n",
       "</g>\n",
       "<g transform=\"translate(340.228 337.677)scale(.996264)\">\n",
       "<path d=\"M441.373 569.411V.355659\" fill=\"none\" stroke=\"#cccccc\" stroke-dasharray=\"0,0.682969\" stroke-linecap=\"round\" stroke-linejoin=\"round\" stroke-miterlimit=\"10.0375\" stroke-width=\"0.170717\"/>\n",
       "</g>\n",
       "<g transform=\"translate(340.228 337.677)scale(.996264)\">\n",
       "<path d=\"M448.487 569.411V.355659\" fill=\"none\" stroke=\"#cccccc\" stroke-dasharray=\"0,0.682969\" stroke-linecap=\"round\" stroke-linejoin=\"round\" stroke-miterlimit=\"10.0375\" stroke-width=\"0.170717\"/>\n",
       "</g>\n",
       "<g transform=\"translate(340.228 337.677)scale(.996264)\">\n",
       "<path d=\"M455.6 569.411V.355659\" fill=\"none\" stroke=\"#cccccc\" stroke-linecap=\"round\" stroke-linejoin=\"round\" stroke-miterlimit=\"10.0375\" stroke-width=\"0.426791\"/>\n",
       "</g>\n",
       "<g transform=\"translate(340.228 337.677)scale(.996264)\">\n",
       "<path d=\"M462.713 569.411V.355659\" fill=\"none\" stroke=\"#cccccc\" stroke-dasharray=\"0,0.682969\" stroke-linecap=\"round\" stroke-linejoin=\"round\" stroke-miterlimit=\"10.0375\" stroke-width=\"0.170717\"/>\n",
       "</g>\n",
       "<g transform=\"translate(340.228 337.677)scale(.996264)\">\n",
       "<path d=\"M469.826 569.411V.355659\" fill=\"none\" stroke=\"#cccccc\" stroke-dasharray=\"0,0.682969\" stroke-linecap=\"round\" stroke-linejoin=\"round\" stroke-miterlimit=\"10.0375\" stroke-width=\"0.170717\"/>\n",
       "</g>\n",
       "<g transform=\"translate(340.228 337.677)scale(.996264)\">\n",
       "<path d=\"M476.939 569.411V.355659\" fill=\"none\" stroke=\"#cccccc\" stroke-dasharray=\"0,0.682969\" stroke-linecap=\"round\" stroke-linejoin=\"round\" stroke-miterlimit=\"10.0375\" stroke-width=\"0.170717\"/>\n",
       "</g>\n",
       "<g transform=\"translate(340.228 337.677)scale(.996264)\">\n",
       "<path d=\"M484.053 569.411V.355659\" fill=\"none\" stroke=\"#cccccc\" stroke-linecap=\"round\" stroke-linejoin=\"round\" stroke-miterlimit=\"10.0375\" stroke-width=\"0.426791\"/>\n",
       "</g>\n",
       "<g transform=\"translate(340.228 337.677)scale(.996264)\">\n",
       "<path d=\"M491.166 569.411V.355659\" fill=\"none\" stroke=\"#cccccc\" stroke-dasharray=\"0,0.682969\" stroke-linecap=\"round\" stroke-linejoin=\"round\" stroke-miterlimit=\"10.0375\" stroke-width=\"0.170717\"/>\n",
       "</g>\n",
       "<g transform=\"translate(340.228 337.677)scale(.996264)\">\n",
       "<path d=\"M498.279 569.411V.355659\" fill=\"none\" stroke=\"#cccccc\" stroke-dasharray=\"0,0.682969\" stroke-linecap=\"round\" stroke-linejoin=\"round\" stroke-miterlimit=\"10.0375\" stroke-width=\"0.170717\"/>\n",
       "</g>\n",
       "<g transform=\"translate(340.228 337.677)scale(.996264)\">\n",
       "<path d=\"M505.392 569.411V.355659\" fill=\"none\" stroke=\"#cccccc\" stroke-dasharray=\"0,0.682969\" stroke-linecap=\"round\" stroke-linejoin=\"round\" stroke-miterlimit=\"10.0375\" stroke-width=\"0.170717\"/>\n",
       "</g>\n",
       "<g transform=\"translate(340.228 337.677)scale(.996264)\">\n",
       "<path d=\"M512.505 569.411V.355659\" fill=\"none\" stroke=\"#cccccc\" stroke-linecap=\"round\" stroke-linejoin=\"round\" stroke-miterlimit=\"10.0375\" stroke-width=\"0.426791\"/>\n",
       "</g>\n",
       "<g transform=\"translate(340.228 337.677)scale(.996264)\">\n",
       "<path d=\"M519.618 569.411V.355659\" fill=\"none\" stroke=\"#cccccc\" stroke-dasharray=\"0,0.682969\" stroke-linecap=\"round\" stroke-linejoin=\"round\" stroke-miterlimit=\"10.0375\" stroke-width=\"0.170717\"/>\n",
       "</g>\n",
       "<g transform=\"translate(340.228 337.677)scale(.996264)\">\n",
       "<path d=\"M526.732 569.411V.355659\" fill=\"none\" stroke=\"#cccccc\" stroke-dasharray=\"0,0.682969\" stroke-linecap=\"round\" stroke-linejoin=\"round\" stroke-miterlimit=\"10.0375\" stroke-width=\"0.170717\"/>\n",
       "</g>\n",
       "<g transform=\"translate(340.228 337.677)scale(.996264)\">\n",
       "<path d=\"M533.845 569.411V.355659\" fill=\"none\" stroke=\"#cccccc\" stroke-dasharray=\"0,0.682969\" stroke-linecap=\"round\" stroke-linejoin=\"round\" stroke-miterlimit=\"10.0375\" stroke-width=\"0.170717\"/>\n",
       "</g>\n",
       "<g transform=\"translate(340.228 337.677)scale(.996264)\">\n",
       "<path d=\"M540.958 569.411V.355659\" fill=\"none\" stroke=\"#cccccc\" stroke-linecap=\"round\" stroke-linejoin=\"round\" stroke-miterlimit=\"10.0375\" stroke-width=\"0.426791\"/>\n",
       "</g>\n",
       "<g transform=\"translate(340.228 337.677)scale(.996264)\">\n",
       "<path d=\"M548.071 569.411V.355659\" fill=\"none\" stroke=\"#cccccc\" stroke-dasharray=\"0,0.682969\" stroke-linecap=\"round\" stroke-linejoin=\"round\" stroke-miterlimit=\"10.0375\" stroke-width=\"0.170717\"/>\n",
       "</g>\n",
       "<g transform=\"translate(340.228 337.677)scale(.996264)\">\n",
       "<path d=\"M555.184 569.411V.355659\" fill=\"none\" stroke=\"#cccccc\" stroke-dasharray=\"0,0.682969\" stroke-linecap=\"round\" stroke-linejoin=\"round\" stroke-miterlimit=\"10.0375\" stroke-width=\"0.170717\"/>\n",
       "</g>\n",
       "<g transform=\"translate(340.228 337.677)scale(.996264)\">\n",
       "<path d=\"M562.298 569.411V.355659\" fill=\"none\" stroke=\"#cccccc\" stroke-dasharray=\"0,0.682969\" stroke-linecap=\"round\" stroke-linejoin=\"round\" stroke-miterlimit=\"10.0375\" stroke-width=\"0.170717\"/>\n",
       "</g>\n",
       "<g transform=\"translate(340.228 337.677)scale(.996264)\">\n",
       "<path d=\"M569.411 569.411V.355659\" fill=\"none\" stroke=\"#cccccc\" stroke-linecap=\"round\" stroke-linejoin=\"round\" stroke-miterlimit=\"10.0375\" stroke-width=\"0.426791\"/>\n",
       "</g>\n",
       "<g transform=\"translate(340.228 337.677)scale(.996264)\">\n",
       "<path d=\"M.355659 569.411H569.411\" fill=\"none\" stroke=\"#cccccc\" stroke-linecap=\"round\" stroke-linejoin=\"round\" stroke-miterlimit=\"10.0375\" stroke-width=\"0.426791\"/>\n",
       "</g>\n",
       "<g transform=\"translate(340.228 337.677)scale(.996264)\">\n",
       "<path d=\"M.355659 562.298H569.411\" fill=\"none\" stroke=\"#cccccc\" stroke-dasharray=\"0,0.682969\" stroke-linecap=\"round\" stroke-linejoin=\"round\" stroke-miterlimit=\"10.0375\" stroke-width=\"0.170717\"/>\n",
       "</g>\n",
       "<g transform=\"translate(340.228 337.677)scale(.996264)\">\n",
       "<path d=\"M.355659 555.184H569.411\" fill=\"none\" stroke=\"#cccccc\" stroke-dasharray=\"0,0.682969\" stroke-linecap=\"round\" stroke-linejoin=\"round\" stroke-miterlimit=\"10.0375\" stroke-width=\"0.170717\"/>\n",
       "</g>\n",
       "<g transform=\"translate(340.228 337.677)scale(.996264)\">\n",
       "<path d=\"M.355659 548.071H569.411\" fill=\"none\" stroke=\"#cccccc\" stroke-dasharray=\"0,0.682969\" stroke-linecap=\"round\" stroke-linejoin=\"round\" stroke-miterlimit=\"10.0375\" stroke-width=\"0.170717\"/>\n",
       "</g>\n",
       "<g transform=\"translate(340.228 337.677)scale(.996264)\">\n",
       "<path d=\"M.355659 540.958H569.411\" fill=\"none\" stroke=\"#cccccc\" stroke-dasharray=\"0,0.682969\" stroke-linecap=\"round\" stroke-linejoin=\"round\" stroke-miterlimit=\"10.0375\" stroke-width=\"0.170717\"/>\n",
       "</g>\n",
       "<g transform=\"translate(340.228 337.677)scale(.996264)\">\n",
       "<path d=\"M.355659 540.958H569.411\" fill=\"none\" stroke=\"#cccccc\" stroke-linecap=\"round\" stroke-linejoin=\"round\" stroke-miterlimit=\"10.0375\" stroke-width=\"0.426791\"/>\n",
       "</g>\n",
       "<g transform=\"translate(340.228 337.677)scale(.996264)\">\n",
       "<path d=\"M.355659 533.845H569.411\" fill=\"none\" stroke=\"#cccccc\" stroke-dasharray=\"0,0.682969\" stroke-linecap=\"round\" stroke-linejoin=\"round\" stroke-miterlimit=\"10.0375\" stroke-width=\"0.170717\"/>\n",
       "</g>\n",
       "<g transform=\"translate(340.228 337.677)scale(.996264)\">\n",
       "<path d=\"M.355659 526.732H569.411\" fill=\"none\" stroke=\"#cccccc\" stroke-dasharray=\"0,0.682969\" stroke-linecap=\"round\" stroke-linejoin=\"round\" stroke-miterlimit=\"10.0375\" stroke-width=\"0.170717\"/>\n",
       "</g>\n",
       "<g transform=\"translate(340.228 337.677)scale(.996264)\">\n",
       "<path d=\"M.355659 519.618H569.411\" fill=\"none\" stroke=\"#cccccc\" stroke-dasharray=\"0,0.682969\" stroke-linecap=\"round\" stroke-linejoin=\"round\" stroke-miterlimit=\"10.0375\" stroke-width=\"0.170717\"/>\n",
       "</g>\n",
       "<g transform=\"translate(340.228 337.677)scale(.996264)\">\n",
       "<path d=\"M.355659 512.505H569.411\" fill=\"none\" stroke=\"#cccccc\" stroke-dasharray=\"0,0.682969\" stroke-linecap=\"round\" stroke-linejoin=\"round\" stroke-miterlimit=\"10.0375\" stroke-width=\"0.170717\"/>\n",
       "</g>\n",
       "<g transform=\"translate(340.228 337.677)scale(.996264)\">\n",
       "<path d=\"M.355659 512.505H569.411\" fill=\"none\" stroke=\"#cccccc\" stroke-linecap=\"round\" stroke-linejoin=\"round\" stroke-miterlimit=\"10.0375\" stroke-width=\"0.426791\"/>\n",
       "</g>\n",
       "<g transform=\"translate(340.228 337.677)scale(.996264)\">\n",
       "<path d=\"M.355659 505.392H569.411\" fill=\"none\" stroke=\"#cccccc\" stroke-dasharray=\"0,0.682969\" stroke-linecap=\"round\" stroke-linejoin=\"round\" stroke-miterlimit=\"10.0375\" stroke-width=\"0.170717\"/>\n",
       "</g>\n",
       "<g transform=\"translate(340.228 337.677)scale(.996264)\">\n",
       "<path d=\"M.355659 498.279H569.411\" fill=\"none\" stroke=\"#cccccc\" stroke-dasharray=\"0,0.682969\" stroke-linecap=\"round\" stroke-linejoin=\"round\" stroke-miterlimit=\"10.0375\" stroke-width=\"0.170717\"/>\n",
       "</g>\n",
       "<g transform=\"translate(340.228 337.677)scale(.996264)\">\n",
       "<path d=\"M.355659 491.166H569.411\" fill=\"none\" stroke=\"#cccccc\" stroke-dasharray=\"0,0.682969\" stroke-linecap=\"round\" stroke-linejoin=\"round\" stroke-miterlimit=\"10.0375\" stroke-width=\"0.170717\"/>\n",
       "</g>\n",
       "<g transform=\"translate(340.228 337.677)scale(.996264)\">\n",
       "<path d=\"M.355659 484.053H569.411\" fill=\"none\" stroke=\"#cccccc\" stroke-dasharray=\"0,0.682969\" stroke-linecap=\"round\" stroke-linejoin=\"round\" stroke-miterlimit=\"10.0375\" stroke-width=\"0.170717\"/>\n",
       "</g>\n",
       "<g transform=\"translate(340.228 337.677)scale(.996264)\">\n",
       "<path d=\"M.355659 484.053H569.411\" fill=\"none\" stroke=\"#cccccc\" stroke-linecap=\"round\" stroke-linejoin=\"round\" stroke-miterlimit=\"10.0375\" stroke-width=\"0.426791\"/>\n",
       "</g>\n",
       "<g transform=\"translate(340.228 337.677)scale(.996264)\">\n",
       "<path d=\"M.355659 476.939H569.411\" fill=\"none\" stroke=\"#cccccc\" stroke-dasharray=\"0,0.682969\" stroke-linecap=\"round\" stroke-linejoin=\"round\" stroke-miterlimit=\"10.0375\" stroke-width=\"0.170717\"/>\n",
       "</g>\n",
       "<g transform=\"translate(340.228 337.677)scale(.996264)\">\n",
       "<path d=\"M.355659 469.826H569.411\" fill=\"none\" stroke=\"#cccccc\" stroke-dasharray=\"0,0.682969\" stroke-linecap=\"round\" stroke-linejoin=\"round\" stroke-miterlimit=\"10.0375\" stroke-width=\"0.170717\"/>\n",
       "</g>\n",
       "<g transform=\"translate(340.228 337.677)scale(.996264)\">\n",
       "<path d=\"M.355659 462.713H569.411\" fill=\"none\" stroke=\"#cccccc\" stroke-dasharray=\"0,0.682969\" stroke-linecap=\"round\" stroke-linejoin=\"round\" stroke-miterlimit=\"10.0375\" stroke-width=\"0.170717\"/>\n",
       "</g>\n",
       "<g transform=\"translate(340.228 337.677)scale(.996264)\">\n",
       "<path d=\"M.355659 455.6H569.411\" fill=\"none\" stroke=\"#cccccc\" stroke-dasharray=\"0,0.682969\" stroke-linecap=\"round\" stroke-linejoin=\"round\" stroke-miterlimit=\"10.0375\" stroke-width=\"0.170717\"/>\n",
       "</g>\n",
       "<g transform=\"translate(340.228 337.677)scale(.996264)\">\n",
       "<path d=\"M.355659 455.6H569.411\" fill=\"none\" stroke=\"#cccccc\" stroke-linecap=\"round\" stroke-linejoin=\"round\" stroke-miterlimit=\"10.0375\" stroke-width=\"0.426791\"/>\n",
       "</g>\n",
       "<g transform=\"translate(340.228 337.677)scale(.996264)\">\n",
       "<path d=\"M.355659 448.487H569.411\" fill=\"none\" stroke=\"#cccccc\" stroke-dasharray=\"0,0.682969\" stroke-linecap=\"round\" stroke-linejoin=\"round\" stroke-miterlimit=\"10.0375\" stroke-width=\"0.170717\"/>\n",
       "</g>\n",
       "<g transform=\"translate(340.228 337.677)scale(.996264)\">\n",
       "<path d=\"M.355659 441.373H569.411\" fill=\"none\" stroke=\"#cccccc\" stroke-dasharray=\"0,0.682969\" stroke-linecap=\"round\" stroke-linejoin=\"round\" stroke-miterlimit=\"10.0375\" stroke-width=\"0.170717\"/>\n",
       "</g>\n",
       "<g transform=\"translate(340.228 337.677)scale(.996264)\">\n",
       "<path d=\"M.355659 434.26H569.411\" fill=\"none\" stroke=\"#cccccc\" stroke-dasharray=\"0,0.682969\" stroke-linecap=\"round\" stroke-linejoin=\"round\" stroke-miterlimit=\"10.0375\" stroke-width=\"0.170717\"/>\n",
       "</g>\n",
       "<g transform=\"translate(340.228 337.677)scale(.996264)\">\n",
       "<path d=\"M.355659 427.147H569.411\" fill=\"none\" stroke=\"#cccccc\" stroke-dasharray=\"0,0.682969\" stroke-linecap=\"round\" stroke-linejoin=\"round\" stroke-miterlimit=\"10.0375\" stroke-width=\"0.170717\"/>\n",
       "</g>\n",
       "<g transform=\"translate(340.228 337.677)scale(.996264)\">\n",
       "<path d=\"M.355659 427.147H569.411\" fill=\"none\" stroke=\"#cccccc\" stroke-linecap=\"round\" stroke-linejoin=\"round\" stroke-miterlimit=\"10.0375\" stroke-width=\"0.426791\"/>\n",
       "</g>\n",
       "<g transform=\"translate(340.228 337.677)scale(.996264)\">\n",
       "<path d=\"M.355659 420.034H569.411\" fill=\"none\" stroke=\"#cccccc\" stroke-dasharray=\"0,0.682969\" stroke-linecap=\"round\" stroke-linejoin=\"round\" stroke-miterlimit=\"10.0375\" stroke-width=\"0.170717\"/>\n",
       "</g>\n",
       "<g transform=\"translate(340.228 337.677)scale(.996264)\">\n",
       "<path d=\"M.355659 412.921H569.411\" fill=\"none\" stroke=\"#cccccc\" stroke-dasharray=\"0,0.682969\" stroke-linecap=\"round\" stroke-linejoin=\"round\" stroke-miterlimit=\"10.0375\" stroke-width=\"0.170717\"/>\n",
       "</g>\n",
       "<g transform=\"translate(340.228 337.677)scale(.996264)\">\n",
       "<path d=\"M.355659 405.807H569.411\" fill=\"none\" stroke=\"#cccccc\" stroke-dasharray=\"0,0.682969\" stroke-linecap=\"round\" stroke-linejoin=\"round\" stroke-miterlimit=\"10.0375\" stroke-width=\"0.170717\"/>\n",
       "</g>\n",
       "<g transform=\"translate(340.228 337.677)scale(.996264)\">\n",
       "<path d=\"M.355659 398.694H569.411\" fill=\"none\" stroke=\"#cccccc\" stroke-dasharray=\"0,0.682969\" stroke-linecap=\"round\" stroke-linejoin=\"round\" stroke-miterlimit=\"10.0375\" stroke-width=\"0.170717\"/>\n",
       "</g>\n",
       "<g transform=\"translate(340.228 337.677)scale(.996264)\">\n",
       "<path d=\"M.355659 398.694H569.411\" fill=\"none\" stroke=\"#cccccc\" stroke-linecap=\"round\" stroke-linejoin=\"round\" stroke-miterlimit=\"10.0375\" stroke-width=\"0.426791\"/>\n",
       "</g>\n",
       "<g transform=\"translate(340.228 337.677)scale(.996264)\">\n",
       "<path d=\"M.355659 391.581H569.411\" fill=\"none\" stroke=\"#cccccc\" stroke-dasharray=\"0,0.682969\" stroke-linecap=\"round\" stroke-linejoin=\"round\" stroke-miterlimit=\"10.0375\" stroke-width=\"0.170717\"/>\n",
       "</g>\n",
       "<g transform=\"translate(340.228 337.677)scale(.996264)\">\n",
       "<path d=\"M.355659 384.468H569.411\" fill=\"none\" stroke=\"#cccccc\" stroke-dasharray=\"0,0.682969\" stroke-linecap=\"round\" stroke-linejoin=\"round\" stroke-miterlimit=\"10.0375\" stroke-width=\"0.170717\"/>\n",
       "</g>\n",
       "<g transform=\"translate(340.228 337.677)scale(.996264)\">\n",
       "<path d=\"M.355659 377.355H569.411\" fill=\"none\" stroke=\"#cccccc\" stroke-dasharray=\"0,0.682969\" stroke-linecap=\"round\" stroke-linejoin=\"round\" stroke-miterlimit=\"10.0375\" stroke-width=\"0.170717\"/>\n",
       "</g>\n",
       "<g transform=\"translate(340.228 337.677)scale(.996264)\">\n",
       "<path d=\"M.355659 370.241H569.411\" fill=\"none\" stroke=\"#cccccc\" stroke-dasharray=\"0,0.682969\" stroke-linecap=\"round\" stroke-linejoin=\"round\" stroke-miterlimit=\"10.0375\" stroke-width=\"0.170717\"/>\n",
       "</g>\n",
       "<g transform=\"translate(340.228 337.677)scale(.996264)\">\n",
       "<path d=\"M.355659 370.241H569.411\" fill=\"none\" stroke=\"#cccccc\" stroke-linecap=\"round\" stroke-linejoin=\"round\" stroke-miterlimit=\"10.0375\" stroke-width=\"0.426791\"/>\n",
       "</g>\n",
       "<g transform=\"translate(340.228 337.677)scale(.996264)\">\n",
       "<path d=\"M.355659 363.128H569.411\" fill=\"none\" stroke=\"#cccccc\" stroke-dasharray=\"0,0.682969\" stroke-linecap=\"round\" stroke-linejoin=\"round\" stroke-miterlimit=\"10.0375\" stroke-width=\"0.170717\"/>\n",
       "</g>\n",
       "<g transform=\"translate(340.228 337.677)scale(.996264)\">\n",
       "<path d=\"M.355659 356.015H569.411\" fill=\"none\" stroke=\"#cccccc\" stroke-dasharray=\"0,0.682969\" stroke-linecap=\"round\" stroke-linejoin=\"round\" stroke-miterlimit=\"10.0375\" stroke-width=\"0.170717\"/>\n",
       "</g>\n",
       "<g transform=\"translate(340.228 337.677)scale(.996264)\">\n",
       "<path d=\"M.355659 348.902H569.411\" fill=\"none\" stroke=\"#cccccc\" stroke-dasharray=\"0,0.682969\" stroke-linecap=\"round\" stroke-linejoin=\"round\" stroke-miterlimit=\"10.0375\" stroke-width=\"0.170717\"/>\n",
       "</g>\n",
       "<g transform=\"translate(340.228 337.677)scale(.996264)\">\n",
       "<path d=\"M.355659 341.789H569.411\" fill=\"none\" stroke=\"#cccccc\" stroke-dasharray=\"0,0.682969\" stroke-linecap=\"round\" stroke-linejoin=\"round\" stroke-miterlimit=\"10.0375\" stroke-width=\"0.170717\"/>\n",
       "</g>\n",
       "<g transform=\"translate(340.228 337.677)scale(.996264)\">\n",
       "<path d=\"M.355659 341.789H569.411\" fill=\"none\" stroke=\"#cccccc\" stroke-linecap=\"round\" stroke-linejoin=\"round\" stroke-miterlimit=\"10.0375\" stroke-width=\"0.426791\"/>\n",
       "</g>\n",
       "<g transform=\"translate(340.228 337.677)scale(.996264)\">\n",
       "<path d=\"M.355659 334.676H569.411\" fill=\"none\" stroke=\"#cccccc\" stroke-dasharray=\"0,0.682969\" stroke-linecap=\"round\" stroke-linejoin=\"round\" stroke-miterlimit=\"10.0375\" stroke-width=\"0.170717\"/>\n",
       "</g>\n",
       "<g transform=\"translate(340.228 337.677)scale(.996264)\">\n",
       "<path d=\"M.355659 327.562H569.411\" fill=\"none\" stroke=\"#cccccc\" stroke-dasharray=\"0,0.682969\" stroke-linecap=\"round\" stroke-linejoin=\"round\" stroke-miterlimit=\"10.0375\" stroke-width=\"0.170717\"/>\n",
       "</g>\n",
       "<g transform=\"translate(340.228 337.677)scale(.996264)\">\n",
       "<path d=\"M.355659 320.449H569.411\" fill=\"none\" stroke=\"#cccccc\" stroke-dasharray=\"0,0.682969\" stroke-linecap=\"round\" stroke-linejoin=\"round\" stroke-miterlimit=\"10.0375\" stroke-width=\"0.170717\"/>\n",
       "</g>\n",
       "<g transform=\"translate(340.228 337.677)scale(.996264)\">\n",
       "<path d=\"M.355659 313.336H569.411\" fill=\"none\" stroke=\"#cccccc\" stroke-dasharray=\"0,0.682969\" stroke-linecap=\"round\" stroke-linejoin=\"round\" stroke-miterlimit=\"10.0375\" stroke-width=\"0.170717\"/>\n",
       "</g>\n",
       "<g transform=\"translate(340.228 337.677)scale(.996264)\">\n",
       "<path d=\"M.355659 313.336H569.411\" fill=\"none\" stroke=\"#cccccc\" stroke-linecap=\"round\" stroke-linejoin=\"round\" stroke-miterlimit=\"10.0375\" stroke-width=\"0.426791\"/>\n",
       "</g>\n",
       "<g transform=\"translate(340.228 337.677)scale(.996264)\">\n",
       "<path d=\"M.355659 306.223H569.411\" fill=\"none\" stroke=\"#cccccc\" stroke-dasharray=\"0,0.682969\" stroke-linecap=\"round\" stroke-linejoin=\"round\" stroke-miterlimit=\"10.0375\" stroke-width=\"0.170717\"/>\n",
       "</g>\n",
       "<g transform=\"translate(340.228 337.677)scale(.996264)\">\n",
       "<path d=\"M.355659 299.11H569.411\" fill=\"none\" stroke=\"#cccccc\" stroke-dasharray=\"0,0.682969\" stroke-linecap=\"round\" stroke-linejoin=\"round\" stroke-miterlimit=\"10.0375\" stroke-width=\"0.170717\"/>\n",
       "</g>\n",
       "<g transform=\"translate(340.228 337.677)scale(.996264)\">\n",
       "<path d=\"M.355659 291.996H569.411\" fill=\"none\" stroke=\"#cccccc\" stroke-dasharray=\"0,0.682969\" stroke-linecap=\"round\" stroke-linejoin=\"round\" stroke-miterlimit=\"10.0375\" stroke-width=\"0.170717\"/>\n",
       "</g>\n",
       "<g transform=\"translate(340.228 337.677)scale(.996264)\">\n",
       "<path d=\"M.355659 284.883H569.411\" fill=\"none\" stroke=\"#cccccc\" stroke-dasharray=\"0,0.682969\" stroke-linecap=\"round\" stroke-linejoin=\"round\" stroke-miterlimit=\"10.0375\" stroke-width=\"0.170717\"/>\n",
       "</g>\n",
       "<g transform=\"translate(340.228 337.677)scale(.996264)\">\n",
       "<path d=\"M.355659 284.883H569.411\" fill=\"none\" stroke=\"#cccccc\" stroke-linecap=\"round\" stroke-linejoin=\"round\" stroke-miterlimit=\"10.0375\" stroke-width=\"0.426791\"/>\n",
       "</g>\n",
       "<g transform=\"translate(340.228 337.677)scale(.996264)\">\n",
       "<path d=\"M.355659 277.77H569.411\" fill=\"none\" stroke=\"#cccccc\" stroke-dasharray=\"0,0.682969\" stroke-linecap=\"round\" stroke-linejoin=\"round\" stroke-miterlimit=\"10.0375\" stroke-width=\"0.170717\"/>\n",
       "</g>\n",
       "<g transform=\"translate(340.228 337.677)scale(.996264)\">\n",
       "<path d=\"M.355659 270.657H569.411\" fill=\"none\" stroke=\"#cccccc\" stroke-dasharray=\"0,0.682969\" stroke-linecap=\"round\" stroke-linejoin=\"round\" stroke-miterlimit=\"10.0375\" stroke-width=\"0.170717\"/>\n",
       "</g>\n",
       "<g transform=\"translate(340.228 337.677)scale(.996264)\">\n",
       "<path d=\"M.355659 263.544H569.411\" fill=\"none\" stroke=\"#cccccc\" stroke-dasharray=\"0,0.682969\" stroke-linecap=\"round\" stroke-linejoin=\"round\" stroke-miterlimit=\"10.0375\" stroke-width=\"0.170717\"/>\n",
       "</g>\n",
       "<g transform=\"translate(340.228 337.677)scale(.996264)\">\n",
       "<path d=\"M.355659 256.43H569.411\" fill=\"none\" stroke=\"#cccccc\" stroke-dasharray=\"0,0.682969\" stroke-linecap=\"round\" stroke-linejoin=\"round\" stroke-miterlimit=\"10.0375\" stroke-width=\"0.170717\"/>\n",
       "</g>\n",
       "<g transform=\"translate(340.228 337.677)scale(.996264)\">\n",
       "<path d=\"M.355659 256.43H569.411\" fill=\"none\" stroke=\"#cccccc\" stroke-linecap=\"round\" stroke-linejoin=\"round\" stroke-miterlimit=\"10.0375\" stroke-width=\"0.426791\"/>\n",
       "</g>\n",
       "<g transform=\"translate(340.228 337.677)scale(.996264)\">\n",
       "<path d=\"M.355659 249.317H569.411\" fill=\"none\" stroke=\"#cccccc\" stroke-dasharray=\"0,0.682969\" stroke-linecap=\"round\" stroke-linejoin=\"round\" stroke-miterlimit=\"10.0375\" stroke-width=\"0.170717\"/>\n",
       "</g>\n",
       "<g transform=\"translate(340.228 337.677)scale(.996264)\">\n",
       "<path d=\"M.355659 242.204H569.411\" fill=\"none\" stroke=\"#cccccc\" stroke-dasharray=\"0,0.682969\" stroke-linecap=\"round\" stroke-linejoin=\"round\" stroke-miterlimit=\"10.0375\" stroke-width=\"0.170717\"/>\n",
       "</g>\n",
       "<g transform=\"translate(340.228 337.677)scale(.996264)\">\n",
       "<path d=\"M.355659 235.091H569.411\" fill=\"none\" stroke=\"#cccccc\" stroke-dasharray=\"0,0.682969\" stroke-linecap=\"round\" stroke-linejoin=\"round\" stroke-miterlimit=\"10.0375\" stroke-width=\"0.170717\"/>\n",
       "</g>\n",
       "<g transform=\"translate(340.228 337.677)scale(.996264)\">\n",
       "<path d=\"M.355659 227.978H569.411\" fill=\"none\" stroke=\"#cccccc\" stroke-dasharray=\"0,0.682969\" stroke-linecap=\"round\" stroke-linejoin=\"round\" stroke-miterlimit=\"10.0375\" stroke-width=\"0.170717\"/>\n",
       "</g>\n",
       "<g transform=\"translate(340.228 337.677)scale(.996264)\">\n",
       "<path d=\"M.355659 227.978H569.411\" fill=\"none\" stroke=\"#cccccc\" stroke-linecap=\"round\" stroke-linejoin=\"round\" stroke-miterlimit=\"10.0375\" stroke-width=\"0.426791\"/>\n",
       "</g>\n",
       "<g transform=\"translate(340.228 337.677)scale(.996264)\">\n",
       "<path d=\"M.355659 220.865H569.411\" fill=\"none\" stroke=\"#cccccc\" stroke-dasharray=\"0,0.682969\" stroke-linecap=\"round\" stroke-linejoin=\"round\" stroke-miterlimit=\"10.0375\" stroke-width=\"0.170717\"/>\n",
       "</g>\n",
       "<g transform=\"translate(340.228 337.677)scale(.996264)\">\n",
       "<path d=\"M.355659 213.751H569.411\" fill=\"none\" stroke=\"#cccccc\" stroke-dasharray=\"0,0.682969\" stroke-linecap=\"round\" stroke-linejoin=\"round\" stroke-miterlimit=\"10.0375\" stroke-width=\"0.170717\"/>\n",
       "</g>\n",
       "<g transform=\"translate(340.228 337.677)scale(.996264)\">\n",
       "<path d=\"M.355659 206.638H569.411\" fill=\"none\" stroke=\"#cccccc\" stroke-dasharray=\"0,0.682969\" stroke-linecap=\"round\" stroke-linejoin=\"round\" stroke-miterlimit=\"10.0375\" stroke-width=\"0.170717\"/>\n",
       "</g>\n",
       "<g transform=\"translate(340.228 337.677)scale(.996264)\">\n",
       "<path d=\"M.355659 199.525H569.411\" fill=\"none\" stroke=\"#cccccc\" stroke-dasharray=\"0,0.682969\" stroke-linecap=\"round\" stroke-linejoin=\"round\" stroke-miterlimit=\"10.0375\" stroke-width=\"0.170717\"/>\n",
       "</g>\n",
       "<g transform=\"translate(340.228 337.677)scale(.996264)\">\n",
       "<path d=\"M.355659 199.525H569.411\" fill=\"none\" stroke=\"#cccccc\" stroke-linecap=\"round\" stroke-linejoin=\"round\" stroke-miterlimit=\"10.0375\" stroke-width=\"0.426791\"/>\n",
       "</g>\n",
       "<g transform=\"translate(340.228 337.677)scale(.996264)\">\n",
       "<path d=\"M.355659 192.412H569.411\" fill=\"none\" stroke=\"#cccccc\" stroke-dasharray=\"0,0.682969\" stroke-linecap=\"round\" stroke-linejoin=\"round\" stroke-miterlimit=\"10.0375\" stroke-width=\"0.170717\"/>\n",
       "</g>\n",
       "<g transform=\"translate(340.228 337.677)scale(.996264)\">\n",
       "<path d=\"M.355659 185.299H569.411\" fill=\"none\" stroke=\"#cccccc\" stroke-dasharray=\"0,0.682969\" stroke-linecap=\"round\" stroke-linejoin=\"round\" stroke-miterlimit=\"10.0375\" stroke-width=\"0.170717\"/>\n",
       "</g>\n",
       "<g transform=\"translate(340.228 337.677)scale(.996264)\">\n",
       "<path d=\"M.355659 178.185H569.411\" fill=\"none\" stroke=\"#cccccc\" stroke-dasharray=\"0,0.682969\" stroke-linecap=\"round\" stroke-linejoin=\"round\" stroke-miterlimit=\"10.0375\" stroke-width=\"0.170717\"/>\n",
       "</g>\n",
       "<g transform=\"translate(340.228 337.677)scale(.996264)\">\n",
       "<path d=\"M.355659 171.072H569.411\" fill=\"none\" stroke=\"#cccccc\" stroke-dasharray=\"0,0.682969\" stroke-linecap=\"round\" stroke-linejoin=\"round\" stroke-miterlimit=\"10.0375\" stroke-width=\"0.170717\"/>\n",
       "</g>\n",
       "<g transform=\"translate(340.228 337.677)scale(.996264)\">\n",
       "<path d=\"M.355659 171.072H569.411\" fill=\"none\" stroke=\"#cccccc\" stroke-linecap=\"round\" stroke-linejoin=\"round\" stroke-miterlimit=\"10.0375\" stroke-width=\"0.426791\"/>\n",
       "</g>\n",
       "<g transform=\"translate(340.228 337.677)scale(.996264)\">\n",
       "<path d=\"M.355659 163.959H569.411\" fill=\"none\" stroke=\"#cccccc\" stroke-dasharray=\"0,0.682969\" stroke-linecap=\"round\" stroke-linejoin=\"round\" stroke-miterlimit=\"10.0375\" stroke-width=\"0.170717\"/>\n",
       "</g>\n",
       "<g transform=\"translate(340.228 337.677)scale(.996264)\">\n",
       "<path d=\"M.355659 156.846H569.411\" fill=\"none\" stroke=\"#cccccc\" stroke-dasharray=\"0,0.682969\" stroke-linecap=\"round\" stroke-linejoin=\"round\" stroke-miterlimit=\"10.0375\" stroke-width=\"0.170717\"/>\n",
       "</g>\n",
       "<g transform=\"translate(340.228 337.677)scale(.996264)\">\n",
       "<path d=\"M.355659 149.733H569.411\" fill=\"none\" stroke=\"#cccccc\" stroke-dasharray=\"0,0.682969\" stroke-linecap=\"round\" stroke-linejoin=\"round\" stroke-miterlimit=\"10.0375\" stroke-width=\"0.170717\"/>\n",
       "</g>\n",
       "<g transform=\"translate(340.228 337.677)scale(.996264)\">\n",
       "<path d=\"M.355659 142.619H569.411\" fill=\"none\" stroke=\"#cccccc\" stroke-dasharray=\"0,0.682969\" stroke-linecap=\"round\" stroke-linejoin=\"round\" stroke-miterlimit=\"10.0375\" stroke-width=\"0.170717\"/>\n",
       "</g>\n",
       "<g transform=\"translate(340.228 337.677)scale(.996264)\">\n",
       "<path d=\"M.355659 142.619H569.411\" fill=\"none\" stroke=\"#cccccc\" stroke-linecap=\"round\" stroke-linejoin=\"round\" stroke-miterlimit=\"10.0375\" stroke-width=\"0.426791\"/>\n",
       "</g>\n",
       "<g transform=\"translate(340.228 337.677)scale(.996264)\">\n",
       "<path d=\"M.355659 135.506H569.411\" fill=\"none\" stroke=\"#cccccc\" stroke-dasharray=\"0,0.682969\" stroke-linecap=\"round\" stroke-linejoin=\"round\" stroke-miterlimit=\"10.0375\" stroke-width=\"0.170717\"/>\n",
       "</g>\n",
       "<g transform=\"translate(340.228 337.677)scale(.996264)\">\n",
       "<path d=\"M.355659 128.393H569.411\" fill=\"none\" stroke=\"#cccccc\" stroke-dasharray=\"0,0.682969\" stroke-linecap=\"round\" stroke-linejoin=\"round\" stroke-miterlimit=\"10.0375\" stroke-width=\"0.170717\"/>\n",
       "</g>\n",
       "<g transform=\"translate(340.228 337.677)scale(.996264)\">\n",
       "<path d=\"M.355659 121.28H569.411\" fill=\"none\" stroke=\"#cccccc\" stroke-dasharray=\"0,0.682969\" stroke-linecap=\"round\" stroke-linejoin=\"round\" stroke-miterlimit=\"10.0375\" stroke-width=\"0.170717\"/>\n",
       "</g>\n",
       "<g transform=\"translate(340.228 337.677)scale(.996264)\">\n",
       "<path d=\"M.355659 114.167H569.411\" fill=\"none\" stroke=\"#cccccc\" stroke-dasharray=\"0,0.682969\" stroke-linecap=\"round\" stroke-linejoin=\"round\" stroke-miterlimit=\"10.0375\" stroke-width=\"0.170717\"/>\n",
       "</g>\n",
       "<g transform=\"translate(340.228 337.677)scale(.996264)\">\n",
       "<path d=\"M.355659 114.167H569.411\" fill=\"none\" stroke=\"#cccccc\" stroke-linecap=\"round\" stroke-linejoin=\"round\" stroke-miterlimit=\"10.0375\" stroke-width=\"0.426791\"/>\n",
       "</g>\n",
       "<g transform=\"translate(340.228 337.677)scale(.996264)\">\n",
       "<path d=\"M.355659 107.053H569.411\" fill=\"none\" stroke=\"#cccccc\" stroke-dasharray=\"0,0.682969\" stroke-linecap=\"round\" stroke-linejoin=\"round\" stroke-miterlimit=\"10.0375\" stroke-width=\"0.170717\"/>\n",
       "</g>\n",
       "<g transform=\"translate(340.228 337.677)scale(.996264)\">\n",
       "<path d=\"M.355659 99.9403H569.411\" fill=\"none\" stroke=\"#cccccc\" stroke-dasharray=\"0,0.682969\" stroke-linecap=\"round\" stroke-linejoin=\"round\" stroke-miterlimit=\"10.0375\" stroke-width=\"0.170717\"/>\n",
       "</g>\n",
       "<g transform=\"translate(340.228 337.677)scale(.996264)\">\n",
       "<path d=\"M.355659 92.8271H569.411\" fill=\"none\" stroke=\"#cccccc\" stroke-dasharray=\"0,0.682969\" stroke-linecap=\"round\" stroke-linejoin=\"round\" stroke-miterlimit=\"10.0375\" stroke-width=\"0.170717\"/>\n",
       "</g>\n",
       "<g transform=\"translate(340.228 337.677)scale(.996264)\">\n",
       "<path d=\"M.355659 85.7139H569.411\" fill=\"none\" stroke=\"#cccccc\" stroke-dasharray=\"0,0.682969\" stroke-linecap=\"round\" stroke-linejoin=\"round\" stroke-miterlimit=\"10.0375\" stroke-width=\"0.170717\"/>\n",
       "</g>\n",
       "<g transform=\"translate(340.228 337.677)scale(.996264)\">\n",
       "<path d=\"M.355659 85.7139H569.411\" fill=\"none\" stroke=\"#cccccc\" stroke-linecap=\"round\" stroke-linejoin=\"round\" stroke-miterlimit=\"10.0375\" stroke-width=\"0.426791\"/>\n",
       "</g>\n",
       "<g transform=\"translate(340.228 337.677)scale(.996264)\">\n",
       "<path d=\"M.355659 78.6007H569.411\" fill=\"none\" stroke=\"#cccccc\" stroke-dasharray=\"0,0.682969\" stroke-linecap=\"round\" stroke-linejoin=\"round\" stroke-miterlimit=\"10.0375\" stroke-width=\"0.170717\"/>\n",
       "</g>\n",
       "<g transform=\"translate(340.228 337.677)scale(.996264)\">\n",
       "<path d=\"M.355659 71.4875H569.411\" fill=\"none\" stroke=\"#cccccc\" stroke-dasharray=\"0,0.682969\" stroke-linecap=\"round\" stroke-linejoin=\"round\" stroke-miterlimit=\"10.0375\" stroke-width=\"0.170717\"/>\n",
       "</g>\n",
       "<g transform=\"translate(340.228 337.677)scale(.996264)\">\n",
       "<path d=\"M.355659 64.3744H569.411\" fill=\"none\" stroke=\"#cccccc\" stroke-dasharray=\"0,0.682969\" stroke-linecap=\"round\" stroke-linejoin=\"round\" stroke-miterlimit=\"10.0375\" stroke-width=\"0.170717\"/>\n",
       "</g>\n",
       "<g transform=\"translate(340.228 337.677)scale(.996264)\">\n",
       "<path d=\"M.355659 57.2612H569.411\" fill=\"none\" stroke=\"#cccccc\" stroke-dasharray=\"0,0.682969\" stroke-linecap=\"round\" stroke-linejoin=\"round\" stroke-miterlimit=\"10.0375\" stroke-width=\"0.170717\"/>\n",
       "</g>\n",
       "<g transform=\"translate(340.228 337.677)scale(.996264)\">\n",
       "<path d=\"M.355659 57.2612H569.411\" fill=\"none\" stroke=\"#cccccc\" stroke-linecap=\"round\" stroke-linejoin=\"round\" stroke-miterlimit=\"10.0375\" stroke-width=\"0.426791\"/>\n",
       "</g>\n",
       "<g transform=\"translate(340.228 337.677)scale(.996264)\">\n",
       "<path d=\"M.355659 50.148H569.411\" fill=\"none\" stroke=\"#cccccc\" stroke-dasharray=\"0,0.682969\" stroke-linecap=\"round\" stroke-linejoin=\"round\" stroke-miterlimit=\"10.0375\" stroke-width=\"0.170717\"/>\n",
       "</g>\n",
       "<g transform=\"translate(340.228 337.677)scale(.996264)\">\n",
       "<path d=\"M.355659 43.0348H569.411\" fill=\"none\" stroke=\"#cccccc\" stroke-dasharray=\"0,0.682969\" stroke-linecap=\"round\" stroke-linejoin=\"round\" stroke-miterlimit=\"10.0375\" stroke-width=\"0.170717\"/>\n",
       "</g>\n",
       "<g transform=\"translate(340.228 337.677)scale(.996264)\">\n",
       "<path d=\"M.355659 35.9216H569.411\" fill=\"none\" stroke=\"#cccccc\" stroke-dasharray=\"0,0.682969\" stroke-linecap=\"round\" stroke-linejoin=\"round\" stroke-miterlimit=\"10.0375\" stroke-width=\"0.170717\"/>\n",
       "</g>\n",
       "<g transform=\"translate(340.228 337.677)scale(.996264)\">\n",
       "<path d=\"M.355659 28.8084H569.411\" fill=\"none\" stroke=\"#cccccc\" stroke-dasharray=\"0,0.682969\" stroke-linecap=\"round\" stroke-linejoin=\"round\" stroke-miterlimit=\"10.0375\" stroke-width=\"0.170717\"/>\n",
       "</g>\n",
       "<g transform=\"translate(340.228 337.677)scale(.996264)\">\n",
       "<path d=\"M.355659 28.8084H569.411\" fill=\"none\" stroke=\"#cccccc\" stroke-linecap=\"round\" stroke-linejoin=\"round\" stroke-miterlimit=\"10.0375\" stroke-width=\"0.426791\"/>\n",
       "</g>\n",
       "<g transform=\"translate(340.228 337.677)scale(.996264)\">\n",
       "<path d=\"M.355659 21.6952H569.411\" fill=\"none\" stroke=\"#cccccc\" stroke-dasharray=\"0,0.682969\" stroke-linecap=\"round\" stroke-linejoin=\"round\" stroke-miterlimit=\"10.0375\" stroke-width=\"0.170717\"/>\n",
       "</g>\n",
       "<g transform=\"translate(340.228 337.677)scale(.996264)\">\n",
       "<path d=\"M.355659 14.582H569.411\" fill=\"none\" stroke=\"#cccccc\" stroke-dasharray=\"0,0.682969\" stroke-linecap=\"round\" stroke-linejoin=\"round\" stroke-miterlimit=\"10.0375\" stroke-width=\"0.170717\"/>\n",
       "</g>\n",
       "<g transform=\"translate(340.228 337.677)scale(.996264)\">\n",
       "<path d=\"M.355659 7.46885H569.411\" fill=\"none\" stroke=\"#cccccc\" stroke-dasharray=\"0,0.682969\" stroke-linecap=\"round\" stroke-linejoin=\"round\" stroke-miterlimit=\"10.0375\" stroke-width=\"0.170717\"/>\n",
       "</g>\n",
       "<g transform=\"translate(340.228 337.677)scale(.996264)\">\n",
       "<path d=\"M.355659 .355659H569.411\" fill=\"none\" stroke=\"#cccccc\" stroke-dasharray=\"0,0.682969\" stroke-linecap=\"round\" stroke-linejoin=\"round\" stroke-miterlimit=\"10.0375\" stroke-width=\"0.170717\"/>\n",
       "</g>\n",
       "<g transform=\"translate(340.228 337.677)scale(.996264)\">\n",
       "<path d=\"M.355659 .355659H569.411\" fill=\"none\" stroke=\"#cccccc\" stroke-linecap=\"round\" stroke-linejoin=\"round\" stroke-miterlimit=\"10.0375\" stroke-width=\"0.426791\"/>\n",
       "</g>\n",
       "<g transform=\"translate(340.228 337.677)scale(.996264)\">\n",
       "<path d=\"M.355659 284.883H569.411\" fill=\"none\" stroke=\"#000000\" stroke-linecap=\"round\" stroke-linejoin=\"round\" stroke-miterlimit=\"10.0375\" stroke-width=\"0.711319\"/>\n",
       "</g>\n",
       "<g transform=\"translate(340.228 337.677)scale(.996264)\">\n",
       "<path d=\"M284.883 569.411V.355659\" fill=\"none\" stroke=\"#000000\" stroke-linecap=\"round\" stroke-linejoin=\"round\" stroke-miterlimit=\"10.0375\" stroke-width=\"0.711319\"/>\n",
       "</g>\n",
       "<g transform=\"translate(340.228 337.677)scale(.996264)\">\n",
       "<path d=\"M28.8084 284.883V289.151\" fill=\"none\" stroke=\"#000000\" stroke-linecap=\"round\" stroke-linejoin=\"round\" stroke-miterlimit=\"10.0375\" stroke-width=\"0.711319\"/>\n",
       "</g>\n",
       "<use x=\"361.357221\" y=\"637.094234\" xlink:href=\"#g0-0\"/>\n",
       "<use x=\"370.655718\" y=\"637.094234\" xlink:href=\"#g1-57\"/>\n",
       "<g transform=\"translate(340.228 337.677)scale(.996264)\">\n",
       "<path d=\"M35.9216 284.883V287.017\" fill=\"none\" stroke=\"#000000\" stroke-linecap=\"round\" stroke-linejoin=\"round\" stroke-miterlimit=\"10.0375\" stroke-width=\"0.426791\"/>\n",
       "</g>\n",
       "<g transform=\"translate(340.228 337.677)scale(.996264)\">\n",
       "<path d=\"M43.0348 284.883V287.017\" fill=\"none\" stroke=\"#000000\" stroke-linecap=\"round\" stroke-linejoin=\"round\" stroke-miterlimit=\"10.0375\" stroke-width=\"0.426791\"/>\n",
       "</g>\n",
       "<g transform=\"translate(340.228 337.677)scale(.996264)\">\n",
       "<path d=\"M50.148 284.883V287.017\" fill=\"none\" stroke=\"#000000\" stroke-linecap=\"round\" stroke-linejoin=\"round\" stroke-miterlimit=\"10.0375\" stroke-width=\"0.426791\"/>\n",
       "</g>\n",
       "<g transform=\"translate(340.228 337.677)scale(.996264)\">\n",
       "<path d=\"M57.2612 284.883V289.151\" fill=\"none\" stroke=\"#000000\" stroke-linecap=\"round\" stroke-linejoin=\"round\" stroke-miterlimit=\"10.0375\" stroke-width=\"0.711319\"/>\n",
       "</g>\n",
       "<use x=\"389.703681\" y=\"637.094234\" xlink:href=\"#g0-0\"/>\n",
       "<use x=\"399.002178\" y=\"637.094234\" xlink:href=\"#g1-56\"/>\n",
       "<g transform=\"translate(340.228 337.677)scale(.996264)\">\n",
       "<path d=\"M64.3744 284.883V287.017\" fill=\"none\" stroke=\"#000000\" stroke-linecap=\"round\" stroke-linejoin=\"round\" stroke-miterlimit=\"10.0375\" stroke-width=\"0.426791\"/>\n",
       "</g>\n",
       "<g transform=\"translate(340.228 337.677)scale(.996264)\">\n",
       "<path d=\"M71.4875 284.883V287.017\" fill=\"none\" stroke=\"#000000\" stroke-linecap=\"round\" stroke-linejoin=\"round\" stroke-miterlimit=\"10.0375\" stroke-width=\"0.426791\"/>\n",
       "</g>\n",
       "<g transform=\"translate(340.228 337.677)scale(.996264)\">\n",
       "<path d=\"M78.6007 284.883V287.017\" fill=\"none\" stroke=\"#000000\" stroke-linecap=\"round\" stroke-linejoin=\"round\" stroke-miterlimit=\"10.0375\" stroke-width=\"0.426791\"/>\n",
       "</g>\n",
       "<g transform=\"translate(340.228 337.677)scale(.996264)\">\n",
       "<path d=\"M85.7139 284.883V289.151\" fill=\"none\" stroke=\"#000000\" stroke-linecap=\"round\" stroke-linejoin=\"round\" stroke-miterlimit=\"10.0375\" stroke-width=\"0.711319\"/>\n",
       "</g>\n",
       "<use x=\"418.05014\" y=\"637.094234\" xlink:href=\"#g0-0\"/>\n",
       "<use x=\"427.348637\" y=\"637.094234\" xlink:href=\"#g1-55\"/>\n",
       "<g transform=\"translate(340.228 337.677)scale(.996264)\">\n",
       "<path d=\"M92.8271 284.883V287.017\" fill=\"none\" stroke=\"#000000\" stroke-linecap=\"round\" stroke-linejoin=\"round\" stroke-miterlimit=\"10.0375\" stroke-width=\"0.426791\"/>\n",
       "</g>\n",
       "<g transform=\"translate(340.228 337.677)scale(.996264)\">\n",
       "<path d=\"M99.9403 284.883V287.017\" fill=\"none\" stroke=\"#000000\" stroke-linecap=\"round\" stroke-linejoin=\"round\" stroke-miterlimit=\"10.0375\" stroke-width=\"0.426791\"/>\n",
       "</g>\n",
       "<g transform=\"translate(340.228 337.677)scale(.996264)\">\n",
       "<path d=\"M107.053 284.883V287.017\" fill=\"none\" stroke=\"#000000\" stroke-linecap=\"round\" stroke-linejoin=\"round\" stroke-miterlimit=\"10.0375\" stroke-width=\"0.426791\"/>\n",
       "</g>\n",
       "<g transform=\"translate(340.228 337.677)scale(.996264)\">\n",
       "<path d=\"M114.167 284.883V289.151\" fill=\"none\" stroke=\"#000000\" stroke-linecap=\"round\" stroke-linejoin=\"round\" stroke-miterlimit=\"10.0375\" stroke-width=\"0.711319\"/>\n",
       "</g>\n",
       "<use x=\"446.396585\" y=\"637.094234\" xlink:href=\"#g0-0\"/>\n",
       "<use x=\"455.695082\" y=\"637.094234\" xlink:href=\"#g1-54\"/>\n",
       "<g transform=\"translate(340.228 337.677)scale(.996264)\">\n",
       "<path d=\"M121.28 284.883V287.017\" fill=\"none\" stroke=\"#000000\" stroke-linecap=\"round\" stroke-linejoin=\"round\" stroke-miterlimit=\"10.0375\" stroke-width=\"0.426791\"/>\n",
       "</g>\n",
       "<g transform=\"translate(340.228 337.677)scale(.996264)\">\n",
       "<path d=\"M128.393 284.883V287.017\" fill=\"none\" stroke=\"#000000\" stroke-linecap=\"round\" stroke-linejoin=\"round\" stroke-miterlimit=\"10.0375\" stroke-width=\"0.426791\"/>\n",
       "</g>\n",
       "<g transform=\"translate(340.228 337.677)scale(.996264)\">\n",
       "<path d=\"M135.506 284.883V287.017\" fill=\"none\" stroke=\"#000000\" stroke-linecap=\"round\" stroke-linejoin=\"round\" stroke-miterlimit=\"10.0375\" stroke-width=\"0.426791\"/>\n",
       "</g>\n",
       "<g transform=\"translate(340.228 337.677)scale(.996264)\">\n",
       "<path d=\"M142.619 284.883V289.151\" fill=\"none\" stroke=\"#000000\" stroke-linecap=\"round\" stroke-linejoin=\"round\" stroke-miterlimit=\"10.0375\" stroke-width=\"0.711319\"/>\n",
       "</g>\n",
       "<use x=\"474.743044\" y=\"637.094234\" xlink:href=\"#g0-0\"/>\n",
       "<use x=\"484.041541\" y=\"637.094234\" xlink:href=\"#g1-53\"/>\n",
       "<g transform=\"translate(340.228 337.677)scale(.996264)\">\n",
       "<path d=\"M149.733 284.883V287.017\" fill=\"none\" stroke=\"#000000\" stroke-linecap=\"round\" stroke-linejoin=\"round\" stroke-miterlimit=\"10.0375\" stroke-width=\"0.426791\"/>\n",
       "</g>\n",
       "<g transform=\"translate(340.228 337.677)scale(.996264)\">\n",
       "<path d=\"M156.846 284.883V287.017\" fill=\"none\" stroke=\"#000000\" stroke-linecap=\"round\" stroke-linejoin=\"round\" stroke-miterlimit=\"10.0375\" stroke-width=\"0.426791\"/>\n",
       "</g>\n",
       "<g transform=\"translate(340.228 337.677)scale(.996264)\">\n",
       "<path d=\"M163.959 284.883V287.017\" fill=\"none\" stroke=\"#000000\" stroke-linecap=\"round\" stroke-linejoin=\"round\" stroke-miterlimit=\"10.0375\" stroke-width=\"0.426791\"/>\n",
       "</g>\n",
       "<g transform=\"translate(340.228 337.677)scale(.996264)\">\n",
       "<path d=\"M171.072 284.883V289.151\" fill=\"none\" stroke=\"#000000\" stroke-linecap=\"round\" stroke-linejoin=\"round\" stroke-miterlimit=\"10.0375\" stroke-width=\"0.711319\"/>\n",
       "</g>\n",
       "<use x=\"503.089504\" y=\"637.094234\" xlink:href=\"#g0-0\"/>\n",
       "<use x=\"512.388001\" y=\"637.094234\" xlink:href=\"#g1-52\"/>\n",
       "<g transform=\"translate(340.228 337.677)scale(.996264)\">\n",
       "<path d=\"M178.185 284.883V287.017\" fill=\"none\" stroke=\"#000000\" stroke-linecap=\"round\" stroke-linejoin=\"round\" stroke-miterlimit=\"10.0375\" stroke-width=\"0.426791\"/>\n",
       "</g>\n",
       "<g transform=\"translate(340.228 337.677)scale(.996264)\">\n",
       "<path d=\"M185.299 284.883V287.017\" fill=\"none\" stroke=\"#000000\" stroke-linecap=\"round\" stroke-linejoin=\"round\" stroke-miterlimit=\"10.0375\" stroke-width=\"0.426791\"/>\n",
       "</g>\n",
       "<g transform=\"translate(340.228 337.677)scale(.996264)\">\n",
       "<path d=\"M192.412 284.883V287.017\" fill=\"none\" stroke=\"#000000\" stroke-linecap=\"round\" stroke-linejoin=\"round\" stroke-miterlimit=\"10.0375\" stroke-width=\"0.426791\"/>\n",
       "</g>\n",
       "<g transform=\"translate(340.228 337.677)scale(.996264)\">\n",
       "<path d=\"M199.525 284.883V289.151\" fill=\"none\" stroke=\"#000000\" stroke-linecap=\"round\" stroke-linejoin=\"round\" stroke-miterlimit=\"10.0375\" stroke-width=\"0.711319\"/>\n",
       "</g>\n",
       "<use x=\"531.435963\" y=\"637.094234\" xlink:href=\"#g0-0\"/>\n",
       "<use x=\"540.73446\" y=\"637.094234\" xlink:href=\"#g1-51\"/>\n",
       "<g transform=\"translate(340.228 337.677)scale(.996264)\">\n",
       "<path d=\"M206.638 284.883V287.017\" fill=\"none\" stroke=\"#000000\" stroke-linecap=\"round\" stroke-linejoin=\"round\" stroke-miterlimit=\"10.0375\" stroke-width=\"0.426791\"/>\n",
       "</g>\n",
       "<g transform=\"translate(340.228 337.677)scale(.996264)\">\n",
       "<path d=\"M213.751 284.883V287.017\" fill=\"none\" stroke=\"#000000\" stroke-linecap=\"round\" stroke-linejoin=\"round\" stroke-miterlimit=\"10.0375\" stroke-width=\"0.426791\"/>\n",
       "</g>\n",
       "<g transform=\"translate(340.228 337.677)scale(.996264)\">\n",
       "<path d=\"M220.865 284.883V287.017\" fill=\"none\" stroke=\"#000000\" stroke-linecap=\"round\" stroke-linejoin=\"round\" stroke-miterlimit=\"10.0375\" stroke-width=\"0.426791\"/>\n",
       "</g>\n",
       "<g transform=\"translate(340.228 337.677)scale(.996264)\">\n",
       "<path d=\"M227.978 284.883V289.151\" fill=\"none\" stroke=\"#000000\" stroke-linecap=\"round\" stroke-linejoin=\"round\" stroke-miterlimit=\"10.0375\" stroke-width=\"0.711319\"/>\n",
       "</g>\n",
       "<use x=\"559.782423\" y=\"637.094234\" xlink:href=\"#g0-0\"/>\n",
       "<use x=\"569.08092\" y=\"637.094234\" xlink:href=\"#g1-50\"/>\n",
       "<g transform=\"translate(340.228 337.677)scale(.996264)\">\n",
       "<path d=\"M235.091 284.883V287.017\" fill=\"none\" stroke=\"#000000\" stroke-linecap=\"round\" stroke-linejoin=\"round\" stroke-miterlimit=\"10.0375\" stroke-width=\"0.426791\"/>\n",
       "</g>\n",
       "<g transform=\"translate(340.228 337.677)scale(.996264)\">\n",
       "<path d=\"M242.204 284.883V287.017\" fill=\"none\" stroke=\"#000000\" stroke-linecap=\"round\" stroke-linejoin=\"round\" stroke-miterlimit=\"10.0375\" stroke-width=\"0.426791\"/>\n",
       "</g>\n",
       "<g transform=\"translate(340.228 337.677)scale(.996264)\">\n",
       "<path d=\"M249.317 284.883V287.017\" fill=\"none\" stroke=\"#000000\" stroke-linecap=\"round\" stroke-linejoin=\"round\" stroke-miterlimit=\"10.0375\" stroke-width=\"0.426791\"/>\n",
       "</g>\n",
       "<g transform=\"translate(340.228 337.677)scale(.996264)\">\n",
       "<path d=\"M256.43 284.883V289.151\" fill=\"none\" stroke=\"#000000\" stroke-linecap=\"round\" stroke-linejoin=\"round\" stroke-miterlimit=\"10.0375\" stroke-width=\"0.711319\"/>\n",
       "</g>\n",
       "<use x=\"588.128867\" y=\"637.094234\" xlink:href=\"#g0-0\"/>\n",
       "<use x=\"597.427364\" y=\"637.094234\" xlink:href=\"#g1-49\"/>\n",
       "<g transform=\"translate(340.228 337.677)scale(.996264)\">\n",
       "<path d=\"M263.544 284.883V287.017\" fill=\"none\" stroke=\"#000000\" stroke-linecap=\"round\" stroke-linejoin=\"round\" stroke-miterlimit=\"10.0375\" stroke-width=\"0.426791\"/>\n",
       "</g>\n",
       "<g transform=\"translate(340.228 337.677)scale(.996264)\">\n",
       "<path d=\"M270.657 284.883V287.017\" fill=\"none\" stroke=\"#000000\" stroke-linecap=\"round\" stroke-linejoin=\"round\" stroke-miterlimit=\"10.0375\" stroke-width=\"0.426791\"/>\n",
       "</g>\n",
       "<g transform=\"translate(340.228 337.677)scale(.996264)\">\n",
       "<path d=\"M277.77 284.883V287.017\" fill=\"none\" stroke=\"#000000\" stroke-linecap=\"round\" stroke-linejoin=\"round\" stroke-miterlimit=\"10.0375\" stroke-width=\"0.426791\"/>\n",
       "</g>\n",
       "<g transform=\"translate(340.228 337.677)scale(.996264)\">\n",
       "<path d=\"M313.336 284.883V289.151\" fill=\"none\" stroke=\"#000000\" stroke-linecap=\"round\" stroke-linejoin=\"round\" stroke-miterlimit=\"10.0375\" stroke-width=\"0.711319\"/>\n",
       "</g>\n",
       "<use x=\"649.471024\" y=\"637.094219\" xlink:href=\"#g1-49\"/>\n",
       "<g transform=\"translate(340.228 337.677)scale(.996264)\">\n",
       "<path d=\"M306.223 284.883V287.017\" fill=\"none\" stroke=\"#000000\" stroke-linecap=\"round\" stroke-linejoin=\"round\" stroke-miterlimit=\"10.0375\" stroke-width=\"0.426791\"/>\n",
       "</g>\n",
       "<g transform=\"translate(340.228 337.677)scale(.996264)\">\n",
       "<path d=\"M299.11 284.883V287.017\" fill=\"none\" stroke=\"#000000\" stroke-linecap=\"round\" stroke-linejoin=\"round\" stroke-miterlimit=\"10.0375\" stroke-width=\"0.426791\"/>\n",
       "</g>\n",
       "<g transform=\"translate(340.228 337.677)scale(.996264)\">\n",
       "<path d=\"M291.996 284.883V287.017\" fill=\"none\" stroke=\"#000000\" stroke-linecap=\"round\" stroke-linejoin=\"round\" stroke-miterlimit=\"10.0375\" stroke-width=\"0.426791\"/>\n",
       "</g>\n",
       "<g transform=\"translate(340.228 337.677)scale(.996264)\">\n",
       "<path d=\"M341.789 284.883V289.151\" fill=\"none\" stroke=\"#000000\" stroke-linecap=\"round\" stroke-linejoin=\"round\" stroke-miterlimit=\"10.0375\" stroke-width=\"0.711319\"/>\n",
       "</g>\n",
       "<use x=\"677.817483\" y=\"637.094219\" xlink:href=\"#g1-50\"/>\n",
       "<g transform=\"translate(340.228 337.677)scale(.996264)\">\n",
       "<path d=\"M334.676 284.883V287.017\" fill=\"none\" stroke=\"#000000\" stroke-linecap=\"round\" stroke-linejoin=\"round\" stroke-miterlimit=\"10.0375\" stroke-width=\"0.426791\"/>\n",
       "</g>\n",
       "<g transform=\"translate(340.228 337.677)scale(.996264)\">\n",
       "<path d=\"M327.562 284.883V287.017\" fill=\"none\" stroke=\"#000000\" stroke-linecap=\"round\" stroke-linejoin=\"round\" stroke-miterlimit=\"10.0375\" stroke-width=\"0.426791\"/>\n",
       "</g>\n",
       "<g transform=\"translate(340.228 337.677)scale(.996264)\">\n",
       "<path d=\"M320.449 284.883V287.017\" fill=\"none\" stroke=\"#000000\" stroke-linecap=\"round\" stroke-linejoin=\"round\" stroke-miterlimit=\"10.0375\" stroke-width=\"0.426791\"/>\n",
       "</g>\n",
       "<g transform=\"translate(340.228 337.677)scale(.996264)\">\n",
       "<path d=\"M370.241 284.883V289.151\" fill=\"none\" stroke=\"#000000\" stroke-linecap=\"round\" stroke-linejoin=\"round\" stroke-miterlimit=\"10.0375\" stroke-width=\"0.711319\"/>\n",
       "</g>\n",
       "<use x=\"706.163943\" y=\"637.094219\" xlink:href=\"#g1-51\"/>\n",
       "<g transform=\"translate(340.228 337.677)scale(.996264)\">\n",
       "<path d=\"M363.128 284.883V287.017\" fill=\"none\" stroke=\"#000000\" stroke-linecap=\"round\" stroke-linejoin=\"round\" stroke-miterlimit=\"10.0375\" stroke-width=\"0.426791\"/>\n",
       "</g>\n",
       "<g transform=\"translate(340.228 337.677)scale(.996264)\">\n",
       "<path d=\"M356.015 284.883V287.017\" fill=\"none\" stroke=\"#000000\" stroke-linecap=\"round\" stroke-linejoin=\"round\" stroke-miterlimit=\"10.0375\" stroke-width=\"0.426791\"/>\n",
       "</g>\n",
       "<g transform=\"translate(340.228 337.677)scale(.996264)\">\n",
       "<path d=\"M348.902 284.883V287.017\" fill=\"none\" stroke=\"#000000\" stroke-linecap=\"round\" stroke-linejoin=\"round\" stroke-miterlimit=\"10.0375\" stroke-width=\"0.426791\"/>\n",
       "</g>\n",
       "<g transform=\"translate(340.228 337.677)scale(.996264)\">\n",
       "<path d=\"M398.694 284.883V289.151\" fill=\"none\" stroke=\"#000000\" stroke-linecap=\"round\" stroke-linejoin=\"round\" stroke-miterlimit=\"10.0375\" stroke-width=\"0.711319\"/>\n",
       "</g>\n",
       "<use x=\"734.510387\" y=\"637.094219\" xlink:href=\"#g1-52\"/>\n",
       "<g transform=\"translate(340.228 337.677)scale(.996264)\">\n",
       "<path d=\"M391.581 284.883V287.017\" fill=\"none\" stroke=\"#000000\" stroke-linecap=\"round\" stroke-linejoin=\"round\" stroke-miterlimit=\"10.0375\" stroke-width=\"0.426791\"/>\n",
       "</g>\n",
       "<g transform=\"translate(340.228 337.677)scale(.996264)\">\n",
       "<path d=\"M384.468 284.883V287.017\" fill=\"none\" stroke=\"#000000\" stroke-linecap=\"round\" stroke-linejoin=\"round\" stroke-miterlimit=\"10.0375\" stroke-width=\"0.426791\"/>\n",
       "</g>\n",
       "<g transform=\"translate(340.228 337.677)scale(.996264)\">\n",
       "<path d=\"M377.355 284.883V287.017\" fill=\"none\" stroke=\"#000000\" stroke-linecap=\"round\" stroke-linejoin=\"round\" stroke-miterlimit=\"10.0375\" stroke-width=\"0.426791\"/>\n",
       "</g>\n",
       "<g transform=\"translate(340.228 337.677)scale(.996264)\">\n",
       "<path d=\"M427.147 284.883V289.151\" fill=\"none\" stroke=\"#000000\" stroke-linecap=\"round\" stroke-linejoin=\"round\" stroke-miterlimit=\"10.0375\" stroke-width=\"0.711319\"/>\n",
       "</g>\n",
       "<use x=\"762.856847\" y=\"637.094219\" xlink:href=\"#g1-53\"/>\n",
       "<g transform=\"translate(340.228 337.677)scale(.996264)\">\n",
       "<path d=\"M420.034 284.883V287.017\" fill=\"none\" stroke=\"#000000\" stroke-linecap=\"round\" stroke-linejoin=\"round\" stroke-miterlimit=\"10.0375\" stroke-width=\"0.426791\"/>\n",
       "</g>\n",
       "<g transform=\"translate(340.228 337.677)scale(.996264)\">\n",
       "<path d=\"M412.921 284.883V287.017\" fill=\"none\" stroke=\"#000000\" stroke-linecap=\"round\" stroke-linejoin=\"round\" stroke-miterlimit=\"10.0375\" stroke-width=\"0.426791\"/>\n",
       "</g>\n",
       "<g transform=\"translate(340.228 337.677)scale(.996264)\">\n",
       "<path d=\"M405.807 284.883V287.017\" fill=\"none\" stroke=\"#000000\" stroke-linecap=\"round\" stroke-linejoin=\"round\" stroke-miterlimit=\"10.0375\" stroke-width=\"0.426791\"/>\n",
       "</g>\n",
       "<g transform=\"translate(340.228 337.677)scale(.996264)\">\n",
       "<path d=\"M455.6 284.883V289.151\" fill=\"none\" stroke=\"#000000\" stroke-linecap=\"round\" stroke-linejoin=\"round\" stroke-miterlimit=\"10.0375\" stroke-width=\"0.711319\"/>\n",
       "</g>\n",
       "<use x=\"791.203306\" y=\"637.094219\" xlink:href=\"#g1-54\"/>\n",
       "<g transform=\"translate(340.228 337.677)scale(.996264)\">\n",
       "<path d=\"M448.487 284.883V287.017\" fill=\"none\" stroke=\"#000000\" stroke-linecap=\"round\" stroke-linejoin=\"round\" stroke-miterlimit=\"10.0375\" stroke-width=\"0.426791\"/>\n",
       "</g>\n",
       "<g transform=\"translate(340.228 337.677)scale(.996264)\">\n",
       "<path d=\"M441.373 284.883V287.017\" fill=\"none\" stroke=\"#000000\" stroke-linecap=\"round\" stroke-linejoin=\"round\" stroke-miterlimit=\"10.0375\" stroke-width=\"0.426791\"/>\n",
       "</g>\n",
       "<g transform=\"translate(340.228 337.677)scale(.996264)\">\n",
       "<path d=\"M434.26 284.883V287.017\" fill=\"none\" stroke=\"#000000\" stroke-linecap=\"round\" stroke-linejoin=\"round\" stroke-miterlimit=\"10.0375\" stroke-width=\"0.426791\"/>\n",
       "</g>\n",
       "<g transform=\"translate(340.228 337.677)scale(.996264)\">\n",
       "<path d=\"M484.053 284.883V289.151\" fill=\"none\" stroke=\"#000000\" stroke-linecap=\"round\" stroke-linejoin=\"round\" stroke-miterlimit=\"10.0375\" stroke-width=\"0.711319\"/>\n",
       "</g>\n",
       "<use x=\"819.549766\" y=\"637.094219\" xlink:href=\"#g1-55\"/>\n",
       "<g transform=\"translate(340.228 337.677)scale(.996264)\">\n",
       "<path d=\"M476.939 284.883V287.017\" fill=\"none\" stroke=\"#000000\" stroke-linecap=\"round\" stroke-linejoin=\"round\" stroke-miterlimit=\"10.0375\" stroke-width=\"0.426791\"/>\n",
       "</g>\n",
       "<g transform=\"translate(340.228 337.677)scale(.996264)\">\n",
       "<path d=\"M469.826 284.883V287.017\" fill=\"none\" stroke=\"#000000\" stroke-linecap=\"round\" stroke-linejoin=\"round\" stroke-miterlimit=\"10.0375\" stroke-width=\"0.426791\"/>\n",
       "</g>\n",
       "<g transform=\"translate(340.228 337.677)scale(.996264)\">\n",
       "<path d=\"M462.713 284.883V287.017\" fill=\"none\" stroke=\"#000000\" stroke-linecap=\"round\" stroke-linejoin=\"round\" stroke-miterlimit=\"10.0375\" stroke-width=\"0.426791\"/>\n",
       "</g>\n",
       "<g transform=\"translate(340.228 337.677)scale(.996264)\">\n",
       "<path d=\"M512.505 284.883V289.151\" fill=\"none\" stroke=\"#000000\" stroke-linecap=\"round\" stroke-linejoin=\"round\" stroke-miterlimit=\"10.0375\" stroke-width=\"0.711319\"/>\n",
       "</g>\n",
       "<use x=\"847.896225\" y=\"637.094219\" xlink:href=\"#g1-56\"/>\n",
       "<g transform=\"translate(340.228 337.677)scale(.996264)\">\n",
       "<path d=\"M505.392 284.883V287.017\" fill=\"none\" stroke=\"#000000\" stroke-linecap=\"round\" stroke-linejoin=\"round\" stroke-miterlimit=\"10.0375\" stroke-width=\"0.426791\"/>\n",
       "</g>\n",
       "<g transform=\"translate(340.228 337.677)scale(.996264)\">\n",
       "<path d=\"M498.279 284.883V287.017\" fill=\"none\" stroke=\"#000000\" stroke-linecap=\"round\" stroke-linejoin=\"round\" stroke-miterlimit=\"10.0375\" stroke-width=\"0.426791\"/>\n",
       "</g>\n",
       "<g transform=\"translate(340.228 337.677)scale(.996264)\">\n",
       "<path d=\"M491.166 284.883V287.017\" fill=\"none\" stroke=\"#000000\" stroke-linecap=\"round\" stroke-linejoin=\"round\" stroke-miterlimit=\"10.0375\" stroke-width=\"0.426791\"/>\n",
       "</g>\n",
       "<g transform=\"translate(340.228 337.677)scale(.996264)\">\n",
       "<path d=\"M540.958 284.883V289.151\" fill=\"none\" stroke=\"#000000\" stroke-linecap=\"round\" stroke-linejoin=\"round\" stroke-miterlimit=\"10.0375\" stroke-width=\"0.711319\"/>\n",
       "</g>\n",
       "<use x=\"876.242685\" y=\"637.094219\" xlink:href=\"#g1-57\"/>\n",
       "<g transform=\"translate(340.228 337.677)scale(.996264)\">\n",
       "<path d=\"M533.845 284.883V287.017\" fill=\"none\" stroke=\"#000000\" stroke-linecap=\"round\" stroke-linejoin=\"round\" stroke-miterlimit=\"10.0375\" stroke-width=\"0.426791\"/>\n",
       "</g>\n",
       "<g transform=\"translate(340.228 337.677)scale(.996264)\">\n",
       "<path d=\"M526.732 284.883V287.017\" fill=\"none\" stroke=\"#000000\" stroke-linecap=\"round\" stroke-linejoin=\"round\" stroke-miterlimit=\"10.0375\" stroke-width=\"0.426791\"/>\n",
       "</g>\n",
       "<g transform=\"translate(340.228 337.677)scale(.996264)\">\n",
       "<path d=\"M519.618 284.883V287.017\" fill=\"none\" stroke=\"#000000\" stroke-linecap=\"round\" stroke-linejoin=\"round\" stroke-miterlimit=\"10.0375\" stroke-width=\"0.426791\"/>\n",
       "</g>\n",
       "<g transform=\"translate(340.228 337.677)scale(.996264)\">\n",
       "<path d=\"M284.883 540.958H280.615\" fill=\"none\" stroke=\"#000000\" stroke-linecap=\"round\" stroke-linejoin=\"round\" stroke-miterlimit=\"10.0375\" stroke-width=\"0.711319\"/>\n",
       "</g>\n",
       "<use x=\"600.94584\" y=\"879.908245\" xlink:href=\"#g0-0\"/>\n",
       "<use x=\"610.244337\" y=\"879.908245\" xlink:href=\"#g1-57\"/>\n",
       "<g transform=\"translate(340.228 337.677)scale(.996264)\">\n",
       "<path d=\"M284.883 533.845H282.749\" fill=\"none\" stroke=\"#000000\" stroke-linecap=\"round\" stroke-linejoin=\"round\" stroke-miterlimit=\"10.0375\" stroke-width=\"0.426791\"/>\n",
       "</g>\n",
       "<g transform=\"translate(340.228 337.677)scale(.996264)\">\n",
       "<path d=\"M284.883 526.732H282.749\" fill=\"none\" stroke=\"#000000\" stroke-linecap=\"round\" stroke-linejoin=\"round\" stroke-miterlimit=\"10.0375\" stroke-width=\"0.426791\"/>\n",
       "</g>\n",
       "<g transform=\"translate(340.228 337.677)scale(.996264)\">\n",
       "<path d=\"M284.883 519.618H282.749\" fill=\"none\" stroke=\"#000000\" stroke-linecap=\"round\" stroke-linejoin=\"round\" stroke-miterlimit=\"10.0375\" stroke-width=\"0.426791\"/>\n",
       "</g>\n",
       "<g transform=\"translate(340.228 337.677)scale(.996264)\">\n",
       "<path d=\"M284.883 512.505H280.615\" fill=\"none\" stroke=\"#000000\" stroke-linecap=\"round\" stroke-linejoin=\"round\" stroke-miterlimit=\"10.0375\" stroke-width=\"0.711319\"/>\n",
       "</g>\n",
       "<use x=\"600.94584\" y=\"851.561786\" xlink:href=\"#g0-0\"/>\n",
       "<use x=\"610.244337\" y=\"851.561786\" xlink:href=\"#g1-56\"/>\n",
       "<g transform=\"translate(340.228 337.677)scale(.996264)\">\n",
       "<path d=\"M284.883 505.392H282.749\" fill=\"none\" stroke=\"#000000\" stroke-linecap=\"round\" stroke-linejoin=\"round\" stroke-miterlimit=\"10.0375\" stroke-width=\"0.426791\"/>\n",
       "</g>\n",
       "<g transform=\"translate(340.228 337.677)scale(.996264)\">\n",
       "<path d=\"M284.883 498.279H282.749\" fill=\"none\" stroke=\"#000000\" stroke-linecap=\"round\" stroke-linejoin=\"round\" stroke-miterlimit=\"10.0375\" stroke-width=\"0.426791\"/>\n",
       "</g>\n",
       "<g transform=\"translate(340.228 337.677)scale(.996264)\">\n",
       "<path d=\"M284.883 491.166H282.749\" fill=\"none\" stroke=\"#000000\" stroke-linecap=\"round\" stroke-linejoin=\"round\" stroke-miterlimit=\"10.0375\" stroke-width=\"0.426791\"/>\n",
       "</g>\n",
       "<g transform=\"translate(340.228 337.677)scale(.996264)\">\n",
       "<path d=\"M284.883 484.053H280.615\" fill=\"none\" stroke=\"#000000\" stroke-linecap=\"round\" stroke-linejoin=\"round\" stroke-miterlimit=\"10.0375\" stroke-width=\"0.711319\"/>\n",
       "</g>\n",
       "<use x=\"600.94584\" y=\"823.215341\" xlink:href=\"#g0-0\"/>\n",
       "<use x=\"610.244337\" y=\"823.215341\" xlink:href=\"#g1-55\"/>\n",
       "<g transform=\"translate(340.228 337.677)scale(.996264)\">\n",
       "<path d=\"M284.883 476.939H282.749\" fill=\"none\" stroke=\"#000000\" stroke-linecap=\"round\" stroke-linejoin=\"round\" stroke-miterlimit=\"10.0375\" stroke-width=\"0.426791\"/>\n",
       "</g>\n",
       "<g transform=\"translate(340.228 337.677)scale(.996264)\">\n",
       "<path d=\"M284.883 469.826H282.749\" fill=\"none\" stroke=\"#000000\" stroke-linecap=\"round\" stroke-linejoin=\"round\" stroke-miterlimit=\"10.0375\" stroke-width=\"0.426791\"/>\n",
       "</g>\n",
       "<g transform=\"translate(340.228 337.677)scale(.996264)\">\n",
       "<path d=\"M284.883 462.713H282.749\" fill=\"none\" stroke=\"#000000\" stroke-linecap=\"round\" stroke-linejoin=\"round\" stroke-miterlimit=\"10.0375\" stroke-width=\"0.426791\"/>\n",
       "</g>\n",
       "<g transform=\"translate(340.228 337.677)scale(.996264)\">\n",
       "<path d=\"M284.883 455.6H280.615\" fill=\"none\" stroke=\"#000000\" stroke-linecap=\"round\" stroke-linejoin=\"round\" stroke-miterlimit=\"10.0375\" stroke-width=\"0.711319\"/>\n",
       "</g>\n",
       "<use x=\"600.94584\" y=\"794.868882\" xlink:href=\"#g0-0\"/>\n",
       "<use x=\"610.244337\" y=\"794.868882\" xlink:href=\"#g1-54\"/>\n",
       "<g transform=\"translate(340.228 337.677)scale(.996264)\">\n",
       "<path d=\"M284.883 448.487H282.749\" fill=\"none\" stroke=\"#000000\" stroke-linecap=\"round\" stroke-linejoin=\"round\" stroke-miterlimit=\"10.0375\" stroke-width=\"0.426791\"/>\n",
       "</g>\n",
       "<g transform=\"translate(340.228 337.677)scale(.996264)\">\n",
       "<path d=\"M284.883 441.373H282.749\" fill=\"none\" stroke=\"#000000\" stroke-linecap=\"round\" stroke-linejoin=\"round\" stroke-miterlimit=\"10.0375\" stroke-width=\"0.426791\"/>\n",
       "</g>\n",
       "<g transform=\"translate(340.228 337.677)scale(.996264)\">\n",
       "<path d=\"M284.883 434.26H282.749\" fill=\"none\" stroke=\"#000000\" stroke-linecap=\"round\" stroke-linejoin=\"round\" stroke-miterlimit=\"10.0375\" stroke-width=\"0.426791\"/>\n",
       "</g>\n",
       "<g transform=\"translate(340.228 337.677)scale(.996264)\">\n",
       "<path d=\"M284.883 427.147H280.615\" fill=\"none\" stroke=\"#000000\" stroke-linecap=\"round\" stroke-linejoin=\"round\" stroke-miterlimit=\"10.0375\" stroke-width=\"0.711319\"/>\n",
       "</g>\n",
       "<use x=\"600.94584\" y=\"766.522422\" xlink:href=\"#g0-0\"/>\n",
       "<use x=\"610.244337\" y=\"766.522422\" xlink:href=\"#g1-53\"/>\n",
       "<g transform=\"translate(340.228 337.677)scale(.996264)\">\n",
       "<path d=\"M284.883 420.034H282.749\" fill=\"none\" stroke=\"#000000\" stroke-linecap=\"round\" stroke-linejoin=\"round\" stroke-miterlimit=\"10.0375\" stroke-width=\"0.426791\"/>\n",
       "</g>\n",
       "<g transform=\"translate(340.228 337.677)scale(.996264)\">\n",
       "<path d=\"M284.883 412.921H282.749\" fill=\"none\" stroke=\"#000000\" stroke-linecap=\"round\" stroke-linejoin=\"round\" stroke-miterlimit=\"10.0375\" stroke-width=\"0.426791\"/>\n",
       "</g>\n",
       "<g transform=\"translate(340.228 337.677)scale(.996264)\">\n",
       "<path d=\"M284.883 405.807H282.749\" fill=\"none\" stroke=\"#000000\" stroke-linecap=\"round\" stroke-linejoin=\"round\" stroke-miterlimit=\"10.0375\" stroke-width=\"0.426791\"/>\n",
       "</g>\n",
       "<g transform=\"translate(340.228 337.677)scale(.996264)\">\n",
       "<path d=\"M284.883 398.694H280.615\" fill=\"none\" stroke=\"#000000\" stroke-linecap=\"round\" stroke-linejoin=\"round\" stroke-miterlimit=\"10.0375\" stroke-width=\"0.711319\"/>\n",
       "</g>\n",
       "<use x=\"600.94584\" y=\"738.175962\" xlink:href=\"#g0-0\"/>\n",
       "<use x=\"610.244337\" y=\"738.175962\" xlink:href=\"#g1-52\"/>\n",
       "<g transform=\"translate(340.228 337.677)scale(.996264)\">\n",
       "<path d=\"M284.883 391.581H282.749\" fill=\"none\" stroke=\"#000000\" stroke-linecap=\"round\" stroke-linejoin=\"round\" stroke-miterlimit=\"10.0375\" stroke-width=\"0.426791\"/>\n",
       "</g>\n",
       "<g transform=\"translate(340.228 337.677)scale(.996264)\">\n",
       "<path d=\"M284.883 384.468H282.749\" fill=\"none\" stroke=\"#000000\" stroke-linecap=\"round\" stroke-linejoin=\"round\" stroke-miterlimit=\"10.0375\" stroke-width=\"0.426791\"/>\n",
       "</g>\n",
       "<g transform=\"translate(340.228 337.677)scale(.996264)\">\n",
       "<path d=\"M284.883 377.355H282.749\" fill=\"none\" stroke=\"#000000\" stroke-linecap=\"round\" stroke-linejoin=\"round\" stroke-miterlimit=\"10.0375\" stroke-width=\"0.426791\"/>\n",
       "</g>\n",
       "<g transform=\"translate(340.228 337.677)scale(.996264)\">\n",
       "<path d=\"M284.883 370.241H280.615\" fill=\"none\" stroke=\"#000000\" stroke-linecap=\"round\" stroke-linejoin=\"round\" stroke-miterlimit=\"10.0375\" stroke-width=\"0.711319\"/>\n",
       "</g>\n",
       "<use x=\"600.94584\" y=\"709.829503\" xlink:href=\"#g0-0\"/>\n",
       "<use x=\"610.244337\" y=\"709.829503\" xlink:href=\"#g1-51\"/>\n",
       "<g transform=\"translate(340.228 337.677)scale(.996264)\">\n",
       "<path d=\"M284.883 363.128H282.749\" fill=\"none\" stroke=\"#000000\" stroke-linecap=\"round\" stroke-linejoin=\"round\" stroke-miterlimit=\"10.0375\" stroke-width=\"0.426791\"/>\n",
       "</g>\n",
       "<g transform=\"translate(340.228 337.677)scale(.996264)\">\n",
       "<path d=\"M284.883 356.015H282.749\" fill=\"none\" stroke=\"#000000\" stroke-linecap=\"round\" stroke-linejoin=\"round\" stroke-miterlimit=\"10.0375\" stroke-width=\"0.426791\"/>\n",
       "</g>\n",
       "<g transform=\"translate(340.228 337.677)scale(.996264)\">\n",
       "<path d=\"M284.883 348.902H282.749\" fill=\"none\" stroke=\"#000000\" stroke-linecap=\"round\" stroke-linejoin=\"round\" stroke-miterlimit=\"10.0375\" stroke-width=\"0.426791\"/>\n",
       "</g>\n",
       "<g transform=\"translate(340.228 337.677)scale(.996264)\">\n",
       "<path d=\"M284.883 341.789H280.615\" fill=\"none\" stroke=\"#000000\" stroke-linecap=\"round\" stroke-linejoin=\"round\" stroke-miterlimit=\"10.0375\" stroke-width=\"0.711319\"/>\n",
       "</g>\n",
       "<use x=\"600.94584\" y=\"681.483059\" xlink:href=\"#g0-0\"/>\n",
       "<use x=\"610.244337\" y=\"681.483059\" xlink:href=\"#g1-50\"/>\n",
       "<g transform=\"translate(340.228 337.677)scale(.996264)\">\n",
       "<path d=\"M284.883 334.676H282.749\" fill=\"none\" stroke=\"#000000\" stroke-linecap=\"round\" stroke-linejoin=\"round\" stroke-miterlimit=\"10.0375\" stroke-width=\"0.426791\"/>\n",
       "</g>\n",
       "<g transform=\"translate(340.228 337.677)scale(.996264)\">\n",
       "<path d=\"M284.883 327.562H282.749\" fill=\"none\" stroke=\"#000000\" stroke-linecap=\"round\" stroke-linejoin=\"round\" stroke-miterlimit=\"10.0375\" stroke-width=\"0.426791\"/>\n",
       "</g>\n",
       "<g transform=\"translate(340.228 337.677)scale(.996264)\">\n",
       "<path d=\"M284.883 320.449H282.749\" fill=\"none\" stroke=\"#000000\" stroke-linecap=\"round\" stroke-linejoin=\"round\" stroke-miterlimit=\"10.0375\" stroke-width=\"0.426791\"/>\n",
       "</g>\n",
       "<g transform=\"translate(340.228 337.677)scale(.996264)\">\n",
       "<path d=\"M284.883 313.336H280.615\" fill=\"none\" stroke=\"#000000\" stroke-linecap=\"round\" stroke-linejoin=\"round\" stroke-miterlimit=\"10.0375\" stroke-width=\"0.711319\"/>\n",
       "</g>\n",
       "<use x=\"600.94584\" y=\"653.136599\" xlink:href=\"#g0-0\"/>\n",
       "<use x=\"610.244337\" y=\"653.136599\" xlink:href=\"#g1-49\"/>\n",
       "<g transform=\"translate(340.228 337.677)scale(.996264)\">\n",
       "<path d=\"M284.883 306.223H282.749\" fill=\"none\" stroke=\"#000000\" stroke-linecap=\"round\" stroke-linejoin=\"round\" stroke-miterlimit=\"10.0375\" stroke-width=\"0.426791\"/>\n",
       "</g>\n",
       "<g transform=\"translate(340.228 337.677)scale(.996264)\">\n",
       "<path d=\"M284.883 299.11H282.749\" fill=\"none\" stroke=\"#000000\" stroke-linecap=\"round\" stroke-linejoin=\"round\" stroke-miterlimit=\"10.0375\" stroke-width=\"0.426791\"/>\n",
       "</g>\n",
       "<g transform=\"translate(340.228 337.677)scale(.996264)\">\n",
       "<path d=\"M284.883 291.996H282.749\" fill=\"none\" stroke=\"#000000\" stroke-linecap=\"round\" stroke-linejoin=\"round\" stroke-miterlimit=\"10.0375\" stroke-width=\"0.426791\"/>\n",
       "</g>\n",
       "<g transform=\"translate(340.228 337.677)scale(.996264)\">\n",
       "<path d=\"M284.883 256.43H280.615\" fill=\"none\" stroke=\"#000000\" stroke-linecap=\"round\" stroke-linejoin=\"round\" stroke-miterlimit=\"10.0375\" stroke-width=\"0.711319\"/>\n",
       "</g>\n",
       "<use x=\"610.244329\" y=\"596.941797\" xlink:href=\"#g1-49\"/>\n",
       "<g transform=\"translate(340.228 337.677)scale(.996264)\">\n",
       "<path d=\"M284.883 263.544H282.749\" fill=\"none\" stroke=\"#000000\" stroke-linecap=\"round\" stroke-linejoin=\"round\" stroke-miterlimit=\"10.0375\" stroke-width=\"0.426791\"/>\n",
       "</g>\n",
       "<g transform=\"translate(340.228 337.677)scale(.996264)\">\n",
       "<path d=\"M284.883 270.657H282.749\" fill=\"none\" stroke=\"#000000\" stroke-linecap=\"round\" stroke-linejoin=\"round\" stroke-miterlimit=\"10.0375\" stroke-width=\"0.426791\"/>\n",
       "</g>\n",
       "<g transform=\"translate(340.228 337.677)scale(.996264)\">\n",
       "<path d=\"M284.883 277.77H282.749\" fill=\"none\" stroke=\"#000000\" stroke-linecap=\"round\" stroke-linejoin=\"round\" stroke-miterlimit=\"10.0375\" stroke-width=\"0.426791\"/>\n",
       "</g>\n",
       "<g transform=\"translate(340.228 337.677)scale(.996264)\">\n",
       "<path d=\"M284.883 227.978H280.615\" fill=\"none\" stroke=\"#000000\" stroke-linecap=\"round\" stroke-linejoin=\"round\" stroke-miterlimit=\"10.0375\" stroke-width=\"0.711319\"/>\n",
       "</g>\n",
       "<use x=\"610.244329\" y=\"568.595337\" xlink:href=\"#g1-50\"/>\n",
       "<g transform=\"translate(340.228 337.677)scale(.996264)\">\n",
       "<path d=\"M284.883 235.091H282.749\" fill=\"none\" stroke=\"#000000\" stroke-linecap=\"round\" stroke-linejoin=\"round\" stroke-miterlimit=\"10.0375\" stroke-width=\"0.426791\"/>\n",
       "</g>\n",
       "<g transform=\"translate(340.228 337.677)scale(.996264)\">\n",
       "<path d=\"M284.883 242.204H282.749\" fill=\"none\" stroke=\"#000000\" stroke-linecap=\"round\" stroke-linejoin=\"round\" stroke-miterlimit=\"10.0375\" stroke-width=\"0.426791\"/>\n",
       "</g>\n",
       "<g transform=\"translate(340.228 337.677)scale(.996264)\">\n",
       "<path d=\"M284.883 249.317H282.749\" fill=\"none\" stroke=\"#000000\" stroke-linecap=\"round\" stroke-linejoin=\"round\" stroke-miterlimit=\"10.0375\" stroke-width=\"0.426791\"/>\n",
       "</g>\n",
       "<g transform=\"translate(340.228 337.677)scale(.996264)\">\n",
       "<path d=\"M284.883 199.525H280.615\" fill=\"none\" stroke=\"#000000\" stroke-linecap=\"round\" stroke-linejoin=\"round\" stroke-miterlimit=\"10.0375\" stroke-width=\"0.711319\"/>\n",
       "</g>\n",
       "<use x=\"610.244329\" y=\"540.248893\" xlink:href=\"#g1-51\"/>\n",
       "<g transform=\"translate(340.228 337.677)scale(.996264)\">\n",
       "<path d=\"M284.883 206.638H282.749\" fill=\"none\" stroke=\"#000000\" stroke-linecap=\"round\" stroke-linejoin=\"round\" stroke-miterlimit=\"10.0375\" stroke-width=\"0.426791\"/>\n",
       "</g>\n",
       "<g transform=\"translate(340.228 337.677)scale(.996264)\">\n",
       "<path d=\"M284.883 213.751H282.749\" fill=\"none\" stroke=\"#000000\" stroke-linecap=\"round\" stroke-linejoin=\"round\" stroke-miterlimit=\"10.0375\" stroke-width=\"0.426791\"/>\n",
       "</g>\n",
       "<g transform=\"translate(340.228 337.677)scale(.996264)\">\n",
       "<path d=\"M284.883 220.865H282.749\" fill=\"none\" stroke=\"#000000\" stroke-linecap=\"round\" stroke-linejoin=\"round\" stroke-miterlimit=\"10.0375\" stroke-width=\"0.426791\"/>\n",
       "</g>\n",
       "<g transform=\"translate(340.228 337.677)scale(.996264)\">\n",
       "<path d=\"M284.883 171.072H280.615\" fill=\"none\" stroke=\"#000000\" stroke-linecap=\"round\" stroke-linejoin=\"round\" stroke-miterlimit=\"10.0375\" stroke-width=\"0.711319\"/>\n",
       "</g>\n",
       "<use x=\"610.244329\" y=\"511.902433\" xlink:href=\"#g1-52\"/>\n",
       "<g transform=\"translate(340.228 337.677)scale(.996264)\">\n",
       "<path d=\"M284.883 178.185H282.749\" fill=\"none\" stroke=\"#000000\" stroke-linecap=\"round\" stroke-linejoin=\"round\" stroke-miterlimit=\"10.0375\" stroke-width=\"0.426791\"/>\n",
       "</g>\n",
       "<g transform=\"translate(340.228 337.677)scale(.996264)\">\n",
       "<path d=\"M284.883 185.299H282.749\" fill=\"none\" stroke=\"#000000\" stroke-linecap=\"round\" stroke-linejoin=\"round\" stroke-miterlimit=\"10.0375\" stroke-width=\"0.426791\"/>\n",
       "</g>\n",
       "<g transform=\"translate(340.228 337.677)scale(.996264)\">\n",
       "<path d=\"M284.883 192.412H282.749\" fill=\"none\" stroke=\"#000000\" stroke-linecap=\"round\" stroke-linejoin=\"round\" stroke-miterlimit=\"10.0375\" stroke-width=\"0.426791\"/>\n",
       "</g>\n",
       "<g transform=\"translate(340.228 337.677)scale(.996264)\">\n",
       "<path d=\"M284.883 142.619H280.615\" fill=\"none\" stroke=\"#000000\" stroke-linecap=\"round\" stroke-linejoin=\"round\" stroke-miterlimit=\"10.0375\" stroke-width=\"0.711319\"/>\n",
       "</g>\n",
       "<use x=\"610.244329\" y=\"483.555974\" xlink:href=\"#g1-53\"/>\n",
       "<g transform=\"translate(340.228 337.677)scale(.996264)\">\n",
       "<path d=\"M284.883 149.733H282.749\" fill=\"none\" stroke=\"#000000\" stroke-linecap=\"round\" stroke-linejoin=\"round\" stroke-miterlimit=\"10.0375\" stroke-width=\"0.426791\"/>\n",
       "</g>\n",
       "<g transform=\"translate(340.228 337.677)scale(.996264)\">\n",
       "<path d=\"M284.883 156.846H282.749\" fill=\"none\" stroke=\"#000000\" stroke-linecap=\"round\" stroke-linejoin=\"round\" stroke-miterlimit=\"10.0375\" stroke-width=\"0.426791\"/>\n",
       "</g>\n",
       "<g transform=\"translate(340.228 337.677)scale(.996264)\">\n",
       "<path d=\"M284.883 163.959H282.749\" fill=\"none\" stroke=\"#000000\" stroke-linecap=\"round\" stroke-linejoin=\"round\" stroke-miterlimit=\"10.0375\" stroke-width=\"0.426791\"/>\n",
       "</g>\n",
       "<g transform=\"translate(340.228 337.677)scale(.996264)\">\n",
       "<path d=\"M284.883 114.167H280.615\" fill=\"none\" stroke=\"#000000\" stroke-linecap=\"round\" stroke-linejoin=\"round\" stroke-miterlimit=\"10.0375\" stroke-width=\"0.711319\"/>\n",
       "</g>\n",
       "<use x=\"610.244329\" y=\"455.209514\" xlink:href=\"#g1-54\"/>\n",
       "<g transform=\"translate(340.228 337.677)scale(.996264)\">\n",
       "<path d=\"M284.883 121.28H282.749\" fill=\"none\" stroke=\"#000000\" stroke-linecap=\"round\" stroke-linejoin=\"round\" stroke-miterlimit=\"10.0375\" stroke-width=\"0.426791\"/>\n",
       "</g>\n",
       "<g transform=\"translate(340.228 337.677)scale(.996264)\">\n",
       "<path d=\"M284.883 128.393H282.749\" fill=\"none\" stroke=\"#000000\" stroke-linecap=\"round\" stroke-linejoin=\"round\" stroke-miterlimit=\"10.0375\" stroke-width=\"0.426791\"/>\n",
       "</g>\n",
       "<g transform=\"translate(340.228 337.677)scale(.996264)\">\n",
       "<path d=\"M284.883 135.506H282.749\" fill=\"none\" stroke=\"#000000\" stroke-linecap=\"round\" stroke-linejoin=\"round\" stroke-miterlimit=\"10.0375\" stroke-width=\"0.426791\"/>\n",
       "</g>\n",
       "<g transform=\"translate(340.228 337.677)scale(.996264)\">\n",
       "<path d=\"M284.883 85.7139H280.615\" fill=\"none\" stroke=\"#000000\" stroke-linecap=\"round\" stroke-linejoin=\"round\" stroke-miterlimit=\"10.0375\" stroke-width=\"0.711319\"/>\n",
       "</g>\n",
       "<use x=\"610.244329\" y=\"426.863054\" xlink:href=\"#g1-55\"/>\n",
       "<g transform=\"translate(340.228 337.677)scale(.996264)\">\n",
       "<path d=\"M284.883 92.8271H282.749\" fill=\"none\" stroke=\"#000000\" stroke-linecap=\"round\" stroke-linejoin=\"round\" stroke-miterlimit=\"10.0375\" stroke-width=\"0.426791\"/>\n",
       "</g>\n",
       "<g transform=\"translate(340.228 337.677)scale(.996264)\">\n",
       "<path d=\"M284.883 99.9403H282.749\" fill=\"none\" stroke=\"#000000\" stroke-linecap=\"round\" stroke-linejoin=\"round\" stroke-miterlimit=\"10.0375\" stroke-width=\"0.426791\"/>\n",
       "</g>\n",
       "<g transform=\"translate(340.228 337.677)scale(.996264)\">\n",
       "<path d=\"M284.883 107.053H282.749\" fill=\"none\" stroke=\"#000000\" stroke-linecap=\"round\" stroke-linejoin=\"round\" stroke-miterlimit=\"10.0375\" stroke-width=\"0.426791\"/>\n",
       "</g>\n",
       "<g transform=\"translate(340.228 337.677)scale(.996264)\">\n",
       "<path d=\"M284.883 57.2612H280.615\" fill=\"none\" stroke=\"#000000\" stroke-linecap=\"round\" stroke-linejoin=\"round\" stroke-miterlimit=\"10.0375\" stroke-width=\"0.711319\"/>\n",
       "</g>\n",
       "<use x=\"610.244329\" y=\"398.51661\" xlink:href=\"#g1-56\"/>\n",
       "<g transform=\"translate(340.228 337.677)scale(.996264)\">\n",
       "<path d=\"M284.883 64.3744H282.749\" fill=\"none\" stroke=\"#000000\" stroke-linecap=\"round\" stroke-linejoin=\"round\" stroke-miterlimit=\"10.0375\" stroke-width=\"0.426791\"/>\n",
       "</g>\n",
       "<g transform=\"translate(340.228 337.677)scale(.996264)\">\n",
       "<path d=\"M284.883 71.4875H282.749\" fill=\"none\" stroke=\"#000000\" stroke-linecap=\"round\" stroke-linejoin=\"round\" stroke-miterlimit=\"10.0375\" stroke-width=\"0.426791\"/>\n",
       "</g>\n",
       "<g transform=\"translate(340.228 337.677)scale(.996264)\">\n",
       "<path d=\"M284.883 78.6007H282.749\" fill=\"none\" stroke=\"#000000\" stroke-linecap=\"round\" stroke-linejoin=\"round\" stroke-miterlimit=\"10.0375\" stroke-width=\"0.426791\"/>\n",
       "</g>\n",
       "<g transform=\"translate(340.228 337.677)scale(.996264)\">\n",
       "<path d=\"M284.883 28.8084H280.615\" fill=\"none\" stroke=\"#000000\" stroke-linecap=\"round\" stroke-linejoin=\"round\" stroke-miterlimit=\"10.0375\" stroke-width=\"0.711319\"/>\n",
       "</g>\n",
       "<use x=\"610.244329\" y=\"370.170151\" xlink:href=\"#g1-57\"/>\n",
       "<g transform=\"translate(340.228 337.677)scale(.996264)\">\n",
       "<path d=\"M284.883 35.9216H282.749\" fill=\"none\" stroke=\"#000000\" stroke-linecap=\"round\" stroke-linejoin=\"round\" stroke-miterlimit=\"10.0375\" stroke-width=\"0.426791\"/>\n",
       "</g>\n",
       "<g transform=\"translate(340.228 337.677)scale(.996264)\">\n",
       "<path d=\"M284.883 43.0348H282.749\" fill=\"none\" stroke=\"#000000\" stroke-linecap=\"round\" stroke-linejoin=\"round\" stroke-miterlimit=\"10.0375\" stroke-width=\"0.426791\"/>\n",
       "</g>\n",
       "<g transform=\"translate(340.228 337.677)scale(.996264)\">\n",
       "<path d=\"M284.883 50.148H282.749\" fill=\"none\" stroke=\"#000000\" stroke-linecap=\"round\" stroke-linejoin=\"round\" stroke-miterlimit=\"10.0375\" stroke-width=\"0.426791\"/>\n",
       "</g>\n",
       "<g transform=\"translate(340.228 337.677)scale(.996264)\">\n",
       "<path d=\"M57.2612 512.505L512.505 57.2612\" fill=\"none\" stroke=\"#ff0000\" stroke-linecap=\"round\" stroke-linejoin=\"round\" stroke-miterlimit=\"10.0375\" stroke-width=\"0.711319\"/>\n",
       "</g>\n",
       "<g transform=\"translate(340.228 337.677)scale(.996264)\">\n",
       "<path d=\"M569.411 427.147L.355659 142.619\" fill=\"none\" stroke=\"#ff0000\" stroke-linecap=\"round\" stroke-linejoin=\"round\" stroke-miterlimit=\"10.0375\" stroke-width=\"0.711319\"/>\n",
       "</g>\n",
       "<g transform=\"translate(340.228 337.677)scale(.996264)\">\n",
       "<path d=\"M85.7139 484.053L90.2664 486.329\" fill=\"none\" stroke=\"#ff0000\" stroke-linecap=\"round\" stroke-linejoin=\"round\" stroke-miterlimit=\"10.0375\" stroke-width=\"0.711319\"/>\n",
       "</g>\n",
       "<g fill=\"#f00\" transform=\"translate(-492.838416 727.486419)rotate(-56.309932)\">\n",
       "<use x=\"425.665625\" y=\"831.886787\" xlink:href=\"#g0-0\"/>\n",
       "<use x=\"434.964122\" y=\"831.886787\" xlink:href=\"#g1-55\"/>\n",
       "</g>\n",
       "<g transform=\"translate(340.228 337.677)scale(.996264)\">\n",
       "<path d=\"M92.8271 476.939L95.1033 478.077\" fill=\"none\" stroke=\"#ff0000\" stroke-linecap=\"round\" stroke-linejoin=\"round\" stroke-miterlimit=\"10.0375\" stroke-width=\"0.426791\"/>\n",
       "</g>\n",
       "<g transform=\"translate(340.228 337.677)scale(.996264)\">\n",
       "<path d=\"M99.9403 469.826L102.217 470.964\" fill=\"none\" stroke=\"#ff0000\" stroke-linecap=\"round\" stroke-linejoin=\"round\" stroke-miterlimit=\"10.0375\" stroke-width=\"0.426791\"/>\n",
       "</g>\n",
       "<g transform=\"translate(340.228 337.677)scale(.996264)\">\n",
       "<path d=\"M107.053 462.713L109.33 463.851\" fill=\"none\" stroke=\"#ff0000\" stroke-linecap=\"round\" stroke-linejoin=\"round\" stroke-miterlimit=\"10.0375\" stroke-width=\"0.426791\"/>\n",
       "</g>\n",
       "<g transform=\"translate(340.228 337.677)scale(.996264)\">\n",
       "<path d=\"M114.167 455.6L118.719 457.876\" fill=\"none\" stroke=\"#ff0000\" stroke-linecap=\"round\" stroke-linejoin=\"round\" stroke-miterlimit=\"10.0375\" stroke-width=\"0.711319\"/>\n",
       "</g>\n",
       "<g fill=\"#f00\" transform=\"translate(-456.630207 738.450066)rotate(-56.309932)\">\n",
       "<use x=\"454.012085\" y=\"803.540328\" xlink:href=\"#g0-0\"/>\n",
       "<use x=\"463.310582\" y=\"803.540328\" xlink:href=\"#g1-54\"/>\n",
       "</g>\n",
       "<g transform=\"translate(340.228 337.677)scale(.996264)\">\n",
       "<path d=\"M121.28 448.487L123.556 449.625\" fill=\"none\" stroke=\"#ff0000\" stroke-linecap=\"round\" stroke-linejoin=\"round\" stroke-miterlimit=\"10.0375\" stroke-width=\"0.426791\"/>\n",
       "</g>\n",
       "<g transform=\"translate(340.228 337.677)scale(.996264)\">\n",
       "<path d=\"M128.393 441.373L130.669 442.511\" fill=\"none\" stroke=\"#ff0000\" stroke-linecap=\"round\" stroke-linejoin=\"round\" stroke-miterlimit=\"10.0375\" stroke-width=\"0.426791\"/>\n",
       "</g>\n",
       "<g transform=\"translate(340.228 337.677)scale(.996264)\">\n",
       "<path d=\"M135.506 434.26L137.782 435.398\" fill=\"none\" stroke=\"#ff0000\" stroke-linecap=\"round\" stroke-linejoin=\"round\" stroke-miterlimit=\"10.0375\" stroke-width=\"0.426791\"/>\n",
       "</g>\n",
       "<g transform=\"translate(340.228 337.677)scale(.996264)\">\n",
       "<path d=\"M142.619 427.147L147.172 429.423\" fill=\"none\" stroke=\"#ff0000\" stroke-linecap=\"round\" stroke-linejoin=\"round\" stroke-miterlimit=\"10.0375\" stroke-width=\"0.711319\"/>\n",
       "</g>\n",
       "<g fill=\"#f00\" transform=\"translate(-420.421612 749.412436)rotate(-56.309932)\">\n",
       "<use x=\"482.358544\" y=\"775.193868\" xlink:href=\"#g0-0\"/>\n",
       "<use x=\"491.657041\" y=\"775.193868\" xlink:href=\"#g1-53\"/>\n",
       "</g>\n",
       "<g transform=\"translate(340.228 337.677)scale(.996264)\">\n",
       "<path d=\"M149.733 420.034L152.009 421.172\" fill=\"none\" stroke=\"#ff0000\" stroke-linecap=\"round\" stroke-linejoin=\"round\" stroke-miterlimit=\"10.0375\" stroke-width=\"0.426791\"/>\n",
       "</g>\n",
       "<g transform=\"translate(340.228 337.677)scale(.996264)\">\n",
       "<path d=\"M156.846 412.921L159.122 414.059\" fill=\"none\" stroke=\"#ff0000\" stroke-linecap=\"round\" stroke-linejoin=\"round\" stroke-miterlimit=\"10.0375\" stroke-width=\"0.426791\"/>\n",
       "</g>\n",
       "<g transform=\"translate(340.228 337.677)scale(.996264)\">\n",
       "<path d=\"M163.959 405.807L166.235 406.946\" fill=\"none\" stroke=\"#ff0000\" stroke-linecap=\"round\" stroke-linejoin=\"round\" stroke-miterlimit=\"10.0375\" stroke-width=\"0.426791\"/>\n",
       "</g>\n",
       "<g transform=\"translate(340.228 337.677)scale(.996264)\">\n",
       "<path d=\"M171.072 398.694L175.625 400.97\" fill=\"none\" stroke=\"#ff0000\" stroke-linecap=\"round\" stroke-linejoin=\"round\" stroke-miterlimit=\"10.0375\" stroke-width=\"0.711319\"/>\n",
       "</g>\n",
       "<g fill=\"#f00\" transform=\"translate(-384.213404 760.376084)rotate(-56.309932)\">\n",
       "<use x=\"510.705004\" y=\"746.847409\" xlink:href=\"#g0-0\"/>\n",
       "<use x=\"520.003501\" y=\"746.847409\" xlink:href=\"#g1-52\"/>\n",
       "</g>\n",
       "<g transform=\"translate(340.228 337.677)scale(.996264)\">\n",
       "<path d=\"M178.185 391.581L180.462 392.719\" fill=\"none\" stroke=\"#ff0000\" stroke-linecap=\"round\" stroke-linejoin=\"round\" stroke-miterlimit=\"10.0375\" stroke-width=\"0.426791\"/>\n",
       "</g>\n",
       "<g transform=\"translate(340.228 337.677)scale(.996264)\">\n",
       "<path d=\"M185.299 384.468L187.575 385.606\" fill=\"none\" stroke=\"#ff0000\" stroke-linecap=\"round\" stroke-linejoin=\"round\" stroke-miterlimit=\"10.0375\" stroke-width=\"0.426791\"/>\n",
       "</g>\n",
       "<g transform=\"translate(340.228 337.677)scale(.996264)\">\n",
       "<path d=\"M192.412 377.355L194.688 378.493\" fill=\"none\" stroke=\"#ff0000\" stroke-linecap=\"round\" stroke-linejoin=\"round\" stroke-miterlimit=\"10.0375\" stroke-width=\"0.426791\"/>\n",
       "</g>\n",
       "<g transform=\"translate(340.228 337.677)scale(.996264)\">\n",
       "<path d=\"M199.525 370.241L204.077 372.518\" fill=\"none\" stroke=\"#ff0000\" stroke-linecap=\"round\" stroke-linejoin=\"round\" stroke-miterlimit=\"10.0375\" stroke-width=\"0.711319\"/>\n",
       "</g>\n",
       "<g fill=\"#f00\" transform=\"translate(-348.005641 771.338899)rotate(-56.309932)\">\n",
       "<use x=\"539.051464\" y=\"718.500964\" xlink:href=\"#g0-0\"/>\n",
       "<use x=\"548.349961\" y=\"718.500964\" xlink:href=\"#g1-51\"/>\n",
       "</g>\n",
       "<g transform=\"translate(340.228 337.677)scale(.996264)\">\n",
       "<path d=\"M206.638 363.128L208.914 364.266\" fill=\"none\" stroke=\"#ff0000\" stroke-linecap=\"round\" stroke-linejoin=\"round\" stroke-miterlimit=\"10.0375\" stroke-width=\"0.426791\"/>\n",
       "</g>\n",
       "<g transform=\"translate(340.228 337.677)scale(.996264)\">\n",
       "<path d=\"M213.751 356.015L216.028 357.153\" fill=\"none\" stroke=\"#ff0000\" stroke-linecap=\"round\" stroke-linejoin=\"round\" stroke-miterlimit=\"10.0375\" stroke-width=\"0.426791\"/>\n",
       "</g>\n",
       "<g transform=\"translate(340.228 337.677)scale(.996264)\">\n",
       "<path d=\"M220.865 348.902L223.141 350.04\" fill=\"none\" stroke=\"#ff0000\" stroke-linecap=\"round\" stroke-linejoin=\"round\" stroke-miterlimit=\"10.0375\" stroke-width=\"0.426791\"/>\n",
       "</g>\n",
       "<g transform=\"translate(340.228 337.677)scale(.996264)\">\n",
       "<path d=\"M227.978 341.789L232.53 344.065\" fill=\"none\" stroke=\"#ff0000\" stroke-linecap=\"round\" stroke-linejoin=\"round\" stroke-miterlimit=\"10.0375\" stroke-width=\"0.711319\"/>\n",
       "</g>\n",
       "<g fill=\"#f00\" transform=\"translate(-311.7966 782.302102)rotate(-56.309932)\">\n",
       "<use x=\"567.397923\" y=\"690.154505\" xlink:href=\"#g0-0\"/>\n",
       "<use x=\"576.69642\" y=\"690.154505\" xlink:href=\"#g1-50\"/>\n",
       "</g>\n",
       "<g transform=\"translate(340.228 337.677)scale(.996264)\">\n",
       "<path d=\"M235.091 334.676L237.367 335.814\" fill=\"none\" stroke=\"#ff0000\" stroke-linecap=\"round\" stroke-linejoin=\"round\" stroke-miterlimit=\"10.0375\" stroke-width=\"0.426791\"/>\n",
       "</g>\n",
       "<g transform=\"translate(340.228 337.677)scale(.996264)\">\n",
       "<path d=\"M242.204 327.562L244.48 328.7\" fill=\"none\" stroke=\"#ff0000\" stroke-linecap=\"round\" stroke-linejoin=\"round\" stroke-miterlimit=\"10.0375\" stroke-width=\"0.426791\"/>\n",
       "</g>\n",
       "<g transform=\"translate(340.228 337.677)scale(.996264)\">\n",
       "<path d=\"M249.317 320.449L251.593 321.587\" fill=\"none\" stroke=\"#ff0000\" stroke-linecap=\"round\" stroke-linejoin=\"round\" stroke-miterlimit=\"10.0375\" stroke-width=\"0.426791\"/>\n",
       "</g>\n",
       "<g transform=\"translate(340.228 337.677)scale(.996264)\">\n",
       "<path d=\"M256.43 313.336L260.983 315.612\" fill=\"none\" stroke=\"#ff0000\" stroke-linecap=\"round\" stroke-linejoin=\"round\" stroke-miterlimit=\"10.0375\" stroke-width=\"0.711319\"/>\n",
       "</g>\n",
       "<g fill=\"#f00\" transform=\"translate(-275.588837 793.264917)rotate(-56.309932)\">\n",
       "<use x=\"595.744367\" y=\"661.808045\" xlink:href=\"#g0-0\"/>\n",
       "<use x=\"605.042864\" y=\"661.808045\" xlink:href=\"#g1-49\"/>\n",
       "</g>\n",
       "<g transform=\"translate(340.228 337.677)scale(.996264)\">\n",
       "<path d=\"M263.544 306.223L265.82 307.361\" fill=\"none\" stroke=\"#ff0000\" stroke-linecap=\"round\" stroke-linejoin=\"round\" stroke-miterlimit=\"10.0375\" stroke-width=\"0.426791\"/>\n",
       "</g>\n",
       "<g transform=\"translate(340.228 337.677)scale(.996264)\">\n",
       "<path d=\"M270.657 299.11L272.933 300.248\" fill=\"none\" stroke=\"#ff0000\" stroke-linecap=\"round\" stroke-linejoin=\"round\" stroke-miterlimit=\"10.0375\" stroke-width=\"0.426791\"/>\n",
       "</g>\n",
       "<g transform=\"translate(340.228 337.677)scale(.996264)\">\n",
       "<path d=\"M277.77 291.996L280.046 293.135\" fill=\"none\" stroke=\"#ff0000\" stroke-linecap=\"round\" stroke-linejoin=\"round\" stroke-miterlimit=\"10.0375\" stroke-width=\"0.426791\"/>\n",
       "</g>\n",
       "<g transform=\"translate(340.228 337.677)scale(.996264)\">\n",
       "<path d=\"M313.336 256.43L317.888 258.707\" fill=\"none\" stroke=\"#ff0000\" stroke-linecap=\"round\" stroke-linejoin=\"round\" stroke-miterlimit=\"10.0375\" stroke-width=\"0.711319\"/>\n",
       "</g>\n",
       "<g fill=\"#f00\" transform=\"translate(-203.172034 815.190935)rotate(-56.309932)\">\n",
       "<use x=\"657.086524\" y=\"605.115111\" xlink:href=\"#g1-49\"/>\n",
       "</g>\n",
       "<g transform=\"translate(340.228 337.677)scale(.996264)\">\n",
       "<path d=\"M306.223 263.544L308.499 264.682\" fill=\"none\" stroke=\"#ff0000\" stroke-linecap=\"round\" stroke-linejoin=\"round\" stroke-miterlimit=\"10.0375\" stroke-width=\"0.426791\"/>\n",
       "</g>\n",
       "<g transform=\"translate(340.228 337.677)scale(.996264)\">\n",
       "<path d=\"M299.11 270.657L301.386 271.795\" fill=\"none\" stroke=\"#ff0000\" stroke-linecap=\"round\" stroke-linejoin=\"round\" stroke-miterlimit=\"10.0375\" stroke-width=\"0.426791\"/>\n",
       "</g>\n",
       "<g transform=\"translate(340.228 337.677)scale(.996264)\">\n",
       "<path d=\"M291.996 277.77L294.273 278.908\" fill=\"none\" stroke=\"#ff0000\" stroke-linecap=\"round\" stroke-linejoin=\"round\" stroke-miterlimit=\"10.0375\" stroke-width=\"0.426791\"/>\n",
       "</g>\n",
       "<g transform=\"translate(340.228 337.677)scale(.996264)\">\n",
       "<path d=\"M341.789 227.978L346.341 230.254\" fill=\"none\" stroke=\"#ff0000\" stroke-linecap=\"round\" stroke-linejoin=\"round\" stroke-miterlimit=\"10.0375\" stroke-width=\"0.711319\"/>\n",
       "</g>\n",
       "<g fill=\"#f00\" transform=\"translate(-166.963438 826.153305)rotate(-56.309932)\">\n",
       "<use x=\"685.432983\" y=\"576.768667\" xlink:href=\"#g1-50\"/>\n",
       "</g>\n",
       "<g transform=\"translate(340.228 337.677)scale(.996264)\">\n",
       "<path d=\"M334.676 235.091L336.952 236.229\" fill=\"none\" stroke=\"#ff0000\" stroke-linecap=\"round\" stroke-linejoin=\"round\" stroke-miterlimit=\"10.0375\" stroke-width=\"0.426791\"/>\n",
       "</g>\n",
       "<g transform=\"translate(340.228 337.677)scale(.996264)\">\n",
       "<path d=\"M327.562 242.204L329.839 243.342\" fill=\"none\" stroke=\"#ff0000\" stroke-linecap=\"round\" stroke-linejoin=\"round\" stroke-miterlimit=\"10.0375\" stroke-width=\"0.426791\"/>\n",
       "</g>\n",
       "<g transform=\"translate(340.228 337.677)scale(.996264)\">\n",
       "<path d=\"M320.449 249.317L322.725 250.455\" fill=\"none\" stroke=\"#ff0000\" stroke-linecap=\"round\" stroke-linejoin=\"round\" stroke-miterlimit=\"10.0375\" stroke-width=\"0.426791\"/>\n",
       "</g>\n",
       "<g transform=\"translate(340.228 337.677)scale(.996264)\">\n",
       "<path d=\"M370.241 199.525L374.794 201.801\" fill=\"none\" stroke=\"#ff0000\" stroke-linecap=\"round\" stroke-linejoin=\"round\" stroke-miterlimit=\"10.0375\" stroke-width=\"0.711319\"/>\n",
       "</g>\n",
       "<g fill=\"#f00\" transform=\"translate(-130.75523 837.116953)rotate(-56.309932)\">\n",
       "<use x=\"713.779443\" y=\"548.422207\" xlink:href=\"#g1-51\"/>\n",
       "</g>\n",
       "<g transform=\"translate(340.228 337.677)scale(.996264)\">\n",
       "<path d=\"M363.128 206.638L365.405 207.776\" fill=\"none\" stroke=\"#ff0000\" stroke-linecap=\"round\" stroke-linejoin=\"round\" stroke-miterlimit=\"10.0375\" stroke-width=\"0.426791\"/>\n",
       "</g>\n",
       "<g transform=\"translate(340.228 337.677)scale(.996264)\">\n",
       "<path d=\"M356.015 213.751L358.291 214.889\" fill=\"none\" stroke=\"#ff0000\" stroke-linecap=\"round\" stroke-linejoin=\"round\" stroke-miterlimit=\"10.0375\" stroke-width=\"0.426791\"/>\n",
       "</g>\n",
       "<g transform=\"translate(340.228 337.677)scale(.996264)\">\n",
       "<path d=\"M348.902 220.865L351.178 222.003\" fill=\"none\" stroke=\"#ff0000\" stroke-linecap=\"round\" stroke-linejoin=\"round\" stroke-miterlimit=\"10.0375\" stroke-width=\"0.426791\"/>\n",
       "</g>\n",
       "<g transform=\"translate(340.228 337.677)scale(.996264)\">\n",
       "<path d=\"M398.694 171.072L403.247 173.348\" fill=\"none\" stroke=\"#ff0000\" stroke-linecap=\"round\" stroke-linejoin=\"round\" stroke-miterlimit=\"10.0375\" stroke-width=\"0.711319\"/>\n",
       "</g>\n",
       "<g fill=\"#f00\" transform=\"translate(-94.546635 848.079323)rotate(-56.309932)\">\n",
       "<use x=\"742.125887\" y=\"520.075747\" xlink:href=\"#g1-52\"/>\n",
       "</g>\n",
       "<g transform=\"translate(340.228 337.677)scale(.996264)\">\n",
       "<path d=\"M391.581 178.185L393.857 179.323\" fill=\"none\" stroke=\"#ff0000\" stroke-linecap=\"round\" stroke-linejoin=\"round\" stroke-miterlimit=\"10.0375\" stroke-width=\"0.426791\"/>\n",
       "</g>\n",
       "<g transform=\"translate(340.228 337.677)scale(.996264)\">\n",
       "<path d=\"M384.468 185.299L386.744 186.437\" fill=\"none\" stroke=\"#ff0000\" stroke-linecap=\"round\" stroke-linejoin=\"round\" stroke-miterlimit=\"10.0375\" stroke-width=\"0.426791\"/>\n",
       "</g>\n",
       "<g transform=\"translate(340.228 337.677)scale(.996264)\">\n",
       "<path d=\"M377.355 192.412L379.631 193.55\" fill=\"none\" stroke=\"#ff0000\" stroke-linecap=\"round\" stroke-linejoin=\"round\" stroke-miterlimit=\"10.0375\" stroke-width=\"0.426791\"/>\n",
       "</g>\n",
       "<g transform=\"translate(340.228 337.677)scale(.996264)\">\n",
       "<path d=\"M427.147 142.619L431.699 144.896\" fill=\"none\" stroke=\"#ff0000\" stroke-linecap=\"round\" stroke-linejoin=\"round\" stroke-miterlimit=\"10.0375\" stroke-width=\"0.711319\"/>\n",
       "</g>\n",
       "<g fill=\"#f00\" transform=\"translate(-58.338427 859.04297)rotate(-56.309932)\">\n",
       "<use x=\"770.472347\" y=\"491.729288\" xlink:href=\"#g1-53\"/>\n",
       "</g>\n",
       "<g transform=\"translate(340.228 337.677)scale(.996264)\">\n",
       "<path d=\"M420.034 149.733L422.31 150.871\" fill=\"none\" stroke=\"#ff0000\" stroke-linecap=\"round\" stroke-linejoin=\"round\" stroke-miterlimit=\"10.0375\" stroke-width=\"0.426791\"/>\n",
       "</g>\n",
       "<g transform=\"translate(340.228 337.677)scale(.996264)\">\n",
       "<path d=\"M412.921 156.846L415.197 157.984\" fill=\"none\" stroke=\"#ff0000\" stroke-linecap=\"round\" stroke-linejoin=\"round\" stroke-miterlimit=\"10.0375\" stroke-width=\"0.426791\"/>\n",
       "</g>\n",
       "<g transform=\"translate(340.228 337.677)scale(.996264)\">\n",
       "<path d=\"M405.807 163.959L408.084 165.097\" fill=\"none\" stroke=\"#ff0000\" stroke-linecap=\"round\" stroke-linejoin=\"round\" stroke-miterlimit=\"10.0375\" stroke-width=\"0.426791\"/>\n",
       "</g>\n",
       "<g transform=\"translate(340.228 337.677)scale(.996264)\">\n",
       "<path d=\"M455.6 114.167L460.152 116.443\" fill=\"none\" stroke=\"#ff0000\" stroke-linecap=\"round\" stroke-linejoin=\"round\" stroke-miterlimit=\"10.0375\" stroke-width=\"0.711319\"/>\n",
       "</g>\n",
       "<g fill=\"#f00\" transform=\"translate(-22.129831 870.005341)rotate(-56.309932)\">\n",
       "<use x=\"798.818806\" y=\"463.382828\" xlink:href=\"#g1-54\"/>\n",
       "</g>\n",
       "<g transform=\"translate(340.228 337.677)scale(.996264)\">\n",
       "<path d=\"M448.487 121.28L450.763 122.418\" fill=\"none\" stroke=\"#ff0000\" stroke-linecap=\"round\" stroke-linejoin=\"round\" stroke-miterlimit=\"10.0375\" stroke-width=\"0.426791\"/>\n",
       "</g>\n",
       "<g transform=\"translate(340.228 337.677)scale(.996264)\">\n",
       "<path d=\"M441.373 128.393L443.65 129.531\" fill=\"none\" stroke=\"#ff0000\" stroke-linecap=\"round\" stroke-linejoin=\"round\" stroke-miterlimit=\"10.0375\" stroke-width=\"0.426791\"/>\n",
       "</g>\n",
       "<g transform=\"translate(340.228 337.677)scale(.996264)\">\n",
       "<path d=\"M434.26 135.506L436.536 136.644\" fill=\"none\" stroke=\"#ff0000\" stroke-linecap=\"round\" stroke-linejoin=\"round\" stroke-miterlimit=\"10.0375\" stroke-width=\"0.426791\"/>\n",
       "</g>\n",
       "<g transform=\"translate(340.228 337.677)scale(.996264)\">\n",
       "<path d=\"M484.053 85.7139L488.605 87.9901\" fill=\"none\" stroke=\"#ff0000\" stroke-linecap=\"round\" stroke-linejoin=\"round\" stroke-miterlimit=\"10.0375\" stroke-width=\"0.711319\"/>\n",
       "</g>\n",
       "<g fill=\"#f00\" transform=\"translate(14.078377 880.968988)rotate(-56.309932)\">\n",
       "<use x=\"827.165266\" y=\"435.036369\" xlink:href=\"#g1-55\"/>\n",
       "</g>\n",
       "<g transform=\"translate(340.228 337.677)scale(.996264)\">\n",
       "<path d=\"M476.939 92.8271L479.216 93.9652\" fill=\"none\" stroke=\"#ff0000\" stroke-linecap=\"round\" stroke-linejoin=\"round\" stroke-miterlimit=\"10.0375\" stroke-width=\"0.426791\"/>\n",
       "</g>\n",
       "<g transform=\"translate(340.228 337.677)scale(.996264)\">\n",
       "<path d=\"M469.826 99.9403L472.102 101.078\" fill=\"none\" stroke=\"#ff0000\" stroke-linecap=\"round\" stroke-linejoin=\"round\" stroke-miterlimit=\"10.0375\" stroke-width=\"0.426791\"/>\n",
       "</g>\n",
       "<g transform=\"translate(340.228 337.677)scale(.996264)\">\n",
       "<path d=\"M462.713 107.053L464.989 108.192\" fill=\"none\" stroke=\"#ff0000\" stroke-linecap=\"round\" stroke-linejoin=\"round\" stroke-miterlimit=\"10.0375\" stroke-width=\"0.426791\"/>\n",
       "</g>\n",
       "<g transform=\"translate(340.228 337.677)scale(.996264)\">\n",
       "<path d=\"M512.505 398.694L508.237 402.962\" fill=\"none\" stroke=\"#ff0000\" stroke-linecap=\"round\" stroke-linejoin=\"round\" stroke-miterlimit=\"10.0375\" stroke-width=\"0.711319\"/>\n",
       "</g>\n",
       "<g fill=\"#f00\" transform=\"translate(-241.445816 1033.161546)rotate(-56.309932)\">\n",
       "<use x=\"829.365891\" y=\"745.507995\" xlink:href=\"#g0-0\"/>\n",
       "<use x=\"838.664388\" y=\"745.507995\" xlink:href=\"#g1-52\"/>\n",
       "</g>\n",
       "<g transform=\"translate(340.228 337.677)scale(.996264)\">\n",
       "<path d=\"M498.279 391.581L496.145 393.715\" fill=\"none\" stroke=\"#ff0000\" stroke-linecap=\"round\" stroke-linejoin=\"round\" stroke-miterlimit=\"10.0375\" stroke-width=\"0.426791\"/>\n",
       "</g>\n",
       "<g transform=\"translate(340.228 337.677)scale(.996264)\">\n",
       "<path d=\"M484.053 384.468L481.919 386.602\" fill=\"none\" stroke=\"#ff0000\" stroke-linecap=\"round\" stroke-linejoin=\"round\" stroke-miterlimit=\"10.0375\" stroke-width=\"0.426791\"/>\n",
       "</g>\n",
       "<g transform=\"translate(340.228 337.677)scale(.996264)\">\n",
       "<path d=\"M469.826 377.355L467.692 379.489\" fill=\"none\" stroke=\"#ff0000\" stroke-linecap=\"round\" stroke-linejoin=\"round\" stroke-miterlimit=\"10.0375\" stroke-width=\"0.426791\"/>\n",
       "</g>\n",
       "<g transform=\"translate(340.228 337.677)scale(.996264)\">\n",
       "<path d=\"M455.6 370.241L451.332 374.509\" fill=\"none\" stroke=\"#ff0000\" stroke-linecap=\"round\" stroke-linejoin=\"round\" stroke-miterlimit=\"10.0375\" stroke-width=\"0.711319\"/>\n",
       "</g>\n",
       "<g fill=\"#f00\" transform=\"translate(-243.105087 973.367216)rotate(-56.309932)\">\n",
       "<use x=\"772.672972\" y=\"717.161551\" xlink:href=\"#g0-0\"/>\n",
       "<use x=\"781.971469\" y=\"717.161551\" xlink:href=\"#g1-51\"/>\n",
       "</g>\n",
       "<g transform=\"translate(340.228 337.677)scale(.996264)\">\n",
       "<path d=\"M441.373 363.128L439.239 365.262\" fill=\"none\" stroke=\"#ff0000\" stroke-linecap=\"round\" stroke-linejoin=\"round\" stroke-miterlimit=\"10.0375\" stroke-width=\"0.426791\"/>\n",
       "</g>\n",
       "<g transform=\"translate(340.228 337.677)scale(.996264)\">\n",
       "<path d=\"M427.147 356.015L425.013 358.149\" fill=\"none\" stroke=\"#ff0000\" stroke-linecap=\"round\" stroke-linejoin=\"round\" stroke-miterlimit=\"10.0375\" stroke-width=\"0.426791\"/>\n",
       "</g>\n",
       "<g transform=\"translate(340.228 337.677)scale(.996264)\">\n",
       "<path d=\"M412.921 348.902L410.787 351.036\" fill=\"none\" stroke=\"#ff0000\" stroke-linecap=\"round\" stroke-linejoin=\"round\" stroke-miterlimit=\"10.0375\" stroke-width=\"0.426791\"/>\n",
       "</g>\n",
       "<g transform=\"translate(340.228 337.677)scale(.996264)\">\n",
       "<path d=\"M398.694 341.789L394.426 346.057\" fill=\"none\" stroke=\"#ff0000\" stroke-linecap=\"round\" stroke-linejoin=\"round\" stroke-miterlimit=\"10.0375\" stroke-width=\"0.711319\"/>\n",
       "</g>\n",
       "<g fill=\"#f00\" transform=\"translate(-244.764745 913.574164)rotate(-56.309932)\">\n",
       "<use x=\"715.980068\" y=\"688.815091\" xlink:href=\"#g0-0\"/>\n",
       "<use x=\"725.278565\" y=\"688.815091\" xlink:href=\"#g1-50\"/>\n",
       "</g>\n",
       "<g transform=\"translate(340.228 337.677)scale(.996264)\">\n",
       "<path d=\"M384.468 334.676L382.334 336.809\" fill=\"none\" stroke=\"#ff0000\" stroke-linecap=\"round\" stroke-linejoin=\"round\" stroke-miterlimit=\"10.0375\" stroke-width=\"0.426791\"/>\n",
       "</g>\n",
       "<g transform=\"translate(340.228 337.677)scale(.996264)\">\n",
       "<path d=\"M370.241 327.562L368.108 329.696\" fill=\"none\" stroke=\"#ff0000\" stroke-linecap=\"round\" stroke-linejoin=\"round\" stroke-miterlimit=\"10.0375\" stroke-width=\"0.426791\"/>\n",
       "</g>\n",
       "<g transform=\"translate(340.228 337.677)scale(.996264)\">\n",
       "<path d=\"M356.015 320.449L353.881 322.583\" fill=\"none\" stroke=\"#ff0000\" stroke-linecap=\"round\" stroke-linejoin=\"round\" stroke-miterlimit=\"10.0375\" stroke-width=\"0.426791\"/>\n",
       "</g>\n",
       "<g transform=\"translate(340.228 337.677)scale(.996264)\">\n",
       "<path d=\"M341.789 313.336L337.521 317.604\" fill=\"none\" stroke=\"#ff0000\" stroke-linecap=\"round\" stroke-linejoin=\"round\" stroke-miterlimit=\"10.0375\" stroke-width=\"0.711319\"/>\n",
       "</g>\n",
       "<g fill=\"#f00\" transform=\"translate(-246.424849 853.780279)rotate(-56.309932)\">\n",
       "<use x=\"659.287149\" y=\"660.468631\" xlink:href=\"#g0-0\"/>\n",
       "<use x=\"668.585646\" y=\"660.468631\" xlink:href=\"#g1-49\"/>\n",
       "</g>\n",
       "<g transform=\"translate(340.228 337.677)scale(.996264)\">\n",
       "<path d=\"M327.562 306.223L325.428 308.357\" fill=\"none\" stroke=\"#ff0000\" stroke-linecap=\"round\" stroke-linejoin=\"round\" stroke-miterlimit=\"10.0375\" stroke-width=\"0.426791\"/>\n",
       "</g>\n",
       "<g transform=\"translate(340.228 337.677)scale(.996264)\">\n",
       "<path d=\"M313.336 299.11L311.202 301.244\" fill=\"none\" stroke=\"#ff0000\" stroke-linecap=\"round\" stroke-linejoin=\"round\" stroke-miterlimit=\"10.0375\" stroke-width=\"0.426791\"/>\n",
       "</g>\n",
       "<g transform=\"translate(340.228 337.677)scale(.996264)\">\n",
       "<path d=\"M299.11 291.996L296.976 294.13\" fill=\"none\" stroke=\"#ff0000\" stroke-linecap=\"round\" stroke-linejoin=\"round\" stroke-miterlimit=\"10.0375\" stroke-width=\"0.426791\"/>\n",
       "</g>\n",
       "<g transform=\"translate(340.228 337.677)scale(.996264)\">\n",
       "<path d=\"M227.978 256.43L223.71 260.698\" fill=\"none\" stroke=\"#ff0000\" stroke-linecap=\"round\" stroke-linejoin=\"round\" stroke-miterlimit=\"10.0375\" stroke-width=\"0.711319\"/>\n",
       "</g>\n",
       "<g fill=\"#f00\" transform=\"translate(-249.744224 734.192065)rotate(-56.309932)\">\n",
       "<use x=\"555.199815\" y=\"604.273829\" xlink:href=\"#g1-49\"/>\n",
       "</g>\n",
       "<g transform=\"translate(340.228 337.677)scale(.996264)\">\n",
       "<path d=\"M242.204 263.544L240.07 265.678\" fill=\"none\" stroke=\"#ff0000\" stroke-linecap=\"round\" stroke-linejoin=\"round\" stroke-miterlimit=\"10.0375\" stroke-width=\"0.426791\"/>\n",
       "</g>\n",
       "<g transform=\"translate(340.228 337.677)scale(.996264)\">\n",
       "<path d=\"M256.43 270.657L254.297 272.791\" fill=\"none\" stroke=\"#ff0000\" stroke-linecap=\"round\" stroke-linejoin=\"round\" stroke-miterlimit=\"10.0375\" stroke-width=\"0.426791\"/>\n",
       "</g>\n",
       "<g transform=\"translate(340.228 337.677)scale(.996264)\">\n",
       "<path d=\"M270.657 277.77L268.523 279.904\" fill=\"none\" stroke=\"#ff0000\" stroke-linecap=\"round\" stroke-linejoin=\"round\" stroke-miterlimit=\"10.0375\" stroke-width=\"0.426791\"/>\n",
       "</g>\n",
       "<g transform=\"translate(340.228 337.677)scale(.996264)\">\n",
       "<path d=\"M171.072 227.978L166.804 232.246\" fill=\"none\" stroke=\"#ff0000\" stroke-linecap=\"round\" stroke-linejoin=\"round\" stroke-miterlimit=\"10.0375\" stroke-width=\"0.711319\"/>\n",
       "</g>\n",
       "<g fill=\"#f00\" transform=\"translate(-251.403496 674.397735)rotate(-56.309932)\">\n",
       "<use x=\"498.506896\" y=\"575.92737\" xlink:href=\"#g1-50\"/>\n",
       "</g>\n",
       "<g transform=\"translate(340.228 337.677)scale(.996264)\">\n",
       "<path d=\"M185.299 235.091L183.165 237.225\" fill=\"none\" stroke=\"#ff0000\" stroke-linecap=\"round\" stroke-linejoin=\"round\" stroke-miterlimit=\"10.0375\" stroke-width=\"0.426791\"/>\n",
       "</g>\n",
       "<g transform=\"translate(340.228 337.677)scale(.996264)\">\n",
       "<path d=\"M199.525 242.204L197.391 244.338\" fill=\"none\" stroke=\"#ff0000\" stroke-linecap=\"round\" stroke-linejoin=\"round\" stroke-miterlimit=\"10.0375\" stroke-width=\"0.426791\"/>\n",
       "</g>\n",
       "<g transform=\"translate(340.228 337.677)scale(.996264)\">\n",
       "<path d=\"M213.751 249.317L211.617 251.451\" fill=\"none\" stroke=\"#ff0000\" stroke-linecap=\"round\" stroke-linejoin=\"round\" stroke-miterlimit=\"10.0375\" stroke-width=\"0.426791\"/>\n",
       "</g>\n",
       "<g transform=\"translate(340.228 337.677)scale(.996264)\">\n",
       "<path d=\"M114.167 199.525L109.899 203.793\" fill=\"none\" stroke=\"#ff0000\" stroke-linecap=\"round\" stroke-linejoin=\"round\" stroke-miterlimit=\"10.0375\" stroke-width=\"0.711319\"/>\n",
       "</g>\n",
       "<g fill=\"#f00\" transform=\"translate(-253.063599 614.603851)rotate(-56.309932)\">\n",
       "<use x=\"441.813992\" y=\"547.580925\" xlink:href=\"#g1-51\"/>\n",
       "</g>\n",
       "<g transform=\"translate(340.228 337.677)scale(.996264)\">\n",
       "<path d=\"M128.393 206.638L126.259 208.772\" fill=\"none\" stroke=\"#ff0000\" stroke-linecap=\"round\" stroke-linejoin=\"round\" stroke-miterlimit=\"10.0375\" stroke-width=\"0.426791\"/>\n",
       "</g>\n",
       "<g transform=\"translate(340.228 337.677)scale(.996264)\">\n",
       "<path d=\"M142.619 213.751L140.485 215.885\" fill=\"none\" stroke=\"#ff0000\" stroke-linecap=\"round\" stroke-linejoin=\"round\" stroke-miterlimit=\"10.0375\" stroke-width=\"0.426791\"/>\n",
       "</g>\n",
       "<g transform=\"translate(340.228 337.677)scale(.996264)\">\n",
       "<path d=\"M156.846 220.865L154.712 222.998\" fill=\"none\" stroke=\"#ff0000\" stroke-linecap=\"round\" stroke-linejoin=\"round\" stroke-miterlimit=\"10.0375\" stroke-width=\"0.426791\"/>\n",
       "</g>\n",
       "<g transform=\"translate(340.228 337.677)scale(.996264)\">\n",
       "<path d=\"M57.2612 171.072L52.9933 175.34\" fill=\"none\" stroke=\"#ff0000\" stroke-linecap=\"round\" stroke-linejoin=\"round\" stroke-miterlimit=\"10.0375\" stroke-width=\"0.711319\"/>\n",
       "</g>\n",
       "<g fill=\"#f00\" transform=\"translate(-254.722871 554.809521)rotate(-56.309932)\">\n",
       "<use x=\"385.121073\" y=\"519.234466\" xlink:href=\"#g1-52\"/>\n",
       "</g>\n",
       "<g transform=\"translate(340.228 337.677)scale(.996264)\">\n",
       "<path d=\"M71.4875 178.185L69.3536 180.319\" fill=\"none\" stroke=\"#ff0000\" stroke-linecap=\"round\" stroke-linejoin=\"round\" stroke-miterlimit=\"10.0375\" stroke-width=\"0.426791\"/>\n",
       "</g>\n",
       "<g transform=\"translate(340.228 337.677)scale(.996264)\">\n",
       "<path d=\"M85.7139 185.299L83.58 187.433\" fill=\"none\" stroke=\"#ff0000\" stroke-linecap=\"round\" stroke-linejoin=\"round\" stroke-miterlimit=\"10.0375\" stroke-width=\"0.426791\"/>\n",
       "</g>\n",
       "<g transform=\"translate(340.228 337.677)scale(.996264)\">\n",
       "<path d=\"M99.9403 192.412L97.8063 194.546\" fill=\"none\" stroke=\"#ff0000\" stroke-linecap=\"round\" stroke-linejoin=\"round\" stroke-miterlimit=\"10.0375\" stroke-width=\"0.426791\"/>\n",
       "</g>\n",
       "<g transform=\"translate(340.228 337.677)scale(.996264)\">\n",
       "<path d=\"M309.312 260.454L284.883 284.883\" fill=\"none\" stroke=\"#ff0000\" stroke-linecap=\"round\" stroke-linejoin=\"round\" stroke-miterlimit=\"10.0375\" stroke-width=\"1.5649\"/>\n",
       "</g>\n",
       "<g transform=\"translate(340.228 337.677)scale(.996264)\">\n",
       "<path d=\"M313.336 256.43L308.234 259.376L310.39 261.532L313.336 256.43Z\" fill=\"#ff0000\"/>\n",
       "</g>\n",
       "<g transform=\"translate(340.228 337.677)scale(.996264)\">\n",
       "<path d=\"M313.336 256.43L308.234 259.376L310.39 261.532L313.336 256.43Z\" fill=\"none\" stroke=\"#ff0000\" stroke-linecap=\"round\" stroke-linejoin=\"round\" stroke-miterlimit=\"10.0375\" stroke-width=\"1.5649\"/>\n",
       "</g>\n",
       "<g transform=\"translate(340.228 337.677)scale(.996264)\">\n",
       "<path d=\"M233.067 258.975L284.883 284.883\" fill=\"none\" stroke=\"#ff0000\" stroke-linecap=\"round\" stroke-linejoin=\"round\" stroke-miterlimit=\"10.0375\" stroke-width=\"1.5649\"/>\n",
       "</g>\n",
       "<g transform=\"translate(340.228 337.677)scale(.996264)\">\n",
       "<path d=\"M227.978 256.43L232.386 260.339L233.749 257.612L227.978 256.43Z\" fill=\"#ff0000\"/>\n",
       "</g>\n",
       "<g transform=\"translate(340.228 337.677)scale(.996264)\">\n",
       "<path d=\"M227.978 256.43L232.386 260.339L233.749 257.612L227.978 256.43Z\" fill=\"none\" stroke=\"#ff0000\" stroke-linecap=\"round\" stroke-linejoin=\"round\" stroke-miterlimit=\"10.0375\" stroke-width=\"1.5649\"/>\n",
       "</g>\n",
       "<g transform=\"translate(340.228 337.677)scale(.996264)\">\n",
       "<path d=\"M258.005 150.494L284.883 284.883\" fill=\"none\" stroke=\"#0000ff\" stroke-linecap=\"round\" stroke-linejoin=\"round\" stroke-miterlimit=\"10.0375\" stroke-width=\"1.5649\"/>\n",
       "</g>\n",
       "<g transform=\"translate(340.228 337.677)scale(.996264)\">\n",
       "<path d=\"M256.43 142.619L255.895 150.915L260.115 150.072L256.43 142.619Z\" fill=\"#0000ff\"/>\n",
       "</g>\n",
       "<g transform=\"translate(340.228 337.677)scale(.996264)\">\n",
       "<path d=\"M256.43 142.619L255.895 150.915L260.115 150.072L256.43 142.619Z\" fill=\"none\" stroke=\"#0000ff\" stroke-linecap=\"round\" stroke-linejoin=\"round\" stroke-miterlimit=\"10.0375\" stroke-width=\"1.5649\"/>\n",
       "</g>\n",
       "<g transform=\"translate(340.228 337.677)scale(.996264)\">\n",
       "<path d=\"M341.789 569.411L227.978 .355659\" fill=\"none\" stroke=\"#0000ff\" stroke-linecap=\"round\" stroke-linejoin=\"round\" stroke-miterlimit=\"10.0375\" stroke-width=\"0.711319\"/>\n",
       "</g>\n",
       "<g transform=\"translate(340.228 337.677)scale(.996264)\">\n",
       "<path d=\"M370.241 199.525L256.43 142.619L171.072 227.978\" fill=\"none\" stroke=\"#ff0000\" stroke-dasharray=\"2.27486,2.27486,2.27486,2.27486\" stroke-linecap=\"round\" stroke-linejoin=\"round\" stroke-miterlimit=\"10.0375\" stroke-width=\"0.284528\"/>\n",
       "</g>\n",
       "</g>\n",
       "</svg>"
      ],
      "text/plain": [
       "<IPython.core.display.SVG object>"
      ]
     },
     "execution_count": 50,
     "metadata": {},
     "output_type": "execute_result"
    }
   ],
   "source": [
    "%%asy --fmt svg\n",
    "import geometry;\n",
    "import coordenades;\n",
    "import graph;\n",
    "\n",
    "unitsize(1cm);\n",
    "pair o = (0,0),\n",
    "     u = (3,2);\n",
    "\n",
    "Canonica(-10,10,-10,10);\n",
    "picture p = Coordenades(-8,8,-5,5,color=red,tickx=0.08,base=true,quadricula=false);\n",
    "draw(p,o--u,blue+linewidth(0.55mm),Arrow(8));\n",
    "draw(p,-2*u--2*u,blue+linewidth(0.25mm));\n",
    "transform tr = Base((1,1),(-2,1));\n",
    "draw(p,(u.x,0)--u--(0,u.y),linetype(\"8 8 8 8\")+linewidth(0.1mm)+red);\n",
    "add(tr*p);"
   ]
  },
  {
   "cell_type": "code",
   "execution_count": 51,
   "metadata": {},
   "outputs": [
    {
     "data": {
      "text/html": [
       "<html>\\(\\displaystyle \\left(\\begin{array}{rr}\n",
       "1 & -2 \\\\\n",
       "1 & 1\n",
       "\\end{array}\\right)\\)</html>"
      ],
      "text/latex": [
       "$\\displaystyle \\left(\\begin{array}{rr}\n",
       "1 & -2 \\\\\n",
       "1 & 1\n",
       "\\end{array}\\right)$"
      ],
      "text/plain": [
       "[ 1 -2]\n",
       "[ 1  1]"
      ]
     },
     "metadata": {},
     "output_type": "display_data"
    }
   ],
   "source": [
    "C = matrix([[1,-2],[1,1]])\n",
    "show(C)"
   ]
  },
  {
   "cell_type": "code",
   "execution_count": 52,
   "metadata": {},
   "outputs": [
    {
     "data": {
      "text/html": [
       "<html>\\(\\displaystyle 2 \\, x_{1} - 3 \\, y_{1} = 0\\)</html>"
      ],
      "text/latex": [
       "$\\displaystyle 2 \\, x_{1} - 3 \\, y_{1} = 0$"
      ],
      "text/plain": [
       "2*x1 - 3*y1 == 0"
      ]
     },
     "metadata": {},
     "output_type": "display_data"
    }
   ],
   "source": [
    "x1, y1 = var('x1 y1')\n",
    "eq1 = 2*x1 - 3*y1 == 0\n",
    "show(eq1)"
   ]
  },
  {
   "cell_type": "code",
   "execution_count": 53,
   "metadata": {},
   "outputs": [
    {
     "data": {
      "text/html": [
       "<html>\\(\\displaystyle \\frac{1}{3} \\, x + \\frac{2}{3} \\, y\\)</html>"
      ],
      "text/latex": [
       "$\\displaystyle \\frac{1}{3} \\, x + \\frac{2}{3} \\, y$"
      ],
      "text/plain": [
       "1/3*x + 2/3*y"
      ]
     },
     "metadata": {},
     "output_type": "display_data"
    },
    {
     "data": {
      "text/html": [
       "<html>\\(\\displaystyle -\\frac{1}{3} \\, x + \\frac{1}{3} \\, y\\)</html>"
      ],
      "text/latex": [
       "$\\displaystyle -\\frac{1}{3} \\, x + \\frac{1}{3} \\, y$"
      ],
      "text/plain": [
       "-1/3*x + 1/3*y"
      ]
     },
     "metadata": {},
     "output_type": "display_data"
    }
   ],
   "source": [
    "x, y = var('x y')\n",
    "X = vector([x,y])\n",
    "x1, y1 = C.inverse() * X\n",
    "show(x1)\n",
    "show(y1)"
   ]
  },
  {
   "cell_type": "code",
   "execution_count": 55,
   "metadata": {},
   "outputs": [
    {
     "data": {
      "text/html": [
       "<html>\\(\\displaystyle 5 \\, x + y = 0\\)</html>"
      ],
      "text/latex": [
       "$\\displaystyle 5 \\, x + y = 0$"
      ],
      "text/plain": [
       "5*x + y == 0"
      ]
     },
     "metadata": {},
     "output_type": "display_data"
    }
   ],
   "source": [
    "eq = eq1.subs(x1=x1,y1=y1).expand()\n",
    "## show(eq)\n",
    "show(3*eq)"
   ]
  },
  {
   "cell_type": "markdown",
   "metadata": {},
   "source": [
    "L'equació de la recta vectorial en la base canònica és $5x+y=0$."
   ]
  },
  {
   "cell_type": "markdown",
   "metadata": {},
   "source": [
    "## Exercici 18\n",
    "Donades les bases $\\mathcal{B}'=\\{(-1,-2,2),(-1,2,-1),(1,1,-1)\\}$ i $\\mathcal{B}''=\\{(1,-2,1),(-3,-1,2),(-1,-1,1)\\}$, trobeu l'expressió del canvi de base de la base $\\mathcal{B}'$ a $\\mathcal{B}''$."
   ]
  },
  {
   "cell_type": "code",
   "execution_count": 57,
   "metadata": {},
   "outputs": [],
   "source": [
    "u1 = vector([-1,-2,2])\n",
    "u2 = vector([-1,2,-1])\n",
    "u3 = vector([1,1,-1])\n",
    "v1 = vector([1,-2,1])\n",
    "v2 = vector([-3,-1,2])\n",
    "v3 = vector([-1,-1,1])"
   ]
  },
  {
   "cell_type": "code",
   "execution_count": 58,
   "metadata": {},
   "outputs": [
    {
     "data": {
      "text/html": [
       "<html>\\(\\displaystyle \\left(\\begin{array}{rrr}\n",
       "1 & -1 & 0 \\\\\n",
       "1 & 0 & 0 \\\\\n",
       "-1 & 0 & -1\n",
       "\\end{array}\\right)\\)</html>"
      ],
      "text/latex": [
       "$\\displaystyle \\left(\\begin{array}{rrr}\n",
       "1 & -1 & 0 \\\\\n",
       "1 & 0 & 0 \\\\\n",
       "-1 & 0 & -1\n",
       "\\end{array}\\right)$"
      ],
      "text/plain": [
       "[ 1 -1  0]\n",
       "[ 1  0  0]\n",
       "[-1  0 -1]"
      ]
     },
     "metadata": {},
     "output_type": "display_data"
    }
   ],
   "source": [
    "P = matrix([u1,u2,u3]).T\n",
    "Q = matrix([v1,v2,v3]).T\n",
    "C = Q.inverse() * P\n",
    "show(C)"
   ]
  },
  {
   "cell_type": "markdown",
   "metadata": {},
   "source": [
    "Per tant, el canvi de base de $\\mathcal{B}'$ a $\\mathcal{B}''$ ve donat per\n",
    "$$ \n",
    "  \\left(\\begin{array}{c} x'' \\\\ y'' \\\\ z''\\end{array}\\right)\n",
    "  =\\left(\\begin{array}{rrr}\n",
    "   1 & -1 &  0 \\\\\n",
    "   1 &  0 &  0 \\\\\n",
    "  -1 &  0 & -1\n",
    "  \\end{array}\\right) \n",
    "  \\left(\\begin{array}{c} x' \\\\ y' \\\\ z'\\end{array}\\right)\\,.\n",
    "$$"
   ]
  },
  {
   "cell_type": "markdown",
   "metadata": {},
   "source": [
    "## Exercici 19\n",
    "Trobeu una base $\\mathcal{B}'$ sabent que les components dels vectors $(-1,-2,-1)$, $(3,3,2)$ i $(-2,-3,-2)$ en aquesta base són\n",
    "$(0,1,3)_{\\mathcal{B}'}$, $(-1,-3,-7)_{\\mathcal{B}'}$ i $(0,1,4)_{\\mathcal{B}'}$"
   ]
  },
  {
   "cell_type": "code",
   "execution_count": 59,
   "metadata": {},
   "outputs": [],
   "source": [
    "u1 = vector([-1,-2,-1])\n",
    "u2 = vector([3,3,2])\n",
    "u3 = vector([-2,-3,-2])\n",
    "u11 = vector([0,1,3])\n",
    "u21 = vector([-1,-3,-7])\n",
    "u31 = vector([0,1,4])"
   ]
  },
  {
   "cell_type": "code",
   "execution_count": 60,
   "metadata": {},
   "outputs": [
    {
     "data": {
      "text/html": [
       "<html>\\(\\displaystyle \\left(\\begin{array}{rrr}\n",
       "-2 & 2 & -1 \\\\\n",
       "1 & 1 & -1 \\\\\n",
       "-1 & 2 & -1\n",
       "\\end{array}\\right)\\)</html>"
      ],
      "text/latex": [
       "$\\displaystyle \\left(\\begin{array}{rrr}\n",
       "-2 & 2 & -1 \\\\\n",
       "1 & 1 & -1 \\\\\n",
       "-1 & 2 & -1\n",
       "\\end{array}\\right)$"
      ],
      "text/plain": [
       "[-2  2 -1]\n",
       "[ 1  1 -1]\n",
       "[-1  2 -1]"
      ]
     },
     "metadata": {},
     "output_type": "display_data"
    }
   ],
   "source": [
    "P = matrix([u1,u2,u3]).T\n",
    "Q = matrix([u11,u21,u31]).T\n",
    "C = P * Q.inverse()\n",
    "show(C)"
   ]
  },
  {
   "cell_type": "markdown",
   "metadata": {},
   "source": [
    "Per tant, tenim que\n",
    "$$\n",
    "  \\mathcal{B}' = \\{(-2,1,-1),(2,1,2),(-1,-1,-1)\\}\\,.\n",
    "$$"
   ]
  },
  {
   "cell_type": "markdown",
   "metadata": {},
   "source": [
    "## Exercici 20\n",
    "Sigui $P$ el pla vectorial generat pels vectors $\\vec{v}_1$ i $\\vec{v}_2$ de components $(1,-1,2)$ i $(3,-1,-2)$\n",
    "en una base $\\mathcal{B}'$. Trobeu les equacions implícites de $P$ en la base $\\mathcal{B}'$."
   ]
  },
  {
   "cell_type": "markdown",
   "metadata": {},
   "source": [
    "L'equació implícita del pla vectorial en la base $\\mathcal{B}'$ és\n",
    "$$\n",
    "  \\left|\\begin{array}{rrr}\n",
    "   1 &  3 & x' \\\\\n",
    "  -1 & -1 & y' \\\\\n",
    "   2 & -2 & z'\n",
    "  \\end{array}\\right|=0\\,.\n",
    "$$"
   ]
  },
  {
   "cell_type": "code",
   "execution_count": 61,
   "metadata": {},
   "outputs": [
    {
     "data": {
      "text/html": [
       "<html>\\(\\displaystyle 4 \\, x_{1} + 8 \\, y_{1} + 2 \\, z_{1} = 0\\)</html>"
      ],
      "text/latex": [
       "$\\displaystyle 4 \\, x_{1} + 8 \\, y_{1} + 2 \\, z_{1} = 0$"
      ],
      "text/plain": [
       "4*x1 + 8*y1 + 2*z1 == 0"
      ]
     },
     "metadata": {},
     "output_type": "display_data"
    }
   ],
   "source": [
    "x1, y1, z1 = var('x1 y1 z1')\n",
    "A = matrix([[1,-1,2],[3,-1,-2],[x1,y1,z1]]).T\n",
    "eq = A.det() == 0\n",
    "show(eq)"
   ]
  },
  {
   "cell_type": "markdown",
   "metadata": {},
   "source": [
    "Si simplifiquem per $2$, tenim que l'equació implícita del pla vectorial en la base $\\mathcal{B}'$ és $2x'+4y'+z'=0$."
   ]
  },
  {
   "cell_type": "markdown",
   "metadata": {},
   "source": [
    "## Exercici 21\n",
    "Determineu una base del pla vectorial $P$ de $V_3$ que en la base $\\mathcal{B}'=\\{(1,0,-2),(2,3,1),(1,1,0)\\}$ té equació implícita\n",
    "$$\n",
    "-2x'+2y'+z'=0 \\,.\n",
    "$$"
   ]
  },
  {
   "cell_type": "markdown",
   "metadata": {},
   "source": [
    "És evident que els vectors $\\vec u_1=(1,1,0)_{\\mathcal{B}'}$ i $\\vec u_2=(1,0,2)_{\\mathcal{B}'}$ són una base del pla $P$.\n",
    "\n",
    "Calculem les components d'aquests dos vectors en la base canònica. Per fer això, tenim que la matriu del canvi de base de la base $\\mathcal{B}'$ a la base canònica és\n",
    "$$\n",
    "  C=\\left(\\begin{array}{rrr}\n",
    "   1 & 2 & 1 \\\\\n",
    "   0 & 3 & 1 \\\\\n",
    "  -2 & 1 & 0\n",
    "  \\end{array}\\right)\\,, \n",
    "$$\n",
    "aleshores:"
   ]
  },
  {
   "cell_type": "code",
   "execution_count": 62,
   "metadata": {},
   "outputs": [
    {
     "data": {
      "text/html": [
       "<html>\\(\\displaystyle \\left(3,\\,3,\\,-1\\right)\\)</html>"
      ],
      "text/latex": [
       "$\\displaystyle \\left(3,\\,3,\\,-1\\right)$"
      ],
      "text/plain": [
       "(3, 3, -1)"
      ]
     },
     "metadata": {},
     "output_type": "display_data"
    },
    {
     "data": {
      "text/html": [
       "<html>\\(\\displaystyle \\left(3,\\,2,\\,-2\\right)\\)</html>"
      ],
      "text/latex": [
       "$\\displaystyle \\left(3,\\,2,\\,-2\\right)$"
      ],
      "text/plain": [
       "(3, 2, -2)"
      ]
     },
     "metadata": {},
     "output_type": "display_data"
    }
   ],
   "source": [
    "C = matrix([[1,2,1],[0,3,1],[-2,1,0]])\n",
    "u1 = vector([1,1,0])\n",
    "u2 = vector([1,0,2])\n",
    "show(C*u1)\n",
    "show(C*u2)"
   ]
  },
  {
   "cell_type": "markdown",
   "metadata": {},
   "source": [
    "Els vectors $\\{(3,3,-1),(3,2,-2\\}$ formen una base del pla."
   ]
  },
  {
   "cell_type": "markdown",
   "metadata": {},
   "source": [
    "## Exercici 22\n",
    "Calculeu el producte escalar dels vectors $(1,3,0)$ i $(2,1,-2)$."
   ]
  },
  {
   "cell_type": "code",
   "execution_count": 63,
   "metadata": {},
   "outputs": [
    {
     "data": {
      "text/html": [
       "<html>\\(\\displaystyle 5\\)</html>"
      ],
      "text/latex": [
       "$\\displaystyle 5$"
      ],
      "text/plain": [
       "5"
      ]
     },
     "metadata": {},
     "output_type": "display_data"
    }
   ],
   "source": [
    "u1 = vector([1,3,0])\n",
    "u2 = vector([2,1,-2])\n",
    "show(u1*u2)"
   ]
  },
  {
   "cell_type": "markdown",
   "metadata": {},
   "source": [
    "## Exercici 23\n",
    "Calculeu la norma del vector $(2,-3,6)$."
   ]
  },
  {
   "cell_type": "code",
   "execution_count": 64,
   "metadata": {},
   "outputs": [
    {
     "data": {
      "text/html": [
       "<html>\\(\\displaystyle 7\\)</html>"
      ],
      "text/latex": [
       "$\\displaystyle 7$"
      ],
      "text/plain": [
       "7"
      ]
     },
     "metadata": {},
     "output_type": "display_data"
    }
   ],
   "source": [
    "u = vector([2,-3,6])\n",
    "show(u.norm())"
   ]
  },
  {
   "cell_type": "markdown",
   "metadata": {},
   "source": [
    "## Exercici 24\n",
    "Calculeu l'angle que formen els vectors $(-1,1,-2)$ i $(2,1,1)$."
   ]
  },
  {
   "cell_type": "code",
   "execution_count": 65,
   "metadata": {},
   "outputs": [
    {
     "data": {
      "text/html": [
       "<html>\\(\\displaystyle -\\frac{1}{2}\\)</html>"
      ],
      "text/latex": [
       "$\\displaystyle -\\frac{1}{2}$"
      ],
      "text/plain": [
       "-1/2"
      ]
     },
     "metadata": {},
     "output_type": "display_data"
    }
   ],
   "source": [
    "u1 = vector([-1,1,-2])\n",
    "u2 = vector([2,1,1])\n",
    "c = (u1*u2)/(u1.norm()*u2.norm())\n",
    "show(c)"
   ]
  },
  {
   "cell_type": "code",
   "execution_count": 66,
   "metadata": {},
   "outputs": [
    {
     "data": {
      "text/html": [
       "<html>\\(\\displaystyle \\frac{2}{3} \\, \\pi\\)</html>"
      ],
      "text/latex": [
       "$\\displaystyle \\frac{2}{3} \\, \\pi$"
      ],
      "text/plain": [
       "2/3*pi"
      ]
     },
     "metadata": {},
     "output_type": "display_data"
    }
   ],
   "source": [
    "show(acos(c))"
   ]
  },
  {
   "cell_type": "code",
   "execution_count": 67,
   "metadata": {},
   "outputs": [
    {
     "data": {
      "text/html": [
       "<html>\\(\\displaystyle 120\\)</html>"
      ],
      "text/latex": [
       "$\\displaystyle 120$"
      ],
      "text/plain": [
       "120"
      ]
     },
     "metadata": {},
     "output_type": "display_data"
    }
   ],
   "source": [
    "show(180*acos(c)/pi)"
   ]
  },
  {
   "cell_type": "markdown",
   "metadata": {},
   "source": [
    "## Exercici 25\n",
    "Calculeu el producte vectorial dels vectors  $(-1,2,2)$ i $(1,-1,0)$."
   ]
  },
  {
   "cell_type": "code",
   "execution_count": 69,
   "metadata": {},
   "outputs": [
    {
     "data": {
      "text/html": [
       "<html>\\(\\displaystyle \\left(2,\\,2,\\,-1\\right)\\)</html>"
      ],
      "text/latex": [
       "$\\displaystyle \\left(2,\\,2,\\,-1\\right)$"
      ],
      "text/plain": [
       "(2, 2, -1)"
      ]
     },
     "metadata": {},
     "output_type": "display_data"
    }
   ],
   "source": [
    "u1 = vector([-1,2,2])\n",
    "u2 = vector([1,-1,0])\n",
    "w = u1.cross_product(u2)\n",
    "show(w)"
   ]
  },
  {
   "cell_type": "markdown",
   "metadata": {},
   "source": [
    "## Exercici 26\n",
    "Determineu quins dels sistemes de vectors de $V_3$ següents són ortogonals i quins ortonormals:\n",
    "1. $\\{(3,1,2),(-1,2,4),(4,-1,3)\\}$;\n",
    "2. $\\{(1,-1,1),(1,2,1),(-1,0,1)\\}$;\n",
    "3. $\\{\\frac13(2,2,-1),\\frac13(2,-1,2),\\frac13(-1,2,2)\\}$."
   ]
  },
  {
   "cell_type": "code",
   "execution_count": 70,
   "metadata": {},
   "outputs": [
    {
     "data": {
      "text/html": [
       "<html>\\(\\displaystyle \\left(\\begin{array}{rrr}\n",
       "3 & -1 & 4 \\\\\n",
       "1 & 2 & -1 \\\\\n",
       "2 & 4 & 3\n",
       "\\end{array}\\right)\\)</html>"
      ],
      "text/latex": [
       "$\\displaystyle \\left(\\begin{array}{rrr}\n",
       "3 & -1 & 4 \\\\\n",
       "1 & 2 & -1 \\\\\n",
       "2 & 4 & 3\n",
       "\\end{array}\\right)$"
      ],
      "text/plain": [
       "[ 3 -1  4]\n",
       "[ 1  2 -1]\n",
       "[ 2  4  3]"
      ]
     },
     "metadata": {},
     "output_type": "display_data"
    }
   ],
   "source": [
    "C = matrix([vector([3,1,2]),vector([-1,2,4]),vector([4,-1,3])]).T\n",
    "show(C)"
   ]
  },
  {
   "cell_type": "code",
   "execution_count": 71,
   "metadata": {},
   "outputs": [
    {
     "data": {
      "text/html": [
       "<html>\\(\\displaystyle \\left(\\begin{array}{rrr}\n",
       "14 & 7 & 17 \\\\\n",
       "7 & 21 & 6 \\\\\n",
       "17 & 6 & 26\n",
       "\\end{array}\\right)\\)</html>"
      ],
      "text/latex": [
       "$\\displaystyle \\left(\\begin{array}{rrr}\n",
       "14 & 7 & 17 \\\\\n",
       "7 & 21 & 6 \\\\\n",
       "17 & 6 & 26\n",
       "\\end{array}\\right)$"
      ],
      "text/plain": [
       "[14  7 17]\n",
       "[ 7 21  6]\n",
       "[17  6 26]"
      ]
     },
     "metadata": {},
     "output_type": "display_data"
    }
   ],
   "source": [
    "show(C.T * C)"
   ]
  },
  {
   "cell_type": "markdown",
   "metadata": {},
   "source": [
    "No és ni ortogonal ni ortonormal"
   ]
  },
  {
   "cell_type": "code",
   "execution_count": 72,
   "metadata": {},
   "outputs": [
    {
     "data": {
      "text/html": [
       "<html>\\(\\displaystyle \\left(\\begin{array}{rrr}\n",
       "1 & 1 & -1 \\\\\n",
       "-1 & 2 & 0 \\\\\n",
       "1 & 1 & 1\n",
       "\\end{array}\\right)\\)</html>"
      ],
      "text/latex": [
       "$\\displaystyle \\left(\\begin{array}{rrr}\n",
       "1 & 1 & -1 \\\\\n",
       "-1 & 2 & 0 \\\\\n",
       "1 & 1 & 1\n",
       "\\end{array}\\right)$"
      ],
      "text/plain": [
       "[ 1  1 -1]\n",
       "[-1  2  0]\n",
       "[ 1  1  1]"
      ]
     },
     "metadata": {},
     "output_type": "display_data"
    }
   ],
   "source": [
    "C = matrix([vector([1,-1,1]),vector([1,2,1]),vector([-1,0,1])]).T\n",
    "show(C)"
   ]
  },
  {
   "cell_type": "code",
   "execution_count": 73,
   "metadata": {},
   "outputs": [
    {
     "data": {
      "text/html": [
       "<html>\\(\\displaystyle \\left(\\begin{array}{rrr}\n",
       "3 & 0 & 0 \\\\\n",
       "0 & 6 & 0 \\\\\n",
       "0 & 0 & 2\n",
       "\\end{array}\\right)\\)</html>"
      ],
      "text/latex": [
       "$\\displaystyle \\left(\\begin{array}{rrr}\n",
       "3 & 0 & 0 \\\\\n",
       "0 & 6 & 0 \\\\\n",
       "0 & 0 & 2\n",
       "\\end{array}\\right)$"
      ],
      "text/plain": [
       "[3 0 0]\n",
       "[0 6 0]\n",
       "[0 0 2]"
      ]
     },
     "metadata": {},
     "output_type": "display_data"
    }
   ],
   "source": [
    "show(C.T * C)"
   ]
  },
  {
   "cell_type": "markdown",
   "metadata": {},
   "source": [
    "És ortogonal, però no és ortonormal"
   ]
  },
  {
   "cell_type": "code",
   "execution_count": 74,
   "metadata": {},
   "outputs": [
    {
     "data": {
      "text/html": [
       "<html>\\(\\displaystyle \\left(\\begin{array}{rrr}\n",
       "\\frac{2}{3} & \\frac{2}{3} & -\\frac{1}{3} \\\\\n",
       "\\frac{2}{3} & -\\frac{1}{3} & \\frac{2}{3} \\\\\n",
       "-\\frac{1}{3} & \\frac{2}{3} & \\frac{2}{3}\n",
       "\\end{array}\\right)\\)</html>"
      ],
      "text/latex": [
       "$\\displaystyle \\left(\\begin{array}{rrr}\n",
       "\\frac{2}{3} & \\frac{2}{3} & -\\frac{1}{3} \\\\\n",
       "\\frac{2}{3} & -\\frac{1}{3} & \\frac{2}{3} \\\\\n",
       "-\\frac{1}{3} & \\frac{2}{3} & \\frac{2}{3}\n",
       "\\end{array}\\right)$"
      ],
      "text/plain": [
       "[ 2/3  2/3 -1/3]\n",
       "[ 2/3 -1/3  2/3]\n",
       "[-1/3  2/3  2/3]"
      ]
     },
     "metadata": {},
     "output_type": "display_data"
    }
   ],
   "source": [
    "C = matrix([1/3*vector([2,2,-1]),1/3*vector([2,-1,2]),1/3*vector([-1,2,2])]).T\n",
    "show(C)"
   ]
  },
  {
   "cell_type": "code",
   "execution_count": 75,
   "metadata": {},
   "outputs": [
    {
     "data": {
      "text/html": [
       "<html>\\(\\displaystyle \\left(\\begin{array}{rrr}\n",
       "1 & 0 & 0 \\\\\n",
       "0 & 1 & 0 \\\\\n",
       "0 & 0 & 1\n",
       "\\end{array}\\right)\\)</html>"
      ],
      "text/latex": [
       "$\\displaystyle \\left(\\begin{array}{rrr}\n",
       "1 & 0 & 0 \\\\\n",
       "0 & 1 & 0 \\\\\n",
       "0 & 0 & 1\n",
       "\\end{array}\\right)$"
      ],
      "text/plain": [
       "[1 0 0]\n",
       "[0 1 0]\n",
       "[0 0 1]"
      ]
     },
     "metadata": {},
     "output_type": "display_data"
    }
   ],
   "source": [
    "show(C.T * C)"
   ]
  },
  {
   "cell_type": "markdown",
   "metadata": {},
   "source": [
    "És ortonormal (per tant, també ortogonal)."
   ]
  },
  {
   "cell_type": "markdown",
   "metadata": {},
   "source": [
    "## Exercici 27\n",
    "Determineu una base ortogonal i una base ortonormal de $V_3$ a partir del sistema de vectors linealment independent\n",
    "$$\\{(2,1,0),(-3,0,1),(-1,0,0)\\} \\,. $$"
   ]
  },
  {
   "cell_type": "code",
   "execution_count": 76,
   "metadata": {},
   "outputs": [],
   "source": [
    "u1 = vector([2,1,0])\n",
    "u2 = vector([-3,0,1])\n",
    "u3 = vector([-1,0,0])"
   ]
  },
  {
   "cell_type": "markdown",
   "metadata": {},
   "source": [
    "Apliquem ara el mètode de Gram-Schmidt a aquests tres vectors:"
   ]
  },
  {
   "cell_type": "code",
   "execution_count": 77,
   "metadata": {},
   "outputs": [
    {
     "data": {
      "text/html": [
       "<html>\\(\\displaystyle \\left(2,\\,1,\\,0\\right)\\)</html>"
      ],
      "text/latex": [
       "$\\displaystyle \\left(2,\\,1,\\,0\\right)$"
      ],
      "text/plain": [
       "(2, 1, 0)"
      ]
     },
     "metadata": {},
     "output_type": "display_data"
    }
   ],
   "source": [
    "v1 = u1\n",
    "show(v1)"
   ]
  },
  {
   "cell_type": "code",
   "execution_count": 79,
   "metadata": {},
   "outputs": [
    {
     "data": {
      "text/html": [
       "<html>\\(\\displaystyle \\left(-3,\\,6,\\,5\\right)\\)</html>"
      ],
      "text/latex": [
       "$\\displaystyle \\left(-3,\\,6,\\,5\\right)$"
      ],
      "text/plain": [
       "(-3, 6, 5)"
      ]
     },
     "metadata": {},
     "output_type": "display_data"
    }
   ],
   "source": [
    "v2 = u2 - (u2*v1)/(v1*v1) * v1\n",
    "v2 = 5 * v2\n",
    "show(v2)"
   ]
  },
  {
   "cell_type": "code",
   "execution_count": 81,
   "metadata": {},
   "outputs": [
    {
     "data": {
      "text/html": [
       "<html>\\(\\displaystyle \\left(-1,\\,2,\\,-3\\right)\\)</html>"
      ],
      "text/latex": [
       "$\\displaystyle \\left(-1,\\,2,\\,-3\\right)$"
      ],
      "text/plain": [
       "(-1, 2, -3)"
      ]
     },
     "metadata": {},
     "output_type": "display_data"
    }
   ],
   "source": [
    "v3 = u3 - (u3*v1)/(v1*v1) * v1 - (u3*v2)/(v2*v2) * v2\n",
    "v3 = 14 * v3\n",
    "show(v3)"
   ]
  },
  {
   "cell_type": "markdown",
   "metadata": {},
   "source": [
    "Base ortogonal de $V_3$\n",
    "$$\\left\\{(2,1,0),(-3,6,5),(-1,2,-3)\\right\\}\\,.$$"
   ]
  },
  {
   "cell_type": "code",
   "execution_count": 82,
   "metadata": {},
   "outputs": [
    {
     "data": {
      "text/html": [
       "<html>\\(\\displaystyle \\sqrt{5}\\)</html>"
      ],
      "text/latex": [
       "$\\displaystyle \\sqrt{5}$"
      ],
      "text/plain": [
       "sqrt(5)"
      ]
     },
     "metadata": {},
     "output_type": "display_data"
    },
    {
     "data": {
      "text/html": [
       "<html>\\(\\displaystyle \\sqrt{70}\\)</html>"
      ],
      "text/latex": [
       "$\\displaystyle \\sqrt{70}$"
      ],
      "text/plain": [
       "sqrt(70)"
      ]
     },
     "metadata": {},
     "output_type": "display_data"
    },
    {
     "data": {
      "text/html": [
       "<html>\\(\\displaystyle \\sqrt{14}\\)</html>"
      ],
      "text/latex": [
       "$\\displaystyle \\sqrt{14}$"
      ],
      "text/plain": [
       "sqrt(14)"
      ]
     },
     "metadata": {},
     "output_type": "display_data"
    }
   ],
   "source": [
    "show(v1.norm())\n",
    "show(v2.norm())\n",
    "show(v3.norm())"
   ]
  },
  {
   "cell_type": "markdown",
   "metadata": {},
   "source": [
    "Base ortonormal de $V_3$\n",
    "$$\\left\\{\\frac{1}{\\sqrt{5}}(2,1,0),\\frac{1}{\\sqrt{70}}(-3,6,5),\\frac{1}{\\sqrt{14}}(-1,2,-3)\\right\\}\\,.$$"
   ]
  },
  {
   "cell_type": "markdown",
   "metadata": {},
   "source": [
    "## Exercici 28\n",
    "Trobeu una base ortogonal i una base ortonormal del pla vectorial $P$ de $V_3$ d'equació implícita\n",
    "$$x-2y-z=0 \\,. $$"
   ]
  },
  {
   "cell_type": "markdown",
   "metadata": {},
   "source": [
    "Una base estarà formada per dues solucions linealment independents de l'equació $x-2y-z=0$."
   ]
  },
  {
   "cell_type": "code",
   "execution_count": 85,
   "metadata": {},
   "outputs": [],
   "source": [
    "u1 = vector([2,1,0])\n",
    "u2 = vector([1,0,1])"
   ]
  },
  {
   "cell_type": "markdown",
   "metadata": {},
   "source": [
    "Apliquem el mètode de Gram-Schmidt:"
   ]
  },
  {
   "cell_type": "code",
   "execution_count": 86,
   "metadata": {},
   "outputs": [
    {
     "data": {
      "text/html": [
       "<html>\\(\\displaystyle \\left(2,\\,1,\\,0\\right)\\)</html>"
      ],
      "text/latex": [
       "$\\displaystyle \\left(2,\\,1,\\,0\\right)$"
      ],
      "text/plain": [
       "(2, 1, 0)"
      ]
     },
     "metadata": {},
     "output_type": "display_data"
    }
   ],
   "source": [
    "v1 = u1\n",
    "show(v1)"
   ]
  },
  {
   "cell_type": "code",
   "execution_count": 87,
   "metadata": {},
   "outputs": [
    {
     "data": {
      "text/html": [
       "<html>\\(\\displaystyle \\left(1,\\,-2,\\,5\\right)\\)</html>"
      ],
      "text/latex": [
       "$\\displaystyle \\left(1,\\,-2,\\,5\\right)$"
      ],
      "text/plain": [
       "(1, -2, 5)"
      ]
     },
     "metadata": {},
     "output_type": "display_data"
    }
   ],
   "source": [
    "v2 = u2 - (u2*v1)/(v1*v1) * v1\n",
    "v2 = 5 * v2\n",
    "show(v2)"
   ]
  },
  {
   "cell_type": "markdown",
   "metadata": {},
   "source": [
    "Base ortogonal del pla vectorial $P$\n",
    "$$\\left\\{(2,1,0),(1,-2,5)\\right\\}\\,.$$"
   ]
  },
  {
   "cell_type": "code",
   "execution_count": 88,
   "metadata": {},
   "outputs": [
    {
     "data": {
      "text/html": [
       "<html>\\(\\displaystyle \\sqrt{5}\\)</html>"
      ],
      "text/latex": [
       "$\\displaystyle \\sqrt{5}$"
      ],
      "text/plain": [
       "sqrt(5)"
      ]
     },
     "metadata": {},
     "output_type": "display_data"
    },
    {
     "data": {
      "text/html": [
       "<html>\\(\\displaystyle \\sqrt{30}\\)</html>"
      ],
      "text/latex": [
       "$\\displaystyle \\sqrt{30}$"
      ],
      "text/plain": [
       "sqrt(30)"
      ]
     },
     "metadata": {},
     "output_type": "display_data"
    }
   ],
   "source": [
    "show(v1.norm())\n",
    "show(v2.norm())"
   ]
  },
  {
   "cell_type": "markdown",
   "metadata": {},
   "source": [
    "Base ortonormal del pla vectorial $P$\n",
    "$$\\left\\{\\frac{1}{\\sqrt{5}}(2,1,0),\\frac{1}{\\sqrt{30}}(1,-2,5)\\right\\}\\,.$$"
   ]
  },
  {
   "cell_type": "markdown",
   "metadata": {},
   "source": [
    "## Exercici 29\n",
    "Es considera el pla vectorial $P$ de $V_3$ generat pels vectors $(2,1,-1)$ i $(2,-1,1)$.\n",
    "Calculeu una base i unes equacions implícites minimals de la seva recta vectorial perpendicular."
   ]
  },
  {
   "cell_type": "markdown",
   "metadata": {},
   "source": [
    "Les equacions implícites de la recta vectorial perpendicular al pla $P$ són\n",
    "$$\n",
    "  \\left. \\begin{aligned} \n",
    "  2x+y-z&=0\\\\\n",
    "  2x-y+z&=0\n",
    "  \\end{aligned}\\right\\}\\,.\n",
    "$$\n",
    "ja que els vectors $(x,y,z)$ de la recta han de ser perpendiculars a $(2,1,-1)$ i a $(2,-1,1)$.\n",
    "\n",
    "Com que no són múltiple una de l'altra, són minimals (linealment independents)."
   ]
  },
  {
   "cell_type": "markdown",
   "metadata": {},
   "source": [
    "Per trobar una base o generador de la recta, hem de resoldre el sistema d'equacions. Ho podem der de dues maneres:"
   ]
  },
  {
   "cell_type": "code",
   "execution_count": 89,
   "metadata": {},
   "outputs": [
    {
     "data": {
      "text/html": [
       "<html>\\(\\displaystyle \\left[\\left[x = 0, y = r_{4}, z = r_{4}\\right]\\right]\\)</html>"
      ],
      "text/latex": [
       "$\\displaystyle \\left[\\left[x = 0, y = r_{4}, z = r_{4}\\right]\\right]$"
      ],
      "text/plain": [
       "[[x == 0, y == r4, z == r4]]"
      ]
     },
     "metadata": {},
     "output_type": "display_data"
    }
   ],
   "source": [
    "x, y, z = var('x y z')\n",
    "show(solve([2*x + y - z == 0,2*x - y + z==0],[x,y,z]))"
   ]
  },
  {
   "cell_type": "markdown",
   "metadata": {},
   "source": [
    "Per tant, una base de la recta és $\\{(0,1,1)\\}$."
   ]
  },
  {
   "cell_type": "markdown",
   "metadata": {},
   "source": [
    "## Exercici 30\n",
    "Determineu una base i unes equacions implícites minimals de la recta perpendicullar al pla $P$ de $V_3$ d'equació implícita\n",
    "$$\n",
    "  x-2y+z=0\\,.\n",
    "$$"
   ]
  },
  {
   "cell_type": "markdown",
   "metadata": {},
   "source": [
    "La recta perpendicular al pla és la generada pel vector $(1,-2,1)$, és a dir, aquest vector és una base de la recta."
   ]
  },
  {
   "cell_type": "markdown",
   "metadata": {},
   "source": [
    "Les equacions implícites d'aquesta recta, seran dues equacions linealment linealment independents que tinguin per solució el vector $(1,-2,1)$. És immediat que\n",
    "$$\n",
    "  \\left. \\begin{aligned} \n",
    "  2x+y&=0\\\\\n",
    "  x-z&=0\n",
    "  \\end{aligned}\\right\\}\\,.\n",
    "$$"
   ]
  },
  {
   "cell_type": "markdown",
   "metadata": {},
   "source": [
    "## Exercici 31\n",
    "Calculeu la projecció ortogonal i el simètric del vector $(1,-2,1)$ respecte del pla vectorial\n",
    "$$P=\\langle (1,0,-1),(0,1,1) \\rangle \\,. $$"
   ]
  },
  {
   "cell_type": "code",
   "execution_count": 94,
   "metadata": {},
   "outputs": [
    {
     "data": {
      "text/html": [
       "<html>\\(\\displaystyle -1\\)</html>"
      ],
      "text/latex": [
       "$\\displaystyle -1$"
      ],
      "text/plain": [
       "-1"
      ]
     },
     "metadata": {},
     "output_type": "display_data"
    }
   ],
   "source": [
    "t1, t2 = var('t1 t2')\n",
    "v1 = vector([1,0,-1])\n",
    "v2 = vector([0,1,1])\n",
    "show(v1*v2)"
   ]
  },
  {
   "cell_type": "markdown",
   "metadata": {},
   "source": [
    "Com que els vectors $\\vec u_1$ i $\\vec u_2$ no són perpendicilars, la projecció ortogonal de $\\vec u$ sobre el pla vectorial generat per $\\vec v_1$ i $\\vec v_2$ és\n",
    "$$\n",
    "   \\vec u'=t_1\\vec v_1 + t_2\\vec v_2\\,,\n",
    "$$\n",
    "on $t_1$ i $t_2$ són les solucions del sistema d'equacions\n",
    "$$\n",
    "  \\left.\\begin{aligned}\n",
    "  \\vec v_1\\cdot(t_1\\vec v_1+t_2\\vec v_2) &= \\vec v_1\\cdot\\vec u \\\\\n",
    "  \\vec v_2\\cdot(t_1\\vec v_1+t_2\\vec v_2) &= \\vec v_2\\cdot\\vec u\n",
    "  \\end{aligned}\\,\\right\\}\n",
    "  \\qquad\\text{o bé}\\qquad\n",
    "  \\left.\\begin{aligned}\n",
    "  \\vec v_1\\cdot\\vec u' &= \\vec v_1\\cdot\\vec u \\\\\n",
    "  \\vec v_2\\cdot\\vec u' &= \\vec v_2\\cdot\\vec u\n",
    "  \\end{aligned}\\,\\right\\}\n",
    "$$"
   ]
  },
  {
   "cell_type": "code",
   "execution_count": 95,
   "metadata": {},
   "outputs": [
    {
     "data": {
      "text/html": [
       "<html>\\(\\displaystyle \\left(t_{1},\\,t_{2},\\,-t_{1} + t_{2}\\right)\\)</html>"
      ],
      "text/latex": [
       "$\\displaystyle \\left(t_{1},\\,t_{2},\\,-t_{1} + t_{2}\\right)$"
      ],
      "text/plain": [
       "(t1, t2, -t1 + t2)"
      ]
     },
     "metadata": {},
     "output_type": "display_data"
    }
   ],
   "source": [
    "u = vector([1,-2,1])\n",
    "# Representem per u1 la projecció ortogonal del vector u sobre el pla \n",
    "u1 = t1*v1 + t2*v2\n",
    "show(u1)"
   ]
  },
  {
   "cell_type": "code",
   "execution_count": 96,
   "metadata": {},
   "outputs": [
    {
     "data": {
      "text/html": [
       "<html>\\(\\displaystyle \\left[2 \\, t_{1} - t_{2} = 0, -t_{1} + 2 \\, t_{2} = \\left(-1\\right)\\right]\\)</html>"
      ],
      "text/latex": [
       "$\\displaystyle \\left[2 \\, t_{1} - t_{2} = 0, -t_{1} + 2 \\, t_{2} = \\left(-1\\right)\\right]$"
      ],
      "text/plain": [
       "[2*t1 - t2 == 0, -t1 + 2*t2 == -1]"
      ]
     },
     "metadata": {},
     "output_type": "display_data"
    }
   ],
   "source": [
    "eqs = [v1*u1 == v1*u,v2*u1 == v2*u]\n",
    "show(eqs)"
   ]
  },
  {
   "cell_type": "code",
   "execution_count": 97,
   "metadata": {},
   "outputs": [
    {
     "data": {
      "text/html": [
       "<html>\\(\\displaystyle \\left[\\left[t_{1} = \\left(-\\frac{1}{3}\\right), t_{2} = \\left(-\\frac{2}{3}\\right)\\right]\\right]\\)</html>"
      ],
      "text/latex": [
       "$\\displaystyle \\left[\\left[t_{1} = \\left(-\\frac{1}{3}\\right), t_{2} = \\left(-\\frac{2}{3}\\right)\\right]\\right]$"
      ],
      "text/plain": [
       "[[t1 == (-1/3), t2 == (-2/3)]]"
      ]
     },
     "metadata": {},
     "output_type": "display_data"
    }
   ],
   "source": [
    "s = solve(eqs,[t1,t2])\n",
    "show(s)"
   ]
  },
  {
   "cell_type": "code",
   "execution_count": 98,
   "metadata": {},
   "outputs": [
    {
     "data": {
      "text/html": [
       "<html>\\(\\displaystyle \\left(-\\frac{1}{3},\\,-\\frac{2}{3},\\,-\\frac{1}{3}\\right)\\)</html>"
      ],
      "text/latex": [
       "$\\displaystyle \\left(-\\frac{1}{3},\\,-\\frac{2}{3},\\,-\\frac{1}{3}\\right)$"
      ],
      "text/plain": [
       "(-1/3, -2/3, -1/3)"
      ]
     },
     "metadata": {},
     "output_type": "display_data"
    }
   ],
   "source": [
    "u1 = u1.subs(t1=-1/3,t2=-2/3)\n",
    "show(u1)"
   ]
  },
  {
   "cell_type": "markdown",
   "metadata": {},
   "source": [
    "La projecció ortogonal sobre el pla és el vector $\\vec u'=\\dfrac{1}{3}(-1,-2,-1)$. "
   ]
  },
  {
   "cell_type": "code",
   "execution_count": 99,
   "metadata": {},
   "outputs": [
    {
     "data": {
      "text/html": [
       "<html>\\(\\displaystyle \\left(-\\frac{5}{3},\\,\\frac{2}{3},\\,-\\frac{5}{3}\\right)\\)</html>"
      ],
      "text/latex": [
       "$\\displaystyle \\left(-\\frac{5}{3},\\,\\frac{2}{3},\\,-\\frac{5}{3}\\right)$"
      ],
      "text/plain": [
       "(-5/3, 2/3, -5/3)"
      ]
     },
     "metadata": {},
     "output_type": "display_data"
    }
   ],
   "source": [
    "s = 2*u1 - u\n",
    "show(s)"
   ]
  },
  {
   "cell_type": "markdown",
   "metadata": {},
   "source": [
    "El simètric respecte al pla és el vector $\\vec u^*=\\dfrac{1}{3}(-5,2,-5)$. "
   ]
  },
  {
   "cell_type": "markdown",
   "metadata": {},
   "source": [
    "## Exercici 32\n",
    "Trobeu la projecció ortogonal i el simètric del vector $(3,1,-4)$\n",
    "respecte del pla vectorial $P$ generat pels vectors $(1,2,-2)$ i $(2,4,5)$."
   ]
  },
  {
   "cell_type": "markdown",
   "metadata": {},
   "source": [
    "Els vectors $\\vec v_1=(1,2,-2)$ i $\\vec v_2=(2,4,5)$ són perpendiculars:"
   ]
  },
  {
   "cell_type": "code",
   "execution_count": 100,
   "metadata": {},
   "outputs": [
    {
     "data": {
      "text/html": [
       "<html>\\(\\displaystyle 0\\)</html>"
      ],
      "text/latex": [
       "$\\displaystyle 0$"
      ],
      "text/plain": [
       "0"
      ]
     },
     "metadata": {},
     "output_type": "display_data"
    }
   ],
   "source": [
    "v1 = vector([1,2,-2])\n",
    "v2 = vector([2,4,5])\n",
    "show(v1*v2)"
   ]
  },
  {
   "cell_type": "markdown",
   "metadata": {},
   "source": [
    "Aleshores, podem aplicar la fórmula següent per calcular la projecció ortogonal\n",
    "$$\n",
    "  \\vec u'=\\frac{\\vec u\\cdot\\vec v_1}{\\vec v_1\\cdot\\vec v_1}\\vec v_1 + \\frac{\\vec u\\cdot\\vec v_2}{\\vec v_2\\cdot\\vec v_2}\\vec v_2\n",
    "$$"
   ]
  },
  {
   "cell_type": "code",
   "execution_count": 101,
   "metadata": {},
   "outputs": [
    {
     "data": {
      "text/html": [
       "<html>\\(\\displaystyle \\left(1,\\,2,\\,-4\\right)\\)</html>"
      ],
      "text/latex": [
       "$\\displaystyle \\left(1,\\,2,\\,-4\\right)$"
      ],
      "text/plain": [
       "(1, 2, -4)"
      ]
     },
     "metadata": {},
     "output_type": "display_data"
    }
   ],
   "source": [
    "u = vector([3,1,-4])\n",
    "u1 = (u*v1)/(v1*v1) * v1 + (u*v2)/(v2*v2) * v2\n",
    "show(u1)"
   ]
  },
  {
   "cell_type": "code",
   "execution_count": 102,
   "metadata": {},
   "outputs": [
    {
     "data": {
      "text/html": [
       "<html>\\(\\displaystyle \\left(-1,\\,3,\\,-4\\right)\\)</html>"
      ],
      "text/latex": [
       "$\\displaystyle \\left(-1,\\,3,\\,-4\\right)$"
      ],
      "text/plain": [
       "(-1, 3, -4)"
      ]
     },
     "metadata": {},
     "output_type": "display_data"
    }
   ],
   "source": [
    "s = 2*u1 - u\n",
    "show(s)"
   ]
  },
  {
   "cell_type": "markdown",
   "metadata": {},
   "source": [
    "La projecció ortogonal sobre el pla és el vector $\\vec u'=(1,2,-4)$.\n",
    "\n",
    "El simètric respecte el pla és el vector  $\\vec u^*=(-1,3,-4)$."
   ]
  },
  {
   "cell_type": "markdown",
   "metadata": {},
   "source": [
    "## Exercici 33\n",
    "Calculeu la projecció ortogonal i el simètric del vector $(3,2,7)$ respecte del pla vectorial $P$ d'equació implícita\n",
    "$$\n",
    "  2x-y+z=0 \\,.\n",
    "$$"
   ]
  },
  {
   "cell_type": "markdown",
   "metadata": {},
   "source": [
    "La recta perpencular al pla és la generada pel vector $(2,-1,1)$. Calculem en primer lloc la projecció ortogonal del vector $(3,2,7)$ sobre aquesta recta:"
   ]
  },
  {
   "cell_type": "code",
   "execution_count": 103,
   "metadata": {},
   "outputs": [
    {
     "data": {
      "text/html": [
       "<html>\\(\\displaystyle \\left(\\frac{11}{3},\\,-\\frac{11}{6},\\,\\frac{11}{6}\\right)\\)</html>"
      ],
      "text/latex": [
       "$\\displaystyle \\left(\\frac{11}{3},\\,-\\frac{11}{6},\\,\\frac{11}{6}\\right)$"
      ],
      "text/plain": [
       "(11/3, -11/6, 11/6)"
      ]
     },
     "metadata": {},
     "output_type": "display_data"
    }
   ],
   "source": [
    "w = vector([2,-1,1])\n",
    "u = vector([3,2,7])\n",
    "u2 = (u*w)/(w*w) * w\n",
    "show(u2)"
   ]
  },
  {
   "cell_type": "markdown",
   "metadata": {},
   "source": [
    "Aleshores, la projecció ortogonal i el simètric del vector $\\vec u=(3,2,7)$ respecte al pla $P$ seran:"
   ]
  },
  {
   "cell_type": "code",
   "execution_count": 104,
   "metadata": {},
   "outputs": [
    {
     "data": {
      "text/html": [
       "<html>\\(\\displaystyle \\left(-\\frac{2}{3},\\,\\frac{23}{6},\\,\\frac{31}{6}\\right)\\)</html>"
      ],
      "text/latex": [
       "$\\displaystyle \\left(-\\frac{2}{3},\\,\\frac{23}{6},\\,\\frac{31}{6}\\right)$"
      ],
      "text/plain": [
       "(-2/3, 23/6, 31/6)"
      ]
     },
     "metadata": {},
     "output_type": "display_data"
    }
   ],
   "source": [
    "u1 = u - u2\n",
    "show(u1)"
   ]
  },
  {
   "cell_type": "markdown",
   "metadata": {},
   "source": [
    "I el simètric de $\\vec u$ respecte al pla vectorial $P$"
   ]
  },
  {
   "cell_type": "code",
   "execution_count": 105,
   "metadata": {},
   "outputs": [
    {
     "data": {
      "text/html": [
       "<html>\\(\\displaystyle \\left(-\\frac{13}{3},\\,\\frac{17}{3},\\,\\frac{10}{3}\\right)\\)</html>"
      ],
      "text/latex": [
       "$\\displaystyle \\left(-\\frac{13}{3},\\,\\frac{17}{3},\\,\\frac{10}{3}\\right)$"
      ],
      "text/plain": [
       "(-13/3, 17/3, 10/3)"
      ]
     },
     "metadata": {},
     "output_type": "display_data"
    }
   ],
   "source": [
    "s = 2*u1 - u \n",
    "show(s)"
   ]
  },
  {
   "cell_type": "markdown",
   "metadata": {},
   "source": [
    "Així doncs, $\\vec u'=\\dfrac{1}{6}(-4,23,31)$ i $\\vec u^*=\\dfrac{1}{3}(-13,17,10)$."
   ]
  },
  {
   "cell_type": "markdown",
   "metadata": {},
   "source": [
    "## Exercici 34\n",
    "Calculeu la projecció ortogonal i el simètric del vector $(2,-2,3)$ respecte a la recta vectorial generada pel vector $(1,-1,1)$."
   ]
  },
  {
   "cell_type": "markdown",
   "metadata": {},
   "source": [
    "Recordem que la projecció ortogonal i el simètric d'un vector $\\vec u$ sobre o respecte la recta vectorial $R=\\langle \\vec v\\rangle$ són\n",
    "$$\n",
    "  \\vec u'  = \\frac{\\vec u\\cdot\\vec v}{\\vec v\\cdot\\vec v}\\vec v\\qquad\\text{i}\\qquad\n",
    "  \\vec u^* = 2\\vec u' - \\vec u\\,.\n",
    "$$\n",
    "En el nostre cas:"
   ]
  },
  {
   "cell_type": "code",
   "execution_count": 106,
   "metadata": {},
   "outputs": [],
   "source": [
    "u = vector([2,-2,3])\n",
    "v = vector([1,-1,1])\n",
    "u1 = (u*v)/(v*v) * v\n",
    "s = 2*u1 - u"
   ]
  },
  {
   "cell_type": "code",
   "execution_count": 107,
   "metadata": {},
   "outputs": [
    {
     "data": {
      "text/html": [
       "<html>\\(\\displaystyle \\left(\\frac{7}{3},\\,-\\frac{7}{3},\\,\\frac{7}{3}\\right)\\)</html>"
      ],
      "text/latex": [
       "$\\displaystyle \\left(\\frac{7}{3},\\,-\\frac{7}{3},\\,\\frac{7}{3}\\right)$"
      ],
      "text/plain": [
       "(7/3, -7/3, 7/3)"
      ]
     },
     "metadata": {},
     "output_type": "display_data"
    }
   ],
   "source": [
    "show(u1)"
   ]
  },
  {
   "cell_type": "code",
   "execution_count": 108,
   "metadata": {
    "scrolled": true
   },
   "outputs": [
    {
     "data": {
      "text/html": [
       "<html>\\(\\displaystyle \\left(\\frac{8}{3},\\,-\\frac{8}{3},\\,\\frac{5}{3}\\right)\\)</html>"
      ],
      "text/latex": [
       "$\\displaystyle \\left(\\frac{8}{3},\\,-\\frac{8}{3},\\,\\frac{5}{3}\\right)$"
      ],
      "text/plain": [
       "(8/3, -8/3, 5/3)"
      ]
     },
     "metadata": {},
     "output_type": "display_data"
    }
   ],
   "source": [
    "show(s)"
   ]
  },
  {
   "cell_type": "markdown",
   "metadata": {},
   "source": [
    "És a dir, $\\vec u'=\\dfrac{1}{3}(7,-7,7)$ i $\\vec u^*=\\dfrac{1}{3}(8,-8,5)$."
   ]
  },
  {
   "cell_type": "markdown",
   "metadata": {},
   "source": [
    "## Exercici 35\n",
    "Trobeu la projecció ortogonal i el simètric del vector $\\vec u=(-4,7,6)$ respecte a la recta vectorial $R$ d'equacions implícites\n",
    "$$\n",
    "  \\left.\\begin{aligned}\n",
    "   x + 2 y - 3 z &= 0 \\\\\n",
    "   2 x - y + 2 z &= 0 \n",
    "  \\end{aligned}\\;\\right\\}\\,.\n",
    "$$"
   ]
  },
  {
   "cell_type": "markdown",
   "metadata": {},
   "source": [
    "El primer que hem de fer és trobar un generador de la recta vectorial $R$, resolent el sistema d'equacions implícites."
   ]
  },
  {
   "cell_type": "code",
   "execution_count": 109,
   "metadata": {},
   "outputs": [
    {
     "data": {
      "text/html": [
       "<html>\\(\\displaystyle \\left[\\left[x = -\\frac{1}{5} \\, r_{5}, y = \\frac{8}{5} \\, r_{5}, z = r_{5}\\right]\\right]\\)</html>"
      ],
      "text/latex": [
       "$\\displaystyle \\left[\\left[x = -\\frac{1}{5} \\, r_{5}, y = \\frac{8}{5} \\, r_{5}, z = r_{5}\\right]\\right]$"
      ],
      "text/plain": [
       "[[x == -1/5*r5, y == 8/5*r5, z == r5]]"
      ]
     },
     "metadata": {},
     "output_type": "display_data"
    }
   ],
   "source": [
    "x, y, z = var('x y z')\n",
    "show(solve([x + 2*y - 3*z == 0,2*x - y + 2*z == 0],[x,y,z]))"
   ]
  },
  {
   "cell_type": "markdown",
   "metadata": {},
   "source": [
    "La recta $R$ està generada pel vector $(-1,8,5)$. I ara procedim com a l'exercici anterior"
   ]
  },
  {
   "cell_type": "code",
   "execution_count": 110,
   "metadata": {},
   "outputs": [],
   "source": [
    "u = vector([-4,7,6])\n",
    "v = vector([-1,8,5])\n",
    "u1 = (u*v)/(v*v) * v\n",
    "s = 2*u1 - u"
   ]
  },
  {
   "cell_type": "code",
   "execution_count": 111,
   "metadata": {},
   "outputs": [
    {
     "data": {
      "text/html": [
       "<html>\\(\\displaystyle \\left(-1,\\,8,\\,5\\right)\\)</html>"
      ],
      "text/latex": [
       "$\\displaystyle \\left(-1,\\,8,\\,5\\right)$"
      ],
      "text/plain": [
       "(-1, 8, 5)"
      ]
     },
     "metadata": {},
     "output_type": "display_data"
    }
   ],
   "source": [
    "show(u1)"
   ]
  },
  {
   "cell_type": "code",
   "execution_count": 112,
   "metadata": {
    "scrolled": true
   },
   "outputs": [
    {
     "data": {
      "text/html": [
       "<html>\\(\\displaystyle \\left(2,\\,9,\\,4\\right)\\)</html>"
      ],
      "text/latex": [
       "$\\displaystyle \\left(2,\\,9,\\,4\\right)$"
      ],
      "text/plain": [
       "(2, 9, 4)"
      ]
     },
     "metadata": {},
     "output_type": "display_data"
    }
   ],
   "source": [
    "show(s)"
   ]
  },
  {
   "cell_type": "markdown",
   "metadata": {},
   "source": [
    "És a dir, $\\vec u'=(-1,8,5)$ i $\\vec u^*=(2,9,4)$."
   ]
  },
  {
   "cell_type": "markdown",
   "metadata": {},
   "source": [
    "## Exercici 36\n",
    "Digueu quines de les bases de $V_3$ següents són ortogonals i quines ortonormals:\n",
    "1. $\\{(-1,2,3),(1,0,-3),(2,1,-4)\\}$;\n",
    "1. $\\{\\tfrac17(2,3,6),\\tfrac17(-6,-2,3),\\tfrac17(3,-6,2)\\}$;\n",
    "1. $\\{(5,2,4),(0,-2,1),(-2,1,2)\\}$."
   ]
  },
  {
   "cell_type": "markdown",
   "metadata": {},
   "source": [
    "Calculem la matriu de Gram d'aquests tres bases:"
   ]
  },
  {
   "cell_type": "code",
   "execution_count": 113,
   "metadata": {},
   "outputs": [
    {
     "data": {
      "text/html": [
       "<html>\\(\\displaystyle \\left(\\begin{array}{rrr}\n",
       "-1 & 1 & 2 \\\\\n",
       "2 & 0 & 1 \\\\\n",
       "3 & -3 & -4\n",
       "\\end{array}\\right)\\)</html>"
      ],
      "text/latex": [
       "$\\displaystyle \\left(\\begin{array}{rrr}\n",
       "-1 & 1 & 2 \\\\\n",
       "2 & 0 & 1 \\\\\n",
       "3 & -3 & -4\n",
       "\\end{array}\\right)$"
      ],
      "text/plain": [
       "[-1  1  2]\n",
       "[ 2  0  1]\n",
       "[ 3 -3 -4]"
      ]
     },
     "metadata": {},
     "output_type": "display_data"
    }
   ],
   "source": [
    "C = matrix([vector([-1,2,3]),vector([1,0,-3]),vector([2,1,-4])]).T\n",
    "show(C)"
   ]
  },
  {
   "cell_type": "code",
   "execution_count": 114,
   "metadata": {},
   "outputs": [
    {
     "data": {
      "text/html": [
       "<html>\\(\\displaystyle \\left(\\begin{array}{rrr}\n",
       "14 & -10 & -12 \\\\\n",
       "-10 & 10 & 14 \\\\\n",
       "-12 & 14 & 21\n",
       "\\end{array}\\right)\\)</html>"
      ],
      "text/latex": [
       "$\\displaystyle \\left(\\begin{array}{rrr}\n",
       "14 & -10 & -12 \\\\\n",
       "-10 & 10 & 14 \\\\\n",
       "-12 & 14 & 21\n",
       "\\end{array}\\right)$"
      ],
      "text/plain": [
       "[ 14 -10 -12]\n",
       "[-10  10  14]\n",
       "[-12  14  21]"
      ]
     },
     "metadata": {},
     "output_type": "display_data"
    }
   ],
   "source": [
    "show(C.T * C)"
   ]
  },
  {
   "cell_type": "markdown",
   "metadata": {},
   "source": [
    "La base no és ortogonal ni ortonormal."
   ]
  },
  {
   "cell_type": "code",
   "execution_count": 115,
   "metadata": {},
   "outputs": [
    {
     "data": {
      "text/html": [
       "<html>\\(\\displaystyle \\left(\\begin{array}{rrr}\n",
       "\\frac{2}{7} & -\\frac{6}{7} & \\frac{3}{7} \\\\\n",
       "\\frac{3}{7} & -\\frac{2}{7} & -\\frac{6}{7} \\\\\n",
       "\\frac{6}{7} & \\frac{3}{7} & \\frac{2}{7}\n",
       "\\end{array}\\right)\\)</html>"
      ],
      "text/latex": [
       "$\\displaystyle \\left(\\begin{array}{rrr}\n",
       "\\frac{2}{7} & -\\frac{6}{7} & \\frac{3}{7} \\\\\n",
       "\\frac{3}{7} & -\\frac{2}{7} & -\\frac{6}{7} \\\\\n",
       "\\frac{6}{7} & \\frac{3}{7} & \\frac{2}{7}\n",
       "\\end{array}\\right)$"
      ],
      "text/plain": [
       "[ 2/7 -6/7  3/7]\n",
       "[ 3/7 -2/7 -6/7]\n",
       "[ 6/7  3/7  2/7]"
      ]
     },
     "metadata": {},
     "output_type": "display_data"
    }
   ],
   "source": [
    "C = matrix([1/7*vector([2,3,6]),1/7*vector([-6,-2,3]),1/7*vector([3,-6,2])]).T\n",
    "show(C)"
   ]
  },
  {
   "cell_type": "code",
   "execution_count": 116,
   "metadata": {},
   "outputs": [
    {
     "data": {
      "text/html": [
       "<html>\\(\\displaystyle \\left(\\begin{array}{rrr}\n",
       "1 & 0 & 0 \\\\\n",
       "0 & 1 & 0 \\\\\n",
       "0 & 0 & 1\n",
       "\\end{array}\\right)\\)</html>"
      ],
      "text/latex": [
       "$\\displaystyle \\left(\\begin{array}{rrr}\n",
       "1 & 0 & 0 \\\\\n",
       "0 & 1 & 0 \\\\\n",
       "0 & 0 & 1\n",
       "\\end{array}\\right)$"
      ],
      "text/plain": [
       "[1 0 0]\n",
       "[0 1 0]\n",
       "[0 0 1]"
      ]
     },
     "metadata": {},
     "output_type": "display_data"
    }
   ],
   "source": [
    "show(C.T * C)"
   ]
  },
  {
   "cell_type": "markdown",
   "metadata": {},
   "source": [
    "La base és ortonormal i, per tant, també ortogonal."
   ]
  },
  {
   "cell_type": "code",
   "execution_count": 117,
   "metadata": {},
   "outputs": [
    {
     "data": {
      "text/html": [
       "<html>\\(\\displaystyle \\left(\\begin{array}{rrr}\n",
       "5 & 0 & -2 \\\\\n",
       "2 & -2 & 1 \\\\\n",
       "4 & 1 & 2\n",
       "\\end{array}\\right)\\)</html>"
      ],
      "text/latex": [
       "$\\displaystyle \\left(\\begin{array}{rrr}\n",
       "5 & 0 & -2 \\\\\n",
       "2 & -2 & 1 \\\\\n",
       "4 & 1 & 2\n",
       "\\end{array}\\right)$"
      ],
      "text/plain": [
       "[ 5  0 -2]\n",
       "[ 2 -2  1]\n",
       "[ 4  1  2]"
      ]
     },
     "metadata": {},
     "output_type": "display_data"
    }
   ],
   "source": [
    "C = matrix([vector([5,2,4]),vector([0,-2,1]),vector([-2,1,2])]).T\n",
    "show(C)"
   ]
  },
  {
   "cell_type": "code",
   "execution_count": 118,
   "metadata": {},
   "outputs": [
    {
     "data": {
      "text/html": [
       "<html>\\(\\displaystyle \\left(\\begin{array}{rrr}\n",
       "45 & 0 & 0 \\\\\n",
       "0 & 5 & 0 \\\\\n",
       "0 & 0 & 9\n",
       "\\end{array}\\right)\\)</html>"
      ],
      "text/latex": [
       "$\\displaystyle \\left(\\begin{array}{rrr}\n",
       "45 & 0 & 0 \\\\\n",
       "0 & 5 & 0 \\\\\n",
       "0 & 0 & 9\n",
       "\\end{array}\\right)$"
      ],
      "text/plain": [
       "[45  0  0]\n",
       "[ 0  5  0]\n",
       "[ 0  0  9]"
      ]
     },
     "metadata": {},
     "output_type": "display_data"
    }
   ],
   "source": [
    "show(C.T * C)"
   ]
  },
  {
   "cell_type": "markdown",
   "metadata": {},
   "source": [
    "La base és ortogonal, però no ortonormal."
   ]
  },
  {
   "cell_type": "markdown",
   "metadata": {},
   "source": [
    "## Exercici 37\n",
    "Calculeu les components del vector $(-1,3,1)$ en la base\n",
    "$$\\mathcal{B}'=\\left\\{ \\frac13(2,2,-1),\\frac13(2,-1,2),\\frac13(-1,2,2) \\right\\} \\,. $$"
   ]
  },
  {
   "cell_type": "markdown",
   "metadata": {},
   "source": [
    "Calculem, en primer lloc, les components pel mètode de resoldre el sistema d'equacions\n",
    "$$\n",
    "  (-1,3,1) = \\frac{x'}{3}(2,2,-1) + \\frac{y'}{3}(2,-1,2) + \\frac{z'}{3}(-1,2,2)\n",
    "$$"
   ]
  },
  {
   "cell_type": "code",
   "execution_count": 119,
   "metadata": {},
   "outputs": [],
   "source": [
    "u1 = 1/3*vector([2,2,-1])\n",
    "u2 = 1/3*vector([2,-1,2])\n",
    "u3 = 1/3*vector([-1,2,2])\n",
    "u = vector([-1,3,1])"
   ]
  },
  {
   "cell_type": "code",
   "execution_count": 120,
   "metadata": {},
   "outputs": [
    {
     "data": {
      "text/html": [
       "<html>\\(\\displaystyle \\left(\\frac{2}{3} \\, x_{1} + \\frac{2}{3} \\, y_{1} - \\frac{1}{3} \\, z_{1},\\,\\frac{2}{3} \\, x_{1} - \\frac{1}{3} \\, y_{1} + \\frac{2}{3} \\, z_{1},\\,-\\frac{1}{3} \\, x_{1} + \\frac{2}{3} \\, y_{1} + \\frac{2}{3} \\, z_{1}\\right)\\)</html>"
      ],
      "text/latex": [
       "$\\displaystyle \\left(\\frac{2}{3} \\, x_{1} + \\frac{2}{3} \\, y_{1} - \\frac{1}{3} \\, z_{1},\\,\\frac{2}{3} \\, x_{1} - \\frac{1}{3} \\, y_{1} + \\frac{2}{3} \\, z_{1},\\,-\\frac{1}{3} \\, x_{1} + \\frac{2}{3} \\, y_{1} + \\frac{2}{3} \\, z_{1}\\right)$"
      ],
      "text/plain": [
       "(2/3*x1 + 2/3*y1 - 1/3*z1, 2/3*x1 - 1/3*y1 + 2/3*z1, -1/3*x1 + 2/3*y1 + 2/3*z1)"
      ]
     },
     "metadata": {},
     "output_type": "display_data"
    }
   ],
   "source": [
    "x1, y1, z1 = var('x1 y1 z1')\n",
    "cl = x1*u1 + y1*u2 + z1*u3\n",
    "show(cl)"
   ]
  },
  {
   "cell_type": "code",
   "execution_count": 121,
   "metadata": {},
   "outputs": [
    {
     "data": {
      "text/html": [
       "<html>\\(\\displaystyle \\left[\\left[x_{1} = 1, y_{1} = \\left(-1\\right), z_{1} = 3\\right]\\right]\\)</html>"
      ],
      "text/latex": [
       "$\\displaystyle \\left[\\left[x_{1} = 1, y_{1} = \\left(-1\\right), z_{1} = 3\\right]\\right]$"
      ],
      "text/plain": [
       "[[x1 == 1, y1 == -1, z1 == 3]]"
      ]
     },
     "metadata": {},
     "output_type": "display_data"
    }
   ],
   "source": [
    "eqs = [cl[0] == u[0],cl[1] == u[1],cl[2] == u[2]]\n",
    "show(solve(eqs,[x1,y1,z1]))"
   ]
  },
  {
   "cell_type": "markdown",
   "metadata": {},
   "source": [
    "En aquest cas $\\vec u=(-1,3,1)=(1,-1,3)_{\\mathcal{B}'}$."
   ]
  },
  {
   "cell_type": "markdown",
   "metadata": {},
   "source": [
    "Com que la base $\\mathcal{B}'$ és ortonormal, podem calcular aquestes components d'una altra manera"
   ]
  },
  {
   "cell_type": "code",
   "execution_count": 123,
   "metadata": {},
   "outputs": [
    {
     "data": {
      "text/html": [
       "<html>\\(\\displaystyle 1\\)</html>"
      ],
      "text/latex": [
       "$\\displaystyle 1$"
      ],
      "text/plain": [
       "1"
      ]
     },
     "metadata": {},
     "output_type": "display_data"
    },
    {
     "data": {
      "text/html": [
       "<html>\\(\\displaystyle -1\\)</html>"
      ],
      "text/latex": [
       "$\\displaystyle -1$"
      ],
      "text/plain": [
       "-1"
      ]
     },
     "metadata": {},
     "output_type": "display_data"
    },
    {
     "data": {
      "text/html": [
       "<html>\\(\\displaystyle 3\\)</html>"
      ],
      "text/latex": [
       "$\\displaystyle 3$"
      ],
      "text/plain": [
       "3"
      ]
     },
     "metadata": {},
     "output_type": "display_data"
    }
   ],
   "source": [
    "u1 = 1/3*vector([2,2,-1])\n",
    "u2 = 1/3*vector([2,-1,2])\n",
    "u3 = 1/3*vector([-1,2,2])\n",
    "show(u*u1)\n",
    "show(u*u2)\n",
    "show(u*u3)"
   ]
  },
  {
   "cell_type": "markdown",
   "metadata": {},
   "source": [
    "Evidentment, tornem a obtenir que les components del vector $(-1,3,1)$ en la base $\\mathcal{B}'$ són $(1,-1,3)$."
   ]
  },
  {
   "cell_type": "markdown",
   "metadata": {},
   "source": [
    "## Exercici 38\n",
    "Donada la base \n",
    "$$\n",
    "  \\mathcal{B'}=\\left\\{\\frac{1}{5}(4,3),\\frac{1}{5}(-3,4)\\right\\}\\,,\n",
    "$$\n",
    "representeu els eixos de coordenades corresponent, el vector $\\vec u=(0,7)$ i calculeu les components de $\\vec u$ en la base $\\mathcal{B'}$."
   ]
  },
  {
   "cell_type": "code",
   "execution_count": 124,
   "metadata": {},
   "outputs": [
    {
     "data": {
      "image/svg+xml": [
       "<svg xmlns=\"http://www.w3.org/2000/svg\" xmlns:xlink=\"http://www.w3.org/1999/xlink\" version=\"1.1\" width=\"454.251969pt\" height=\"454.251968pt\" viewBox=\"283.535433 280.984252 454.251969 454.251968\">\n",
       "<defs>\n",
       "<path id=\"g0-0\" d=\"M7.878456-2.749689C8.081694-2.749689 8.296887-2.749689 8.296887-2.988792S8.081694-3.227895 7.878456-3.227895H1.41071C1.207472-3.227895 .992279-3.227895 .992279-2.988792S1.207472-2.749689 1.41071-2.749689H7.878456Z\"/>\n",
       "<path id=\"g1-49\" d=\"M3.443088-7.663263C3.443088-7.938232 3.443088-7.950187 3.203985-7.950187C2.917061-7.627397 2.319303-7.185056 1.08792-7.185056V-6.838356C1.362889-6.838356 1.960648-6.838356 2.618182-7.149191V-.920548C2.618182-.490162 2.582316-.3467 1.530262-.3467H1.159651V0C1.482441-.02391 2.642092-.02391 3.036613-.02391S4.578829-.02391 4.901619 0V-.3467H4.531009C3.478954-.3467 3.443088-.490162 3.443088-.920548V-7.663263Z\"/>\n",
       "<path id=\"g1-50\" d=\"M5.260274-2.008468H4.99726C4.961395-1.80523 4.865753-1.147696 4.746202-.956413C4.662516-.848817 3.981071-.848817 3.622416-.848817H1.41071C1.733499-1.123786 2.462765-1.888917 2.773599-2.175841C4.590785-3.849564 5.260274-4.471233 5.260274-5.654795C5.260274-7.029639 4.172354-7.950187 2.785554-7.950187S.585803-6.766625 .585803-5.738481C.585803-5.128767 1.111831-5.128767 1.147696-5.128767C1.398755-5.128767 1.709589-5.308095 1.709589-5.69066C1.709589-6.025405 1.482441-6.252553 1.147696-6.252553C1.0401-6.252553 1.016189-6.252553 .980324-6.240598C1.207472-7.053549 1.853051-7.603487 2.630137-7.603487C3.646326-7.603487 4.267995-6.75467 4.267995-5.654795C4.267995-4.638605 3.682192-3.753923 3.000747-2.988792L.585803-.286924V0H4.94944L5.260274-2.008468Z\"/>\n",
       "<path id=\"g1-51\" d=\"M2.199751-4.291905C1.996513-4.27995 1.948692-4.267995 1.948692-4.160399C1.948692-4.040847 2.008468-4.040847 2.223661-4.040847H2.773599C3.789788-4.040847 4.244085-3.203985 4.244085-2.056289C4.244085-.490162 3.431133-.071731 2.84533-.071731C2.271482-.071731 1.291158-.3467 .944458-1.135741C1.327024-1.075965 1.673724-1.291158 1.673724-1.721544C1.673724-2.068244 1.422665-2.307347 1.08792-2.307347C.800996-2.307347 .490162-2.139975 .490162-1.685679C.490162-.621669 1.554172 .251059 2.881196 .251059C4.303861 .251059 5.355915-.836862 5.355915-2.044334C5.355915-3.144209 4.471233-4.004981 3.323537-4.208219C4.363636-4.507098 5.033126-5.379826 5.033126-6.312329C5.033126-7.256787 4.052802-7.950187 2.893151-7.950187C1.697634-7.950187 .812951-7.220922 .812951-6.348194C.812951-5.869988 1.183562-5.774346 1.362889-5.774346C1.613948-5.774346 1.900872-5.953674 1.900872-6.312329C1.900872-6.694894 1.613948-6.862267 1.350934-6.862267C1.279203-6.862267 1.255293-6.862267 1.219427-6.850311C1.673724-7.663263 2.797509-7.663263 2.857285-7.663263C3.251806-7.663263 4.028892-7.483935 4.028892-6.312329C4.028892-6.085181 3.993026-5.415691 3.646326-4.901619C3.287671-4.375592 2.881196-4.339726 2.558406-4.327771L2.199751-4.291905Z\"/>\n",
       "<path id=\"g1-52\" d=\"M4.315816-7.782814C4.315816-8.009963 4.315816-8.069738 4.148443-8.069738C4.052802-8.069738 4.016936-8.069738 3.921295-7.926276L.32279-2.343213V-1.996513H3.466999V-.908593C3.466999-.466252 3.443088-.3467 2.570361-.3467H2.331258V0C2.606227-.02391 3.550685-.02391 3.88543-.02391S5.176588-.02391 5.451557 0V-.3467H5.212453C4.351681-.3467 4.315816-.466252 4.315816-.908593V-1.996513H5.523288V-2.343213H4.315816V-7.782814ZM3.526775-6.850311V-2.343213H.621669L3.526775-6.850311Z\"/>\n",
       "<path id=\"g1-53\" d=\"M1.530262-6.850311C2.044334-6.682939 2.462765-6.670984 2.594271-6.670984C3.945205-6.670984 4.805978-7.663263 4.805978-7.830635C4.805978-7.878456 4.782067-7.938232 4.710336-7.938232C4.686426-7.938232 4.662516-7.938232 4.554919-7.890411C3.88543-7.603487 3.311582-7.567621 3.000747-7.567621C2.211706-7.567621 1.649813-7.806725 1.422665-7.902366C1.338979-7.938232 1.315068-7.938232 1.303113-7.938232C1.207472-7.938232 1.207472-7.866501 1.207472-7.675218V-4.124533C1.207472-3.90934 1.207472-3.837609 1.350934-3.837609C1.41071-3.837609 1.422665-3.849564 1.542217-3.993026C1.876961-4.483188 2.438854-4.770112 3.036613-4.770112C3.670237-4.770112 3.981071-4.184309 4.076712-3.981071C4.27995-3.514819 4.291905-2.929016 4.291905-2.47472S4.291905-1.338979 3.957161-.800996C3.694147-.37061 3.227895-.071731 2.701868-.071731C1.912827-.071731 1.135741-.609714 .920548-1.482441C.980324-1.458531 1.052055-1.446575 1.111831-1.446575C1.315068-1.446575 1.637858-1.566127 1.637858-1.972603C1.637858-2.307347 1.41071-2.49863 1.111831-2.49863C.896638-2.49863 .585803-2.391034 .585803-1.924782C.585803-.908593 1.398755 .251059 2.725778 .251059C4.076712 .251059 5.260274-.884682 5.260274-2.402989C5.260274-3.825654 4.303861-5.009215 3.048568-5.009215C2.367123-5.009215 1.841096-4.710336 1.530262-4.375592V-6.850311Z\"/>\n",
       "<path id=\"g1-54\" d=\"M1.470486-4.160399C1.470486-7.185056 2.940971-7.663263 3.58655-7.663263C4.016936-7.663263 4.447323-7.531756 4.674471-7.173101C4.531009-7.173101 4.076712-7.173101 4.076712-6.682939C4.076712-6.419925 4.25604-6.192777 4.566874-6.192777C4.865753-6.192777 5.068991-6.372105 5.068991-6.718804C5.068991-7.340473 4.614695-7.950187 3.574595-7.950187C2.068244-7.950187 .490162-6.40797 .490162-3.777833C.490162-.490162 1.924782 .251059 2.940971 .251059C4.244085 .251059 5.355915-.884682 5.355915-2.438854C5.355915-4.028892 4.244085-5.092902 3.048568-5.092902C1.984558-5.092902 1.590037-4.172354 1.470486-3.837609V-4.160399ZM2.940971-.071731C2.187796-.071731 1.829141-.74122 1.721544-.992279C1.613948-1.303113 1.494396-1.888917 1.494396-2.725778C1.494396-3.670237 1.924782-4.853798 3.000747-4.853798C3.658281-4.853798 4.004981-4.411457 4.184309-4.004981C4.375592-3.56264 4.375592-2.964882 4.375592-2.450809C4.375592-1.841096 4.375592-1.303113 4.148443-.848817C3.849564-.274969 3.419178-.071731 2.940971-.071731Z\"/>\n",
       "<path id=\"g1-55\" d=\"M5.678705-7.424159V-7.699128H2.797509C1.350934-7.699128 1.327024-7.854545 1.279203-8.081694H1.016189L.645579-5.69066H.908593C.944458-5.905853 1.052055-6.647073 1.207472-6.77858C1.303113-6.850311 2.199751-6.850311 2.367123-6.850311H4.901619L3.634371-5.033126C3.311582-4.566874 2.10411-2.606227 2.10411-.358655C2.10411-.227148 2.10411 .251059 2.594271 .251059C3.096389 .251059 3.096389-.215193 3.096389-.37061V-.968369C3.096389-2.749689 3.383313-4.136488 3.945205-4.937484L5.678705-7.424159Z\"/>\n",
       "</defs>\n",
       "<g id=\"page1\">\n",
       "<g transform=\"translate(283.535 280.984)scale(.996264)\">\n",
       "<path d=\"M.355659 455.6V.355659\" fill=\"none\" stroke=\"#cccccc\" stroke-linecap=\"round\" stroke-linejoin=\"round\" stroke-miterlimit=\"10.0375\" stroke-width=\"0.426791\"/>\n",
       "</g>\n",
       "<g transform=\"translate(283.535 280.984)scale(.996264)\">\n",
       "<path d=\"M7.46885 455.6V.355659\" fill=\"none\" stroke=\"#cccccc\" stroke-dasharray=\"0,0.682354\" stroke-linecap=\"round\" stroke-linejoin=\"round\" stroke-miterlimit=\"10.0375\" stroke-width=\"0.170717\"/>\n",
       "</g>\n",
       "<g transform=\"translate(283.535 280.984)scale(.996264)\">\n",
       "<path d=\"M14.582 455.6V.355659\" fill=\"none\" stroke=\"#cccccc\" stroke-dasharray=\"0,0.682354\" stroke-linecap=\"round\" stroke-linejoin=\"round\" stroke-miterlimit=\"10.0375\" stroke-width=\"0.170717\"/>\n",
       "</g>\n",
       "<g transform=\"translate(283.535 280.984)scale(.996264)\">\n",
       "<path d=\"M21.6952 455.6V.355659\" fill=\"none\" stroke=\"#cccccc\" stroke-dasharray=\"0,0.682354\" stroke-linecap=\"round\" stroke-linejoin=\"round\" stroke-miterlimit=\"10.0375\" stroke-width=\"0.170717\"/>\n",
       "</g>\n",
       "<g transform=\"translate(283.535 280.984)scale(.996264)\">\n",
       "<path d=\"M28.8084 455.6V.355659\" fill=\"none\" stroke=\"#cccccc\" stroke-linecap=\"round\" stroke-linejoin=\"round\" stroke-miterlimit=\"10.0375\" stroke-width=\"0.426791\"/>\n",
       "</g>\n",
       "<g transform=\"translate(283.535 280.984)scale(.996264)\">\n",
       "<path d=\"M35.9216 455.6V.355659\" fill=\"none\" stroke=\"#cccccc\" stroke-dasharray=\"0,0.682354\" stroke-linecap=\"round\" stroke-linejoin=\"round\" stroke-miterlimit=\"10.0375\" stroke-width=\"0.170717\"/>\n",
       "</g>\n",
       "<g transform=\"translate(283.535 280.984)scale(.996264)\">\n",
       "<path d=\"M43.0348 455.6V.355659\" fill=\"none\" stroke=\"#cccccc\" stroke-dasharray=\"0,0.682354\" stroke-linecap=\"round\" stroke-linejoin=\"round\" stroke-miterlimit=\"10.0375\" stroke-width=\"0.170717\"/>\n",
       "</g>\n",
       "<g transform=\"translate(283.535 280.984)scale(.996264)\">\n",
       "<path d=\"M50.148 455.6V.355659\" fill=\"none\" stroke=\"#cccccc\" stroke-dasharray=\"0,0.682354\" stroke-linecap=\"round\" stroke-linejoin=\"round\" stroke-miterlimit=\"10.0375\" stroke-width=\"0.170717\"/>\n",
       "</g>\n",
       "<g transform=\"translate(283.535 280.984)scale(.996264)\">\n",
       "<path d=\"M57.2612 455.6V.355659\" fill=\"none\" stroke=\"#cccccc\" stroke-linecap=\"round\" stroke-linejoin=\"round\" stroke-miterlimit=\"10.0375\" stroke-width=\"0.426791\"/>\n",
       "</g>\n",
       "<g transform=\"translate(283.535 280.984)scale(.996264)\">\n",
       "<path d=\"M64.3744 455.6V.355659\" fill=\"none\" stroke=\"#cccccc\" stroke-dasharray=\"0,0.682354\" stroke-linecap=\"round\" stroke-linejoin=\"round\" stroke-miterlimit=\"10.0375\" stroke-width=\"0.170717\"/>\n",
       "</g>\n",
       "<g transform=\"translate(283.535 280.984)scale(.996264)\">\n",
       "<path d=\"M71.4875 455.6V.355659\" fill=\"none\" stroke=\"#cccccc\" stroke-dasharray=\"0,0.682354\" stroke-linecap=\"round\" stroke-linejoin=\"round\" stroke-miterlimit=\"10.0375\" stroke-width=\"0.170717\"/>\n",
       "</g>\n",
       "<g transform=\"translate(283.535 280.984)scale(.996264)\">\n",
       "<path d=\"M78.6007 455.6V.355659\" fill=\"none\" stroke=\"#cccccc\" stroke-dasharray=\"0,0.682354\" stroke-linecap=\"round\" stroke-linejoin=\"round\" stroke-miterlimit=\"10.0375\" stroke-width=\"0.170717\"/>\n",
       "</g>\n",
       "<g transform=\"translate(283.535 280.984)scale(.996264)\">\n",
       "<path d=\"M85.7139 455.6V.355659\" fill=\"none\" stroke=\"#cccccc\" stroke-linecap=\"round\" stroke-linejoin=\"round\" stroke-miterlimit=\"10.0375\" stroke-width=\"0.426791\"/>\n",
       "</g>\n",
       "<g transform=\"translate(283.535 280.984)scale(.996264)\">\n",
       "<path d=\"M92.8271 455.6V.355659\" fill=\"none\" stroke=\"#cccccc\" stroke-dasharray=\"0,0.682354\" stroke-linecap=\"round\" stroke-linejoin=\"round\" stroke-miterlimit=\"10.0375\" stroke-width=\"0.170717\"/>\n",
       "</g>\n",
       "<g transform=\"translate(283.535 280.984)scale(.996264)\">\n",
       "<path d=\"M99.9403 455.6V.355659\" fill=\"none\" stroke=\"#cccccc\" stroke-dasharray=\"0,0.682354\" stroke-linecap=\"round\" stroke-linejoin=\"round\" stroke-miterlimit=\"10.0375\" stroke-width=\"0.170717\"/>\n",
       "</g>\n",
       "<g transform=\"translate(283.535 280.984)scale(.996264)\">\n",
       "<path d=\"M107.053 455.6V.355659\" fill=\"none\" stroke=\"#cccccc\" stroke-dasharray=\"0,0.682354\" stroke-linecap=\"round\" stroke-linejoin=\"round\" stroke-miterlimit=\"10.0375\" stroke-width=\"0.170717\"/>\n",
       "</g>\n",
       "<g transform=\"translate(283.535 280.984)scale(.996264)\">\n",
       "<path d=\"M114.167 455.6V.355659\" fill=\"none\" stroke=\"#cccccc\" stroke-linecap=\"round\" stroke-linejoin=\"round\" stroke-miterlimit=\"10.0375\" stroke-width=\"0.426791\"/>\n",
       "</g>\n",
       "<g transform=\"translate(283.535 280.984)scale(.996264)\">\n",
       "<path d=\"M121.28 455.6V.355659\" fill=\"none\" stroke=\"#cccccc\" stroke-dasharray=\"0,0.682354\" stroke-linecap=\"round\" stroke-linejoin=\"round\" stroke-miterlimit=\"10.0375\" stroke-width=\"0.170717\"/>\n",
       "</g>\n",
       "<g transform=\"translate(283.535 280.984)scale(.996264)\">\n",
       "<path d=\"M128.393 455.6V.355659\" fill=\"none\" stroke=\"#cccccc\" stroke-dasharray=\"0,0.682354\" stroke-linecap=\"round\" stroke-linejoin=\"round\" stroke-miterlimit=\"10.0375\" stroke-width=\"0.170717\"/>\n",
       "</g>\n",
       "<g transform=\"translate(283.535 280.984)scale(.996264)\">\n",
       "<path d=\"M135.506 455.6V.355659\" fill=\"none\" stroke=\"#cccccc\" stroke-dasharray=\"0,0.682354\" stroke-linecap=\"round\" stroke-linejoin=\"round\" stroke-miterlimit=\"10.0375\" stroke-width=\"0.170717\"/>\n",
       "</g>\n",
       "<g transform=\"translate(283.535 280.984)scale(.996264)\">\n",
       "<path d=\"M142.619 455.6V.355659\" fill=\"none\" stroke=\"#cccccc\" stroke-linecap=\"round\" stroke-linejoin=\"round\" stroke-miterlimit=\"10.0375\" stroke-width=\"0.426791\"/>\n",
       "</g>\n",
       "<g transform=\"translate(283.535 280.984)scale(.996264)\">\n",
       "<path d=\"M149.733 455.6V.355659\" fill=\"none\" stroke=\"#cccccc\" stroke-dasharray=\"0,0.682354\" stroke-linecap=\"round\" stroke-linejoin=\"round\" stroke-miterlimit=\"10.0375\" stroke-width=\"0.170717\"/>\n",
       "</g>\n",
       "<g transform=\"translate(283.535 280.984)scale(.996264)\">\n",
       "<path d=\"M156.846 455.6V.355659\" fill=\"none\" stroke=\"#cccccc\" stroke-dasharray=\"0,0.682354\" stroke-linecap=\"round\" stroke-linejoin=\"round\" stroke-miterlimit=\"10.0375\" stroke-width=\"0.170717\"/>\n",
       "</g>\n",
       "<g transform=\"translate(283.535 280.984)scale(.996264)\">\n",
       "<path d=\"M163.959 455.6V.355659\" fill=\"none\" stroke=\"#cccccc\" stroke-dasharray=\"0,0.682354\" stroke-linecap=\"round\" stroke-linejoin=\"round\" stroke-miterlimit=\"10.0375\" stroke-width=\"0.170717\"/>\n",
       "</g>\n",
       "<g transform=\"translate(283.535 280.984)scale(.996264)\">\n",
       "<path d=\"M171.072 455.6V.355659\" fill=\"none\" stroke=\"#cccccc\" stroke-linecap=\"round\" stroke-linejoin=\"round\" stroke-miterlimit=\"10.0375\" stroke-width=\"0.426791\"/>\n",
       "</g>\n",
       "<g transform=\"translate(283.535 280.984)scale(.996264)\">\n",
       "<path d=\"M178.185 455.6V.355659\" fill=\"none\" stroke=\"#cccccc\" stroke-dasharray=\"0,0.682354\" stroke-linecap=\"round\" stroke-linejoin=\"round\" stroke-miterlimit=\"10.0375\" stroke-width=\"0.170717\"/>\n",
       "</g>\n",
       "<g transform=\"translate(283.535 280.984)scale(.996264)\">\n",
       "<path d=\"M185.299 455.6V.355659\" fill=\"none\" stroke=\"#cccccc\" stroke-dasharray=\"0,0.682354\" stroke-linecap=\"round\" stroke-linejoin=\"round\" stroke-miterlimit=\"10.0375\" stroke-width=\"0.170717\"/>\n",
       "</g>\n",
       "<g transform=\"translate(283.535 280.984)scale(.996264)\">\n",
       "<path d=\"M192.412 455.6V.355659\" fill=\"none\" stroke=\"#cccccc\" stroke-dasharray=\"0,0.682354\" stroke-linecap=\"round\" stroke-linejoin=\"round\" stroke-miterlimit=\"10.0375\" stroke-width=\"0.170717\"/>\n",
       "</g>\n",
       "<g transform=\"translate(283.535 280.984)scale(.996264)\">\n",
       "<path d=\"M199.525 455.6V.355659\" fill=\"none\" stroke=\"#cccccc\" stroke-linecap=\"round\" stroke-linejoin=\"round\" stroke-miterlimit=\"10.0375\" stroke-width=\"0.426791\"/>\n",
       "</g>\n",
       "<g transform=\"translate(283.535 280.984)scale(.996264)\">\n",
       "<path d=\"M206.638 455.6V.355659\" fill=\"none\" stroke=\"#cccccc\" stroke-dasharray=\"0,0.682354\" stroke-linecap=\"round\" stroke-linejoin=\"round\" stroke-miterlimit=\"10.0375\" stroke-width=\"0.170717\"/>\n",
       "</g>\n",
       "<g transform=\"translate(283.535 280.984)scale(.996264)\">\n",
       "<path d=\"M213.751 455.6V.355659\" fill=\"none\" stroke=\"#cccccc\" stroke-dasharray=\"0,0.682354\" stroke-linecap=\"round\" stroke-linejoin=\"round\" stroke-miterlimit=\"10.0375\" stroke-width=\"0.170717\"/>\n",
       "</g>\n",
       "<g transform=\"translate(283.535 280.984)scale(.996264)\">\n",
       "<path d=\"M220.865 455.6V.355659\" fill=\"none\" stroke=\"#cccccc\" stroke-dasharray=\"0,0.682354\" stroke-linecap=\"round\" stroke-linejoin=\"round\" stroke-miterlimit=\"10.0375\" stroke-width=\"0.170717\"/>\n",
       "</g>\n",
       "<g transform=\"translate(283.535 280.984)scale(.996264)\">\n",
       "<path d=\"M227.978 455.6V.355659\" fill=\"none\" stroke=\"#cccccc\" stroke-linecap=\"round\" stroke-linejoin=\"round\" stroke-miterlimit=\"10.0375\" stroke-width=\"0.426791\"/>\n",
       "</g>\n",
       "<g transform=\"translate(283.535 280.984)scale(.996264)\">\n",
       "<path d=\"M235.091 455.6V.355659\" fill=\"none\" stroke=\"#cccccc\" stroke-dasharray=\"0,0.682354\" stroke-linecap=\"round\" stroke-linejoin=\"round\" stroke-miterlimit=\"10.0375\" stroke-width=\"0.170717\"/>\n",
       "</g>\n",
       "<g transform=\"translate(283.535 280.984)scale(.996264)\">\n",
       "<path d=\"M242.204 455.6V.355659\" fill=\"none\" stroke=\"#cccccc\" stroke-dasharray=\"0,0.682354\" stroke-linecap=\"round\" stroke-linejoin=\"round\" stroke-miterlimit=\"10.0375\" stroke-width=\"0.170717\"/>\n",
       "</g>\n",
       "<g transform=\"translate(283.535 280.984)scale(.996264)\">\n",
       "<path d=\"M249.317 455.6V.355659\" fill=\"none\" stroke=\"#cccccc\" stroke-dasharray=\"0,0.682354\" stroke-linecap=\"round\" stroke-linejoin=\"round\" stroke-miterlimit=\"10.0375\" stroke-width=\"0.170717\"/>\n",
       "</g>\n",
       "<g transform=\"translate(283.535 280.984)scale(.996264)\">\n",
       "<path d=\"M256.43 455.6V.355659\" fill=\"none\" stroke=\"#cccccc\" stroke-linecap=\"round\" stroke-linejoin=\"round\" stroke-miterlimit=\"10.0375\" stroke-width=\"0.426791\"/>\n",
       "</g>\n",
       "<g transform=\"translate(283.535 280.984)scale(.996264)\">\n",
       "<path d=\"M263.544 455.6V.355659\" fill=\"none\" stroke=\"#cccccc\" stroke-dasharray=\"0,0.682354\" stroke-linecap=\"round\" stroke-linejoin=\"round\" stroke-miterlimit=\"10.0375\" stroke-width=\"0.170717\"/>\n",
       "</g>\n",
       "<g transform=\"translate(283.535 280.984)scale(.996264)\">\n",
       "<path d=\"M270.657 455.6V.355659\" fill=\"none\" stroke=\"#cccccc\" stroke-dasharray=\"0,0.682354\" stroke-linecap=\"round\" stroke-linejoin=\"round\" stroke-miterlimit=\"10.0375\" stroke-width=\"0.170717\"/>\n",
       "</g>\n",
       "<g transform=\"translate(283.535 280.984)scale(.996264)\">\n",
       "<path d=\"M277.77 455.6V.355659\" fill=\"none\" stroke=\"#cccccc\" stroke-dasharray=\"0,0.682354\" stroke-linecap=\"round\" stroke-linejoin=\"round\" stroke-miterlimit=\"10.0375\" stroke-width=\"0.170717\"/>\n",
       "</g>\n",
       "<g transform=\"translate(283.535 280.984)scale(.996264)\">\n",
       "<path d=\"M284.883 455.6V.355659\" fill=\"none\" stroke=\"#cccccc\" stroke-linecap=\"round\" stroke-linejoin=\"round\" stroke-miterlimit=\"10.0375\" stroke-width=\"0.426791\"/>\n",
       "</g>\n",
       "<g transform=\"translate(283.535 280.984)scale(.996264)\">\n",
       "<path d=\"M291.996 455.6V.355659\" fill=\"none\" stroke=\"#cccccc\" stroke-dasharray=\"0,0.682354\" stroke-linecap=\"round\" stroke-linejoin=\"round\" stroke-miterlimit=\"10.0375\" stroke-width=\"0.170717\"/>\n",
       "</g>\n",
       "<g transform=\"translate(283.535 280.984)scale(.996264)\">\n",
       "<path d=\"M299.11 455.6V.355659\" fill=\"none\" stroke=\"#cccccc\" stroke-dasharray=\"0,0.682354\" stroke-linecap=\"round\" stroke-linejoin=\"round\" stroke-miterlimit=\"10.0375\" stroke-width=\"0.170717\"/>\n",
       "</g>\n",
       "<g transform=\"translate(283.535 280.984)scale(.996264)\">\n",
       "<path d=\"M306.223 455.6V.355659\" fill=\"none\" stroke=\"#cccccc\" stroke-dasharray=\"0,0.682354\" stroke-linecap=\"round\" stroke-linejoin=\"round\" stroke-miterlimit=\"10.0375\" stroke-width=\"0.170717\"/>\n",
       "</g>\n",
       "<g transform=\"translate(283.535 280.984)scale(.996264)\">\n",
       "<path d=\"M313.336 455.6V.355659\" fill=\"none\" stroke=\"#cccccc\" stroke-linecap=\"round\" stroke-linejoin=\"round\" stroke-miterlimit=\"10.0375\" stroke-width=\"0.426791\"/>\n",
       "</g>\n",
       "<g transform=\"translate(283.535 280.984)scale(.996264)\">\n",
       "<path d=\"M320.449 455.6V.355659\" fill=\"none\" stroke=\"#cccccc\" stroke-dasharray=\"0,0.682354\" stroke-linecap=\"round\" stroke-linejoin=\"round\" stroke-miterlimit=\"10.0375\" stroke-width=\"0.170717\"/>\n",
       "</g>\n",
       "<g transform=\"translate(283.535 280.984)scale(.996264)\">\n",
       "<path d=\"M327.562 455.6V.355659\" fill=\"none\" stroke=\"#cccccc\" stroke-dasharray=\"0,0.682354\" stroke-linecap=\"round\" stroke-linejoin=\"round\" stroke-miterlimit=\"10.0375\" stroke-width=\"0.170717\"/>\n",
       "</g>\n",
       "<g transform=\"translate(283.535 280.984)scale(.996264)\">\n",
       "<path d=\"M334.676 455.6V.355659\" fill=\"none\" stroke=\"#cccccc\" stroke-dasharray=\"0,0.682354\" stroke-linecap=\"round\" stroke-linejoin=\"round\" stroke-miterlimit=\"10.0375\" stroke-width=\"0.170717\"/>\n",
       "</g>\n",
       "<g transform=\"translate(283.535 280.984)scale(.996264)\">\n",
       "<path d=\"M341.789 455.6V.355659\" fill=\"none\" stroke=\"#cccccc\" stroke-linecap=\"round\" stroke-linejoin=\"round\" stroke-miterlimit=\"10.0375\" stroke-width=\"0.426791\"/>\n",
       "</g>\n",
       "<g transform=\"translate(283.535 280.984)scale(.996264)\">\n",
       "<path d=\"M348.902 455.6V.355659\" fill=\"none\" stroke=\"#cccccc\" stroke-dasharray=\"0,0.682354\" stroke-linecap=\"round\" stroke-linejoin=\"round\" stroke-miterlimit=\"10.0375\" stroke-width=\"0.170717\"/>\n",
       "</g>\n",
       "<g transform=\"translate(283.535 280.984)scale(.996264)\">\n",
       "<path d=\"M356.015 455.6V.355659\" fill=\"none\" stroke=\"#cccccc\" stroke-dasharray=\"0,0.682354\" stroke-linecap=\"round\" stroke-linejoin=\"round\" stroke-miterlimit=\"10.0375\" stroke-width=\"0.170717\"/>\n",
       "</g>\n",
       "<g transform=\"translate(283.535 280.984)scale(.996264)\">\n",
       "<path d=\"M363.128 455.6V.355659\" fill=\"none\" stroke=\"#cccccc\" stroke-dasharray=\"0,0.682354\" stroke-linecap=\"round\" stroke-linejoin=\"round\" stroke-miterlimit=\"10.0375\" stroke-width=\"0.170717\"/>\n",
       "</g>\n",
       "<g transform=\"translate(283.535 280.984)scale(.996264)\">\n",
       "<path d=\"M370.241 455.6V.355659\" fill=\"none\" stroke=\"#cccccc\" stroke-linecap=\"round\" stroke-linejoin=\"round\" stroke-miterlimit=\"10.0375\" stroke-width=\"0.426791\"/>\n",
       "</g>\n",
       "<g transform=\"translate(283.535 280.984)scale(.996264)\">\n",
       "<path d=\"M377.355 455.6V.355659\" fill=\"none\" stroke=\"#cccccc\" stroke-dasharray=\"0,0.682354\" stroke-linecap=\"round\" stroke-linejoin=\"round\" stroke-miterlimit=\"10.0375\" stroke-width=\"0.170717\"/>\n",
       "</g>\n",
       "<g transform=\"translate(283.535 280.984)scale(.996264)\">\n",
       "<path d=\"M384.468 455.6V.355659\" fill=\"none\" stroke=\"#cccccc\" stroke-dasharray=\"0,0.682354\" stroke-linecap=\"round\" stroke-linejoin=\"round\" stroke-miterlimit=\"10.0375\" stroke-width=\"0.170717\"/>\n",
       "</g>\n",
       "<g transform=\"translate(283.535 280.984)scale(.996264)\">\n",
       "<path d=\"M391.581 455.6V.355659\" fill=\"none\" stroke=\"#cccccc\" stroke-dasharray=\"0,0.682354\" stroke-linecap=\"round\" stroke-linejoin=\"round\" stroke-miterlimit=\"10.0375\" stroke-width=\"0.170717\"/>\n",
       "</g>\n",
       "<g transform=\"translate(283.535 280.984)scale(.996264)\">\n",
       "<path d=\"M398.694 455.6V.355659\" fill=\"none\" stroke=\"#cccccc\" stroke-linecap=\"round\" stroke-linejoin=\"round\" stroke-miterlimit=\"10.0375\" stroke-width=\"0.426791\"/>\n",
       "</g>\n",
       "<g transform=\"translate(283.535 280.984)scale(.996264)\">\n",
       "<path d=\"M405.807 455.6V.355659\" fill=\"none\" stroke=\"#cccccc\" stroke-dasharray=\"0,0.682354\" stroke-linecap=\"round\" stroke-linejoin=\"round\" stroke-miterlimit=\"10.0375\" stroke-width=\"0.170717\"/>\n",
       "</g>\n",
       "<g transform=\"translate(283.535 280.984)scale(.996264)\">\n",
       "<path d=\"M412.921 455.6V.355659\" fill=\"none\" stroke=\"#cccccc\" stroke-dasharray=\"0,0.682354\" stroke-linecap=\"round\" stroke-linejoin=\"round\" stroke-miterlimit=\"10.0375\" stroke-width=\"0.170717\"/>\n",
       "</g>\n",
       "<g transform=\"translate(283.535 280.984)scale(.996264)\">\n",
       "<path d=\"M420.034 455.6V.355659\" fill=\"none\" stroke=\"#cccccc\" stroke-dasharray=\"0,0.682354\" stroke-linecap=\"round\" stroke-linejoin=\"round\" stroke-miterlimit=\"10.0375\" stroke-width=\"0.170717\"/>\n",
       "</g>\n",
       "<g transform=\"translate(283.535 280.984)scale(.996264)\">\n",
       "<path d=\"M427.147 455.6V.355659\" fill=\"none\" stroke=\"#cccccc\" stroke-linecap=\"round\" stroke-linejoin=\"round\" stroke-miterlimit=\"10.0375\" stroke-width=\"0.426791\"/>\n",
       "</g>\n",
       "<g transform=\"translate(283.535 280.984)scale(.996264)\">\n",
       "<path d=\"M434.26 455.6V.355659\" fill=\"none\" stroke=\"#cccccc\" stroke-dasharray=\"0,0.682354\" stroke-linecap=\"round\" stroke-linejoin=\"round\" stroke-miterlimit=\"10.0375\" stroke-width=\"0.170717\"/>\n",
       "</g>\n",
       "<g transform=\"translate(283.535 280.984)scale(.996264)\">\n",
       "<path d=\"M441.373 455.6V.355659\" fill=\"none\" stroke=\"#cccccc\" stroke-dasharray=\"0,0.682354\" stroke-linecap=\"round\" stroke-linejoin=\"round\" stroke-miterlimit=\"10.0375\" stroke-width=\"0.170717\"/>\n",
       "</g>\n",
       "<g transform=\"translate(283.535 280.984)scale(.996264)\">\n",
       "<path d=\"M448.487 455.6V.355659\" fill=\"none\" stroke=\"#cccccc\" stroke-dasharray=\"0,0.682354\" stroke-linecap=\"round\" stroke-linejoin=\"round\" stroke-miterlimit=\"10.0375\" stroke-width=\"0.170717\"/>\n",
       "</g>\n",
       "<g transform=\"translate(283.535 280.984)scale(.996264)\">\n",
       "<path d=\"M455.6 455.6V.355659\" fill=\"none\" stroke=\"#cccccc\" stroke-linecap=\"round\" stroke-linejoin=\"round\" stroke-miterlimit=\"10.0375\" stroke-width=\"0.426791\"/>\n",
       "</g>\n",
       "<g transform=\"translate(283.535 280.984)scale(.996264)\">\n",
       "<path d=\"M.355659 455.6H455.6\" fill=\"none\" stroke=\"#cccccc\" stroke-linecap=\"round\" stroke-linejoin=\"round\" stroke-miterlimit=\"10.0375\" stroke-width=\"0.426791\"/>\n",
       "</g>\n",
       "<g transform=\"translate(283.535 280.984)scale(.996264)\">\n",
       "<path d=\"M.355659 448.487H455.6\" fill=\"none\" stroke=\"#cccccc\" stroke-dasharray=\"0,0.682354\" stroke-linecap=\"round\" stroke-linejoin=\"round\" stroke-miterlimit=\"10.0375\" stroke-width=\"0.170717\"/>\n",
       "</g>\n",
       "<g transform=\"translate(283.535 280.984)scale(.996264)\">\n",
       "<path d=\"M.355659 441.373H455.6\" fill=\"none\" stroke=\"#cccccc\" stroke-dasharray=\"0,0.682354\" stroke-linecap=\"round\" stroke-linejoin=\"round\" stroke-miterlimit=\"10.0375\" stroke-width=\"0.170717\"/>\n",
       "</g>\n",
       "<g transform=\"translate(283.535 280.984)scale(.996264)\">\n",
       "<path d=\"M.355659 434.26H455.6\" fill=\"none\" stroke=\"#cccccc\" stroke-dasharray=\"0,0.682354\" stroke-linecap=\"round\" stroke-linejoin=\"round\" stroke-miterlimit=\"10.0375\" stroke-width=\"0.170717\"/>\n",
       "</g>\n",
       "<g transform=\"translate(283.535 280.984)scale(.996264)\">\n",
       "<path d=\"M.355659 427.147H455.6\" fill=\"none\" stroke=\"#cccccc\" stroke-dasharray=\"0,0.682354\" stroke-linecap=\"round\" stroke-linejoin=\"round\" stroke-miterlimit=\"10.0375\" stroke-width=\"0.170717\"/>\n",
       "</g>\n",
       "<g transform=\"translate(283.535 280.984)scale(.996264)\">\n",
       "<path d=\"M.355659 427.147H455.6\" fill=\"none\" stroke=\"#cccccc\" stroke-linecap=\"round\" stroke-linejoin=\"round\" stroke-miterlimit=\"10.0375\" stroke-width=\"0.426791\"/>\n",
       "</g>\n",
       "<g transform=\"translate(283.535 280.984)scale(.996264)\">\n",
       "<path d=\"M.355659 420.034H455.6\" fill=\"none\" stroke=\"#cccccc\" stroke-dasharray=\"0,0.682354\" stroke-linecap=\"round\" stroke-linejoin=\"round\" stroke-miterlimit=\"10.0375\" stroke-width=\"0.170717\"/>\n",
       "</g>\n",
       "<g transform=\"translate(283.535 280.984)scale(.996264)\">\n",
       "<path d=\"M.355659 412.921H455.6\" fill=\"none\" stroke=\"#cccccc\" stroke-dasharray=\"0,0.682354\" stroke-linecap=\"round\" stroke-linejoin=\"round\" stroke-miterlimit=\"10.0375\" stroke-width=\"0.170717\"/>\n",
       "</g>\n",
       "<g transform=\"translate(283.535 280.984)scale(.996264)\">\n",
       "<path d=\"M.355659 405.807H455.6\" fill=\"none\" stroke=\"#cccccc\" stroke-dasharray=\"0,0.682354\" stroke-linecap=\"round\" stroke-linejoin=\"round\" stroke-miterlimit=\"10.0375\" stroke-width=\"0.170717\"/>\n",
       "</g>\n",
       "<g transform=\"translate(283.535 280.984)scale(.996264)\">\n",
       "<path d=\"M.355659 398.694H455.6\" fill=\"none\" stroke=\"#cccccc\" stroke-dasharray=\"0,0.682354\" stroke-linecap=\"round\" stroke-linejoin=\"round\" stroke-miterlimit=\"10.0375\" stroke-width=\"0.170717\"/>\n",
       "</g>\n",
       "<g transform=\"translate(283.535 280.984)scale(.996264)\">\n",
       "<path d=\"M.355659 398.694H455.6\" fill=\"none\" stroke=\"#cccccc\" stroke-linecap=\"round\" stroke-linejoin=\"round\" stroke-miterlimit=\"10.0375\" stroke-width=\"0.426791\"/>\n",
       "</g>\n",
       "<g transform=\"translate(283.535 280.984)scale(.996264)\">\n",
       "<path d=\"M.355659 391.581H455.6\" fill=\"none\" stroke=\"#cccccc\" stroke-dasharray=\"0,0.682354\" stroke-linecap=\"round\" stroke-linejoin=\"round\" stroke-miterlimit=\"10.0375\" stroke-width=\"0.170717\"/>\n",
       "</g>\n",
       "<g transform=\"translate(283.535 280.984)scale(.996264)\">\n",
       "<path d=\"M.355659 384.468H455.6\" fill=\"none\" stroke=\"#cccccc\" stroke-dasharray=\"0,0.682354\" stroke-linecap=\"round\" stroke-linejoin=\"round\" stroke-miterlimit=\"10.0375\" stroke-width=\"0.170717\"/>\n",
       "</g>\n",
       "<g transform=\"translate(283.535 280.984)scale(.996264)\">\n",
       "<path d=\"M.355659 377.355H455.6\" fill=\"none\" stroke=\"#cccccc\" stroke-dasharray=\"0,0.682354\" stroke-linecap=\"round\" stroke-linejoin=\"round\" stroke-miterlimit=\"10.0375\" stroke-width=\"0.170717\"/>\n",
       "</g>\n",
       "<g transform=\"translate(283.535 280.984)scale(.996264)\">\n",
       "<path d=\"M.355659 370.241H455.6\" fill=\"none\" stroke=\"#cccccc\" stroke-dasharray=\"0,0.682354\" stroke-linecap=\"round\" stroke-linejoin=\"round\" stroke-miterlimit=\"10.0375\" stroke-width=\"0.170717\"/>\n",
       "</g>\n",
       "<g transform=\"translate(283.535 280.984)scale(.996264)\">\n",
       "<path d=\"M.355659 370.241H455.6\" fill=\"none\" stroke=\"#cccccc\" stroke-linecap=\"round\" stroke-linejoin=\"round\" stroke-miterlimit=\"10.0375\" stroke-width=\"0.426791\"/>\n",
       "</g>\n",
       "<g transform=\"translate(283.535 280.984)scale(.996264)\">\n",
       "<path d=\"M.355659 363.128H455.6\" fill=\"none\" stroke=\"#cccccc\" stroke-dasharray=\"0,0.682354\" stroke-linecap=\"round\" stroke-linejoin=\"round\" stroke-miterlimit=\"10.0375\" stroke-width=\"0.170717\"/>\n",
       "</g>\n",
       "<g transform=\"translate(283.535 280.984)scale(.996264)\">\n",
       "<path d=\"M.355659 356.015H455.6\" fill=\"none\" stroke=\"#cccccc\" stroke-dasharray=\"0,0.682354\" stroke-linecap=\"round\" stroke-linejoin=\"round\" stroke-miterlimit=\"10.0375\" stroke-width=\"0.170717\"/>\n",
       "</g>\n",
       "<g transform=\"translate(283.535 280.984)scale(.996264)\">\n",
       "<path d=\"M.355659 348.902H455.6\" fill=\"none\" stroke=\"#cccccc\" stroke-dasharray=\"0,0.682354\" stroke-linecap=\"round\" stroke-linejoin=\"round\" stroke-miterlimit=\"10.0375\" stroke-width=\"0.170717\"/>\n",
       "</g>\n",
       "<g transform=\"translate(283.535 280.984)scale(.996264)\">\n",
       "<path d=\"M.355659 341.789H455.6\" fill=\"none\" stroke=\"#cccccc\" stroke-dasharray=\"0,0.682354\" stroke-linecap=\"round\" stroke-linejoin=\"round\" stroke-miterlimit=\"10.0375\" stroke-width=\"0.170717\"/>\n",
       "</g>\n",
       "<g transform=\"translate(283.535 280.984)scale(.996264)\">\n",
       "<path d=\"M.355659 341.789H455.6\" fill=\"none\" stroke=\"#cccccc\" stroke-linecap=\"round\" stroke-linejoin=\"round\" stroke-miterlimit=\"10.0375\" stroke-width=\"0.426791\"/>\n",
       "</g>\n",
       "<g transform=\"translate(283.535 280.984)scale(.996264)\">\n",
       "<path d=\"M.355659 334.676H455.6\" fill=\"none\" stroke=\"#cccccc\" stroke-dasharray=\"0,0.682354\" stroke-linecap=\"round\" stroke-linejoin=\"round\" stroke-miterlimit=\"10.0375\" stroke-width=\"0.170717\"/>\n",
       "</g>\n",
       "<g transform=\"translate(283.535 280.984)scale(.996264)\">\n",
       "<path d=\"M.355659 327.562H455.6\" fill=\"none\" stroke=\"#cccccc\" stroke-dasharray=\"0,0.682354\" stroke-linecap=\"round\" stroke-linejoin=\"round\" stroke-miterlimit=\"10.0375\" stroke-width=\"0.170717\"/>\n",
       "</g>\n",
       "<g transform=\"translate(283.535 280.984)scale(.996264)\">\n",
       "<path d=\"M.355659 320.449H455.6\" fill=\"none\" stroke=\"#cccccc\" stroke-dasharray=\"0,0.682354\" stroke-linecap=\"round\" stroke-linejoin=\"round\" stroke-miterlimit=\"10.0375\" stroke-width=\"0.170717\"/>\n",
       "</g>\n",
       "<g transform=\"translate(283.535 280.984)scale(.996264)\">\n",
       "<path d=\"M.355659 313.336H455.6\" fill=\"none\" stroke=\"#cccccc\" stroke-dasharray=\"0,0.682354\" stroke-linecap=\"round\" stroke-linejoin=\"round\" stroke-miterlimit=\"10.0375\" stroke-width=\"0.170717\"/>\n",
       "</g>\n",
       "<g transform=\"translate(283.535 280.984)scale(.996264)\">\n",
       "<path d=\"M.355659 313.336H455.6\" fill=\"none\" stroke=\"#cccccc\" stroke-linecap=\"round\" stroke-linejoin=\"round\" stroke-miterlimit=\"10.0375\" stroke-width=\"0.426791\"/>\n",
       "</g>\n",
       "<g transform=\"translate(283.535 280.984)scale(.996264)\">\n",
       "<path d=\"M.355659 306.223H455.6\" fill=\"none\" stroke=\"#cccccc\" stroke-dasharray=\"0,0.682354\" stroke-linecap=\"round\" stroke-linejoin=\"round\" stroke-miterlimit=\"10.0375\" stroke-width=\"0.170717\"/>\n",
       "</g>\n",
       "<g transform=\"translate(283.535 280.984)scale(.996264)\">\n",
       "<path d=\"M.355659 299.11H455.6\" fill=\"none\" stroke=\"#cccccc\" stroke-dasharray=\"0,0.682354\" stroke-linecap=\"round\" stroke-linejoin=\"round\" stroke-miterlimit=\"10.0375\" stroke-width=\"0.170717\"/>\n",
       "</g>\n",
       "<g transform=\"translate(283.535 280.984)scale(.996264)\">\n",
       "<path d=\"M.355659 291.996H455.6\" fill=\"none\" stroke=\"#cccccc\" stroke-dasharray=\"0,0.682354\" stroke-linecap=\"round\" stroke-linejoin=\"round\" stroke-miterlimit=\"10.0375\" stroke-width=\"0.170717\"/>\n",
       "</g>\n",
       "<g transform=\"translate(283.535 280.984)scale(.996264)\">\n",
       "<path d=\"M.355659 284.883H455.6\" fill=\"none\" stroke=\"#cccccc\" stroke-dasharray=\"0,0.682354\" stroke-linecap=\"round\" stroke-linejoin=\"round\" stroke-miterlimit=\"10.0375\" stroke-width=\"0.170717\"/>\n",
       "</g>\n",
       "<g transform=\"translate(283.535 280.984)scale(.996264)\">\n",
       "<path d=\"M.355659 284.883H455.6\" fill=\"none\" stroke=\"#cccccc\" stroke-linecap=\"round\" stroke-linejoin=\"round\" stroke-miterlimit=\"10.0375\" stroke-width=\"0.426791\"/>\n",
       "</g>\n",
       "<g transform=\"translate(283.535 280.984)scale(.996264)\">\n",
       "<path d=\"M.355659 277.77H455.6\" fill=\"none\" stroke=\"#cccccc\" stroke-dasharray=\"0,0.682354\" stroke-linecap=\"round\" stroke-linejoin=\"round\" stroke-miterlimit=\"10.0375\" stroke-width=\"0.170717\"/>\n",
       "</g>\n",
       "<g transform=\"translate(283.535 280.984)scale(.996264)\">\n",
       "<path d=\"M.355659 270.657H455.6\" fill=\"none\" stroke=\"#cccccc\" stroke-dasharray=\"0,0.682354\" stroke-linecap=\"round\" stroke-linejoin=\"round\" stroke-miterlimit=\"10.0375\" stroke-width=\"0.170717\"/>\n",
       "</g>\n",
       "<g transform=\"translate(283.535 280.984)scale(.996264)\">\n",
       "<path d=\"M.355659 263.544H455.6\" fill=\"none\" stroke=\"#cccccc\" stroke-dasharray=\"0,0.682354\" stroke-linecap=\"round\" stroke-linejoin=\"round\" stroke-miterlimit=\"10.0375\" stroke-width=\"0.170717\"/>\n",
       "</g>\n",
       "<g transform=\"translate(283.535 280.984)scale(.996264)\">\n",
       "<path d=\"M.355659 256.43H455.6\" fill=\"none\" stroke=\"#cccccc\" stroke-dasharray=\"0,0.682354\" stroke-linecap=\"round\" stroke-linejoin=\"round\" stroke-miterlimit=\"10.0375\" stroke-width=\"0.170717\"/>\n",
       "</g>\n",
       "<g transform=\"translate(283.535 280.984)scale(.996264)\">\n",
       "<path d=\"M.355659 256.43H455.6\" fill=\"none\" stroke=\"#cccccc\" stroke-linecap=\"round\" stroke-linejoin=\"round\" stroke-miterlimit=\"10.0375\" stroke-width=\"0.426791\"/>\n",
       "</g>\n",
       "<g transform=\"translate(283.535 280.984)scale(.996264)\">\n",
       "<path d=\"M.355659 249.317H455.6\" fill=\"none\" stroke=\"#cccccc\" stroke-dasharray=\"0,0.682354\" stroke-linecap=\"round\" stroke-linejoin=\"round\" stroke-miterlimit=\"10.0375\" stroke-width=\"0.170717\"/>\n",
       "</g>\n",
       "<g transform=\"translate(283.535 280.984)scale(.996264)\">\n",
       "<path d=\"M.355659 242.204H455.6\" fill=\"none\" stroke=\"#cccccc\" stroke-dasharray=\"0,0.682354\" stroke-linecap=\"round\" stroke-linejoin=\"round\" stroke-miterlimit=\"10.0375\" stroke-width=\"0.170717\"/>\n",
       "</g>\n",
       "<g transform=\"translate(283.535 280.984)scale(.996264)\">\n",
       "<path d=\"M.355659 235.091H455.6\" fill=\"none\" stroke=\"#cccccc\" stroke-dasharray=\"0,0.682354\" stroke-linecap=\"round\" stroke-linejoin=\"round\" stroke-miterlimit=\"10.0375\" stroke-width=\"0.170717\"/>\n",
       "</g>\n",
       "<g transform=\"translate(283.535 280.984)scale(.996264)\">\n",
       "<path d=\"M.355659 227.978H455.6\" fill=\"none\" stroke=\"#cccccc\" stroke-dasharray=\"0,0.682354\" stroke-linecap=\"round\" stroke-linejoin=\"round\" stroke-miterlimit=\"10.0375\" stroke-width=\"0.170717\"/>\n",
       "</g>\n",
       "<g transform=\"translate(283.535 280.984)scale(.996264)\">\n",
       "<path d=\"M.355659 227.978H455.6\" fill=\"none\" stroke=\"#cccccc\" stroke-linecap=\"round\" stroke-linejoin=\"round\" stroke-miterlimit=\"10.0375\" stroke-width=\"0.426791\"/>\n",
       "</g>\n",
       "<g transform=\"translate(283.535 280.984)scale(.996264)\">\n",
       "<path d=\"M.355659 220.865H455.6\" fill=\"none\" stroke=\"#cccccc\" stroke-dasharray=\"0,0.682354\" stroke-linecap=\"round\" stroke-linejoin=\"round\" stroke-miterlimit=\"10.0375\" stroke-width=\"0.170717\"/>\n",
       "</g>\n",
       "<g transform=\"translate(283.535 280.984)scale(.996264)\">\n",
       "<path d=\"M.355659 213.751H455.6\" fill=\"none\" stroke=\"#cccccc\" stroke-dasharray=\"0,0.682354\" stroke-linecap=\"round\" stroke-linejoin=\"round\" stroke-miterlimit=\"10.0375\" stroke-width=\"0.170717\"/>\n",
       "</g>\n",
       "<g transform=\"translate(283.535 280.984)scale(.996264)\">\n",
       "<path d=\"M.355659 206.638H455.6\" fill=\"none\" stroke=\"#cccccc\" stroke-dasharray=\"0,0.682354\" stroke-linecap=\"round\" stroke-linejoin=\"round\" stroke-miterlimit=\"10.0375\" stroke-width=\"0.170717\"/>\n",
       "</g>\n",
       "<g transform=\"translate(283.535 280.984)scale(.996264)\">\n",
       "<path d=\"M.355659 199.525H455.6\" fill=\"none\" stroke=\"#cccccc\" stroke-dasharray=\"0,0.682354\" stroke-linecap=\"round\" stroke-linejoin=\"round\" stroke-miterlimit=\"10.0375\" stroke-width=\"0.170717\"/>\n",
       "</g>\n",
       "<g transform=\"translate(283.535 280.984)scale(.996264)\">\n",
       "<path d=\"M.355659 199.525H455.6\" fill=\"none\" stroke=\"#cccccc\" stroke-linecap=\"round\" stroke-linejoin=\"round\" stroke-miterlimit=\"10.0375\" stroke-width=\"0.426791\"/>\n",
       "</g>\n",
       "<g transform=\"translate(283.535 280.984)scale(.996264)\">\n",
       "<path d=\"M.355659 192.412H455.6\" fill=\"none\" stroke=\"#cccccc\" stroke-dasharray=\"0,0.682354\" stroke-linecap=\"round\" stroke-linejoin=\"round\" stroke-miterlimit=\"10.0375\" stroke-width=\"0.170717\"/>\n",
       "</g>\n",
       "<g transform=\"translate(283.535 280.984)scale(.996264)\">\n",
       "<path d=\"M.355659 185.299H455.6\" fill=\"none\" stroke=\"#cccccc\" stroke-dasharray=\"0,0.682354\" stroke-linecap=\"round\" stroke-linejoin=\"round\" stroke-miterlimit=\"10.0375\" stroke-width=\"0.170717\"/>\n",
       "</g>\n",
       "<g transform=\"translate(283.535 280.984)scale(.996264)\">\n",
       "<path d=\"M.355659 178.185H455.6\" fill=\"none\" stroke=\"#cccccc\" stroke-dasharray=\"0,0.682354\" stroke-linecap=\"round\" stroke-linejoin=\"round\" stroke-miterlimit=\"10.0375\" stroke-width=\"0.170717\"/>\n",
       "</g>\n",
       "<g transform=\"translate(283.535 280.984)scale(.996264)\">\n",
       "<path d=\"M.355659 171.072H455.6\" fill=\"none\" stroke=\"#cccccc\" stroke-dasharray=\"0,0.682354\" stroke-linecap=\"round\" stroke-linejoin=\"round\" stroke-miterlimit=\"10.0375\" stroke-width=\"0.170717\"/>\n",
       "</g>\n",
       "<g transform=\"translate(283.535 280.984)scale(.996264)\">\n",
       "<path d=\"M.355659 171.072H455.6\" fill=\"none\" stroke=\"#cccccc\" stroke-linecap=\"round\" stroke-linejoin=\"round\" stroke-miterlimit=\"10.0375\" stroke-width=\"0.426791\"/>\n",
       "</g>\n",
       "<g transform=\"translate(283.535 280.984)scale(.996264)\">\n",
       "<path d=\"M.355659 163.959H455.6\" fill=\"none\" stroke=\"#cccccc\" stroke-dasharray=\"0,0.682354\" stroke-linecap=\"round\" stroke-linejoin=\"round\" stroke-miterlimit=\"10.0375\" stroke-width=\"0.170717\"/>\n",
       "</g>\n",
       "<g transform=\"translate(283.535 280.984)scale(.996264)\">\n",
       "<path d=\"M.355659 156.846H455.6\" fill=\"none\" stroke=\"#cccccc\" stroke-dasharray=\"0,0.682354\" stroke-linecap=\"round\" stroke-linejoin=\"round\" stroke-miterlimit=\"10.0375\" stroke-width=\"0.170717\"/>\n",
       "</g>\n",
       "<g transform=\"translate(283.535 280.984)scale(.996264)\">\n",
       "<path d=\"M.355659 149.733H455.6\" fill=\"none\" stroke=\"#cccccc\" stroke-dasharray=\"0,0.682354\" stroke-linecap=\"round\" stroke-linejoin=\"round\" stroke-miterlimit=\"10.0375\" stroke-width=\"0.170717\"/>\n",
       "</g>\n",
       "<g transform=\"translate(283.535 280.984)scale(.996264)\">\n",
       "<path d=\"M.355659 142.619H455.6\" fill=\"none\" stroke=\"#cccccc\" stroke-dasharray=\"0,0.682354\" stroke-linecap=\"round\" stroke-linejoin=\"round\" stroke-miterlimit=\"10.0375\" stroke-width=\"0.170717\"/>\n",
       "</g>\n",
       "<g transform=\"translate(283.535 280.984)scale(.996264)\">\n",
       "<path d=\"M.355659 142.619H455.6\" fill=\"none\" stroke=\"#cccccc\" stroke-linecap=\"round\" stroke-linejoin=\"round\" stroke-miterlimit=\"10.0375\" stroke-width=\"0.426791\"/>\n",
       "</g>\n",
       "<g transform=\"translate(283.535 280.984)scale(.996264)\">\n",
       "<path d=\"M.355659 135.506H455.6\" fill=\"none\" stroke=\"#cccccc\" stroke-dasharray=\"0,0.682354\" stroke-linecap=\"round\" stroke-linejoin=\"round\" stroke-miterlimit=\"10.0375\" stroke-width=\"0.170717\"/>\n",
       "</g>\n",
       "<g transform=\"translate(283.535 280.984)scale(.996264)\">\n",
       "<path d=\"M.355659 128.393H455.6\" fill=\"none\" stroke=\"#cccccc\" stroke-dasharray=\"0,0.682354\" stroke-linecap=\"round\" stroke-linejoin=\"round\" stroke-miterlimit=\"10.0375\" stroke-width=\"0.170717\"/>\n",
       "</g>\n",
       "<g transform=\"translate(283.535 280.984)scale(.996264)\">\n",
       "<path d=\"M.355659 121.28H455.6\" fill=\"none\" stroke=\"#cccccc\" stroke-dasharray=\"0,0.682354\" stroke-linecap=\"round\" stroke-linejoin=\"round\" stroke-miterlimit=\"10.0375\" stroke-width=\"0.170717\"/>\n",
       "</g>\n",
       "<g transform=\"translate(283.535 280.984)scale(.996264)\">\n",
       "<path d=\"M.355659 114.167H455.6\" fill=\"none\" stroke=\"#cccccc\" stroke-dasharray=\"0,0.682354\" stroke-linecap=\"round\" stroke-linejoin=\"round\" stroke-miterlimit=\"10.0375\" stroke-width=\"0.170717\"/>\n",
       "</g>\n",
       "<g transform=\"translate(283.535 280.984)scale(.996264)\">\n",
       "<path d=\"M.355659 114.167H455.6\" fill=\"none\" stroke=\"#cccccc\" stroke-linecap=\"round\" stroke-linejoin=\"round\" stroke-miterlimit=\"10.0375\" stroke-width=\"0.426791\"/>\n",
       "</g>\n",
       "<g transform=\"translate(283.535 280.984)scale(.996264)\">\n",
       "<path d=\"M.355659 107.053H455.6\" fill=\"none\" stroke=\"#cccccc\" stroke-dasharray=\"0,0.682354\" stroke-linecap=\"round\" stroke-linejoin=\"round\" stroke-miterlimit=\"10.0375\" stroke-width=\"0.170717\"/>\n",
       "</g>\n",
       "<g transform=\"translate(283.535 280.984)scale(.996264)\">\n",
       "<path d=\"M.355659 99.9403H455.6\" fill=\"none\" stroke=\"#cccccc\" stroke-dasharray=\"0,0.682354\" stroke-linecap=\"round\" stroke-linejoin=\"round\" stroke-miterlimit=\"10.0375\" stroke-width=\"0.170717\"/>\n",
       "</g>\n",
       "<g transform=\"translate(283.535 280.984)scale(.996264)\">\n",
       "<path d=\"M.355659 92.8271H455.6\" fill=\"none\" stroke=\"#cccccc\" stroke-dasharray=\"0,0.682354\" stroke-linecap=\"round\" stroke-linejoin=\"round\" stroke-miterlimit=\"10.0375\" stroke-width=\"0.170717\"/>\n",
       "</g>\n",
       "<g transform=\"translate(283.535 280.984)scale(.996264)\">\n",
       "<path d=\"M.355659 85.7139H455.6\" fill=\"none\" stroke=\"#cccccc\" stroke-dasharray=\"0,0.682354\" stroke-linecap=\"round\" stroke-linejoin=\"round\" stroke-miterlimit=\"10.0375\" stroke-width=\"0.170717\"/>\n",
       "</g>\n",
       "<g transform=\"translate(283.535 280.984)scale(.996264)\">\n",
       "<path d=\"M.355659 85.7139H455.6\" fill=\"none\" stroke=\"#cccccc\" stroke-linecap=\"round\" stroke-linejoin=\"round\" stroke-miterlimit=\"10.0375\" stroke-width=\"0.426791\"/>\n",
       "</g>\n",
       "<g transform=\"translate(283.535 280.984)scale(.996264)\">\n",
       "<path d=\"M.355659 78.6007H455.6\" fill=\"none\" stroke=\"#cccccc\" stroke-dasharray=\"0,0.682354\" stroke-linecap=\"round\" stroke-linejoin=\"round\" stroke-miterlimit=\"10.0375\" stroke-width=\"0.170717\"/>\n",
       "</g>\n",
       "<g transform=\"translate(283.535 280.984)scale(.996264)\">\n",
       "<path d=\"M.355659 71.4875H455.6\" fill=\"none\" stroke=\"#cccccc\" stroke-dasharray=\"0,0.682354\" stroke-linecap=\"round\" stroke-linejoin=\"round\" stroke-miterlimit=\"10.0375\" stroke-width=\"0.170717\"/>\n",
       "</g>\n",
       "<g transform=\"translate(283.535 280.984)scale(.996264)\">\n",
       "<path d=\"M.355659 64.3744H455.6\" fill=\"none\" stroke=\"#cccccc\" stroke-dasharray=\"0,0.682354\" stroke-linecap=\"round\" stroke-linejoin=\"round\" stroke-miterlimit=\"10.0375\" stroke-width=\"0.170717\"/>\n",
       "</g>\n",
       "<g transform=\"translate(283.535 280.984)scale(.996264)\">\n",
       "<path d=\"M.355659 57.2612H455.6\" fill=\"none\" stroke=\"#cccccc\" stroke-dasharray=\"0,0.682354\" stroke-linecap=\"round\" stroke-linejoin=\"round\" stroke-miterlimit=\"10.0375\" stroke-width=\"0.170717\"/>\n",
       "</g>\n",
       "<g transform=\"translate(283.535 280.984)scale(.996264)\">\n",
       "<path d=\"M.355659 57.2612H455.6\" fill=\"none\" stroke=\"#cccccc\" stroke-linecap=\"round\" stroke-linejoin=\"round\" stroke-miterlimit=\"10.0375\" stroke-width=\"0.426791\"/>\n",
       "</g>\n",
       "<g transform=\"translate(283.535 280.984)scale(.996264)\">\n",
       "<path d=\"M.355659 50.148H455.6\" fill=\"none\" stroke=\"#cccccc\" stroke-dasharray=\"0,0.682354\" stroke-linecap=\"round\" stroke-linejoin=\"round\" stroke-miterlimit=\"10.0375\" stroke-width=\"0.170717\"/>\n",
       "</g>\n",
       "<g transform=\"translate(283.535 280.984)scale(.996264)\">\n",
       "<path d=\"M.355659 43.0348H455.6\" fill=\"none\" stroke=\"#cccccc\" stroke-dasharray=\"0,0.682354\" stroke-linecap=\"round\" stroke-linejoin=\"round\" stroke-miterlimit=\"10.0375\" stroke-width=\"0.170717\"/>\n",
       "</g>\n",
       "<g transform=\"translate(283.535 280.984)scale(.996264)\">\n",
       "<path d=\"M.355659 35.9216H455.6\" fill=\"none\" stroke=\"#cccccc\" stroke-dasharray=\"0,0.682354\" stroke-linecap=\"round\" stroke-linejoin=\"round\" stroke-miterlimit=\"10.0375\" stroke-width=\"0.170717\"/>\n",
       "</g>\n",
       "<g transform=\"translate(283.535 280.984)scale(.996264)\">\n",
       "<path d=\"M.355659 28.8084H455.6\" fill=\"none\" stroke=\"#cccccc\" stroke-dasharray=\"0,0.682354\" stroke-linecap=\"round\" stroke-linejoin=\"round\" stroke-miterlimit=\"10.0375\" stroke-width=\"0.170717\"/>\n",
       "</g>\n",
       "<g transform=\"translate(283.535 280.984)scale(.996264)\">\n",
       "<path d=\"M.355659 28.8084H455.6\" fill=\"none\" stroke=\"#cccccc\" stroke-linecap=\"round\" stroke-linejoin=\"round\" stroke-miterlimit=\"10.0375\" stroke-width=\"0.426791\"/>\n",
       "</g>\n",
       "<g transform=\"translate(283.535 280.984)scale(.996264)\">\n",
       "<path d=\"M.355659 21.6952H455.6\" fill=\"none\" stroke=\"#cccccc\" stroke-dasharray=\"0,0.682354\" stroke-linecap=\"round\" stroke-linejoin=\"round\" stroke-miterlimit=\"10.0375\" stroke-width=\"0.170717\"/>\n",
       "</g>\n",
       "<g transform=\"translate(283.535 280.984)scale(.996264)\">\n",
       "<path d=\"M.355659 14.582H455.6\" fill=\"none\" stroke=\"#cccccc\" stroke-dasharray=\"0,0.682354\" stroke-linecap=\"round\" stroke-linejoin=\"round\" stroke-miterlimit=\"10.0375\" stroke-width=\"0.170717\"/>\n",
       "</g>\n",
       "<g transform=\"translate(283.535 280.984)scale(.996264)\">\n",
       "<path d=\"M.355659 7.46885H455.6\" fill=\"none\" stroke=\"#cccccc\" stroke-dasharray=\"0,0.682354\" stroke-linecap=\"round\" stroke-linejoin=\"round\" stroke-miterlimit=\"10.0375\" stroke-width=\"0.170717\"/>\n",
       "</g>\n",
       "<g transform=\"translate(283.535 280.984)scale(.996264)\">\n",
       "<path d=\"M.355659 .355659H455.6\" fill=\"none\" stroke=\"#cccccc\" stroke-dasharray=\"0,0.682354\" stroke-linecap=\"round\" stroke-linejoin=\"round\" stroke-miterlimit=\"10.0375\" stroke-width=\"0.170717\"/>\n",
       "</g>\n",
       "<g transform=\"translate(283.535 280.984)scale(.996264)\">\n",
       "<path d=\"M.355659 .355659H455.6\" fill=\"none\" stroke=\"#cccccc\" stroke-linecap=\"round\" stroke-linejoin=\"round\" stroke-miterlimit=\"10.0375\" stroke-width=\"0.426791\"/>\n",
       "</g>\n",
       "<g transform=\"translate(283.535 280.984)scale(.996264)\">\n",
       "<path d=\"M.355659 227.978H455.6\" fill=\"none\" stroke=\"#000000\" stroke-linecap=\"round\" stroke-linejoin=\"round\" stroke-miterlimit=\"10.0375\" stroke-width=\"0.711319\"/>\n",
       "</g>\n",
       "<g transform=\"translate(283.535 280.984)scale(.996264)\">\n",
       "<path d=\"M227.978 455.6V.355659\" fill=\"none\" stroke=\"#000000\" stroke-linecap=\"round\" stroke-linejoin=\"round\" stroke-miterlimit=\"10.0375\" stroke-width=\"0.711319\"/>\n",
       "</g>\n",
       "<g transform=\"translate(283.535 280.984)scale(.996264)\">\n",
       "<path d=\"M28.8084 227.978V232.246\" fill=\"none\" stroke=\"#000000\" stroke-linecap=\"round\" stroke-linejoin=\"round\" stroke-miterlimit=\"10.0375\" stroke-width=\"0.711319\"/>\n",
       "</g>\n",
       "<use x=\"304.664302\" y=\"523.708411\" xlink:href=\"#g0-0\"/>\n",
       "<use x=\"313.962799\" y=\"523.708411\" xlink:href=\"#g1-55\"/>\n",
       "<g transform=\"translate(283.535 280.984)scale(.996264)\">\n",
       "<path d=\"M35.9216 227.978V230.112\" fill=\"none\" stroke=\"#000000\" stroke-linecap=\"round\" stroke-linejoin=\"round\" stroke-miterlimit=\"10.0375\" stroke-width=\"0.426791\"/>\n",
       "</g>\n",
       "<g transform=\"translate(283.535 280.984)scale(.996264)\">\n",
       "<path d=\"M43.0348 227.978V230.112\" fill=\"none\" stroke=\"#000000\" stroke-linecap=\"round\" stroke-linejoin=\"round\" stroke-miterlimit=\"10.0375\" stroke-width=\"0.426791\"/>\n",
       "</g>\n",
       "<g transform=\"translate(283.535 280.984)scale(.996264)\">\n",
       "<path d=\"M50.148 227.978V230.112\" fill=\"none\" stroke=\"#000000\" stroke-linecap=\"round\" stroke-linejoin=\"round\" stroke-miterlimit=\"10.0375\" stroke-width=\"0.426791\"/>\n",
       "</g>\n",
       "<g transform=\"translate(283.535 280.984)scale(.996264)\">\n",
       "<path d=\"M57.2612 227.978V232.246\" fill=\"none\" stroke=\"#000000\" stroke-linecap=\"round\" stroke-linejoin=\"round\" stroke-miterlimit=\"10.0375\" stroke-width=\"0.711319\"/>\n",
       "</g>\n",
       "<use x=\"333.010762\" y=\"523.708411\" xlink:href=\"#g0-0\"/>\n",
       "<use x=\"342.309259\" y=\"523.708411\" xlink:href=\"#g1-54\"/>\n",
       "<g transform=\"translate(283.535 280.984)scale(.996264)\">\n",
       "<path d=\"M64.3744 227.978V230.112\" fill=\"none\" stroke=\"#000000\" stroke-linecap=\"round\" stroke-linejoin=\"round\" stroke-miterlimit=\"10.0375\" stroke-width=\"0.426791\"/>\n",
       "</g>\n",
       "<g transform=\"translate(283.535 280.984)scale(.996264)\">\n",
       "<path d=\"M71.4875 227.978V230.112\" fill=\"none\" stroke=\"#000000\" stroke-linecap=\"round\" stroke-linejoin=\"round\" stroke-miterlimit=\"10.0375\" stroke-width=\"0.426791\"/>\n",
       "</g>\n",
       "<g transform=\"translate(283.535 280.984)scale(.996264)\">\n",
       "<path d=\"M78.6007 227.978V230.112\" fill=\"none\" stroke=\"#000000\" stroke-linecap=\"round\" stroke-linejoin=\"round\" stroke-miterlimit=\"10.0375\" stroke-width=\"0.426791\"/>\n",
       "</g>\n",
       "<g transform=\"translate(283.535 280.984)scale(.996264)\">\n",
       "<path d=\"M85.7139 227.978V232.246\" fill=\"none\" stroke=\"#000000\" stroke-linecap=\"round\" stroke-linejoin=\"round\" stroke-miterlimit=\"10.0375\" stroke-width=\"0.711319\"/>\n",
       "</g>\n",
       "<use x=\"361.357221\" y=\"523.708411\" xlink:href=\"#g0-0\"/>\n",
       "<use x=\"370.655718\" y=\"523.708411\" xlink:href=\"#g1-53\"/>\n",
       "<g transform=\"translate(283.535 280.984)scale(.996264)\">\n",
       "<path d=\"M92.8271 227.978V230.112\" fill=\"none\" stroke=\"#000000\" stroke-linecap=\"round\" stroke-linejoin=\"round\" stroke-miterlimit=\"10.0375\" stroke-width=\"0.426791\"/>\n",
       "</g>\n",
       "<g transform=\"translate(283.535 280.984)scale(.996264)\">\n",
       "<path d=\"M99.9403 227.978V230.112\" fill=\"none\" stroke=\"#000000\" stroke-linecap=\"round\" stroke-linejoin=\"round\" stroke-miterlimit=\"10.0375\" stroke-width=\"0.426791\"/>\n",
       "</g>\n",
       "<g transform=\"translate(283.535 280.984)scale(.996264)\">\n",
       "<path d=\"M107.053 227.978V230.112\" fill=\"none\" stroke=\"#000000\" stroke-linecap=\"round\" stroke-linejoin=\"round\" stroke-miterlimit=\"10.0375\" stroke-width=\"0.426791\"/>\n",
       "</g>\n",
       "<g transform=\"translate(283.535 280.984)scale(.996264)\">\n",
       "<path d=\"M114.167 227.978V232.246\" fill=\"none\" stroke=\"#000000\" stroke-linecap=\"round\" stroke-linejoin=\"round\" stroke-miterlimit=\"10.0375\" stroke-width=\"0.711319\"/>\n",
       "</g>\n",
       "<use x=\"389.703681\" y=\"523.708411\" xlink:href=\"#g0-0\"/>\n",
       "<use x=\"399.002178\" y=\"523.708411\" xlink:href=\"#g1-52\"/>\n",
       "<g transform=\"translate(283.535 280.984)scale(.996264)\">\n",
       "<path d=\"M121.28 227.978V230.112\" fill=\"none\" stroke=\"#000000\" stroke-linecap=\"round\" stroke-linejoin=\"round\" stroke-miterlimit=\"10.0375\" stroke-width=\"0.426791\"/>\n",
       "</g>\n",
       "<g transform=\"translate(283.535 280.984)scale(.996264)\">\n",
       "<path d=\"M128.393 227.978V230.112\" fill=\"none\" stroke=\"#000000\" stroke-linecap=\"round\" stroke-linejoin=\"round\" stroke-miterlimit=\"10.0375\" stroke-width=\"0.426791\"/>\n",
       "</g>\n",
       "<g transform=\"translate(283.535 280.984)scale(.996264)\">\n",
       "<path d=\"M135.506 227.978V230.112\" fill=\"none\" stroke=\"#000000\" stroke-linecap=\"round\" stroke-linejoin=\"round\" stroke-miterlimit=\"10.0375\" stroke-width=\"0.426791\"/>\n",
       "</g>\n",
       "<g transform=\"translate(283.535 280.984)scale(.996264)\">\n",
       "<path d=\"M142.619 227.978V232.246\" fill=\"none\" stroke=\"#000000\" stroke-linecap=\"round\" stroke-linejoin=\"round\" stroke-miterlimit=\"10.0375\" stroke-width=\"0.711319\"/>\n",
       "</g>\n",
       "<use x=\"418.05014\" y=\"523.708411\" xlink:href=\"#g0-0\"/>\n",
       "<use x=\"427.348637\" y=\"523.708411\" xlink:href=\"#g1-51\"/>\n",
       "<g transform=\"translate(283.535 280.984)scale(.996264)\">\n",
       "<path d=\"M149.733 227.978V230.112\" fill=\"none\" stroke=\"#000000\" stroke-linecap=\"round\" stroke-linejoin=\"round\" stroke-miterlimit=\"10.0375\" stroke-width=\"0.426791\"/>\n",
       "</g>\n",
       "<g transform=\"translate(283.535 280.984)scale(.996264)\">\n",
       "<path d=\"M156.846 227.978V230.112\" fill=\"none\" stroke=\"#000000\" stroke-linecap=\"round\" stroke-linejoin=\"round\" stroke-miterlimit=\"10.0375\" stroke-width=\"0.426791\"/>\n",
       "</g>\n",
       "<g transform=\"translate(283.535 280.984)scale(.996264)\">\n",
       "<path d=\"M163.959 227.978V230.112\" fill=\"none\" stroke=\"#000000\" stroke-linecap=\"round\" stroke-linejoin=\"round\" stroke-miterlimit=\"10.0375\" stroke-width=\"0.426791\"/>\n",
       "</g>\n",
       "<g transform=\"translate(283.535 280.984)scale(.996264)\">\n",
       "<path d=\"M171.072 227.978V232.246\" fill=\"none\" stroke=\"#000000\" stroke-linecap=\"round\" stroke-linejoin=\"round\" stroke-miterlimit=\"10.0375\" stroke-width=\"0.711319\"/>\n",
       "</g>\n",
       "<use x=\"446.396585\" y=\"523.708411\" xlink:href=\"#g0-0\"/>\n",
       "<use x=\"455.695082\" y=\"523.708411\" xlink:href=\"#g1-50\"/>\n",
       "<g transform=\"translate(283.535 280.984)scale(.996264)\">\n",
       "<path d=\"M178.185 227.978V230.112\" fill=\"none\" stroke=\"#000000\" stroke-linecap=\"round\" stroke-linejoin=\"round\" stroke-miterlimit=\"10.0375\" stroke-width=\"0.426791\"/>\n",
       "</g>\n",
       "<g transform=\"translate(283.535 280.984)scale(.996264)\">\n",
       "<path d=\"M185.299 227.978V230.112\" fill=\"none\" stroke=\"#000000\" stroke-linecap=\"round\" stroke-linejoin=\"round\" stroke-miterlimit=\"10.0375\" stroke-width=\"0.426791\"/>\n",
       "</g>\n",
       "<g transform=\"translate(283.535 280.984)scale(.996264)\">\n",
       "<path d=\"M192.412 227.978V230.112\" fill=\"none\" stroke=\"#000000\" stroke-linecap=\"round\" stroke-linejoin=\"round\" stroke-miterlimit=\"10.0375\" stroke-width=\"0.426791\"/>\n",
       "</g>\n",
       "<g transform=\"translate(283.535 280.984)scale(.996264)\">\n",
       "<path d=\"M199.525 227.978V232.246\" fill=\"none\" stroke=\"#000000\" stroke-linecap=\"round\" stroke-linejoin=\"round\" stroke-miterlimit=\"10.0375\" stroke-width=\"0.711319\"/>\n",
       "</g>\n",
       "<use x=\"474.743044\" y=\"523.708411\" xlink:href=\"#g0-0\"/>\n",
       "<use x=\"484.041541\" y=\"523.708411\" xlink:href=\"#g1-49\"/>\n",
       "<g transform=\"translate(283.535 280.984)scale(.996264)\">\n",
       "<path d=\"M206.638 227.978V230.112\" fill=\"none\" stroke=\"#000000\" stroke-linecap=\"round\" stroke-linejoin=\"round\" stroke-miterlimit=\"10.0375\" stroke-width=\"0.426791\"/>\n",
       "</g>\n",
       "<g transform=\"translate(283.535 280.984)scale(.996264)\">\n",
       "<path d=\"M213.751 227.978V230.112\" fill=\"none\" stroke=\"#000000\" stroke-linecap=\"round\" stroke-linejoin=\"round\" stroke-miterlimit=\"10.0375\" stroke-width=\"0.426791\"/>\n",
       "</g>\n",
       "<g transform=\"translate(283.535 280.984)scale(.996264)\">\n",
       "<path d=\"M220.865 227.978V230.112\" fill=\"none\" stroke=\"#000000\" stroke-linecap=\"round\" stroke-linejoin=\"round\" stroke-miterlimit=\"10.0375\" stroke-width=\"0.426791\"/>\n",
       "</g>\n",
       "<g transform=\"translate(283.535 280.984)scale(.996264)\">\n",
       "<path d=\"M256.43 227.978V232.246\" fill=\"none\" stroke=\"#000000\" stroke-linecap=\"round\" stroke-linejoin=\"round\" stroke-miterlimit=\"10.0375\" stroke-width=\"0.711319\"/>\n",
       "</g>\n",
       "<use x=\"536.085201\" y=\"523.708396\" xlink:href=\"#g1-49\"/>\n",
       "<g transform=\"translate(283.535 280.984)scale(.996264)\">\n",
       "<path d=\"M249.317 227.978V230.112\" fill=\"none\" stroke=\"#000000\" stroke-linecap=\"round\" stroke-linejoin=\"round\" stroke-miterlimit=\"10.0375\" stroke-width=\"0.426791\"/>\n",
       "</g>\n",
       "<g transform=\"translate(283.535 280.984)scale(.996264)\">\n",
       "<path d=\"M242.204 227.978V230.112\" fill=\"none\" stroke=\"#000000\" stroke-linecap=\"round\" stroke-linejoin=\"round\" stroke-miterlimit=\"10.0375\" stroke-width=\"0.426791\"/>\n",
       "</g>\n",
       "<g transform=\"translate(283.535 280.984)scale(.996264)\">\n",
       "<path d=\"M235.091 227.978V230.112\" fill=\"none\" stroke=\"#000000\" stroke-linecap=\"round\" stroke-linejoin=\"round\" stroke-miterlimit=\"10.0375\" stroke-width=\"0.426791\"/>\n",
       "</g>\n",
       "<g transform=\"translate(283.535 280.984)scale(.996264)\">\n",
       "<path d=\"M284.883 227.978V232.246\" fill=\"none\" stroke=\"#000000\" stroke-linecap=\"round\" stroke-linejoin=\"round\" stroke-miterlimit=\"10.0375\" stroke-width=\"0.711319\"/>\n",
       "</g>\n",
       "<use x=\"564.43166\" y=\"523.708396\" xlink:href=\"#g1-50\"/>\n",
       "<g transform=\"translate(283.535 280.984)scale(.996264)\">\n",
       "<path d=\"M277.77 227.978V230.112\" fill=\"none\" stroke=\"#000000\" stroke-linecap=\"round\" stroke-linejoin=\"round\" stroke-miterlimit=\"10.0375\" stroke-width=\"0.426791\"/>\n",
       "</g>\n",
       "<g transform=\"translate(283.535 280.984)scale(.996264)\">\n",
       "<path d=\"M270.657 227.978V230.112\" fill=\"none\" stroke=\"#000000\" stroke-linecap=\"round\" stroke-linejoin=\"round\" stroke-miterlimit=\"10.0375\" stroke-width=\"0.426791\"/>\n",
       "</g>\n",
       "<g transform=\"translate(283.535 280.984)scale(.996264)\">\n",
       "<path d=\"M263.544 227.978V230.112\" fill=\"none\" stroke=\"#000000\" stroke-linecap=\"round\" stroke-linejoin=\"round\" stroke-miterlimit=\"10.0375\" stroke-width=\"0.426791\"/>\n",
       "</g>\n",
       "<g transform=\"translate(283.535 280.984)scale(.996264)\">\n",
       "<path d=\"M313.336 227.978V232.246\" fill=\"none\" stroke=\"#000000\" stroke-linecap=\"round\" stroke-linejoin=\"round\" stroke-miterlimit=\"10.0375\" stroke-width=\"0.711319\"/>\n",
       "</g>\n",
       "<use x=\"592.778104\" y=\"523.708396\" xlink:href=\"#g1-51\"/>\n",
       "<g transform=\"translate(283.535 280.984)scale(.996264)\">\n",
       "<path d=\"M306.223 227.978V230.112\" fill=\"none\" stroke=\"#000000\" stroke-linecap=\"round\" stroke-linejoin=\"round\" stroke-miterlimit=\"10.0375\" stroke-width=\"0.426791\"/>\n",
       "</g>\n",
       "<g transform=\"translate(283.535 280.984)scale(.996264)\">\n",
       "<path d=\"M299.11 227.978V230.112\" fill=\"none\" stroke=\"#000000\" stroke-linecap=\"round\" stroke-linejoin=\"round\" stroke-miterlimit=\"10.0375\" stroke-width=\"0.426791\"/>\n",
       "</g>\n",
       "<g transform=\"translate(283.535 280.984)scale(.996264)\">\n",
       "<path d=\"M291.996 227.978V230.112\" fill=\"none\" stroke=\"#000000\" stroke-linecap=\"round\" stroke-linejoin=\"round\" stroke-miterlimit=\"10.0375\" stroke-width=\"0.426791\"/>\n",
       "</g>\n",
       "<g transform=\"translate(283.535 280.984)scale(.996264)\">\n",
       "<path d=\"M341.789 227.978V232.246\" fill=\"none\" stroke=\"#000000\" stroke-linecap=\"round\" stroke-linejoin=\"round\" stroke-miterlimit=\"10.0375\" stroke-width=\"0.711319\"/>\n",
       "</g>\n",
       "<use x=\"621.124564\" y=\"523.708396\" xlink:href=\"#g1-52\"/>\n",
       "<g transform=\"translate(283.535 280.984)scale(.996264)\">\n",
       "<path d=\"M334.676 227.978V230.112\" fill=\"none\" stroke=\"#000000\" stroke-linecap=\"round\" stroke-linejoin=\"round\" stroke-miterlimit=\"10.0375\" stroke-width=\"0.426791\"/>\n",
       "</g>\n",
       "<g transform=\"translate(283.535 280.984)scale(.996264)\">\n",
       "<path d=\"M327.562 227.978V230.112\" fill=\"none\" stroke=\"#000000\" stroke-linecap=\"round\" stroke-linejoin=\"round\" stroke-miterlimit=\"10.0375\" stroke-width=\"0.426791\"/>\n",
       "</g>\n",
       "<g transform=\"translate(283.535 280.984)scale(.996264)\">\n",
       "<path d=\"M320.449 227.978V230.112\" fill=\"none\" stroke=\"#000000\" stroke-linecap=\"round\" stroke-linejoin=\"round\" stroke-miterlimit=\"10.0375\" stroke-width=\"0.426791\"/>\n",
       "</g>\n",
       "<g transform=\"translate(283.535 280.984)scale(.996264)\">\n",
       "<path d=\"M370.241 227.978V232.246\" fill=\"none\" stroke=\"#000000\" stroke-linecap=\"round\" stroke-linejoin=\"round\" stroke-miterlimit=\"10.0375\" stroke-width=\"0.711319\"/>\n",
       "</g>\n",
       "<use x=\"649.471024\" y=\"523.708396\" xlink:href=\"#g1-53\"/>\n",
       "<g transform=\"translate(283.535 280.984)scale(.996264)\">\n",
       "<path d=\"M363.128 227.978V230.112\" fill=\"none\" stroke=\"#000000\" stroke-linecap=\"round\" stroke-linejoin=\"round\" stroke-miterlimit=\"10.0375\" stroke-width=\"0.426791\"/>\n",
       "</g>\n",
       "<g transform=\"translate(283.535 280.984)scale(.996264)\">\n",
       "<path d=\"M356.015 227.978V230.112\" fill=\"none\" stroke=\"#000000\" stroke-linecap=\"round\" stroke-linejoin=\"round\" stroke-miterlimit=\"10.0375\" stroke-width=\"0.426791\"/>\n",
       "</g>\n",
       "<g transform=\"translate(283.535 280.984)scale(.996264)\">\n",
       "<path d=\"M348.902 227.978V230.112\" fill=\"none\" stroke=\"#000000\" stroke-linecap=\"round\" stroke-linejoin=\"round\" stroke-miterlimit=\"10.0375\" stroke-width=\"0.426791\"/>\n",
       "</g>\n",
       "<g transform=\"translate(283.535 280.984)scale(.996264)\">\n",
       "<path d=\"M398.694 227.978V232.246\" fill=\"none\" stroke=\"#000000\" stroke-linecap=\"round\" stroke-linejoin=\"round\" stroke-miterlimit=\"10.0375\" stroke-width=\"0.711319\"/>\n",
       "</g>\n",
       "<use x=\"677.817483\" y=\"523.708396\" xlink:href=\"#g1-54\"/>\n",
       "<g transform=\"translate(283.535 280.984)scale(.996264)\">\n",
       "<path d=\"M391.581 227.978V230.112\" fill=\"none\" stroke=\"#000000\" stroke-linecap=\"round\" stroke-linejoin=\"round\" stroke-miterlimit=\"10.0375\" stroke-width=\"0.426791\"/>\n",
       "</g>\n",
       "<g transform=\"translate(283.535 280.984)scale(.996264)\">\n",
       "<path d=\"M384.468 227.978V230.112\" fill=\"none\" stroke=\"#000000\" stroke-linecap=\"round\" stroke-linejoin=\"round\" stroke-miterlimit=\"10.0375\" stroke-width=\"0.426791\"/>\n",
       "</g>\n",
       "<g transform=\"translate(283.535 280.984)scale(.996264)\">\n",
       "<path d=\"M377.355 227.978V230.112\" fill=\"none\" stroke=\"#000000\" stroke-linecap=\"round\" stroke-linejoin=\"round\" stroke-miterlimit=\"10.0375\" stroke-width=\"0.426791\"/>\n",
       "</g>\n",
       "<g transform=\"translate(283.535 280.984)scale(.996264)\">\n",
       "<path d=\"M427.147 227.978V232.246\" fill=\"none\" stroke=\"#000000\" stroke-linecap=\"round\" stroke-linejoin=\"round\" stroke-miterlimit=\"10.0375\" stroke-width=\"0.711319\"/>\n",
       "</g>\n",
       "<use x=\"706.163943\" y=\"523.708396\" xlink:href=\"#g1-55\"/>\n",
       "<g transform=\"translate(283.535 280.984)scale(.996264)\">\n",
       "<path d=\"M420.034 227.978V230.112\" fill=\"none\" stroke=\"#000000\" stroke-linecap=\"round\" stroke-linejoin=\"round\" stroke-miterlimit=\"10.0375\" stroke-width=\"0.426791\"/>\n",
       "</g>\n",
       "<g transform=\"translate(283.535 280.984)scale(.996264)\">\n",
       "<path d=\"M412.921 227.978V230.112\" fill=\"none\" stroke=\"#000000\" stroke-linecap=\"round\" stroke-linejoin=\"round\" stroke-miterlimit=\"10.0375\" stroke-width=\"0.426791\"/>\n",
       "</g>\n",
       "<g transform=\"translate(283.535 280.984)scale(.996264)\">\n",
       "<path d=\"M405.807 227.978V230.112\" fill=\"none\" stroke=\"#000000\" stroke-linecap=\"round\" stroke-linejoin=\"round\" stroke-miterlimit=\"10.0375\" stroke-width=\"0.426791\"/>\n",
       "</g>\n",
       "<g transform=\"translate(283.535 280.984)scale(.996264)\">\n",
       "<path d=\"M227.978 427.147H223.71\" fill=\"none\" stroke=\"#000000\" stroke-linecap=\"round\" stroke-linejoin=\"round\" stroke-miterlimit=\"10.0375\" stroke-width=\"0.711319\"/>\n",
       "</g>\n",
       "<use x=\"487.560017\" y=\"709.829518\" xlink:href=\"#g0-0\"/>\n",
       "<use x=\"496.858514\" y=\"709.829518\" xlink:href=\"#g1-55\"/>\n",
       "<g transform=\"translate(283.535 280.984)scale(.996264)\">\n",
       "<path d=\"M227.978 420.034H225.844\" fill=\"none\" stroke=\"#000000\" stroke-linecap=\"round\" stroke-linejoin=\"round\" stroke-miterlimit=\"10.0375\" stroke-width=\"0.426791\"/>\n",
       "</g>\n",
       "<g transform=\"translate(283.535 280.984)scale(.996264)\">\n",
       "<path d=\"M227.978 412.921H225.844\" fill=\"none\" stroke=\"#000000\" stroke-linecap=\"round\" stroke-linejoin=\"round\" stroke-miterlimit=\"10.0375\" stroke-width=\"0.426791\"/>\n",
       "</g>\n",
       "<g transform=\"translate(283.535 280.984)scale(.996264)\">\n",
       "<path d=\"M227.978 405.807H225.844\" fill=\"none\" stroke=\"#000000\" stroke-linecap=\"round\" stroke-linejoin=\"round\" stroke-miterlimit=\"10.0375\" stroke-width=\"0.426791\"/>\n",
       "</g>\n",
       "<g transform=\"translate(283.535 280.984)scale(.996264)\">\n",
       "<path d=\"M227.978 398.694H223.71\" fill=\"none\" stroke=\"#000000\" stroke-linecap=\"round\" stroke-linejoin=\"round\" stroke-miterlimit=\"10.0375\" stroke-width=\"0.711319\"/>\n",
       "</g>\n",
       "<use x=\"487.560017\" y=\"681.483059\" xlink:href=\"#g0-0\"/>\n",
       "<use x=\"496.858514\" y=\"681.483059\" xlink:href=\"#g1-54\"/>\n",
       "<g transform=\"translate(283.535 280.984)scale(.996264)\">\n",
       "<path d=\"M227.978 391.581H225.844\" fill=\"none\" stroke=\"#000000\" stroke-linecap=\"round\" stroke-linejoin=\"round\" stroke-miterlimit=\"10.0375\" stroke-width=\"0.426791\"/>\n",
       "</g>\n",
       "<g transform=\"translate(283.535 280.984)scale(.996264)\">\n",
       "<path d=\"M227.978 384.468H225.844\" fill=\"none\" stroke=\"#000000\" stroke-linecap=\"round\" stroke-linejoin=\"round\" stroke-miterlimit=\"10.0375\" stroke-width=\"0.426791\"/>\n",
       "</g>\n",
       "<g transform=\"translate(283.535 280.984)scale(.996264)\">\n",
       "<path d=\"M227.978 377.355H225.844\" fill=\"none\" stroke=\"#000000\" stroke-linecap=\"round\" stroke-linejoin=\"round\" stroke-miterlimit=\"10.0375\" stroke-width=\"0.426791\"/>\n",
       "</g>\n",
       "<g transform=\"translate(283.535 280.984)scale(.996264)\">\n",
       "<path d=\"M227.978 370.241H223.71\" fill=\"none\" stroke=\"#000000\" stroke-linecap=\"round\" stroke-linejoin=\"round\" stroke-miterlimit=\"10.0375\" stroke-width=\"0.711319\"/>\n",
       "</g>\n",
       "<use x=\"487.560017\" y=\"653.136599\" xlink:href=\"#g0-0\"/>\n",
       "<use x=\"496.858514\" y=\"653.136599\" xlink:href=\"#g1-53\"/>\n",
       "<g transform=\"translate(283.535 280.984)scale(.996264)\">\n",
       "<path d=\"M227.978 363.128H225.844\" fill=\"none\" stroke=\"#000000\" stroke-linecap=\"round\" stroke-linejoin=\"round\" stroke-miterlimit=\"10.0375\" stroke-width=\"0.426791\"/>\n",
       "</g>\n",
       "<g transform=\"translate(283.535 280.984)scale(.996264)\">\n",
       "<path d=\"M227.978 356.015H225.844\" fill=\"none\" stroke=\"#000000\" stroke-linecap=\"round\" stroke-linejoin=\"round\" stroke-miterlimit=\"10.0375\" stroke-width=\"0.426791\"/>\n",
       "</g>\n",
       "<g transform=\"translate(283.535 280.984)scale(.996264)\">\n",
       "<path d=\"M227.978 348.902H225.844\" fill=\"none\" stroke=\"#000000\" stroke-linecap=\"round\" stroke-linejoin=\"round\" stroke-miterlimit=\"10.0375\" stroke-width=\"0.426791\"/>\n",
       "</g>\n",
       "<g transform=\"translate(283.535 280.984)scale(.996264)\">\n",
       "<path d=\"M227.978 341.789H223.71\" fill=\"none\" stroke=\"#000000\" stroke-linecap=\"round\" stroke-linejoin=\"round\" stroke-miterlimit=\"10.0375\" stroke-width=\"0.711319\"/>\n",
       "</g>\n",
       "<use x=\"487.560017\" y=\"624.790139\" xlink:href=\"#g0-0\"/>\n",
       "<use x=\"496.858514\" y=\"624.790139\" xlink:href=\"#g1-52\"/>\n",
       "<g transform=\"translate(283.535 280.984)scale(.996264)\">\n",
       "<path d=\"M227.978 334.676H225.844\" fill=\"none\" stroke=\"#000000\" stroke-linecap=\"round\" stroke-linejoin=\"round\" stroke-miterlimit=\"10.0375\" stroke-width=\"0.426791\"/>\n",
       "</g>\n",
       "<g transform=\"translate(283.535 280.984)scale(.996264)\">\n",
       "<path d=\"M227.978 327.562H225.844\" fill=\"none\" stroke=\"#000000\" stroke-linecap=\"round\" stroke-linejoin=\"round\" stroke-miterlimit=\"10.0375\" stroke-width=\"0.426791\"/>\n",
       "</g>\n",
       "<g transform=\"translate(283.535 280.984)scale(.996264)\">\n",
       "<path d=\"M227.978 320.449H225.844\" fill=\"none\" stroke=\"#000000\" stroke-linecap=\"round\" stroke-linejoin=\"round\" stroke-miterlimit=\"10.0375\" stroke-width=\"0.426791\"/>\n",
       "</g>\n",
       "<g transform=\"translate(283.535 280.984)scale(.996264)\">\n",
       "<path d=\"M227.978 313.336H223.71\" fill=\"none\" stroke=\"#000000\" stroke-linecap=\"round\" stroke-linejoin=\"round\" stroke-miterlimit=\"10.0375\" stroke-width=\"0.711319\"/>\n",
       "</g>\n",
       "<use x=\"487.560017\" y=\"596.44368\" xlink:href=\"#g0-0\"/>\n",
       "<use x=\"496.858514\" y=\"596.44368\" xlink:href=\"#g1-51\"/>\n",
       "<g transform=\"translate(283.535 280.984)scale(.996264)\">\n",
       "<path d=\"M227.978 306.223H225.844\" fill=\"none\" stroke=\"#000000\" stroke-linecap=\"round\" stroke-linejoin=\"round\" stroke-miterlimit=\"10.0375\" stroke-width=\"0.426791\"/>\n",
       "</g>\n",
       "<g transform=\"translate(283.535 280.984)scale(.996264)\">\n",
       "<path d=\"M227.978 299.11H225.844\" fill=\"none\" stroke=\"#000000\" stroke-linecap=\"round\" stroke-linejoin=\"round\" stroke-miterlimit=\"10.0375\" stroke-width=\"0.426791\"/>\n",
       "</g>\n",
       "<g transform=\"translate(283.535 280.984)scale(.996264)\">\n",
       "<path d=\"M227.978 291.996H225.844\" fill=\"none\" stroke=\"#000000\" stroke-linecap=\"round\" stroke-linejoin=\"round\" stroke-miterlimit=\"10.0375\" stroke-width=\"0.426791\"/>\n",
       "</g>\n",
       "<g transform=\"translate(283.535 280.984)scale(.996264)\">\n",
       "<path d=\"M227.978 284.883H223.71\" fill=\"none\" stroke=\"#000000\" stroke-linecap=\"round\" stroke-linejoin=\"round\" stroke-miterlimit=\"10.0375\" stroke-width=\"0.711319\"/>\n",
       "</g>\n",
       "<use x=\"487.560017\" y=\"568.097235\" xlink:href=\"#g0-0\"/>\n",
       "<use x=\"496.858514\" y=\"568.097235\" xlink:href=\"#g1-50\"/>\n",
       "<g transform=\"translate(283.535 280.984)scale(.996264)\">\n",
       "<path d=\"M227.978 277.77H225.844\" fill=\"none\" stroke=\"#000000\" stroke-linecap=\"round\" stroke-linejoin=\"round\" stroke-miterlimit=\"10.0375\" stroke-width=\"0.426791\"/>\n",
       "</g>\n",
       "<g transform=\"translate(283.535 280.984)scale(.996264)\">\n",
       "<path d=\"M227.978 270.657H225.844\" fill=\"none\" stroke=\"#000000\" stroke-linecap=\"round\" stroke-linejoin=\"round\" stroke-miterlimit=\"10.0375\" stroke-width=\"0.426791\"/>\n",
       "</g>\n",
       "<g transform=\"translate(283.535 280.984)scale(.996264)\">\n",
       "<path d=\"M227.978 263.544H225.844\" fill=\"none\" stroke=\"#000000\" stroke-linecap=\"round\" stroke-linejoin=\"round\" stroke-miterlimit=\"10.0375\" stroke-width=\"0.426791\"/>\n",
       "</g>\n",
       "<g transform=\"translate(283.535 280.984)scale(.996264)\">\n",
       "<path d=\"M227.978 256.43H223.71\" fill=\"none\" stroke=\"#000000\" stroke-linecap=\"round\" stroke-linejoin=\"round\" stroke-miterlimit=\"10.0375\" stroke-width=\"0.711319\"/>\n",
       "</g>\n",
       "<use x=\"487.560017\" y=\"539.750776\" xlink:href=\"#g0-0\"/>\n",
       "<use x=\"496.858514\" y=\"539.750776\" xlink:href=\"#g1-49\"/>\n",
       "<g transform=\"translate(283.535 280.984)scale(.996264)\">\n",
       "<path d=\"M227.978 249.317H225.844\" fill=\"none\" stroke=\"#000000\" stroke-linecap=\"round\" stroke-linejoin=\"round\" stroke-miterlimit=\"10.0375\" stroke-width=\"0.426791\"/>\n",
       "</g>\n",
       "<g transform=\"translate(283.535 280.984)scale(.996264)\">\n",
       "<path d=\"M227.978 242.204H225.844\" fill=\"none\" stroke=\"#000000\" stroke-linecap=\"round\" stroke-linejoin=\"round\" stroke-miterlimit=\"10.0375\" stroke-width=\"0.426791\"/>\n",
       "</g>\n",
       "<g transform=\"translate(283.535 280.984)scale(.996264)\">\n",
       "<path d=\"M227.978 235.091H225.844\" fill=\"none\" stroke=\"#000000\" stroke-linecap=\"round\" stroke-linejoin=\"round\" stroke-miterlimit=\"10.0375\" stroke-width=\"0.426791\"/>\n",
       "</g>\n",
       "<g transform=\"translate(283.535 280.984)scale(.996264)\">\n",
       "<path d=\"M227.978 199.525H223.71\" fill=\"none\" stroke=\"#000000\" stroke-linecap=\"round\" stroke-linejoin=\"round\" stroke-miterlimit=\"10.0375\" stroke-width=\"0.711319\"/>\n",
       "</g>\n",
       "<use x=\"496.858506\" y=\"483.555974\" xlink:href=\"#g1-49\"/>\n",
       "<g transform=\"translate(283.535 280.984)scale(.996264)\">\n",
       "<path d=\"M227.978 206.638H225.844\" fill=\"none\" stroke=\"#000000\" stroke-linecap=\"round\" stroke-linejoin=\"round\" stroke-miterlimit=\"10.0375\" stroke-width=\"0.426791\"/>\n",
       "</g>\n",
       "<g transform=\"translate(283.535 280.984)scale(.996264)\">\n",
       "<path d=\"M227.978 213.751H225.844\" fill=\"none\" stroke=\"#000000\" stroke-linecap=\"round\" stroke-linejoin=\"round\" stroke-miterlimit=\"10.0375\" stroke-width=\"0.426791\"/>\n",
       "</g>\n",
       "<g transform=\"translate(283.535 280.984)scale(.996264)\">\n",
       "<path d=\"M227.978 220.865H225.844\" fill=\"none\" stroke=\"#000000\" stroke-linecap=\"round\" stroke-linejoin=\"round\" stroke-miterlimit=\"10.0375\" stroke-width=\"0.426791\"/>\n",
       "</g>\n",
       "<g transform=\"translate(283.535 280.984)scale(.996264)\">\n",
       "<path d=\"M227.978 171.072H223.71\" fill=\"none\" stroke=\"#000000\" stroke-linecap=\"round\" stroke-linejoin=\"round\" stroke-miterlimit=\"10.0375\" stroke-width=\"0.711319\"/>\n",
       "</g>\n",
       "<use x=\"496.858506\" y=\"455.209514\" xlink:href=\"#g1-50\"/>\n",
       "<g transform=\"translate(283.535 280.984)scale(.996264)\">\n",
       "<path d=\"M227.978 178.185H225.844\" fill=\"none\" stroke=\"#000000\" stroke-linecap=\"round\" stroke-linejoin=\"round\" stroke-miterlimit=\"10.0375\" stroke-width=\"0.426791\"/>\n",
       "</g>\n",
       "<g transform=\"translate(283.535 280.984)scale(.996264)\">\n",
       "<path d=\"M227.978 185.299H225.844\" fill=\"none\" stroke=\"#000000\" stroke-linecap=\"round\" stroke-linejoin=\"round\" stroke-miterlimit=\"10.0375\" stroke-width=\"0.426791\"/>\n",
       "</g>\n",
       "<g transform=\"translate(283.535 280.984)scale(.996264)\">\n",
       "<path d=\"M227.978 192.412H225.844\" fill=\"none\" stroke=\"#000000\" stroke-linecap=\"round\" stroke-linejoin=\"round\" stroke-miterlimit=\"10.0375\" stroke-width=\"0.426791\"/>\n",
       "</g>\n",
       "<g transform=\"translate(283.535 280.984)scale(.996264)\">\n",
       "<path d=\"M227.978 142.619H223.71\" fill=\"none\" stroke=\"#000000\" stroke-linecap=\"round\" stroke-linejoin=\"round\" stroke-miterlimit=\"10.0375\" stroke-width=\"0.711319\"/>\n",
       "</g>\n",
       "<use x=\"496.858506\" y=\"426.86307\" xlink:href=\"#g1-51\"/>\n",
       "<g transform=\"translate(283.535 280.984)scale(.996264)\">\n",
       "<path d=\"M227.978 149.733H225.844\" fill=\"none\" stroke=\"#000000\" stroke-linecap=\"round\" stroke-linejoin=\"round\" stroke-miterlimit=\"10.0375\" stroke-width=\"0.426791\"/>\n",
       "</g>\n",
       "<g transform=\"translate(283.535 280.984)scale(.996264)\">\n",
       "<path d=\"M227.978 156.846H225.844\" fill=\"none\" stroke=\"#000000\" stroke-linecap=\"round\" stroke-linejoin=\"round\" stroke-miterlimit=\"10.0375\" stroke-width=\"0.426791\"/>\n",
       "</g>\n",
       "<g transform=\"translate(283.535 280.984)scale(.996264)\">\n",
       "<path d=\"M227.978 163.959H225.844\" fill=\"none\" stroke=\"#000000\" stroke-linecap=\"round\" stroke-linejoin=\"round\" stroke-miterlimit=\"10.0375\" stroke-width=\"0.426791\"/>\n",
       "</g>\n",
       "<g transform=\"translate(283.535 280.984)scale(.996264)\">\n",
       "<path d=\"M227.978 114.167H223.71\" fill=\"none\" stroke=\"#000000\" stroke-linecap=\"round\" stroke-linejoin=\"round\" stroke-miterlimit=\"10.0375\" stroke-width=\"0.711319\"/>\n",
       "</g>\n",
       "<use x=\"496.858506\" y=\"398.51661\" xlink:href=\"#g1-52\"/>\n",
       "<g transform=\"translate(283.535 280.984)scale(.996264)\">\n",
       "<path d=\"M227.978 121.28H225.844\" fill=\"none\" stroke=\"#000000\" stroke-linecap=\"round\" stroke-linejoin=\"round\" stroke-miterlimit=\"10.0375\" stroke-width=\"0.426791\"/>\n",
       "</g>\n",
       "<g transform=\"translate(283.535 280.984)scale(.996264)\">\n",
       "<path d=\"M227.978 128.393H225.844\" fill=\"none\" stroke=\"#000000\" stroke-linecap=\"round\" stroke-linejoin=\"round\" stroke-miterlimit=\"10.0375\" stroke-width=\"0.426791\"/>\n",
       "</g>\n",
       "<g transform=\"translate(283.535 280.984)scale(.996264)\">\n",
       "<path d=\"M227.978 135.506H225.844\" fill=\"none\" stroke=\"#000000\" stroke-linecap=\"round\" stroke-linejoin=\"round\" stroke-miterlimit=\"10.0375\" stroke-width=\"0.426791\"/>\n",
       "</g>\n",
       "<g transform=\"translate(283.535 280.984)scale(.996264)\">\n",
       "<path d=\"M227.978 85.7139H223.71\" fill=\"none\" stroke=\"#000000\" stroke-linecap=\"round\" stroke-linejoin=\"round\" stroke-miterlimit=\"10.0375\" stroke-width=\"0.711319\"/>\n",
       "</g>\n",
       "<use x=\"496.858506\" y=\"370.170151\" xlink:href=\"#g1-53\"/>\n",
       "<g transform=\"translate(283.535 280.984)scale(.996264)\">\n",
       "<path d=\"M227.978 92.8271H225.844\" fill=\"none\" stroke=\"#000000\" stroke-linecap=\"round\" stroke-linejoin=\"round\" stroke-miterlimit=\"10.0375\" stroke-width=\"0.426791\"/>\n",
       "</g>\n",
       "<g transform=\"translate(283.535 280.984)scale(.996264)\">\n",
       "<path d=\"M227.978 99.9403H225.844\" fill=\"none\" stroke=\"#000000\" stroke-linecap=\"round\" stroke-linejoin=\"round\" stroke-miterlimit=\"10.0375\" stroke-width=\"0.426791\"/>\n",
       "</g>\n",
       "<g transform=\"translate(283.535 280.984)scale(.996264)\">\n",
       "<path d=\"M227.978 107.053H225.844\" fill=\"none\" stroke=\"#000000\" stroke-linecap=\"round\" stroke-linejoin=\"round\" stroke-miterlimit=\"10.0375\" stroke-width=\"0.426791\"/>\n",
       "</g>\n",
       "<g transform=\"translate(283.535 280.984)scale(.996264)\">\n",
       "<path d=\"M227.978 57.2612H223.71\" fill=\"none\" stroke=\"#000000\" stroke-linecap=\"round\" stroke-linejoin=\"round\" stroke-miterlimit=\"10.0375\" stroke-width=\"0.711319\"/>\n",
       "</g>\n",
       "<use x=\"496.858506\" y=\"341.823691\" xlink:href=\"#g1-54\"/>\n",
       "<g transform=\"translate(283.535 280.984)scale(.996264)\">\n",
       "<path d=\"M227.978 64.3744H225.844\" fill=\"none\" stroke=\"#000000\" stroke-linecap=\"round\" stroke-linejoin=\"round\" stroke-miterlimit=\"10.0375\" stroke-width=\"0.426791\"/>\n",
       "</g>\n",
       "<g transform=\"translate(283.535 280.984)scale(.996264)\">\n",
       "<path d=\"M227.978 71.4875H225.844\" fill=\"none\" stroke=\"#000000\" stroke-linecap=\"round\" stroke-linejoin=\"round\" stroke-miterlimit=\"10.0375\" stroke-width=\"0.426791\"/>\n",
       "</g>\n",
       "<g transform=\"translate(283.535 280.984)scale(.996264)\">\n",
       "<path d=\"M227.978 78.6007H225.844\" fill=\"none\" stroke=\"#000000\" stroke-linecap=\"round\" stroke-linejoin=\"round\" stroke-miterlimit=\"10.0375\" stroke-width=\"0.426791\"/>\n",
       "</g>\n",
       "<g transform=\"translate(283.535 280.984)scale(.996264)\">\n",
       "<path d=\"M227.978 28.8084H223.71\" fill=\"none\" stroke=\"#000000\" stroke-linecap=\"round\" stroke-linejoin=\"round\" stroke-miterlimit=\"10.0375\" stroke-width=\"0.711319\"/>\n",
       "</g>\n",
       "<use x=\"496.858506\" y=\"313.477231\" xlink:href=\"#g1-55\"/>\n",
       "<g transform=\"translate(283.535 280.984)scale(.996264)\">\n",
       "<path d=\"M227.978 35.9216H225.844\" fill=\"none\" stroke=\"#000000\" stroke-linecap=\"round\" stroke-linejoin=\"round\" stroke-miterlimit=\"10.0375\" stroke-width=\"0.426791\"/>\n",
       "</g>\n",
       "<g transform=\"translate(283.535 280.984)scale(.996264)\">\n",
       "<path d=\"M227.978 43.0348H225.844\" fill=\"none\" stroke=\"#000000\" stroke-linecap=\"round\" stroke-linejoin=\"round\" stroke-miterlimit=\"10.0375\" stroke-width=\"0.426791\"/>\n",
       "</g>\n",
       "<g transform=\"translate(283.535 280.984)scale(.996264)\">\n",
       "<path d=\"M227.978 50.148H225.844\" fill=\"none\" stroke=\"#000000\" stroke-linecap=\"round\" stroke-linejoin=\"round\" stroke-miterlimit=\"10.0375\" stroke-width=\"0.426791\"/>\n",
       "</g>\n",
       "<g transform=\"translate(283.535 280.984)scale(.996264)\">\n",
       "<path d=\"M227.978 36.8384V227.978\" fill=\"none\" stroke=\"#0000ff\" stroke-linecap=\"round\" stroke-linejoin=\"round\" stroke-miterlimit=\"10.0375\" stroke-width=\"1.5649\"/>\n",
       "</g>\n",
       "<g transform=\"translate(283.535 280.984)scale(.996264)\">\n",
       "<path d=\"M227.978 28.8084L225.826 36.8384H230.129L227.978 28.8084Z\" fill=\"#0000ff\"/>\n",
       "</g>\n",
       "<g transform=\"translate(283.535 280.984)scale(.996264)\">\n",
       "<path d=\"M227.978 28.8084L225.826 36.8384H230.129L227.978 28.8084Z\" fill=\"none\" stroke=\"#0000ff\" stroke-linecap=\"round\" stroke-linejoin=\"round\" stroke-miterlimit=\"10.0375\" stroke-width=\"1.5649\"/>\n",
       "</g>\n",
       "<g transform=\"translate(283.535 280.984)scale(.996264)\">\n",
       "<path d=\"M68.6423 347.479L387.313 108.476\" fill=\"none\" stroke=\"#ff0000\" stroke-linecap=\"round\" stroke-linejoin=\"round\" stroke-miterlimit=\"10.0375\" stroke-width=\"0.711319\"/>\n",
       "</g>\n",
       "<g transform=\"translate(283.535 280.984)scale(.996264)\">\n",
       "<path d=\"M347.479 387.313L108.476 68.6423\" fill=\"none\" stroke=\"#ff0000\" stroke-linecap=\"round\" stroke-linejoin=\"round\" stroke-miterlimit=\"10.0375\" stroke-width=\"0.711319\"/>\n",
       "</g>\n",
       "<g transform=\"translate(283.535 280.984)scale(.996264)\">\n",
       "<path d=\"M91.4045 330.408L93.9652 333.822\" fill=\"none\" stroke=\"#ff0000\" stroke-linecap=\"round\" stroke-linejoin=\"round\" stroke-miterlimit=\"10.0375\" stroke-width=\"0.711319\"/>\n",
       "</g>\n",
       "<g fill=\"#f00\" transform=\"matrix(.8 -.6 .6 .8 -294.0012 350.9164)\">\n",
       "<use x=\"371.798763\" y=\"624.164905\" xlink:href=\"#g0-0\"/>\n",
       "<use x=\"381.09726\" y=\"624.164905\" xlink:href=\"#g1-54\"/>\n",
       "</g>\n",
       "<g transform=\"translate(283.535 280.984)scale(.996264)\">\n",
       "<path d=\"M97.095 326.14L98.3754 327.847\" fill=\"none\" stroke=\"#ff0000\" stroke-linecap=\"round\" stroke-linejoin=\"round\" stroke-miterlimit=\"10.0375\" stroke-width=\"0.426791\"/>\n",
       "</g>\n",
       "<g transform=\"translate(283.535 280.984)scale(.996264)\">\n",
       "<path d=\"M102.786 321.872L104.066 323.579\" fill=\"none\" stroke=\"#ff0000\" stroke-linecap=\"round\" stroke-linejoin=\"round\" stroke-miterlimit=\"10.0375\" stroke-width=\"0.426791\"/>\n",
       "</g>\n",
       "<g transform=\"translate(283.535 280.984)scale(.996264)\">\n",
       "<path d=\"M108.476 317.604L109.757 319.311\" fill=\"none\" stroke=\"#ff0000\" stroke-linecap=\"round\" stroke-linejoin=\"round\" stroke-miterlimit=\"10.0375\" stroke-width=\"0.426791\"/>\n",
       "</g>\n",
       "<g transform=\"translate(283.535 280.984)scale(.996264)\">\n",
       "<path d=\"M114.167 313.336L116.727 316.75\" fill=\"none\" stroke=\"#ff0000\" stroke-linecap=\"round\" stroke-linejoin=\"round\" stroke-miterlimit=\"10.0375\" stroke-width=\"0.711319\"/>\n",
       "</g>\n",
       "<g fill=\"#f00\" transform=\"matrix(.8 -.6 .6 .8 -279.2614 361.1218)\">\n",
       "<use x=\"394.475931\" y=\"607.157045\" xlink:href=\"#g0-0\"/>\n",
       "<use x=\"403.774428\" y=\"607.157045\" xlink:href=\"#g1-53\"/>\n",
       "</g>\n",
       "<g transform=\"translate(283.535 280.984)scale(.996264)\">\n",
       "<path d=\"M119.857 309.068L121.138 310.775\" fill=\"none\" stroke=\"#ff0000\" stroke-linecap=\"round\" stroke-linejoin=\"round\" stroke-miterlimit=\"10.0375\" stroke-width=\"0.426791\"/>\n",
       "</g>\n",
       "<g transform=\"translate(283.535 280.984)scale(.996264)\">\n",
       "<path d=\"M125.548 304.8L126.828 306.507\" fill=\"none\" stroke=\"#ff0000\" stroke-linecap=\"round\" stroke-linejoin=\"round\" stroke-miterlimit=\"10.0375\" stroke-width=\"0.426791\"/>\n",
       "</g>\n",
       "<g transform=\"translate(283.535 280.984)scale(.996264)\">\n",
       "<path d=\"M131.238 300.532L132.519 302.239\" fill=\"none\" stroke=\"#ff0000\" stroke-linecap=\"round\" stroke-linejoin=\"round\" stroke-miterlimit=\"10.0375\" stroke-width=\"0.426791\"/>\n",
       "</g>\n",
       "<g transform=\"translate(283.535 280.984)scale(.996264)\">\n",
       "<path d=\"M136.929 296.264L139.49 299.679\" fill=\"none\" stroke=\"#ff0000\" stroke-linecap=\"round\" stroke-linejoin=\"round\" stroke-miterlimit=\"10.0375\" stroke-width=\"0.711319\"/>\n",
       "</g>\n",
       "<g fill=\"#f00\" transform=\"matrix(.8 -.6 .6 .8 -264.5212 371.3264)\">\n",
       "<use x=\"417.153083\" y=\"590.149169\" xlink:href=\"#g0-0\"/>\n",
       "<use x=\"426.45158\" y=\"590.149169\" xlink:href=\"#g1-52\"/>\n",
       "</g>\n",
       "<g transform=\"translate(283.535 280.984)scale(.996264)\">\n",
       "<path d=\"M142.619 291.996L143.9 293.704\" fill=\"none\" stroke=\"#ff0000\" stroke-linecap=\"round\" stroke-linejoin=\"round\" stroke-miterlimit=\"10.0375\" stroke-width=\"0.426791\"/>\n",
       "</g>\n",
       "<g transform=\"translate(283.535 280.984)scale(.996264)\">\n",
       "<path d=\"M148.31 287.728L149.59 289.436\" fill=\"none\" stroke=\"#ff0000\" stroke-linecap=\"round\" stroke-linejoin=\"round\" stroke-miterlimit=\"10.0375\" stroke-width=\"0.426791\"/>\n",
       "</g>\n",
       "<g transform=\"translate(283.535 280.984)scale(.996264)\">\n",
       "<path d=\"M154.001 283.461L155.281 285.168\" fill=\"none\" stroke=\"#ff0000\" stroke-linecap=\"round\" stroke-linejoin=\"round\" stroke-miterlimit=\"10.0375\" stroke-width=\"0.426791\"/>\n",
       "</g>\n",
       "<g transform=\"translate(283.535 280.984)scale(.996264)\">\n",
       "<path d=\"M159.691 279.193L162.252 282.607\" fill=\"none\" stroke=\"#ff0000\" stroke-linecap=\"round\" stroke-linejoin=\"round\" stroke-miterlimit=\"10.0375\" stroke-width=\"0.711319\"/>\n",
       "</g>\n",
       "<g fill=\"#f00\" transform=\"matrix(.8 -.6 .6 .8 -249.781 381.531)\">\n",
       "<use x=\"439.830251\" y=\"573.141293\" xlink:href=\"#g0-0\"/>\n",
       "<use x=\"449.128748\" y=\"573.141293\" xlink:href=\"#g1-51\"/>\n",
       "</g>\n",
       "<g transform=\"translate(283.535 280.984)scale(.996264)\">\n",
       "<path d=\"M165.382 274.925L166.662 276.632\" fill=\"none\" stroke=\"#ff0000\" stroke-linecap=\"round\" stroke-linejoin=\"round\" stroke-miterlimit=\"10.0375\" stroke-width=\"0.426791\"/>\n",
       "</g>\n",
       "<g transform=\"translate(283.535 280.984)scale(.996264)\">\n",
       "<path d=\"M171.072 270.657L172.353 272.364\" fill=\"none\" stroke=\"#ff0000\" stroke-linecap=\"round\" stroke-linejoin=\"round\" stroke-miterlimit=\"10.0375\" stroke-width=\"0.426791\"/>\n",
       "</g>\n",
       "<g transform=\"translate(283.535 280.984)scale(.996264)\">\n",
       "<path d=\"M176.763 266.389L178.043 268.096\" fill=\"none\" stroke=\"#ff0000\" stroke-linecap=\"round\" stroke-linejoin=\"round\" stroke-miterlimit=\"10.0375\" stroke-width=\"0.426791\"/>\n",
       "</g>\n",
       "<g transform=\"translate(283.535 280.984)scale(.996264)\">\n",
       "<path d=\"M182.453 262.121L185.014 265.535\" fill=\"none\" stroke=\"#ff0000\" stroke-linecap=\"round\" stroke-linejoin=\"round\" stroke-miterlimit=\"10.0375\" stroke-width=\"0.711319\"/>\n",
       "</g>\n",
       "<g fill=\"#f00\" transform=\"matrix(.8 -.6 .6 .8 -235.0408 391.7356)\">\n",
       "<use x=\"462.507418\" y=\"556.133418\" xlink:href=\"#g0-0\"/>\n",
       "<use x=\"471.805915\" y=\"556.133418\" xlink:href=\"#g1-50\"/>\n",
       "</g>\n",
       "<g transform=\"translate(283.535 280.984)scale(.996264)\">\n",
       "<path d=\"M188.144 257.853L189.424 259.56\" fill=\"none\" stroke=\"#ff0000\" stroke-linecap=\"round\" stroke-linejoin=\"round\" stroke-miterlimit=\"10.0375\" stroke-width=\"0.426791\"/>\n",
       "</g>\n",
       "<g transform=\"translate(283.535 280.984)scale(.996264)\">\n",
       "<path d=\"M193.834 253.585L195.115 255.292\" fill=\"none\" stroke=\"#ff0000\" stroke-linecap=\"round\" stroke-linejoin=\"round\" stroke-miterlimit=\"10.0375\" stroke-width=\"0.426791\"/>\n",
       "</g>\n",
       "<g transform=\"translate(283.535 280.984)scale(.996264)\">\n",
       "<path d=\"M199.525 249.317L200.805 251.024\" fill=\"none\" stroke=\"#ff0000\" stroke-linecap=\"round\" stroke-linejoin=\"round\" stroke-miterlimit=\"10.0375\" stroke-width=\"0.426791\"/>\n",
       "</g>\n",
       "<g transform=\"translate(283.535 280.984)scale(.996264)\">\n",
       "<path d=\"M205.216 245.049L207.776 248.464\" fill=\"none\" stroke=\"#ff0000\" stroke-linecap=\"round\" stroke-linejoin=\"round\" stroke-miterlimit=\"10.0375\" stroke-width=\"0.711319\"/>\n",
       "</g>\n",
       "<g fill=\"#f00\" transform=\"matrix(.8 -.6 .6 .8 -220.3006 401.9402)\">\n",
       "<use x=\"485.184586\" y=\"539.125542\" xlink:href=\"#g0-0\"/>\n",
       "<use x=\"494.483083\" y=\"539.125542\" xlink:href=\"#g1-49\"/>\n",
       "</g>\n",
       "<g transform=\"translate(283.535 280.984)scale(.996264)\">\n",
       "<path d=\"M210.906 240.781L212.186 242.489\" fill=\"none\" stroke=\"#ff0000\" stroke-linecap=\"round\" stroke-linejoin=\"round\" stroke-miterlimit=\"10.0375\" stroke-width=\"0.426791\"/>\n",
       "</g>\n",
       "<g transform=\"translate(283.535 280.984)scale(.996264)\">\n",
       "<path d=\"M216.597 236.514L217.877 238.221\" fill=\"none\" stroke=\"#ff0000\" stroke-linecap=\"round\" stroke-linejoin=\"round\" stroke-miterlimit=\"10.0375\" stroke-width=\"0.426791\"/>\n",
       "</g>\n",
       "<g transform=\"translate(283.535 280.984)scale(.996264)\">\n",
       "<path d=\"M222.287 232.246L223.568 233.953\" fill=\"none\" stroke=\"#ff0000\" stroke-linecap=\"round\" stroke-linejoin=\"round\" stroke-miterlimit=\"10.0375\" stroke-width=\"0.426791\"/>\n",
       "</g>\n",
       "<g transform=\"translate(283.535 280.984)scale(.996264)\">\n",
       "<path d=\"M250.74 210.906L253.301 214.32\" fill=\"none\" stroke=\"#ff0000\" stroke-linecap=\"round\" stroke-linejoin=\"round\" stroke-miterlimit=\"10.0375\" stroke-width=\"0.711319\"/>\n",
       "</g>\n",
       "<g fill=\"#f00\" transform=\"matrix(.8 -.6 .6 .8 -190.82 422.35)\">\n",
       "<use x=\"535.188159\" y=\"505.109775\" xlink:href=\"#g1-49\"/>\n",
       "</g>\n",
       "<g transform=\"translate(283.535 280.984)scale(.996264)\">\n",
       "<path d=\"M245.049 215.174L246.33 216.881\" fill=\"none\" stroke=\"#ff0000\" stroke-linecap=\"round\" stroke-linejoin=\"round\" stroke-miterlimit=\"10.0375\" stroke-width=\"0.426791\"/>\n",
       "</g>\n",
       "<g transform=\"translate(283.535 280.984)scale(.996264)\">\n",
       "<path d=\"M239.359 219.442L240.639 221.149\" fill=\"none\" stroke=\"#ff0000\" stroke-linecap=\"round\" stroke-linejoin=\"round\" stroke-miterlimit=\"10.0375\" stroke-width=\"0.426791\"/>\n",
       "</g>\n",
       "<g transform=\"translate(283.535 280.984)scale(.996264)\">\n",
       "<path d=\"M233.668 223.71L234.949 225.417\" fill=\"none\" stroke=\"#ff0000\" stroke-linecap=\"round\" stroke-linejoin=\"round\" stroke-miterlimit=\"10.0375\" stroke-width=\"0.426791\"/>\n",
       "</g>\n",
       "<g transform=\"translate(283.535 280.984)scale(.996264)\">\n",
       "<path d=\"M273.502 193.834L276.063 197.249\" fill=\"none\" stroke=\"#ff0000\" stroke-linecap=\"round\" stroke-linejoin=\"round\" stroke-miterlimit=\"10.0375\" stroke-width=\"0.711319\"/>\n",
       "</g>\n",
       "<g fill=\"#f00\" transform=\"matrix(.8 -.6 .6 .8 -176.0798 432.5546)\">\n",
       "<use x=\"557.865326\" y=\"488.101899\" xlink:href=\"#g1-50\"/>\n",
       "</g>\n",
       "<g transform=\"translate(283.535 280.984)scale(.996264)\">\n",
       "<path d=\"M267.812 198.102L269.092 199.809\" fill=\"none\" stroke=\"#ff0000\" stroke-linecap=\"round\" stroke-linejoin=\"round\" stroke-miterlimit=\"10.0375\" stroke-width=\"0.426791\"/>\n",
       "</g>\n",
       "<g transform=\"translate(283.535 280.984)scale(.996264)\">\n",
       "<path d=\"M262.121 202.37L263.401 204.077\" fill=\"none\" stroke=\"#ff0000\" stroke-linecap=\"round\" stroke-linejoin=\"round\" stroke-miterlimit=\"10.0375\" stroke-width=\"0.426791\"/>\n",
       "</g>\n",
       "<g transform=\"translate(283.535 280.984)scale(.996264)\">\n",
       "<path d=\"M256.43 206.638L257.711 208.345\" fill=\"none\" stroke=\"#ff0000\" stroke-linecap=\"round\" stroke-linejoin=\"round\" stroke-miterlimit=\"10.0375\" stroke-width=\"0.426791\"/>\n",
       "</g>\n",
       "<g transform=\"translate(283.535 280.984)scale(.996264)\">\n",
       "<path d=\"M296.264 176.763L298.825 180.177\" fill=\"none\" stroke=\"#ff0000\" stroke-linecap=\"round\" stroke-linejoin=\"round\" stroke-miterlimit=\"10.0375\" stroke-width=\"0.711319\"/>\n",
       "</g>\n",
       "<g fill=\"#f00\" transform=\"matrix(.8 -.6 .6 .8 -161.3402 442.7594)\">\n",
       "<use x=\"580.542479\" y=\"471.094039\" xlink:href=\"#g1-51\"/>\n",
       "</g>\n",
       "<g transform=\"translate(283.535 280.984)scale(.996264)\">\n",
       "<path d=\"M290.574 181.031L291.854 182.738\" fill=\"none\" stroke=\"#ff0000\" stroke-linecap=\"round\" stroke-linejoin=\"round\" stroke-miterlimit=\"10.0375\" stroke-width=\"0.426791\"/>\n",
       "</g>\n",
       "<g transform=\"translate(283.535 280.984)scale(.996264)\">\n",
       "<path d=\"M284.883 185.299L286.164 187.006\" fill=\"none\" stroke=\"#ff0000\" stroke-linecap=\"round\" stroke-linejoin=\"round\" stroke-miterlimit=\"10.0375\" stroke-width=\"0.426791\"/>\n",
       "</g>\n",
       "<g transform=\"translate(283.535 280.984)scale(.996264)\">\n",
       "<path d=\"M279.193 189.566L280.473 191.274\" fill=\"none\" stroke=\"#ff0000\" stroke-linecap=\"round\" stroke-linejoin=\"round\" stroke-miterlimit=\"10.0375\" stroke-width=\"0.426791\"/>\n",
       "</g>\n",
       "<g transform=\"translate(283.535 280.984)scale(.996264)\">\n",
       "<path d=\"M319.027 159.691L321.587 163.105\" fill=\"none\" stroke=\"#ff0000\" stroke-linecap=\"round\" stroke-linejoin=\"round\" stroke-miterlimit=\"10.0375\" stroke-width=\"0.711319\"/>\n",
       "</g>\n",
       "<g fill=\"#f00\" transform=\"matrix(.8 -.6 .6 .8 -146.6 452.964)\">\n",
       "<use x=\"603.219646\" y=\"454.086163\" xlink:href=\"#g1-52\"/>\n",
       "</g>\n",
       "<g transform=\"translate(283.535 280.984)scale(.996264)\">\n",
       "<path d=\"M313.336 163.959L314.616 165.666\" fill=\"none\" stroke=\"#ff0000\" stroke-linecap=\"round\" stroke-linejoin=\"round\" stroke-miterlimit=\"10.0375\" stroke-width=\"0.426791\"/>\n",
       "</g>\n",
       "<g transform=\"translate(283.535 280.984)scale(.996264)\">\n",
       "<path d=\"M307.645 168.227L308.926 169.934\" fill=\"none\" stroke=\"#ff0000\" stroke-linecap=\"round\" stroke-linejoin=\"round\" stroke-miterlimit=\"10.0375\" stroke-width=\"0.426791\"/>\n",
       "</g>\n",
       "<g transform=\"translate(283.535 280.984)scale(.996264)\">\n",
       "<path d=\"M301.955 172.495L303.235 174.202\" fill=\"none\" stroke=\"#ff0000\" stroke-linecap=\"round\" stroke-linejoin=\"round\" stroke-miterlimit=\"10.0375\" stroke-width=\"0.426791\"/>\n",
       "</g>\n",
       "<g transform=\"translate(283.535 280.984)scale(.996264)\">\n",
       "<path d=\"M341.789 142.619L344.349 146.034\" fill=\"none\" stroke=\"#ff0000\" stroke-linecap=\"round\" stroke-linejoin=\"round\" stroke-miterlimit=\"10.0375\" stroke-width=\"0.711319\"/>\n",
       "</g>\n",
       "<g fill=\"#f00\" transform=\"matrix(.8 -.6 .6 .8 -131.8598 463.1686)\">\n",
       "<use x=\"625.896814\" y=\"437.078287\" xlink:href=\"#g1-53\"/>\n",
       "</g>\n",
       "<g transform=\"translate(283.535 280.984)scale(.996264)\">\n",
       "<path d=\"M336.098 146.887L337.379 148.595\" fill=\"none\" stroke=\"#ff0000\" stroke-linecap=\"round\" stroke-linejoin=\"round\" stroke-miterlimit=\"10.0375\" stroke-width=\"0.426791\"/>\n",
       "</g>\n",
       "<g transform=\"translate(283.535 280.984)scale(.996264)\">\n",
       "<path d=\"M330.408 151.155L331.688 152.862\" fill=\"none\" stroke=\"#ff0000\" stroke-linecap=\"round\" stroke-linejoin=\"round\" stroke-miterlimit=\"10.0375\" stroke-width=\"0.426791\"/>\n",
       "</g>\n",
       "<g transform=\"translate(283.535 280.984)scale(.996264)\">\n",
       "<path d=\"M324.717 155.423L325.997 157.13\" fill=\"none\" stroke=\"#ff0000\" stroke-linecap=\"round\" stroke-linejoin=\"round\" stroke-miterlimit=\"10.0375\" stroke-width=\"0.426791\"/>\n",
       "</g>\n",
       "<g transform=\"translate(283.535 280.984)scale(.996264)\">\n",
       "<path d=\"M364.551 125.548L367.112 128.962\" fill=\"none\" stroke=\"#ff0000\" stroke-linecap=\"round\" stroke-linejoin=\"round\" stroke-miterlimit=\"10.0375\" stroke-width=\"0.711319\"/>\n",
       "</g>\n",
       "<g fill=\"#f00\" transform=\"matrix(.8 -.6 .6 .8 -117.1196 473.3732)\">\n",
       "<use x=\"648.573982\" y=\"420.070412\" xlink:href=\"#g1-54\"/>\n",
       "</g>\n",
       "<g transform=\"translate(283.535 280.984)scale(.996264)\">\n",
       "<path d=\"M358.86 129.816L360.141 131.523\" fill=\"none\" stroke=\"#ff0000\" stroke-linecap=\"round\" stroke-linejoin=\"round\" stroke-miterlimit=\"10.0375\" stroke-width=\"0.426791\"/>\n",
       "</g>\n",
       "<g transform=\"translate(283.535 280.984)scale(.996264)\">\n",
       "<path d=\"M353.17 134.084L354.45 135.791\" fill=\"none\" stroke=\"#ff0000\" stroke-linecap=\"round\" stroke-linejoin=\"round\" stroke-miterlimit=\"10.0375\" stroke-width=\"0.426791\"/>\n",
       "</g>\n",
       "<g transform=\"translate(283.535 280.984)scale(.996264)\">\n",
       "<path d=\"M347.479 138.352L348.76 140.059\" fill=\"none\" stroke=\"#ff0000\" stroke-linecap=\"round\" stroke-linejoin=\"round\" stroke-miterlimit=\"10.0375\" stroke-width=\"0.426791\"/>\n",
       "</g>\n",
       "<g transform=\"translate(283.535 280.984)scale(.996264)\">\n",
       "<path d=\"M330.408 364.551L326.993 367.112\" fill=\"none\" stroke=\"#ff0000\" stroke-linecap=\"round\" stroke-linejoin=\"round\" stroke-miterlimit=\"10.0375\" stroke-width=\"0.711319\"/>\n",
       "</g>\n",
       "<g fill=\"#f00\" transform=\"matrix(.8 -.6 .6 .8 -268.0612 493.5864)\">\n",
       "<use x=\"591.198001\" y=\"652.239557\" xlink:href=\"#g0-0\"/>\n",
       "<use x=\"600.496498\" y=\"652.239557\" xlink:href=\"#g1-54\"/>\n",
       "</g>\n",
       "<g transform=\"translate(283.535 280.984)scale(.996264)\">\n",
       "<path d=\"M326.14 358.86L324.433 360.141\" fill=\"none\" stroke=\"#ff0000\" stroke-linecap=\"round\" stroke-linejoin=\"round\" stroke-miterlimit=\"10.0375\" stroke-width=\"0.426791\"/>\n",
       "</g>\n",
       "<g transform=\"translate(283.535 280.984)scale(.996264)\">\n",
       "<path d=\"M321.872 353.17L320.165 354.45\" fill=\"none\" stroke=\"#ff0000\" stroke-linecap=\"round\" stroke-linejoin=\"round\" stroke-miterlimit=\"10.0375\" stroke-width=\"0.426791\"/>\n",
       "</g>\n",
       "<g transform=\"translate(283.535 280.984)scale(.996264)\">\n",
       "<path d=\"M317.604 347.479L315.897 348.76\" fill=\"none\" stroke=\"#ff0000\" stroke-linecap=\"round\" stroke-linejoin=\"round\" stroke-miterlimit=\"10.0375\" stroke-width=\"0.426791\"/>\n",
       "</g>\n",
       "<g transform=\"translate(283.535 280.984)scale(.996264)\">\n",
       "<path d=\"M313.336 341.789L309.922 344.349\" fill=\"none\" stroke=\"#ff0000\" stroke-linecap=\"round\" stroke-linejoin=\"round\" stroke-miterlimit=\"10.0375\" stroke-width=\"0.711319\"/>\n",
       "</g>\n",
       "<g fill=\"#f00\" transform=\"matrix(.8 -.6 .6 .8 -257.8564 478.8468)\">\n",
       "<use x=\"574.190125\" y=\"629.562389\" xlink:href=\"#g0-0\"/>\n",
       "<use x=\"583.488622\" y=\"629.562389\" xlink:href=\"#g1-53\"/>\n",
       "</g>\n",
       "<g transform=\"translate(283.535 280.984)scale(.996264)\">\n",
       "<path d=\"M309.068 336.098L307.361 337.379\" fill=\"none\" stroke=\"#ff0000\" stroke-linecap=\"round\" stroke-linejoin=\"round\" stroke-miterlimit=\"10.0375\" stroke-width=\"0.426791\"/>\n",
       "</g>\n",
       "<g transform=\"translate(283.535 280.984)scale(.996264)\">\n",
       "<path d=\"M304.8 330.408L303.093 331.688\" fill=\"none\" stroke=\"#ff0000\" stroke-linecap=\"round\" stroke-linejoin=\"round\" stroke-miterlimit=\"10.0375\" stroke-width=\"0.426791\"/>\n",
       "</g>\n",
       "<g transform=\"translate(283.535 280.984)scale(.996264)\">\n",
       "<path d=\"M300.532 324.717L298.825 325.997\" fill=\"none\" stroke=\"#ff0000\" stroke-linecap=\"round\" stroke-linejoin=\"round\" stroke-miterlimit=\"10.0375\" stroke-width=\"0.426791\"/>\n",
       "</g>\n",
       "<g transform=\"translate(283.535 280.984)scale(.996264)\">\n",
       "<path d=\"M296.264 319.027L292.85 321.587\" fill=\"none\" stroke=\"#ff0000\" stroke-linecap=\"round\" stroke-linejoin=\"round\" stroke-miterlimit=\"10.0375\" stroke-width=\"0.711319\"/>\n",
       "</g>\n",
       "<g fill=\"#f00\" transform=\"matrix(.8 -.6 .6 .8 -247.6518 464.1066)\">\n",
       "<use x=\"557.182249\" y=\"606.885222\" xlink:href=\"#g0-0\"/>\n",
       "<use x=\"566.480746\" y=\"606.885222\" xlink:href=\"#g1-52\"/>\n",
       "</g>\n",
       "<g transform=\"translate(283.535 280.984)scale(.996264)\">\n",
       "<path d=\"M291.996 313.336L290.289 314.616\" fill=\"none\" stroke=\"#ff0000\" stroke-linecap=\"round\" stroke-linejoin=\"round\" stroke-miterlimit=\"10.0375\" stroke-width=\"0.426791\"/>\n",
       "</g>\n",
       "<g transform=\"translate(283.535 280.984)scale(.996264)\">\n",
       "<path d=\"M287.728 307.645L286.021 308.926\" fill=\"none\" stroke=\"#ff0000\" stroke-linecap=\"round\" stroke-linejoin=\"round\" stroke-miterlimit=\"10.0375\" stroke-width=\"0.426791\"/>\n",
       "</g>\n",
       "<g transform=\"translate(283.535 280.984)scale(.996264)\">\n",
       "<path d=\"M283.461 301.955L281.753 303.235\" fill=\"none\" stroke=\"#ff0000\" stroke-linecap=\"round\" stroke-linejoin=\"round\" stroke-miterlimit=\"10.0375\" stroke-width=\"0.426791\"/>\n",
       "</g>\n",
       "<g transform=\"translate(283.535 280.984)scale(.996264)\">\n",
       "<path d=\"M279.193 296.264L275.778 298.825\" fill=\"none\" stroke=\"#ff0000\" stroke-linecap=\"round\" stroke-linejoin=\"round\" stroke-miterlimit=\"10.0375\" stroke-width=\"0.711319\"/>\n",
       "</g>\n",
       "<g fill=\"#f00\" transform=\"matrix(.8 -.6 .6 .8 -237.4472 449.3664)\">\n",
       "<use x=\"540.174389\" y=\"584.208054\" xlink:href=\"#g0-0\"/>\n",
       "<use x=\"549.472886\" y=\"584.208054\" xlink:href=\"#g1-51\"/>\n",
       "</g>\n",
       "<g transform=\"translate(283.535 280.984)scale(.996264)\">\n",
       "<path d=\"M274.925 290.574L273.218 291.854\" fill=\"none\" stroke=\"#ff0000\" stroke-linecap=\"round\" stroke-linejoin=\"round\" stroke-miterlimit=\"10.0375\" stroke-width=\"0.426791\"/>\n",
       "</g>\n",
       "<g transform=\"translate(283.535 280.984)scale(.996264)\">\n",
       "<path d=\"M270.657 284.883L268.95 286.164\" fill=\"none\" stroke=\"#ff0000\" stroke-linecap=\"round\" stroke-linejoin=\"round\" stroke-miterlimit=\"10.0375\" stroke-width=\"0.426791\"/>\n",
       "</g>\n",
       "<g transform=\"translate(283.535 280.984)scale(.996264)\">\n",
       "<path d=\"M266.389 279.193L264.682 280.473\" fill=\"none\" stroke=\"#ff0000\" stroke-linecap=\"round\" stroke-linejoin=\"round\" stroke-miterlimit=\"10.0375\" stroke-width=\"0.426791\"/>\n",
       "</g>\n",
       "<g transform=\"translate(283.535 280.984)scale(.996264)\">\n",
       "<path d=\"M262.121 273.502L258.707 276.063\" fill=\"none\" stroke=\"#ff0000\" stroke-linecap=\"round\" stroke-linejoin=\"round\" stroke-miterlimit=\"10.0375\" stroke-width=\"0.711319\"/>\n",
       "</g>\n",
       "<g fill=\"#f00\" transform=\"matrix(.8 -.6 .6 .8 -227.2426 434.6262)\">\n",
       "<use x=\"523.166513\" y=\"561.530902\" xlink:href=\"#g0-0\"/>\n",
       "<use x=\"532.46501\" y=\"561.530902\" xlink:href=\"#g1-50\"/>\n",
       "</g>\n",
       "<g transform=\"translate(283.535 280.984)scale(.996264)\">\n",
       "<path d=\"M257.853 267.812L256.146 269.092\" fill=\"none\" stroke=\"#ff0000\" stroke-linecap=\"round\" stroke-linejoin=\"round\" stroke-miterlimit=\"10.0375\" stroke-width=\"0.426791\"/>\n",
       "</g>\n",
       "<g transform=\"translate(283.535 280.984)scale(.996264)\">\n",
       "<path d=\"M253.585 262.121L251.878 263.401\" fill=\"none\" stroke=\"#ff0000\" stroke-linecap=\"round\" stroke-linejoin=\"round\" stroke-miterlimit=\"10.0375\" stroke-width=\"0.426791\"/>\n",
       "</g>\n",
       "<g transform=\"translate(283.535 280.984)scale(.996264)\">\n",
       "<path d=\"M249.317 256.43L247.61 257.711\" fill=\"none\" stroke=\"#ff0000\" stroke-linecap=\"round\" stroke-linejoin=\"round\" stroke-miterlimit=\"10.0375\" stroke-width=\"0.426791\"/>\n",
       "</g>\n",
       "<g transform=\"translate(283.535 280.984)scale(.996264)\">\n",
       "<path d=\"M245.049 250.74L241.635 253.301\" fill=\"none\" stroke=\"#ff0000\" stroke-linecap=\"round\" stroke-linejoin=\"round\" stroke-miterlimit=\"10.0375\" stroke-width=\"0.711319\"/>\n",
       "</g>\n",
       "<g fill=\"#f00\" transform=\"matrix(.8 -.6 .6 .8 -217.038 419.886)\">\n",
       "<use x=\"506.158637\" y=\"538.853734\" xlink:href=\"#g0-0\"/>\n",
       "<use x=\"515.457134\" y=\"538.853734\" xlink:href=\"#g1-49\"/>\n",
       "</g>\n",
       "<g transform=\"translate(283.535 280.984)scale(.996264)\">\n",
       "<path d=\"M240.781 245.049L239.074 246.33\" fill=\"none\" stroke=\"#ff0000\" stroke-linecap=\"round\" stroke-linejoin=\"round\" stroke-miterlimit=\"10.0375\" stroke-width=\"0.426791\"/>\n",
       "</g>\n",
       "<g transform=\"translate(283.535 280.984)scale(.996264)\">\n",
       "<path d=\"M236.514 239.359L234.806 240.639\" fill=\"none\" stroke=\"#ff0000\" stroke-linecap=\"round\" stroke-linejoin=\"round\" stroke-miterlimit=\"10.0375\" stroke-width=\"0.426791\"/>\n",
       "</g>\n",
       "<g transform=\"translate(283.535 280.984)scale(.996264)\">\n",
       "<path d=\"M232.246 233.668L230.538 234.949\" fill=\"none\" stroke=\"#ff0000\" stroke-linecap=\"round\" stroke-linejoin=\"round\" stroke-miterlimit=\"10.0375\" stroke-width=\"0.426791\"/>\n",
       "</g>\n",
       "<g transform=\"translate(283.535 280.984)scale(.996264)\">\n",
       "<path d=\"M210.906 205.216L207.492 207.776\" fill=\"none\" stroke=\"#ff0000\" stroke-linecap=\"round\" stroke-linejoin=\"round\" stroke-miterlimit=\"10.0375\" stroke-width=\"0.711319\"/>\n",
       "</g>\n",
       "<g fill=\"#f00\" transform=\"matrix(.8 -.6 .6 .8 -196.6282 390.4054)\">\n",
       "<use x=\"481.441375\" y=\"493.997515\" xlink:href=\"#g1-49\"/>\n",
       "</g>\n",
       "<g transform=\"translate(283.535 280.984)scale(.996264)\">\n",
       "<path d=\"M215.174 210.906L213.467 212.186\" fill=\"none\" stroke=\"#ff0000\" stroke-linecap=\"round\" stroke-linejoin=\"round\" stroke-miterlimit=\"10.0375\" stroke-width=\"0.426791\"/>\n",
       "</g>\n",
       "<g transform=\"translate(283.535 280.984)scale(.996264)\">\n",
       "<path d=\"M219.442 216.597L217.735 217.877\" fill=\"none\" stroke=\"#ff0000\" stroke-linecap=\"round\" stroke-linejoin=\"round\" stroke-miterlimit=\"10.0375\" stroke-width=\"0.426791\"/>\n",
       "</g>\n",
       "<g transform=\"translate(283.535 280.984)scale(.996264)\">\n",
       "<path d=\"M223.71 222.287L222.003 223.568\" fill=\"none\" stroke=\"#ff0000\" stroke-linecap=\"round\" stroke-linejoin=\"round\" stroke-miterlimit=\"10.0375\" stroke-width=\"0.426791\"/>\n",
       "</g>\n",
       "<g transform=\"translate(283.535 280.984)scale(.996264)\">\n",
       "<path d=\"M193.834 182.453L190.42 185.014\" fill=\"none\" stroke=\"#ff0000\" stroke-linecap=\"round\" stroke-linejoin=\"round\" stroke-miterlimit=\"10.0375\" stroke-width=\"0.711319\"/>\n",
       "</g>\n",
       "<g fill=\"#f00\" transform=\"matrix(.8 -.6 .6 .8 -186.4236 375.6652)\">\n",
       "<use x=\"464.433499\" y=\"471.320348\" xlink:href=\"#g1-50\"/>\n",
       "</g>\n",
       "<g transform=\"translate(283.535 280.984)scale(.996264)\">\n",
       "<path d=\"M198.102 188.144L196.395 189.424\" fill=\"none\" stroke=\"#ff0000\" stroke-linecap=\"round\" stroke-linejoin=\"round\" stroke-miterlimit=\"10.0375\" stroke-width=\"0.426791\"/>\n",
       "</g>\n",
       "<g transform=\"translate(283.535 280.984)scale(.996264)\">\n",
       "<path d=\"M202.37 193.834L200.663 195.115\" fill=\"none\" stroke=\"#ff0000\" stroke-linecap=\"round\" stroke-linejoin=\"round\" stroke-miterlimit=\"10.0375\" stroke-width=\"0.426791\"/>\n",
       "</g>\n",
       "<g transform=\"translate(283.535 280.984)scale(.996264)\">\n",
       "<path d=\"M206.638 199.525L204.931 200.805\" fill=\"none\" stroke=\"#ff0000\" stroke-linecap=\"round\" stroke-linejoin=\"round\" stroke-miterlimit=\"10.0375\" stroke-width=\"0.426791\"/>\n",
       "</g>\n",
       "<g transform=\"translate(283.535 280.984)scale(.996264)\">\n",
       "<path d=\"M176.763 159.691L173.348 162.252\" fill=\"none\" stroke=\"#ff0000\" stroke-linecap=\"round\" stroke-linejoin=\"round\" stroke-miterlimit=\"10.0375\" stroke-width=\"0.711319\"/>\n",
       "</g>\n",
       "<g fill=\"#f00\" transform=\"matrix(.8 -.6 .6 .8 -176.2188 360.9256)\">\n",
       "<use x=\"447.425624\" y=\"448.64318\" xlink:href=\"#g1-51\"/>\n",
       "</g>\n",
       "<g transform=\"translate(283.535 280.984)scale(.996264)\">\n",
       "<path d=\"M181.031 165.382L179.323 166.662\" fill=\"none\" stroke=\"#ff0000\" stroke-linecap=\"round\" stroke-linejoin=\"round\" stroke-miterlimit=\"10.0375\" stroke-width=\"0.426791\"/>\n",
       "</g>\n",
       "<g transform=\"translate(283.535 280.984)scale(.996264)\">\n",
       "<path d=\"M185.299 171.072L183.591 172.353\" fill=\"none\" stroke=\"#ff0000\" stroke-linecap=\"round\" stroke-linejoin=\"round\" stroke-miterlimit=\"10.0375\" stroke-width=\"0.426791\"/>\n",
       "</g>\n",
       "<g transform=\"translate(283.535 280.984)scale(.996264)\">\n",
       "<path d=\"M189.566 176.763L187.859 178.043\" fill=\"none\" stroke=\"#ff0000\" stroke-linecap=\"round\" stroke-linejoin=\"round\" stroke-miterlimit=\"10.0375\" stroke-width=\"0.426791\"/>\n",
       "</g>\n",
       "<g transform=\"translate(283.535 280.984)scale(.996264)\">\n",
       "<path d=\"M159.691 136.929L156.277 139.49\" fill=\"none\" stroke=\"#ff0000\" stroke-linecap=\"round\" stroke-linejoin=\"round\" stroke-miterlimit=\"10.0375\" stroke-width=\"0.711319\"/>\n",
       "</g>\n",
       "<g fill=\"#f00\" transform=\"matrix(.8 -.6 .6 .8 -166.0142 346.1854)\">\n",
       "<use x=\"430.417748\" y=\"425.966012\" xlink:href=\"#g1-52\"/>\n",
       "</g>\n",
       "<g transform=\"translate(283.535 280.984)scale(.996264)\">\n",
       "<path d=\"M163.959 142.619L162.252 143.9\" fill=\"none\" stroke=\"#ff0000\" stroke-linecap=\"round\" stroke-linejoin=\"round\" stroke-miterlimit=\"10.0375\" stroke-width=\"0.426791\"/>\n",
       "</g>\n",
       "<g transform=\"translate(283.535 280.984)scale(.996264)\">\n",
       "<path d=\"M168.227 148.31L166.52 149.59\" fill=\"none\" stroke=\"#ff0000\" stroke-linecap=\"round\" stroke-linejoin=\"round\" stroke-miterlimit=\"10.0375\" stroke-width=\"0.426791\"/>\n",
       "</g>\n",
       "<g transform=\"translate(283.535 280.984)scale(.996264)\">\n",
       "<path d=\"M172.495 154.001L170.788 155.281\" fill=\"none\" stroke=\"#ff0000\" stroke-linecap=\"round\" stroke-linejoin=\"round\" stroke-miterlimit=\"10.0375\" stroke-width=\"0.426791\"/>\n",
       "</g>\n",
       "<g transform=\"translate(283.535 280.984)scale(.996264)\">\n",
       "<path d=\"M142.619 114.167L139.205 116.727\" fill=\"none\" stroke=\"#ff0000\" stroke-linecap=\"round\" stroke-linejoin=\"round\" stroke-miterlimit=\"10.0375\" stroke-width=\"0.711319\"/>\n",
       "</g>\n",
       "<g fill=\"#f00\" transform=\"matrix(.8 -.6 .6 .8 -155.8096 331.4452)\">\n",
       "<use x=\"413.409872\" y=\"403.28886\" xlink:href=\"#g1-53\"/>\n",
       "</g>\n",
       "<g transform=\"translate(283.535 280.984)scale(.996264)\">\n",
       "<path d=\"M146.887 119.857L145.18 121.138\" fill=\"none\" stroke=\"#ff0000\" stroke-linecap=\"round\" stroke-linejoin=\"round\" stroke-miterlimit=\"10.0375\" stroke-width=\"0.426791\"/>\n",
       "</g>\n",
       "<g transform=\"translate(283.535 280.984)scale(.996264)\">\n",
       "<path d=\"M151.155 125.548L149.448 126.828\" fill=\"none\" stroke=\"#ff0000\" stroke-linecap=\"round\" stroke-linejoin=\"round\" stroke-miterlimit=\"10.0375\" stroke-width=\"0.426791\"/>\n",
       "</g>\n",
       "<g transform=\"translate(283.535 280.984)scale(.996264)\">\n",
       "<path d=\"M155.423 131.238L153.716 132.519\" fill=\"none\" stroke=\"#ff0000\" stroke-linecap=\"round\" stroke-linejoin=\"round\" stroke-miterlimit=\"10.0375\" stroke-width=\"0.426791\"/>\n",
       "</g>\n",
       "<g transform=\"translate(283.535 280.984)scale(.996264)\">\n",
       "<path d=\"M125.548 91.4045L122.133 93.9652\" fill=\"none\" stroke=\"#ff0000\" stroke-linecap=\"round\" stroke-linejoin=\"round\" stroke-miterlimit=\"10.0375\" stroke-width=\"0.711319\"/>\n",
       "</g>\n",
       "<g fill=\"#f00\" transform=\"matrix(.8 -.6 .6 .8 -145.6044 316.7048)\">\n",
       "<use x=\"396.402012\" y=\"380.611692\" xlink:href=\"#g1-54\"/>\n",
       "</g>\n",
       "<g transform=\"translate(283.535 280.984)scale(.996264)\">\n",
       "<path d=\"M129.816 97.095L128.109 98.3754\" fill=\"none\" stroke=\"#ff0000\" stroke-linecap=\"round\" stroke-linejoin=\"round\" stroke-miterlimit=\"10.0375\" stroke-width=\"0.426791\"/>\n",
       "</g>\n",
       "<g transform=\"translate(283.535 280.984)scale(.996264)\">\n",
       "<path d=\"M134.084 102.786L132.376 104.066\" fill=\"none\" stroke=\"#ff0000\" stroke-linecap=\"round\" stroke-linejoin=\"round\" stroke-miterlimit=\"10.0375\" stroke-width=\"0.426791\"/>\n",
       "</g>\n",
       "<g transform=\"translate(283.535 280.984)scale(.996264)\">\n",
       "<path d=\"M138.352 108.476L136.644 109.757\" fill=\"none\" stroke=\"#ff0000\" stroke-linecap=\"round\" stroke-linejoin=\"round\" stroke-miterlimit=\"10.0375\" stroke-width=\"0.426791\"/>\n",
       "</g>\n",
       "<g transform=\"translate(283.535 280.984)scale(.996264)\">\n",
       "<path d=\"M246.187 214.32L227.978 227.978\" fill=\"none\" stroke=\"#ff0000\" stroke-linecap=\"round\" stroke-linejoin=\"round\" stroke-miterlimit=\"10.0375\" stroke-width=\"1.5649\"/>\n",
       "</g>\n",
       "<g transform=\"translate(283.535 280.984)scale(.996264)\">\n",
       "<path d=\"M250.74 210.906L245.273 213.101L247.102 215.54L250.74 210.906Z\" fill=\"#ff0000\"/>\n",
       "</g>\n",
       "<g transform=\"translate(283.535 280.984)scale(.996264)\">\n",
       "<path d=\"M250.74 210.906L245.273 213.101L247.102 215.54L250.74 210.906Z\" fill=\"none\" stroke=\"#ff0000\" stroke-linecap=\"round\" stroke-linejoin=\"round\" stroke-miterlimit=\"10.0375\" stroke-width=\"1.5649\"/>\n",
       "</g>\n",
       "<g transform=\"translate(283.535 280.984)scale(.996264)\">\n",
       "<path d=\"M214.32 209.768L227.978 227.978\" fill=\"none\" stroke=\"#ff0000\" stroke-linecap=\"round\" stroke-linejoin=\"round\" stroke-miterlimit=\"10.0375\" stroke-width=\"1.5649\"/>\n",
       "</g>\n",
       "<g transform=\"translate(283.535 280.984)scale(.996264)\">\n",
       "<path d=\"M210.906 205.216L213.101 210.683L215.54 208.853L210.906 205.216Z\" fill=\"#ff0000\"/>\n",
       "</g>\n",
       "<g transform=\"translate(283.535 280.984)scale(.996264)\">\n",
       "<path d=\"M210.906 205.216L213.101 210.683L215.54 208.853L210.906 205.216Z\" fill=\"none\" stroke=\"#ff0000\" stroke-linecap=\"round\" stroke-linejoin=\"round\" stroke-miterlimit=\"10.0375\" stroke-width=\"1.5649\"/>\n",
       "</g>\n",
       "<g transform=\"translate(283.535 280.984)scale(.996264)\">\n",
       "<path d=\"M323.579 156.277L227.978 28.8084L132.376 100.509\" fill=\"none\" stroke=\"#ff0000\" stroke-dasharray=\"2.30444,2.30444,2.30444,2.30444\" stroke-linecap=\"round\" stroke-linejoin=\"round\" stroke-miterlimit=\"10.0375\" stroke-width=\"0.284528\"/>\n",
       "</g>\n",
       "</g>\n",
       "</svg>"
      ],
      "text/plain": [
       "<IPython.core.display.SVG object>"
      ]
     },
     "execution_count": 124,
     "metadata": {},
     "output_type": "execute_result"
    }
   ],
   "source": [
    "%%asy --fmt svg\n",
    "import geometry;\n",
    "import coordenades;\n",
    "import graph;\n",
    "\n",
    "unitsize(1cm);\n",
    "pair o = (0,0),\n",
    "     u = (0,7);\n",
    "\n",
    "Canonica(-8,8,-8,8);\n",
    "picture p = Coordenades(-7,7,-7,7,color=red,base=true,quadricula=false);\n",
    "draw(o--u,blue+linewidth(0.55mm),Arrow(8));\n",
    "transform tr = Base(1/5*(4,3),1/5*(-3,4));\n",
    "pair u1 = inverse(tr)*u;\n",
    "draw(p,(u1.x,0)--u1--(0,u1.y),linetype(\"8 8 8 8\")+linewidth(0.1mm)+red);\n",
    "add(tr*p);"
   ]
  },
  {
   "cell_type": "markdown",
   "metadata": {},
   "source": [
    "L'expressió del canvi de base de la base $\\mathcal{B}'$ a la base canònica és\n",
    "$$\n",
    "  \\left(\\begin{array}{c} x \\\\ y \\end{array}\\right) \n",
    "  =\\frac{1}{5}\\left(\\begin{array}{rrr}\n",
    "  4 & -3 \\\\\n",
    "  3 &  4\n",
    "  \\end{array}\\right) \n",
    "  \\left(\\begin{array}{c} x' \\\\ y'\\end{array}\\right)\\,,\n",
    "$$\n",
    "aleshores les components del vector $\\vec u$ en la base $\\mathcal{B}'$ són"
   ]
  },
  {
   "cell_type": "code",
   "execution_count": 125,
   "metadata": {},
   "outputs": [
    {
     "data": {
      "text/html": [
       "<html>\\(\\displaystyle \\left(\\frac{21}{5},\\,\\frac{28}{5}\\right)\\)</html>"
      ],
      "text/latex": [
       "$\\displaystyle \\left(\\frac{21}{5},\\,\\frac{28}{5}\\right)$"
      ],
      "text/plain": [
       "(21/5, 28/5)"
      ]
     },
     "metadata": {},
     "output_type": "display_data"
    }
   ],
   "source": [
    "C = 1/5*matrix([[4,-3],[3,4]])\n",
    "u = vector([0,7])\n",
    "show(C.inverse() * u)"
   ]
  },
  {
   "cell_type": "markdown",
   "metadata": {},
   "source": [
    "Podem fer servir que $C^{-1}=C^t$, ja que la base $\\mathcal{B}'$ és ortonormal."
   ]
  },
  {
   "cell_type": "markdown",
   "metadata": {},
   "source": [
    "és a dir $\\vec u=(0,7)=\\dfrac{1}{5}(21,28)_{\\mathcal{B}'}$."
   ]
  },
  {
   "cell_type": "markdown",
   "metadata": {},
   "source": [
    "## Exercici 39\n",
    "Trobeu una base ortogonal i una ortonormal del pla vectorial $P$ d'equació implícita en la base $\\mathcal{B}'=\\left\\{ \\frac15(-3,4,0),\\frac15(4,3,0),(0,0,1) \\right\\}$\n",
    "$$\n",
    "  x'-2y'-z'=0 \\,.\n",
    "$$"
   ]
  },
  {
   "cell_type": "markdown",
   "metadata": {},
   "source": [
    "Comprovem en primer lloc que la base $\\mathcal{B}'$ és ortonormal:"
   ]
  },
  {
   "cell_type": "code",
   "execution_count": 126,
   "metadata": {},
   "outputs": [
    {
     "data": {
      "text/html": [
       "<html>\\(\\displaystyle \\left(\\begin{array}{rrr}\n",
       "1 & 0 & 0 \\\\\n",
       "0 & 1 & 0 \\\\\n",
       "0 & 0 & 1\n",
       "\\end{array}\\right)\\)</html>"
      ],
      "text/latex": [
       "$\\displaystyle \\left(\\begin{array}{rrr}\n",
       "1 & 0 & 0 \\\\\n",
       "0 & 1 & 0 \\\\\n",
       "0 & 0 & 1\n",
       "\\end{array}\\right)$"
      ],
      "text/plain": [
       "[1 0 0]\n",
       "[0 1 0]\n",
       "[0 0 1]"
      ]
     },
     "metadata": {},
     "output_type": "display_data"
    }
   ],
   "source": [
    "C = matrix([1/5*vector([-3,4,0]),1/5*vector([4,3,0]),vector([0,0,1])]).T\n",
    "show(C.T * C)"
   ]
  },
  {
   "cell_type": "markdown",
   "metadata": {},
   "source": [
    "Com que la base $\\mathcal{B}'$ és ortonormal, treballarem amb les components dels vectors en aquesta base.\n",
    "\n",
    "És evident que els vectors $\\vec u_1=(1,0,1)_{\\mathcal{B}'}$ i $\\vec u_2=(2,0,1)_{\\mathcal{B}'}$. Apliquem ara el mètode de Gram-Schmidt a aquests dos vectors:"
   ]
  },
  {
   "cell_type": "code",
   "execution_count": 127,
   "metadata": {},
   "outputs": [],
   "source": [
    "u1 = vector([1,0,1])\n",
    "u2 = vector([2,1,0])"
   ]
  },
  {
   "cell_type": "markdown",
   "metadata": {},
   "source": [
    "Apliquem el mètode de Gram-Schmidt:"
   ]
  },
  {
   "cell_type": "code",
   "execution_count": 128,
   "metadata": {},
   "outputs": [
    {
     "data": {
      "text/html": [
       "<html>\\(\\displaystyle \\left(1,\\,1,\\,-1\\right)\\)</html>"
      ],
      "text/latex": [
       "$\\displaystyle \\left(1,\\,1,\\,-1\\right)$"
      ],
      "text/plain": [
       "(1, 1, -1)"
      ]
     },
     "metadata": {},
     "output_type": "display_data"
    }
   ],
   "source": [
    "v1 = u1\n",
    "v2 = u2 - u2*v1/(v1*v1) * v1\n",
    "show(v2)"
   ]
  },
  {
   "cell_type": "markdown",
   "metadata": {},
   "source": [
    "Els vectors $\\vec v_1=(1,0,1)_{\\mathcal{B}'}$ i $\\vec u_2=(1,1,-1)_{\\mathcal{B}'}$ formen una base ortogonal del pla $P$. La matriu del canvi de base de la base $\\mathcal{B}'$ a la base canònica és"
   ]
  },
  {
   "cell_type": "code",
   "execution_count": 129,
   "metadata": {},
   "outputs": [
    {
     "data": {
      "text/html": [
       "<html>\\(\\displaystyle \\left(\\begin{array}{rrr}\n",
       "-\\frac{3}{5} & \\frac{4}{5} & 0 \\\\\n",
       "\\frac{4}{5} & \\frac{3}{5} & 0 \\\\\n",
       "0 & 0 & 1\n",
       "\\end{array}\\right)\\)</html>"
      ],
      "text/latex": [
       "$\\displaystyle \\left(\\begin{array}{rrr}\n",
       "-\\frac{3}{5} & \\frac{4}{5} & 0 \\\\\n",
       "\\frac{4}{5} & \\frac{3}{5} & 0 \\\\\n",
       "0 & 0 & 1\n",
       "\\end{array}\\right)$"
      ],
      "text/plain": [
       "[-3/5  4/5    0]\n",
       "[ 4/5  3/5    0]\n",
       "[   0    0    1]"
      ]
     },
     "metadata": {},
     "output_type": "display_data"
    }
   ],
   "source": [
    "show(C)"
   ]
  },
  {
   "cell_type": "markdown",
   "metadata": {},
   "source": [
    "Aleshores les components dels vectors $\\vec v_1$ i $\\vec v_3$ en la base canònica són"
   ]
  },
  {
   "cell_type": "code",
   "execution_count": 132,
   "metadata": {},
   "outputs": [
    {
     "data": {
      "text/html": [
       "<html>\\(\\displaystyle \\left(-\\frac{3}{5},\\,\\frac{4}{5},\\,1\\right)\\)</html>"
      ],
      "text/latex": [
       "$\\displaystyle \\left(-\\frac{3}{5},\\,\\frac{4}{5},\\,1\\right)$"
      ],
      "text/plain": [
       "(-3/5, 4/5, 1)"
      ]
     },
     "metadata": {},
     "output_type": "display_data"
    }
   ],
   "source": [
    "w1 = C*v1\n",
    "show(w1)"
   ]
  },
  {
   "cell_type": "code",
   "execution_count": 133,
   "metadata": {},
   "outputs": [
    {
     "data": {
      "text/html": [
       "<html>\\(\\displaystyle \\left(\\frac{1}{5},\\,\\frac{7}{5},\\,-1\\right)\\)</html>"
      ],
      "text/latex": [
       "$\\displaystyle \\left(\\frac{1}{5},\\,\\frac{7}{5},\\,-1\\right)$"
      ],
      "text/plain": [
       "(1/5, 7/5, -1)"
      ]
     },
     "metadata": {},
     "output_type": "display_data"
    }
   ],
   "source": [
    "w2 = C*v2\n",
    "show(w2)"
   ]
  },
  {
   "cell_type": "markdown",
   "metadata": {},
   "source": [
    "Els vectors $\\{(-3,4,5),(1,7,-5)\\}$ formen una base ortogonal del pla $P$. Si els dividim per la seva longitud, tindrem una base ortonormal del pla $P$."
   ]
  },
  {
   "cell_type": "code",
   "execution_count": 134,
   "metadata": {},
   "outputs": [
    {
     "data": {
      "text/html": [
       "<html>\\(\\displaystyle 5 \\, \\sqrt{2}\\)</html>"
      ],
      "text/latex": [
       "$\\displaystyle 5 \\, \\sqrt{2}$"
      ],
      "text/plain": [
       "5*sqrt(2)"
      ]
     },
     "metadata": {},
     "output_type": "display_data"
    }
   ],
   "source": [
    "w1 = 5*w1\n",
    "show(w1.norm())"
   ]
  },
  {
   "cell_type": "code",
   "execution_count": 135,
   "metadata": {},
   "outputs": [
    {
     "data": {
      "text/html": [
       "<html>\\(\\displaystyle 5 \\, \\sqrt{3}\\)</html>"
      ],
      "text/latex": [
       "$\\displaystyle 5 \\, \\sqrt{3}$"
      ],
      "text/plain": [
       "5*sqrt(3)"
      ]
     },
     "metadata": {},
     "output_type": "display_data"
    }
   ],
   "source": [
    "w2 = 5*w2\n",
    "show(w2.norm())"
   ]
  },
  {
   "cell_type": "markdown",
   "metadata": {},
   "source": [
    "Per tant,\n",
    "$$\n",
    "  \\left\\{\\frac{1}{5\\sqrt{2}}(-3,4,5),\\frac{1}{5\\sqrt{3}}(1,7,-5)\\right\\}\n",
    "$$\n",
    "és una base ortonormal del pla $P$."
   ]
  },
  {
   "cell_type": "markdown",
   "metadata": {},
   "source": [
    "## Exercici 40\n",
    "Trobeu una base ortogonal i una ortonormal del pla vectorial $P$ generat pels vectors de components $(1,1,1)$ i $(1,2,3)$ en la base\n",
    "$$\\mathcal{B}'=\\{(1,-1,-1),(-1,1,-1),(-1,-1,1)\\} \\,, $$\n",
    "és a dir, $(1,1,1)_{\\mathcal{B}'}$ i $(1,2,3)_{\\mathcal{B}'}$"
   ]
  },
  {
   "cell_type": "markdown",
   "metadata": {},
   "source": [
    "En primer lloc, calculem les components d'aquests dos vectors en la base canònica:"
   ]
  },
  {
   "cell_type": "code",
   "execution_count": 136,
   "metadata": {},
   "outputs": [
    {
     "data": {
      "text/html": [
       "<html>\\(\\displaystyle \\left(-1,\\,-1,\\,-1\\right)\\)</html>"
      ],
      "text/latex": [
       "$\\displaystyle \\left(-1,\\,-1,\\,-1\\right)$"
      ],
      "text/plain": [
       "(-1, -1, -1)"
      ]
     },
     "metadata": {},
     "output_type": "display_data"
    }
   ],
   "source": [
    "u1 = vector([1,1,1])\n",
    "u2 = vector([1,2,3])\n",
    "C = matrix([[1,-1,-1],[-1,1,-1],[-1,-1,1]])\n",
    "w1 = C * u1\n",
    "w2 = C * u2\n",
    "show(w1)"
   ]
  },
  {
   "cell_type": "code",
   "execution_count": 137,
   "metadata": {},
   "outputs": [
    {
     "data": {
      "text/html": [
       "<html>\\(\\displaystyle \\left(-4,\\,-2,\\,0\\right)\\)</html>"
      ],
      "text/latex": [
       "$\\displaystyle \\left(-4,\\,-2,\\,0\\right)$"
      ],
      "text/plain": [
       "(-4, -2, 0)"
      ]
     },
     "metadata": {},
     "output_type": "display_data"
    }
   ],
   "source": [
    "show(w2)"
   ]
  },
  {
   "cell_type": "markdown",
   "metadata": {},
   "source": [
    "Ara apliquem el mètode de Gram-Schmidt:"
   ]
  },
  {
   "cell_type": "code",
   "execution_count": 138,
   "metadata": {},
   "outputs": [],
   "source": [
    "v1 = w1\n",
    "v2 = w2 - (w2*v1)/(v1*v1) * v1"
   ]
  },
  {
   "cell_type": "code",
   "execution_count": 139,
   "metadata": {},
   "outputs": [
    {
     "data": {
      "text/html": [
       "<html>\\(\\displaystyle \\left(1,\\,1,\\,1\\right)\\)</html>"
      ],
      "text/latex": [
       "$\\displaystyle \\left(1,\\,1,\\,1\\right)$"
      ],
      "text/plain": [
       "(1, 1, 1)"
      ]
     },
     "metadata": {},
     "output_type": "display_data"
    }
   ],
   "source": [
    "v1 = -v1\n",
    "show(v1)"
   ]
  },
  {
   "cell_type": "code",
   "execution_count": 140,
   "metadata": {},
   "outputs": [
    {
     "data": {
      "text/html": [
       "<html>\\(\\displaystyle \\left(1,\\,0,\\,-1\\right)\\)</html>"
      ],
      "text/latex": [
       "$\\displaystyle \\left(1,\\,0,\\,-1\\right)$"
      ],
      "text/plain": [
       "(1, 0, -1)"
      ]
     },
     "metadata": {},
     "output_type": "display_data"
    }
   ],
   "source": [
    "v2 = -1/2*v2\n",
    "show(v2)"
   ]
  },
  {
   "cell_type": "markdown",
   "metadata": {},
   "source": [
    "Els vectors $\\{(1,1,1),(1,0,-1)\\}$ són base ortogonal de $P$, mentre que els vectors\n",
    "$$\n",
    "  \\left\\{\\frac{1}{\\sqrt{3}}(1,1,1),\\frac{1}{\\sqrt{2}}(1,0,-1)\\right\\}\n",
    "$$\n",
    "en són base ortonormal."
   ]
  },
  {
   "cell_type": "markdown",
   "metadata": {
    "tags": []
   },
   "source": [
    "## Exercici 41\n",
    "La base d'un pla vectorial $P$ està formada pels vectors de components $(4,3,-2)$ i $(1,2,0)$ en la base\n",
    "$\\mathcal{B}'=\\left\\{ \\frac13(-1,2,2),\\frac13(2,-1,2),\\frac13(2,2,-1) \\right\\}$.\n",
    "\n",
    "Determineu les equacions implícites en la base $\\mathcal{B}'$ i una base de la seva recta perpendicular."
   ]
  },
  {
   "cell_type": "markdown",
   "metadata": {},
   "source": [
    "Comprovem en primer lloc que la base $\\mathcal{B}'$ és ortonormal:"
   ]
  },
  {
   "cell_type": "code",
   "execution_count": 141,
   "metadata": {},
   "outputs": [
    {
     "data": {
      "text/html": [
       "<html>\\(\\displaystyle \\left(\\begin{array}{rrr}\n",
       "1 & 0 & 0 \\\\\n",
       "0 & 1 & 0 \\\\\n",
       "0 & 0 & 1\n",
       "\\end{array}\\right)\\)</html>"
      ],
      "text/latex": [
       "$\\displaystyle \\left(\\begin{array}{rrr}\n",
       "1 & 0 & 0 \\\\\n",
       "0 & 1 & 0 \\\\\n",
       "0 & 0 & 1\n",
       "\\end{array}\\right)$"
      ],
      "text/plain": [
       "[1 0 0]\n",
       "[0 1 0]\n",
       "[0 0 1]"
      ]
     },
     "metadata": {},
     "output_type": "display_data"
    }
   ],
   "source": [
    "C = matrix([1/3*vector([-1,2,2]),1/3*vector([2,-1,2]),1/3*vector([2,2,-1])]).T\n",
    "show(C.T * C)"
   ]
  },
  {
   "cell_type": "markdown",
   "metadata": {},
   "source": [
    "Com que la base $\\mathcal{B}'$ és ortonormal, les equacions implícites, en la base $\\mathcal{B}'$, de la recta perpendicular a $P$ són\n",
    "$$\n",
    "  \\left. \\begin{aligned} \n",
    "  4x'+3y'-2z'&=0\\\\\n",
    "  x'+2y'&=0\n",
    "  \\end{aligned}\\right\\}\\,.\n",
    "$$\n",
    "Per trobar una base d'aquesta recta, hem de resoldre el sistema d'equacions:"
   ]
  },
  {
   "cell_type": "code",
   "execution_count": 142,
   "metadata": {},
   "outputs": [
    {
     "data": {
      "text/html": [
       "<html>\\(\\displaystyle \\left[\\left[x_{1} = \\frac{2}{5} \\, r_{6}, y_{1} = -\\frac{1}{5} \\, r_{6}, z_{1} = r_{6}\\right]\\right]\\)</html>"
      ],
      "text/latex": [
       "$\\displaystyle \\left[\\left[x_{1} = \\frac{2}{5} \\, r_{6}, y_{1} = -\\frac{1}{5} \\, r_{6}, z_{1} = r_{6}\\right]\\right]$"
      ],
      "text/plain": [
       "[[x1 == 2/5*r6, y1 == -1/5*r6, z1 == r6]]"
      ]
     },
     "metadata": {},
     "output_type": "display_data"
    }
   ],
   "source": [
    "x1, y1, z1 = var('x1 y1 z1')\n",
    "show(solve([4*x1 + 3*y1 - z1 == 0,x1 + 2*y1 ==0],[x1,y1,z1]))"
   ]
  },
  {
   "cell_type": "markdown",
   "metadata": {},
   "source": [
    "El vector $(4,-2,5)_{\\mathcal{B}'}$ és una base de la recta perpendicular al pla $P$. Una altra manera d'obtenir-lo és"
   ]
  },
  {
   "cell_type": "markdown",
   "metadata": {},
   "source": [
    "Les components d'aquest vector en la base canònica són:"
   ]
  },
  {
   "cell_type": "code",
   "execution_count": 143,
   "metadata": {},
   "outputs": [
    {
     "data": {
      "text/html": [
       "<html>\\(\\displaystyle \\left(\\frac{2}{3},\\,\\frac{20}{3},\\,-\\frac{1}{3}\\right)\\)</html>"
      ],
      "text/latex": [
       "$\\displaystyle \\left(\\frac{2}{3},\\,\\frac{20}{3},\\,-\\frac{1}{3}\\right)$"
      ],
      "text/plain": [
       "(2/3, 20/3, -1/3)"
      ]
     },
     "metadata": {},
     "output_type": "display_data"
    }
   ],
   "source": [
    "u1 = vector([4,-2,5])\n",
    "show(C * u1)"
   ]
  },
  {
   "cell_type": "markdown",
   "metadata": {},
   "source": [
    "Si multipliquem per 3, veiem que el vector $(2,20,-1)$ és una base de la recta."
   ]
  },
  {
   "cell_type": "markdown",
   "metadata": {},
   "source": [
    "## Exercici 42\n",
    "La base d'una recta vectorial $R$ està formada pel vector de components $(1,-2)$ en la base\n",
    "$\\mathcal{B}'=\\{(1,0),(-1,1)\\}$. \n",
    "Determineu unes equacions implícicites en la base $\\mathcal{B}'$ i una base de la seva recta perpendicular."
   ]
  },
  {
   "cell_type": "markdown",
   "metadata": {},
   "source": [
    "Tenim que el vector $\\vec u=(1,-2)_{\\mathcal{B}'}$ és una base de la recta $R$. Calculem les seves components en la base canònica:"
   ]
  },
  {
   "cell_type": "code",
   "execution_count": 144,
   "metadata": {},
   "outputs": [
    {
     "data": {
      "text/html": [
       "<html>\\(\\displaystyle \\left(3,\\,-2\\right)\\)</html>"
      ],
      "text/latex": [
       "$\\displaystyle \\left(3,\\,-2\\right)$"
      ],
      "text/plain": [
       "(3, -2)"
      ]
     },
     "metadata": {},
     "output_type": "display_data"
    }
   ],
   "source": [
    "u1 = vector([1,-2])\n",
    "C = matrix([[1,0],[-1,1]]).T\n",
    "show(C * u1)"
   ]
  },
  {
   "cell_type": "markdown",
   "metadata": {},
   "source": [
    "Com que $u=(3,-2)$ és un generador de la recta $R$, el vector $\\vec v=(2,3)$ serà un generador de la recta perpendicular a $R$ i la seva equació implícita en la base canònica és $3x-2y=0$.\n",
    "\n",
    "Per trobar la seva equació implícita en la base $\\mathcal{B}'$, hem de procedir com en casos angteriors:"
   ]
  },
  {
   "cell_type": "code",
   "execution_count": 145,
   "metadata": {},
   "outputs": [
    {
     "data": {
      "text/html": [
       "<html>\\(\\displaystyle 3 \\, x - 2 \\, y = 0\\)</html>"
      ],
      "text/latex": [
       "$\\displaystyle 3 \\, x - 2 \\, y = 0$"
      ],
      "text/plain": [
       "3*x - 2*y == 0"
      ]
     },
     "metadata": {},
     "output_type": "display_data"
    }
   ],
   "source": [
    "x, y = var('x y')\n",
    "eq = 3*x - 2*y == 0\n",
    "show(eq)"
   ]
  },
  {
   "cell_type": "code",
   "execution_count": 147,
   "metadata": {},
   "outputs": [
    {
     "data": {
      "text/html": [
       "<html>\\(\\displaystyle x_{1} - y_{1}\\)</html>"
      ],
      "text/latex": [
       "$\\displaystyle x_{1} - y_{1}$"
      ],
      "text/plain": [
       "x1 - y1"
      ]
     },
     "metadata": {},
     "output_type": "display_data"
    },
    {
     "data": {
      "text/html": [
       "<html>\\(\\displaystyle y_{1}\\)</html>"
      ],
      "text/latex": [
       "$\\displaystyle y_{1}$"
      ],
      "text/plain": [
       "y1"
      ]
     },
     "metadata": {},
     "output_type": "display_data"
    }
   ],
   "source": [
    "x1, y1 = var('x1 y1')\n",
    "X1 = vector([x1,y1])\n",
    "x, y = C * X1\n",
    "show(x)\n",
    "show(y)"
   ]
  },
  {
   "cell_type": "code",
   "execution_count": 148,
   "metadata": {},
   "outputs": [
    {
     "data": {
      "text/html": [
       "<html>\\(\\displaystyle 3 \\, x_{1} - 5 \\, y_{1} = 0\\)</html>"
      ],
      "text/latex": [
       "$\\displaystyle 3 \\, x_{1} - 5 \\, y_{1} = 0$"
      ],
      "text/plain": [
       "3*x1 - 5*y1 == 0"
      ]
     },
     "metadata": {},
     "output_type": "display_data"
    }
   ],
   "source": [
    "eq1 = eq.subs(x=x,y=y).expand()\n",
    "show(eq1)"
   ]
  },
  {
   "cell_type": "markdown",
   "metadata": {},
   "source": [
    "L'equació de la recta perpendicular a $R$ en la base $\\mathcal{B}'$ és $3x'-5y'=0$."
   ]
  },
  {
   "cell_type": "markdown",
   "metadata": {},
   "source": [
    "## Exercici 43\n",
    "Calculeu la projeció ortogonal i el simètric del vector $\\vec{u}$\n",
    "de components $(1,2,-3)$ en la base $\\mathcal{B}'=\\{\\frac13(2,2,-1),\\frac13(2,-1,2),\\frac13(-1,2,2)\\}$\n",
    "respecte del pla $P$ que en aquesta base $\\mathcal{B}'$ té equació\n",
    "$$2x'-y'-z'=0 \\,. $$"
   ]
  },
  {
   "cell_type": "markdown",
   "metadata": {},
   "source": [
    "Comprovem en primer lloc que la base $\\mathcal{B}'$ és ortonormal:"
   ]
  },
  {
   "cell_type": "code",
   "execution_count": 150,
   "metadata": {},
   "outputs": [
    {
     "data": {
      "text/html": [
       "<html>\\(\\displaystyle \\left(\\begin{array}{rrr}\n",
       "1 & 0 & 0 \\\\\n",
       "0 & 1 & 0 \\\\\n",
       "0 & 0 & 1\n",
       "\\end{array}\\right)\\)</html>"
      ],
      "text/latex": [
       "$\\displaystyle \\left(\\begin{array}{rrr}\n",
       "1 & 0 & 0 \\\\\n",
       "0 & 1 & 0 \\\\\n",
       "0 & 0 & 1\n",
       "\\end{array}\\right)$"
      ],
      "text/plain": [
       "[1 0 0]\n",
       "[0 1 0]\n",
       "[0 0 1]"
      ]
     },
     "metadata": {},
     "output_type": "display_data"
    }
   ],
   "source": [
    "C = matrix([1/3*vector([2,2,-1]),1/3*vector([2,-1,2]),1/3*vector([-1,2,2])]).T\n",
    "show(C.T * C)"
   ]
  },
  {
   "cell_type": "markdown",
   "metadata": {},
   "source": [
    "Com que $\\mathcal{B}'$ és ortonormal, podem fer els càlculs amb les components dels vectors en aquesta base. És evident que els vectors\n",
    "$\\vec u_1=(0,1,-1)_{\\mathcal{B}'}$ i $\\vec u_2=(1,0,2)_{\\mathcal{B}'}$ formen una base del pla $P$. Aleshores:"
   ]
  },
  {
   "cell_type": "code",
   "execution_count": 151,
   "metadata": {},
   "outputs": [
    {
     "data": {
      "text/html": [
       "<html>\\(\\displaystyle \\left(t_{2},\\,t_{1},\\,-t_{1} + 2 \\, t_{2}\\right)\\)</html>"
      ],
      "text/latex": [
       "$\\displaystyle \\left(t_{2},\\,t_{1},\\,-t_{1} + 2 \\, t_{2}\\right)$"
      ],
      "text/plain": [
       "(t2, t1, -t1 + 2*t2)"
      ]
     },
     "metadata": {},
     "output_type": "display_data"
    }
   ],
   "source": [
    "t1, t2 = var('t1 t2')\n",
    "v1 = vector([0,1,-1])\n",
    "v2 = vector([1,0,2])\n",
    "u = vector([1,2,-3])\n",
    "u1 = t1 * v1 + t2 * v2\n",
    "show(u1)"
   ]
  },
  {
   "cell_type": "code",
   "execution_count": 152,
   "metadata": {},
   "outputs": [
    {
     "data": {
      "text/html": [
       "<html>\\(\\displaystyle \\left[2 \\, t_{1} - 2 \\, t_{2} = 5, -2 \\, t_{1} + 5 \\, t_{2} = \\left(-5\\right)\\right]\\)</html>"
      ],
      "text/latex": [
       "$\\displaystyle \\left[2 \\, t_{1} - 2 \\, t_{2} = 5, -2 \\, t_{1} + 5 \\, t_{2} = \\left(-5\\right)\\right]$"
      ],
      "text/plain": [
       "[2*t1 - 2*t2 == 5, -2*t1 + 5*t2 == -5]"
      ]
     },
     "metadata": {},
     "output_type": "display_data"
    }
   ],
   "source": [
    "eqs = [u1*v1 == u*v1,u1*v2 == u*v2]\n",
    "show(eqs)"
   ]
  },
  {
   "cell_type": "code",
   "execution_count": 153,
   "metadata": {},
   "outputs": [
    {
     "data": {
      "text/html": [
       "<html>\\(\\displaystyle \\left[\\left[t_{1} = \\left(\\frac{5}{2}\\right), t_{2} = 0\\right]\\right]\\)</html>"
      ],
      "text/latex": [
       "$\\displaystyle \\left[\\left[t_{1} = \\left(\\frac{5}{2}\\right), t_{2} = 0\\right]\\right]$"
      ],
      "text/plain": [
       "[[t1 == (5/2), t2 == 0]]"
      ]
     },
     "metadata": {},
     "output_type": "display_data"
    }
   ],
   "source": [
    "show(solve(eqs,[t1,t2]))"
   ]
  },
  {
   "cell_type": "markdown",
   "metadata": {},
   "source": [
    "Calculem ara la projecció ortogonal i el simètric"
   ]
  },
  {
   "cell_type": "code",
   "execution_count": 154,
   "metadata": {},
   "outputs": [
    {
     "data": {
      "text/html": [
       "<html>\\(\\displaystyle \\left(0,\\,\\frac{5}{2},\\,-\\frac{5}{2}\\right)\\)</html>"
      ],
      "text/latex": [
       "$\\displaystyle \\left(0,\\,\\frac{5}{2},\\,-\\frac{5}{2}\\right)$"
      ],
      "text/plain": [
       "(0, 5/2, -5/2)"
      ]
     },
     "metadata": {},
     "output_type": "display_data"
    }
   ],
   "source": [
    "u1 = u1.subs(t1=5/2,t2=0)\n",
    "show(u1)"
   ]
  },
  {
   "cell_type": "code",
   "execution_count": 155,
   "metadata": {},
   "outputs": [
    {
     "data": {
      "text/html": [
       "<html>\\(\\displaystyle \\left(-1,\\,3,\\,-2\\right)\\)</html>"
      ],
      "text/latex": [
       "$\\displaystyle \\left(-1,\\,3,\\,-2\\right)$"
      ],
      "text/plain": [
       "(-1, 3, -2)"
      ]
     },
     "metadata": {},
     "output_type": "display_data"
    }
   ],
   "source": [
    "s = 2*u1 - u\n",
    "show(s)"
   ]
  },
  {
   "cell_type": "markdown",
   "metadata": {},
   "source": [
    "La projecció ortogonal del vector $\\vec u$ sobre el pla $P$ és el vector $\\vec u'=\\dfrac{1}{2}(0,5,-5)_{\\mathcal{B}'}$ i el simètric respecte \n",
    "al pla $P$ és $\\vec u^*=(-1,3,-2)_{\\mathcal{B}'}$.\n",
    "\n",
    "Per calcular les components d'aquests vectors en la base canònica hem de fer el següent: "
   ]
  },
  {
   "cell_type": "code",
   "execution_count": 156,
   "metadata": {},
   "outputs": [
    {
     "data": {
      "text/html": [
       "<html>\\(\\displaystyle \\left(\\frac{5}{2},\\,-\\frac{5}{2},\\,0\\right)\\)</html>"
      ],
      "text/latex": [
       "$\\displaystyle \\left(\\frac{5}{2},\\,-\\frac{5}{2},\\,0\\right)$"
      ],
      "text/plain": [
       "(5/2, -5/2, 0)"
      ]
     },
     "metadata": {},
     "output_type": "display_data"
    }
   ],
   "source": [
    "show(C * u1)"
   ]
  },
  {
   "cell_type": "code",
   "execution_count": 157,
   "metadata": {},
   "outputs": [
    {
     "data": {
      "text/html": [
       "<html>\\(\\displaystyle \\left(2,\\,-3,\\,1\\right)\\)</html>"
      ],
      "text/latex": [
       "$\\displaystyle \\left(2,\\,-3,\\,1\\right)$"
      ],
      "text/plain": [
       "(2, -3, 1)"
      ]
     },
     "metadata": {},
     "output_type": "display_data"
    }
   ],
   "source": [
    "show(C * s)"
   ]
  },
  {
   "cell_type": "markdown",
   "metadata": {},
   "source": [
    "La projecció ortogonal del vector $\\vec u$ sobre el pla $P$ és el vector $\\vec u'=\\dfrac{1}{2}(5,-5,0)$ i el simètric respecte \n",
    "al pla $P$ és $\\vec u^*=(2,-3,1)$."
   ]
  },
  {
   "cell_type": "markdown",
   "metadata": {},
   "source": [
    "## Exercici 44\n",
    "Calculeu la projecció ortogonal i el simètric del vector $\\vec{u}$ de components $(-3,1)$\n",
    "en la base $\\mathcal{B}'=\\{(1,2),(3,-1)\\}$ respecte de la recta $R$ que en aquesta base $\\mathcal{B}'$ té equació\n",
    "$$x'-4y'=0 \\,. $$"
   ]
  },
  {
   "cell_type": "markdown",
   "metadata": {},
   "source": [
    "Com en casos anteriors, calculem les components de $\\vec u$ i l'equació de la recta $R$ en la base canònica:"
   ]
  },
  {
   "cell_type": "code",
   "execution_count": 160,
   "metadata": {},
   "outputs": [
    {
     "data": {
      "text/html": [
       "<html>\\(\\displaystyle \\left(\\begin{array}{rr}\n",
       "1 & 3 \\\\\n",
       "2 & -1\n",
       "\\end{array}\\right)\\)</html>"
      ],
      "text/latex": [
       "$\\displaystyle \\left(\\begin{array}{rr}\n",
       "1 & 3 \\\\\n",
       "2 & -1\n",
       "\\end{array}\\right)$"
      ],
      "text/plain": [
       "[ 1  3]\n",
       "[ 2 -1]"
      ]
     },
     "metadata": {},
     "output_type": "display_data"
    }
   ],
   "source": [
    "u1 = vector([-3,1])\n",
    "C = matrix([[1,2],[3,-1]]).T\n",
    "show(C)"
   ]
  },
  {
   "cell_type": "code",
   "execution_count": 161,
   "metadata": {},
   "outputs": [
    {
     "data": {
      "text/html": [
       "<html>\\(\\displaystyle \\left(0,\\,-7\\right)\\)</html>"
      ],
      "text/latex": [
       "$\\displaystyle \\left(0,\\,-7\\right)$"
      ],
      "text/plain": [
       "(0, -7)"
      ]
     },
     "metadata": {},
     "output_type": "display_data"
    }
   ],
   "source": [
    "u = C * u1\n",
    "show(u)"
   ]
  },
  {
   "cell_type": "code",
   "execution_count": 162,
   "metadata": {},
   "outputs": [
    {
     "data": {
      "text/html": [
       "<html>\\(\\displaystyle x_{1} - 4 \\, y_{1} = 0\\)</html>"
      ],
      "text/latex": [
       "$\\displaystyle x_{1} - 4 \\, y_{1} = 0$"
      ],
      "text/plain": [
       "x1 - 4*y1 == 0"
      ]
     },
     "metadata": {},
     "output_type": "display_data"
    }
   ],
   "source": [
    "x1, y1 = var('x1 y1')\n",
    "eq1 = x1 - 4*y1 == 0\n",
    "show(eq1)"
   ]
  },
  {
   "cell_type": "code",
   "execution_count": 163,
   "metadata": {},
   "outputs": [
    {
     "data": {
      "text/html": [
       "<html>\\(\\displaystyle \\frac{1}{7} \\, x + \\frac{3}{7} \\, y\\)</html>"
      ],
      "text/latex": [
       "$\\displaystyle \\frac{1}{7} \\, x + \\frac{3}{7} \\, y$"
      ],
      "text/plain": [
       "1/7*x + 3/7*y"
      ]
     },
     "metadata": {},
     "output_type": "display_data"
    },
    {
     "data": {
      "text/html": [
       "<html>\\(\\displaystyle \\frac{2}{7} \\, x - \\frac{1}{7} \\, y\\)</html>"
      ],
      "text/latex": [
       "$\\displaystyle \\frac{2}{7} \\, x - \\frac{1}{7} \\, y$"
      ],
      "text/plain": [
       "2/7*x - 1/7*y"
      ]
     },
     "metadata": {},
     "output_type": "display_data"
    }
   ],
   "source": [
    "x, y = var('x y')\n",
    "X = vector([x,y])\n",
    "x1, y1 = C.inverse() * X\n",
    "show(x1)\n",
    "show(y1)"
   ]
  },
  {
   "cell_type": "code",
   "execution_count": 165,
   "metadata": {},
   "outputs": [
    {
     "data": {
      "text/html": [
       "<html>\\(\\displaystyle -x + y = 0\\)</html>"
      ],
      "text/latex": [
       "$\\displaystyle -x + y = 0$"
      ],
      "text/plain": [
       "-x + y == 0"
      ]
     },
     "metadata": {},
     "output_type": "display_data"
    }
   ],
   "source": [
    "eq = eq1.subs(x1=x1,y1=y1).expand()\n",
    "show(eq)"
   ]
  },
  {
   "cell_type": "markdown",
   "metadata": {},
   "source": [
    "Tenim, doncs, que $\\vec u=(0,-7)$ i que l'equació de la recta en la base canònica és $-x+y=0$, és a dir, és la recta generada pel vector $\\vec v=(1,1)$.\n",
    "\n",
    "Ara hem de calcular la projecció ortogonal i el simètric del vector $\\vec u$ respecte a la recta vectorial generada pel vector $(1,1)$."
   ]
  },
  {
   "cell_type": "code",
   "execution_count": 166,
   "metadata": {},
   "outputs": [],
   "source": [
    "v = vector([1,1])\n",
    "u1 = (u*v)/(v*v) * v\n",
    "s = 2*u1 - u"
   ]
  },
  {
   "cell_type": "code",
   "execution_count": 167,
   "metadata": {},
   "outputs": [
    {
     "data": {
      "text/html": [
       "<html>\\(\\displaystyle \\left(-\\frac{7}{2},\\,-\\frac{7}{2}\\right)\\)</html>"
      ],
      "text/latex": [
       "$\\displaystyle \\left(-\\frac{7}{2},\\,-\\frac{7}{2}\\right)$"
      ],
      "text/plain": [
       "(-7/2, -7/2)"
      ]
     },
     "metadata": {},
     "output_type": "display_data"
    }
   ],
   "source": [
    "show(u1)"
   ]
  },
  {
   "cell_type": "code",
   "execution_count": 168,
   "metadata": {},
   "outputs": [
    {
     "data": {
      "text/html": [
       "<html>\\(\\displaystyle \\left(-7,\\,0\\right)\\)</html>"
      ],
      "text/latex": [
       "$\\displaystyle \\left(-7,\\,0\\right)$"
      ],
      "text/plain": [
       "(-7, 0)"
      ]
     },
     "metadata": {},
     "output_type": "display_data"
    }
   ],
   "source": [
    "show(s)"
   ]
  },
  {
   "cell_type": "markdown",
   "metadata": {},
   "source": [
    "Resumint, la projecció ortogonal del vector $\\vec u=(0,-7)$ sobre la recta és el vector $\\vec u'=\\dfrac{1}{2}(-7,-7)$ i el simètric del \n",
    "vector $\\vec u$ respecte a la recta $R$ és $\\vec u^*=(-7,0)$."
   ]
  },
  {
   "cell_type": "markdown",
   "metadata": {},
   "source": [
    "## Exercici 45\n",
    "Sigui $\\mathcal{B}'=\\{\\vec e_1,\\vec e_2\\}$ una base de $V_2$ tal que $\\vec e_1\\cdot\\vec e_1=a$, $\\vec e_1\\cdot\\vec e_2=b$ i \n",
    "$\\vec e_2\\cdot\\vec e_2=c$ i considerem la matriu\n",
    "$$\n",
    "  G=\\left(\\begin{array}{cc}\n",
    "  a & b \\\\\n",
    "  b & c\n",
    "  \\end{array}\\right)\\,.\n",
    "$$\n",
    "Comproveu que el producte escalar dels vectors $\\vec u=x'_1\\vec e_1+y'_1\\vec e_2$ i $\\vec v=x'_2\\vec e_1+y'_2\\vec e_2$ és igual al producte de matrius\n",
    "$$\n",
    "  \\left(\\begin{array}{cc} x'_1 & y'_1\\end{array}\\right)\n",
    "  G\\left(\\begin{array}{c} x'_2\\\\ y'_2\\end{array}\\right)\\,.\n",
    "$$\n",
    "La matriu $G$ s'anomena _matriu de Gram_ de la base $\\cal B'$."
   ]
  },
  {
   "cell_type": "markdown",
   "metadata": {},
   "source": [
    "D'una banda tenim que\n",
    "$$\n",
    "  \\begin{aligned}\n",
    "   \\vec u\\cdot v &= (x_1'\\vec e_1+y_1'\\vec e_2)\\cdot(x_2'\\vec e_1+y_2'\\vec e_2) \\\\\n",
    "      &= x_1'x_2' \\vec e_1\\cdot \\vec e_1 + x_1'y_2' \\vec e_1\\cdot \\vec e_2 +\n",
    "         y_1'x_2' \\vec e_2\\cdot \\vec e_1 + y_1'y_2' \\vec e_2\\cdot \\vec e_2 \\\\\n",
    "      &= ax_1'x_2' + bx_1'y_2' + b y_1'x_2' + cy_1'y_2' = ax_1'x_2' + b(x_1'y_2' + y_1'x_2') + cy_1'y_2'\n",
    "  \\end{aligned}\n",
    "$$"
   ]
  },
  {
   "cell_type": "markdown",
   "metadata": {},
   "source": [
    "De l'altra,"
   ]
  },
  {
   "cell_type": "code",
   "execution_count": null,
   "metadata": {},
   "outputs": [],
   "source": [
    "x1, y1, x2, y2 = var('x1 y1 x2 y2')\n",
    "a, b, c = var('a b c')\n",
    "U = vector([x1,y1])\n",
    "V = vector([x2,y2])\n",
    "G = matrix([[a,b],[b,c]])\n",
    "show(G)"
   ]
  },
  {
   "cell_type": "code",
   "execution_count": null,
   "metadata": {},
   "outputs": [],
   "source": [
    "show((U*G*V).expand())"
   ]
  },
  {
   "cell_type": "markdown",
   "metadata": {},
   "source": [
    "Per tant, és immediat que\n",
    "$$\n",
    "  \\vec u\\cdot \\vec v=\n",
    "  \\left(\\begin{array}{cc} x'_1 & y'_1\\end{array}\\right)\n",
    "  G\\left(\\begin{array}{c} x'_2\\\\ y'_2\\end{array}\\right)\\,.\n",
    "$$"
   ]
  },
  {
   "cell_type": "markdown",
   "metadata": {},
   "source": [
    "## Exercici 46\n",
    "Sigui $\\mathcal{B}'=\\{\\vec u_1,\\vec u_2\\}$ una base de $V_2$ tal que $||\\vec u_1||=2$, $||\\vec u_2||=\\frac{3}{2}$ i formen un angle de $120^\\circ$.\n",
    "Representeu uns eixos de coordenades corresponents a aquesta base i els vectors $\\vec v_1=(3,4)_{\\mathcal{B}'}$ i $\\vec v_2=(-1,-4)_{\\mathcal{B}'}$ i\n",
    "calculeu la longitud dels vectors $\\vec v_1$ i $\\vec v_2$ i l'angle que formen."
   ]
  },
  {
   "cell_type": "code",
   "execution_count": 169,
   "metadata": {},
   "outputs": [
    {
     "data": {
      "image/svg+xml": [
       "<svg xmlns=\"http://www.w3.org/2000/svg\" xmlns:xlink=\"http://www.w3.org/1999/xlink\" version=\"1.1\" width=\"624.330709pt\" height=\"567.637796pt\" viewBox=\"368.574803 337.677165 624.330709 567.637796\">\n",
       "<defs>\n",
       "<path id=\"g0-0\" d=\"M7.878456-2.749689C8.081694-2.749689 8.296887-2.749689 8.296887-2.988792S8.081694-3.227895 7.878456-3.227895H1.41071C1.207472-3.227895 .992279-3.227895 .992279-2.988792S1.207472-2.749689 1.41071-2.749689H7.878456Z\"/>\n",
       "<path id=\"g1-118\" d=\"M5.463512-4.471233C5.463512-5.224408 5.080946-5.272229 4.985305-5.272229C4.698381-5.272229 4.435367-4.985305 4.435367-4.746202C4.435367-4.60274 4.519054-4.519054 4.566874-4.471233C4.686426-4.363636 4.99726-4.040847 4.99726-3.419178C4.99726-2.917061 4.27995-.119552 2.84533-.119552C2.116065-.119552 1.972603-.729265 1.972603-1.171606C1.972603-1.769365 2.247572-2.606227 2.570361-3.466999C2.761644-3.957161 2.809465-4.076712 2.809465-4.315816C2.809465-4.817933 2.450809-5.272229 1.865006-5.272229C.765131-5.272229 .32279-3.53873 .32279-3.443088C.32279-3.395268 .37061-3.335492 .454296-3.335492C.561893-3.335492 .573848-3.383313 .621669-3.550685C.908593-4.578829 1.374844-5.033126 1.829141-5.033126C1.936737-5.033126 2.139975-5.033126 2.139975-4.638605C2.139975-4.327771 2.008468-3.981071 1.829141-3.526775C1.255293-1.996513 1.255293-1.625903 1.255293-1.338979C1.255293-1.075965 1.291158-.585803 1.661768-.251059C2.092154 .119552 2.689913 .119552 2.797509 .119552C4.782067 .119552 5.463512-3.789788 5.463512-4.471233Z\"/>\n",
       "<path id=\"g1-126\" d=\"M6.396015-7.137235C6.252553-7.005729 5.810212-6.587298 5.810212-6.419925C5.810212-6.300374 5.917808-6.192777 6.03736-6.192777C6.144956-6.192777 6.192777-6.264508 6.276463-6.38406C6.563387-6.742715 6.886177-6.969863 7.161146-7.12528C7.280697-7.197011 7.364384-7.232877 7.364384-7.364384C7.364384-7.47198 7.268742-7.531756 7.197011-7.591532C6.862267-7.81868 6.77858-8.141469 6.742715-8.284932C6.706849-8.380573 6.670984-8.524035 6.503611-8.524035C6.43188-8.524035 6.288418-8.476214 6.288418-8.296887C6.288418-8.18929 6.360149-7.902366 6.587298-7.579577H2.570361C2.367123-7.579577 2.163885-7.579577 2.163885-7.352428C2.163885-7.137235 2.379078-7.137235 2.570361-7.137235H6.396015Z\"/>\n",
       "<path id=\"g2-49\" d=\"M2.502615-5.076961C2.502615-5.292154 2.486675-5.300125 2.271482-5.300125C1.944707-4.98132 1.522291-4.790037 .765131-4.790037V-4.527024C.980324-4.527024 1.41071-4.527024 1.872976-4.742217V-.653549C1.872976-.358655 1.849066-.263014 1.091905-.263014H.812951V0C1.139726-.02391 1.825156-.02391 2.183811-.02391S3.235866-.02391 3.56264 0V-.263014H3.283686C2.526526-.263014 2.502615-.358655 2.502615-.653549V-5.076961Z\"/>\n",
       "<path id=\"g2-50\" d=\"M2.247572-1.625903C2.375093-1.745455 2.709838-2.008468 2.83736-2.12005C3.331507-2.574346 3.801743-3.012702 3.801743-3.737983C3.801743-4.686426 3.004732-5.300125 2.008468-5.300125C1.052055-5.300125 .422416-4.574844 .422416-3.865504C.422416-3.474969 .73325-3.419178 .844832-3.419178C1.012204-3.419178 1.259278-3.53873 1.259278-3.841594C1.259278-4.25604 .860772-4.25604 .765131-4.25604C.996264-4.837858 1.530262-5.037111 1.920797-5.037111C2.662017-5.037111 3.044583-4.407472 3.044583-3.737983C3.044583-2.909091 2.462765-2.303362 1.522291-1.338979L.518057-.302864C.422416-.215193 .422416-.199253 .422416 0H3.57061L3.801743-1.42665H3.55467C3.53076-1.267248 3.466999-.868742 3.371357-.71731C3.323537-.653549 2.717808-.653549 2.590286-.653549H1.171606L2.247572-1.625903Z\"/>\n",
       "<path id=\"g3-48\" d=\"M5.355915-3.825654C5.355915-4.817933 5.296139-5.786301 4.865753-6.694894C4.375592-7.687173 3.514819-7.950187 2.929016-7.950187C2.235616-7.950187 1.3868-7.603487 .944458-6.611208C.609714-5.858032 .490162-5.116812 .490162-3.825654C.490162-2.666002 .573848-1.793275 1.004234-.944458C1.470486-.035866 2.295392 .251059 2.917061 .251059C3.957161 .251059 4.554919-.37061 4.901619-1.06401C5.332005-1.960648 5.355915-3.132254 5.355915-3.825654ZM2.917061 .011955C2.534496 .011955 1.75741-.203238 1.530262-1.506351C1.398755-2.223661 1.398755-3.132254 1.398755-3.969116C1.398755-4.94944 1.398755-5.834122 1.590037-6.539477C1.793275-7.340473 2.402989-7.711083 2.917061-7.711083C3.371357-7.711083 4.064757-7.436115 4.291905-6.40797C4.447323-5.726526 4.447323-4.782067 4.447323-3.969116C4.447323-3.16812 4.447323-2.259527 4.315816-1.530262C4.088667-.215193 3.335492 .011955 2.917061 .011955Z\"/>\n",
       "<path id=\"g3-49\" d=\"M3.443088-7.663263C3.443088-7.938232 3.443088-7.950187 3.203985-7.950187C2.917061-7.627397 2.319303-7.185056 1.08792-7.185056V-6.838356C1.362889-6.838356 1.960648-6.838356 2.618182-7.149191V-.920548C2.618182-.490162 2.582316-.3467 1.530262-.3467H1.159651V0C1.482441-.02391 2.642092-.02391 3.036613-.02391S4.578829-.02391 4.901619 0V-.3467H4.531009C3.478954-.3467 3.443088-.490162 3.443088-.920548V-7.663263Z\"/>\n",
       "<path id=\"g3-50\" d=\"M5.260274-2.008468H4.99726C4.961395-1.80523 4.865753-1.147696 4.746202-.956413C4.662516-.848817 3.981071-.848817 3.622416-.848817H1.41071C1.733499-1.123786 2.462765-1.888917 2.773599-2.175841C4.590785-3.849564 5.260274-4.471233 5.260274-5.654795C5.260274-7.029639 4.172354-7.950187 2.785554-7.950187S.585803-6.766625 .585803-5.738481C.585803-5.128767 1.111831-5.128767 1.147696-5.128767C1.398755-5.128767 1.709589-5.308095 1.709589-5.69066C1.709589-6.025405 1.482441-6.252553 1.147696-6.252553C1.0401-6.252553 1.016189-6.252553 .980324-6.240598C1.207472-7.053549 1.853051-7.603487 2.630137-7.603487C3.646326-7.603487 4.267995-6.75467 4.267995-5.654795C4.267995-4.638605 3.682192-3.753923 3.000747-2.988792L.585803-.286924V0H4.94944L5.260274-2.008468Z\"/>\n",
       "<path id=\"g3-51\" d=\"M2.199751-4.291905C1.996513-4.27995 1.948692-4.267995 1.948692-4.160399C1.948692-4.040847 2.008468-4.040847 2.223661-4.040847H2.773599C3.789788-4.040847 4.244085-3.203985 4.244085-2.056289C4.244085-.490162 3.431133-.071731 2.84533-.071731C2.271482-.071731 1.291158-.3467 .944458-1.135741C1.327024-1.075965 1.673724-1.291158 1.673724-1.721544C1.673724-2.068244 1.422665-2.307347 1.08792-2.307347C.800996-2.307347 .490162-2.139975 .490162-1.685679C.490162-.621669 1.554172 .251059 2.881196 .251059C4.303861 .251059 5.355915-.836862 5.355915-2.044334C5.355915-3.144209 4.471233-4.004981 3.323537-4.208219C4.363636-4.507098 5.033126-5.379826 5.033126-6.312329C5.033126-7.256787 4.052802-7.950187 2.893151-7.950187C1.697634-7.950187 .812951-7.220922 .812951-6.348194C.812951-5.869988 1.183562-5.774346 1.362889-5.774346C1.613948-5.774346 1.900872-5.953674 1.900872-6.312329C1.900872-6.694894 1.613948-6.862267 1.350934-6.862267C1.279203-6.862267 1.255293-6.862267 1.219427-6.850311C1.673724-7.663263 2.797509-7.663263 2.857285-7.663263C3.251806-7.663263 4.028892-7.483935 4.028892-6.312329C4.028892-6.085181 3.993026-5.415691 3.646326-4.901619C3.287671-4.375592 2.881196-4.339726 2.558406-4.327771L2.199751-4.291905Z\"/>\n",
       "<path id=\"g3-52\" d=\"M4.315816-7.782814C4.315816-8.009963 4.315816-8.069738 4.148443-8.069738C4.052802-8.069738 4.016936-8.069738 3.921295-7.926276L.32279-2.343213V-1.996513H3.466999V-.908593C3.466999-.466252 3.443088-.3467 2.570361-.3467H2.331258V0C2.606227-.02391 3.550685-.02391 3.88543-.02391S5.176588-.02391 5.451557 0V-.3467H5.212453C4.351681-.3467 4.315816-.466252 4.315816-.908593V-1.996513H5.523288V-2.343213H4.315816V-7.782814ZM3.526775-6.850311V-2.343213H.621669L3.526775-6.850311Z\"/>\n",
       "<path id=\"g3-53\" d=\"M1.530262-6.850311C2.044334-6.682939 2.462765-6.670984 2.594271-6.670984C3.945205-6.670984 4.805978-7.663263 4.805978-7.830635C4.805978-7.878456 4.782067-7.938232 4.710336-7.938232C4.686426-7.938232 4.662516-7.938232 4.554919-7.890411C3.88543-7.603487 3.311582-7.567621 3.000747-7.567621C2.211706-7.567621 1.649813-7.806725 1.422665-7.902366C1.338979-7.938232 1.315068-7.938232 1.303113-7.938232C1.207472-7.938232 1.207472-7.866501 1.207472-7.675218V-4.124533C1.207472-3.90934 1.207472-3.837609 1.350934-3.837609C1.41071-3.837609 1.422665-3.849564 1.542217-3.993026C1.876961-4.483188 2.438854-4.770112 3.036613-4.770112C3.670237-4.770112 3.981071-4.184309 4.076712-3.981071C4.27995-3.514819 4.291905-2.929016 4.291905-2.47472S4.291905-1.338979 3.957161-.800996C3.694147-.37061 3.227895-.071731 2.701868-.071731C1.912827-.071731 1.135741-.609714 .920548-1.482441C.980324-1.458531 1.052055-1.446575 1.111831-1.446575C1.315068-1.446575 1.637858-1.566127 1.637858-1.972603C1.637858-2.307347 1.41071-2.49863 1.111831-2.49863C.896638-2.49863 .585803-2.391034 .585803-1.924782C.585803-.908593 1.398755 .251059 2.725778 .251059C4.076712 .251059 5.260274-.884682 5.260274-2.402989C5.260274-3.825654 4.303861-5.009215 3.048568-5.009215C2.367123-5.009215 1.841096-4.710336 1.530262-4.375592V-6.850311Z\"/>\n",
       "<path id=\"g3-54\" d=\"M1.470486-4.160399C1.470486-7.185056 2.940971-7.663263 3.58655-7.663263C4.016936-7.663263 4.447323-7.531756 4.674471-7.173101C4.531009-7.173101 4.076712-7.173101 4.076712-6.682939C4.076712-6.419925 4.25604-6.192777 4.566874-6.192777C4.865753-6.192777 5.068991-6.372105 5.068991-6.718804C5.068991-7.340473 4.614695-7.950187 3.574595-7.950187C2.068244-7.950187 .490162-6.40797 .490162-3.777833C.490162-.490162 1.924782 .251059 2.940971 .251059C4.244085 .251059 5.355915-.884682 5.355915-2.438854C5.355915-4.028892 4.244085-5.092902 3.048568-5.092902C1.984558-5.092902 1.590037-4.172354 1.470486-3.837609V-4.160399ZM2.940971-.071731C2.187796-.071731 1.829141-.74122 1.721544-.992279C1.613948-1.303113 1.494396-1.888917 1.494396-2.725778C1.494396-3.670237 1.924782-4.853798 3.000747-4.853798C3.658281-4.853798 4.004981-4.411457 4.184309-4.004981C4.375592-3.56264 4.375592-2.964882 4.375592-2.450809C4.375592-1.841096 4.375592-1.303113 4.148443-.848817C3.849564-.274969 3.419178-.071731 2.940971-.071731Z\"/>\n",
       "<path id=\"g3-55\" d=\"M5.678705-7.424159V-7.699128H2.797509C1.350934-7.699128 1.327024-7.854545 1.279203-8.081694H1.016189L.645579-5.69066H.908593C.944458-5.905853 1.052055-6.647073 1.207472-6.77858C1.303113-6.850311 2.199751-6.850311 2.367123-6.850311H4.901619L3.634371-5.033126C3.311582-4.566874 2.10411-2.606227 2.10411-.358655C2.10411-.227148 2.10411 .251059 2.594271 .251059C3.096389 .251059 3.096389-.215193 3.096389-.37061V-.968369C3.096389-2.749689 3.383313-4.136488 3.945205-4.937484L5.678705-7.424159Z\"/>\n",
       "<path id=\"g3-56\" d=\"M3.56264-4.315816C4.160399-4.638605 5.033126-5.188543 5.033126-6.192777C5.033126-7.232877 4.028892-7.950187 2.929016-7.950187C1.745455-7.950187 .812951-7.07746 .812951-5.989539C.812951-5.583064 .932503-5.176588 1.267248-4.770112C1.398755-4.614695 1.41071-4.60274 2.247572-4.016936C1.08792-3.478954 .490162-2.677958 .490162-1.80523C.490162-.537983 1.697634 .251059 2.917061 .251059C4.244085 .251059 5.355915-.729265 5.355915-1.984558C5.355915-3.203985 4.495143-3.741968 3.56264-4.315816ZM1.936737-5.391781C1.78132-5.499377 1.303113-5.810212 1.303113-6.396015C1.303113-7.173101 2.116065-7.663263 2.917061-7.663263C3.777833-7.663263 4.542964-7.041594 4.542964-6.180822C4.542964-5.451557 4.016936-4.865753 3.323537-4.483188L1.936737-5.391781ZM2.49863-3.849564L3.945205-2.905106C4.25604-2.701868 4.805978-2.331258 4.805978-1.601993C4.805978-.6934 3.88543-.071731 2.929016-.071731C1.912827-.071731 1.0401-.812951 1.0401-1.80523C1.0401-2.737733 1.721544-3.490909 2.49863-3.849564Z\"/>\n",
       "<path id=\"g3-57\" d=\"M4.375592-3.478954C4.375592-.657534 3.120299-.071731 2.402989-.071731C2.116065-.071731 1.482441-.107597 1.183562-.526027H1.255293C1.338979-.502117 1.769365-.573848 1.769365-1.016189C1.769365-1.279203 1.590037-1.506351 1.279203-1.506351S.777086-1.303113 .777086-.992279C.777086-.251059 1.374844 .251059 2.414944 .251059C3.90934 .251059 5.355915-1.338979 5.355915-3.93325C5.355915-7.149191 4.016936-7.950187 2.964882-7.950187C1.649813-7.950187 .490162-6.850311 .490162-5.272229S1.601993-2.618182 2.797509-2.618182C3.682192-2.618182 4.136488-3.263761 4.375592-3.873474V-3.478954ZM2.84533-2.857285C2.092154-2.857285 1.769365-3.466999 1.661768-3.694147C1.470486-4.148443 1.470486-4.722291 1.470486-5.260274C1.470486-5.929763 1.470486-6.503611 1.78132-6.993773C1.996513-7.316563 2.319303-7.663263 2.964882-7.663263C3.646326-7.663263 3.993026-7.065504 4.112578-6.790535C4.351681-6.204732 4.351681-5.188543 4.351681-5.009215C4.351681-4.004981 3.897385-2.857285 2.84533-2.857285Z\"/>\n",
       "</defs>\n",
       "<g id=\"page1\">\n",
       "<g transform=\"translate(368.575 337.677)scale(.996264)\">\n",
       "<path d=\"M.355659 569.411V.355659\" fill=\"none\" stroke=\"#cccccc\" stroke-linecap=\"round\" stroke-linejoin=\"round\" stroke-miterlimit=\"10.0375\" stroke-width=\"0.426791\"/>\n",
       "</g>\n",
       "<g transform=\"translate(368.575 337.677)scale(.996264)\">\n",
       "<path d=\"M7.46885 569.411V.355659\" fill=\"none\" stroke=\"#cccccc\" stroke-dasharray=\"0,0.682969\" stroke-linecap=\"round\" stroke-linejoin=\"round\" stroke-miterlimit=\"10.0375\" stroke-width=\"0.170717\"/>\n",
       "</g>\n",
       "<g transform=\"translate(368.575 337.677)scale(.996264)\">\n",
       "<path d=\"M14.582 569.411V.355659\" fill=\"none\" stroke=\"#cccccc\" stroke-dasharray=\"0,0.682969\" stroke-linecap=\"round\" stroke-linejoin=\"round\" stroke-miterlimit=\"10.0375\" stroke-width=\"0.170717\"/>\n",
       "</g>\n",
       "<g transform=\"translate(368.575 337.677)scale(.996264)\">\n",
       "<path d=\"M21.6952 569.411V.355659\" fill=\"none\" stroke=\"#cccccc\" stroke-dasharray=\"0,0.682969\" stroke-linecap=\"round\" stroke-linejoin=\"round\" stroke-miterlimit=\"10.0375\" stroke-width=\"0.170717\"/>\n",
       "</g>\n",
       "<g transform=\"translate(368.575 337.677)scale(.996264)\">\n",
       "<path d=\"M28.8084 569.411V.355659\" fill=\"none\" stroke=\"#cccccc\" stroke-linecap=\"round\" stroke-linejoin=\"round\" stroke-miterlimit=\"10.0375\" stroke-width=\"0.426791\"/>\n",
       "</g>\n",
       "<g transform=\"translate(368.575 337.677)scale(.996264)\">\n",
       "<path d=\"M35.9216 569.411V.355659\" fill=\"none\" stroke=\"#cccccc\" stroke-dasharray=\"0,0.682969\" stroke-linecap=\"round\" stroke-linejoin=\"round\" stroke-miterlimit=\"10.0375\" stroke-width=\"0.170717\"/>\n",
       "</g>\n",
       "<g transform=\"translate(368.575 337.677)scale(.996264)\">\n",
       "<path d=\"M43.0348 569.411V.355659\" fill=\"none\" stroke=\"#cccccc\" stroke-dasharray=\"0,0.682969\" stroke-linecap=\"round\" stroke-linejoin=\"round\" stroke-miterlimit=\"10.0375\" stroke-width=\"0.170717\"/>\n",
       "</g>\n",
       "<g transform=\"translate(368.575 337.677)scale(.996264)\">\n",
       "<path d=\"M50.148 569.411V.355659\" fill=\"none\" stroke=\"#cccccc\" stroke-dasharray=\"0,0.682969\" stroke-linecap=\"round\" stroke-linejoin=\"round\" stroke-miterlimit=\"10.0375\" stroke-width=\"0.170717\"/>\n",
       "</g>\n",
       "<g transform=\"translate(368.575 337.677)scale(.996264)\">\n",
       "<path d=\"M57.2612 569.411V.355659\" fill=\"none\" stroke=\"#cccccc\" stroke-linecap=\"round\" stroke-linejoin=\"round\" stroke-miterlimit=\"10.0375\" stroke-width=\"0.426791\"/>\n",
       "</g>\n",
       "<g transform=\"translate(368.575 337.677)scale(.996264)\">\n",
       "<path d=\"M64.3744 569.411V.355659\" fill=\"none\" stroke=\"#cccccc\" stroke-dasharray=\"0,0.682969\" stroke-linecap=\"round\" stroke-linejoin=\"round\" stroke-miterlimit=\"10.0375\" stroke-width=\"0.170717\"/>\n",
       "</g>\n",
       "<g transform=\"translate(368.575 337.677)scale(.996264)\">\n",
       "<path d=\"M71.4875 569.411V.355659\" fill=\"none\" stroke=\"#cccccc\" stroke-dasharray=\"0,0.682969\" stroke-linecap=\"round\" stroke-linejoin=\"round\" stroke-miterlimit=\"10.0375\" stroke-width=\"0.170717\"/>\n",
       "</g>\n",
       "<g transform=\"translate(368.575 337.677)scale(.996264)\">\n",
       "<path d=\"M78.6007 569.411V.355659\" fill=\"none\" stroke=\"#cccccc\" stroke-dasharray=\"0,0.682969\" stroke-linecap=\"round\" stroke-linejoin=\"round\" stroke-miterlimit=\"10.0375\" stroke-width=\"0.170717\"/>\n",
       "</g>\n",
       "<g transform=\"translate(368.575 337.677)scale(.996264)\">\n",
       "<path d=\"M85.7139 569.411V.355659\" fill=\"none\" stroke=\"#cccccc\" stroke-linecap=\"round\" stroke-linejoin=\"round\" stroke-miterlimit=\"10.0375\" stroke-width=\"0.426791\"/>\n",
       "</g>\n",
       "<g transform=\"translate(368.575 337.677)scale(.996264)\">\n",
       "<path d=\"M92.8271 569.411V.355659\" fill=\"none\" stroke=\"#cccccc\" stroke-dasharray=\"0,0.682969\" stroke-linecap=\"round\" stroke-linejoin=\"round\" stroke-miterlimit=\"10.0375\" stroke-width=\"0.170717\"/>\n",
       "</g>\n",
       "<g transform=\"translate(368.575 337.677)scale(.996264)\">\n",
       "<path d=\"M99.9403 569.411V.355659\" fill=\"none\" stroke=\"#cccccc\" stroke-dasharray=\"0,0.682969\" stroke-linecap=\"round\" stroke-linejoin=\"round\" stroke-miterlimit=\"10.0375\" stroke-width=\"0.170717\"/>\n",
       "</g>\n",
       "<g transform=\"translate(368.575 337.677)scale(.996264)\">\n",
       "<path d=\"M107.053 569.411V.355659\" fill=\"none\" stroke=\"#cccccc\" stroke-dasharray=\"0,0.682969\" stroke-linecap=\"round\" stroke-linejoin=\"round\" stroke-miterlimit=\"10.0375\" stroke-width=\"0.170717\"/>\n",
       "</g>\n",
       "<g transform=\"translate(368.575 337.677)scale(.996264)\">\n",
       "<path d=\"M114.167 569.411V.355659\" fill=\"none\" stroke=\"#cccccc\" stroke-linecap=\"round\" stroke-linejoin=\"round\" stroke-miterlimit=\"10.0375\" stroke-width=\"0.426791\"/>\n",
       "</g>\n",
       "<g transform=\"translate(368.575 337.677)scale(.996264)\">\n",
       "<path d=\"M121.28 569.411V.355659\" fill=\"none\" stroke=\"#cccccc\" stroke-dasharray=\"0,0.682969\" stroke-linecap=\"round\" stroke-linejoin=\"round\" stroke-miterlimit=\"10.0375\" stroke-width=\"0.170717\"/>\n",
       "</g>\n",
       "<g transform=\"translate(368.575 337.677)scale(.996264)\">\n",
       "<path d=\"M128.393 569.411V.355659\" fill=\"none\" stroke=\"#cccccc\" stroke-dasharray=\"0,0.682969\" stroke-linecap=\"round\" stroke-linejoin=\"round\" stroke-miterlimit=\"10.0375\" stroke-width=\"0.170717\"/>\n",
       "</g>\n",
       "<g transform=\"translate(368.575 337.677)scale(.996264)\">\n",
       "<path d=\"M135.506 569.411V.355659\" fill=\"none\" stroke=\"#cccccc\" stroke-dasharray=\"0,0.682969\" stroke-linecap=\"round\" stroke-linejoin=\"round\" stroke-miterlimit=\"10.0375\" stroke-width=\"0.170717\"/>\n",
       "</g>\n",
       "<g transform=\"translate(368.575 337.677)scale(.996264)\">\n",
       "<path d=\"M142.619 569.411V.355659\" fill=\"none\" stroke=\"#cccccc\" stroke-linecap=\"round\" stroke-linejoin=\"round\" stroke-miterlimit=\"10.0375\" stroke-width=\"0.426791\"/>\n",
       "</g>\n",
       "<g transform=\"translate(368.575 337.677)scale(.996264)\">\n",
       "<path d=\"M149.733 569.411V.355659\" fill=\"none\" stroke=\"#cccccc\" stroke-dasharray=\"0,0.682969\" stroke-linecap=\"round\" stroke-linejoin=\"round\" stroke-miterlimit=\"10.0375\" stroke-width=\"0.170717\"/>\n",
       "</g>\n",
       "<g transform=\"translate(368.575 337.677)scale(.996264)\">\n",
       "<path d=\"M156.846 569.411V.355659\" fill=\"none\" stroke=\"#cccccc\" stroke-dasharray=\"0,0.682969\" stroke-linecap=\"round\" stroke-linejoin=\"round\" stroke-miterlimit=\"10.0375\" stroke-width=\"0.170717\"/>\n",
       "</g>\n",
       "<g transform=\"translate(368.575 337.677)scale(.996264)\">\n",
       "<path d=\"M163.959 569.411V.355659\" fill=\"none\" stroke=\"#cccccc\" stroke-dasharray=\"0,0.682969\" stroke-linecap=\"round\" stroke-linejoin=\"round\" stroke-miterlimit=\"10.0375\" stroke-width=\"0.170717\"/>\n",
       "</g>\n",
       "<g transform=\"translate(368.575 337.677)scale(.996264)\">\n",
       "<path d=\"M171.072 569.411V.355659\" fill=\"none\" stroke=\"#cccccc\" stroke-linecap=\"round\" stroke-linejoin=\"round\" stroke-miterlimit=\"10.0375\" stroke-width=\"0.426791\"/>\n",
       "</g>\n",
       "<g transform=\"translate(368.575 337.677)scale(.996264)\">\n",
       "<path d=\"M178.185 569.411V.355659\" fill=\"none\" stroke=\"#cccccc\" stroke-dasharray=\"0,0.682969\" stroke-linecap=\"round\" stroke-linejoin=\"round\" stroke-miterlimit=\"10.0375\" stroke-width=\"0.170717\"/>\n",
       "</g>\n",
       "<g transform=\"translate(368.575 337.677)scale(.996264)\">\n",
       "<path d=\"M185.299 569.411V.355659\" fill=\"none\" stroke=\"#cccccc\" stroke-dasharray=\"0,0.682969\" stroke-linecap=\"round\" stroke-linejoin=\"round\" stroke-miterlimit=\"10.0375\" stroke-width=\"0.170717\"/>\n",
       "</g>\n",
       "<g transform=\"translate(368.575 337.677)scale(.996264)\">\n",
       "<path d=\"M192.412 569.411V.355659\" fill=\"none\" stroke=\"#cccccc\" stroke-dasharray=\"0,0.682969\" stroke-linecap=\"round\" stroke-linejoin=\"round\" stroke-miterlimit=\"10.0375\" stroke-width=\"0.170717\"/>\n",
       "</g>\n",
       "<g transform=\"translate(368.575 337.677)scale(.996264)\">\n",
       "<path d=\"M199.525 569.411V.355659\" fill=\"none\" stroke=\"#cccccc\" stroke-linecap=\"round\" stroke-linejoin=\"round\" stroke-miterlimit=\"10.0375\" stroke-width=\"0.426791\"/>\n",
       "</g>\n",
       "<g transform=\"translate(368.575 337.677)scale(.996264)\">\n",
       "<path d=\"M206.638 569.411V.355659\" fill=\"none\" stroke=\"#cccccc\" stroke-dasharray=\"0,0.682969\" stroke-linecap=\"round\" stroke-linejoin=\"round\" stroke-miterlimit=\"10.0375\" stroke-width=\"0.170717\"/>\n",
       "</g>\n",
       "<g transform=\"translate(368.575 337.677)scale(.996264)\">\n",
       "<path d=\"M213.751 569.411V.355659\" fill=\"none\" stroke=\"#cccccc\" stroke-dasharray=\"0,0.682969\" stroke-linecap=\"round\" stroke-linejoin=\"round\" stroke-miterlimit=\"10.0375\" stroke-width=\"0.170717\"/>\n",
       "</g>\n",
       "<g transform=\"translate(368.575 337.677)scale(.996264)\">\n",
       "<path d=\"M220.865 569.411V.355659\" fill=\"none\" stroke=\"#cccccc\" stroke-dasharray=\"0,0.682969\" stroke-linecap=\"round\" stroke-linejoin=\"round\" stroke-miterlimit=\"10.0375\" stroke-width=\"0.170717\"/>\n",
       "</g>\n",
       "<g transform=\"translate(368.575 337.677)scale(.996264)\">\n",
       "<path d=\"M227.978 569.411V.355659\" fill=\"none\" stroke=\"#cccccc\" stroke-linecap=\"round\" stroke-linejoin=\"round\" stroke-miterlimit=\"10.0375\" stroke-width=\"0.426791\"/>\n",
       "</g>\n",
       "<g transform=\"translate(368.575 337.677)scale(.996264)\">\n",
       "<path d=\"M235.091 569.411V.355659\" fill=\"none\" stroke=\"#cccccc\" stroke-dasharray=\"0,0.682969\" stroke-linecap=\"round\" stroke-linejoin=\"round\" stroke-miterlimit=\"10.0375\" stroke-width=\"0.170717\"/>\n",
       "</g>\n",
       "<g transform=\"translate(368.575 337.677)scale(.996264)\">\n",
       "<path d=\"M242.204 569.411V.355659\" fill=\"none\" stroke=\"#cccccc\" stroke-dasharray=\"0,0.682969\" stroke-linecap=\"round\" stroke-linejoin=\"round\" stroke-miterlimit=\"10.0375\" stroke-width=\"0.170717\"/>\n",
       "</g>\n",
       "<g transform=\"translate(368.575 337.677)scale(.996264)\">\n",
       "<path d=\"M249.317 569.411V.355659\" fill=\"none\" stroke=\"#cccccc\" stroke-dasharray=\"0,0.682969\" stroke-linecap=\"round\" stroke-linejoin=\"round\" stroke-miterlimit=\"10.0375\" stroke-width=\"0.170717\"/>\n",
       "</g>\n",
       "<g transform=\"translate(368.575 337.677)scale(.996264)\">\n",
       "<path d=\"M256.43 569.411V.355659\" fill=\"none\" stroke=\"#cccccc\" stroke-linecap=\"round\" stroke-linejoin=\"round\" stroke-miterlimit=\"10.0375\" stroke-width=\"0.426791\"/>\n",
       "</g>\n",
       "<g transform=\"translate(368.575 337.677)scale(.996264)\">\n",
       "<path d=\"M263.544 569.411V.355659\" fill=\"none\" stroke=\"#cccccc\" stroke-dasharray=\"0,0.682969\" stroke-linecap=\"round\" stroke-linejoin=\"round\" stroke-miterlimit=\"10.0375\" stroke-width=\"0.170717\"/>\n",
       "</g>\n",
       "<g transform=\"translate(368.575 337.677)scale(.996264)\">\n",
       "<path d=\"M270.657 569.411V.355659\" fill=\"none\" stroke=\"#cccccc\" stroke-dasharray=\"0,0.682969\" stroke-linecap=\"round\" stroke-linejoin=\"round\" stroke-miterlimit=\"10.0375\" stroke-width=\"0.170717\"/>\n",
       "</g>\n",
       "<g transform=\"translate(368.575 337.677)scale(.996264)\">\n",
       "<path d=\"M277.77 569.411V.355659\" fill=\"none\" stroke=\"#cccccc\" stroke-dasharray=\"0,0.682969\" stroke-linecap=\"round\" stroke-linejoin=\"round\" stroke-miterlimit=\"10.0375\" stroke-width=\"0.170717\"/>\n",
       "</g>\n",
       "<g transform=\"translate(368.575 337.677)scale(.996264)\">\n",
       "<path d=\"M284.883 569.411V.355659\" fill=\"none\" stroke=\"#cccccc\" stroke-linecap=\"round\" stroke-linejoin=\"round\" stroke-miterlimit=\"10.0375\" stroke-width=\"0.426791\"/>\n",
       "</g>\n",
       "<g transform=\"translate(368.575 337.677)scale(.996264)\">\n",
       "<path d=\"M291.996 569.411V.355659\" fill=\"none\" stroke=\"#cccccc\" stroke-dasharray=\"0,0.682969\" stroke-linecap=\"round\" stroke-linejoin=\"round\" stroke-miterlimit=\"10.0375\" stroke-width=\"0.170717\"/>\n",
       "</g>\n",
       "<g transform=\"translate(368.575 337.677)scale(.996264)\">\n",
       "<path d=\"M299.11 569.411V.355659\" fill=\"none\" stroke=\"#cccccc\" stroke-dasharray=\"0,0.682969\" stroke-linecap=\"round\" stroke-linejoin=\"round\" stroke-miterlimit=\"10.0375\" stroke-width=\"0.170717\"/>\n",
       "</g>\n",
       "<g transform=\"translate(368.575 337.677)scale(.996264)\">\n",
       "<path d=\"M306.223 569.411V.355659\" fill=\"none\" stroke=\"#cccccc\" stroke-dasharray=\"0,0.682969\" stroke-linecap=\"round\" stroke-linejoin=\"round\" stroke-miterlimit=\"10.0375\" stroke-width=\"0.170717\"/>\n",
       "</g>\n",
       "<g transform=\"translate(368.575 337.677)scale(.996264)\">\n",
       "<path d=\"M313.336 569.411V.355659\" fill=\"none\" stroke=\"#cccccc\" stroke-linecap=\"round\" stroke-linejoin=\"round\" stroke-miterlimit=\"10.0375\" stroke-width=\"0.426791\"/>\n",
       "</g>\n",
       "<g transform=\"translate(368.575 337.677)scale(.996264)\">\n",
       "<path d=\"M320.449 569.411V.355659\" fill=\"none\" stroke=\"#cccccc\" stroke-dasharray=\"0,0.682969\" stroke-linecap=\"round\" stroke-linejoin=\"round\" stroke-miterlimit=\"10.0375\" stroke-width=\"0.170717\"/>\n",
       "</g>\n",
       "<g transform=\"translate(368.575 337.677)scale(.996264)\">\n",
       "<path d=\"M327.562 569.411V.355659\" fill=\"none\" stroke=\"#cccccc\" stroke-dasharray=\"0,0.682969\" stroke-linecap=\"round\" stroke-linejoin=\"round\" stroke-miterlimit=\"10.0375\" stroke-width=\"0.170717\"/>\n",
       "</g>\n",
       "<g transform=\"translate(368.575 337.677)scale(.996264)\">\n",
       "<path d=\"M334.676 569.411V.355659\" fill=\"none\" stroke=\"#cccccc\" stroke-dasharray=\"0,0.682969\" stroke-linecap=\"round\" stroke-linejoin=\"round\" stroke-miterlimit=\"10.0375\" stroke-width=\"0.170717\"/>\n",
       "</g>\n",
       "<g transform=\"translate(368.575 337.677)scale(.996264)\">\n",
       "<path d=\"M341.789 569.411V.355659\" fill=\"none\" stroke=\"#cccccc\" stroke-linecap=\"round\" stroke-linejoin=\"round\" stroke-miterlimit=\"10.0375\" stroke-width=\"0.426791\"/>\n",
       "</g>\n",
       "<g transform=\"translate(368.575 337.677)scale(.996264)\">\n",
       "<path d=\"M348.902 569.411V.355659\" fill=\"none\" stroke=\"#cccccc\" stroke-dasharray=\"0,0.682969\" stroke-linecap=\"round\" stroke-linejoin=\"round\" stroke-miterlimit=\"10.0375\" stroke-width=\"0.170717\"/>\n",
       "</g>\n",
       "<g transform=\"translate(368.575 337.677)scale(.996264)\">\n",
       "<path d=\"M356.015 569.411V.355659\" fill=\"none\" stroke=\"#cccccc\" stroke-dasharray=\"0,0.682969\" stroke-linecap=\"round\" stroke-linejoin=\"round\" stroke-miterlimit=\"10.0375\" stroke-width=\"0.170717\"/>\n",
       "</g>\n",
       "<g transform=\"translate(368.575 337.677)scale(.996264)\">\n",
       "<path d=\"M363.128 569.411V.355659\" fill=\"none\" stroke=\"#cccccc\" stroke-dasharray=\"0,0.682969\" stroke-linecap=\"round\" stroke-linejoin=\"round\" stroke-miterlimit=\"10.0375\" stroke-width=\"0.170717\"/>\n",
       "</g>\n",
       "<g transform=\"translate(368.575 337.677)scale(.996264)\">\n",
       "<path d=\"M370.241 569.411V.355659\" fill=\"none\" stroke=\"#cccccc\" stroke-linecap=\"round\" stroke-linejoin=\"round\" stroke-miterlimit=\"10.0375\" stroke-width=\"0.426791\"/>\n",
       "</g>\n",
       "<g transform=\"translate(368.575 337.677)scale(.996264)\">\n",
       "<path d=\"M377.355 569.411V.355659\" fill=\"none\" stroke=\"#cccccc\" stroke-dasharray=\"0,0.682969\" stroke-linecap=\"round\" stroke-linejoin=\"round\" stroke-miterlimit=\"10.0375\" stroke-width=\"0.170717\"/>\n",
       "</g>\n",
       "<g transform=\"translate(368.575 337.677)scale(.996264)\">\n",
       "<path d=\"M384.468 569.411V.355659\" fill=\"none\" stroke=\"#cccccc\" stroke-dasharray=\"0,0.682969\" stroke-linecap=\"round\" stroke-linejoin=\"round\" stroke-miterlimit=\"10.0375\" stroke-width=\"0.170717\"/>\n",
       "</g>\n",
       "<g transform=\"translate(368.575 337.677)scale(.996264)\">\n",
       "<path d=\"M391.581 569.411V.355659\" fill=\"none\" stroke=\"#cccccc\" stroke-dasharray=\"0,0.682969\" stroke-linecap=\"round\" stroke-linejoin=\"round\" stroke-miterlimit=\"10.0375\" stroke-width=\"0.170717\"/>\n",
       "</g>\n",
       "<g transform=\"translate(368.575 337.677)scale(.996264)\">\n",
       "<path d=\"M398.694 569.411V.355659\" fill=\"none\" stroke=\"#cccccc\" stroke-linecap=\"round\" stroke-linejoin=\"round\" stroke-miterlimit=\"10.0375\" stroke-width=\"0.426791\"/>\n",
       "</g>\n",
       "<g transform=\"translate(368.575 337.677)scale(.996264)\">\n",
       "<path d=\"M405.807 569.411V.355659\" fill=\"none\" stroke=\"#cccccc\" stroke-dasharray=\"0,0.682969\" stroke-linecap=\"round\" stroke-linejoin=\"round\" stroke-miterlimit=\"10.0375\" stroke-width=\"0.170717\"/>\n",
       "</g>\n",
       "<g transform=\"translate(368.575 337.677)scale(.996264)\">\n",
       "<path d=\"M412.921 569.411V.355659\" fill=\"none\" stroke=\"#cccccc\" stroke-dasharray=\"0,0.682969\" stroke-linecap=\"round\" stroke-linejoin=\"round\" stroke-miterlimit=\"10.0375\" stroke-width=\"0.170717\"/>\n",
       "</g>\n",
       "<g transform=\"translate(368.575 337.677)scale(.996264)\">\n",
       "<path d=\"M420.034 569.411V.355659\" fill=\"none\" stroke=\"#cccccc\" stroke-dasharray=\"0,0.682969\" stroke-linecap=\"round\" stroke-linejoin=\"round\" stroke-miterlimit=\"10.0375\" stroke-width=\"0.170717\"/>\n",
       "</g>\n",
       "<g transform=\"translate(368.575 337.677)scale(.996264)\">\n",
       "<path d=\"M427.147 569.411V.355659\" fill=\"none\" stroke=\"#cccccc\" stroke-linecap=\"round\" stroke-linejoin=\"round\" stroke-miterlimit=\"10.0375\" stroke-width=\"0.426791\"/>\n",
       "</g>\n",
       "<g transform=\"translate(368.575 337.677)scale(.996264)\">\n",
       "<path d=\"M434.26 569.411V.355659\" fill=\"none\" stroke=\"#cccccc\" stroke-dasharray=\"0,0.682969\" stroke-linecap=\"round\" stroke-linejoin=\"round\" stroke-miterlimit=\"10.0375\" stroke-width=\"0.170717\"/>\n",
       "</g>\n",
       "<g transform=\"translate(368.575 337.677)scale(.996264)\">\n",
       "<path d=\"M441.373 569.411V.355659\" fill=\"none\" stroke=\"#cccccc\" stroke-dasharray=\"0,0.682969\" stroke-linecap=\"round\" stroke-linejoin=\"round\" stroke-miterlimit=\"10.0375\" stroke-width=\"0.170717\"/>\n",
       "</g>\n",
       "<g transform=\"translate(368.575 337.677)scale(.996264)\">\n",
       "<path d=\"M448.487 569.411V.355659\" fill=\"none\" stroke=\"#cccccc\" stroke-dasharray=\"0,0.682969\" stroke-linecap=\"round\" stroke-linejoin=\"round\" stroke-miterlimit=\"10.0375\" stroke-width=\"0.170717\"/>\n",
       "</g>\n",
       "<g transform=\"translate(368.575 337.677)scale(.996264)\">\n",
       "<path d=\"M455.6 569.411V.355659\" fill=\"none\" stroke=\"#cccccc\" stroke-linecap=\"round\" stroke-linejoin=\"round\" stroke-miterlimit=\"10.0375\" stroke-width=\"0.426791\"/>\n",
       "</g>\n",
       "<g transform=\"translate(368.575 337.677)scale(.996264)\">\n",
       "<path d=\"M462.713 569.411V.355659\" fill=\"none\" stroke=\"#cccccc\" stroke-dasharray=\"0,0.682969\" stroke-linecap=\"round\" stroke-linejoin=\"round\" stroke-miterlimit=\"10.0375\" stroke-width=\"0.170717\"/>\n",
       "</g>\n",
       "<g transform=\"translate(368.575 337.677)scale(.996264)\">\n",
       "<path d=\"M469.826 569.411V.355659\" fill=\"none\" stroke=\"#cccccc\" stroke-dasharray=\"0,0.682969\" stroke-linecap=\"round\" stroke-linejoin=\"round\" stroke-miterlimit=\"10.0375\" stroke-width=\"0.170717\"/>\n",
       "</g>\n",
       "<g transform=\"translate(368.575 337.677)scale(.996264)\">\n",
       "<path d=\"M476.939 569.411V.355659\" fill=\"none\" stroke=\"#cccccc\" stroke-dasharray=\"0,0.682969\" stroke-linecap=\"round\" stroke-linejoin=\"round\" stroke-miterlimit=\"10.0375\" stroke-width=\"0.170717\"/>\n",
       "</g>\n",
       "<g transform=\"translate(368.575 337.677)scale(.996264)\">\n",
       "<path d=\"M484.053 569.411V.355659\" fill=\"none\" stroke=\"#cccccc\" stroke-linecap=\"round\" stroke-linejoin=\"round\" stroke-miterlimit=\"10.0375\" stroke-width=\"0.426791\"/>\n",
       "</g>\n",
       "<g transform=\"translate(368.575 337.677)scale(.996264)\">\n",
       "<path d=\"M491.166 569.411V.355659\" fill=\"none\" stroke=\"#cccccc\" stroke-dasharray=\"0,0.682969\" stroke-linecap=\"round\" stroke-linejoin=\"round\" stroke-miterlimit=\"10.0375\" stroke-width=\"0.170717\"/>\n",
       "</g>\n",
       "<g transform=\"translate(368.575 337.677)scale(.996264)\">\n",
       "<path d=\"M498.279 569.411V.355659\" fill=\"none\" stroke=\"#cccccc\" stroke-dasharray=\"0,0.682969\" stroke-linecap=\"round\" stroke-linejoin=\"round\" stroke-miterlimit=\"10.0375\" stroke-width=\"0.170717\"/>\n",
       "</g>\n",
       "<g transform=\"translate(368.575 337.677)scale(.996264)\">\n",
       "<path d=\"M505.392 569.411V.355659\" fill=\"none\" stroke=\"#cccccc\" stroke-dasharray=\"0,0.682969\" stroke-linecap=\"round\" stroke-linejoin=\"round\" stroke-miterlimit=\"10.0375\" stroke-width=\"0.170717\"/>\n",
       "</g>\n",
       "<g transform=\"translate(368.575 337.677)scale(.996264)\">\n",
       "<path d=\"M512.505 569.411V.355659\" fill=\"none\" stroke=\"#cccccc\" stroke-linecap=\"round\" stroke-linejoin=\"round\" stroke-miterlimit=\"10.0375\" stroke-width=\"0.426791\"/>\n",
       "</g>\n",
       "<g transform=\"translate(368.575 337.677)scale(.996264)\">\n",
       "<path d=\"M519.618 569.411V.355659\" fill=\"none\" stroke=\"#cccccc\" stroke-dasharray=\"0,0.682969\" stroke-linecap=\"round\" stroke-linejoin=\"round\" stroke-miterlimit=\"10.0375\" stroke-width=\"0.170717\"/>\n",
       "</g>\n",
       "<g transform=\"translate(368.575 337.677)scale(.996264)\">\n",
       "<path d=\"M526.732 569.411V.355659\" fill=\"none\" stroke=\"#cccccc\" stroke-dasharray=\"0,0.682969\" stroke-linecap=\"round\" stroke-linejoin=\"round\" stroke-miterlimit=\"10.0375\" stroke-width=\"0.170717\"/>\n",
       "</g>\n",
       "<g transform=\"translate(368.575 337.677)scale(.996264)\">\n",
       "<path d=\"M533.845 569.411V.355659\" fill=\"none\" stroke=\"#cccccc\" stroke-dasharray=\"0,0.682969\" stroke-linecap=\"round\" stroke-linejoin=\"round\" stroke-miterlimit=\"10.0375\" stroke-width=\"0.170717\"/>\n",
       "</g>\n",
       "<g transform=\"translate(368.575 337.677)scale(.996264)\">\n",
       "<path d=\"M540.958 569.411V.355659\" fill=\"none\" stroke=\"#cccccc\" stroke-linecap=\"round\" stroke-linejoin=\"round\" stroke-miterlimit=\"10.0375\" stroke-width=\"0.426791\"/>\n",
       "</g>\n",
       "<g transform=\"translate(368.575 337.677)scale(.996264)\">\n",
       "<path d=\"M548.071 569.411V.355659\" fill=\"none\" stroke=\"#cccccc\" stroke-dasharray=\"0,0.682969\" stroke-linecap=\"round\" stroke-linejoin=\"round\" stroke-miterlimit=\"10.0375\" stroke-width=\"0.170717\"/>\n",
       "</g>\n",
       "<g transform=\"translate(368.575 337.677)scale(.996264)\">\n",
       "<path d=\"M555.184 569.411V.355659\" fill=\"none\" stroke=\"#cccccc\" stroke-dasharray=\"0,0.682969\" stroke-linecap=\"round\" stroke-linejoin=\"round\" stroke-miterlimit=\"10.0375\" stroke-width=\"0.170717\"/>\n",
       "</g>\n",
       "<g transform=\"translate(368.575 337.677)scale(.996264)\">\n",
       "<path d=\"M562.298 569.411V.355659\" fill=\"none\" stroke=\"#cccccc\" stroke-dasharray=\"0,0.682969\" stroke-linecap=\"round\" stroke-linejoin=\"round\" stroke-miterlimit=\"10.0375\" stroke-width=\"0.170717\"/>\n",
       "</g>\n",
       "<g transform=\"translate(368.575 337.677)scale(.996264)\">\n",
       "<path d=\"M569.411 569.411V.355659\" fill=\"none\" stroke=\"#cccccc\" stroke-linecap=\"round\" stroke-linejoin=\"round\" stroke-miterlimit=\"10.0375\" stroke-width=\"0.426791\"/>\n",
       "</g>\n",
       "<g transform=\"translate(368.575 337.677)scale(.996264)\">\n",
       "<path d=\"M576.524 569.411V.355659\" fill=\"none\" stroke=\"#cccccc\" stroke-dasharray=\"0,0.682969\" stroke-linecap=\"round\" stroke-linejoin=\"round\" stroke-miterlimit=\"10.0375\" stroke-width=\"0.170717\"/>\n",
       "</g>\n",
       "<g transform=\"translate(368.575 337.677)scale(.996264)\">\n",
       "<path d=\"M583.637 569.411V.355659\" fill=\"none\" stroke=\"#cccccc\" stroke-dasharray=\"0,0.682969\" stroke-linecap=\"round\" stroke-linejoin=\"round\" stroke-miterlimit=\"10.0375\" stroke-width=\"0.170717\"/>\n",
       "</g>\n",
       "<g transform=\"translate(368.575 337.677)scale(.996264)\">\n",
       "<path d=\"M590.75 569.411V.355659\" fill=\"none\" stroke=\"#cccccc\" stroke-dasharray=\"0,0.682969\" stroke-linecap=\"round\" stroke-linejoin=\"round\" stroke-miterlimit=\"10.0375\" stroke-width=\"0.170717\"/>\n",
       "</g>\n",
       "<g transform=\"translate(368.575 337.677)scale(.996264)\">\n",
       "<path d=\"M597.864 569.411V.355659\" fill=\"none\" stroke=\"#cccccc\" stroke-linecap=\"round\" stroke-linejoin=\"round\" stroke-miterlimit=\"10.0375\" stroke-width=\"0.426791\"/>\n",
       "</g>\n",
       "<g transform=\"translate(368.575 337.677)scale(.996264)\">\n",
       "<path d=\"M604.977 569.411V.355659\" fill=\"none\" stroke=\"#cccccc\" stroke-dasharray=\"0,0.682969\" stroke-linecap=\"round\" stroke-linejoin=\"round\" stroke-miterlimit=\"10.0375\" stroke-width=\"0.170717\"/>\n",
       "</g>\n",
       "<g transform=\"translate(368.575 337.677)scale(.996264)\">\n",
       "<path d=\"M612.09 569.411V.355659\" fill=\"none\" stroke=\"#cccccc\" stroke-dasharray=\"0,0.682969\" stroke-linecap=\"round\" stroke-linejoin=\"round\" stroke-miterlimit=\"10.0375\" stroke-width=\"0.170717\"/>\n",
       "</g>\n",
       "<g transform=\"translate(368.575 337.677)scale(.996264)\">\n",
       "<path d=\"M619.203 569.411V.355659\" fill=\"none\" stroke=\"#cccccc\" stroke-dasharray=\"0,0.682969\" stroke-linecap=\"round\" stroke-linejoin=\"round\" stroke-miterlimit=\"10.0375\" stroke-width=\"0.170717\"/>\n",
       "</g>\n",
       "<g transform=\"translate(368.575 337.677)scale(.996264)\">\n",
       "<path d=\"M626.316 569.411V.355659\" fill=\"none\" stroke=\"#cccccc\" stroke-linecap=\"round\" stroke-linejoin=\"round\" stroke-miterlimit=\"10.0375\" stroke-width=\"0.426791\"/>\n",
       "</g>\n",
       "<g transform=\"translate(368.575 337.677)scale(.996264)\">\n",
       "<path d=\"M.355659 569.411H626.316\" fill=\"none\" stroke=\"#cccccc\" stroke-linecap=\"round\" stroke-linejoin=\"round\" stroke-miterlimit=\"10.0375\" stroke-width=\"0.426791\"/>\n",
       "</g>\n",
       "<g transform=\"translate(368.575 337.677)scale(.996264)\">\n",
       "<path d=\"M.355659 562.298H626.316\" fill=\"none\" stroke=\"#cccccc\" stroke-dasharray=\"0,0.683192\" stroke-linecap=\"round\" stroke-linejoin=\"round\" stroke-miterlimit=\"10.0375\" stroke-width=\"0.170717\"/>\n",
       "</g>\n",
       "<g transform=\"translate(368.575 337.677)scale(.996264)\">\n",
       "<path d=\"M.355659 555.184H626.316\" fill=\"none\" stroke=\"#cccccc\" stroke-dasharray=\"0,0.683192\" stroke-linecap=\"round\" stroke-linejoin=\"round\" stroke-miterlimit=\"10.0375\" stroke-width=\"0.170717\"/>\n",
       "</g>\n",
       "<g transform=\"translate(368.575 337.677)scale(.996264)\">\n",
       "<path d=\"M.355659 548.071H626.316\" fill=\"none\" stroke=\"#cccccc\" stroke-dasharray=\"0,0.683192\" stroke-linecap=\"round\" stroke-linejoin=\"round\" stroke-miterlimit=\"10.0375\" stroke-width=\"0.170717\"/>\n",
       "</g>\n",
       "<g transform=\"translate(368.575 337.677)scale(.996264)\">\n",
       "<path d=\"M.355659 540.958H626.316\" fill=\"none\" stroke=\"#cccccc\" stroke-dasharray=\"0,0.683192\" stroke-linecap=\"round\" stroke-linejoin=\"round\" stroke-miterlimit=\"10.0375\" stroke-width=\"0.170717\"/>\n",
       "</g>\n",
       "<g transform=\"translate(368.575 337.677)scale(.996264)\">\n",
       "<path d=\"M.355659 540.958H626.316\" fill=\"none\" stroke=\"#cccccc\" stroke-linecap=\"round\" stroke-linejoin=\"round\" stroke-miterlimit=\"10.0375\" stroke-width=\"0.426791\"/>\n",
       "</g>\n",
       "<g transform=\"translate(368.575 337.677)scale(.996264)\">\n",
       "<path d=\"M.355659 533.845H626.316\" fill=\"none\" stroke=\"#cccccc\" stroke-dasharray=\"0,0.683192\" stroke-linecap=\"round\" stroke-linejoin=\"round\" stroke-miterlimit=\"10.0375\" stroke-width=\"0.170717\"/>\n",
       "</g>\n",
       "<g transform=\"translate(368.575 337.677)scale(.996264)\">\n",
       "<path d=\"M.355659 526.732H626.316\" fill=\"none\" stroke=\"#cccccc\" stroke-dasharray=\"0,0.683192\" stroke-linecap=\"round\" stroke-linejoin=\"round\" stroke-miterlimit=\"10.0375\" stroke-width=\"0.170717\"/>\n",
       "</g>\n",
       "<g transform=\"translate(368.575 337.677)scale(.996264)\">\n",
       "<path d=\"M.355659 519.618H626.316\" fill=\"none\" stroke=\"#cccccc\" stroke-dasharray=\"0,0.683192\" stroke-linecap=\"round\" stroke-linejoin=\"round\" stroke-miterlimit=\"10.0375\" stroke-width=\"0.170717\"/>\n",
       "</g>\n",
       "<g transform=\"translate(368.575 337.677)scale(.996264)\">\n",
       "<path d=\"M.355659 512.505H626.316\" fill=\"none\" stroke=\"#cccccc\" stroke-dasharray=\"0,0.683192\" stroke-linecap=\"round\" stroke-linejoin=\"round\" stroke-miterlimit=\"10.0375\" stroke-width=\"0.170717\"/>\n",
       "</g>\n",
       "<g transform=\"translate(368.575 337.677)scale(.996264)\">\n",
       "<path d=\"M.355659 512.505H626.316\" fill=\"none\" stroke=\"#cccccc\" stroke-linecap=\"round\" stroke-linejoin=\"round\" stroke-miterlimit=\"10.0375\" stroke-width=\"0.426791\"/>\n",
       "</g>\n",
       "<g transform=\"translate(368.575 337.677)scale(.996264)\">\n",
       "<path d=\"M.355659 505.392H626.316\" fill=\"none\" stroke=\"#cccccc\" stroke-dasharray=\"0,0.683192\" stroke-linecap=\"round\" stroke-linejoin=\"round\" stroke-miterlimit=\"10.0375\" stroke-width=\"0.170717\"/>\n",
       "</g>\n",
       "<g transform=\"translate(368.575 337.677)scale(.996264)\">\n",
       "<path d=\"M.355659 498.279H626.316\" fill=\"none\" stroke=\"#cccccc\" stroke-dasharray=\"0,0.683192\" stroke-linecap=\"round\" stroke-linejoin=\"round\" stroke-miterlimit=\"10.0375\" stroke-width=\"0.170717\"/>\n",
       "</g>\n",
       "<g transform=\"translate(368.575 337.677)scale(.996264)\">\n",
       "<path d=\"M.355659 491.166H626.316\" fill=\"none\" stroke=\"#cccccc\" stroke-dasharray=\"0,0.683192\" stroke-linecap=\"round\" stroke-linejoin=\"round\" stroke-miterlimit=\"10.0375\" stroke-width=\"0.170717\"/>\n",
       "</g>\n",
       "<g transform=\"translate(368.575 337.677)scale(.996264)\">\n",
       "<path d=\"M.355659 484.053H626.316\" fill=\"none\" stroke=\"#cccccc\" stroke-dasharray=\"0,0.683192\" stroke-linecap=\"round\" stroke-linejoin=\"round\" stroke-miterlimit=\"10.0375\" stroke-width=\"0.170717\"/>\n",
       "</g>\n",
       "<g transform=\"translate(368.575 337.677)scale(.996264)\">\n",
       "<path d=\"M.355659 484.053H626.316\" fill=\"none\" stroke=\"#cccccc\" stroke-linecap=\"round\" stroke-linejoin=\"round\" stroke-miterlimit=\"10.0375\" stroke-width=\"0.426791\"/>\n",
       "</g>\n",
       "<g transform=\"translate(368.575 337.677)scale(.996264)\">\n",
       "<path d=\"M.355659 476.939H626.316\" fill=\"none\" stroke=\"#cccccc\" stroke-dasharray=\"0,0.683192\" stroke-linecap=\"round\" stroke-linejoin=\"round\" stroke-miterlimit=\"10.0375\" stroke-width=\"0.170717\"/>\n",
       "</g>\n",
       "<g transform=\"translate(368.575 337.677)scale(.996264)\">\n",
       "<path d=\"M.355659 469.826H626.316\" fill=\"none\" stroke=\"#cccccc\" stroke-dasharray=\"0,0.683192\" stroke-linecap=\"round\" stroke-linejoin=\"round\" stroke-miterlimit=\"10.0375\" stroke-width=\"0.170717\"/>\n",
       "</g>\n",
       "<g transform=\"translate(368.575 337.677)scale(.996264)\">\n",
       "<path d=\"M.355659 462.713H626.316\" fill=\"none\" stroke=\"#cccccc\" stroke-dasharray=\"0,0.683192\" stroke-linecap=\"round\" stroke-linejoin=\"round\" stroke-miterlimit=\"10.0375\" stroke-width=\"0.170717\"/>\n",
       "</g>\n",
       "<g transform=\"translate(368.575 337.677)scale(.996264)\">\n",
       "<path d=\"M.355659 455.6H626.316\" fill=\"none\" stroke=\"#cccccc\" stroke-dasharray=\"0,0.683192\" stroke-linecap=\"round\" stroke-linejoin=\"round\" stroke-miterlimit=\"10.0375\" stroke-width=\"0.170717\"/>\n",
       "</g>\n",
       "<g transform=\"translate(368.575 337.677)scale(.996264)\">\n",
       "<path d=\"M.355659 455.6H626.316\" fill=\"none\" stroke=\"#cccccc\" stroke-linecap=\"round\" stroke-linejoin=\"round\" stroke-miterlimit=\"10.0375\" stroke-width=\"0.426791\"/>\n",
       "</g>\n",
       "<g transform=\"translate(368.575 337.677)scale(.996264)\">\n",
       "<path d=\"M.355659 448.487H626.316\" fill=\"none\" stroke=\"#cccccc\" stroke-dasharray=\"0,0.683192\" stroke-linecap=\"round\" stroke-linejoin=\"round\" stroke-miterlimit=\"10.0375\" stroke-width=\"0.170717\"/>\n",
       "</g>\n",
       "<g transform=\"translate(368.575 337.677)scale(.996264)\">\n",
       "<path d=\"M.355659 441.373H626.316\" fill=\"none\" stroke=\"#cccccc\" stroke-dasharray=\"0,0.683192\" stroke-linecap=\"round\" stroke-linejoin=\"round\" stroke-miterlimit=\"10.0375\" stroke-width=\"0.170717\"/>\n",
       "</g>\n",
       "<g transform=\"translate(368.575 337.677)scale(.996264)\">\n",
       "<path d=\"M.355659 434.26H626.316\" fill=\"none\" stroke=\"#cccccc\" stroke-dasharray=\"0,0.683192\" stroke-linecap=\"round\" stroke-linejoin=\"round\" stroke-miterlimit=\"10.0375\" stroke-width=\"0.170717\"/>\n",
       "</g>\n",
       "<g transform=\"translate(368.575 337.677)scale(.996264)\">\n",
       "<path d=\"M.355659 427.147H626.316\" fill=\"none\" stroke=\"#cccccc\" stroke-dasharray=\"0,0.683192\" stroke-linecap=\"round\" stroke-linejoin=\"round\" stroke-miterlimit=\"10.0375\" stroke-width=\"0.170717\"/>\n",
       "</g>\n",
       "<g transform=\"translate(368.575 337.677)scale(.996264)\">\n",
       "<path d=\"M.355659 427.147H626.316\" fill=\"none\" stroke=\"#cccccc\" stroke-linecap=\"round\" stroke-linejoin=\"round\" stroke-miterlimit=\"10.0375\" stroke-width=\"0.426791\"/>\n",
       "</g>\n",
       "<g transform=\"translate(368.575 337.677)scale(.996264)\">\n",
       "<path d=\"M.355659 420.034H626.316\" fill=\"none\" stroke=\"#cccccc\" stroke-dasharray=\"0,0.683192\" stroke-linecap=\"round\" stroke-linejoin=\"round\" stroke-miterlimit=\"10.0375\" stroke-width=\"0.170717\"/>\n",
       "</g>\n",
       "<g transform=\"translate(368.575 337.677)scale(.996264)\">\n",
       "<path d=\"M.355659 412.921H626.316\" fill=\"none\" stroke=\"#cccccc\" stroke-dasharray=\"0,0.683192\" stroke-linecap=\"round\" stroke-linejoin=\"round\" stroke-miterlimit=\"10.0375\" stroke-width=\"0.170717\"/>\n",
       "</g>\n",
       "<g transform=\"translate(368.575 337.677)scale(.996264)\">\n",
       "<path d=\"M.355659 405.807H626.316\" fill=\"none\" stroke=\"#cccccc\" stroke-dasharray=\"0,0.683192\" stroke-linecap=\"round\" stroke-linejoin=\"round\" stroke-miterlimit=\"10.0375\" stroke-width=\"0.170717\"/>\n",
       "</g>\n",
       "<g transform=\"translate(368.575 337.677)scale(.996264)\">\n",
       "<path d=\"M.355659 398.694H626.316\" fill=\"none\" stroke=\"#cccccc\" stroke-dasharray=\"0,0.683192\" stroke-linecap=\"round\" stroke-linejoin=\"round\" stroke-miterlimit=\"10.0375\" stroke-width=\"0.170717\"/>\n",
       "</g>\n",
       "<g transform=\"translate(368.575 337.677)scale(.996264)\">\n",
       "<path d=\"M.355659 398.694H626.316\" fill=\"none\" stroke=\"#cccccc\" stroke-linecap=\"round\" stroke-linejoin=\"round\" stroke-miterlimit=\"10.0375\" stroke-width=\"0.426791\"/>\n",
       "</g>\n",
       "<g transform=\"translate(368.575 337.677)scale(.996264)\">\n",
       "<path d=\"M.355659 391.581H626.316\" fill=\"none\" stroke=\"#cccccc\" stroke-dasharray=\"0,0.683192\" stroke-linecap=\"round\" stroke-linejoin=\"round\" stroke-miterlimit=\"10.0375\" stroke-width=\"0.170717\"/>\n",
       "</g>\n",
       "<g transform=\"translate(368.575 337.677)scale(.996264)\">\n",
       "<path d=\"M.355659 384.468H626.316\" fill=\"none\" stroke=\"#cccccc\" stroke-dasharray=\"0,0.683192\" stroke-linecap=\"round\" stroke-linejoin=\"round\" stroke-miterlimit=\"10.0375\" stroke-width=\"0.170717\"/>\n",
       "</g>\n",
       "<g transform=\"translate(368.575 337.677)scale(.996264)\">\n",
       "<path d=\"M.355659 377.355H626.316\" fill=\"none\" stroke=\"#cccccc\" stroke-dasharray=\"0,0.683192\" stroke-linecap=\"round\" stroke-linejoin=\"round\" stroke-miterlimit=\"10.0375\" stroke-width=\"0.170717\"/>\n",
       "</g>\n",
       "<g transform=\"translate(368.575 337.677)scale(.996264)\">\n",
       "<path d=\"M.355659 370.241H626.316\" fill=\"none\" stroke=\"#cccccc\" stroke-dasharray=\"0,0.683192\" stroke-linecap=\"round\" stroke-linejoin=\"round\" stroke-miterlimit=\"10.0375\" stroke-width=\"0.170717\"/>\n",
       "</g>\n",
       "<g transform=\"translate(368.575 337.677)scale(.996264)\">\n",
       "<path d=\"M.355659 370.241H626.316\" fill=\"none\" stroke=\"#cccccc\" stroke-linecap=\"round\" stroke-linejoin=\"round\" stroke-miterlimit=\"10.0375\" stroke-width=\"0.426791\"/>\n",
       "</g>\n",
       "<g transform=\"translate(368.575 337.677)scale(.996264)\">\n",
       "<path d=\"M.355659 363.128H626.316\" fill=\"none\" stroke=\"#cccccc\" stroke-dasharray=\"0,0.683192\" stroke-linecap=\"round\" stroke-linejoin=\"round\" stroke-miterlimit=\"10.0375\" stroke-width=\"0.170717\"/>\n",
       "</g>\n",
       "<g transform=\"translate(368.575 337.677)scale(.996264)\">\n",
       "<path d=\"M.355659 356.015H626.316\" fill=\"none\" stroke=\"#cccccc\" stroke-dasharray=\"0,0.683192\" stroke-linecap=\"round\" stroke-linejoin=\"round\" stroke-miterlimit=\"10.0375\" stroke-width=\"0.170717\"/>\n",
       "</g>\n",
       "<g transform=\"translate(368.575 337.677)scale(.996264)\">\n",
       "<path d=\"M.355659 348.902H626.316\" fill=\"none\" stroke=\"#cccccc\" stroke-dasharray=\"0,0.683192\" stroke-linecap=\"round\" stroke-linejoin=\"round\" stroke-miterlimit=\"10.0375\" stroke-width=\"0.170717\"/>\n",
       "</g>\n",
       "<g transform=\"translate(368.575 337.677)scale(.996264)\">\n",
       "<path d=\"M.355659 341.789H626.316\" fill=\"none\" stroke=\"#cccccc\" stroke-dasharray=\"0,0.683192\" stroke-linecap=\"round\" stroke-linejoin=\"round\" stroke-miterlimit=\"10.0375\" stroke-width=\"0.170717\"/>\n",
       "</g>\n",
       "<g transform=\"translate(368.575 337.677)scale(.996264)\">\n",
       "<path d=\"M.355659 341.789H626.316\" fill=\"none\" stroke=\"#cccccc\" stroke-linecap=\"round\" stroke-linejoin=\"round\" stroke-miterlimit=\"10.0375\" stroke-width=\"0.426791\"/>\n",
       "</g>\n",
       "<g transform=\"translate(368.575 337.677)scale(.996264)\">\n",
       "<path d=\"M.355659 334.676H626.316\" fill=\"none\" stroke=\"#cccccc\" stroke-dasharray=\"0,0.683192\" stroke-linecap=\"round\" stroke-linejoin=\"round\" stroke-miterlimit=\"10.0375\" stroke-width=\"0.170717\"/>\n",
       "</g>\n",
       "<g transform=\"translate(368.575 337.677)scale(.996264)\">\n",
       "<path d=\"M.355659 327.562H626.316\" fill=\"none\" stroke=\"#cccccc\" stroke-dasharray=\"0,0.683192\" stroke-linecap=\"round\" stroke-linejoin=\"round\" stroke-miterlimit=\"10.0375\" stroke-width=\"0.170717\"/>\n",
       "</g>\n",
       "<g transform=\"translate(368.575 337.677)scale(.996264)\">\n",
       "<path d=\"M.355659 320.449H626.316\" fill=\"none\" stroke=\"#cccccc\" stroke-dasharray=\"0,0.683192\" stroke-linecap=\"round\" stroke-linejoin=\"round\" stroke-miterlimit=\"10.0375\" stroke-width=\"0.170717\"/>\n",
       "</g>\n",
       "<g transform=\"translate(368.575 337.677)scale(.996264)\">\n",
       "<path d=\"M.355659 313.336H626.316\" fill=\"none\" stroke=\"#cccccc\" stroke-dasharray=\"0,0.683192\" stroke-linecap=\"round\" stroke-linejoin=\"round\" stroke-miterlimit=\"10.0375\" stroke-width=\"0.170717\"/>\n",
       "</g>\n",
       "<g transform=\"translate(368.575 337.677)scale(.996264)\">\n",
       "<path d=\"M.355659 313.336H626.316\" fill=\"none\" stroke=\"#cccccc\" stroke-linecap=\"round\" stroke-linejoin=\"round\" stroke-miterlimit=\"10.0375\" stroke-width=\"0.426791\"/>\n",
       "</g>\n",
       "<g transform=\"translate(368.575 337.677)scale(.996264)\">\n",
       "<path d=\"M.355659 306.223H626.316\" fill=\"none\" stroke=\"#cccccc\" stroke-dasharray=\"0,0.683192\" stroke-linecap=\"round\" stroke-linejoin=\"round\" stroke-miterlimit=\"10.0375\" stroke-width=\"0.170717\"/>\n",
       "</g>\n",
       "<g transform=\"translate(368.575 337.677)scale(.996264)\">\n",
       "<path d=\"M.355659 299.11H626.316\" fill=\"none\" stroke=\"#cccccc\" stroke-dasharray=\"0,0.683192\" stroke-linecap=\"round\" stroke-linejoin=\"round\" stroke-miterlimit=\"10.0375\" stroke-width=\"0.170717\"/>\n",
       "</g>\n",
       "<g transform=\"translate(368.575 337.677)scale(.996264)\">\n",
       "<path d=\"M.355659 291.996H626.316\" fill=\"none\" stroke=\"#cccccc\" stroke-dasharray=\"0,0.683192\" stroke-linecap=\"round\" stroke-linejoin=\"round\" stroke-miterlimit=\"10.0375\" stroke-width=\"0.170717\"/>\n",
       "</g>\n",
       "<g transform=\"translate(368.575 337.677)scale(.996264)\">\n",
       "<path d=\"M.355659 284.883H626.316\" fill=\"none\" stroke=\"#cccccc\" stroke-dasharray=\"0,0.683192\" stroke-linecap=\"round\" stroke-linejoin=\"round\" stroke-miterlimit=\"10.0375\" stroke-width=\"0.170717\"/>\n",
       "</g>\n",
       "<g transform=\"translate(368.575 337.677)scale(.996264)\">\n",
       "<path d=\"M.355659 284.883H626.316\" fill=\"none\" stroke=\"#cccccc\" stroke-linecap=\"round\" stroke-linejoin=\"round\" stroke-miterlimit=\"10.0375\" stroke-width=\"0.426791\"/>\n",
       "</g>\n",
       "<g transform=\"translate(368.575 337.677)scale(.996264)\">\n",
       "<path d=\"M.355659 277.77H626.316\" fill=\"none\" stroke=\"#cccccc\" stroke-dasharray=\"0,0.683192\" stroke-linecap=\"round\" stroke-linejoin=\"round\" stroke-miterlimit=\"10.0375\" stroke-width=\"0.170717\"/>\n",
       "</g>\n",
       "<g transform=\"translate(368.575 337.677)scale(.996264)\">\n",
       "<path d=\"M.355659 270.657H626.316\" fill=\"none\" stroke=\"#cccccc\" stroke-dasharray=\"0,0.683192\" stroke-linecap=\"round\" stroke-linejoin=\"round\" stroke-miterlimit=\"10.0375\" stroke-width=\"0.170717\"/>\n",
       "</g>\n",
       "<g transform=\"translate(368.575 337.677)scale(.996264)\">\n",
       "<path d=\"M.355659 263.544H626.316\" fill=\"none\" stroke=\"#cccccc\" stroke-dasharray=\"0,0.683192\" stroke-linecap=\"round\" stroke-linejoin=\"round\" stroke-miterlimit=\"10.0375\" stroke-width=\"0.170717\"/>\n",
       "</g>\n",
       "<g transform=\"translate(368.575 337.677)scale(.996264)\">\n",
       "<path d=\"M.355659 256.43H626.316\" fill=\"none\" stroke=\"#cccccc\" stroke-dasharray=\"0,0.683192\" stroke-linecap=\"round\" stroke-linejoin=\"round\" stroke-miterlimit=\"10.0375\" stroke-width=\"0.170717\"/>\n",
       "</g>\n",
       "<g transform=\"translate(368.575 337.677)scale(.996264)\">\n",
       "<path d=\"M.355659 256.43H626.316\" fill=\"none\" stroke=\"#cccccc\" stroke-linecap=\"round\" stroke-linejoin=\"round\" stroke-miterlimit=\"10.0375\" stroke-width=\"0.426791\"/>\n",
       "</g>\n",
       "<g transform=\"translate(368.575 337.677)scale(.996264)\">\n",
       "<path d=\"M.355659 249.317H626.316\" fill=\"none\" stroke=\"#cccccc\" stroke-dasharray=\"0,0.683192\" stroke-linecap=\"round\" stroke-linejoin=\"round\" stroke-miterlimit=\"10.0375\" stroke-width=\"0.170717\"/>\n",
       "</g>\n",
       "<g transform=\"translate(368.575 337.677)scale(.996264)\">\n",
       "<path d=\"M.355659 242.204H626.316\" fill=\"none\" stroke=\"#cccccc\" stroke-dasharray=\"0,0.683192\" stroke-linecap=\"round\" stroke-linejoin=\"round\" stroke-miterlimit=\"10.0375\" stroke-width=\"0.170717\"/>\n",
       "</g>\n",
       "<g transform=\"translate(368.575 337.677)scale(.996264)\">\n",
       "<path d=\"M.355659 235.091H626.316\" fill=\"none\" stroke=\"#cccccc\" stroke-dasharray=\"0,0.683192\" stroke-linecap=\"round\" stroke-linejoin=\"round\" stroke-miterlimit=\"10.0375\" stroke-width=\"0.170717\"/>\n",
       "</g>\n",
       "<g transform=\"translate(368.575 337.677)scale(.996264)\">\n",
       "<path d=\"M.355659 227.978H626.316\" fill=\"none\" stroke=\"#cccccc\" stroke-dasharray=\"0,0.683192\" stroke-linecap=\"round\" stroke-linejoin=\"round\" stroke-miterlimit=\"10.0375\" stroke-width=\"0.170717\"/>\n",
       "</g>\n",
       "<g transform=\"translate(368.575 337.677)scale(.996264)\">\n",
       "<path d=\"M.355659 227.978H626.316\" fill=\"none\" stroke=\"#cccccc\" stroke-linecap=\"round\" stroke-linejoin=\"round\" stroke-miterlimit=\"10.0375\" stroke-width=\"0.426791\"/>\n",
       "</g>\n",
       "<g transform=\"translate(368.575 337.677)scale(.996264)\">\n",
       "<path d=\"M.355659 220.865H626.316\" fill=\"none\" stroke=\"#cccccc\" stroke-dasharray=\"0,0.683192\" stroke-linecap=\"round\" stroke-linejoin=\"round\" stroke-miterlimit=\"10.0375\" stroke-width=\"0.170717\"/>\n",
       "</g>\n",
       "<g transform=\"translate(368.575 337.677)scale(.996264)\">\n",
       "<path d=\"M.355659 213.751H626.316\" fill=\"none\" stroke=\"#cccccc\" stroke-dasharray=\"0,0.683192\" stroke-linecap=\"round\" stroke-linejoin=\"round\" stroke-miterlimit=\"10.0375\" stroke-width=\"0.170717\"/>\n",
       "</g>\n",
       "<g transform=\"translate(368.575 337.677)scale(.996264)\">\n",
       "<path d=\"M.355659 206.638H626.316\" fill=\"none\" stroke=\"#cccccc\" stroke-dasharray=\"0,0.683192\" stroke-linecap=\"round\" stroke-linejoin=\"round\" stroke-miterlimit=\"10.0375\" stroke-width=\"0.170717\"/>\n",
       "</g>\n",
       "<g transform=\"translate(368.575 337.677)scale(.996264)\">\n",
       "<path d=\"M.355659 199.525H626.316\" fill=\"none\" stroke=\"#cccccc\" stroke-dasharray=\"0,0.683192\" stroke-linecap=\"round\" stroke-linejoin=\"round\" stroke-miterlimit=\"10.0375\" stroke-width=\"0.170717\"/>\n",
       "</g>\n",
       "<g transform=\"translate(368.575 337.677)scale(.996264)\">\n",
       "<path d=\"M.355659 199.525H626.316\" fill=\"none\" stroke=\"#cccccc\" stroke-linecap=\"round\" stroke-linejoin=\"round\" stroke-miterlimit=\"10.0375\" stroke-width=\"0.426791\"/>\n",
       "</g>\n",
       "<g transform=\"translate(368.575 337.677)scale(.996264)\">\n",
       "<path d=\"M.355659 192.412H626.316\" fill=\"none\" stroke=\"#cccccc\" stroke-dasharray=\"0,0.683192\" stroke-linecap=\"round\" stroke-linejoin=\"round\" stroke-miterlimit=\"10.0375\" stroke-width=\"0.170717\"/>\n",
       "</g>\n",
       "<g transform=\"translate(368.575 337.677)scale(.996264)\">\n",
       "<path d=\"M.355659 185.299H626.316\" fill=\"none\" stroke=\"#cccccc\" stroke-dasharray=\"0,0.683192\" stroke-linecap=\"round\" stroke-linejoin=\"round\" stroke-miterlimit=\"10.0375\" stroke-width=\"0.170717\"/>\n",
       "</g>\n",
       "<g transform=\"translate(368.575 337.677)scale(.996264)\">\n",
       "<path d=\"M.355659 178.185H626.316\" fill=\"none\" stroke=\"#cccccc\" stroke-dasharray=\"0,0.683192\" stroke-linecap=\"round\" stroke-linejoin=\"round\" stroke-miterlimit=\"10.0375\" stroke-width=\"0.170717\"/>\n",
       "</g>\n",
       "<g transform=\"translate(368.575 337.677)scale(.996264)\">\n",
       "<path d=\"M.355659 171.072H626.316\" fill=\"none\" stroke=\"#cccccc\" stroke-dasharray=\"0,0.683192\" stroke-linecap=\"round\" stroke-linejoin=\"round\" stroke-miterlimit=\"10.0375\" stroke-width=\"0.170717\"/>\n",
       "</g>\n",
       "<g transform=\"translate(368.575 337.677)scale(.996264)\">\n",
       "<path d=\"M.355659 171.072H626.316\" fill=\"none\" stroke=\"#cccccc\" stroke-linecap=\"round\" stroke-linejoin=\"round\" stroke-miterlimit=\"10.0375\" stroke-width=\"0.426791\"/>\n",
       "</g>\n",
       "<g transform=\"translate(368.575 337.677)scale(.996264)\">\n",
       "<path d=\"M.355659 163.959H626.316\" fill=\"none\" stroke=\"#cccccc\" stroke-dasharray=\"0,0.683192\" stroke-linecap=\"round\" stroke-linejoin=\"round\" stroke-miterlimit=\"10.0375\" stroke-width=\"0.170717\"/>\n",
       "</g>\n",
       "<g transform=\"translate(368.575 337.677)scale(.996264)\">\n",
       "<path d=\"M.355659 156.846H626.316\" fill=\"none\" stroke=\"#cccccc\" stroke-dasharray=\"0,0.683192\" stroke-linecap=\"round\" stroke-linejoin=\"round\" stroke-miterlimit=\"10.0375\" stroke-width=\"0.170717\"/>\n",
       "</g>\n",
       "<g transform=\"translate(368.575 337.677)scale(.996264)\">\n",
       "<path d=\"M.355659 149.733H626.316\" fill=\"none\" stroke=\"#cccccc\" stroke-dasharray=\"0,0.683192\" stroke-linecap=\"round\" stroke-linejoin=\"round\" stroke-miterlimit=\"10.0375\" stroke-width=\"0.170717\"/>\n",
       "</g>\n",
       "<g transform=\"translate(368.575 337.677)scale(.996264)\">\n",
       "<path d=\"M.355659 142.619H626.316\" fill=\"none\" stroke=\"#cccccc\" stroke-dasharray=\"0,0.683192\" stroke-linecap=\"round\" stroke-linejoin=\"round\" stroke-miterlimit=\"10.0375\" stroke-width=\"0.170717\"/>\n",
       "</g>\n",
       "<g transform=\"translate(368.575 337.677)scale(.996264)\">\n",
       "<path d=\"M.355659 142.619H626.316\" fill=\"none\" stroke=\"#cccccc\" stroke-linecap=\"round\" stroke-linejoin=\"round\" stroke-miterlimit=\"10.0375\" stroke-width=\"0.426791\"/>\n",
       "</g>\n",
       "<g transform=\"translate(368.575 337.677)scale(.996264)\">\n",
       "<path d=\"M.355659 135.506H626.316\" fill=\"none\" stroke=\"#cccccc\" stroke-dasharray=\"0,0.683192\" stroke-linecap=\"round\" stroke-linejoin=\"round\" stroke-miterlimit=\"10.0375\" stroke-width=\"0.170717\"/>\n",
       "</g>\n",
       "<g transform=\"translate(368.575 337.677)scale(.996264)\">\n",
       "<path d=\"M.355659 128.393H626.316\" fill=\"none\" stroke=\"#cccccc\" stroke-dasharray=\"0,0.683192\" stroke-linecap=\"round\" stroke-linejoin=\"round\" stroke-miterlimit=\"10.0375\" stroke-width=\"0.170717\"/>\n",
       "</g>\n",
       "<g transform=\"translate(368.575 337.677)scale(.996264)\">\n",
       "<path d=\"M.355659 121.28H626.316\" fill=\"none\" stroke=\"#cccccc\" stroke-dasharray=\"0,0.683192\" stroke-linecap=\"round\" stroke-linejoin=\"round\" stroke-miterlimit=\"10.0375\" stroke-width=\"0.170717\"/>\n",
       "</g>\n",
       "<g transform=\"translate(368.575 337.677)scale(.996264)\">\n",
       "<path d=\"M.355659 114.167H626.316\" fill=\"none\" stroke=\"#cccccc\" stroke-dasharray=\"0,0.683192\" stroke-linecap=\"round\" stroke-linejoin=\"round\" stroke-miterlimit=\"10.0375\" stroke-width=\"0.170717\"/>\n",
       "</g>\n",
       "<g transform=\"translate(368.575 337.677)scale(.996264)\">\n",
       "<path d=\"M.355659 114.167H626.316\" fill=\"none\" stroke=\"#cccccc\" stroke-linecap=\"round\" stroke-linejoin=\"round\" stroke-miterlimit=\"10.0375\" stroke-width=\"0.426791\"/>\n",
       "</g>\n",
       "<g transform=\"translate(368.575 337.677)scale(.996264)\">\n",
       "<path d=\"M.355659 107.053H626.316\" fill=\"none\" stroke=\"#cccccc\" stroke-dasharray=\"0,0.683192\" stroke-linecap=\"round\" stroke-linejoin=\"round\" stroke-miterlimit=\"10.0375\" stroke-width=\"0.170717\"/>\n",
       "</g>\n",
       "<g transform=\"translate(368.575 337.677)scale(.996264)\">\n",
       "<path d=\"M.355659 99.9403H626.316\" fill=\"none\" stroke=\"#cccccc\" stroke-dasharray=\"0,0.683192\" stroke-linecap=\"round\" stroke-linejoin=\"round\" stroke-miterlimit=\"10.0375\" stroke-width=\"0.170717\"/>\n",
       "</g>\n",
       "<g transform=\"translate(368.575 337.677)scale(.996264)\">\n",
       "<path d=\"M.355659 92.8271H626.316\" fill=\"none\" stroke=\"#cccccc\" stroke-dasharray=\"0,0.683192\" stroke-linecap=\"round\" stroke-linejoin=\"round\" stroke-miterlimit=\"10.0375\" stroke-width=\"0.170717\"/>\n",
       "</g>\n",
       "<g transform=\"translate(368.575 337.677)scale(.996264)\">\n",
       "<path d=\"M.355659 85.7139H626.316\" fill=\"none\" stroke=\"#cccccc\" stroke-dasharray=\"0,0.683192\" stroke-linecap=\"round\" stroke-linejoin=\"round\" stroke-miterlimit=\"10.0375\" stroke-width=\"0.170717\"/>\n",
       "</g>\n",
       "<g transform=\"translate(368.575 337.677)scale(.996264)\">\n",
       "<path d=\"M.355659 85.7139H626.316\" fill=\"none\" stroke=\"#cccccc\" stroke-linecap=\"round\" stroke-linejoin=\"round\" stroke-miterlimit=\"10.0375\" stroke-width=\"0.426791\"/>\n",
       "</g>\n",
       "<g transform=\"translate(368.575 337.677)scale(.996264)\">\n",
       "<path d=\"M.355659 78.6007H626.316\" fill=\"none\" stroke=\"#cccccc\" stroke-dasharray=\"0,0.683192\" stroke-linecap=\"round\" stroke-linejoin=\"round\" stroke-miterlimit=\"10.0375\" stroke-width=\"0.170717\"/>\n",
       "</g>\n",
       "<g transform=\"translate(368.575 337.677)scale(.996264)\">\n",
       "<path d=\"M.355659 71.4875H626.316\" fill=\"none\" stroke=\"#cccccc\" stroke-dasharray=\"0,0.683192\" stroke-linecap=\"round\" stroke-linejoin=\"round\" stroke-miterlimit=\"10.0375\" stroke-width=\"0.170717\"/>\n",
       "</g>\n",
       "<g transform=\"translate(368.575 337.677)scale(.996264)\">\n",
       "<path d=\"M.355659 64.3744H626.316\" fill=\"none\" stroke=\"#cccccc\" stroke-dasharray=\"0,0.683192\" stroke-linecap=\"round\" stroke-linejoin=\"round\" stroke-miterlimit=\"10.0375\" stroke-width=\"0.170717\"/>\n",
       "</g>\n",
       "<g transform=\"translate(368.575 337.677)scale(.996264)\">\n",
       "<path d=\"M.355659 57.2612H626.316\" fill=\"none\" stroke=\"#cccccc\" stroke-dasharray=\"0,0.683192\" stroke-linecap=\"round\" stroke-linejoin=\"round\" stroke-miterlimit=\"10.0375\" stroke-width=\"0.170717\"/>\n",
       "</g>\n",
       "<g transform=\"translate(368.575 337.677)scale(.996264)\">\n",
       "<path d=\"M.355659 57.2612H626.316\" fill=\"none\" stroke=\"#cccccc\" stroke-linecap=\"round\" stroke-linejoin=\"round\" stroke-miterlimit=\"10.0375\" stroke-width=\"0.426791\"/>\n",
       "</g>\n",
       "<g transform=\"translate(368.575 337.677)scale(.996264)\">\n",
       "<path d=\"M.355659 50.148H626.316\" fill=\"none\" stroke=\"#cccccc\" stroke-dasharray=\"0,0.683192\" stroke-linecap=\"round\" stroke-linejoin=\"round\" stroke-miterlimit=\"10.0375\" stroke-width=\"0.170717\"/>\n",
       "</g>\n",
       "<g transform=\"translate(368.575 337.677)scale(.996264)\">\n",
       "<path d=\"M.355659 43.0348H626.316\" fill=\"none\" stroke=\"#cccccc\" stroke-dasharray=\"0,0.683192\" stroke-linecap=\"round\" stroke-linejoin=\"round\" stroke-miterlimit=\"10.0375\" stroke-width=\"0.170717\"/>\n",
       "</g>\n",
       "<g transform=\"translate(368.575 337.677)scale(.996264)\">\n",
       "<path d=\"M.355659 35.9216H626.316\" fill=\"none\" stroke=\"#cccccc\" stroke-dasharray=\"0,0.683192\" stroke-linecap=\"round\" stroke-linejoin=\"round\" stroke-miterlimit=\"10.0375\" stroke-width=\"0.170717\"/>\n",
       "</g>\n",
       "<g transform=\"translate(368.575 337.677)scale(.996264)\">\n",
       "<path d=\"M.355659 28.8084H626.316\" fill=\"none\" stroke=\"#cccccc\" stroke-dasharray=\"0,0.683192\" stroke-linecap=\"round\" stroke-linejoin=\"round\" stroke-miterlimit=\"10.0375\" stroke-width=\"0.170717\"/>\n",
       "</g>\n",
       "<g transform=\"translate(368.575 337.677)scale(.996264)\">\n",
       "<path d=\"M.355659 28.8084H626.316\" fill=\"none\" stroke=\"#cccccc\" stroke-linecap=\"round\" stroke-linejoin=\"round\" stroke-miterlimit=\"10.0375\" stroke-width=\"0.426791\"/>\n",
       "</g>\n",
       "<g transform=\"translate(368.575 337.677)scale(.996264)\">\n",
       "<path d=\"M.355659 21.6952H626.316\" fill=\"none\" stroke=\"#cccccc\" stroke-dasharray=\"0,0.683192\" stroke-linecap=\"round\" stroke-linejoin=\"round\" stroke-miterlimit=\"10.0375\" stroke-width=\"0.170717\"/>\n",
       "</g>\n",
       "<g transform=\"translate(368.575 337.677)scale(.996264)\">\n",
       "<path d=\"M.355659 14.582H626.316\" fill=\"none\" stroke=\"#cccccc\" stroke-dasharray=\"0,0.683192\" stroke-linecap=\"round\" stroke-linejoin=\"round\" stroke-miterlimit=\"10.0375\" stroke-width=\"0.170717\"/>\n",
       "</g>\n",
       "<g transform=\"translate(368.575 337.677)scale(.996264)\">\n",
       "<path d=\"M.355659 7.46885H626.316\" fill=\"none\" stroke=\"#cccccc\" stroke-dasharray=\"0,0.683192\" stroke-linecap=\"round\" stroke-linejoin=\"round\" stroke-miterlimit=\"10.0375\" stroke-width=\"0.170717\"/>\n",
       "</g>\n",
       "<g transform=\"translate(368.575 337.677)scale(.996264)\">\n",
       "<path d=\"M.355659 .355659H626.316\" fill=\"none\" stroke=\"#cccccc\" stroke-dasharray=\"0,0.683192\" stroke-linecap=\"round\" stroke-linejoin=\"round\" stroke-miterlimit=\"10.0375\" stroke-width=\"0.170717\"/>\n",
       "</g>\n",
       "<g transform=\"translate(368.575 337.677)scale(.996264)\">\n",
       "<path d=\"M.355659 .355659H626.316\" fill=\"none\" stroke=\"#cccccc\" stroke-linecap=\"round\" stroke-linejoin=\"round\" stroke-miterlimit=\"10.0375\" stroke-width=\"0.426791\"/>\n",
       "</g>\n",
       "<g transform=\"translate(368.575 337.677)scale(.996264)\">\n",
       "<path d=\"M.355659 284.883H626.316\" fill=\"none\" stroke=\"#000000\" stroke-linecap=\"round\" stroke-linejoin=\"round\" stroke-miterlimit=\"10.0375\" stroke-width=\"0.711319\"/>\n",
       "</g>\n",
       "<g transform=\"translate(368.575 337.677)scale(.996264)\">\n",
       "<path d=\"M313.336 569.411V.355659\" fill=\"none\" stroke=\"#000000\" stroke-linecap=\"round\" stroke-linejoin=\"round\" stroke-miterlimit=\"10.0375\" stroke-width=\"0.711319\"/>\n",
       "</g>\n",
       "<g transform=\"translate(368.575 337.677)scale(.996264)\">\n",
       "<path d=\"M28.8084 284.883V289.151\" fill=\"none\" stroke=\"#000000\" stroke-linecap=\"round\" stroke-linejoin=\"round\" stroke-miterlimit=\"10.0375\" stroke-width=\"0.711319\"/>\n",
       "</g>\n",
       "<use x=\"386.777186\" y=\"637.094234\" xlink:href=\"#g0-0\"/>\n",
       "<use x=\"396.075683\" y=\"637.094234\" xlink:href=\"#g3-49\"/>\n",
       "<use x=\"401.928673\" y=\"637.094234\" xlink:href=\"#g3-48\"/>\n",
       "<g transform=\"translate(368.575 337.677)scale(.996264)\">\n",
       "<path d=\"M35.9216 284.883V287.017\" fill=\"none\" stroke=\"#000000\" stroke-linecap=\"round\" stroke-linejoin=\"round\" stroke-miterlimit=\"10.0375\" stroke-width=\"0.426791\"/>\n",
       "</g>\n",
       "<g transform=\"translate(368.575 337.677)scale(.996264)\">\n",
       "<path d=\"M43.0348 284.883V287.017\" fill=\"none\" stroke=\"#000000\" stroke-linecap=\"round\" stroke-linejoin=\"round\" stroke-miterlimit=\"10.0375\" stroke-width=\"0.426791\"/>\n",
       "</g>\n",
       "<g transform=\"translate(368.575 337.677)scale(.996264)\">\n",
       "<path d=\"M50.148 284.883V287.017\" fill=\"none\" stroke=\"#000000\" stroke-linecap=\"round\" stroke-linejoin=\"round\" stroke-miterlimit=\"10.0375\" stroke-width=\"0.426791\"/>\n",
       "</g>\n",
       "<g transform=\"translate(368.575 337.677)scale(.996264)\">\n",
       "<path d=\"M57.2612 284.883V289.151\" fill=\"none\" stroke=\"#000000\" stroke-linecap=\"round\" stroke-linejoin=\"round\" stroke-miterlimit=\"10.0375\" stroke-width=\"0.711319\"/>\n",
       "</g>\n",
       "<use x=\"418.05014\" y=\"637.094234\" xlink:href=\"#g0-0\"/>\n",
       "<use x=\"427.348637\" y=\"637.094234\" xlink:href=\"#g3-57\"/>\n",
       "<g transform=\"translate(368.575 337.677)scale(.996264)\">\n",
       "<path d=\"M64.3744 284.883V287.017\" fill=\"none\" stroke=\"#000000\" stroke-linecap=\"round\" stroke-linejoin=\"round\" stroke-miterlimit=\"10.0375\" stroke-width=\"0.426791\"/>\n",
       "</g>\n",
       "<g transform=\"translate(368.575 337.677)scale(.996264)\">\n",
       "<path d=\"M71.4875 284.883V287.017\" fill=\"none\" stroke=\"#000000\" stroke-linecap=\"round\" stroke-linejoin=\"round\" stroke-miterlimit=\"10.0375\" stroke-width=\"0.426791\"/>\n",
       "</g>\n",
       "<g transform=\"translate(368.575 337.677)scale(.996264)\">\n",
       "<path d=\"M78.6007 284.883V287.017\" fill=\"none\" stroke=\"#000000\" stroke-linecap=\"round\" stroke-linejoin=\"round\" stroke-miterlimit=\"10.0375\" stroke-width=\"0.426791\"/>\n",
       "</g>\n",
       "<g transform=\"translate(368.575 337.677)scale(.996264)\">\n",
       "<path d=\"M85.7139 284.883V289.151\" fill=\"none\" stroke=\"#000000\" stroke-linecap=\"round\" stroke-linejoin=\"round\" stroke-miterlimit=\"10.0375\" stroke-width=\"0.711319\"/>\n",
       "</g>\n",
       "<use x=\"446.396585\" y=\"637.094234\" xlink:href=\"#g0-0\"/>\n",
       "<use x=\"455.695082\" y=\"637.094234\" xlink:href=\"#g3-56\"/>\n",
       "<g transform=\"translate(368.575 337.677)scale(.996264)\">\n",
       "<path d=\"M92.8271 284.883V287.017\" fill=\"none\" stroke=\"#000000\" stroke-linecap=\"round\" stroke-linejoin=\"round\" stroke-miterlimit=\"10.0375\" stroke-width=\"0.426791\"/>\n",
       "</g>\n",
       "<g transform=\"translate(368.575 337.677)scale(.996264)\">\n",
       "<path d=\"M99.9403 284.883V287.017\" fill=\"none\" stroke=\"#000000\" stroke-linecap=\"round\" stroke-linejoin=\"round\" stroke-miterlimit=\"10.0375\" stroke-width=\"0.426791\"/>\n",
       "</g>\n",
       "<g transform=\"translate(368.575 337.677)scale(.996264)\">\n",
       "<path d=\"M107.053 284.883V287.017\" fill=\"none\" stroke=\"#000000\" stroke-linecap=\"round\" stroke-linejoin=\"round\" stroke-miterlimit=\"10.0375\" stroke-width=\"0.426791\"/>\n",
       "</g>\n",
       "<g transform=\"translate(368.575 337.677)scale(.996264)\">\n",
       "<path d=\"M114.167 284.883V289.151\" fill=\"none\" stroke=\"#000000\" stroke-linecap=\"round\" stroke-linejoin=\"round\" stroke-miterlimit=\"10.0375\" stroke-width=\"0.711319\"/>\n",
       "</g>\n",
       "<use x=\"474.743044\" y=\"637.094234\" xlink:href=\"#g0-0\"/>\n",
       "<use x=\"484.041541\" y=\"637.094234\" xlink:href=\"#g3-55\"/>\n",
       "<g transform=\"translate(368.575 337.677)scale(.996264)\">\n",
       "<path d=\"M121.28 284.883V287.017\" fill=\"none\" stroke=\"#000000\" stroke-linecap=\"round\" stroke-linejoin=\"round\" stroke-miterlimit=\"10.0375\" stroke-width=\"0.426791\"/>\n",
       "</g>\n",
       "<g transform=\"translate(368.575 337.677)scale(.996264)\">\n",
       "<path d=\"M128.393 284.883V287.017\" fill=\"none\" stroke=\"#000000\" stroke-linecap=\"round\" stroke-linejoin=\"round\" stroke-miterlimit=\"10.0375\" stroke-width=\"0.426791\"/>\n",
       "</g>\n",
       "<g transform=\"translate(368.575 337.677)scale(.996264)\">\n",
       "<path d=\"M135.506 284.883V287.017\" fill=\"none\" stroke=\"#000000\" stroke-linecap=\"round\" stroke-linejoin=\"round\" stroke-miterlimit=\"10.0375\" stroke-width=\"0.426791\"/>\n",
       "</g>\n",
       "<g transform=\"translate(368.575 337.677)scale(.996264)\">\n",
       "<path d=\"M142.619 284.883V289.151\" fill=\"none\" stroke=\"#000000\" stroke-linecap=\"round\" stroke-linejoin=\"round\" stroke-miterlimit=\"10.0375\" stroke-width=\"0.711319\"/>\n",
       "</g>\n",
       "<use x=\"503.089504\" y=\"637.094234\" xlink:href=\"#g0-0\"/>\n",
       "<use x=\"512.388001\" y=\"637.094234\" xlink:href=\"#g3-54\"/>\n",
       "<g transform=\"translate(368.575 337.677)scale(.996264)\">\n",
       "<path d=\"M149.733 284.883V287.017\" fill=\"none\" stroke=\"#000000\" stroke-linecap=\"round\" stroke-linejoin=\"round\" stroke-miterlimit=\"10.0375\" stroke-width=\"0.426791\"/>\n",
       "</g>\n",
       "<g transform=\"translate(368.575 337.677)scale(.996264)\">\n",
       "<path d=\"M156.846 284.883V287.017\" fill=\"none\" stroke=\"#000000\" stroke-linecap=\"round\" stroke-linejoin=\"round\" stroke-miterlimit=\"10.0375\" stroke-width=\"0.426791\"/>\n",
       "</g>\n",
       "<g transform=\"translate(368.575 337.677)scale(.996264)\">\n",
       "<path d=\"M163.959 284.883V287.017\" fill=\"none\" stroke=\"#000000\" stroke-linecap=\"round\" stroke-linejoin=\"round\" stroke-miterlimit=\"10.0375\" stroke-width=\"0.426791\"/>\n",
       "</g>\n",
       "<g transform=\"translate(368.575 337.677)scale(.996264)\">\n",
       "<path d=\"M171.072 284.883V289.151\" fill=\"none\" stroke=\"#000000\" stroke-linecap=\"round\" stroke-linejoin=\"round\" stroke-miterlimit=\"10.0375\" stroke-width=\"0.711319\"/>\n",
       "</g>\n",
       "<use x=\"531.435963\" y=\"637.094234\" xlink:href=\"#g0-0\"/>\n",
       "<use x=\"540.73446\" y=\"637.094234\" xlink:href=\"#g3-53\"/>\n",
       "<g transform=\"translate(368.575 337.677)scale(.996264)\">\n",
       "<path d=\"M178.185 284.883V287.017\" fill=\"none\" stroke=\"#000000\" stroke-linecap=\"round\" stroke-linejoin=\"round\" stroke-miterlimit=\"10.0375\" stroke-width=\"0.426791\"/>\n",
       "</g>\n",
       "<g transform=\"translate(368.575 337.677)scale(.996264)\">\n",
       "<path d=\"M185.299 284.883V287.017\" fill=\"none\" stroke=\"#000000\" stroke-linecap=\"round\" stroke-linejoin=\"round\" stroke-miterlimit=\"10.0375\" stroke-width=\"0.426791\"/>\n",
       "</g>\n",
       "<g transform=\"translate(368.575 337.677)scale(.996264)\">\n",
       "<path d=\"M192.412 284.883V287.017\" fill=\"none\" stroke=\"#000000\" stroke-linecap=\"round\" stroke-linejoin=\"round\" stroke-miterlimit=\"10.0375\" stroke-width=\"0.426791\"/>\n",
       "</g>\n",
       "<g transform=\"translate(368.575 337.677)scale(.996264)\">\n",
       "<path d=\"M199.525 284.883V289.151\" fill=\"none\" stroke=\"#000000\" stroke-linecap=\"round\" stroke-linejoin=\"round\" stroke-miterlimit=\"10.0375\" stroke-width=\"0.711319\"/>\n",
       "</g>\n",
       "<use x=\"559.782423\" y=\"637.094234\" xlink:href=\"#g0-0\"/>\n",
       "<use x=\"569.08092\" y=\"637.094234\" xlink:href=\"#g3-52\"/>\n",
       "<g transform=\"translate(368.575 337.677)scale(.996264)\">\n",
       "<path d=\"M206.638 284.883V287.017\" fill=\"none\" stroke=\"#000000\" stroke-linecap=\"round\" stroke-linejoin=\"round\" stroke-miterlimit=\"10.0375\" stroke-width=\"0.426791\"/>\n",
       "</g>\n",
       "<g transform=\"translate(368.575 337.677)scale(.996264)\">\n",
       "<path d=\"M213.751 284.883V287.017\" fill=\"none\" stroke=\"#000000\" stroke-linecap=\"round\" stroke-linejoin=\"round\" stroke-miterlimit=\"10.0375\" stroke-width=\"0.426791\"/>\n",
       "</g>\n",
       "<g transform=\"translate(368.575 337.677)scale(.996264)\">\n",
       "<path d=\"M220.865 284.883V287.017\" fill=\"none\" stroke=\"#000000\" stroke-linecap=\"round\" stroke-linejoin=\"round\" stroke-miterlimit=\"10.0375\" stroke-width=\"0.426791\"/>\n",
       "</g>\n",
       "<g transform=\"translate(368.575 337.677)scale(.996264)\">\n",
       "<path d=\"M227.978 284.883V289.151\" fill=\"none\" stroke=\"#000000\" stroke-linecap=\"round\" stroke-linejoin=\"round\" stroke-miterlimit=\"10.0375\" stroke-width=\"0.711319\"/>\n",
       "</g>\n",
       "<use x=\"588.128867\" y=\"637.094234\" xlink:href=\"#g0-0\"/>\n",
       "<use x=\"597.427364\" y=\"637.094234\" xlink:href=\"#g3-51\"/>\n",
       "<g transform=\"translate(368.575 337.677)scale(.996264)\">\n",
       "<path d=\"M235.091 284.883V287.017\" fill=\"none\" stroke=\"#000000\" stroke-linecap=\"round\" stroke-linejoin=\"round\" stroke-miterlimit=\"10.0375\" stroke-width=\"0.426791\"/>\n",
       "</g>\n",
       "<g transform=\"translate(368.575 337.677)scale(.996264)\">\n",
       "<path d=\"M242.204 284.883V287.017\" fill=\"none\" stroke=\"#000000\" stroke-linecap=\"round\" stroke-linejoin=\"round\" stroke-miterlimit=\"10.0375\" stroke-width=\"0.426791\"/>\n",
       "</g>\n",
       "<g transform=\"translate(368.575 337.677)scale(.996264)\">\n",
       "<path d=\"M249.317 284.883V287.017\" fill=\"none\" stroke=\"#000000\" stroke-linecap=\"round\" stroke-linejoin=\"round\" stroke-miterlimit=\"10.0375\" stroke-width=\"0.426791\"/>\n",
       "</g>\n",
       "<g transform=\"translate(368.575 337.677)scale(.996264)\">\n",
       "<path d=\"M256.43 284.883V289.151\" fill=\"none\" stroke=\"#000000\" stroke-linecap=\"round\" stroke-linejoin=\"round\" stroke-miterlimit=\"10.0375\" stroke-width=\"0.711319\"/>\n",
       "</g>\n",
       "<use x=\"616.475327\" y=\"637.094234\" xlink:href=\"#g0-0\"/>\n",
       "<use x=\"625.773824\" y=\"637.094234\" xlink:href=\"#g3-50\"/>\n",
       "<g transform=\"translate(368.575 337.677)scale(.996264)\">\n",
       "<path d=\"M263.544 284.883V287.017\" fill=\"none\" stroke=\"#000000\" stroke-linecap=\"round\" stroke-linejoin=\"round\" stroke-miterlimit=\"10.0375\" stroke-width=\"0.426791\"/>\n",
       "</g>\n",
       "<g transform=\"translate(368.575 337.677)scale(.996264)\">\n",
       "<path d=\"M270.657 284.883V287.017\" fill=\"none\" stroke=\"#000000\" stroke-linecap=\"round\" stroke-linejoin=\"round\" stroke-miterlimit=\"10.0375\" stroke-width=\"0.426791\"/>\n",
       "</g>\n",
       "<g transform=\"translate(368.575 337.677)scale(.996264)\">\n",
       "<path d=\"M277.77 284.883V287.017\" fill=\"none\" stroke=\"#000000\" stroke-linecap=\"round\" stroke-linejoin=\"round\" stroke-miterlimit=\"10.0375\" stroke-width=\"0.426791\"/>\n",
       "</g>\n",
       "<g transform=\"translate(368.575 337.677)scale(.996264)\">\n",
       "<path d=\"M284.883 284.883V289.151\" fill=\"none\" stroke=\"#000000\" stroke-linecap=\"round\" stroke-linejoin=\"round\" stroke-miterlimit=\"10.0375\" stroke-width=\"0.711319\"/>\n",
       "</g>\n",
       "<use x=\"644.821786\" y=\"637.094234\" xlink:href=\"#g0-0\"/>\n",
       "<use x=\"654.120283\" y=\"637.094234\" xlink:href=\"#g3-49\"/>\n",
       "<g transform=\"translate(368.575 337.677)scale(.996264)\">\n",
       "<path d=\"M291.996 284.883V287.017\" fill=\"none\" stroke=\"#000000\" stroke-linecap=\"round\" stroke-linejoin=\"round\" stroke-miterlimit=\"10.0375\" stroke-width=\"0.426791\"/>\n",
       "</g>\n",
       "<g transform=\"translate(368.575 337.677)scale(.996264)\">\n",
       "<path d=\"M299.11 284.883V287.017\" fill=\"none\" stroke=\"#000000\" stroke-linecap=\"round\" stroke-linejoin=\"round\" stroke-miterlimit=\"10.0375\" stroke-width=\"0.426791\"/>\n",
       "</g>\n",
       "<g transform=\"translate(368.575 337.677)scale(.996264)\">\n",
       "<path d=\"M306.223 284.883V287.017\" fill=\"none\" stroke=\"#000000\" stroke-linecap=\"round\" stroke-linejoin=\"round\" stroke-miterlimit=\"10.0375\" stroke-width=\"0.426791\"/>\n",
       "</g>\n",
       "<g transform=\"translate(368.575 337.677)scale(.996264)\">\n",
       "<path d=\"M341.789 284.883V289.151\" fill=\"none\" stroke=\"#000000\" stroke-linecap=\"round\" stroke-linejoin=\"round\" stroke-miterlimit=\"10.0375\" stroke-width=\"0.711319\"/>\n",
       "</g>\n",
       "<use x=\"706.163943\" y=\"637.094219\" xlink:href=\"#g3-49\"/>\n",
       "<g transform=\"translate(368.575 337.677)scale(.996264)\">\n",
       "<path d=\"M334.676 284.883V287.017\" fill=\"none\" stroke=\"#000000\" stroke-linecap=\"round\" stroke-linejoin=\"round\" stroke-miterlimit=\"10.0375\" stroke-width=\"0.426791\"/>\n",
       "</g>\n",
       "<g transform=\"translate(368.575 337.677)scale(.996264)\">\n",
       "<path d=\"M327.562 284.883V287.017\" fill=\"none\" stroke=\"#000000\" stroke-linecap=\"round\" stroke-linejoin=\"round\" stroke-miterlimit=\"10.0375\" stroke-width=\"0.426791\"/>\n",
       "</g>\n",
       "<g transform=\"translate(368.575 337.677)scale(.996264)\">\n",
       "<path d=\"M320.449 284.883V287.017\" fill=\"none\" stroke=\"#000000\" stroke-linecap=\"round\" stroke-linejoin=\"round\" stroke-miterlimit=\"10.0375\" stroke-width=\"0.426791\"/>\n",
       "</g>\n",
       "<g transform=\"translate(368.575 337.677)scale(.996264)\">\n",
       "<path d=\"M370.241 284.883V289.151\" fill=\"none\" stroke=\"#000000\" stroke-linecap=\"round\" stroke-linejoin=\"round\" stroke-miterlimit=\"10.0375\" stroke-width=\"0.711319\"/>\n",
       "</g>\n",
       "<use x=\"734.510387\" y=\"637.094219\" xlink:href=\"#g3-50\"/>\n",
       "<g transform=\"translate(368.575 337.677)scale(.996264)\">\n",
       "<path d=\"M363.128 284.883V287.017\" fill=\"none\" stroke=\"#000000\" stroke-linecap=\"round\" stroke-linejoin=\"round\" stroke-miterlimit=\"10.0375\" stroke-width=\"0.426791\"/>\n",
       "</g>\n",
       "<g transform=\"translate(368.575 337.677)scale(.996264)\">\n",
       "<path d=\"M356.015 284.883V287.017\" fill=\"none\" stroke=\"#000000\" stroke-linecap=\"round\" stroke-linejoin=\"round\" stroke-miterlimit=\"10.0375\" stroke-width=\"0.426791\"/>\n",
       "</g>\n",
       "<g transform=\"translate(368.575 337.677)scale(.996264)\">\n",
       "<path d=\"M348.902 284.883V287.017\" fill=\"none\" stroke=\"#000000\" stroke-linecap=\"round\" stroke-linejoin=\"round\" stroke-miterlimit=\"10.0375\" stroke-width=\"0.426791\"/>\n",
       "</g>\n",
       "<g transform=\"translate(368.575 337.677)scale(.996264)\">\n",
       "<path d=\"M398.694 284.883V289.151\" fill=\"none\" stroke=\"#000000\" stroke-linecap=\"round\" stroke-linejoin=\"round\" stroke-miterlimit=\"10.0375\" stroke-width=\"0.711319\"/>\n",
       "</g>\n",
       "<use x=\"762.856847\" y=\"637.094219\" xlink:href=\"#g3-51\"/>\n",
       "<g transform=\"translate(368.575 337.677)scale(.996264)\">\n",
       "<path d=\"M391.581 284.883V287.017\" fill=\"none\" stroke=\"#000000\" stroke-linecap=\"round\" stroke-linejoin=\"round\" stroke-miterlimit=\"10.0375\" stroke-width=\"0.426791\"/>\n",
       "</g>\n",
       "<g transform=\"translate(368.575 337.677)scale(.996264)\">\n",
       "<path d=\"M384.468 284.883V287.017\" fill=\"none\" stroke=\"#000000\" stroke-linecap=\"round\" stroke-linejoin=\"round\" stroke-miterlimit=\"10.0375\" stroke-width=\"0.426791\"/>\n",
       "</g>\n",
       "<g transform=\"translate(368.575 337.677)scale(.996264)\">\n",
       "<path d=\"M377.355 284.883V287.017\" fill=\"none\" stroke=\"#000000\" stroke-linecap=\"round\" stroke-linejoin=\"round\" stroke-miterlimit=\"10.0375\" stroke-width=\"0.426791\"/>\n",
       "</g>\n",
       "<g transform=\"translate(368.575 337.677)scale(.996264)\">\n",
       "<path d=\"M427.147 284.883V289.151\" fill=\"none\" stroke=\"#000000\" stroke-linecap=\"round\" stroke-linejoin=\"round\" stroke-miterlimit=\"10.0375\" stroke-width=\"0.711319\"/>\n",
       "</g>\n",
       "<use x=\"791.203306\" y=\"637.094219\" xlink:href=\"#g3-52\"/>\n",
       "<g transform=\"translate(368.575 337.677)scale(.996264)\">\n",
       "<path d=\"M420.034 284.883V287.017\" fill=\"none\" stroke=\"#000000\" stroke-linecap=\"round\" stroke-linejoin=\"round\" stroke-miterlimit=\"10.0375\" stroke-width=\"0.426791\"/>\n",
       "</g>\n",
       "<g transform=\"translate(368.575 337.677)scale(.996264)\">\n",
       "<path d=\"M412.921 284.883V287.017\" fill=\"none\" stroke=\"#000000\" stroke-linecap=\"round\" stroke-linejoin=\"round\" stroke-miterlimit=\"10.0375\" stroke-width=\"0.426791\"/>\n",
       "</g>\n",
       "<g transform=\"translate(368.575 337.677)scale(.996264)\">\n",
       "<path d=\"M405.807 284.883V287.017\" fill=\"none\" stroke=\"#000000\" stroke-linecap=\"round\" stroke-linejoin=\"round\" stroke-miterlimit=\"10.0375\" stroke-width=\"0.426791\"/>\n",
       "</g>\n",
       "<g transform=\"translate(368.575 337.677)scale(.996264)\">\n",
       "<path d=\"M455.6 284.883V289.151\" fill=\"none\" stroke=\"#000000\" stroke-linecap=\"round\" stroke-linejoin=\"round\" stroke-miterlimit=\"10.0375\" stroke-width=\"0.711319\"/>\n",
       "</g>\n",
       "<use x=\"819.549766\" y=\"637.094219\" xlink:href=\"#g3-53\"/>\n",
       "<g transform=\"translate(368.575 337.677)scale(.996264)\">\n",
       "<path d=\"M448.487 284.883V287.017\" fill=\"none\" stroke=\"#000000\" stroke-linecap=\"round\" stroke-linejoin=\"round\" stroke-miterlimit=\"10.0375\" stroke-width=\"0.426791\"/>\n",
       "</g>\n",
       "<g transform=\"translate(368.575 337.677)scale(.996264)\">\n",
       "<path d=\"M441.373 284.883V287.017\" fill=\"none\" stroke=\"#000000\" stroke-linecap=\"round\" stroke-linejoin=\"round\" stroke-miterlimit=\"10.0375\" stroke-width=\"0.426791\"/>\n",
       "</g>\n",
       "<g transform=\"translate(368.575 337.677)scale(.996264)\">\n",
       "<path d=\"M434.26 284.883V287.017\" fill=\"none\" stroke=\"#000000\" stroke-linecap=\"round\" stroke-linejoin=\"round\" stroke-miterlimit=\"10.0375\" stroke-width=\"0.426791\"/>\n",
       "</g>\n",
       "<g transform=\"translate(368.575 337.677)scale(.996264)\">\n",
       "<path d=\"M484.053 284.883V289.151\" fill=\"none\" stroke=\"#000000\" stroke-linecap=\"round\" stroke-linejoin=\"round\" stroke-miterlimit=\"10.0375\" stroke-width=\"0.711319\"/>\n",
       "</g>\n",
       "<use x=\"847.896225\" y=\"637.094219\" xlink:href=\"#g3-54\"/>\n",
       "<g transform=\"translate(368.575 337.677)scale(.996264)\">\n",
       "<path d=\"M476.939 284.883V287.017\" fill=\"none\" stroke=\"#000000\" stroke-linecap=\"round\" stroke-linejoin=\"round\" stroke-miterlimit=\"10.0375\" stroke-width=\"0.426791\"/>\n",
       "</g>\n",
       "<g transform=\"translate(368.575 337.677)scale(.996264)\">\n",
       "<path d=\"M469.826 284.883V287.017\" fill=\"none\" stroke=\"#000000\" stroke-linecap=\"round\" stroke-linejoin=\"round\" stroke-miterlimit=\"10.0375\" stroke-width=\"0.426791\"/>\n",
       "</g>\n",
       "<g transform=\"translate(368.575 337.677)scale(.996264)\">\n",
       "<path d=\"M462.713 284.883V287.017\" fill=\"none\" stroke=\"#000000\" stroke-linecap=\"round\" stroke-linejoin=\"round\" stroke-miterlimit=\"10.0375\" stroke-width=\"0.426791\"/>\n",
       "</g>\n",
       "<g transform=\"translate(368.575 337.677)scale(.996264)\">\n",
       "<path d=\"M512.505 284.883V289.151\" fill=\"none\" stroke=\"#000000\" stroke-linecap=\"round\" stroke-linejoin=\"round\" stroke-miterlimit=\"10.0375\" stroke-width=\"0.711319\"/>\n",
       "</g>\n",
       "<use x=\"876.242685\" y=\"637.094219\" xlink:href=\"#g3-55\"/>\n",
       "<g transform=\"translate(368.575 337.677)scale(.996264)\">\n",
       "<path d=\"M505.392 284.883V287.017\" fill=\"none\" stroke=\"#000000\" stroke-linecap=\"round\" stroke-linejoin=\"round\" stroke-miterlimit=\"10.0375\" stroke-width=\"0.426791\"/>\n",
       "</g>\n",
       "<g transform=\"translate(368.575 337.677)scale(.996264)\">\n",
       "<path d=\"M498.279 284.883V287.017\" fill=\"none\" stroke=\"#000000\" stroke-linecap=\"round\" stroke-linejoin=\"round\" stroke-miterlimit=\"10.0375\" stroke-width=\"0.426791\"/>\n",
       "</g>\n",
       "<g transform=\"translate(368.575 337.677)scale(.996264)\">\n",
       "<path d=\"M491.166 284.883V287.017\" fill=\"none\" stroke=\"#000000\" stroke-linecap=\"round\" stroke-linejoin=\"round\" stroke-miterlimit=\"10.0375\" stroke-width=\"0.426791\"/>\n",
       "</g>\n",
       "<g transform=\"translate(368.575 337.677)scale(.996264)\">\n",
       "<path d=\"M540.958 284.883V289.151\" fill=\"none\" stroke=\"#000000\" stroke-linecap=\"round\" stroke-linejoin=\"round\" stroke-miterlimit=\"10.0375\" stroke-width=\"0.711319\"/>\n",
       "</g>\n",
       "<use x=\"904.589129\" y=\"637.094219\" xlink:href=\"#g3-56\"/>\n",
       "<g transform=\"translate(368.575 337.677)scale(.996264)\">\n",
       "<path d=\"M533.845 284.883V287.017\" fill=\"none\" stroke=\"#000000\" stroke-linecap=\"round\" stroke-linejoin=\"round\" stroke-miterlimit=\"10.0375\" stroke-width=\"0.426791\"/>\n",
       "</g>\n",
       "<g transform=\"translate(368.575 337.677)scale(.996264)\">\n",
       "<path d=\"M526.732 284.883V287.017\" fill=\"none\" stroke=\"#000000\" stroke-linecap=\"round\" stroke-linejoin=\"round\" stroke-miterlimit=\"10.0375\" stroke-width=\"0.426791\"/>\n",
       "</g>\n",
       "<g transform=\"translate(368.575 337.677)scale(.996264)\">\n",
       "<path d=\"M519.618 284.883V287.017\" fill=\"none\" stroke=\"#000000\" stroke-linecap=\"round\" stroke-linejoin=\"round\" stroke-miterlimit=\"10.0375\" stroke-width=\"0.426791\"/>\n",
       "</g>\n",
       "<g transform=\"translate(368.575 337.677)scale(.996264)\">\n",
       "<path d=\"M569.411 284.883V289.151\" fill=\"none\" stroke=\"#000000\" stroke-linecap=\"round\" stroke-linejoin=\"round\" stroke-miterlimit=\"10.0375\" stroke-width=\"0.711319\"/>\n",
       "</g>\n",
       "<use x=\"932.935589\" y=\"637.094219\" xlink:href=\"#g3-57\"/>\n",
       "<g transform=\"translate(368.575 337.677)scale(.996264)\">\n",
       "<path d=\"M562.298 284.883V287.017\" fill=\"none\" stroke=\"#000000\" stroke-linecap=\"round\" stroke-linejoin=\"round\" stroke-miterlimit=\"10.0375\" stroke-width=\"0.426791\"/>\n",
       "</g>\n",
       "<g transform=\"translate(368.575 337.677)scale(.996264)\">\n",
       "<path d=\"M555.184 284.883V287.017\" fill=\"none\" stroke=\"#000000\" stroke-linecap=\"round\" stroke-linejoin=\"round\" stroke-miterlimit=\"10.0375\" stroke-width=\"0.426791\"/>\n",
       "</g>\n",
       "<g transform=\"translate(368.575 337.677)scale(.996264)\">\n",
       "<path d=\"M548.071 284.883V287.017\" fill=\"none\" stroke=\"#000000\" stroke-linecap=\"round\" stroke-linejoin=\"round\" stroke-miterlimit=\"10.0375\" stroke-width=\"0.426791\"/>\n",
       "</g>\n",
       "<g transform=\"translate(368.575 337.677)scale(.996264)\">\n",
       "<path d=\"M597.864 284.883V289.151\" fill=\"none\" stroke=\"#000000\" stroke-linecap=\"round\" stroke-linejoin=\"round\" stroke-miterlimit=\"10.0375\" stroke-width=\"0.711319\"/>\n",
       "</g>\n",
       "<use x=\"958.355553\" y=\"637.094219\" xlink:href=\"#g3-49\"/>\n",
       "<use x=\"964.208544\" y=\"637.094219\" xlink:href=\"#g3-48\"/>\n",
       "<g transform=\"translate(368.575 337.677)scale(.996264)\">\n",
       "<path d=\"M590.75 284.883V287.017\" fill=\"none\" stroke=\"#000000\" stroke-linecap=\"round\" stroke-linejoin=\"round\" stroke-miterlimit=\"10.0375\" stroke-width=\"0.426791\"/>\n",
       "</g>\n",
       "<g transform=\"translate(368.575 337.677)scale(.996264)\">\n",
       "<path d=\"M583.637 284.883V287.017\" fill=\"none\" stroke=\"#000000\" stroke-linecap=\"round\" stroke-linejoin=\"round\" stroke-miterlimit=\"10.0375\" stroke-width=\"0.426791\"/>\n",
       "</g>\n",
       "<g transform=\"translate(368.575 337.677)scale(.996264)\">\n",
       "<path d=\"M576.524 284.883V287.017\" fill=\"none\" stroke=\"#000000\" stroke-linecap=\"round\" stroke-linejoin=\"round\" stroke-miterlimit=\"10.0375\" stroke-width=\"0.426791\"/>\n",
       "</g>\n",
       "<g transform=\"translate(368.575 337.677)scale(.996264)\">\n",
       "<path d=\"M313.336 540.958H309.068\" fill=\"none\" stroke=\"#000000\" stroke-linecap=\"round\" stroke-linejoin=\"round\" stroke-miterlimit=\"10.0375\" stroke-width=\"0.711319\"/>\n",
       "</g>\n",
       "<use x=\"657.638744\" y=\"879.908245\" xlink:href=\"#g0-0\"/>\n",
       "<use x=\"666.937241\" y=\"879.908245\" xlink:href=\"#g3-57\"/>\n",
       "<g transform=\"translate(368.575 337.677)scale(.996264)\">\n",
       "<path d=\"M313.336 533.845H311.202\" fill=\"none\" stroke=\"#000000\" stroke-linecap=\"round\" stroke-linejoin=\"round\" stroke-miterlimit=\"10.0375\" stroke-width=\"0.426791\"/>\n",
       "</g>\n",
       "<g transform=\"translate(368.575 337.677)scale(.996264)\">\n",
       "<path d=\"M313.336 526.732H311.202\" fill=\"none\" stroke=\"#000000\" stroke-linecap=\"round\" stroke-linejoin=\"round\" stroke-miterlimit=\"10.0375\" stroke-width=\"0.426791\"/>\n",
       "</g>\n",
       "<g transform=\"translate(368.575 337.677)scale(.996264)\">\n",
       "<path d=\"M313.336 519.618H311.202\" fill=\"none\" stroke=\"#000000\" stroke-linecap=\"round\" stroke-linejoin=\"round\" stroke-miterlimit=\"10.0375\" stroke-width=\"0.426791\"/>\n",
       "</g>\n",
       "<g transform=\"translate(368.575 337.677)scale(.996264)\">\n",
       "<path d=\"M313.336 512.505H309.068\" fill=\"none\" stroke=\"#000000\" stroke-linecap=\"round\" stroke-linejoin=\"round\" stroke-miterlimit=\"10.0375\" stroke-width=\"0.711319\"/>\n",
       "</g>\n",
       "<use x=\"657.638744\" y=\"851.561786\" xlink:href=\"#g0-0\"/>\n",
       "<use x=\"666.937241\" y=\"851.561786\" xlink:href=\"#g3-56\"/>\n",
       "<g transform=\"translate(368.575 337.677)scale(.996264)\">\n",
       "<path d=\"M313.336 505.392H311.202\" fill=\"none\" stroke=\"#000000\" stroke-linecap=\"round\" stroke-linejoin=\"round\" stroke-miterlimit=\"10.0375\" stroke-width=\"0.426791\"/>\n",
       "</g>\n",
       "<g transform=\"translate(368.575 337.677)scale(.996264)\">\n",
       "<path d=\"M313.336 498.279H311.202\" fill=\"none\" stroke=\"#000000\" stroke-linecap=\"round\" stroke-linejoin=\"round\" stroke-miterlimit=\"10.0375\" stroke-width=\"0.426791\"/>\n",
       "</g>\n",
       "<g transform=\"translate(368.575 337.677)scale(.996264)\">\n",
       "<path d=\"M313.336 491.166H311.202\" fill=\"none\" stroke=\"#000000\" stroke-linecap=\"round\" stroke-linejoin=\"round\" stroke-miterlimit=\"10.0375\" stroke-width=\"0.426791\"/>\n",
       "</g>\n",
       "<g transform=\"translate(368.575 337.677)scale(.996264)\">\n",
       "<path d=\"M313.336 484.053H309.068\" fill=\"none\" stroke=\"#000000\" stroke-linecap=\"round\" stroke-linejoin=\"round\" stroke-miterlimit=\"10.0375\" stroke-width=\"0.711319\"/>\n",
       "</g>\n",
       "<use x=\"657.638744\" y=\"823.215341\" xlink:href=\"#g0-0\"/>\n",
       "<use x=\"666.937241\" y=\"823.215341\" xlink:href=\"#g3-55\"/>\n",
       "<g transform=\"translate(368.575 337.677)scale(.996264)\">\n",
       "<path d=\"M313.336 476.939H311.202\" fill=\"none\" stroke=\"#000000\" stroke-linecap=\"round\" stroke-linejoin=\"round\" stroke-miterlimit=\"10.0375\" stroke-width=\"0.426791\"/>\n",
       "</g>\n",
       "<g transform=\"translate(368.575 337.677)scale(.996264)\">\n",
       "<path d=\"M313.336 469.826H311.202\" fill=\"none\" stroke=\"#000000\" stroke-linecap=\"round\" stroke-linejoin=\"round\" stroke-miterlimit=\"10.0375\" stroke-width=\"0.426791\"/>\n",
       "</g>\n",
       "<g transform=\"translate(368.575 337.677)scale(.996264)\">\n",
       "<path d=\"M313.336 462.713H311.202\" fill=\"none\" stroke=\"#000000\" stroke-linecap=\"round\" stroke-linejoin=\"round\" stroke-miterlimit=\"10.0375\" stroke-width=\"0.426791\"/>\n",
       "</g>\n",
       "<g transform=\"translate(368.575 337.677)scale(.996264)\">\n",
       "<path d=\"M313.336 455.6H309.068\" fill=\"none\" stroke=\"#000000\" stroke-linecap=\"round\" stroke-linejoin=\"round\" stroke-miterlimit=\"10.0375\" stroke-width=\"0.711319\"/>\n",
       "</g>\n",
       "<use x=\"657.638744\" y=\"794.868882\" xlink:href=\"#g0-0\"/>\n",
       "<use x=\"666.937241\" y=\"794.868882\" xlink:href=\"#g3-54\"/>\n",
       "<g transform=\"translate(368.575 337.677)scale(.996264)\">\n",
       "<path d=\"M313.336 448.487H311.202\" fill=\"none\" stroke=\"#000000\" stroke-linecap=\"round\" stroke-linejoin=\"round\" stroke-miterlimit=\"10.0375\" stroke-width=\"0.426791\"/>\n",
       "</g>\n",
       "<g transform=\"translate(368.575 337.677)scale(.996264)\">\n",
       "<path d=\"M313.336 441.373H311.202\" fill=\"none\" stroke=\"#000000\" stroke-linecap=\"round\" stroke-linejoin=\"round\" stroke-miterlimit=\"10.0375\" stroke-width=\"0.426791\"/>\n",
       "</g>\n",
       "<g transform=\"translate(368.575 337.677)scale(.996264)\">\n",
       "<path d=\"M313.336 434.26H311.202\" fill=\"none\" stroke=\"#000000\" stroke-linecap=\"round\" stroke-linejoin=\"round\" stroke-miterlimit=\"10.0375\" stroke-width=\"0.426791\"/>\n",
       "</g>\n",
       "<g transform=\"translate(368.575 337.677)scale(.996264)\">\n",
       "<path d=\"M313.336 427.147H309.068\" fill=\"none\" stroke=\"#000000\" stroke-linecap=\"round\" stroke-linejoin=\"round\" stroke-miterlimit=\"10.0375\" stroke-width=\"0.711319\"/>\n",
       "</g>\n",
       "<use x=\"657.638744\" y=\"766.522422\" xlink:href=\"#g0-0\"/>\n",
       "<use x=\"666.937241\" y=\"766.522422\" xlink:href=\"#g3-53\"/>\n",
       "<g transform=\"translate(368.575 337.677)scale(.996264)\">\n",
       "<path d=\"M313.336 420.034H311.202\" fill=\"none\" stroke=\"#000000\" stroke-linecap=\"round\" stroke-linejoin=\"round\" stroke-miterlimit=\"10.0375\" stroke-width=\"0.426791\"/>\n",
       "</g>\n",
       "<g transform=\"translate(368.575 337.677)scale(.996264)\">\n",
       "<path d=\"M313.336 412.921H311.202\" fill=\"none\" stroke=\"#000000\" stroke-linecap=\"round\" stroke-linejoin=\"round\" stroke-miterlimit=\"10.0375\" stroke-width=\"0.426791\"/>\n",
       "</g>\n",
       "<g transform=\"translate(368.575 337.677)scale(.996264)\">\n",
       "<path d=\"M313.336 405.807H311.202\" fill=\"none\" stroke=\"#000000\" stroke-linecap=\"round\" stroke-linejoin=\"round\" stroke-miterlimit=\"10.0375\" stroke-width=\"0.426791\"/>\n",
       "</g>\n",
       "<g transform=\"translate(368.575 337.677)scale(.996264)\">\n",
       "<path d=\"M313.336 398.694H309.068\" fill=\"none\" stroke=\"#000000\" stroke-linecap=\"round\" stroke-linejoin=\"round\" stroke-miterlimit=\"10.0375\" stroke-width=\"0.711319\"/>\n",
       "</g>\n",
       "<use x=\"657.638744\" y=\"738.175962\" xlink:href=\"#g0-0\"/>\n",
       "<use x=\"666.937241\" y=\"738.175962\" xlink:href=\"#g3-52\"/>\n",
       "<g transform=\"translate(368.575 337.677)scale(.996264)\">\n",
       "<path d=\"M313.336 391.581H311.202\" fill=\"none\" stroke=\"#000000\" stroke-linecap=\"round\" stroke-linejoin=\"round\" stroke-miterlimit=\"10.0375\" stroke-width=\"0.426791\"/>\n",
       "</g>\n",
       "<g transform=\"translate(368.575 337.677)scale(.996264)\">\n",
       "<path d=\"M313.336 384.468H311.202\" fill=\"none\" stroke=\"#000000\" stroke-linecap=\"round\" stroke-linejoin=\"round\" stroke-miterlimit=\"10.0375\" stroke-width=\"0.426791\"/>\n",
       "</g>\n",
       "<g transform=\"translate(368.575 337.677)scale(.996264)\">\n",
       "<path d=\"M313.336 377.355H311.202\" fill=\"none\" stroke=\"#000000\" stroke-linecap=\"round\" stroke-linejoin=\"round\" stroke-miterlimit=\"10.0375\" stroke-width=\"0.426791\"/>\n",
       "</g>\n",
       "<g transform=\"translate(368.575 337.677)scale(.996264)\">\n",
       "<path d=\"M313.336 370.241H309.068\" fill=\"none\" stroke=\"#000000\" stroke-linecap=\"round\" stroke-linejoin=\"round\" stroke-miterlimit=\"10.0375\" stroke-width=\"0.711319\"/>\n",
       "</g>\n",
       "<use x=\"657.638744\" y=\"709.829503\" xlink:href=\"#g0-0\"/>\n",
       "<use x=\"666.937241\" y=\"709.829503\" xlink:href=\"#g3-51\"/>\n",
       "<g transform=\"translate(368.575 337.677)scale(.996264)\">\n",
       "<path d=\"M313.336 363.128H311.202\" fill=\"none\" stroke=\"#000000\" stroke-linecap=\"round\" stroke-linejoin=\"round\" stroke-miterlimit=\"10.0375\" stroke-width=\"0.426791\"/>\n",
       "</g>\n",
       "<g transform=\"translate(368.575 337.677)scale(.996264)\">\n",
       "<path d=\"M313.336 356.015H311.202\" fill=\"none\" stroke=\"#000000\" stroke-linecap=\"round\" stroke-linejoin=\"round\" stroke-miterlimit=\"10.0375\" stroke-width=\"0.426791\"/>\n",
       "</g>\n",
       "<g transform=\"translate(368.575 337.677)scale(.996264)\">\n",
       "<path d=\"M313.336 348.902H311.202\" fill=\"none\" stroke=\"#000000\" stroke-linecap=\"round\" stroke-linejoin=\"round\" stroke-miterlimit=\"10.0375\" stroke-width=\"0.426791\"/>\n",
       "</g>\n",
       "<g transform=\"translate(368.575 337.677)scale(.996264)\">\n",
       "<path d=\"M313.336 341.789H309.068\" fill=\"none\" stroke=\"#000000\" stroke-linecap=\"round\" stroke-linejoin=\"round\" stroke-miterlimit=\"10.0375\" stroke-width=\"0.711319\"/>\n",
       "</g>\n",
       "<use x=\"657.638744\" y=\"681.483059\" xlink:href=\"#g0-0\"/>\n",
       "<use x=\"666.937241\" y=\"681.483059\" xlink:href=\"#g3-50\"/>\n",
       "<g transform=\"translate(368.575 337.677)scale(.996264)\">\n",
       "<path d=\"M313.336 334.676H311.202\" fill=\"none\" stroke=\"#000000\" stroke-linecap=\"round\" stroke-linejoin=\"round\" stroke-miterlimit=\"10.0375\" stroke-width=\"0.426791\"/>\n",
       "</g>\n",
       "<g transform=\"translate(368.575 337.677)scale(.996264)\">\n",
       "<path d=\"M313.336 327.562H311.202\" fill=\"none\" stroke=\"#000000\" stroke-linecap=\"round\" stroke-linejoin=\"round\" stroke-miterlimit=\"10.0375\" stroke-width=\"0.426791\"/>\n",
       "</g>\n",
       "<g transform=\"translate(368.575 337.677)scale(.996264)\">\n",
       "<path d=\"M313.336 320.449H311.202\" fill=\"none\" stroke=\"#000000\" stroke-linecap=\"round\" stroke-linejoin=\"round\" stroke-miterlimit=\"10.0375\" stroke-width=\"0.426791\"/>\n",
       "</g>\n",
       "<g transform=\"translate(368.575 337.677)scale(.996264)\">\n",
       "<path d=\"M313.336 313.336H309.068\" fill=\"none\" stroke=\"#000000\" stroke-linecap=\"round\" stroke-linejoin=\"round\" stroke-miterlimit=\"10.0375\" stroke-width=\"0.711319\"/>\n",
       "</g>\n",
       "<use x=\"657.638744\" y=\"653.136599\" xlink:href=\"#g0-0\"/>\n",
       "<use x=\"666.937241\" y=\"653.136599\" xlink:href=\"#g3-49\"/>\n",
       "<g transform=\"translate(368.575 337.677)scale(.996264)\">\n",
       "<path d=\"M313.336 306.223H311.202\" fill=\"none\" stroke=\"#000000\" stroke-linecap=\"round\" stroke-linejoin=\"round\" stroke-miterlimit=\"10.0375\" stroke-width=\"0.426791\"/>\n",
       "</g>\n",
       "<g transform=\"translate(368.575 337.677)scale(.996264)\">\n",
       "<path d=\"M313.336 299.11H311.202\" fill=\"none\" stroke=\"#000000\" stroke-linecap=\"round\" stroke-linejoin=\"round\" stroke-miterlimit=\"10.0375\" stroke-width=\"0.426791\"/>\n",
       "</g>\n",
       "<g transform=\"translate(368.575 337.677)scale(.996264)\">\n",
       "<path d=\"M313.336 291.996H311.202\" fill=\"none\" stroke=\"#000000\" stroke-linecap=\"round\" stroke-linejoin=\"round\" stroke-miterlimit=\"10.0375\" stroke-width=\"0.426791\"/>\n",
       "</g>\n",
       "<g transform=\"translate(368.575 337.677)scale(.996264)\">\n",
       "<path d=\"M313.336 256.43H309.068\" fill=\"none\" stroke=\"#000000\" stroke-linecap=\"round\" stroke-linejoin=\"round\" stroke-miterlimit=\"10.0375\" stroke-width=\"0.711319\"/>\n",
       "</g>\n",
       "<use x=\"666.937233\" y=\"596.941797\" xlink:href=\"#g3-49\"/>\n",
       "<g transform=\"translate(368.575 337.677)scale(.996264)\">\n",
       "<path d=\"M313.336 263.544H311.202\" fill=\"none\" stroke=\"#000000\" stroke-linecap=\"round\" stroke-linejoin=\"round\" stroke-miterlimit=\"10.0375\" stroke-width=\"0.426791\"/>\n",
       "</g>\n",
       "<g transform=\"translate(368.575 337.677)scale(.996264)\">\n",
       "<path d=\"M313.336 270.657H311.202\" fill=\"none\" stroke=\"#000000\" stroke-linecap=\"round\" stroke-linejoin=\"round\" stroke-miterlimit=\"10.0375\" stroke-width=\"0.426791\"/>\n",
       "</g>\n",
       "<g transform=\"translate(368.575 337.677)scale(.996264)\">\n",
       "<path d=\"M313.336 277.77H311.202\" fill=\"none\" stroke=\"#000000\" stroke-linecap=\"round\" stroke-linejoin=\"round\" stroke-miterlimit=\"10.0375\" stroke-width=\"0.426791\"/>\n",
       "</g>\n",
       "<g transform=\"translate(368.575 337.677)scale(.996264)\">\n",
       "<path d=\"M313.336 227.978H309.068\" fill=\"none\" stroke=\"#000000\" stroke-linecap=\"round\" stroke-linejoin=\"round\" stroke-miterlimit=\"10.0375\" stroke-width=\"0.711319\"/>\n",
       "</g>\n",
       "<use x=\"666.937233\" y=\"568.595337\" xlink:href=\"#g3-50\"/>\n",
       "<g transform=\"translate(368.575 337.677)scale(.996264)\">\n",
       "<path d=\"M313.336 235.091H311.202\" fill=\"none\" stroke=\"#000000\" stroke-linecap=\"round\" stroke-linejoin=\"round\" stroke-miterlimit=\"10.0375\" stroke-width=\"0.426791\"/>\n",
       "</g>\n",
       "<g transform=\"translate(368.575 337.677)scale(.996264)\">\n",
       "<path d=\"M313.336 242.204H311.202\" fill=\"none\" stroke=\"#000000\" stroke-linecap=\"round\" stroke-linejoin=\"round\" stroke-miterlimit=\"10.0375\" stroke-width=\"0.426791\"/>\n",
       "</g>\n",
       "<g transform=\"translate(368.575 337.677)scale(.996264)\">\n",
       "<path d=\"M313.336 249.317H311.202\" fill=\"none\" stroke=\"#000000\" stroke-linecap=\"round\" stroke-linejoin=\"round\" stroke-miterlimit=\"10.0375\" stroke-width=\"0.426791\"/>\n",
       "</g>\n",
       "<g transform=\"translate(368.575 337.677)scale(.996264)\">\n",
       "<path d=\"M313.336 199.525H309.068\" fill=\"none\" stroke=\"#000000\" stroke-linecap=\"round\" stroke-linejoin=\"round\" stroke-miterlimit=\"10.0375\" stroke-width=\"0.711319\"/>\n",
       "</g>\n",
       "<use x=\"666.937233\" y=\"540.248893\" xlink:href=\"#g3-51\"/>\n",
       "<g transform=\"translate(368.575 337.677)scale(.996264)\">\n",
       "<path d=\"M313.336 206.638H311.202\" fill=\"none\" stroke=\"#000000\" stroke-linecap=\"round\" stroke-linejoin=\"round\" stroke-miterlimit=\"10.0375\" stroke-width=\"0.426791\"/>\n",
       "</g>\n",
       "<g transform=\"translate(368.575 337.677)scale(.996264)\">\n",
       "<path d=\"M313.336 213.751H311.202\" fill=\"none\" stroke=\"#000000\" stroke-linecap=\"round\" stroke-linejoin=\"round\" stroke-miterlimit=\"10.0375\" stroke-width=\"0.426791\"/>\n",
       "</g>\n",
       "<g transform=\"translate(368.575 337.677)scale(.996264)\">\n",
       "<path d=\"M313.336 220.865H311.202\" fill=\"none\" stroke=\"#000000\" stroke-linecap=\"round\" stroke-linejoin=\"round\" stroke-miterlimit=\"10.0375\" stroke-width=\"0.426791\"/>\n",
       "</g>\n",
       "<g transform=\"translate(368.575 337.677)scale(.996264)\">\n",
       "<path d=\"M313.336 171.072H309.068\" fill=\"none\" stroke=\"#000000\" stroke-linecap=\"round\" stroke-linejoin=\"round\" stroke-miterlimit=\"10.0375\" stroke-width=\"0.711319\"/>\n",
       "</g>\n",
       "<use x=\"666.937233\" y=\"511.902433\" xlink:href=\"#g3-52\"/>\n",
       "<g transform=\"translate(368.575 337.677)scale(.996264)\">\n",
       "<path d=\"M313.336 178.185H311.202\" fill=\"none\" stroke=\"#000000\" stroke-linecap=\"round\" stroke-linejoin=\"round\" stroke-miterlimit=\"10.0375\" stroke-width=\"0.426791\"/>\n",
       "</g>\n",
       "<g transform=\"translate(368.575 337.677)scale(.996264)\">\n",
       "<path d=\"M313.336 185.299H311.202\" fill=\"none\" stroke=\"#000000\" stroke-linecap=\"round\" stroke-linejoin=\"round\" stroke-miterlimit=\"10.0375\" stroke-width=\"0.426791\"/>\n",
       "</g>\n",
       "<g transform=\"translate(368.575 337.677)scale(.996264)\">\n",
       "<path d=\"M313.336 192.412H311.202\" fill=\"none\" stroke=\"#000000\" stroke-linecap=\"round\" stroke-linejoin=\"round\" stroke-miterlimit=\"10.0375\" stroke-width=\"0.426791\"/>\n",
       "</g>\n",
       "<g transform=\"translate(368.575 337.677)scale(.996264)\">\n",
       "<path d=\"M313.336 142.619H309.068\" fill=\"none\" stroke=\"#000000\" stroke-linecap=\"round\" stroke-linejoin=\"round\" stroke-miterlimit=\"10.0375\" stroke-width=\"0.711319\"/>\n",
       "</g>\n",
       "<use x=\"666.937233\" y=\"483.555974\" xlink:href=\"#g3-53\"/>\n",
       "<g transform=\"translate(368.575 337.677)scale(.996264)\">\n",
       "<path d=\"M313.336 149.733H311.202\" fill=\"none\" stroke=\"#000000\" stroke-linecap=\"round\" stroke-linejoin=\"round\" stroke-miterlimit=\"10.0375\" stroke-width=\"0.426791\"/>\n",
       "</g>\n",
       "<g transform=\"translate(368.575 337.677)scale(.996264)\">\n",
       "<path d=\"M313.336 156.846H311.202\" fill=\"none\" stroke=\"#000000\" stroke-linecap=\"round\" stroke-linejoin=\"round\" stroke-miterlimit=\"10.0375\" stroke-width=\"0.426791\"/>\n",
       "</g>\n",
       "<g transform=\"translate(368.575 337.677)scale(.996264)\">\n",
       "<path d=\"M313.336 163.959H311.202\" fill=\"none\" stroke=\"#000000\" stroke-linecap=\"round\" stroke-linejoin=\"round\" stroke-miterlimit=\"10.0375\" stroke-width=\"0.426791\"/>\n",
       "</g>\n",
       "<g transform=\"translate(368.575 337.677)scale(.996264)\">\n",
       "<path d=\"M313.336 114.167H309.068\" fill=\"none\" stroke=\"#000000\" stroke-linecap=\"round\" stroke-linejoin=\"round\" stroke-miterlimit=\"10.0375\" stroke-width=\"0.711319\"/>\n",
       "</g>\n",
       "<use x=\"666.937233\" y=\"455.209514\" xlink:href=\"#g3-54\"/>\n",
       "<g transform=\"translate(368.575 337.677)scale(.996264)\">\n",
       "<path d=\"M313.336 121.28H311.202\" fill=\"none\" stroke=\"#000000\" stroke-linecap=\"round\" stroke-linejoin=\"round\" stroke-miterlimit=\"10.0375\" stroke-width=\"0.426791\"/>\n",
       "</g>\n",
       "<g transform=\"translate(368.575 337.677)scale(.996264)\">\n",
       "<path d=\"M313.336 128.393H311.202\" fill=\"none\" stroke=\"#000000\" stroke-linecap=\"round\" stroke-linejoin=\"round\" stroke-miterlimit=\"10.0375\" stroke-width=\"0.426791\"/>\n",
       "</g>\n",
       "<g transform=\"translate(368.575 337.677)scale(.996264)\">\n",
       "<path d=\"M313.336 135.506H311.202\" fill=\"none\" stroke=\"#000000\" stroke-linecap=\"round\" stroke-linejoin=\"round\" stroke-miterlimit=\"10.0375\" stroke-width=\"0.426791\"/>\n",
       "</g>\n",
       "<g transform=\"translate(368.575 337.677)scale(.996264)\">\n",
       "<path d=\"M313.336 85.7139H309.068\" fill=\"none\" stroke=\"#000000\" stroke-linecap=\"round\" stroke-linejoin=\"round\" stroke-miterlimit=\"10.0375\" stroke-width=\"0.711319\"/>\n",
       "</g>\n",
       "<use x=\"666.937233\" y=\"426.863054\" xlink:href=\"#g3-55\"/>\n",
       "<g transform=\"translate(368.575 337.677)scale(.996264)\">\n",
       "<path d=\"M313.336 92.8271H311.202\" fill=\"none\" stroke=\"#000000\" stroke-linecap=\"round\" stroke-linejoin=\"round\" stroke-miterlimit=\"10.0375\" stroke-width=\"0.426791\"/>\n",
       "</g>\n",
       "<g transform=\"translate(368.575 337.677)scale(.996264)\">\n",
       "<path d=\"M313.336 99.9403H311.202\" fill=\"none\" stroke=\"#000000\" stroke-linecap=\"round\" stroke-linejoin=\"round\" stroke-miterlimit=\"10.0375\" stroke-width=\"0.426791\"/>\n",
       "</g>\n",
       "<g transform=\"translate(368.575 337.677)scale(.996264)\">\n",
       "<path d=\"M313.336 107.053H311.202\" fill=\"none\" stroke=\"#000000\" stroke-linecap=\"round\" stroke-linejoin=\"round\" stroke-miterlimit=\"10.0375\" stroke-width=\"0.426791\"/>\n",
       "</g>\n",
       "<g transform=\"translate(368.575 337.677)scale(.996264)\">\n",
       "<path d=\"M313.336 57.2612H309.068\" fill=\"none\" stroke=\"#000000\" stroke-linecap=\"round\" stroke-linejoin=\"round\" stroke-miterlimit=\"10.0375\" stroke-width=\"0.711319\"/>\n",
       "</g>\n",
       "<use x=\"666.937233\" y=\"398.51661\" xlink:href=\"#g3-56\"/>\n",
       "<g transform=\"translate(368.575 337.677)scale(.996264)\">\n",
       "<path d=\"M313.336 64.3744H311.202\" fill=\"none\" stroke=\"#000000\" stroke-linecap=\"round\" stroke-linejoin=\"round\" stroke-miterlimit=\"10.0375\" stroke-width=\"0.426791\"/>\n",
       "</g>\n",
       "<g transform=\"translate(368.575 337.677)scale(.996264)\">\n",
       "<path d=\"M313.336 71.4875H311.202\" fill=\"none\" stroke=\"#000000\" stroke-linecap=\"round\" stroke-linejoin=\"round\" stroke-miterlimit=\"10.0375\" stroke-width=\"0.426791\"/>\n",
       "</g>\n",
       "<g transform=\"translate(368.575 337.677)scale(.996264)\">\n",
       "<path d=\"M313.336 78.6007H311.202\" fill=\"none\" stroke=\"#000000\" stroke-linecap=\"round\" stroke-linejoin=\"round\" stroke-miterlimit=\"10.0375\" stroke-width=\"0.426791\"/>\n",
       "</g>\n",
       "<g transform=\"translate(368.575 337.677)scale(.996264)\">\n",
       "<path d=\"M313.336 28.8084H309.068\" fill=\"none\" stroke=\"#000000\" stroke-linecap=\"round\" stroke-linejoin=\"round\" stroke-miterlimit=\"10.0375\" stroke-width=\"0.711319\"/>\n",
       "</g>\n",
       "<use x=\"666.937233\" y=\"370.170151\" xlink:href=\"#g3-57\"/>\n",
       "<g transform=\"translate(368.575 337.677)scale(.996264)\">\n",
       "<path d=\"M313.336 35.9216H311.202\" fill=\"none\" stroke=\"#000000\" stroke-linecap=\"round\" stroke-linejoin=\"round\" stroke-miterlimit=\"10.0375\" stroke-width=\"0.426791\"/>\n",
       "</g>\n",
       "<g transform=\"translate(368.575 337.677)scale(.996264)\">\n",
       "<path d=\"M313.336 43.0348H311.202\" fill=\"none\" stroke=\"#000000\" stroke-linecap=\"round\" stroke-linejoin=\"round\" stroke-miterlimit=\"10.0375\" stroke-width=\"0.426791\"/>\n",
       "</g>\n",
       "<g transform=\"translate(368.575 337.677)scale(.996264)\">\n",
       "<path d=\"M313.336 50.148H311.202\" fill=\"none\" stroke=\"#000000\" stroke-linecap=\"round\" stroke-linejoin=\"round\" stroke-miterlimit=\"10.0375\" stroke-width=\"0.426791\"/>\n",
       "</g>\n",
       "<g transform=\"translate(368.575 337.677)scale(.996264)\">\n",
       "<path d=\"M47.0063 498.53L579.666 71.2363\" fill=\"none\" stroke=\"#ff0000\" stroke-linecap=\"round\" stroke-linejoin=\"round\" stroke-miterlimit=\"10.0375\" stroke-width=\"0.711319\"/>\n",
       "</g>\n",
       "<g transform=\"translate(368.575 337.677)scale(.996264)\">\n",
       "<path d=\"M591.751 393.23L34.921 176.537\" fill=\"none\" stroke=\"#ff0000\" stroke-linecap=\"round\" stroke-linejoin=\"round\" stroke-miterlimit=\"10.0375\" stroke-width=\"0.711319\"/>\n",
       "</g>\n",
       "<g transform=\"translate(368.575 337.677)scale(.996264)\">\n",
       "<path d=\"M91.3945 462.922L98.1561 465.554\" fill=\"none\" stroke=\"#ff0000\" stroke-linecap=\"round\" stroke-linejoin=\"round\" stroke-miterlimit=\"10.0375\" stroke-width=\"0.711319\"/>\n",
       "</g>\n",
       "<g fill=\"#f00\" transform=\"translate(-460.913707 797.356782)rotate(-59.32591)\">\n",
       "<use x=\"461.976071\" y=\"811.024409\" xlink:href=\"#g0-0\"/>\n",
       "<use x=\"471.274568\" y=\"811.024409\" xlink:href=\"#g3-53\"/>\n",
       "</g>\n",
       "<g transform=\"translate(368.575 337.677)scale(.996264)\">\n",
       "<path d=\"M102.492 454.02L105.872 455.336\" fill=\"none\" stroke=\"#ff0000\" stroke-linecap=\"round\" stroke-linejoin=\"round\" stroke-miterlimit=\"10.0375\" stroke-width=\"0.426791\"/>\n",
       "</g>\n",
       "<g transform=\"translate(368.575 337.677)scale(.996264)\">\n",
       "<path d=\"M113.589 445.118L116.969 446.434\" fill=\"none\" stroke=\"#ff0000\" stroke-linecap=\"round\" stroke-linejoin=\"round\" stroke-miterlimit=\"10.0375\" stroke-width=\"0.426791\"/>\n",
       "</g>\n",
       "<g transform=\"translate(368.575 337.677)scale(.996264)\">\n",
       "<path d=\"M124.686 436.216L128.067 437.532\" fill=\"none\" stroke=\"#ff0000\" stroke-linecap=\"round\" stroke-linejoin=\"round\" stroke-miterlimit=\"10.0375\" stroke-width=\"0.426791\"/>\n",
       "</g>\n",
       "<g transform=\"translate(368.575 337.677)scale(.996264)\">\n",
       "<path d=\"M135.783 427.315L142.544 429.946\" fill=\"none\" stroke=\"#ff0000\" stroke-linecap=\"round\" stroke-linejoin=\"round\" stroke-miterlimit=\"10.0375\" stroke-width=\"0.711319\"/>\n",
       "</g>\n",
       "<g fill=\"#f00\" transform=\"translate(-408.740292 818.014085)rotate(-59.32591)\">\n",
       "<use x=\"506.198527\" y=\"775.549605\" xlink:href=\"#g0-0\"/>\n",
       "<use x=\"515.497024\" y=\"775.549605\" xlink:href=\"#g3-52\"/>\n",
       "</g>\n",
       "<g transform=\"translate(368.575 337.677)scale(.996264)\">\n",
       "<path d=\"M146.88 418.413L150.261 419.728\" fill=\"none\" stroke=\"#ff0000\" stroke-linecap=\"round\" stroke-linejoin=\"round\" stroke-miterlimit=\"10.0375\" stroke-width=\"0.426791\"/>\n",
       "</g>\n",
       "<g transform=\"translate(368.575 337.677)scale(.996264)\">\n",
       "<path d=\"M157.977 409.511L161.358 410.826\" fill=\"none\" stroke=\"#ff0000\" stroke-linecap=\"round\" stroke-linejoin=\"round\" stroke-miterlimit=\"10.0375\" stroke-width=\"0.426791\"/>\n",
       "</g>\n",
       "<g transform=\"translate(368.575 337.677)scale(.996264)\">\n",
       "<path d=\"M169.074 400.609L172.455 401.924\" fill=\"none\" stroke=\"#ff0000\" stroke-linecap=\"round\" stroke-linejoin=\"round\" stroke-miterlimit=\"10.0375\" stroke-width=\"0.426791\"/>\n",
       "</g>\n",
       "<g transform=\"translate(368.575 337.677)scale(.996264)\">\n",
       "<path d=\"M180.171 391.707L186.933 394.338\" fill=\"none\" stroke=\"#ff0000\" stroke-linecap=\"round\" stroke-linejoin=\"round\" stroke-miterlimit=\"10.0375\" stroke-width=\"0.711319\"/>\n",
       "</g>\n",
       "<g fill=\"#f00\" transform=\"translate(-356.566388 838.672249)rotate(-59.32591)\">\n",
       "<use x=\"550.420968\" y=\"740.074817\" xlink:href=\"#g0-0\"/>\n",
       "<use x=\"559.719465\" y=\"740.074817\" xlink:href=\"#g3-51\"/>\n",
       "</g>\n",
       "<g transform=\"translate(368.575 337.677)scale(.996264)\">\n",
       "<path d=\"M191.268 382.805L194.649 384.12\" fill=\"none\" stroke=\"#ff0000\" stroke-linecap=\"round\" stroke-linejoin=\"round\" stroke-miterlimit=\"10.0375\" stroke-width=\"0.426791\"/>\n",
       "</g>\n",
       "<g transform=\"translate(368.575 337.677)scale(.996264)\">\n",
       "<path d=\"M202.365 373.903L205.746 375.218\" fill=\"none\" stroke=\"#ff0000\" stroke-linecap=\"round\" stroke-linejoin=\"round\" stroke-miterlimit=\"10.0375\" stroke-width=\"0.426791\"/>\n",
       "</g>\n",
       "<g transform=\"translate(368.575 337.677)scale(.996264)\">\n",
       "<path d=\"M213.462 365.001L216.843 366.316\" fill=\"none\" stroke=\"#ff0000\" stroke-linecap=\"round\" stroke-linejoin=\"round\" stroke-miterlimit=\"10.0375\" stroke-width=\"0.426791\"/>\n",
       "</g>\n",
       "<g transform=\"translate(368.575 337.677)scale(.996264)\">\n",
       "<path d=\"M224.559 356.099L231.321 358.73\" fill=\"none\" stroke=\"#ff0000\" stroke-linecap=\"round\" stroke-linejoin=\"round\" stroke-miterlimit=\"10.0375\" stroke-width=\"0.711319\"/>\n",
       "</g>\n",
       "<g fill=\"#f00\" transform=\"translate(-304.393834 859.330042)rotate(-59.32591)\">\n",
       "<use x=\"594.643424\" y=\"704.600014\" xlink:href=\"#g0-0\"/>\n",
       "<use x=\"603.941921\" y=\"704.600014\" xlink:href=\"#g3-50\"/>\n",
       "</g>\n",
       "<g transform=\"translate(368.575 337.677)scale(.996264)\">\n",
       "<path d=\"M235.656 347.197L239.037 348.513\" fill=\"none\" stroke=\"#ff0000\" stroke-linecap=\"round\" stroke-linejoin=\"round\" stroke-miterlimit=\"10.0375\" stroke-width=\"0.426791\"/>\n",
       "</g>\n",
       "<g transform=\"translate(368.575 337.677)scale(.996264)\">\n",
       "<path d=\"M246.754 338.295L250.134 339.611\" fill=\"none\" stroke=\"#ff0000\" stroke-linecap=\"round\" stroke-linejoin=\"round\" stroke-miterlimit=\"10.0375\" stroke-width=\"0.426791\"/>\n",
       "</g>\n",
       "<g transform=\"translate(368.575 337.677)scale(.996264)\">\n",
       "<path d=\"M257.851 329.393L261.231 330.709\" fill=\"none\" stroke=\"#ff0000\" stroke-linecap=\"round\" stroke-linejoin=\"round\" stroke-miterlimit=\"10.0375\" stroke-width=\"0.426791\"/>\n",
       "</g>\n",
       "<g transform=\"translate(368.575 337.677)scale(.996264)\">\n",
       "<path d=\"M268.948 320.491L275.709 323.122\" fill=\"none\" stroke=\"#ff0000\" stroke-linecap=\"round\" stroke-linejoin=\"round\" stroke-miterlimit=\"10.0375\" stroke-width=\"0.711319\"/>\n",
       "</g>\n",
       "<g fill=\"#f00\" transform=\"translate(-252.21993 879.988206)rotate(-59.32591)\">\n",
       "<use x=\"638.86588\" y=\"669.12521\" xlink:href=\"#g0-0\"/>\n",
       "<use x=\"648.164377\" y=\"669.12521\" xlink:href=\"#g3-49\"/>\n",
       "</g>\n",
       "<g transform=\"translate(368.575 337.677)scale(.996264)\">\n",
       "<path d=\"M280.045 311.589L283.426 312.905\" fill=\"none\" stroke=\"#ff0000\" stroke-linecap=\"round\" stroke-linejoin=\"round\" stroke-miterlimit=\"10.0375\" stroke-width=\"0.426791\"/>\n",
       "</g>\n",
       "<g transform=\"translate(368.575 337.677)scale(.996264)\">\n",
       "<path d=\"M291.142 302.687L294.523 304.003\" fill=\"none\" stroke=\"#ff0000\" stroke-linecap=\"round\" stroke-linejoin=\"round\" stroke-miterlimit=\"10.0375\" stroke-width=\"0.426791\"/>\n",
       "</g>\n",
       "<g transform=\"translate(368.575 337.677)scale(.996264)\">\n",
       "<path d=\"M302.239 293.785L305.62 295.101\" fill=\"none\" stroke=\"#ff0000\" stroke-linecap=\"round\" stroke-linejoin=\"round\" stroke-miterlimit=\"10.0375\" stroke-width=\"0.426791\"/>\n",
       "</g>\n",
       "<g transform=\"translate(368.575 337.677)scale(.996264)\">\n",
       "<path d=\"M357.724 249.275L364.486 251.907\" fill=\"none\" stroke=\"#ff0000\" stroke-linecap=\"round\" stroke-linejoin=\"round\" stroke-miterlimit=\"10.0375\" stroke-width=\"0.711319\"/>\n",
       "</g>\n",
       "<g fill=\"#f00\" transform=\"translate(-147.872612 921.303673)rotate(-59.32591)\">\n",
       "<use x=\"731.960014\" y=\"598.175604\" xlink:href=\"#g3-49\"/>\n",
       "</g>\n",
       "<g transform=\"translate(368.575 337.677)scale(.996264)\">\n",
       "<path d=\"M346.627 258.177L350.008 259.493\" fill=\"none\" stroke=\"#ff0000\" stroke-linecap=\"round\" stroke-linejoin=\"round\" stroke-miterlimit=\"10.0375\" stroke-width=\"0.426791\"/>\n",
       "</g>\n",
       "<g transform=\"translate(368.575 337.677)scale(.996264)\">\n",
       "<path d=\"M335.53 267.079L338.911 268.395\" fill=\"none\" stroke=\"#ff0000\" stroke-linecap=\"round\" stroke-linejoin=\"round\" stroke-miterlimit=\"10.0375\" stroke-width=\"0.426791\"/>\n",
       "</g>\n",
       "<g transform=\"translate(368.575 337.677)scale(.996264)\">\n",
       "<path d=\"M324.433 275.981L327.814 277.297\" fill=\"none\" stroke=\"#ff0000\" stroke-linecap=\"round\" stroke-linejoin=\"round\" stroke-miterlimit=\"10.0375\" stroke-width=\"0.426791\"/>\n",
       "</g>\n",
       "<g transform=\"translate(368.575 337.677)scale(.996264)\">\n",
       "<path d=\"M402.113 213.668L408.874 216.299\" fill=\"none\" stroke=\"#ff0000\" stroke-linecap=\"round\" stroke-linejoin=\"round\" stroke-miterlimit=\"10.0375\" stroke-width=\"0.711319\"/>\n",
       "</g>\n",
       "<g fill=\"#f00\" transform=\"translate(-95.699197 941.960977)rotate(-59.32591)\">\n",
       "<use x=\"776.182471\" y=\"562.7008\" xlink:href=\"#g3-50\"/>\n",
       "</g>\n",
       "<g transform=\"translate(368.575 337.677)scale(.996264)\">\n",
       "<path d=\"M391.015 222.57L394.396 223.885\" fill=\"none\" stroke=\"#ff0000\" stroke-linecap=\"round\" stroke-linejoin=\"round\" stroke-miterlimit=\"10.0375\" stroke-width=\"0.426791\"/>\n",
       "</g>\n",
       "<g transform=\"translate(368.575 337.677)scale(.996264)\">\n",
       "<path d=\"M379.918 231.471L383.299 232.787\" fill=\"none\" stroke=\"#ff0000\" stroke-linecap=\"round\" stroke-linejoin=\"round\" stroke-miterlimit=\"10.0375\" stroke-width=\"0.426791\"/>\n",
       "</g>\n",
       "<g transform=\"translate(368.575 337.677)scale(.996264)\">\n",
       "<path d=\"M368.821 240.373L372.202 241.689\" fill=\"none\" stroke=\"#ff0000\" stroke-linecap=\"round\" stroke-linejoin=\"round\" stroke-miterlimit=\"10.0375\" stroke-width=\"0.426791\"/>\n",
       "</g>\n",
       "<g transform=\"translate(368.575 337.677)scale(.996264)\">\n",
       "<path d=\"M446.501 178.06L453.262 180.691\" fill=\"none\" stroke=\"#ff0000\" stroke-linecap=\"round\" stroke-linejoin=\"round\" stroke-miterlimit=\"10.0375\" stroke-width=\"0.711319\"/>\n",
       "</g>\n",
       "<g fill=\"#f00\" transform=\"translate(-43.526643 962.61877)rotate(-59.32591)\">\n",
       "<use x=\"820.404912\" y=\"527.226012\" xlink:href=\"#g3-51\"/>\n",
       "</g>\n",
       "<g transform=\"translate(368.575 337.677)scale(.996264)\">\n",
       "<path d=\"M435.404 186.962L438.785 188.277\" fill=\"none\" stroke=\"#ff0000\" stroke-linecap=\"round\" stroke-linejoin=\"round\" stroke-miterlimit=\"10.0375\" stroke-width=\"0.426791\"/>\n",
       "</g>\n",
       "<g transform=\"translate(368.575 337.677)scale(.996264)\">\n",
       "<path d=\"M424.307 195.864L427.687 197.179\" fill=\"none\" stroke=\"#ff0000\" stroke-linecap=\"round\" stroke-linejoin=\"round\" stroke-miterlimit=\"10.0375\" stroke-width=\"0.426791\"/>\n",
       "</g>\n",
       "<g transform=\"translate(368.575 337.677)scale(.996264)\">\n",
       "<path d=\"M413.21 204.766L416.59 206.081\" fill=\"none\" stroke=\"#ff0000\" stroke-linecap=\"round\" stroke-linejoin=\"round\" stroke-miterlimit=\"10.0375\" stroke-width=\"0.426791\"/>\n",
       "</g>\n",
       "<g transform=\"translate(368.575 337.677)scale(.996264)\">\n",
       "<path d=\"M490.889 142.452L497.651 145.083\" fill=\"none\" stroke=\"#ff0000\" stroke-linecap=\"round\" stroke-linejoin=\"round\" stroke-miterlimit=\"10.0375\" stroke-width=\"0.711319\"/>\n",
       "</g>\n",
       "<g fill=\"#f00\" transform=\"translate(8.647261 983.276934)rotate(-59.32591)\">\n",
       "<use x=\"864.627368\" y=\"491.751209\" xlink:href=\"#g3-52\"/>\n",
       "</g>\n",
       "<g transform=\"translate(368.575 337.677)scale(.996264)\">\n",
       "<path d=\"M479.792 151.354L483.173 152.67\" fill=\"none\" stroke=\"#ff0000\" stroke-linecap=\"round\" stroke-linejoin=\"round\" stroke-miterlimit=\"10.0375\" stroke-width=\"0.426791\"/>\n",
       "</g>\n",
       "<g transform=\"translate(368.575 337.677)scale(.996264)\">\n",
       "<path d=\"M468.695 160.256L472.076 161.571\" fill=\"none\" stroke=\"#ff0000\" stroke-linecap=\"round\" stroke-linejoin=\"round\" stroke-miterlimit=\"10.0375\" stroke-width=\"0.426791\"/>\n",
       "</g>\n",
       "<g transform=\"translate(368.575 337.677)scale(.996264)\">\n",
       "<path d=\"M457.598 169.158L460.979 170.473\" fill=\"none\" stroke=\"#ff0000\" stroke-linecap=\"round\" stroke-linejoin=\"round\" stroke-miterlimit=\"10.0375\" stroke-width=\"0.426791\"/>\n",
       "</g>\n",
       "<g transform=\"translate(368.575 337.677)scale(.996264)\">\n",
       "<path d=\"M535.277 106.844L542.039 109.475\" fill=\"none\" stroke=\"#ff0000\" stroke-linecap=\"round\" stroke-linejoin=\"round\" stroke-miterlimit=\"10.0375\" stroke-width=\"0.711319\"/>\n",
       "</g>\n",
       "<g fill=\"#f00\" transform=\"translate(60.820675 1003.934237)rotate(-59.32591)\">\n",
       "<use x=\"908.849824\" y=\"456.276421\" xlink:href=\"#g3-53\"/>\n",
       "</g>\n",
       "<g transform=\"translate(368.575 337.677)scale(.996264)\">\n",
       "<path d=\"M524.18 115.746L527.561 117.062\" fill=\"none\" stroke=\"#ff0000\" stroke-linecap=\"round\" stroke-linejoin=\"round\" stroke-miterlimit=\"10.0375\" stroke-width=\"0.426791\"/>\n",
       "</g>\n",
       "<g transform=\"translate(368.575 337.677)scale(.996264)\">\n",
       "<path d=\"M513.083 124.648L516.464 125.964\" fill=\"none\" stroke=\"#ff0000\" stroke-linecap=\"round\" stroke-linejoin=\"round\" stroke-miterlimit=\"10.0375\" stroke-width=\"0.426791\"/>\n",
       "</g>\n",
       "<g transform=\"translate(368.575 337.677)scale(.996264)\">\n",
       "<path d=\"M501.986 133.55L505.367 134.866\" fill=\"none\" stroke=\"#ff0000\" stroke-linecap=\"round\" stroke-linejoin=\"round\" stroke-miterlimit=\"10.0375\" stroke-width=\"0.426791\"/>\n",
       "</g>\n",
       "<g transform=\"translate(368.575 337.677)scale(.996264)\">\n",
       "<path d=\"M551.977 377.752L548.426 380.6\" fill=\"none\" stroke=\"#ff0000\" stroke-linecap=\"round\" stroke-linejoin=\"round\" stroke-miterlimit=\"10.0375\" stroke-width=\"0.711319\"/>\n",
       "</g>\n",
       "<g fill=\"#f00\" transform=\"translate(-171.979851 1137.993588)rotate(-59.32591)\">\n",
       "<use x=\"897.916079\" y=\"723.333611\" xlink:href=\"#g0-0\"/>\n",
       "<use x=\"907.214576\" y=\"723.333611\" xlink:href=\"#g3-54\"/>\n",
       "</g>\n",
       "<g transform=\"translate(368.575 337.677)scale(.996264)\">\n",
       "<path d=\"M542.034 373.882L540.258 375.307\" fill=\"none\" stroke=\"#ff0000\" stroke-linecap=\"round\" stroke-linejoin=\"round\" stroke-miterlimit=\"10.0375\" stroke-width=\"0.426791\"/>\n",
       "</g>\n",
       "<g transform=\"translate(368.575 337.677)scale(.996264)\">\n",
       "<path d=\"M532.091 370.013L530.315 371.437\" fill=\"none\" stroke=\"#ff0000\" stroke-linecap=\"round\" stroke-linejoin=\"round\" stroke-miterlimit=\"10.0375\" stroke-width=\"0.426791\"/>\n",
       "</g>\n",
       "<g transform=\"translate(368.575 337.677)scale(.996264)\">\n",
       "<path d=\"M522.147 366.143L520.372 367.568\" fill=\"none\" stroke=\"#ff0000\" stroke-linecap=\"round\" stroke-linejoin=\"round\" stroke-miterlimit=\"10.0375\" stroke-width=\"0.426791\"/>\n",
       "</g>\n",
       "<g transform=\"translate(368.575 337.677)scale(.996264)\">\n",
       "<path d=\"M512.204 362.274L508.653 365.122\" fill=\"none\" stroke=\"#ff0000\" stroke-linecap=\"round\" stroke-linejoin=\"round\" stroke-miterlimit=\"10.0375\" stroke-width=\"0.711319\"/>\n",
       "</g>\n",
       "<g fill=\"#f00\" transform=\"translate(-178.126659 1096.358884)rotate(-59.32591)\">\n",
       "<use x=\"858.291098\" y=\"707.913333\" xlink:href=\"#g0-0\"/>\n",
       "<use x=\"867.589595\" y=\"707.913333\" xlink:href=\"#g3-53\"/>\n",
       "</g>\n",
       "<g transform=\"translate(368.575 337.677)scale(.996264)\">\n",
       "<path d=\"M502.26 358.404L500.485 359.829\" fill=\"none\" stroke=\"#ff0000\" stroke-linecap=\"round\" stroke-linejoin=\"round\" stroke-miterlimit=\"10.0375\" stroke-width=\"0.426791\"/>\n",
       "</g>\n",
       "<g transform=\"translate(368.575 337.677)scale(.996264)\">\n",
       "<path d=\"M492.317 354.535L490.542 355.959\" fill=\"none\" stroke=\"#ff0000\" stroke-linecap=\"round\" stroke-linejoin=\"round\" stroke-miterlimit=\"10.0375\" stroke-width=\"0.426791\"/>\n",
       "</g>\n",
       "<g transform=\"translate(368.575 337.677)scale(.996264)\">\n",
       "<path d=\"M482.374 350.665L480.598 352.089\" fill=\"none\" stroke=\"#ff0000\" stroke-linecap=\"round\" stroke-linejoin=\"round\" stroke-miterlimit=\"10.0375\" stroke-width=\"0.426791\"/>\n",
       "</g>\n",
       "<g transform=\"translate(368.575 337.677)scale(.996264)\">\n",
       "<path d=\"M472.43 346.796L468.879 349.644\" fill=\"none\" stroke=\"#ff0000\" stroke-linecap=\"round\" stroke-linejoin=\"round\" stroke-miterlimit=\"10.0375\" stroke-width=\"0.711319\"/>\n",
       "</g>\n",
       "<g fill=\"#f00\" transform=\"translate(-184.274327 1054.724669)rotate(-59.32591)\">\n",
       "<use x=\"818.666132\" y=\"692.493056\" xlink:href=\"#g0-0\"/>\n",
       "<use x=\"827.964629\" y=\"692.493056\" xlink:href=\"#g3-52\"/>\n",
       "</g>\n",
       "<g transform=\"translate(368.575 337.677)scale(.996264)\">\n",
       "<path d=\"M462.487 342.926L460.711 344.35\" fill=\"none\" stroke=\"#ff0000\" stroke-linecap=\"round\" stroke-linejoin=\"round\" stroke-miterlimit=\"10.0375\" stroke-width=\"0.426791\"/>\n",
       "</g>\n",
       "<g transform=\"translate(368.575 337.677)scale(.996264)\">\n",
       "<path d=\"M452.543 339.057L450.768 340.481\" fill=\"none\" stroke=\"#ff0000\" stroke-linecap=\"round\" stroke-linejoin=\"round\" stroke-miterlimit=\"10.0375\" stroke-width=\"0.426791\"/>\n",
       "</g>\n",
       "<g transform=\"translate(368.575 337.677)scale(.996264)\">\n",
       "<path d=\"M442.6 335.187L440.825 336.611\" fill=\"none\" stroke=\"#ff0000\" stroke-linecap=\"round\" stroke-linejoin=\"round\" stroke-miterlimit=\"10.0375\" stroke-width=\"0.426791\"/>\n",
       "</g>\n",
       "<g transform=\"translate(368.575 337.677)scale(.996264)\">\n",
       "<path d=\"M432.657 331.318L429.106 334.166\" fill=\"none\" stroke=\"#ff0000\" stroke-linecap=\"round\" stroke-linejoin=\"round\" stroke-miterlimit=\"10.0375\" stroke-width=\"0.711319\"/>\n",
       "</g>\n",
       "<g fill=\"#f00\" transform=\"translate(-190.421994 1013.090455)rotate(-59.32591)\">\n",
       "<use x=\"779.041151\" y=\"677.072793\" xlink:href=\"#g0-0\"/>\n",
       "<use x=\"788.339648\" y=\"677.072793\" xlink:href=\"#g3-51\"/>\n",
       "</g>\n",
       "<g transform=\"translate(368.575 337.677)scale(.996264)\">\n",
       "<path d=\"M422.713 327.448L420.938 328.872\" fill=\"none\" stroke=\"#ff0000\" stroke-linecap=\"round\" stroke-linejoin=\"round\" stroke-miterlimit=\"10.0375\" stroke-width=\"0.426791\"/>\n",
       "</g>\n",
       "<g transform=\"translate(368.575 337.677)scale(.996264)\">\n",
       "<path d=\"M412.77 323.578L410.994 325.003\" fill=\"none\" stroke=\"#ff0000\" stroke-linecap=\"round\" stroke-linejoin=\"round\" stroke-miterlimit=\"10.0375\" stroke-width=\"0.426791\"/>\n",
       "</g>\n",
       "<g transform=\"translate(368.575 337.677)scale(.996264)\">\n",
       "<path d=\"M402.827 319.709L401.051 321.133\" fill=\"none\" stroke=\"#ff0000\" stroke-linecap=\"round\" stroke-linejoin=\"round\" stroke-miterlimit=\"10.0375\" stroke-width=\"0.426791\"/>\n",
       "</g>\n",
       "<g transform=\"translate(368.575 337.677)scale(.996264)\">\n",
       "<path d=\"M392.883 315.839L389.332 318.688\" fill=\"none\" stroke=\"#ff0000\" stroke-linecap=\"round\" stroke-linejoin=\"round\" stroke-miterlimit=\"10.0375\" stroke-width=\"0.711319\"/>\n",
       "</g>\n",
       "<g fill=\"#f00\" transform=\"translate(-196.568802 971.455751)rotate(-59.32591)\">\n",
       "<use x=\"739.416169\" y=\"661.652516\" xlink:href=\"#g0-0\"/>\n",
       "<use x=\"748.714666\" y=\"661.652516\" xlink:href=\"#g3-50\"/>\n",
       "</g>\n",
       "<g transform=\"translate(368.575 337.677)scale(.996264)\">\n",
       "<path d=\"M382.94 311.97L381.164 313.394\" fill=\"none\" stroke=\"#ff0000\" stroke-linecap=\"round\" stroke-linejoin=\"round\" stroke-miterlimit=\"10.0375\" stroke-width=\"0.426791\"/>\n",
       "</g>\n",
       "<g transform=\"translate(368.575 337.677)scale(.996264)\">\n",
       "<path d=\"M372.996 308.1L371.221 309.525\" fill=\"none\" stroke=\"#ff0000\" stroke-linecap=\"round\" stroke-linejoin=\"round\" stroke-miterlimit=\"10.0375\" stroke-width=\"0.426791\"/>\n",
       "</g>\n",
       "<g transform=\"translate(368.575 337.677)scale(.996264)\">\n",
       "<path d=\"M363.053 304.231L361.277 305.655\" fill=\"none\" stroke=\"#ff0000\" stroke-linecap=\"round\" stroke-linejoin=\"round\" stroke-miterlimit=\"10.0375\" stroke-width=\"0.426791\"/>\n",
       "</g>\n",
       "<g transform=\"translate(368.575 337.677)scale(.996264)\">\n",
       "<path d=\"M353.11 300.361L349.558 303.21\" fill=\"none\" stroke=\"#ff0000\" stroke-linecap=\"round\" stroke-linejoin=\"round\" stroke-miterlimit=\"10.0375\" stroke-width=\"0.711319\"/>\n",
       "</g>\n",
       "<g fill=\"#f00\" transform=\"translate(-202.71647 929.821537)rotate(-59.32591)\">\n",
       "<use x=\"699.791204\" y=\"646.232238\" xlink:href=\"#g0-0\"/>\n",
       "<use x=\"709.089701\" y=\"646.232238\" xlink:href=\"#g3-49\"/>\n",
       "</g>\n",
       "<g transform=\"translate(368.575 337.677)scale(.996264)\">\n",
       "<path d=\"M343.166 296.492L341.391 297.916\" fill=\"none\" stroke=\"#ff0000\" stroke-linecap=\"round\" stroke-linejoin=\"round\" stroke-miterlimit=\"10.0375\" stroke-width=\"0.426791\"/>\n",
       "</g>\n",
       "<g transform=\"translate(368.575 337.677)scale(.996264)\">\n",
       "<path d=\"M333.223 292.622L331.447 294.047\" fill=\"none\" stroke=\"#ff0000\" stroke-linecap=\"round\" stroke-linejoin=\"round\" stroke-miterlimit=\"10.0375\" stroke-width=\"0.426791\"/>\n",
       "</g>\n",
       "<g transform=\"translate(368.575 337.677)scale(.996264)\">\n",
       "<path d=\"M323.279 288.753L321.504 290.177\" fill=\"none\" stroke=\"#ff0000\" stroke-linecap=\"round\" stroke-linejoin=\"round\" stroke-miterlimit=\"10.0375\" stroke-width=\"0.426791\"/>\n",
       "</g>\n",
       "<g transform=\"translate(368.575 337.677)scale(.996264)\">\n",
       "<path d=\"M273.562 269.405L270.011 272.254\" fill=\"none\" stroke=\"#ff0000\" stroke-linecap=\"round\" stroke-linejoin=\"round\" stroke-miterlimit=\"10.0375\" stroke-width=\"0.711319\"/>\n",
       "</g>\n",
       "<g fill=\"#f00\" transform=\"translate(-215.011806 846.553109)rotate(-59.32591)\">\n",
       "<use x=\"629.839731\" y=\"615.8898\" xlink:href=\"#g3-49\"/>\n",
       "</g>\n",
       "<g transform=\"translate(368.575 337.677)scale(.996264)\">\n",
       "<path d=\"M283.506 273.275L281.73 274.699\" fill=\"none\" stroke=\"#ff0000\" stroke-linecap=\"round\" stroke-linejoin=\"round\" stroke-miterlimit=\"10.0375\" stroke-width=\"0.426791\"/>\n",
       "</g>\n",
       "<g transform=\"translate(368.575 337.677)scale(.996264)\">\n",
       "<path d=\"M293.449 277.144L291.674 278.568\" fill=\"none\" stroke=\"#ff0000\" stroke-linecap=\"round\" stroke-linejoin=\"round\" stroke-miterlimit=\"10.0375\" stroke-width=\"0.426791\"/>\n",
       "</g>\n",
       "<g transform=\"translate(368.575 337.677)scale(.996264)\">\n",
       "<path d=\"M303.393 281.014L301.617 282.438\" fill=\"none\" stroke=\"#ff0000\" stroke-linecap=\"round\" stroke-linejoin=\"round\" stroke-miterlimit=\"10.0375\" stroke-width=\"0.426791\"/>\n",
       "</g>\n",
       "<g transform=\"translate(368.575 337.677)scale(.996264)\">\n",
       "<path d=\"M233.789 253.927L230.238 256.776\" fill=\"none\" stroke=\"#ff0000\" stroke-linecap=\"round\" stroke-linejoin=\"round\" stroke-miterlimit=\"10.0375\" stroke-width=\"0.711319\"/>\n",
       "</g>\n",
       "<g fill=\"#f00\" transform=\"translate(-221.158614 804.918405)rotate(-59.32591)\">\n",
       "<use x=\"590.214765\" y=\"600.469522\" xlink:href=\"#g3-50\"/>\n",
       "</g>\n",
       "<g transform=\"translate(368.575 337.677)scale(.996264)\">\n",
       "<path d=\"M243.732 257.797L241.957 259.221\" fill=\"none\" stroke=\"#ff0000\" stroke-linecap=\"round\" stroke-linejoin=\"round\" stroke-miterlimit=\"10.0375\" stroke-width=\"0.426791\"/>\n",
       "</g>\n",
       "<g transform=\"translate(368.575 337.677)scale(.996264)\">\n",
       "<path d=\"M253.676 261.666L251.9 263.09\" fill=\"none\" stroke=\"#ff0000\" stroke-linecap=\"round\" stroke-linejoin=\"round\" stroke-miterlimit=\"10.0375\" stroke-width=\"0.426791\"/>\n",
       "</g>\n",
       "<g transform=\"translate(368.575 337.677)scale(.996264)\">\n",
       "<path d=\"M263.619 265.536L261.843 266.96\" fill=\"none\" stroke=\"#ff0000\" stroke-linecap=\"round\" stroke-linejoin=\"round\" stroke-miterlimit=\"10.0375\" stroke-width=\"0.426791\"/>\n",
       "</g>\n",
       "<g transform=\"translate(368.575 337.677)scale(.996264)\">\n",
       "<path d=\"M194.015 238.449L190.464 241.298\" fill=\"none\" stroke=\"#ff0000\" stroke-linecap=\"round\" stroke-linejoin=\"round\" stroke-miterlimit=\"10.0375\" stroke-width=\"0.711319\"/>\n",
       "</g>\n",
       "<g fill=\"#f00\" transform=\"translate(-227.306282 763.28419)rotate(-59.32591)\">\n",
       "<use x=\"550.589784\" y=\"585.049245\" xlink:href=\"#g3-51\"/>\n",
       "</g>\n",
       "<g transform=\"translate(368.575 337.677)scale(.996264)\">\n",
       "<path d=\"M203.959 242.318L202.183 243.743\" fill=\"none\" stroke=\"#ff0000\" stroke-linecap=\"round\" stroke-linejoin=\"round\" stroke-miterlimit=\"10.0375\" stroke-width=\"0.426791\"/>\n",
       "</g>\n",
       "<g transform=\"translate(368.575 337.677)scale(.996264)\">\n",
       "<path d=\"M213.902 246.188L212.127 247.612\" fill=\"none\" stroke=\"#ff0000\" stroke-linecap=\"round\" stroke-linejoin=\"round\" stroke-miterlimit=\"10.0375\" stroke-width=\"0.426791\"/>\n",
       "</g>\n",
       "<g transform=\"translate(368.575 337.677)scale(.996264)\">\n",
       "<path d=\"M223.845 250.057L222.07 251.482\" fill=\"none\" stroke=\"#ff0000\" stroke-linecap=\"round\" stroke-linejoin=\"round\" stroke-miterlimit=\"10.0375\" stroke-width=\"0.426791\"/>\n",
       "</g>\n",
       "<g transform=\"translate(368.575 337.677)scale(.996264)\">\n",
       "<path d=\"M154.242 222.971L150.691 225.819\" fill=\"none\" stroke=\"#ff0000\" stroke-linecap=\"round\" stroke-linejoin=\"round\" stroke-miterlimit=\"10.0375\" stroke-width=\"0.711319\"/>\n",
       "</g>\n",
       "<g fill=\"#f00\" transform=\"translate(-233.453949 721.649976)rotate(-59.32591)\">\n",
       "<use x=\"510.964802\" y=\"569.628967\" xlink:href=\"#g3-52\"/>\n",
       "</g>\n",
       "<g transform=\"translate(368.575 337.677)scale(.996264)\">\n",
       "<path d=\"M164.185 226.84L162.41 228.265\" fill=\"none\" stroke=\"#ff0000\" stroke-linecap=\"round\" stroke-linejoin=\"round\" stroke-miterlimit=\"10.0375\" stroke-width=\"0.426791\"/>\n",
       "</g>\n",
       "<g transform=\"translate(368.575 337.677)scale(.996264)\">\n",
       "<path d=\"M174.128 230.71L172.353 232.134\" fill=\"none\" stroke=\"#ff0000\" stroke-linecap=\"round\" stroke-linejoin=\"round\" stroke-miterlimit=\"10.0375\" stroke-width=\"0.426791\"/>\n",
       "</g>\n",
       "<g transform=\"translate(368.575 337.677)scale(.996264)\">\n",
       "<path d=\"M184.072 234.579L182.296 236.004\" fill=\"none\" stroke=\"#ff0000\" stroke-linecap=\"round\" stroke-linejoin=\"round\" stroke-miterlimit=\"10.0375\" stroke-width=\"0.426791\"/>\n",
       "</g>\n",
       "<g transform=\"translate(368.575 337.677)scale(.996264)\">\n",
       "<path d=\"M114.468 207.493L110.917 210.341\" fill=\"none\" stroke=\"#ff0000\" stroke-linecap=\"round\" stroke-linejoin=\"round\" stroke-miterlimit=\"10.0375\" stroke-width=\"0.711319\"/>\n",
       "</g>\n",
       "<g fill=\"#f00\" transform=\"translate(-239.600757 680.015272)rotate(-59.32591)\">\n",
       "<use x=\"471.339836\" y=\"554.208705\" xlink:href=\"#g3-53\"/>\n",
       "</g>\n",
       "<g transform=\"translate(368.575 337.677)scale(.996264)\">\n",
       "<path d=\"M124.412 211.362L122.636 212.787\" fill=\"none\" stroke=\"#ff0000\" stroke-linecap=\"round\" stroke-linejoin=\"round\" stroke-miterlimit=\"10.0375\" stroke-width=\"0.426791\"/>\n",
       "</g>\n",
       "<g transform=\"translate(368.575 337.677)scale(.996264)\">\n",
       "<path d=\"M134.355 215.232L132.579 216.656\" fill=\"none\" stroke=\"#ff0000\" stroke-linecap=\"round\" stroke-linejoin=\"round\" stroke-miterlimit=\"10.0375\" stroke-width=\"0.426791\"/>\n",
       "</g>\n",
       "<g transform=\"translate(368.575 337.677)scale(.996264)\">\n",
       "<path d=\"M144.298 219.101L142.523 220.526\" fill=\"none\" stroke=\"#ff0000\" stroke-linecap=\"round\" stroke-linejoin=\"round\" stroke-miterlimit=\"10.0375\" stroke-width=\"0.426791\"/>\n",
       "</g>\n",
       "<g transform=\"translate(368.575 337.677)scale(.996264)\">\n",
       "<path d=\"M74.6946 192.015L71.1435 194.863\" fill=\"none\" stroke=\"#ff0000\" stroke-linecap=\"round\" stroke-linejoin=\"round\" stroke-miterlimit=\"10.0375\" stroke-width=\"0.711319\"/>\n",
       "</g>\n",
       "<g fill=\"#f00\" transform=\"translate(-245.748425 638.381058)rotate(-59.32591)\">\n",
       "<use x=\"431.714855\" y=\"538.788427\" xlink:href=\"#g3-54\"/>\n",
       "</g>\n",
       "<g transform=\"translate(368.575 337.677)scale(.996264)\">\n",
       "<path d=\"M84.6379 195.884L82.8624 197.308\" fill=\"none\" stroke=\"#ff0000\" stroke-linecap=\"round\" stroke-linejoin=\"round\" stroke-miterlimit=\"10.0375\" stroke-width=\"0.426791\"/>\n",
       "</g>\n",
       "<g transform=\"translate(368.575 337.677)scale(.996264)\">\n",
       "<path d=\"M94.5813 199.754L92.8058 201.178\" fill=\"none\" stroke=\"#ff0000\" stroke-linecap=\"round\" stroke-linejoin=\"round\" stroke-miterlimit=\"10.0375\" stroke-width=\"0.426791\"/>\n",
       "</g>\n",
       "<g transform=\"translate(368.575 337.677)scale(.996264)\">\n",
       "<path d=\"M104.525 203.623L102.749 205.047\" fill=\"none\" stroke=\"#ff0000\" stroke-linecap=\"round\" stroke-linejoin=\"round\" stroke-miterlimit=\"10.0375\" stroke-width=\"0.426791\"/>\n",
       "</g>\n",
       "<g transform=\"translate(368.575 337.677)scale(.996264)\">\n",
       "<path d=\"M353.285 252.836L313.336 284.883\" fill=\"none\" stroke=\"#ff0000\" stroke-linecap=\"round\" stroke-linejoin=\"round\" stroke-miterlimit=\"10.0375\" stroke-width=\"1.5649\"/>\n",
       "</g>\n",
       "<g transform=\"translate(368.575 337.677)scale(.996264)\">\n",
       "<path d=\"M357.724 249.275L352.331 251.647L354.24 254.026L357.724 249.275Z\" fill=\"#ff0000\"/>\n",
       "</g>\n",
       "<g transform=\"translate(368.575 337.677)scale(.996264)\">\n",
       "<path d=\"M357.724 249.275L352.331 251.647L354.24 254.026L357.724 249.275Z\" fill=\"none\" stroke=\"#ff0000\" stroke-linecap=\"round\" stroke-linejoin=\"round\" stroke-miterlimit=\"10.0375\" stroke-width=\"1.5649\"/>\n",
       "</g>\n",
       "<g transform=\"translate(368.575 337.677)scale(.996264)\">\n",
       "<path d=\"M278.866 271.469L313.336 284.883\" fill=\"none\" stroke=\"#ff0000\" stroke-linecap=\"round\" stroke-linejoin=\"round\" stroke-miterlimit=\"10.0375\" stroke-width=\"1.5649\"/>\n",
       "</g>\n",
       "<g transform=\"translate(368.575 337.677)scale(.996264)\">\n",
       "<path d=\"M273.562 269.405L278.313 272.89L279.419 270.048L273.562 269.405Z\" fill=\"#ff0000\"/>\n",
       "</g>\n",
       "<g transform=\"translate(368.575 337.677)scale(.996264)\">\n",
       "<path d=\"M273.562 269.405L278.313 272.89L279.419 270.048L273.562 269.405Z\" fill=\"none\" stroke=\"#ff0000\" stroke-linecap=\"round\" stroke-linejoin=\"round\" stroke-miterlimit=\"10.0375\" stroke-width=\"1.5649\"/>\n",
       "</g>\n",
       "<g transform=\"translate(368.575 337.677)scale(.996264)\">\n",
       "<path d=\"M288.321 122.1L313.336 284.883\" fill=\"none\" stroke=\"#0000ff\" stroke-linecap=\"round\" stroke-linejoin=\"round\" stroke-miterlimit=\"10.0375\" stroke-width=\"1.5649\"/>\n",
       "</g>\n",
       "<g transform=\"translate(368.575 337.677)scale(.996264)\">\n",
       "<path d=\"M287.407 116.147L286.726 122.345L289.916 121.855L287.407 116.147Z\" fill=\"#0000ff\"/>\n",
       "</g>\n",
       "<g transform=\"translate(368.575 337.677)scale(.996264)\">\n",
       "<path d=\"M287.407 116.147L286.726 122.345L289.916 121.855L287.407 116.147Z\" fill=\"none\" stroke=\"#0000ff\" stroke-linecap=\"round\" stroke-linejoin=\"round\" stroke-miterlimit=\"10.0375\" stroke-width=\"1.5649\"/>\n",
       "</g>\n",
       "<g fill=\"#00f\" transform=\"translate(-69.033224 781.779741)rotate(-59.32591)\">\n",
       "<use x=\"646.144858\" y=\"449.70203\" xlink:href=\"#g1-126\"/>\n",
       "<use x=\"646.621541\" y=\"449.70203\" xlink:href=\"#g1-118\"/>\n",
       "<use x=\"652.280811\" y=\"451.495293\" xlink:href=\"#g2-49\"/>\n",
       "</g>\n",
       "<g transform=\"translate(368.575 337.677)scale(.996264)\">\n",
       "<path d=\"M446.501 178.06L287.407 116.147L154.242 222.971\" fill=\"none\" stroke=\"#ff0000\" stroke-dasharray=\"2.2915,2.2915,2.2915,2.2915\" stroke-linecap=\"round\" stroke-linejoin=\"round\" stroke-miterlimit=\"10.0375\" stroke-width=\"0.284528\"/>\n",
       "</g>\n",
       "<g transform=\"translate(368.575 337.677)scale(.996264)\">\n",
       "<path d=\"M423.454 378.503L313.336 284.883\" fill=\"none\" stroke=\"#0000ff\" stroke-linecap=\"round\" stroke-linejoin=\"round\" stroke-miterlimit=\"10.0375\" stroke-width=\"1.5649\"/>\n",
       "</g>\n",
       "<g transform=\"translate(368.575 337.677)scale(.996264)\">\n",
       "<path d=\"M428.042 382.403L424.499 377.273L422.408 379.732L428.042 382.403Z\" fill=\"#0000ff\"/>\n",
       "</g>\n",
       "<g transform=\"translate(368.575 337.677)scale(.996264)\">\n",
       "<path d=\"M428.042 382.403L424.499 377.273L422.408 379.732L428.042 382.403Z\" fill=\"none\" stroke=\"#0000ff\" stroke-linecap=\"round\" stroke-linejoin=\"round\" stroke-miterlimit=\"10.0375\" stroke-width=\"1.5649\"/>\n",
       "</g>\n",
       "<g fill=\"#00f\" transform=\"translate(-228.673085 1039.344288)rotate(-59.32591)\">\n",
       "<use x=\"792.443057\" y=\"728.948526\" xlink:href=\"#g1-126\"/>\n",
       "<use x=\"792.919739\" y=\"728.948526\" xlink:href=\"#g1-118\"/>\n",
       "<use x=\"798.57901\" y=\"730.741789\" xlink:href=\"#g2-50\"/>\n",
       "</g>\n",
       "<g transform=\"translate(368.575 337.677)scale(.996264)\">\n",
       "<path d=\"M268.948 320.491L428.042 382.403L472.43 346.796\" fill=\"none\" stroke=\"#ff0000\" stroke-dasharray=\"2.25368,2.25368,2.25368,2.25368\" stroke-linecap=\"round\" stroke-linejoin=\"round\" stroke-miterlimit=\"10.0375\" stroke-width=\"0.284528\"/>\n",
       "</g>\n",
       "</g>\n",
       "</svg>"
      ],
      "text/plain": [
       "<IPython.core.display.SVG object>"
      ]
     },
     "execution_count": 169,
     "metadata": {},
     "output_type": "execute_result"
    }
   ],
   "source": [
    "%%asy --fmt svg\n",
    "import geometry;\n",
    "import coordenades;\n",
    "import graph;\n",
    "\n",
    "unitsize(1cm);\n",
    "srand(seconds());\n",
    "pair o = (0,0), \n",
    "    u1 = (1,0.5+unitrand()),\n",
    "    v1 = (3,4),\n",
    "    v2 = (-1,-4);\n",
    "real a = 120;\n",
    "\n",
    "transform tr = (0,0,Cos(a),-Sin(a),Sin(a),Cos(a));\n",
    "u1 = 2 * u1 / length(u1);\n",
    "pair u2 = tr * u1;\n",
    "u2 = 3/2 * u2 / length(u2);\n",
    "    \n",
    "Canonica(-11,11,-10,10);\n",
    "picture p = Coordenades(-6,6,-7,7,color=red,ticky=0.08,tickx=0.17,base=true,quadricula=false);\n",
    "draw(p,o--v1,blue+linewidth(0.55mm),Arrow(6));\n",
    "label(p,\"$\\vec v_1$\",v1,N,blue);\n",
    "draw(p,(v1.x,0)--v1--(0,v1.y),linetype(\"8 8 8 8\")+linewidth(0.1mm)+red);\n",
    "draw(p,o--v2,blue+linewidth(0.55mm),Arrow(6));\n",
    "label(p,\"$\\vec v_2$\",v2,S,blue);\n",
    "draw(p,(v2.x,0)--v2--(0,v2.y),linetype(\"8 8 8 8\")+linewidth(0.1mm)+red);\n",
    "transform b = Base(u1,u2);\n",
    "add(b * p);"
   ]
  },
  {
   "cell_type": "markdown",
   "metadata": {},
   "source": [
    "La matriu de Gram de la base $\\mathcal{B}'$ és\n",
    "$$\n",
    "  G=\\left(\\begin{array}{rr}\n",
    "   4 & -\\frac{3}{2}\\\\\n",
    "   -\\frac{3}{2} & \\frac{9}{4} \n",
    "  \\end{array}\\right)=\n",
    "  \\frac{1}{4}\\left(\\begin{array}{rr}\n",
    "   16 & -6\\\\\n",
    "   -6 &  9 \n",
    "  \\end{array}\\right)\\,, \n",
    "$$\n",
    "Aleshores,"
   ]
  },
  {
   "cell_type": "code",
   "execution_count": 170,
   "metadata": {},
   "outputs": [
    {
     "data": {
      "text/html": [
       "<html>\\(\\displaystyle 6\\)</html>"
      ],
      "text/latex": [
       "$\\displaystyle 6$"
      ],
      "text/plain": [
       "6"
      ]
     },
     "metadata": {},
     "output_type": "display_data"
    }
   ],
   "source": [
    "G = 1/4*matrix([[16,-6],[-6,9]])\n",
    "v1 = vector([3,4])\n",
    "v2 = vector([-1,-4])\n",
    "n1 = sqrt(v1*G*v1)\n",
    "show(n1)"
   ]
  },
  {
   "cell_type": "code",
   "execution_count": 171,
   "metadata": {},
   "outputs": [
    {
     "data": {
      "text/html": [
       "<html>\\(\\displaystyle 2 \\, \\sqrt{7}\\)</html>"
      ],
      "text/latex": [
       "$\\displaystyle 2 \\, \\sqrt{7}$"
      ],
      "text/plain": [
       "2*sqrt(7)"
      ]
     },
     "metadata": {},
     "output_type": "display_data"
    }
   ],
   "source": [
    "n2 = sqrt(v2*G*v2)\n",
    "show(n2)"
   ]
  },
  {
   "cell_type": "code",
   "execution_count": 172,
   "metadata": {},
   "outputs": [
    {
     "data": {
      "text/html": [
       "<html>\\(\\displaystyle -24\\)</html>"
      ],
      "text/latex": [
       "$\\displaystyle -24$"
      ],
      "text/plain": [
       "-24"
      ]
     },
     "metadata": {},
     "output_type": "display_data"
    }
   ],
   "source": [
    "p12 = v1*G*v2\n",
    "show(p12)"
   ]
  },
  {
   "cell_type": "code",
   "execution_count": 173,
   "metadata": {},
   "outputs": [
    {
     "data": {
      "text/html": [
       "<html>\\(\\displaystyle 139.11\\)</html>"
      ],
      "text/latex": [
       "$\\displaystyle 139.11$"
      ],
      "text/plain": [
       "139.11"
      ]
     },
     "metadata": {},
     "output_type": "display_data"
    }
   ],
   "source": [
    "a = N(acos(p12/(n1*n2))*180/pi,digits=5)\n",
    "show(a)"
   ]
  },
  {
   "cell_type": "markdown",
   "metadata": {},
   "source": [
    "Per tant, $||\\vec v_1||=6$, $||\\vec v_2||=2\\sqrt{7}$ i $\\vec v_1$ i $\\vec v_2$ formen un angle de $139.11^\\circ$."
   ]
  }
 ],
 "metadata": {
  "kernelspec": {
   "display_name": "SageMath 10.6",
   "language": "sage",
   "name": "sagemath"
  },
  "language_info": {
   "codemirror_mode": {
    "name": "ipython",
    "version": 3
   },
   "file_extension": ".py",
   "mimetype": "text/x-python",
   "name": "python",
   "nbconvert_exporter": "python",
   "pygments_lexer": "ipython3",
   "version": "3.13.5"
  }
 },
 "nbformat": 4,
 "nbformat_minor": 4
}
