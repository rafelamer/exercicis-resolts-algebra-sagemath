{
 "cells": [
  {
   "cell_type": "markdown",
   "metadata": {},
   "source": [
    "# Tema 6"
   ]
  },
  {
   "cell_type": "markdown",
   "metadata": {},
   "source": [
    "## Exercici 1\n",
    "Analitzeu si la matriu\n",
    "$$\n",
    "  A=\\left(\\begin{array}{rr}\n",
    "  1 & -1\\\\\n",
    "  1 &  1\n",
    "  \\end{array}\\right)\n",
    "$$\n",
    "és o no diagonalitzable i, en cas afirmatiu, diagonalitzeu-la."
   ]
  },
  {
   "cell_type": "markdown",
   "metadata": {},
   "source": [
    "Càlcul del polinomi característic i dels valors propis:"
   ]
  },
  {
   "cell_type": "code",
   "execution_count": 1,
   "metadata": {},
   "outputs": [
    {
     "data": {
      "text/html": [
       "<html>\\(\\displaystyle x^{2} - 2x + 2\\)</html>"
      ],
      "text/latex": [
       "$\\displaystyle x^{2} - 2x + 2$"
      ],
      "text/plain": [
       "x^2 - 2*x + 2"
      ]
     },
     "metadata": {},
     "output_type": "display_data"
    }
   ],
   "source": [
    "A = matrix([[1,-1],[1,1]])\n",
    "p = A.charpoly()\n",
    "show(p)"
   ]
  },
  {
   "cell_type": "code",
   "execution_count": 2,
   "metadata": {},
   "outputs": [
    {
     "data": {
      "text/html": [
       "<html>\\(\\displaystyle \\left[\\right]\\)</html>"
      ],
      "text/latex": [
       "$\\displaystyle \\left[\\right]$"
      ],
      "text/plain": [
       "[]"
      ]
     },
     "metadata": {},
     "output_type": "display_data"
    }
   ],
   "source": [
    "show(p.roots())"
   ]
  },
  {
   "cell_type": "code",
   "execution_count": 3,
   "metadata": {},
   "outputs": [
    {
     "data": {
      "text/html": [
       "<html>\\(\\displaystyle \\left[x = \\left(-i + 1\\right), x = \\left(i + 1\\right)\\right]\\)</html>"
      ],
      "text/latex": [
       "$\\displaystyle \\left[x = \\left(-i + 1\\right), x = \\left(i + 1\\right)\\right]$"
      ],
      "text/plain": [
       "[x == (-I + 1), x == (I + 1)]"
      ]
     },
     "metadata": {},
     "output_type": "display_data"
    }
   ],
   "source": [
    "x = var('x')\n",
    "show(solve(x^2-2*x+2==0,x))"
   ]
  },
  {
   "cell_type": "markdown",
   "metadata": {},
   "source": [
    "La matriu $A$ no té valors propis reals, per tant, no és diagonalitzable sobre els reals."
   ]
  },
  {
   "cell_type": "markdown",
   "metadata": {},
   "source": [
    "## Exercici 2\n",
    "Analitzeu si la matriu\n",
    "$$\n",
    "  A=\\left(\\begin{array}{rr}\n",
    "   0 & -2 \\\\\n",
    "   2 &  4  \n",
    "  \\end{array}\\right)\n",
    "$$\n",
    "és o no diagonalitzable i, en cas afirmatiu, diagonalitzeu-la."
   ]
  },
  {
   "cell_type": "code",
   "execution_count": 4,
   "metadata": {},
   "outputs": [
    {
     "data": {
      "text/html": [
       "<html>\\(\\displaystyle x^{2} - 4x + 4\\)</html>"
      ],
      "text/latex": [
       "$\\displaystyle x^{2} - 4x + 4$"
      ],
      "text/plain": [
       "x^2 - 4*x + 4"
      ]
     },
     "metadata": {},
     "output_type": "display_data"
    }
   ],
   "source": [
    "A = matrix([[0,-2],[2,4]])\n",
    "p = A.charpoly()\n",
    "show(p)"
   ]
  },
  {
   "cell_type": "code",
   "execution_count": 5,
   "metadata": {},
   "outputs": [
    {
     "data": {
      "text/html": [
       "<html>\\(\\displaystyle \\left[\\left(2, 2\\right)\\right]\\)</html>"
      ],
      "text/latex": [
       "$\\displaystyle \\left[\\left(2, 2\\right)\\right]$"
      ],
      "text/plain": [
       "[(2, 2)]"
      ]
     },
     "metadata": {},
     "output_type": "display_data"
    }
   ],
   "source": [
    "show(p.roots())"
   ]
  },
  {
   "cell_type": "markdown",
   "metadata": {},
   "source": [
    "La matriu $A$ té el valor propi $\\lambda_1=2$ amb multiplicitat 2. Per saber si és diagonalitzable, hem de resoldre el sistema\n",
    "$$\n",
    "  \\left(\\begin{array}{rr}\n",
    "   0 & -2 \\\\\n",
    "   2 &  4  \n",
    "  \\end{array}\\right)\n",
    "  \\left(\\begin{array}{c} x\\\\ y \\end{array}\\right)\n",
    "  = 2\\left(\\begin{array}{c} x\\\\ y \\end{array}\\right)\\,.\n",
    "$$"
   ]
  },
  {
   "cell_type": "code",
   "execution_count": 6,
   "metadata": {},
   "outputs": [
    {
     "data": {
      "text/html": [
       "<html>\\(\\displaystyle \\left[\\left[x = -r_{1}, y = r_{1}\\right]\\right]\\)</html>"
      ],
      "text/latex": [
       "$\\displaystyle \\left[\\left[x = -r_{1}, y = r_{1}\\right]\\right]$"
      ],
      "text/plain": [
       "[[x == -r1, y == r1]]"
      ]
     },
     "metadata": {},
     "output_type": "display_data"
    }
   ],
   "source": [
    "x, y = var('x y')\n",
    "X = vector([x,y])\n",
    "AX = A * X\n",
    "show(solve([AX[i] == 2*X[i] for i in range(2)],[x,y]))"
   ]
  },
  {
   "cell_type": "markdown",
   "metadata": {},
   "source": [
    "El vectors propis amb valor propi 2 formen la recta vectorial generada pel vector $(-1,1)$. La matriu no és diagonalitzable."
   ]
  },
  {
   "cell_type": "markdown",
   "metadata": {},
   "source": [
    "## Exercici 3\n",
    "Analitzeu si la matriu següent és diagonalitzable\n",
    "$$\n",
    "  A=\\left(\\begin{array}{rr}\n",
    "   3 & 4 \\\\\n",
    "   2 & 1  \n",
    "  \\end{array}\\right)\n",
    "$$\n",
    "i, en cas afirmatiu, expresseu-la en funció de la matriu diagonal i de la de canvi de base."
   ]
  },
  {
   "cell_type": "code",
   "execution_count": 7,
   "metadata": {},
   "outputs": [
    {
     "data": {
      "text/html": [
       "<html>\\(\\displaystyle x^{2} - 4x - 5\\)</html>"
      ],
      "text/latex": [
       "$\\displaystyle x^{2} - 4x - 5$"
      ],
      "text/plain": [
       "x^2 - 4*x - 5"
      ]
     },
     "metadata": {},
     "output_type": "display_data"
    }
   ],
   "source": [
    "A = matrix([[3,4],[2,1]])\n",
    "p = A.charpoly()\n",
    "show(p)"
   ]
  },
  {
   "cell_type": "code",
   "execution_count": 8,
   "metadata": {},
   "outputs": [
    {
     "data": {
      "text/html": [
       "<html>\\(\\displaystyle \\left[\\left(5, 1\\right), \\left(-1, 1\\right)\\right]\\)</html>"
      ],
      "text/latex": [
       "$\\displaystyle \\left[\\left(5, 1\\right), \\left(-1, 1\\right)\\right]$"
      ],
      "text/plain": [
       "[(5, 1), (-1, 1)]"
      ]
     },
     "metadata": {},
     "output_type": "display_data"
    }
   ],
   "source": [
    "show(p.roots())"
   ]
  },
  {
   "cell_type": "markdown",
   "metadata": {},
   "source": [
    "Els valors propis de $A$ són $\\lambda_1=5$ i $\\lambda_2=-1$."
   ]
  },
  {
   "cell_type": "markdown",
   "metadata": {},
   "source": [
    "Vectors propis amb valor propi $\\lambda_1=5$:"
   ]
  },
  {
   "cell_type": "code",
   "execution_count": 9,
   "metadata": {},
   "outputs": [
    {
     "data": {
      "text/html": [
       "<html>\\(\\displaystyle \\left[\\left[x = 2 \\, r_{2}, y = r_{2}\\right]\\right]\\)</html>"
      ],
      "text/latex": [
       "$\\displaystyle \\left[\\left[x = 2 \\, r_{2}, y = r_{2}\\right]\\right]$"
      ],
      "text/plain": [
       "[[x == 2*r2, y == r2]]"
      ]
     },
     "metadata": {},
     "output_type": "display_data"
    }
   ],
   "source": [
    "x, y = var('x y')\n",
    "X = vector([x,y])\n",
    "AX = A * X\n",
    "show(solve([AX[i] == 5*X[i] for i in range(2)],[x,y]))"
   ]
  },
  {
   "cell_type": "markdown",
   "metadata": {},
   "source": [
    "$V_5$ és la recta vectorial generada pel vector $(2,1)$."
   ]
  },
  {
   "cell_type": "markdown",
   "metadata": {},
   "source": [
    "Vectors propis amb valor propi $\\lambda_2=-1$:"
   ]
  },
  {
   "cell_type": "code",
   "execution_count": 10,
   "metadata": {},
   "outputs": [
    {
     "data": {
      "text/html": [
       "<html>\\(\\displaystyle \\left[\\left[x = -r_{3}, y = r_{3}\\right]\\right]\\)</html>"
      ],
      "text/latex": [
       "$\\displaystyle \\left[\\left[x = -r_{3}, y = r_{3}\\right]\\right]$"
      ],
      "text/plain": [
       "[[x == -r3, y == r3]]"
      ]
     },
     "metadata": {},
     "output_type": "display_data"
    }
   ],
   "source": [
    "show(solve([AX[i] == -X[i] for i in range(2)],[x,y]))"
   ]
  },
  {
   "cell_type": "markdown",
   "metadata": {},
   "source": [
    "$V_{-1}$ és la recta vectorial generada pel vector $(-1,1)$."
   ]
  },
  {
   "cell_type": "markdown",
   "metadata": {},
   "source": [
    "Hi ha dues maneres d'enunciar el resultat d'una diagonalització:\n",
    "1. Si $T$ és la transformació lineal que en la base canònica tè representació\n",
    "$$\n",
    "  \\left(\\begin{array}{c} u\\\\ v \\end{array}\\right)\n",
    "  = \\left(\\begin{array}{rr}\n",
    "   3 & 4 \\\\\n",
    "   2 & 1  \n",
    "  \\end{array}\\right)\n",
    "  \\left(\\begin{array}{c} x\\\\ y \\end{array}\\right)\\,,\n",
    "$$\n",
    "la seva representació en la base $\\mathcal{B}'=\\{(2,1),(-1,1)\\}$ és\n",
    "$$\n",
    "  \\left(\\begin{array}{c} u'\\\\ v' \\end{array}\\right)\n",
    "  = \\left(\\begin{array}{rr}\n",
    "   5 &  0 \\\\\n",
    "   0 & -1  \n",
    "  \\end{array}\\right)\n",
    "  \\left(\\begin{array}{c} x'\\\\ y' \\end{array}\\right)\\,\n",
    "$$\n",
    "1. Donada la matriu\n",
    "$$\n",
    "  A = \\left(\\begin{array}{rr}\n",
    "   3 & 4 \\\\\n",
    "   2 & 1  \n",
    "  \\end{array}\\right)\\,,\n",
    "$$\n",
    "hem trobat una matriu\n",
    "$$\n",
    "  C = \\left(\\begin{array}{rr}\n",
    "   2 & -1 \\\\\n",
    "   1 &  1  \n",
    "  \\end{array}\\right)\n",
    "$$\n",
    "tal que $C^{-1}AC$ és la matriu diagonal formada pels valors propis de $A$, és a dir,\n",
    "$$\n",
    "  \\left(\\begin{array}{rr}\n",
    "   2 & -1 \\\\\n",
    "   1 &  1  \n",
    "  \\end{array}\\right)^{-1}\n",
    "  \\left(\\begin{array}{rr}\n",
    "   3 & 4 \\\\\n",
    "   2 & 1  \n",
    "  \\end{array}\\right)\n",
    "  \\left(\\begin{array}{rr}\n",
    "   2 & -1 \\\\\n",
    "   1 &  1  \n",
    "  \\end{array}\\right)\n",
    "  =  \\left(\\begin{array}{rr}\n",
    "   5 &  0 \\\\\n",
    "   0 & -1  \n",
    "  \\end{array}\\right)\\,.\n",
    "$$"
   ]
  },
  {
   "cell_type": "markdown",
   "metadata": {},
   "source": [
    "Comprovem-ho:"
   ]
  },
  {
   "cell_type": "code",
   "execution_count": 11,
   "metadata": {},
   "outputs": [
    {
     "data": {
      "text/html": [
       "<html>\\(\\displaystyle \\left(\\begin{array}{rr}\n",
       "5 & 0 \\\\\n",
       "0 & -1\n",
       "\\end{array}\\right)\\)</html>"
      ],
      "text/latex": [
       "$\\displaystyle \\left(\\begin{array}{rr}\n",
       "5 & 0 \\\\\n",
       "0 & -1\n",
       "\\end{array}\\right)$"
      ],
      "text/plain": [
       "[ 5  0]\n",
       "[ 0 -1]"
      ]
     },
     "metadata": {},
     "output_type": "display_data"
    }
   ],
   "source": [
    "C = matrix([[2,-1],[1,1]])\n",
    "show(C.inverse()*A*C)"
   ]
  },
  {
   "cell_type": "markdown",
   "metadata": {},
   "source": [
    "## Exercici 4\n",
    "Analitzeu si la matriu\n",
    "$$\n",
    "  A=\\left(\\begin{array}{rrr}\n",
    "  1 & 1 & 1 \\\\\n",
    "  0 & 1 & 0 \\\\\n",
    "  0 & 0 & 1\n",
    "\\end{array}\\right)\n",
    "$$\n",
    "és o no diagonalitzable i, en cas afirmatiu, diagonalitzeu-la."
   ]
  },
  {
   "cell_type": "code",
   "execution_count": 12,
   "metadata": {},
   "outputs": [
    {
     "data": {
      "text/html": [
       "<html>\\(\\displaystyle x^{3} - 3x^{2} + 3x - 1\\)</html>"
      ],
      "text/latex": [
       "$\\displaystyle x^{3} - 3x^{2} + 3x - 1$"
      ],
      "text/plain": [
       "x^3 - 3*x^2 + 3*x - 1"
      ]
     },
     "metadata": {},
     "output_type": "display_data"
    }
   ],
   "source": [
    "A = matrix([[1,1,1],[0,1,0],[0,0,1]])\n",
    "p = A.charpoly()\n",
    "show(p)"
   ]
  },
  {
   "cell_type": "code",
   "execution_count": 13,
   "metadata": {},
   "outputs": [
    {
     "data": {
      "text/html": [
       "<html>\\(\\displaystyle \\left[\\left(1, 3\\right)\\right]\\)</html>"
      ],
      "text/latex": [
       "$\\displaystyle \\left[\\left(1, 3\\right)\\right]$"
      ],
      "text/plain": [
       "[(1, 3)]"
      ]
     },
     "metadata": {},
     "output_type": "display_data"
    }
   ],
   "source": [
    "show(p.roots())"
   ]
  },
  {
   "cell_type": "markdown",
   "metadata": {},
   "source": [
    "La matriu  A  té el valor propi $\\lambda_1=1$ amb multiplicitat 3. Calculem els vectors propis:"
   ]
  },
  {
   "cell_type": "code",
   "execution_count": 14,
   "metadata": {},
   "outputs": [
    {
     "data": {
      "text/html": [
       "<html>\\(\\displaystyle \\left[\\left[x = r_{5}, y = -r_{4}, z = r_{4}\\right]\\right]\\)</html>"
      ],
      "text/latex": [
       "$\\displaystyle \\left[\\left[x = r_{5}, y = -r_{4}, z = r_{4}\\right]\\right]$"
      ],
      "text/plain": [
       "[[x == r5, y == -r4, z == r4]]"
      ]
     },
     "metadata": {},
     "output_type": "display_data"
    }
   ],
   "source": [
    "x, y, z = var('x y z')\n",
    "X = vector([x,y,z])\n",
    "AX = A * X\n",
    "show(solve([AX[i] == X[i] for i in range(3)],[x,y,z]))"
   ]
  },
  {
   "cell_type": "markdown",
   "metadata": {},
   "source": [
    "$V_1$ és el pla vectorial generat pels vectors $(1,0,0)$ i $(0,-1,1)$. La matriu $A$ no és diagonalitzable."
   ]
  },
  {
   "cell_type": "markdown",
   "metadata": {},
   "source": [
    "## Exercici 5\n",
    "Analitzeu si la matriu\n",
    "$$\n",
    "  A=\\left(\\begin{array}{rrr}\n",
    "  -2 &  5 & -1 \\\\\n",
    "  -1 &  4 & -1 \\\\\n",
    "   4 & -3 &  3\n",
    "  \\end{array}\\right)\n",
    "$$\n",
    "és o no diagonalitzable i, en cas afirmatiu, diagonalitzeu-la."
   ]
  },
  {
   "cell_type": "code",
   "execution_count": 15,
   "metadata": {},
   "outputs": [
    {
     "data": {
      "text/html": [
       "<html>\\(\\displaystyle x^{3} - 5x^{2} + 4x + 10\\)</html>"
      ],
      "text/latex": [
       "$\\displaystyle x^{3} - 5x^{2} + 4x + 10$"
      ],
      "text/plain": [
       "x^3 - 5*x^2 + 4*x + 10"
      ]
     },
     "metadata": {},
     "output_type": "display_data"
    }
   ],
   "source": [
    "A = matrix([[-2,5,-1],[-1,4,-1],[4,-3,3]])\n",
    "p = A.charpoly()\n",
    "show(p)"
   ]
  },
  {
   "cell_type": "code",
   "execution_count": 16,
   "metadata": {},
   "outputs": [
    {
     "data": {
      "text/html": [
       "<html>\\(\\displaystyle \\left[\\left(-1, 1\\right)\\right]\\)</html>"
      ],
      "text/latex": [
       "$\\displaystyle \\left[\\left(-1, 1\\right)\\right]$"
      ],
      "text/plain": [
       "[(-1, 1)]"
      ]
     },
     "metadata": {},
     "output_type": "display_data"
    }
   ],
   "source": [
    "show(p.roots())"
   ]
  },
  {
   "cell_type": "code",
   "execution_count": 17,
   "metadata": {},
   "outputs": [
    {
     "data": {
      "text/html": [
       "<html>\\(\\displaystyle \\left[x = \\left(-i + 3\\right), x = \\left(i + 3\\right), x = \\left(-1\\right)\\right]\\)</html>"
      ],
      "text/latex": [
       "$\\displaystyle \\left[x = \\left(-i + 3\\right), x = \\left(i + 3\\right), x = \\left(-1\\right)\\right]$"
      ],
      "text/plain": [
       "[x == (-I + 3), x == (I + 3), x == -1]"
      ]
     },
     "metadata": {},
     "output_type": "display_data"
    }
   ],
   "source": [
    "x = var('x')\n",
    "show(solve(x^3-5*x^2+4*x+10==0,x))"
   ]
  },
  {
   "cell_type": "markdown",
   "metadata": {},
   "source": [
    "Aquest polinomi només té una arrel real i, per tant, les altres dues són complexes conjugades. Per tant, la matriu $A$ no és diagonalitzable sobre els reals."
   ]
  },
  {
   "cell_type": "markdown",
   "metadata": {},
   "source": [
    "## Exercici 6\n",
    "Analitzeu si la matriu\n",
    "$$\n",
    "  A=\\left(\\begin{array}{rrr}\n",
    "  -1 & 3 & 12 \\\\\n",
    "   1 & 2 & -3 \\\\\n",
    "  -1 & 1 &  6 \n",
    "  \\end{array}\\right)\n",
    "$$\n",
    "és o no diagonalitzable i, en cas afirmatiu, diagonalitzeu-la."
   ]
  },
  {
   "cell_type": "code",
   "execution_count": 18,
   "metadata": {},
   "outputs": [
    {
     "data": {
      "text/html": [
       "<html>\\(\\displaystyle x^{3} - 7x^{2} + 16x - 12\\)</html>"
      ],
      "text/latex": [
       "$\\displaystyle x^{3} - 7x^{2} + 16x - 12$"
      ],
      "text/plain": [
       "x^3 - 7*x^2 + 16*x - 12"
      ]
     },
     "metadata": {},
     "output_type": "display_data"
    }
   ],
   "source": [
    "A = matrix([[-1,3,12],[1,2,-3],[-1,1,6]])\n",
    "p = A.charpoly()\n",
    "show(p)"
   ]
  },
  {
   "cell_type": "code",
   "execution_count": 19,
   "metadata": {},
   "outputs": [
    {
     "data": {
      "text/html": [
       "<html>\\(\\displaystyle \\left[\\left(3, 1\\right), \\left(2, 2\\right)\\right]\\)</html>"
      ],
      "text/latex": [
       "$\\displaystyle \\left[\\left(3, 1\\right), \\left(2, 2\\right)\\right]$"
      ],
      "text/plain": [
       "[(3, 1), (2, 2)]"
      ]
     },
     "metadata": {},
     "output_type": "display_data"
    }
   ],
   "source": [
    "show(p.roots())"
   ]
  },
  {
   "cell_type": "markdown",
   "metadata": {},
   "source": [
    "Els valors propis de la matriu $A$ són $\\lambda_1=3$ (simple) i $\\lambda_2=2$ amb multiplicitat 2."
   ]
  },
  {
   "cell_type": "markdown",
   "metadata": {},
   "source": [
    "Vectors propis de $A$ amb valor propi $\\lambda_1=3$:"
   ]
  },
  {
   "cell_type": "code",
   "execution_count": 20,
   "metadata": {},
   "outputs": [
    {
     "data": {
      "text/html": [
       "<html>\\(\\displaystyle \\left[\\left[x = 3 \\, r_{6}, y = 0, z = r_{6}\\right]\\right]\\)</html>"
      ],
      "text/latex": [
       "$\\displaystyle \\left[\\left[x = 3 \\, r_{6}, y = 0, z = r_{6}\\right]\\right]$"
      ],
      "text/plain": [
       "[[x == 3*r6, y == 0, z == r6]]"
      ]
     },
     "metadata": {},
     "output_type": "display_data"
    }
   ],
   "source": [
    "x, y, z = var('x y z')\n",
    "X = vector([x,y,z])\n",
    "AX = A * X\n",
    "l = 3\n",
    "show(solve([AX[i] == l*X[i] for i in range(3)],[x,y,z]))"
   ]
  },
  {
   "cell_type": "markdown",
   "metadata": {},
   "source": [
    "$V_3$ és la recta generada pel vector $(3,0,1)$."
   ]
  },
  {
   "cell_type": "markdown",
   "metadata": {},
   "source": [
    "Vectors propis de $A$ amb valor propi $\\lambda_2=2$:"
   ]
  },
  {
   "cell_type": "code",
   "execution_count": 21,
   "metadata": {},
   "outputs": [
    {
     "data": {
      "text/html": [
       "<html>\\(\\displaystyle \\left[\\left[x = 3 \\, r_{7}, y = -r_{7}, z = r_{7}\\right]\\right]\\)</html>"
      ],
      "text/latex": [
       "$\\displaystyle \\left[\\left[x = 3 \\, r_{7}, y = -r_{7}, z = r_{7}\\right]\\right]$"
      ],
      "text/plain": [
       "[[x == 3*r7, y == -r7, z == r7]]"
      ]
     },
     "metadata": {},
     "output_type": "display_data"
    }
   ],
   "source": [
    "x, y, z = var('x y z')\n",
    "X = vector([x,y,z])\n",
    "AX = A * X\n",
    "l = 2\n",
    "show(solve([AX[i] == l*X[i] for i in range(3)],[x,y,z]))"
   ]
  },
  {
   "cell_type": "markdown",
   "metadata": {},
   "source": [
    "$V_2$ és la recta generada pel vector $(3,-1,1)$. Com que només hem trobat dos vectors propis linealment independents, la matriu $A$ no és diagonalitzable."
   ]
  },
  {
   "cell_type": "markdown",
   "metadata": {},
   "source": [
    "## Exercici 7\n",
    "Analitzeu si la matriu\n",
    "$$\n",
    "  A=\\left(\\begin{array}{rrr}\n",
    "   1 &  6 &  6 \\\\\n",
    "   2 &  3 &  4 \\\\\n",
    "  -2 & -5 & -6\n",
    "  \\end{array}\\right)\n",
    "$$\n",
    "és diagonalitzable i, en cas afirmatiu, determineu la matriu diagonal i la matriu de canvi de base."
   ]
  },
  {
   "cell_type": "code",
   "execution_count": 22,
   "metadata": {},
   "outputs": [
    {
     "data": {
      "text/html": [
       "<html>\\(\\displaystyle x^{3} + 2x^{2} - x - 2\\)</html>"
      ],
      "text/latex": [
       "$\\displaystyle x^{3} + 2x^{2} - x - 2$"
      ],
      "text/plain": [
       "x^3 + 2*x^2 - x - 2"
      ]
     },
     "metadata": {},
     "output_type": "display_data"
    }
   ],
   "source": [
    "A = matrix([[1,6,6],[2,3,4],[-2,-5,-6]])\n",
    "p = A.charpoly()\n",
    "show(p)"
   ]
  },
  {
   "cell_type": "code",
   "execution_count": 23,
   "metadata": {},
   "outputs": [
    {
     "data": {
      "text/html": [
       "<html>\\(\\displaystyle \\left[\\left(1, 1\\right), \\left(-1, 1\\right), \\left(-2, 1\\right)\\right]\\)</html>"
      ],
      "text/latex": [
       "$\\displaystyle \\left[\\left(1, 1\\right), \\left(-1, 1\\right), \\left(-2, 1\\right)\\right]$"
      ],
      "text/plain": [
       "[(1, 1), (-1, 1), (-2, 1)]"
      ]
     },
     "metadata": {},
     "output_type": "display_data"
    }
   ],
   "source": [
    "show(p.roots())"
   ]
  },
  {
   "cell_type": "markdown",
   "metadata": {},
   "source": [
    "Els valors propis de la matriu $A$ són $\\lambda_1=1$, $\\lambda_2=-1$ i $\\lambda_3=-2$, tots simples. Per aquest motiu, ja podem assegurar que $A$ és diagonalitzable."
   ]
  },
  {
   "cell_type": "markdown",
   "metadata": {},
   "source": [
    "Vectors propis de $A$ amb valor propi $\\lambda_1=1$:"
   ]
  },
  {
   "cell_type": "code",
   "execution_count": 24,
   "metadata": {},
   "outputs": [
    {
     "data": {
      "text/html": [
       "<html>\\(\\displaystyle \\left[\\left[x = -r_{8}, y = -r_{8}, z = r_{8}\\right]\\right]\\)</html>"
      ],
      "text/latex": [
       "$\\displaystyle \\left[\\left[x = -r_{8}, y = -r_{8}, z = r_{8}\\right]\\right]$"
      ],
      "text/plain": [
       "[[x == -r8, y == -r8, z == r8]]"
      ]
     },
     "metadata": {},
     "output_type": "display_data"
    }
   ],
   "source": [
    "x, y, z = var('x y z')\n",
    "X = vector([x,y,z])\n",
    "AX = A * X\n",
    "l = 1\n",
    "show(solve([AX[i] == l*X[i] for i in range(3)],[x,y,z]))"
   ]
  },
  {
   "cell_type": "markdown",
   "metadata": {},
   "source": [
    "$V_1$ és la recta vectorial generada pel vector $(-1,-1,1)$."
   ]
  },
  {
   "cell_type": "markdown",
   "metadata": {},
   "source": [
    "Vectors propis de $A$ amb valor propi $\\lambda_2=-1$:"
   ]
  },
  {
   "cell_type": "code",
   "execution_count": 25,
   "metadata": {},
   "outputs": [
    {
     "data": {
      "text/html": [
       "<html>\\(\\displaystyle \\left[\\left[x = 0, y = -r_{9}, z = r_{9}\\right]\\right]\\)</html>"
      ],
      "text/latex": [
       "$\\displaystyle \\left[\\left[x = 0, y = -r_{9}, z = r_{9}\\right]\\right]$"
      ],
      "text/plain": [
       "[[x == 0, y == -r9, z == r9]]"
      ]
     },
     "metadata": {},
     "output_type": "display_data"
    }
   ],
   "source": [
    "x, y, z = var('x y z')\n",
    "X = vector([x,y,z])\n",
    "AX = A * X\n",
    "l = -1\n",
    "show(solve([AX[i] == l*X[i] for i in range(3)],[x,y,z]))"
   ]
  },
  {
   "cell_type": "markdown",
   "metadata": {},
   "source": [
    "$V_{-1}$ és la recta vectorial generada pel vector $(0,-1,1)$."
   ]
  },
  {
   "cell_type": "markdown",
   "metadata": {},
   "source": [
    "Vectors propis de $A$ amb valor propi $\\lambda_3=-2$:"
   ]
  },
  {
   "cell_type": "code",
   "execution_count": 26,
   "metadata": {},
   "outputs": [
    {
     "data": {
      "text/html": [
       "<html>\\(\\displaystyle \\left[\\left[x = -2 \\, r_{10}, y = 0, z = r_{10}\\right]\\right]\\)</html>"
      ],
      "text/latex": [
       "$\\displaystyle \\left[\\left[x = -2 \\, r_{10}, y = 0, z = r_{10}\\right]\\right]$"
      ],
      "text/plain": [
       "[[x == -2*r10, y == 0, z == r10]]"
      ]
     },
     "metadata": {},
     "output_type": "display_data"
    }
   ],
   "source": [
    "X = vector([x,y,z])\n",
    "AX = A * X\n",
    "l = -2\n",
    "show(solve([AX[i] == l*X[i] for i in range(3)],[x,y,z]))"
   ]
  },
  {
   "cell_type": "markdown",
   "metadata": {},
   "source": [
    "$V_{-2}$ és la recta vectorial generada pel vector $(-2,0,1)$. Ara sí, hem trobat tres vectors propis linealment independents que formen base de $V_3$:\n",
    "$$\n",
    "  \\mathcal{B}'=\\{(-1,-1,1),(0,-1,1),(-2,0,1)\\}\\,.\n",
    "$$"
   ]
  },
  {
   "cell_type": "markdown",
   "metadata": {},
   "source": [
    "Aleshores, si prenem la matriu\n",
    "$$\n",
    "  C=\\left(\\begin{array}{rrr}\n",
    "  -1 &  0 & -2 \\\\\n",
    "  -1 & -1 &  0 \\\\\n",
    "   1 &  1 &  1\n",
    "  \\end{array}\\right),\n",
    "$$\n",
    "tindrem que\n",
    "$$·\n",
    "  \\left(\\begin{array}{rrr}\n",
    "  -1 &  0 & -2 \\\\\n",
    "  -1 & -1 &  0 \\\\\n",
    "   1 &  1 &  1\n",
    "  \\end{array}\\right)^{-1}\n",
    "  \\left(\\begin{array}{rrr}\n",
    "   1 &  6 &  6 \\\\\n",
    "   2 &  3 &  4 \\\\\n",
    "  -2 & -5 & -6\n",
    "  \\end{array}\\right)\n",
    "  \\left(\\begin{array}{rrr}\n",
    "  -1 &  0 & -2 \\\\\n",
    "  -1 & -1 &  0 \\\\\n",
    "   1 &  1 &  1\n",
    "  \\end{array}\\right)\n",
    "  = \\left(\\begin{array}{rrr}\n",
    "   1 &  0 &  0\\\\\n",
    "   0 & -1 &  0\\\\\n",
    "   0 &  0 & -2 \n",
    "  \\end{array}\\right)\\,,\n",
    "$$"
   ]
  },
  {
   "cell_type": "markdown",
   "metadata": {},
   "source": [
    "Comprovació:"
   ]
  },
  {
   "cell_type": "code",
   "execution_count": 27,
   "metadata": {},
   "outputs": [
    {
     "data": {
      "text/html": [
       "<html>\\(\\displaystyle \\left(\\begin{array}{rrr}\n",
       "1 & 0 & 0 \\\\\n",
       "0 & -1 & 0 \\\\\n",
       "0 & 0 & -2\n",
       "\\end{array}\\right)\\)</html>"
      ],
      "text/latex": [
       "$\\displaystyle \\left(\\begin{array}{rrr}\n",
       "1 & 0 & 0 \\\\\n",
       "0 & -1 & 0 \\\\\n",
       "0 & 0 & -2\n",
       "\\end{array}\\right)$"
      ],
      "text/plain": [
       "[ 1  0  0]\n",
       "[ 0 -1  0]\n",
       "[ 0  0 -2]"
      ]
     },
     "metadata": {},
     "output_type": "display_data"
    }
   ],
   "source": [
    "C = matrix([[-1,0,-2],[-1,-1,0],[1,1,1]])\n",
    "show(C.inverse()*A*C)"
   ]
  },
  {
   "cell_type": "markdown",
   "metadata": {},
   "source": [
    "## Exercici 8\n",
    "Analitzeu si la matriu següent és diagonalitzable\n",
    "$$\n",
    "  A=\\frac{1}{2}\\left(\\begin{array}{rrr}\n",
    "   1 & -2 & -1\\\\\n",
    "  -1 &  0 & -1\\\\\n",
    "  -1 & -2 &  1\n",
    "  \\end{array}\\right)\n",
    "$$\n",
    "i, en cas afirmatiu, expresseu la matriu diagonal en funció de la matriu $A$ i de la de canvi de base."
   ]
  },
  {
   "cell_type": "code",
   "execution_count": 28,
   "metadata": {},
   "outputs": [
    {
     "data": {
      "text/html": [
       "<html>\\(\\displaystyle x^{3} - x^{2} - x + 1\\)</html>"
      ],
      "text/latex": [
       "$\\displaystyle x^{3} - x^{2} - x + 1$"
      ],
      "text/plain": [
       "x^3 - x^2 - x + 1"
      ]
     },
     "metadata": {},
     "output_type": "display_data"
    }
   ],
   "source": [
    "A = 1/2*matrix([[1,-2,-1],[-1,0,-1],[-1,-2,1]])\n",
    "p = A.charpoly()\n",
    "show(p)"
   ]
  },
  {
   "cell_type": "code",
   "execution_count": 29,
   "metadata": {},
   "outputs": [
    {
     "data": {
      "text/html": [
       "<html>\\(\\displaystyle \\left[\\left(-1, 1\\right), \\left(1, 2\\right)\\right]\\)</html>"
      ],
      "text/latex": [
       "$\\displaystyle \\left[\\left(-1, 1\\right), \\left(1, 2\\right)\\right]$"
      ],
      "text/plain": [
       "[(-1, 1), (1, 2)]"
      ]
     },
     "metadata": {},
     "output_type": "display_data"
    }
   ],
   "source": [
    "show(p.roots())"
   ]
  },
  {
   "cell_type": "markdown",
   "metadata": {},
   "source": [
    "Els valors propis de la matriu $A$ són $\\lambda_1=1$ (doble) i $\\lambda_2=-1$ (simple)."
   ]
  },
  {
   "cell_type": "markdown",
   "metadata": {},
   "source": [
    "Vectors propis de $A$ amb valor propi $\\lambda_1=1$:"
   ]
  },
  {
   "cell_type": "code",
   "execution_count": 30,
   "metadata": {},
   "outputs": [
    {
     "data": {
      "text/html": [
       "<html>\\(\\displaystyle \\left[\\left[x = -r_{11} - 2 \\, r_{12}, y = r_{12}, z = r_{11}\\right]\\right]\\)</html>"
      ],
      "text/latex": [
       "$\\displaystyle \\left[\\left[x = -r_{11} - 2 \\, r_{12}, y = r_{12}, z = r_{11}\\right]\\right]$"
      ],
      "text/plain": [
       "[[x == -r11 - 2*r12, y == r12, z == r11]]"
      ]
     },
     "metadata": {},
     "output_type": "display_data"
    }
   ],
   "source": [
    "X = vector([x,y,z])\n",
    "AX = A * X\n",
    "l = 1\n",
    "show(solve([AX[i] == l*X[i] for i in range(3)],[x,y,z]))"
   ]
  },
  {
   "cell_type": "markdown",
   "metadata": {},
   "source": [
    "$V_1$ és el pla vectorial generat pels vectors $(1,0,-1)$ i $(2,-1,0)$."
   ]
  },
  {
   "cell_type": "markdown",
   "metadata": {},
   "source": [
    "Vectors propis de $A$ amb valor propi $\\lambda_1=-1$:"
   ]
  },
  {
   "cell_type": "code",
   "execution_count": 31,
   "metadata": {},
   "outputs": [
    {
     "data": {
      "text/html": [
       "<html>\\(\\displaystyle \\left[\\left[x = r_{13}, y = r_{13}, z = r_{13}\\right]\\right]\\)</html>"
      ],
      "text/latex": [
       "$\\displaystyle \\left[\\left[x = r_{13}, y = r_{13}, z = r_{13}\\right]\\right]$"
      ],
      "text/plain": [
       "[[x == r13, y == r13, z == r13]]"
      ]
     },
     "metadata": {},
     "output_type": "display_data"
    }
   ],
   "source": [
    "X = vector([x,y,z])\n",
    "AX = A * X\n",
    "l = -1\n",
    "show(solve([AX[i] == l*X[i] for i in range(3)],[x,y,z]))"
   ]
  },
  {
   "cell_type": "markdown",
   "metadata": {},
   "source": [
    "$V_{-1}$ és la recta vectorial generada pel vector $(1,1,1)$. Com que hem trobat tres vectors propis linealment independents, tenim que la base de $V_3$\n",
    "$$\n",
    "  \\mathcal{B}'=\\{1,0,-1),(2,-1,0),(1,1,1)\\}\n",
    "$$\n",
    "està formada per vectors propis de $A$."
   ]
  },
  {
   "cell_type": "markdown",
   "metadata": {},
   "source": [
    "Aleshores, si prenem la matriu\n",
    "$$\n",
    "  C=\\left(\\begin{array}{rrr}\n",
    "   1 &  2 & 1 \\\\\n",
    "   0 & -1 & 1 \\\\\n",
    "  -1 &  0 & 1\n",
    "  \\end{array}\\right),\n",
    "$$\n",
    "tindrem que\n",
    "$$·\n",
    "  \\left(\\begin{array}{rrr}\n",
    "  1 &  2 & 1 \\\\\n",
    "   0 & -1 & 1 \\\\\n",
    "  -1 &  0 & 1\n",
    "  \\end{array}\\right)^{-1}\n",
    "  \\frac{1}{2}\\left(\\begin{array}{rrr}\n",
    "   1 & -2 & -1\\\\\n",
    "  -1 &  0 & -1\\\\\n",
    "  -1 & -2 &  1\n",
    "  \\end{array}\\right)\n",
    "  \\left(\\begin{array}{rrr}\n",
    "   1 &  2 & 1 \\\\\n",
    "   0 & -1 & 1 \\\\\n",
    "  -1 &  0 & 1\n",
    "  \\end{array}\\right)\n",
    "  = \\left(\\begin{array}{rrr}\n",
    "   1 & 0 &  0\\\\\n",
    "   0 & 1 &  0\\\\\n",
    "   0 & 0 & -1 \n",
    "  \\end{array}\\right)\\,.\n",
    "$$"
   ]
  },
  {
   "cell_type": "markdown",
   "metadata": {},
   "source": [
    "Comprovació:"
   ]
  },
  {
   "cell_type": "code",
   "execution_count": 32,
   "metadata": {},
   "outputs": [
    {
     "data": {
      "text/html": [
       "<html>\\(\\displaystyle \\left(\\begin{array}{rrr}\n",
       "1 & 0 & 0 \\\\\n",
       "0 & 1 & 0 \\\\\n",
       "0 & 0 & -1\n",
       "\\end{array}\\right)\\)</html>"
      ],
      "text/latex": [
       "$\\displaystyle \\left(\\begin{array}{rrr}\n",
       "1 & 0 & 0 \\\\\n",
       "0 & 1 & 0 \\\\\n",
       "0 & 0 & -1\n",
       "\\end{array}\\right)$"
      ],
      "text/plain": [
       "[ 1  0  0]\n",
       "[ 0  1  0]\n",
       "[ 0  0 -1]"
      ]
     },
     "metadata": {},
     "output_type": "display_data"
    }
   ],
   "source": [
    "C = matrix([[1,0,-1],[2,-1,0],[1,1,1]]).T\n",
    "show(C.inverse()*A*C)"
   ]
  },
  {
   "cell_type": "markdown",
   "metadata": {},
   "source": [
    "## Exercici 9\n",
    "Analitzeu si la transformació lineal $T:V_2\\longrightarrow V_2$ que en la base canònica té representació\n",
    "$$\n",
    "  \\left(\\begin{array}{c} u\\\\ v \\end{array}\\right)\n",
    "  = \\left(\\begin{array}{rr}\n",
    "  2 & -1\\\\\n",
    "  1 &  4\n",
    "  \\end{array}\\right)\n",
    "  \\left(\\begin{array}{c} x\\\\ y \\end{array}\\right)\n",
    "$$\n",
    "és o no diagonalitzable i, en cas afirmatiu, diagonalitzeu-la."
   ]
  },
  {
   "cell_type": "markdown",
   "metadata": {},
   "source": [
    "El procediment és exactament el mateix que en els exercicis anteriors."
   ]
  },
  {
   "cell_type": "code",
   "execution_count": 33,
   "metadata": {},
   "outputs": [
    {
     "data": {
      "text/html": [
       "<html>\\(\\displaystyle x^{2} - 6x + 9\\)</html>"
      ],
      "text/latex": [
       "$\\displaystyle x^{2} - 6x + 9$"
      ],
      "text/plain": [
       "x^2 - 6*x + 9"
      ]
     },
     "metadata": {},
     "output_type": "display_data"
    }
   ],
   "source": [
    "A = matrix([[2,-1],[1,4]])\n",
    "p = A.charpoly()\n",
    "show(p)"
   ]
  },
  {
   "cell_type": "code",
   "execution_count": 34,
   "metadata": {},
   "outputs": [
    {
     "data": {
      "text/html": [
       "<html>\\(\\displaystyle \\left[\\left(3, 2\\right)\\right]\\)</html>"
      ],
      "text/latex": [
       "$\\displaystyle \\left[\\left(3, 2\\right)\\right]$"
      ],
      "text/plain": [
       "[(3, 2)]"
      ]
     },
     "metadata": {},
     "output_type": "display_data"
    }
   ],
   "source": [
    "show(p.roots())"
   ]
  },
  {
   "cell_type": "markdown",
   "metadata": {},
   "source": [
    "Els valors propis de $T$ són $\\lambda_1=3$ amb multiciplicat 2."
   ]
  },
  {
   "cell_type": "markdown",
   "metadata": {},
   "source": [
    "Vectors propis de $T$ amb valor propi $\\lambda_1=3$:"
   ]
  },
  {
   "cell_type": "code",
   "execution_count": 35,
   "metadata": {},
   "outputs": [
    {
     "data": {
      "text/html": [
       "<html>\\(\\displaystyle \\left[\\left[x = -r_{14}, y = r_{14}\\right]\\right]\\)</html>"
      ],
      "text/latex": [
       "$\\displaystyle \\left[\\left[x = -r_{14}, y = r_{14}\\right]\\right]$"
      ],
      "text/plain": [
       "[[x == -r14, y == r14]]"
      ]
     },
     "metadata": {},
     "output_type": "display_data"
    }
   ],
   "source": [
    "x, y = var('x y')\n",
    "X = vector([x,y])\n",
    "AX = A * X\n",
    "l = 3\n",
    "show(solve([AX[i] == l*X[i] for i in range(2)],[x,y]))"
   ]
  },
  {
   "cell_type": "markdown",
   "metadata": {},
   "source": [
    "$V_3$ és la recta vectorial generada pel vector $(-1,1)$. Com que no hi ha més vectors propis, no hi cap base de $V_2$ formada per vectors propis de $T$ i aquesta transformació lineal no és diagonalitzable."
   ]
  },
  {
   "cell_type": "markdown",
   "metadata": {},
   "source": [
    "## Exercici 10\n",
    "Analitzeu si la transformació lineal $T$ de $V_2$ que en la base $\\mathcal{B}'=\\{(2,-3),(1,4)\\}$ té representació\n",
    "$$\n",
    "  \\left(\\begin{array}{c} u'\\\\ v' \\end{array}\\right)\n",
    "  = \\left(\\begin{array}{rr}\n",
    "  1 & -3\\\\\n",
    "  1 &  2\n",
    "  \\end{array}\\right)\n",
    "  \\left(\\begin{array}{c} x'\\\\ y' \\end{array}\\right)\n",
    "$$\n",
    "és o no diagonalitzable i, en cas afirmatiu, diagonalitzeu-la."
   ]
  },
  {
   "cell_type": "markdown",
   "metadata": {},
   "source": [
    "En primer lloc, calculem la representació de $T$ en la base canònica:"
   ]
  },
  {
   "cell_type": "code",
   "execution_count": 36,
   "metadata": {},
   "outputs": [
    {
     "data": {
      "text/html": [
       "<html>\\(\\displaystyle \\left(\\begin{array}{rr}\n",
       "0 & -1 \\\\\n",
       "5 & 3\n",
       "\\end{array}\\right)\\)</html>"
      ],
      "text/latex": [
       "$\\displaystyle \\left(\\begin{array}{rr}\n",
       "0 & -1 \\\\\n",
       "5 & 3\n",
       "\\end{array}\\right)$"
      ],
      "text/plain": [
       "[ 0 -1]\n",
       "[ 5  3]"
      ]
     },
     "metadata": {},
     "output_type": "display_data"
    }
   ],
   "source": [
    "A1 = matrix([[1,-3],[1,2]])\n",
    "C = matrix([[2,-3],[1,4]]).T\n",
    "A = C*A1*C.inverse()\n",
    "show(A)"
   ]
  },
  {
   "cell_type": "markdown",
   "metadata": {},
   "source": [
    "És a dir, la representació en la base canònica és\n",
    "$$\n",
    "  \\left(\\begin{array}{c} u\\\\ v \\end{array}\\right)\n",
    "  = \\left(\\begin{array}{rr}\n",
    "  0 & -1\\\\\n",
    "  5 &  3\n",
    "  \\end{array}\\right)\n",
    "  \\left(\\begin{array}{c} x\\\\ y \\end{array}\\right)\\,.\n",
    "$$"
   ]
  },
  {
   "cell_type": "markdown",
   "metadata": {},
   "source": [
    "Aleshores,"
   ]
  },
  {
   "cell_type": "code",
   "execution_count": 37,
   "metadata": {},
   "outputs": [
    {
     "data": {
      "text/html": [
       "<html>\\(\\displaystyle x^{2} - 3 x + 5\\)</html>"
      ],
      "text/latex": [
       "$\\displaystyle x^{2} - 3 x + 5$"
      ],
      "text/plain": [
       "x^2 - 3*x + 5"
      ]
     },
     "metadata": {},
     "output_type": "display_data"
    }
   ],
   "source": [
    "p = A.charpoly()\n",
    "show(p)"
   ]
  },
  {
   "cell_type": "code",
   "execution_count": 38,
   "metadata": {},
   "outputs": [
    {
     "data": {
      "text/html": [
       "<html>\\(\\displaystyle \\left[\\right]\\)</html>"
      ],
      "text/latex": [
       "$\\displaystyle \\left[\\right]$"
      ],
      "text/plain": [
       "[]"
      ]
     },
     "metadata": {},
     "output_type": "display_data"
    }
   ],
   "source": [
    "show(p.roots())"
   ]
  },
  {
   "cell_type": "markdown",
   "metadata": {},
   "source": [
    "Com que les arrels del polinomi característic són complexes conjugades, $T$ no és diagonalizable, és a dir, no existeix cap base de $V_2$ en la que la representació de $T$ sigui diagonal."
   ]
  },
  {
   "cell_type": "markdown",
   "metadata": {},
   "source": [
    "**Observació**: també es pot calcular el polinomi característic a partir de la matriu $A'$:"
   ]
  },
  {
   "cell_type": "code",
   "execution_count": 39,
   "metadata": {},
   "outputs": [
    {
     "data": {
      "text/html": [
       "<html>\\(\\displaystyle x^{2} - 3x + 5\\)</html>"
      ],
      "text/latex": [
       "$\\displaystyle x^{2} - 3x + 5$"
      ],
      "text/plain": [
       "x^2 - 3*x + 5"
      ]
     },
     "metadata": {},
     "output_type": "display_data"
    }
   ],
   "source": [
    "p = A1.charpoly()\n",
    "show(p)"
   ]
  },
  {
   "cell_type": "markdown",
   "metadata": {},
   "source": [
    "## Exercici 11\n",
    "Analitzeu si la transformació lineal $T:V_2\\longrightarrow V_2$ que en la base canònica té la representació següent és o no diagonalitzable i, en cas afirmatiu, diagonalitzeu-la:\n",
    "$$\n",
    "  \\left(\\begin{array}{c} u \\\\ v \\end{array}\\right) = \n",
    "  \\left(\\begin{array}{rr}\n",
    "  1 & 2\\\\\n",
    "  3 & 2\n",
    "  \\end{array}\\right)\n",
    "  \\left(\\begin{array}{c} x \\\\ y \\end{array}\\right)\n",
    "$$"
   ]
  },
  {
   "cell_type": "code",
   "execution_count": 40,
   "metadata": {},
   "outputs": [
    {
     "data": {
      "text/html": [
       "<html>\\(\\displaystyle x^{2} - 3x - 4\\)</html>"
      ],
      "text/latex": [
       "$\\displaystyle x^{2} - 3x - 4$"
      ],
      "text/plain": [
       "x^2 - 3*x - 4"
      ]
     },
     "metadata": {},
     "output_type": "display_data"
    }
   ],
   "source": [
    "A = matrix([[1,2],[3,2]])\n",
    "p = A.charpoly()\n",
    "show(p)"
   ]
  },
  {
   "cell_type": "code",
   "execution_count": 41,
   "metadata": {},
   "outputs": [
    {
     "data": {
      "text/html": [
       "<html>\\(\\displaystyle \\left[\\left(4, 1\\right), \\left(-1, 1\\right)\\right]\\)</html>"
      ],
      "text/latex": [
       "$\\displaystyle \\left[\\left(4, 1\\right), \\left(-1, 1\\right)\\right]$"
      ],
      "text/plain": [
       "[(4, 1), (-1, 1)]"
      ]
     },
     "metadata": {},
     "output_type": "display_data"
    }
   ],
   "source": [
    "show(p.roots())"
   ]
  },
  {
   "cell_type": "markdown",
   "metadata": {},
   "source": [
    "Els valors propis de $T$ són $\\lambda_1=4$ i $\\lambda_2=-1$; per tant, la transformació lineal és diagonalitzable."
   ]
  },
  {
   "cell_type": "markdown",
   "metadata": {},
   "source": [
    "Vectors propis de $T$ amb valor propi $\\lambda_1=4$:"
   ]
  },
  {
   "cell_type": "code",
   "execution_count": 42,
   "metadata": {},
   "outputs": [
    {
     "data": {
      "text/html": [
       "<html>\\(\\displaystyle \\left[\\left[x = \\frac{2}{3} \\, r_{15}, y = r_{15}\\right]\\right]\\)</html>"
      ],
      "text/latex": [
       "$\\displaystyle \\left[\\left[x = \\frac{2}{3} \\, r_{15}, y = r_{15}\\right]\\right]$"
      ],
      "text/plain": [
       "[[x == 2/3*r15, y == r15]]"
      ]
     },
     "metadata": {},
     "output_type": "display_data"
    }
   ],
   "source": [
    "x, y = var('x y')\n",
    "X = vector([x,y])\n",
    "AX = A * X\n",
    "l = 4\n",
    "show(solve([AX[i] == l*X[i] for i in range(2)],[x,y]))"
   ]
  },
  {
   "cell_type": "markdown",
   "metadata": {},
   "source": [
    "$V_4$ és la recta vectorial generada pel vector $(2,3)$."
   ]
  },
  {
   "cell_type": "markdown",
   "metadata": {},
   "source": [
    "Vectors propis de $T$ amb valor propi $\\lambda_1=-1$:"
   ]
  },
  {
   "cell_type": "code",
   "execution_count": 43,
   "metadata": {},
   "outputs": [
    {
     "data": {
      "text/html": [
       "<html>\\(\\displaystyle \\left[\\left[x = -r_{16}, y = r_{16}\\right]\\right]\\)</html>"
      ],
      "text/latex": [
       "$\\displaystyle \\left[\\left[x = -r_{16}, y = r_{16}\\right]\\right]$"
      ],
      "text/plain": [
       "[[x == -r16, y == r16]]"
      ]
     },
     "metadata": {},
     "output_type": "display_data"
    }
   ],
   "source": [
    "x, y = var('x y')\n",
    "X = vector([x,y])\n",
    "AX = A * X\n",
    "l = -1\n",
    "show(solve([AX[i] == l*X[i] for i in range(2)],[x,y]))"
   ]
  },
  {
   "cell_type": "markdown",
   "metadata": {},
   "source": [
    "$V_{-1}$ és la recta vectorial generada pel vector $(-1,1)$. Aleshores, la base $\\mathcal{B}'=\\{(2,3),(-1,1)\\}$ és una base formada per vectors propis de $T$ i la seva representació (de $T$) en la base $\\mathcal{B}'$ és\n",
    "$$\n",
    "  \\left(\\begin{array}{c} u'\\\\ v' \\end{array}\\right)\n",
    "  = \\left(\\begin{array}{rr}\n",
    "  4 &  0\\\\\n",
    "  0 & -1\n",
    "  \\end{array}\\right)\n",
    "  \\left(\\begin{array}{c} x'\\\\ y' \\end{array}\\right)\\,.\n",
    "$$"
   ]
  },
  {
   "cell_type": "markdown",
   "metadata": {},
   "source": [
    "## Exercici 12\n",
    "Analitzeu si la transformació lineal $T:V_3\\longrightarrow V_3$ que en la base canònica té representació\n",
    "$$\n",
    "  \\left(\\begin{array}{c} u\\\\ v\\\\ w \\end{array}\\right)\n",
    "  = \\left(\\begin{array}{rrr}\n",
    "   -3 & -3 & -2 \\\\\n",
    "    8 &  7 &  4 \\\\\n",
    "   -4 & -3 & -1\n",
    "  \\end{array}\\right) \n",
    "  \\left(\\begin{array}{c} x\\\\ y\\\\ z \\end{array}\\right)\n",
    "$$\n",
    "és o no diagonalitzable i, en cas afirmatiu, diagonalitzeu-la."
   ]
  },
  {
   "cell_type": "code",
   "execution_count": 44,
   "metadata": {},
   "outputs": [
    {
     "data": {
      "text/html": [
       "<html>\\(\\displaystyle x^{3} - 3x^{2} + 3x - 1\\)</html>"
      ],
      "text/latex": [
       "$\\displaystyle x^{3} - 3x^{2} + 3x - 1$"
      ],
      "text/plain": [
       "x^3 - 3*x^2 + 3*x - 1"
      ]
     },
     "metadata": {},
     "output_type": "display_data"
    }
   ],
   "source": [
    "A = matrix([[-3,-3,-2],[8,7,4],[-4,-3,-1]])\n",
    "p = A.charpoly()\n",
    "show(p)"
   ]
  },
  {
   "cell_type": "code",
   "execution_count": 45,
   "metadata": {},
   "outputs": [
    {
     "data": {
      "text/html": [
       "<html>\\(\\displaystyle \\left[\\left(1, 3\\right)\\right]\\)</html>"
      ],
      "text/latex": [
       "$\\displaystyle \\left[\\left(1, 3\\right)\\right]$"
      ],
      "text/plain": [
       "[(1, 3)]"
      ]
     },
     "metadata": {},
     "output_type": "display_data"
    }
   ],
   "source": [
    "show(p.roots())"
   ]
  },
  {
   "cell_type": "markdown",
   "metadata": {},
   "source": [
    "Els valors propis de $T$ són $\\lambda_1=1$ amb multiplicitat 3. Com que la matriu $A$ no és múltiple de la identitat, podem afirmar que $T$ no és diagonalitzable. "
   ]
  },
  {
   "cell_type": "markdown",
   "metadata": {},
   "source": [
    "## Exercici 13\n",
    "Analitzeu si la transformació lineal $T:V_3\\longrightarrow V_3$ que en la base canònica té representació\n",
    "$$\n",
    "  \\left(\\begin{array}{c} u\\\\ v\\\\ w \\end{array}\\right)\n",
    "  = \\left(\\begin{array}{rrr}\n",
    "    1 & 0 &  1 \\\\\n",
    "   -6 & 3 & -7 \\\\\n",
    "   -2 & 0 & -1\n",
    "  \\end{array}\\right) \n",
    "  \\left(\\begin{array}{c} x\\\\ y\\\\ z \\end{array}\\right)\n",
    "$$\n",
    "és o no diagonalitzable i, en cas afirmatiu, diagonalitzeu-la."
   ]
  },
  {
   "cell_type": "code",
   "execution_count": 46,
   "metadata": {},
   "outputs": [
    {
     "data": {
      "text/html": [
       "<html>\\(\\displaystyle x^{3} - 3x^{2} + x - 3\\)</html>"
      ],
      "text/latex": [
       "$\\displaystyle x^{3} - 3x^{2} + x - 3$"
      ],
      "text/plain": [
       "x^3 - 3*x^2 + x - 3"
      ]
     },
     "metadata": {},
     "output_type": "display_data"
    }
   ],
   "source": [
    "A = matrix([[1,0,1],[-6,3,-7],[-2,0,-1]])\n",
    "p = A.charpoly()\n",
    "show(p)"
   ]
  },
  {
   "cell_type": "code",
   "execution_count": 47,
   "metadata": {},
   "outputs": [
    {
     "data": {
      "text/html": [
       "<html>\\(\\displaystyle \\left[\\left(3, 1\\right)\\right]\\)</html>"
      ],
      "text/latex": [
       "$\\displaystyle \\left[\\left(3, 1\\right)\\right]$"
      ],
      "text/plain": [
       "[(3, 1)]"
      ]
     },
     "metadata": {},
     "output_type": "display_data"
    }
   ],
   "source": [
    "show(p.roots())"
   ]
  },
  {
   "cell_type": "markdown",
   "metadata": {},
   "source": [
    "Els valors propis de $T$ són $\\lambda_1=3$ amb multiplicitat 1 i dos valors propis complexos conjugats. Per tant, la transformació lineal $T$ no és diagonalitzable."
   ]
  },
  {
   "cell_type": "markdown",
   "metadata": {},
   "source": [
    "## Exercici 14\n",
    "Analitzeu si la transformació lineal $T:V_3\\longrightarrow V_3$ que en la base $\\mathcal{B}'=\\{(1,1,0),(1,0,1),(0,1,1)\\}$ té representació\n",
    "$$\n",
    "  \\left(\\begin{array}{c} u'\\\\ v'\\\\ w' \\end{array}\\right)\n",
    "  = \\left(\\begin{array}{rrr}\n",
    "   -2 & 0 &  0 \\\\\n",
    "   -4 & 0 & -1 \\\\\n",
    "   -2 & 1 &  2\n",
    "  \\end{array}\\right) \n",
    "  \\left(\\begin{array}{c} x'\\\\ y'\\\\ z' \\end{array}\\right)\n",
    "$$\n",
    "és o no diagonalitzable i, en cas afirmatiu, diagonalitzeu-la."
   ]
  },
  {
   "cell_type": "markdown",
   "metadata": {},
   "source": [
    "En primer lloc, calculem la representació de $T$ en la base canònica:"
   ]
  },
  {
   "cell_type": "code",
   "execution_count": 48,
   "metadata": {},
   "outputs": [
    {
     "data": {
      "text/html": [
       "<html>\\(\\displaystyle \\left(\\begin{array}{rrr}\n",
       "-\\frac{5}{2} & -\\frac{7}{2} & \\frac{5}{2} \\\\\n",
       "-\\frac{5}{2} & -\\frac{3}{2} & \\frac{7}{2} \\\\\n",
       "-3 & -3 & 4\n",
       "\\end{array}\\right)\\)</html>"
      ],
      "text/latex": [
       "$\\displaystyle \\left(\\begin{array}{rrr}\n",
       "-\\frac{5}{2} & -\\frac{7}{2} & \\frac{5}{2} \\\\\n",
       "-\\frac{5}{2} & -\\frac{3}{2} & \\frac{7}{2} \\\\\n",
       "-3 & -3 & 4\n",
       "\\end{array}\\right)$"
      ],
      "text/plain": [
       "[-5/2 -7/2  5/2]\n",
       "[-5/2 -3/2  7/2]\n",
       "[  -3   -3    4]"
      ]
     },
     "metadata": {},
     "output_type": "display_data"
    }
   ],
   "source": [
    "A1 = matrix([[-2,0,0],[-4,0,-1],[-2,1,2]])\n",
    "C = matrix([[1,1,0],[1,0,1],[0,1,1]]).T\n",
    "A = C*A1*C.inverse()\n",
    "show(A)"
   ]
  },
  {
   "cell_type": "markdown",
   "metadata": {},
   "source": [
    "La representació de $T$ en la base canònica és\n",
    "$$\n",
    "  \\left(\\begin{array}{c} u\\\\ v\\\\ w \\end{array}\\right)\n",
    "  = \\frac{1}{2}\\left(\\begin{array}{rrr}\n",
    "   -5 & -5 & 5 \\\\\n",
    "   -5 & -3 & 7 \\\\\n",
    "   -6 & -6 & 8\n",
    "  \\end{array}\\right) \n",
    "  \\left(\\begin{array}{c} x\\\\ y\\\\ z \\end{array}\\right)\n",
    "$$"
   ]
  },
  {
   "cell_type": "code",
   "execution_count": 49,
   "metadata": {},
   "outputs": [
    {
     "data": {
      "text/html": [
       "<html>\\(\\displaystyle x^{3} - 3 x + 2\\)</html>"
      ],
      "text/latex": [
       "$\\displaystyle x^{3} - 3 x + 2$"
      ],
      "text/plain": [
       "x^3 - 3*x + 2"
      ]
     },
     "metadata": {},
     "output_type": "display_data"
    }
   ],
   "source": [
    "p = A.charpoly()\n",
    "show(p)"
   ]
  },
  {
   "cell_type": "code",
   "execution_count": 50,
   "metadata": {},
   "outputs": [
    {
     "data": {
      "text/html": [
       "<html>\\(\\displaystyle \\left[\\left(-2, 1\\right), \\left(1, 2\\right)\\right]\\)</html>"
      ],
      "text/latex": [
       "$\\displaystyle \\left[\\left(-2, 1\\right), \\left(1, 2\\right)\\right]$"
      ],
      "text/plain": [
       "[(-2, 1), (1, 2)]"
      ]
     },
     "metadata": {},
     "output_type": "display_data"
    }
   ],
   "source": [
    "show(p.roots())"
   ]
  },
  {
   "cell_type": "markdown",
   "metadata": {},
   "source": [
    "El valors propis de $T$ son $\\lambda_1=1$ amb multiplicitat 2 i $\\lambda_2=-2$."
   ]
  },
  {
   "cell_type": "markdown",
   "metadata": {},
   "source": [
    "Vectors propis amb valor propi $\\lambda_1=1$:"
   ]
  },
  {
   "cell_type": "code",
   "execution_count": 51,
   "metadata": {},
   "outputs": [
    {
     "data": {
      "text/html": [
       "<html>\\(\\displaystyle \\left[\\left[x = -r_{17}, y = r_{17}, z = 0\\right]\\right]\\)</html>"
      ],
      "text/latex": [
       "$\\displaystyle \\left[\\left[x = -r_{17}, y = r_{17}, z = 0\\right]\\right]$"
      ],
      "text/plain": [
       "[[x == -r17, y == r17, z == 0]]"
      ]
     },
     "metadata": {},
     "output_type": "display_data"
    }
   ],
   "source": [
    "x, y, z = var('x y z')\n",
    "X = vector([x,y,z])\n",
    "AX = A * X\n",
    "l = 1\n",
    "show(solve([AX[i] == l*X[i] for i in range(3)],[x,y,z]))"
   ]
  },
  {
   "cell_type": "markdown",
   "metadata": {},
   "source": [
    "$V_1$ és la recta vectorial generada pel vector $(-1,1,0)$. Per tant, la transformació lineal $T$ no és diagonalitzable."
   ]
  },
  {
   "cell_type": "markdown",
   "metadata": {},
   "source": [
    "## Exercici 15\n",
    "Analitzeu si la transformació lineal $T:V_3\\longrightarrow V_3$ que en la base canònica està representada per\n",
    "$$\n",
    "  \\left(\\begin{array}{c} u\\\\ v\\\\ w \\end{array}\\right)\n",
    "  = \\left(\\begin{array}{rrr}\n",
    "   1 & -1 & -1 \\\\\n",
    "  -8 & -6 & -3 \\\\\n",
    "   8 &  8 &  5\n",
    "  \\end{array}\\right) \n",
    "  \\left(\\begin{array}{c} x\\\\ y\\\\ z \\end{array}\\right)\n",
    "$$\n",
    "és o no diagonalitzable i, en cas afirmatiu, diagonalitzeu-la."
   ]
  },
  {
   "cell_type": "code",
   "execution_count": 52,
   "metadata": {},
   "outputs": [
    {
     "data": {
      "text/html": [
       "<html>\\(\\displaystyle x^{3} - 7x + 6\\)</html>"
      ],
      "text/latex": [
       "$\\displaystyle x^{3} - 7x + 6$"
      ],
      "text/plain": [
       "x^3 - 7*x + 6"
      ]
     },
     "metadata": {},
     "output_type": "display_data"
    }
   ],
   "source": [
    "A = matrix([[1,-1,-1],[-8,-6,-3],[8,8,5]])\n",
    "p = A.charpoly()\n",
    "show(p)"
   ]
  },
  {
   "cell_type": "code",
   "execution_count": 53,
   "metadata": {},
   "outputs": [
    {
     "data": {
      "text/html": [
       "<html>\\(\\displaystyle \\left[\\left(2, 1\\right), \\left(1, 1\\right), \\left(-3, 1\\right)\\right]\\)</html>"
      ],
      "text/latex": [
       "$\\displaystyle \\left[\\left(2, 1\\right), \\left(1, 1\\right), \\left(-3, 1\\right)\\right]$"
      ],
      "text/plain": [
       "[(2, 1), (1, 1), (-3, 1)]"
      ]
     },
     "metadata": {},
     "output_type": "display_data"
    }
   ],
   "source": [
    "show(p.roots())"
   ]
  },
  {
   "cell_type": "markdown",
   "metadata": {},
   "source": [
    "El valors propis de $T$ son $\\lambda_1=2$, $\\lambda_2=1$ i $\\lambda_3=-3$ tots simples. Per tant, la transformació lineal $T$ és diagonalizable.   "
   ]
  },
  {
   "cell_type": "markdown",
   "metadata": {},
   "source": [
    "Vectors propis amb valor propi $\\lambda_1=2$:"
   ]
  },
  {
   "cell_type": "code",
   "execution_count": 54,
   "metadata": {},
   "outputs": [
    {
     "data": {
      "text/html": [
       "<html>\\(\\displaystyle \\left[\\left[x = -r_{18}, y = r_{18}, z = 0\\right]\\right]\\)</html>"
      ],
      "text/latex": [
       "$\\displaystyle \\left[\\left[x = -r_{18}, y = r_{18}, z = 0\\right]\\right]$"
      ],
      "text/plain": [
       "[[x == -r18, y == r18, z == 0]]"
      ]
     },
     "metadata": {},
     "output_type": "display_data"
    }
   ],
   "source": [
    "x, y, z = var('x y z')\n",
    "X = vector([x,y,z])\n",
    "AX = A * X\n",
    "l = 2\n",
    "show(solve([AX[i] == l*X[i] for i in range(3)],[x,y,z]))"
   ]
  },
  {
   "cell_type": "markdown",
   "metadata": {},
   "source": [
    "$V_2$ és la recta vectorial generada pel vector $(-1,1,0)$."
   ]
  },
  {
   "cell_type": "markdown",
   "metadata": {},
   "source": [
    "Vectors propis amb valor propi $\\lambda_2=1$:"
   ]
  },
  {
   "cell_type": "code",
   "execution_count": 55,
   "metadata": {},
   "outputs": [
    {
     "data": {
      "text/html": [
       "<html>\\(\\displaystyle \\left[\\left[x = \\frac{1}{2} \\, r_{19}, y = -r_{19}, z = r_{19}\\right]\\right]\\)</html>"
      ],
      "text/latex": [
       "$\\displaystyle \\left[\\left[x = \\frac{1}{2} \\, r_{19}, y = -r_{19}, z = r_{19}\\right]\\right]$"
      ],
      "text/plain": [
       "[[x == 1/2*r19, y == -r19, z == r19]]"
      ]
     },
     "metadata": {},
     "output_type": "display_data"
    }
   ],
   "source": [
    "x, y, z = var('x y z')\n",
    "X = vector([x,y,z])\n",
    "AX = A * X\n",
    "l = 1\n",
    "show(solve([AX[i] == l*X[i] for i in range(3)],[x,y,z]))"
   ]
  },
  {
   "cell_type": "markdown",
   "metadata": {},
   "source": [
    "$V_1$ és la recta vectorial generada pel vector $(1,-2,2)$."
   ]
  },
  {
   "cell_type": "markdown",
   "metadata": {},
   "source": [
    "Vectors propis amb valor propi $\\lambda_3=-3$:"
   ]
  },
  {
   "cell_type": "code",
   "execution_count": 56,
   "metadata": {},
   "outputs": [
    {
     "data": {
      "text/html": [
       "<html>\\(\\displaystyle \\left[\\left[x = 0, y = -r_{20}, z = r_{20}\\right]\\right]\\)</html>"
      ],
      "text/latex": [
       "$\\displaystyle \\left[\\left[x = 0, y = -r_{20}, z = r_{20}\\right]\\right]$"
      ],
      "text/plain": [
       "[[x == 0, y == -r20, z == r20]]"
      ]
     },
     "metadata": {},
     "output_type": "display_data"
    }
   ],
   "source": [
    "x, y, z = var('x y z')\n",
    "X = vector([x,y,z])\n",
    "AX = A * X\n",
    "l = -3\n",
    "show(solve([AX[i] == l*X[i] for i in range(3)],[x,y,z]))"
   ]
  },
  {
   "cell_type": "markdown",
   "metadata": {},
   "source": [
    "$V_{-3}$ és la recta vectorial generada pel vector $(0,-1,1)$."
   ]
  },
  {
   "cell_type": "markdown",
   "metadata": {},
   "source": [
    "La representació de la transformació lineal $T$ en la base $\\mathcal{B}'=\\{(-1,1,0),(1,-2,2),(0,-1,1)\\}$ és\n",
    "$$\n",
    "  \\left(\\begin{array}{c} u'\\\\ v'\\\\ w' \\end{array}\\right)\n",
    "  = \\left(\\begin{array}{rrr}\n",
    "   2 & 0 &  0 \\\\\n",
    "   0 & 1 &  0 \\\\\n",
    "   0 & 0 & -3 \n",
    "  \\end{array}\\right) \n",
    "  \\left(\\begin{array}{c} x'\\\\ y'\\\\ z' \\end{array}\\right)\\,,\n",
    "$$\n",
    "és a dir, $T$ és diagonalitzable."
   ]
  },
  {
   "cell_type": "markdown",
   "metadata": {},
   "source": [
    "Comprovació:"
   ]
  },
  {
   "cell_type": "code",
   "execution_count": 57,
   "metadata": {},
   "outputs": [
    {
     "data": {
      "text/html": [
       "<html>\\(\\displaystyle \\left(\\begin{array}{rrr}\n",
       "2 & 0 & 0 \\\\\n",
       "0 & 1 & 0 \\\\\n",
       "0 & 0 & -3\n",
       "\\end{array}\\right)\\)</html>"
      ],
      "text/latex": [
       "$\\displaystyle \\left(\\begin{array}{rrr}\n",
       "2 & 0 & 0 \\\\\n",
       "0 & 1 & 0 \\\\\n",
       "0 & 0 & -3\n",
       "\\end{array}\\right)$"
      ],
      "text/plain": [
       "[ 2  0  0]\n",
       "[ 0  1  0]\n",
       "[ 0  0 -3]"
      ]
     },
     "metadata": {},
     "output_type": "display_data"
    }
   ],
   "source": [
    "C = matrix([[-1,1,0],[1,-2,2],[0,-1,1]]).T\n",
    "show(C.inverse() * A * C)"
   ]
  },
  {
   "cell_type": "markdown",
   "metadata": {},
   "source": [
    "## Exercici 16\n",
    "Analitzeu si la transformació lineal $T:V_3\\longrightarrow V_3$ que en la base $\\mathcal{B}'=\\{(1,0,0),(1,1,0),(1,1,1)\\}$ té representació\n",
    "$$\n",
    "  \\left(\\begin{array}{c} u'\\\\ v'\\\\ w' \\end{array}\\right)\n",
    "  = \\left(\\begin{array}{rrr}\n",
    "    1 & -2 &  4 \\\\\n",
    "   -4 &  3 & -8 \\\\\n",
    "   -2 &  2 & -5\n",
    "  \\end{array}\\right) \n",
    "  \\left(\\begin{array}{c} x'\\\\ y'\\\\ z' \\end{array}\\right)\n",
    "$$\n",
    "és o no diagonalitzable i, en cas afirmatiu, diagonalitzeu-la."
   ]
  },
  {
   "cell_type": "markdown",
   "metadata": {},
   "source": [
    "En primer lloc, calculem la representació de $T$ en la base canònica:"
   ]
  },
  {
   "cell_type": "code",
   "execution_count": 58,
   "metadata": {},
   "outputs": [
    {
     "data": {
      "text/html": [
       "<html>\\(\\displaystyle \\left(\\begin{array}{rrr}\n",
       "1 & 1 & 1 \\\\\n",
       "0 & 1 & 1 \\\\\n",
       "0 & 0 & 1\n",
       "\\end{array}\\right)\\)</html>"
      ],
      "text/latex": [
       "$\\displaystyle \\left(\\begin{array}{rrr}\n",
       "1 & 1 & 1 \\\\\n",
       "0 & 1 & 1 \\\\\n",
       "0 & 0 & 1\n",
       "\\end{array}\\right)$"
      ],
      "text/plain": [
       "[1 1 1]\n",
       "[0 1 1]\n",
       "[0 0 1]"
      ]
     },
     "metadata": {},
     "output_type": "display_data"
    }
   ],
   "source": [
    "A1 = matrix([[1,-2,4],[-4,3,-8],[-2,2,-5]])\n",
    "C = matrix([[1,0,0],[1,1,0],[1,1,1]]).T\n",
    "show(C)"
   ]
  },
  {
   "cell_type": "code",
   "execution_count": 59,
   "metadata": {},
   "outputs": [
    {
     "data": {
      "text/html": [
       "<html>\\(\\displaystyle \\left(\\begin{array}{rrr}\n",
       "-5 & 8 & -12 \\\\\n",
       "-6 & 11 & -18 \\\\\n",
       "-2 & 4 & -7\n",
       "\\end{array}\\right)\\)</html>"
      ],
      "text/latex": [
       "$\\displaystyle \\left(\\begin{array}{rrr}\n",
       "-5 & 8 & -12 \\\\\n",
       "-6 & 11 & -18 \\\\\n",
       "-2 & 4 & -7\n",
       "\\end{array}\\right)$"
      ],
      "text/plain": [
       "[ -5   8 -12]\n",
       "[ -6  11 -18]\n",
       "[ -2   4  -7]"
      ]
     },
     "metadata": {},
     "output_type": "display_data"
    }
   ],
   "source": [
    "A = C*A1*C.inverse()\n",
    "show(A)"
   ]
  },
  {
   "cell_type": "markdown",
   "metadata": {},
   "source": [
    "La representació de $T$ en la base canònica és\n",
    "$$\n",
    "  \\left(\\begin{array}{c} u\\\\ v\\\\ w \\end{array}\\right)\n",
    "  = \\left(\\begin{array}{rrr}\n",
    "  -5 &  8 & -12 \\\\\n",
    "  -6 & 11 & -18 \\\\\n",
    "  -2 &  4 &  -7\n",
    "  \\end{array}\\right) \n",
    "  \\left(\\begin{array}{c} x\\\\ y\\\\ z \\end{array}\\right)\n",
    "$$"
   ]
  },
  {
   "cell_type": "code",
   "execution_count": 60,
   "metadata": {},
   "outputs": [
    {
     "data": {
      "text/html": [
       "<html>\\(\\displaystyle x^{3} + x^{2} - x - 1\\)</html>"
      ],
      "text/latex": [
       "$\\displaystyle x^{3} + x^{2} - x - 1$"
      ],
      "text/plain": [
       "x^3 + x^2 - x - 1"
      ]
     },
     "metadata": {},
     "output_type": "display_data"
    }
   ],
   "source": [
    "p = A.charpoly()\n",
    "show(p)"
   ]
  },
  {
   "cell_type": "code",
   "execution_count": 61,
   "metadata": {},
   "outputs": [
    {
     "data": {
      "text/html": [
       "<html>\\(\\displaystyle \\left[\\left(1, 1\\right), \\left(-1, 2\\right)\\right]\\)</html>"
      ],
      "text/latex": [
       "$\\displaystyle \\left[\\left(1, 1\\right), \\left(-1, 2\\right)\\right]$"
      ],
      "text/plain": [
       "[(1, 1), (-1, 2)]"
      ]
     },
     "metadata": {},
     "output_type": "display_data"
    }
   ],
   "source": [
    "show(p.roots())"
   ]
  },
  {
   "cell_type": "markdown",
   "metadata": {},
   "source": [
    "El valors propis de $T$ son $\\lambda_1=1$, $\\lambda_2=-1$ amb multiplicitat 2."
   ]
  },
  {
   "cell_type": "markdown",
   "metadata": {},
   "source": [
    "Vectors propis amb valor propi $\\lambda_1=1$:"
   ]
  },
  {
   "cell_type": "code",
   "execution_count": 62,
   "metadata": {},
   "outputs": [
    {
     "data": {
      "text/html": [
       "<html>\\(\\displaystyle \\left[\\left[x = 2 \\, r_{21}, y = 3 \\, r_{21}, z = r_{21}\\right]\\right]\\)</html>"
      ],
      "text/latex": [
       "$\\displaystyle \\left[\\left[x = 2 \\, r_{21}, y = 3 \\, r_{21}, z = r_{21}\\right]\\right]$"
      ],
      "text/plain": [
       "[[x == 2*r21, y == 3*r21, z == r21]]"
      ]
     },
     "metadata": {},
     "output_type": "display_data"
    }
   ],
   "source": [
    "x, y, z = var('x y z')\n",
    "X = vector([x,y,z])\n",
    "AX = A * X\n",
    "l = 1\n",
    "show(solve([AX[i] == l*X[i] for i in range(3)],[x,y,z]))"
   ]
  },
  {
   "cell_type": "markdown",
   "metadata": {},
   "source": [
    "$V_1$ és la recta vectorial generada pel vector $(2,3,1)$."
   ]
  },
  {
   "cell_type": "markdown",
   "metadata": {},
   "source": [
    "Vectors propis amb valor propi $\\lambda_2=-1$:"
   ]
  },
  {
   "cell_type": "code",
   "execution_count": 63,
   "metadata": {},
   "outputs": [
    {
     "data": {
      "text/html": [
       "<html>\\(\\displaystyle \\left[\\left[x = -3 \\, r_{22} + 2 \\, r_{23}, y = r_{23}, z = r_{22}\\right]\\right]\\)</html>"
      ],
      "text/latex": [
       "$\\displaystyle \\left[\\left[x = -3 \\, r_{22} + 2 \\, r_{23}, y = r_{23}, z = r_{22}\\right]\\right]$"
      ],
      "text/plain": [
       "[[x == -3*r22 + 2*r23, y == r23, z == r22]]"
      ]
     },
     "metadata": {},
     "output_type": "display_data"
    }
   ],
   "source": [
    "x, y, z = var('x y z')\n",
    "X = vector([x,y,z])\n",
    "AX = A * X\n",
    "l = -1\n",
    "show(solve([AX[i] == l*X[i] for i in range(3)],[x,y,z]))"
   ]
  },
  {
   "cell_type": "markdown",
   "metadata": {},
   "source": [
    "$V_{-1}$ és el pla vectorial generat pel vector $(-3,0,1)$ i $(2,1,0)$. La base $\\mathcal{B}''=\\{(2,3,1),(-3,0,1),(2,1,0)\\}$ és una base de $V_3$ formada per vectors propis de $T$, és a dir, la transformació lineal $T$ és diagonalitzable i la seva representació en la base $\\mathcal{B}''$ és \n",
    "$$\n",
    "  \\left(\\begin{array}{c} u''\\\\ v''\\\\ w'' \\end{array}\\right)\n",
    "  = \\left(\\begin{array}{rrr}\n",
    "    1 &  0 &  0 \\\\\n",
    "    0 & -1 &  0 \\\\\n",
    "    0 &  0 & -1\n",
    "  \\end{array}\\right) \n",
    "  \\left(\\begin{array}{c} x''\\\\ y''\\\\ z'' \\end{array}\\right)\\,.\n",
    "$$"
   ]
  },
  {
   "cell_type": "markdown",
   "metadata": {},
   "source": [
    "Comprovació:"
   ]
  },
  {
   "cell_type": "code",
   "execution_count": 64,
   "metadata": {},
   "outputs": [
    {
     "data": {
      "text/html": [
       "<html>\\(\\displaystyle \\left(\\begin{array}{rrr}\n",
       "1 & 0 & 0 \\\\\n",
       "0 & -1 & 0 \\\\\n",
       "0 & 0 & -1\n",
       "\\end{array}\\right)\\)</html>"
      ],
      "text/latex": [
       "$\\displaystyle \\left(\\begin{array}{rrr}\n",
       "1 & 0 & 0 \\\\\n",
       "0 & -1 & 0 \\\\\n",
       "0 & 0 & -1\n",
       "\\end{array}\\right)$"
      ],
      "text/plain": [
       "[ 1  0  0]\n",
       "[ 0 -1  0]\n",
       "[ 0  0 -1]"
      ]
     },
     "metadata": {},
     "output_type": "display_data"
    }
   ],
   "source": [
    "C = matrix([[2,3,1],[-3,0,1],[2,1,0]]).T\n",
    "show(C.inverse() * A * C)"
   ]
  },
  {
   "cell_type": "markdown",
   "metadata": {},
   "source": [
    "## Exercici 17\n",
    "La transformació lineal $T$ de $V_3$ diagonalitza en la base $\\mathcal{B}'=\\{(2,-2,-1),(2,-1,-1),(1,-2,-1)\\}$ i la seva matriu en la base canònica és\n",
    "$$\n",
    "  A=\\left(\\begin{array}{rrr}\n",
    "   1 &  2 & a \\\\ \n",
    "   2 &  1 & b \\\\ \n",
    "   1 & -1 & c\n",
    "  \\end{array}\\right) \\,.\n",
    "$$\n",
    "Determineu els coeficients $a$, $b$ i $c$ i la matriu diagonal corresponent."
   ]
  },
  {
   "cell_type": "markdown",
   "metadata": {},
   "source": [
    "La matriu diagonal serà de la forma\n",
    "$$\n",
    "  A'=\\left(\\begin{array}{rrr}\n",
    "   \\alpha &   0   &   0 \\\\ \n",
    "      0   & \\beta &   0 \\\\ \n",
    "      0   &   0   & \\gamma\n",
    "  \\end{array}\\right)\n",
    "$$\n",
    "i la matriu del canvi de base de la base $\\mathcal{B}'$ a la base canònica \n",
    "$$\n",
    "  C=\\left(\\begin{array}{rrr}\n",
    "    2 &  2 &  1 \\\\ \n",
    "   -2 & -1 & -2 \\\\ \n",
    "   -1 & -1 & -1\n",
    "  \\end{array}\\right) \\,.\n",
    "$$\n",
    "i s'ha de complir que $A=CA'C^{-1}$."
   ]
  },
  {
   "cell_type": "code",
   "execution_count": 65,
   "metadata": {},
   "outputs": [
    {
     "data": {
      "text/html": [
       "<html>\\(\\displaystyle \\left(\\begin{array}{rrr}\n",
       "1 & 2 & a \\\\\n",
       "2 & 1 & b \\\\\n",
       "1 & -1 & c\n",
       "\\end{array}\\right)\\)</html>"
      ],
      "text/latex": [
       "$\\displaystyle \\left(\\begin{array}{rrr}\n",
       "1 & 2 & a \\\\\n",
       "2 & 1 & b \\\\\n",
       "1 & -1 & c\n",
       "\\end{array}\\right)$"
      ],
      "text/plain": [
       "[ 1  2  a]\n",
       "[ 2  1  b]\n",
       "[ 1 -1  c]"
      ]
     },
     "metadata": {},
     "output_type": "display_data"
    }
   ],
   "source": [
    "a, b ,c = var('a b c')\n",
    "alpha, beta, gamma = var('alpha beta gamma')\n",
    "A = matrix(3,3,[1,2,a,2,1,b,1,-1,c])\n",
    "show(A)"
   ]
  },
  {
   "cell_type": "code",
   "execution_count": 66,
   "metadata": {},
   "outputs": [
    {
     "data": {
      "text/html": [
       "<html>\\(\\displaystyle \\left(\\begin{array}{rrr}\n",
       "2 & 2 & 1 \\\\\n",
       "-2 & -1 & -2 \\\\\n",
       "-1 & -1 & -1\n",
       "\\end{array}\\right)\\)</html>"
      ],
      "text/latex": [
       "$\\displaystyle \\left(\\begin{array}{rrr}\n",
       "2 & 2 & 1 \\\\\n",
       "-2 & -1 & -2 \\\\\n",
       "-1 & -1 & -1\n",
       "\\end{array}\\right)$"
      ],
      "text/plain": [
       "[ 2  2  1]\n",
       "[-2 -1 -2]\n",
       "[-1 -1 -1]"
      ]
     },
     "metadata": {},
     "output_type": "display_data"
    }
   ],
   "source": [
    "u1 = vector([2,-2,-1])\n",
    "u2 = vector([2,-1,-1])\n",
    "u3 = vector([1,-2,-1])\n",
    "C = matrix([u1,u2,u3]).T\n",
    "show(C)"
   ]
  },
  {
   "cell_type": "code",
   "execution_count": 67,
   "metadata": {},
   "outputs": [
    {
     "data": {
      "text/html": [
       "<html>\\(\\displaystyle \\left(\\begin{array}{rrr}\n",
       "\\alpha & 0 & 0 \\\\\n",
       "0 & \\beta & 0 \\\\\n",
       "0 & 0 & \\gamma\n",
       "\\end{array}\\right)\\)</html>"
      ],
      "text/latex": [
       "$\\displaystyle \\left(\\begin{array}{rrr}\n",
       "\\alpha & 0 & 0 \\\\\n",
       "0 & \\beta & 0 \\\\\n",
       "0 & 0 & \\gamma\n",
       "\\end{array}\\right)$"
      ],
      "text/plain": [
       "[alpha     0     0]\n",
       "[    0  beta     0]\n",
       "[    0     0 gamma]"
      ]
     },
     "metadata": {},
     "output_type": "display_data"
    }
   ],
   "source": [
    "A1 = matrix.diagonal([alpha,beta,gamma])\n",
    "show(A1)"
   ]
  },
  {
   "cell_type": "markdown",
   "metadata": {},
   "source": [
    "A més, s'ha de complir la igualtat $A=CA'C^{-1}$. Representem per $B$ la matriu $CA'C^{-1}$:"
   ]
  },
  {
   "cell_type": "code",
   "execution_count": 68,
   "metadata": {},
   "outputs": [
    {
     "data": {
      "text/html": [
       "<html>\\(\\displaystyle \\left(\\begin{array}{rrr}\n",
       "2 \\, \\alpha - \\gamma & -2 \\, \\alpha + 2 \\, \\beta & 6 \\, \\alpha - 4 \\, \\beta - 2 \\, \\gamma \\\\\n",
       "-2 \\, \\alpha + 2 \\, \\gamma & 2 \\, \\alpha - \\beta & -6 \\, \\alpha + 2 \\, \\beta + 4 \\, \\gamma \\\\\n",
       "-\\alpha + \\gamma & \\alpha - \\beta & -3 \\, \\alpha + 2 \\, \\beta + 2 \\, \\gamma\n",
       "\\end{array}\\right)\\)</html>"
      ],
      "text/latex": [
       "$\\displaystyle \\left(\\begin{array}{rrr}\n",
       "2 \\, \\alpha - \\gamma & -2 \\, \\alpha + 2 \\, \\beta & 6 \\, \\alpha - 4 \\, \\beta - 2 \\, \\gamma \\\\\n",
       "-2 \\, \\alpha + 2 \\, \\gamma & 2 \\, \\alpha - \\beta & -6 \\, \\alpha + 2 \\, \\beta + 4 \\, \\gamma \\\\\n",
       "-\\alpha + \\gamma & \\alpha - \\beta & -3 \\, \\alpha + 2 \\, \\beta + 2 \\, \\gamma\n",
       "\\end{array}\\right)$"
      ],
      "text/plain": [
       "[            2*alpha - gamma           -2*alpha + 2*beta  6*alpha - 4*beta - 2*gamma]\n",
       "[         -2*alpha + 2*gamma              2*alpha - beta -6*alpha + 2*beta + 4*gamma]\n",
       "[             -alpha + gamma                alpha - beta -3*alpha + 2*beta + 2*gamma]"
      ]
     },
     "metadata": {},
     "output_type": "display_data"
    }
   ],
   "source": [
    "B = C * A1 * C.inverse()\n",
    "show(B)"
   ]
  },
  {
   "cell_type": "markdown",
   "metadata": {},
   "source": [
    "Igualem terme a terme amb la matriu $A$ i resolem el corresponent sistema d'equacions:\n",
    "\n",
    "**Important**: observeu com igualem terme a terme dues matrius\n",
    "\n",
    "`[A[i,j] == B[i,j] for i in range(3) for j in range(3)]`"
   ]
  },
  {
   "cell_type": "code",
   "execution_count": 69,
   "metadata": {},
   "outputs": [
    {
     "data": {
      "text/html": [
       "<html>\\(\\displaystyle \\left[\\left[a = \\left(-6\\right), b = 6, c = 6, \\alpha = 2, \\beta = 3, \\gamma = 3\\right]\\right]\\)</html>"
      ],
      "text/latex": [
       "$\\displaystyle \\left[\\left[a = \\left(-6\\right), b = 6, c = 6, \\alpha = 2, \\beta = 3, \\gamma = 3\\right]\\right]$"
      ],
      "text/plain": [
       "[[a == -6, b == 6, c == 6, alpha == 2, beta == 3, gamma == 3]]"
      ]
     },
     "metadata": {},
     "output_type": "display_data"
    }
   ],
   "source": [
    "sol = solve([A[i,j] == B[i,j] for i in range(3) for j in range(3)],[a,b,c,alpha,beta,gamma])\n",
    "show(sol)"
   ]
  },
  {
   "cell_type": "markdown",
   "metadata": {},
   "source": [
    "Per tant $a=-6$, $b=6$, $c=6$ i la matriu diagonal és\n",
    "$$\n",
    "  A'=\\left(\\begin{array}{rrr}\n",
    "   2 & 0 & 0 \\\\ \n",
    "   0 & 3 & 0 \\\\ \n",
    "   0 & 0 & 3\n",
    "  \\end{array}\\right)\\,.\n",
    "$$"
   ]
  },
  {
   "cell_type": "markdown",
   "metadata": {},
   "source": [
    "## Exercici 18\n",
    "La transformació lineal $T$ diagonalitza en la base $\\mathcal{B}'=\\{(-1,-1,-1),(1,2,1),(2,1,1)\\}$, i el vector $(-3,-1,-2)$ es transforma en el\n",
    "vector $(-4,0,-2)$. Trobeu la representació de $T$ en la base canònica."
   ]
  },
  {
   "cell_type": "markdown",
   "metadata": {},
   "source": [
    "La matriu diagonal serà de la forma\n",
    "$$\n",
    "  A'=\\left(\\begin{array}{rrr}\n",
    "   \\alpha &   0   &   0 \\\\ \n",
    "      0   & \\beta &   0 \\\\ \n",
    "      0   &   0   & \\gamma\n",
    "  \\end{array}\\right)\n",
    "$$\n",
    "i la matriu del canvi de base de la base $\\mathcal{B}'$ a la base canònica \n",
    "$$\n",
    "  C=\\left(\\begin{array}{rrr}\n",
    "  -1 & 1 & 2\\\\\n",
    "  -1 & 2 & 1\\\\\n",
    "  -1 & 1 & 1\n",
    "  \\end{array}\\right) \\,.\n",
    "$$\n",
    "i s'ha de complir que $A=CA'C^{-1}$."
   ]
  },
  {
   "cell_type": "code",
   "execution_count": 70,
   "metadata": {},
   "outputs": [
    {
     "data": {
      "text/html": [
       "<html>\\(\\displaystyle \\left(\\begin{array}{rrr}\n",
       "-1 & 1 & 2 \\\\\n",
       "-1 & 2 & 1 \\\\\n",
       "-1 & 1 & 1\n",
       "\\end{array}\\right)\\)</html>"
      ],
      "text/latex": [
       "$\\displaystyle \\left(\\begin{array}{rrr}\n",
       "-1 & 1 & 2 \\\\\n",
       "-1 & 2 & 1 \\\\\n",
       "-1 & 1 & 1\n",
       "\\end{array}\\right)$"
      ],
      "text/plain": [
       "[-1  1  2]\n",
       "[-1  2  1]\n",
       "[-1  1  1]"
      ]
     },
     "metadata": {},
     "output_type": "display_data"
    }
   ],
   "source": [
    "alpha, beta, gamma = var('alpha beta gamma')\n",
    "A1 = matrix.diagonal([alpha,beta,gamma])\n",
    "u1 = vector([-1,-1,-1])\n",
    "u2 = vector([1,2,1])\n",
    "u3 = vector([2,1,1])\n",
    "C = matrix([u1,u2,u3]).T\n",
    "show(C)"
   ]
  },
  {
   "cell_type": "code",
   "execution_count": 71,
   "metadata": {},
   "outputs": [
    {
     "data": {
      "text/html": [
       "<html>\\(\\displaystyle \\left(\\begin{array}{rrr}\n",
       "-\\alpha + 2 \\, \\gamma & -\\alpha + \\beta & 3 \\, \\alpha - \\beta - 2 \\, \\gamma \\\\\n",
       "-\\alpha + \\gamma & -\\alpha + 2 \\, \\beta & 3 \\, \\alpha - 2 \\, \\beta - \\gamma \\\\\n",
       "-\\alpha + \\gamma & -\\alpha + \\beta & 3 \\, \\alpha - \\beta - \\gamma\n",
       "\\end{array}\\right)\\)</html>"
      ],
      "text/latex": [
       "$\\displaystyle \\left(\\begin{array}{rrr}\n",
       "-\\alpha + 2 \\, \\gamma & -\\alpha + \\beta & 3 \\, \\alpha - \\beta - 2 \\, \\gamma \\\\\n",
       "-\\alpha + \\gamma & -\\alpha + 2 \\, \\beta & 3 \\, \\alpha - 2 \\, \\beta - \\gamma \\\\\n",
       "-\\alpha + \\gamma & -\\alpha + \\beta & 3 \\, \\alpha - \\beta - \\gamma\n",
       "\\end{array}\\right)$"
      ],
      "text/plain": [
       "[        -alpha + 2*gamma            -alpha + beta 3*alpha - beta - 2*gamma]\n",
       "[          -alpha + gamma          -alpha + 2*beta 3*alpha - 2*beta - gamma]\n",
       "[          -alpha + gamma            -alpha + beta   3*alpha - beta - gamma]"
      ]
     },
     "metadata": {},
     "output_type": "display_data"
    }
   ],
   "source": [
    "A = C * A1 * C.inverse()\n",
    "show(A)"
   ]
  },
  {
   "cell_type": "markdown",
   "metadata": {},
   "source": [
    "Com que el vector $(-3,-1,-2)$ es transforma en el vector $(-4,0,-2)$, s'ha de complir que\n",
    "$$\n",
    "  A\\left(\\begin{array}{r} -3\\\\ -1\\\\ -2 \\end{array}\\right)\n",
    "  =\\left(\\begin{array}{r} -4\\\\ 0\\\\ -2 \\end{array}\\right)\\,,\n",
    "$$\n",
    "és a dir,"
   ]
  },
  {
   "cell_type": "code",
   "execution_count": 72,
   "metadata": {},
   "outputs": [
    {
     "data": {
      "text/html": [
       "<html>\\(\\displaystyle \\left(-2 \\, \\alpha + \\beta - 2 \\, \\gamma,\\,-2 \\, \\alpha + 2 \\, \\beta - \\gamma,\\,-2 \\, \\alpha + \\beta - \\gamma\\right)\\)</html>"
      ],
      "text/latex": [
       "$\\displaystyle \\left(-2 \\, \\alpha + \\beta - 2 \\, \\gamma,\\,-2 \\, \\alpha + 2 \\, \\beta - \\gamma,\\,-2 \\, \\alpha + \\beta - \\gamma\\right)$"
      ],
      "text/plain": [
       "(-2*alpha + beta - 2*gamma, -2*alpha + 2*beta - gamma, -2*alpha + beta - gamma)"
      ]
     },
     "metadata": {},
     "output_type": "display_data"
    }
   ],
   "source": [
    "u = vector([-3,-1,-2])\n",
    "Tu = vector([-4,0,-2])\n",
    "Au = A * u\n",
    "show(Au)"
   ]
  },
  {
   "cell_type": "code",
   "execution_count": 73,
   "metadata": {},
   "outputs": [
    {
     "data": {
      "text/html": [
       "<html>\\(\\displaystyle \\left[\\left[\\alpha = 1, \\beta = 2, \\gamma = 2\\right]\\right]\\)</html>"
      ],
      "text/latex": [
       "$\\displaystyle \\left[\\left[\\alpha = 1, \\beta = 2, \\gamma = 2\\right]\\right]$"
      ],
      "text/plain": [
       "[[alpha == 1, beta == 2, gamma == 2]]"
      ]
     },
     "metadata": {},
     "output_type": "display_data"
    }
   ],
   "source": [
    "show(solve([Au[i] == Tu[i] for i in range(3)],[alpha,beta,gamma]))"
   ]
  },
  {
   "cell_type": "code",
   "execution_count": 74,
   "metadata": {},
   "outputs": [
    {
     "data": {
      "text/html": [
       "<html>\\(\\displaystyle \\left(\\begin{array}{rrr}\n",
       "3 & 1 & -3 \\\\\n",
       "1 & 3 & -3 \\\\\n",
       "1 & 1 & -1\n",
       "\\end{array}\\right)\\)</html>"
      ],
      "text/latex": [
       "$\\displaystyle \\left(\\begin{array}{rrr}\n",
       "3 & 1 & -3 \\\\\n",
       "1 & 3 & -3 \\\\\n",
       "1 & 1 & -1\n",
       "\\end{array}\\right)$"
      ],
      "text/plain": [
       "[ 3  1 -3]\n",
       "[ 1  3 -3]\n",
       "[ 1  1 -1]"
      ]
     },
     "metadata": {},
     "output_type": "display_data"
    }
   ],
   "source": [
    "A = A.subs(alpha=1,beta=2,gamma=2)\n",
    "show(A)"
   ]
  },
  {
   "cell_type": "markdown",
   "metadata": {},
   "source": [
    "Per tant, la representació de $T$ en la base canònica és\n",
    "$$\n",
    "  \\left(\\begin{array}{c} u\\\\ v\\\\ w \\end{array}\\right)\n",
    "  = \\left(\\begin{array}{rrr}\n",
    "  3 & 1 & -3 \\\\\n",
    "  1 & 3 & -3 \\\\\n",
    "  1 & 1 & -1\n",
    "  \\end{array}\\right)\n",
    "  \\left(\\begin{array}{c} x\\\\ y\\\\ z \\end{array}\\right)\\,.\n",
    "$$"
   ]
  },
  {
   "cell_type": "markdown",
   "metadata": {},
   "source": [
    "## Exercici 19\n",
    "Donada la matriu simètrica\n",
    "$$\n",
    "  A=\\left(\\begin{array}{rrr}\n",
    "   5 & -2 & 2 \\\\\n",
    "  -2 &  2 & 4 \\\\\n",
    "   2 &  4 & 2\n",
    "  \\end{array}\\right) \\,,\n",
    "$$\n",
    "1. diagonalitzeu-la i expresseu la matriu diagonal en funció de la matriu $A$ i de la matriu de canvi de base;\n",
    "2. diagonalitzeu-la ortogonalment i expresseu la matriu diagonal en funció de la matriu $A$ i de la matriu ortogonal de canvi de base."
   ]
  },
  {
   "cell_type": "markdown",
   "metadata": {},
   "source": [
    "El primer pas és el mateix que en els exercicis anteriors: trobar una base de vectors propis per a la matriu $A$. Com que $A$ és simètrica, ja sabem que serà diagonalitzable."
   ]
  },
  {
   "cell_type": "code",
   "execution_count": 75,
   "metadata": {},
   "outputs": [
    {
     "data": {
      "text/html": [
       "<html>\\(\\displaystyle x^{3} - 9x^{2} + 108\\)</html>"
      ],
      "text/latex": [
       "$\\displaystyle x^{3} - 9x^{2} + 108$"
      ],
      "text/plain": [
       "x^3 - 9*x^2 + 108"
      ]
     },
     "metadata": {},
     "output_type": "display_data"
    }
   ],
   "source": [
    "A = matrix([[5,-2,2],[-2,2,4],[2,4,2]])\n",
    "p = A.charpoly()\n",
    "show(p)"
   ]
  },
  {
   "cell_type": "code",
   "execution_count": 76,
   "metadata": {},
   "outputs": [
    {
     "data": {
      "text/html": [
       "<html>\\(\\displaystyle \\left[\\left(-3, 1\\right), \\left(6, 2\\right)\\right]\\)</html>"
      ],
      "text/latex": [
       "$\\displaystyle \\left[\\left(-3, 1\\right), \\left(6, 2\\right)\\right]$"
      ],
      "text/plain": [
       "[(-3, 1), (6, 2)]"
      ]
     },
     "metadata": {},
     "output_type": "display_data"
    }
   ],
   "source": [
    "show(p.roots())"
   ]
  },
  {
   "cell_type": "markdown",
   "metadata": {},
   "source": [
    "El valors propis de la matriu $A$ son $\\lambda_1=-3$, $\\lambda_2=6$ amb multiplicitat 2."
   ]
  },
  {
   "cell_type": "markdown",
   "metadata": {},
   "source": [
    "Vectors propis amb valor propi $\\lambda_1=-3$:"
   ]
  },
  {
   "cell_type": "code",
   "execution_count": 77,
   "metadata": {},
   "outputs": [
    {
     "data": {
      "text/html": [
       "<html>\\(\\displaystyle \\left[\\left[x = -\\frac{1}{2} \\, r_{24}, y = -r_{24}, z = r_{24}\\right]\\right]\\)</html>"
      ],
      "text/latex": [
       "$\\displaystyle \\left[\\left[x = -\\frac{1}{2} \\, r_{24}, y = -r_{24}, z = r_{24}\\right]\\right]$"
      ],
      "text/plain": [
       "[[x == -1/2*r24, y == -r24, z == r24]]"
      ]
     },
     "metadata": {},
     "output_type": "display_data"
    }
   ],
   "source": [
    "x, y, z = var('x y z')\n",
    "X = vector([x,y,z])\n",
    "AX = A * X\n",
    "l = -3\n",
    "show(solve([AX[i] == l*X[i] for i in range(3)],[x,y,z]))"
   ]
  },
  {
   "cell_type": "markdown",
   "metadata": {},
   "source": [
    "$V_{-3}$ és la recta vectorial generada pel vector $(1,2,-2)$."
   ]
  },
  {
   "cell_type": "markdown",
   "metadata": {},
   "source": [
    "Vectors propis amb valor propi $\\lambda_2=6$:"
   ]
  },
  {
   "cell_type": "code",
   "execution_count": 78,
   "metadata": {},
   "outputs": [
    {
     "data": {
      "text/html": [
       "<html>\\(\\displaystyle \\left[\\left[x = 2 \\, r_{25} - 2 \\, r_{26}, y = r_{26}, z = r_{25}\\right]\\right]\\)</html>"
      ],
      "text/latex": [
       "$\\displaystyle \\left[\\left[x = 2 \\, r_{25} - 2 \\, r_{26}, y = r_{26}, z = r_{25}\\right]\\right]$"
      ],
      "text/plain": [
       "[[x == 2*r25 - 2*r26, y == r26, z == r25]]"
      ]
     },
     "metadata": {},
     "output_type": "display_data"
    }
   ],
   "source": [
    "x, y, z = var('x y z')\n",
    "X = vector([x,y,z])\n",
    "AX = A * X\n",
    "l = 6\n",
    "show(solve([AX[i] == l*X[i] for i in range(3)],[x,y,z]))"
   ]
  },
  {
   "cell_type": "markdown",
   "metadata": {},
   "source": [
    "$V_6$ és el pla vectorial generat pels vectors $(2,0,1)$ i $(-2,1,0)$. Aleshores, $\\mathcal{B}'=\\{(1,2,-2),(2,0,1),(-2,1,0)\\}$ és una base de $V_3$ formada per vectors propis de $A$ i, si posem\n",
    "$$\n",
    "  C=\\left(\\begin{array}{rrr}\n",
    "   1 & 2 & -2 \\\\\n",
    "   2 & 0 &  1 \\\\\n",
    "  -2 & 1 &  0\n",
    "  \\end{array}\\right) \\,,\n",
    "$$\n",
    "es compleix que\n",
    "$$\n",
    "  \\left(\\begin{array}{rrr}\n",
    "   1 & 2 & -2 \\\\\n",
    "   2 & 0 &  1 \\\\\n",
    "  -2 & 1 &  0\n",
    "  \\end{array}\\right)^{-1}\n",
    "  \\left(\\begin{array}{rrr}\n",
    "   5 & -2 & 2 \\\\\n",
    "  -2 &  2 & 4 \\\\\n",
    "   2 &  4 & 2\n",
    "  \\end{array}\\right)\n",
    "  \\left(\\begin{array}{rrr}\n",
    "   1 & 2 & -2 \\\\\n",
    "   2 & 0 &  1 \\\\\n",
    "  -2 & 1 &  0\n",
    "  \\end{array}\\right)\n",
    "  = \\left(\\begin{array}{rrr}\n",
    "   -3 & 0 & 0 \\\\\n",
    "    0 & 6 & 0 \\\\\n",
    "    0 & 0 & 6\n",
    "  \\end{array}\\right)\\,,\n",
    "$$\n",
    "o bé\n",
    "$$\n",
    "  \\left(\\begin{array}{rrr}\n",
    "   5 & -2 & 2 \\\\\n",
    "  -2 &  2 & 4 \\\\\n",
    "   2 &  4 & 2\n",
    "  \\end{array}\\right)\n",
    "  =\\left(\\begin{array}{rrr}\n",
    "   1 & 2 & -2 \\\\\n",
    "   2 & 0 &  1 \\\\\n",
    "  -2 & 1 &  0\n",
    "  \\end{array}\\right)\n",
    "  \\left(\\begin{array}{rrr}\n",
    "   -3 & 0 & 0 \\\\\n",
    "    0 & 6 & 0 \\\\\n",
    "    0 & 0 & 6\n",
    "  \\end{array}\\right)\n",
    "  \\left(\\begin{array}{rrr}\n",
    "   1 & 2 & -2 \\\\\n",
    "   2 & 0 &  1 \\\\\n",
    "  -2 & 1 &  0\n",
    "  \\end{array}\\right)^{-1}\\,.\n",
    "$$"
   ]
  },
  {
   "cell_type": "markdown",
   "metadata": {},
   "source": [
    "Comprovació:"
   ]
  },
  {
   "cell_type": "code",
   "execution_count": 79,
   "metadata": {},
   "outputs": [
    {
     "data": {
      "text/html": [
       "<html>\\(\\displaystyle \\left(\\begin{array}{rrr}\n",
       "-3 & 0 & 0 \\\\\n",
       "0 & 6 & 0 \\\\\n",
       "0 & 0 & 6\n",
       "\\end{array}\\right)\\)</html>"
      ],
      "text/latex": [
       "$\\displaystyle \\left(\\begin{array}{rrr}\n",
       "-3 & 0 & 0 \\\\\n",
       "0 & 6 & 0 \\\\\n",
       "0 & 0 & 6\n",
       "\\end{array}\\right)$"
      ],
      "text/plain": [
       "[-3  0  0]\n",
       "[ 0  6  0]\n",
       "[ 0  0  6]"
      ]
     },
     "metadata": {},
     "output_type": "display_data"
    }
   ],
   "source": [
    "C = matrix([[1,2,-2],[2,0,1],[-2,1,0]])\n",
    "show(C.inverse() * A * C)"
   ]
  },
  {
   "cell_type": "code",
   "execution_count": 80,
   "metadata": {},
   "outputs": [
    {
     "data": {
      "text/html": [
       "<html>\\(\\displaystyle \\left(\\begin{array}{rrr}\n",
       "5 & -2 & 2 \\\\\n",
       "-2 & 2 & 4 \\\\\n",
       "2 & 4 & 2\n",
       "\\end{array}\\right)\\)</html>"
      ],
      "text/latex": [
       "$\\displaystyle \\left(\\begin{array}{rrr}\n",
       "5 & -2 & 2 \\\\\n",
       "-2 & 2 & 4 \\\\\n",
       "2 & 4 & 2\n",
       "\\end{array}\\right)$"
      ],
      "text/plain": [
       "[ 5 -2  2]\n",
       "[-2  2  4]\n",
       "[ 2  4  2]"
      ]
     },
     "metadata": {},
     "output_type": "display_data"
    }
   ],
   "source": [
    "A1 = diagonal_matrix([-3,6,6])\n",
    "show(C*A1*C.inverse())"
   ]
  },
  {
   "cell_type": "markdown",
   "metadata": {},
   "source": [
    "A la segona part, hem de trobar una base ortonormal de vectors propis de $A$. Observem que $(1,2,-2)$ ja es perpendicular als altres dos (*recordem que vectors propis amb valors propis diferents d'una transformació lineal o una matriu simètrica són ortogonals*). Per tant, només cal aplicar Gram-Schmidt als dos últims:"
   ]
  },
  {
   "cell_type": "code",
   "execution_count": 81,
   "metadata": {},
   "outputs": [
    {
     "data": {
      "text/html": [
       "<html>\\(\\displaystyle \\left(-2,\\,5,\\,4\\right)\\)</html>"
      ],
      "text/latex": [
       "$\\displaystyle \\left(-2,\\,5,\\,4\\right)$"
      ],
      "text/plain": [
       "(-2, 5, 4)"
      ]
     },
     "metadata": {},
     "output_type": "display_data"
    }
   ],
   "source": [
    "u1 = vector([2,0,1])\n",
    "u2 = vector([-2,1,0])\n",
    "v1 = u1\n",
    "v2 = u2 - (u2*v1)/(v1*v1)*v1\n",
    "v2 = 5*v2\n",
    "show(v2)"
   ]
  },
  {
   "cell_type": "markdown",
   "metadata": {},
   "source": [
    "Aleshores la base\n",
    "$$\n",
    "  \\mathcal{B}''=\\left\\{\\frac{1}{3}(1,2,-2),\\frac{1}{\\sqrt{5}}(2,0,1),\\frac{1}{3\\sqrt{5}}(-2,5,4)\\right\\}\n",
    "$$\n",
    "és una és una **base ortonormal** de $V_3$ formada per vectors propis de la matriu $A$. Si posem\n",
    "$$\n",
    "  P = \\frac{1}{3\\sqrt{5}}\\left(\\begin{array}{rrr}\n",
    "   \\sqrt{5}  & 6 & -2 \\\\\n",
    "   2\\sqrt{5} & 0 &  5 \\\\\n",
    "  -2\\sqrt{5} & 3 &  4\n",
    "  \\end{array}\\right)\\,,\n",
    "$$\n",
    "es compleix que $P^tP=I$ i $A=PDP^t$."
   ]
  },
  {
   "cell_type": "code",
   "execution_count": 82,
   "metadata": {},
   "outputs": [
    {
     "data": {
      "text/html": [
       "<html>\\(\\displaystyle \\left(\\begin{array}{rrr}\n",
       "1 & 0 & 0 \\\\\n",
       "0 & 1 & 0 \\\\\n",
       "0 & 0 & 1\n",
       "\\end{array}\\right)\\)</html>"
      ],
      "text/latex": [
       "$\\displaystyle \\left(\\begin{array}{rrr}\n",
       "1 & 0 & 0 \\\\\n",
       "0 & 1 & 0 \\\\\n",
       "0 & 0 & 1\n",
       "\\end{array}\\right)$"
      ],
      "text/plain": [
       "[1 0 0]\n",
       "[0 1 0]\n",
       "[0 0 1]"
      ]
     },
     "metadata": {},
     "output_type": "display_data"
    }
   ],
   "source": [
    "P = 1/(3*sqrt(5))*matrix([[sqrt(5),6,-2],[2*sqrt(5),0,5],[-2*sqrt(5),3,4]])\n",
    "show(P.T*P)"
   ]
  },
  {
   "cell_type": "code",
   "execution_count": 83,
   "metadata": {},
   "outputs": [
    {
     "data": {
      "text/html": [
       "<html>\\(\\displaystyle \\left(\\begin{array}{rrr}\n",
       "5 & -2 & 2 \\\\\n",
       "-2 & 2 & 4 \\\\\n",
       "2 & 4 & 2\n",
       "\\end{array}\\right)\\)</html>"
      ],
      "text/latex": [
       "$\\displaystyle \\left(\\begin{array}{rrr}\n",
       "5 & -2 & 2 \\\\\n",
       "-2 & 2 & 4 \\\\\n",
       "2 & 4 & 2\n",
       "\\end{array}\\right)$"
      ],
      "text/plain": [
       "[ 5 -2  2]\n",
       "[-2  2  4]\n",
       "[ 2  4  2]"
      ]
     },
     "metadata": {},
     "output_type": "display_data"
    }
   ],
   "source": [
    "show(P*A1*P.T)"
   ]
  },
  {
   "cell_type": "markdown",
   "metadata": {},
   "source": [
    "La matriu diagonal en funció de la matriu $A$ i de la matriu ortogonal de canvi de base és\n",
    "$$\n",
    "  A=PA'P^t\\,.\n",
    "$$"
   ]
  },
  {
   "cell_type": "markdown",
   "metadata": {},
   "source": [
    "## Exercici 20\n",
    "Diagonalitzeu ortogonalment la transformació lineal de $V_3$ que en la base canònica té representació\n",
    "$$\n",
    "  \\left(\\begin{array}{c} u\\\\ v\\\\ w \\end{array}\\right)\n",
    "  = \\left(\\begin{array}{rrr}\n",
    "  0 & 1 & 0 \\\\\n",
    "  1 & 0 & 0 \\\\\n",
    "  0 & 0 & 2\n",
    "  \\end{array}\\right) \n",
    "  \\left(\\begin{array}{c} x\\\\ y\\\\ z \\end{array}\\right)\\,.\n",
    "$$"
   ]
  },
  {
   "cell_type": "code",
   "execution_count": 84,
   "metadata": {},
   "outputs": [
    {
     "data": {
      "text/html": [
       "<html>\\(\\displaystyle x^{3} - 2x^{2} - x + 2\\)</html>"
      ],
      "text/latex": [
       "$\\displaystyle x^{3} - 2x^{2} - x + 2$"
      ],
      "text/plain": [
       "x^3 - 2*x^2 - x + 2"
      ]
     },
     "metadata": {},
     "output_type": "display_data"
    }
   ],
   "source": [
    "A = matrix([[0,1,0],[1,0,0],[0,0,2]])\n",
    "p = A.charpoly()\n",
    "show(p)"
   ]
  },
  {
   "cell_type": "code",
   "execution_count": 85,
   "metadata": {},
   "outputs": [
    {
     "data": {
      "text/html": [
       "<html>\\(\\displaystyle \\left[\\left(2, 1\\right), \\left(1, 1\\right), \\left(-1, 1\\right)\\right]\\)</html>"
      ],
      "text/latex": [
       "$\\displaystyle \\left[\\left(2, 1\\right), \\left(1, 1\\right), \\left(-1, 1\\right)\\right]$"
      ],
      "text/plain": [
       "[(2, 1), (1, 1), (-1, 1)]"
      ]
     },
     "metadata": {},
     "output_type": "display_data"
    }
   ],
   "source": [
    "show(p.roots())"
   ]
  },
  {
   "cell_type": "markdown",
   "metadata": {},
   "source": [
    "El valors propis de $T$ son $\\lambda_1=2$, $\\lambda_2=1$ i $\\lambda_3=-1$, tots simples."
   ]
  },
  {
   "cell_type": "markdown",
   "metadata": {},
   "source": [
    "Vectors propis amb valor propi $\\lambda_1=2$:"
   ]
  },
  {
   "cell_type": "code",
   "execution_count": 86,
   "metadata": {},
   "outputs": [
    {
     "data": {
      "text/html": [
       "<html>\\(\\displaystyle \\left[\\left[x = 0, y = 0, z = r_{27}\\right]\\right]\\)</html>"
      ],
      "text/latex": [
       "$\\displaystyle \\left[\\left[x = 0, y = 0, z = r_{27}\\right]\\right]$"
      ],
      "text/plain": [
       "[[x == 0, y == 0, z == r27]]"
      ]
     },
     "metadata": {},
     "output_type": "display_data"
    }
   ],
   "source": [
    "x, y, z = var('x y z')\n",
    "X = vector([x,y,z])\n",
    "AX = A * X\n",
    "l = 2\n",
    "show(solve([AX[i] == l*X[i] for i in range(3)],[x,y,z]))"
   ]
  },
  {
   "cell_type": "markdown",
   "metadata": {},
   "source": [
    "$V_2$ és la recta vectorial generada pel vector $(0,0,1)$."
   ]
  },
  {
   "cell_type": "markdown",
   "metadata": {},
   "source": [
    "Vectors propis amb valor propi $\\lambda_2=1$:"
   ]
  },
  {
   "cell_type": "code",
   "execution_count": 87,
   "metadata": {},
   "outputs": [
    {
     "data": {
      "text/html": [
       "<html>\\(\\displaystyle \\left[\\left[x = r_{28}, y = r_{28}, z = 0\\right]\\right]\\)</html>"
      ],
      "text/latex": [
       "$\\displaystyle \\left[\\left[x = r_{28}, y = r_{28}, z = 0\\right]\\right]$"
      ],
      "text/plain": [
       "[[x == r28, y == r28, z == 0]]"
      ]
     },
     "metadata": {},
     "output_type": "display_data"
    }
   ],
   "source": [
    "x, y, z = var('x y z')\n",
    "X = vector([x,y,z])\n",
    "AX = A * X\n",
    "l = 1\n",
    "show(solve([AX[i] == l*X[i] for i in range(3)],[x,y,z]))"
   ]
  },
  {
   "cell_type": "markdown",
   "metadata": {},
   "source": [
    "$V_1$ és la recta vectorial generada pel vector $(1,1,0)$."
   ]
  },
  {
   "cell_type": "markdown",
   "metadata": {},
   "source": [
    "Vectors propis amb valor propi $\\lambda_3=-1$:"
   ]
  },
  {
   "cell_type": "code",
   "execution_count": 88,
   "metadata": {},
   "outputs": [
    {
     "data": {
      "text/html": [
       "<html>\\(\\displaystyle \\left[\\left[x = r_{29}, y = -r_{29}, z = 0\\right]\\right]\\)</html>"
      ],
      "text/latex": [
       "$\\displaystyle \\left[\\left[x = r_{29}, y = -r_{29}, z = 0\\right]\\right]$"
      ],
      "text/plain": [
       "[[x == r29, y == -r29, z == 0]]"
      ]
     },
     "metadata": {},
     "output_type": "display_data"
    }
   ],
   "source": [
    "x, y, z = var('x y z')\n",
    "X = vector([x,y,z])\n",
    "AX = A * X\n",
    "l = -1\n",
    "show(solve([AX[i] == l*X[i] for i in range(3)],[x,y,z]))"
   ]
  },
  {
   "cell_type": "markdown",
   "metadata": {},
   "source": [
    "$V_{-1}$ és la recta vectorial generada pel vector $(1,-1,0)$. Aleshores, com que aquests tres vectors ja són perpendiculars entre ells, la base\n",
    "$$\n",
    "  \\mathcal{B}'=\\left\\{(0,0,1),\\frac{1}{\\sqrt{2}}(1,1,0),\\frac{1}{\\sqrt{2}}(1,-1,0)\\right\\}\n",
    "$$\n",
    "és una base ortonormal de $V_3$ formada per vectors propis de $T$. Així docs, la representació de la transfornació lineal $T$ en la base $\\mathcal{B}'$ és\n",
    "$$\n",
    "  \\left(\\begin{array}{c} u'\\\\ v'\\\\ w' \\end{array}\\right)\n",
    "  = \\left(\\begin{array}{rrr}\n",
    "  2 & 0 &  0 \\\\\n",
    "  0 & 1 &  0 \\\\\n",
    "  0 & 0 & -1\n",
    "  \\end{array}\\right) \n",
    "  \\left(\\begin{array}{c} x'\\\\ y'\\\\ z' \\end{array}\\right)\\,.\n",
    "$$"
   ]
  },
  {
   "cell_type": "markdown",
   "metadata": {},
   "source": [
    "## Exercici 21\n",
    "Diagonalitzeu ortogonalment la transformació lineal $T:V_3\\longrightarrow V_3$ amb representació\n",
    "$$\n",
    "  \\left(\\begin{array}{c} u'\\\\ v'\\\\ w' \\end{array}\\right)\n",
    "  = \\left(\\begin{array}{rrr}\n",
    "  0 & 2 & 2\\\\\n",
    "  2 & 0 & 2\\\\\n",
    "  2 & 2 & 0\n",
    "  \\end{array}\\right) \n",
    "  \\left(\\begin{array}{c} x'\\\\ y'\\\\ z' \\end{array}\\right)\\,.\n",
    "$$\n",
    "en la base $\\mathcal{B}'=\\left\\{\\frac{1}{3}(2,2,-1),\\frac{1}{3}(2,-1,2),\\frac{1}{3}(-1,2,2)\\right\\}$."
   ]
  },
  {
   "cell_type": "markdown",
   "metadata": {},
   "source": [
    "En primer lloc, trobem la representació de $T$ en la base canónica:"
   ]
  },
  {
   "cell_type": "code",
   "execution_count": 89,
   "metadata": {},
   "outputs": [
    {
     "data": {
      "text/html": [
       "<html>\\(\\displaystyle \\left(\\begin{array}{rrr}\n",
       "0 & 2 & 2 \\\\\n",
       "2 & 0 & 2 \\\\\n",
       "2 & 2 & 0\n",
       "\\end{array}\\right)\\)</html>"
      ],
      "text/latex": [
       "$\\displaystyle \\left(\\begin{array}{rrr}\n",
       "0 & 2 & 2 \\\\\n",
       "2 & 0 & 2 \\\\\n",
       "2 & 2 & 0\n",
       "\\end{array}\\right)$"
      ],
      "text/plain": [
       "[0 2 2]\n",
       "[2 0 2]\n",
       "[2 2 0]"
      ]
     },
     "metadata": {},
     "output_type": "display_data"
    }
   ],
   "source": [
    "A1 = matrix([[0,2,2],[2,0,2],[2,2,0]])\n",
    "C = 1/3*matrix([[2,2,-1],[2,-1,2],[-1,2,2]]).T\n",
    "A = C*A1*C.inverse()\n",
    "show(A)"
   ]
  },
  {
   "cell_type": "markdown",
   "metadata": {},
   "source": [
    "La representació de $T$ en la base canònica és\n",
    "$$\n",
    "  \\left(\\begin{array}{c} u\\\\ v\\\\ w \\end{array}\\right)\n",
    "  = \\left(\\begin{array}{rrr}\n",
    "  0 & 2 & 2\\\\\n",
    "  2 & 0 & 2\\\\\n",
    "  2 & 2 & 0\n",
    "  \\end{array}\\right) \n",
    "  \\left(\\begin{array}{c} x\\\\ y\\\\ z \\end{array}\\right)\\,.\n",
    "$$\n",
    "És una coincidència que les matrius de les dues representacions coincideixin."
   ]
  },
  {
   "cell_type": "code",
   "execution_count": 90,
   "metadata": {},
   "outputs": [
    {
     "data": {
      "text/html": [
       "<html>\\(\\displaystyle x^{3} - 12 x - 16\\)</html>"
      ],
      "text/latex": [
       "$\\displaystyle x^{3} - 12 x - 16$"
      ],
      "text/plain": [
       "x^3 - 12*x - 16"
      ]
     },
     "metadata": {},
     "output_type": "display_data"
    }
   ],
   "source": [
    "p = A.charpoly()\n",
    "show(p)"
   ]
  },
  {
   "cell_type": "code",
   "execution_count": 91,
   "metadata": {},
   "outputs": [
    {
     "data": {
      "text/html": [
       "<html>\\(\\displaystyle \\left[\\left(4, 1\\right), \\left(-2, 2\\right)\\right]\\)</html>"
      ],
      "text/latex": [
       "$\\displaystyle \\left[\\left(4, 1\\right), \\left(-2, 2\\right)\\right]$"
      ],
      "text/plain": [
       "[(4, 1), (-2, 2)]"
      ]
     },
     "metadata": {},
     "output_type": "display_data"
    }
   ],
   "source": [
    "show(p.roots())"
   ]
  },
  {
   "cell_type": "markdown",
   "metadata": {},
   "source": [
    "Els valors propis de $T$ són $\\lambda_1=4$ i $\\lambda_2=-2$ amb multiplicitat 2."
   ]
  },
  {
   "cell_type": "markdown",
   "metadata": {},
   "source": [
    "Vectors propis amb valor propi $\\lambda_1=4$:"
   ]
  },
  {
   "cell_type": "code",
   "execution_count": 92,
   "metadata": {},
   "outputs": [
    {
     "data": {
      "text/html": [
       "<html>\\(\\displaystyle \\left[\\left[x = r_{30}, y = r_{30}, z = r_{30}\\right]\\right]\\)</html>"
      ],
      "text/latex": [
       "$\\displaystyle \\left[\\left[x = r_{30}, y = r_{30}, z = r_{30}\\right]\\right]$"
      ],
      "text/plain": [
       "[[x == r30, y == r30, z == r30]]"
      ]
     },
     "metadata": {},
     "output_type": "display_data"
    }
   ],
   "source": [
    "x, y, z = var('x y z')\n",
    "X = vector([x,y,z])\n",
    "AX = A * X\n",
    "l = 4\n",
    "show(solve([AX[i] == l*X[i] for i in range(3)],[x,y,z]))"
   ]
  },
  {
   "cell_type": "markdown",
   "metadata": {},
   "source": [
    "$V_{4}$ és la recta vectorial generada pel vector $(1,1,1)$."
   ]
  },
  {
   "cell_type": "markdown",
   "metadata": {},
   "source": [
    "Vectors propis amb valor propi $\\lambda_1=-2$:"
   ]
  },
  {
   "cell_type": "code",
   "execution_count": 93,
   "metadata": {},
   "outputs": [
    {
     "data": {
      "text/html": [
       "<html>\\(\\displaystyle \\left[\\left[x = -r_{31} - r_{32}, y = r_{32}, z = r_{31}\\right]\\right]\\)</html>"
      ],
      "text/latex": [
       "$\\displaystyle \\left[\\left[x = -r_{31} - r_{32}, y = r_{32}, z = r_{31}\\right]\\right]$"
      ],
      "text/plain": [
       "[[x == -r31 - r32, y == r32, z == r31]]"
      ]
     },
     "metadata": {},
     "output_type": "display_data"
    }
   ],
   "source": [
    "x, y, z = var('x y z')\n",
    "X = vector([x,y,z])\n",
    "AX = A * X\n",
    "l = -2\n",
    "show(solve([AX[i] == l*X[i] for i in range(3)],[x,y,z]))"
   ]
  },
  {
   "cell_type": "markdown",
   "metadata": {},
   "source": [
    "$V_{-2}$ és el pla vectorial generat pels vectors $(-1,0,1)$ i $(-1,1,0)$. Com que aquests dos vectors no són perpenciculars entre ells, hem d'aplicar el mètode de Gram-Schmidt."
   ]
  },
  {
   "cell_type": "code",
   "execution_count": 94,
   "metadata": {},
   "outputs": [
    {
     "data": {
      "text/html": [
       "<html>\\(\\displaystyle \\left(-1,\\,2,\\,-1\\right)\\)</html>"
      ],
      "text/latex": [
       "$\\displaystyle \\left(-1,\\,2,\\,-1\\right)$"
      ],
      "text/plain": [
       "(-1, 2, -1)"
      ]
     },
     "metadata": {},
     "output_type": "display_data"
    }
   ],
   "source": [
    "u1 = vector([-1,0,1])\n",
    "u2 = vector([-1,1,0])\n",
    "v1 = u1\n",
    "v2 = u2 - (u2*v1)/(v1*v1)*v1\n",
    "v2 = 2*v2\n",
    "show(v2)"
   ]
  },
  {
   "cell_type": "markdown",
   "metadata": {},
   "source": [
    "Així doncs, la base $\\mathcal{B}''=\\left\\{\\frac{1}{\\sqrt{3}}(1,1,1),\\frac{1}{\\sqrt{2}}(-1,0,1),\\frac{1}{\\sqrt{6}}(1,-2,1)\\right\\}$ és una base ortonormal de $V_3$ formada per vectors propis de $T$ i la representació de la transformació lineal en aquesta base és\n",
    "$$\n",
    "  \\left(\\begin{array}{c} u''\\\\ v''\\\\ w'' \\end{array}\\right)\n",
    "  = \\left(\\begin{array}{rrr}\n",
    "  4 &  0 &  0\\\\\n",
    "  0 & -2 &  0\\\\\n",
    "  0 &  0 & -2\n",
    "  \\end{array}\\right) \n",
    "  \\left(\\begin{array}{c} x''\\\\ y''\\\\ z'' \\end{array}\\right)\\,.\n",
    "$$"
   ]
  },
  {
   "cell_type": "markdown",
   "metadata": {},
   "source": [
    "## Exercici 22\n",
    "La representació en la base $\\mathcal{B}'=\\{(1,0,1),(1,1,0),(1,2,0)\\}$ de la transformació lineal $T:V_3\\longrightarrow V_3$ és\n",
    "$$\n",
    "  \\left(\\begin{array}{c} u'\\\\ v'\\\\ w' \\end{array}\\right)\n",
    "  = \\left(\\begin{array}{rrr}\n",
    "   2 & 0 &  0\\\\\n",
    "  -5 & 1 &  3\\\\\n",
    "   3 & 0 & -1\n",
    "  \\end{array}\\right) \n",
    "  \\left(\\begin{array}{c} x'\\\\ y'\\\\ z' \\end{array}\\right)\\,.\n",
    "$$\n",
    "Analitzeu si la transformació lineal $T$ és simètrica i, en cas afirmatiu, diagonalitzeu-la ortogonalment."
   ]
  },
  {
   "cell_type": "markdown",
   "metadata": {},
   "source": [
    "En primer lloc, trobem la representació de $T$ en la base canónica:"
   ]
  },
  {
   "cell_type": "code",
   "execution_count": 95,
   "metadata": {},
   "outputs": [
    {
     "data": {
      "text/html": [
       "<html>\\(\\displaystyle \\left(\\begin{array}{rrr}\n",
       "0 & 1 & 0 \\\\\n",
       "1 & 0 & 0 \\\\\n",
       "0 & 0 & 2\n",
       "\\end{array}\\right)\\)</html>"
      ],
      "text/latex": [
       "$\\displaystyle \\left(\\begin{array}{rrr}\n",
       "0 & 1 & 0 \\\\\n",
       "1 & 0 & 0 \\\\\n",
       "0 & 0 & 2\n",
       "\\end{array}\\right)$"
      ],
      "text/plain": [
       "[0 1 0]\n",
       "[1 0 0]\n",
       "[0 0 2]"
      ]
     },
     "metadata": {},
     "output_type": "display_data"
    }
   ],
   "source": [
    "A1 = matrix([[2,0,0],[-5,1,3],[3,0,-1]])\n",
    "C = matrix([[1,0,1],[1,1,0],[1,2,0]]).T\n",
    "A = C*A1*C.inverse()\n",
    "show(A)"
   ]
  },
  {
   "cell_type": "markdown",
   "metadata": {},
   "source": [
    "Com que aquesta matriu és simètrica, la transformació lineal $T$ és simètrica i la seva representació en la base canònica és\n",
    "$$\n",
    "  \\left(\\begin{array}{c} u\\\\ v\\\\ w \\end{array}\\right)\n",
    "  = \\left(\\begin{array}{rrr}\n",
    "  0 & 1 & 0 \\\\\n",
    "  1 & 0 & 0 \\\\\n",
    "  0 & 0 & 2\n",
    "  \\end{array}\\right)\n",
    "  \\left(\\begin{array}{c} x\\\\ y\\\\ z \\end{array}\\right)\\,.\n",
    "$$"
   ]
  },
  {
   "cell_type": "code",
   "execution_count": 96,
   "metadata": {},
   "outputs": [
    {
     "data": {
      "text/html": [
       "<html>\\(\\displaystyle x^{3} - 2 x^{2} - x + 2\\)</html>"
      ],
      "text/latex": [
       "$\\displaystyle x^{3} - 2 x^{2} - x + 2$"
      ],
      "text/plain": [
       "x^3 - 2*x^2 - x + 2"
      ]
     },
     "metadata": {},
     "output_type": "display_data"
    }
   ],
   "source": [
    "p = A.charpoly()\n",
    "show(p)"
   ]
  },
  {
   "cell_type": "code",
   "execution_count": 97,
   "metadata": {},
   "outputs": [
    {
     "data": {
      "text/html": [
       "<html>\\(\\displaystyle \\left[\\left(2, 1\\right), \\left(1, 1\\right), \\left(-1, 1\\right)\\right]\\)</html>"
      ],
      "text/latex": [
       "$\\displaystyle \\left[\\left(2, 1\\right), \\left(1, 1\\right), \\left(-1, 1\\right)\\right]$"
      ],
      "text/plain": [
       "[(2, 1), (1, 1), (-1, 1)]"
      ]
     },
     "metadata": {},
     "output_type": "display_data"
    }
   ],
   "source": [
    "show(p.roots())"
   ]
  },
  {
   "cell_type": "markdown",
   "metadata": {},
   "source": [
    "Els valors propis de $T$ són $\\lambda_1=2$, $\\lambda_2=1$ i $\\lambda_3=-1$, tots simples."
   ]
  },
  {
   "cell_type": "markdown",
   "metadata": {},
   "source": [
    "Vectors propis amb valor propi $\\lambda_1=2$:"
   ]
  },
  {
   "cell_type": "code",
   "execution_count": 98,
   "metadata": {},
   "outputs": [
    {
     "data": {
      "text/html": [
       "<html>\\(\\displaystyle \\left[\\left[x = 0, y = 0, z = r_{33}\\right]\\right]\\)</html>"
      ],
      "text/latex": [
       "$\\displaystyle \\left[\\left[x = 0, y = 0, z = r_{33}\\right]\\right]$"
      ],
      "text/plain": [
       "[[x == 0, y == 0, z == r33]]"
      ]
     },
     "metadata": {},
     "output_type": "display_data"
    }
   ],
   "source": [
    "x, y, z = var('x y z')\n",
    "X = vector([x,y,z])\n",
    "AX = A * X\n",
    "l = 2\n",
    "show(solve([AX[i] == l*X[i] for i in range(3)],[x,y,z]))"
   ]
  },
  {
   "cell_type": "markdown",
   "metadata": {},
   "source": [
    "$V_2$ és la recta vectorial generada perl vector $(0,0,1)$."
   ]
  },
  {
   "cell_type": "markdown",
   "metadata": {},
   "source": [
    "Vectors propis amb valor propi $\\lambda_2=1$:"
   ]
  },
  {
   "cell_type": "code",
   "execution_count": 99,
   "metadata": {},
   "outputs": [
    {
     "data": {
      "text/html": [
       "<html>\\(\\displaystyle \\left[\\left[x = r_{34}, y = r_{34}, z = 0\\right]\\right]\\)</html>"
      ],
      "text/latex": [
       "$\\displaystyle \\left[\\left[x = r_{34}, y = r_{34}, z = 0\\right]\\right]$"
      ],
      "text/plain": [
       "[[x == r34, y == r34, z == 0]]"
      ]
     },
     "metadata": {},
     "output_type": "display_data"
    }
   ],
   "source": [
    "x, y, z = var('x y z')\n",
    "X = vector([x,y,z])\n",
    "AX = A * X\n",
    "l = 1\n",
    "show(solve([AX[i] == l*X[i] for i in range(3)],[x,y,z]))"
   ]
  },
  {
   "cell_type": "markdown",
   "metadata": {},
   "source": [
    "$V_1$ és la recta vectorial generada perl vector $(1,1,0)$."
   ]
  },
  {
   "cell_type": "markdown",
   "metadata": {},
   "source": [
    "Vectors propis amb valor propi $\\lambda_3=-1$:"
   ]
  },
  {
   "cell_type": "code",
   "execution_count": 100,
   "metadata": {},
   "outputs": [
    {
     "data": {
      "text/html": [
       "<html>\\(\\displaystyle \\left[\\left[x = r_{35}, y = -r_{35}, z = 0\\right]\\right]\\)</html>"
      ],
      "text/latex": [
       "$\\displaystyle \\left[\\left[x = r_{35}, y = -r_{35}, z = 0\\right]\\right]$"
      ],
      "text/plain": [
       "[[x == r35, y == -r35, z == 0]]"
      ]
     },
     "metadata": {},
     "output_type": "display_data"
    }
   ],
   "source": [
    "x, y, z = var('x y z')\n",
    "X = vector([x,y,z])\n",
    "AX = A * X\n",
    "l = -1\n",
    "show(solve([AX[i] == l*X[i] for i in range(3)],[x,y,z]))"
   ]
  },
  {
   "cell_type": "markdown",
   "metadata": {},
   "source": [
    "$V_{-1}$ és la recta vectorial generada perl vector $(1,-1,0)$."
   ]
  },
  {
   "cell_type": "markdown",
   "metadata": {},
   "source": [
    "Com que aquests tres vectors ja són perpendiculars, $\\mathcal{B}''=\\left\\{(0,0,1),\\frac{1}{\\sqrt{2}}(1,1,0),\\frac{1}{\\sqrt{2}}(1,-1,0)\\right\\}$ és una base ortonormal de $V_3$ formada per vectors propis de $T$ i la representació de la transformació lineal en la base $\\mathcal{B}''$ és\n",
    "$$\n",
    "  \\left(\\begin{array}{c} u''\\\\ v''\\\\ w'' \\end{array}\\right)\n",
    "  = \\left(\\begin{array}{rrr}\n",
    "  2 & 0 &  0\\\\\n",
    "  0 & 1 &  0\\\\\n",
    "  0 & 0 & -1\n",
    "  \\end{array}\\right) \n",
    "  \\left(\\begin{array}{c} x''\\\\ y''\\\\ z'' \\end{array}\\right)\\,.\n",
    "$$"
   ]
  },
  {
   "cell_type": "markdown",
   "metadata": {},
   "source": [
    "## Exercici 23\n",
    "Una transformació lineal simètrica $T$ de $V_3$ compleix\n",
    "$$\n",
    "  \\left.\\begin{aligned}\n",
    "    T(0,-6,-6) &= (-9,3,12) \\\\\n",
    "    T(6,0,-9) &= (-5,11,16)  \n",
    "  \\end{aligned}\\,\\right\\}\n",
    "$$\n",
    "i, a més, el vector $(1,-1,1)$ és un vector propi de $T$. Determineu la representació de $T$ en la base canònica."
   ]
  },
  {
   "cell_type": "markdown",
   "metadata": {},
   "source": [
    "Com que el vector $(1,-1,1)$ és un vector propi de $T$, es compleix que $T(1,-1,1)=\\lambda(1,-1,1)$. Aleshores,\n",
    "$$\n",
    "  \\left.\\begin{aligned}\n",
    "    T(0,-6,-6) &= (-9,3,12) \\\\\n",
    "    T(6,0,-9) &= (-5,11,16) \\\\\n",
    "    T(1,-1,1) &= \\lambda(1,-1,1)\n",
    "  \\end{aligned}\\,\\right\\}\\,.\n",
    "$$"
   ]
  },
  {
   "cell_type": "markdown",
   "metadata": {},
   "source": [
    "Si $A$ és la matriu de $T$ en la base canònica, tindrem que\n",
    "$$\n",
    "  A\\left(\\begin{array}{rrr}\n",
    "   0 &  6 &  1 \\\\\n",
    "  -6 &  0 & -1 \\\\\n",
    "  -6 & -9 &  1\n",
    "  \\end{array}\\right)\n",
    "  =\\left(\\begin{array}{rrr}\n",
    "  -9 &  -5 &  \\lambda \\\\\n",
    "   3 &  11 & -\\lambda \\\\\n",
    "  12 &  16 &  \\lambda\n",
    "  \\end{array}\\right)\\,.\n",
    "$$\n",
    "Aleshores,\n",
    "$$\n",
    "  A = \\left(\\begin{array}{rrr}\n",
    "  -9 &  -5 &  \\lambda \\\\\n",
    "   3 &  11 & -\\lambda \\\\\n",
    "  12 &  16 &  \\lambda\n",
    "  \\end{array}\\right)\n",
    "  \\left(\\begin{array}{rrr}\n",
    "   0 &  6 &  1 \\\\\n",
    "  -6 &  0 & -1 \\\\\n",
    "  -6 & -9 &  1\n",
    "  \\end{array}\\right)^{-1}\\,.\n",
    "$$"
   ]
  },
  {
   "cell_type": "code",
   "execution_count": 101,
   "metadata": {},
   "outputs": [
    {
     "data": {
      "text/html": [
       "<html>\\(\\displaystyle \\left(\\begin{array}{rrr}\n",
       "-9 & -5 & {\\lambda} \\\\\n",
       "3 & 11 & -{\\lambda} \\\\\n",
       "12 & 16 & {\\lambda}\n",
       "\\end{array}\\right)\\)</html>"
      ],
      "text/latex": [
       "$\\displaystyle \\left(\\begin{array}{rrr}\n",
       "-9 & -5 & {\\lambda} \\\\\n",
       "3 & 11 & -{\\lambda} \\\\\n",
       "12 & 16 & {\\lambda}\n",
       "\\end{array}\\right)$"
      ],
      "text/plain": [
       "[-9 -5  l]\n",
       "[ 3 11 -l]\n",
       "[12 16  l]"
      ]
     },
     "metadata": {},
     "output_type": "display_data"
    }
   ],
   "source": [
    "l = var('l', latex_name='\\\\lambda')\n",
    "B = matrix([[-9,-5,l],[3,11,-l],[12,16,l]])\n",
    "show(B)"
   ]
  },
  {
   "cell_type": "code",
   "execution_count": 102,
   "metadata": {},
   "outputs": [
    {
     "data": {
      "text/html": [
       "<html>\\(\\displaystyle \\left(\\begin{array}{rrr}\n",
       "0 & 6 & 1 \\\\\n",
       "-6 & 0 & -1 \\\\\n",
       "-6 & -9 & 1\n",
       "\\end{array}\\right)\\)</html>"
      ],
      "text/latex": [
       "$\\displaystyle \\left(\\begin{array}{rrr}\n",
       "0 & 6 & 1 \\\\\n",
       "-6 & 0 & -1 \\\\\n",
       "-6 & -9 & 1\n",
       "\\end{array}\\right)$"
      ],
      "text/plain": [
       "[ 0  6  1]\n",
       "[-6  0 -1]\n",
       "[-6 -9  1]"
      ]
     },
     "metadata": {},
     "output_type": "display_data"
    }
   ],
   "source": [
    "C = matrix([[0,6,1],[-6,0,-1],[-6,-9,1]])\n",
    "show(C)"
   ]
  },
  {
   "cell_type": "code",
   "execution_count": 103,
   "metadata": {},
   "outputs": [
    {
     "data": {
      "text/html": [
       "<html>\\(\\displaystyle \\left(\\begin{array}{rrr}\n",
       "\\frac{3}{7} \\, {\\lambda} + \\frac{1}{6} & -\\frac{2}{7} \\, {\\lambda} + \\frac{5}{6} & \\frac{2}{7} \\, {\\lambda} + \\frac{2}{3} \\\\\n",
       "-\\frac{3}{7} \\, {\\lambda} + \\frac{5}{6} & \\frac{2}{7} \\, {\\lambda} + \\frac{1}{6} & -\\frac{2}{7} \\, {\\lambda} - \\frac{2}{3} \\\\\n",
       "\\frac{3}{7} \\, {\\lambda} + \\frac{2}{3} & -\\frac{2}{7} \\, {\\lambda} - \\frac{2}{3} & \\frac{2}{7} \\, {\\lambda} - \\frac{4}{3}\n",
       "\\end{array}\\right)\\)</html>"
      ],
      "text/latex": [
       "$\\displaystyle \\left(\\begin{array}{rrr}\n",
       "\\frac{3}{7} \\, {\\lambda} + \\frac{1}{6} & -\\frac{2}{7} \\, {\\lambda} + \\frac{5}{6} & \\frac{2}{7} \\, {\\lambda} + \\frac{2}{3} \\\\\n",
       "-\\frac{3}{7} \\, {\\lambda} + \\frac{5}{6} & \\frac{2}{7} \\, {\\lambda} + \\frac{1}{6} & -\\frac{2}{7} \\, {\\lambda} - \\frac{2}{3} \\\\\n",
       "\\frac{3}{7} \\, {\\lambda} + \\frac{2}{3} & -\\frac{2}{7} \\, {\\lambda} - \\frac{2}{3} & \\frac{2}{7} \\, {\\lambda} - \\frac{4}{3}\n",
       "\\end{array}\\right)$"
      ],
      "text/plain": [
       "[ 3/7*l + 1/6 -2/7*l + 5/6  2/7*l + 2/3]\n",
       "[-3/7*l + 5/6  2/7*l + 1/6 -2/7*l - 2/3]\n",
       "[ 3/7*l + 2/3 -2/7*l - 2/3  2/7*l - 4/3]"
      ]
     },
     "metadata": {},
     "output_type": "display_data"
    }
   ],
   "source": [
    "A = B * C.inverse()\n",
    "show(A)"
   ]
  },
  {
   "cell_type": "markdown",
   "metadata": {},
   "source": [
    "L'última condició que hem d'aplicar és que la matriu $A$ ha ser simètrica:\n",
    "\n",
    "**Important**: `[A[i,j] == A[j,i] for i in range(3) for j in range(3)]`"
   ]
  },
  {
   "cell_type": "code",
   "execution_count": 104,
   "metadata": {},
   "outputs": [
    {
     "data": {
      "text/html": [
       "<html>\\(\\displaystyle \\left[\\left[{\\lambda} = 0\\right]\\right]\\)</html>"
      ],
      "text/latex": [
       "$\\displaystyle \\left[\\left[{\\lambda} = 0\\right]\\right]$"
      ],
      "text/plain": [
       "[[l == 0]]"
      ]
     },
     "metadata": {},
     "output_type": "display_data"
    }
   ],
   "source": [
    "show(solve([A[i,j] == A[j,i] for i in range(3) for j in range(3)],l))"
   ]
  },
  {
   "cell_type": "code",
   "execution_count": 105,
   "metadata": {},
   "outputs": [
    {
     "data": {
      "text/html": [
       "<html>\\(\\displaystyle \\left(\\begin{array}{rrr}\n",
       "\\frac{1}{6} & \\frac{5}{6} & \\frac{2}{3} \\\\\n",
       "\\frac{5}{6} & \\frac{1}{6} & -\\frac{2}{3} \\\\\n",
       "\\frac{2}{3} & -\\frac{2}{3} & -\\frac{4}{3}\n",
       "\\end{array}\\right)\\)</html>"
      ],
      "text/latex": [
       "$\\displaystyle \\left(\\begin{array}{rrr}\n",
       "\\frac{1}{6} & \\frac{5}{6} & \\frac{2}{3} \\\\\n",
       "\\frac{5}{6} & \\frac{1}{6} & -\\frac{2}{3} \\\\\n",
       "\\frac{2}{3} & -\\frac{2}{3} & -\\frac{4}{3}\n",
       "\\end{array}\\right)$"
      ],
      "text/plain": [
       "[ 1/6  5/6  2/3]\n",
       "[ 5/6  1/6 -2/3]\n",
       "[ 2/3 -2/3 -4/3]"
      ]
     },
     "metadata": {},
     "output_type": "display_data"
    }
   ],
   "source": [
    "show(A.subs(l=0))"
   ]
  },
  {
   "cell_type": "markdown",
   "metadata": {},
   "source": [
    "La representació de $T$ en la base canònica és\n",
    "$$\n",
    "  \\left(\\begin{array}{c} u\\\\ v\\\\ w \\end{array}\\right)\n",
    "  = \\frac{1}{6}\\left(\\begin{array}{rrr}\n",
    "  1 &  5 &  4 \\\\\n",
    "  5 &  1 & -4 \\\\\n",
    "  4 & -4 & -8\n",
    "  \\end{array}\\right)\n",
    "  \\left(\\begin{array}{c} x\\\\ y\\\\ z \\end{array}\\right)\\,.\n",
    "$$"
   ]
  },
  {
   "cell_type": "markdown",
   "metadata": {},
   "source": [
    "Trobem els valors i vectors propis d'aquesta transfrmació lineal:"
   ]
  },
  {
   "cell_type": "code",
   "execution_count": 106,
   "metadata": {},
   "outputs": [
    {
     "data": {
      "text/html": [
       "<html>\\(\\displaystyle x^{3} + x^{2} - 2 x\\)</html>"
      ],
      "text/latex": [
       "$\\displaystyle x^{3} + x^{2} - 2 x$"
      ],
      "text/plain": [
       "x^3 + x^2 - 2*x"
      ]
     },
     "metadata": {},
     "output_type": "display_data"
    }
   ],
   "source": [
    "A = A.subs(l=0)\n",
    "p = A.charpoly()\n",
    "show(p)"
   ]
  },
  {
   "cell_type": "code",
   "execution_count": 107,
   "metadata": {},
   "outputs": [
    {
     "data": {
      "text/html": [
       "<html>\\(\\displaystyle \\left[\\left(1, 1\\right), \\left(-2, 1\\right), \\left(0, 1\\right)\\right]\\)</html>"
      ],
      "text/latex": [
       "$\\displaystyle \\left[\\left(1, 1\\right), \\left(-2, 1\\right), \\left(0, 1\\right)\\right]$"
      ],
      "text/plain": [
       "[(1, 1), (-2, 1), (0, 1)]"
      ]
     },
     "metadata": {},
     "output_type": "display_data"
    }
   ],
   "source": [
    "show(p.roots())"
   ]
  },
  {
   "cell_type": "markdown",
   "metadata": {},
   "source": [
    "Els valors propis de $T$ són $\\lambda_1=1$, $\\lambda_2=-2$ i $\\lambda_3=0$, tots simples."
   ]
  },
  {
   "cell_type": "markdown",
   "metadata": {},
   "source": [
    "Vectors propis amb valor propi $\\lambda_1=1$:"
   ]
  },
  {
   "cell_type": "code",
   "execution_count": 108,
   "metadata": {},
   "outputs": [
    {
     "data": {
      "text/html": [
       "<html>\\(\\displaystyle \\left[\\left[x = r_{36}, y = r_{36}, z = 0\\right]\\right]\\)</html>"
      ],
      "text/latex": [
       "$\\displaystyle \\left[\\left[x = r_{36}, y = r_{36}, z = 0\\right]\\right]$"
      ],
      "text/plain": [
       "[[x == r36, y == r36, z == 0]]"
      ]
     },
     "metadata": {},
     "output_type": "display_data"
    }
   ],
   "source": [
    "x, y, z = var('x y z')\n",
    "X = vector([x,y,z])\n",
    "AX = A * X\n",
    "l = 1\n",
    "show(solve([AX[i] == l*X[i] for i in range(3)],[x,y,z]))"
   ]
  },
  {
   "cell_type": "markdown",
   "metadata": {},
   "source": [
    "$V_{1}$ és la recta vectorial generada perl vector $(1,1,0)$."
   ]
  },
  {
   "cell_type": "markdown",
   "metadata": {},
   "source": [
    "Vectors propis amb valor propi $\\lambda_2=-2$:"
   ]
  },
  {
   "cell_type": "code",
   "execution_count": 109,
   "metadata": {},
   "outputs": [
    {
     "data": {
      "text/html": [
       "<html>\\(\\displaystyle \\left[\\left[x = -\\frac{1}{2} \\, r_{37}, y = \\frac{1}{2} \\, r_{37}, z = r_{37}\\right]\\right]\\)</html>"
      ],
      "text/latex": [
       "$\\displaystyle \\left[\\left[x = -\\frac{1}{2} \\, r_{37}, y = \\frac{1}{2} \\, r_{37}, z = r_{37}\\right]\\right]$"
      ],
      "text/plain": [
       "[[x == -1/2*r37, y == 1/2*r37, z == r37]]"
      ]
     },
     "metadata": {},
     "output_type": "display_data"
    }
   ],
   "source": [
    "x, y, z = var('x y z')\n",
    "X = vector([x,y,z])\n",
    "AX = A * X\n",
    "l = -2\n",
    "show(solve([AX[i] == l*X[i] for i in range(3)],[x,y,z]))"
   ]
  },
  {
   "cell_type": "markdown",
   "metadata": {},
   "source": [
    "$V_{-2}$ és la recta vectorial generada perl vector $(1,-1,-2)$."
   ]
  },
  {
   "cell_type": "markdown",
   "metadata": {},
   "source": [
    "Vectors propis amb valor propi $\\lambda_3=0$:"
   ]
  },
  {
   "cell_type": "code",
   "execution_count": 110,
   "metadata": {},
   "outputs": [
    {
     "data": {
      "text/html": [
       "<html>\\(\\displaystyle \\left[\\left[x = r_{38}, y = -r_{38}, z = r_{38}\\right]\\right]\\)</html>"
      ],
      "text/latex": [
       "$\\displaystyle \\left[\\left[x = r_{38}, y = -r_{38}, z = r_{38}\\right]\\right]$"
      ],
      "text/plain": [
       "[[x == r38, y == -r38, z == r38]]"
      ]
     },
     "metadata": {},
     "output_type": "display_data"
    }
   ],
   "source": [
    "x, y, z = var('x y z')\n",
    "X = vector([x,y,z])\n",
    "AX = A * X\n",
    "l = 0\n",
    "show(solve([AX[i] == l*X[i] for i in range(3)],[x,y,z]))"
   ]
  },
  {
   "cell_type": "markdown",
   "metadata": {},
   "source": [
    "$V_{0}$ és la recta vectorial generada perl vector $(1,-1,1)$."
   ]
  },
  {
   "cell_type": "markdown",
   "metadata": {},
   "source": [
    "La representació de $T$ en la base\n",
    "$$\n",
    "  \\mathcal{B}'=\\left\\{\\frac{1}{\\sqrt{2}}(1,1,0),\\frac{1}{\\sqrt{6}}(1,-1,-2),\\frac{1}{\\sqrt{3}}(1,-1,1)  \\right\\}\n",
    "$$\n",
    "és\n",
    "$$\n",
    "  \\left(\\begin{array}{c} u'\\\\ v'\\\\ w' \\end{array}\\right)\n",
    "  = \\left(\\begin{array}{rrr}\n",
    "  1 & 0 &  0\\\\\n",
    "  0 & -2 &  0\\\\\n",
    "  0 & 0 & 0\n",
    "  \\end{array}\\right) \n",
    "  \\left(\\begin{array}{c} x' \\\\ y'\\\\ z' \\end{array}\\right)\\,.\n",
    "$$"
   ]
  },
  {
   "cell_type": "code",
   "execution_count": null,
   "metadata": {},
   "outputs": [],
   "source": []
  }
 ],
 "metadata": {
  "kernelspec": {
   "display_name": "SageMath 10.6",
   "language": "sage",
   "name": "sagemath"
  },
  "language_info": {
   "codemirror_mode": {
    "name": "ipython",
    "version": 3
   },
   "file_extension": ".py",
   "mimetype": "text/x-python",
   "name": "python",
   "nbconvert_exporter": "python",
   "pygments_lexer": "ipython3",
   "version": "3.13.5"
  }
 },
 "nbformat": 4,
 "nbformat_minor": 4
}
