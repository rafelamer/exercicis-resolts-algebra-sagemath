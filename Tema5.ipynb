{
 "cells": [
  {
   "cell_type": "markdown",
   "metadata": {},
   "source": [
    "# Tema 5"
   ]
  },
  {
   "cell_type": "code",
   "execution_count": 70,
   "metadata": {},
   "outputs": [
    {
     "name": "stdout",
     "output_type": "stream",
     "text": [
      "The asymagic extension is already loaded. To reload it, use:\n",
      "  %reload_ext asymagic\n"
     ]
    }
   ],
   "source": [
    "%load_ext asymagic\n",
    "\n",
    "Q.<i,j,k> = QuaternionAlgebra(QQ,-1,-1)\n",
    "\n",
    "def euler(psi,theta,phi):\n",
    "    \"\"\"\n",
    "    Retorna la matriu en la base canònica de la rotació de V_3 amb angles\n",
    "    d'Euler psi, theta o phi.\n",
    "    \"\"\"\n",
    "    A = matrix(3,3,[cos(psi),-sin(psi),0,sin(psi),cos(psi),0,0,0,1])\n",
    "    B = matrix(3,3,[1,0,0,0,cos(theta),-sin(theta),0,sin(theta),cos(theta)])\n",
    "    C = matrix(3,3,[cos(phi),-sin(phi),0,sin(phi),cos(phi),0,0,0,1])\n",
    "    return C * B * A\n",
    "\n",
    "def quaternio_a_rotacio(a,b,c,d):\n",
    "    \"\"\"\n",
    "    Retorna la matriu en la base canònica de la rotació de V_3 corresponent\n",
    "    al quaternió unitari q = a + bi + cj + dk\n",
    "    \"\"\"\n",
    "    return simplificar_radicals(matrix([[2*a^2+2*b^2-1,2*b*c-2*a*d,2*a*c+2*b*d],\n",
    "                                        [2*a*d+2*b*c,2*a^2+2*c^2-1,2*c*d-2*a*b],\n",
    "                                        [2*b*d-2*a*c,2*a*b+2*c*d,2*a^2+2*d^2-1]]))\n",
    "\n",
    "def angles_euler_rotacio(A,radiants=False):\n",
    "    \"\"\"\n",
    "    Retorna els angles d'Euler (en radiants) d'una rotació\n",
    "    \"\"\"\n",
    "    if abs(A[2,2]) != 1:\n",
    "        psi = atan2(A[2,0],A[2,1])\n",
    "        theta = acos(A[2,2])\n",
    "        phi = atan2(A[0,2],-A[1,2])\n",
    "    else:\n",
    "        phi = 0\n",
    "        theta = acos(A[2,2])\n",
    "        psi = atan2(A[2,2]*A[1,0],A[0,0])\n",
    "    if not radiants:\n",
    "        psi = N(psi*180/pi) \n",
    "        theta = N(theta*180/pi) \n",
    "        phi =  N(phi*180/pi)\n",
    "    if radiants:\n",
    "        c = 2*pi\n",
    "    else:\n",
    "        c = 360\n",
    "    if psi < 0:\n",
    "        psi += c\n",
    "    if theta < 0:\n",
    "        theta += c\n",
    "    if phi < 0:\n",
    "        phi += c\n",
    "    return psi, theta, phi\n",
    "\n",
    "def simplificar_radicals(A):\n",
    "    \"\"\"\n",
    "    Simplifica les arrels quadrades en una matriu o en un vector\n",
    "    \"\"\"\n",
    "    try:\n",
    "        for i in range(A.nrows()):\n",
    "            for j in range(A.ncols()):\n",
    "                A[i,j] = A[i,j]._sympy_().simplify()._sage_()\n",
    "        return A\n",
    "    except:\n",
    "        pass\n",
    "    try:\n",
    "        for i in range(A.length()):\n",
    "            A[i] = A[i]._sympy_().simplify()._sage_()\n",
    "        return A\n",
    "    except:\n",
    "        pass\n",
    "    try:\n",
    "        return A._sympy_().simplify()._sage_()\n",
    "    except:\n",
    "        pass\n",
    "    if isinstance(A,list):\n",
    "        try:\n",
    "            return [simplificar_radicals(x) for x in A]\n",
    "        except:\n",
    "            pass\n",
    "    return None"
   ]
  },
  {
   "cell_type": "markdown",
   "metadata": {},
   "source": [
    "## Exercici 1\n",
    "Escriviu la part escalar i la part vectorial del quaternió\n",
    "$$-4+2\\vec{i}-3\\vec{j}+4\\vec{k} \\,. $$"
   ]
  },
  {
   "cell_type": "code",
   "execution_count": 2,
   "metadata": {},
   "outputs": [],
   "source": [
    "q = -4 + 2*i - 3*j + 4*k"
   ]
  },
  {
   "cell_type": "code",
   "execution_count": 3,
   "metadata": {},
   "outputs": [
    {
     "data": {
      "text/html": [
       "<html>\\(\\displaystyle -4\\)</html>"
      ],
      "text/latex": [
       "$\\displaystyle -4$"
      ],
      "text/plain": [
       "-4"
      ]
     },
     "metadata": {},
     "output_type": "display_data"
    }
   ],
   "source": [
    "a = (q+q.conjugate())/2\n",
    "show(a)"
   ]
  },
  {
   "cell_type": "code",
   "execution_count": 4,
   "metadata": {},
   "outputs": [
    {
     "data": {
      "text/html": [
       "<html>\\(\\displaystyle \\verb|2*i|\\verb| |\\verb|-|\\verb| |\\verb|3*j|\\verb| |\\verb|+|\\verb| |\\verb|4*k|\\)</html>"
      ],
      "text/latex": [
       "$\\displaystyle \\verb|2*i|\\verb| |\\verb|-|\\verb| |\\verb|3*j|\\verb| |\\verb|+|\\verb| |\\verb|4*k|$"
      ],
      "text/plain": [
       "2*i - 3*j + 4*k"
      ]
     },
     "metadata": {},
     "output_type": "display_data"
    }
   ],
   "source": [
    "v = (q-q.conjugate())/2\n",
    "show(v)"
   ]
  },
  {
   "cell_type": "markdown",
   "metadata": {},
   "source": [
    "## Exercici 2\n",
    "Calculeu la suma dels quaternions\n",
    "$$-3+2\\vec{i}+\\vec{j}-2\\vec{k} \\qquad \\text{i} \\qquad -1-\\vec{i}+3\\vec{j}-\\vec{k} \\,. $$"
   ]
  },
  {
   "cell_type": "code",
   "execution_count": 5,
   "metadata": {},
   "outputs": [],
   "source": [
    "p = -3 + 2*i + j - 2*k\n",
    "q = -1 - i + 3*j - k"
   ]
  },
  {
   "cell_type": "code",
   "execution_count": 6,
   "metadata": {},
   "outputs": [
    {
     "data": {
      "text/html": [
       "<html>\\(\\displaystyle \\verb|-4|\\verb| |\\verb|+|\\verb| |\\verb|i|\\verb| |\\verb|+|\\verb| |\\verb|4*j|\\verb| |\\verb|-|\\verb| |\\verb|3*k|\\)</html>"
      ],
      "text/latex": [
       "$\\displaystyle \\verb|-4|\\verb| |\\verb|+|\\verb| |\\verb|i|\\verb| |\\verb|+|\\verb| |\\verb|4*j|\\verb| |\\verb|-|\\verb| |\\verb|3*k|$"
      ],
      "text/plain": [
       "-4 + i + 4*j - 3*k"
      ]
     },
     "metadata": {},
     "output_type": "display_data"
    }
   ],
   "source": [
    "show(p+q)"
   ]
  },
  {
   "cell_type": "markdown",
   "metadata": {},
   "source": [
    "## Exercici 3\n",
    "Calculeu el producte de l'escalar $-3$ i el quaternió\n",
    "$$4-2\\vec{i}+3\\vec{j}-5\\vec{k} \\,. $$"
   ]
  },
  {
   "cell_type": "code",
   "execution_count": 7,
   "metadata": {},
   "outputs": [],
   "source": [
    "q = 4 - 2*i + 3*j - 5*k"
   ]
  },
  {
   "cell_type": "code",
   "execution_count": 8,
   "metadata": {},
   "outputs": [
    {
     "data": {
      "text/html": [
       "<html>\\(\\displaystyle \\verb|-12|\\verb| |\\verb|+|\\verb| |\\verb|6*i|\\verb| |\\verb|-|\\verb| |\\verb|9*j|\\verb| |\\verb|+|\\verb| |\\verb|15*k|\\)</html>"
      ],
      "text/latex": [
       "$\\displaystyle \\verb|-12|\\verb| |\\verb|+|\\verb| |\\verb|6*i|\\verb| |\\verb|-|\\verb| |\\verb|9*j|\\verb| |\\verb|+|\\verb| |\\verb|15*k|$"
      ],
      "text/plain": [
       "-12 + 6*i - 9*j + 15*k"
      ]
     },
     "metadata": {},
     "output_type": "display_data"
    }
   ],
   "source": [
    "show(-3*q)"
   ]
  },
  {
   "cell_type": "markdown",
   "metadata": {},
   "source": [
    "## Exercici 4\n",
    "Calculeu el producte dels quaternions\n",
    "$$1-3\\vec{i}+2\\vec{j}-4\\vec{k} \\qquad \\text{i} \\qquad -1+3\\vec{i}-\\vec{j}-2\\vec{k} \\,. $$"
   ]
  },
  {
   "cell_type": "code",
   "execution_count": 9,
   "metadata": {},
   "outputs": [],
   "source": [
    "p = 1 - 3*i + 2*j - 4*k\n",
    "q = -1 + 3*i - j - 2*k"
   ]
  },
  {
   "cell_type": "code",
   "execution_count": 10,
   "metadata": {},
   "outputs": [
    {
     "data": {
      "text/html": [
       "<html>\\(\\displaystyle \\verb|2|\\verb| |\\verb|-|\\verb| |\\verb|2*i|\\verb| |\\verb|-|\\verb| |\\verb|21*j|\\verb| |\\verb|-|\\verb| |\\verb|k|\\)</html>"
      ],
      "text/latex": [
       "$\\displaystyle \\verb|2|\\verb| |\\verb|-|\\verb| |\\verb|2*i|\\verb| |\\verb|-|\\verb| |\\verb|21*j|\\verb| |\\verb|-|\\verb| |\\verb|k|$"
      ],
      "text/plain": [
       "2 - 2*i - 21*j - k"
      ]
     },
     "metadata": {},
     "output_type": "display_data"
    }
   ],
   "source": [
    "show(p*q)"
   ]
  },
  {
   "cell_type": "markdown",
   "metadata": {},
   "source": [
    "## Exercici 5\n",
    "Calculeu el conjugat del quaternió\n",
    "$$-2+\\vec{i}-\\vec{j}+4\\vec{k} \\,. $$"
   ]
  },
  {
   "cell_type": "code",
   "execution_count": 11,
   "metadata": {},
   "outputs": [],
   "source": [
    "q = -2 + i - j + 4*k"
   ]
  },
  {
   "cell_type": "code",
   "execution_count": 12,
   "metadata": {},
   "outputs": [
    {
     "data": {
      "text/html": [
       "<html>\\(\\displaystyle \\verb|-2|\\verb| |\\verb|-|\\verb| |\\verb|i|\\verb| |\\verb|+|\\verb| |\\verb|j|\\verb| |\\verb|-|\\verb| |\\verb|4*k|\\)</html>"
      ],
      "text/latex": [
       "$\\displaystyle \\verb|-2|\\verb| |\\verb|-|\\verb| |\\verb|i|\\verb| |\\verb|+|\\verb| |\\verb|j|\\verb| |\\verb|-|\\verb| |\\verb|4*k|$"
      ],
      "text/plain": [
       "-2 - i + j - 4*k"
      ]
     },
     "metadata": {},
     "output_type": "display_data"
    }
   ],
   "source": [
    "show(q.conjugate())"
   ]
  },
  {
   "cell_type": "markdown",
   "metadata": {},
   "source": [
    "## Exercici 6\n",
    "Calculeu la norma del quaternió\n",
    "$$2-\\vec{i}+3\\vec{j}-4\\vec{k} \\,. $$"
   ]
  },
  {
   "cell_type": "code",
   "execution_count": 13,
   "metadata": {},
   "outputs": [],
   "source": [
    "q = 2 - i + 3*j - 4*k"
   ]
  },
  {
   "cell_type": "code",
   "execution_count": 14,
   "metadata": {},
   "outputs": [
    {
     "data": {
      "text/html": [
       "<html>\\(\\displaystyle \\sqrt{30}\\)</html>"
      ],
      "text/latex": [
       "$\\displaystyle \\sqrt{30}$"
      ],
      "text/plain": [
       "sqrt(30)"
      ]
     },
     "metadata": {},
     "output_type": "display_data"
    }
   ],
   "source": [
    "v = sqrt(q.reduced_norm())\n",
    "show(v)"
   ]
  },
  {
   "cell_type": "markdown",
   "metadata": {},
   "source": [
    "## Exercici 7\n",
    "Calculeu la imatge del vector $(-2,3,4)$ i les antiïmatges dels vectors $(-2,3,2)$ i $(0,3,1)$ de la transformació lineal $T:V_3\\longrightarrow V_3$ donada per\n",
    "$$\n",
    "  \\left(\\begin{array}{c} u \\\\ v \\\\ w \\end{array}\\right)\n",
    "  =\\left(\\begin{array}{rrr}\n",
    "  0&1&-1\\\\\n",
    "  -1&0&-4\\\\\n",
    "  0&-1&1\n",
    "  \\end{array}\\right)\n",
    "  \\left(\\begin{array}{c} x \\\\ y \\\\ z \\end{array}\\right)\\,.\n",
    "$$"
   ]
  },
  {
   "cell_type": "code",
   "execution_count": 15,
   "metadata": {},
   "outputs": [],
   "source": [
    "A = matrix([[0,1,-1],[-1,0,-4],[0,-1,1]])\n",
    "u = vector([-2,3,4])\n",
    "w1 = vector([-2,3,2])\n",
    "w2 = vector([0,3,1])"
   ]
  },
  {
   "cell_type": "markdown",
   "metadata": {},
   "source": [
    "Per calcular la imatge de qualsevol vector només cal multiplicar per la matriu:"
   ]
  },
  {
   "cell_type": "code",
   "execution_count": 16,
   "metadata": {},
   "outputs": [
    {
     "data": {
      "text/html": [
       "<html>\\(\\displaystyle \\left(-1,\\,-14,\\,1\\right)\\)</html>"
      ],
      "text/latex": [
       "$\\displaystyle \\left(-1,\\,-14,\\,1\\right)$"
      ],
      "text/plain": [
       "(-1, -14, 1)"
      ]
     },
     "metadata": {},
     "output_type": "display_data"
    }
   ],
   "source": [
    "show(A * u)"
   ]
  },
  {
   "cell_type": "markdown",
   "metadata": {},
   "source": [
    "La imatge del vector $(-2,3,4)$ és el vector $(-1,-14,1)$, és a dir, $T(-2,3,4)=(-1,-14,1)$."
   ]
  },
  {
   "cell_type": "markdown",
   "metadata": {},
   "source": [
    "Per calcular les antiimatges de $\\vec w_1$ i $\\vec w_2$, hem de resoldre els sistemes d'equacions\n",
    "$$\n",
    "  \\left(\\begin{array}{rrr}\n",
    "  0&1&-1\\\\\n",
    "  -1&0&-4\\\\\n",
    "  0&-1&1\n",
    "  \\end{array}\\right)\n",
    "  \\left(\\begin{array}{c} x\\\\ y\\\\ z \\end{array}\\right)\n",
    "  = \\left(\\begin{array}{r} -2\\\\ 3\\\\ 2 \\end{array}\\right)\n",
    "  \\qquad\\text{i}\\qquad\n",
    "  \\left(\\begin{array}{rrr}\n",
    "  0&1&-1\\\\\n",
    "  -1&0&-4\\\\\n",
    "  0&-1&1\n",
    "  \\end{array}\\right)\n",
    "  \\left(\\begin{array}{c} x\\\\ y\\\\ z \\end{array}\\right)\n",
    "  = \\left(\\begin{array}{r} 0\\\\ 3\\\\ 1 \\end{array}\\right)\\,.\n",
    "$$"
   ]
  },
  {
   "cell_type": "code",
   "execution_count": 18,
   "metadata": {},
   "outputs": [
    {
     "data": {
      "text/html": [
       "<html>\\(\\displaystyle \\left(y - z,\\,-x - 4 \\, z,\\,-y + z\\right)\\)</html>"
      ],
      "text/latex": [
       "$\\displaystyle \\left(y - z,\\,-x - 4 \\, z,\\,-y + z\\right)$"
      ],
      "text/plain": [
       "(y - z, -x - 4*z, -y + z)"
      ]
     },
     "metadata": {},
     "output_type": "display_data"
    }
   ],
   "source": [
    "x, y, z = var('x y z')\n",
    "X = vector([x,y,z])\n",
    "TX = A * X\n",
    "show(TX)"
   ]
  },
  {
   "cell_type": "markdown",
   "metadata": {},
   "source": [
    "Ara, hem d'igualar aquesta expressió als vectors $\\vec w_1$ i $\\vec w_2$ i resoldre el sistema d'equacions obtingut:"
   ]
  },
  {
   "cell_type": "code",
   "execution_count": 19,
   "metadata": {},
   "outputs": [
    {
     "data": {
      "text/html": [
       "<html>\\(\\displaystyle \\left[\\left[x = -4 \\, r_{1} - 3, y = r_{1} - 2, z = r_{1}\\right]\\right]\\)</html>"
      ],
      "text/latex": [
       "$\\displaystyle \\left[\\left[x = -4 \\, r_{1} - 3, y = r_{1} - 2, z = r_{1}\\right]\\right]$"
      ],
      "text/plain": [
       "[[x == -4*r1 - 3, y == r1 - 2, z == r1]]"
      ]
     },
     "metadata": {},
     "output_type": "display_data"
    }
   ],
   "source": [
    "show(solve([TX[0] == w1[0],TX[1] == w1[1],TX[2] == w1[2]],[x,y,z]))"
   ]
  },
  {
   "cell_type": "markdown",
   "metadata": {},
   "source": [
    "Tots els vectors de la forma $(-3-4t,-2+t,t)$ són antiimatges del vector $(-2,3,2)$:\n",
    "$$\n",
    "  T^{-1}(-2,3,2)=\\{(-3-4t,-2+t,t)\\quad\\text{amb}\\quad t\\in\\mathbb{R}\\}\\,.\n",
    "$$"
   ]
  },
  {
   "cell_type": "code",
   "execution_count": 20,
   "metadata": {},
   "outputs": [
    {
     "data": {
      "text/html": [
       "<html>\\(\\displaystyle \\left[\\right]\\)</html>"
      ],
      "text/latex": [
       "$\\displaystyle \\left[\\right]$"
      ],
      "text/plain": [
       "[]"
      ]
     },
     "metadata": {},
     "output_type": "display_data"
    }
   ],
   "source": [
    "show(solve([TX[0] == w2[0],TX[1] == w2[1],TX[2] == w2[2]],[x,y,z]))"
   ]
  },
  {
   "cell_type": "markdown",
   "metadata": {},
   "source": [
    "El sistema és incompatible, és a dir, el vector $(0,3,1)$ no té antiimatges."
   ]
  },
  {
   "cell_type": "markdown",
   "metadata": {},
   "source": [
    "## Exercici 8\n",
    "Donada la tranformació lineal\n",
    "$$\n",
    "  \\left(\\begin{array}{c} u\\\\ v \\end{array}\\right) = \n",
    "  \\left(\\begin{array}{rr}\n",
    "   1 & 2 \\\\\n",
    "  -1 & 3\n",
    "  \\end{array}\\right)\n",
    "  \\left(\\begin{array}{c} x\\\\ y \\end{array}\\right)\\,,\n",
    "$$\n",
    "representeu en què es transforma el triangle de vèrtexs $(0,0)$, $(4,0)$ i $(0,3)$."
   ]
  },
  {
   "cell_type": "markdown",
   "metadata": {},
   "source": [
    "Només cal observar que $T(0,0)=(0,0)$, $T(4,0)=(4,-4)$ i $T(0,3)=(6,9)$."
   ]
  },
  {
   "cell_type": "code",
   "execution_count": 21,
   "metadata": {},
   "outputs": [
    {
     "data": {
      "image/svg+xml": [
       "<svg xmlns=\"http://www.w3.org/2000/svg\" xmlns:xlink=\"http://www.w3.org/1999/xlink\" version=\"1.1\" width=\"567.637796pt\" height=\"567.637796pt\" viewBox=\"340.228346 337.677165 567.637796 567.637796\">\n",
       "<defs>\n",
       "<path id=\"g0-0\" d=\"M7.878456-2.749689C8.081694-2.749689 8.296887-2.749689 8.296887-2.988792S8.081694-3.227895 7.878456-3.227895H1.41071C1.207472-3.227895 .992279-3.227895 .992279-2.988792S1.207472-2.749689 1.41071-2.749689H7.878456Z\"/>\n",
       "<path id=\"g1-49\" d=\"M3.443088-7.663263C3.443088-7.938232 3.443088-7.950187 3.203985-7.950187C2.917061-7.627397 2.319303-7.185056 1.08792-7.185056V-6.838356C1.362889-6.838356 1.960648-6.838356 2.618182-7.149191V-.920548C2.618182-.490162 2.582316-.3467 1.530262-.3467H1.159651V0C1.482441-.02391 2.642092-.02391 3.036613-.02391S4.578829-.02391 4.901619 0V-.3467H4.531009C3.478954-.3467 3.443088-.490162 3.443088-.920548V-7.663263Z\"/>\n",
       "<path id=\"g1-50\" d=\"M5.260274-2.008468H4.99726C4.961395-1.80523 4.865753-1.147696 4.746202-.956413C4.662516-.848817 3.981071-.848817 3.622416-.848817H1.41071C1.733499-1.123786 2.462765-1.888917 2.773599-2.175841C4.590785-3.849564 5.260274-4.471233 5.260274-5.654795C5.260274-7.029639 4.172354-7.950187 2.785554-7.950187S.585803-6.766625 .585803-5.738481C.585803-5.128767 1.111831-5.128767 1.147696-5.128767C1.398755-5.128767 1.709589-5.308095 1.709589-5.69066C1.709589-6.025405 1.482441-6.252553 1.147696-6.252553C1.0401-6.252553 1.016189-6.252553 .980324-6.240598C1.207472-7.053549 1.853051-7.603487 2.630137-7.603487C3.646326-7.603487 4.267995-6.75467 4.267995-5.654795C4.267995-4.638605 3.682192-3.753923 3.000747-2.988792L.585803-.286924V0H4.94944L5.260274-2.008468Z\"/>\n",
       "<path id=\"g1-51\" d=\"M2.199751-4.291905C1.996513-4.27995 1.948692-4.267995 1.948692-4.160399C1.948692-4.040847 2.008468-4.040847 2.223661-4.040847H2.773599C3.789788-4.040847 4.244085-3.203985 4.244085-2.056289C4.244085-.490162 3.431133-.071731 2.84533-.071731C2.271482-.071731 1.291158-.3467 .944458-1.135741C1.327024-1.075965 1.673724-1.291158 1.673724-1.721544C1.673724-2.068244 1.422665-2.307347 1.08792-2.307347C.800996-2.307347 .490162-2.139975 .490162-1.685679C.490162-.621669 1.554172 .251059 2.881196 .251059C4.303861 .251059 5.355915-.836862 5.355915-2.044334C5.355915-3.144209 4.471233-4.004981 3.323537-4.208219C4.363636-4.507098 5.033126-5.379826 5.033126-6.312329C5.033126-7.256787 4.052802-7.950187 2.893151-7.950187C1.697634-7.950187 .812951-7.220922 .812951-6.348194C.812951-5.869988 1.183562-5.774346 1.362889-5.774346C1.613948-5.774346 1.900872-5.953674 1.900872-6.312329C1.900872-6.694894 1.613948-6.862267 1.350934-6.862267C1.279203-6.862267 1.255293-6.862267 1.219427-6.850311C1.673724-7.663263 2.797509-7.663263 2.857285-7.663263C3.251806-7.663263 4.028892-7.483935 4.028892-6.312329C4.028892-6.085181 3.993026-5.415691 3.646326-4.901619C3.287671-4.375592 2.881196-4.339726 2.558406-4.327771L2.199751-4.291905Z\"/>\n",
       "<path id=\"g1-52\" d=\"M4.315816-7.782814C4.315816-8.009963 4.315816-8.069738 4.148443-8.069738C4.052802-8.069738 4.016936-8.069738 3.921295-7.926276L.32279-2.343213V-1.996513H3.466999V-.908593C3.466999-.466252 3.443088-.3467 2.570361-.3467H2.331258V0C2.606227-.02391 3.550685-.02391 3.88543-.02391S5.176588-.02391 5.451557 0V-.3467H5.212453C4.351681-.3467 4.315816-.466252 4.315816-.908593V-1.996513H5.523288V-2.343213H4.315816V-7.782814ZM3.526775-6.850311V-2.343213H.621669L3.526775-6.850311Z\"/>\n",
       "<path id=\"g1-53\" d=\"M1.530262-6.850311C2.044334-6.682939 2.462765-6.670984 2.594271-6.670984C3.945205-6.670984 4.805978-7.663263 4.805978-7.830635C4.805978-7.878456 4.782067-7.938232 4.710336-7.938232C4.686426-7.938232 4.662516-7.938232 4.554919-7.890411C3.88543-7.603487 3.311582-7.567621 3.000747-7.567621C2.211706-7.567621 1.649813-7.806725 1.422665-7.902366C1.338979-7.938232 1.315068-7.938232 1.303113-7.938232C1.207472-7.938232 1.207472-7.866501 1.207472-7.675218V-4.124533C1.207472-3.90934 1.207472-3.837609 1.350934-3.837609C1.41071-3.837609 1.422665-3.849564 1.542217-3.993026C1.876961-4.483188 2.438854-4.770112 3.036613-4.770112C3.670237-4.770112 3.981071-4.184309 4.076712-3.981071C4.27995-3.514819 4.291905-2.929016 4.291905-2.47472S4.291905-1.338979 3.957161-.800996C3.694147-.37061 3.227895-.071731 2.701868-.071731C1.912827-.071731 1.135741-.609714 .920548-1.482441C.980324-1.458531 1.052055-1.446575 1.111831-1.446575C1.315068-1.446575 1.637858-1.566127 1.637858-1.972603C1.637858-2.307347 1.41071-2.49863 1.111831-2.49863C.896638-2.49863 .585803-2.391034 .585803-1.924782C.585803-.908593 1.398755 .251059 2.725778 .251059C4.076712 .251059 5.260274-.884682 5.260274-2.402989C5.260274-3.825654 4.303861-5.009215 3.048568-5.009215C2.367123-5.009215 1.841096-4.710336 1.530262-4.375592V-6.850311Z\"/>\n",
       "<path id=\"g1-54\" d=\"M1.470486-4.160399C1.470486-7.185056 2.940971-7.663263 3.58655-7.663263C4.016936-7.663263 4.447323-7.531756 4.674471-7.173101C4.531009-7.173101 4.076712-7.173101 4.076712-6.682939C4.076712-6.419925 4.25604-6.192777 4.566874-6.192777C4.865753-6.192777 5.068991-6.372105 5.068991-6.718804C5.068991-7.340473 4.614695-7.950187 3.574595-7.950187C2.068244-7.950187 .490162-6.40797 .490162-3.777833C.490162-.490162 1.924782 .251059 2.940971 .251059C4.244085 .251059 5.355915-.884682 5.355915-2.438854C5.355915-4.028892 4.244085-5.092902 3.048568-5.092902C1.984558-5.092902 1.590037-4.172354 1.470486-3.837609V-4.160399ZM2.940971-.071731C2.187796-.071731 1.829141-.74122 1.721544-.992279C1.613948-1.303113 1.494396-1.888917 1.494396-2.725778C1.494396-3.670237 1.924782-4.853798 3.000747-4.853798C3.658281-4.853798 4.004981-4.411457 4.184309-4.004981C4.375592-3.56264 4.375592-2.964882 4.375592-2.450809C4.375592-1.841096 4.375592-1.303113 4.148443-.848817C3.849564-.274969 3.419178-.071731 2.940971-.071731Z\"/>\n",
       "<path id=\"g1-55\" d=\"M5.678705-7.424159V-7.699128H2.797509C1.350934-7.699128 1.327024-7.854545 1.279203-8.081694H1.016189L.645579-5.69066H.908593C.944458-5.905853 1.052055-6.647073 1.207472-6.77858C1.303113-6.850311 2.199751-6.850311 2.367123-6.850311H4.901619L3.634371-5.033126C3.311582-4.566874 2.10411-2.606227 2.10411-.358655C2.10411-.227148 2.10411 .251059 2.594271 .251059C3.096389 .251059 3.096389-.215193 3.096389-.37061V-.968369C3.096389-2.749689 3.383313-4.136488 3.945205-4.937484L5.678705-7.424159Z\"/>\n",
       "<path id=\"g1-56\" d=\"M3.56264-4.315816C4.160399-4.638605 5.033126-5.188543 5.033126-6.192777C5.033126-7.232877 4.028892-7.950187 2.929016-7.950187C1.745455-7.950187 .812951-7.07746 .812951-5.989539C.812951-5.583064 .932503-5.176588 1.267248-4.770112C1.398755-4.614695 1.41071-4.60274 2.247572-4.016936C1.08792-3.478954 .490162-2.677958 .490162-1.80523C.490162-.537983 1.697634 .251059 2.917061 .251059C4.244085 .251059 5.355915-.729265 5.355915-1.984558C5.355915-3.203985 4.495143-3.741968 3.56264-4.315816ZM1.936737-5.391781C1.78132-5.499377 1.303113-5.810212 1.303113-6.396015C1.303113-7.173101 2.116065-7.663263 2.917061-7.663263C3.777833-7.663263 4.542964-7.041594 4.542964-6.180822C4.542964-5.451557 4.016936-4.865753 3.323537-4.483188L1.936737-5.391781ZM2.49863-3.849564L3.945205-2.905106C4.25604-2.701868 4.805978-2.331258 4.805978-1.601993C4.805978-.6934 3.88543-.071731 2.929016-.071731C1.912827-.071731 1.0401-.812951 1.0401-1.80523C1.0401-2.737733 1.721544-3.490909 2.49863-3.849564Z\"/>\n",
       "<path id=\"g1-57\" d=\"M4.375592-3.478954C4.375592-.657534 3.120299-.071731 2.402989-.071731C2.116065-.071731 1.482441-.107597 1.183562-.526027H1.255293C1.338979-.502117 1.769365-.573848 1.769365-1.016189C1.769365-1.279203 1.590037-1.506351 1.279203-1.506351S.777086-1.303113 .777086-.992279C.777086-.251059 1.374844 .251059 2.414944 .251059C3.90934 .251059 5.355915-1.338979 5.355915-3.93325C5.355915-7.149191 4.016936-7.950187 2.964882-7.950187C1.649813-7.950187 .490162-6.850311 .490162-5.272229S1.601993-2.618182 2.797509-2.618182C3.682192-2.618182 4.136488-3.263761 4.375592-3.873474V-3.478954ZM2.84533-2.857285C2.092154-2.857285 1.769365-3.466999 1.661768-3.694147C1.470486-4.148443 1.470486-4.722291 1.470486-5.260274C1.470486-5.929763 1.470486-6.503611 1.78132-6.993773C1.996513-7.316563 2.319303-7.663263 2.964882-7.663263C3.646326-7.663263 3.993026-7.065504 4.112578-6.790535C4.351681-6.204732 4.351681-5.188543 4.351681-5.009215C4.351681-4.004981 3.897385-2.857285 2.84533-2.857285Z\"/>\n",
       "</defs>\n",
       "<g id=\"page1\">\n",
       "<g transform=\"translate(340.228 337.677)scale(.996264)\">\n",
       "<path d=\"M.355659 569.411V.355659\" fill=\"none\" stroke=\"#cccccc\" stroke-linecap=\"round\" stroke-linejoin=\"round\" stroke-miterlimit=\"10.0375\" stroke-width=\"0.426791\"/>\n",
       "</g>\n",
       "<g transform=\"translate(340.228 337.677)scale(.996264)\">\n",
       "<path d=\"M7.46885 569.411V.355659\" fill=\"none\" stroke=\"#cccccc\" stroke-dasharray=\"0,0.682969\" stroke-linecap=\"round\" stroke-linejoin=\"round\" stroke-miterlimit=\"10.0375\" stroke-width=\"0.170717\"/>\n",
       "</g>\n",
       "<g transform=\"translate(340.228 337.677)scale(.996264)\">\n",
       "<path d=\"M14.582 569.411V.355659\" fill=\"none\" stroke=\"#cccccc\" stroke-dasharray=\"0,0.682969\" stroke-linecap=\"round\" stroke-linejoin=\"round\" stroke-miterlimit=\"10.0375\" stroke-width=\"0.170717\"/>\n",
       "</g>\n",
       "<g transform=\"translate(340.228 337.677)scale(.996264)\">\n",
       "<path d=\"M21.6952 569.411V.355659\" fill=\"none\" stroke=\"#cccccc\" stroke-dasharray=\"0,0.682969\" stroke-linecap=\"round\" stroke-linejoin=\"round\" stroke-miterlimit=\"10.0375\" stroke-width=\"0.170717\"/>\n",
       "</g>\n",
       "<g transform=\"translate(340.228 337.677)scale(.996264)\">\n",
       "<path d=\"M28.8084 569.411V.355659\" fill=\"none\" stroke=\"#cccccc\" stroke-linecap=\"round\" stroke-linejoin=\"round\" stroke-miterlimit=\"10.0375\" stroke-width=\"0.426791\"/>\n",
       "</g>\n",
       "<g transform=\"translate(340.228 337.677)scale(.996264)\">\n",
       "<path d=\"M35.9216 569.411V.355659\" fill=\"none\" stroke=\"#cccccc\" stroke-dasharray=\"0,0.682969\" stroke-linecap=\"round\" stroke-linejoin=\"round\" stroke-miterlimit=\"10.0375\" stroke-width=\"0.170717\"/>\n",
       "</g>\n",
       "<g transform=\"translate(340.228 337.677)scale(.996264)\">\n",
       "<path d=\"M43.0348 569.411V.355659\" fill=\"none\" stroke=\"#cccccc\" stroke-dasharray=\"0,0.682969\" stroke-linecap=\"round\" stroke-linejoin=\"round\" stroke-miterlimit=\"10.0375\" stroke-width=\"0.170717\"/>\n",
       "</g>\n",
       "<g transform=\"translate(340.228 337.677)scale(.996264)\">\n",
       "<path d=\"M50.148 569.411V.355659\" fill=\"none\" stroke=\"#cccccc\" stroke-dasharray=\"0,0.682969\" stroke-linecap=\"round\" stroke-linejoin=\"round\" stroke-miterlimit=\"10.0375\" stroke-width=\"0.170717\"/>\n",
       "</g>\n",
       "<g transform=\"translate(340.228 337.677)scale(.996264)\">\n",
       "<path d=\"M57.2612 569.411V.355659\" fill=\"none\" stroke=\"#cccccc\" stroke-linecap=\"round\" stroke-linejoin=\"round\" stroke-miterlimit=\"10.0375\" stroke-width=\"0.426791\"/>\n",
       "</g>\n",
       "<g transform=\"translate(340.228 337.677)scale(.996264)\">\n",
       "<path d=\"M64.3744 569.411V.355659\" fill=\"none\" stroke=\"#cccccc\" stroke-dasharray=\"0,0.682969\" stroke-linecap=\"round\" stroke-linejoin=\"round\" stroke-miterlimit=\"10.0375\" stroke-width=\"0.170717\"/>\n",
       "</g>\n",
       "<g transform=\"translate(340.228 337.677)scale(.996264)\">\n",
       "<path d=\"M71.4875 569.411V.355659\" fill=\"none\" stroke=\"#cccccc\" stroke-dasharray=\"0,0.682969\" stroke-linecap=\"round\" stroke-linejoin=\"round\" stroke-miterlimit=\"10.0375\" stroke-width=\"0.170717\"/>\n",
       "</g>\n",
       "<g transform=\"translate(340.228 337.677)scale(.996264)\">\n",
       "<path d=\"M78.6007 569.411V.355659\" fill=\"none\" stroke=\"#cccccc\" stroke-dasharray=\"0,0.682969\" stroke-linecap=\"round\" stroke-linejoin=\"round\" stroke-miterlimit=\"10.0375\" stroke-width=\"0.170717\"/>\n",
       "</g>\n",
       "<g transform=\"translate(340.228 337.677)scale(.996264)\">\n",
       "<path d=\"M85.7139 569.411V.355659\" fill=\"none\" stroke=\"#cccccc\" stroke-linecap=\"round\" stroke-linejoin=\"round\" stroke-miterlimit=\"10.0375\" stroke-width=\"0.426791\"/>\n",
       "</g>\n",
       "<g transform=\"translate(340.228 337.677)scale(.996264)\">\n",
       "<path d=\"M92.8271 569.411V.355659\" fill=\"none\" stroke=\"#cccccc\" stroke-dasharray=\"0,0.682969\" stroke-linecap=\"round\" stroke-linejoin=\"round\" stroke-miterlimit=\"10.0375\" stroke-width=\"0.170717\"/>\n",
       "</g>\n",
       "<g transform=\"translate(340.228 337.677)scale(.996264)\">\n",
       "<path d=\"M99.9403 569.411V.355659\" fill=\"none\" stroke=\"#cccccc\" stroke-dasharray=\"0,0.682969\" stroke-linecap=\"round\" stroke-linejoin=\"round\" stroke-miterlimit=\"10.0375\" stroke-width=\"0.170717\"/>\n",
       "</g>\n",
       "<g transform=\"translate(340.228 337.677)scale(.996264)\">\n",
       "<path d=\"M107.053 569.411V.355659\" fill=\"none\" stroke=\"#cccccc\" stroke-dasharray=\"0,0.682969\" stroke-linecap=\"round\" stroke-linejoin=\"round\" stroke-miterlimit=\"10.0375\" stroke-width=\"0.170717\"/>\n",
       "</g>\n",
       "<g transform=\"translate(340.228 337.677)scale(.996264)\">\n",
       "<path d=\"M114.167 569.411V.355659\" fill=\"none\" stroke=\"#cccccc\" stroke-linecap=\"round\" stroke-linejoin=\"round\" stroke-miterlimit=\"10.0375\" stroke-width=\"0.426791\"/>\n",
       "</g>\n",
       "<g transform=\"translate(340.228 337.677)scale(.996264)\">\n",
       "<path d=\"M121.28 569.411V.355659\" fill=\"none\" stroke=\"#cccccc\" stroke-dasharray=\"0,0.682969\" stroke-linecap=\"round\" stroke-linejoin=\"round\" stroke-miterlimit=\"10.0375\" stroke-width=\"0.170717\"/>\n",
       "</g>\n",
       "<g transform=\"translate(340.228 337.677)scale(.996264)\">\n",
       "<path d=\"M128.393 569.411V.355659\" fill=\"none\" stroke=\"#cccccc\" stroke-dasharray=\"0,0.682969\" stroke-linecap=\"round\" stroke-linejoin=\"round\" stroke-miterlimit=\"10.0375\" stroke-width=\"0.170717\"/>\n",
       "</g>\n",
       "<g transform=\"translate(340.228 337.677)scale(.996264)\">\n",
       "<path d=\"M135.506 569.411V.355659\" fill=\"none\" stroke=\"#cccccc\" stroke-dasharray=\"0,0.682969\" stroke-linecap=\"round\" stroke-linejoin=\"round\" stroke-miterlimit=\"10.0375\" stroke-width=\"0.170717\"/>\n",
       "</g>\n",
       "<g transform=\"translate(340.228 337.677)scale(.996264)\">\n",
       "<path d=\"M142.619 569.411V.355659\" fill=\"none\" stroke=\"#cccccc\" stroke-linecap=\"round\" stroke-linejoin=\"round\" stroke-miterlimit=\"10.0375\" stroke-width=\"0.426791\"/>\n",
       "</g>\n",
       "<g transform=\"translate(340.228 337.677)scale(.996264)\">\n",
       "<path d=\"M149.733 569.411V.355659\" fill=\"none\" stroke=\"#cccccc\" stroke-dasharray=\"0,0.682969\" stroke-linecap=\"round\" stroke-linejoin=\"round\" stroke-miterlimit=\"10.0375\" stroke-width=\"0.170717\"/>\n",
       "</g>\n",
       "<g transform=\"translate(340.228 337.677)scale(.996264)\">\n",
       "<path d=\"M156.846 569.411V.355659\" fill=\"none\" stroke=\"#cccccc\" stroke-dasharray=\"0,0.682969\" stroke-linecap=\"round\" stroke-linejoin=\"round\" stroke-miterlimit=\"10.0375\" stroke-width=\"0.170717\"/>\n",
       "</g>\n",
       "<g transform=\"translate(340.228 337.677)scale(.996264)\">\n",
       "<path d=\"M163.959 569.411V.355659\" fill=\"none\" stroke=\"#cccccc\" stroke-dasharray=\"0,0.682969\" stroke-linecap=\"round\" stroke-linejoin=\"round\" stroke-miterlimit=\"10.0375\" stroke-width=\"0.170717\"/>\n",
       "</g>\n",
       "<g transform=\"translate(340.228 337.677)scale(.996264)\">\n",
       "<path d=\"M171.072 569.411V.355659\" fill=\"none\" stroke=\"#cccccc\" stroke-linecap=\"round\" stroke-linejoin=\"round\" stroke-miterlimit=\"10.0375\" stroke-width=\"0.426791\"/>\n",
       "</g>\n",
       "<g transform=\"translate(340.228 337.677)scale(.996264)\">\n",
       "<path d=\"M178.185 569.411V.355659\" fill=\"none\" stroke=\"#cccccc\" stroke-dasharray=\"0,0.682969\" stroke-linecap=\"round\" stroke-linejoin=\"round\" stroke-miterlimit=\"10.0375\" stroke-width=\"0.170717\"/>\n",
       "</g>\n",
       "<g transform=\"translate(340.228 337.677)scale(.996264)\">\n",
       "<path d=\"M185.299 569.411V.355659\" fill=\"none\" stroke=\"#cccccc\" stroke-dasharray=\"0,0.682969\" stroke-linecap=\"round\" stroke-linejoin=\"round\" stroke-miterlimit=\"10.0375\" stroke-width=\"0.170717\"/>\n",
       "</g>\n",
       "<g transform=\"translate(340.228 337.677)scale(.996264)\">\n",
       "<path d=\"M192.412 569.411V.355659\" fill=\"none\" stroke=\"#cccccc\" stroke-dasharray=\"0,0.682969\" stroke-linecap=\"round\" stroke-linejoin=\"round\" stroke-miterlimit=\"10.0375\" stroke-width=\"0.170717\"/>\n",
       "</g>\n",
       "<g transform=\"translate(340.228 337.677)scale(.996264)\">\n",
       "<path d=\"M199.525 569.411V.355659\" fill=\"none\" stroke=\"#cccccc\" stroke-linecap=\"round\" stroke-linejoin=\"round\" stroke-miterlimit=\"10.0375\" stroke-width=\"0.426791\"/>\n",
       "</g>\n",
       "<g transform=\"translate(340.228 337.677)scale(.996264)\">\n",
       "<path d=\"M206.638 569.411V.355659\" fill=\"none\" stroke=\"#cccccc\" stroke-dasharray=\"0,0.682969\" stroke-linecap=\"round\" stroke-linejoin=\"round\" stroke-miterlimit=\"10.0375\" stroke-width=\"0.170717\"/>\n",
       "</g>\n",
       "<g transform=\"translate(340.228 337.677)scale(.996264)\">\n",
       "<path d=\"M213.751 569.411V.355659\" fill=\"none\" stroke=\"#cccccc\" stroke-dasharray=\"0,0.682969\" stroke-linecap=\"round\" stroke-linejoin=\"round\" stroke-miterlimit=\"10.0375\" stroke-width=\"0.170717\"/>\n",
       "</g>\n",
       "<g transform=\"translate(340.228 337.677)scale(.996264)\">\n",
       "<path d=\"M220.865 569.411V.355659\" fill=\"none\" stroke=\"#cccccc\" stroke-dasharray=\"0,0.682969\" stroke-linecap=\"round\" stroke-linejoin=\"round\" stroke-miterlimit=\"10.0375\" stroke-width=\"0.170717\"/>\n",
       "</g>\n",
       "<g transform=\"translate(340.228 337.677)scale(.996264)\">\n",
       "<path d=\"M227.978 569.411V.355659\" fill=\"none\" stroke=\"#cccccc\" stroke-linecap=\"round\" stroke-linejoin=\"round\" stroke-miterlimit=\"10.0375\" stroke-width=\"0.426791\"/>\n",
       "</g>\n",
       "<g transform=\"translate(340.228 337.677)scale(.996264)\">\n",
       "<path d=\"M235.091 569.411V.355659\" fill=\"none\" stroke=\"#cccccc\" stroke-dasharray=\"0,0.682969\" stroke-linecap=\"round\" stroke-linejoin=\"round\" stroke-miterlimit=\"10.0375\" stroke-width=\"0.170717\"/>\n",
       "</g>\n",
       "<g transform=\"translate(340.228 337.677)scale(.996264)\">\n",
       "<path d=\"M242.204 569.411V.355659\" fill=\"none\" stroke=\"#cccccc\" stroke-dasharray=\"0,0.682969\" stroke-linecap=\"round\" stroke-linejoin=\"round\" stroke-miterlimit=\"10.0375\" stroke-width=\"0.170717\"/>\n",
       "</g>\n",
       "<g transform=\"translate(340.228 337.677)scale(.996264)\">\n",
       "<path d=\"M249.317 569.411V.355659\" fill=\"none\" stroke=\"#cccccc\" stroke-dasharray=\"0,0.682969\" stroke-linecap=\"round\" stroke-linejoin=\"round\" stroke-miterlimit=\"10.0375\" stroke-width=\"0.170717\"/>\n",
       "</g>\n",
       "<g transform=\"translate(340.228 337.677)scale(.996264)\">\n",
       "<path d=\"M256.43 569.411V.355659\" fill=\"none\" stroke=\"#cccccc\" stroke-linecap=\"round\" stroke-linejoin=\"round\" stroke-miterlimit=\"10.0375\" stroke-width=\"0.426791\"/>\n",
       "</g>\n",
       "<g transform=\"translate(340.228 337.677)scale(.996264)\">\n",
       "<path d=\"M263.544 569.411V.355659\" fill=\"none\" stroke=\"#cccccc\" stroke-dasharray=\"0,0.682969\" stroke-linecap=\"round\" stroke-linejoin=\"round\" stroke-miterlimit=\"10.0375\" stroke-width=\"0.170717\"/>\n",
       "</g>\n",
       "<g transform=\"translate(340.228 337.677)scale(.996264)\">\n",
       "<path d=\"M270.657 569.411V.355659\" fill=\"none\" stroke=\"#cccccc\" stroke-dasharray=\"0,0.682969\" stroke-linecap=\"round\" stroke-linejoin=\"round\" stroke-miterlimit=\"10.0375\" stroke-width=\"0.170717\"/>\n",
       "</g>\n",
       "<g transform=\"translate(340.228 337.677)scale(.996264)\">\n",
       "<path d=\"M277.77 569.411V.355659\" fill=\"none\" stroke=\"#cccccc\" stroke-dasharray=\"0,0.682969\" stroke-linecap=\"round\" stroke-linejoin=\"round\" stroke-miterlimit=\"10.0375\" stroke-width=\"0.170717\"/>\n",
       "</g>\n",
       "<g transform=\"translate(340.228 337.677)scale(.996264)\">\n",
       "<path d=\"M284.883 569.411V.355659\" fill=\"none\" stroke=\"#cccccc\" stroke-linecap=\"round\" stroke-linejoin=\"round\" stroke-miterlimit=\"10.0375\" stroke-width=\"0.426791\"/>\n",
       "</g>\n",
       "<g transform=\"translate(340.228 337.677)scale(.996264)\">\n",
       "<path d=\"M291.996 569.411V.355659\" fill=\"none\" stroke=\"#cccccc\" stroke-dasharray=\"0,0.682969\" stroke-linecap=\"round\" stroke-linejoin=\"round\" stroke-miterlimit=\"10.0375\" stroke-width=\"0.170717\"/>\n",
       "</g>\n",
       "<g transform=\"translate(340.228 337.677)scale(.996264)\">\n",
       "<path d=\"M299.11 569.411V.355659\" fill=\"none\" stroke=\"#cccccc\" stroke-dasharray=\"0,0.682969\" stroke-linecap=\"round\" stroke-linejoin=\"round\" stroke-miterlimit=\"10.0375\" stroke-width=\"0.170717\"/>\n",
       "</g>\n",
       "<g transform=\"translate(340.228 337.677)scale(.996264)\">\n",
       "<path d=\"M306.223 569.411V.355659\" fill=\"none\" stroke=\"#cccccc\" stroke-dasharray=\"0,0.682969\" stroke-linecap=\"round\" stroke-linejoin=\"round\" stroke-miterlimit=\"10.0375\" stroke-width=\"0.170717\"/>\n",
       "</g>\n",
       "<g transform=\"translate(340.228 337.677)scale(.996264)\">\n",
       "<path d=\"M313.336 569.411V.355659\" fill=\"none\" stroke=\"#cccccc\" stroke-linecap=\"round\" stroke-linejoin=\"round\" stroke-miterlimit=\"10.0375\" stroke-width=\"0.426791\"/>\n",
       "</g>\n",
       "<g transform=\"translate(340.228 337.677)scale(.996264)\">\n",
       "<path d=\"M320.449 569.411V.355659\" fill=\"none\" stroke=\"#cccccc\" stroke-dasharray=\"0,0.682969\" stroke-linecap=\"round\" stroke-linejoin=\"round\" stroke-miterlimit=\"10.0375\" stroke-width=\"0.170717\"/>\n",
       "</g>\n",
       "<g transform=\"translate(340.228 337.677)scale(.996264)\">\n",
       "<path d=\"M327.562 569.411V.355659\" fill=\"none\" stroke=\"#cccccc\" stroke-dasharray=\"0,0.682969\" stroke-linecap=\"round\" stroke-linejoin=\"round\" stroke-miterlimit=\"10.0375\" stroke-width=\"0.170717\"/>\n",
       "</g>\n",
       "<g transform=\"translate(340.228 337.677)scale(.996264)\">\n",
       "<path d=\"M334.676 569.411V.355659\" fill=\"none\" stroke=\"#cccccc\" stroke-dasharray=\"0,0.682969\" stroke-linecap=\"round\" stroke-linejoin=\"round\" stroke-miterlimit=\"10.0375\" stroke-width=\"0.170717\"/>\n",
       "</g>\n",
       "<g transform=\"translate(340.228 337.677)scale(.996264)\">\n",
       "<path d=\"M341.789 569.411V.355659\" fill=\"none\" stroke=\"#cccccc\" stroke-linecap=\"round\" stroke-linejoin=\"round\" stroke-miterlimit=\"10.0375\" stroke-width=\"0.426791\"/>\n",
       "</g>\n",
       "<g transform=\"translate(340.228 337.677)scale(.996264)\">\n",
       "<path d=\"M348.902 569.411V.355659\" fill=\"none\" stroke=\"#cccccc\" stroke-dasharray=\"0,0.682969\" stroke-linecap=\"round\" stroke-linejoin=\"round\" stroke-miterlimit=\"10.0375\" stroke-width=\"0.170717\"/>\n",
       "</g>\n",
       "<g transform=\"translate(340.228 337.677)scale(.996264)\">\n",
       "<path d=\"M356.015 569.411V.355659\" fill=\"none\" stroke=\"#cccccc\" stroke-dasharray=\"0,0.682969\" stroke-linecap=\"round\" stroke-linejoin=\"round\" stroke-miterlimit=\"10.0375\" stroke-width=\"0.170717\"/>\n",
       "</g>\n",
       "<g transform=\"translate(340.228 337.677)scale(.996264)\">\n",
       "<path d=\"M363.128 569.411V.355659\" fill=\"none\" stroke=\"#cccccc\" stroke-dasharray=\"0,0.682969\" stroke-linecap=\"round\" stroke-linejoin=\"round\" stroke-miterlimit=\"10.0375\" stroke-width=\"0.170717\"/>\n",
       "</g>\n",
       "<g transform=\"translate(340.228 337.677)scale(.996264)\">\n",
       "<path d=\"M370.241 569.411V.355659\" fill=\"none\" stroke=\"#cccccc\" stroke-linecap=\"round\" stroke-linejoin=\"round\" stroke-miterlimit=\"10.0375\" stroke-width=\"0.426791\"/>\n",
       "</g>\n",
       "<g transform=\"translate(340.228 337.677)scale(.996264)\">\n",
       "<path d=\"M377.355 569.411V.355659\" fill=\"none\" stroke=\"#cccccc\" stroke-dasharray=\"0,0.682969\" stroke-linecap=\"round\" stroke-linejoin=\"round\" stroke-miterlimit=\"10.0375\" stroke-width=\"0.170717\"/>\n",
       "</g>\n",
       "<g transform=\"translate(340.228 337.677)scale(.996264)\">\n",
       "<path d=\"M384.468 569.411V.355659\" fill=\"none\" stroke=\"#cccccc\" stroke-dasharray=\"0,0.682969\" stroke-linecap=\"round\" stroke-linejoin=\"round\" stroke-miterlimit=\"10.0375\" stroke-width=\"0.170717\"/>\n",
       "</g>\n",
       "<g transform=\"translate(340.228 337.677)scale(.996264)\">\n",
       "<path d=\"M391.581 569.411V.355659\" fill=\"none\" stroke=\"#cccccc\" stroke-dasharray=\"0,0.682969\" stroke-linecap=\"round\" stroke-linejoin=\"round\" stroke-miterlimit=\"10.0375\" stroke-width=\"0.170717\"/>\n",
       "</g>\n",
       "<g transform=\"translate(340.228 337.677)scale(.996264)\">\n",
       "<path d=\"M398.694 569.411V.355659\" fill=\"none\" stroke=\"#cccccc\" stroke-linecap=\"round\" stroke-linejoin=\"round\" stroke-miterlimit=\"10.0375\" stroke-width=\"0.426791\"/>\n",
       "</g>\n",
       "<g transform=\"translate(340.228 337.677)scale(.996264)\">\n",
       "<path d=\"M405.807 569.411V.355659\" fill=\"none\" stroke=\"#cccccc\" stroke-dasharray=\"0,0.682969\" stroke-linecap=\"round\" stroke-linejoin=\"round\" stroke-miterlimit=\"10.0375\" stroke-width=\"0.170717\"/>\n",
       "</g>\n",
       "<g transform=\"translate(340.228 337.677)scale(.996264)\">\n",
       "<path d=\"M412.921 569.411V.355659\" fill=\"none\" stroke=\"#cccccc\" stroke-dasharray=\"0,0.682969\" stroke-linecap=\"round\" stroke-linejoin=\"round\" stroke-miterlimit=\"10.0375\" stroke-width=\"0.170717\"/>\n",
       "</g>\n",
       "<g transform=\"translate(340.228 337.677)scale(.996264)\">\n",
       "<path d=\"M420.034 569.411V.355659\" fill=\"none\" stroke=\"#cccccc\" stroke-dasharray=\"0,0.682969\" stroke-linecap=\"round\" stroke-linejoin=\"round\" stroke-miterlimit=\"10.0375\" stroke-width=\"0.170717\"/>\n",
       "</g>\n",
       "<g transform=\"translate(340.228 337.677)scale(.996264)\">\n",
       "<path d=\"M427.147 569.411V.355659\" fill=\"none\" stroke=\"#cccccc\" stroke-linecap=\"round\" stroke-linejoin=\"round\" stroke-miterlimit=\"10.0375\" stroke-width=\"0.426791\"/>\n",
       "</g>\n",
       "<g transform=\"translate(340.228 337.677)scale(.996264)\">\n",
       "<path d=\"M434.26 569.411V.355659\" fill=\"none\" stroke=\"#cccccc\" stroke-dasharray=\"0,0.682969\" stroke-linecap=\"round\" stroke-linejoin=\"round\" stroke-miterlimit=\"10.0375\" stroke-width=\"0.170717\"/>\n",
       "</g>\n",
       "<g transform=\"translate(340.228 337.677)scale(.996264)\">\n",
       "<path d=\"M441.373 569.411V.355659\" fill=\"none\" stroke=\"#cccccc\" stroke-dasharray=\"0,0.682969\" stroke-linecap=\"round\" stroke-linejoin=\"round\" stroke-miterlimit=\"10.0375\" stroke-width=\"0.170717\"/>\n",
       "</g>\n",
       "<g transform=\"translate(340.228 337.677)scale(.996264)\">\n",
       "<path d=\"M448.487 569.411V.355659\" fill=\"none\" stroke=\"#cccccc\" stroke-dasharray=\"0,0.682969\" stroke-linecap=\"round\" stroke-linejoin=\"round\" stroke-miterlimit=\"10.0375\" stroke-width=\"0.170717\"/>\n",
       "</g>\n",
       "<g transform=\"translate(340.228 337.677)scale(.996264)\">\n",
       "<path d=\"M455.6 569.411V.355659\" fill=\"none\" stroke=\"#cccccc\" stroke-linecap=\"round\" stroke-linejoin=\"round\" stroke-miterlimit=\"10.0375\" stroke-width=\"0.426791\"/>\n",
       "</g>\n",
       "<g transform=\"translate(340.228 337.677)scale(.996264)\">\n",
       "<path d=\"M462.713 569.411V.355659\" fill=\"none\" stroke=\"#cccccc\" stroke-dasharray=\"0,0.682969\" stroke-linecap=\"round\" stroke-linejoin=\"round\" stroke-miterlimit=\"10.0375\" stroke-width=\"0.170717\"/>\n",
       "</g>\n",
       "<g transform=\"translate(340.228 337.677)scale(.996264)\">\n",
       "<path d=\"M469.826 569.411V.355659\" fill=\"none\" stroke=\"#cccccc\" stroke-dasharray=\"0,0.682969\" stroke-linecap=\"round\" stroke-linejoin=\"round\" stroke-miterlimit=\"10.0375\" stroke-width=\"0.170717\"/>\n",
       "</g>\n",
       "<g transform=\"translate(340.228 337.677)scale(.996264)\">\n",
       "<path d=\"M476.939 569.411V.355659\" fill=\"none\" stroke=\"#cccccc\" stroke-dasharray=\"0,0.682969\" stroke-linecap=\"round\" stroke-linejoin=\"round\" stroke-miterlimit=\"10.0375\" stroke-width=\"0.170717\"/>\n",
       "</g>\n",
       "<g transform=\"translate(340.228 337.677)scale(.996264)\">\n",
       "<path d=\"M484.053 569.411V.355659\" fill=\"none\" stroke=\"#cccccc\" stroke-linecap=\"round\" stroke-linejoin=\"round\" stroke-miterlimit=\"10.0375\" stroke-width=\"0.426791\"/>\n",
       "</g>\n",
       "<g transform=\"translate(340.228 337.677)scale(.996264)\">\n",
       "<path d=\"M491.166 569.411V.355659\" fill=\"none\" stroke=\"#cccccc\" stroke-dasharray=\"0,0.682969\" stroke-linecap=\"round\" stroke-linejoin=\"round\" stroke-miterlimit=\"10.0375\" stroke-width=\"0.170717\"/>\n",
       "</g>\n",
       "<g transform=\"translate(340.228 337.677)scale(.996264)\">\n",
       "<path d=\"M498.279 569.411V.355659\" fill=\"none\" stroke=\"#cccccc\" stroke-dasharray=\"0,0.682969\" stroke-linecap=\"round\" stroke-linejoin=\"round\" stroke-miterlimit=\"10.0375\" stroke-width=\"0.170717\"/>\n",
       "</g>\n",
       "<g transform=\"translate(340.228 337.677)scale(.996264)\">\n",
       "<path d=\"M505.392 569.411V.355659\" fill=\"none\" stroke=\"#cccccc\" stroke-dasharray=\"0,0.682969\" stroke-linecap=\"round\" stroke-linejoin=\"round\" stroke-miterlimit=\"10.0375\" stroke-width=\"0.170717\"/>\n",
       "</g>\n",
       "<g transform=\"translate(340.228 337.677)scale(.996264)\">\n",
       "<path d=\"M512.505 569.411V.355659\" fill=\"none\" stroke=\"#cccccc\" stroke-linecap=\"round\" stroke-linejoin=\"round\" stroke-miterlimit=\"10.0375\" stroke-width=\"0.426791\"/>\n",
       "</g>\n",
       "<g transform=\"translate(340.228 337.677)scale(.996264)\">\n",
       "<path d=\"M519.618 569.411V.355659\" fill=\"none\" stroke=\"#cccccc\" stroke-dasharray=\"0,0.682969\" stroke-linecap=\"round\" stroke-linejoin=\"round\" stroke-miterlimit=\"10.0375\" stroke-width=\"0.170717\"/>\n",
       "</g>\n",
       "<g transform=\"translate(340.228 337.677)scale(.996264)\">\n",
       "<path d=\"M526.732 569.411V.355659\" fill=\"none\" stroke=\"#cccccc\" stroke-dasharray=\"0,0.682969\" stroke-linecap=\"round\" stroke-linejoin=\"round\" stroke-miterlimit=\"10.0375\" stroke-width=\"0.170717\"/>\n",
       "</g>\n",
       "<g transform=\"translate(340.228 337.677)scale(.996264)\">\n",
       "<path d=\"M533.845 569.411V.355659\" fill=\"none\" stroke=\"#cccccc\" stroke-dasharray=\"0,0.682969\" stroke-linecap=\"round\" stroke-linejoin=\"round\" stroke-miterlimit=\"10.0375\" stroke-width=\"0.170717\"/>\n",
       "</g>\n",
       "<g transform=\"translate(340.228 337.677)scale(.996264)\">\n",
       "<path d=\"M540.958 569.411V.355659\" fill=\"none\" stroke=\"#cccccc\" stroke-linecap=\"round\" stroke-linejoin=\"round\" stroke-miterlimit=\"10.0375\" stroke-width=\"0.426791\"/>\n",
       "</g>\n",
       "<g transform=\"translate(340.228 337.677)scale(.996264)\">\n",
       "<path d=\"M548.071 569.411V.355659\" fill=\"none\" stroke=\"#cccccc\" stroke-dasharray=\"0,0.682969\" stroke-linecap=\"round\" stroke-linejoin=\"round\" stroke-miterlimit=\"10.0375\" stroke-width=\"0.170717\"/>\n",
       "</g>\n",
       "<g transform=\"translate(340.228 337.677)scale(.996264)\">\n",
       "<path d=\"M555.184 569.411V.355659\" fill=\"none\" stroke=\"#cccccc\" stroke-dasharray=\"0,0.682969\" stroke-linecap=\"round\" stroke-linejoin=\"round\" stroke-miterlimit=\"10.0375\" stroke-width=\"0.170717\"/>\n",
       "</g>\n",
       "<g transform=\"translate(340.228 337.677)scale(.996264)\">\n",
       "<path d=\"M562.298 569.411V.355659\" fill=\"none\" stroke=\"#cccccc\" stroke-dasharray=\"0,0.682969\" stroke-linecap=\"round\" stroke-linejoin=\"round\" stroke-miterlimit=\"10.0375\" stroke-width=\"0.170717\"/>\n",
       "</g>\n",
       "<g transform=\"translate(340.228 337.677)scale(.996264)\">\n",
       "<path d=\"M569.411 569.411V.355659\" fill=\"none\" stroke=\"#cccccc\" stroke-linecap=\"round\" stroke-linejoin=\"round\" stroke-miterlimit=\"10.0375\" stroke-width=\"0.426791\"/>\n",
       "</g>\n",
       "<g transform=\"translate(340.228 337.677)scale(.996264)\">\n",
       "<path d=\"M.355659 569.411H569.411\" fill=\"none\" stroke=\"#cccccc\" stroke-linecap=\"round\" stroke-linejoin=\"round\" stroke-miterlimit=\"10.0375\" stroke-width=\"0.426791\"/>\n",
       "</g>\n",
       "<g transform=\"translate(340.228 337.677)scale(.996264)\">\n",
       "<path d=\"M.355659 562.298H569.411\" fill=\"none\" stroke=\"#cccccc\" stroke-dasharray=\"0,0.682969\" stroke-linecap=\"round\" stroke-linejoin=\"round\" stroke-miterlimit=\"10.0375\" stroke-width=\"0.170717\"/>\n",
       "</g>\n",
       "<g transform=\"translate(340.228 337.677)scale(.996264)\">\n",
       "<path d=\"M.355659 555.184H569.411\" fill=\"none\" stroke=\"#cccccc\" stroke-dasharray=\"0,0.682969\" stroke-linecap=\"round\" stroke-linejoin=\"round\" stroke-miterlimit=\"10.0375\" stroke-width=\"0.170717\"/>\n",
       "</g>\n",
       "<g transform=\"translate(340.228 337.677)scale(.996264)\">\n",
       "<path d=\"M.355659 548.071H569.411\" fill=\"none\" stroke=\"#cccccc\" stroke-dasharray=\"0,0.682969\" stroke-linecap=\"round\" stroke-linejoin=\"round\" stroke-miterlimit=\"10.0375\" stroke-width=\"0.170717\"/>\n",
       "</g>\n",
       "<g transform=\"translate(340.228 337.677)scale(.996264)\">\n",
       "<path d=\"M.355659 540.958H569.411\" fill=\"none\" stroke=\"#cccccc\" stroke-dasharray=\"0,0.682969\" stroke-linecap=\"round\" stroke-linejoin=\"round\" stroke-miterlimit=\"10.0375\" stroke-width=\"0.170717\"/>\n",
       "</g>\n",
       "<g transform=\"translate(340.228 337.677)scale(.996264)\">\n",
       "<path d=\"M.355659 540.958H569.411\" fill=\"none\" stroke=\"#cccccc\" stroke-linecap=\"round\" stroke-linejoin=\"round\" stroke-miterlimit=\"10.0375\" stroke-width=\"0.426791\"/>\n",
       "</g>\n",
       "<g transform=\"translate(340.228 337.677)scale(.996264)\">\n",
       "<path d=\"M.355659 533.845H569.411\" fill=\"none\" stroke=\"#cccccc\" stroke-dasharray=\"0,0.682969\" stroke-linecap=\"round\" stroke-linejoin=\"round\" stroke-miterlimit=\"10.0375\" stroke-width=\"0.170717\"/>\n",
       "</g>\n",
       "<g transform=\"translate(340.228 337.677)scale(.996264)\">\n",
       "<path d=\"M.355659 526.732H569.411\" fill=\"none\" stroke=\"#cccccc\" stroke-dasharray=\"0,0.682969\" stroke-linecap=\"round\" stroke-linejoin=\"round\" stroke-miterlimit=\"10.0375\" stroke-width=\"0.170717\"/>\n",
       "</g>\n",
       "<g transform=\"translate(340.228 337.677)scale(.996264)\">\n",
       "<path d=\"M.355659 519.618H569.411\" fill=\"none\" stroke=\"#cccccc\" stroke-dasharray=\"0,0.682969\" stroke-linecap=\"round\" stroke-linejoin=\"round\" stroke-miterlimit=\"10.0375\" stroke-width=\"0.170717\"/>\n",
       "</g>\n",
       "<g transform=\"translate(340.228 337.677)scale(.996264)\">\n",
       "<path d=\"M.355659 512.505H569.411\" fill=\"none\" stroke=\"#cccccc\" stroke-dasharray=\"0,0.682969\" stroke-linecap=\"round\" stroke-linejoin=\"round\" stroke-miterlimit=\"10.0375\" stroke-width=\"0.170717\"/>\n",
       "</g>\n",
       "<g transform=\"translate(340.228 337.677)scale(.996264)\">\n",
       "<path d=\"M.355659 512.505H569.411\" fill=\"none\" stroke=\"#cccccc\" stroke-linecap=\"round\" stroke-linejoin=\"round\" stroke-miterlimit=\"10.0375\" stroke-width=\"0.426791\"/>\n",
       "</g>\n",
       "<g transform=\"translate(340.228 337.677)scale(.996264)\">\n",
       "<path d=\"M.355659 505.392H569.411\" fill=\"none\" stroke=\"#cccccc\" stroke-dasharray=\"0,0.682969\" stroke-linecap=\"round\" stroke-linejoin=\"round\" stroke-miterlimit=\"10.0375\" stroke-width=\"0.170717\"/>\n",
       "</g>\n",
       "<g transform=\"translate(340.228 337.677)scale(.996264)\">\n",
       "<path d=\"M.355659 498.279H569.411\" fill=\"none\" stroke=\"#cccccc\" stroke-dasharray=\"0,0.682969\" stroke-linecap=\"round\" stroke-linejoin=\"round\" stroke-miterlimit=\"10.0375\" stroke-width=\"0.170717\"/>\n",
       "</g>\n",
       "<g transform=\"translate(340.228 337.677)scale(.996264)\">\n",
       "<path d=\"M.355659 491.166H569.411\" fill=\"none\" stroke=\"#cccccc\" stroke-dasharray=\"0,0.682969\" stroke-linecap=\"round\" stroke-linejoin=\"round\" stroke-miterlimit=\"10.0375\" stroke-width=\"0.170717\"/>\n",
       "</g>\n",
       "<g transform=\"translate(340.228 337.677)scale(.996264)\">\n",
       "<path d=\"M.355659 484.053H569.411\" fill=\"none\" stroke=\"#cccccc\" stroke-dasharray=\"0,0.682969\" stroke-linecap=\"round\" stroke-linejoin=\"round\" stroke-miterlimit=\"10.0375\" stroke-width=\"0.170717\"/>\n",
       "</g>\n",
       "<g transform=\"translate(340.228 337.677)scale(.996264)\">\n",
       "<path d=\"M.355659 484.053H569.411\" fill=\"none\" stroke=\"#cccccc\" stroke-linecap=\"round\" stroke-linejoin=\"round\" stroke-miterlimit=\"10.0375\" stroke-width=\"0.426791\"/>\n",
       "</g>\n",
       "<g transform=\"translate(340.228 337.677)scale(.996264)\">\n",
       "<path d=\"M.355659 476.939H569.411\" fill=\"none\" stroke=\"#cccccc\" stroke-dasharray=\"0,0.682969\" stroke-linecap=\"round\" stroke-linejoin=\"round\" stroke-miterlimit=\"10.0375\" stroke-width=\"0.170717\"/>\n",
       "</g>\n",
       "<g transform=\"translate(340.228 337.677)scale(.996264)\">\n",
       "<path d=\"M.355659 469.826H569.411\" fill=\"none\" stroke=\"#cccccc\" stroke-dasharray=\"0,0.682969\" stroke-linecap=\"round\" stroke-linejoin=\"round\" stroke-miterlimit=\"10.0375\" stroke-width=\"0.170717\"/>\n",
       "</g>\n",
       "<g transform=\"translate(340.228 337.677)scale(.996264)\">\n",
       "<path d=\"M.355659 462.713H569.411\" fill=\"none\" stroke=\"#cccccc\" stroke-dasharray=\"0,0.682969\" stroke-linecap=\"round\" stroke-linejoin=\"round\" stroke-miterlimit=\"10.0375\" stroke-width=\"0.170717\"/>\n",
       "</g>\n",
       "<g transform=\"translate(340.228 337.677)scale(.996264)\">\n",
       "<path d=\"M.355659 455.6H569.411\" fill=\"none\" stroke=\"#cccccc\" stroke-dasharray=\"0,0.682969\" stroke-linecap=\"round\" stroke-linejoin=\"round\" stroke-miterlimit=\"10.0375\" stroke-width=\"0.170717\"/>\n",
       "</g>\n",
       "<g transform=\"translate(340.228 337.677)scale(.996264)\">\n",
       "<path d=\"M.355659 455.6H569.411\" fill=\"none\" stroke=\"#cccccc\" stroke-linecap=\"round\" stroke-linejoin=\"round\" stroke-miterlimit=\"10.0375\" stroke-width=\"0.426791\"/>\n",
       "</g>\n",
       "<g transform=\"translate(340.228 337.677)scale(.996264)\">\n",
       "<path d=\"M.355659 448.487H569.411\" fill=\"none\" stroke=\"#cccccc\" stroke-dasharray=\"0,0.682969\" stroke-linecap=\"round\" stroke-linejoin=\"round\" stroke-miterlimit=\"10.0375\" stroke-width=\"0.170717\"/>\n",
       "</g>\n",
       "<g transform=\"translate(340.228 337.677)scale(.996264)\">\n",
       "<path d=\"M.355659 441.373H569.411\" fill=\"none\" stroke=\"#cccccc\" stroke-dasharray=\"0,0.682969\" stroke-linecap=\"round\" stroke-linejoin=\"round\" stroke-miterlimit=\"10.0375\" stroke-width=\"0.170717\"/>\n",
       "</g>\n",
       "<g transform=\"translate(340.228 337.677)scale(.996264)\">\n",
       "<path d=\"M.355659 434.26H569.411\" fill=\"none\" stroke=\"#cccccc\" stroke-dasharray=\"0,0.682969\" stroke-linecap=\"round\" stroke-linejoin=\"round\" stroke-miterlimit=\"10.0375\" stroke-width=\"0.170717\"/>\n",
       "</g>\n",
       "<g transform=\"translate(340.228 337.677)scale(.996264)\">\n",
       "<path d=\"M.355659 427.147H569.411\" fill=\"none\" stroke=\"#cccccc\" stroke-dasharray=\"0,0.682969\" stroke-linecap=\"round\" stroke-linejoin=\"round\" stroke-miterlimit=\"10.0375\" stroke-width=\"0.170717\"/>\n",
       "</g>\n",
       "<g transform=\"translate(340.228 337.677)scale(.996264)\">\n",
       "<path d=\"M.355659 427.147H569.411\" fill=\"none\" stroke=\"#cccccc\" stroke-linecap=\"round\" stroke-linejoin=\"round\" stroke-miterlimit=\"10.0375\" stroke-width=\"0.426791\"/>\n",
       "</g>\n",
       "<g transform=\"translate(340.228 337.677)scale(.996264)\">\n",
       "<path d=\"M.355659 420.034H569.411\" fill=\"none\" stroke=\"#cccccc\" stroke-dasharray=\"0,0.682969\" stroke-linecap=\"round\" stroke-linejoin=\"round\" stroke-miterlimit=\"10.0375\" stroke-width=\"0.170717\"/>\n",
       "</g>\n",
       "<g transform=\"translate(340.228 337.677)scale(.996264)\">\n",
       "<path d=\"M.355659 412.921H569.411\" fill=\"none\" stroke=\"#cccccc\" stroke-dasharray=\"0,0.682969\" stroke-linecap=\"round\" stroke-linejoin=\"round\" stroke-miterlimit=\"10.0375\" stroke-width=\"0.170717\"/>\n",
       "</g>\n",
       "<g transform=\"translate(340.228 337.677)scale(.996264)\">\n",
       "<path d=\"M.355659 405.807H569.411\" fill=\"none\" stroke=\"#cccccc\" stroke-dasharray=\"0,0.682969\" stroke-linecap=\"round\" stroke-linejoin=\"round\" stroke-miterlimit=\"10.0375\" stroke-width=\"0.170717\"/>\n",
       "</g>\n",
       "<g transform=\"translate(340.228 337.677)scale(.996264)\">\n",
       "<path d=\"M.355659 398.694H569.411\" fill=\"none\" stroke=\"#cccccc\" stroke-dasharray=\"0,0.682969\" stroke-linecap=\"round\" stroke-linejoin=\"round\" stroke-miterlimit=\"10.0375\" stroke-width=\"0.170717\"/>\n",
       "</g>\n",
       "<g transform=\"translate(340.228 337.677)scale(.996264)\">\n",
       "<path d=\"M.355659 398.694H569.411\" fill=\"none\" stroke=\"#cccccc\" stroke-linecap=\"round\" stroke-linejoin=\"round\" stroke-miterlimit=\"10.0375\" stroke-width=\"0.426791\"/>\n",
       "</g>\n",
       "<g transform=\"translate(340.228 337.677)scale(.996264)\">\n",
       "<path d=\"M.355659 391.581H569.411\" fill=\"none\" stroke=\"#cccccc\" stroke-dasharray=\"0,0.682969\" stroke-linecap=\"round\" stroke-linejoin=\"round\" stroke-miterlimit=\"10.0375\" stroke-width=\"0.170717\"/>\n",
       "</g>\n",
       "<g transform=\"translate(340.228 337.677)scale(.996264)\">\n",
       "<path d=\"M.355659 384.468H569.411\" fill=\"none\" stroke=\"#cccccc\" stroke-dasharray=\"0,0.682969\" stroke-linecap=\"round\" stroke-linejoin=\"round\" stroke-miterlimit=\"10.0375\" stroke-width=\"0.170717\"/>\n",
       "</g>\n",
       "<g transform=\"translate(340.228 337.677)scale(.996264)\">\n",
       "<path d=\"M.355659 377.355H569.411\" fill=\"none\" stroke=\"#cccccc\" stroke-dasharray=\"0,0.682969\" stroke-linecap=\"round\" stroke-linejoin=\"round\" stroke-miterlimit=\"10.0375\" stroke-width=\"0.170717\"/>\n",
       "</g>\n",
       "<g transform=\"translate(340.228 337.677)scale(.996264)\">\n",
       "<path d=\"M.355659 370.241H569.411\" fill=\"none\" stroke=\"#cccccc\" stroke-dasharray=\"0,0.682969\" stroke-linecap=\"round\" stroke-linejoin=\"round\" stroke-miterlimit=\"10.0375\" stroke-width=\"0.170717\"/>\n",
       "</g>\n",
       "<g transform=\"translate(340.228 337.677)scale(.996264)\">\n",
       "<path d=\"M.355659 370.241H569.411\" fill=\"none\" stroke=\"#cccccc\" stroke-linecap=\"round\" stroke-linejoin=\"round\" stroke-miterlimit=\"10.0375\" stroke-width=\"0.426791\"/>\n",
       "</g>\n",
       "<g transform=\"translate(340.228 337.677)scale(.996264)\">\n",
       "<path d=\"M.355659 363.128H569.411\" fill=\"none\" stroke=\"#cccccc\" stroke-dasharray=\"0,0.682969\" stroke-linecap=\"round\" stroke-linejoin=\"round\" stroke-miterlimit=\"10.0375\" stroke-width=\"0.170717\"/>\n",
       "</g>\n",
       "<g transform=\"translate(340.228 337.677)scale(.996264)\">\n",
       "<path d=\"M.355659 356.015H569.411\" fill=\"none\" stroke=\"#cccccc\" stroke-dasharray=\"0,0.682969\" stroke-linecap=\"round\" stroke-linejoin=\"round\" stroke-miterlimit=\"10.0375\" stroke-width=\"0.170717\"/>\n",
       "</g>\n",
       "<g transform=\"translate(340.228 337.677)scale(.996264)\">\n",
       "<path d=\"M.355659 348.902H569.411\" fill=\"none\" stroke=\"#cccccc\" stroke-dasharray=\"0,0.682969\" stroke-linecap=\"round\" stroke-linejoin=\"round\" stroke-miterlimit=\"10.0375\" stroke-width=\"0.170717\"/>\n",
       "</g>\n",
       "<g transform=\"translate(340.228 337.677)scale(.996264)\">\n",
       "<path d=\"M.355659 341.789H569.411\" fill=\"none\" stroke=\"#cccccc\" stroke-dasharray=\"0,0.682969\" stroke-linecap=\"round\" stroke-linejoin=\"round\" stroke-miterlimit=\"10.0375\" stroke-width=\"0.170717\"/>\n",
       "</g>\n",
       "<g transform=\"translate(340.228 337.677)scale(.996264)\">\n",
       "<path d=\"M.355659 341.789H569.411\" fill=\"none\" stroke=\"#cccccc\" stroke-linecap=\"round\" stroke-linejoin=\"round\" stroke-miterlimit=\"10.0375\" stroke-width=\"0.426791\"/>\n",
       "</g>\n",
       "<g transform=\"translate(340.228 337.677)scale(.996264)\">\n",
       "<path d=\"M.355659 334.676H569.411\" fill=\"none\" stroke=\"#cccccc\" stroke-dasharray=\"0,0.682969\" stroke-linecap=\"round\" stroke-linejoin=\"round\" stroke-miterlimit=\"10.0375\" stroke-width=\"0.170717\"/>\n",
       "</g>\n",
       "<g transform=\"translate(340.228 337.677)scale(.996264)\">\n",
       "<path d=\"M.355659 327.562H569.411\" fill=\"none\" stroke=\"#cccccc\" stroke-dasharray=\"0,0.682969\" stroke-linecap=\"round\" stroke-linejoin=\"round\" stroke-miterlimit=\"10.0375\" stroke-width=\"0.170717\"/>\n",
       "</g>\n",
       "<g transform=\"translate(340.228 337.677)scale(.996264)\">\n",
       "<path d=\"M.355659 320.449H569.411\" fill=\"none\" stroke=\"#cccccc\" stroke-dasharray=\"0,0.682969\" stroke-linecap=\"round\" stroke-linejoin=\"round\" stroke-miterlimit=\"10.0375\" stroke-width=\"0.170717\"/>\n",
       "</g>\n",
       "<g transform=\"translate(340.228 337.677)scale(.996264)\">\n",
       "<path d=\"M.355659 313.336H569.411\" fill=\"none\" stroke=\"#cccccc\" stroke-dasharray=\"0,0.682969\" stroke-linecap=\"round\" stroke-linejoin=\"round\" stroke-miterlimit=\"10.0375\" stroke-width=\"0.170717\"/>\n",
       "</g>\n",
       "<g transform=\"translate(340.228 337.677)scale(.996264)\">\n",
       "<path d=\"M.355659 313.336H569.411\" fill=\"none\" stroke=\"#cccccc\" stroke-linecap=\"round\" stroke-linejoin=\"round\" stroke-miterlimit=\"10.0375\" stroke-width=\"0.426791\"/>\n",
       "</g>\n",
       "<g transform=\"translate(340.228 337.677)scale(.996264)\">\n",
       "<path d=\"M.355659 306.223H569.411\" fill=\"none\" stroke=\"#cccccc\" stroke-dasharray=\"0,0.682969\" stroke-linecap=\"round\" stroke-linejoin=\"round\" stroke-miterlimit=\"10.0375\" stroke-width=\"0.170717\"/>\n",
       "</g>\n",
       "<g transform=\"translate(340.228 337.677)scale(.996264)\">\n",
       "<path d=\"M.355659 299.11H569.411\" fill=\"none\" stroke=\"#cccccc\" stroke-dasharray=\"0,0.682969\" stroke-linecap=\"round\" stroke-linejoin=\"round\" stroke-miterlimit=\"10.0375\" stroke-width=\"0.170717\"/>\n",
       "</g>\n",
       "<g transform=\"translate(340.228 337.677)scale(.996264)\">\n",
       "<path d=\"M.355659 291.996H569.411\" fill=\"none\" stroke=\"#cccccc\" stroke-dasharray=\"0,0.682969\" stroke-linecap=\"round\" stroke-linejoin=\"round\" stroke-miterlimit=\"10.0375\" stroke-width=\"0.170717\"/>\n",
       "</g>\n",
       "<g transform=\"translate(340.228 337.677)scale(.996264)\">\n",
       "<path d=\"M.355659 284.883H569.411\" fill=\"none\" stroke=\"#cccccc\" stroke-dasharray=\"0,0.682969\" stroke-linecap=\"round\" stroke-linejoin=\"round\" stroke-miterlimit=\"10.0375\" stroke-width=\"0.170717\"/>\n",
       "</g>\n",
       "<g transform=\"translate(340.228 337.677)scale(.996264)\">\n",
       "<path d=\"M.355659 284.883H569.411\" fill=\"none\" stroke=\"#cccccc\" stroke-linecap=\"round\" stroke-linejoin=\"round\" stroke-miterlimit=\"10.0375\" stroke-width=\"0.426791\"/>\n",
       "</g>\n",
       "<g transform=\"translate(340.228 337.677)scale(.996264)\">\n",
       "<path d=\"M.355659 277.77H569.411\" fill=\"none\" stroke=\"#cccccc\" stroke-dasharray=\"0,0.682969\" stroke-linecap=\"round\" stroke-linejoin=\"round\" stroke-miterlimit=\"10.0375\" stroke-width=\"0.170717\"/>\n",
       "</g>\n",
       "<g transform=\"translate(340.228 337.677)scale(.996264)\">\n",
       "<path d=\"M.355659 270.657H569.411\" fill=\"none\" stroke=\"#cccccc\" stroke-dasharray=\"0,0.682969\" stroke-linecap=\"round\" stroke-linejoin=\"round\" stroke-miterlimit=\"10.0375\" stroke-width=\"0.170717\"/>\n",
       "</g>\n",
       "<g transform=\"translate(340.228 337.677)scale(.996264)\">\n",
       "<path d=\"M.355659 263.544H569.411\" fill=\"none\" stroke=\"#cccccc\" stroke-dasharray=\"0,0.682969\" stroke-linecap=\"round\" stroke-linejoin=\"round\" stroke-miterlimit=\"10.0375\" stroke-width=\"0.170717\"/>\n",
       "</g>\n",
       "<g transform=\"translate(340.228 337.677)scale(.996264)\">\n",
       "<path d=\"M.355659 256.43H569.411\" fill=\"none\" stroke=\"#cccccc\" stroke-dasharray=\"0,0.682969\" stroke-linecap=\"round\" stroke-linejoin=\"round\" stroke-miterlimit=\"10.0375\" stroke-width=\"0.170717\"/>\n",
       "</g>\n",
       "<g transform=\"translate(340.228 337.677)scale(.996264)\">\n",
       "<path d=\"M.355659 256.43H569.411\" fill=\"none\" stroke=\"#cccccc\" stroke-linecap=\"round\" stroke-linejoin=\"round\" stroke-miterlimit=\"10.0375\" stroke-width=\"0.426791\"/>\n",
       "</g>\n",
       "<g transform=\"translate(340.228 337.677)scale(.996264)\">\n",
       "<path d=\"M.355659 249.317H569.411\" fill=\"none\" stroke=\"#cccccc\" stroke-dasharray=\"0,0.682969\" stroke-linecap=\"round\" stroke-linejoin=\"round\" stroke-miterlimit=\"10.0375\" stroke-width=\"0.170717\"/>\n",
       "</g>\n",
       "<g transform=\"translate(340.228 337.677)scale(.996264)\">\n",
       "<path d=\"M.355659 242.204H569.411\" fill=\"none\" stroke=\"#cccccc\" stroke-dasharray=\"0,0.682969\" stroke-linecap=\"round\" stroke-linejoin=\"round\" stroke-miterlimit=\"10.0375\" stroke-width=\"0.170717\"/>\n",
       "</g>\n",
       "<g transform=\"translate(340.228 337.677)scale(.996264)\">\n",
       "<path d=\"M.355659 235.091H569.411\" fill=\"none\" stroke=\"#cccccc\" stroke-dasharray=\"0,0.682969\" stroke-linecap=\"round\" stroke-linejoin=\"round\" stroke-miterlimit=\"10.0375\" stroke-width=\"0.170717\"/>\n",
       "</g>\n",
       "<g transform=\"translate(340.228 337.677)scale(.996264)\">\n",
       "<path d=\"M.355659 227.978H569.411\" fill=\"none\" stroke=\"#cccccc\" stroke-dasharray=\"0,0.682969\" stroke-linecap=\"round\" stroke-linejoin=\"round\" stroke-miterlimit=\"10.0375\" stroke-width=\"0.170717\"/>\n",
       "</g>\n",
       "<g transform=\"translate(340.228 337.677)scale(.996264)\">\n",
       "<path d=\"M.355659 227.978H569.411\" fill=\"none\" stroke=\"#cccccc\" stroke-linecap=\"round\" stroke-linejoin=\"round\" stroke-miterlimit=\"10.0375\" stroke-width=\"0.426791\"/>\n",
       "</g>\n",
       "<g transform=\"translate(340.228 337.677)scale(.996264)\">\n",
       "<path d=\"M.355659 220.865H569.411\" fill=\"none\" stroke=\"#cccccc\" stroke-dasharray=\"0,0.682969\" stroke-linecap=\"round\" stroke-linejoin=\"round\" stroke-miterlimit=\"10.0375\" stroke-width=\"0.170717\"/>\n",
       "</g>\n",
       "<g transform=\"translate(340.228 337.677)scale(.996264)\">\n",
       "<path d=\"M.355659 213.751H569.411\" fill=\"none\" stroke=\"#cccccc\" stroke-dasharray=\"0,0.682969\" stroke-linecap=\"round\" stroke-linejoin=\"round\" stroke-miterlimit=\"10.0375\" stroke-width=\"0.170717\"/>\n",
       "</g>\n",
       "<g transform=\"translate(340.228 337.677)scale(.996264)\">\n",
       "<path d=\"M.355659 206.638H569.411\" fill=\"none\" stroke=\"#cccccc\" stroke-dasharray=\"0,0.682969\" stroke-linecap=\"round\" stroke-linejoin=\"round\" stroke-miterlimit=\"10.0375\" stroke-width=\"0.170717\"/>\n",
       "</g>\n",
       "<g transform=\"translate(340.228 337.677)scale(.996264)\">\n",
       "<path d=\"M.355659 199.525H569.411\" fill=\"none\" stroke=\"#cccccc\" stroke-dasharray=\"0,0.682969\" stroke-linecap=\"round\" stroke-linejoin=\"round\" stroke-miterlimit=\"10.0375\" stroke-width=\"0.170717\"/>\n",
       "</g>\n",
       "<g transform=\"translate(340.228 337.677)scale(.996264)\">\n",
       "<path d=\"M.355659 199.525H569.411\" fill=\"none\" stroke=\"#cccccc\" stroke-linecap=\"round\" stroke-linejoin=\"round\" stroke-miterlimit=\"10.0375\" stroke-width=\"0.426791\"/>\n",
       "</g>\n",
       "<g transform=\"translate(340.228 337.677)scale(.996264)\">\n",
       "<path d=\"M.355659 192.412H569.411\" fill=\"none\" stroke=\"#cccccc\" stroke-dasharray=\"0,0.682969\" stroke-linecap=\"round\" stroke-linejoin=\"round\" stroke-miterlimit=\"10.0375\" stroke-width=\"0.170717\"/>\n",
       "</g>\n",
       "<g transform=\"translate(340.228 337.677)scale(.996264)\">\n",
       "<path d=\"M.355659 185.299H569.411\" fill=\"none\" stroke=\"#cccccc\" stroke-dasharray=\"0,0.682969\" stroke-linecap=\"round\" stroke-linejoin=\"round\" stroke-miterlimit=\"10.0375\" stroke-width=\"0.170717\"/>\n",
       "</g>\n",
       "<g transform=\"translate(340.228 337.677)scale(.996264)\">\n",
       "<path d=\"M.355659 178.185H569.411\" fill=\"none\" stroke=\"#cccccc\" stroke-dasharray=\"0,0.682969\" stroke-linecap=\"round\" stroke-linejoin=\"round\" stroke-miterlimit=\"10.0375\" stroke-width=\"0.170717\"/>\n",
       "</g>\n",
       "<g transform=\"translate(340.228 337.677)scale(.996264)\">\n",
       "<path d=\"M.355659 171.072H569.411\" fill=\"none\" stroke=\"#cccccc\" stroke-dasharray=\"0,0.682969\" stroke-linecap=\"round\" stroke-linejoin=\"round\" stroke-miterlimit=\"10.0375\" stroke-width=\"0.170717\"/>\n",
       "</g>\n",
       "<g transform=\"translate(340.228 337.677)scale(.996264)\">\n",
       "<path d=\"M.355659 171.072H569.411\" fill=\"none\" stroke=\"#cccccc\" stroke-linecap=\"round\" stroke-linejoin=\"round\" stroke-miterlimit=\"10.0375\" stroke-width=\"0.426791\"/>\n",
       "</g>\n",
       "<g transform=\"translate(340.228 337.677)scale(.996264)\">\n",
       "<path d=\"M.355659 163.959H569.411\" fill=\"none\" stroke=\"#cccccc\" stroke-dasharray=\"0,0.682969\" stroke-linecap=\"round\" stroke-linejoin=\"round\" stroke-miterlimit=\"10.0375\" stroke-width=\"0.170717\"/>\n",
       "</g>\n",
       "<g transform=\"translate(340.228 337.677)scale(.996264)\">\n",
       "<path d=\"M.355659 156.846H569.411\" fill=\"none\" stroke=\"#cccccc\" stroke-dasharray=\"0,0.682969\" stroke-linecap=\"round\" stroke-linejoin=\"round\" stroke-miterlimit=\"10.0375\" stroke-width=\"0.170717\"/>\n",
       "</g>\n",
       "<g transform=\"translate(340.228 337.677)scale(.996264)\">\n",
       "<path d=\"M.355659 149.733H569.411\" fill=\"none\" stroke=\"#cccccc\" stroke-dasharray=\"0,0.682969\" stroke-linecap=\"round\" stroke-linejoin=\"round\" stroke-miterlimit=\"10.0375\" stroke-width=\"0.170717\"/>\n",
       "</g>\n",
       "<g transform=\"translate(340.228 337.677)scale(.996264)\">\n",
       "<path d=\"M.355659 142.619H569.411\" fill=\"none\" stroke=\"#cccccc\" stroke-dasharray=\"0,0.682969\" stroke-linecap=\"round\" stroke-linejoin=\"round\" stroke-miterlimit=\"10.0375\" stroke-width=\"0.170717\"/>\n",
       "</g>\n",
       "<g transform=\"translate(340.228 337.677)scale(.996264)\">\n",
       "<path d=\"M.355659 142.619H569.411\" fill=\"none\" stroke=\"#cccccc\" stroke-linecap=\"round\" stroke-linejoin=\"round\" stroke-miterlimit=\"10.0375\" stroke-width=\"0.426791\"/>\n",
       "</g>\n",
       "<g transform=\"translate(340.228 337.677)scale(.996264)\">\n",
       "<path d=\"M.355659 135.506H569.411\" fill=\"none\" stroke=\"#cccccc\" stroke-dasharray=\"0,0.682969\" stroke-linecap=\"round\" stroke-linejoin=\"round\" stroke-miterlimit=\"10.0375\" stroke-width=\"0.170717\"/>\n",
       "</g>\n",
       "<g transform=\"translate(340.228 337.677)scale(.996264)\">\n",
       "<path d=\"M.355659 128.393H569.411\" fill=\"none\" stroke=\"#cccccc\" stroke-dasharray=\"0,0.682969\" stroke-linecap=\"round\" stroke-linejoin=\"round\" stroke-miterlimit=\"10.0375\" stroke-width=\"0.170717\"/>\n",
       "</g>\n",
       "<g transform=\"translate(340.228 337.677)scale(.996264)\">\n",
       "<path d=\"M.355659 121.28H569.411\" fill=\"none\" stroke=\"#cccccc\" stroke-dasharray=\"0,0.682969\" stroke-linecap=\"round\" stroke-linejoin=\"round\" stroke-miterlimit=\"10.0375\" stroke-width=\"0.170717\"/>\n",
       "</g>\n",
       "<g transform=\"translate(340.228 337.677)scale(.996264)\">\n",
       "<path d=\"M.355659 114.167H569.411\" fill=\"none\" stroke=\"#cccccc\" stroke-dasharray=\"0,0.682969\" stroke-linecap=\"round\" stroke-linejoin=\"round\" stroke-miterlimit=\"10.0375\" stroke-width=\"0.170717\"/>\n",
       "</g>\n",
       "<g transform=\"translate(340.228 337.677)scale(.996264)\">\n",
       "<path d=\"M.355659 114.167H569.411\" fill=\"none\" stroke=\"#cccccc\" stroke-linecap=\"round\" stroke-linejoin=\"round\" stroke-miterlimit=\"10.0375\" stroke-width=\"0.426791\"/>\n",
       "</g>\n",
       "<g transform=\"translate(340.228 337.677)scale(.996264)\">\n",
       "<path d=\"M.355659 107.053H569.411\" fill=\"none\" stroke=\"#cccccc\" stroke-dasharray=\"0,0.682969\" stroke-linecap=\"round\" stroke-linejoin=\"round\" stroke-miterlimit=\"10.0375\" stroke-width=\"0.170717\"/>\n",
       "</g>\n",
       "<g transform=\"translate(340.228 337.677)scale(.996264)\">\n",
       "<path d=\"M.355659 99.9403H569.411\" fill=\"none\" stroke=\"#cccccc\" stroke-dasharray=\"0,0.682969\" stroke-linecap=\"round\" stroke-linejoin=\"round\" stroke-miterlimit=\"10.0375\" stroke-width=\"0.170717\"/>\n",
       "</g>\n",
       "<g transform=\"translate(340.228 337.677)scale(.996264)\">\n",
       "<path d=\"M.355659 92.8271H569.411\" fill=\"none\" stroke=\"#cccccc\" stroke-dasharray=\"0,0.682969\" stroke-linecap=\"round\" stroke-linejoin=\"round\" stroke-miterlimit=\"10.0375\" stroke-width=\"0.170717\"/>\n",
       "</g>\n",
       "<g transform=\"translate(340.228 337.677)scale(.996264)\">\n",
       "<path d=\"M.355659 85.7139H569.411\" fill=\"none\" stroke=\"#cccccc\" stroke-dasharray=\"0,0.682969\" stroke-linecap=\"round\" stroke-linejoin=\"round\" stroke-miterlimit=\"10.0375\" stroke-width=\"0.170717\"/>\n",
       "</g>\n",
       "<g transform=\"translate(340.228 337.677)scale(.996264)\">\n",
       "<path d=\"M.355659 85.7139H569.411\" fill=\"none\" stroke=\"#cccccc\" stroke-linecap=\"round\" stroke-linejoin=\"round\" stroke-miterlimit=\"10.0375\" stroke-width=\"0.426791\"/>\n",
       "</g>\n",
       "<g transform=\"translate(340.228 337.677)scale(.996264)\">\n",
       "<path d=\"M.355659 78.6007H569.411\" fill=\"none\" stroke=\"#cccccc\" stroke-dasharray=\"0,0.682969\" stroke-linecap=\"round\" stroke-linejoin=\"round\" stroke-miterlimit=\"10.0375\" stroke-width=\"0.170717\"/>\n",
       "</g>\n",
       "<g transform=\"translate(340.228 337.677)scale(.996264)\">\n",
       "<path d=\"M.355659 71.4875H569.411\" fill=\"none\" stroke=\"#cccccc\" stroke-dasharray=\"0,0.682969\" stroke-linecap=\"round\" stroke-linejoin=\"round\" stroke-miterlimit=\"10.0375\" stroke-width=\"0.170717\"/>\n",
       "</g>\n",
       "<g transform=\"translate(340.228 337.677)scale(.996264)\">\n",
       "<path d=\"M.355659 64.3744H569.411\" fill=\"none\" stroke=\"#cccccc\" stroke-dasharray=\"0,0.682969\" stroke-linecap=\"round\" stroke-linejoin=\"round\" stroke-miterlimit=\"10.0375\" stroke-width=\"0.170717\"/>\n",
       "</g>\n",
       "<g transform=\"translate(340.228 337.677)scale(.996264)\">\n",
       "<path d=\"M.355659 57.2612H569.411\" fill=\"none\" stroke=\"#cccccc\" stroke-dasharray=\"0,0.682969\" stroke-linecap=\"round\" stroke-linejoin=\"round\" stroke-miterlimit=\"10.0375\" stroke-width=\"0.170717\"/>\n",
       "</g>\n",
       "<g transform=\"translate(340.228 337.677)scale(.996264)\">\n",
       "<path d=\"M.355659 57.2612H569.411\" fill=\"none\" stroke=\"#cccccc\" stroke-linecap=\"round\" stroke-linejoin=\"round\" stroke-miterlimit=\"10.0375\" stroke-width=\"0.426791\"/>\n",
       "</g>\n",
       "<g transform=\"translate(340.228 337.677)scale(.996264)\">\n",
       "<path d=\"M.355659 50.148H569.411\" fill=\"none\" stroke=\"#cccccc\" stroke-dasharray=\"0,0.682969\" stroke-linecap=\"round\" stroke-linejoin=\"round\" stroke-miterlimit=\"10.0375\" stroke-width=\"0.170717\"/>\n",
       "</g>\n",
       "<g transform=\"translate(340.228 337.677)scale(.996264)\">\n",
       "<path d=\"M.355659 43.0348H569.411\" fill=\"none\" stroke=\"#cccccc\" stroke-dasharray=\"0,0.682969\" stroke-linecap=\"round\" stroke-linejoin=\"round\" stroke-miterlimit=\"10.0375\" stroke-width=\"0.170717\"/>\n",
       "</g>\n",
       "<g transform=\"translate(340.228 337.677)scale(.996264)\">\n",
       "<path d=\"M.355659 35.9216H569.411\" fill=\"none\" stroke=\"#cccccc\" stroke-dasharray=\"0,0.682969\" stroke-linecap=\"round\" stroke-linejoin=\"round\" stroke-miterlimit=\"10.0375\" stroke-width=\"0.170717\"/>\n",
       "</g>\n",
       "<g transform=\"translate(340.228 337.677)scale(.996264)\">\n",
       "<path d=\"M.355659 28.8084H569.411\" fill=\"none\" stroke=\"#cccccc\" stroke-dasharray=\"0,0.682969\" stroke-linecap=\"round\" stroke-linejoin=\"round\" stroke-miterlimit=\"10.0375\" stroke-width=\"0.170717\"/>\n",
       "</g>\n",
       "<g transform=\"translate(340.228 337.677)scale(.996264)\">\n",
       "<path d=\"M.355659 28.8084H569.411\" fill=\"none\" stroke=\"#cccccc\" stroke-linecap=\"round\" stroke-linejoin=\"round\" stroke-miterlimit=\"10.0375\" stroke-width=\"0.426791\"/>\n",
       "</g>\n",
       "<g transform=\"translate(340.228 337.677)scale(.996264)\">\n",
       "<path d=\"M.355659 21.6952H569.411\" fill=\"none\" stroke=\"#cccccc\" stroke-dasharray=\"0,0.682969\" stroke-linecap=\"round\" stroke-linejoin=\"round\" stroke-miterlimit=\"10.0375\" stroke-width=\"0.170717\"/>\n",
       "</g>\n",
       "<g transform=\"translate(340.228 337.677)scale(.996264)\">\n",
       "<path d=\"M.355659 14.582H569.411\" fill=\"none\" stroke=\"#cccccc\" stroke-dasharray=\"0,0.682969\" stroke-linecap=\"round\" stroke-linejoin=\"round\" stroke-miterlimit=\"10.0375\" stroke-width=\"0.170717\"/>\n",
       "</g>\n",
       "<g transform=\"translate(340.228 337.677)scale(.996264)\">\n",
       "<path d=\"M.355659 7.46885H569.411\" fill=\"none\" stroke=\"#cccccc\" stroke-dasharray=\"0,0.682969\" stroke-linecap=\"round\" stroke-linejoin=\"round\" stroke-miterlimit=\"10.0375\" stroke-width=\"0.170717\"/>\n",
       "</g>\n",
       "<g transform=\"translate(340.228 337.677)scale(.996264)\">\n",
       "<path d=\"M.355659 .355659H569.411\" fill=\"none\" stroke=\"#cccccc\" stroke-dasharray=\"0,0.682969\" stroke-linecap=\"round\" stroke-linejoin=\"round\" stroke-miterlimit=\"10.0375\" stroke-width=\"0.170717\"/>\n",
       "</g>\n",
       "<g transform=\"translate(340.228 337.677)scale(.996264)\">\n",
       "<path d=\"M.355659 .355659H569.411\" fill=\"none\" stroke=\"#cccccc\" stroke-linecap=\"round\" stroke-linejoin=\"round\" stroke-miterlimit=\"10.0375\" stroke-width=\"0.426791\"/>\n",
       "</g>\n",
       "<g transform=\"translate(340.228 337.677)scale(.996264)\">\n",
       "<path d=\"M.355659 284.883H569.411\" fill=\"none\" stroke=\"#000000\" stroke-linecap=\"round\" stroke-linejoin=\"round\" stroke-miterlimit=\"10.0375\" stroke-width=\"0.711319\"/>\n",
       "</g>\n",
       "<g transform=\"translate(340.228 337.677)scale(.996264)\">\n",
       "<path d=\"M284.883 569.411V.355659\" fill=\"none\" stroke=\"#000000\" stroke-linecap=\"round\" stroke-linejoin=\"round\" stroke-miterlimit=\"10.0375\" stroke-width=\"0.711319\"/>\n",
       "</g>\n",
       "<g transform=\"translate(340.228 337.677)scale(.996264)\">\n",
       "<path d=\"M28.8084 284.883V289.151\" fill=\"none\" stroke=\"#000000\" stroke-linecap=\"round\" stroke-linejoin=\"round\" stroke-miterlimit=\"10.0375\" stroke-width=\"0.711319\"/>\n",
       "</g>\n",
       "<use x=\"361.357221\" y=\"637.094234\" xlink:href=\"#g0-0\"/>\n",
       "<use x=\"370.655718\" y=\"637.094234\" xlink:href=\"#g1-57\"/>\n",
       "<g transform=\"translate(340.228 337.677)scale(.996264)\">\n",
       "<path d=\"M35.9216 284.883V287.017\" fill=\"none\" stroke=\"#000000\" stroke-linecap=\"round\" stroke-linejoin=\"round\" stroke-miterlimit=\"10.0375\" stroke-width=\"0.426791\"/>\n",
       "</g>\n",
       "<g transform=\"translate(340.228 337.677)scale(.996264)\">\n",
       "<path d=\"M43.0348 284.883V287.017\" fill=\"none\" stroke=\"#000000\" stroke-linecap=\"round\" stroke-linejoin=\"round\" stroke-miterlimit=\"10.0375\" stroke-width=\"0.426791\"/>\n",
       "</g>\n",
       "<g transform=\"translate(340.228 337.677)scale(.996264)\">\n",
       "<path d=\"M50.148 284.883V287.017\" fill=\"none\" stroke=\"#000000\" stroke-linecap=\"round\" stroke-linejoin=\"round\" stroke-miterlimit=\"10.0375\" stroke-width=\"0.426791\"/>\n",
       "</g>\n",
       "<g transform=\"translate(340.228 337.677)scale(.996264)\">\n",
       "<path d=\"M57.2612 284.883V289.151\" fill=\"none\" stroke=\"#000000\" stroke-linecap=\"round\" stroke-linejoin=\"round\" stroke-miterlimit=\"10.0375\" stroke-width=\"0.711319\"/>\n",
       "</g>\n",
       "<use x=\"389.703681\" y=\"637.094234\" xlink:href=\"#g0-0\"/>\n",
       "<use x=\"399.002178\" y=\"637.094234\" xlink:href=\"#g1-56\"/>\n",
       "<g transform=\"translate(340.228 337.677)scale(.996264)\">\n",
       "<path d=\"M64.3744 284.883V287.017\" fill=\"none\" stroke=\"#000000\" stroke-linecap=\"round\" stroke-linejoin=\"round\" stroke-miterlimit=\"10.0375\" stroke-width=\"0.426791\"/>\n",
       "</g>\n",
       "<g transform=\"translate(340.228 337.677)scale(.996264)\">\n",
       "<path d=\"M71.4875 284.883V287.017\" fill=\"none\" stroke=\"#000000\" stroke-linecap=\"round\" stroke-linejoin=\"round\" stroke-miterlimit=\"10.0375\" stroke-width=\"0.426791\"/>\n",
       "</g>\n",
       "<g transform=\"translate(340.228 337.677)scale(.996264)\">\n",
       "<path d=\"M78.6007 284.883V287.017\" fill=\"none\" stroke=\"#000000\" stroke-linecap=\"round\" stroke-linejoin=\"round\" stroke-miterlimit=\"10.0375\" stroke-width=\"0.426791\"/>\n",
       "</g>\n",
       "<g transform=\"translate(340.228 337.677)scale(.996264)\">\n",
       "<path d=\"M85.7139 284.883V289.151\" fill=\"none\" stroke=\"#000000\" stroke-linecap=\"round\" stroke-linejoin=\"round\" stroke-miterlimit=\"10.0375\" stroke-width=\"0.711319\"/>\n",
       "</g>\n",
       "<use x=\"418.05014\" y=\"637.094234\" xlink:href=\"#g0-0\"/>\n",
       "<use x=\"427.348637\" y=\"637.094234\" xlink:href=\"#g1-55\"/>\n",
       "<g transform=\"translate(340.228 337.677)scale(.996264)\">\n",
       "<path d=\"M92.8271 284.883V287.017\" fill=\"none\" stroke=\"#000000\" stroke-linecap=\"round\" stroke-linejoin=\"round\" stroke-miterlimit=\"10.0375\" stroke-width=\"0.426791\"/>\n",
       "</g>\n",
       "<g transform=\"translate(340.228 337.677)scale(.996264)\">\n",
       "<path d=\"M99.9403 284.883V287.017\" fill=\"none\" stroke=\"#000000\" stroke-linecap=\"round\" stroke-linejoin=\"round\" stroke-miterlimit=\"10.0375\" stroke-width=\"0.426791\"/>\n",
       "</g>\n",
       "<g transform=\"translate(340.228 337.677)scale(.996264)\">\n",
       "<path d=\"M107.053 284.883V287.017\" fill=\"none\" stroke=\"#000000\" stroke-linecap=\"round\" stroke-linejoin=\"round\" stroke-miterlimit=\"10.0375\" stroke-width=\"0.426791\"/>\n",
       "</g>\n",
       "<g transform=\"translate(340.228 337.677)scale(.996264)\">\n",
       "<path d=\"M114.167 284.883V289.151\" fill=\"none\" stroke=\"#000000\" stroke-linecap=\"round\" stroke-linejoin=\"round\" stroke-miterlimit=\"10.0375\" stroke-width=\"0.711319\"/>\n",
       "</g>\n",
       "<use x=\"446.396585\" y=\"637.094234\" xlink:href=\"#g0-0\"/>\n",
       "<use x=\"455.695082\" y=\"637.094234\" xlink:href=\"#g1-54\"/>\n",
       "<g transform=\"translate(340.228 337.677)scale(.996264)\">\n",
       "<path d=\"M121.28 284.883V287.017\" fill=\"none\" stroke=\"#000000\" stroke-linecap=\"round\" stroke-linejoin=\"round\" stroke-miterlimit=\"10.0375\" stroke-width=\"0.426791\"/>\n",
       "</g>\n",
       "<g transform=\"translate(340.228 337.677)scale(.996264)\">\n",
       "<path d=\"M128.393 284.883V287.017\" fill=\"none\" stroke=\"#000000\" stroke-linecap=\"round\" stroke-linejoin=\"round\" stroke-miterlimit=\"10.0375\" stroke-width=\"0.426791\"/>\n",
       "</g>\n",
       "<g transform=\"translate(340.228 337.677)scale(.996264)\">\n",
       "<path d=\"M135.506 284.883V287.017\" fill=\"none\" stroke=\"#000000\" stroke-linecap=\"round\" stroke-linejoin=\"round\" stroke-miterlimit=\"10.0375\" stroke-width=\"0.426791\"/>\n",
       "</g>\n",
       "<g transform=\"translate(340.228 337.677)scale(.996264)\">\n",
       "<path d=\"M142.619 284.883V289.151\" fill=\"none\" stroke=\"#000000\" stroke-linecap=\"round\" stroke-linejoin=\"round\" stroke-miterlimit=\"10.0375\" stroke-width=\"0.711319\"/>\n",
       "</g>\n",
       "<use x=\"474.743044\" y=\"637.094234\" xlink:href=\"#g0-0\"/>\n",
       "<use x=\"484.041541\" y=\"637.094234\" xlink:href=\"#g1-53\"/>\n",
       "<g transform=\"translate(340.228 337.677)scale(.996264)\">\n",
       "<path d=\"M149.733 284.883V287.017\" fill=\"none\" stroke=\"#000000\" stroke-linecap=\"round\" stroke-linejoin=\"round\" stroke-miterlimit=\"10.0375\" stroke-width=\"0.426791\"/>\n",
       "</g>\n",
       "<g transform=\"translate(340.228 337.677)scale(.996264)\">\n",
       "<path d=\"M156.846 284.883V287.017\" fill=\"none\" stroke=\"#000000\" stroke-linecap=\"round\" stroke-linejoin=\"round\" stroke-miterlimit=\"10.0375\" stroke-width=\"0.426791\"/>\n",
       "</g>\n",
       "<g transform=\"translate(340.228 337.677)scale(.996264)\">\n",
       "<path d=\"M163.959 284.883V287.017\" fill=\"none\" stroke=\"#000000\" stroke-linecap=\"round\" stroke-linejoin=\"round\" stroke-miterlimit=\"10.0375\" stroke-width=\"0.426791\"/>\n",
       "</g>\n",
       "<g transform=\"translate(340.228 337.677)scale(.996264)\">\n",
       "<path d=\"M171.072 284.883V289.151\" fill=\"none\" stroke=\"#000000\" stroke-linecap=\"round\" stroke-linejoin=\"round\" stroke-miterlimit=\"10.0375\" stroke-width=\"0.711319\"/>\n",
       "</g>\n",
       "<use x=\"503.089504\" y=\"637.094234\" xlink:href=\"#g0-0\"/>\n",
       "<use x=\"512.388001\" y=\"637.094234\" xlink:href=\"#g1-52\"/>\n",
       "<g transform=\"translate(340.228 337.677)scale(.996264)\">\n",
       "<path d=\"M178.185 284.883V287.017\" fill=\"none\" stroke=\"#000000\" stroke-linecap=\"round\" stroke-linejoin=\"round\" stroke-miterlimit=\"10.0375\" stroke-width=\"0.426791\"/>\n",
       "</g>\n",
       "<g transform=\"translate(340.228 337.677)scale(.996264)\">\n",
       "<path d=\"M185.299 284.883V287.017\" fill=\"none\" stroke=\"#000000\" stroke-linecap=\"round\" stroke-linejoin=\"round\" stroke-miterlimit=\"10.0375\" stroke-width=\"0.426791\"/>\n",
       "</g>\n",
       "<g transform=\"translate(340.228 337.677)scale(.996264)\">\n",
       "<path d=\"M192.412 284.883V287.017\" fill=\"none\" stroke=\"#000000\" stroke-linecap=\"round\" stroke-linejoin=\"round\" stroke-miterlimit=\"10.0375\" stroke-width=\"0.426791\"/>\n",
       "</g>\n",
       "<g transform=\"translate(340.228 337.677)scale(.996264)\">\n",
       "<path d=\"M199.525 284.883V289.151\" fill=\"none\" stroke=\"#000000\" stroke-linecap=\"round\" stroke-linejoin=\"round\" stroke-miterlimit=\"10.0375\" stroke-width=\"0.711319\"/>\n",
       "</g>\n",
       "<use x=\"531.435963\" y=\"637.094234\" xlink:href=\"#g0-0\"/>\n",
       "<use x=\"540.73446\" y=\"637.094234\" xlink:href=\"#g1-51\"/>\n",
       "<g transform=\"translate(340.228 337.677)scale(.996264)\">\n",
       "<path d=\"M206.638 284.883V287.017\" fill=\"none\" stroke=\"#000000\" stroke-linecap=\"round\" stroke-linejoin=\"round\" stroke-miterlimit=\"10.0375\" stroke-width=\"0.426791\"/>\n",
       "</g>\n",
       "<g transform=\"translate(340.228 337.677)scale(.996264)\">\n",
       "<path d=\"M213.751 284.883V287.017\" fill=\"none\" stroke=\"#000000\" stroke-linecap=\"round\" stroke-linejoin=\"round\" stroke-miterlimit=\"10.0375\" stroke-width=\"0.426791\"/>\n",
       "</g>\n",
       "<g transform=\"translate(340.228 337.677)scale(.996264)\">\n",
       "<path d=\"M220.865 284.883V287.017\" fill=\"none\" stroke=\"#000000\" stroke-linecap=\"round\" stroke-linejoin=\"round\" stroke-miterlimit=\"10.0375\" stroke-width=\"0.426791\"/>\n",
       "</g>\n",
       "<g transform=\"translate(340.228 337.677)scale(.996264)\">\n",
       "<path d=\"M227.978 284.883V289.151\" fill=\"none\" stroke=\"#000000\" stroke-linecap=\"round\" stroke-linejoin=\"round\" stroke-miterlimit=\"10.0375\" stroke-width=\"0.711319\"/>\n",
       "</g>\n",
       "<use x=\"559.782423\" y=\"637.094234\" xlink:href=\"#g0-0\"/>\n",
       "<use x=\"569.08092\" y=\"637.094234\" xlink:href=\"#g1-50\"/>\n",
       "<g transform=\"translate(340.228 337.677)scale(.996264)\">\n",
       "<path d=\"M235.091 284.883V287.017\" fill=\"none\" stroke=\"#000000\" stroke-linecap=\"round\" stroke-linejoin=\"round\" stroke-miterlimit=\"10.0375\" stroke-width=\"0.426791\"/>\n",
       "</g>\n",
       "<g transform=\"translate(340.228 337.677)scale(.996264)\">\n",
       "<path d=\"M242.204 284.883V287.017\" fill=\"none\" stroke=\"#000000\" stroke-linecap=\"round\" stroke-linejoin=\"round\" stroke-miterlimit=\"10.0375\" stroke-width=\"0.426791\"/>\n",
       "</g>\n",
       "<g transform=\"translate(340.228 337.677)scale(.996264)\">\n",
       "<path d=\"M249.317 284.883V287.017\" fill=\"none\" stroke=\"#000000\" stroke-linecap=\"round\" stroke-linejoin=\"round\" stroke-miterlimit=\"10.0375\" stroke-width=\"0.426791\"/>\n",
       "</g>\n",
       "<g transform=\"translate(340.228 337.677)scale(.996264)\">\n",
       "<path d=\"M256.43 284.883V289.151\" fill=\"none\" stroke=\"#000000\" stroke-linecap=\"round\" stroke-linejoin=\"round\" stroke-miterlimit=\"10.0375\" stroke-width=\"0.711319\"/>\n",
       "</g>\n",
       "<use x=\"588.128867\" y=\"637.094234\" xlink:href=\"#g0-0\"/>\n",
       "<use x=\"597.427364\" y=\"637.094234\" xlink:href=\"#g1-49\"/>\n",
       "<g transform=\"translate(340.228 337.677)scale(.996264)\">\n",
       "<path d=\"M263.544 284.883V287.017\" fill=\"none\" stroke=\"#000000\" stroke-linecap=\"round\" stroke-linejoin=\"round\" stroke-miterlimit=\"10.0375\" stroke-width=\"0.426791\"/>\n",
       "</g>\n",
       "<g transform=\"translate(340.228 337.677)scale(.996264)\">\n",
       "<path d=\"M270.657 284.883V287.017\" fill=\"none\" stroke=\"#000000\" stroke-linecap=\"round\" stroke-linejoin=\"round\" stroke-miterlimit=\"10.0375\" stroke-width=\"0.426791\"/>\n",
       "</g>\n",
       "<g transform=\"translate(340.228 337.677)scale(.996264)\">\n",
       "<path d=\"M277.77 284.883V287.017\" fill=\"none\" stroke=\"#000000\" stroke-linecap=\"round\" stroke-linejoin=\"round\" stroke-miterlimit=\"10.0375\" stroke-width=\"0.426791\"/>\n",
       "</g>\n",
       "<g transform=\"translate(340.228 337.677)scale(.996264)\">\n",
       "<path d=\"M313.336 284.883V289.151\" fill=\"none\" stroke=\"#000000\" stroke-linecap=\"round\" stroke-linejoin=\"round\" stroke-miterlimit=\"10.0375\" stroke-width=\"0.711319\"/>\n",
       "</g>\n",
       "<use x=\"649.471024\" y=\"637.094219\" xlink:href=\"#g1-49\"/>\n",
       "<g transform=\"translate(340.228 337.677)scale(.996264)\">\n",
       "<path d=\"M306.223 284.883V287.017\" fill=\"none\" stroke=\"#000000\" stroke-linecap=\"round\" stroke-linejoin=\"round\" stroke-miterlimit=\"10.0375\" stroke-width=\"0.426791\"/>\n",
       "</g>\n",
       "<g transform=\"translate(340.228 337.677)scale(.996264)\">\n",
       "<path d=\"M299.11 284.883V287.017\" fill=\"none\" stroke=\"#000000\" stroke-linecap=\"round\" stroke-linejoin=\"round\" stroke-miterlimit=\"10.0375\" stroke-width=\"0.426791\"/>\n",
       "</g>\n",
       "<g transform=\"translate(340.228 337.677)scale(.996264)\">\n",
       "<path d=\"M291.996 284.883V287.017\" fill=\"none\" stroke=\"#000000\" stroke-linecap=\"round\" stroke-linejoin=\"round\" stroke-miterlimit=\"10.0375\" stroke-width=\"0.426791\"/>\n",
       "</g>\n",
       "<g transform=\"translate(340.228 337.677)scale(.996264)\">\n",
       "<path d=\"M341.789 284.883V289.151\" fill=\"none\" stroke=\"#000000\" stroke-linecap=\"round\" stroke-linejoin=\"round\" stroke-miterlimit=\"10.0375\" stroke-width=\"0.711319\"/>\n",
       "</g>\n",
       "<use x=\"677.817483\" y=\"637.094219\" xlink:href=\"#g1-50\"/>\n",
       "<g transform=\"translate(340.228 337.677)scale(.996264)\">\n",
       "<path d=\"M334.676 284.883V287.017\" fill=\"none\" stroke=\"#000000\" stroke-linecap=\"round\" stroke-linejoin=\"round\" stroke-miterlimit=\"10.0375\" stroke-width=\"0.426791\"/>\n",
       "</g>\n",
       "<g transform=\"translate(340.228 337.677)scale(.996264)\">\n",
       "<path d=\"M327.562 284.883V287.017\" fill=\"none\" stroke=\"#000000\" stroke-linecap=\"round\" stroke-linejoin=\"round\" stroke-miterlimit=\"10.0375\" stroke-width=\"0.426791\"/>\n",
       "</g>\n",
       "<g transform=\"translate(340.228 337.677)scale(.996264)\">\n",
       "<path d=\"M320.449 284.883V287.017\" fill=\"none\" stroke=\"#000000\" stroke-linecap=\"round\" stroke-linejoin=\"round\" stroke-miterlimit=\"10.0375\" stroke-width=\"0.426791\"/>\n",
       "</g>\n",
       "<g transform=\"translate(340.228 337.677)scale(.996264)\">\n",
       "<path d=\"M370.241 284.883V289.151\" fill=\"none\" stroke=\"#000000\" stroke-linecap=\"round\" stroke-linejoin=\"round\" stroke-miterlimit=\"10.0375\" stroke-width=\"0.711319\"/>\n",
       "</g>\n",
       "<use x=\"706.163943\" y=\"637.094219\" xlink:href=\"#g1-51\"/>\n",
       "<g transform=\"translate(340.228 337.677)scale(.996264)\">\n",
       "<path d=\"M363.128 284.883V287.017\" fill=\"none\" stroke=\"#000000\" stroke-linecap=\"round\" stroke-linejoin=\"round\" stroke-miterlimit=\"10.0375\" stroke-width=\"0.426791\"/>\n",
       "</g>\n",
       "<g transform=\"translate(340.228 337.677)scale(.996264)\">\n",
       "<path d=\"M356.015 284.883V287.017\" fill=\"none\" stroke=\"#000000\" stroke-linecap=\"round\" stroke-linejoin=\"round\" stroke-miterlimit=\"10.0375\" stroke-width=\"0.426791\"/>\n",
       "</g>\n",
       "<g transform=\"translate(340.228 337.677)scale(.996264)\">\n",
       "<path d=\"M348.902 284.883V287.017\" fill=\"none\" stroke=\"#000000\" stroke-linecap=\"round\" stroke-linejoin=\"round\" stroke-miterlimit=\"10.0375\" stroke-width=\"0.426791\"/>\n",
       "</g>\n",
       "<g transform=\"translate(340.228 337.677)scale(.996264)\">\n",
       "<path d=\"M398.694 284.883V289.151\" fill=\"none\" stroke=\"#000000\" stroke-linecap=\"round\" stroke-linejoin=\"round\" stroke-miterlimit=\"10.0375\" stroke-width=\"0.711319\"/>\n",
       "</g>\n",
       "<use x=\"734.510387\" y=\"637.094219\" xlink:href=\"#g1-52\"/>\n",
       "<g transform=\"translate(340.228 337.677)scale(.996264)\">\n",
       "<path d=\"M391.581 284.883V287.017\" fill=\"none\" stroke=\"#000000\" stroke-linecap=\"round\" stroke-linejoin=\"round\" stroke-miterlimit=\"10.0375\" stroke-width=\"0.426791\"/>\n",
       "</g>\n",
       "<g transform=\"translate(340.228 337.677)scale(.996264)\">\n",
       "<path d=\"M384.468 284.883V287.017\" fill=\"none\" stroke=\"#000000\" stroke-linecap=\"round\" stroke-linejoin=\"round\" stroke-miterlimit=\"10.0375\" stroke-width=\"0.426791\"/>\n",
       "</g>\n",
       "<g transform=\"translate(340.228 337.677)scale(.996264)\">\n",
       "<path d=\"M377.355 284.883V287.017\" fill=\"none\" stroke=\"#000000\" stroke-linecap=\"round\" stroke-linejoin=\"round\" stroke-miterlimit=\"10.0375\" stroke-width=\"0.426791\"/>\n",
       "</g>\n",
       "<g transform=\"translate(340.228 337.677)scale(.996264)\">\n",
       "<path d=\"M427.147 284.883V289.151\" fill=\"none\" stroke=\"#000000\" stroke-linecap=\"round\" stroke-linejoin=\"round\" stroke-miterlimit=\"10.0375\" stroke-width=\"0.711319\"/>\n",
       "</g>\n",
       "<use x=\"762.856847\" y=\"637.094219\" xlink:href=\"#g1-53\"/>\n",
       "<g transform=\"translate(340.228 337.677)scale(.996264)\">\n",
       "<path d=\"M420.034 284.883V287.017\" fill=\"none\" stroke=\"#000000\" stroke-linecap=\"round\" stroke-linejoin=\"round\" stroke-miterlimit=\"10.0375\" stroke-width=\"0.426791\"/>\n",
       "</g>\n",
       "<g transform=\"translate(340.228 337.677)scale(.996264)\">\n",
       "<path d=\"M412.921 284.883V287.017\" fill=\"none\" stroke=\"#000000\" stroke-linecap=\"round\" stroke-linejoin=\"round\" stroke-miterlimit=\"10.0375\" stroke-width=\"0.426791\"/>\n",
       "</g>\n",
       "<g transform=\"translate(340.228 337.677)scale(.996264)\">\n",
       "<path d=\"M405.807 284.883V287.017\" fill=\"none\" stroke=\"#000000\" stroke-linecap=\"round\" stroke-linejoin=\"round\" stroke-miterlimit=\"10.0375\" stroke-width=\"0.426791\"/>\n",
       "</g>\n",
       "<g transform=\"translate(340.228 337.677)scale(.996264)\">\n",
       "<path d=\"M455.6 284.883V289.151\" fill=\"none\" stroke=\"#000000\" stroke-linecap=\"round\" stroke-linejoin=\"round\" stroke-miterlimit=\"10.0375\" stroke-width=\"0.711319\"/>\n",
       "</g>\n",
       "<use x=\"791.203306\" y=\"637.094219\" xlink:href=\"#g1-54\"/>\n",
       "<g transform=\"translate(340.228 337.677)scale(.996264)\">\n",
       "<path d=\"M448.487 284.883V287.017\" fill=\"none\" stroke=\"#000000\" stroke-linecap=\"round\" stroke-linejoin=\"round\" stroke-miterlimit=\"10.0375\" stroke-width=\"0.426791\"/>\n",
       "</g>\n",
       "<g transform=\"translate(340.228 337.677)scale(.996264)\">\n",
       "<path d=\"M441.373 284.883V287.017\" fill=\"none\" stroke=\"#000000\" stroke-linecap=\"round\" stroke-linejoin=\"round\" stroke-miterlimit=\"10.0375\" stroke-width=\"0.426791\"/>\n",
       "</g>\n",
       "<g transform=\"translate(340.228 337.677)scale(.996264)\">\n",
       "<path d=\"M434.26 284.883V287.017\" fill=\"none\" stroke=\"#000000\" stroke-linecap=\"round\" stroke-linejoin=\"round\" stroke-miterlimit=\"10.0375\" stroke-width=\"0.426791\"/>\n",
       "</g>\n",
       "<g transform=\"translate(340.228 337.677)scale(.996264)\">\n",
       "<path d=\"M484.053 284.883V289.151\" fill=\"none\" stroke=\"#000000\" stroke-linecap=\"round\" stroke-linejoin=\"round\" stroke-miterlimit=\"10.0375\" stroke-width=\"0.711319\"/>\n",
       "</g>\n",
       "<use x=\"819.549766\" y=\"637.094219\" xlink:href=\"#g1-55\"/>\n",
       "<g transform=\"translate(340.228 337.677)scale(.996264)\">\n",
       "<path d=\"M476.939 284.883V287.017\" fill=\"none\" stroke=\"#000000\" stroke-linecap=\"round\" stroke-linejoin=\"round\" stroke-miterlimit=\"10.0375\" stroke-width=\"0.426791\"/>\n",
       "</g>\n",
       "<g transform=\"translate(340.228 337.677)scale(.996264)\">\n",
       "<path d=\"M469.826 284.883V287.017\" fill=\"none\" stroke=\"#000000\" stroke-linecap=\"round\" stroke-linejoin=\"round\" stroke-miterlimit=\"10.0375\" stroke-width=\"0.426791\"/>\n",
       "</g>\n",
       "<g transform=\"translate(340.228 337.677)scale(.996264)\">\n",
       "<path d=\"M462.713 284.883V287.017\" fill=\"none\" stroke=\"#000000\" stroke-linecap=\"round\" stroke-linejoin=\"round\" stroke-miterlimit=\"10.0375\" stroke-width=\"0.426791\"/>\n",
       "</g>\n",
       "<g transform=\"translate(340.228 337.677)scale(.996264)\">\n",
       "<path d=\"M512.505 284.883V289.151\" fill=\"none\" stroke=\"#000000\" stroke-linecap=\"round\" stroke-linejoin=\"round\" stroke-miterlimit=\"10.0375\" stroke-width=\"0.711319\"/>\n",
       "</g>\n",
       "<use x=\"847.896225\" y=\"637.094219\" xlink:href=\"#g1-56\"/>\n",
       "<g transform=\"translate(340.228 337.677)scale(.996264)\">\n",
       "<path d=\"M505.392 284.883V287.017\" fill=\"none\" stroke=\"#000000\" stroke-linecap=\"round\" stroke-linejoin=\"round\" stroke-miterlimit=\"10.0375\" stroke-width=\"0.426791\"/>\n",
       "</g>\n",
       "<g transform=\"translate(340.228 337.677)scale(.996264)\">\n",
       "<path d=\"M498.279 284.883V287.017\" fill=\"none\" stroke=\"#000000\" stroke-linecap=\"round\" stroke-linejoin=\"round\" stroke-miterlimit=\"10.0375\" stroke-width=\"0.426791\"/>\n",
       "</g>\n",
       "<g transform=\"translate(340.228 337.677)scale(.996264)\">\n",
       "<path d=\"M491.166 284.883V287.017\" fill=\"none\" stroke=\"#000000\" stroke-linecap=\"round\" stroke-linejoin=\"round\" stroke-miterlimit=\"10.0375\" stroke-width=\"0.426791\"/>\n",
       "</g>\n",
       "<g transform=\"translate(340.228 337.677)scale(.996264)\">\n",
       "<path d=\"M540.958 284.883V289.151\" fill=\"none\" stroke=\"#000000\" stroke-linecap=\"round\" stroke-linejoin=\"round\" stroke-miterlimit=\"10.0375\" stroke-width=\"0.711319\"/>\n",
       "</g>\n",
       "<use x=\"876.242685\" y=\"637.094219\" xlink:href=\"#g1-57\"/>\n",
       "<g transform=\"translate(340.228 337.677)scale(.996264)\">\n",
       "<path d=\"M533.845 284.883V287.017\" fill=\"none\" stroke=\"#000000\" stroke-linecap=\"round\" stroke-linejoin=\"round\" stroke-miterlimit=\"10.0375\" stroke-width=\"0.426791\"/>\n",
       "</g>\n",
       "<g transform=\"translate(340.228 337.677)scale(.996264)\">\n",
       "<path d=\"M526.732 284.883V287.017\" fill=\"none\" stroke=\"#000000\" stroke-linecap=\"round\" stroke-linejoin=\"round\" stroke-miterlimit=\"10.0375\" stroke-width=\"0.426791\"/>\n",
       "</g>\n",
       "<g transform=\"translate(340.228 337.677)scale(.996264)\">\n",
       "<path d=\"M519.618 284.883V287.017\" fill=\"none\" stroke=\"#000000\" stroke-linecap=\"round\" stroke-linejoin=\"round\" stroke-miterlimit=\"10.0375\" stroke-width=\"0.426791\"/>\n",
       "</g>\n",
       "<g transform=\"translate(340.228 337.677)scale(.996264)\">\n",
       "<path d=\"M284.883 540.958H280.615\" fill=\"none\" stroke=\"#000000\" stroke-linecap=\"round\" stroke-linejoin=\"round\" stroke-miterlimit=\"10.0375\" stroke-width=\"0.711319\"/>\n",
       "</g>\n",
       "<use x=\"600.94584\" y=\"879.908245\" xlink:href=\"#g0-0\"/>\n",
       "<use x=\"610.244337\" y=\"879.908245\" xlink:href=\"#g1-57\"/>\n",
       "<g transform=\"translate(340.228 337.677)scale(.996264)\">\n",
       "<path d=\"M284.883 533.845H282.749\" fill=\"none\" stroke=\"#000000\" stroke-linecap=\"round\" stroke-linejoin=\"round\" stroke-miterlimit=\"10.0375\" stroke-width=\"0.426791\"/>\n",
       "</g>\n",
       "<g transform=\"translate(340.228 337.677)scale(.996264)\">\n",
       "<path d=\"M284.883 526.732H282.749\" fill=\"none\" stroke=\"#000000\" stroke-linecap=\"round\" stroke-linejoin=\"round\" stroke-miterlimit=\"10.0375\" stroke-width=\"0.426791\"/>\n",
       "</g>\n",
       "<g transform=\"translate(340.228 337.677)scale(.996264)\">\n",
       "<path d=\"M284.883 519.618H282.749\" fill=\"none\" stroke=\"#000000\" stroke-linecap=\"round\" stroke-linejoin=\"round\" stroke-miterlimit=\"10.0375\" stroke-width=\"0.426791\"/>\n",
       "</g>\n",
       "<g transform=\"translate(340.228 337.677)scale(.996264)\">\n",
       "<path d=\"M284.883 512.505H280.615\" fill=\"none\" stroke=\"#000000\" stroke-linecap=\"round\" stroke-linejoin=\"round\" stroke-miterlimit=\"10.0375\" stroke-width=\"0.711319\"/>\n",
       "</g>\n",
       "<use x=\"600.94584\" y=\"851.561786\" xlink:href=\"#g0-0\"/>\n",
       "<use x=\"610.244337\" y=\"851.561786\" xlink:href=\"#g1-56\"/>\n",
       "<g transform=\"translate(340.228 337.677)scale(.996264)\">\n",
       "<path d=\"M284.883 505.392H282.749\" fill=\"none\" stroke=\"#000000\" stroke-linecap=\"round\" stroke-linejoin=\"round\" stroke-miterlimit=\"10.0375\" stroke-width=\"0.426791\"/>\n",
       "</g>\n",
       "<g transform=\"translate(340.228 337.677)scale(.996264)\">\n",
       "<path d=\"M284.883 498.279H282.749\" fill=\"none\" stroke=\"#000000\" stroke-linecap=\"round\" stroke-linejoin=\"round\" stroke-miterlimit=\"10.0375\" stroke-width=\"0.426791\"/>\n",
       "</g>\n",
       "<g transform=\"translate(340.228 337.677)scale(.996264)\">\n",
       "<path d=\"M284.883 491.166H282.749\" fill=\"none\" stroke=\"#000000\" stroke-linecap=\"round\" stroke-linejoin=\"round\" stroke-miterlimit=\"10.0375\" stroke-width=\"0.426791\"/>\n",
       "</g>\n",
       "<g transform=\"translate(340.228 337.677)scale(.996264)\">\n",
       "<path d=\"M284.883 484.053H280.615\" fill=\"none\" stroke=\"#000000\" stroke-linecap=\"round\" stroke-linejoin=\"round\" stroke-miterlimit=\"10.0375\" stroke-width=\"0.711319\"/>\n",
       "</g>\n",
       "<use x=\"600.94584\" y=\"823.215341\" xlink:href=\"#g0-0\"/>\n",
       "<use x=\"610.244337\" y=\"823.215341\" xlink:href=\"#g1-55\"/>\n",
       "<g transform=\"translate(340.228 337.677)scale(.996264)\">\n",
       "<path d=\"M284.883 476.939H282.749\" fill=\"none\" stroke=\"#000000\" stroke-linecap=\"round\" stroke-linejoin=\"round\" stroke-miterlimit=\"10.0375\" stroke-width=\"0.426791\"/>\n",
       "</g>\n",
       "<g transform=\"translate(340.228 337.677)scale(.996264)\">\n",
       "<path d=\"M284.883 469.826H282.749\" fill=\"none\" stroke=\"#000000\" stroke-linecap=\"round\" stroke-linejoin=\"round\" stroke-miterlimit=\"10.0375\" stroke-width=\"0.426791\"/>\n",
       "</g>\n",
       "<g transform=\"translate(340.228 337.677)scale(.996264)\">\n",
       "<path d=\"M284.883 462.713H282.749\" fill=\"none\" stroke=\"#000000\" stroke-linecap=\"round\" stroke-linejoin=\"round\" stroke-miterlimit=\"10.0375\" stroke-width=\"0.426791\"/>\n",
       "</g>\n",
       "<g transform=\"translate(340.228 337.677)scale(.996264)\">\n",
       "<path d=\"M284.883 455.6H280.615\" fill=\"none\" stroke=\"#000000\" stroke-linecap=\"round\" stroke-linejoin=\"round\" stroke-miterlimit=\"10.0375\" stroke-width=\"0.711319\"/>\n",
       "</g>\n",
       "<use x=\"600.94584\" y=\"794.868882\" xlink:href=\"#g0-0\"/>\n",
       "<use x=\"610.244337\" y=\"794.868882\" xlink:href=\"#g1-54\"/>\n",
       "<g transform=\"translate(340.228 337.677)scale(.996264)\">\n",
       "<path d=\"M284.883 448.487H282.749\" fill=\"none\" stroke=\"#000000\" stroke-linecap=\"round\" stroke-linejoin=\"round\" stroke-miterlimit=\"10.0375\" stroke-width=\"0.426791\"/>\n",
       "</g>\n",
       "<g transform=\"translate(340.228 337.677)scale(.996264)\">\n",
       "<path d=\"M284.883 441.373H282.749\" fill=\"none\" stroke=\"#000000\" stroke-linecap=\"round\" stroke-linejoin=\"round\" stroke-miterlimit=\"10.0375\" stroke-width=\"0.426791\"/>\n",
       "</g>\n",
       "<g transform=\"translate(340.228 337.677)scale(.996264)\">\n",
       "<path d=\"M284.883 434.26H282.749\" fill=\"none\" stroke=\"#000000\" stroke-linecap=\"round\" stroke-linejoin=\"round\" stroke-miterlimit=\"10.0375\" stroke-width=\"0.426791\"/>\n",
       "</g>\n",
       "<g transform=\"translate(340.228 337.677)scale(.996264)\">\n",
       "<path d=\"M284.883 427.147H280.615\" fill=\"none\" stroke=\"#000000\" stroke-linecap=\"round\" stroke-linejoin=\"round\" stroke-miterlimit=\"10.0375\" stroke-width=\"0.711319\"/>\n",
       "</g>\n",
       "<use x=\"600.94584\" y=\"766.522422\" xlink:href=\"#g0-0\"/>\n",
       "<use x=\"610.244337\" y=\"766.522422\" xlink:href=\"#g1-53\"/>\n",
       "<g transform=\"translate(340.228 337.677)scale(.996264)\">\n",
       "<path d=\"M284.883 420.034H282.749\" fill=\"none\" stroke=\"#000000\" stroke-linecap=\"round\" stroke-linejoin=\"round\" stroke-miterlimit=\"10.0375\" stroke-width=\"0.426791\"/>\n",
       "</g>\n",
       "<g transform=\"translate(340.228 337.677)scale(.996264)\">\n",
       "<path d=\"M284.883 412.921H282.749\" fill=\"none\" stroke=\"#000000\" stroke-linecap=\"round\" stroke-linejoin=\"round\" stroke-miterlimit=\"10.0375\" stroke-width=\"0.426791\"/>\n",
       "</g>\n",
       "<g transform=\"translate(340.228 337.677)scale(.996264)\">\n",
       "<path d=\"M284.883 405.807H282.749\" fill=\"none\" stroke=\"#000000\" stroke-linecap=\"round\" stroke-linejoin=\"round\" stroke-miterlimit=\"10.0375\" stroke-width=\"0.426791\"/>\n",
       "</g>\n",
       "<g transform=\"translate(340.228 337.677)scale(.996264)\">\n",
       "<path d=\"M284.883 398.694H280.615\" fill=\"none\" stroke=\"#000000\" stroke-linecap=\"round\" stroke-linejoin=\"round\" stroke-miterlimit=\"10.0375\" stroke-width=\"0.711319\"/>\n",
       "</g>\n",
       "<use x=\"600.94584\" y=\"738.175962\" xlink:href=\"#g0-0\"/>\n",
       "<use x=\"610.244337\" y=\"738.175962\" xlink:href=\"#g1-52\"/>\n",
       "<g transform=\"translate(340.228 337.677)scale(.996264)\">\n",
       "<path d=\"M284.883 391.581H282.749\" fill=\"none\" stroke=\"#000000\" stroke-linecap=\"round\" stroke-linejoin=\"round\" stroke-miterlimit=\"10.0375\" stroke-width=\"0.426791\"/>\n",
       "</g>\n",
       "<g transform=\"translate(340.228 337.677)scale(.996264)\">\n",
       "<path d=\"M284.883 384.468H282.749\" fill=\"none\" stroke=\"#000000\" stroke-linecap=\"round\" stroke-linejoin=\"round\" stroke-miterlimit=\"10.0375\" stroke-width=\"0.426791\"/>\n",
       "</g>\n",
       "<g transform=\"translate(340.228 337.677)scale(.996264)\">\n",
       "<path d=\"M284.883 377.355H282.749\" fill=\"none\" stroke=\"#000000\" stroke-linecap=\"round\" stroke-linejoin=\"round\" stroke-miterlimit=\"10.0375\" stroke-width=\"0.426791\"/>\n",
       "</g>\n",
       "<g transform=\"translate(340.228 337.677)scale(.996264)\">\n",
       "<path d=\"M284.883 370.241H280.615\" fill=\"none\" stroke=\"#000000\" stroke-linecap=\"round\" stroke-linejoin=\"round\" stroke-miterlimit=\"10.0375\" stroke-width=\"0.711319\"/>\n",
       "</g>\n",
       "<use x=\"600.94584\" y=\"709.829503\" xlink:href=\"#g0-0\"/>\n",
       "<use x=\"610.244337\" y=\"709.829503\" xlink:href=\"#g1-51\"/>\n",
       "<g transform=\"translate(340.228 337.677)scale(.996264)\">\n",
       "<path d=\"M284.883 363.128H282.749\" fill=\"none\" stroke=\"#000000\" stroke-linecap=\"round\" stroke-linejoin=\"round\" stroke-miterlimit=\"10.0375\" stroke-width=\"0.426791\"/>\n",
       "</g>\n",
       "<g transform=\"translate(340.228 337.677)scale(.996264)\">\n",
       "<path d=\"M284.883 356.015H282.749\" fill=\"none\" stroke=\"#000000\" stroke-linecap=\"round\" stroke-linejoin=\"round\" stroke-miterlimit=\"10.0375\" stroke-width=\"0.426791\"/>\n",
       "</g>\n",
       "<g transform=\"translate(340.228 337.677)scale(.996264)\">\n",
       "<path d=\"M284.883 348.902H282.749\" fill=\"none\" stroke=\"#000000\" stroke-linecap=\"round\" stroke-linejoin=\"round\" stroke-miterlimit=\"10.0375\" stroke-width=\"0.426791\"/>\n",
       "</g>\n",
       "<g transform=\"translate(340.228 337.677)scale(.996264)\">\n",
       "<path d=\"M284.883 341.789H280.615\" fill=\"none\" stroke=\"#000000\" stroke-linecap=\"round\" stroke-linejoin=\"round\" stroke-miterlimit=\"10.0375\" stroke-width=\"0.711319\"/>\n",
       "</g>\n",
       "<use x=\"600.94584\" y=\"681.483059\" xlink:href=\"#g0-0\"/>\n",
       "<use x=\"610.244337\" y=\"681.483059\" xlink:href=\"#g1-50\"/>\n",
       "<g transform=\"translate(340.228 337.677)scale(.996264)\">\n",
       "<path d=\"M284.883 334.676H282.749\" fill=\"none\" stroke=\"#000000\" stroke-linecap=\"round\" stroke-linejoin=\"round\" stroke-miterlimit=\"10.0375\" stroke-width=\"0.426791\"/>\n",
       "</g>\n",
       "<g transform=\"translate(340.228 337.677)scale(.996264)\">\n",
       "<path d=\"M284.883 327.562H282.749\" fill=\"none\" stroke=\"#000000\" stroke-linecap=\"round\" stroke-linejoin=\"round\" stroke-miterlimit=\"10.0375\" stroke-width=\"0.426791\"/>\n",
       "</g>\n",
       "<g transform=\"translate(340.228 337.677)scale(.996264)\">\n",
       "<path d=\"M284.883 320.449H282.749\" fill=\"none\" stroke=\"#000000\" stroke-linecap=\"round\" stroke-linejoin=\"round\" stroke-miterlimit=\"10.0375\" stroke-width=\"0.426791\"/>\n",
       "</g>\n",
       "<g transform=\"translate(340.228 337.677)scale(.996264)\">\n",
       "<path d=\"M284.883 313.336H280.615\" fill=\"none\" stroke=\"#000000\" stroke-linecap=\"round\" stroke-linejoin=\"round\" stroke-miterlimit=\"10.0375\" stroke-width=\"0.711319\"/>\n",
       "</g>\n",
       "<use x=\"600.94584\" y=\"653.136599\" xlink:href=\"#g0-0\"/>\n",
       "<use x=\"610.244337\" y=\"653.136599\" xlink:href=\"#g1-49\"/>\n",
       "<g transform=\"translate(340.228 337.677)scale(.996264)\">\n",
       "<path d=\"M284.883 306.223H282.749\" fill=\"none\" stroke=\"#000000\" stroke-linecap=\"round\" stroke-linejoin=\"round\" stroke-miterlimit=\"10.0375\" stroke-width=\"0.426791\"/>\n",
       "</g>\n",
       "<g transform=\"translate(340.228 337.677)scale(.996264)\">\n",
       "<path d=\"M284.883 299.11H282.749\" fill=\"none\" stroke=\"#000000\" stroke-linecap=\"round\" stroke-linejoin=\"round\" stroke-miterlimit=\"10.0375\" stroke-width=\"0.426791\"/>\n",
       "</g>\n",
       "<g transform=\"translate(340.228 337.677)scale(.996264)\">\n",
       "<path d=\"M284.883 291.996H282.749\" fill=\"none\" stroke=\"#000000\" stroke-linecap=\"round\" stroke-linejoin=\"round\" stroke-miterlimit=\"10.0375\" stroke-width=\"0.426791\"/>\n",
       "</g>\n",
       "<g transform=\"translate(340.228 337.677)scale(.996264)\">\n",
       "<path d=\"M284.883 256.43H280.615\" fill=\"none\" stroke=\"#000000\" stroke-linecap=\"round\" stroke-linejoin=\"round\" stroke-miterlimit=\"10.0375\" stroke-width=\"0.711319\"/>\n",
       "</g>\n",
       "<use x=\"610.244329\" y=\"596.941797\" xlink:href=\"#g1-49\"/>\n",
       "<g transform=\"translate(340.228 337.677)scale(.996264)\">\n",
       "<path d=\"M284.883 263.544H282.749\" fill=\"none\" stroke=\"#000000\" stroke-linecap=\"round\" stroke-linejoin=\"round\" stroke-miterlimit=\"10.0375\" stroke-width=\"0.426791\"/>\n",
       "</g>\n",
       "<g transform=\"translate(340.228 337.677)scale(.996264)\">\n",
       "<path d=\"M284.883 270.657H282.749\" fill=\"none\" stroke=\"#000000\" stroke-linecap=\"round\" stroke-linejoin=\"round\" stroke-miterlimit=\"10.0375\" stroke-width=\"0.426791\"/>\n",
       "</g>\n",
       "<g transform=\"translate(340.228 337.677)scale(.996264)\">\n",
       "<path d=\"M284.883 277.77H282.749\" fill=\"none\" stroke=\"#000000\" stroke-linecap=\"round\" stroke-linejoin=\"round\" stroke-miterlimit=\"10.0375\" stroke-width=\"0.426791\"/>\n",
       "</g>\n",
       "<g transform=\"translate(340.228 337.677)scale(.996264)\">\n",
       "<path d=\"M284.883 227.978H280.615\" fill=\"none\" stroke=\"#000000\" stroke-linecap=\"round\" stroke-linejoin=\"round\" stroke-miterlimit=\"10.0375\" stroke-width=\"0.711319\"/>\n",
       "</g>\n",
       "<use x=\"610.244329\" y=\"568.595337\" xlink:href=\"#g1-50\"/>\n",
       "<g transform=\"translate(340.228 337.677)scale(.996264)\">\n",
       "<path d=\"M284.883 235.091H282.749\" fill=\"none\" stroke=\"#000000\" stroke-linecap=\"round\" stroke-linejoin=\"round\" stroke-miterlimit=\"10.0375\" stroke-width=\"0.426791\"/>\n",
       "</g>\n",
       "<g transform=\"translate(340.228 337.677)scale(.996264)\">\n",
       "<path d=\"M284.883 242.204H282.749\" fill=\"none\" stroke=\"#000000\" stroke-linecap=\"round\" stroke-linejoin=\"round\" stroke-miterlimit=\"10.0375\" stroke-width=\"0.426791\"/>\n",
       "</g>\n",
       "<g transform=\"translate(340.228 337.677)scale(.996264)\">\n",
       "<path d=\"M284.883 249.317H282.749\" fill=\"none\" stroke=\"#000000\" stroke-linecap=\"round\" stroke-linejoin=\"round\" stroke-miterlimit=\"10.0375\" stroke-width=\"0.426791\"/>\n",
       "</g>\n",
       "<g transform=\"translate(340.228 337.677)scale(.996264)\">\n",
       "<path d=\"M284.883 199.525H280.615\" fill=\"none\" stroke=\"#000000\" stroke-linecap=\"round\" stroke-linejoin=\"round\" stroke-miterlimit=\"10.0375\" stroke-width=\"0.711319\"/>\n",
       "</g>\n",
       "<use x=\"610.244329\" y=\"540.248893\" xlink:href=\"#g1-51\"/>\n",
       "<g transform=\"translate(340.228 337.677)scale(.996264)\">\n",
       "<path d=\"M284.883 206.638H282.749\" fill=\"none\" stroke=\"#000000\" stroke-linecap=\"round\" stroke-linejoin=\"round\" stroke-miterlimit=\"10.0375\" stroke-width=\"0.426791\"/>\n",
       "</g>\n",
       "<g transform=\"translate(340.228 337.677)scale(.996264)\">\n",
       "<path d=\"M284.883 213.751H282.749\" fill=\"none\" stroke=\"#000000\" stroke-linecap=\"round\" stroke-linejoin=\"round\" stroke-miterlimit=\"10.0375\" stroke-width=\"0.426791\"/>\n",
       "</g>\n",
       "<g transform=\"translate(340.228 337.677)scale(.996264)\">\n",
       "<path d=\"M284.883 220.865H282.749\" fill=\"none\" stroke=\"#000000\" stroke-linecap=\"round\" stroke-linejoin=\"round\" stroke-miterlimit=\"10.0375\" stroke-width=\"0.426791\"/>\n",
       "</g>\n",
       "<g transform=\"translate(340.228 337.677)scale(.996264)\">\n",
       "<path d=\"M284.883 171.072H280.615\" fill=\"none\" stroke=\"#000000\" stroke-linecap=\"round\" stroke-linejoin=\"round\" stroke-miterlimit=\"10.0375\" stroke-width=\"0.711319\"/>\n",
       "</g>\n",
       "<use x=\"610.244329\" y=\"511.902433\" xlink:href=\"#g1-52\"/>\n",
       "<g transform=\"translate(340.228 337.677)scale(.996264)\">\n",
       "<path d=\"M284.883 178.185H282.749\" fill=\"none\" stroke=\"#000000\" stroke-linecap=\"round\" stroke-linejoin=\"round\" stroke-miterlimit=\"10.0375\" stroke-width=\"0.426791\"/>\n",
       "</g>\n",
       "<g transform=\"translate(340.228 337.677)scale(.996264)\">\n",
       "<path d=\"M284.883 185.299H282.749\" fill=\"none\" stroke=\"#000000\" stroke-linecap=\"round\" stroke-linejoin=\"round\" stroke-miterlimit=\"10.0375\" stroke-width=\"0.426791\"/>\n",
       "</g>\n",
       "<g transform=\"translate(340.228 337.677)scale(.996264)\">\n",
       "<path d=\"M284.883 192.412H282.749\" fill=\"none\" stroke=\"#000000\" stroke-linecap=\"round\" stroke-linejoin=\"round\" stroke-miterlimit=\"10.0375\" stroke-width=\"0.426791\"/>\n",
       "</g>\n",
       "<g transform=\"translate(340.228 337.677)scale(.996264)\">\n",
       "<path d=\"M284.883 142.619H280.615\" fill=\"none\" stroke=\"#000000\" stroke-linecap=\"round\" stroke-linejoin=\"round\" stroke-miterlimit=\"10.0375\" stroke-width=\"0.711319\"/>\n",
       "</g>\n",
       "<use x=\"610.244329\" y=\"483.555974\" xlink:href=\"#g1-53\"/>\n",
       "<g transform=\"translate(340.228 337.677)scale(.996264)\">\n",
       "<path d=\"M284.883 149.733H282.749\" fill=\"none\" stroke=\"#000000\" stroke-linecap=\"round\" stroke-linejoin=\"round\" stroke-miterlimit=\"10.0375\" stroke-width=\"0.426791\"/>\n",
       "</g>\n",
       "<g transform=\"translate(340.228 337.677)scale(.996264)\">\n",
       "<path d=\"M284.883 156.846H282.749\" fill=\"none\" stroke=\"#000000\" stroke-linecap=\"round\" stroke-linejoin=\"round\" stroke-miterlimit=\"10.0375\" stroke-width=\"0.426791\"/>\n",
       "</g>\n",
       "<g transform=\"translate(340.228 337.677)scale(.996264)\">\n",
       "<path d=\"M284.883 163.959H282.749\" fill=\"none\" stroke=\"#000000\" stroke-linecap=\"round\" stroke-linejoin=\"round\" stroke-miterlimit=\"10.0375\" stroke-width=\"0.426791\"/>\n",
       "</g>\n",
       "<g transform=\"translate(340.228 337.677)scale(.996264)\">\n",
       "<path d=\"M284.883 114.167H280.615\" fill=\"none\" stroke=\"#000000\" stroke-linecap=\"round\" stroke-linejoin=\"round\" stroke-miterlimit=\"10.0375\" stroke-width=\"0.711319\"/>\n",
       "</g>\n",
       "<use x=\"610.244329\" y=\"455.209514\" xlink:href=\"#g1-54\"/>\n",
       "<g transform=\"translate(340.228 337.677)scale(.996264)\">\n",
       "<path d=\"M284.883 121.28H282.749\" fill=\"none\" stroke=\"#000000\" stroke-linecap=\"round\" stroke-linejoin=\"round\" stroke-miterlimit=\"10.0375\" stroke-width=\"0.426791\"/>\n",
       "</g>\n",
       "<g transform=\"translate(340.228 337.677)scale(.996264)\">\n",
       "<path d=\"M284.883 128.393H282.749\" fill=\"none\" stroke=\"#000000\" stroke-linecap=\"round\" stroke-linejoin=\"round\" stroke-miterlimit=\"10.0375\" stroke-width=\"0.426791\"/>\n",
       "</g>\n",
       "<g transform=\"translate(340.228 337.677)scale(.996264)\">\n",
       "<path d=\"M284.883 135.506H282.749\" fill=\"none\" stroke=\"#000000\" stroke-linecap=\"round\" stroke-linejoin=\"round\" stroke-miterlimit=\"10.0375\" stroke-width=\"0.426791\"/>\n",
       "</g>\n",
       "<g transform=\"translate(340.228 337.677)scale(.996264)\">\n",
       "<path d=\"M284.883 85.7139H280.615\" fill=\"none\" stroke=\"#000000\" stroke-linecap=\"round\" stroke-linejoin=\"round\" stroke-miterlimit=\"10.0375\" stroke-width=\"0.711319\"/>\n",
       "</g>\n",
       "<use x=\"610.244329\" y=\"426.863054\" xlink:href=\"#g1-55\"/>\n",
       "<g transform=\"translate(340.228 337.677)scale(.996264)\">\n",
       "<path d=\"M284.883 92.8271H282.749\" fill=\"none\" stroke=\"#000000\" stroke-linecap=\"round\" stroke-linejoin=\"round\" stroke-miterlimit=\"10.0375\" stroke-width=\"0.426791\"/>\n",
       "</g>\n",
       "<g transform=\"translate(340.228 337.677)scale(.996264)\">\n",
       "<path d=\"M284.883 99.9403H282.749\" fill=\"none\" stroke=\"#000000\" stroke-linecap=\"round\" stroke-linejoin=\"round\" stroke-miterlimit=\"10.0375\" stroke-width=\"0.426791\"/>\n",
       "</g>\n",
       "<g transform=\"translate(340.228 337.677)scale(.996264)\">\n",
       "<path d=\"M284.883 107.053H282.749\" fill=\"none\" stroke=\"#000000\" stroke-linecap=\"round\" stroke-linejoin=\"round\" stroke-miterlimit=\"10.0375\" stroke-width=\"0.426791\"/>\n",
       "</g>\n",
       "<g transform=\"translate(340.228 337.677)scale(.996264)\">\n",
       "<path d=\"M284.883 57.2612H280.615\" fill=\"none\" stroke=\"#000000\" stroke-linecap=\"round\" stroke-linejoin=\"round\" stroke-miterlimit=\"10.0375\" stroke-width=\"0.711319\"/>\n",
       "</g>\n",
       "<use x=\"610.244329\" y=\"398.51661\" xlink:href=\"#g1-56\"/>\n",
       "<g transform=\"translate(340.228 337.677)scale(.996264)\">\n",
       "<path d=\"M284.883 64.3744H282.749\" fill=\"none\" stroke=\"#000000\" stroke-linecap=\"round\" stroke-linejoin=\"round\" stroke-miterlimit=\"10.0375\" stroke-width=\"0.426791\"/>\n",
       "</g>\n",
       "<g transform=\"translate(340.228 337.677)scale(.996264)\">\n",
       "<path d=\"M284.883 71.4875H282.749\" fill=\"none\" stroke=\"#000000\" stroke-linecap=\"round\" stroke-linejoin=\"round\" stroke-miterlimit=\"10.0375\" stroke-width=\"0.426791\"/>\n",
       "</g>\n",
       "<g transform=\"translate(340.228 337.677)scale(.996264)\">\n",
       "<path d=\"M284.883 78.6007H282.749\" fill=\"none\" stroke=\"#000000\" stroke-linecap=\"round\" stroke-linejoin=\"round\" stroke-miterlimit=\"10.0375\" stroke-width=\"0.426791\"/>\n",
       "</g>\n",
       "<g transform=\"translate(340.228 337.677)scale(.996264)\">\n",
       "<path d=\"M284.883 28.8084H280.615\" fill=\"none\" stroke=\"#000000\" stroke-linecap=\"round\" stroke-linejoin=\"round\" stroke-miterlimit=\"10.0375\" stroke-width=\"0.711319\"/>\n",
       "</g>\n",
       "<use x=\"610.244329\" y=\"370.170151\" xlink:href=\"#g1-57\"/>\n",
       "<g transform=\"translate(340.228 337.677)scale(.996264)\">\n",
       "<path d=\"M284.883 35.9216H282.749\" fill=\"none\" stroke=\"#000000\" stroke-linecap=\"round\" stroke-linejoin=\"round\" stroke-miterlimit=\"10.0375\" stroke-width=\"0.426791\"/>\n",
       "</g>\n",
       "<g transform=\"translate(340.228 337.677)scale(.996264)\">\n",
       "<path d=\"M284.883 43.0348H282.749\" fill=\"none\" stroke=\"#000000\" stroke-linecap=\"round\" stroke-linejoin=\"round\" stroke-miterlimit=\"10.0375\" stroke-width=\"0.426791\"/>\n",
       "</g>\n",
       "<g transform=\"translate(340.228 337.677)scale(.996264)\">\n",
       "<path d=\"M284.883 50.148H282.749\" fill=\"none\" stroke=\"#000000\" stroke-linecap=\"round\" stroke-linejoin=\"round\" stroke-miterlimit=\"10.0375\" stroke-width=\"0.426791\"/>\n",
       "</g>\n",
       "<g transform=\"translate(340.228 337.677)scale(.996264)\">\n",
       "<path d=\"M284.883 284.883H398.694L284.883 199.525V284.883Z\" fill=\"#8080ff\" opacity=\"0.5\"/>\n",
       "</g>\n",
       "<g transform=\"translate(340.228 337.677)scale(.996264)\">\n",
       "<path d=\"M284.883 284.883H398.694L284.883 199.525V284.883Z\" fill=\"none\" stroke=\"#0000ff\" stroke-linecap=\"round\" stroke-linejoin=\"round\" stroke-miterlimit=\"10.0375\" stroke-width=\"1.50562\"/>\n",
       "</g>\n",
       "<g transform=\"translate(340.228 337.677)scale(.996264)\">\n",
       "<path d=\"M284.883 284.883L398.694 398.694L455.6 28.8084L284.883 284.883Z\" fill=\"#80ff80\" opacity=\"0.5\"/>\n",
       "</g>\n",
       "<g transform=\"translate(340.228 337.677)scale(.996264)\">\n",
       "<path d=\"M284.883 284.883L398.694 398.694L455.6 28.8084L284.883 284.883Z\" fill=\"none\" stroke=\"#00ff00\" stroke-linecap=\"round\" stroke-linejoin=\"round\" stroke-miterlimit=\"10.0375\" stroke-width=\"1.50562\"/>\n",
       "</g>\n",
       "</g>\n",
       "</svg>"
      ],
      "text/plain": [
       "<IPython.core.display.SVG object>"
      ]
     },
     "execution_count": 21,
     "metadata": {},
     "output_type": "execute_result"
    }
   ],
   "source": [
    "%%asy --fmt svg\n",
    "import geometry;\n",
    "import coordenades;\n",
    "import graph;\n",
    "\n",
    "unitsize(1cm);\n",
    "\n",
    "pen g = opacity(.5)+lightgreen,\n",
    "    b = opacity(.5)+lightblue;\n",
    "pair P = (0,0),\n",
    "     Q = (4,0),\n",
    "     R = (0,3);\n",
    "real A[][] = {{1,2},{-1,3}};\n",
    "transform tr = TransformacioLineal(A);\n",
    "Canonica(-10,10,-10,10);\n",
    "filldraw(P--Q--R--cycle,b,1.5bp+blue);\n",
    "filldraw(tr*P--tr*Q--tr*R--cycle,g,1.5bp+green);"
   ]
  },
  {
   "cell_type": "markdown",
   "metadata": {
    "tags": []
   },
   "source": [
    "## Exercici 9\n",
    "Trobeu la matriu i la representació en la base canònica de la transformació lineal $T:V_3\\longrightarrow V_3$ definida per\n",
    "$$\n",
    "  \\left. \\begin{aligned}\n",
    "  T(1,1,1)&=(-1,1,-3)\\\\\n",
    "  T(1,2,2)&=(0,1,-4)\\\\\n",
    "  T(1,2,3)&=(1,4,-7)\n",
    "  \\end{aligned} \\right\\}\\,.\n",
    "$$"
   ]
  },
  {
   "cell_type": "markdown",
   "metadata": {},
   "source": [
    "Si $A$ és la matriu en la base canònica de la transformació lineal $T$, haurà de complir\n",
    "$$\n",
    "  A\\left(\\begin{array}{rrr}\n",
    "  1 & 1 & 1\\\\\n",
    "  1 & 2 & 2\\\\\n",
    "  1 & 2 & 3\n",
    "  \\end{array}\\right)\n",
    "  =\\left(\\begin{array}{rrr}\n",
    "  -1 &  0 &  1 \\\\\n",
    "   1 &  1 &  4 \\\\\n",
    "  -3 & -4 & -7\n",
    "  \\end{array}\\right)\\,.\n",
    "$$\n",
    "Aleshores,\n",
    "$$\n",
    "  A = \\left(\\begin{array}{rrr}\n",
    "  -1 &  0 &  1 \\\\\n",
    "   1 &  1 &  4 \\\\\n",
    "  -3 & -4 & -7\n",
    "  \\end{array}\\right)\n",
    "  \\left(\\begin{array}{rrr}\n",
    "  1 & 1 & 1\\\\\n",
    "  1 & 2 & 2\\\\\n",
    "  1 & 2 & 3\n",
    "  \\end{array}\\right)^{-1}\\,.\n",
    "$$"
   ]
  },
  {
   "cell_type": "code",
   "execution_count": 22,
   "metadata": {},
   "outputs": [
    {
     "data": {
      "text/html": [
       "<html>\\(\\displaystyle \\left(\\begin{array}{rrr}\n",
       "1 & 1 & 1 \\\\\n",
       "1 & 2 & 2 \\\\\n",
       "1 & 2 & 3\n",
       "\\end{array}\\right)\\)</html>"
      ],
      "text/latex": [
       "$\\displaystyle \\left(\\begin{array}{rrr}\n",
       "1 & 1 & 1 \\\\\n",
       "1 & 2 & 2 \\\\\n",
       "1 & 2 & 3\n",
       "\\end{array}\\right)$"
      ],
      "text/plain": [
       "[1 1 1]\n",
       "[1 2 2]\n",
       "[1 2 3]"
      ]
     },
     "metadata": {},
     "output_type": "display_data"
    }
   ],
   "source": [
    "B = matrix([[1,1,1],[1,2,2],[1,2,3]])\n",
    "show(B)"
   ]
  },
  {
   "cell_type": "code",
   "execution_count": 23,
   "metadata": {},
   "outputs": [
    {
     "data": {
      "text/html": [
       "<html>\\(\\displaystyle \\left(\\begin{array}{rrr}\n",
       "-1 & 0 & 1 \\\\\n",
       "1 & 1 & 4 \\\\\n",
       "-3 & -4 & -7\n",
       "\\end{array}\\right)\\)</html>"
      ],
      "text/latex": [
       "$\\displaystyle \\left(\\begin{array}{rrr}\n",
       "-1 & 0 & 1 \\\\\n",
       "1 & 1 & 4 \\\\\n",
       "-3 & -4 & -7\n",
       "\\end{array}\\right)$"
      ],
      "text/plain": [
       "[-1  0  1]\n",
       "[ 1  1  4]\n",
       "[-3 -4 -7]"
      ]
     },
     "metadata": {},
     "output_type": "display_data"
    }
   ],
   "source": [
    "C = matrix([[-1,0,1],[1,1,4],[-3,-4,-7]])\n",
    "show(C)"
   ]
  },
  {
   "cell_type": "code",
   "execution_count": 24,
   "metadata": {},
   "outputs": [
    {
     "data": {
      "text/html": [
       "<html>\\(\\displaystyle \\left(\\begin{array}{rrr}\n",
       "-2 & 0 & 1 \\\\\n",
       "1 & -3 & 3 \\\\\n",
       "-2 & 2 & -3\n",
       "\\end{array}\\right)\\)</html>"
      ],
      "text/latex": [
       "$\\displaystyle \\left(\\begin{array}{rrr}\n",
       "-2 & 0 & 1 \\\\\n",
       "1 & -3 & 3 \\\\\n",
       "-2 & 2 & -3\n",
       "\\end{array}\\right)$"
      ],
      "text/plain": [
       "[-2  0  1]\n",
       "[ 1 -3  3]\n",
       "[-2  2 -3]"
      ]
     },
     "metadata": {},
     "output_type": "display_data"
    }
   ],
   "source": [
    "A = C * B.inverse()\n",
    "show(A)"
   ]
  },
  {
   "cell_type": "markdown",
   "metadata": {},
   "source": [
    "La matriu i la representació en la base canònica de $T$ són\n",
    "$$\n",
    "  A=\\left(\\begin{array}{rrr}\n",
    "  -2 & 0 & 1 \\\\\n",
    "   1 & -3 & 3 \\\\\n",
    "  -2 & 2 & -3\n",
    "  \\end{array}\\right)\\qquad\\text{i}\\qquad \n",
    "  \\left(\\begin{array}{c} u \\\\ v \\\\ w \\end{array}\\right)\n",
    "  =\\left(\\begin{array}{rrr}\n",
    "  -2 & 0 & 1 \\\\\n",
    "   1 & -3 & 3 \\\\\n",
    "  -2 & 2 & -3\n",
    "  \\end{array}\\right)\n",
    "  \\left(\\begin{array}{c} x \\\\ y \\\\ z \\end{array}\\right)\\,.\n",
    "$$"
   ]
  },
  {
   "cell_type": "markdown",
   "metadata": {},
   "source": [
    "## Exercici 10\n",
    "Calculeu la matriu respecte de la base $\\mathcal{B}'=\\{(2,-1,3),(2,1,2),(1,-1,2)\\}$ de la transformació lineal $T:V_3\\longrightarrow V_3$ definida per\n",
    "$$T(x,y,z)=(2x+3y-z,x-y+4z,x-3y+2z) \\,. $$"
   ]
  },
  {
   "cell_type": "markdown",
   "metadata": {},
   "source": [
    "La representació d'aquesta transformació lineal en la base canònica és\n",
    "$$\n",
    "  \\left(\\begin{array}{c} u\\\\ v\\\\ w \\end{array}\\right)\n",
    "  = \\left(\\begin{array}{rrr}\n",
    "  2 &  3 & -1\\\\\n",
    "  1 & -1 &  4\\\\\n",
    "  1 & -3 &  2\n",
    "  \\end{array}\\right)\n",
    "  \\left(\\begin{array}{c} x\\\\ y\\\\ z \\end{array}\\right)\\,.\n",
    "$$\n",
    "El que hem de fer es representar aquesta transformació com a\n",
    "$$\n",
    "  \\left(\\begin{array}{c} u'\\\\ v'\\\\ w' \\end{array}\\right)\n",
    "  = A'\n",
    "  \\left(\\begin{array}{c} x'\\\\ y'\\\\ z' \\end{array}\\right)\\,.\n",
    "$$\n",
    "on $(x',y',z')$ i $(u',v',w')$ són components en la base $\\mathcal{B}'$ d'un vector i el seu transformat."
   ]
  },
  {
   "cell_type": "markdown",
   "metadata": {},
   "source": [
    "Hem de fer servir la fórmula $A'=C^{-1}AC$. on $A$ és la matriu de la transformació lineal en la base canònica i $C$ és la matriu del canvi de base de la base $\\mathcal{B}'$ a la base canònica."
   ]
  },
  {
   "cell_type": "code",
   "execution_count": 25,
   "metadata": {},
   "outputs": [
    {
     "data": {
      "text/html": [
       "<html>\\(\\displaystyle \\left(\\begin{array}{rrr}\n",
       "2 & 3 & -1 \\\\\n",
       "1 & -1 & 4 \\\\\n",
       "1 & -3 & 2\n",
       "\\end{array}\\right)\\)</html>"
      ],
      "text/latex": [
       "$\\displaystyle \\left(\\begin{array}{rrr}\n",
       "2 & 3 & -1 \\\\\n",
       "1 & -1 & 4 \\\\\n",
       "1 & -3 & 2\n",
       "\\end{array}\\right)$"
      ],
      "text/plain": [
       "[ 2  3 -1]\n",
       "[ 1 -1  4]\n",
       "[ 1 -3  2]"
      ]
     },
     "metadata": {},
     "output_type": "display_data"
    },
    {
     "data": {
      "text/html": [
       "<html>\\(\\displaystyle \\left(\\begin{array}{rrr}\n",
       "2 & 2 & 1 \\\\\n",
       "-1 & 1 & -1 \\\\\n",
       "3 & 2 & 2\n",
       "\\end{array}\\right)\\)</html>"
      ],
      "text/latex": [
       "$\\displaystyle \\left(\\begin{array}{rrr}\n",
       "2 & 2 & 1 \\\\\n",
       "-1 & 1 & -1 \\\\\n",
       "3 & 2 & 2\n",
       "\\end{array}\\right)$"
      ],
      "text/plain": [
       "[ 2  2  1]\n",
       "[-1  1 -1]\n",
       "[ 3  2  2]"
      ]
     },
     "metadata": {},
     "output_type": "display_data"
    }
   ],
   "source": [
    "A = matrix([[2,3,-1],[1,-1,4],[1,-3,2]])\n",
    "C = matrix([[2,-1,3],[2,1,2],[1,-1,2]]).T\n",
    "show(A)\n",
    "show(C)"
   ]
  },
  {
   "cell_type": "code",
   "execution_count": 26,
   "metadata": {},
   "outputs": [
    {
     "data": {
      "text/html": [
       "<html>\\(\\displaystyle \\left(\\begin{array}{rrr}\n",
       "-71 & -7 & -56 \\\\\n",
       "28 & 7 & 21 \\\\\n",
       "84 & 5 & 67\n",
       "\\end{array}\\right)\\)</html>"
      ],
      "text/latex": [
       "$\\displaystyle \\left(\\begin{array}{rrr}\n",
       "-71 & -7 & -56 \\\\\n",
       "28 & 7 & 21 \\\\\n",
       "84 & 5 & 67\n",
       "\\end{array}\\right)$"
      ],
      "text/plain": [
       "[-71  -7 -56]\n",
       "[ 28   7  21]\n",
       "[ 84   5  67]"
      ]
     },
     "metadata": {},
     "output_type": "display_data"
    }
   ],
   "source": [
    "A1 = C.inverse() * A * C\n",
    "show(A1)"
   ]
  },
  {
   "cell_type": "markdown",
   "metadata": {},
   "source": [
    "Així doncs, la representació de la transformació lineal $T$ en la base $\\mathcal{B}'$ és\n",
    "$$\n",
    "  \\left(\\begin{array}{c} u'\\\\ v'\\\\ w' \\end{array}\\right)\n",
    "  = \\left(\\begin{array}{rrr}\n",
    "  -71 & -7 & -56 \\\\\n",
    "   28 & 7 & 21 \\\\\n",
    "   84 & 5 & 67\n",
    "\\end{array}\\right)\n",
    "  \\left(\\begin{array}{c} x'\\\\ y'\\\\ z' \\end{array}\\right)\\,.\n",
    "$$"
   ]
  },
  {
   "cell_type": "markdown",
   "metadata": {},
   "source": [
    "## Exercici 11\n",
    "Trobeu la representació en la base canònica de la transformació lineal que consisteix en un escalat de factor $1$ en la direcció $(-3,3,1)$, un de factor $1$ en la direcció $(1,-3,-2)$ i un amb factor $3$ en la direcció $(1,-2,-1)$."
   ]
  },
  {
   "cell_type": "markdown",
   "metadata": {},
   "source": [
    "En aquestes condicions, la representació de la transformació lineal en la base $\\mathcal{B}'=\\{(-3,3,1),(1,-3,-2),(1,-2,-1)\\}$ és\n",
    "$$\n",
    "  \\left(\\begin{array}{c} u'\\\\ v'\\\\ w' \\end{array}\\right)\n",
    "  = \\left(\\begin{array}{rrr}\n",
    "  1 & 0 & 0 \\\\\n",
    "  0 & 1 & 0 \\\\\n",
    "  0 & 0 & 3\n",
    "  \\end{array}\\right)\n",
    "  \\left(\\begin{array}{c} x'\\\\ y'\\\\ z' \\end{array}\\right)\\,.\n",
    "$$\n",
    "Ara hem d'aplicar la fòrmula del canvi de base per a transformacions lineals, $A=CA'C^{-1}$, on"
   ]
  },
  {
   "cell_type": "code",
   "execution_count": 27,
   "metadata": {},
   "outputs": [
    {
     "data": {
      "text/html": [
       "<html>\\(\\displaystyle \\left(\\begin{array}{rrr}\n",
       "-3 & 1 & 1 \\\\\n",
       "3 & -3 & -2 \\\\\n",
       "1 & -2 & -1\n",
       "\\end{array}\\right)\\)</html>"
      ],
      "text/latex": [
       "$\\displaystyle \\left(\\begin{array}{rrr}\n",
       "-3 & 1 & 1 \\\\\n",
       "3 & -3 & -2 \\\\\n",
       "1 & -2 & -1\n",
       "\\end{array}\\right)$"
      ],
      "text/plain": [
       "[-3  1  1]\n",
       "[ 3 -3 -2]\n",
       "[ 1 -2 -1]"
      ]
     },
     "metadata": {},
     "output_type": "display_data"
    },
    {
     "data": {
      "text/html": [
       "<html>\\(\\displaystyle \\left(\\begin{array}{rrr}\n",
       "1 & 0 & 0 \\\\\n",
       "0 & 1 & 0 \\\\\n",
       "0 & 0 & 3\n",
       "\\end{array}\\right)\\)</html>"
      ],
      "text/latex": [
       "$\\displaystyle \\left(\\begin{array}{rrr}\n",
       "1 & 0 & 0 \\\\\n",
       "0 & 1 & 0 \\\\\n",
       "0 & 0 & 3\n",
       "\\end{array}\\right)$"
      ],
      "text/plain": [
       "[1 0 0]\n",
       "[0 1 0]\n",
       "[0 0 3]"
      ]
     },
     "metadata": {},
     "output_type": "display_data"
    }
   ],
   "source": [
    "u1 = vector([-3,3,1])\n",
    "u2 = vector([1,-3,-2])\n",
    "u3 = vector([1,-2,-1])\n",
    "C = matrix([u1,u2,u3]).T\n",
    "A1 = matrix([[1,0,0],[0,1,0],[0,0,3]])\n",
    "show(C)\n",
    "show(A1)"
   ]
  },
  {
   "cell_type": "code",
   "execution_count": 28,
   "metadata": {},
   "outputs": [
    {
     "data": {
      "text/html": [
       "<html>\\(\\displaystyle \\left(\\begin{array}{rrr}\n",
       "-5 & -10 & 12 \\\\\n",
       "12 & 21 & -24 \\\\\n",
       "6 & 10 & -11\n",
       "\\end{array}\\right)\\)</html>"
      ],
      "text/latex": [
       "$\\displaystyle \\left(\\begin{array}{rrr}\n",
       "-5 & -10 & 12 \\\\\n",
       "12 & 21 & -24 \\\\\n",
       "6 & 10 & -11\n",
       "\\end{array}\\right)$"
      ],
      "text/plain": [
       "[ -5 -10  12]\n",
       "[ 12  21 -24]\n",
       "[  6  10 -11]"
      ]
     },
     "metadata": {},
     "output_type": "display_data"
    }
   ],
   "source": [
    "A = C * A1 * C.inverse()\n",
    "show(A)"
   ]
  },
  {
   "cell_type": "markdown",
   "metadata": {},
   "source": [
    "Per tant, la representació de la transformació lineal en la base canònica és\n",
    "$$\n",
    "  \\left(\\begin{array}{c} u\\\\ v\\\\ w \\end{array}\\right)\n",
    "  = \\left(\\begin{array}{rrr}\n",
    "  -5 & -10 &  12 \\\\\n",
    "  12 &  21 & -24 \\\\\n",
    "   6 &  10 & -11\n",
    "  \\end{array}\\right)\n",
    "  \\left(\\begin{array}{c} x\\\\ y\\\\ z \\end{array}\\right)\\,.\n",
    "$$"
   ]
  },
  {
   "cell_type": "markdown",
   "metadata": {},
   "source": [
    "## Exercici 12\n",
    "Calculeu la matriu associada en la base $\\mathcal{B}'=\\{(1,2),(2,1)\\}$\n",
    "del gir vectorial d'angle $\\dfrac{3\\pi}{4}$."
   ]
  },
  {
   "cell_type": "markdown",
   "metadata": {},
   "source": [
    "La representació d'un gir d'angle $\\alpha$ en la base canònica és\n",
    "$$\n",
    "  \\left(\\begin{array}{c} u\\\\ v \\end{array}\\right)\n",
    "  = \\left(\\begin{array}{rr}\n",
    "  \\cos\\alpha & -\\sin\\alpha \\\\\n",
    "  \\sin\\alpha &  \\cos\\alpha\n",
    "  \\end{array}\\right)\n",
    "  \\left(\\begin{array}{c} x\\\\ y \\end{array}\\right)\\,.\n",
    "$$"
   ]
  },
  {
   "cell_type": "markdown",
   "metadata": {},
   "source": [
    "En aquest cas $\\alpha=\\dfrac{3\\pi}{4}$ i la matriu corresponent serà"
   ]
  },
  {
   "cell_type": "code",
   "execution_count": 29,
   "metadata": {},
   "outputs": [
    {
     "data": {
      "text/html": [
       "<html>\\(\\displaystyle \\left(\\begin{array}{rr}\n",
       "-\\frac{1}{2} \\, \\sqrt{2} & -\\frac{1}{2} \\, \\sqrt{2} \\\\\n",
       "\\frac{1}{2} \\, \\sqrt{2} & -\\frac{1}{2} \\, \\sqrt{2}\n",
       "\\end{array}\\right)\\)</html>"
      ],
      "text/latex": [
       "$\\displaystyle \\left(\\begin{array}{rr}\n",
       "-\\frac{1}{2} \\, \\sqrt{2} & -\\frac{1}{2} \\, \\sqrt{2} \\\\\n",
       "\\frac{1}{2} \\, \\sqrt{2} & -\\frac{1}{2} \\, \\sqrt{2}\n",
       "\\end{array}\\right)$"
      ],
      "text/plain": [
       "[-1/2*sqrt(2) -1/2*sqrt(2)]\n",
       "[ 1/2*sqrt(2) -1/2*sqrt(2)]"
      ]
     },
     "metadata": {},
     "output_type": "display_data"
    }
   ],
   "source": [
    "alfa = 3*pi/4\n",
    "A = matrix([[cos(alfa),-sin(alfa)],[sin(alfa),cos(alfa)]])\n",
    "show(A)"
   ]
  },
  {
   "cell_type": "markdown",
   "metadata": {},
   "source": [
    "La resta és com l'exercici 10:"
   ]
  },
  {
   "cell_type": "code",
   "execution_count": 30,
   "metadata": {},
   "outputs": [
    {
     "data": {
      "text/html": [
       "<html>\\(\\displaystyle \\left(\\begin{array}{rr}\n",
       "\\frac{1}{6} \\, \\sqrt{2} & \\frac{5}{6} \\, \\sqrt{2} \\\\\n",
       "-\\frac{5}{6} \\, \\sqrt{2} & -\\frac{7}{6} \\, \\sqrt{2}\n",
       "\\end{array}\\right)\\)</html>"
      ],
      "text/latex": [
       "$\\displaystyle \\left(\\begin{array}{rr}\n",
       "\\frac{1}{6} \\, \\sqrt{2} & \\frac{5}{6} \\, \\sqrt{2} \\\\\n",
       "-\\frac{5}{6} \\, \\sqrt{2} & -\\frac{7}{6} \\, \\sqrt{2}\n",
       "\\end{array}\\right)$"
      ],
      "text/plain": [
       "[ 1/6*sqrt(2)  5/6*sqrt(2)]\n",
       "[-5/6*sqrt(2) -7/6*sqrt(2)]"
      ]
     },
     "metadata": {},
     "output_type": "display_data"
    }
   ],
   "source": [
    "C = matrix([[1,2],[2,1]]).T\n",
    "A1 = C.inverse() * A * C\n",
    "show(A1)"
   ]
  },
  {
   "cell_type": "markdown",
   "metadata": {},
   "source": [
    "La representació del gir en la base $\\mathcal{B}'$ és\n",
    "$$ \n",
    "  \\left(\\begin{array}{c} u'\\\\ v' \\end{array}\\right) =\n",
    "  \\frac{\\sqrt{2}}{6}\\left(\\begin{array}{rr}\n",
    "   1 &  5 \\\\\n",
    "  -5 & -7 \\\\\n",
    "  \\end{array}\\right)\n",
    "  \\left(\\begin{array}{c} x'\\\\ y' \\end{array}\\right)\\,,\\qquad\\text{o bé,}\\qquad\n",
    "  \\left(\\begin{array}{c} u'\\\\ v' \\end{array}\\right) =\n",
    "  \\frac{1}{3\\sqrt{2}}\\left(\\begin{array}{rr}\n",
    "   1 &  5 \\\\\n",
    "  -5 & -7 \\\\\n",
    "  \\end{array}\\right)\n",
    "  \\left(\\begin{array}{c} x'\\\\ y' \\end{array}\\right)\\,.\n",
    "$$"
   ]
  },
  {
   "cell_type": "markdown",
   "metadata": {},
   "source": [
    "## Exercici 13\n",
    "Sigui $T$ l'escalat de factors 4 en la direcció de les $x$ i 3 en la direcció de les $y$ i $G$ el gir de $120^\\circ$.\n",
    "1. Trobeu la representació en la base canònica de la transformació lineal que consisten en aplicar primer l'escalat i després el gir.\n",
    "1. Representeu en què que es transforma el rectangle de vèrtexs $(-2,-1)$, $(2,-1)$, $(2,1)$ i $(-2,1)$. "
   ]
  },
  {
   "cell_type": "markdown",
   "metadata": {},
   "source": [
    "La representació en la base canònica de l'escalat i del gir són, repectivament,\n",
    "$$\n",
    "  \\left(\\begin{array}{c} u\\\\ v \\end{array}\\right)\n",
    "  =\\left(\\begin{array}{rr}\n",
    "   4 & 0 \\\\\n",
    "   0 & 3 \n",
    "  \\end{array}\\right)\n",
    "  \\left(\\begin{array}{c} x\\\\ y \\end{array}\\right)\\qquad\\text{i}\\qquad\n",
    "  \\left(\\begin{array}{c} u\\\\ v \\end{array}\\right)\n",
    "  =\\frac{1}{2}\\left(\\begin{array}{cc}\n",
    "     -1     & -\\sqrt{3} \\\\\n",
    "   \\sqrt{3} &    -1\n",
    "  \\end{array}\\right)\n",
    "  \\left(\\begin{array}{c} x\\\\ y \\end{array}\\right)\\,.\n",
    "$$\n",
    "Aleshores, si apliquem primer l'escalat i després el gir, tindrem que\n",
    "$$\n",
    "  \\left(\\begin{array}{c} u\\\\ v \\end{array}\\right)=\n",
    "  \\frac{1}{2}\\left(\\begin{array}{cc}\n",
    "     -1     & -\\sqrt{3} \\\\\n",
    "   \\sqrt{3} &    -1\n",
    "  \\end{array}\\right)\n",
    "  \\left(\\begin{array}{rr}\n",
    "   4 & 0 \\\\\n",
    "   0 & 3 \n",
    "  \\end{array}\\right)\n",
    "  \\left(\\begin{array}{c} x\\\\ y \\end{array}\\right)\n",
    "$$\n"
   ]
  },
  {
   "cell_type": "code",
   "execution_count": 31,
   "metadata": {},
   "outputs": [
    {
     "data": {
      "text/html": [
       "<html>\\(\\displaystyle \\left(\\begin{array}{rr}\n",
       "-2 & -\\frac{3}{2} \\, \\sqrt{3} \\\\\n",
       "2 \\, \\sqrt{3} & -\\frac{3}{2}\n",
       "\\end{array}\\right)\\)</html>"
      ],
      "text/latex": [
       "$\\displaystyle \\left(\\begin{array}{rr}\n",
       "-2 & -\\frac{3}{2} \\, \\sqrt{3} \\\\\n",
       "2 \\, \\sqrt{3} & -\\frac{3}{2}\n",
       "\\end{array}\\right)$"
      ],
      "text/plain": [
       "[          -2 -3/2*sqrt(3)]\n",
       "[   2*sqrt(3)         -3/2]"
      ]
     },
     "metadata": {},
     "output_type": "display_data"
    }
   ],
   "source": [
    "A1 = matrix([[4,0],[0,3]])\n",
    "alfa = 2*pi/3\n",
    "A2 = matrix([[cos(alfa),-sin(alfa)],[sin(alfa),cos(alfa)]])\n",
    "A = A2 * A1\n",
    "show(A)"
   ]
  },
  {
   "cell_type": "markdown",
   "metadata": {},
   "source": [
    "La representació en la base canònica de la transformació resultant és\n",
    "$$\n",
    "  \\left(\\begin{array}{c} u\\\\ v \\end{array}\\right) \n",
    "  =\\frac{1}{2}\\left(\\begin{array}{cc}\n",
    "     -4     & -3\\sqrt{3} \\\\\n",
    "   4\\sqrt{3} &    -3\n",
    "  \\end{array}\\right)\n",
    "  \\left(\\begin{array}{c} x\\\\ y \\end{array}\\right)\\,.\n",
    "$$"
   ]
  },
  {
   "cell_type": "code",
   "execution_count": 32,
   "metadata": {},
   "outputs": [
    {
     "data": {
      "image/svg+xml": [
       "<svg xmlns=\"http://www.w3.org/2000/svg\" xmlns:xlink=\"http://www.w3.org/1999/xlink\" version=\"1.1\" width=\"567.637796pt\" height=\"567.637796pt\" viewBox=\"340.228346 337.677165 567.637796 567.637796\">\n",
       "<defs>\n",
       "<path id=\"g0-0\" d=\"M7.878456-2.749689C8.081694-2.749689 8.296887-2.749689 8.296887-2.988792S8.081694-3.227895 7.878456-3.227895H1.41071C1.207472-3.227895 .992279-3.227895 .992279-2.988792S1.207472-2.749689 1.41071-2.749689H7.878456Z\"/>\n",
       "<path id=\"g1-49\" d=\"M3.443088-7.663263C3.443088-7.938232 3.443088-7.950187 3.203985-7.950187C2.917061-7.627397 2.319303-7.185056 1.08792-7.185056V-6.838356C1.362889-6.838356 1.960648-6.838356 2.618182-7.149191V-.920548C2.618182-.490162 2.582316-.3467 1.530262-.3467H1.159651V0C1.482441-.02391 2.642092-.02391 3.036613-.02391S4.578829-.02391 4.901619 0V-.3467H4.531009C3.478954-.3467 3.443088-.490162 3.443088-.920548V-7.663263Z\"/>\n",
       "<path id=\"g1-50\" d=\"M5.260274-2.008468H4.99726C4.961395-1.80523 4.865753-1.147696 4.746202-.956413C4.662516-.848817 3.981071-.848817 3.622416-.848817H1.41071C1.733499-1.123786 2.462765-1.888917 2.773599-2.175841C4.590785-3.849564 5.260274-4.471233 5.260274-5.654795C5.260274-7.029639 4.172354-7.950187 2.785554-7.950187S.585803-6.766625 .585803-5.738481C.585803-5.128767 1.111831-5.128767 1.147696-5.128767C1.398755-5.128767 1.709589-5.308095 1.709589-5.69066C1.709589-6.025405 1.482441-6.252553 1.147696-6.252553C1.0401-6.252553 1.016189-6.252553 .980324-6.240598C1.207472-7.053549 1.853051-7.603487 2.630137-7.603487C3.646326-7.603487 4.267995-6.75467 4.267995-5.654795C4.267995-4.638605 3.682192-3.753923 3.000747-2.988792L.585803-.286924V0H4.94944L5.260274-2.008468Z\"/>\n",
       "<path id=\"g1-51\" d=\"M2.199751-4.291905C1.996513-4.27995 1.948692-4.267995 1.948692-4.160399C1.948692-4.040847 2.008468-4.040847 2.223661-4.040847H2.773599C3.789788-4.040847 4.244085-3.203985 4.244085-2.056289C4.244085-.490162 3.431133-.071731 2.84533-.071731C2.271482-.071731 1.291158-.3467 .944458-1.135741C1.327024-1.075965 1.673724-1.291158 1.673724-1.721544C1.673724-2.068244 1.422665-2.307347 1.08792-2.307347C.800996-2.307347 .490162-2.139975 .490162-1.685679C.490162-.621669 1.554172 .251059 2.881196 .251059C4.303861 .251059 5.355915-.836862 5.355915-2.044334C5.355915-3.144209 4.471233-4.004981 3.323537-4.208219C4.363636-4.507098 5.033126-5.379826 5.033126-6.312329C5.033126-7.256787 4.052802-7.950187 2.893151-7.950187C1.697634-7.950187 .812951-7.220922 .812951-6.348194C.812951-5.869988 1.183562-5.774346 1.362889-5.774346C1.613948-5.774346 1.900872-5.953674 1.900872-6.312329C1.900872-6.694894 1.613948-6.862267 1.350934-6.862267C1.279203-6.862267 1.255293-6.862267 1.219427-6.850311C1.673724-7.663263 2.797509-7.663263 2.857285-7.663263C3.251806-7.663263 4.028892-7.483935 4.028892-6.312329C4.028892-6.085181 3.993026-5.415691 3.646326-4.901619C3.287671-4.375592 2.881196-4.339726 2.558406-4.327771L2.199751-4.291905Z\"/>\n",
       "<path id=\"g1-52\" d=\"M4.315816-7.782814C4.315816-8.009963 4.315816-8.069738 4.148443-8.069738C4.052802-8.069738 4.016936-8.069738 3.921295-7.926276L.32279-2.343213V-1.996513H3.466999V-.908593C3.466999-.466252 3.443088-.3467 2.570361-.3467H2.331258V0C2.606227-.02391 3.550685-.02391 3.88543-.02391S5.176588-.02391 5.451557 0V-.3467H5.212453C4.351681-.3467 4.315816-.466252 4.315816-.908593V-1.996513H5.523288V-2.343213H4.315816V-7.782814ZM3.526775-6.850311V-2.343213H.621669L3.526775-6.850311Z\"/>\n",
       "<path id=\"g1-53\" d=\"M1.530262-6.850311C2.044334-6.682939 2.462765-6.670984 2.594271-6.670984C3.945205-6.670984 4.805978-7.663263 4.805978-7.830635C4.805978-7.878456 4.782067-7.938232 4.710336-7.938232C4.686426-7.938232 4.662516-7.938232 4.554919-7.890411C3.88543-7.603487 3.311582-7.567621 3.000747-7.567621C2.211706-7.567621 1.649813-7.806725 1.422665-7.902366C1.338979-7.938232 1.315068-7.938232 1.303113-7.938232C1.207472-7.938232 1.207472-7.866501 1.207472-7.675218V-4.124533C1.207472-3.90934 1.207472-3.837609 1.350934-3.837609C1.41071-3.837609 1.422665-3.849564 1.542217-3.993026C1.876961-4.483188 2.438854-4.770112 3.036613-4.770112C3.670237-4.770112 3.981071-4.184309 4.076712-3.981071C4.27995-3.514819 4.291905-2.929016 4.291905-2.47472S4.291905-1.338979 3.957161-.800996C3.694147-.37061 3.227895-.071731 2.701868-.071731C1.912827-.071731 1.135741-.609714 .920548-1.482441C.980324-1.458531 1.052055-1.446575 1.111831-1.446575C1.315068-1.446575 1.637858-1.566127 1.637858-1.972603C1.637858-2.307347 1.41071-2.49863 1.111831-2.49863C.896638-2.49863 .585803-2.391034 .585803-1.924782C.585803-.908593 1.398755 .251059 2.725778 .251059C4.076712 .251059 5.260274-.884682 5.260274-2.402989C5.260274-3.825654 4.303861-5.009215 3.048568-5.009215C2.367123-5.009215 1.841096-4.710336 1.530262-4.375592V-6.850311Z\"/>\n",
       "<path id=\"g1-54\" d=\"M1.470486-4.160399C1.470486-7.185056 2.940971-7.663263 3.58655-7.663263C4.016936-7.663263 4.447323-7.531756 4.674471-7.173101C4.531009-7.173101 4.076712-7.173101 4.076712-6.682939C4.076712-6.419925 4.25604-6.192777 4.566874-6.192777C4.865753-6.192777 5.068991-6.372105 5.068991-6.718804C5.068991-7.340473 4.614695-7.950187 3.574595-7.950187C2.068244-7.950187 .490162-6.40797 .490162-3.777833C.490162-.490162 1.924782 .251059 2.940971 .251059C4.244085 .251059 5.355915-.884682 5.355915-2.438854C5.355915-4.028892 4.244085-5.092902 3.048568-5.092902C1.984558-5.092902 1.590037-4.172354 1.470486-3.837609V-4.160399ZM2.940971-.071731C2.187796-.071731 1.829141-.74122 1.721544-.992279C1.613948-1.303113 1.494396-1.888917 1.494396-2.725778C1.494396-3.670237 1.924782-4.853798 3.000747-4.853798C3.658281-4.853798 4.004981-4.411457 4.184309-4.004981C4.375592-3.56264 4.375592-2.964882 4.375592-2.450809C4.375592-1.841096 4.375592-1.303113 4.148443-.848817C3.849564-.274969 3.419178-.071731 2.940971-.071731Z\"/>\n",
       "<path id=\"g1-55\" d=\"M5.678705-7.424159V-7.699128H2.797509C1.350934-7.699128 1.327024-7.854545 1.279203-8.081694H1.016189L.645579-5.69066H.908593C.944458-5.905853 1.052055-6.647073 1.207472-6.77858C1.303113-6.850311 2.199751-6.850311 2.367123-6.850311H4.901619L3.634371-5.033126C3.311582-4.566874 2.10411-2.606227 2.10411-.358655C2.10411-.227148 2.10411 .251059 2.594271 .251059C3.096389 .251059 3.096389-.215193 3.096389-.37061V-.968369C3.096389-2.749689 3.383313-4.136488 3.945205-4.937484L5.678705-7.424159Z\"/>\n",
       "<path id=\"g1-56\" d=\"M3.56264-4.315816C4.160399-4.638605 5.033126-5.188543 5.033126-6.192777C5.033126-7.232877 4.028892-7.950187 2.929016-7.950187C1.745455-7.950187 .812951-7.07746 .812951-5.989539C.812951-5.583064 .932503-5.176588 1.267248-4.770112C1.398755-4.614695 1.41071-4.60274 2.247572-4.016936C1.08792-3.478954 .490162-2.677958 .490162-1.80523C.490162-.537983 1.697634 .251059 2.917061 .251059C4.244085 .251059 5.355915-.729265 5.355915-1.984558C5.355915-3.203985 4.495143-3.741968 3.56264-4.315816ZM1.936737-5.391781C1.78132-5.499377 1.303113-5.810212 1.303113-6.396015C1.303113-7.173101 2.116065-7.663263 2.917061-7.663263C3.777833-7.663263 4.542964-7.041594 4.542964-6.180822C4.542964-5.451557 4.016936-4.865753 3.323537-4.483188L1.936737-5.391781ZM2.49863-3.849564L3.945205-2.905106C4.25604-2.701868 4.805978-2.331258 4.805978-1.601993C4.805978-.6934 3.88543-.071731 2.929016-.071731C1.912827-.071731 1.0401-.812951 1.0401-1.80523C1.0401-2.737733 1.721544-3.490909 2.49863-3.849564Z\"/>\n",
       "<path id=\"g1-57\" d=\"M4.375592-3.478954C4.375592-.657534 3.120299-.071731 2.402989-.071731C2.116065-.071731 1.482441-.107597 1.183562-.526027H1.255293C1.338979-.502117 1.769365-.573848 1.769365-1.016189C1.769365-1.279203 1.590037-1.506351 1.279203-1.506351S.777086-1.303113 .777086-.992279C.777086-.251059 1.374844 .251059 2.414944 .251059C3.90934 .251059 5.355915-1.338979 5.355915-3.93325C5.355915-7.149191 4.016936-7.950187 2.964882-7.950187C1.649813-7.950187 .490162-6.850311 .490162-5.272229S1.601993-2.618182 2.797509-2.618182C3.682192-2.618182 4.136488-3.263761 4.375592-3.873474V-3.478954ZM2.84533-2.857285C2.092154-2.857285 1.769365-3.466999 1.661768-3.694147C1.470486-4.148443 1.470486-4.722291 1.470486-5.260274C1.470486-5.929763 1.470486-6.503611 1.78132-6.993773C1.996513-7.316563 2.319303-7.663263 2.964882-7.663263C3.646326-7.663263 3.993026-7.065504 4.112578-6.790535C4.351681-6.204732 4.351681-5.188543 4.351681-5.009215C4.351681-4.004981 3.897385-2.857285 2.84533-2.857285Z\"/>\n",
       "</defs>\n",
       "<g id=\"page1\">\n",
       "<g transform=\"translate(340.228 337.677)scale(.996264)\">\n",
       "<path d=\"M.355659 569.411V.355659\" fill=\"none\" stroke=\"#cccccc\" stroke-linecap=\"round\" stroke-linejoin=\"round\" stroke-miterlimit=\"10.0375\" stroke-width=\"0.426791\"/>\n",
       "</g>\n",
       "<g transform=\"translate(340.228 337.677)scale(.996264)\">\n",
       "<path d=\"M7.46885 569.411V.355659\" fill=\"none\" stroke=\"#cccccc\" stroke-dasharray=\"0,0.682969\" stroke-linecap=\"round\" stroke-linejoin=\"round\" stroke-miterlimit=\"10.0375\" stroke-width=\"0.170717\"/>\n",
       "</g>\n",
       "<g transform=\"translate(340.228 337.677)scale(.996264)\">\n",
       "<path d=\"M14.582 569.411V.355659\" fill=\"none\" stroke=\"#cccccc\" stroke-dasharray=\"0,0.682969\" stroke-linecap=\"round\" stroke-linejoin=\"round\" stroke-miterlimit=\"10.0375\" stroke-width=\"0.170717\"/>\n",
       "</g>\n",
       "<g transform=\"translate(340.228 337.677)scale(.996264)\">\n",
       "<path d=\"M21.6952 569.411V.355659\" fill=\"none\" stroke=\"#cccccc\" stroke-dasharray=\"0,0.682969\" stroke-linecap=\"round\" stroke-linejoin=\"round\" stroke-miterlimit=\"10.0375\" stroke-width=\"0.170717\"/>\n",
       "</g>\n",
       "<g transform=\"translate(340.228 337.677)scale(.996264)\">\n",
       "<path d=\"M28.8084 569.411V.355659\" fill=\"none\" stroke=\"#cccccc\" stroke-linecap=\"round\" stroke-linejoin=\"round\" stroke-miterlimit=\"10.0375\" stroke-width=\"0.426791\"/>\n",
       "</g>\n",
       "<g transform=\"translate(340.228 337.677)scale(.996264)\">\n",
       "<path d=\"M35.9216 569.411V.355659\" fill=\"none\" stroke=\"#cccccc\" stroke-dasharray=\"0,0.682969\" stroke-linecap=\"round\" stroke-linejoin=\"round\" stroke-miterlimit=\"10.0375\" stroke-width=\"0.170717\"/>\n",
       "</g>\n",
       "<g transform=\"translate(340.228 337.677)scale(.996264)\">\n",
       "<path d=\"M43.0348 569.411V.355659\" fill=\"none\" stroke=\"#cccccc\" stroke-dasharray=\"0,0.682969\" stroke-linecap=\"round\" stroke-linejoin=\"round\" stroke-miterlimit=\"10.0375\" stroke-width=\"0.170717\"/>\n",
       "</g>\n",
       "<g transform=\"translate(340.228 337.677)scale(.996264)\">\n",
       "<path d=\"M50.148 569.411V.355659\" fill=\"none\" stroke=\"#cccccc\" stroke-dasharray=\"0,0.682969\" stroke-linecap=\"round\" stroke-linejoin=\"round\" stroke-miterlimit=\"10.0375\" stroke-width=\"0.170717\"/>\n",
       "</g>\n",
       "<g transform=\"translate(340.228 337.677)scale(.996264)\">\n",
       "<path d=\"M57.2612 569.411V.355659\" fill=\"none\" stroke=\"#cccccc\" stroke-linecap=\"round\" stroke-linejoin=\"round\" stroke-miterlimit=\"10.0375\" stroke-width=\"0.426791\"/>\n",
       "</g>\n",
       "<g transform=\"translate(340.228 337.677)scale(.996264)\">\n",
       "<path d=\"M64.3744 569.411V.355659\" fill=\"none\" stroke=\"#cccccc\" stroke-dasharray=\"0,0.682969\" stroke-linecap=\"round\" stroke-linejoin=\"round\" stroke-miterlimit=\"10.0375\" stroke-width=\"0.170717\"/>\n",
       "</g>\n",
       "<g transform=\"translate(340.228 337.677)scale(.996264)\">\n",
       "<path d=\"M71.4875 569.411V.355659\" fill=\"none\" stroke=\"#cccccc\" stroke-dasharray=\"0,0.682969\" stroke-linecap=\"round\" stroke-linejoin=\"round\" stroke-miterlimit=\"10.0375\" stroke-width=\"0.170717\"/>\n",
       "</g>\n",
       "<g transform=\"translate(340.228 337.677)scale(.996264)\">\n",
       "<path d=\"M78.6007 569.411V.355659\" fill=\"none\" stroke=\"#cccccc\" stroke-dasharray=\"0,0.682969\" stroke-linecap=\"round\" stroke-linejoin=\"round\" stroke-miterlimit=\"10.0375\" stroke-width=\"0.170717\"/>\n",
       "</g>\n",
       "<g transform=\"translate(340.228 337.677)scale(.996264)\">\n",
       "<path d=\"M85.7139 569.411V.355659\" fill=\"none\" stroke=\"#cccccc\" stroke-linecap=\"round\" stroke-linejoin=\"round\" stroke-miterlimit=\"10.0375\" stroke-width=\"0.426791\"/>\n",
       "</g>\n",
       "<g transform=\"translate(340.228 337.677)scale(.996264)\">\n",
       "<path d=\"M92.8271 569.411V.355659\" fill=\"none\" stroke=\"#cccccc\" stroke-dasharray=\"0,0.682969\" stroke-linecap=\"round\" stroke-linejoin=\"round\" stroke-miterlimit=\"10.0375\" stroke-width=\"0.170717\"/>\n",
       "</g>\n",
       "<g transform=\"translate(340.228 337.677)scale(.996264)\">\n",
       "<path d=\"M99.9403 569.411V.355659\" fill=\"none\" stroke=\"#cccccc\" stroke-dasharray=\"0,0.682969\" stroke-linecap=\"round\" stroke-linejoin=\"round\" stroke-miterlimit=\"10.0375\" stroke-width=\"0.170717\"/>\n",
       "</g>\n",
       "<g transform=\"translate(340.228 337.677)scale(.996264)\">\n",
       "<path d=\"M107.053 569.411V.355659\" fill=\"none\" stroke=\"#cccccc\" stroke-dasharray=\"0,0.682969\" stroke-linecap=\"round\" stroke-linejoin=\"round\" stroke-miterlimit=\"10.0375\" stroke-width=\"0.170717\"/>\n",
       "</g>\n",
       "<g transform=\"translate(340.228 337.677)scale(.996264)\">\n",
       "<path d=\"M114.167 569.411V.355659\" fill=\"none\" stroke=\"#cccccc\" stroke-linecap=\"round\" stroke-linejoin=\"round\" stroke-miterlimit=\"10.0375\" stroke-width=\"0.426791\"/>\n",
       "</g>\n",
       "<g transform=\"translate(340.228 337.677)scale(.996264)\">\n",
       "<path d=\"M121.28 569.411V.355659\" fill=\"none\" stroke=\"#cccccc\" stroke-dasharray=\"0,0.682969\" stroke-linecap=\"round\" stroke-linejoin=\"round\" stroke-miterlimit=\"10.0375\" stroke-width=\"0.170717\"/>\n",
       "</g>\n",
       "<g transform=\"translate(340.228 337.677)scale(.996264)\">\n",
       "<path d=\"M128.393 569.411V.355659\" fill=\"none\" stroke=\"#cccccc\" stroke-dasharray=\"0,0.682969\" stroke-linecap=\"round\" stroke-linejoin=\"round\" stroke-miterlimit=\"10.0375\" stroke-width=\"0.170717\"/>\n",
       "</g>\n",
       "<g transform=\"translate(340.228 337.677)scale(.996264)\">\n",
       "<path d=\"M135.506 569.411V.355659\" fill=\"none\" stroke=\"#cccccc\" stroke-dasharray=\"0,0.682969\" stroke-linecap=\"round\" stroke-linejoin=\"round\" stroke-miterlimit=\"10.0375\" stroke-width=\"0.170717\"/>\n",
       "</g>\n",
       "<g transform=\"translate(340.228 337.677)scale(.996264)\">\n",
       "<path d=\"M142.619 569.411V.355659\" fill=\"none\" stroke=\"#cccccc\" stroke-linecap=\"round\" stroke-linejoin=\"round\" stroke-miterlimit=\"10.0375\" stroke-width=\"0.426791\"/>\n",
       "</g>\n",
       "<g transform=\"translate(340.228 337.677)scale(.996264)\">\n",
       "<path d=\"M149.733 569.411V.355659\" fill=\"none\" stroke=\"#cccccc\" stroke-dasharray=\"0,0.682969\" stroke-linecap=\"round\" stroke-linejoin=\"round\" stroke-miterlimit=\"10.0375\" stroke-width=\"0.170717\"/>\n",
       "</g>\n",
       "<g transform=\"translate(340.228 337.677)scale(.996264)\">\n",
       "<path d=\"M156.846 569.411V.355659\" fill=\"none\" stroke=\"#cccccc\" stroke-dasharray=\"0,0.682969\" stroke-linecap=\"round\" stroke-linejoin=\"round\" stroke-miterlimit=\"10.0375\" stroke-width=\"0.170717\"/>\n",
       "</g>\n",
       "<g transform=\"translate(340.228 337.677)scale(.996264)\">\n",
       "<path d=\"M163.959 569.411V.355659\" fill=\"none\" stroke=\"#cccccc\" stroke-dasharray=\"0,0.682969\" stroke-linecap=\"round\" stroke-linejoin=\"round\" stroke-miterlimit=\"10.0375\" stroke-width=\"0.170717\"/>\n",
       "</g>\n",
       "<g transform=\"translate(340.228 337.677)scale(.996264)\">\n",
       "<path d=\"M171.072 569.411V.355659\" fill=\"none\" stroke=\"#cccccc\" stroke-linecap=\"round\" stroke-linejoin=\"round\" stroke-miterlimit=\"10.0375\" stroke-width=\"0.426791\"/>\n",
       "</g>\n",
       "<g transform=\"translate(340.228 337.677)scale(.996264)\">\n",
       "<path d=\"M178.185 569.411V.355659\" fill=\"none\" stroke=\"#cccccc\" stroke-dasharray=\"0,0.682969\" stroke-linecap=\"round\" stroke-linejoin=\"round\" stroke-miterlimit=\"10.0375\" stroke-width=\"0.170717\"/>\n",
       "</g>\n",
       "<g transform=\"translate(340.228 337.677)scale(.996264)\">\n",
       "<path d=\"M185.299 569.411V.355659\" fill=\"none\" stroke=\"#cccccc\" stroke-dasharray=\"0,0.682969\" stroke-linecap=\"round\" stroke-linejoin=\"round\" stroke-miterlimit=\"10.0375\" stroke-width=\"0.170717\"/>\n",
       "</g>\n",
       "<g transform=\"translate(340.228 337.677)scale(.996264)\">\n",
       "<path d=\"M192.412 569.411V.355659\" fill=\"none\" stroke=\"#cccccc\" stroke-dasharray=\"0,0.682969\" stroke-linecap=\"round\" stroke-linejoin=\"round\" stroke-miterlimit=\"10.0375\" stroke-width=\"0.170717\"/>\n",
       "</g>\n",
       "<g transform=\"translate(340.228 337.677)scale(.996264)\">\n",
       "<path d=\"M199.525 569.411V.355659\" fill=\"none\" stroke=\"#cccccc\" stroke-linecap=\"round\" stroke-linejoin=\"round\" stroke-miterlimit=\"10.0375\" stroke-width=\"0.426791\"/>\n",
       "</g>\n",
       "<g transform=\"translate(340.228 337.677)scale(.996264)\">\n",
       "<path d=\"M206.638 569.411V.355659\" fill=\"none\" stroke=\"#cccccc\" stroke-dasharray=\"0,0.682969\" stroke-linecap=\"round\" stroke-linejoin=\"round\" stroke-miterlimit=\"10.0375\" stroke-width=\"0.170717\"/>\n",
       "</g>\n",
       "<g transform=\"translate(340.228 337.677)scale(.996264)\">\n",
       "<path d=\"M213.751 569.411V.355659\" fill=\"none\" stroke=\"#cccccc\" stroke-dasharray=\"0,0.682969\" stroke-linecap=\"round\" stroke-linejoin=\"round\" stroke-miterlimit=\"10.0375\" stroke-width=\"0.170717\"/>\n",
       "</g>\n",
       "<g transform=\"translate(340.228 337.677)scale(.996264)\">\n",
       "<path d=\"M220.865 569.411V.355659\" fill=\"none\" stroke=\"#cccccc\" stroke-dasharray=\"0,0.682969\" stroke-linecap=\"round\" stroke-linejoin=\"round\" stroke-miterlimit=\"10.0375\" stroke-width=\"0.170717\"/>\n",
       "</g>\n",
       "<g transform=\"translate(340.228 337.677)scale(.996264)\">\n",
       "<path d=\"M227.978 569.411V.355659\" fill=\"none\" stroke=\"#cccccc\" stroke-linecap=\"round\" stroke-linejoin=\"round\" stroke-miterlimit=\"10.0375\" stroke-width=\"0.426791\"/>\n",
       "</g>\n",
       "<g transform=\"translate(340.228 337.677)scale(.996264)\">\n",
       "<path d=\"M235.091 569.411V.355659\" fill=\"none\" stroke=\"#cccccc\" stroke-dasharray=\"0,0.682969\" stroke-linecap=\"round\" stroke-linejoin=\"round\" stroke-miterlimit=\"10.0375\" stroke-width=\"0.170717\"/>\n",
       "</g>\n",
       "<g transform=\"translate(340.228 337.677)scale(.996264)\">\n",
       "<path d=\"M242.204 569.411V.355659\" fill=\"none\" stroke=\"#cccccc\" stroke-dasharray=\"0,0.682969\" stroke-linecap=\"round\" stroke-linejoin=\"round\" stroke-miterlimit=\"10.0375\" stroke-width=\"0.170717\"/>\n",
       "</g>\n",
       "<g transform=\"translate(340.228 337.677)scale(.996264)\">\n",
       "<path d=\"M249.317 569.411V.355659\" fill=\"none\" stroke=\"#cccccc\" stroke-dasharray=\"0,0.682969\" stroke-linecap=\"round\" stroke-linejoin=\"round\" stroke-miterlimit=\"10.0375\" stroke-width=\"0.170717\"/>\n",
       "</g>\n",
       "<g transform=\"translate(340.228 337.677)scale(.996264)\">\n",
       "<path d=\"M256.43 569.411V.355659\" fill=\"none\" stroke=\"#cccccc\" stroke-linecap=\"round\" stroke-linejoin=\"round\" stroke-miterlimit=\"10.0375\" stroke-width=\"0.426791\"/>\n",
       "</g>\n",
       "<g transform=\"translate(340.228 337.677)scale(.996264)\">\n",
       "<path d=\"M263.544 569.411V.355659\" fill=\"none\" stroke=\"#cccccc\" stroke-dasharray=\"0,0.682969\" stroke-linecap=\"round\" stroke-linejoin=\"round\" stroke-miterlimit=\"10.0375\" stroke-width=\"0.170717\"/>\n",
       "</g>\n",
       "<g transform=\"translate(340.228 337.677)scale(.996264)\">\n",
       "<path d=\"M270.657 569.411V.355659\" fill=\"none\" stroke=\"#cccccc\" stroke-dasharray=\"0,0.682969\" stroke-linecap=\"round\" stroke-linejoin=\"round\" stroke-miterlimit=\"10.0375\" stroke-width=\"0.170717\"/>\n",
       "</g>\n",
       "<g transform=\"translate(340.228 337.677)scale(.996264)\">\n",
       "<path d=\"M277.77 569.411V.355659\" fill=\"none\" stroke=\"#cccccc\" stroke-dasharray=\"0,0.682969\" stroke-linecap=\"round\" stroke-linejoin=\"round\" stroke-miterlimit=\"10.0375\" stroke-width=\"0.170717\"/>\n",
       "</g>\n",
       "<g transform=\"translate(340.228 337.677)scale(.996264)\">\n",
       "<path d=\"M284.883 569.411V.355659\" fill=\"none\" stroke=\"#cccccc\" stroke-linecap=\"round\" stroke-linejoin=\"round\" stroke-miterlimit=\"10.0375\" stroke-width=\"0.426791\"/>\n",
       "</g>\n",
       "<g transform=\"translate(340.228 337.677)scale(.996264)\">\n",
       "<path d=\"M291.996 569.411V.355659\" fill=\"none\" stroke=\"#cccccc\" stroke-dasharray=\"0,0.682969\" stroke-linecap=\"round\" stroke-linejoin=\"round\" stroke-miterlimit=\"10.0375\" stroke-width=\"0.170717\"/>\n",
       "</g>\n",
       "<g transform=\"translate(340.228 337.677)scale(.996264)\">\n",
       "<path d=\"M299.11 569.411V.355659\" fill=\"none\" stroke=\"#cccccc\" stroke-dasharray=\"0,0.682969\" stroke-linecap=\"round\" stroke-linejoin=\"round\" stroke-miterlimit=\"10.0375\" stroke-width=\"0.170717\"/>\n",
       "</g>\n",
       "<g transform=\"translate(340.228 337.677)scale(.996264)\">\n",
       "<path d=\"M306.223 569.411V.355659\" fill=\"none\" stroke=\"#cccccc\" stroke-dasharray=\"0,0.682969\" stroke-linecap=\"round\" stroke-linejoin=\"round\" stroke-miterlimit=\"10.0375\" stroke-width=\"0.170717\"/>\n",
       "</g>\n",
       "<g transform=\"translate(340.228 337.677)scale(.996264)\">\n",
       "<path d=\"M313.336 569.411V.355659\" fill=\"none\" stroke=\"#cccccc\" stroke-linecap=\"round\" stroke-linejoin=\"round\" stroke-miterlimit=\"10.0375\" stroke-width=\"0.426791\"/>\n",
       "</g>\n",
       "<g transform=\"translate(340.228 337.677)scale(.996264)\">\n",
       "<path d=\"M320.449 569.411V.355659\" fill=\"none\" stroke=\"#cccccc\" stroke-dasharray=\"0,0.682969\" stroke-linecap=\"round\" stroke-linejoin=\"round\" stroke-miterlimit=\"10.0375\" stroke-width=\"0.170717\"/>\n",
       "</g>\n",
       "<g transform=\"translate(340.228 337.677)scale(.996264)\">\n",
       "<path d=\"M327.562 569.411V.355659\" fill=\"none\" stroke=\"#cccccc\" stroke-dasharray=\"0,0.682969\" stroke-linecap=\"round\" stroke-linejoin=\"round\" stroke-miterlimit=\"10.0375\" stroke-width=\"0.170717\"/>\n",
       "</g>\n",
       "<g transform=\"translate(340.228 337.677)scale(.996264)\">\n",
       "<path d=\"M334.676 569.411V.355659\" fill=\"none\" stroke=\"#cccccc\" stroke-dasharray=\"0,0.682969\" stroke-linecap=\"round\" stroke-linejoin=\"round\" stroke-miterlimit=\"10.0375\" stroke-width=\"0.170717\"/>\n",
       "</g>\n",
       "<g transform=\"translate(340.228 337.677)scale(.996264)\">\n",
       "<path d=\"M341.789 569.411V.355659\" fill=\"none\" stroke=\"#cccccc\" stroke-linecap=\"round\" stroke-linejoin=\"round\" stroke-miterlimit=\"10.0375\" stroke-width=\"0.426791\"/>\n",
       "</g>\n",
       "<g transform=\"translate(340.228 337.677)scale(.996264)\">\n",
       "<path d=\"M348.902 569.411V.355659\" fill=\"none\" stroke=\"#cccccc\" stroke-dasharray=\"0,0.682969\" stroke-linecap=\"round\" stroke-linejoin=\"round\" stroke-miterlimit=\"10.0375\" stroke-width=\"0.170717\"/>\n",
       "</g>\n",
       "<g transform=\"translate(340.228 337.677)scale(.996264)\">\n",
       "<path d=\"M356.015 569.411V.355659\" fill=\"none\" stroke=\"#cccccc\" stroke-dasharray=\"0,0.682969\" stroke-linecap=\"round\" stroke-linejoin=\"round\" stroke-miterlimit=\"10.0375\" stroke-width=\"0.170717\"/>\n",
       "</g>\n",
       "<g transform=\"translate(340.228 337.677)scale(.996264)\">\n",
       "<path d=\"M363.128 569.411V.355659\" fill=\"none\" stroke=\"#cccccc\" stroke-dasharray=\"0,0.682969\" stroke-linecap=\"round\" stroke-linejoin=\"round\" stroke-miterlimit=\"10.0375\" stroke-width=\"0.170717\"/>\n",
       "</g>\n",
       "<g transform=\"translate(340.228 337.677)scale(.996264)\">\n",
       "<path d=\"M370.241 569.411V.355659\" fill=\"none\" stroke=\"#cccccc\" stroke-linecap=\"round\" stroke-linejoin=\"round\" stroke-miterlimit=\"10.0375\" stroke-width=\"0.426791\"/>\n",
       "</g>\n",
       "<g transform=\"translate(340.228 337.677)scale(.996264)\">\n",
       "<path d=\"M377.355 569.411V.355659\" fill=\"none\" stroke=\"#cccccc\" stroke-dasharray=\"0,0.682969\" stroke-linecap=\"round\" stroke-linejoin=\"round\" stroke-miterlimit=\"10.0375\" stroke-width=\"0.170717\"/>\n",
       "</g>\n",
       "<g transform=\"translate(340.228 337.677)scale(.996264)\">\n",
       "<path d=\"M384.468 569.411V.355659\" fill=\"none\" stroke=\"#cccccc\" stroke-dasharray=\"0,0.682969\" stroke-linecap=\"round\" stroke-linejoin=\"round\" stroke-miterlimit=\"10.0375\" stroke-width=\"0.170717\"/>\n",
       "</g>\n",
       "<g transform=\"translate(340.228 337.677)scale(.996264)\">\n",
       "<path d=\"M391.581 569.411V.355659\" fill=\"none\" stroke=\"#cccccc\" stroke-dasharray=\"0,0.682969\" stroke-linecap=\"round\" stroke-linejoin=\"round\" stroke-miterlimit=\"10.0375\" stroke-width=\"0.170717\"/>\n",
       "</g>\n",
       "<g transform=\"translate(340.228 337.677)scale(.996264)\">\n",
       "<path d=\"M398.694 569.411V.355659\" fill=\"none\" stroke=\"#cccccc\" stroke-linecap=\"round\" stroke-linejoin=\"round\" stroke-miterlimit=\"10.0375\" stroke-width=\"0.426791\"/>\n",
       "</g>\n",
       "<g transform=\"translate(340.228 337.677)scale(.996264)\">\n",
       "<path d=\"M405.807 569.411V.355659\" fill=\"none\" stroke=\"#cccccc\" stroke-dasharray=\"0,0.682969\" stroke-linecap=\"round\" stroke-linejoin=\"round\" stroke-miterlimit=\"10.0375\" stroke-width=\"0.170717\"/>\n",
       "</g>\n",
       "<g transform=\"translate(340.228 337.677)scale(.996264)\">\n",
       "<path d=\"M412.921 569.411V.355659\" fill=\"none\" stroke=\"#cccccc\" stroke-dasharray=\"0,0.682969\" stroke-linecap=\"round\" stroke-linejoin=\"round\" stroke-miterlimit=\"10.0375\" stroke-width=\"0.170717\"/>\n",
       "</g>\n",
       "<g transform=\"translate(340.228 337.677)scale(.996264)\">\n",
       "<path d=\"M420.034 569.411V.355659\" fill=\"none\" stroke=\"#cccccc\" stroke-dasharray=\"0,0.682969\" stroke-linecap=\"round\" stroke-linejoin=\"round\" stroke-miterlimit=\"10.0375\" stroke-width=\"0.170717\"/>\n",
       "</g>\n",
       "<g transform=\"translate(340.228 337.677)scale(.996264)\">\n",
       "<path d=\"M427.147 569.411V.355659\" fill=\"none\" stroke=\"#cccccc\" stroke-linecap=\"round\" stroke-linejoin=\"round\" stroke-miterlimit=\"10.0375\" stroke-width=\"0.426791\"/>\n",
       "</g>\n",
       "<g transform=\"translate(340.228 337.677)scale(.996264)\">\n",
       "<path d=\"M434.26 569.411V.355659\" fill=\"none\" stroke=\"#cccccc\" stroke-dasharray=\"0,0.682969\" stroke-linecap=\"round\" stroke-linejoin=\"round\" stroke-miterlimit=\"10.0375\" stroke-width=\"0.170717\"/>\n",
       "</g>\n",
       "<g transform=\"translate(340.228 337.677)scale(.996264)\">\n",
       "<path d=\"M441.373 569.411V.355659\" fill=\"none\" stroke=\"#cccccc\" stroke-dasharray=\"0,0.682969\" stroke-linecap=\"round\" stroke-linejoin=\"round\" stroke-miterlimit=\"10.0375\" stroke-width=\"0.170717\"/>\n",
       "</g>\n",
       "<g transform=\"translate(340.228 337.677)scale(.996264)\">\n",
       "<path d=\"M448.487 569.411V.355659\" fill=\"none\" stroke=\"#cccccc\" stroke-dasharray=\"0,0.682969\" stroke-linecap=\"round\" stroke-linejoin=\"round\" stroke-miterlimit=\"10.0375\" stroke-width=\"0.170717\"/>\n",
       "</g>\n",
       "<g transform=\"translate(340.228 337.677)scale(.996264)\">\n",
       "<path d=\"M455.6 569.411V.355659\" fill=\"none\" stroke=\"#cccccc\" stroke-linecap=\"round\" stroke-linejoin=\"round\" stroke-miterlimit=\"10.0375\" stroke-width=\"0.426791\"/>\n",
       "</g>\n",
       "<g transform=\"translate(340.228 337.677)scale(.996264)\">\n",
       "<path d=\"M462.713 569.411V.355659\" fill=\"none\" stroke=\"#cccccc\" stroke-dasharray=\"0,0.682969\" stroke-linecap=\"round\" stroke-linejoin=\"round\" stroke-miterlimit=\"10.0375\" stroke-width=\"0.170717\"/>\n",
       "</g>\n",
       "<g transform=\"translate(340.228 337.677)scale(.996264)\">\n",
       "<path d=\"M469.826 569.411V.355659\" fill=\"none\" stroke=\"#cccccc\" stroke-dasharray=\"0,0.682969\" stroke-linecap=\"round\" stroke-linejoin=\"round\" stroke-miterlimit=\"10.0375\" stroke-width=\"0.170717\"/>\n",
       "</g>\n",
       "<g transform=\"translate(340.228 337.677)scale(.996264)\">\n",
       "<path d=\"M476.939 569.411V.355659\" fill=\"none\" stroke=\"#cccccc\" stroke-dasharray=\"0,0.682969\" stroke-linecap=\"round\" stroke-linejoin=\"round\" stroke-miterlimit=\"10.0375\" stroke-width=\"0.170717\"/>\n",
       "</g>\n",
       "<g transform=\"translate(340.228 337.677)scale(.996264)\">\n",
       "<path d=\"M484.053 569.411V.355659\" fill=\"none\" stroke=\"#cccccc\" stroke-linecap=\"round\" stroke-linejoin=\"round\" stroke-miterlimit=\"10.0375\" stroke-width=\"0.426791\"/>\n",
       "</g>\n",
       "<g transform=\"translate(340.228 337.677)scale(.996264)\">\n",
       "<path d=\"M491.166 569.411V.355659\" fill=\"none\" stroke=\"#cccccc\" stroke-dasharray=\"0,0.682969\" stroke-linecap=\"round\" stroke-linejoin=\"round\" stroke-miterlimit=\"10.0375\" stroke-width=\"0.170717\"/>\n",
       "</g>\n",
       "<g transform=\"translate(340.228 337.677)scale(.996264)\">\n",
       "<path d=\"M498.279 569.411V.355659\" fill=\"none\" stroke=\"#cccccc\" stroke-dasharray=\"0,0.682969\" stroke-linecap=\"round\" stroke-linejoin=\"round\" stroke-miterlimit=\"10.0375\" stroke-width=\"0.170717\"/>\n",
       "</g>\n",
       "<g transform=\"translate(340.228 337.677)scale(.996264)\">\n",
       "<path d=\"M505.392 569.411V.355659\" fill=\"none\" stroke=\"#cccccc\" stroke-dasharray=\"0,0.682969\" stroke-linecap=\"round\" stroke-linejoin=\"round\" stroke-miterlimit=\"10.0375\" stroke-width=\"0.170717\"/>\n",
       "</g>\n",
       "<g transform=\"translate(340.228 337.677)scale(.996264)\">\n",
       "<path d=\"M512.505 569.411V.355659\" fill=\"none\" stroke=\"#cccccc\" stroke-linecap=\"round\" stroke-linejoin=\"round\" stroke-miterlimit=\"10.0375\" stroke-width=\"0.426791\"/>\n",
       "</g>\n",
       "<g transform=\"translate(340.228 337.677)scale(.996264)\">\n",
       "<path d=\"M519.618 569.411V.355659\" fill=\"none\" stroke=\"#cccccc\" stroke-dasharray=\"0,0.682969\" stroke-linecap=\"round\" stroke-linejoin=\"round\" stroke-miterlimit=\"10.0375\" stroke-width=\"0.170717\"/>\n",
       "</g>\n",
       "<g transform=\"translate(340.228 337.677)scale(.996264)\">\n",
       "<path d=\"M526.732 569.411V.355659\" fill=\"none\" stroke=\"#cccccc\" stroke-dasharray=\"0,0.682969\" stroke-linecap=\"round\" stroke-linejoin=\"round\" stroke-miterlimit=\"10.0375\" stroke-width=\"0.170717\"/>\n",
       "</g>\n",
       "<g transform=\"translate(340.228 337.677)scale(.996264)\">\n",
       "<path d=\"M533.845 569.411V.355659\" fill=\"none\" stroke=\"#cccccc\" stroke-dasharray=\"0,0.682969\" stroke-linecap=\"round\" stroke-linejoin=\"round\" stroke-miterlimit=\"10.0375\" stroke-width=\"0.170717\"/>\n",
       "</g>\n",
       "<g transform=\"translate(340.228 337.677)scale(.996264)\">\n",
       "<path d=\"M540.958 569.411V.355659\" fill=\"none\" stroke=\"#cccccc\" stroke-linecap=\"round\" stroke-linejoin=\"round\" stroke-miterlimit=\"10.0375\" stroke-width=\"0.426791\"/>\n",
       "</g>\n",
       "<g transform=\"translate(340.228 337.677)scale(.996264)\">\n",
       "<path d=\"M548.071 569.411V.355659\" fill=\"none\" stroke=\"#cccccc\" stroke-dasharray=\"0,0.682969\" stroke-linecap=\"round\" stroke-linejoin=\"round\" stroke-miterlimit=\"10.0375\" stroke-width=\"0.170717\"/>\n",
       "</g>\n",
       "<g transform=\"translate(340.228 337.677)scale(.996264)\">\n",
       "<path d=\"M555.184 569.411V.355659\" fill=\"none\" stroke=\"#cccccc\" stroke-dasharray=\"0,0.682969\" stroke-linecap=\"round\" stroke-linejoin=\"round\" stroke-miterlimit=\"10.0375\" stroke-width=\"0.170717\"/>\n",
       "</g>\n",
       "<g transform=\"translate(340.228 337.677)scale(.996264)\">\n",
       "<path d=\"M562.298 569.411V.355659\" fill=\"none\" stroke=\"#cccccc\" stroke-dasharray=\"0,0.682969\" stroke-linecap=\"round\" stroke-linejoin=\"round\" stroke-miterlimit=\"10.0375\" stroke-width=\"0.170717\"/>\n",
       "</g>\n",
       "<g transform=\"translate(340.228 337.677)scale(.996264)\">\n",
       "<path d=\"M569.411 569.411V.355659\" fill=\"none\" stroke=\"#cccccc\" stroke-linecap=\"round\" stroke-linejoin=\"round\" stroke-miterlimit=\"10.0375\" stroke-width=\"0.426791\"/>\n",
       "</g>\n",
       "<g transform=\"translate(340.228 337.677)scale(.996264)\">\n",
       "<path d=\"M.355659 569.411H569.411\" fill=\"none\" stroke=\"#cccccc\" stroke-linecap=\"round\" stroke-linejoin=\"round\" stroke-miterlimit=\"10.0375\" stroke-width=\"0.426791\"/>\n",
       "</g>\n",
       "<g transform=\"translate(340.228 337.677)scale(.996264)\">\n",
       "<path d=\"M.355659 562.298H569.411\" fill=\"none\" stroke=\"#cccccc\" stroke-dasharray=\"0,0.682969\" stroke-linecap=\"round\" stroke-linejoin=\"round\" stroke-miterlimit=\"10.0375\" stroke-width=\"0.170717\"/>\n",
       "</g>\n",
       "<g transform=\"translate(340.228 337.677)scale(.996264)\">\n",
       "<path d=\"M.355659 555.184H569.411\" fill=\"none\" stroke=\"#cccccc\" stroke-dasharray=\"0,0.682969\" stroke-linecap=\"round\" stroke-linejoin=\"round\" stroke-miterlimit=\"10.0375\" stroke-width=\"0.170717\"/>\n",
       "</g>\n",
       "<g transform=\"translate(340.228 337.677)scale(.996264)\">\n",
       "<path d=\"M.355659 548.071H569.411\" fill=\"none\" stroke=\"#cccccc\" stroke-dasharray=\"0,0.682969\" stroke-linecap=\"round\" stroke-linejoin=\"round\" stroke-miterlimit=\"10.0375\" stroke-width=\"0.170717\"/>\n",
       "</g>\n",
       "<g transform=\"translate(340.228 337.677)scale(.996264)\">\n",
       "<path d=\"M.355659 540.958H569.411\" fill=\"none\" stroke=\"#cccccc\" stroke-dasharray=\"0,0.682969\" stroke-linecap=\"round\" stroke-linejoin=\"round\" stroke-miterlimit=\"10.0375\" stroke-width=\"0.170717\"/>\n",
       "</g>\n",
       "<g transform=\"translate(340.228 337.677)scale(.996264)\">\n",
       "<path d=\"M.355659 540.958H569.411\" fill=\"none\" stroke=\"#cccccc\" stroke-linecap=\"round\" stroke-linejoin=\"round\" stroke-miterlimit=\"10.0375\" stroke-width=\"0.426791\"/>\n",
       "</g>\n",
       "<g transform=\"translate(340.228 337.677)scale(.996264)\">\n",
       "<path d=\"M.355659 533.845H569.411\" fill=\"none\" stroke=\"#cccccc\" stroke-dasharray=\"0,0.682969\" stroke-linecap=\"round\" stroke-linejoin=\"round\" stroke-miterlimit=\"10.0375\" stroke-width=\"0.170717\"/>\n",
       "</g>\n",
       "<g transform=\"translate(340.228 337.677)scale(.996264)\">\n",
       "<path d=\"M.355659 526.732H569.411\" fill=\"none\" stroke=\"#cccccc\" stroke-dasharray=\"0,0.682969\" stroke-linecap=\"round\" stroke-linejoin=\"round\" stroke-miterlimit=\"10.0375\" stroke-width=\"0.170717\"/>\n",
       "</g>\n",
       "<g transform=\"translate(340.228 337.677)scale(.996264)\">\n",
       "<path d=\"M.355659 519.618H569.411\" fill=\"none\" stroke=\"#cccccc\" stroke-dasharray=\"0,0.682969\" stroke-linecap=\"round\" stroke-linejoin=\"round\" stroke-miterlimit=\"10.0375\" stroke-width=\"0.170717\"/>\n",
       "</g>\n",
       "<g transform=\"translate(340.228 337.677)scale(.996264)\">\n",
       "<path d=\"M.355659 512.505H569.411\" fill=\"none\" stroke=\"#cccccc\" stroke-dasharray=\"0,0.682969\" stroke-linecap=\"round\" stroke-linejoin=\"round\" stroke-miterlimit=\"10.0375\" stroke-width=\"0.170717\"/>\n",
       "</g>\n",
       "<g transform=\"translate(340.228 337.677)scale(.996264)\">\n",
       "<path d=\"M.355659 512.505H569.411\" fill=\"none\" stroke=\"#cccccc\" stroke-linecap=\"round\" stroke-linejoin=\"round\" stroke-miterlimit=\"10.0375\" stroke-width=\"0.426791\"/>\n",
       "</g>\n",
       "<g transform=\"translate(340.228 337.677)scale(.996264)\">\n",
       "<path d=\"M.355659 505.392H569.411\" fill=\"none\" stroke=\"#cccccc\" stroke-dasharray=\"0,0.682969\" stroke-linecap=\"round\" stroke-linejoin=\"round\" stroke-miterlimit=\"10.0375\" stroke-width=\"0.170717\"/>\n",
       "</g>\n",
       "<g transform=\"translate(340.228 337.677)scale(.996264)\">\n",
       "<path d=\"M.355659 498.279H569.411\" fill=\"none\" stroke=\"#cccccc\" stroke-dasharray=\"0,0.682969\" stroke-linecap=\"round\" stroke-linejoin=\"round\" stroke-miterlimit=\"10.0375\" stroke-width=\"0.170717\"/>\n",
       "</g>\n",
       "<g transform=\"translate(340.228 337.677)scale(.996264)\">\n",
       "<path d=\"M.355659 491.166H569.411\" fill=\"none\" stroke=\"#cccccc\" stroke-dasharray=\"0,0.682969\" stroke-linecap=\"round\" stroke-linejoin=\"round\" stroke-miterlimit=\"10.0375\" stroke-width=\"0.170717\"/>\n",
       "</g>\n",
       "<g transform=\"translate(340.228 337.677)scale(.996264)\">\n",
       "<path d=\"M.355659 484.053H569.411\" fill=\"none\" stroke=\"#cccccc\" stroke-dasharray=\"0,0.682969\" stroke-linecap=\"round\" stroke-linejoin=\"round\" stroke-miterlimit=\"10.0375\" stroke-width=\"0.170717\"/>\n",
       "</g>\n",
       "<g transform=\"translate(340.228 337.677)scale(.996264)\">\n",
       "<path d=\"M.355659 484.053H569.411\" fill=\"none\" stroke=\"#cccccc\" stroke-linecap=\"round\" stroke-linejoin=\"round\" stroke-miterlimit=\"10.0375\" stroke-width=\"0.426791\"/>\n",
       "</g>\n",
       "<g transform=\"translate(340.228 337.677)scale(.996264)\">\n",
       "<path d=\"M.355659 476.939H569.411\" fill=\"none\" stroke=\"#cccccc\" stroke-dasharray=\"0,0.682969\" stroke-linecap=\"round\" stroke-linejoin=\"round\" stroke-miterlimit=\"10.0375\" stroke-width=\"0.170717\"/>\n",
       "</g>\n",
       "<g transform=\"translate(340.228 337.677)scale(.996264)\">\n",
       "<path d=\"M.355659 469.826H569.411\" fill=\"none\" stroke=\"#cccccc\" stroke-dasharray=\"0,0.682969\" stroke-linecap=\"round\" stroke-linejoin=\"round\" stroke-miterlimit=\"10.0375\" stroke-width=\"0.170717\"/>\n",
       "</g>\n",
       "<g transform=\"translate(340.228 337.677)scale(.996264)\">\n",
       "<path d=\"M.355659 462.713H569.411\" fill=\"none\" stroke=\"#cccccc\" stroke-dasharray=\"0,0.682969\" stroke-linecap=\"round\" stroke-linejoin=\"round\" stroke-miterlimit=\"10.0375\" stroke-width=\"0.170717\"/>\n",
       "</g>\n",
       "<g transform=\"translate(340.228 337.677)scale(.996264)\">\n",
       "<path d=\"M.355659 455.6H569.411\" fill=\"none\" stroke=\"#cccccc\" stroke-dasharray=\"0,0.682969\" stroke-linecap=\"round\" stroke-linejoin=\"round\" stroke-miterlimit=\"10.0375\" stroke-width=\"0.170717\"/>\n",
       "</g>\n",
       "<g transform=\"translate(340.228 337.677)scale(.996264)\">\n",
       "<path d=\"M.355659 455.6H569.411\" fill=\"none\" stroke=\"#cccccc\" stroke-linecap=\"round\" stroke-linejoin=\"round\" stroke-miterlimit=\"10.0375\" stroke-width=\"0.426791\"/>\n",
       "</g>\n",
       "<g transform=\"translate(340.228 337.677)scale(.996264)\">\n",
       "<path d=\"M.355659 448.487H569.411\" fill=\"none\" stroke=\"#cccccc\" stroke-dasharray=\"0,0.682969\" stroke-linecap=\"round\" stroke-linejoin=\"round\" stroke-miterlimit=\"10.0375\" stroke-width=\"0.170717\"/>\n",
       "</g>\n",
       "<g transform=\"translate(340.228 337.677)scale(.996264)\">\n",
       "<path d=\"M.355659 441.373H569.411\" fill=\"none\" stroke=\"#cccccc\" stroke-dasharray=\"0,0.682969\" stroke-linecap=\"round\" stroke-linejoin=\"round\" stroke-miterlimit=\"10.0375\" stroke-width=\"0.170717\"/>\n",
       "</g>\n",
       "<g transform=\"translate(340.228 337.677)scale(.996264)\">\n",
       "<path d=\"M.355659 434.26H569.411\" fill=\"none\" stroke=\"#cccccc\" stroke-dasharray=\"0,0.682969\" stroke-linecap=\"round\" stroke-linejoin=\"round\" stroke-miterlimit=\"10.0375\" stroke-width=\"0.170717\"/>\n",
       "</g>\n",
       "<g transform=\"translate(340.228 337.677)scale(.996264)\">\n",
       "<path d=\"M.355659 427.147H569.411\" fill=\"none\" stroke=\"#cccccc\" stroke-dasharray=\"0,0.682969\" stroke-linecap=\"round\" stroke-linejoin=\"round\" stroke-miterlimit=\"10.0375\" stroke-width=\"0.170717\"/>\n",
       "</g>\n",
       "<g transform=\"translate(340.228 337.677)scale(.996264)\">\n",
       "<path d=\"M.355659 427.147H569.411\" fill=\"none\" stroke=\"#cccccc\" stroke-linecap=\"round\" stroke-linejoin=\"round\" stroke-miterlimit=\"10.0375\" stroke-width=\"0.426791\"/>\n",
       "</g>\n",
       "<g transform=\"translate(340.228 337.677)scale(.996264)\">\n",
       "<path d=\"M.355659 420.034H569.411\" fill=\"none\" stroke=\"#cccccc\" stroke-dasharray=\"0,0.682969\" stroke-linecap=\"round\" stroke-linejoin=\"round\" stroke-miterlimit=\"10.0375\" stroke-width=\"0.170717\"/>\n",
       "</g>\n",
       "<g transform=\"translate(340.228 337.677)scale(.996264)\">\n",
       "<path d=\"M.355659 412.921H569.411\" fill=\"none\" stroke=\"#cccccc\" stroke-dasharray=\"0,0.682969\" stroke-linecap=\"round\" stroke-linejoin=\"round\" stroke-miterlimit=\"10.0375\" stroke-width=\"0.170717\"/>\n",
       "</g>\n",
       "<g transform=\"translate(340.228 337.677)scale(.996264)\">\n",
       "<path d=\"M.355659 405.807H569.411\" fill=\"none\" stroke=\"#cccccc\" stroke-dasharray=\"0,0.682969\" stroke-linecap=\"round\" stroke-linejoin=\"round\" stroke-miterlimit=\"10.0375\" stroke-width=\"0.170717\"/>\n",
       "</g>\n",
       "<g transform=\"translate(340.228 337.677)scale(.996264)\">\n",
       "<path d=\"M.355659 398.694H569.411\" fill=\"none\" stroke=\"#cccccc\" stroke-dasharray=\"0,0.682969\" stroke-linecap=\"round\" stroke-linejoin=\"round\" stroke-miterlimit=\"10.0375\" stroke-width=\"0.170717\"/>\n",
       "</g>\n",
       "<g transform=\"translate(340.228 337.677)scale(.996264)\">\n",
       "<path d=\"M.355659 398.694H569.411\" fill=\"none\" stroke=\"#cccccc\" stroke-linecap=\"round\" stroke-linejoin=\"round\" stroke-miterlimit=\"10.0375\" stroke-width=\"0.426791\"/>\n",
       "</g>\n",
       "<g transform=\"translate(340.228 337.677)scale(.996264)\">\n",
       "<path d=\"M.355659 391.581H569.411\" fill=\"none\" stroke=\"#cccccc\" stroke-dasharray=\"0,0.682969\" stroke-linecap=\"round\" stroke-linejoin=\"round\" stroke-miterlimit=\"10.0375\" stroke-width=\"0.170717\"/>\n",
       "</g>\n",
       "<g transform=\"translate(340.228 337.677)scale(.996264)\">\n",
       "<path d=\"M.355659 384.468H569.411\" fill=\"none\" stroke=\"#cccccc\" stroke-dasharray=\"0,0.682969\" stroke-linecap=\"round\" stroke-linejoin=\"round\" stroke-miterlimit=\"10.0375\" stroke-width=\"0.170717\"/>\n",
       "</g>\n",
       "<g transform=\"translate(340.228 337.677)scale(.996264)\">\n",
       "<path d=\"M.355659 377.355H569.411\" fill=\"none\" stroke=\"#cccccc\" stroke-dasharray=\"0,0.682969\" stroke-linecap=\"round\" stroke-linejoin=\"round\" stroke-miterlimit=\"10.0375\" stroke-width=\"0.170717\"/>\n",
       "</g>\n",
       "<g transform=\"translate(340.228 337.677)scale(.996264)\">\n",
       "<path d=\"M.355659 370.241H569.411\" fill=\"none\" stroke=\"#cccccc\" stroke-dasharray=\"0,0.682969\" stroke-linecap=\"round\" stroke-linejoin=\"round\" stroke-miterlimit=\"10.0375\" stroke-width=\"0.170717\"/>\n",
       "</g>\n",
       "<g transform=\"translate(340.228 337.677)scale(.996264)\">\n",
       "<path d=\"M.355659 370.241H569.411\" fill=\"none\" stroke=\"#cccccc\" stroke-linecap=\"round\" stroke-linejoin=\"round\" stroke-miterlimit=\"10.0375\" stroke-width=\"0.426791\"/>\n",
       "</g>\n",
       "<g transform=\"translate(340.228 337.677)scale(.996264)\">\n",
       "<path d=\"M.355659 363.128H569.411\" fill=\"none\" stroke=\"#cccccc\" stroke-dasharray=\"0,0.682969\" stroke-linecap=\"round\" stroke-linejoin=\"round\" stroke-miterlimit=\"10.0375\" stroke-width=\"0.170717\"/>\n",
       "</g>\n",
       "<g transform=\"translate(340.228 337.677)scale(.996264)\">\n",
       "<path d=\"M.355659 356.015H569.411\" fill=\"none\" stroke=\"#cccccc\" stroke-dasharray=\"0,0.682969\" stroke-linecap=\"round\" stroke-linejoin=\"round\" stroke-miterlimit=\"10.0375\" stroke-width=\"0.170717\"/>\n",
       "</g>\n",
       "<g transform=\"translate(340.228 337.677)scale(.996264)\">\n",
       "<path d=\"M.355659 348.902H569.411\" fill=\"none\" stroke=\"#cccccc\" stroke-dasharray=\"0,0.682969\" stroke-linecap=\"round\" stroke-linejoin=\"round\" stroke-miterlimit=\"10.0375\" stroke-width=\"0.170717\"/>\n",
       "</g>\n",
       "<g transform=\"translate(340.228 337.677)scale(.996264)\">\n",
       "<path d=\"M.355659 341.789H569.411\" fill=\"none\" stroke=\"#cccccc\" stroke-dasharray=\"0,0.682969\" stroke-linecap=\"round\" stroke-linejoin=\"round\" stroke-miterlimit=\"10.0375\" stroke-width=\"0.170717\"/>\n",
       "</g>\n",
       "<g transform=\"translate(340.228 337.677)scale(.996264)\">\n",
       "<path d=\"M.355659 341.789H569.411\" fill=\"none\" stroke=\"#cccccc\" stroke-linecap=\"round\" stroke-linejoin=\"round\" stroke-miterlimit=\"10.0375\" stroke-width=\"0.426791\"/>\n",
       "</g>\n",
       "<g transform=\"translate(340.228 337.677)scale(.996264)\">\n",
       "<path d=\"M.355659 334.676H569.411\" fill=\"none\" stroke=\"#cccccc\" stroke-dasharray=\"0,0.682969\" stroke-linecap=\"round\" stroke-linejoin=\"round\" stroke-miterlimit=\"10.0375\" stroke-width=\"0.170717\"/>\n",
       "</g>\n",
       "<g transform=\"translate(340.228 337.677)scale(.996264)\">\n",
       "<path d=\"M.355659 327.562H569.411\" fill=\"none\" stroke=\"#cccccc\" stroke-dasharray=\"0,0.682969\" stroke-linecap=\"round\" stroke-linejoin=\"round\" stroke-miterlimit=\"10.0375\" stroke-width=\"0.170717\"/>\n",
       "</g>\n",
       "<g transform=\"translate(340.228 337.677)scale(.996264)\">\n",
       "<path d=\"M.355659 320.449H569.411\" fill=\"none\" stroke=\"#cccccc\" stroke-dasharray=\"0,0.682969\" stroke-linecap=\"round\" stroke-linejoin=\"round\" stroke-miterlimit=\"10.0375\" stroke-width=\"0.170717\"/>\n",
       "</g>\n",
       "<g transform=\"translate(340.228 337.677)scale(.996264)\">\n",
       "<path d=\"M.355659 313.336H569.411\" fill=\"none\" stroke=\"#cccccc\" stroke-dasharray=\"0,0.682969\" stroke-linecap=\"round\" stroke-linejoin=\"round\" stroke-miterlimit=\"10.0375\" stroke-width=\"0.170717\"/>\n",
       "</g>\n",
       "<g transform=\"translate(340.228 337.677)scale(.996264)\">\n",
       "<path d=\"M.355659 313.336H569.411\" fill=\"none\" stroke=\"#cccccc\" stroke-linecap=\"round\" stroke-linejoin=\"round\" stroke-miterlimit=\"10.0375\" stroke-width=\"0.426791\"/>\n",
       "</g>\n",
       "<g transform=\"translate(340.228 337.677)scale(.996264)\">\n",
       "<path d=\"M.355659 306.223H569.411\" fill=\"none\" stroke=\"#cccccc\" stroke-dasharray=\"0,0.682969\" stroke-linecap=\"round\" stroke-linejoin=\"round\" stroke-miterlimit=\"10.0375\" stroke-width=\"0.170717\"/>\n",
       "</g>\n",
       "<g transform=\"translate(340.228 337.677)scale(.996264)\">\n",
       "<path d=\"M.355659 299.11H569.411\" fill=\"none\" stroke=\"#cccccc\" stroke-dasharray=\"0,0.682969\" stroke-linecap=\"round\" stroke-linejoin=\"round\" stroke-miterlimit=\"10.0375\" stroke-width=\"0.170717\"/>\n",
       "</g>\n",
       "<g transform=\"translate(340.228 337.677)scale(.996264)\">\n",
       "<path d=\"M.355659 291.996H569.411\" fill=\"none\" stroke=\"#cccccc\" stroke-dasharray=\"0,0.682969\" stroke-linecap=\"round\" stroke-linejoin=\"round\" stroke-miterlimit=\"10.0375\" stroke-width=\"0.170717\"/>\n",
       "</g>\n",
       "<g transform=\"translate(340.228 337.677)scale(.996264)\">\n",
       "<path d=\"M.355659 284.883H569.411\" fill=\"none\" stroke=\"#cccccc\" stroke-dasharray=\"0,0.682969\" stroke-linecap=\"round\" stroke-linejoin=\"round\" stroke-miterlimit=\"10.0375\" stroke-width=\"0.170717\"/>\n",
       "</g>\n",
       "<g transform=\"translate(340.228 337.677)scale(.996264)\">\n",
       "<path d=\"M.355659 284.883H569.411\" fill=\"none\" stroke=\"#cccccc\" stroke-linecap=\"round\" stroke-linejoin=\"round\" stroke-miterlimit=\"10.0375\" stroke-width=\"0.426791\"/>\n",
       "</g>\n",
       "<g transform=\"translate(340.228 337.677)scale(.996264)\">\n",
       "<path d=\"M.355659 277.77H569.411\" fill=\"none\" stroke=\"#cccccc\" stroke-dasharray=\"0,0.682969\" stroke-linecap=\"round\" stroke-linejoin=\"round\" stroke-miterlimit=\"10.0375\" stroke-width=\"0.170717\"/>\n",
       "</g>\n",
       "<g transform=\"translate(340.228 337.677)scale(.996264)\">\n",
       "<path d=\"M.355659 270.657H569.411\" fill=\"none\" stroke=\"#cccccc\" stroke-dasharray=\"0,0.682969\" stroke-linecap=\"round\" stroke-linejoin=\"round\" stroke-miterlimit=\"10.0375\" stroke-width=\"0.170717\"/>\n",
       "</g>\n",
       "<g transform=\"translate(340.228 337.677)scale(.996264)\">\n",
       "<path d=\"M.355659 263.544H569.411\" fill=\"none\" stroke=\"#cccccc\" stroke-dasharray=\"0,0.682969\" stroke-linecap=\"round\" stroke-linejoin=\"round\" stroke-miterlimit=\"10.0375\" stroke-width=\"0.170717\"/>\n",
       "</g>\n",
       "<g transform=\"translate(340.228 337.677)scale(.996264)\">\n",
       "<path d=\"M.355659 256.43H569.411\" fill=\"none\" stroke=\"#cccccc\" stroke-dasharray=\"0,0.682969\" stroke-linecap=\"round\" stroke-linejoin=\"round\" stroke-miterlimit=\"10.0375\" stroke-width=\"0.170717\"/>\n",
       "</g>\n",
       "<g transform=\"translate(340.228 337.677)scale(.996264)\">\n",
       "<path d=\"M.355659 256.43H569.411\" fill=\"none\" stroke=\"#cccccc\" stroke-linecap=\"round\" stroke-linejoin=\"round\" stroke-miterlimit=\"10.0375\" stroke-width=\"0.426791\"/>\n",
       "</g>\n",
       "<g transform=\"translate(340.228 337.677)scale(.996264)\">\n",
       "<path d=\"M.355659 249.317H569.411\" fill=\"none\" stroke=\"#cccccc\" stroke-dasharray=\"0,0.682969\" stroke-linecap=\"round\" stroke-linejoin=\"round\" stroke-miterlimit=\"10.0375\" stroke-width=\"0.170717\"/>\n",
       "</g>\n",
       "<g transform=\"translate(340.228 337.677)scale(.996264)\">\n",
       "<path d=\"M.355659 242.204H569.411\" fill=\"none\" stroke=\"#cccccc\" stroke-dasharray=\"0,0.682969\" stroke-linecap=\"round\" stroke-linejoin=\"round\" stroke-miterlimit=\"10.0375\" stroke-width=\"0.170717\"/>\n",
       "</g>\n",
       "<g transform=\"translate(340.228 337.677)scale(.996264)\">\n",
       "<path d=\"M.355659 235.091H569.411\" fill=\"none\" stroke=\"#cccccc\" stroke-dasharray=\"0,0.682969\" stroke-linecap=\"round\" stroke-linejoin=\"round\" stroke-miterlimit=\"10.0375\" stroke-width=\"0.170717\"/>\n",
       "</g>\n",
       "<g transform=\"translate(340.228 337.677)scale(.996264)\">\n",
       "<path d=\"M.355659 227.978H569.411\" fill=\"none\" stroke=\"#cccccc\" stroke-dasharray=\"0,0.682969\" stroke-linecap=\"round\" stroke-linejoin=\"round\" stroke-miterlimit=\"10.0375\" stroke-width=\"0.170717\"/>\n",
       "</g>\n",
       "<g transform=\"translate(340.228 337.677)scale(.996264)\">\n",
       "<path d=\"M.355659 227.978H569.411\" fill=\"none\" stroke=\"#cccccc\" stroke-linecap=\"round\" stroke-linejoin=\"round\" stroke-miterlimit=\"10.0375\" stroke-width=\"0.426791\"/>\n",
       "</g>\n",
       "<g transform=\"translate(340.228 337.677)scale(.996264)\">\n",
       "<path d=\"M.355659 220.865H569.411\" fill=\"none\" stroke=\"#cccccc\" stroke-dasharray=\"0,0.682969\" stroke-linecap=\"round\" stroke-linejoin=\"round\" stroke-miterlimit=\"10.0375\" stroke-width=\"0.170717\"/>\n",
       "</g>\n",
       "<g transform=\"translate(340.228 337.677)scale(.996264)\">\n",
       "<path d=\"M.355659 213.751H569.411\" fill=\"none\" stroke=\"#cccccc\" stroke-dasharray=\"0,0.682969\" stroke-linecap=\"round\" stroke-linejoin=\"round\" stroke-miterlimit=\"10.0375\" stroke-width=\"0.170717\"/>\n",
       "</g>\n",
       "<g transform=\"translate(340.228 337.677)scale(.996264)\">\n",
       "<path d=\"M.355659 206.638H569.411\" fill=\"none\" stroke=\"#cccccc\" stroke-dasharray=\"0,0.682969\" stroke-linecap=\"round\" stroke-linejoin=\"round\" stroke-miterlimit=\"10.0375\" stroke-width=\"0.170717\"/>\n",
       "</g>\n",
       "<g transform=\"translate(340.228 337.677)scale(.996264)\">\n",
       "<path d=\"M.355659 199.525H569.411\" fill=\"none\" stroke=\"#cccccc\" stroke-dasharray=\"0,0.682969\" stroke-linecap=\"round\" stroke-linejoin=\"round\" stroke-miterlimit=\"10.0375\" stroke-width=\"0.170717\"/>\n",
       "</g>\n",
       "<g transform=\"translate(340.228 337.677)scale(.996264)\">\n",
       "<path d=\"M.355659 199.525H569.411\" fill=\"none\" stroke=\"#cccccc\" stroke-linecap=\"round\" stroke-linejoin=\"round\" stroke-miterlimit=\"10.0375\" stroke-width=\"0.426791\"/>\n",
       "</g>\n",
       "<g transform=\"translate(340.228 337.677)scale(.996264)\">\n",
       "<path d=\"M.355659 192.412H569.411\" fill=\"none\" stroke=\"#cccccc\" stroke-dasharray=\"0,0.682969\" stroke-linecap=\"round\" stroke-linejoin=\"round\" stroke-miterlimit=\"10.0375\" stroke-width=\"0.170717\"/>\n",
       "</g>\n",
       "<g transform=\"translate(340.228 337.677)scale(.996264)\">\n",
       "<path d=\"M.355659 185.299H569.411\" fill=\"none\" stroke=\"#cccccc\" stroke-dasharray=\"0,0.682969\" stroke-linecap=\"round\" stroke-linejoin=\"round\" stroke-miterlimit=\"10.0375\" stroke-width=\"0.170717\"/>\n",
       "</g>\n",
       "<g transform=\"translate(340.228 337.677)scale(.996264)\">\n",
       "<path d=\"M.355659 178.185H569.411\" fill=\"none\" stroke=\"#cccccc\" stroke-dasharray=\"0,0.682969\" stroke-linecap=\"round\" stroke-linejoin=\"round\" stroke-miterlimit=\"10.0375\" stroke-width=\"0.170717\"/>\n",
       "</g>\n",
       "<g transform=\"translate(340.228 337.677)scale(.996264)\">\n",
       "<path d=\"M.355659 171.072H569.411\" fill=\"none\" stroke=\"#cccccc\" stroke-dasharray=\"0,0.682969\" stroke-linecap=\"round\" stroke-linejoin=\"round\" stroke-miterlimit=\"10.0375\" stroke-width=\"0.170717\"/>\n",
       "</g>\n",
       "<g transform=\"translate(340.228 337.677)scale(.996264)\">\n",
       "<path d=\"M.355659 171.072H569.411\" fill=\"none\" stroke=\"#cccccc\" stroke-linecap=\"round\" stroke-linejoin=\"round\" stroke-miterlimit=\"10.0375\" stroke-width=\"0.426791\"/>\n",
       "</g>\n",
       "<g transform=\"translate(340.228 337.677)scale(.996264)\">\n",
       "<path d=\"M.355659 163.959H569.411\" fill=\"none\" stroke=\"#cccccc\" stroke-dasharray=\"0,0.682969\" stroke-linecap=\"round\" stroke-linejoin=\"round\" stroke-miterlimit=\"10.0375\" stroke-width=\"0.170717\"/>\n",
       "</g>\n",
       "<g transform=\"translate(340.228 337.677)scale(.996264)\">\n",
       "<path d=\"M.355659 156.846H569.411\" fill=\"none\" stroke=\"#cccccc\" stroke-dasharray=\"0,0.682969\" stroke-linecap=\"round\" stroke-linejoin=\"round\" stroke-miterlimit=\"10.0375\" stroke-width=\"0.170717\"/>\n",
       "</g>\n",
       "<g transform=\"translate(340.228 337.677)scale(.996264)\">\n",
       "<path d=\"M.355659 149.733H569.411\" fill=\"none\" stroke=\"#cccccc\" stroke-dasharray=\"0,0.682969\" stroke-linecap=\"round\" stroke-linejoin=\"round\" stroke-miterlimit=\"10.0375\" stroke-width=\"0.170717\"/>\n",
       "</g>\n",
       "<g transform=\"translate(340.228 337.677)scale(.996264)\">\n",
       "<path d=\"M.355659 142.619H569.411\" fill=\"none\" stroke=\"#cccccc\" stroke-dasharray=\"0,0.682969\" stroke-linecap=\"round\" stroke-linejoin=\"round\" stroke-miterlimit=\"10.0375\" stroke-width=\"0.170717\"/>\n",
       "</g>\n",
       "<g transform=\"translate(340.228 337.677)scale(.996264)\">\n",
       "<path d=\"M.355659 142.619H569.411\" fill=\"none\" stroke=\"#cccccc\" stroke-linecap=\"round\" stroke-linejoin=\"round\" stroke-miterlimit=\"10.0375\" stroke-width=\"0.426791\"/>\n",
       "</g>\n",
       "<g transform=\"translate(340.228 337.677)scale(.996264)\">\n",
       "<path d=\"M.355659 135.506H569.411\" fill=\"none\" stroke=\"#cccccc\" stroke-dasharray=\"0,0.682969\" stroke-linecap=\"round\" stroke-linejoin=\"round\" stroke-miterlimit=\"10.0375\" stroke-width=\"0.170717\"/>\n",
       "</g>\n",
       "<g transform=\"translate(340.228 337.677)scale(.996264)\">\n",
       "<path d=\"M.355659 128.393H569.411\" fill=\"none\" stroke=\"#cccccc\" stroke-dasharray=\"0,0.682969\" stroke-linecap=\"round\" stroke-linejoin=\"round\" stroke-miterlimit=\"10.0375\" stroke-width=\"0.170717\"/>\n",
       "</g>\n",
       "<g transform=\"translate(340.228 337.677)scale(.996264)\">\n",
       "<path d=\"M.355659 121.28H569.411\" fill=\"none\" stroke=\"#cccccc\" stroke-dasharray=\"0,0.682969\" stroke-linecap=\"round\" stroke-linejoin=\"round\" stroke-miterlimit=\"10.0375\" stroke-width=\"0.170717\"/>\n",
       "</g>\n",
       "<g transform=\"translate(340.228 337.677)scale(.996264)\">\n",
       "<path d=\"M.355659 114.167H569.411\" fill=\"none\" stroke=\"#cccccc\" stroke-dasharray=\"0,0.682969\" stroke-linecap=\"round\" stroke-linejoin=\"round\" stroke-miterlimit=\"10.0375\" stroke-width=\"0.170717\"/>\n",
       "</g>\n",
       "<g transform=\"translate(340.228 337.677)scale(.996264)\">\n",
       "<path d=\"M.355659 114.167H569.411\" fill=\"none\" stroke=\"#cccccc\" stroke-linecap=\"round\" stroke-linejoin=\"round\" stroke-miterlimit=\"10.0375\" stroke-width=\"0.426791\"/>\n",
       "</g>\n",
       "<g transform=\"translate(340.228 337.677)scale(.996264)\">\n",
       "<path d=\"M.355659 107.053H569.411\" fill=\"none\" stroke=\"#cccccc\" stroke-dasharray=\"0,0.682969\" stroke-linecap=\"round\" stroke-linejoin=\"round\" stroke-miterlimit=\"10.0375\" stroke-width=\"0.170717\"/>\n",
       "</g>\n",
       "<g transform=\"translate(340.228 337.677)scale(.996264)\">\n",
       "<path d=\"M.355659 99.9403H569.411\" fill=\"none\" stroke=\"#cccccc\" stroke-dasharray=\"0,0.682969\" stroke-linecap=\"round\" stroke-linejoin=\"round\" stroke-miterlimit=\"10.0375\" stroke-width=\"0.170717\"/>\n",
       "</g>\n",
       "<g transform=\"translate(340.228 337.677)scale(.996264)\">\n",
       "<path d=\"M.355659 92.8271H569.411\" fill=\"none\" stroke=\"#cccccc\" stroke-dasharray=\"0,0.682969\" stroke-linecap=\"round\" stroke-linejoin=\"round\" stroke-miterlimit=\"10.0375\" stroke-width=\"0.170717\"/>\n",
       "</g>\n",
       "<g transform=\"translate(340.228 337.677)scale(.996264)\">\n",
       "<path d=\"M.355659 85.7139H569.411\" fill=\"none\" stroke=\"#cccccc\" stroke-dasharray=\"0,0.682969\" stroke-linecap=\"round\" stroke-linejoin=\"round\" stroke-miterlimit=\"10.0375\" stroke-width=\"0.170717\"/>\n",
       "</g>\n",
       "<g transform=\"translate(340.228 337.677)scale(.996264)\">\n",
       "<path d=\"M.355659 85.7139H569.411\" fill=\"none\" stroke=\"#cccccc\" stroke-linecap=\"round\" stroke-linejoin=\"round\" stroke-miterlimit=\"10.0375\" stroke-width=\"0.426791\"/>\n",
       "</g>\n",
       "<g transform=\"translate(340.228 337.677)scale(.996264)\">\n",
       "<path d=\"M.355659 78.6007H569.411\" fill=\"none\" stroke=\"#cccccc\" stroke-dasharray=\"0,0.682969\" stroke-linecap=\"round\" stroke-linejoin=\"round\" stroke-miterlimit=\"10.0375\" stroke-width=\"0.170717\"/>\n",
       "</g>\n",
       "<g transform=\"translate(340.228 337.677)scale(.996264)\">\n",
       "<path d=\"M.355659 71.4875H569.411\" fill=\"none\" stroke=\"#cccccc\" stroke-dasharray=\"0,0.682969\" stroke-linecap=\"round\" stroke-linejoin=\"round\" stroke-miterlimit=\"10.0375\" stroke-width=\"0.170717\"/>\n",
       "</g>\n",
       "<g transform=\"translate(340.228 337.677)scale(.996264)\">\n",
       "<path d=\"M.355659 64.3744H569.411\" fill=\"none\" stroke=\"#cccccc\" stroke-dasharray=\"0,0.682969\" stroke-linecap=\"round\" stroke-linejoin=\"round\" stroke-miterlimit=\"10.0375\" stroke-width=\"0.170717\"/>\n",
       "</g>\n",
       "<g transform=\"translate(340.228 337.677)scale(.996264)\">\n",
       "<path d=\"M.355659 57.2612H569.411\" fill=\"none\" stroke=\"#cccccc\" stroke-dasharray=\"0,0.682969\" stroke-linecap=\"round\" stroke-linejoin=\"round\" stroke-miterlimit=\"10.0375\" stroke-width=\"0.170717\"/>\n",
       "</g>\n",
       "<g transform=\"translate(340.228 337.677)scale(.996264)\">\n",
       "<path d=\"M.355659 57.2612H569.411\" fill=\"none\" stroke=\"#cccccc\" stroke-linecap=\"round\" stroke-linejoin=\"round\" stroke-miterlimit=\"10.0375\" stroke-width=\"0.426791\"/>\n",
       "</g>\n",
       "<g transform=\"translate(340.228 337.677)scale(.996264)\">\n",
       "<path d=\"M.355659 50.148H569.411\" fill=\"none\" stroke=\"#cccccc\" stroke-dasharray=\"0,0.682969\" stroke-linecap=\"round\" stroke-linejoin=\"round\" stroke-miterlimit=\"10.0375\" stroke-width=\"0.170717\"/>\n",
       "</g>\n",
       "<g transform=\"translate(340.228 337.677)scale(.996264)\">\n",
       "<path d=\"M.355659 43.0348H569.411\" fill=\"none\" stroke=\"#cccccc\" stroke-dasharray=\"0,0.682969\" stroke-linecap=\"round\" stroke-linejoin=\"round\" stroke-miterlimit=\"10.0375\" stroke-width=\"0.170717\"/>\n",
       "</g>\n",
       "<g transform=\"translate(340.228 337.677)scale(.996264)\">\n",
       "<path d=\"M.355659 35.9216H569.411\" fill=\"none\" stroke=\"#cccccc\" stroke-dasharray=\"0,0.682969\" stroke-linecap=\"round\" stroke-linejoin=\"round\" stroke-miterlimit=\"10.0375\" stroke-width=\"0.170717\"/>\n",
       "</g>\n",
       "<g transform=\"translate(340.228 337.677)scale(.996264)\">\n",
       "<path d=\"M.355659 28.8084H569.411\" fill=\"none\" stroke=\"#cccccc\" stroke-dasharray=\"0,0.682969\" stroke-linecap=\"round\" stroke-linejoin=\"round\" stroke-miterlimit=\"10.0375\" stroke-width=\"0.170717\"/>\n",
       "</g>\n",
       "<g transform=\"translate(340.228 337.677)scale(.996264)\">\n",
       "<path d=\"M.355659 28.8084H569.411\" fill=\"none\" stroke=\"#cccccc\" stroke-linecap=\"round\" stroke-linejoin=\"round\" stroke-miterlimit=\"10.0375\" stroke-width=\"0.426791\"/>\n",
       "</g>\n",
       "<g transform=\"translate(340.228 337.677)scale(.996264)\">\n",
       "<path d=\"M.355659 21.6952H569.411\" fill=\"none\" stroke=\"#cccccc\" stroke-dasharray=\"0,0.682969\" stroke-linecap=\"round\" stroke-linejoin=\"round\" stroke-miterlimit=\"10.0375\" stroke-width=\"0.170717\"/>\n",
       "</g>\n",
       "<g transform=\"translate(340.228 337.677)scale(.996264)\">\n",
       "<path d=\"M.355659 14.582H569.411\" fill=\"none\" stroke=\"#cccccc\" stroke-dasharray=\"0,0.682969\" stroke-linecap=\"round\" stroke-linejoin=\"round\" stroke-miterlimit=\"10.0375\" stroke-width=\"0.170717\"/>\n",
       "</g>\n",
       "<g transform=\"translate(340.228 337.677)scale(.996264)\">\n",
       "<path d=\"M.355659 7.46885H569.411\" fill=\"none\" stroke=\"#cccccc\" stroke-dasharray=\"0,0.682969\" stroke-linecap=\"round\" stroke-linejoin=\"round\" stroke-miterlimit=\"10.0375\" stroke-width=\"0.170717\"/>\n",
       "</g>\n",
       "<g transform=\"translate(340.228 337.677)scale(.996264)\">\n",
       "<path d=\"M.355659 .355659H569.411\" fill=\"none\" stroke=\"#cccccc\" stroke-dasharray=\"0,0.682969\" stroke-linecap=\"round\" stroke-linejoin=\"round\" stroke-miterlimit=\"10.0375\" stroke-width=\"0.170717\"/>\n",
       "</g>\n",
       "<g transform=\"translate(340.228 337.677)scale(.996264)\">\n",
       "<path d=\"M.355659 .355659H569.411\" fill=\"none\" stroke=\"#cccccc\" stroke-linecap=\"round\" stroke-linejoin=\"round\" stroke-miterlimit=\"10.0375\" stroke-width=\"0.426791\"/>\n",
       "</g>\n",
       "<g transform=\"translate(340.228 337.677)scale(.996264)\">\n",
       "<path d=\"M.355659 284.883H569.411\" fill=\"none\" stroke=\"#000000\" stroke-linecap=\"round\" stroke-linejoin=\"round\" stroke-miterlimit=\"10.0375\" stroke-width=\"0.711319\"/>\n",
       "</g>\n",
       "<g transform=\"translate(340.228 337.677)scale(.996264)\">\n",
       "<path d=\"M284.883 569.411V.355659\" fill=\"none\" stroke=\"#000000\" stroke-linecap=\"round\" stroke-linejoin=\"round\" stroke-miterlimit=\"10.0375\" stroke-width=\"0.711319\"/>\n",
       "</g>\n",
       "<g transform=\"translate(340.228 337.677)scale(.996264)\">\n",
       "<path d=\"M28.8084 284.883V289.151\" fill=\"none\" stroke=\"#000000\" stroke-linecap=\"round\" stroke-linejoin=\"round\" stroke-miterlimit=\"10.0375\" stroke-width=\"0.711319\"/>\n",
       "</g>\n",
       "<use x=\"361.357221\" y=\"637.094234\" xlink:href=\"#g0-0\"/>\n",
       "<use x=\"370.655718\" y=\"637.094234\" xlink:href=\"#g1-57\"/>\n",
       "<g transform=\"translate(340.228 337.677)scale(.996264)\">\n",
       "<path d=\"M35.9216 284.883V287.017\" fill=\"none\" stroke=\"#000000\" stroke-linecap=\"round\" stroke-linejoin=\"round\" stroke-miterlimit=\"10.0375\" stroke-width=\"0.426791\"/>\n",
       "</g>\n",
       "<g transform=\"translate(340.228 337.677)scale(.996264)\">\n",
       "<path d=\"M43.0348 284.883V287.017\" fill=\"none\" stroke=\"#000000\" stroke-linecap=\"round\" stroke-linejoin=\"round\" stroke-miterlimit=\"10.0375\" stroke-width=\"0.426791\"/>\n",
       "</g>\n",
       "<g transform=\"translate(340.228 337.677)scale(.996264)\">\n",
       "<path d=\"M50.148 284.883V287.017\" fill=\"none\" stroke=\"#000000\" stroke-linecap=\"round\" stroke-linejoin=\"round\" stroke-miterlimit=\"10.0375\" stroke-width=\"0.426791\"/>\n",
       "</g>\n",
       "<g transform=\"translate(340.228 337.677)scale(.996264)\">\n",
       "<path d=\"M57.2612 284.883V289.151\" fill=\"none\" stroke=\"#000000\" stroke-linecap=\"round\" stroke-linejoin=\"round\" stroke-miterlimit=\"10.0375\" stroke-width=\"0.711319\"/>\n",
       "</g>\n",
       "<use x=\"389.703681\" y=\"637.094234\" xlink:href=\"#g0-0\"/>\n",
       "<use x=\"399.002178\" y=\"637.094234\" xlink:href=\"#g1-56\"/>\n",
       "<g transform=\"translate(340.228 337.677)scale(.996264)\">\n",
       "<path d=\"M64.3744 284.883V287.017\" fill=\"none\" stroke=\"#000000\" stroke-linecap=\"round\" stroke-linejoin=\"round\" stroke-miterlimit=\"10.0375\" stroke-width=\"0.426791\"/>\n",
       "</g>\n",
       "<g transform=\"translate(340.228 337.677)scale(.996264)\">\n",
       "<path d=\"M71.4875 284.883V287.017\" fill=\"none\" stroke=\"#000000\" stroke-linecap=\"round\" stroke-linejoin=\"round\" stroke-miterlimit=\"10.0375\" stroke-width=\"0.426791\"/>\n",
       "</g>\n",
       "<g transform=\"translate(340.228 337.677)scale(.996264)\">\n",
       "<path d=\"M78.6007 284.883V287.017\" fill=\"none\" stroke=\"#000000\" stroke-linecap=\"round\" stroke-linejoin=\"round\" stroke-miterlimit=\"10.0375\" stroke-width=\"0.426791\"/>\n",
       "</g>\n",
       "<g transform=\"translate(340.228 337.677)scale(.996264)\">\n",
       "<path d=\"M85.7139 284.883V289.151\" fill=\"none\" stroke=\"#000000\" stroke-linecap=\"round\" stroke-linejoin=\"round\" stroke-miterlimit=\"10.0375\" stroke-width=\"0.711319\"/>\n",
       "</g>\n",
       "<use x=\"418.05014\" y=\"637.094234\" xlink:href=\"#g0-0\"/>\n",
       "<use x=\"427.348637\" y=\"637.094234\" xlink:href=\"#g1-55\"/>\n",
       "<g transform=\"translate(340.228 337.677)scale(.996264)\">\n",
       "<path d=\"M92.8271 284.883V287.017\" fill=\"none\" stroke=\"#000000\" stroke-linecap=\"round\" stroke-linejoin=\"round\" stroke-miterlimit=\"10.0375\" stroke-width=\"0.426791\"/>\n",
       "</g>\n",
       "<g transform=\"translate(340.228 337.677)scale(.996264)\">\n",
       "<path d=\"M99.9403 284.883V287.017\" fill=\"none\" stroke=\"#000000\" stroke-linecap=\"round\" stroke-linejoin=\"round\" stroke-miterlimit=\"10.0375\" stroke-width=\"0.426791\"/>\n",
       "</g>\n",
       "<g transform=\"translate(340.228 337.677)scale(.996264)\">\n",
       "<path d=\"M107.053 284.883V287.017\" fill=\"none\" stroke=\"#000000\" stroke-linecap=\"round\" stroke-linejoin=\"round\" stroke-miterlimit=\"10.0375\" stroke-width=\"0.426791\"/>\n",
       "</g>\n",
       "<g transform=\"translate(340.228 337.677)scale(.996264)\">\n",
       "<path d=\"M114.167 284.883V289.151\" fill=\"none\" stroke=\"#000000\" stroke-linecap=\"round\" stroke-linejoin=\"round\" stroke-miterlimit=\"10.0375\" stroke-width=\"0.711319\"/>\n",
       "</g>\n",
       "<use x=\"446.396585\" y=\"637.094234\" xlink:href=\"#g0-0\"/>\n",
       "<use x=\"455.695082\" y=\"637.094234\" xlink:href=\"#g1-54\"/>\n",
       "<g transform=\"translate(340.228 337.677)scale(.996264)\">\n",
       "<path d=\"M121.28 284.883V287.017\" fill=\"none\" stroke=\"#000000\" stroke-linecap=\"round\" stroke-linejoin=\"round\" stroke-miterlimit=\"10.0375\" stroke-width=\"0.426791\"/>\n",
       "</g>\n",
       "<g transform=\"translate(340.228 337.677)scale(.996264)\">\n",
       "<path d=\"M128.393 284.883V287.017\" fill=\"none\" stroke=\"#000000\" stroke-linecap=\"round\" stroke-linejoin=\"round\" stroke-miterlimit=\"10.0375\" stroke-width=\"0.426791\"/>\n",
       "</g>\n",
       "<g transform=\"translate(340.228 337.677)scale(.996264)\">\n",
       "<path d=\"M135.506 284.883V287.017\" fill=\"none\" stroke=\"#000000\" stroke-linecap=\"round\" stroke-linejoin=\"round\" stroke-miterlimit=\"10.0375\" stroke-width=\"0.426791\"/>\n",
       "</g>\n",
       "<g transform=\"translate(340.228 337.677)scale(.996264)\">\n",
       "<path d=\"M142.619 284.883V289.151\" fill=\"none\" stroke=\"#000000\" stroke-linecap=\"round\" stroke-linejoin=\"round\" stroke-miterlimit=\"10.0375\" stroke-width=\"0.711319\"/>\n",
       "</g>\n",
       "<use x=\"474.743044\" y=\"637.094234\" xlink:href=\"#g0-0\"/>\n",
       "<use x=\"484.041541\" y=\"637.094234\" xlink:href=\"#g1-53\"/>\n",
       "<g transform=\"translate(340.228 337.677)scale(.996264)\">\n",
       "<path d=\"M149.733 284.883V287.017\" fill=\"none\" stroke=\"#000000\" stroke-linecap=\"round\" stroke-linejoin=\"round\" stroke-miterlimit=\"10.0375\" stroke-width=\"0.426791\"/>\n",
       "</g>\n",
       "<g transform=\"translate(340.228 337.677)scale(.996264)\">\n",
       "<path d=\"M156.846 284.883V287.017\" fill=\"none\" stroke=\"#000000\" stroke-linecap=\"round\" stroke-linejoin=\"round\" stroke-miterlimit=\"10.0375\" stroke-width=\"0.426791\"/>\n",
       "</g>\n",
       "<g transform=\"translate(340.228 337.677)scale(.996264)\">\n",
       "<path d=\"M163.959 284.883V287.017\" fill=\"none\" stroke=\"#000000\" stroke-linecap=\"round\" stroke-linejoin=\"round\" stroke-miterlimit=\"10.0375\" stroke-width=\"0.426791\"/>\n",
       "</g>\n",
       "<g transform=\"translate(340.228 337.677)scale(.996264)\">\n",
       "<path d=\"M171.072 284.883V289.151\" fill=\"none\" stroke=\"#000000\" stroke-linecap=\"round\" stroke-linejoin=\"round\" stroke-miterlimit=\"10.0375\" stroke-width=\"0.711319\"/>\n",
       "</g>\n",
       "<use x=\"503.089504\" y=\"637.094234\" xlink:href=\"#g0-0\"/>\n",
       "<use x=\"512.388001\" y=\"637.094234\" xlink:href=\"#g1-52\"/>\n",
       "<g transform=\"translate(340.228 337.677)scale(.996264)\">\n",
       "<path d=\"M178.185 284.883V287.017\" fill=\"none\" stroke=\"#000000\" stroke-linecap=\"round\" stroke-linejoin=\"round\" stroke-miterlimit=\"10.0375\" stroke-width=\"0.426791\"/>\n",
       "</g>\n",
       "<g transform=\"translate(340.228 337.677)scale(.996264)\">\n",
       "<path d=\"M185.299 284.883V287.017\" fill=\"none\" stroke=\"#000000\" stroke-linecap=\"round\" stroke-linejoin=\"round\" stroke-miterlimit=\"10.0375\" stroke-width=\"0.426791\"/>\n",
       "</g>\n",
       "<g transform=\"translate(340.228 337.677)scale(.996264)\">\n",
       "<path d=\"M192.412 284.883V287.017\" fill=\"none\" stroke=\"#000000\" stroke-linecap=\"round\" stroke-linejoin=\"round\" stroke-miterlimit=\"10.0375\" stroke-width=\"0.426791\"/>\n",
       "</g>\n",
       "<g transform=\"translate(340.228 337.677)scale(.996264)\">\n",
       "<path d=\"M199.525 284.883V289.151\" fill=\"none\" stroke=\"#000000\" stroke-linecap=\"round\" stroke-linejoin=\"round\" stroke-miterlimit=\"10.0375\" stroke-width=\"0.711319\"/>\n",
       "</g>\n",
       "<use x=\"531.435963\" y=\"637.094234\" xlink:href=\"#g0-0\"/>\n",
       "<use x=\"540.73446\" y=\"637.094234\" xlink:href=\"#g1-51\"/>\n",
       "<g transform=\"translate(340.228 337.677)scale(.996264)\">\n",
       "<path d=\"M206.638 284.883V287.017\" fill=\"none\" stroke=\"#000000\" stroke-linecap=\"round\" stroke-linejoin=\"round\" stroke-miterlimit=\"10.0375\" stroke-width=\"0.426791\"/>\n",
       "</g>\n",
       "<g transform=\"translate(340.228 337.677)scale(.996264)\">\n",
       "<path d=\"M213.751 284.883V287.017\" fill=\"none\" stroke=\"#000000\" stroke-linecap=\"round\" stroke-linejoin=\"round\" stroke-miterlimit=\"10.0375\" stroke-width=\"0.426791\"/>\n",
       "</g>\n",
       "<g transform=\"translate(340.228 337.677)scale(.996264)\">\n",
       "<path d=\"M220.865 284.883V287.017\" fill=\"none\" stroke=\"#000000\" stroke-linecap=\"round\" stroke-linejoin=\"round\" stroke-miterlimit=\"10.0375\" stroke-width=\"0.426791\"/>\n",
       "</g>\n",
       "<g transform=\"translate(340.228 337.677)scale(.996264)\">\n",
       "<path d=\"M227.978 284.883V289.151\" fill=\"none\" stroke=\"#000000\" stroke-linecap=\"round\" stroke-linejoin=\"round\" stroke-miterlimit=\"10.0375\" stroke-width=\"0.711319\"/>\n",
       "</g>\n",
       "<use x=\"559.782423\" y=\"637.094234\" xlink:href=\"#g0-0\"/>\n",
       "<use x=\"569.08092\" y=\"637.094234\" xlink:href=\"#g1-50\"/>\n",
       "<g transform=\"translate(340.228 337.677)scale(.996264)\">\n",
       "<path d=\"M235.091 284.883V287.017\" fill=\"none\" stroke=\"#000000\" stroke-linecap=\"round\" stroke-linejoin=\"round\" stroke-miterlimit=\"10.0375\" stroke-width=\"0.426791\"/>\n",
       "</g>\n",
       "<g transform=\"translate(340.228 337.677)scale(.996264)\">\n",
       "<path d=\"M242.204 284.883V287.017\" fill=\"none\" stroke=\"#000000\" stroke-linecap=\"round\" stroke-linejoin=\"round\" stroke-miterlimit=\"10.0375\" stroke-width=\"0.426791\"/>\n",
       "</g>\n",
       "<g transform=\"translate(340.228 337.677)scale(.996264)\">\n",
       "<path d=\"M249.317 284.883V287.017\" fill=\"none\" stroke=\"#000000\" stroke-linecap=\"round\" stroke-linejoin=\"round\" stroke-miterlimit=\"10.0375\" stroke-width=\"0.426791\"/>\n",
       "</g>\n",
       "<g transform=\"translate(340.228 337.677)scale(.996264)\">\n",
       "<path d=\"M256.43 284.883V289.151\" fill=\"none\" stroke=\"#000000\" stroke-linecap=\"round\" stroke-linejoin=\"round\" stroke-miterlimit=\"10.0375\" stroke-width=\"0.711319\"/>\n",
       "</g>\n",
       "<use x=\"588.128867\" y=\"637.094234\" xlink:href=\"#g0-0\"/>\n",
       "<use x=\"597.427364\" y=\"637.094234\" xlink:href=\"#g1-49\"/>\n",
       "<g transform=\"translate(340.228 337.677)scale(.996264)\">\n",
       "<path d=\"M263.544 284.883V287.017\" fill=\"none\" stroke=\"#000000\" stroke-linecap=\"round\" stroke-linejoin=\"round\" stroke-miterlimit=\"10.0375\" stroke-width=\"0.426791\"/>\n",
       "</g>\n",
       "<g transform=\"translate(340.228 337.677)scale(.996264)\">\n",
       "<path d=\"M270.657 284.883V287.017\" fill=\"none\" stroke=\"#000000\" stroke-linecap=\"round\" stroke-linejoin=\"round\" stroke-miterlimit=\"10.0375\" stroke-width=\"0.426791\"/>\n",
       "</g>\n",
       "<g transform=\"translate(340.228 337.677)scale(.996264)\">\n",
       "<path d=\"M277.77 284.883V287.017\" fill=\"none\" stroke=\"#000000\" stroke-linecap=\"round\" stroke-linejoin=\"round\" stroke-miterlimit=\"10.0375\" stroke-width=\"0.426791\"/>\n",
       "</g>\n",
       "<g transform=\"translate(340.228 337.677)scale(.996264)\">\n",
       "<path d=\"M313.336 284.883V289.151\" fill=\"none\" stroke=\"#000000\" stroke-linecap=\"round\" stroke-linejoin=\"round\" stroke-miterlimit=\"10.0375\" stroke-width=\"0.711319\"/>\n",
       "</g>\n",
       "<use x=\"649.471024\" y=\"637.094219\" xlink:href=\"#g1-49\"/>\n",
       "<g transform=\"translate(340.228 337.677)scale(.996264)\">\n",
       "<path d=\"M306.223 284.883V287.017\" fill=\"none\" stroke=\"#000000\" stroke-linecap=\"round\" stroke-linejoin=\"round\" stroke-miterlimit=\"10.0375\" stroke-width=\"0.426791\"/>\n",
       "</g>\n",
       "<g transform=\"translate(340.228 337.677)scale(.996264)\">\n",
       "<path d=\"M299.11 284.883V287.017\" fill=\"none\" stroke=\"#000000\" stroke-linecap=\"round\" stroke-linejoin=\"round\" stroke-miterlimit=\"10.0375\" stroke-width=\"0.426791\"/>\n",
       "</g>\n",
       "<g transform=\"translate(340.228 337.677)scale(.996264)\">\n",
       "<path d=\"M291.996 284.883V287.017\" fill=\"none\" stroke=\"#000000\" stroke-linecap=\"round\" stroke-linejoin=\"round\" stroke-miterlimit=\"10.0375\" stroke-width=\"0.426791\"/>\n",
       "</g>\n",
       "<g transform=\"translate(340.228 337.677)scale(.996264)\">\n",
       "<path d=\"M341.789 284.883V289.151\" fill=\"none\" stroke=\"#000000\" stroke-linecap=\"round\" stroke-linejoin=\"round\" stroke-miterlimit=\"10.0375\" stroke-width=\"0.711319\"/>\n",
       "</g>\n",
       "<use x=\"677.817483\" y=\"637.094219\" xlink:href=\"#g1-50\"/>\n",
       "<g transform=\"translate(340.228 337.677)scale(.996264)\">\n",
       "<path d=\"M334.676 284.883V287.017\" fill=\"none\" stroke=\"#000000\" stroke-linecap=\"round\" stroke-linejoin=\"round\" stroke-miterlimit=\"10.0375\" stroke-width=\"0.426791\"/>\n",
       "</g>\n",
       "<g transform=\"translate(340.228 337.677)scale(.996264)\">\n",
       "<path d=\"M327.562 284.883V287.017\" fill=\"none\" stroke=\"#000000\" stroke-linecap=\"round\" stroke-linejoin=\"round\" stroke-miterlimit=\"10.0375\" stroke-width=\"0.426791\"/>\n",
       "</g>\n",
       "<g transform=\"translate(340.228 337.677)scale(.996264)\">\n",
       "<path d=\"M320.449 284.883V287.017\" fill=\"none\" stroke=\"#000000\" stroke-linecap=\"round\" stroke-linejoin=\"round\" stroke-miterlimit=\"10.0375\" stroke-width=\"0.426791\"/>\n",
       "</g>\n",
       "<g transform=\"translate(340.228 337.677)scale(.996264)\">\n",
       "<path d=\"M370.241 284.883V289.151\" fill=\"none\" stroke=\"#000000\" stroke-linecap=\"round\" stroke-linejoin=\"round\" stroke-miterlimit=\"10.0375\" stroke-width=\"0.711319\"/>\n",
       "</g>\n",
       "<use x=\"706.163943\" y=\"637.094219\" xlink:href=\"#g1-51\"/>\n",
       "<g transform=\"translate(340.228 337.677)scale(.996264)\">\n",
       "<path d=\"M363.128 284.883V287.017\" fill=\"none\" stroke=\"#000000\" stroke-linecap=\"round\" stroke-linejoin=\"round\" stroke-miterlimit=\"10.0375\" stroke-width=\"0.426791\"/>\n",
       "</g>\n",
       "<g transform=\"translate(340.228 337.677)scale(.996264)\">\n",
       "<path d=\"M356.015 284.883V287.017\" fill=\"none\" stroke=\"#000000\" stroke-linecap=\"round\" stroke-linejoin=\"round\" stroke-miterlimit=\"10.0375\" stroke-width=\"0.426791\"/>\n",
       "</g>\n",
       "<g transform=\"translate(340.228 337.677)scale(.996264)\">\n",
       "<path d=\"M348.902 284.883V287.017\" fill=\"none\" stroke=\"#000000\" stroke-linecap=\"round\" stroke-linejoin=\"round\" stroke-miterlimit=\"10.0375\" stroke-width=\"0.426791\"/>\n",
       "</g>\n",
       "<g transform=\"translate(340.228 337.677)scale(.996264)\">\n",
       "<path d=\"M398.694 284.883V289.151\" fill=\"none\" stroke=\"#000000\" stroke-linecap=\"round\" stroke-linejoin=\"round\" stroke-miterlimit=\"10.0375\" stroke-width=\"0.711319\"/>\n",
       "</g>\n",
       "<use x=\"734.510387\" y=\"637.094219\" xlink:href=\"#g1-52\"/>\n",
       "<g transform=\"translate(340.228 337.677)scale(.996264)\">\n",
       "<path d=\"M391.581 284.883V287.017\" fill=\"none\" stroke=\"#000000\" stroke-linecap=\"round\" stroke-linejoin=\"round\" stroke-miterlimit=\"10.0375\" stroke-width=\"0.426791\"/>\n",
       "</g>\n",
       "<g transform=\"translate(340.228 337.677)scale(.996264)\">\n",
       "<path d=\"M384.468 284.883V287.017\" fill=\"none\" stroke=\"#000000\" stroke-linecap=\"round\" stroke-linejoin=\"round\" stroke-miterlimit=\"10.0375\" stroke-width=\"0.426791\"/>\n",
       "</g>\n",
       "<g transform=\"translate(340.228 337.677)scale(.996264)\">\n",
       "<path d=\"M377.355 284.883V287.017\" fill=\"none\" stroke=\"#000000\" stroke-linecap=\"round\" stroke-linejoin=\"round\" stroke-miterlimit=\"10.0375\" stroke-width=\"0.426791\"/>\n",
       "</g>\n",
       "<g transform=\"translate(340.228 337.677)scale(.996264)\">\n",
       "<path d=\"M427.147 284.883V289.151\" fill=\"none\" stroke=\"#000000\" stroke-linecap=\"round\" stroke-linejoin=\"round\" stroke-miterlimit=\"10.0375\" stroke-width=\"0.711319\"/>\n",
       "</g>\n",
       "<use x=\"762.856847\" y=\"637.094219\" xlink:href=\"#g1-53\"/>\n",
       "<g transform=\"translate(340.228 337.677)scale(.996264)\">\n",
       "<path d=\"M420.034 284.883V287.017\" fill=\"none\" stroke=\"#000000\" stroke-linecap=\"round\" stroke-linejoin=\"round\" stroke-miterlimit=\"10.0375\" stroke-width=\"0.426791\"/>\n",
       "</g>\n",
       "<g transform=\"translate(340.228 337.677)scale(.996264)\">\n",
       "<path d=\"M412.921 284.883V287.017\" fill=\"none\" stroke=\"#000000\" stroke-linecap=\"round\" stroke-linejoin=\"round\" stroke-miterlimit=\"10.0375\" stroke-width=\"0.426791\"/>\n",
       "</g>\n",
       "<g transform=\"translate(340.228 337.677)scale(.996264)\">\n",
       "<path d=\"M405.807 284.883V287.017\" fill=\"none\" stroke=\"#000000\" stroke-linecap=\"round\" stroke-linejoin=\"round\" stroke-miterlimit=\"10.0375\" stroke-width=\"0.426791\"/>\n",
       "</g>\n",
       "<g transform=\"translate(340.228 337.677)scale(.996264)\">\n",
       "<path d=\"M455.6 284.883V289.151\" fill=\"none\" stroke=\"#000000\" stroke-linecap=\"round\" stroke-linejoin=\"round\" stroke-miterlimit=\"10.0375\" stroke-width=\"0.711319\"/>\n",
       "</g>\n",
       "<use x=\"791.203306\" y=\"637.094219\" xlink:href=\"#g1-54\"/>\n",
       "<g transform=\"translate(340.228 337.677)scale(.996264)\">\n",
       "<path d=\"M448.487 284.883V287.017\" fill=\"none\" stroke=\"#000000\" stroke-linecap=\"round\" stroke-linejoin=\"round\" stroke-miterlimit=\"10.0375\" stroke-width=\"0.426791\"/>\n",
       "</g>\n",
       "<g transform=\"translate(340.228 337.677)scale(.996264)\">\n",
       "<path d=\"M441.373 284.883V287.017\" fill=\"none\" stroke=\"#000000\" stroke-linecap=\"round\" stroke-linejoin=\"round\" stroke-miterlimit=\"10.0375\" stroke-width=\"0.426791\"/>\n",
       "</g>\n",
       "<g transform=\"translate(340.228 337.677)scale(.996264)\">\n",
       "<path d=\"M434.26 284.883V287.017\" fill=\"none\" stroke=\"#000000\" stroke-linecap=\"round\" stroke-linejoin=\"round\" stroke-miterlimit=\"10.0375\" stroke-width=\"0.426791\"/>\n",
       "</g>\n",
       "<g transform=\"translate(340.228 337.677)scale(.996264)\">\n",
       "<path d=\"M484.053 284.883V289.151\" fill=\"none\" stroke=\"#000000\" stroke-linecap=\"round\" stroke-linejoin=\"round\" stroke-miterlimit=\"10.0375\" stroke-width=\"0.711319\"/>\n",
       "</g>\n",
       "<use x=\"819.549766\" y=\"637.094219\" xlink:href=\"#g1-55\"/>\n",
       "<g transform=\"translate(340.228 337.677)scale(.996264)\">\n",
       "<path d=\"M476.939 284.883V287.017\" fill=\"none\" stroke=\"#000000\" stroke-linecap=\"round\" stroke-linejoin=\"round\" stroke-miterlimit=\"10.0375\" stroke-width=\"0.426791\"/>\n",
       "</g>\n",
       "<g transform=\"translate(340.228 337.677)scale(.996264)\">\n",
       "<path d=\"M469.826 284.883V287.017\" fill=\"none\" stroke=\"#000000\" stroke-linecap=\"round\" stroke-linejoin=\"round\" stroke-miterlimit=\"10.0375\" stroke-width=\"0.426791\"/>\n",
       "</g>\n",
       "<g transform=\"translate(340.228 337.677)scale(.996264)\">\n",
       "<path d=\"M462.713 284.883V287.017\" fill=\"none\" stroke=\"#000000\" stroke-linecap=\"round\" stroke-linejoin=\"round\" stroke-miterlimit=\"10.0375\" stroke-width=\"0.426791\"/>\n",
       "</g>\n",
       "<g transform=\"translate(340.228 337.677)scale(.996264)\">\n",
       "<path d=\"M512.505 284.883V289.151\" fill=\"none\" stroke=\"#000000\" stroke-linecap=\"round\" stroke-linejoin=\"round\" stroke-miterlimit=\"10.0375\" stroke-width=\"0.711319\"/>\n",
       "</g>\n",
       "<use x=\"847.896225\" y=\"637.094219\" xlink:href=\"#g1-56\"/>\n",
       "<g transform=\"translate(340.228 337.677)scale(.996264)\">\n",
       "<path d=\"M505.392 284.883V287.017\" fill=\"none\" stroke=\"#000000\" stroke-linecap=\"round\" stroke-linejoin=\"round\" stroke-miterlimit=\"10.0375\" stroke-width=\"0.426791\"/>\n",
       "</g>\n",
       "<g transform=\"translate(340.228 337.677)scale(.996264)\">\n",
       "<path d=\"M498.279 284.883V287.017\" fill=\"none\" stroke=\"#000000\" stroke-linecap=\"round\" stroke-linejoin=\"round\" stroke-miterlimit=\"10.0375\" stroke-width=\"0.426791\"/>\n",
       "</g>\n",
       "<g transform=\"translate(340.228 337.677)scale(.996264)\">\n",
       "<path d=\"M491.166 284.883V287.017\" fill=\"none\" stroke=\"#000000\" stroke-linecap=\"round\" stroke-linejoin=\"round\" stroke-miterlimit=\"10.0375\" stroke-width=\"0.426791\"/>\n",
       "</g>\n",
       "<g transform=\"translate(340.228 337.677)scale(.996264)\">\n",
       "<path d=\"M540.958 284.883V289.151\" fill=\"none\" stroke=\"#000000\" stroke-linecap=\"round\" stroke-linejoin=\"round\" stroke-miterlimit=\"10.0375\" stroke-width=\"0.711319\"/>\n",
       "</g>\n",
       "<use x=\"876.242685\" y=\"637.094219\" xlink:href=\"#g1-57\"/>\n",
       "<g transform=\"translate(340.228 337.677)scale(.996264)\">\n",
       "<path d=\"M533.845 284.883V287.017\" fill=\"none\" stroke=\"#000000\" stroke-linecap=\"round\" stroke-linejoin=\"round\" stroke-miterlimit=\"10.0375\" stroke-width=\"0.426791\"/>\n",
       "</g>\n",
       "<g transform=\"translate(340.228 337.677)scale(.996264)\">\n",
       "<path d=\"M526.732 284.883V287.017\" fill=\"none\" stroke=\"#000000\" stroke-linecap=\"round\" stroke-linejoin=\"round\" stroke-miterlimit=\"10.0375\" stroke-width=\"0.426791\"/>\n",
       "</g>\n",
       "<g transform=\"translate(340.228 337.677)scale(.996264)\">\n",
       "<path d=\"M519.618 284.883V287.017\" fill=\"none\" stroke=\"#000000\" stroke-linecap=\"round\" stroke-linejoin=\"round\" stroke-miterlimit=\"10.0375\" stroke-width=\"0.426791\"/>\n",
       "</g>\n",
       "<g transform=\"translate(340.228 337.677)scale(.996264)\">\n",
       "<path d=\"M284.883 540.958H280.615\" fill=\"none\" stroke=\"#000000\" stroke-linecap=\"round\" stroke-linejoin=\"round\" stroke-miterlimit=\"10.0375\" stroke-width=\"0.711319\"/>\n",
       "</g>\n",
       "<use x=\"600.94584\" y=\"879.908245\" xlink:href=\"#g0-0\"/>\n",
       "<use x=\"610.244337\" y=\"879.908245\" xlink:href=\"#g1-57\"/>\n",
       "<g transform=\"translate(340.228 337.677)scale(.996264)\">\n",
       "<path d=\"M284.883 533.845H282.749\" fill=\"none\" stroke=\"#000000\" stroke-linecap=\"round\" stroke-linejoin=\"round\" stroke-miterlimit=\"10.0375\" stroke-width=\"0.426791\"/>\n",
       "</g>\n",
       "<g transform=\"translate(340.228 337.677)scale(.996264)\">\n",
       "<path d=\"M284.883 526.732H282.749\" fill=\"none\" stroke=\"#000000\" stroke-linecap=\"round\" stroke-linejoin=\"round\" stroke-miterlimit=\"10.0375\" stroke-width=\"0.426791\"/>\n",
       "</g>\n",
       "<g transform=\"translate(340.228 337.677)scale(.996264)\">\n",
       "<path d=\"M284.883 519.618H282.749\" fill=\"none\" stroke=\"#000000\" stroke-linecap=\"round\" stroke-linejoin=\"round\" stroke-miterlimit=\"10.0375\" stroke-width=\"0.426791\"/>\n",
       "</g>\n",
       "<g transform=\"translate(340.228 337.677)scale(.996264)\">\n",
       "<path d=\"M284.883 512.505H280.615\" fill=\"none\" stroke=\"#000000\" stroke-linecap=\"round\" stroke-linejoin=\"round\" stroke-miterlimit=\"10.0375\" stroke-width=\"0.711319\"/>\n",
       "</g>\n",
       "<use x=\"600.94584\" y=\"851.561786\" xlink:href=\"#g0-0\"/>\n",
       "<use x=\"610.244337\" y=\"851.561786\" xlink:href=\"#g1-56\"/>\n",
       "<g transform=\"translate(340.228 337.677)scale(.996264)\">\n",
       "<path d=\"M284.883 505.392H282.749\" fill=\"none\" stroke=\"#000000\" stroke-linecap=\"round\" stroke-linejoin=\"round\" stroke-miterlimit=\"10.0375\" stroke-width=\"0.426791\"/>\n",
       "</g>\n",
       "<g transform=\"translate(340.228 337.677)scale(.996264)\">\n",
       "<path d=\"M284.883 498.279H282.749\" fill=\"none\" stroke=\"#000000\" stroke-linecap=\"round\" stroke-linejoin=\"round\" stroke-miterlimit=\"10.0375\" stroke-width=\"0.426791\"/>\n",
       "</g>\n",
       "<g transform=\"translate(340.228 337.677)scale(.996264)\">\n",
       "<path d=\"M284.883 491.166H282.749\" fill=\"none\" stroke=\"#000000\" stroke-linecap=\"round\" stroke-linejoin=\"round\" stroke-miterlimit=\"10.0375\" stroke-width=\"0.426791\"/>\n",
       "</g>\n",
       "<g transform=\"translate(340.228 337.677)scale(.996264)\">\n",
       "<path d=\"M284.883 484.053H280.615\" fill=\"none\" stroke=\"#000000\" stroke-linecap=\"round\" stroke-linejoin=\"round\" stroke-miterlimit=\"10.0375\" stroke-width=\"0.711319\"/>\n",
       "</g>\n",
       "<use x=\"600.94584\" y=\"823.215341\" xlink:href=\"#g0-0\"/>\n",
       "<use x=\"610.244337\" y=\"823.215341\" xlink:href=\"#g1-55\"/>\n",
       "<g transform=\"translate(340.228 337.677)scale(.996264)\">\n",
       "<path d=\"M284.883 476.939H282.749\" fill=\"none\" stroke=\"#000000\" stroke-linecap=\"round\" stroke-linejoin=\"round\" stroke-miterlimit=\"10.0375\" stroke-width=\"0.426791\"/>\n",
       "</g>\n",
       "<g transform=\"translate(340.228 337.677)scale(.996264)\">\n",
       "<path d=\"M284.883 469.826H282.749\" fill=\"none\" stroke=\"#000000\" stroke-linecap=\"round\" stroke-linejoin=\"round\" stroke-miterlimit=\"10.0375\" stroke-width=\"0.426791\"/>\n",
       "</g>\n",
       "<g transform=\"translate(340.228 337.677)scale(.996264)\">\n",
       "<path d=\"M284.883 462.713H282.749\" fill=\"none\" stroke=\"#000000\" stroke-linecap=\"round\" stroke-linejoin=\"round\" stroke-miterlimit=\"10.0375\" stroke-width=\"0.426791\"/>\n",
       "</g>\n",
       "<g transform=\"translate(340.228 337.677)scale(.996264)\">\n",
       "<path d=\"M284.883 455.6H280.615\" fill=\"none\" stroke=\"#000000\" stroke-linecap=\"round\" stroke-linejoin=\"round\" stroke-miterlimit=\"10.0375\" stroke-width=\"0.711319\"/>\n",
       "</g>\n",
       "<use x=\"600.94584\" y=\"794.868882\" xlink:href=\"#g0-0\"/>\n",
       "<use x=\"610.244337\" y=\"794.868882\" xlink:href=\"#g1-54\"/>\n",
       "<g transform=\"translate(340.228 337.677)scale(.996264)\">\n",
       "<path d=\"M284.883 448.487H282.749\" fill=\"none\" stroke=\"#000000\" stroke-linecap=\"round\" stroke-linejoin=\"round\" stroke-miterlimit=\"10.0375\" stroke-width=\"0.426791\"/>\n",
       "</g>\n",
       "<g transform=\"translate(340.228 337.677)scale(.996264)\">\n",
       "<path d=\"M284.883 441.373H282.749\" fill=\"none\" stroke=\"#000000\" stroke-linecap=\"round\" stroke-linejoin=\"round\" stroke-miterlimit=\"10.0375\" stroke-width=\"0.426791\"/>\n",
       "</g>\n",
       "<g transform=\"translate(340.228 337.677)scale(.996264)\">\n",
       "<path d=\"M284.883 434.26H282.749\" fill=\"none\" stroke=\"#000000\" stroke-linecap=\"round\" stroke-linejoin=\"round\" stroke-miterlimit=\"10.0375\" stroke-width=\"0.426791\"/>\n",
       "</g>\n",
       "<g transform=\"translate(340.228 337.677)scale(.996264)\">\n",
       "<path d=\"M284.883 427.147H280.615\" fill=\"none\" stroke=\"#000000\" stroke-linecap=\"round\" stroke-linejoin=\"round\" stroke-miterlimit=\"10.0375\" stroke-width=\"0.711319\"/>\n",
       "</g>\n",
       "<use x=\"600.94584\" y=\"766.522422\" xlink:href=\"#g0-0\"/>\n",
       "<use x=\"610.244337\" y=\"766.522422\" xlink:href=\"#g1-53\"/>\n",
       "<g transform=\"translate(340.228 337.677)scale(.996264)\">\n",
       "<path d=\"M284.883 420.034H282.749\" fill=\"none\" stroke=\"#000000\" stroke-linecap=\"round\" stroke-linejoin=\"round\" stroke-miterlimit=\"10.0375\" stroke-width=\"0.426791\"/>\n",
       "</g>\n",
       "<g transform=\"translate(340.228 337.677)scale(.996264)\">\n",
       "<path d=\"M284.883 412.921H282.749\" fill=\"none\" stroke=\"#000000\" stroke-linecap=\"round\" stroke-linejoin=\"round\" stroke-miterlimit=\"10.0375\" stroke-width=\"0.426791\"/>\n",
       "</g>\n",
       "<g transform=\"translate(340.228 337.677)scale(.996264)\">\n",
       "<path d=\"M284.883 405.807H282.749\" fill=\"none\" stroke=\"#000000\" stroke-linecap=\"round\" stroke-linejoin=\"round\" stroke-miterlimit=\"10.0375\" stroke-width=\"0.426791\"/>\n",
       "</g>\n",
       "<g transform=\"translate(340.228 337.677)scale(.996264)\">\n",
       "<path d=\"M284.883 398.694H280.615\" fill=\"none\" stroke=\"#000000\" stroke-linecap=\"round\" stroke-linejoin=\"round\" stroke-miterlimit=\"10.0375\" stroke-width=\"0.711319\"/>\n",
       "</g>\n",
       "<use x=\"600.94584\" y=\"738.175962\" xlink:href=\"#g0-0\"/>\n",
       "<use x=\"610.244337\" y=\"738.175962\" xlink:href=\"#g1-52\"/>\n",
       "<g transform=\"translate(340.228 337.677)scale(.996264)\">\n",
       "<path d=\"M284.883 391.581H282.749\" fill=\"none\" stroke=\"#000000\" stroke-linecap=\"round\" stroke-linejoin=\"round\" stroke-miterlimit=\"10.0375\" stroke-width=\"0.426791\"/>\n",
       "</g>\n",
       "<g transform=\"translate(340.228 337.677)scale(.996264)\">\n",
       "<path d=\"M284.883 384.468H282.749\" fill=\"none\" stroke=\"#000000\" stroke-linecap=\"round\" stroke-linejoin=\"round\" stroke-miterlimit=\"10.0375\" stroke-width=\"0.426791\"/>\n",
       "</g>\n",
       "<g transform=\"translate(340.228 337.677)scale(.996264)\">\n",
       "<path d=\"M284.883 377.355H282.749\" fill=\"none\" stroke=\"#000000\" stroke-linecap=\"round\" stroke-linejoin=\"round\" stroke-miterlimit=\"10.0375\" stroke-width=\"0.426791\"/>\n",
       "</g>\n",
       "<g transform=\"translate(340.228 337.677)scale(.996264)\">\n",
       "<path d=\"M284.883 370.241H280.615\" fill=\"none\" stroke=\"#000000\" stroke-linecap=\"round\" stroke-linejoin=\"round\" stroke-miterlimit=\"10.0375\" stroke-width=\"0.711319\"/>\n",
       "</g>\n",
       "<use x=\"600.94584\" y=\"709.829503\" xlink:href=\"#g0-0\"/>\n",
       "<use x=\"610.244337\" y=\"709.829503\" xlink:href=\"#g1-51\"/>\n",
       "<g transform=\"translate(340.228 337.677)scale(.996264)\">\n",
       "<path d=\"M284.883 363.128H282.749\" fill=\"none\" stroke=\"#000000\" stroke-linecap=\"round\" stroke-linejoin=\"round\" stroke-miterlimit=\"10.0375\" stroke-width=\"0.426791\"/>\n",
       "</g>\n",
       "<g transform=\"translate(340.228 337.677)scale(.996264)\">\n",
       "<path d=\"M284.883 356.015H282.749\" fill=\"none\" stroke=\"#000000\" stroke-linecap=\"round\" stroke-linejoin=\"round\" stroke-miterlimit=\"10.0375\" stroke-width=\"0.426791\"/>\n",
       "</g>\n",
       "<g transform=\"translate(340.228 337.677)scale(.996264)\">\n",
       "<path d=\"M284.883 348.902H282.749\" fill=\"none\" stroke=\"#000000\" stroke-linecap=\"round\" stroke-linejoin=\"round\" stroke-miterlimit=\"10.0375\" stroke-width=\"0.426791\"/>\n",
       "</g>\n",
       "<g transform=\"translate(340.228 337.677)scale(.996264)\">\n",
       "<path d=\"M284.883 341.789H280.615\" fill=\"none\" stroke=\"#000000\" stroke-linecap=\"round\" stroke-linejoin=\"round\" stroke-miterlimit=\"10.0375\" stroke-width=\"0.711319\"/>\n",
       "</g>\n",
       "<use x=\"600.94584\" y=\"681.483059\" xlink:href=\"#g0-0\"/>\n",
       "<use x=\"610.244337\" y=\"681.483059\" xlink:href=\"#g1-50\"/>\n",
       "<g transform=\"translate(340.228 337.677)scale(.996264)\">\n",
       "<path d=\"M284.883 334.676H282.749\" fill=\"none\" stroke=\"#000000\" stroke-linecap=\"round\" stroke-linejoin=\"round\" stroke-miterlimit=\"10.0375\" stroke-width=\"0.426791\"/>\n",
       "</g>\n",
       "<g transform=\"translate(340.228 337.677)scale(.996264)\">\n",
       "<path d=\"M284.883 327.562H282.749\" fill=\"none\" stroke=\"#000000\" stroke-linecap=\"round\" stroke-linejoin=\"round\" stroke-miterlimit=\"10.0375\" stroke-width=\"0.426791\"/>\n",
       "</g>\n",
       "<g transform=\"translate(340.228 337.677)scale(.996264)\">\n",
       "<path d=\"M284.883 320.449H282.749\" fill=\"none\" stroke=\"#000000\" stroke-linecap=\"round\" stroke-linejoin=\"round\" stroke-miterlimit=\"10.0375\" stroke-width=\"0.426791\"/>\n",
       "</g>\n",
       "<g transform=\"translate(340.228 337.677)scale(.996264)\">\n",
       "<path d=\"M284.883 313.336H280.615\" fill=\"none\" stroke=\"#000000\" stroke-linecap=\"round\" stroke-linejoin=\"round\" stroke-miterlimit=\"10.0375\" stroke-width=\"0.711319\"/>\n",
       "</g>\n",
       "<use x=\"600.94584\" y=\"653.136599\" xlink:href=\"#g0-0\"/>\n",
       "<use x=\"610.244337\" y=\"653.136599\" xlink:href=\"#g1-49\"/>\n",
       "<g transform=\"translate(340.228 337.677)scale(.996264)\">\n",
       "<path d=\"M284.883 306.223H282.749\" fill=\"none\" stroke=\"#000000\" stroke-linecap=\"round\" stroke-linejoin=\"round\" stroke-miterlimit=\"10.0375\" stroke-width=\"0.426791\"/>\n",
       "</g>\n",
       "<g transform=\"translate(340.228 337.677)scale(.996264)\">\n",
       "<path d=\"M284.883 299.11H282.749\" fill=\"none\" stroke=\"#000000\" stroke-linecap=\"round\" stroke-linejoin=\"round\" stroke-miterlimit=\"10.0375\" stroke-width=\"0.426791\"/>\n",
       "</g>\n",
       "<g transform=\"translate(340.228 337.677)scale(.996264)\">\n",
       "<path d=\"M284.883 291.996H282.749\" fill=\"none\" stroke=\"#000000\" stroke-linecap=\"round\" stroke-linejoin=\"round\" stroke-miterlimit=\"10.0375\" stroke-width=\"0.426791\"/>\n",
       "</g>\n",
       "<g transform=\"translate(340.228 337.677)scale(.996264)\">\n",
       "<path d=\"M284.883 256.43H280.615\" fill=\"none\" stroke=\"#000000\" stroke-linecap=\"round\" stroke-linejoin=\"round\" stroke-miterlimit=\"10.0375\" stroke-width=\"0.711319\"/>\n",
       "</g>\n",
       "<use x=\"610.244329\" y=\"596.941797\" xlink:href=\"#g1-49\"/>\n",
       "<g transform=\"translate(340.228 337.677)scale(.996264)\">\n",
       "<path d=\"M284.883 263.544H282.749\" fill=\"none\" stroke=\"#000000\" stroke-linecap=\"round\" stroke-linejoin=\"round\" stroke-miterlimit=\"10.0375\" stroke-width=\"0.426791\"/>\n",
       "</g>\n",
       "<g transform=\"translate(340.228 337.677)scale(.996264)\">\n",
       "<path d=\"M284.883 270.657H282.749\" fill=\"none\" stroke=\"#000000\" stroke-linecap=\"round\" stroke-linejoin=\"round\" stroke-miterlimit=\"10.0375\" stroke-width=\"0.426791\"/>\n",
       "</g>\n",
       "<g transform=\"translate(340.228 337.677)scale(.996264)\">\n",
       "<path d=\"M284.883 277.77H282.749\" fill=\"none\" stroke=\"#000000\" stroke-linecap=\"round\" stroke-linejoin=\"round\" stroke-miterlimit=\"10.0375\" stroke-width=\"0.426791\"/>\n",
       "</g>\n",
       "<g transform=\"translate(340.228 337.677)scale(.996264)\">\n",
       "<path d=\"M284.883 227.978H280.615\" fill=\"none\" stroke=\"#000000\" stroke-linecap=\"round\" stroke-linejoin=\"round\" stroke-miterlimit=\"10.0375\" stroke-width=\"0.711319\"/>\n",
       "</g>\n",
       "<use x=\"610.244329\" y=\"568.595337\" xlink:href=\"#g1-50\"/>\n",
       "<g transform=\"translate(340.228 337.677)scale(.996264)\">\n",
       "<path d=\"M284.883 235.091H282.749\" fill=\"none\" stroke=\"#000000\" stroke-linecap=\"round\" stroke-linejoin=\"round\" stroke-miterlimit=\"10.0375\" stroke-width=\"0.426791\"/>\n",
       "</g>\n",
       "<g transform=\"translate(340.228 337.677)scale(.996264)\">\n",
       "<path d=\"M284.883 242.204H282.749\" fill=\"none\" stroke=\"#000000\" stroke-linecap=\"round\" stroke-linejoin=\"round\" stroke-miterlimit=\"10.0375\" stroke-width=\"0.426791\"/>\n",
       "</g>\n",
       "<g transform=\"translate(340.228 337.677)scale(.996264)\">\n",
       "<path d=\"M284.883 249.317H282.749\" fill=\"none\" stroke=\"#000000\" stroke-linecap=\"round\" stroke-linejoin=\"round\" stroke-miterlimit=\"10.0375\" stroke-width=\"0.426791\"/>\n",
       "</g>\n",
       "<g transform=\"translate(340.228 337.677)scale(.996264)\">\n",
       "<path d=\"M284.883 199.525H280.615\" fill=\"none\" stroke=\"#000000\" stroke-linecap=\"round\" stroke-linejoin=\"round\" stroke-miterlimit=\"10.0375\" stroke-width=\"0.711319\"/>\n",
       "</g>\n",
       "<use x=\"610.244329\" y=\"540.248893\" xlink:href=\"#g1-51\"/>\n",
       "<g transform=\"translate(340.228 337.677)scale(.996264)\">\n",
       "<path d=\"M284.883 206.638H282.749\" fill=\"none\" stroke=\"#000000\" stroke-linecap=\"round\" stroke-linejoin=\"round\" stroke-miterlimit=\"10.0375\" stroke-width=\"0.426791\"/>\n",
       "</g>\n",
       "<g transform=\"translate(340.228 337.677)scale(.996264)\">\n",
       "<path d=\"M284.883 213.751H282.749\" fill=\"none\" stroke=\"#000000\" stroke-linecap=\"round\" stroke-linejoin=\"round\" stroke-miterlimit=\"10.0375\" stroke-width=\"0.426791\"/>\n",
       "</g>\n",
       "<g transform=\"translate(340.228 337.677)scale(.996264)\">\n",
       "<path d=\"M284.883 220.865H282.749\" fill=\"none\" stroke=\"#000000\" stroke-linecap=\"round\" stroke-linejoin=\"round\" stroke-miterlimit=\"10.0375\" stroke-width=\"0.426791\"/>\n",
       "</g>\n",
       "<g transform=\"translate(340.228 337.677)scale(.996264)\">\n",
       "<path d=\"M284.883 171.072H280.615\" fill=\"none\" stroke=\"#000000\" stroke-linecap=\"round\" stroke-linejoin=\"round\" stroke-miterlimit=\"10.0375\" stroke-width=\"0.711319\"/>\n",
       "</g>\n",
       "<use x=\"610.244329\" y=\"511.902433\" xlink:href=\"#g1-52\"/>\n",
       "<g transform=\"translate(340.228 337.677)scale(.996264)\">\n",
       "<path d=\"M284.883 178.185H282.749\" fill=\"none\" stroke=\"#000000\" stroke-linecap=\"round\" stroke-linejoin=\"round\" stroke-miterlimit=\"10.0375\" stroke-width=\"0.426791\"/>\n",
       "</g>\n",
       "<g transform=\"translate(340.228 337.677)scale(.996264)\">\n",
       "<path d=\"M284.883 185.299H282.749\" fill=\"none\" stroke=\"#000000\" stroke-linecap=\"round\" stroke-linejoin=\"round\" stroke-miterlimit=\"10.0375\" stroke-width=\"0.426791\"/>\n",
       "</g>\n",
       "<g transform=\"translate(340.228 337.677)scale(.996264)\">\n",
       "<path d=\"M284.883 192.412H282.749\" fill=\"none\" stroke=\"#000000\" stroke-linecap=\"round\" stroke-linejoin=\"round\" stroke-miterlimit=\"10.0375\" stroke-width=\"0.426791\"/>\n",
       "</g>\n",
       "<g transform=\"translate(340.228 337.677)scale(.996264)\">\n",
       "<path d=\"M284.883 142.619H280.615\" fill=\"none\" stroke=\"#000000\" stroke-linecap=\"round\" stroke-linejoin=\"round\" stroke-miterlimit=\"10.0375\" stroke-width=\"0.711319\"/>\n",
       "</g>\n",
       "<use x=\"610.244329\" y=\"483.555974\" xlink:href=\"#g1-53\"/>\n",
       "<g transform=\"translate(340.228 337.677)scale(.996264)\">\n",
       "<path d=\"M284.883 149.733H282.749\" fill=\"none\" stroke=\"#000000\" stroke-linecap=\"round\" stroke-linejoin=\"round\" stroke-miterlimit=\"10.0375\" stroke-width=\"0.426791\"/>\n",
       "</g>\n",
       "<g transform=\"translate(340.228 337.677)scale(.996264)\">\n",
       "<path d=\"M284.883 156.846H282.749\" fill=\"none\" stroke=\"#000000\" stroke-linecap=\"round\" stroke-linejoin=\"round\" stroke-miterlimit=\"10.0375\" stroke-width=\"0.426791\"/>\n",
       "</g>\n",
       "<g transform=\"translate(340.228 337.677)scale(.996264)\">\n",
       "<path d=\"M284.883 163.959H282.749\" fill=\"none\" stroke=\"#000000\" stroke-linecap=\"round\" stroke-linejoin=\"round\" stroke-miterlimit=\"10.0375\" stroke-width=\"0.426791\"/>\n",
       "</g>\n",
       "<g transform=\"translate(340.228 337.677)scale(.996264)\">\n",
       "<path d=\"M284.883 114.167H280.615\" fill=\"none\" stroke=\"#000000\" stroke-linecap=\"round\" stroke-linejoin=\"round\" stroke-miterlimit=\"10.0375\" stroke-width=\"0.711319\"/>\n",
       "</g>\n",
       "<use x=\"610.244329\" y=\"455.209514\" xlink:href=\"#g1-54\"/>\n",
       "<g transform=\"translate(340.228 337.677)scale(.996264)\">\n",
       "<path d=\"M284.883 121.28H282.749\" fill=\"none\" stroke=\"#000000\" stroke-linecap=\"round\" stroke-linejoin=\"round\" stroke-miterlimit=\"10.0375\" stroke-width=\"0.426791\"/>\n",
       "</g>\n",
       "<g transform=\"translate(340.228 337.677)scale(.996264)\">\n",
       "<path d=\"M284.883 128.393H282.749\" fill=\"none\" stroke=\"#000000\" stroke-linecap=\"round\" stroke-linejoin=\"round\" stroke-miterlimit=\"10.0375\" stroke-width=\"0.426791\"/>\n",
       "</g>\n",
       "<g transform=\"translate(340.228 337.677)scale(.996264)\">\n",
       "<path d=\"M284.883 135.506H282.749\" fill=\"none\" stroke=\"#000000\" stroke-linecap=\"round\" stroke-linejoin=\"round\" stroke-miterlimit=\"10.0375\" stroke-width=\"0.426791\"/>\n",
       "</g>\n",
       "<g transform=\"translate(340.228 337.677)scale(.996264)\">\n",
       "<path d=\"M284.883 85.7139H280.615\" fill=\"none\" stroke=\"#000000\" stroke-linecap=\"round\" stroke-linejoin=\"round\" stroke-miterlimit=\"10.0375\" stroke-width=\"0.711319\"/>\n",
       "</g>\n",
       "<use x=\"610.244329\" y=\"426.863054\" xlink:href=\"#g1-55\"/>\n",
       "<g transform=\"translate(340.228 337.677)scale(.996264)\">\n",
       "<path d=\"M284.883 92.8271H282.749\" fill=\"none\" stroke=\"#000000\" stroke-linecap=\"round\" stroke-linejoin=\"round\" stroke-miterlimit=\"10.0375\" stroke-width=\"0.426791\"/>\n",
       "</g>\n",
       "<g transform=\"translate(340.228 337.677)scale(.996264)\">\n",
       "<path d=\"M284.883 99.9403H282.749\" fill=\"none\" stroke=\"#000000\" stroke-linecap=\"round\" stroke-linejoin=\"round\" stroke-miterlimit=\"10.0375\" stroke-width=\"0.426791\"/>\n",
       "</g>\n",
       "<g transform=\"translate(340.228 337.677)scale(.996264)\">\n",
       "<path d=\"M284.883 107.053H282.749\" fill=\"none\" stroke=\"#000000\" stroke-linecap=\"round\" stroke-linejoin=\"round\" stroke-miterlimit=\"10.0375\" stroke-width=\"0.426791\"/>\n",
       "</g>\n",
       "<g transform=\"translate(340.228 337.677)scale(.996264)\">\n",
       "<path d=\"M284.883 57.2612H280.615\" fill=\"none\" stroke=\"#000000\" stroke-linecap=\"round\" stroke-linejoin=\"round\" stroke-miterlimit=\"10.0375\" stroke-width=\"0.711319\"/>\n",
       "</g>\n",
       "<use x=\"610.244329\" y=\"398.51661\" xlink:href=\"#g1-56\"/>\n",
       "<g transform=\"translate(340.228 337.677)scale(.996264)\">\n",
       "<path d=\"M284.883 64.3744H282.749\" fill=\"none\" stroke=\"#000000\" stroke-linecap=\"round\" stroke-linejoin=\"round\" stroke-miterlimit=\"10.0375\" stroke-width=\"0.426791\"/>\n",
       "</g>\n",
       "<g transform=\"translate(340.228 337.677)scale(.996264)\">\n",
       "<path d=\"M284.883 71.4875H282.749\" fill=\"none\" stroke=\"#000000\" stroke-linecap=\"round\" stroke-linejoin=\"round\" stroke-miterlimit=\"10.0375\" stroke-width=\"0.426791\"/>\n",
       "</g>\n",
       "<g transform=\"translate(340.228 337.677)scale(.996264)\">\n",
       "<path d=\"M284.883 78.6007H282.749\" fill=\"none\" stroke=\"#000000\" stroke-linecap=\"round\" stroke-linejoin=\"round\" stroke-miterlimit=\"10.0375\" stroke-width=\"0.426791\"/>\n",
       "</g>\n",
       "<g transform=\"translate(340.228 337.677)scale(.996264)\">\n",
       "<path d=\"M284.883 28.8084H280.615\" fill=\"none\" stroke=\"#000000\" stroke-linecap=\"round\" stroke-linejoin=\"round\" stroke-miterlimit=\"10.0375\" stroke-width=\"0.711319\"/>\n",
       "</g>\n",
       "<use x=\"610.244329\" y=\"370.170151\" xlink:href=\"#g1-57\"/>\n",
       "<g transform=\"translate(340.228 337.677)scale(.996264)\">\n",
       "<path d=\"M284.883 35.9216H282.749\" fill=\"none\" stroke=\"#000000\" stroke-linecap=\"round\" stroke-linejoin=\"round\" stroke-miterlimit=\"10.0375\" stroke-width=\"0.426791\"/>\n",
       "</g>\n",
       "<g transform=\"translate(340.228 337.677)scale(.996264)\">\n",
       "<path d=\"M284.883 43.0348H282.749\" fill=\"none\" stroke=\"#000000\" stroke-linecap=\"round\" stroke-linejoin=\"round\" stroke-miterlimit=\"10.0375\" stroke-width=\"0.426791\"/>\n",
       "</g>\n",
       "<g transform=\"translate(340.228 337.677)scale(.996264)\">\n",
       "<path d=\"M284.883 50.148H282.749\" fill=\"none\" stroke=\"#000000\" stroke-linecap=\"round\" stroke-linejoin=\"round\" stroke-miterlimit=\"10.0375\" stroke-width=\"0.426791\"/>\n",
       "</g>\n",
       "<g transform=\"translate(340.228 337.677)scale(.996264)\">\n",
       "<path d=\"M227.978 313.336H341.789V256.43H227.978V313.336Z\" fill=\"#8080ff\" opacity=\"0.5\"/>\n",
       "</g>\n",
       "<g transform=\"translate(340.228 337.677)scale(.996264)\">\n",
       "<path d=\"M227.978 313.336H341.789V256.43H227.978V313.336Z\" fill=\"none\" stroke=\"#0000ff\" stroke-linecap=\"round\" stroke-linejoin=\"round\" stroke-miterlimit=\"10.0375\" stroke-width=\"1.00375\"/>\n",
       "</g>\n",
       "<g transform=\"translate(340.228 337.677)scale(.996264)\">\n",
       "<path d=\"M472.617 439.331L244.995 45.0776L97.1498 130.436L324.772 524.689L472.617 439.331Z\" fill=\"#80ff80\" opacity=\"0.5\"/>\n",
       "</g>\n",
       "<g transform=\"translate(340.228 337.677)scale(.996264)\">\n",
       "<path d=\"M472.617 439.331L244.995 45.0776L97.1498 130.436L324.772 524.689L472.617 439.331Z\" fill=\"none\" stroke=\"#00ff00\" stroke-linecap=\"round\" stroke-linejoin=\"round\" stroke-miterlimit=\"10.0375\" stroke-width=\"1.00375\"/>\n",
       "</g>\n",
       "</g>\n",
       "</svg>"
      ],
      "text/plain": [
       "<IPython.core.display.SVG object>"
      ]
     },
     "execution_count": 32,
     "metadata": {},
     "output_type": "execute_result"
    }
   ],
   "source": [
    "%%asy --fmt svg\n",
    "import geometry;\n",
    "import coordenades;\n",
    "import graph;\n",
    "\n",
    "unitsize(1cm);\n",
    "\n",
    "pen g = opacity(.5)+lightgreen,\n",
    "    b = opacity(.5)+lightblue;\n",
    "pair P[] = {(-2,-1), (2,-1), (2,1), (-2,1)};\n",
    "real A[][] = {{-2,-3*sqrt(3)/2},{2*sqrt(3),-3/2}};\n",
    "transform tr = TransformacioLineal(A);\n",
    "Canonica(-10,10,-10,10);\n",
    "filldraw(P[0]--P[1]--P[2]--P[3]--cycle,b,1bp+blue);\n",
    "filldraw(tr*P[0]--tr*P[1]--tr*P[2]--tr*P[3]--cycle,g,1bp+green);"
   ]
  },
  {
   "cell_type": "markdown",
   "metadata": {},
   "source": [
    "## Exercici 14\n",
    "Trobeu la representació en la base canònica de la rotació vectorial d'angles respectius d'Euler\n",
    "$$\\psi=\\dfrac{3\\pi}{2} \\,, \\qquad \\theta=\\dfrac{5\\pi}{4} \\qquad \\text{i} \\qquad \\phi=\\dfrac{\\pi}{4} \\,. $$"
   ]
  },
  {
   "cell_type": "code",
   "execution_count": 34,
   "metadata": {},
   "outputs": [],
   "source": [
    "psi = 3*pi/2\n",
    "theta = 5*pi/4\n",
    "phi = pi/4"
   ]
  },
  {
   "cell_type": "code",
   "execution_count": 35,
   "metadata": {},
   "outputs": [
    {
     "data": {
      "text/html": [
       "<html>\\(\\displaystyle \\left(\\begin{array}{rrr}\n",
       "-\\frac{1}{2} & \\frac{1}{2} \\, \\sqrt{2} & -\\frac{1}{2} \\\\\n",
       "\\frac{1}{2} & \\frac{1}{2} \\, \\sqrt{2} & \\frac{1}{2} \\\\\n",
       "\\frac{1}{2} \\, \\sqrt{2} & 0 & -\\frac{1}{2} \\, \\sqrt{2}\n",
       "\\end{array}\\right)\\)</html>"
      ],
      "text/latex": [
       "$\\displaystyle \\left(\\begin{array}{rrr}\n",
       "-\\frac{1}{2} & \\frac{1}{2} \\, \\sqrt{2} & -\\frac{1}{2} \\\\\n",
       "\\frac{1}{2} & \\frac{1}{2} \\, \\sqrt{2} & \\frac{1}{2} \\\\\n",
       "\\frac{1}{2} \\, \\sqrt{2} & 0 & -\\frac{1}{2} \\, \\sqrt{2}\n",
       "\\end{array}\\right)$"
      ],
      "text/plain": [
       "[        -1/2  1/2*sqrt(2)         -1/2]\n",
       "[         1/2  1/2*sqrt(2)          1/2]\n",
       "[ 1/2*sqrt(2)            0 -1/2*sqrt(2)]"
      ]
     },
     "metadata": {},
     "output_type": "display_data"
    }
   ],
   "source": [
    "A = euler(psi,theta,phi)\n",
    "show(A)"
   ]
  },
  {
   "cell_type": "markdown",
   "metadata": {},
   "source": [
    "La matriu en la base canònica i i la representació en la mateixa basede de la rotació són, respectivament\n",
    "$$\n",
    "  A = \\frac{1}{2}\\left(\\begin{array}{ccc}\n",
    "     -1    & \\sqrt{2} &  -1 \\\\\n",
    "     1     & \\sqrt{2} &   1 \\\\\n",
    "  \\sqrt{2} &   0      & -\\sqrt{2}\n",
    "  \\end{array}\\right)\\qquad\\text{i}\\qquad\n",
    "  \\left(\\begin{array}{c} u\\\\ v\\\\ w \\end{array}\\right) =\n",
    "  \\frac{1}{2}\\left(\\begin{array}{ccc}\n",
    "     -1    & \\sqrt{2} &  -1 \\\\\n",
    "     1     & \\sqrt{2} &   1 \\\\\n",
    "  \\sqrt{2} &   0      & -\\sqrt{2}\n",
    "  \\end{array}\\right)\n",
    "  \\left(\\begin{array}{c} x\\\\ y\\\\ z \\end{array}\\right)\\,.\n",
    "$$"
   ]
  },
  {
   "cell_type": "markdown",
   "metadata": {},
   "source": [
    "## Exercici 15\n",
    "Trobeu la matriu en la base canònica de la rotació vectorial d'angle $\\dfrac{\\pi}{2}$ al voltant del vector $(1,0,1)$ \n",
    "1. directament;\n",
    "1. fent servir quaternions."
   ]
  },
  {
   "cell_type": "markdown",
   "metadata": {},
   "source": [
    "En primer hem de determinar una base ortonormal positiva de manera que el primer sigui proporcional (amb la mateixa direcció i sentit) al vector $(1,0,1)$."
   ]
  },
  {
   "cell_type": "code",
   "execution_count": 38,
   "metadata": {},
   "outputs": [
    {
     "data": {
      "text/html": [
       "<html>\\(\\displaystyle \\left(\\frac{1}{2} \\, \\sqrt{2},\\,0,\\,\\frac{1}{2} \\, \\sqrt{2}\\right)\\)</html>"
      ],
      "text/latex": [
       "$\\displaystyle \\left(\\frac{1}{2} \\, \\sqrt{2},\\,0,\\,\\frac{1}{2} \\, \\sqrt{2}\\right)$"
      ],
      "text/plain": [
       "(1/2*sqrt(2), 0, 1/2*sqrt(2))"
      ]
     },
     "metadata": {},
     "output_type": "display_data"
    }
   ],
   "source": [
    "u1 = 1/sqrt(2)*vector([1,0,1])\n",
    "show(u1)"
   ]
  },
  {
   "cell_type": "markdown",
   "metadata": {},
   "source": [
    "El segon vector pot ser qualsevol vector perpendicular al primer:"
   ]
  },
  {
   "cell_type": "code",
   "execution_count": 39,
   "metadata": {},
   "outputs": [
    {
     "data": {
      "text/html": [
       "<html>\\(\\displaystyle \\left(0,\\,1,\\,0\\right)\\)</html>"
      ],
      "text/latex": [
       "$\\displaystyle \\left(0,\\,1,\\,0\\right)$"
      ],
      "text/plain": [
       "(0, 1, 0)"
      ]
     },
     "metadata": {},
     "output_type": "display_data"
    }
   ],
   "source": [
    "u2 = vector([0,1,0])\n",
    "show(u2)"
   ]
  },
  {
   "cell_type": "markdown",
   "metadata": {},
   "source": [
    "El tercer ha de ser el producte vectorial del dos primers:"
   ]
  },
  {
   "cell_type": "code",
   "execution_count": 40,
   "metadata": {},
   "outputs": [
    {
     "data": {
      "text/html": [
       "<html>\\(\\displaystyle \\left(-\\frac{1}{2} \\, \\sqrt{2},\\,0,\\,\\frac{1}{2} \\, \\sqrt{2}\\right)\\)</html>"
      ],
      "text/latex": [
       "$\\displaystyle \\left(-\\frac{1}{2} \\, \\sqrt{2},\\,0,\\,\\frac{1}{2} \\, \\sqrt{2}\\right)$"
      ],
      "text/plain": [
       "(-1/2*sqrt(2), 0, 1/2*sqrt(2))"
      ]
     },
     "metadata": {},
     "output_type": "display_data"
    }
   ],
   "source": [
    "u3 = u1.cross_product(u2)\n",
    "show(u3)"
   ]
  },
  {
   "cell_type": "markdown",
   "metadata": {},
   "source": [
    "La matriu de la rotació en la base $\\mathcal{B}'=\\{\\vec u_1,\\vec u_2,\\vec u_3\\}$ és\n",
    "$$\n",
    "  A' = \\left(\\begin{array}{rcc}\n",
    "  1 &     0      &    0       \\\\\n",
    "  0 & \\cos\\alpha & -\\sin\\alpha \\\\\n",
    "  0 & \\sin\\alpha &  \\cos\\alpha\n",
    "  \\end{array}\\right)\\,.\n",
    "$$\n",
    "Només cal substituir $\\alpha=\\dfrac{\\pi}{2}$ i aplicar la fórmula del canvi de base per a transformacions lineals:"
   ]
  },
  {
   "cell_type": "code",
   "execution_count": 41,
   "metadata": {},
   "outputs": [
    {
     "data": {
      "text/html": [
       "<html>\\(\\displaystyle \\left(\\begin{array}{rrr}\n",
       "\\frac{1}{2} \\, \\sqrt{2} & 0 & -\\frac{1}{2} \\, \\sqrt{2} \\\\\n",
       "0 & 1 & 0 \\\\\n",
       "\\frac{1}{2} \\, \\sqrt{2} & 0 & \\frac{1}{2} \\, \\sqrt{2}\n",
       "\\end{array}\\right)\\)</html>"
      ],
      "text/latex": [
       "$\\displaystyle \\left(\\begin{array}{rrr}\n",
       "\\frac{1}{2} \\, \\sqrt{2} & 0 & -\\frac{1}{2} \\, \\sqrt{2} \\\\\n",
       "0 & 1 & 0 \\\\\n",
       "\\frac{1}{2} \\, \\sqrt{2} & 0 & \\frac{1}{2} \\, \\sqrt{2}\n",
       "\\end{array}\\right)$"
      ],
      "text/plain": [
       "[ 1/2*sqrt(2)            0 -1/2*sqrt(2)]\n",
       "[           0            1            0]\n",
       "[ 1/2*sqrt(2)            0  1/2*sqrt(2)]"
      ]
     },
     "metadata": {},
     "output_type": "display_data"
    }
   ],
   "source": [
    "alfa = pi/2\n",
    "A1 = matrix([[1,0,0],[0,cos(alfa),-sin(alfa)],[0,sin(alfa),cos(alfa)]])\n",
    "C = matrix([u1,u2,u3]).T\n",
    "show(C)"
   ]
  },
  {
   "cell_type": "code",
   "execution_count": 42,
   "metadata": {},
   "outputs": [
    {
     "data": {
      "text/html": [
       "<html>\\(\\displaystyle \\left(\\begin{array}{rrr}\n",
       "\\frac{1}{2} & -\\frac{1}{2} \\, \\sqrt{2} & \\frac{1}{2} \\\\\n",
       "\\frac{1}{2} \\, \\sqrt{2} & 0 & -\\frac{1}{2} \\, \\sqrt{2} \\\\\n",
       "\\frac{1}{2} & \\frac{1}{2} \\, \\sqrt{2} & \\frac{1}{2}\n",
       "\\end{array}\\right)\\)</html>"
      ],
      "text/latex": [
       "$\\displaystyle \\left(\\begin{array}{rrr}\n",
       "\\frac{1}{2} & -\\frac{1}{2} \\, \\sqrt{2} & \\frac{1}{2} \\\\\n",
       "\\frac{1}{2} \\, \\sqrt{2} & 0 & -\\frac{1}{2} \\, \\sqrt{2} \\\\\n",
       "\\frac{1}{2} & \\frac{1}{2} \\, \\sqrt{2} & \\frac{1}{2}\n",
       "\\end{array}\\right)$"
      ],
      "text/plain": [
       "[         1/2 -1/2*sqrt(2)          1/2]\n",
       "[ 1/2*sqrt(2)            0 -1/2*sqrt(2)]\n",
       "[         1/2  1/2*sqrt(2)          1/2]"
      ]
     },
     "metadata": {},
     "output_type": "display_data"
    }
   ],
   "source": [
    "A = C * A1 * C.inverse()\n",
    "show(A)"
   ]
  },
  {
   "cell_type": "markdown",
   "metadata": {},
   "source": [
    "La matriu i la representació de la rotació vectorial d'angle $\\frac{\\pi}{2}$ al voltant del vector $(1,0,1)$ en la base canónica són\n",
    "$$\n",
    "  A=\\frac{1}{2}\\left(\\begin{array}{rrr}\n",
    "   1 & -\\sqrt{2} & 1 \\\\\n",
    "   \\sqrt{2} & 0 & -\\sqrt{2} \\\\\n",
    "   1 & \\sqrt{2} & 1\n",
    "  \\end{array}\\right)\\qquad\\text{i}\\qquad \n",
    "  \\left(\\begin{array}{c} u \\\\ v \\\\ w \\end{array}\\right)\n",
    "  =\\frac{1}{2}\\left(\\begin{array}{rrr}\n",
    "  1 & -\\sqrt{2} & 1 \\\\\n",
    "   \\sqrt{2} & 0 & -\\sqrt{2} \\\\\n",
    "   1 & \\sqrt{2} & 1\n",
    "  \\end{array}\\right)\n",
    "  \\left(\\begin{array}{c} x \\\\ y \\\\ z \\end{array}\\right)\\,.\n",
    "$$"
   ]
  },
  {
   "cell_type": "markdown",
   "metadata": {},
   "source": [
    "El quaternió que determina aquesta rotació és\n",
    "$$\n",
    "  q = \\cos\\frac{\\alpha}{2} + \\sin\\frac{\\alpha}{2}\\vec u_1\\,.\n",
    "$$"
   ]
  },
  {
   "cell_type": "code",
   "execution_count": 43,
   "metadata": {},
   "outputs": [],
   "source": [
    "a  = cos(alfa/2)\n",
    "b,c,d = sin(alfa/2)*u1"
   ]
  },
  {
   "cell_type": "code",
   "execution_count": 45,
   "metadata": {},
   "outputs": [
    {
     "data": {
      "text/html": [
       "<html>\\(\\displaystyle \\left(\\begin{array}{rrr}\n",
       "\\frac{1}{2} & -\\frac{1}{2} \\, \\sqrt{2} & \\frac{1}{2} \\\\\n",
       "\\frac{1}{2} \\, \\sqrt{2} & 0 & -\\frac{1}{2} \\, \\sqrt{2} \\\\\n",
       "\\frac{1}{2} & \\frac{1}{2} \\, \\sqrt{2} & \\frac{1}{2}\n",
       "\\end{array}\\right)\\)</html>"
      ],
      "text/latex": [
       "$\\displaystyle \\left(\\begin{array}{rrr}\n",
       "\\frac{1}{2} & -\\frac{1}{2} \\, \\sqrt{2} & \\frac{1}{2} \\\\\n",
       "\\frac{1}{2} \\, \\sqrt{2} & 0 & -\\frac{1}{2} \\, \\sqrt{2} \\\\\n",
       "\\frac{1}{2} & \\frac{1}{2} \\, \\sqrt{2} & \\frac{1}{2}\n",
       "\\end{array}\\right)$"
      ],
      "text/plain": [
       "[         1/2 -1/2*sqrt(2)          1/2]\n",
       "[ 1/2*sqrt(2)            0 -1/2*sqrt(2)]\n",
       "[         1/2  1/2*sqrt(2)          1/2]"
      ]
     },
     "metadata": {},
     "output_type": "display_data"
    }
   ],
   "source": [
    "A = quaternio_a_rotacio(a,b,c,d)\n",
    "show(A)"
   ]
  },
  {
   "cell_type": "markdown",
   "metadata": {},
   "source": [
    "Evidentment, obtenim el mateix resultat que abans."
   ]
  },
  {
   "cell_type": "markdown",
   "metadata": {},
   "source": [
    "## Exercici 16\n",
    "Trobeu l'expressió en la base canònica de la transformació lineal de $V_3$ que consisteix en aplicar successivament una rotació vectorial de $60^\\circ$ al voltant de l'eix de les $x$, una rotació vectorial de $30^\\circ$ al voltant de l'eix de les $y$ i una rotació vectorial de $120^\\circ$ al voltant de l'eix de les $z$. Trobeu també l'eix de la combinació de les tres rotacions."
   ]
  },
  {
   "cell_type": "markdown",
   "metadata": {},
   "source": [
    "Recordem que una rotació d'angle $\\alpha$ al voltant de l'eix de les $x$ ve donada per\n",
    "$$\n",
    "  \\left(\\begin{array}{c} u\\\\ v\\\\ w \\end{array}\\right)\n",
    "  =\\left(\\begin{array}{ccc}\n",
    "     1      &     0       &    0 \\\\\n",
    "     0      &  \\cos\\alpha & -\\sin\\alpha \\\\\n",
    "     0      &  \\sin\\alpha &   \\cos\\alpha\n",
    "  \\end{array}\\right)\n",
    "  \\left(\\begin{array}{c} x\\\\ y\\\\ z \\end{array}\\right)\\,,\n",
    "$$\n",
    "que la rotació d'angle $\\alpha$ al voltant de l'eix de les $y$ ve donada per\n",
    "$$\n",
    "  \\left(\\begin{array}{c} u\\\\ v\\\\ w \\end{array}\\right)\n",
    "  =\\left(\\begin{array}{ccc}\n",
    "   \\cos\\alpha  &   0   & \\sin\\alpha \\\\\n",
    "      0        &   1   &    0 \\\\\n",
    "   -\\sin\\alpha &   0   & \\cos\\alpha\n",
    "  \\end{array}\\right)\n",
    "  \\left(\\begin{array}{c} x\\\\ y\\\\ z \\end{array}\\right)\\,,\n",
    "$$\n",
    "i que la rotació d'angle $\\alpha$ al voltant de l'eix de les $z$ ve donada per\n",
    "$$\n",
    "  \\left(\\begin{array}{c} u\\\\ v\\\\ w \\end{array}\\right)\n",
    "  =\\left(\\begin{array}{ccc}\n",
    "   \\cos\\alpha  & -\\sin\\alpha  &    0 \\\\\n",
    "   \\sin\\alpha  &  \\cos\\alpha  &    0 \\\\\n",
    "      0        &      0       &    1\n",
    "  \\end{array}\\right)\n",
    "  \\left(\\begin{array}{c} x\\\\ y\\\\ z \\end{array}\\right)\\,.\n",
    "$$"
   ]
  },
  {
   "cell_type": "markdown",
   "metadata": {},
   "source": [
    "Escrivim primer els angles expressats en radiants:"
   ]
  },
  {
   "cell_type": "code",
   "execution_count": 46,
   "metadata": {},
   "outputs": [],
   "source": [
    "g = pi/180\n",
    "alfa = 60*g\n",
    "beta = 30*g\n",
    "gamma = 120*g"
   ]
  },
  {
   "cell_type": "markdown",
   "metadata": {},
   "source": [
    "Aleshores, la matriu de la rotació de $60^\\circ$ al voltant de l'eix de les $x$ és"
   ]
  },
  {
   "cell_type": "code",
   "execution_count": 47,
   "metadata": {},
   "outputs": [
    {
     "data": {
      "text/html": [
       "<html>\\(\\displaystyle \\left(\\begin{array}{rrr}\n",
       "1 & 0 & 0 \\\\\n",
       "0 & \\frac{1}{2} & -\\frac{1}{2} \\, \\sqrt{3} \\\\\n",
       "0 & \\frac{1}{2} \\, \\sqrt{3} & \\frac{1}{2}\n",
       "\\end{array}\\right)\\)</html>"
      ],
      "text/latex": [
       "$\\displaystyle \\left(\\begin{array}{rrr}\n",
       "1 & 0 & 0 \\\\\n",
       "0 & \\frac{1}{2} & -\\frac{1}{2} \\, \\sqrt{3} \\\\\n",
       "0 & \\frac{1}{2} \\, \\sqrt{3} & \\frac{1}{2}\n",
       "\\end{array}\\right)$"
      ],
      "text/plain": [
       "[           1            0            0]\n",
       "[           0          1/2 -1/2*sqrt(3)]\n",
       "[           0  1/2*sqrt(3)          1/2]"
      ]
     },
     "metadata": {},
     "output_type": "display_data"
    }
   ],
   "source": [
    "A = matrix([[1,0,0],[0,cos(alfa),-sin(alfa)],[0,sin(alfa),cos(alfa)]])\n",
    "show(A)"
   ]
  },
  {
   "cell_type": "markdown",
   "metadata": {},
   "source": [
    "La matriu de la rotació de $30^\\circ$ al voltant de l'eix de les $y$ és"
   ]
  },
  {
   "cell_type": "code",
   "execution_count": 48,
   "metadata": {},
   "outputs": [
    {
     "data": {
      "text/html": [
       "<html>\\(\\displaystyle \\left(\\begin{array}{rrr}\n",
       "\\frac{1}{2} \\, \\sqrt{3} & 0 & \\frac{1}{2} \\\\\n",
       "0 & 1 & 0 \\\\\n",
       "-\\frac{1}{2} & 0 & \\frac{1}{2} \\, \\sqrt{3}\n",
       "\\end{array}\\right)\\)</html>"
      ],
      "text/latex": [
       "$\\displaystyle \\left(\\begin{array}{rrr}\n",
       "\\frac{1}{2} \\, \\sqrt{3} & 0 & \\frac{1}{2} \\\\\n",
       "0 & 1 & 0 \\\\\n",
       "-\\frac{1}{2} & 0 & \\frac{1}{2} \\, \\sqrt{3}\n",
       "\\end{array}\\right)$"
      ],
      "text/plain": [
       "[1/2*sqrt(3)           0         1/2]\n",
       "[          0           1           0]\n",
       "[       -1/2           0 1/2*sqrt(3)]"
      ]
     },
     "metadata": {},
     "output_type": "display_data"
    }
   ],
   "source": [
    "B = matrix([[cos(beta),0,sin(beta)],[0,1,0],[-sin(beta),0,cos(beta)]])\n",
    "show(B)"
   ]
  },
  {
   "cell_type": "markdown",
   "metadata": {},
   "source": [
    "De manera semblant, La matriu de la rotació de $120^\\circ$ al voltant de l'eix de les $z$"
   ]
  },
  {
   "cell_type": "code",
   "execution_count": 49,
   "metadata": {},
   "outputs": [
    {
     "data": {
      "text/html": [
       "<html>\\(\\displaystyle \\left(\\begin{array}{rrr}\n",
       "-\\frac{1}{2} & -\\frac{1}{2} \\, \\sqrt{3} & 0 \\\\\n",
       "\\frac{1}{2} \\, \\sqrt{3} & -\\frac{1}{2} & 0 \\\\\n",
       "0 & 0 & 1\n",
       "\\end{array}\\right)\\)</html>"
      ],
      "text/latex": [
       "$\\displaystyle \\left(\\begin{array}{rrr}\n",
       "-\\frac{1}{2} & -\\frac{1}{2} \\, \\sqrt{3} & 0 \\\\\n",
       "\\frac{1}{2} \\, \\sqrt{3} & -\\frac{1}{2} & 0 \\\\\n",
       "0 & 0 & 1\n",
       "\\end{array}\\right)$"
      ],
      "text/plain": [
       "[        -1/2 -1/2*sqrt(3)            0]\n",
       "[ 1/2*sqrt(3)         -1/2            0]\n",
       "[           0            0            1]"
      ]
     },
     "metadata": {},
     "output_type": "display_data"
    }
   ],
   "source": [
    "C = matrix([[cos(gamma),-sin(gamma),0],[sin(gamma),cos(gamma),0],[0,0,1]])\n",
    "show(C)"
   ]
  },
  {
   "cell_type": "markdown",
   "metadata": {},
   "source": [
    "Tenint en compte l'ordre en que hem d'aplicar les rotacions, la matriu resultant serà"
   ]
  },
  {
   "cell_type": "code",
   "execution_count": 50,
   "metadata": {},
   "outputs": [
    {
     "data": {
      "text/html": [
       "<html>\\(\\displaystyle \\left(\\begin{array}{rrr}\n",
       "-\\frac{1}{4} \\, \\sqrt{3} & -\\frac{3}{8} \\, \\sqrt{3} & \\frac{5}{8} \\\\\n",
       "\\frac{3}{4} & \\frac{1}{8} & \\frac{3}{8} \\, \\sqrt{3} \\\\\n",
       "-\\frac{1}{2} & \\frac{3}{4} & \\frac{1}{4} \\, \\sqrt{3}\n",
       "\\end{array}\\right)\\)</html>"
      ],
      "text/latex": [
       "$\\displaystyle \\left(\\begin{array}{rrr}\n",
       "-\\frac{1}{4} \\, \\sqrt{3} & -\\frac{3}{8} \\, \\sqrt{3} & \\frac{5}{8} \\\\\n",
       "\\frac{3}{4} & \\frac{1}{8} & \\frac{3}{8} \\, \\sqrt{3} \\\\\n",
       "-\\frac{1}{2} & \\frac{3}{4} & \\frac{1}{4} \\, \\sqrt{3}\n",
       "\\end{array}\\right)$"
      ],
      "text/plain": [
       "[-1/4*sqrt(3) -3/8*sqrt(3)          5/8]\n",
       "[         3/4          1/8  3/8*sqrt(3)]\n",
       "[        -1/2          3/4  1/4*sqrt(3)]"
      ]
     },
     "metadata": {},
     "output_type": "display_data"
    }
   ],
   "source": [
    "R = C * B * A\n",
    "show(R)"
   ]
  },
  {
   "cell_type": "markdown",
   "metadata": {},
   "source": [
    "Per tant, la transformació lineal ve donada per\n",
    "$$\n",
    "  \\left(\\begin{array}{c} u\\\\ v\\\\ w \\end{array}\\right)\n",
    "  =\\frac{1}{8}\\left(\\begin{array}{ccc}\n",
    "   -2\\sqrt{3} & -3\\sqrt{3} &     5  \\\\\n",
    "        6     &     1      & 3\\sqrt{3} \\\\\n",
    "       -4     &     6      & 2\\sqrt{3}\n",
    "   \\end{array}\\right)\n",
    "  \\left(\\begin{array}{c} x\\\\ y\\\\ z \\end{array}\\right)\\,,\n",
    "$$"
   ]
  },
  {
   "cell_type": "markdown",
   "metadata": {},
   "source": [
    "Per trobar l'eix de rotació, hem de resoldre el sistema d'equacions\n",
    "$$\n",
    "  \\left(\\begin{array}{c} x\\\\ y\\\\ z \\end{array}\\right)\n",
    "  =\\frac{1}{8}\\left(\\begin{array}{ccc}\n",
    "   -2\\sqrt{3} & -3\\sqrt{3} &     5  \\\\\n",
    "        6     &     1      & 3\\sqrt{3} \\\\\n",
    "       -4     &     6      & 2\\sqrt{3}\n",
    "   \\end{array}\\right)\n",
    "  \\left(\\begin{array}{c} x\\\\ y\\\\ z \\end{array}\\right)\\,,\n",
    "$$"
   ]
  },
  {
   "cell_type": "code",
   "execution_count": 51,
   "metadata": {},
   "outputs": [
    {
     "data": {
      "text/html": [
       "<html>\\(\\displaystyle \\left[\\left[x = r_{2}, y = 3 \\, \\sqrt{3} r_{2} + 6 \\, r_{2}, z = 4 \\, \\sqrt{3} r_{2} + 7 \\, r_{2}\\right]\\right]\\)</html>"
      ],
      "text/latex": [
       "$\\displaystyle \\left[\\left[x = r_{2}, y = 3 \\, \\sqrt{3} r_{2} + 6 \\, r_{2}, z = 4 \\, \\sqrt{3} r_{2} + 7 \\, r_{2}\\right]\\right]$"
      ],
      "text/plain": [
       "[[x == r2, y == 3*sqrt(3)*r2 + 6*r2, z == 4*sqrt(3)*r2 + 7*r2]]"
      ]
     },
     "metadata": {},
     "output_type": "display_data"
    }
   ],
   "source": [
    "x, y, z = var('x y z')\n",
    "X = vector([x,y,z])\n",
    "TX = R * X\n",
    "show(solve([TX[0] == x,TX[1] == y,TX[2] == z],[x,y,z]))"
   ]
  },
  {
   "cell_type": "markdown",
   "metadata": {},
   "source": [
    "L'eix de rotació ve donat pel vector $\\vec w=(1,6+3\\sqrt{3},7+4\\sqrt{3})$. Per comprovar que és correcte, fem el càlcul següent:"
   ]
  },
  {
   "cell_type": "code",
   "execution_count": 52,
   "metadata": {},
   "outputs": [
    {
     "data": {
      "text/plain": [
       "True"
      ]
     },
     "execution_count": 52,
     "metadata": {},
     "output_type": "execute_result"
    }
   ],
   "source": [
    "w = vector([1,6+3*sqrt(3),7+4*sqrt(3)])\n",
    "simplificar_radicals(R*w) == w"
   ]
  },
  {
   "cell_type": "markdown",
   "metadata": {},
   "source": [
    "## Exercici 17\n",
    "Donada la rotació representada en la base canònica per\n",
    "$$\n",
    "  \\left(\\begin{array}{c} u\\\\ v\\\\ w \\end{array}\\right)\n",
    "  =\\frac{1}{3}\\left(\\begin{array}{ccc}\n",
    "         1     & -1+\\sqrt{3} & -1-\\sqrt{3}\\\\ \n",
    "   -1-\\sqrt{3} &      1      & 1-\\sqrt{3}\\\\ \n",
    "   -1+\\sqrt{3} &  1+\\sqrt{3} &     1\n",
    "   \\end{array}\\right)\n",
    "  \\left(\\begin{array}{c} x\\\\ y\\\\ z \\end{array}\\right)\\,,\n",
    "$$\n",
    "trobeu l'eix i l'angle de rotació i el quaternió que la defineix."
   ]
  },
  {
   "cell_type": "markdown",
   "metadata": {},
   "source": [
    "Per trobar l'eix de rotació hem de resoldre el sistema d'equacions\n",
    "$$\n",
    "  \\left(\\begin{array}{c} x\\\\ y\\\\ z\\end{array}\\right)\n",
    "  =\\frac{1}{3}\\left(\\begin{array}{ccc}\n",
    "         1     & -1+\\sqrt{3} & -1-\\sqrt{3}\\\\ \n",
    "   -1-\\sqrt{3} &      1      & 1-\\sqrt{3}\\\\ \n",
    "   -1+\\sqrt{3} &  1+\\sqrt{3} &     1\n",
    "   \\end{array}\\right)\n",
    "  \\left(\\begin{array}{c} x\\\\ y\\\\ z \\end{array}\\right)\\,.\n",
    "$$"
   ]
  },
  {
   "cell_type": "code",
   "execution_count": 53,
   "metadata": {},
   "outputs": [
    {
     "data": {
      "text/html": [
       "<html>\\(\\displaystyle \\left(\\begin{array}{rrr}\n",
       "\\frac{1}{3} & \\frac{1}{3} \\, \\sqrt{3} - \\frac{1}{3} & -\\frac{1}{3} \\, \\sqrt{3} - \\frac{1}{3} \\\\\n",
       "-\\frac{1}{3} \\, \\sqrt{3} - \\frac{1}{3} & \\frac{1}{3} & -\\frac{1}{3} \\, \\sqrt{3} + \\frac{1}{3} \\\\\n",
       "\\frac{1}{3} \\, \\sqrt{3} - \\frac{1}{3} & \\frac{1}{3} \\, \\sqrt{3} + \\frac{1}{3} & \\frac{1}{3}\n",
       "\\end{array}\\right)\\)</html>"
      ],
      "text/latex": [
       "$\\displaystyle \\left(\\begin{array}{rrr}\n",
       "\\frac{1}{3} & \\frac{1}{3} \\, \\sqrt{3} - \\frac{1}{3} & -\\frac{1}{3} \\, \\sqrt{3} - \\frac{1}{3} \\\\\n",
       "-\\frac{1}{3} \\, \\sqrt{3} - \\frac{1}{3} & \\frac{1}{3} & -\\frac{1}{3} \\, \\sqrt{3} + \\frac{1}{3} \\\\\n",
       "\\frac{1}{3} \\, \\sqrt{3} - \\frac{1}{3} & \\frac{1}{3} \\, \\sqrt{3} + \\frac{1}{3} & \\frac{1}{3}\n",
       "\\end{array}\\right)$"
      ],
      "text/plain": [
       "[               1/3  1/3*sqrt(3) - 1/3 -1/3*sqrt(3) - 1/3]\n",
       "[-1/3*sqrt(3) - 1/3                1/3 -1/3*sqrt(3) + 1/3]\n",
       "[ 1/3*sqrt(3) - 1/3  1/3*sqrt(3) + 1/3                1/3]"
      ]
     },
     "metadata": {},
     "output_type": "display_data"
    }
   ],
   "source": [
    "x, y, z = var('x y z')\n",
    "X = vector([x,y,z])\n",
    "A = 1/3*matrix([[1,-1+sqrt(3),-1-sqrt(3)],[-1-sqrt(3),1,1-sqrt(3)],[-1+sqrt(3),1+sqrt(3),1]])\n",
    "show(A)"
   ]
  },
  {
   "cell_type": "code",
   "execution_count": 54,
   "metadata": {},
   "outputs": [
    {
     "data": {
      "text/html": [
       "<html>\\(\\displaystyle \\left[\\left[x = -r_{3}, y = r_{3}, z = r_{3}\\right]\\right]\\)</html>"
      ],
      "text/latex": [
       "$\\displaystyle \\left[\\left[x = -r_{3}, y = r_{3}, z = r_{3}\\right]\\right]$"
      ],
      "text/plain": [
       "[[x == -r3, y == r3, z == r3]]"
      ]
     },
     "metadata": {},
     "output_type": "display_data"
    }
   ],
   "source": [
    "TX = A * X\n",
    "show(solve([TX[0] == x,TX[1] == y,TX[2] == z],[x,y,z]))"
   ]
  },
  {
   "cell_type": "markdown",
   "metadata": {},
   "source": [
    "L'eix de rotació ve donat pel vector $\\vec w = (-1,1,1)$. Per trobar l'angle de rotació, hem de començar aplicant la fórmula\n",
    "$$\n",
    "  \\cos\\alpha=\\frac{-1+\\text{traça}(A)}{2}\n",
    "$$"
   ]
  },
  {
   "cell_type": "code",
   "execution_count": 55,
   "metadata": {},
   "outputs": [
    {
     "data": {
      "text/html": [
       "<html>\\(\\displaystyle \\frac{1}{2} \\, \\pi\\)</html>"
      ],
      "text/latex": [
       "$\\displaystyle \\frac{1}{2} \\, \\pi$"
      ],
      "text/plain": [
       "1/2*pi"
      ]
     },
     "metadata": {},
     "output_type": "display_data"
    }
   ],
   "source": [
    "w = vector([-1,1,1])\n",
    "a = acos((-1+A.trace())/2)\n",
    "show(a)"
   ]
  },
  {
   "cell_type": "markdown",
   "metadata": {},
   "source": [
    "Amb això, només podem afirmar que l'angle de rotació és de $90^\\circ$ o de $270^\\circ$. Per determinar quin dels dos és, escollim un vector qualsevol i calculem"
   ]
  },
  {
   "cell_type": "code",
   "execution_count": 56,
   "metadata": {},
   "outputs": [
    {
     "data": {
      "text/html": [
       "<html>\\(\\displaystyle -\\frac{2}{3} \\, \\sqrt{3}\\)</html>"
      ],
      "text/latex": [
       "$\\displaystyle -\\frac{2}{3} \\, \\sqrt{3}$"
      ],
      "text/plain": [
       "-2/3*sqrt(3)"
      ]
     },
     "metadata": {},
     "output_type": "display_data"
    }
   ],
   "source": [
    "u = vector([1,0,0])\n",
    "v = A * u\n",
    "M = matrix([w,u,v]).T\n",
    "show(M.det())"
   ]
  },
  {
   "cell_type": "markdown",
   "metadata": {},
   "source": [
    "Com que el determinant és negatiu, l'angle de rotació és $\\alpha=270^\\circ$."
   ]
  },
  {
   "cell_type": "markdown",
   "metadata": {},
   "source": [
    "El quaternió que detetrmina la rotació és\n",
    "$$\n",
    "   q = \\cos(135^\\circ)+\\sin(135^\\circ)\\frac{1}{\\sqrt{3}}(-1,1,1)\n",
    "$$"
   ]
  },
  {
   "cell_type": "markdown",
   "metadata": {},
   "source": [
    "La part escalar del quaternió és"
   ]
  },
  {
   "cell_type": "code",
   "execution_count": 57,
   "metadata": {},
   "outputs": [
    {
     "data": {
      "text/html": [
       "<html>\\(\\displaystyle -\\frac{1}{2} \\, \\sqrt{2}\\)</html>"
      ],
      "text/latex": [
       "$\\displaystyle -\\frac{1}{2} \\, \\sqrt{2}$"
      ],
      "text/plain": [
       "-1/2*sqrt(2)"
      ]
     },
     "metadata": {},
     "output_type": "display_data"
    }
   ],
   "source": [
    "a = cos(135*pi/180)\n",
    "show(a)"
   ]
  },
  {
   "cell_type": "markdown",
   "metadata": {},
   "source": [
    "La part vectorial del quaternió és"
   ]
  },
  {
   "cell_type": "code",
   "execution_count": 58,
   "metadata": {},
   "outputs": [
    {
     "data": {
      "text/html": [
       "<html>\\(\\displaystyle \\left(-\\frac{1}{6} \\, \\sqrt{6},\\,\\frac{1}{6} \\, \\sqrt{6},\\,\\frac{1}{6} \\, \\sqrt{6}\\right)\\)</html>"
      ],
      "text/latex": [
       "$\\displaystyle \\left(-\\frac{1}{6} \\, \\sqrt{6},\\,\\frac{1}{6} \\, \\sqrt{6},\\,\\frac{1}{6} \\, \\sqrt{6}\\right)$"
      ],
      "text/plain": [
       "(-1/6*sqrt(6), 1/6*sqrt(6), 1/6*sqrt(6))"
      ]
     },
     "metadata": {},
     "output_type": "display_data"
    }
   ],
   "source": [
    "u = simplificar_radicals(sin(135*pi/180)*1/sqrt(3)*w)\n",
    "show(u)"
   ]
  },
  {
   "cell_type": "markdown",
   "metadata": {},
   "source": [
    "és a dir, la part vectorial és\n",
    "$$\n",
    "  \\vec u=\\frac{1}{\\sqrt{6}}\\big(-\\vec\\imath + \\vec\\jmath + \\vec k\\big)\\,.\n",
    "$$"
   ]
  },
  {
   "cell_type": "markdown",
   "metadata": {},
   "source": [
    "Per tant, el quaternió és\n",
    "$$\n",
    "  q = -\\frac{1}{\\sqrt{2}}+ \\frac{1}{\\sqrt{6}}\\left(-i+j+k\\right)=\n",
    "  \\frac{1}{\\sqrt{6}}\\left(-\\sqrt{3}-i+j+k\\right)\\,.\n",
    "$$\n",
    "Recordem que el seu oposat $q = \\dfrac{1}{\\sqrt{6}}\\left(\\sqrt{3}+i-j-k\\right)$ també és correcte ja que defineix la mateixa rotació."
   ]
  },
  {
   "cell_type": "markdown",
   "metadata": {},
   "source": [
    "## Exercici 18\n",
    "Determineu si la transformació lineal $T:V_2\\longrightarrow V_2$ que en la base $\\mathcal{B}'=\\{(1,2),(1,1)\\}$ ve representada per\n",
    "$$\n",
    "  \\left(\\begin{array}{c} u\\\\ v\\end{array}\\right) =\n",
    "  \\frac{1}{\\sqrt2} \\,\n",
    "  \\left(\\begin{array}{rr}\n",
    "  4 & 2\\\\\n",
    " -5 & 2\n",
    "  \\end{array}\\right)\n",
    "  \\left(\\begin{array}{c} x\\\\ y \\end{array}\\right)\n",
    "$$\n",
    "és un gir vectorial i, en cas afirmatiu, calculeu l'angle de gir."
   ]
  },
  {
   "cell_type": "markdown",
   "metadata": {},
   "source": [
    "En primer lloc, hem de trobar la matriu de la transformació lineal en la base canònica aplicant la fórmula\n",
    "$$\n",
    "  A = CA'C^{-1}\\,.\n",
    "$$"
   ]
  },
  {
   "cell_type": "code",
   "execution_count": 59,
   "metadata": {},
   "outputs": [
    {
     "data": {
      "text/html": [
       "<html>\\(\\displaystyle \\left(\\begin{array}{rr}\n",
       "\\frac{1}{2} \\, \\sqrt{2} & -\\frac{1}{2} \\, \\sqrt{2} \\\\\n",
       "\\frac{1}{2} \\, \\sqrt{2} & \\frac{1}{2} \\, \\sqrt{2}\n",
       "\\end{array}\\right)\\)</html>"
      ],
      "text/latex": [
       "$\\displaystyle \\left(\\begin{array}{rr}\n",
       "\\frac{1}{2} \\, \\sqrt{2} & -\\frac{1}{2} \\, \\sqrt{2} \\\\\n",
       "\\frac{1}{2} \\, \\sqrt{2} & \\frac{1}{2} \\, \\sqrt{2}\n",
       "\\end{array}\\right)$"
      ],
      "text/plain": [
       "[ 1/2*sqrt(2) -1/2*sqrt(2)]\n",
       "[ 1/2*sqrt(2)  1/2*sqrt(2)]"
      ]
     },
     "metadata": {},
     "output_type": "display_data"
    }
   ],
   "source": [
    "A1 = 1/sqrt(2)*matrix([[4,2],[-5,-2]])\n",
    "C = matrix([[1,2],[1,1]]).T\n",
    "A = C * A1 * C.inverse()\n",
    "show(A)"
   ]
  },
  {
   "cell_type": "markdown",
   "metadata": {},
   "source": [
    "Una transformació lineal de $V_2$ és un gir si compleix que $A^tA=I$ i $\\det(A)=1$. Comprovem-ho:"
   ]
  },
  {
   "cell_type": "code",
   "execution_count": 60,
   "metadata": {},
   "outputs": [
    {
     "data": {
      "text/html": [
       "<html>\\(\\displaystyle \\left(\\begin{array}{rr}\n",
       "1 & 0 \\\\\n",
       "0 & 1\n",
       "\\end{array}\\right)\\)</html>"
      ],
      "text/latex": [
       "$\\displaystyle \\left(\\begin{array}{rr}\n",
       "1 & 0 \\\\\n",
       "0 & 1\n",
       "\\end{array}\\right)$"
      ],
      "text/plain": [
       "[1 0]\n",
       "[0 1]"
      ]
     },
     "metadata": {},
     "output_type": "display_data"
    }
   ],
   "source": [
    "show(A.T * A)"
   ]
  },
  {
   "cell_type": "code",
   "execution_count": 61,
   "metadata": {},
   "outputs": [
    {
     "data": {
      "text/html": [
       "<html>\\(\\displaystyle 1\\)</html>"
      ],
      "text/latex": [
       "$\\displaystyle 1$"
      ],
      "text/plain": [
       "1"
      ]
     },
     "metadata": {},
     "output_type": "display_data"
    }
   ],
   "source": [
    "show(A.det())"
   ]
  },
  {
   "cell_type": "markdown",
   "metadata": {},
   "source": [
    "Efectivament, $T$ és un gir. La millor manera de determinar l'angle de gir és"
   ]
  },
  {
   "cell_type": "code",
   "execution_count": 62,
   "metadata": {},
   "outputs": [
    {
     "data": {
      "text/html": [
       "<html>\\(\\displaystyle \\frac{1}{4} \\, \\pi\\)</html>"
      ],
      "text/latex": [
       "$\\displaystyle \\frac{1}{4} \\, \\pi$"
      ],
      "text/plain": [
       "1/4*pi"
      ]
     },
     "metadata": {},
     "output_type": "display_data"
    }
   ],
   "source": [
    "show(atan2(A[1,0],A[0,0]))"
   ]
  },
  {
   "cell_type": "markdown",
   "metadata": {},
   "source": [
    "Així doncs, és tracta d'un gir d'angle $\\dfrac{\\pi}{4}$."
   ]
  },
  {
   "cell_type": "markdown",
   "metadata": {
    "tags": []
   },
   "source": [
    "## Exercici 19\n",
    "Analitzeu si la transformació lineal $T$ de $V_3$ representada per\n",
    "$$\n",
    "  \\left(\\begin{array}{c} u\\\\ v\\\\ w \\end{array}\\right)\n",
    "  =\\frac{1}{2}\n",
    "  \\left(\\begin{array}{ccc}\n",
    "      1    &    1      & -\\sqrt{2} \\\\\n",
    "      1    &    1      &  \\sqrt{2} \\\\\n",
    "  \\sqrt{2} & -\\sqrt{2} &     0\n",
    "  \\end{array}\\right)\n",
    "  \\left(\\begin{array}{c} x\\\\ y\\\\ z \\end{array}\\right)\n",
    "$$\n",
    "és una rotació vectorial i, en cas afirmatiu, calculeu els angles d'Euler i el vector i l'angle de gir\n",
    "1. directament;\n",
    "2. fent servir quaternions."
   ]
  },
  {
   "cell_type": "markdown",
   "metadata": {},
   "source": [
    "La matriu en la base canònica de $T$ és"
   ]
  },
  {
   "cell_type": "code",
   "execution_count": 63,
   "metadata": {},
   "outputs": [
    {
     "data": {
      "text/html": [
       "<html>\\(\\displaystyle \\left(\\begin{array}{rrr}\n",
       "\\frac{1}{2} & \\frac{1}{2} & -\\frac{1}{2} \\, \\sqrt{2} \\\\\n",
       "\\frac{1}{2} & \\frac{1}{2} & \\frac{1}{2} \\, \\sqrt{2} \\\\\n",
       "\\frac{1}{2} \\, \\sqrt{2} & -\\frac{1}{2} \\, \\sqrt{2} & 0\n",
       "\\end{array}\\right)\\)</html>"
      ],
      "text/latex": [
       "$\\displaystyle \\left(\\begin{array}{rrr}\n",
       "\\frac{1}{2} & \\frac{1}{2} & -\\frac{1}{2} \\, \\sqrt{2} \\\\\n",
       "\\frac{1}{2} & \\frac{1}{2} & \\frac{1}{2} \\, \\sqrt{2} \\\\\n",
       "\\frac{1}{2} \\, \\sqrt{2} & -\\frac{1}{2} \\, \\sqrt{2} & 0\n",
       "\\end{array}\\right)$"
      ],
      "text/plain": [
       "[         1/2          1/2 -1/2*sqrt(2)]\n",
       "[         1/2          1/2  1/2*sqrt(2)]\n",
       "[ 1/2*sqrt(2) -1/2*sqrt(2)            0]"
      ]
     },
     "metadata": {},
     "output_type": "display_data"
    }
   ],
   "source": [
    "A = 1/2*matrix([[1,1,-sqrt(2)],[1,1,sqrt(2)],[sqrt(2),-sqrt(2),0]])\n",
    "show(A)"
   ]
  },
  {
   "cell_type": "markdown",
   "metadata": {},
   "source": [
    "Per saber si és una rotació vectorial hem de comprovar si compleix $A^tA=I$ i $\\det(A)=1$."
   ]
  },
  {
   "cell_type": "code",
   "execution_count": 64,
   "metadata": {},
   "outputs": [
    {
     "data": {
      "text/html": [
       "<html>\\(\\displaystyle \\left(\\begin{array}{rrr}\n",
       "1 & 0 & 0 \\\\\n",
       "0 & 1 & 0 \\\\\n",
       "0 & 0 & 1\n",
       "\\end{array}\\right)\\)</html>"
      ],
      "text/latex": [
       "$\\displaystyle \\left(\\begin{array}{rrr}\n",
       "1 & 0 & 0 \\\\\n",
       "0 & 1 & 0 \\\\\n",
       "0 & 0 & 1\n",
       "\\end{array}\\right)$"
      ],
      "text/plain": [
       "[1 0 0]\n",
       "[0 1 0]\n",
       "[0 0 1]"
      ]
     },
     "metadata": {},
     "output_type": "display_data"
    }
   ],
   "source": [
    "show(A.T * A)"
   ]
  },
  {
   "cell_type": "code",
   "execution_count": 65,
   "metadata": {},
   "outputs": [
    {
     "data": {
      "text/html": [
       "<html>\\(\\displaystyle 1\\)</html>"
      ],
      "text/latex": [
       "$\\displaystyle 1$"
      ],
      "text/plain": [
       "1"
      ]
     },
     "metadata": {},
     "output_type": "display_data"
    }
   ],
   "source": [
    "show(A.det())"
   ]
  },
  {
   "cell_type": "markdown",
   "metadata": {},
   "source": [
    "Efectivament, és una rotació vectorial. Per calcular els angles d'Euler, hem definit una funció."
   ]
  },
  {
   "cell_type": "code",
   "execution_count": 71,
   "metadata": {},
   "outputs": [
    {
     "data": {
      "text/html": [
       "<html>\\(\\displaystyle \\frac{3}{4} \\, \\pi\\)</html>"
      ],
      "text/latex": [
       "$\\displaystyle \\frac{3}{4} \\, \\pi$"
      ],
      "text/plain": [
       "3/4*pi"
      ]
     },
     "metadata": {},
     "output_type": "display_data"
    },
    {
     "data": {
      "text/html": [
       "<html>\\(\\displaystyle \\frac{1}{2} \\, \\pi\\)</html>"
      ],
      "text/latex": [
       "$\\displaystyle \\frac{1}{2} \\, \\pi$"
      ],
      "text/plain": [
       "1/2*pi"
      ]
     },
     "metadata": {},
     "output_type": "display_data"
    },
    {
     "data": {
      "text/html": [
       "<html>\\(\\displaystyle \\frac{5}{4} \\, \\pi\\)</html>"
      ],
      "text/latex": [
       "$\\displaystyle \\frac{5}{4} \\, \\pi$"
      ],
      "text/plain": [
       "5/4*pi"
      ]
     },
     "metadata": {},
     "output_type": "display_data"
    }
   ],
   "source": [
    "psi, theta, phi = angles_euler_rotacio(A,radiants=True)\n",
    "show(psi)\n",
    "show(theta)\n",
    "show(phi)"
   ]
  },
  {
   "cell_type": "markdown",
   "metadata": {},
   "source": [
    "Els angles d'Euler són $\\psi=\\dfrac{3\\pi}{4}$, $\\theta=\\dfrac{\\pi}{2}$ i $\\phi=\\dfrac{5\\pi}{4}$."
   ]
  },
  {
   "cell_type": "markdown",
   "metadata": {},
   "source": [
    "Comprovacio:"
   ]
  },
  {
   "cell_type": "code",
   "execution_count": 72,
   "metadata": {},
   "outputs": [
    {
     "data": {
      "text/html": [
       "<html>\\(\\displaystyle \\left(\\begin{array}{rrr}\n",
       "\\frac{1}{2} & \\frac{1}{2} & -\\frac{1}{2} \\, \\sqrt{2} \\\\\n",
       "\\frac{1}{2} & \\frac{1}{2} & \\frac{1}{2} \\, \\sqrt{2} \\\\\n",
       "\\frac{1}{2} \\, \\sqrt{2} & -\\frac{1}{2} \\, \\sqrt{2} & 0\n",
       "\\end{array}\\right)\\)</html>"
      ],
      "text/latex": [
       "$\\displaystyle \\left(\\begin{array}{rrr}\n",
       "\\frac{1}{2} & \\frac{1}{2} & -\\frac{1}{2} \\, \\sqrt{2} \\\\\n",
       "\\frac{1}{2} & \\frac{1}{2} & \\frac{1}{2} \\, \\sqrt{2} \\\\\n",
       "\\frac{1}{2} \\, \\sqrt{2} & -\\frac{1}{2} \\, \\sqrt{2} & 0\n",
       "\\end{array}\\right)$"
      ],
      "text/plain": [
       "[         1/2          1/2 -1/2*sqrt(2)]\n",
       "[         1/2          1/2  1/2*sqrt(2)]\n",
       "[ 1/2*sqrt(2) -1/2*sqrt(2)            0]"
      ]
     },
     "metadata": {},
     "output_type": "display_data"
    }
   ],
   "source": [
    "show(euler(psi,theta,phi))"
   ]
  },
  {
   "cell_type": "markdown",
   "metadata": {},
   "source": [
    "Per trobar el vector de gir hem de resoldre el sistema d'equacions\n",
    "$$\n",
    "  \\left(\\begin{array}{c} x\\\\ y\\\\ z \\end{array}\\right)\n",
    "  =\\frac{1}{2}\n",
    "  \\left(\\begin{array}{ccc}\n",
    "      1    &    1      & -\\sqrt{2} \\\\\n",
    "      1    &    1      &  \\sqrt{2} \\\\\n",
    "  \\sqrt{2} & -\\sqrt{2} &     0\n",
    "  \\end{array}\\right)\n",
    "  \\left(\\begin{array}{c} x\\\\ y\\\\ z \\end{array}\\right)\\,.\n",
    "$$"
   ]
  },
  {
   "cell_type": "code",
   "execution_count": 73,
   "metadata": {},
   "outputs": [
    {
     "data": {
      "text/html": [
       "<html>\\(\\displaystyle \\left[\\left[x = r_{4}, y = r_{4}, z = 0\\right]\\right]\\)</html>"
      ],
      "text/latex": [
       "$\\displaystyle \\left[\\left[x = r_{4}, y = r_{4}, z = 0\\right]\\right]$"
      ],
      "text/plain": [
       "[[x == r4, y == r4, z == 0]]"
      ]
     },
     "metadata": {},
     "output_type": "display_data"
    }
   ],
   "source": [
    "x, y, z = var('x y z')\n",
    "X = vector([x,y,z])\n",
    "TX = A * X\n",
    "sol = solve([TX[0] == x,TX[1] == y,TX[2] == z],[x,y,z])\n",
    "show(sol)"
   ]
  },
  {
   "cell_type": "markdown",
   "metadata": {},
   "source": [
    "El vector de gir és $\\vec w=(1,1,0)$."
   ]
  },
  {
   "cell_type": "markdown",
   "metadata": {},
   "source": [
    "Per determinar l'angle de gir, hem de fer el següent"
   ]
  },
  {
   "cell_type": "code",
   "execution_count": 74,
   "metadata": {},
   "outputs": [
    {
     "data": {
      "text/html": [
       "<html>\\(\\displaystyle \\frac{1}{2} \\, \\pi\\)</html>"
      ],
      "text/latex": [
       "$\\displaystyle \\frac{1}{2} \\, \\pi$"
      ],
      "text/plain": [
       "1/2*pi"
      ]
     },
     "metadata": {},
     "output_type": "display_data"
    }
   ],
   "source": [
    "a = acos((-1+A.trace())/2)\n",
    "show(a)"
   ]
  },
  {
   "cell_type": "markdown",
   "metadata": {},
   "source": [
    "Amb això sabem que l'angle de gir pot ser $\\alpha=\\dfrac{\\pi}{2}$ o $\\alpha=\\dfrac{3\\pi}{2}$. Per saber quin dels dos és:"
   ]
  },
  {
   "cell_type": "code",
   "execution_count": 75,
   "metadata": {},
   "outputs": [
    {
     "data": {
      "text/html": [
       "<html>\\(\\displaystyle -\\frac{1}{2} \\, \\sqrt{2}\\)</html>"
      ],
      "text/latex": [
       "$\\displaystyle -\\frac{1}{2} \\, \\sqrt{2}$"
      ],
      "text/plain": [
       "-1/2*sqrt(2)"
      ]
     },
     "metadata": {},
     "output_type": "display_data"
    }
   ],
   "source": [
    "u = vector([1,0,0])\n",
    "w = vector([1,1,0])\n",
    "Tu = A * u\n",
    "show(matrix([w,u,Tu]).T.det())"
   ]
  },
  {
   "cell_type": "markdown",
   "metadata": {},
   "source": [
    "Com que és negatiu, l'angle de gir és $\\alpha=\\dfrac{3\\pi}{2}$."
   ]
  },
  {
   "cell_type": "markdown",
   "metadata": {},
   "source": [
    "Per a obtenir el vector i l'angle de gir mitjançant quaternions, hem de determinar el quaternió unitari\n",
    "$$\n",
    "  q = a + bi + cj + dk\n",
    "$$\n",
    "que determina la rotació."
   ]
  },
  {
   "cell_type": "code",
   "execution_count": 76,
   "metadata": {},
   "outputs": [
    {
     "data": {
      "text/html": [
       "<html>\\(\\displaystyle \\left(\\begin{array}{rrr}\n",
       "2 \\, a^{2} + 2 \\, b^{2} - 1 & 2 \\, b c - 2 \\, a d & 2 \\, a c + 2 \\, b d \\\\\n",
       "2 \\, b c + 2 \\, a d & 2 \\, a^{2} + 2 \\, c^{2} - 1 & -2 \\, a b + 2 \\, c d \\\\\n",
       "-2 \\, a c + 2 \\, b d & 2 \\, a b + 2 \\, c d & 2 \\, a^{2} + 2 \\, d^{2} - 1\n",
       "\\end{array}\\right)\\)</html>"
      ],
      "text/latex": [
       "$\\displaystyle \\left(\\begin{array}{rrr}\n",
       "2 \\, a^{2} + 2 \\, b^{2} - 1 & 2 \\, b c - 2 \\, a d & 2 \\, a c + 2 \\, b d \\\\\n",
       "2 \\, b c + 2 \\, a d & 2 \\, a^{2} + 2 \\, c^{2} - 1 & -2 \\, a b + 2 \\, c d \\\\\n",
       "-2 \\, a c + 2 \\, b d & 2 \\, a b + 2 \\, c d & 2 \\, a^{2} + 2 \\, d^{2} - 1\n",
       "\\end{array}\\right)$"
      ],
      "text/plain": [
       "[2*a^2 + 2*b^2 - 1     2*b*c - 2*a*d     2*a*c + 2*b*d]\n",
       "[    2*b*c + 2*a*d 2*a^2 + 2*c^2 - 1    -2*a*b + 2*c*d]\n",
       "[   -2*a*c + 2*b*d     2*a*b + 2*c*d 2*a^2 + 2*d^2 - 1]"
      ]
     },
     "metadata": {},
     "output_type": "display_data"
    }
   ],
   "source": [
    "a, b, c, d = var('a b c d')\n",
    "M = quaternio_a_rotacio(a,b,c,d)\n",
    "show(M)"
   ]
  },
  {
   "cell_type": "markdown",
   "metadata": {},
   "source": [
    "Ara hem d'igualar aquesta matriu a la matriu $A$ de l'enunciat i resoldre el corresponent sistema d'equacions.\n",
    "\n",
    "**Important**: fixeu-vos com es resol aquesta igualtat matricial."
   ]
  },
  {
   "cell_type": "code",
   "execution_count": 77,
   "metadata": {},
   "outputs": [
    {
     "data": {
      "text/html": [
       "<html>\\(\\displaystyle \\left[\\left[a = -\\frac{1}{2} \\, \\sqrt{2}, b = \\left(\\frac{1}{2}\\right), c = \\left(\\frac{1}{2}\\right), d = 0\\right], \\left[a = \\frac{1}{2} \\, \\sqrt{2}, b = \\left(-\\frac{1}{2}\\right), c = \\left(-\\frac{1}{2}\\right), d = 0\\right]\\right]\\)</html>"
      ],
      "text/latex": [
       "$\\displaystyle \\left[\\left[a = -\\frac{1}{2} \\, \\sqrt{2}, b = \\left(\\frac{1}{2}\\right), c = \\left(\\frac{1}{2}\\right), d = 0\\right], \\left[a = \\frac{1}{2} \\, \\sqrt{2}, b = \\left(-\\frac{1}{2}\\right), c = \\left(-\\frac{1}{2}\\right), d = 0\\right]\\right]$"
      ],
      "text/plain": [
       "[[a == -1/2*sqrt(2), b == (1/2), c == (1/2), d == 0],\n",
       " [a == 1/2*sqrt(2), b == (-1/2), c == (-1/2), d == 0]]"
      ]
     },
     "metadata": {},
     "output_type": "display_data"
    }
   ],
   "source": [
    "show(solve([M[i,j] == A[i,j] for i in range(3) for j in range(3)],[a,b,c,d]))"
   ]
  },
  {
   "cell_type": "markdown",
   "metadata": {},
   "source": [
    "Podem escollir qualsevol de les dues solucions. Si prenem la primera, tindrem que\n",
    "$$\n",
    "  a=-\\frac{\\sqrt{2}}{2}\\,,\\qquad b=\\frac{1}{2}\\,,\\qquad c=\\frac{1}{2}\\,,\\quad\\text{i}\\quad d=0\\,, \n",
    "$$\n",
    "és a dir, el quaternió és\n",
    "$$\n",
    "  q=-\\frac{\\sqrt{2}}{2} + \\frac{i}{2} + \\frac{j}{2}=-\\frac{\\sqrt{2}}{2} +\\frac{\\sqrt{2}}{2}\\cdot\\frac{1}{\\sqrt{2}}(i+j)\\,.\n",
    "$$\n",
    "Per tant, el vector de gir és $\\vec w=(1,1,0)$ i $\\cos\\dfrac{\\alpha}{2}=-\\dfrac{\\sqrt{2}}{2}$ i $\\sin\\dfrac{\\alpha}{2}=\\dfrac{\\sqrt{2}}{2}$."
   ]
  },
  {
   "cell_type": "code",
   "execution_count": 78,
   "metadata": {},
   "outputs": [
    {
     "data": {
      "text/html": [
       "<html>\\(\\displaystyle -\\frac{1}{2} \\, \\pi\\)</html>"
      ],
      "text/latex": [
       "$\\displaystyle -\\frac{1}{2} \\, \\pi$"
      ],
      "text/plain": [
       "-1/2*pi"
      ]
     },
     "metadata": {},
     "output_type": "display_data"
    }
   ],
   "source": [
    "c = -sqrt(2)/2\n",
    "s = sqrt(2)/2\n",
    "show(2 * atan2(c,s))"
   ]
  },
  {
   "cell_type": "markdown",
   "metadata": {},
   "source": [
    "El vector de gir és $\\vec w=(1,1,0)$ i l'angle de gir $\\alpha=-\\dfrac{\\pi}{2}$ (que és equivalent a $\\dfrac{3\\pi}{2}$)."
   ]
  },
  {
   "cell_type": "markdown",
   "metadata": {},
   "source": [
    "## Exercici 20\n",
    "Trobeu la imatge del punt $(0,1,-2)$ i les antiimatges del punt $(3,1,-1)$\n",
    "en la transformació afí $T$ de $P_3$ tal que\n",
    "$$\n",
    "  \\left(\\begin{array}{c} u \\\\ v \\\\ w \\end{array}\\right)\n",
    "  = \\left(\\begin{array}{r} 4 \\\\ 1 \\\\ -2 \\end{array}\\right)\n",
    "  + \\left(\\begin{array}{rrr}\n",
    "   -1 &  1 &  0\\\\\n",
    "   -4 &  0 & -1\\\\\n",
    "    1 & -1 &  0\n",
    "  \\end{array}\\right)\n",
    "  \\left(\\begin{array}{c} x \\\\ y \\\\ z \\end{array}\\right)\\,.\n",
    "$$"
   ]
  },
  {
   "cell_type": "markdown",
   "metadata": {},
   "source": [
    "Per calcular les imatges hem de substituir la $x$, la $y$ i la $z$ per les coordenades del punt del que volem calcular la imatge"
   ]
  },
  {
   "cell_type": "code",
   "execution_count": 79,
   "metadata": {},
   "outputs": [
    {
     "data": {
      "text/html": [
       "<html>\\(\\displaystyle \\left(5,\\,3,\\,-3\\right)\\)</html>"
      ],
      "text/latex": [
       "$\\displaystyle \\left(5,\\,3,\\,-3\\right)$"
      ],
      "text/plain": [
       "(5, 3, -3)"
      ]
     },
     "metadata": {},
     "output_type": "display_data"
    }
   ],
   "source": [
    "B = vector([4,1,-2])\n",
    "A = matrix([[-1,1,0],[-4,0,-1],[1,-1,0]])\n",
    "p = vector([0,1,-2])\n",
    "show(B + A*p)"
   ]
  },
  {
   "cell_type": "markdown",
   "metadata": {},
   "source": [
    "La imatge del punt $(0,1,-2)$ és el punt $(5,3,-3)$, és a dir, $T(0,1,-2)=(5,3,-3)$."
   ]
  },
  {
   "cell_type": "markdown",
   "metadata": {},
   "source": [
    "Per trobar antiimatges, hem de resoldre un sistema d'equacions:"
   ]
  },
  {
   "cell_type": "code",
   "execution_count": 81,
   "metadata": {},
   "outputs": [
    {
     "data": {
      "text/html": [
       "<html>\\(\\displaystyle \\left(-x + y + 4,\\,-4 \\, x - z + 1,\\,x - y - 2\\right)\\)</html>"
      ],
      "text/latex": [
       "$\\displaystyle \\left(-x + y + 4,\\,-4 \\, x - z + 1,\\,x - y - 2\\right)$"
      ],
      "text/plain": [
       "(-x + y + 4, -4*x - z + 1, x - y - 2)"
      ]
     },
     "metadata": {},
     "output_type": "display_data"
    }
   ],
   "source": [
    "x, y, z = var('x y z')\n",
    "X = vector([x,y,z])\n",
    "q = vector([3,1,-1])\n",
    "TX = B + A*X\n",
    "show(TX)"
   ]
  },
  {
   "cell_type": "code",
   "execution_count": 82,
   "metadata": {},
   "outputs": [
    {
     "data": {
      "text/html": [
       "<html>\\(\\displaystyle \\left[\\left[x = r_{5}, y = r_{5} - 1, z = -4 \\, r_{5}\\right]\\right]\\)</html>"
      ],
      "text/latex": [
       "$\\displaystyle \\left[\\left[x = r_{5}, y = r_{5} - 1, z = -4 \\, r_{5}\\right]\\right]$"
      ],
      "text/plain": [
       "[[x == r5, y == r5 - 1, z == -4*r5]]"
      ]
     },
     "metadata": {},
     "output_type": "display_data"
    }
   ],
   "source": [
    "show(solve([TX[i] == q[i] for i in range(3)],[x,y,z]))"
   ]
  },
  {
   "cell_type": "markdown",
   "metadata": {},
   "source": [
    "Tots els punts de la forma $(t,t-1,-4t)$ són antiimatges de $(3,1,-1)$, és a dir, \n",
    "$$\n",
    "  T^{-1}(3,1,-1)=\\{(t,t-1,-4t)\\quad\\text{amb}\\quad t\\in\\mathbb{R}\\}\\,.\n",
    "$$"
   ]
  },
  {
   "cell_type": "markdown",
   "metadata": {},
   "source": [
    "## Exercici 21\n",
    "Donada la transformació afí \n",
    "$$\n",
    "  \\left(\\begin{array}{c} u \\\\ v \\end{array}\\right)\n",
    "  =\\left(\\begin{array}{r} 2 \\\\ 3 \\end{array}\\right)\n",
    "  +\\frac{1}{9}\\left(\\begin{array}{rr}\n",
    "   1 & 4\\\\\n",
    "   8 & 5\n",
    "  \\end{array}\\right)\n",
    "  \\left(\\begin{array}{c} x \\\\ y \\end{array}\\right)\\,,\n",
    "$$\n",
    "representeu gràficament la figura que s'ha transformat en la circumferència de centre $(3,-1)$ i radi 2."
   ]
  },
  {
   "cell_type": "code",
   "execution_count": 83,
   "metadata": {},
   "outputs": [
    {
     "data": {
      "image/svg+xml": [
       "<svg xmlns=\"http://www.w3.org/2000/svg\" xmlns:xlink=\"http://www.w3.org/1999/xlink\" version=\"1.1\" width=\"567.637796pt\" height=\"567.637796pt\" viewBox=\"340.228346 337.677165 567.637796 567.637796\">\n",
       "<defs>\n",
       "<path id=\"g0-0\" d=\"M7.878456-2.749689C8.081694-2.749689 8.296887-2.749689 8.296887-2.988792S8.081694-3.227895 7.878456-3.227895H1.41071C1.207472-3.227895 .992279-3.227895 .992279-2.988792S1.207472-2.749689 1.41071-2.749689H7.878456Z\"/>\n",
       "<path id=\"g1-49\" d=\"M3.443088-7.663263C3.443088-7.938232 3.443088-7.950187 3.203985-7.950187C2.917061-7.627397 2.319303-7.185056 1.08792-7.185056V-6.838356C1.362889-6.838356 1.960648-6.838356 2.618182-7.149191V-.920548C2.618182-.490162 2.582316-.3467 1.530262-.3467H1.159651V0C1.482441-.02391 2.642092-.02391 3.036613-.02391S4.578829-.02391 4.901619 0V-.3467H4.531009C3.478954-.3467 3.443088-.490162 3.443088-.920548V-7.663263Z\"/>\n",
       "<path id=\"g1-50\" d=\"M5.260274-2.008468H4.99726C4.961395-1.80523 4.865753-1.147696 4.746202-.956413C4.662516-.848817 3.981071-.848817 3.622416-.848817H1.41071C1.733499-1.123786 2.462765-1.888917 2.773599-2.175841C4.590785-3.849564 5.260274-4.471233 5.260274-5.654795C5.260274-7.029639 4.172354-7.950187 2.785554-7.950187S.585803-6.766625 .585803-5.738481C.585803-5.128767 1.111831-5.128767 1.147696-5.128767C1.398755-5.128767 1.709589-5.308095 1.709589-5.69066C1.709589-6.025405 1.482441-6.252553 1.147696-6.252553C1.0401-6.252553 1.016189-6.252553 .980324-6.240598C1.207472-7.053549 1.853051-7.603487 2.630137-7.603487C3.646326-7.603487 4.267995-6.75467 4.267995-5.654795C4.267995-4.638605 3.682192-3.753923 3.000747-2.988792L.585803-.286924V0H4.94944L5.260274-2.008468Z\"/>\n",
       "<path id=\"g1-51\" d=\"M2.199751-4.291905C1.996513-4.27995 1.948692-4.267995 1.948692-4.160399C1.948692-4.040847 2.008468-4.040847 2.223661-4.040847H2.773599C3.789788-4.040847 4.244085-3.203985 4.244085-2.056289C4.244085-.490162 3.431133-.071731 2.84533-.071731C2.271482-.071731 1.291158-.3467 .944458-1.135741C1.327024-1.075965 1.673724-1.291158 1.673724-1.721544C1.673724-2.068244 1.422665-2.307347 1.08792-2.307347C.800996-2.307347 .490162-2.139975 .490162-1.685679C.490162-.621669 1.554172 .251059 2.881196 .251059C4.303861 .251059 5.355915-.836862 5.355915-2.044334C5.355915-3.144209 4.471233-4.004981 3.323537-4.208219C4.363636-4.507098 5.033126-5.379826 5.033126-6.312329C5.033126-7.256787 4.052802-7.950187 2.893151-7.950187C1.697634-7.950187 .812951-7.220922 .812951-6.348194C.812951-5.869988 1.183562-5.774346 1.362889-5.774346C1.613948-5.774346 1.900872-5.953674 1.900872-6.312329C1.900872-6.694894 1.613948-6.862267 1.350934-6.862267C1.279203-6.862267 1.255293-6.862267 1.219427-6.850311C1.673724-7.663263 2.797509-7.663263 2.857285-7.663263C3.251806-7.663263 4.028892-7.483935 4.028892-6.312329C4.028892-6.085181 3.993026-5.415691 3.646326-4.901619C3.287671-4.375592 2.881196-4.339726 2.558406-4.327771L2.199751-4.291905Z\"/>\n",
       "<path id=\"g1-52\" d=\"M4.315816-7.782814C4.315816-8.009963 4.315816-8.069738 4.148443-8.069738C4.052802-8.069738 4.016936-8.069738 3.921295-7.926276L.32279-2.343213V-1.996513H3.466999V-.908593C3.466999-.466252 3.443088-.3467 2.570361-.3467H2.331258V0C2.606227-.02391 3.550685-.02391 3.88543-.02391S5.176588-.02391 5.451557 0V-.3467H5.212453C4.351681-.3467 4.315816-.466252 4.315816-.908593V-1.996513H5.523288V-2.343213H4.315816V-7.782814ZM3.526775-6.850311V-2.343213H.621669L3.526775-6.850311Z\"/>\n",
       "<path id=\"g1-53\" d=\"M1.530262-6.850311C2.044334-6.682939 2.462765-6.670984 2.594271-6.670984C3.945205-6.670984 4.805978-7.663263 4.805978-7.830635C4.805978-7.878456 4.782067-7.938232 4.710336-7.938232C4.686426-7.938232 4.662516-7.938232 4.554919-7.890411C3.88543-7.603487 3.311582-7.567621 3.000747-7.567621C2.211706-7.567621 1.649813-7.806725 1.422665-7.902366C1.338979-7.938232 1.315068-7.938232 1.303113-7.938232C1.207472-7.938232 1.207472-7.866501 1.207472-7.675218V-4.124533C1.207472-3.90934 1.207472-3.837609 1.350934-3.837609C1.41071-3.837609 1.422665-3.849564 1.542217-3.993026C1.876961-4.483188 2.438854-4.770112 3.036613-4.770112C3.670237-4.770112 3.981071-4.184309 4.076712-3.981071C4.27995-3.514819 4.291905-2.929016 4.291905-2.47472S4.291905-1.338979 3.957161-.800996C3.694147-.37061 3.227895-.071731 2.701868-.071731C1.912827-.071731 1.135741-.609714 .920548-1.482441C.980324-1.458531 1.052055-1.446575 1.111831-1.446575C1.315068-1.446575 1.637858-1.566127 1.637858-1.972603C1.637858-2.307347 1.41071-2.49863 1.111831-2.49863C.896638-2.49863 .585803-2.391034 .585803-1.924782C.585803-.908593 1.398755 .251059 2.725778 .251059C4.076712 .251059 5.260274-.884682 5.260274-2.402989C5.260274-3.825654 4.303861-5.009215 3.048568-5.009215C2.367123-5.009215 1.841096-4.710336 1.530262-4.375592V-6.850311Z\"/>\n",
       "<path id=\"g1-54\" d=\"M1.470486-4.160399C1.470486-7.185056 2.940971-7.663263 3.58655-7.663263C4.016936-7.663263 4.447323-7.531756 4.674471-7.173101C4.531009-7.173101 4.076712-7.173101 4.076712-6.682939C4.076712-6.419925 4.25604-6.192777 4.566874-6.192777C4.865753-6.192777 5.068991-6.372105 5.068991-6.718804C5.068991-7.340473 4.614695-7.950187 3.574595-7.950187C2.068244-7.950187 .490162-6.40797 .490162-3.777833C.490162-.490162 1.924782 .251059 2.940971 .251059C4.244085 .251059 5.355915-.884682 5.355915-2.438854C5.355915-4.028892 4.244085-5.092902 3.048568-5.092902C1.984558-5.092902 1.590037-4.172354 1.470486-3.837609V-4.160399ZM2.940971-.071731C2.187796-.071731 1.829141-.74122 1.721544-.992279C1.613948-1.303113 1.494396-1.888917 1.494396-2.725778C1.494396-3.670237 1.924782-4.853798 3.000747-4.853798C3.658281-4.853798 4.004981-4.411457 4.184309-4.004981C4.375592-3.56264 4.375592-2.964882 4.375592-2.450809C4.375592-1.841096 4.375592-1.303113 4.148443-.848817C3.849564-.274969 3.419178-.071731 2.940971-.071731Z\"/>\n",
       "<path id=\"g1-55\" d=\"M5.678705-7.424159V-7.699128H2.797509C1.350934-7.699128 1.327024-7.854545 1.279203-8.081694H1.016189L.645579-5.69066H.908593C.944458-5.905853 1.052055-6.647073 1.207472-6.77858C1.303113-6.850311 2.199751-6.850311 2.367123-6.850311H4.901619L3.634371-5.033126C3.311582-4.566874 2.10411-2.606227 2.10411-.358655C2.10411-.227148 2.10411 .251059 2.594271 .251059C3.096389 .251059 3.096389-.215193 3.096389-.37061V-.968369C3.096389-2.749689 3.383313-4.136488 3.945205-4.937484L5.678705-7.424159Z\"/>\n",
       "<path id=\"g1-56\" d=\"M3.56264-4.315816C4.160399-4.638605 5.033126-5.188543 5.033126-6.192777C5.033126-7.232877 4.028892-7.950187 2.929016-7.950187C1.745455-7.950187 .812951-7.07746 .812951-5.989539C.812951-5.583064 .932503-5.176588 1.267248-4.770112C1.398755-4.614695 1.41071-4.60274 2.247572-4.016936C1.08792-3.478954 .490162-2.677958 .490162-1.80523C.490162-.537983 1.697634 .251059 2.917061 .251059C4.244085 .251059 5.355915-.729265 5.355915-1.984558C5.355915-3.203985 4.495143-3.741968 3.56264-4.315816ZM1.936737-5.391781C1.78132-5.499377 1.303113-5.810212 1.303113-6.396015C1.303113-7.173101 2.116065-7.663263 2.917061-7.663263C3.777833-7.663263 4.542964-7.041594 4.542964-6.180822C4.542964-5.451557 4.016936-4.865753 3.323537-4.483188L1.936737-5.391781ZM2.49863-3.849564L3.945205-2.905106C4.25604-2.701868 4.805978-2.331258 4.805978-1.601993C4.805978-.6934 3.88543-.071731 2.929016-.071731C1.912827-.071731 1.0401-.812951 1.0401-1.80523C1.0401-2.737733 1.721544-3.490909 2.49863-3.849564Z\"/>\n",
       "<path id=\"g1-57\" d=\"M4.375592-3.478954C4.375592-.657534 3.120299-.071731 2.402989-.071731C2.116065-.071731 1.482441-.107597 1.183562-.526027H1.255293C1.338979-.502117 1.769365-.573848 1.769365-1.016189C1.769365-1.279203 1.590037-1.506351 1.279203-1.506351S.777086-1.303113 .777086-.992279C.777086-.251059 1.374844 .251059 2.414944 .251059C3.90934 .251059 5.355915-1.338979 5.355915-3.93325C5.355915-7.149191 4.016936-7.950187 2.964882-7.950187C1.649813-7.950187 .490162-6.850311 .490162-5.272229S1.601993-2.618182 2.797509-2.618182C3.682192-2.618182 4.136488-3.263761 4.375592-3.873474V-3.478954ZM2.84533-2.857285C2.092154-2.857285 1.769365-3.466999 1.661768-3.694147C1.470486-4.148443 1.470486-4.722291 1.470486-5.260274C1.470486-5.929763 1.470486-6.503611 1.78132-6.993773C1.996513-7.316563 2.319303-7.663263 2.964882-7.663263C3.646326-7.663263 3.993026-7.065504 4.112578-6.790535C4.351681-6.204732 4.351681-5.188543 4.351681-5.009215C4.351681-4.004981 3.897385-2.857285 2.84533-2.857285Z\"/>\n",
       "</defs>\n",
       "<g id=\"page1\">\n",
       "<g transform=\"translate(340.228 337.677)scale(.996264)\">\n",
       "<path d=\"M.355659 569.411V.355659\" fill=\"none\" stroke=\"#cccccc\" stroke-linecap=\"round\" stroke-linejoin=\"round\" stroke-miterlimit=\"10.0375\" stroke-width=\"0.426791\"/>\n",
       "</g>\n",
       "<g transform=\"translate(340.228 337.677)scale(.996264)\">\n",
       "<path d=\"M7.46885 569.411V.355659\" fill=\"none\" stroke=\"#cccccc\" stroke-dasharray=\"0,0.682969\" stroke-linecap=\"round\" stroke-linejoin=\"round\" stroke-miterlimit=\"10.0375\" stroke-width=\"0.170717\"/>\n",
       "</g>\n",
       "<g transform=\"translate(340.228 337.677)scale(.996264)\">\n",
       "<path d=\"M14.582 569.411V.355659\" fill=\"none\" stroke=\"#cccccc\" stroke-dasharray=\"0,0.682969\" stroke-linecap=\"round\" stroke-linejoin=\"round\" stroke-miterlimit=\"10.0375\" stroke-width=\"0.170717\"/>\n",
       "</g>\n",
       "<g transform=\"translate(340.228 337.677)scale(.996264)\">\n",
       "<path d=\"M21.6952 569.411V.355659\" fill=\"none\" stroke=\"#cccccc\" stroke-dasharray=\"0,0.682969\" stroke-linecap=\"round\" stroke-linejoin=\"round\" stroke-miterlimit=\"10.0375\" stroke-width=\"0.170717\"/>\n",
       "</g>\n",
       "<g transform=\"translate(340.228 337.677)scale(.996264)\">\n",
       "<path d=\"M28.8084 569.411V.355659\" fill=\"none\" stroke=\"#cccccc\" stroke-linecap=\"round\" stroke-linejoin=\"round\" stroke-miterlimit=\"10.0375\" stroke-width=\"0.426791\"/>\n",
       "</g>\n",
       "<g transform=\"translate(340.228 337.677)scale(.996264)\">\n",
       "<path d=\"M35.9216 569.411V.355659\" fill=\"none\" stroke=\"#cccccc\" stroke-dasharray=\"0,0.682969\" stroke-linecap=\"round\" stroke-linejoin=\"round\" stroke-miterlimit=\"10.0375\" stroke-width=\"0.170717\"/>\n",
       "</g>\n",
       "<g transform=\"translate(340.228 337.677)scale(.996264)\">\n",
       "<path d=\"M43.0348 569.411V.355659\" fill=\"none\" stroke=\"#cccccc\" stroke-dasharray=\"0,0.682969\" stroke-linecap=\"round\" stroke-linejoin=\"round\" stroke-miterlimit=\"10.0375\" stroke-width=\"0.170717\"/>\n",
       "</g>\n",
       "<g transform=\"translate(340.228 337.677)scale(.996264)\">\n",
       "<path d=\"M50.148 569.411V.355659\" fill=\"none\" stroke=\"#cccccc\" stroke-dasharray=\"0,0.682969\" stroke-linecap=\"round\" stroke-linejoin=\"round\" stroke-miterlimit=\"10.0375\" stroke-width=\"0.170717\"/>\n",
       "</g>\n",
       "<g transform=\"translate(340.228 337.677)scale(.996264)\">\n",
       "<path d=\"M57.2612 569.411V.355659\" fill=\"none\" stroke=\"#cccccc\" stroke-linecap=\"round\" stroke-linejoin=\"round\" stroke-miterlimit=\"10.0375\" stroke-width=\"0.426791\"/>\n",
       "</g>\n",
       "<g transform=\"translate(340.228 337.677)scale(.996264)\">\n",
       "<path d=\"M64.3744 569.411V.355659\" fill=\"none\" stroke=\"#cccccc\" stroke-dasharray=\"0,0.682969\" stroke-linecap=\"round\" stroke-linejoin=\"round\" stroke-miterlimit=\"10.0375\" stroke-width=\"0.170717\"/>\n",
       "</g>\n",
       "<g transform=\"translate(340.228 337.677)scale(.996264)\">\n",
       "<path d=\"M71.4875 569.411V.355659\" fill=\"none\" stroke=\"#cccccc\" stroke-dasharray=\"0,0.682969\" stroke-linecap=\"round\" stroke-linejoin=\"round\" stroke-miterlimit=\"10.0375\" stroke-width=\"0.170717\"/>\n",
       "</g>\n",
       "<g transform=\"translate(340.228 337.677)scale(.996264)\">\n",
       "<path d=\"M78.6007 569.411V.355659\" fill=\"none\" stroke=\"#cccccc\" stroke-dasharray=\"0,0.682969\" stroke-linecap=\"round\" stroke-linejoin=\"round\" stroke-miterlimit=\"10.0375\" stroke-width=\"0.170717\"/>\n",
       "</g>\n",
       "<g transform=\"translate(340.228 337.677)scale(.996264)\">\n",
       "<path d=\"M85.7139 569.411V.355659\" fill=\"none\" stroke=\"#cccccc\" stroke-linecap=\"round\" stroke-linejoin=\"round\" stroke-miterlimit=\"10.0375\" stroke-width=\"0.426791\"/>\n",
       "</g>\n",
       "<g transform=\"translate(340.228 337.677)scale(.996264)\">\n",
       "<path d=\"M92.8271 569.411V.355659\" fill=\"none\" stroke=\"#cccccc\" stroke-dasharray=\"0,0.682969\" stroke-linecap=\"round\" stroke-linejoin=\"round\" stroke-miterlimit=\"10.0375\" stroke-width=\"0.170717\"/>\n",
       "</g>\n",
       "<g transform=\"translate(340.228 337.677)scale(.996264)\">\n",
       "<path d=\"M99.9403 569.411V.355659\" fill=\"none\" stroke=\"#cccccc\" stroke-dasharray=\"0,0.682969\" stroke-linecap=\"round\" stroke-linejoin=\"round\" stroke-miterlimit=\"10.0375\" stroke-width=\"0.170717\"/>\n",
       "</g>\n",
       "<g transform=\"translate(340.228 337.677)scale(.996264)\">\n",
       "<path d=\"M107.053 569.411V.355659\" fill=\"none\" stroke=\"#cccccc\" stroke-dasharray=\"0,0.682969\" stroke-linecap=\"round\" stroke-linejoin=\"round\" stroke-miterlimit=\"10.0375\" stroke-width=\"0.170717\"/>\n",
       "</g>\n",
       "<g transform=\"translate(340.228 337.677)scale(.996264)\">\n",
       "<path d=\"M114.167 569.411V.355659\" fill=\"none\" stroke=\"#cccccc\" stroke-linecap=\"round\" stroke-linejoin=\"round\" stroke-miterlimit=\"10.0375\" stroke-width=\"0.426791\"/>\n",
       "</g>\n",
       "<g transform=\"translate(340.228 337.677)scale(.996264)\">\n",
       "<path d=\"M121.28 569.411V.355659\" fill=\"none\" stroke=\"#cccccc\" stroke-dasharray=\"0,0.682969\" stroke-linecap=\"round\" stroke-linejoin=\"round\" stroke-miterlimit=\"10.0375\" stroke-width=\"0.170717\"/>\n",
       "</g>\n",
       "<g transform=\"translate(340.228 337.677)scale(.996264)\">\n",
       "<path d=\"M128.393 569.411V.355659\" fill=\"none\" stroke=\"#cccccc\" stroke-dasharray=\"0,0.682969\" stroke-linecap=\"round\" stroke-linejoin=\"round\" stroke-miterlimit=\"10.0375\" stroke-width=\"0.170717\"/>\n",
       "</g>\n",
       "<g transform=\"translate(340.228 337.677)scale(.996264)\">\n",
       "<path d=\"M135.506 569.411V.355659\" fill=\"none\" stroke=\"#cccccc\" stroke-dasharray=\"0,0.682969\" stroke-linecap=\"round\" stroke-linejoin=\"round\" stroke-miterlimit=\"10.0375\" stroke-width=\"0.170717\"/>\n",
       "</g>\n",
       "<g transform=\"translate(340.228 337.677)scale(.996264)\">\n",
       "<path d=\"M142.619 569.411V.355659\" fill=\"none\" stroke=\"#cccccc\" stroke-linecap=\"round\" stroke-linejoin=\"round\" stroke-miterlimit=\"10.0375\" stroke-width=\"0.426791\"/>\n",
       "</g>\n",
       "<g transform=\"translate(340.228 337.677)scale(.996264)\">\n",
       "<path d=\"M149.733 569.411V.355659\" fill=\"none\" stroke=\"#cccccc\" stroke-dasharray=\"0,0.682969\" stroke-linecap=\"round\" stroke-linejoin=\"round\" stroke-miterlimit=\"10.0375\" stroke-width=\"0.170717\"/>\n",
       "</g>\n",
       "<g transform=\"translate(340.228 337.677)scale(.996264)\">\n",
       "<path d=\"M156.846 569.411V.355659\" fill=\"none\" stroke=\"#cccccc\" stroke-dasharray=\"0,0.682969\" stroke-linecap=\"round\" stroke-linejoin=\"round\" stroke-miterlimit=\"10.0375\" stroke-width=\"0.170717\"/>\n",
       "</g>\n",
       "<g transform=\"translate(340.228 337.677)scale(.996264)\">\n",
       "<path d=\"M163.959 569.411V.355659\" fill=\"none\" stroke=\"#cccccc\" stroke-dasharray=\"0,0.682969\" stroke-linecap=\"round\" stroke-linejoin=\"round\" stroke-miterlimit=\"10.0375\" stroke-width=\"0.170717\"/>\n",
       "</g>\n",
       "<g transform=\"translate(340.228 337.677)scale(.996264)\">\n",
       "<path d=\"M171.072 569.411V.355659\" fill=\"none\" stroke=\"#cccccc\" stroke-linecap=\"round\" stroke-linejoin=\"round\" stroke-miterlimit=\"10.0375\" stroke-width=\"0.426791\"/>\n",
       "</g>\n",
       "<g transform=\"translate(340.228 337.677)scale(.996264)\">\n",
       "<path d=\"M178.185 569.411V.355659\" fill=\"none\" stroke=\"#cccccc\" stroke-dasharray=\"0,0.682969\" stroke-linecap=\"round\" stroke-linejoin=\"round\" stroke-miterlimit=\"10.0375\" stroke-width=\"0.170717\"/>\n",
       "</g>\n",
       "<g transform=\"translate(340.228 337.677)scale(.996264)\">\n",
       "<path d=\"M185.299 569.411V.355659\" fill=\"none\" stroke=\"#cccccc\" stroke-dasharray=\"0,0.682969\" stroke-linecap=\"round\" stroke-linejoin=\"round\" stroke-miterlimit=\"10.0375\" stroke-width=\"0.170717\"/>\n",
       "</g>\n",
       "<g transform=\"translate(340.228 337.677)scale(.996264)\">\n",
       "<path d=\"M192.412 569.411V.355659\" fill=\"none\" stroke=\"#cccccc\" stroke-dasharray=\"0,0.682969\" stroke-linecap=\"round\" stroke-linejoin=\"round\" stroke-miterlimit=\"10.0375\" stroke-width=\"0.170717\"/>\n",
       "</g>\n",
       "<g transform=\"translate(340.228 337.677)scale(.996264)\">\n",
       "<path d=\"M199.525 569.411V.355659\" fill=\"none\" stroke=\"#cccccc\" stroke-linecap=\"round\" stroke-linejoin=\"round\" stroke-miterlimit=\"10.0375\" stroke-width=\"0.426791\"/>\n",
       "</g>\n",
       "<g transform=\"translate(340.228 337.677)scale(.996264)\">\n",
       "<path d=\"M206.638 569.411V.355659\" fill=\"none\" stroke=\"#cccccc\" stroke-dasharray=\"0,0.682969\" stroke-linecap=\"round\" stroke-linejoin=\"round\" stroke-miterlimit=\"10.0375\" stroke-width=\"0.170717\"/>\n",
       "</g>\n",
       "<g transform=\"translate(340.228 337.677)scale(.996264)\">\n",
       "<path d=\"M213.751 569.411V.355659\" fill=\"none\" stroke=\"#cccccc\" stroke-dasharray=\"0,0.682969\" stroke-linecap=\"round\" stroke-linejoin=\"round\" stroke-miterlimit=\"10.0375\" stroke-width=\"0.170717\"/>\n",
       "</g>\n",
       "<g transform=\"translate(340.228 337.677)scale(.996264)\">\n",
       "<path d=\"M220.865 569.411V.355659\" fill=\"none\" stroke=\"#cccccc\" stroke-dasharray=\"0,0.682969\" stroke-linecap=\"round\" stroke-linejoin=\"round\" stroke-miterlimit=\"10.0375\" stroke-width=\"0.170717\"/>\n",
       "</g>\n",
       "<g transform=\"translate(340.228 337.677)scale(.996264)\">\n",
       "<path d=\"M227.978 569.411V.355659\" fill=\"none\" stroke=\"#cccccc\" stroke-linecap=\"round\" stroke-linejoin=\"round\" stroke-miterlimit=\"10.0375\" stroke-width=\"0.426791\"/>\n",
       "</g>\n",
       "<g transform=\"translate(340.228 337.677)scale(.996264)\">\n",
       "<path d=\"M235.091 569.411V.355659\" fill=\"none\" stroke=\"#cccccc\" stroke-dasharray=\"0,0.682969\" stroke-linecap=\"round\" stroke-linejoin=\"round\" stroke-miterlimit=\"10.0375\" stroke-width=\"0.170717\"/>\n",
       "</g>\n",
       "<g transform=\"translate(340.228 337.677)scale(.996264)\">\n",
       "<path d=\"M242.204 569.411V.355659\" fill=\"none\" stroke=\"#cccccc\" stroke-dasharray=\"0,0.682969\" stroke-linecap=\"round\" stroke-linejoin=\"round\" stroke-miterlimit=\"10.0375\" stroke-width=\"0.170717\"/>\n",
       "</g>\n",
       "<g transform=\"translate(340.228 337.677)scale(.996264)\">\n",
       "<path d=\"M249.317 569.411V.355659\" fill=\"none\" stroke=\"#cccccc\" stroke-dasharray=\"0,0.682969\" stroke-linecap=\"round\" stroke-linejoin=\"round\" stroke-miterlimit=\"10.0375\" stroke-width=\"0.170717\"/>\n",
       "</g>\n",
       "<g transform=\"translate(340.228 337.677)scale(.996264)\">\n",
       "<path d=\"M256.43 569.411V.355659\" fill=\"none\" stroke=\"#cccccc\" stroke-linecap=\"round\" stroke-linejoin=\"round\" stroke-miterlimit=\"10.0375\" stroke-width=\"0.426791\"/>\n",
       "</g>\n",
       "<g transform=\"translate(340.228 337.677)scale(.996264)\">\n",
       "<path d=\"M263.544 569.411V.355659\" fill=\"none\" stroke=\"#cccccc\" stroke-dasharray=\"0,0.682969\" stroke-linecap=\"round\" stroke-linejoin=\"round\" stroke-miterlimit=\"10.0375\" stroke-width=\"0.170717\"/>\n",
       "</g>\n",
       "<g transform=\"translate(340.228 337.677)scale(.996264)\">\n",
       "<path d=\"M270.657 569.411V.355659\" fill=\"none\" stroke=\"#cccccc\" stroke-dasharray=\"0,0.682969\" stroke-linecap=\"round\" stroke-linejoin=\"round\" stroke-miterlimit=\"10.0375\" stroke-width=\"0.170717\"/>\n",
       "</g>\n",
       "<g transform=\"translate(340.228 337.677)scale(.996264)\">\n",
       "<path d=\"M277.77 569.411V.355659\" fill=\"none\" stroke=\"#cccccc\" stroke-dasharray=\"0,0.682969\" stroke-linecap=\"round\" stroke-linejoin=\"round\" stroke-miterlimit=\"10.0375\" stroke-width=\"0.170717\"/>\n",
       "</g>\n",
       "<g transform=\"translate(340.228 337.677)scale(.996264)\">\n",
       "<path d=\"M284.883 569.411V.355659\" fill=\"none\" stroke=\"#cccccc\" stroke-linecap=\"round\" stroke-linejoin=\"round\" stroke-miterlimit=\"10.0375\" stroke-width=\"0.426791\"/>\n",
       "</g>\n",
       "<g transform=\"translate(340.228 337.677)scale(.996264)\">\n",
       "<path d=\"M291.996 569.411V.355659\" fill=\"none\" stroke=\"#cccccc\" stroke-dasharray=\"0,0.682969\" stroke-linecap=\"round\" stroke-linejoin=\"round\" stroke-miterlimit=\"10.0375\" stroke-width=\"0.170717\"/>\n",
       "</g>\n",
       "<g transform=\"translate(340.228 337.677)scale(.996264)\">\n",
       "<path d=\"M299.11 569.411V.355659\" fill=\"none\" stroke=\"#cccccc\" stroke-dasharray=\"0,0.682969\" stroke-linecap=\"round\" stroke-linejoin=\"round\" stroke-miterlimit=\"10.0375\" stroke-width=\"0.170717\"/>\n",
       "</g>\n",
       "<g transform=\"translate(340.228 337.677)scale(.996264)\">\n",
       "<path d=\"M306.223 569.411V.355659\" fill=\"none\" stroke=\"#cccccc\" stroke-dasharray=\"0,0.682969\" stroke-linecap=\"round\" stroke-linejoin=\"round\" stroke-miterlimit=\"10.0375\" stroke-width=\"0.170717\"/>\n",
       "</g>\n",
       "<g transform=\"translate(340.228 337.677)scale(.996264)\">\n",
       "<path d=\"M313.336 569.411V.355659\" fill=\"none\" stroke=\"#cccccc\" stroke-linecap=\"round\" stroke-linejoin=\"round\" stroke-miterlimit=\"10.0375\" stroke-width=\"0.426791\"/>\n",
       "</g>\n",
       "<g transform=\"translate(340.228 337.677)scale(.996264)\">\n",
       "<path d=\"M320.449 569.411V.355659\" fill=\"none\" stroke=\"#cccccc\" stroke-dasharray=\"0,0.682969\" stroke-linecap=\"round\" stroke-linejoin=\"round\" stroke-miterlimit=\"10.0375\" stroke-width=\"0.170717\"/>\n",
       "</g>\n",
       "<g transform=\"translate(340.228 337.677)scale(.996264)\">\n",
       "<path d=\"M327.562 569.411V.355659\" fill=\"none\" stroke=\"#cccccc\" stroke-dasharray=\"0,0.682969\" stroke-linecap=\"round\" stroke-linejoin=\"round\" stroke-miterlimit=\"10.0375\" stroke-width=\"0.170717\"/>\n",
       "</g>\n",
       "<g transform=\"translate(340.228 337.677)scale(.996264)\">\n",
       "<path d=\"M334.676 569.411V.355659\" fill=\"none\" stroke=\"#cccccc\" stroke-dasharray=\"0,0.682969\" stroke-linecap=\"round\" stroke-linejoin=\"round\" stroke-miterlimit=\"10.0375\" stroke-width=\"0.170717\"/>\n",
       "</g>\n",
       "<g transform=\"translate(340.228 337.677)scale(.996264)\">\n",
       "<path d=\"M341.789 569.411V.355659\" fill=\"none\" stroke=\"#cccccc\" stroke-linecap=\"round\" stroke-linejoin=\"round\" stroke-miterlimit=\"10.0375\" stroke-width=\"0.426791\"/>\n",
       "</g>\n",
       "<g transform=\"translate(340.228 337.677)scale(.996264)\">\n",
       "<path d=\"M348.902 569.411V.355659\" fill=\"none\" stroke=\"#cccccc\" stroke-dasharray=\"0,0.682969\" stroke-linecap=\"round\" stroke-linejoin=\"round\" stroke-miterlimit=\"10.0375\" stroke-width=\"0.170717\"/>\n",
       "</g>\n",
       "<g transform=\"translate(340.228 337.677)scale(.996264)\">\n",
       "<path d=\"M356.015 569.411V.355659\" fill=\"none\" stroke=\"#cccccc\" stroke-dasharray=\"0,0.682969\" stroke-linecap=\"round\" stroke-linejoin=\"round\" stroke-miterlimit=\"10.0375\" stroke-width=\"0.170717\"/>\n",
       "</g>\n",
       "<g transform=\"translate(340.228 337.677)scale(.996264)\">\n",
       "<path d=\"M363.128 569.411V.355659\" fill=\"none\" stroke=\"#cccccc\" stroke-dasharray=\"0,0.682969\" stroke-linecap=\"round\" stroke-linejoin=\"round\" stroke-miterlimit=\"10.0375\" stroke-width=\"0.170717\"/>\n",
       "</g>\n",
       "<g transform=\"translate(340.228 337.677)scale(.996264)\">\n",
       "<path d=\"M370.241 569.411V.355659\" fill=\"none\" stroke=\"#cccccc\" stroke-linecap=\"round\" stroke-linejoin=\"round\" stroke-miterlimit=\"10.0375\" stroke-width=\"0.426791\"/>\n",
       "</g>\n",
       "<g transform=\"translate(340.228 337.677)scale(.996264)\">\n",
       "<path d=\"M377.355 569.411V.355659\" fill=\"none\" stroke=\"#cccccc\" stroke-dasharray=\"0,0.682969\" stroke-linecap=\"round\" stroke-linejoin=\"round\" stroke-miterlimit=\"10.0375\" stroke-width=\"0.170717\"/>\n",
       "</g>\n",
       "<g transform=\"translate(340.228 337.677)scale(.996264)\">\n",
       "<path d=\"M384.468 569.411V.355659\" fill=\"none\" stroke=\"#cccccc\" stroke-dasharray=\"0,0.682969\" stroke-linecap=\"round\" stroke-linejoin=\"round\" stroke-miterlimit=\"10.0375\" stroke-width=\"0.170717\"/>\n",
       "</g>\n",
       "<g transform=\"translate(340.228 337.677)scale(.996264)\">\n",
       "<path d=\"M391.581 569.411V.355659\" fill=\"none\" stroke=\"#cccccc\" stroke-dasharray=\"0,0.682969\" stroke-linecap=\"round\" stroke-linejoin=\"round\" stroke-miterlimit=\"10.0375\" stroke-width=\"0.170717\"/>\n",
       "</g>\n",
       "<g transform=\"translate(340.228 337.677)scale(.996264)\">\n",
       "<path d=\"M398.694 569.411V.355659\" fill=\"none\" stroke=\"#cccccc\" stroke-linecap=\"round\" stroke-linejoin=\"round\" stroke-miterlimit=\"10.0375\" stroke-width=\"0.426791\"/>\n",
       "</g>\n",
       "<g transform=\"translate(340.228 337.677)scale(.996264)\">\n",
       "<path d=\"M405.807 569.411V.355659\" fill=\"none\" stroke=\"#cccccc\" stroke-dasharray=\"0,0.682969\" stroke-linecap=\"round\" stroke-linejoin=\"round\" stroke-miterlimit=\"10.0375\" stroke-width=\"0.170717\"/>\n",
       "</g>\n",
       "<g transform=\"translate(340.228 337.677)scale(.996264)\">\n",
       "<path d=\"M412.921 569.411V.355659\" fill=\"none\" stroke=\"#cccccc\" stroke-dasharray=\"0,0.682969\" stroke-linecap=\"round\" stroke-linejoin=\"round\" stroke-miterlimit=\"10.0375\" stroke-width=\"0.170717\"/>\n",
       "</g>\n",
       "<g transform=\"translate(340.228 337.677)scale(.996264)\">\n",
       "<path d=\"M420.034 569.411V.355659\" fill=\"none\" stroke=\"#cccccc\" stroke-dasharray=\"0,0.682969\" stroke-linecap=\"round\" stroke-linejoin=\"round\" stroke-miterlimit=\"10.0375\" stroke-width=\"0.170717\"/>\n",
       "</g>\n",
       "<g transform=\"translate(340.228 337.677)scale(.996264)\">\n",
       "<path d=\"M427.147 569.411V.355659\" fill=\"none\" stroke=\"#cccccc\" stroke-linecap=\"round\" stroke-linejoin=\"round\" stroke-miterlimit=\"10.0375\" stroke-width=\"0.426791\"/>\n",
       "</g>\n",
       "<g transform=\"translate(340.228 337.677)scale(.996264)\">\n",
       "<path d=\"M434.26 569.411V.355659\" fill=\"none\" stroke=\"#cccccc\" stroke-dasharray=\"0,0.682969\" stroke-linecap=\"round\" stroke-linejoin=\"round\" stroke-miterlimit=\"10.0375\" stroke-width=\"0.170717\"/>\n",
       "</g>\n",
       "<g transform=\"translate(340.228 337.677)scale(.996264)\">\n",
       "<path d=\"M441.373 569.411V.355659\" fill=\"none\" stroke=\"#cccccc\" stroke-dasharray=\"0,0.682969\" stroke-linecap=\"round\" stroke-linejoin=\"round\" stroke-miterlimit=\"10.0375\" stroke-width=\"0.170717\"/>\n",
       "</g>\n",
       "<g transform=\"translate(340.228 337.677)scale(.996264)\">\n",
       "<path d=\"M448.487 569.411V.355659\" fill=\"none\" stroke=\"#cccccc\" stroke-dasharray=\"0,0.682969\" stroke-linecap=\"round\" stroke-linejoin=\"round\" stroke-miterlimit=\"10.0375\" stroke-width=\"0.170717\"/>\n",
       "</g>\n",
       "<g transform=\"translate(340.228 337.677)scale(.996264)\">\n",
       "<path d=\"M455.6 569.411V.355659\" fill=\"none\" stroke=\"#cccccc\" stroke-linecap=\"round\" stroke-linejoin=\"round\" stroke-miterlimit=\"10.0375\" stroke-width=\"0.426791\"/>\n",
       "</g>\n",
       "<g transform=\"translate(340.228 337.677)scale(.996264)\">\n",
       "<path d=\"M462.713 569.411V.355659\" fill=\"none\" stroke=\"#cccccc\" stroke-dasharray=\"0,0.682969\" stroke-linecap=\"round\" stroke-linejoin=\"round\" stroke-miterlimit=\"10.0375\" stroke-width=\"0.170717\"/>\n",
       "</g>\n",
       "<g transform=\"translate(340.228 337.677)scale(.996264)\">\n",
       "<path d=\"M469.826 569.411V.355659\" fill=\"none\" stroke=\"#cccccc\" stroke-dasharray=\"0,0.682969\" stroke-linecap=\"round\" stroke-linejoin=\"round\" stroke-miterlimit=\"10.0375\" stroke-width=\"0.170717\"/>\n",
       "</g>\n",
       "<g transform=\"translate(340.228 337.677)scale(.996264)\">\n",
       "<path d=\"M476.939 569.411V.355659\" fill=\"none\" stroke=\"#cccccc\" stroke-dasharray=\"0,0.682969\" stroke-linecap=\"round\" stroke-linejoin=\"round\" stroke-miterlimit=\"10.0375\" stroke-width=\"0.170717\"/>\n",
       "</g>\n",
       "<g transform=\"translate(340.228 337.677)scale(.996264)\">\n",
       "<path d=\"M484.053 569.411V.355659\" fill=\"none\" stroke=\"#cccccc\" stroke-linecap=\"round\" stroke-linejoin=\"round\" stroke-miterlimit=\"10.0375\" stroke-width=\"0.426791\"/>\n",
       "</g>\n",
       "<g transform=\"translate(340.228 337.677)scale(.996264)\">\n",
       "<path d=\"M491.166 569.411V.355659\" fill=\"none\" stroke=\"#cccccc\" stroke-dasharray=\"0,0.682969\" stroke-linecap=\"round\" stroke-linejoin=\"round\" stroke-miterlimit=\"10.0375\" stroke-width=\"0.170717\"/>\n",
       "</g>\n",
       "<g transform=\"translate(340.228 337.677)scale(.996264)\">\n",
       "<path d=\"M498.279 569.411V.355659\" fill=\"none\" stroke=\"#cccccc\" stroke-dasharray=\"0,0.682969\" stroke-linecap=\"round\" stroke-linejoin=\"round\" stroke-miterlimit=\"10.0375\" stroke-width=\"0.170717\"/>\n",
       "</g>\n",
       "<g transform=\"translate(340.228 337.677)scale(.996264)\">\n",
       "<path d=\"M505.392 569.411V.355659\" fill=\"none\" stroke=\"#cccccc\" stroke-dasharray=\"0,0.682969\" stroke-linecap=\"round\" stroke-linejoin=\"round\" stroke-miterlimit=\"10.0375\" stroke-width=\"0.170717\"/>\n",
       "</g>\n",
       "<g transform=\"translate(340.228 337.677)scale(.996264)\">\n",
       "<path d=\"M512.505 569.411V.355659\" fill=\"none\" stroke=\"#cccccc\" stroke-linecap=\"round\" stroke-linejoin=\"round\" stroke-miterlimit=\"10.0375\" stroke-width=\"0.426791\"/>\n",
       "</g>\n",
       "<g transform=\"translate(340.228 337.677)scale(.996264)\">\n",
       "<path d=\"M519.618 569.411V.355659\" fill=\"none\" stroke=\"#cccccc\" stroke-dasharray=\"0,0.682969\" stroke-linecap=\"round\" stroke-linejoin=\"round\" stroke-miterlimit=\"10.0375\" stroke-width=\"0.170717\"/>\n",
       "</g>\n",
       "<g transform=\"translate(340.228 337.677)scale(.996264)\">\n",
       "<path d=\"M526.732 569.411V.355659\" fill=\"none\" stroke=\"#cccccc\" stroke-dasharray=\"0,0.682969\" stroke-linecap=\"round\" stroke-linejoin=\"round\" stroke-miterlimit=\"10.0375\" stroke-width=\"0.170717\"/>\n",
       "</g>\n",
       "<g transform=\"translate(340.228 337.677)scale(.996264)\">\n",
       "<path d=\"M533.845 569.411V.355659\" fill=\"none\" stroke=\"#cccccc\" stroke-dasharray=\"0,0.682969\" stroke-linecap=\"round\" stroke-linejoin=\"round\" stroke-miterlimit=\"10.0375\" stroke-width=\"0.170717\"/>\n",
       "</g>\n",
       "<g transform=\"translate(340.228 337.677)scale(.996264)\">\n",
       "<path d=\"M540.958 569.411V.355659\" fill=\"none\" stroke=\"#cccccc\" stroke-linecap=\"round\" stroke-linejoin=\"round\" stroke-miterlimit=\"10.0375\" stroke-width=\"0.426791\"/>\n",
       "</g>\n",
       "<g transform=\"translate(340.228 337.677)scale(.996264)\">\n",
       "<path d=\"M548.071 569.411V.355659\" fill=\"none\" stroke=\"#cccccc\" stroke-dasharray=\"0,0.682969\" stroke-linecap=\"round\" stroke-linejoin=\"round\" stroke-miterlimit=\"10.0375\" stroke-width=\"0.170717\"/>\n",
       "</g>\n",
       "<g transform=\"translate(340.228 337.677)scale(.996264)\">\n",
       "<path d=\"M555.184 569.411V.355659\" fill=\"none\" stroke=\"#cccccc\" stroke-dasharray=\"0,0.682969\" stroke-linecap=\"round\" stroke-linejoin=\"round\" stroke-miterlimit=\"10.0375\" stroke-width=\"0.170717\"/>\n",
       "</g>\n",
       "<g transform=\"translate(340.228 337.677)scale(.996264)\">\n",
       "<path d=\"M562.298 569.411V.355659\" fill=\"none\" stroke=\"#cccccc\" stroke-dasharray=\"0,0.682969\" stroke-linecap=\"round\" stroke-linejoin=\"round\" stroke-miterlimit=\"10.0375\" stroke-width=\"0.170717\"/>\n",
       "</g>\n",
       "<g transform=\"translate(340.228 337.677)scale(.996264)\">\n",
       "<path d=\"M569.411 569.411V.355659\" fill=\"none\" stroke=\"#cccccc\" stroke-linecap=\"round\" stroke-linejoin=\"round\" stroke-miterlimit=\"10.0375\" stroke-width=\"0.426791\"/>\n",
       "</g>\n",
       "<g transform=\"translate(340.228 337.677)scale(.996264)\">\n",
       "<path d=\"M.355659 569.411H569.411\" fill=\"none\" stroke=\"#cccccc\" stroke-linecap=\"round\" stroke-linejoin=\"round\" stroke-miterlimit=\"10.0375\" stroke-width=\"0.426791\"/>\n",
       "</g>\n",
       "<g transform=\"translate(340.228 337.677)scale(.996264)\">\n",
       "<path d=\"M.355659 562.298H569.411\" fill=\"none\" stroke=\"#cccccc\" stroke-dasharray=\"0,0.682969\" stroke-linecap=\"round\" stroke-linejoin=\"round\" stroke-miterlimit=\"10.0375\" stroke-width=\"0.170717\"/>\n",
       "</g>\n",
       "<g transform=\"translate(340.228 337.677)scale(.996264)\">\n",
       "<path d=\"M.355659 555.184H569.411\" fill=\"none\" stroke=\"#cccccc\" stroke-dasharray=\"0,0.682969\" stroke-linecap=\"round\" stroke-linejoin=\"round\" stroke-miterlimit=\"10.0375\" stroke-width=\"0.170717\"/>\n",
       "</g>\n",
       "<g transform=\"translate(340.228 337.677)scale(.996264)\">\n",
       "<path d=\"M.355659 548.071H569.411\" fill=\"none\" stroke=\"#cccccc\" stroke-dasharray=\"0,0.682969\" stroke-linecap=\"round\" stroke-linejoin=\"round\" stroke-miterlimit=\"10.0375\" stroke-width=\"0.170717\"/>\n",
       "</g>\n",
       "<g transform=\"translate(340.228 337.677)scale(.996264)\">\n",
       "<path d=\"M.355659 540.958H569.411\" fill=\"none\" stroke=\"#cccccc\" stroke-dasharray=\"0,0.682969\" stroke-linecap=\"round\" stroke-linejoin=\"round\" stroke-miterlimit=\"10.0375\" stroke-width=\"0.170717\"/>\n",
       "</g>\n",
       "<g transform=\"translate(340.228 337.677)scale(.996264)\">\n",
       "<path d=\"M.355659 540.958H569.411\" fill=\"none\" stroke=\"#cccccc\" stroke-linecap=\"round\" stroke-linejoin=\"round\" stroke-miterlimit=\"10.0375\" stroke-width=\"0.426791\"/>\n",
       "</g>\n",
       "<g transform=\"translate(340.228 337.677)scale(.996264)\">\n",
       "<path d=\"M.355659 533.845H569.411\" fill=\"none\" stroke=\"#cccccc\" stroke-dasharray=\"0,0.682969\" stroke-linecap=\"round\" stroke-linejoin=\"round\" stroke-miterlimit=\"10.0375\" stroke-width=\"0.170717\"/>\n",
       "</g>\n",
       "<g transform=\"translate(340.228 337.677)scale(.996264)\">\n",
       "<path d=\"M.355659 526.732H569.411\" fill=\"none\" stroke=\"#cccccc\" stroke-dasharray=\"0,0.682969\" stroke-linecap=\"round\" stroke-linejoin=\"round\" stroke-miterlimit=\"10.0375\" stroke-width=\"0.170717\"/>\n",
       "</g>\n",
       "<g transform=\"translate(340.228 337.677)scale(.996264)\">\n",
       "<path d=\"M.355659 519.618H569.411\" fill=\"none\" stroke=\"#cccccc\" stroke-dasharray=\"0,0.682969\" stroke-linecap=\"round\" stroke-linejoin=\"round\" stroke-miterlimit=\"10.0375\" stroke-width=\"0.170717\"/>\n",
       "</g>\n",
       "<g transform=\"translate(340.228 337.677)scale(.996264)\">\n",
       "<path d=\"M.355659 512.505H569.411\" fill=\"none\" stroke=\"#cccccc\" stroke-dasharray=\"0,0.682969\" stroke-linecap=\"round\" stroke-linejoin=\"round\" stroke-miterlimit=\"10.0375\" stroke-width=\"0.170717\"/>\n",
       "</g>\n",
       "<g transform=\"translate(340.228 337.677)scale(.996264)\">\n",
       "<path d=\"M.355659 512.505H569.411\" fill=\"none\" stroke=\"#cccccc\" stroke-linecap=\"round\" stroke-linejoin=\"round\" stroke-miterlimit=\"10.0375\" stroke-width=\"0.426791\"/>\n",
       "</g>\n",
       "<g transform=\"translate(340.228 337.677)scale(.996264)\">\n",
       "<path d=\"M.355659 505.392H569.411\" fill=\"none\" stroke=\"#cccccc\" stroke-dasharray=\"0,0.682969\" stroke-linecap=\"round\" stroke-linejoin=\"round\" stroke-miterlimit=\"10.0375\" stroke-width=\"0.170717\"/>\n",
       "</g>\n",
       "<g transform=\"translate(340.228 337.677)scale(.996264)\">\n",
       "<path d=\"M.355659 498.279H569.411\" fill=\"none\" stroke=\"#cccccc\" stroke-dasharray=\"0,0.682969\" stroke-linecap=\"round\" stroke-linejoin=\"round\" stroke-miterlimit=\"10.0375\" stroke-width=\"0.170717\"/>\n",
       "</g>\n",
       "<g transform=\"translate(340.228 337.677)scale(.996264)\">\n",
       "<path d=\"M.355659 491.166H569.411\" fill=\"none\" stroke=\"#cccccc\" stroke-dasharray=\"0,0.682969\" stroke-linecap=\"round\" stroke-linejoin=\"round\" stroke-miterlimit=\"10.0375\" stroke-width=\"0.170717\"/>\n",
       "</g>\n",
       "<g transform=\"translate(340.228 337.677)scale(.996264)\">\n",
       "<path d=\"M.355659 484.053H569.411\" fill=\"none\" stroke=\"#cccccc\" stroke-dasharray=\"0,0.682969\" stroke-linecap=\"round\" stroke-linejoin=\"round\" stroke-miterlimit=\"10.0375\" stroke-width=\"0.170717\"/>\n",
       "</g>\n",
       "<g transform=\"translate(340.228 337.677)scale(.996264)\">\n",
       "<path d=\"M.355659 484.053H569.411\" fill=\"none\" stroke=\"#cccccc\" stroke-linecap=\"round\" stroke-linejoin=\"round\" stroke-miterlimit=\"10.0375\" stroke-width=\"0.426791\"/>\n",
       "</g>\n",
       "<g transform=\"translate(340.228 337.677)scale(.996264)\">\n",
       "<path d=\"M.355659 476.939H569.411\" fill=\"none\" stroke=\"#cccccc\" stroke-dasharray=\"0,0.682969\" stroke-linecap=\"round\" stroke-linejoin=\"round\" stroke-miterlimit=\"10.0375\" stroke-width=\"0.170717\"/>\n",
       "</g>\n",
       "<g transform=\"translate(340.228 337.677)scale(.996264)\">\n",
       "<path d=\"M.355659 469.826H569.411\" fill=\"none\" stroke=\"#cccccc\" stroke-dasharray=\"0,0.682969\" stroke-linecap=\"round\" stroke-linejoin=\"round\" stroke-miterlimit=\"10.0375\" stroke-width=\"0.170717\"/>\n",
       "</g>\n",
       "<g transform=\"translate(340.228 337.677)scale(.996264)\">\n",
       "<path d=\"M.355659 462.713H569.411\" fill=\"none\" stroke=\"#cccccc\" stroke-dasharray=\"0,0.682969\" stroke-linecap=\"round\" stroke-linejoin=\"round\" stroke-miterlimit=\"10.0375\" stroke-width=\"0.170717\"/>\n",
       "</g>\n",
       "<g transform=\"translate(340.228 337.677)scale(.996264)\">\n",
       "<path d=\"M.355659 455.6H569.411\" fill=\"none\" stroke=\"#cccccc\" stroke-dasharray=\"0,0.682969\" stroke-linecap=\"round\" stroke-linejoin=\"round\" stroke-miterlimit=\"10.0375\" stroke-width=\"0.170717\"/>\n",
       "</g>\n",
       "<g transform=\"translate(340.228 337.677)scale(.996264)\">\n",
       "<path d=\"M.355659 455.6H569.411\" fill=\"none\" stroke=\"#cccccc\" stroke-linecap=\"round\" stroke-linejoin=\"round\" stroke-miterlimit=\"10.0375\" stroke-width=\"0.426791\"/>\n",
       "</g>\n",
       "<g transform=\"translate(340.228 337.677)scale(.996264)\">\n",
       "<path d=\"M.355659 448.487H569.411\" fill=\"none\" stroke=\"#cccccc\" stroke-dasharray=\"0,0.682969\" stroke-linecap=\"round\" stroke-linejoin=\"round\" stroke-miterlimit=\"10.0375\" stroke-width=\"0.170717\"/>\n",
       "</g>\n",
       "<g transform=\"translate(340.228 337.677)scale(.996264)\">\n",
       "<path d=\"M.355659 441.373H569.411\" fill=\"none\" stroke=\"#cccccc\" stroke-dasharray=\"0,0.682969\" stroke-linecap=\"round\" stroke-linejoin=\"round\" stroke-miterlimit=\"10.0375\" stroke-width=\"0.170717\"/>\n",
       "</g>\n",
       "<g transform=\"translate(340.228 337.677)scale(.996264)\">\n",
       "<path d=\"M.355659 434.26H569.411\" fill=\"none\" stroke=\"#cccccc\" stroke-dasharray=\"0,0.682969\" stroke-linecap=\"round\" stroke-linejoin=\"round\" stroke-miterlimit=\"10.0375\" stroke-width=\"0.170717\"/>\n",
       "</g>\n",
       "<g transform=\"translate(340.228 337.677)scale(.996264)\">\n",
       "<path d=\"M.355659 427.147H569.411\" fill=\"none\" stroke=\"#cccccc\" stroke-dasharray=\"0,0.682969\" stroke-linecap=\"round\" stroke-linejoin=\"round\" stroke-miterlimit=\"10.0375\" stroke-width=\"0.170717\"/>\n",
       "</g>\n",
       "<g transform=\"translate(340.228 337.677)scale(.996264)\">\n",
       "<path d=\"M.355659 427.147H569.411\" fill=\"none\" stroke=\"#cccccc\" stroke-linecap=\"round\" stroke-linejoin=\"round\" stroke-miterlimit=\"10.0375\" stroke-width=\"0.426791\"/>\n",
       "</g>\n",
       "<g transform=\"translate(340.228 337.677)scale(.996264)\">\n",
       "<path d=\"M.355659 420.034H569.411\" fill=\"none\" stroke=\"#cccccc\" stroke-dasharray=\"0,0.682969\" stroke-linecap=\"round\" stroke-linejoin=\"round\" stroke-miterlimit=\"10.0375\" stroke-width=\"0.170717\"/>\n",
       "</g>\n",
       "<g transform=\"translate(340.228 337.677)scale(.996264)\">\n",
       "<path d=\"M.355659 412.921H569.411\" fill=\"none\" stroke=\"#cccccc\" stroke-dasharray=\"0,0.682969\" stroke-linecap=\"round\" stroke-linejoin=\"round\" stroke-miterlimit=\"10.0375\" stroke-width=\"0.170717\"/>\n",
       "</g>\n",
       "<g transform=\"translate(340.228 337.677)scale(.996264)\">\n",
       "<path d=\"M.355659 405.807H569.411\" fill=\"none\" stroke=\"#cccccc\" stroke-dasharray=\"0,0.682969\" stroke-linecap=\"round\" stroke-linejoin=\"round\" stroke-miterlimit=\"10.0375\" stroke-width=\"0.170717\"/>\n",
       "</g>\n",
       "<g transform=\"translate(340.228 337.677)scale(.996264)\">\n",
       "<path d=\"M.355659 398.694H569.411\" fill=\"none\" stroke=\"#cccccc\" stroke-dasharray=\"0,0.682969\" stroke-linecap=\"round\" stroke-linejoin=\"round\" stroke-miterlimit=\"10.0375\" stroke-width=\"0.170717\"/>\n",
       "</g>\n",
       "<g transform=\"translate(340.228 337.677)scale(.996264)\">\n",
       "<path d=\"M.355659 398.694H569.411\" fill=\"none\" stroke=\"#cccccc\" stroke-linecap=\"round\" stroke-linejoin=\"round\" stroke-miterlimit=\"10.0375\" stroke-width=\"0.426791\"/>\n",
       "</g>\n",
       "<g transform=\"translate(340.228 337.677)scale(.996264)\">\n",
       "<path d=\"M.355659 391.581H569.411\" fill=\"none\" stroke=\"#cccccc\" stroke-dasharray=\"0,0.682969\" stroke-linecap=\"round\" stroke-linejoin=\"round\" stroke-miterlimit=\"10.0375\" stroke-width=\"0.170717\"/>\n",
       "</g>\n",
       "<g transform=\"translate(340.228 337.677)scale(.996264)\">\n",
       "<path d=\"M.355659 384.468H569.411\" fill=\"none\" stroke=\"#cccccc\" stroke-dasharray=\"0,0.682969\" stroke-linecap=\"round\" stroke-linejoin=\"round\" stroke-miterlimit=\"10.0375\" stroke-width=\"0.170717\"/>\n",
       "</g>\n",
       "<g transform=\"translate(340.228 337.677)scale(.996264)\">\n",
       "<path d=\"M.355659 377.355H569.411\" fill=\"none\" stroke=\"#cccccc\" stroke-dasharray=\"0,0.682969\" stroke-linecap=\"round\" stroke-linejoin=\"round\" stroke-miterlimit=\"10.0375\" stroke-width=\"0.170717\"/>\n",
       "</g>\n",
       "<g transform=\"translate(340.228 337.677)scale(.996264)\">\n",
       "<path d=\"M.355659 370.241H569.411\" fill=\"none\" stroke=\"#cccccc\" stroke-dasharray=\"0,0.682969\" stroke-linecap=\"round\" stroke-linejoin=\"round\" stroke-miterlimit=\"10.0375\" stroke-width=\"0.170717\"/>\n",
       "</g>\n",
       "<g transform=\"translate(340.228 337.677)scale(.996264)\">\n",
       "<path d=\"M.355659 370.241H569.411\" fill=\"none\" stroke=\"#cccccc\" stroke-linecap=\"round\" stroke-linejoin=\"round\" stroke-miterlimit=\"10.0375\" stroke-width=\"0.426791\"/>\n",
       "</g>\n",
       "<g transform=\"translate(340.228 337.677)scale(.996264)\">\n",
       "<path d=\"M.355659 363.128H569.411\" fill=\"none\" stroke=\"#cccccc\" stroke-dasharray=\"0,0.682969\" stroke-linecap=\"round\" stroke-linejoin=\"round\" stroke-miterlimit=\"10.0375\" stroke-width=\"0.170717\"/>\n",
       "</g>\n",
       "<g transform=\"translate(340.228 337.677)scale(.996264)\">\n",
       "<path d=\"M.355659 356.015H569.411\" fill=\"none\" stroke=\"#cccccc\" stroke-dasharray=\"0,0.682969\" stroke-linecap=\"round\" stroke-linejoin=\"round\" stroke-miterlimit=\"10.0375\" stroke-width=\"0.170717\"/>\n",
       "</g>\n",
       "<g transform=\"translate(340.228 337.677)scale(.996264)\">\n",
       "<path d=\"M.355659 348.902H569.411\" fill=\"none\" stroke=\"#cccccc\" stroke-dasharray=\"0,0.682969\" stroke-linecap=\"round\" stroke-linejoin=\"round\" stroke-miterlimit=\"10.0375\" stroke-width=\"0.170717\"/>\n",
       "</g>\n",
       "<g transform=\"translate(340.228 337.677)scale(.996264)\">\n",
       "<path d=\"M.355659 341.789H569.411\" fill=\"none\" stroke=\"#cccccc\" stroke-dasharray=\"0,0.682969\" stroke-linecap=\"round\" stroke-linejoin=\"round\" stroke-miterlimit=\"10.0375\" stroke-width=\"0.170717\"/>\n",
       "</g>\n",
       "<g transform=\"translate(340.228 337.677)scale(.996264)\">\n",
       "<path d=\"M.355659 341.789H569.411\" fill=\"none\" stroke=\"#cccccc\" stroke-linecap=\"round\" stroke-linejoin=\"round\" stroke-miterlimit=\"10.0375\" stroke-width=\"0.426791\"/>\n",
       "</g>\n",
       "<g transform=\"translate(340.228 337.677)scale(.996264)\">\n",
       "<path d=\"M.355659 334.676H569.411\" fill=\"none\" stroke=\"#cccccc\" stroke-dasharray=\"0,0.682969\" stroke-linecap=\"round\" stroke-linejoin=\"round\" stroke-miterlimit=\"10.0375\" stroke-width=\"0.170717\"/>\n",
       "</g>\n",
       "<g transform=\"translate(340.228 337.677)scale(.996264)\">\n",
       "<path d=\"M.355659 327.562H569.411\" fill=\"none\" stroke=\"#cccccc\" stroke-dasharray=\"0,0.682969\" stroke-linecap=\"round\" stroke-linejoin=\"round\" stroke-miterlimit=\"10.0375\" stroke-width=\"0.170717\"/>\n",
       "</g>\n",
       "<g transform=\"translate(340.228 337.677)scale(.996264)\">\n",
       "<path d=\"M.355659 320.449H569.411\" fill=\"none\" stroke=\"#cccccc\" stroke-dasharray=\"0,0.682969\" stroke-linecap=\"round\" stroke-linejoin=\"round\" stroke-miterlimit=\"10.0375\" stroke-width=\"0.170717\"/>\n",
       "</g>\n",
       "<g transform=\"translate(340.228 337.677)scale(.996264)\">\n",
       "<path d=\"M.355659 313.336H569.411\" fill=\"none\" stroke=\"#cccccc\" stroke-dasharray=\"0,0.682969\" stroke-linecap=\"round\" stroke-linejoin=\"round\" stroke-miterlimit=\"10.0375\" stroke-width=\"0.170717\"/>\n",
       "</g>\n",
       "<g transform=\"translate(340.228 337.677)scale(.996264)\">\n",
       "<path d=\"M.355659 313.336H569.411\" fill=\"none\" stroke=\"#cccccc\" stroke-linecap=\"round\" stroke-linejoin=\"round\" stroke-miterlimit=\"10.0375\" stroke-width=\"0.426791\"/>\n",
       "</g>\n",
       "<g transform=\"translate(340.228 337.677)scale(.996264)\">\n",
       "<path d=\"M.355659 306.223H569.411\" fill=\"none\" stroke=\"#cccccc\" stroke-dasharray=\"0,0.682969\" stroke-linecap=\"round\" stroke-linejoin=\"round\" stroke-miterlimit=\"10.0375\" stroke-width=\"0.170717\"/>\n",
       "</g>\n",
       "<g transform=\"translate(340.228 337.677)scale(.996264)\">\n",
       "<path d=\"M.355659 299.11H569.411\" fill=\"none\" stroke=\"#cccccc\" stroke-dasharray=\"0,0.682969\" stroke-linecap=\"round\" stroke-linejoin=\"round\" stroke-miterlimit=\"10.0375\" stroke-width=\"0.170717\"/>\n",
       "</g>\n",
       "<g transform=\"translate(340.228 337.677)scale(.996264)\">\n",
       "<path d=\"M.355659 291.996H569.411\" fill=\"none\" stroke=\"#cccccc\" stroke-dasharray=\"0,0.682969\" stroke-linecap=\"round\" stroke-linejoin=\"round\" stroke-miterlimit=\"10.0375\" stroke-width=\"0.170717\"/>\n",
       "</g>\n",
       "<g transform=\"translate(340.228 337.677)scale(.996264)\">\n",
       "<path d=\"M.355659 284.883H569.411\" fill=\"none\" stroke=\"#cccccc\" stroke-dasharray=\"0,0.682969\" stroke-linecap=\"round\" stroke-linejoin=\"round\" stroke-miterlimit=\"10.0375\" stroke-width=\"0.170717\"/>\n",
       "</g>\n",
       "<g transform=\"translate(340.228 337.677)scale(.996264)\">\n",
       "<path d=\"M.355659 284.883H569.411\" fill=\"none\" stroke=\"#cccccc\" stroke-linecap=\"round\" stroke-linejoin=\"round\" stroke-miterlimit=\"10.0375\" stroke-width=\"0.426791\"/>\n",
       "</g>\n",
       "<g transform=\"translate(340.228 337.677)scale(.996264)\">\n",
       "<path d=\"M.355659 277.77H569.411\" fill=\"none\" stroke=\"#cccccc\" stroke-dasharray=\"0,0.682969\" stroke-linecap=\"round\" stroke-linejoin=\"round\" stroke-miterlimit=\"10.0375\" stroke-width=\"0.170717\"/>\n",
       "</g>\n",
       "<g transform=\"translate(340.228 337.677)scale(.996264)\">\n",
       "<path d=\"M.355659 270.657H569.411\" fill=\"none\" stroke=\"#cccccc\" stroke-dasharray=\"0,0.682969\" stroke-linecap=\"round\" stroke-linejoin=\"round\" stroke-miterlimit=\"10.0375\" stroke-width=\"0.170717\"/>\n",
       "</g>\n",
       "<g transform=\"translate(340.228 337.677)scale(.996264)\">\n",
       "<path d=\"M.355659 263.544H569.411\" fill=\"none\" stroke=\"#cccccc\" stroke-dasharray=\"0,0.682969\" stroke-linecap=\"round\" stroke-linejoin=\"round\" stroke-miterlimit=\"10.0375\" stroke-width=\"0.170717\"/>\n",
       "</g>\n",
       "<g transform=\"translate(340.228 337.677)scale(.996264)\">\n",
       "<path d=\"M.355659 256.43H569.411\" fill=\"none\" stroke=\"#cccccc\" stroke-dasharray=\"0,0.682969\" stroke-linecap=\"round\" stroke-linejoin=\"round\" stroke-miterlimit=\"10.0375\" stroke-width=\"0.170717\"/>\n",
       "</g>\n",
       "<g transform=\"translate(340.228 337.677)scale(.996264)\">\n",
       "<path d=\"M.355659 256.43H569.411\" fill=\"none\" stroke=\"#cccccc\" stroke-linecap=\"round\" stroke-linejoin=\"round\" stroke-miterlimit=\"10.0375\" stroke-width=\"0.426791\"/>\n",
       "</g>\n",
       "<g transform=\"translate(340.228 337.677)scale(.996264)\">\n",
       "<path d=\"M.355659 249.317H569.411\" fill=\"none\" stroke=\"#cccccc\" stroke-dasharray=\"0,0.682969\" stroke-linecap=\"round\" stroke-linejoin=\"round\" stroke-miterlimit=\"10.0375\" stroke-width=\"0.170717\"/>\n",
       "</g>\n",
       "<g transform=\"translate(340.228 337.677)scale(.996264)\">\n",
       "<path d=\"M.355659 242.204H569.411\" fill=\"none\" stroke=\"#cccccc\" stroke-dasharray=\"0,0.682969\" stroke-linecap=\"round\" stroke-linejoin=\"round\" stroke-miterlimit=\"10.0375\" stroke-width=\"0.170717\"/>\n",
       "</g>\n",
       "<g transform=\"translate(340.228 337.677)scale(.996264)\">\n",
       "<path d=\"M.355659 235.091H569.411\" fill=\"none\" stroke=\"#cccccc\" stroke-dasharray=\"0,0.682969\" stroke-linecap=\"round\" stroke-linejoin=\"round\" stroke-miterlimit=\"10.0375\" stroke-width=\"0.170717\"/>\n",
       "</g>\n",
       "<g transform=\"translate(340.228 337.677)scale(.996264)\">\n",
       "<path d=\"M.355659 227.978H569.411\" fill=\"none\" stroke=\"#cccccc\" stroke-dasharray=\"0,0.682969\" stroke-linecap=\"round\" stroke-linejoin=\"round\" stroke-miterlimit=\"10.0375\" stroke-width=\"0.170717\"/>\n",
       "</g>\n",
       "<g transform=\"translate(340.228 337.677)scale(.996264)\">\n",
       "<path d=\"M.355659 227.978H569.411\" fill=\"none\" stroke=\"#cccccc\" stroke-linecap=\"round\" stroke-linejoin=\"round\" stroke-miterlimit=\"10.0375\" stroke-width=\"0.426791\"/>\n",
       "</g>\n",
       "<g transform=\"translate(340.228 337.677)scale(.996264)\">\n",
       "<path d=\"M.355659 220.865H569.411\" fill=\"none\" stroke=\"#cccccc\" stroke-dasharray=\"0,0.682969\" stroke-linecap=\"round\" stroke-linejoin=\"round\" stroke-miterlimit=\"10.0375\" stroke-width=\"0.170717\"/>\n",
       "</g>\n",
       "<g transform=\"translate(340.228 337.677)scale(.996264)\">\n",
       "<path d=\"M.355659 213.751H569.411\" fill=\"none\" stroke=\"#cccccc\" stroke-dasharray=\"0,0.682969\" stroke-linecap=\"round\" stroke-linejoin=\"round\" stroke-miterlimit=\"10.0375\" stroke-width=\"0.170717\"/>\n",
       "</g>\n",
       "<g transform=\"translate(340.228 337.677)scale(.996264)\">\n",
       "<path d=\"M.355659 206.638H569.411\" fill=\"none\" stroke=\"#cccccc\" stroke-dasharray=\"0,0.682969\" stroke-linecap=\"round\" stroke-linejoin=\"round\" stroke-miterlimit=\"10.0375\" stroke-width=\"0.170717\"/>\n",
       "</g>\n",
       "<g transform=\"translate(340.228 337.677)scale(.996264)\">\n",
       "<path d=\"M.355659 199.525H569.411\" fill=\"none\" stroke=\"#cccccc\" stroke-dasharray=\"0,0.682969\" stroke-linecap=\"round\" stroke-linejoin=\"round\" stroke-miterlimit=\"10.0375\" stroke-width=\"0.170717\"/>\n",
       "</g>\n",
       "<g transform=\"translate(340.228 337.677)scale(.996264)\">\n",
       "<path d=\"M.355659 199.525H569.411\" fill=\"none\" stroke=\"#cccccc\" stroke-linecap=\"round\" stroke-linejoin=\"round\" stroke-miterlimit=\"10.0375\" stroke-width=\"0.426791\"/>\n",
       "</g>\n",
       "<g transform=\"translate(340.228 337.677)scale(.996264)\">\n",
       "<path d=\"M.355659 192.412H569.411\" fill=\"none\" stroke=\"#cccccc\" stroke-dasharray=\"0,0.682969\" stroke-linecap=\"round\" stroke-linejoin=\"round\" stroke-miterlimit=\"10.0375\" stroke-width=\"0.170717\"/>\n",
       "</g>\n",
       "<g transform=\"translate(340.228 337.677)scale(.996264)\">\n",
       "<path d=\"M.355659 185.299H569.411\" fill=\"none\" stroke=\"#cccccc\" stroke-dasharray=\"0,0.682969\" stroke-linecap=\"round\" stroke-linejoin=\"round\" stroke-miterlimit=\"10.0375\" stroke-width=\"0.170717\"/>\n",
       "</g>\n",
       "<g transform=\"translate(340.228 337.677)scale(.996264)\">\n",
       "<path d=\"M.355659 178.185H569.411\" fill=\"none\" stroke=\"#cccccc\" stroke-dasharray=\"0,0.682969\" stroke-linecap=\"round\" stroke-linejoin=\"round\" stroke-miterlimit=\"10.0375\" stroke-width=\"0.170717\"/>\n",
       "</g>\n",
       "<g transform=\"translate(340.228 337.677)scale(.996264)\">\n",
       "<path d=\"M.355659 171.072H569.411\" fill=\"none\" stroke=\"#cccccc\" stroke-dasharray=\"0,0.682969\" stroke-linecap=\"round\" stroke-linejoin=\"round\" stroke-miterlimit=\"10.0375\" stroke-width=\"0.170717\"/>\n",
       "</g>\n",
       "<g transform=\"translate(340.228 337.677)scale(.996264)\">\n",
       "<path d=\"M.355659 171.072H569.411\" fill=\"none\" stroke=\"#cccccc\" stroke-linecap=\"round\" stroke-linejoin=\"round\" stroke-miterlimit=\"10.0375\" stroke-width=\"0.426791\"/>\n",
       "</g>\n",
       "<g transform=\"translate(340.228 337.677)scale(.996264)\">\n",
       "<path d=\"M.355659 163.959H569.411\" fill=\"none\" stroke=\"#cccccc\" stroke-dasharray=\"0,0.682969\" stroke-linecap=\"round\" stroke-linejoin=\"round\" stroke-miterlimit=\"10.0375\" stroke-width=\"0.170717\"/>\n",
       "</g>\n",
       "<g transform=\"translate(340.228 337.677)scale(.996264)\">\n",
       "<path d=\"M.355659 156.846H569.411\" fill=\"none\" stroke=\"#cccccc\" stroke-dasharray=\"0,0.682969\" stroke-linecap=\"round\" stroke-linejoin=\"round\" stroke-miterlimit=\"10.0375\" stroke-width=\"0.170717\"/>\n",
       "</g>\n",
       "<g transform=\"translate(340.228 337.677)scale(.996264)\">\n",
       "<path d=\"M.355659 149.733H569.411\" fill=\"none\" stroke=\"#cccccc\" stroke-dasharray=\"0,0.682969\" stroke-linecap=\"round\" stroke-linejoin=\"round\" stroke-miterlimit=\"10.0375\" stroke-width=\"0.170717\"/>\n",
       "</g>\n",
       "<g transform=\"translate(340.228 337.677)scale(.996264)\">\n",
       "<path d=\"M.355659 142.619H569.411\" fill=\"none\" stroke=\"#cccccc\" stroke-dasharray=\"0,0.682969\" stroke-linecap=\"round\" stroke-linejoin=\"round\" stroke-miterlimit=\"10.0375\" stroke-width=\"0.170717\"/>\n",
       "</g>\n",
       "<g transform=\"translate(340.228 337.677)scale(.996264)\">\n",
       "<path d=\"M.355659 142.619H569.411\" fill=\"none\" stroke=\"#cccccc\" stroke-linecap=\"round\" stroke-linejoin=\"round\" stroke-miterlimit=\"10.0375\" stroke-width=\"0.426791\"/>\n",
       "</g>\n",
       "<g transform=\"translate(340.228 337.677)scale(.996264)\">\n",
       "<path d=\"M.355659 135.506H569.411\" fill=\"none\" stroke=\"#cccccc\" stroke-dasharray=\"0,0.682969\" stroke-linecap=\"round\" stroke-linejoin=\"round\" stroke-miterlimit=\"10.0375\" stroke-width=\"0.170717\"/>\n",
       "</g>\n",
       "<g transform=\"translate(340.228 337.677)scale(.996264)\">\n",
       "<path d=\"M.355659 128.393H569.411\" fill=\"none\" stroke=\"#cccccc\" stroke-dasharray=\"0,0.682969\" stroke-linecap=\"round\" stroke-linejoin=\"round\" stroke-miterlimit=\"10.0375\" stroke-width=\"0.170717\"/>\n",
       "</g>\n",
       "<g transform=\"translate(340.228 337.677)scale(.996264)\">\n",
       "<path d=\"M.355659 121.28H569.411\" fill=\"none\" stroke=\"#cccccc\" stroke-dasharray=\"0,0.682969\" stroke-linecap=\"round\" stroke-linejoin=\"round\" stroke-miterlimit=\"10.0375\" stroke-width=\"0.170717\"/>\n",
       "</g>\n",
       "<g transform=\"translate(340.228 337.677)scale(.996264)\">\n",
       "<path d=\"M.355659 114.167H569.411\" fill=\"none\" stroke=\"#cccccc\" stroke-dasharray=\"0,0.682969\" stroke-linecap=\"round\" stroke-linejoin=\"round\" stroke-miterlimit=\"10.0375\" stroke-width=\"0.170717\"/>\n",
       "</g>\n",
       "<g transform=\"translate(340.228 337.677)scale(.996264)\">\n",
       "<path d=\"M.355659 114.167H569.411\" fill=\"none\" stroke=\"#cccccc\" stroke-linecap=\"round\" stroke-linejoin=\"round\" stroke-miterlimit=\"10.0375\" stroke-width=\"0.426791\"/>\n",
       "</g>\n",
       "<g transform=\"translate(340.228 337.677)scale(.996264)\">\n",
       "<path d=\"M.355659 107.053H569.411\" fill=\"none\" stroke=\"#cccccc\" stroke-dasharray=\"0,0.682969\" stroke-linecap=\"round\" stroke-linejoin=\"round\" stroke-miterlimit=\"10.0375\" stroke-width=\"0.170717\"/>\n",
       "</g>\n",
       "<g transform=\"translate(340.228 337.677)scale(.996264)\">\n",
       "<path d=\"M.355659 99.9403H569.411\" fill=\"none\" stroke=\"#cccccc\" stroke-dasharray=\"0,0.682969\" stroke-linecap=\"round\" stroke-linejoin=\"round\" stroke-miterlimit=\"10.0375\" stroke-width=\"0.170717\"/>\n",
       "</g>\n",
       "<g transform=\"translate(340.228 337.677)scale(.996264)\">\n",
       "<path d=\"M.355659 92.8271H569.411\" fill=\"none\" stroke=\"#cccccc\" stroke-dasharray=\"0,0.682969\" stroke-linecap=\"round\" stroke-linejoin=\"round\" stroke-miterlimit=\"10.0375\" stroke-width=\"0.170717\"/>\n",
       "</g>\n",
       "<g transform=\"translate(340.228 337.677)scale(.996264)\">\n",
       "<path d=\"M.355659 85.7139H569.411\" fill=\"none\" stroke=\"#cccccc\" stroke-dasharray=\"0,0.682969\" stroke-linecap=\"round\" stroke-linejoin=\"round\" stroke-miterlimit=\"10.0375\" stroke-width=\"0.170717\"/>\n",
       "</g>\n",
       "<g transform=\"translate(340.228 337.677)scale(.996264)\">\n",
       "<path d=\"M.355659 85.7139H569.411\" fill=\"none\" stroke=\"#cccccc\" stroke-linecap=\"round\" stroke-linejoin=\"round\" stroke-miterlimit=\"10.0375\" stroke-width=\"0.426791\"/>\n",
       "</g>\n",
       "<g transform=\"translate(340.228 337.677)scale(.996264)\">\n",
       "<path d=\"M.355659 78.6007H569.411\" fill=\"none\" stroke=\"#cccccc\" stroke-dasharray=\"0,0.682969\" stroke-linecap=\"round\" stroke-linejoin=\"round\" stroke-miterlimit=\"10.0375\" stroke-width=\"0.170717\"/>\n",
       "</g>\n",
       "<g transform=\"translate(340.228 337.677)scale(.996264)\">\n",
       "<path d=\"M.355659 71.4875H569.411\" fill=\"none\" stroke=\"#cccccc\" stroke-dasharray=\"0,0.682969\" stroke-linecap=\"round\" stroke-linejoin=\"round\" stroke-miterlimit=\"10.0375\" stroke-width=\"0.170717\"/>\n",
       "</g>\n",
       "<g transform=\"translate(340.228 337.677)scale(.996264)\">\n",
       "<path d=\"M.355659 64.3744H569.411\" fill=\"none\" stroke=\"#cccccc\" stroke-dasharray=\"0,0.682969\" stroke-linecap=\"round\" stroke-linejoin=\"round\" stroke-miterlimit=\"10.0375\" stroke-width=\"0.170717\"/>\n",
       "</g>\n",
       "<g transform=\"translate(340.228 337.677)scale(.996264)\">\n",
       "<path d=\"M.355659 57.2612H569.411\" fill=\"none\" stroke=\"#cccccc\" stroke-dasharray=\"0,0.682969\" stroke-linecap=\"round\" stroke-linejoin=\"round\" stroke-miterlimit=\"10.0375\" stroke-width=\"0.170717\"/>\n",
       "</g>\n",
       "<g transform=\"translate(340.228 337.677)scale(.996264)\">\n",
       "<path d=\"M.355659 57.2612H569.411\" fill=\"none\" stroke=\"#cccccc\" stroke-linecap=\"round\" stroke-linejoin=\"round\" stroke-miterlimit=\"10.0375\" stroke-width=\"0.426791\"/>\n",
       "</g>\n",
       "<g transform=\"translate(340.228 337.677)scale(.996264)\">\n",
       "<path d=\"M.355659 50.148H569.411\" fill=\"none\" stroke=\"#cccccc\" stroke-dasharray=\"0,0.682969\" stroke-linecap=\"round\" stroke-linejoin=\"round\" stroke-miterlimit=\"10.0375\" stroke-width=\"0.170717\"/>\n",
       "</g>\n",
       "<g transform=\"translate(340.228 337.677)scale(.996264)\">\n",
       "<path d=\"M.355659 43.0348H569.411\" fill=\"none\" stroke=\"#cccccc\" stroke-dasharray=\"0,0.682969\" stroke-linecap=\"round\" stroke-linejoin=\"round\" stroke-miterlimit=\"10.0375\" stroke-width=\"0.170717\"/>\n",
       "</g>\n",
       "<g transform=\"translate(340.228 337.677)scale(.996264)\">\n",
       "<path d=\"M.355659 35.9216H569.411\" fill=\"none\" stroke=\"#cccccc\" stroke-dasharray=\"0,0.682969\" stroke-linecap=\"round\" stroke-linejoin=\"round\" stroke-miterlimit=\"10.0375\" stroke-width=\"0.170717\"/>\n",
       "</g>\n",
       "<g transform=\"translate(340.228 337.677)scale(.996264)\">\n",
       "<path d=\"M.355659 28.8084H569.411\" fill=\"none\" stroke=\"#cccccc\" stroke-dasharray=\"0,0.682969\" stroke-linecap=\"round\" stroke-linejoin=\"round\" stroke-miterlimit=\"10.0375\" stroke-width=\"0.170717\"/>\n",
       "</g>\n",
       "<g transform=\"translate(340.228 337.677)scale(.996264)\">\n",
       "<path d=\"M.355659 28.8084H569.411\" fill=\"none\" stroke=\"#cccccc\" stroke-linecap=\"round\" stroke-linejoin=\"round\" stroke-miterlimit=\"10.0375\" stroke-width=\"0.426791\"/>\n",
       "</g>\n",
       "<g transform=\"translate(340.228 337.677)scale(.996264)\">\n",
       "<path d=\"M.355659 21.6952H569.411\" fill=\"none\" stroke=\"#cccccc\" stroke-dasharray=\"0,0.682969\" stroke-linecap=\"round\" stroke-linejoin=\"round\" stroke-miterlimit=\"10.0375\" stroke-width=\"0.170717\"/>\n",
       "</g>\n",
       "<g transform=\"translate(340.228 337.677)scale(.996264)\">\n",
       "<path d=\"M.355659 14.582H569.411\" fill=\"none\" stroke=\"#cccccc\" stroke-dasharray=\"0,0.682969\" stroke-linecap=\"round\" stroke-linejoin=\"round\" stroke-miterlimit=\"10.0375\" stroke-width=\"0.170717\"/>\n",
       "</g>\n",
       "<g transform=\"translate(340.228 337.677)scale(.996264)\">\n",
       "<path d=\"M.355659 7.46885H569.411\" fill=\"none\" stroke=\"#cccccc\" stroke-dasharray=\"0,0.682969\" stroke-linecap=\"round\" stroke-linejoin=\"round\" stroke-miterlimit=\"10.0375\" stroke-width=\"0.170717\"/>\n",
       "</g>\n",
       "<g transform=\"translate(340.228 337.677)scale(.996264)\">\n",
       "<path d=\"M.355659 .355659H569.411\" fill=\"none\" stroke=\"#cccccc\" stroke-dasharray=\"0,0.682969\" stroke-linecap=\"round\" stroke-linejoin=\"round\" stroke-miterlimit=\"10.0375\" stroke-width=\"0.170717\"/>\n",
       "</g>\n",
       "<g transform=\"translate(340.228 337.677)scale(.996264)\">\n",
       "<path d=\"M.355659 .355659H569.411\" fill=\"none\" stroke=\"#cccccc\" stroke-linecap=\"round\" stroke-linejoin=\"round\" stroke-miterlimit=\"10.0375\" stroke-width=\"0.426791\"/>\n",
       "</g>\n",
       "<g transform=\"translate(340.228 337.677)scale(.996264)\">\n",
       "<path d=\"M.355659 284.883H569.411\" fill=\"none\" stroke=\"#000000\" stroke-linecap=\"round\" stroke-linejoin=\"round\" stroke-miterlimit=\"10.0375\" stroke-width=\"0.711319\"/>\n",
       "</g>\n",
       "<g transform=\"translate(340.228 337.677)scale(.996264)\">\n",
       "<path d=\"M284.883 569.411V.355659\" fill=\"none\" stroke=\"#000000\" stroke-linecap=\"round\" stroke-linejoin=\"round\" stroke-miterlimit=\"10.0375\" stroke-width=\"0.711319\"/>\n",
       "</g>\n",
       "<g transform=\"translate(340.228 337.677)scale(.996264)\">\n",
       "<path d=\"M28.8084 284.883V289.151\" fill=\"none\" stroke=\"#000000\" stroke-linecap=\"round\" stroke-linejoin=\"round\" stroke-miterlimit=\"10.0375\" stroke-width=\"0.711319\"/>\n",
       "</g>\n",
       "<use x=\"361.357221\" y=\"637.094234\" xlink:href=\"#g0-0\"/>\n",
       "<use x=\"370.655718\" y=\"637.094234\" xlink:href=\"#g1-57\"/>\n",
       "<g transform=\"translate(340.228 337.677)scale(.996264)\">\n",
       "<path d=\"M35.9216 284.883V287.017\" fill=\"none\" stroke=\"#000000\" stroke-linecap=\"round\" stroke-linejoin=\"round\" stroke-miterlimit=\"10.0375\" stroke-width=\"0.426791\"/>\n",
       "</g>\n",
       "<g transform=\"translate(340.228 337.677)scale(.996264)\">\n",
       "<path d=\"M43.0348 284.883V287.017\" fill=\"none\" stroke=\"#000000\" stroke-linecap=\"round\" stroke-linejoin=\"round\" stroke-miterlimit=\"10.0375\" stroke-width=\"0.426791\"/>\n",
       "</g>\n",
       "<g transform=\"translate(340.228 337.677)scale(.996264)\">\n",
       "<path d=\"M50.148 284.883V287.017\" fill=\"none\" stroke=\"#000000\" stroke-linecap=\"round\" stroke-linejoin=\"round\" stroke-miterlimit=\"10.0375\" stroke-width=\"0.426791\"/>\n",
       "</g>\n",
       "<g transform=\"translate(340.228 337.677)scale(.996264)\">\n",
       "<path d=\"M57.2612 284.883V289.151\" fill=\"none\" stroke=\"#000000\" stroke-linecap=\"round\" stroke-linejoin=\"round\" stroke-miterlimit=\"10.0375\" stroke-width=\"0.711319\"/>\n",
       "</g>\n",
       "<use x=\"389.703681\" y=\"637.094234\" xlink:href=\"#g0-0\"/>\n",
       "<use x=\"399.002178\" y=\"637.094234\" xlink:href=\"#g1-56\"/>\n",
       "<g transform=\"translate(340.228 337.677)scale(.996264)\">\n",
       "<path d=\"M64.3744 284.883V287.017\" fill=\"none\" stroke=\"#000000\" stroke-linecap=\"round\" stroke-linejoin=\"round\" stroke-miterlimit=\"10.0375\" stroke-width=\"0.426791\"/>\n",
       "</g>\n",
       "<g transform=\"translate(340.228 337.677)scale(.996264)\">\n",
       "<path d=\"M71.4875 284.883V287.017\" fill=\"none\" stroke=\"#000000\" stroke-linecap=\"round\" stroke-linejoin=\"round\" stroke-miterlimit=\"10.0375\" stroke-width=\"0.426791\"/>\n",
       "</g>\n",
       "<g transform=\"translate(340.228 337.677)scale(.996264)\">\n",
       "<path d=\"M78.6007 284.883V287.017\" fill=\"none\" stroke=\"#000000\" stroke-linecap=\"round\" stroke-linejoin=\"round\" stroke-miterlimit=\"10.0375\" stroke-width=\"0.426791\"/>\n",
       "</g>\n",
       "<g transform=\"translate(340.228 337.677)scale(.996264)\">\n",
       "<path d=\"M85.7139 284.883V289.151\" fill=\"none\" stroke=\"#000000\" stroke-linecap=\"round\" stroke-linejoin=\"round\" stroke-miterlimit=\"10.0375\" stroke-width=\"0.711319\"/>\n",
       "</g>\n",
       "<use x=\"418.05014\" y=\"637.094234\" xlink:href=\"#g0-0\"/>\n",
       "<use x=\"427.348637\" y=\"637.094234\" xlink:href=\"#g1-55\"/>\n",
       "<g transform=\"translate(340.228 337.677)scale(.996264)\">\n",
       "<path d=\"M92.8271 284.883V287.017\" fill=\"none\" stroke=\"#000000\" stroke-linecap=\"round\" stroke-linejoin=\"round\" stroke-miterlimit=\"10.0375\" stroke-width=\"0.426791\"/>\n",
       "</g>\n",
       "<g transform=\"translate(340.228 337.677)scale(.996264)\">\n",
       "<path d=\"M99.9403 284.883V287.017\" fill=\"none\" stroke=\"#000000\" stroke-linecap=\"round\" stroke-linejoin=\"round\" stroke-miterlimit=\"10.0375\" stroke-width=\"0.426791\"/>\n",
       "</g>\n",
       "<g transform=\"translate(340.228 337.677)scale(.996264)\">\n",
       "<path d=\"M107.053 284.883V287.017\" fill=\"none\" stroke=\"#000000\" stroke-linecap=\"round\" stroke-linejoin=\"round\" stroke-miterlimit=\"10.0375\" stroke-width=\"0.426791\"/>\n",
       "</g>\n",
       "<g transform=\"translate(340.228 337.677)scale(.996264)\">\n",
       "<path d=\"M114.167 284.883V289.151\" fill=\"none\" stroke=\"#000000\" stroke-linecap=\"round\" stroke-linejoin=\"round\" stroke-miterlimit=\"10.0375\" stroke-width=\"0.711319\"/>\n",
       "</g>\n",
       "<use x=\"446.396585\" y=\"637.094234\" xlink:href=\"#g0-0\"/>\n",
       "<use x=\"455.695082\" y=\"637.094234\" xlink:href=\"#g1-54\"/>\n",
       "<g transform=\"translate(340.228 337.677)scale(.996264)\">\n",
       "<path d=\"M121.28 284.883V287.017\" fill=\"none\" stroke=\"#000000\" stroke-linecap=\"round\" stroke-linejoin=\"round\" stroke-miterlimit=\"10.0375\" stroke-width=\"0.426791\"/>\n",
       "</g>\n",
       "<g transform=\"translate(340.228 337.677)scale(.996264)\">\n",
       "<path d=\"M128.393 284.883V287.017\" fill=\"none\" stroke=\"#000000\" stroke-linecap=\"round\" stroke-linejoin=\"round\" stroke-miterlimit=\"10.0375\" stroke-width=\"0.426791\"/>\n",
       "</g>\n",
       "<g transform=\"translate(340.228 337.677)scale(.996264)\">\n",
       "<path d=\"M135.506 284.883V287.017\" fill=\"none\" stroke=\"#000000\" stroke-linecap=\"round\" stroke-linejoin=\"round\" stroke-miterlimit=\"10.0375\" stroke-width=\"0.426791\"/>\n",
       "</g>\n",
       "<g transform=\"translate(340.228 337.677)scale(.996264)\">\n",
       "<path d=\"M142.619 284.883V289.151\" fill=\"none\" stroke=\"#000000\" stroke-linecap=\"round\" stroke-linejoin=\"round\" stroke-miterlimit=\"10.0375\" stroke-width=\"0.711319\"/>\n",
       "</g>\n",
       "<use x=\"474.743044\" y=\"637.094234\" xlink:href=\"#g0-0\"/>\n",
       "<use x=\"484.041541\" y=\"637.094234\" xlink:href=\"#g1-53\"/>\n",
       "<g transform=\"translate(340.228 337.677)scale(.996264)\">\n",
       "<path d=\"M149.733 284.883V287.017\" fill=\"none\" stroke=\"#000000\" stroke-linecap=\"round\" stroke-linejoin=\"round\" stroke-miterlimit=\"10.0375\" stroke-width=\"0.426791\"/>\n",
       "</g>\n",
       "<g transform=\"translate(340.228 337.677)scale(.996264)\">\n",
       "<path d=\"M156.846 284.883V287.017\" fill=\"none\" stroke=\"#000000\" stroke-linecap=\"round\" stroke-linejoin=\"round\" stroke-miterlimit=\"10.0375\" stroke-width=\"0.426791\"/>\n",
       "</g>\n",
       "<g transform=\"translate(340.228 337.677)scale(.996264)\">\n",
       "<path d=\"M163.959 284.883V287.017\" fill=\"none\" stroke=\"#000000\" stroke-linecap=\"round\" stroke-linejoin=\"round\" stroke-miterlimit=\"10.0375\" stroke-width=\"0.426791\"/>\n",
       "</g>\n",
       "<g transform=\"translate(340.228 337.677)scale(.996264)\">\n",
       "<path d=\"M171.072 284.883V289.151\" fill=\"none\" stroke=\"#000000\" stroke-linecap=\"round\" stroke-linejoin=\"round\" stroke-miterlimit=\"10.0375\" stroke-width=\"0.711319\"/>\n",
       "</g>\n",
       "<use x=\"503.089504\" y=\"637.094234\" xlink:href=\"#g0-0\"/>\n",
       "<use x=\"512.388001\" y=\"637.094234\" xlink:href=\"#g1-52\"/>\n",
       "<g transform=\"translate(340.228 337.677)scale(.996264)\">\n",
       "<path d=\"M178.185 284.883V287.017\" fill=\"none\" stroke=\"#000000\" stroke-linecap=\"round\" stroke-linejoin=\"round\" stroke-miterlimit=\"10.0375\" stroke-width=\"0.426791\"/>\n",
       "</g>\n",
       "<g transform=\"translate(340.228 337.677)scale(.996264)\">\n",
       "<path d=\"M185.299 284.883V287.017\" fill=\"none\" stroke=\"#000000\" stroke-linecap=\"round\" stroke-linejoin=\"round\" stroke-miterlimit=\"10.0375\" stroke-width=\"0.426791\"/>\n",
       "</g>\n",
       "<g transform=\"translate(340.228 337.677)scale(.996264)\">\n",
       "<path d=\"M192.412 284.883V287.017\" fill=\"none\" stroke=\"#000000\" stroke-linecap=\"round\" stroke-linejoin=\"round\" stroke-miterlimit=\"10.0375\" stroke-width=\"0.426791\"/>\n",
       "</g>\n",
       "<g transform=\"translate(340.228 337.677)scale(.996264)\">\n",
       "<path d=\"M199.525 284.883V289.151\" fill=\"none\" stroke=\"#000000\" stroke-linecap=\"round\" stroke-linejoin=\"round\" stroke-miterlimit=\"10.0375\" stroke-width=\"0.711319\"/>\n",
       "</g>\n",
       "<use x=\"531.435963\" y=\"637.094234\" xlink:href=\"#g0-0\"/>\n",
       "<use x=\"540.73446\" y=\"637.094234\" xlink:href=\"#g1-51\"/>\n",
       "<g transform=\"translate(340.228 337.677)scale(.996264)\">\n",
       "<path d=\"M206.638 284.883V287.017\" fill=\"none\" stroke=\"#000000\" stroke-linecap=\"round\" stroke-linejoin=\"round\" stroke-miterlimit=\"10.0375\" stroke-width=\"0.426791\"/>\n",
       "</g>\n",
       "<g transform=\"translate(340.228 337.677)scale(.996264)\">\n",
       "<path d=\"M213.751 284.883V287.017\" fill=\"none\" stroke=\"#000000\" stroke-linecap=\"round\" stroke-linejoin=\"round\" stroke-miterlimit=\"10.0375\" stroke-width=\"0.426791\"/>\n",
       "</g>\n",
       "<g transform=\"translate(340.228 337.677)scale(.996264)\">\n",
       "<path d=\"M220.865 284.883V287.017\" fill=\"none\" stroke=\"#000000\" stroke-linecap=\"round\" stroke-linejoin=\"round\" stroke-miterlimit=\"10.0375\" stroke-width=\"0.426791\"/>\n",
       "</g>\n",
       "<g transform=\"translate(340.228 337.677)scale(.996264)\">\n",
       "<path d=\"M227.978 284.883V289.151\" fill=\"none\" stroke=\"#000000\" stroke-linecap=\"round\" stroke-linejoin=\"round\" stroke-miterlimit=\"10.0375\" stroke-width=\"0.711319\"/>\n",
       "</g>\n",
       "<use x=\"559.782423\" y=\"637.094234\" xlink:href=\"#g0-0\"/>\n",
       "<use x=\"569.08092\" y=\"637.094234\" xlink:href=\"#g1-50\"/>\n",
       "<g transform=\"translate(340.228 337.677)scale(.996264)\">\n",
       "<path d=\"M235.091 284.883V287.017\" fill=\"none\" stroke=\"#000000\" stroke-linecap=\"round\" stroke-linejoin=\"round\" stroke-miterlimit=\"10.0375\" stroke-width=\"0.426791\"/>\n",
       "</g>\n",
       "<g transform=\"translate(340.228 337.677)scale(.996264)\">\n",
       "<path d=\"M242.204 284.883V287.017\" fill=\"none\" stroke=\"#000000\" stroke-linecap=\"round\" stroke-linejoin=\"round\" stroke-miterlimit=\"10.0375\" stroke-width=\"0.426791\"/>\n",
       "</g>\n",
       "<g transform=\"translate(340.228 337.677)scale(.996264)\">\n",
       "<path d=\"M249.317 284.883V287.017\" fill=\"none\" stroke=\"#000000\" stroke-linecap=\"round\" stroke-linejoin=\"round\" stroke-miterlimit=\"10.0375\" stroke-width=\"0.426791\"/>\n",
       "</g>\n",
       "<g transform=\"translate(340.228 337.677)scale(.996264)\">\n",
       "<path d=\"M256.43 284.883V289.151\" fill=\"none\" stroke=\"#000000\" stroke-linecap=\"round\" stroke-linejoin=\"round\" stroke-miterlimit=\"10.0375\" stroke-width=\"0.711319\"/>\n",
       "</g>\n",
       "<use x=\"588.128867\" y=\"637.094234\" xlink:href=\"#g0-0\"/>\n",
       "<use x=\"597.427364\" y=\"637.094234\" xlink:href=\"#g1-49\"/>\n",
       "<g transform=\"translate(340.228 337.677)scale(.996264)\">\n",
       "<path d=\"M263.544 284.883V287.017\" fill=\"none\" stroke=\"#000000\" stroke-linecap=\"round\" stroke-linejoin=\"round\" stroke-miterlimit=\"10.0375\" stroke-width=\"0.426791\"/>\n",
       "</g>\n",
       "<g transform=\"translate(340.228 337.677)scale(.996264)\">\n",
       "<path d=\"M270.657 284.883V287.017\" fill=\"none\" stroke=\"#000000\" stroke-linecap=\"round\" stroke-linejoin=\"round\" stroke-miterlimit=\"10.0375\" stroke-width=\"0.426791\"/>\n",
       "</g>\n",
       "<g transform=\"translate(340.228 337.677)scale(.996264)\">\n",
       "<path d=\"M277.77 284.883V287.017\" fill=\"none\" stroke=\"#000000\" stroke-linecap=\"round\" stroke-linejoin=\"round\" stroke-miterlimit=\"10.0375\" stroke-width=\"0.426791\"/>\n",
       "</g>\n",
       "<g transform=\"translate(340.228 337.677)scale(.996264)\">\n",
       "<path d=\"M313.336 284.883V289.151\" fill=\"none\" stroke=\"#000000\" stroke-linecap=\"round\" stroke-linejoin=\"round\" stroke-miterlimit=\"10.0375\" stroke-width=\"0.711319\"/>\n",
       "</g>\n",
       "<use x=\"649.471024\" y=\"637.094219\" xlink:href=\"#g1-49\"/>\n",
       "<g transform=\"translate(340.228 337.677)scale(.996264)\">\n",
       "<path d=\"M306.223 284.883V287.017\" fill=\"none\" stroke=\"#000000\" stroke-linecap=\"round\" stroke-linejoin=\"round\" stroke-miterlimit=\"10.0375\" stroke-width=\"0.426791\"/>\n",
       "</g>\n",
       "<g transform=\"translate(340.228 337.677)scale(.996264)\">\n",
       "<path d=\"M299.11 284.883V287.017\" fill=\"none\" stroke=\"#000000\" stroke-linecap=\"round\" stroke-linejoin=\"round\" stroke-miterlimit=\"10.0375\" stroke-width=\"0.426791\"/>\n",
       "</g>\n",
       "<g transform=\"translate(340.228 337.677)scale(.996264)\">\n",
       "<path d=\"M291.996 284.883V287.017\" fill=\"none\" stroke=\"#000000\" stroke-linecap=\"round\" stroke-linejoin=\"round\" stroke-miterlimit=\"10.0375\" stroke-width=\"0.426791\"/>\n",
       "</g>\n",
       "<g transform=\"translate(340.228 337.677)scale(.996264)\">\n",
       "<path d=\"M341.789 284.883V289.151\" fill=\"none\" stroke=\"#000000\" stroke-linecap=\"round\" stroke-linejoin=\"round\" stroke-miterlimit=\"10.0375\" stroke-width=\"0.711319\"/>\n",
       "</g>\n",
       "<use x=\"677.817483\" y=\"637.094219\" xlink:href=\"#g1-50\"/>\n",
       "<g transform=\"translate(340.228 337.677)scale(.996264)\">\n",
       "<path d=\"M334.676 284.883V287.017\" fill=\"none\" stroke=\"#000000\" stroke-linecap=\"round\" stroke-linejoin=\"round\" stroke-miterlimit=\"10.0375\" stroke-width=\"0.426791\"/>\n",
       "</g>\n",
       "<g transform=\"translate(340.228 337.677)scale(.996264)\">\n",
       "<path d=\"M327.562 284.883V287.017\" fill=\"none\" stroke=\"#000000\" stroke-linecap=\"round\" stroke-linejoin=\"round\" stroke-miterlimit=\"10.0375\" stroke-width=\"0.426791\"/>\n",
       "</g>\n",
       "<g transform=\"translate(340.228 337.677)scale(.996264)\">\n",
       "<path d=\"M320.449 284.883V287.017\" fill=\"none\" stroke=\"#000000\" stroke-linecap=\"round\" stroke-linejoin=\"round\" stroke-miterlimit=\"10.0375\" stroke-width=\"0.426791\"/>\n",
       "</g>\n",
       "<g transform=\"translate(340.228 337.677)scale(.996264)\">\n",
       "<path d=\"M370.241 284.883V289.151\" fill=\"none\" stroke=\"#000000\" stroke-linecap=\"round\" stroke-linejoin=\"round\" stroke-miterlimit=\"10.0375\" stroke-width=\"0.711319\"/>\n",
       "</g>\n",
       "<use x=\"706.163943\" y=\"637.094219\" xlink:href=\"#g1-51\"/>\n",
       "<g transform=\"translate(340.228 337.677)scale(.996264)\">\n",
       "<path d=\"M363.128 284.883V287.017\" fill=\"none\" stroke=\"#000000\" stroke-linecap=\"round\" stroke-linejoin=\"round\" stroke-miterlimit=\"10.0375\" stroke-width=\"0.426791\"/>\n",
       "</g>\n",
       "<g transform=\"translate(340.228 337.677)scale(.996264)\">\n",
       "<path d=\"M356.015 284.883V287.017\" fill=\"none\" stroke=\"#000000\" stroke-linecap=\"round\" stroke-linejoin=\"round\" stroke-miterlimit=\"10.0375\" stroke-width=\"0.426791\"/>\n",
       "</g>\n",
       "<g transform=\"translate(340.228 337.677)scale(.996264)\">\n",
       "<path d=\"M348.902 284.883V287.017\" fill=\"none\" stroke=\"#000000\" stroke-linecap=\"round\" stroke-linejoin=\"round\" stroke-miterlimit=\"10.0375\" stroke-width=\"0.426791\"/>\n",
       "</g>\n",
       "<g transform=\"translate(340.228 337.677)scale(.996264)\">\n",
       "<path d=\"M398.694 284.883V289.151\" fill=\"none\" stroke=\"#000000\" stroke-linecap=\"round\" stroke-linejoin=\"round\" stroke-miterlimit=\"10.0375\" stroke-width=\"0.711319\"/>\n",
       "</g>\n",
       "<use x=\"734.510387\" y=\"637.094219\" xlink:href=\"#g1-52\"/>\n",
       "<g transform=\"translate(340.228 337.677)scale(.996264)\">\n",
       "<path d=\"M391.581 284.883V287.017\" fill=\"none\" stroke=\"#000000\" stroke-linecap=\"round\" stroke-linejoin=\"round\" stroke-miterlimit=\"10.0375\" stroke-width=\"0.426791\"/>\n",
       "</g>\n",
       "<g transform=\"translate(340.228 337.677)scale(.996264)\">\n",
       "<path d=\"M384.468 284.883V287.017\" fill=\"none\" stroke=\"#000000\" stroke-linecap=\"round\" stroke-linejoin=\"round\" stroke-miterlimit=\"10.0375\" stroke-width=\"0.426791\"/>\n",
       "</g>\n",
       "<g transform=\"translate(340.228 337.677)scale(.996264)\">\n",
       "<path d=\"M377.355 284.883V287.017\" fill=\"none\" stroke=\"#000000\" stroke-linecap=\"round\" stroke-linejoin=\"round\" stroke-miterlimit=\"10.0375\" stroke-width=\"0.426791\"/>\n",
       "</g>\n",
       "<g transform=\"translate(340.228 337.677)scale(.996264)\">\n",
       "<path d=\"M427.147 284.883V289.151\" fill=\"none\" stroke=\"#000000\" stroke-linecap=\"round\" stroke-linejoin=\"round\" stroke-miterlimit=\"10.0375\" stroke-width=\"0.711319\"/>\n",
       "</g>\n",
       "<use x=\"762.856847\" y=\"637.094219\" xlink:href=\"#g1-53\"/>\n",
       "<g transform=\"translate(340.228 337.677)scale(.996264)\">\n",
       "<path d=\"M420.034 284.883V287.017\" fill=\"none\" stroke=\"#000000\" stroke-linecap=\"round\" stroke-linejoin=\"round\" stroke-miterlimit=\"10.0375\" stroke-width=\"0.426791\"/>\n",
       "</g>\n",
       "<g transform=\"translate(340.228 337.677)scale(.996264)\">\n",
       "<path d=\"M412.921 284.883V287.017\" fill=\"none\" stroke=\"#000000\" stroke-linecap=\"round\" stroke-linejoin=\"round\" stroke-miterlimit=\"10.0375\" stroke-width=\"0.426791\"/>\n",
       "</g>\n",
       "<g transform=\"translate(340.228 337.677)scale(.996264)\">\n",
       "<path d=\"M405.807 284.883V287.017\" fill=\"none\" stroke=\"#000000\" stroke-linecap=\"round\" stroke-linejoin=\"round\" stroke-miterlimit=\"10.0375\" stroke-width=\"0.426791\"/>\n",
       "</g>\n",
       "<g transform=\"translate(340.228 337.677)scale(.996264)\">\n",
       "<path d=\"M455.6 284.883V289.151\" fill=\"none\" stroke=\"#000000\" stroke-linecap=\"round\" stroke-linejoin=\"round\" stroke-miterlimit=\"10.0375\" stroke-width=\"0.711319\"/>\n",
       "</g>\n",
       "<use x=\"791.203306\" y=\"637.094219\" xlink:href=\"#g1-54\"/>\n",
       "<g transform=\"translate(340.228 337.677)scale(.996264)\">\n",
       "<path d=\"M448.487 284.883V287.017\" fill=\"none\" stroke=\"#000000\" stroke-linecap=\"round\" stroke-linejoin=\"round\" stroke-miterlimit=\"10.0375\" stroke-width=\"0.426791\"/>\n",
       "</g>\n",
       "<g transform=\"translate(340.228 337.677)scale(.996264)\">\n",
       "<path d=\"M441.373 284.883V287.017\" fill=\"none\" stroke=\"#000000\" stroke-linecap=\"round\" stroke-linejoin=\"round\" stroke-miterlimit=\"10.0375\" stroke-width=\"0.426791\"/>\n",
       "</g>\n",
       "<g transform=\"translate(340.228 337.677)scale(.996264)\">\n",
       "<path d=\"M434.26 284.883V287.017\" fill=\"none\" stroke=\"#000000\" stroke-linecap=\"round\" stroke-linejoin=\"round\" stroke-miterlimit=\"10.0375\" stroke-width=\"0.426791\"/>\n",
       "</g>\n",
       "<g transform=\"translate(340.228 337.677)scale(.996264)\">\n",
       "<path d=\"M484.053 284.883V289.151\" fill=\"none\" stroke=\"#000000\" stroke-linecap=\"round\" stroke-linejoin=\"round\" stroke-miterlimit=\"10.0375\" stroke-width=\"0.711319\"/>\n",
       "</g>\n",
       "<use x=\"819.549766\" y=\"637.094219\" xlink:href=\"#g1-55\"/>\n",
       "<g transform=\"translate(340.228 337.677)scale(.996264)\">\n",
       "<path d=\"M476.939 284.883V287.017\" fill=\"none\" stroke=\"#000000\" stroke-linecap=\"round\" stroke-linejoin=\"round\" stroke-miterlimit=\"10.0375\" stroke-width=\"0.426791\"/>\n",
       "</g>\n",
       "<g transform=\"translate(340.228 337.677)scale(.996264)\">\n",
       "<path d=\"M469.826 284.883V287.017\" fill=\"none\" stroke=\"#000000\" stroke-linecap=\"round\" stroke-linejoin=\"round\" stroke-miterlimit=\"10.0375\" stroke-width=\"0.426791\"/>\n",
       "</g>\n",
       "<g transform=\"translate(340.228 337.677)scale(.996264)\">\n",
       "<path d=\"M462.713 284.883V287.017\" fill=\"none\" stroke=\"#000000\" stroke-linecap=\"round\" stroke-linejoin=\"round\" stroke-miterlimit=\"10.0375\" stroke-width=\"0.426791\"/>\n",
       "</g>\n",
       "<g transform=\"translate(340.228 337.677)scale(.996264)\">\n",
       "<path d=\"M512.505 284.883V289.151\" fill=\"none\" stroke=\"#000000\" stroke-linecap=\"round\" stroke-linejoin=\"round\" stroke-miterlimit=\"10.0375\" stroke-width=\"0.711319\"/>\n",
       "</g>\n",
       "<use x=\"847.896225\" y=\"637.094219\" xlink:href=\"#g1-56\"/>\n",
       "<g transform=\"translate(340.228 337.677)scale(.996264)\">\n",
       "<path d=\"M505.392 284.883V287.017\" fill=\"none\" stroke=\"#000000\" stroke-linecap=\"round\" stroke-linejoin=\"round\" stroke-miterlimit=\"10.0375\" stroke-width=\"0.426791\"/>\n",
       "</g>\n",
       "<g transform=\"translate(340.228 337.677)scale(.996264)\">\n",
       "<path d=\"M498.279 284.883V287.017\" fill=\"none\" stroke=\"#000000\" stroke-linecap=\"round\" stroke-linejoin=\"round\" stroke-miterlimit=\"10.0375\" stroke-width=\"0.426791\"/>\n",
       "</g>\n",
       "<g transform=\"translate(340.228 337.677)scale(.996264)\">\n",
       "<path d=\"M491.166 284.883V287.017\" fill=\"none\" stroke=\"#000000\" stroke-linecap=\"round\" stroke-linejoin=\"round\" stroke-miterlimit=\"10.0375\" stroke-width=\"0.426791\"/>\n",
       "</g>\n",
       "<g transform=\"translate(340.228 337.677)scale(.996264)\">\n",
       "<path d=\"M540.958 284.883V289.151\" fill=\"none\" stroke=\"#000000\" stroke-linecap=\"round\" stroke-linejoin=\"round\" stroke-miterlimit=\"10.0375\" stroke-width=\"0.711319\"/>\n",
       "</g>\n",
       "<use x=\"876.242685\" y=\"637.094219\" xlink:href=\"#g1-57\"/>\n",
       "<g transform=\"translate(340.228 337.677)scale(.996264)\">\n",
       "<path d=\"M533.845 284.883V287.017\" fill=\"none\" stroke=\"#000000\" stroke-linecap=\"round\" stroke-linejoin=\"round\" stroke-miterlimit=\"10.0375\" stroke-width=\"0.426791\"/>\n",
       "</g>\n",
       "<g transform=\"translate(340.228 337.677)scale(.996264)\">\n",
       "<path d=\"M526.732 284.883V287.017\" fill=\"none\" stroke=\"#000000\" stroke-linecap=\"round\" stroke-linejoin=\"round\" stroke-miterlimit=\"10.0375\" stroke-width=\"0.426791\"/>\n",
       "</g>\n",
       "<g transform=\"translate(340.228 337.677)scale(.996264)\">\n",
       "<path d=\"M519.618 284.883V287.017\" fill=\"none\" stroke=\"#000000\" stroke-linecap=\"round\" stroke-linejoin=\"round\" stroke-miterlimit=\"10.0375\" stroke-width=\"0.426791\"/>\n",
       "</g>\n",
       "<g transform=\"translate(340.228 337.677)scale(.996264)\">\n",
       "<path d=\"M284.883 540.958H280.615\" fill=\"none\" stroke=\"#000000\" stroke-linecap=\"round\" stroke-linejoin=\"round\" stroke-miterlimit=\"10.0375\" stroke-width=\"0.711319\"/>\n",
       "</g>\n",
       "<use x=\"600.94584\" y=\"879.908245\" xlink:href=\"#g0-0\"/>\n",
       "<use x=\"610.244337\" y=\"879.908245\" xlink:href=\"#g1-57\"/>\n",
       "<g transform=\"translate(340.228 337.677)scale(.996264)\">\n",
       "<path d=\"M284.883 533.845H282.749\" fill=\"none\" stroke=\"#000000\" stroke-linecap=\"round\" stroke-linejoin=\"round\" stroke-miterlimit=\"10.0375\" stroke-width=\"0.426791\"/>\n",
       "</g>\n",
       "<g transform=\"translate(340.228 337.677)scale(.996264)\">\n",
       "<path d=\"M284.883 526.732H282.749\" fill=\"none\" stroke=\"#000000\" stroke-linecap=\"round\" stroke-linejoin=\"round\" stroke-miterlimit=\"10.0375\" stroke-width=\"0.426791\"/>\n",
       "</g>\n",
       "<g transform=\"translate(340.228 337.677)scale(.996264)\">\n",
       "<path d=\"M284.883 519.618H282.749\" fill=\"none\" stroke=\"#000000\" stroke-linecap=\"round\" stroke-linejoin=\"round\" stroke-miterlimit=\"10.0375\" stroke-width=\"0.426791\"/>\n",
       "</g>\n",
       "<g transform=\"translate(340.228 337.677)scale(.996264)\">\n",
       "<path d=\"M284.883 512.505H280.615\" fill=\"none\" stroke=\"#000000\" stroke-linecap=\"round\" stroke-linejoin=\"round\" stroke-miterlimit=\"10.0375\" stroke-width=\"0.711319\"/>\n",
       "</g>\n",
       "<use x=\"600.94584\" y=\"851.561786\" xlink:href=\"#g0-0\"/>\n",
       "<use x=\"610.244337\" y=\"851.561786\" xlink:href=\"#g1-56\"/>\n",
       "<g transform=\"translate(340.228 337.677)scale(.996264)\">\n",
       "<path d=\"M284.883 505.392H282.749\" fill=\"none\" stroke=\"#000000\" stroke-linecap=\"round\" stroke-linejoin=\"round\" stroke-miterlimit=\"10.0375\" stroke-width=\"0.426791\"/>\n",
       "</g>\n",
       "<g transform=\"translate(340.228 337.677)scale(.996264)\">\n",
       "<path d=\"M284.883 498.279H282.749\" fill=\"none\" stroke=\"#000000\" stroke-linecap=\"round\" stroke-linejoin=\"round\" stroke-miterlimit=\"10.0375\" stroke-width=\"0.426791\"/>\n",
       "</g>\n",
       "<g transform=\"translate(340.228 337.677)scale(.996264)\">\n",
       "<path d=\"M284.883 491.166H282.749\" fill=\"none\" stroke=\"#000000\" stroke-linecap=\"round\" stroke-linejoin=\"round\" stroke-miterlimit=\"10.0375\" stroke-width=\"0.426791\"/>\n",
       "</g>\n",
       "<g transform=\"translate(340.228 337.677)scale(.996264)\">\n",
       "<path d=\"M284.883 484.053H280.615\" fill=\"none\" stroke=\"#000000\" stroke-linecap=\"round\" stroke-linejoin=\"round\" stroke-miterlimit=\"10.0375\" stroke-width=\"0.711319\"/>\n",
       "</g>\n",
       "<use x=\"600.94584\" y=\"823.215341\" xlink:href=\"#g0-0\"/>\n",
       "<use x=\"610.244337\" y=\"823.215341\" xlink:href=\"#g1-55\"/>\n",
       "<g transform=\"translate(340.228 337.677)scale(.996264)\">\n",
       "<path d=\"M284.883 476.939H282.749\" fill=\"none\" stroke=\"#000000\" stroke-linecap=\"round\" stroke-linejoin=\"round\" stroke-miterlimit=\"10.0375\" stroke-width=\"0.426791\"/>\n",
       "</g>\n",
       "<g transform=\"translate(340.228 337.677)scale(.996264)\">\n",
       "<path d=\"M284.883 469.826H282.749\" fill=\"none\" stroke=\"#000000\" stroke-linecap=\"round\" stroke-linejoin=\"round\" stroke-miterlimit=\"10.0375\" stroke-width=\"0.426791\"/>\n",
       "</g>\n",
       "<g transform=\"translate(340.228 337.677)scale(.996264)\">\n",
       "<path d=\"M284.883 462.713H282.749\" fill=\"none\" stroke=\"#000000\" stroke-linecap=\"round\" stroke-linejoin=\"round\" stroke-miterlimit=\"10.0375\" stroke-width=\"0.426791\"/>\n",
       "</g>\n",
       "<g transform=\"translate(340.228 337.677)scale(.996264)\">\n",
       "<path d=\"M284.883 455.6H280.615\" fill=\"none\" stroke=\"#000000\" stroke-linecap=\"round\" stroke-linejoin=\"round\" stroke-miterlimit=\"10.0375\" stroke-width=\"0.711319\"/>\n",
       "</g>\n",
       "<use x=\"600.94584\" y=\"794.868882\" xlink:href=\"#g0-0\"/>\n",
       "<use x=\"610.244337\" y=\"794.868882\" xlink:href=\"#g1-54\"/>\n",
       "<g transform=\"translate(340.228 337.677)scale(.996264)\">\n",
       "<path d=\"M284.883 448.487H282.749\" fill=\"none\" stroke=\"#000000\" stroke-linecap=\"round\" stroke-linejoin=\"round\" stroke-miterlimit=\"10.0375\" stroke-width=\"0.426791\"/>\n",
       "</g>\n",
       "<g transform=\"translate(340.228 337.677)scale(.996264)\">\n",
       "<path d=\"M284.883 441.373H282.749\" fill=\"none\" stroke=\"#000000\" stroke-linecap=\"round\" stroke-linejoin=\"round\" stroke-miterlimit=\"10.0375\" stroke-width=\"0.426791\"/>\n",
       "</g>\n",
       "<g transform=\"translate(340.228 337.677)scale(.996264)\">\n",
       "<path d=\"M284.883 434.26H282.749\" fill=\"none\" stroke=\"#000000\" stroke-linecap=\"round\" stroke-linejoin=\"round\" stroke-miterlimit=\"10.0375\" stroke-width=\"0.426791\"/>\n",
       "</g>\n",
       "<g transform=\"translate(340.228 337.677)scale(.996264)\">\n",
       "<path d=\"M284.883 427.147H280.615\" fill=\"none\" stroke=\"#000000\" stroke-linecap=\"round\" stroke-linejoin=\"round\" stroke-miterlimit=\"10.0375\" stroke-width=\"0.711319\"/>\n",
       "</g>\n",
       "<use x=\"600.94584\" y=\"766.522422\" xlink:href=\"#g0-0\"/>\n",
       "<use x=\"610.244337\" y=\"766.522422\" xlink:href=\"#g1-53\"/>\n",
       "<g transform=\"translate(340.228 337.677)scale(.996264)\">\n",
       "<path d=\"M284.883 420.034H282.749\" fill=\"none\" stroke=\"#000000\" stroke-linecap=\"round\" stroke-linejoin=\"round\" stroke-miterlimit=\"10.0375\" stroke-width=\"0.426791\"/>\n",
       "</g>\n",
       "<g transform=\"translate(340.228 337.677)scale(.996264)\">\n",
       "<path d=\"M284.883 412.921H282.749\" fill=\"none\" stroke=\"#000000\" stroke-linecap=\"round\" stroke-linejoin=\"round\" stroke-miterlimit=\"10.0375\" stroke-width=\"0.426791\"/>\n",
       "</g>\n",
       "<g transform=\"translate(340.228 337.677)scale(.996264)\">\n",
       "<path d=\"M284.883 405.807H282.749\" fill=\"none\" stroke=\"#000000\" stroke-linecap=\"round\" stroke-linejoin=\"round\" stroke-miterlimit=\"10.0375\" stroke-width=\"0.426791\"/>\n",
       "</g>\n",
       "<g transform=\"translate(340.228 337.677)scale(.996264)\">\n",
       "<path d=\"M284.883 398.694H280.615\" fill=\"none\" stroke=\"#000000\" stroke-linecap=\"round\" stroke-linejoin=\"round\" stroke-miterlimit=\"10.0375\" stroke-width=\"0.711319\"/>\n",
       "</g>\n",
       "<use x=\"600.94584\" y=\"738.175962\" xlink:href=\"#g0-0\"/>\n",
       "<use x=\"610.244337\" y=\"738.175962\" xlink:href=\"#g1-52\"/>\n",
       "<g transform=\"translate(340.228 337.677)scale(.996264)\">\n",
       "<path d=\"M284.883 391.581H282.749\" fill=\"none\" stroke=\"#000000\" stroke-linecap=\"round\" stroke-linejoin=\"round\" stroke-miterlimit=\"10.0375\" stroke-width=\"0.426791\"/>\n",
       "</g>\n",
       "<g transform=\"translate(340.228 337.677)scale(.996264)\">\n",
       "<path d=\"M284.883 384.468H282.749\" fill=\"none\" stroke=\"#000000\" stroke-linecap=\"round\" stroke-linejoin=\"round\" stroke-miterlimit=\"10.0375\" stroke-width=\"0.426791\"/>\n",
       "</g>\n",
       "<g transform=\"translate(340.228 337.677)scale(.996264)\">\n",
       "<path d=\"M284.883 377.355H282.749\" fill=\"none\" stroke=\"#000000\" stroke-linecap=\"round\" stroke-linejoin=\"round\" stroke-miterlimit=\"10.0375\" stroke-width=\"0.426791\"/>\n",
       "</g>\n",
       "<g transform=\"translate(340.228 337.677)scale(.996264)\">\n",
       "<path d=\"M284.883 370.241H280.615\" fill=\"none\" stroke=\"#000000\" stroke-linecap=\"round\" stroke-linejoin=\"round\" stroke-miterlimit=\"10.0375\" stroke-width=\"0.711319\"/>\n",
       "</g>\n",
       "<use x=\"600.94584\" y=\"709.829503\" xlink:href=\"#g0-0\"/>\n",
       "<use x=\"610.244337\" y=\"709.829503\" xlink:href=\"#g1-51\"/>\n",
       "<g transform=\"translate(340.228 337.677)scale(.996264)\">\n",
       "<path d=\"M284.883 363.128H282.749\" fill=\"none\" stroke=\"#000000\" stroke-linecap=\"round\" stroke-linejoin=\"round\" stroke-miterlimit=\"10.0375\" stroke-width=\"0.426791\"/>\n",
       "</g>\n",
       "<g transform=\"translate(340.228 337.677)scale(.996264)\">\n",
       "<path d=\"M284.883 356.015H282.749\" fill=\"none\" stroke=\"#000000\" stroke-linecap=\"round\" stroke-linejoin=\"round\" stroke-miterlimit=\"10.0375\" stroke-width=\"0.426791\"/>\n",
       "</g>\n",
       "<g transform=\"translate(340.228 337.677)scale(.996264)\">\n",
       "<path d=\"M284.883 348.902H282.749\" fill=\"none\" stroke=\"#000000\" stroke-linecap=\"round\" stroke-linejoin=\"round\" stroke-miterlimit=\"10.0375\" stroke-width=\"0.426791\"/>\n",
       "</g>\n",
       "<g transform=\"translate(340.228 337.677)scale(.996264)\">\n",
       "<path d=\"M284.883 341.789H280.615\" fill=\"none\" stroke=\"#000000\" stroke-linecap=\"round\" stroke-linejoin=\"round\" stroke-miterlimit=\"10.0375\" stroke-width=\"0.711319\"/>\n",
       "</g>\n",
       "<use x=\"600.94584\" y=\"681.483059\" xlink:href=\"#g0-0\"/>\n",
       "<use x=\"610.244337\" y=\"681.483059\" xlink:href=\"#g1-50\"/>\n",
       "<g transform=\"translate(340.228 337.677)scale(.996264)\">\n",
       "<path d=\"M284.883 334.676H282.749\" fill=\"none\" stroke=\"#000000\" stroke-linecap=\"round\" stroke-linejoin=\"round\" stroke-miterlimit=\"10.0375\" stroke-width=\"0.426791\"/>\n",
       "</g>\n",
       "<g transform=\"translate(340.228 337.677)scale(.996264)\">\n",
       "<path d=\"M284.883 327.562H282.749\" fill=\"none\" stroke=\"#000000\" stroke-linecap=\"round\" stroke-linejoin=\"round\" stroke-miterlimit=\"10.0375\" stroke-width=\"0.426791\"/>\n",
       "</g>\n",
       "<g transform=\"translate(340.228 337.677)scale(.996264)\">\n",
       "<path d=\"M284.883 320.449H282.749\" fill=\"none\" stroke=\"#000000\" stroke-linecap=\"round\" stroke-linejoin=\"round\" stroke-miterlimit=\"10.0375\" stroke-width=\"0.426791\"/>\n",
       "</g>\n",
       "<g transform=\"translate(340.228 337.677)scale(.996264)\">\n",
       "<path d=\"M284.883 313.336H280.615\" fill=\"none\" stroke=\"#000000\" stroke-linecap=\"round\" stroke-linejoin=\"round\" stroke-miterlimit=\"10.0375\" stroke-width=\"0.711319\"/>\n",
       "</g>\n",
       "<use x=\"600.94584\" y=\"653.136599\" xlink:href=\"#g0-0\"/>\n",
       "<use x=\"610.244337\" y=\"653.136599\" xlink:href=\"#g1-49\"/>\n",
       "<g transform=\"translate(340.228 337.677)scale(.996264)\">\n",
       "<path d=\"M284.883 306.223H282.749\" fill=\"none\" stroke=\"#000000\" stroke-linecap=\"round\" stroke-linejoin=\"round\" stroke-miterlimit=\"10.0375\" stroke-width=\"0.426791\"/>\n",
       "</g>\n",
       "<g transform=\"translate(340.228 337.677)scale(.996264)\">\n",
       "<path d=\"M284.883 299.11H282.749\" fill=\"none\" stroke=\"#000000\" stroke-linecap=\"round\" stroke-linejoin=\"round\" stroke-miterlimit=\"10.0375\" stroke-width=\"0.426791\"/>\n",
       "</g>\n",
       "<g transform=\"translate(340.228 337.677)scale(.996264)\">\n",
       "<path d=\"M284.883 291.996H282.749\" fill=\"none\" stroke=\"#000000\" stroke-linecap=\"round\" stroke-linejoin=\"round\" stroke-miterlimit=\"10.0375\" stroke-width=\"0.426791\"/>\n",
       "</g>\n",
       "<g transform=\"translate(340.228 337.677)scale(.996264)\">\n",
       "<path d=\"M284.883 256.43H280.615\" fill=\"none\" stroke=\"#000000\" stroke-linecap=\"round\" stroke-linejoin=\"round\" stroke-miterlimit=\"10.0375\" stroke-width=\"0.711319\"/>\n",
       "</g>\n",
       "<use x=\"610.244329\" y=\"596.941797\" xlink:href=\"#g1-49\"/>\n",
       "<g transform=\"translate(340.228 337.677)scale(.996264)\">\n",
       "<path d=\"M284.883 263.544H282.749\" fill=\"none\" stroke=\"#000000\" stroke-linecap=\"round\" stroke-linejoin=\"round\" stroke-miterlimit=\"10.0375\" stroke-width=\"0.426791\"/>\n",
       "</g>\n",
       "<g transform=\"translate(340.228 337.677)scale(.996264)\">\n",
       "<path d=\"M284.883 270.657H282.749\" fill=\"none\" stroke=\"#000000\" stroke-linecap=\"round\" stroke-linejoin=\"round\" stroke-miterlimit=\"10.0375\" stroke-width=\"0.426791\"/>\n",
       "</g>\n",
       "<g transform=\"translate(340.228 337.677)scale(.996264)\">\n",
       "<path d=\"M284.883 277.77H282.749\" fill=\"none\" stroke=\"#000000\" stroke-linecap=\"round\" stroke-linejoin=\"round\" stroke-miterlimit=\"10.0375\" stroke-width=\"0.426791\"/>\n",
       "</g>\n",
       "<g transform=\"translate(340.228 337.677)scale(.996264)\">\n",
       "<path d=\"M284.883 227.978H280.615\" fill=\"none\" stroke=\"#000000\" stroke-linecap=\"round\" stroke-linejoin=\"round\" stroke-miterlimit=\"10.0375\" stroke-width=\"0.711319\"/>\n",
       "</g>\n",
       "<use x=\"610.244329\" y=\"568.595337\" xlink:href=\"#g1-50\"/>\n",
       "<g transform=\"translate(340.228 337.677)scale(.996264)\">\n",
       "<path d=\"M284.883 235.091H282.749\" fill=\"none\" stroke=\"#000000\" stroke-linecap=\"round\" stroke-linejoin=\"round\" stroke-miterlimit=\"10.0375\" stroke-width=\"0.426791\"/>\n",
       "</g>\n",
       "<g transform=\"translate(340.228 337.677)scale(.996264)\">\n",
       "<path d=\"M284.883 242.204H282.749\" fill=\"none\" stroke=\"#000000\" stroke-linecap=\"round\" stroke-linejoin=\"round\" stroke-miterlimit=\"10.0375\" stroke-width=\"0.426791\"/>\n",
       "</g>\n",
       "<g transform=\"translate(340.228 337.677)scale(.996264)\">\n",
       "<path d=\"M284.883 249.317H282.749\" fill=\"none\" stroke=\"#000000\" stroke-linecap=\"round\" stroke-linejoin=\"round\" stroke-miterlimit=\"10.0375\" stroke-width=\"0.426791\"/>\n",
       "</g>\n",
       "<g transform=\"translate(340.228 337.677)scale(.996264)\">\n",
       "<path d=\"M284.883 199.525H280.615\" fill=\"none\" stroke=\"#000000\" stroke-linecap=\"round\" stroke-linejoin=\"round\" stroke-miterlimit=\"10.0375\" stroke-width=\"0.711319\"/>\n",
       "</g>\n",
       "<use x=\"610.244329\" y=\"540.248893\" xlink:href=\"#g1-51\"/>\n",
       "<g transform=\"translate(340.228 337.677)scale(.996264)\">\n",
       "<path d=\"M284.883 206.638H282.749\" fill=\"none\" stroke=\"#000000\" stroke-linecap=\"round\" stroke-linejoin=\"round\" stroke-miterlimit=\"10.0375\" stroke-width=\"0.426791\"/>\n",
       "</g>\n",
       "<g transform=\"translate(340.228 337.677)scale(.996264)\">\n",
       "<path d=\"M284.883 213.751H282.749\" fill=\"none\" stroke=\"#000000\" stroke-linecap=\"round\" stroke-linejoin=\"round\" stroke-miterlimit=\"10.0375\" stroke-width=\"0.426791\"/>\n",
       "</g>\n",
       "<g transform=\"translate(340.228 337.677)scale(.996264)\">\n",
       "<path d=\"M284.883 220.865H282.749\" fill=\"none\" stroke=\"#000000\" stroke-linecap=\"round\" stroke-linejoin=\"round\" stroke-miterlimit=\"10.0375\" stroke-width=\"0.426791\"/>\n",
       "</g>\n",
       "<g transform=\"translate(340.228 337.677)scale(.996264)\">\n",
       "<path d=\"M284.883 171.072H280.615\" fill=\"none\" stroke=\"#000000\" stroke-linecap=\"round\" stroke-linejoin=\"round\" stroke-miterlimit=\"10.0375\" stroke-width=\"0.711319\"/>\n",
       "</g>\n",
       "<use x=\"610.244329\" y=\"511.902433\" xlink:href=\"#g1-52\"/>\n",
       "<g transform=\"translate(340.228 337.677)scale(.996264)\">\n",
       "<path d=\"M284.883 178.185H282.749\" fill=\"none\" stroke=\"#000000\" stroke-linecap=\"round\" stroke-linejoin=\"round\" stroke-miterlimit=\"10.0375\" stroke-width=\"0.426791\"/>\n",
       "</g>\n",
       "<g transform=\"translate(340.228 337.677)scale(.996264)\">\n",
       "<path d=\"M284.883 185.299H282.749\" fill=\"none\" stroke=\"#000000\" stroke-linecap=\"round\" stroke-linejoin=\"round\" stroke-miterlimit=\"10.0375\" stroke-width=\"0.426791\"/>\n",
       "</g>\n",
       "<g transform=\"translate(340.228 337.677)scale(.996264)\">\n",
       "<path d=\"M284.883 192.412H282.749\" fill=\"none\" stroke=\"#000000\" stroke-linecap=\"round\" stroke-linejoin=\"round\" stroke-miterlimit=\"10.0375\" stroke-width=\"0.426791\"/>\n",
       "</g>\n",
       "<g transform=\"translate(340.228 337.677)scale(.996264)\">\n",
       "<path d=\"M284.883 142.619H280.615\" fill=\"none\" stroke=\"#000000\" stroke-linecap=\"round\" stroke-linejoin=\"round\" stroke-miterlimit=\"10.0375\" stroke-width=\"0.711319\"/>\n",
       "</g>\n",
       "<use x=\"610.244329\" y=\"483.555974\" xlink:href=\"#g1-53\"/>\n",
       "<g transform=\"translate(340.228 337.677)scale(.996264)\">\n",
       "<path d=\"M284.883 149.733H282.749\" fill=\"none\" stroke=\"#000000\" stroke-linecap=\"round\" stroke-linejoin=\"round\" stroke-miterlimit=\"10.0375\" stroke-width=\"0.426791\"/>\n",
       "</g>\n",
       "<g transform=\"translate(340.228 337.677)scale(.996264)\">\n",
       "<path d=\"M284.883 156.846H282.749\" fill=\"none\" stroke=\"#000000\" stroke-linecap=\"round\" stroke-linejoin=\"round\" stroke-miterlimit=\"10.0375\" stroke-width=\"0.426791\"/>\n",
       "</g>\n",
       "<g transform=\"translate(340.228 337.677)scale(.996264)\">\n",
       "<path d=\"M284.883 163.959H282.749\" fill=\"none\" stroke=\"#000000\" stroke-linecap=\"round\" stroke-linejoin=\"round\" stroke-miterlimit=\"10.0375\" stroke-width=\"0.426791\"/>\n",
       "</g>\n",
       "<g transform=\"translate(340.228 337.677)scale(.996264)\">\n",
       "<path d=\"M284.883 114.167H280.615\" fill=\"none\" stroke=\"#000000\" stroke-linecap=\"round\" stroke-linejoin=\"round\" stroke-miterlimit=\"10.0375\" stroke-width=\"0.711319\"/>\n",
       "</g>\n",
       "<use x=\"610.244329\" y=\"455.209514\" xlink:href=\"#g1-54\"/>\n",
       "<g transform=\"translate(340.228 337.677)scale(.996264)\">\n",
       "<path d=\"M284.883 121.28H282.749\" fill=\"none\" stroke=\"#000000\" stroke-linecap=\"round\" stroke-linejoin=\"round\" stroke-miterlimit=\"10.0375\" stroke-width=\"0.426791\"/>\n",
       "</g>\n",
       "<g transform=\"translate(340.228 337.677)scale(.996264)\">\n",
       "<path d=\"M284.883 128.393H282.749\" fill=\"none\" stroke=\"#000000\" stroke-linecap=\"round\" stroke-linejoin=\"round\" stroke-miterlimit=\"10.0375\" stroke-width=\"0.426791\"/>\n",
       "</g>\n",
       "<g transform=\"translate(340.228 337.677)scale(.996264)\">\n",
       "<path d=\"M284.883 135.506H282.749\" fill=\"none\" stroke=\"#000000\" stroke-linecap=\"round\" stroke-linejoin=\"round\" stroke-miterlimit=\"10.0375\" stroke-width=\"0.426791\"/>\n",
       "</g>\n",
       "<g transform=\"translate(340.228 337.677)scale(.996264)\">\n",
       "<path d=\"M284.883 85.7139H280.615\" fill=\"none\" stroke=\"#000000\" stroke-linecap=\"round\" stroke-linejoin=\"round\" stroke-miterlimit=\"10.0375\" stroke-width=\"0.711319\"/>\n",
       "</g>\n",
       "<use x=\"610.244329\" y=\"426.863054\" xlink:href=\"#g1-55\"/>\n",
       "<g transform=\"translate(340.228 337.677)scale(.996264)\">\n",
       "<path d=\"M284.883 92.8271H282.749\" fill=\"none\" stroke=\"#000000\" stroke-linecap=\"round\" stroke-linejoin=\"round\" stroke-miterlimit=\"10.0375\" stroke-width=\"0.426791\"/>\n",
       "</g>\n",
       "<g transform=\"translate(340.228 337.677)scale(.996264)\">\n",
       "<path d=\"M284.883 99.9403H282.749\" fill=\"none\" stroke=\"#000000\" stroke-linecap=\"round\" stroke-linejoin=\"round\" stroke-miterlimit=\"10.0375\" stroke-width=\"0.426791\"/>\n",
       "</g>\n",
       "<g transform=\"translate(340.228 337.677)scale(.996264)\">\n",
       "<path d=\"M284.883 107.053H282.749\" fill=\"none\" stroke=\"#000000\" stroke-linecap=\"round\" stroke-linejoin=\"round\" stroke-miterlimit=\"10.0375\" stroke-width=\"0.426791\"/>\n",
       "</g>\n",
       "<g transform=\"translate(340.228 337.677)scale(.996264)\">\n",
       "<path d=\"M284.883 57.2612H280.615\" fill=\"none\" stroke=\"#000000\" stroke-linecap=\"round\" stroke-linejoin=\"round\" stroke-miterlimit=\"10.0375\" stroke-width=\"0.711319\"/>\n",
       "</g>\n",
       "<use x=\"610.244329\" y=\"398.51661\" xlink:href=\"#g1-56\"/>\n",
       "<g transform=\"translate(340.228 337.677)scale(.996264)\">\n",
       "<path d=\"M284.883 64.3744H282.749\" fill=\"none\" stroke=\"#000000\" stroke-linecap=\"round\" stroke-linejoin=\"round\" stroke-miterlimit=\"10.0375\" stroke-width=\"0.426791\"/>\n",
       "</g>\n",
       "<g transform=\"translate(340.228 337.677)scale(.996264)\">\n",
       "<path d=\"M284.883 71.4875H282.749\" fill=\"none\" stroke=\"#000000\" stroke-linecap=\"round\" stroke-linejoin=\"round\" stroke-miterlimit=\"10.0375\" stroke-width=\"0.426791\"/>\n",
       "</g>\n",
       "<g transform=\"translate(340.228 337.677)scale(.996264)\">\n",
       "<path d=\"M284.883 78.6007H282.749\" fill=\"none\" stroke=\"#000000\" stroke-linecap=\"round\" stroke-linejoin=\"round\" stroke-miterlimit=\"10.0375\" stroke-width=\"0.426791\"/>\n",
       "</g>\n",
       "<g transform=\"translate(340.228 337.677)scale(.996264)\">\n",
       "<path d=\"M284.883 28.8084H280.615\" fill=\"none\" stroke=\"#000000\" stroke-linecap=\"round\" stroke-linejoin=\"round\" stroke-miterlimit=\"10.0375\" stroke-width=\"0.711319\"/>\n",
       "</g>\n",
       "<use x=\"610.244329\" y=\"370.170151\" xlink:href=\"#g1-57\"/>\n",
       "<g transform=\"translate(340.228 337.677)scale(.996264)\">\n",
       "<path d=\"M284.883 35.9216H282.749\" fill=\"none\" stroke=\"#000000\" stroke-linecap=\"round\" stroke-linejoin=\"round\" stroke-miterlimit=\"10.0375\" stroke-width=\"0.426791\"/>\n",
       "</g>\n",
       "<g transform=\"translate(340.228 337.677)scale(.996264)\">\n",
       "<path d=\"M284.883 43.0348H282.749\" fill=\"none\" stroke=\"#000000\" stroke-linecap=\"round\" stroke-linejoin=\"round\" stroke-miterlimit=\"10.0375\" stroke-width=\"0.426791\"/>\n",
       "</g>\n",
       "<g transform=\"translate(340.228 337.677)scale(.996264)\">\n",
       "<path d=\"M284.883 50.148H282.749\" fill=\"none\" stroke=\"#000000\" stroke-linecap=\"round\" stroke-linejoin=\"round\" stroke-miterlimit=\"10.0375\" stroke-width=\"0.426791\"/>\n",
       "</g>\n",
       "<g transform=\"translate(340.228 337.677)scale(.996264)\">\n",
       "<path d=\"M427.147 313.336C427.147 281.908 401.67 256.43 370.241 256.43C338.813 256.43 313.336 281.908 313.336 313.336S338.813 370.241 370.241 370.241C401.67 370.241 427.147 344.764 427.147 313.336Z\" fill=\"#80ff80\" opacity=\"0.5\"/>\n",
       "</g>\n",
       "<g transform=\"translate(340.228 337.677)scale(.996264)\">\n",
       "<path d=\"M427.147 313.336C427.147 281.908 401.67 256.43 370.241 256.43C338.813 256.43 313.336 281.908 313.336 313.336S338.813 370.241 370.241 370.241C401.67 370.241 427.147 344.764 427.147 313.336Z\" fill=\"none\" stroke=\"#00ff00\" stroke-linecap=\"round\" stroke-linejoin=\"round\" stroke-miterlimit=\"10.0375\" stroke-width=\"1.00375\"/>\n",
       "</g>\n",
       "<g transform=\"translate(340.228 337.677)scale(.996264)\">\n",
       "<path d=\"M133.965 55.0975C155.474 60.4749 194.708 127.608 221.595 205.042C248.482 282.477 252.841 340.891 231.331 335.514C209.822 330.137 170.588 263.004 143.701 185.569S112.455 49.72 133.965 55.0975Z\" fill=\"#8080ff\" opacity=\"0.5\"/>\n",
       "</g>\n",
       "<g transform=\"translate(340.228 337.677)scale(.996264)\">\n",
       "<path d=\"M133.965 55.0975C155.474 60.4749 194.708 127.608 221.595 205.042C248.482 282.477 252.841 340.891 231.331 335.514C209.822 330.137 170.588 263.004 143.701 185.569S112.455 49.72 133.965 55.0975Z\" fill=\"none\" stroke=\"#0000ff\" stroke-linecap=\"round\" stroke-linejoin=\"round\" stroke-miterlimit=\"10.0375\" stroke-width=\"1.00375\"/>\n",
       "</g>\n",
       "</g>\n",
       "</svg>"
      ],
      "text/plain": [
       "<IPython.core.display.SVG object>"
      ]
     },
     "execution_count": 83,
     "metadata": {},
     "output_type": "execute_result"
    }
   ],
   "source": [
    "%%asy --fmt svg\n",
    "import geometry;\n",
    "import coordenades;\n",
    "import graph;\n",
    "\n",
    "unitsize(1cm);\n",
    "\n",
    "pen g = opacity(.5)+lightgreen,\n",
    "    b = opacity(.5)+lightblue;\n",
    "\n",
    "path c = circle((3,-1),2);\n",
    "real B[] = {2,3};\n",
    "real A[][] = {{1/9,4/9},{8/5,5/9}};\n",
    "transform tr = TransformacioAfi(B,A);\n",
    "\n",
    "Canonica(-10,10,-10,10);\n",
    "filldraw(c,g,1bp+green);\n",
    "filldraw(inverse(tr)*c,b,1bp+blue);"
   ]
  },
  {
   "cell_type": "markdown",
   "metadata": {
    "tags": []
   },
   "source": [
    "## Exercici 22\n",
    "Donada la transformació afí de $P_2$\n",
    "$$\n",
    "  \\left(\\begin{array}{c} u \\\\ v \\end{array}\\right)\n",
    "  =\\left(\\begin{array}{r} 3 \\\\ -1 \\end{array}\\right)\n",
    "  +\\frac{1}{2}\\left(\\begin{array}{rr}\n",
    "   3 & 1\\\\\n",
    "   1 & 4\n",
    "  \\end{array}\\right)\n",
    "  \\left(\\begin{array}{c} x \\\\ y \\end{array}\\right)\\,,\n",
    "$$\n",
    "representeu en què es transforma el rectangle de vèrtexs $(1,0)$, $(4,3)$, $(3,4)$ i $(0,1)$ i trobeu els punts fixos d'aquesta transformació. Un punt fix d'una transformació afí és el que compleix $T(x,y)=(x,y)$."
   ]
  },
  {
   "cell_type": "code",
   "execution_count": 84,
   "metadata": {},
   "outputs": [
    {
     "data": {
      "image/svg+xml": [
       "<svg xmlns=\"http://www.w3.org/2000/svg\" xmlns:xlink=\"http://www.w3.org/1999/xlink\" version=\"1.1\" width=\"425.905511pt\" height=\"425.905512pt\" viewBox=\"141.80315 394.370079 425.905511 425.905512\">\n",
       "<defs>\n",
       "<path id=\"g0-0\" d=\"M7.878456-2.749689C8.081694-2.749689 8.296887-2.749689 8.296887-2.988792S8.081694-3.227895 7.878456-3.227895H1.41071C1.207472-3.227895 .992279-3.227895 .992279-2.988792S1.207472-2.749689 1.41071-2.749689H7.878456Z\"/>\n",
       "<path id=\"g1-48\" d=\"M5.355915-3.825654C5.355915-4.817933 5.296139-5.786301 4.865753-6.694894C4.375592-7.687173 3.514819-7.950187 2.929016-7.950187C2.235616-7.950187 1.3868-7.603487 .944458-6.611208C.609714-5.858032 .490162-5.116812 .490162-3.825654C.490162-2.666002 .573848-1.793275 1.004234-.944458C1.470486-.035866 2.295392 .251059 2.917061 .251059C3.957161 .251059 4.554919-.37061 4.901619-1.06401C5.332005-1.960648 5.355915-3.132254 5.355915-3.825654ZM2.917061 .011955C2.534496 .011955 1.75741-.203238 1.530262-1.506351C1.398755-2.223661 1.398755-3.132254 1.398755-3.969116C1.398755-4.94944 1.398755-5.834122 1.590037-6.539477C1.793275-7.340473 2.402989-7.711083 2.917061-7.711083C3.371357-7.711083 4.064757-7.436115 4.291905-6.40797C4.447323-5.726526 4.447323-4.782067 4.447323-3.969116C4.447323-3.16812 4.447323-2.259527 4.315816-1.530262C4.088667-.215193 3.335492 .011955 2.917061 .011955Z\"/>\n",
       "<path id=\"g1-49\" d=\"M3.443088-7.663263C3.443088-7.938232 3.443088-7.950187 3.203985-7.950187C2.917061-7.627397 2.319303-7.185056 1.08792-7.185056V-6.838356C1.362889-6.838356 1.960648-6.838356 2.618182-7.149191V-.920548C2.618182-.490162 2.582316-.3467 1.530262-.3467H1.159651V0C1.482441-.02391 2.642092-.02391 3.036613-.02391S4.578829-.02391 4.901619 0V-.3467H4.531009C3.478954-.3467 3.443088-.490162 3.443088-.920548V-7.663263Z\"/>\n",
       "<path id=\"g1-50\" d=\"M5.260274-2.008468H4.99726C4.961395-1.80523 4.865753-1.147696 4.746202-.956413C4.662516-.848817 3.981071-.848817 3.622416-.848817H1.41071C1.733499-1.123786 2.462765-1.888917 2.773599-2.175841C4.590785-3.849564 5.260274-4.471233 5.260274-5.654795C5.260274-7.029639 4.172354-7.950187 2.785554-7.950187S.585803-6.766625 .585803-5.738481C.585803-5.128767 1.111831-5.128767 1.147696-5.128767C1.398755-5.128767 1.709589-5.308095 1.709589-5.69066C1.709589-6.025405 1.482441-6.252553 1.147696-6.252553C1.0401-6.252553 1.016189-6.252553 .980324-6.240598C1.207472-7.053549 1.853051-7.603487 2.630137-7.603487C3.646326-7.603487 4.267995-6.75467 4.267995-5.654795C4.267995-4.638605 3.682192-3.753923 3.000747-2.988792L.585803-.286924V0H4.94944L5.260274-2.008468Z\"/>\n",
       "<path id=\"g1-51\" d=\"M2.199751-4.291905C1.996513-4.27995 1.948692-4.267995 1.948692-4.160399C1.948692-4.040847 2.008468-4.040847 2.223661-4.040847H2.773599C3.789788-4.040847 4.244085-3.203985 4.244085-2.056289C4.244085-.490162 3.431133-.071731 2.84533-.071731C2.271482-.071731 1.291158-.3467 .944458-1.135741C1.327024-1.075965 1.673724-1.291158 1.673724-1.721544C1.673724-2.068244 1.422665-2.307347 1.08792-2.307347C.800996-2.307347 .490162-2.139975 .490162-1.685679C.490162-.621669 1.554172 .251059 2.881196 .251059C4.303861 .251059 5.355915-.836862 5.355915-2.044334C5.355915-3.144209 4.471233-4.004981 3.323537-4.208219C4.363636-4.507098 5.033126-5.379826 5.033126-6.312329C5.033126-7.256787 4.052802-7.950187 2.893151-7.950187C1.697634-7.950187 .812951-7.220922 .812951-6.348194C.812951-5.869988 1.183562-5.774346 1.362889-5.774346C1.613948-5.774346 1.900872-5.953674 1.900872-6.312329C1.900872-6.694894 1.613948-6.862267 1.350934-6.862267C1.279203-6.862267 1.255293-6.862267 1.219427-6.850311C1.673724-7.663263 2.797509-7.663263 2.857285-7.663263C3.251806-7.663263 4.028892-7.483935 4.028892-6.312329C4.028892-6.085181 3.993026-5.415691 3.646326-4.901619C3.287671-4.375592 2.881196-4.339726 2.558406-4.327771L2.199751-4.291905Z\"/>\n",
       "<path id=\"g1-52\" d=\"M4.315816-7.782814C4.315816-8.009963 4.315816-8.069738 4.148443-8.069738C4.052802-8.069738 4.016936-8.069738 3.921295-7.926276L.32279-2.343213V-1.996513H3.466999V-.908593C3.466999-.466252 3.443088-.3467 2.570361-.3467H2.331258V0C2.606227-.02391 3.550685-.02391 3.88543-.02391S5.176588-.02391 5.451557 0V-.3467H5.212453C4.351681-.3467 4.315816-.466252 4.315816-.908593V-1.996513H5.523288V-2.343213H4.315816V-7.782814ZM3.526775-6.850311V-2.343213H.621669L3.526775-6.850311Z\"/>\n",
       "<path id=\"g1-53\" d=\"M1.530262-6.850311C2.044334-6.682939 2.462765-6.670984 2.594271-6.670984C3.945205-6.670984 4.805978-7.663263 4.805978-7.830635C4.805978-7.878456 4.782067-7.938232 4.710336-7.938232C4.686426-7.938232 4.662516-7.938232 4.554919-7.890411C3.88543-7.603487 3.311582-7.567621 3.000747-7.567621C2.211706-7.567621 1.649813-7.806725 1.422665-7.902366C1.338979-7.938232 1.315068-7.938232 1.303113-7.938232C1.207472-7.938232 1.207472-7.866501 1.207472-7.675218V-4.124533C1.207472-3.90934 1.207472-3.837609 1.350934-3.837609C1.41071-3.837609 1.422665-3.849564 1.542217-3.993026C1.876961-4.483188 2.438854-4.770112 3.036613-4.770112C3.670237-4.770112 3.981071-4.184309 4.076712-3.981071C4.27995-3.514819 4.291905-2.929016 4.291905-2.47472S4.291905-1.338979 3.957161-.800996C3.694147-.37061 3.227895-.071731 2.701868-.071731C1.912827-.071731 1.135741-.609714 .920548-1.482441C.980324-1.458531 1.052055-1.446575 1.111831-1.446575C1.315068-1.446575 1.637858-1.566127 1.637858-1.972603C1.637858-2.307347 1.41071-2.49863 1.111831-2.49863C.896638-2.49863 .585803-2.391034 .585803-1.924782C.585803-.908593 1.398755 .251059 2.725778 .251059C4.076712 .251059 5.260274-.884682 5.260274-2.402989C5.260274-3.825654 4.303861-5.009215 3.048568-5.009215C2.367123-5.009215 1.841096-4.710336 1.530262-4.375592V-6.850311Z\"/>\n",
       "<path id=\"g1-54\" d=\"M1.470486-4.160399C1.470486-7.185056 2.940971-7.663263 3.58655-7.663263C4.016936-7.663263 4.447323-7.531756 4.674471-7.173101C4.531009-7.173101 4.076712-7.173101 4.076712-6.682939C4.076712-6.419925 4.25604-6.192777 4.566874-6.192777C4.865753-6.192777 5.068991-6.372105 5.068991-6.718804C5.068991-7.340473 4.614695-7.950187 3.574595-7.950187C2.068244-7.950187 .490162-6.40797 .490162-3.777833C.490162-.490162 1.924782 .251059 2.940971 .251059C4.244085 .251059 5.355915-.884682 5.355915-2.438854C5.355915-4.028892 4.244085-5.092902 3.048568-5.092902C1.984558-5.092902 1.590037-4.172354 1.470486-3.837609V-4.160399ZM2.940971-.071731C2.187796-.071731 1.829141-.74122 1.721544-.992279C1.613948-1.303113 1.494396-1.888917 1.494396-2.725778C1.494396-3.670237 1.924782-4.853798 3.000747-4.853798C3.658281-4.853798 4.004981-4.411457 4.184309-4.004981C4.375592-3.56264 4.375592-2.964882 4.375592-2.450809C4.375592-1.841096 4.375592-1.303113 4.148443-.848817C3.849564-.274969 3.419178-.071731 2.940971-.071731Z\"/>\n",
       "<path id=\"g1-55\" d=\"M5.678705-7.424159V-7.699128H2.797509C1.350934-7.699128 1.327024-7.854545 1.279203-8.081694H1.016189L.645579-5.69066H.908593C.944458-5.905853 1.052055-6.647073 1.207472-6.77858C1.303113-6.850311 2.199751-6.850311 2.367123-6.850311H4.901619L3.634371-5.033126C3.311582-4.566874 2.10411-2.606227 2.10411-.358655C2.10411-.227148 2.10411 .251059 2.594271 .251059C3.096389 .251059 3.096389-.215193 3.096389-.37061V-.968369C3.096389-2.749689 3.383313-4.136488 3.945205-4.937484L5.678705-7.424159Z\"/>\n",
       "<path id=\"g1-56\" d=\"M3.56264-4.315816C4.160399-4.638605 5.033126-5.188543 5.033126-6.192777C5.033126-7.232877 4.028892-7.950187 2.929016-7.950187C1.745455-7.950187 .812951-7.07746 .812951-5.989539C.812951-5.583064 .932503-5.176588 1.267248-4.770112C1.398755-4.614695 1.41071-4.60274 2.247572-4.016936C1.08792-3.478954 .490162-2.677958 .490162-1.80523C.490162-.537983 1.697634 .251059 2.917061 .251059C4.244085 .251059 5.355915-.729265 5.355915-1.984558C5.355915-3.203985 4.495143-3.741968 3.56264-4.315816ZM1.936737-5.391781C1.78132-5.499377 1.303113-5.810212 1.303113-6.396015C1.303113-7.173101 2.116065-7.663263 2.917061-7.663263C3.777833-7.663263 4.542964-7.041594 4.542964-6.180822C4.542964-5.451557 4.016936-4.865753 3.323537-4.483188L1.936737-5.391781ZM2.49863-3.849564L3.945205-2.905106C4.25604-2.701868 4.805978-2.331258 4.805978-1.601993C4.805978-.6934 3.88543-.071731 2.929016-.071731C1.912827-.071731 1.0401-.812951 1.0401-1.80523C1.0401-2.737733 1.721544-3.490909 2.49863-3.849564Z\"/>\n",
       "<path id=\"g1-57\" d=\"M4.375592-3.478954C4.375592-.657534 3.120299-.071731 2.402989-.071731C2.116065-.071731 1.482441-.107597 1.183562-.526027H1.255293C1.338979-.502117 1.769365-.573848 1.769365-1.016189C1.769365-1.279203 1.590037-1.506351 1.279203-1.506351S.777086-1.303113 .777086-.992279C.777086-.251059 1.374844 .251059 2.414944 .251059C3.90934 .251059 5.355915-1.338979 5.355915-3.93325C5.355915-7.149191 4.016936-7.950187 2.964882-7.950187C1.649813-7.950187 .490162-6.850311 .490162-5.272229S1.601993-2.618182 2.797509-2.618182C3.682192-2.618182 4.136488-3.263761 4.375592-3.873474V-3.478954ZM2.84533-2.857285C2.092154-2.857285 1.769365-3.466999 1.661768-3.694147C1.470486-4.148443 1.470486-4.722291 1.470486-5.260274C1.470486-5.929763 1.470486-6.503611 1.78132-6.993773C1.996513-7.316563 2.319303-7.663263 2.964882-7.663263C3.646326-7.663263 3.993026-7.065504 4.112578-6.790535C4.351681-6.204732 4.351681-5.188543 4.351681-5.009215C4.351681-4.004981 3.897385-2.857285 2.84533-2.857285Z\"/>\n",
       "</defs>\n",
       "<g id=\"page1\">\n",
       "<g transform=\"translate(141.803 394.37)scale(.996264)\">\n",
       "<path d=\"M.355659 427.147V.355659\" fill=\"none\" stroke=\"#cccccc\" stroke-linecap=\"round\" stroke-linejoin=\"round\" stroke-miterlimit=\"10.0375\" stroke-width=\"0.426791\"/>\n",
       "</g>\n",
       "<g transform=\"translate(141.803 394.37)scale(.996264)\">\n",
       "<path d=\"M7.46885 427.147V.355659\" fill=\"none\" stroke=\"#cccccc\" stroke-dasharray=\"0,0.682695\" stroke-linecap=\"round\" stroke-linejoin=\"round\" stroke-miterlimit=\"10.0375\" stroke-width=\"0.170717\"/>\n",
       "</g>\n",
       "<g transform=\"translate(141.803 394.37)scale(.996264)\">\n",
       "<path d=\"M14.582 427.147V.355659\" fill=\"none\" stroke=\"#cccccc\" stroke-dasharray=\"0,0.682695\" stroke-linecap=\"round\" stroke-linejoin=\"round\" stroke-miterlimit=\"10.0375\" stroke-width=\"0.170717\"/>\n",
       "</g>\n",
       "<g transform=\"translate(141.803 394.37)scale(.996264)\">\n",
       "<path d=\"M21.6952 427.147V.355659\" fill=\"none\" stroke=\"#cccccc\" stroke-dasharray=\"0,0.682695\" stroke-linecap=\"round\" stroke-linejoin=\"round\" stroke-miterlimit=\"10.0375\" stroke-width=\"0.170717\"/>\n",
       "</g>\n",
       "<g transform=\"translate(141.803 394.37)scale(.996264)\">\n",
       "<path d=\"M28.8084 427.147V.355659\" fill=\"none\" stroke=\"#cccccc\" stroke-linecap=\"round\" stroke-linejoin=\"round\" stroke-miterlimit=\"10.0375\" stroke-width=\"0.426791\"/>\n",
       "</g>\n",
       "<g transform=\"translate(141.803 394.37)scale(.996264)\">\n",
       "<path d=\"M35.9216 427.147V.355659\" fill=\"none\" stroke=\"#cccccc\" stroke-dasharray=\"0,0.682695\" stroke-linecap=\"round\" stroke-linejoin=\"round\" stroke-miterlimit=\"10.0375\" stroke-width=\"0.170717\"/>\n",
       "</g>\n",
       "<g transform=\"translate(141.803 394.37)scale(.996264)\">\n",
       "<path d=\"M43.0348 427.147V.355659\" fill=\"none\" stroke=\"#cccccc\" stroke-dasharray=\"0,0.682695\" stroke-linecap=\"round\" stroke-linejoin=\"round\" stroke-miterlimit=\"10.0375\" stroke-width=\"0.170717\"/>\n",
       "</g>\n",
       "<g transform=\"translate(141.803 394.37)scale(.996264)\">\n",
       "<path d=\"M50.148 427.147V.355659\" fill=\"none\" stroke=\"#cccccc\" stroke-dasharray=\"0,0.682695\" stroke-linecap=\"round\" stroke-linejoin=\"round\" stroke-miterlimit=\"10.0375\" stroke-width=\"0.170717\"/>\n",
       "</g>\n",
       "<g transform=\"translate(141.803 394.37)scale(.996264)\">\n",
       "<path d=\"M57.2612 427.147V.355659\" fill=\"none\" stroke=\"#cccccc\" stroke-linecap=\"round\" stroke-linejoin=\"round\" stroke-miterlimit=\"10.0375\" stroke-width=\"0.426791\"/>\n",
       "</g>\n",
       "<g transform=\"translate(141.803 394.37)scale(.996264)\">\n",
       "<path d=\"M64.3744 427.147V.355659\" fill=\"none\" stroke=\"#cccccc\" stroke-dasharray=\"0,0.682695\" stroke-linecap=\"round\" stroke-linejoin=\"round\" stroke-miterlimit=\"10.0375\" stroke-width=\"0.170717\"/>\n",
       "</g>\n",
       "<g transform=\"translate(141.803 394.37)scale(.996264)\">\n",
       "<path d=\"M71.4875 427.147V.355659\" fill=\"none\" stroke=\"#cccccc\" stroke-dasharray=\"0,0.682695\" stroke-linecap=\"round\" stroke-linejoin=\"round\" stroke-miterlimit=\"10.0375\" stroke-width=\"0.170717\"/>\n",
       "</g>\n",
       "<g transform=\"translate(141.803 394.37)scale(.996264)\">\n",
       "<path d=\"M78.6007 427.147V.355659\" fill=\"none\" stroke=\"#cccccc\" stroke-dasharray=\"0,0.682695\" stroke-linecap=\"round\" stroke-linejoin=\"round\" stroke-miterlimit=\"10.0375\" stroke-width=\"0.170717\"/>\n",
       "</g>\n",
       "<g transform=\"translate(141.803 394.37)scale(.996264)\">\n",
       "<path d=\"M85.7139 427.147V.355659\" fill=\"none\" stroke=\"#cccccc\" stroke-linecap=\"round\" stroke-linejoin=\"round\" stroke-miterlimit=\"10.0375\" stroke-width=\"0.426791\"/>\n",
       "</g>\n",
       "<g transform=\"translate(141.803 394.37)scale(.996264)\">\n",
       "<path d=\"M92.8271 427.147V.355659\" fill=\"none\" stroke=\"#cccccc\" stroke-dasharray=\"0,0.682695\" stroke-linecap=\"round\" stroke-linejoin=\"round\" stroke-miterlimit=\"10.0375\" stroke-width=\"0.170717\"/>\n",
       "</g>\n",
       "<g transform=\"translate(141.803 394.37)scale(.996264)\">\n",
       "<path d=\"M99.9403 427.147V.355659\" fill=\"none\" stroke=\"#cccccc\" stroke-dasharray=\"0,0.682695\" stroke-linecap=\"round\" stroke-linejoin=\"round\" stroke-miterlimit=\"10.0375\" stroke-width=\"0.170717\"/>\n",
       "</g>\n",
       "<g transform=\"translate(141.803 394.37)scale(.996264)\">\n",
       "<path d=\"M107.053 427.147V.355659\" fill=\"none\" stroke=\"#cccccc\" stroke-dasharray=\"0,0.682695\" stroke-linecap=\"round\" stroke-linejoin=\"round\" stroke-miterlimit=\"10.0375\" stroke-width=\"0.170717\"/>\n",
       "</g>\n",
       "<g transform=\"translate(141.803 394.37)scale(.996264)\">\n",
       "<path d=\"M114.167 427.147V.355659\" fill=\"none\" stroke=\"#cccccc\" stroke-linecap=\"round\" stroke-linejoin=\"round\" stroke-miterlimit=\"10.0375\" stroke-width=\"0.426791\"/>\n",
       "</g>\n",
       "<g transform=\"translate(141.803 394.37)scale(.996264)\">\n",
       "<path d=\"M121.28 427.147V.355659\" fill=\"none\" stroke=\"#cccccc\" stroke-dasharray=\"0,0.682695\" stroke-linecap=\"round\" stroke-linejoin=\"round\" stroke-miterlimit=\"10.0375\" stroke-width=\"0.170717\"/>\n",
       "</g>\n",
       "<g transform=\"translate(141.803 394.37)scale(.996264)\">\n",
       "<path d=\"M128.393 427.147V.355659\" fill=\"none\" stroke=\"#cccccc\" stroke-dasharray=\"0,0.682695\" stroke-linecap=\"round\" stroke-linejoin=\"round\" stroke-miterlimit=\"10.0375\" stroke-width=\"0.170717\"/>\n",
       "</g>\n",
       "<g transform=\"translate(141.803 394.37)scale(.996264)\">\n",
       "<path d=\"M135.506 427.147V.355659\" fill=\"none\" stroke=\"#cccccc\" stroke-dasharray=\"0,0.682695\" stroke-linecap=\"round\" stroke-linejoin=\"round\" stroke-miterlimit=\"10.0375\" stroke-width=\"0.170717\"/>\n",
       "</g>\n",
       "<g transform=\"translate(141.803 394.37)scale(.996264)\">\n",
       "<path d=\"M142.619 427.147V.355659\" fill=\"none\" stroke=\"#cccccc\" stroke-linecap=\"round\" stroke-linejoin=\"round\" stroke-miterlimit=\"10.0375\" stroke-width=\"0.426791\"/>\n",
       "</g>\n",
       "<g transform=\"translate(141.803 394.37)scale(.996264)\">\n",
       "<path d=\"M149.733 427.147V.355659\" fill=\"none\" stroke=\"#cccccc\" stroke-dasharray=\"0,0.682695\" stroke-linecap=\"round\" stroke-linejoin=\"round\" stroke-miterlimit=\"10.0375\" stroke-width=\"0.170717\"/>\n",
       "</g>\n",
       "<g transform=\"translate(141.803 394.37)scale(.996264)\">\n",
       "<path d=\"M156.846 427.147V.355659\" fill=\"none\" stroke=\"#cccccc\" stroke-dasharray=\"0,0.682695\" stroke-linecap=\"round\" stroke-linejoin=\"round\" stroke-miterlimit=\"10.0375\" stroke-width=\"0.170717\"/>\n",
       "</g>\n",
       "<g transform=\"translate(141.803 394.37)scale(.996264)\">\n",
       "<path d=\"M163.959 427.147V.355659\" fill=\"none\" stroke=\"#cccccc\" stroke-dasharray=\"0,0.682695\" stroke-linecap=\"round\" stroke-linejoin=\"round\" stroke-miterlimit=\"10.0375\" stroke-width=\"0.170717\"/>\n",
       "</g>\n",
       "<g transform=\"translate(141.803 394.37)scale(.996264)\">\n",
       "<path d=\"M171.072 427.147V.355659\" fill=\"none\" stroke=\"#cccccc\" stroke-linecap=\"round\" stroke-linejoin=\"round\" stroke-miterlimit=\"10.0375\" stroke-width=\"0.426791\"/>\n",
       "</g>\n",
       "<g transform=\"translate(141.803 394.37)scale(.996264)\">\n",
       "<path d=\"M178.185 427.147V.355659\" fill=\"none\" stroke=\"#cccccc\" stroke-dasharray=\"0,0.682695\" stroke-linecap=\"round\" stroke-linejoin=\"round\" stroke-miterlimit=\"10.0375\" stroke-width=\"0.170717\"/>\n",
       "</g>\n",
       "<g transform=\"translate(141.803 394.37)scale(.996264)\">\n",
       "<path d=\"M185.299 427.147V.355659\" fill=\"none\" stroke=\"#cccccc\" stroke-dasharray=\"0,0.682695\" stroke-linecap=\"round\" stroke-linejoin=\"round\" stroke-miterlimit=\"10.0375\" stroke-width=\"0.170717\"/>\n",
       "</g>\n",
       "<g transform=\"translate(141.803 394.37)scale(.996264)\">\n",
       "<path d=\"M192.412 427.147V.355659\" fill=\"none\" stroke=\"#cccccc\" stroke-dasharray=\"0,0.682695\" stroke-linecap=\"round\" stroke-linejoin=\"round\" stroke-miterlimit=\"10.0375\" stroke-width=\"0.170717\"/>\n",
       "</g>\n",
       "<g transform=\"translate(141.803 394.37)scale(.996264)\">\n",
       "<path d=\"M199.525 427.147V.355659\" fill=\"none\" stroke=\"#cccccc\" stroke-linecap=\"round\" stroke-linejoin=\"round\" stroke-miterlimit=\"10.0375\" stroke-width=\"0.426791\"/>\n",
       "</g>\n",
       "<g transform=\"translate(141.803 394.37)scale(.996264)\">\n",
       "<path d=\"M206.638 427.147V.355659\" fill=\"none\" stroke=\"#cccccc\" stroke-dasharray=\"0,0.682695\" stroke-linecap=\"round\" stroke-linejoin=\"round\" stroke-miterlimit=\"10.0375\" stroke-width=\"0.170717\"/>\n",
       "</g>\n",
       "<g transform=\"translate(141.803 394.37)scale(.996264)\">\n",
       "<path d=\"M213.751 427.147V.355659\" fill=\"none\" stroke=\"#cccccc\" stroke-dasharray=\"0,0.682695\" stroke-linecap=\"round\" stroke-linejoin=\"round\" stroke-miterlimit=\"10.0375\" stroke-width=\"0.170717\"/>\n",
       "</g>\n",
       "<g transform=\"translate(141.803 394.37)scale(.996264)\">\n",
       "<path d=\"M220.865 427.147V.355659\" fill=\"none\" stroke=\"#cccccc\" stroke-dasharray=\"0,0.682695\" stroke-linecap=\"round\" stroke-linejoin=\"round\" stroke-miterlimit=\"10.0375\" stroke-width=\"0.170717\"/>\n",
       "</g>\n",
       "<g transform=\"translate(141.803 394.37)scale(.996264)\">\n",
       "<path d=\"M227.978 427.147V.355659\" fill=\"none\" stroke=\"#cccccc\" stroke-linecap=\"round\" stroke-linejoin=\"round\" stroke-miterlimit=\"10.0375\" stroke-width=\"0.426791\"/>\n",
       "</g>\n",
       "<g transform=\"translate(141.803 394.37)scale(.996264)\">\n",
       "<path d=\"M235.091 427.147V.355659\" fill=\"none\" stroke=\"#cccccc\" stroke-dasharray=\"0,0.682695\" stroke-linecap=\"round\" stroke-linejoin=\"round\" stroke-miterlimit=\"10.0375\" stroke-width=\"0.170717\"/>\n",
       "</g>\n",
       "<g transform=\"translate(141.803 394.37)scale(.996264)\">\n",
       "<path d=\"M242.204 427.147V.355659\" fill=\"none\" stroke=\"#cccccc\" stroke-dasharray=\"0,0.682695\" stroke-linecap=\"round\" stroke-linejoin=\"round\" stroke-miterlimit=\"10.0375\" stroke-width=\"0.170717\"/>\n",
       "</g>\n",
       "<g transform=\"translate(141.803 394.37)scale(.996264)\">\n",
       "<path d=\"M249.317 427.147V.355659\" fill=\"none\" stroke=\"#cccccc\" stroke-dasharray=\"0,0.682695\" stroke-linecap=\"round\" stroke-linejoin=\"round\" stroke-miterlimit=\"10.0375\" stroke-width=\"0.170717\"/>\n",
       "</g>\n",
       "<g transform=\"translate(141.803 394.37)scale(.996264)\">\n",
       "<path d=\"M256.43 427.147V.355659\" fill=\"none\" stroke=\"#cccccc\" stroke-linecap=\"round\" stroke-linejoin=\"round\" stroke-miterlimit=\"10.0375\" stroke-width=\"0.426791\"/>\n",
       "</g>\n",
       "<g transform=\"translate(141.803 394.37)scale(.996264)\">\n",
       "<path d=\"M263.544 427.147V.355659\" fill=\"none\" stroke=\"#cccccc\" stroke-dasharray=\"0,0.682695\" stroke-linecap=\"round\" stroke-linejoin=\"round\" stroke-miterlimit=\"10.0375\" stroke-width=\"0.170717\"/>\n",
       "</g>\n",
       "<g transform=\"translate(141.803 394.37)scale(.996264)\">\n",
       "<path d=\"M270.657 427.147V.355659\" fill=\"none\" stroke=\"#cccccc\" stroke-dasharray=\"0,0.682695\" stroke-linecap=\"round\" stroke-linejoin=\"round\" stroke-miterlimit=\"10.0375\" stroke-width=\"0.170717\"/>\n",
       "</g>\n",
       "<g transform=\"translate(141.803 394.37)scale(.996264)\">\n",
       "<path d=\"M277.77 427.147V.355659\" fill=\"none\" stroke=\"#cccccc\" stroke-dasharray=\"0,0.682695\" stroke-linecap=\"round\" stroke-linejoin=\"round\" stroke-miterlimit=\"10.0375\" stroke-width=\"0.170717\"/>\n",
       "</g>\n",
       "<g transform=\"translate(141.803 394.37)scale(.996264)\">\n",
       "<path d=\"M284.883 427.147V.355659\" fill=\"none\" stroke=\"#cccccc\" stroke-linecap=\"round\" stroke-linejoin=\"round\" stroke-miterlimit=\"10.0375\" stroke-width=\"0.426791\"/>\n",
       "</g>\n",
       "<g transform=\"translate(141.803 394.37)scale(.996264)\">\n",
       "<path d=\"M291.996 427.147V.355659\" fill=\"none\" stroke=\"#cccccc\" stroke-dasharray=\"0,0.682695\" stroke-linecap=\"round\" stroke-linejoin=\"round\" stroke-miterlimit=\"10.0375\" stroke-width=\"0.170717\"/>\n",
       "</g>\n",
       "<g transform=\"translate(141.803 394.37)scale(.996264)\">\n",
       "<path d=\"M299.11 427.147V.355659\" fill=\"none\" stroke=\"#cccccc\" stroke-dasharray=\"0,0.682695\" stroke-linecap=\"round\" stroke-linejoin=\"round\" stroke-miterlimit=\"10.0375\" stroke-width=\"0.170717\"/>\n",
       "</g>\n",
       "<g transform=\"translate(141.803 394.37)scale(.996264)\">\n",
       "<path d=\"M306.223 427.147V.355659\" fill=\"none\" stroke=\"#cccccc\" stroke-dasharray=\"0,0.682695\" stroke-linecap=\"round\" stroke-linejoin=\"round\" stroke-miterlimit=\"10.0375\" stroke-width=\"0.170717\"/>\n",
       "</g>\n",
       "<g transform=\"translate(141.803 394.37)scale(.996264)\">\n",
       "<path d=\"M313.336 427.147V.355659\" fill=\"none\" stroke=\"#cccccc\" stroke-linecap=\"round\" stroke-linejoin=\"round\" stroke-miterlimit=\"10.0375\" stroke-width=\"0.426791\"/>\n",
       "</g>\n",
       "<g transform=\"translate(141.803 394.37)scale(.996264)\">\n",
       "<path d=\"M320.449 427.147V.355659\" fill=\"none\" stroke=\"#cccccc\" stroke-dasharray=\"0,0.682695\" stroke-linecap=\"round\" stroke-linejoin=\"round\" stroke-miterlimit=\"10.0375\" stroke-width=\"0.170717\"/>\n",
       "</g>\n",
       "<g transform=\"translate(141.803 394.37)scale(.996264)\">\n",
       "<path d=\"M327.562 427.147V.355659\" fill=\"none\" stroke=\"#cccccc\" stroke-dasharray=\"0,0.682695\" stroke-linecap=\"round\" stroke-linejoin=\"round\" stroke-miterlimit=\"10.0375\" stroke-width=\"0.170717\"/>\n",
       "</g>\n",
       "<g transform=\"translate(141.803 394.37)scale(.996264)\">\n",
       "<path d=\"M334.676 427.147V.355659\" fill=\"none\" stroke=\"#cccccc\" stroke-dasharray=\"0,0.682695\" stroke-linecap=\"round\" stroke-linejoin=\"round\" stroke-miterlimit=\"10.0375\" stroke-width=\"0.170717\"/>\n",
       "</g>\n",
       "<g transform=\"translate(141.803 394.37)scale(.996264)\">\n",
       "<path d=\"M341.789 427.147V.355659\" fill=\"none\" stroke=\"#cccccc\" stroke-linecap=\"round\" stroke-linejoin=\"round\" stroke-miterlimit=\"10.0375\" stroke-width=\"0.426791\"/>\n",
       "</g>\n",
       "<g transform=\"translate(141.803 394.37)scale(.996264)\">\n",
       "<path d=\"M348.902 427.147V.355659\" fill=\"none\" stroke=\"#cccccc\" stroke-dasharray=\"0,0.682695\" stroke-linecap=\"round\" stroke-linejoin=\"round\" stroke-miterlimit=\"10.0375\" stroke-width=\"0.170717\"/>\n",
       "</g>\n",
       "<g transform=\"translate(141.803 394.37)scale(.996264)\">\n",
       "<path d=\"M356.015 427.147V.355659\" fill=\"none\" stroke=\"#cccccc\" stroke-dasharray=\"0,0.682695\" stroke-linecap=\"round\" stroke-linejoin=\"round\" stroke-miterlimit=\"10.0375\" stroke-width=\"0.170717\"/>\n",
       "</g>\n",
       "<g transform=\"translate(141.803 394.37)scale(.996264)\">\n",
       "<path d=\"M363.128 427.147V.355659\" fill=\"none\" stroke=\"#cccccc\" stroke-dasharray=\"0,0.682695\" stroke-linecap=\"round\" stroke-linejoin=\"round\" stroke-miterlimit=\"10.0375\" stroke-width=\"0.170717\"/>\n",
       "</g>\n",
       "<g transform=\"translate(141.803 394.37)scale(.996264)\">\n",
       "<path d=\"M370.241 427.147V.355659\" fill=\"none\" stroke=\"#cccccc\" stroke-linecap=\"round\" stroke-linejoin=\"round\" stroke-miterlimit=\"10.0375\" stroke-width=\"0.426791\"/>\n",
       "</g>\n",
       "<g transform=\"translate(141.803 394.37)scale(.996264)\">\n",
       "<path d=\"M377.355 427.147V.355659\" fill=\"none\" stroke=\"#cccccc\" stroke-dasharray=\"0,0.682695\" stroke-linecap=\"round\" stroke-linejoin=\"round\" stroke-miterlimit=\"10.0375\" stroke-width=\"0.170717\"/>\n",
       "</g>\n",
       "<g transform=\"translate(141.803 394.37)scale(.996264)\">\n",
       "<path d=\"M384.468 427.147V.355659\" fill=\"none\" stroke=\"#cccccc\" stroke-dasharray=\"0,0.682695\" stroke-linecap=\"round\" stroke-linejoin=\"round\" stroke-miterlimit=\"10.0375\" stroke-width=\"0.170717\"/>\n",
       "</g>\n",
       "<g transform=\"translate(141.803 394.37)scale(.996264)\">\n",
       "<path d=\"M391.581 427.147V.355659\" fill=\"none\" stroke=\"#cccccc\" stroke-dasharray=\"0,0.682695\" stroke-linecap=\"round\" stroke-linejoin=\"round\" stroke-miterlimit=\"10.0375\" stroke-width=\"0.170717\"/>\n",
       "</g>\n",
       "<g transform=\"translate(141.803 394.37)scale(.996264)\">\n",
       "<path d=\"M398.694 427.147V.355659\" fill=\"none\" stroke=\"#cccccc\" stroke-linecap=\"round\" stroke-linejoin=\"round\" stroke-miterlimit=\"10.0375\" stroke-width=\"0.426791\"/>\n",
       "</g>\n",
       "<g transform=\"translate(141.803 394.37)scale(.996264)\">\n",
       "<path d=\"M405.807 427.147V.355659\" fill=\"none\" stroke=\"#cccccc\" stroke-dasharray=\"0,0.682695\" stroke-linecap=\"round\" stroke-linejoin=\"round\" stroke-miterlimit=\"10.0375\" stroke-width=\"0.170717\"/>\n",
       "</g>\n",
       "<g transform=\"translate(141.803 394.37)scale(.996264)\">\n",
       "<path d=\"M412.921 427.147V.355659\" fill=\"none\" stroke=\"#cccccc\" stroke-dasharray=\"0,0.682695\" stroke-linecap=\"round\" stroke-linejoin=\"round\" stroke-miterlimit=\"10.0375\" stroke-width=\"0.170717\"/>\n",
       "</g>\n",
       "<g transform=\"translate(141.803 394.37)scale(.996264)\">\n",
       "<path d=\"M420.034 427.147V.355659\" fill=\"none\" stroke=\"#cccccc\" stroke-dasharray=\"0,0.682695\" stroke-linecap=\"round\" stroke-linejoin=\"round\" stroke-miterlimit=\"10.0375\" stroke-width=\"0.170717\"/>\n",
       "</g>\n",
       "<g transform=\"translate(141.803 394.37)scale(.996264)\">\n",
       "<path d=\"M427.147 427.147V.355659\" fill=\"none\" stroke=\"#cccccc\" stroke-linecap=\"round\" stroke-linejoin=\"round\" stroke-miterlimit=\"10.0375\" stroke-width=\"0.426791\"/>\n",
       "</g>\n",
       "<g transform=\"translate(141.803 394.37)scale(.996264)\">\n",
       "<path d=\"M.355659 427.147H427.147\" fill=\"none\" stroke=\"#cccccc\" stroke-linecap=\"round\" stroke-linejoin=\"round\" stroke-miterlimit=\"10.0375\" stroke-width=\"0.426791\"/>\n",
       "</g>\n",
       "<g transform=\"translate(141.803 394.37)scale(.996264)\">\n",
       "<path d=\"M.355659 420.034H427.147\" fill=\"none\" stroke=\"#cccccc\" stroke-dasharray=\"0,0.682695\" stroke-linecap=\"round\" stroke-linejoin=\"round\" stroke-miterlimit=\"10.0375\" stroke-width=\"0.170717\"/>\n",
       "</g>\n",
       "<g transform=\"translate(141.803 394.37)scale(.996264)\">\n",
       "<path d=\"M.355659 412.921H427.147\" fill=\"none\" stroke=\"#cccccc\" stroke-dasharray=\"0,0.682695\" stroke-linecap=\"round\" stroke-linejoin=\"round\" stroke-miterlimit=\"10.0375\" stroke-width=\"0.170717\"/>\n",
       "</g>\n",
       "<g transform=\"translate(141.803 394.37)scale(.996264)\">\n",
       "<path d=\"M.355659 405.807H427.147\" fill=\"none\" stroke=\"#cccccc\" stroke-dasharray=\"0,0.682695\" stroke-linecap=\"round\" stroke-linejoin=\"round\" stroke-miterlimit=\"10.0375\" stroke-width=\"0.170717\"/>\n",
       "</g>\n",
       "<g transform=\"translate(141.803 394.37)scale(.996264)\">\n",
       "<path d=\"M.355659 398.694H427.147\" fill=\"none\" stroke=\"#cccccc\" stroke-dasharray=\"0,0.682695\" stroke-linecap=\"round\" stroke-linejoin=\"round\" stroke-miterlimit=\"10.0375\" stroke-width=\"0.170717\"/>\n",
       "</g>\n",
       "<g transform=\"translate(141.803 394.37)scale(.996264)\">\n",
       "<path d=\"M.355659 398.694H427.147\" fill=\"none\" stroke=\"#cccccc\" stroke-linecap=\"round\" stroke-linejoin=\"round\" stroke-miterlimit=\"10.0375\" stroke-width=\"0.426791\"/>\n",
       "</g>\n",
       "<g transform=\"translate(141.803 394.37)scale(.996264)\">\n",
       "<path d=\"M.355659 391.581H427.147\" fill=\"none\" stroke=\"#cccccc\" stroke-dasharray=\"0,0.682695\" stroke-linecap=\"round\" stroke-linejoin=\"round\" stroke-miterlimit=\"10.0375\" stroke-width=\"0.170717\"/>\n",
       "</g>\n",
       "<g transform=\"translate(141.803 394.37)scale(.996264)\">\n",
       "<path d=\"M.355659 384.468H427.147\" fill=\"none\" stroke=\"#cccccc\" stroke-dasharray=\"0,0.682695\" stroke-linecap=\"round\" stroke-linejoin=\"round\" stroke-miterlimit=\"10.0375\" stroke-width=\"0.170717\"/>\n",
       "</g>\n",
       "<g transform=\"translate(141.803 394.37)scale(.996264)\">\n",
       "<path d=\"M.355659 377.355H427.147\" fill=\"none\" stroke=\"#cccccc\" stroke-dasharray=\"0,0.682695\" stroke-linecap=\"round\" stroke-linejoin=\"round\" stroke-miterlimit=\"10.0375\" stroke-width=\"0.170717\"/>\n",
       "</g>\n",
       "<g transform=\"translate(141.803 394.37)scale(.996264)\">\n",
       "<path d=\"M.355659 370.241H427.147\" fill=\"none\" stroke=\"#cccccc\" stroke-dasharray=\"0,0.682695\" stroke-linecap=\"round\" stroke-linejoin=\"round\" stroke-miterlimit=\"10.0375\" stroke-width=\"0.170717\"/>\n",
       "</g>\n",
       "<g transform=\"translate(141.803 394.37)scale(.996264)\">\n",
       "<path d=\"M.355659 370.241H427.147\" fill=\"none\" stroke=\"#cccccc\" stroke-linecap=\"round\" stroke-linejoin=\"round\" stroke-miterlimit=\"10.0375\" stroke-width=\"0.426791\"/>\n",
       "</g>\n",
       "<g transform=\"translate(141.803 394.37)scale(.996264)\">\n",
       "<path d=\"M.355659 363.128H427.147\" fill=\"none\" stroke=\"#cccccc\" stroke-dasharray=\"0,0.682695\" stroke-linecap=\"round\" stroke-linejoin=\"round\" stroke-miterlimit=\"10.0375\" stroke-width=\"0.170717\"/>\n",
       "</g>\n",
       "<g transform=\"translate(141.803 394.37)scale(.996264)\">\n",
       "<path d=\"M.355659 356.015H427.147\" fill=\"none\" stroke=\"#cccccc\" stroke-dasharray=\"0,0.682695\" stroke-linecap=\"round\" stroke-linejoin=\"round\" stroke-miterlimit=\"10.0375\" stroke-width=\"0.170717\"/>\n",
       "</g>\n",
       "<g transform=\"translate(141.803 394.37)scale(.996264)\">\n",
       "<path d=\"M.355659 348.902H427.147\" fill=\"none\" stroke=\"#cccccc\" stroke-dasharray=\"0,0.682695\" stroke-linecap=\"round\" stroke-linejoin=\"round\" stroke-miterlimit=\"10.0375\" stroke-width=\"0.170717\"/>\n",
       "</g>\n",
       "<g transform=\"translate(141.803 394.37)scale(.996264)\">\n",
       "<path d=\"M.355659 341.789H427.147\" fill=\"none\" stroke=\"#cccccc\" stroke-dasharray=\"0,0.682695\" stroke-linecap=\"round\" stroke-linejoin=\"round\" stroke-miterlimit=\"10.0375\" stroke-width=\"0.170717\"/>\n",
       "</g>\n",
       "<g transform=\"translate(141.803 394.37)scale(.996264)\">\n",
       "<path d=\"M.355659 341.789H427.147\" fill=\"none\" stroke=\"#cccccc\" stroke-linecap=\"round\" stroke-linejoin=\"round\" stroke-miterlimit=\"10.0375\" stroke-width=\"0.426791\"/>\n",
       "</g>\n",
       "<g transform=\"translate(141.803 394.37)scale(.996264)\">\n",
       "<path d=\"M.355659 334.676H427.147\" fill=\"none\" stroke=\"#cccccc\" stroke-dasharray=\"0,0.682695\" stroke-linecap=\"round\" stroke-linejoin=\"round\" stroke-miterlimit=\"10.0375\" stroke-width=\"0.170717\"/>\n",
       "</g>\n",
       "<g transform=\"translate(141.803 394.37)scale(.996264)\">\n",
       "<path d=\"M.355659 327.562H427.147\" fill=\"none\" stroke=\"#cccccc\" stroke-dasharray=\"0,0.682695\" stroke-linecap=\"round\" stroke-linejoin=\"round\" stroke-miterlimit=\"10.0375\" stroke-width=\"0.170717\"/>\n",
       "</g>\n",
       "<g transform=\"translate(141.803 394.37)scale(.996264)\">\n",
       "<path d=\"M.355659 320.449H427.147\" fill=\"none\" stroke=\"#cccccc\" stroke-dasharray=\"0,0.682695\" stroke-linecap=\"round\" stroke-linejoin=\"round\" stroke-miterlimit=\"10.0375\" stroke-width=\"0.170717\"/>\n",
       "</g>\n",
       "<g transform=\"translate(141.803 394.37)scale(.996264)\">\n",
       "<path d=\"M.355659 313.336H427.147\" fill=\"none\" stroke=\"#cccccc\" stroke-dasharray=\"0,0.682695\" stroke-linecap=\"round\" stroke-linejoin=\"round\" stroke-miterlimit=\"10.0375\" stroke-width=\"0.170717\"/>\n",
       "</g>\n",
       "<g transform=\"translate(141.803 394.37)scale(.996264)\">\n",
       "<path d=\"M.355659 313.336H427.147\" fill=\"none\" stroke=\"#cccccc\" stroke-linecap=\"round\" stroke-linejoin=\"round\" stroke-miterlimit=\"10.0375\" stroke-width=\"0.426791\"/>\n",
       "</g>\n",
       "<g transform=\"translate(141.803 394.37)scale(.996264)\">\n",
       "<path d=\"M.355659 306.223H427.147\" fill=\"none\" stroke=\"#cccccc\" stroke-dasharray=\"0,0.682695\" stroke-linecap=\"round\" stroke-linejoin=\"round\" stroke-miterlimit=\"10.0375\" stroke-width=\"0.170717\"/>\n",
       "</g>\n",
       "<g transform=\"translate(141.803 394.37)scale(.996264)\">\n",
       "<path d=\"M.355659 299.11H427.147\" fill=\"none\" stroke=\"#cccccc\" stroke-dasharray=\"0,0.682695\" stroke-linecap=\"round\" stroke-linejoin=\"round\" stroke-miterlimit=\"10.0375\" stroke-width=\"0.170717\"/>\n",
       "</g>\n",
       "<g transform=\"translate(141.803 394.37)scale(.996264)\">\n",
       "<path d=\"M.355659 291.996H427.147\" fill=\"none\" stroke=\"#cccccc\" stroke-dasharray=\"0,0.682695\" stroke-linecap=\"round\" stroke-linejoin=\"round\" stroke-miterlimit=\"10.0375\" stroke-width=\"0.170717\"/>\n",
       "</g>\n",
       "<g transform=\"translate(141.803 394.37)scale(.996264)\">\n",
       "<path d=\"M.355659 284.883H427.147\" fill=\"none\" stroke=\"#cccccc\" stroke-dasharray=\"0,0.682695\" stroke-linecap=\"round\" stroke-linejoin=\"round\" stroke-miterlimit=\"10.0375\" stroke-width=\"0.170717\"/>\n",
       "</g>\n",
       "<g transform=\"translate(141.803 394.37)scale(.996264)\">\n",
       "<path d=\"M.355659 284.883H427.147\" fill=\"none\" stroke=\"#cccccc\" stroke-linecap=\"round\" stroke-linejoin=\"round\" stroke-miterlimit=\"10.0375\" stroke-width=\"0.426791\"/>\n",
       "</g>\n",
       "<g transform=\"translate(141.803 394.37)scale(.996264)\">\n",
       "<path d=\"M.355659 277.77H427.147\" fill=\"none\" stroke=\"#cccccc\" stroke-dasharray=\"0,0.682695\" stroke-linecap=\"round\" stroke-linejoin=\"round\" stroke-miterlimit=\"10.0375\" stroke-width=\"0.170717\"/>\n",
       "</g>\n",
       "<g transform=\"translate(141.803 394.37)scale(.996264)\">\n",
       "<path d=\"M.355659 270.657H427.147\" fill=\"none\" stroke=\"#cccccc\" stroke-dasharray=\"0,0.682695\" stroke-linecap=\"round\" stroke-linejoin=\"round\" stroke-miterlimit=\"10.0375\" stroke-width=\"0.170717\"/>\n",
       "</g>\n",
       "<g transform=\"translate(141.803 394.37)scale(.996264)\">\n",
       "<path d=\"M.355659 263.544H427.147\" fill=\"none\" stroke=\"#cccccc\" stroke-dasharray=\"0,0.682695\" stroke-linecap=\"round\" stroke-linejoin=\"round\" stroke-miterlimit=\"10.0375\" stroke-width=\"0.170717\"/>\n",
       "</g>\n",
       "<g transform=\"translate(141.803 394.37)scale(.996264)\">\n",
       "<path d=\"M.355659 256.43H427.147\" fill=\"none\" stroke=\"#cccccc\" stroke-dasharray=\"0,0.682695\" stroke-linecap=\"round\" stroke-linejoin=\"round\" stroke-miterlimit=\"10.0375\" stroke-width=\"0.170717\"/>\n",
       "</g>\n",
       "<g transform=\"translate(141.803 394.37)scale(.996264)\">\n",
       "<path d=\"M.355659 256.43H427.147\" fill=\"none\" stroke=\"#cccccc\" stroke-linecap=\"round\" stroke-linejoin=\"round\" stroke-miterlimit=\"10.0375\" stroke-width=\"0.426791\"/>\n",
       "</g>\n",
       "<g transform=\"translate(141.803 394.37)scale(.996264)\">\n",
       "<path d=\"M.355659 249.317H427.147\" fill=\"none\" stroke=\"#cccccc\" stroke-dasharray=\"0,0.682695\" stroke-linecap=\"round\" stroke-linejoin=\"round\" stroke-miterlimit=\"10.0375\" stroke-width=\"0.170717\"/>\n",
       "</g>\n",
       "<g transform=\"translate(141.803 394.37)scale(.996264)\">\n",
       "<path d=\"M.355659 242.204H427.147\" fill=\"none\" stroke=\"#cccccc\" stroke-dasharray=\"0,0.682695\" stroke-linecap=\"round\" stroke-linejoin=\"round\" stroke-miterlimit=\"10.0375\" stroke-width=\"0.170717\"/>\n",
       "</g>\n",
       "<g transform=\"translate(141.803 394.37)scale(.996264)\">\n",
       "<path d=\"M.355659 235.091H427.147\" fill=\"none\" stroke=\"#cccccc\" stroke-dasharray=\"0,0.682695\" stroke-linecap=\"round\" stroke-linejoin=\"round\" stroke-miterlimit=\"10.0375\" stroke-width=\"0.170717\"/>\n",
       "</g>\n",
       "<g transform=\"translate(141.803 394.37)scale(.996264)\">\n",
       "<path d=\"M.355659 227.978H427.147\" fill=\"none\" stroke=\"#cccccc\" stroke-dasharray=\"0,0.682695\" stroke-linecap=\"round\" stroke-linejoin=\"round\" stroke-miterlimit=\"10.0375\" stroke-width=\"0.170717\"/>\n",
       "</g>\n",
       "<g transform=\"translate(141.803 394.37)scale(.996264)\">\n",
       "<path d=\"M.355659 227.978H427.147\" fill=\"none\" stroke=\"#cccccc\" stroke-linecap=\"round\" stroke-linejoin=\"round\" stroke-miterlimit=\"10.0375\" stroke-width=\"0.426791\"/>\n",
       "</g>\n",
       "<g transform=\"translate(141.803 394.37)scale(.996264)\">\n",
       "<path d=\"M.355659 220.865H427.147\" fill=\"none\" stroke=\"#cccccc\" stroke-dasharray=\"0,0.682695\" stroke-linecap=\"round\" stroke-linejoin=\"round\" stroke-miterlimit=\"10.0375\" stroke-width=\"0.170717\"/>\n",
       "</g>\n",
       "<g transform=\"translate(141.803 394.37)scale(.996264)\">\n",
       "<path d=\"M.355659 213.751H427.147\" fill=\"none\" stroke=\"#cccccc\" stroke-dasharray=\"0,0.682695\" stroke-linecap=\"round\" stroke-linejoin=\"round\" stroke-miterlimit=\"10.0375\" stroke-width=\"0.170717\"/>\n",
       "</g>\n",
       "<g transform=\"translate(141.803 394.37)scale(.996264)\">\n",
       "<path d=\"M.355659 206.638H427.147\" fill=\"none\" stroke=\"#cccccc\" stroke-dasharray=\"0,0.682695\" stroke-linecap=\"round\" stroke-linejoin=\"round\" stroke-miterlimit=\"10.0375\" stroke-width=\"0.170717\"/>\n",
       "</g>\n",
       "<g transform=\"translate(141.803 394.37)scale(.996264)\">\n",
       "<path d=\"M.355659 199.525H427.147\" fill=\"none\" stroke=\"#cccccc\" stroke-dasharray=\"0,0.682695\" stroke-linecap=\"round\" stroke-linejoin=\"round\" stroke-miterlimit=\"10.0375\" stroke-width=\"0.170717\"/>\n",
       "</g>\n",
       "<g transform=\"translate(141.803 394.37)scale(.996264)\">\n",
       "<path d=\"M.355659 199.525H427.147\" fill=\"none\" stroke=\"#cccccc\" stroke-linecap=\"round\" stroke-linejoin=\"round\" stroke-miterlimit=\"10.0375\" stroke-width=\"0.426791\"/>\n",
       "</g>\n",
       "<g transform=\"translate(141.803 394.37)scale(.996264)\">\n",
       "<path d=\"M.355659 192.412H427.147\" fill=\"none\" stroke=\"#cccccc\" stroke-dasharray=\"0,0.682695\" stroke-linecap=\"round\" stroke-linejoin=\"round\" stroke-miterlimit=\"10.0375\" stroke-width=\"0.170717\"/>\n",
       "</g>\n",
       "<g transform=\"translate(141.803 394.37)scale(.996264)\">\n",
       "<path d=\"M.355659 185.299H427.147\" fill=\"none\" stroke=\"#cccccc\" stroke-dasharray=\"0,0.682695\" stroke-linecap=\"round\" stroke-linejoin=\"round\" stroke-miterlimit=\"10.0375\" stroke-width=\"0.170717\"/>\n",
       "</g>\n",
       "<g transform=\"translate(141.803 394.37)scale(.996264)\">\n",
       "<path d=\"M.355659 178.185H427.147\" fill=\"none\" stroke=\"#cccccc\" stroke-dasharray=\"0,0.682695\" stroke-linecap=\"round\" stroke-linejoin=\"round\" stroke-miterlimit=\"10.0375\" stroke-width=\"0.170717\"/>\n",
       "</g>\n",
       "<g transform=\"translate(141.803 394.37)scale(.996264)\">\n",
       "<path d=\"M.355659 171.072H427.147\" fill=\"none\" stroke=\"#cccccc\" stroke-dasharray=\"0,0.682695\" stroke-linecap=\"round\" stroke-linejoin=\"round\" stroke-miterlimit=\"10.0375\" stroke-width=\"0.170717\"/>\n",
       "</g>\n",
       "<g transform=\"translate(141.803 394.37)scale(.996264)\">\n",
       "<path d=\"M.355659 171.072H427.147\" fill=\"none\" stroke=\"#cccccc\" stroke-linecap=\"round\" stroke-linejoin=\"round\" stroke-miterlimit=\"10.0375\" stroke-width=\"0.426791\"/>\n",
       "</g>\n",
       "<g transform=\"translate(141.803 394.37)scale(.996264)\">\n",
       "<path d=\"M.355659 163.959H427.147\" fill=\"none\" stroke=\"#cccccc\" stroke-dasharray=\"0,0.682695\" stroke-linecap=\"round\" stroke-linejoin=\"round\" stroke-miterlimit=\"10.0375\" stroke-width=\"0.170717\"/>\n",
       "</g>\n",
       "<g transform=\"translate(141.803 394.37)scale(.996264)\">\n",
       "<path d=\"M.355659 156.846H427.147\" fill=\"none\" stroke=\"#cccccc\" stroke-dasharray=\"0,0.682695\" stroke-linecap=\"round\" stroke-linejoin=\"round\" stroke-miterlimit=\"10.0375\" stroke-width=\"0.170717\"/>\n",
       "</g>\n",
       "<g transform=\"translate(141.803 394.37)scale(.996264)\">\n",
       "<path d=\"M.355659 149.733H427.147\" fill=\"none\" stroke=\"#cccccc\" stroke-dasharray=\"0,0.682695\" stroke-linecap=\"round\" stroke-linejoin=\"round\" stroke-miterlimit=\"10.0375\" stroke-width=\"0.170717\"/>\n",
       "</g>\n",
       "<g transform=\"translate(141.803 394.37)scale(.996264)\">\n",
       "<path d=\"M.355659 142.619H427.147\" fill=\"none\" stroke=\"#cccccc\" stroke-dasharray=\"0,0.682695\" stroke-linecap=\"round\" stroke-linejoin=\"round\" stroke-miterlimit=\"10.0375\" stroke-width=\"0.170717\"/>\n",
       "</g>\n",
       "<g transform=\"translate(141.803 394.37)scale(.996264)\">\n",
       "<path d=\"M.355659 142.619H427.147\" fill=\"none\" stroke=\"#cccccc\" stroke-linecap=\"round\" stroke-linejoin=\"round\" stroke-miterlimit=\"10.0375\" stroke-width=\"0.426791\"/>\n",
       "</g>\n",
       "<g transform=\"translate(141.803 394.37)scale(.996264)\">\n",
       "<path d=\"M.355659 135.506H427.147\" fill=\"none\" stroke=\"#cccccc\" stroke-dasharray=\"0,0.682695\" stroke-linecap=\"round\" stroke-linejoin=\"round\" stroke-miterlimit=\"10.0375\" stroke-width=\"0.170717\"/>\n",
       "</g>\n",
       "<g transform=\"translate(141.803 394.37)scale(.996264)\">\n",
       "<path d=\"M.355659 128.393H427.147\" fill=\"none\" stroke=\"#cccccc\" stroke-dasharray=\"0,0.682695\" stroke-linecap=\"round\" stroke-linejoin=\"round\" stroke-miterlimit=\"10.0375\" stroke-width=\"0.170717\"/>\n",
       "</g>\n",
       "<g transform=\"translate(141.803 394.37)scale(.996264)\">\n",
       "<path d=\"M.355659 121.28H427.147\" fill=\"none\" stroke=\"#cccccc\" stroke-dasharray=\"0,0.682695\" stroke-linecap=\"round\" stroke-linejoin=\"round\" stroke-miterlimit=\"10.0375\" stroke-width=\"0.170717\"/>\n",
       "</g>\n",
       "<g transform=\"translate(141.803 394.37)scale(.996264)\">\n",
       "<path d=\"M.355659 114.167H427.147\" fill=\"none\" stroke=\"#cccccc\" stroke-dasharray=\"0,0.682695\" stroke-linecap=\"round\" stroke-linejoin=\"round\" stroke-miterlimit=\"10.0375\" stroke-width=\"0.170717\"/>\n",
       "</g>\n",
       "<g transform=\"translate(141.803 394.37)scale(.996264)\">\n",
       "<path d=\"M.355659 114.167H427.147\" fill=\"none\" stroke=\"#cccccc\" stroke-linecap=\"round\" stroke-linejoin=\"round\" stroke-miterlimit=\"10.0375\" stroke-width=\"0.426791\"/>\n",
       "</g>\n",
       "<g transform=\"translate(141.803 394.37)scale(.996264)\">\n",
       "<path d=\"M.355659 107.053H427.147\" fill=\"none\" stroke=\"#cccccc\" stroke-dasharray=\"0,0.682695\" stroke-linecap=\"round\" stroke-linejoin=\"round\" stroke-miterlimit=\"10.0375\" stroke-width=\"0.170717\"/>\n",
       "</g>\n",
       "<g transform=\"translate(141.803 394.37)scale(.996264)\">\n",
       "<path d=\"M.355659 99.9403H427.147\" fill=\"none\" stroke=\"#cccccc\" stroke-dasharray=\"0,0.682695\" stroke-linecap=\"round\" stroke-linejoin=\"round\" stroke-miterlimit=\"10.0375\" stroke-width=\"0.170717\"/>\n",
       "</g>\n",
       "<g transform=\"translate(141.803 394.37)scale(.996264)\">\n",
       "<path d=\"M.355659 92.8271H427.147\" fill=\"none\" stroke=\"#cccccc\" stroke-dasharray=\"0,0.682695\" stroke-linecap=\"round\" stroke-linejoin=\"round\" stroke-miterlimit=\"10.0375\" stroke-width=\"0.170717\"/>\n",
       "</g>\n",
       "<g transform=\"translate(141.803 394.37)scale(.996264)\">\n",
       "<path d=\"M.355659 85.7139H427.147\" fill=\"none\" stroke=\"#cccccc\" stroke-dasharray=\"0,0.682695\" stroke-linecap=\"round\" stroke-linejoin=\"round\" stroke-miterlimit=\"10.0375\" stroke-width=\"0.170717\"/>\n",
       "</g>\n",
       "<g transform=\"translate(141.803 394.37)scale(.996264)\">\n",
       "<path d=\"M.355659 85.7139H427.147\" fill=\"none\" stroke=\"#cccccc\" stroke-linecap=\"round\" stroke-linejoin=\"round\" stroke-miterlimit=\"10.0375\" stroke-width=\"0.426791\"/>\n",
       "</g>\n",
       "<g transform=\"translate(141.803 394.37)scale(.996264)\">\n",
       "<path d=\"M.355659 78.6007H427.147\" fill=\"none\" stroke=\"#cccccc\" stroke-dasharray=\"0,0.682695\" stroke-linecap=\"round\" stroke-linejoin=\"round\" stroke-miterlimit=\"10.0375\" stroke-width=\"0.170717\"/>\n",
       "</g>\n",
       "<g transform=\"translate(141.803 394.37)scale(.996264)\">\n",
       "<path d=\"M.355659 71.4875H427.147\" fill=\"none\" stroke=\"#cccccc\" stroke-dasharray=\"0,0.682695\" stroke-linecap=\"round\" stroke-linejoin=\"round\" stroke-miterlimit=\"10.0375\" stroke-width=\"0.170717\"/>\n",
       "</g>\n",
       "<g transform=\"translate(141.803 394.37)scale(.996264)\">\n",
       "<path d=\"M.355659 64.3744H427.147\" fill=\"none\" stroke=\"#cccccc\" stroke-dasharray=\"0,0.682695\" stroke-linecap=\"round\" stroke-linejoin=\"round\" stroke-miterlimit=\"10.0375\" stroke-width=\"0.170717\"/>\n",
       "</g>\n",
       "<g transform=\"translate(141.803 394.37)scale(.996264)\">\n",
       "<path d=\"M.355659 57.2612H427.147\" fill=\"none\" stroke=\"#cccccc\" stroke-dasharray=\"0,0.682695\" stroke-linecap=\"round\" stroke-linejoin=\"round\" stroke-miterlimit=\"10.0375\" stroke-width=\"0.170717\"/>\n",
       "</g>\n",
       "<g transform=\"translate(141.803 394.37)scale(.996264)\">\n",
       "<path d=\"M.355659 57.2612H427.147\" fill=\"none\" stroke=\"#cccccc\" stroke-linecap=\"round\" stroke-linejoin=\"round\" stroke-miterlimit=\"10.0375\" stroke-width=\"0.426791\"/>\n",
       "</g>\n",
       "<g transform=\"translate(141.803 394.37)scale(.996264)\">\n",
       "<path d=\"M.355659 50.148H427.147\" fill=\"none\" stroke=\"#cccccc\" stroke-dasharray=\"0,0.682695\" stroke-linecap=\"round\" stroke-linejoin=\"round\" stroke-miterlimit=\"10.0375\" stroke-width=\"0.170717\"/>\n",
       "</g>\n",
       "<g transform=\"translate(141.803 394.37)scale(.996264)\">\n",
       "<path d=\"M.355659 43.0348H427.147\" fill=\"none\" stroke=\"#cccccc\" stroke-dasharray=\"0,0.682695\" stroke-linecap=\"round\" stroke-linejoin=\"round\" stroke-miterlimit=\"10.0375\" stroke-width=\"0.170717\"/>\n",
       "</g>\n",
       "<g transform=\"translate(141.803 394.37)scale(.996264)\">\n",
       "<path d=\"M.355659 35.9216H427.147\" fill=\"none\" stroke=\"#cccccc\" stroke-dasharray=\"0,0.682695\" stroke-linecap=\"round\" stroke-linejoin=\"round\" stroke-miterlimit=\"10.0375\" stroke-width=\"0.170717\"/>\n",
       "</g>\n",
       "<g transform=\"translate(141.803 394.37)scale(.996264)\">\n",
       "<path d=\"M.355659 28.8084H427.147\" fill=\"none\" stroke=\"#cccccc\" stroke-dasharray=\"0,0.682695\" stroke-linecap=\"round\" stroke-linejoin=\"round\" stroke-miterlimit=\"10.0375\" stroke-width=\"0.170717\"/>\n",
       "</g>\n",
       "<g transform=\"translate(141.803 394.37)scale(.996264)\">\n",
       "<path d=\"M.355659 28.8084H427.147\" fill=\"none\" stroke=\"#cccccc\" stroke-linecap=\"round\" stroke-linejoin=\"round\" stroke-miterlimit=\"10.0375\" stroke-width=\"0.426791\"/>\n",
       "</g>\n",
       "<g transform=\"translate(141.803 394.37)scale(.996264)\">\n",
       "<path d=\"M.355659 21.6952H427.147\" fill=\"none\" stroke=\"#cccccc\" stroke-dasharray=\"0,0.682695\" stroke-linecap=\"round\" stroke-linejoin=\"round\" stroke-miterlimit=\"10.0375\" stroke-width=\"0.170717\"/>\n",
       "</g>\n",
       "<g transform=\"translate(141.803 394.37)scale(.996264)\">\n",
       "<path d=\"M.355659 14.582H427.147\" fill=\"none\" stroke=\"#cccccc\" stroke-dasharray=\"0,0.682695\" stroke-linecap=\"round\" stroke-linejoin=\"round\" stroke-miterlimit=\"10.0375\" stroke-width=\"0.170717\"/>\n",
       "</g>\n",
       "<g transform=\"translate(141.803 394.37)scale(.996264)\">\n",
       "<path d=\"M.355659 7.46885H427.147\" fill=\"none\" stroke=\"#cccccc\" stroke-dasharray=\"0,0.682695\" stroke-linecap=\"round\" stroke-linejoin=\"round\" stroke-miterlimit=\"10.0375\" stroke-width=\"0.170717\"/>\n",
       "</g>\n",
       "<g transform=\"translate(141.803 394.37)scale(.996264)\">\n",
       "<path d=\"M.355659 .355659H427.147\" fill=\"none\" stroke=\"#cccccc\" stroke-dasharray=\"0,0.682695\" stroke-linecap=\"round\" stroke-linejoin=\"round\" stroke-miterlimit=\"10.0375\" stroke-width=\"0.170717\"/>\n",
       "</g>\n",
       "<g transform=\"translate(141.803 394.37)scale(.996264)\">\n",
       "<path d=\"M.355659 .355659H427.147\" fill=\"none\" stroke=\"#cccccc\" stroke-linecap=\"round\" stroke-linejoin=\"round\" stroke-miterlimit=\"10.0375\" stroke-width=\"0.426791\"/>\n",
       "</g>\n",
       "<g transform=\"translate(141.803 394.37)scale(.996264)\">\n",
       "<path d=\"M.355659 341.789H427.147\" fill=\"none\" stroke=\"#000000\" stroke-linecap=\"round\" stroke-linejoin=\"round\" stroke-miterlimit=\"10.0375\" stroke-width=\"0.711319\"/>\n",
       "</g>\n",
       "<g transform=\"translate(141.803 394.37)scale(.996264)\">\n",
       "<path d=\"M85.7139 427.147V.355659\" fill=\"none\" stroke=\"#000000\" stroke-linecap=\"round\" stroke-linejoin=\"round\" stroke-miterlimit=\"10.0375\" stroke-width=\"0.711319\"/>\n",
       "</g>\n",
       "<g transform=\"translate(141.803 394.37)scale(.996264)\">\n",
       "<path d=\"M28.8084 341.789V346.057\" fill=\"none\" stroke=\"#000000\" stroke-linecap=\"round\" stroke-linejoin=\"round\" stroke-miterlimit=\"10.0375\" stroke-width=\"0.711319\"/>\n",
       "</g>\n",
       "<use x=\"162.932019\" y=\"750.480072\" xlink:href=\"#g0-0\"/>\n",
       "<use x=\"172.230516\" y=\"750.480072\" xlink:href=\"#g1-50\"/>\n",
       "<g transform=\"translate(141.803 394.37)scale(.996264)\">\n",
       "<path d=\"M35.9216 341.789V343.923\" fill=\"none\" stroke=\"#000000\" stroke-linecap=\"round\" stroke-linejoin=\"round\" stroke-miterlimit=\"10.0375\" stroke-width=\"0.426791\"/>\n",
       "</g>\n",
       "<g transform=\"translate(141.803 394.37)scale(.996264)\">\n",
       "<path d=\"M43.0348 341.789V343.923\" fill=\"none\" stroke=\"#000000\" stroke-linecap=\"round\" stroke-linejoin=\"round\" stroke-miterlimit=\"10.0375\" stroke-width=\"0.426791\"/>\n",
       "</g>\n",
       "<g transform=\"translate(141.803 394.37)scale(.996264)\">\n",
       "<path d=\"M50.148 341.789V343.923\" fill=\"none\" stroke=\"#000000\" stroke-linecap=\"round\" stroke-linejoin=\"round\" stroke-miterlimit=\"10.0375\" stroke-width=\"0.426791\"/>\n",
       "</g>\n",
       "<g transform=\"translate(141.803 394.37)scale(.996264)\">\n",
       "<path d=\"M57.2612 341.789V346.057\" fill=\"none\" stroke=\"#000000\" stroke-linecap=\"round\" stroke-linejoin=\"round\" stroke-miterlimit=\"10.0375\" stroke-width=\"0.711319\"/>\n",
       "</g>\n",
       "<use x=\"191.278479\" y=\"750.480072\" xlink:href=\"#g0-0\"/>\n",
       "<use x=\"200.576976\" y=\"750.480072\" xlink:href=\"#g1-49\"/>\n",
       "<g transform=\"translate(141.803 394.37)scale(.996264)\">\n",
       "<path d=\"M64.3744 341.789V343.923\" fill=\"none\" stroke=\"#000000\" stroke-linecap=\"round\" stroke-linejoin=\"round\" stroke-miterlimit=\"10.0375\" stroke-width=\"0.426791\"/>\n",
       "</g>\n",
       "<g transform=\"translate(141.803 394.37)scale(.996264)\">\n",
       "<path d=\"M71.4875 341.789V343.923\" fill=\"none\" stroke=\"#000000\" stroke-linecap=\"round\" stroke-linejoin=\"round\" stroke-miterlimit=\"10.0375\" stroke-width=\"0.426791\"/>\n",
       "</g>\n",
       "<g transform=\"translate(141.803 394.37)scale(.996264)\">\n",
       "<path d=\"M78.6007 341.789V343.923\" fill=\"none\" stroke=\"#000000\" stroke-linecap=\"round\" stroke-linejoin=\"round\" stroke-miterlimit=\"10.0375\" stroke-width=\"0.426791\"/>\n",
       "</g>\n",
       "<g transform=\"translate(141.803 394.37)scale(.996264)\">\n",
       "<path d=\"M114.167 341.789V346.057\" fill=\"none\" stroke=\"#000000\" stroke-linecap=\"round\" stroke-linejoin=\"round\" stroke-miterlimit=\"10.0375\" stroke-width=\"0.711319\"/>\n",
       "</g>\n",
       "<use x=\"252.620635\" y=\"750.480057\" xlink:href=\"#g1-49\"/>\n",
       "<g transform=\"translate(141.803 394.37)scale(.996264)\">\n",
       "<path d=\"M107.053 341.789V343.923\" fill=\"none\" stroke=\"#000000\" stroke-linecap=\"round\" stroke-linejoin=\"round\" stroke-miterlimit=\"10.0375\" stroke-width=\"0.426791\"/>\n",
       "</g>\n",
       "<g transform=\"translate(141.803 394.37)scale(.996264)\">\n",
       "<path d=\"M99.9403 341.789V343.923\" fill=\"none\" stroke=\"#000000\" stroke-linecap=\"round\" stroke-linejoin=\"round\" stroke-miterlimit=\"10.0375\" stroke-width=\"0.426791\"/>\n",
       "</g>\n",
       "<g transform=\"translate(141.803 394.37)scale(.996264)\">\n",
       "<path d=\"M92.8271 341.789V343.923\" fill=\"none\" stroke=\"#000000\" stroke-linecap=\"round\" stroke-linejoin=\"round\" stroke-miterlimit=\"10.0375\" stroke-width=\"0.426791\"/>\n",
       "</g>\n",
       "<g transform=\"translate(141.803 394.37)scale(.996264)\">\n",
       "<path d=\"M142.619 341.789V346.057\" fill=\"none\" stroke=\"#000000\" stroke-linecap=\"round\" stroke-linejoin=\"round\" stroke-miterlimit=\"10.0375\" stroke-width=\"0.711319\"/>\n",
       "</g>\n",
       "<use x=\"280.96708\" y=\"750.480057\" xlink:href=\"#g1-50\"/>\n",
       "<g transform=\"translate(141.803 394.37)scale(.996264)\">\n",
       "<path d=\"M135.506 341.789V343.923\" fill=\"none\" stroke=\"#000000\" stroke-linecap=\"round\" stroke-linejoin=\"round\" stroke-miterlimit=\"10.0375\" stroke-width=\"0.426791\"/>\n",
       "</g>\n",
       "<g transform=\"translate(141.803 394.37)scale(.996264)\">\n",
       "<path d=\"M128.393 341.789V343.923\" fill=\"none\" stroke=\"#000000\" stroke-linecap=\"round\" stroke-linejoin=\"round\" stroke-miterlimit=\"10.0375\" stroke-width=\"0.426791\"/>\n",
       "</g>\n",
       "<g transform=\"translate(141.803 394.37)scale(.996264)\">\n",
       "<path d=\"M121.28 341.789V343.923\" fill=\"none\" stroke=\"#000000\" stroke-linecap=\"round\" stroke-linejoin=\"round\" stroke-miterlimit=\"10.0375\" stroke-width=\"0.426791\"/>\n",
       "</g>\n",
       "<g transform=\"translate(141.803 394.37)scale(.996264)\">\n",
       "<path d=\"M171.072 341.789V346.057\" fill=\"none\" stroke=\"#000000\" stroke-linecap=\"round\" stroke-linejoin=\"round\" stroke-miterlimit=\"10.0375\" stroke-width=\"0.711319\"/>\n",
       "</g>\n",
       "<use x=\"309.313539\" y=\"750.480057\" xlink:href=\"#g1-51\"/>\n",
       "<g transform=\"translate(141.803 394.37)scale(.996264)\">\n",
       "<path d=\"M163.959 341.789V343.923\" fill=\"none\" stroke=\"#000000\" stroke-linecap=\"round\" stroke-linejoin=\"round\" stroke-miterlimit=\"10.0375\" stroke-width=\"0.426791\"/>\n",
       "</g>\n",
       "<g transform=\"translate(141.803 394.37)scale(.996264)\">\n",
       "<path d=\"M156.846 341.789V343.923\" fill=\"none\" stroke=\"#000000\" stroke-linecap=\"round\" stroke-linejoin=\"round\" stroke-miterlimit=\"10.0375\" stroke-width=\"0.426791\"/>\n",
       "</g>\n",
       "<g transform=\"translate(141.803 394.37)scale(.996264)\">\n",
       "<path d=\"M149.733 341.789V343.923\" fill=\"none\" stroke=\"#000000\" stroke-linecap=\"round\" stroke-linejoin=\"round\" stroke-miterlimit=\"10.0375\" stroke-width=\"0.426791\"/>\n",
       "</g>\n",
       "<g transform=\"translate(141.803 394.37)scale(.996264)\">\n",
       "<path d=\"M199.525 341.789V346.057\" fill=\"none\" stroke=\"#000000\" stroke-linecap=\"round\" stroke-linejoin=\"round\" stroke-miterlimit=\"10.0375\" stroke-width=\"0.711319\"/>\n",
       "</g>\n",
       "<use x=\"337.659999\" y=\"750.480057\" xlink:href=\"#g1-52\"/>\n",
       "<g transform=\"translate(141.803 394.37)scale(.996264)\">\n",
       "<path d=\"M192.412 341.789V343.923\" fill=\"none\" stroke=\"#000000\" stroke-linecap=\"round\" stroke-linejoin=\"round\" stroke-miterlimit=\"10.0375\" stroke-width=\"0.426791\"/>\n",
       "</g>\n",
       "<g transform=\"translate(141.803 394.37)scale(.996264)\">\n",
       "<path d=\"M185.299 341.789V343.923\" fill=\"none\" stroke=\"#000000\" stroke-linecap=\"round\" stroke-linejoin=\"round\" stroke-miterlimit=\"10.0375\" stroke-width=\"0.426791\"/>\n",
       "</g>\n",
       "<g transform=\"translate(141.803 394.37)scale(.996264)\">\n",
       "<path d=\"M178.185 341.789V343.923\" fill=\"none\" stroke=\"#000000\" stroke-linecap=\"round\" stroke-linejoin=\"round\" stroke-miterlimit=\"10.0375\" stroke-width=\"0.426791\"/>\n",
       "</g>\n",
       "<g transform=\"translate(141.803 394.37)scale(.996264)\">\n",
       "<path d=\"M227.978 341.789V346.057\" fill=\"none\" stroke=\"#000000\" stroke-linecap=\"round\" stroke-linejoin=\"round\" stroke-miterlimit=\"10.0375\" stroke-width=\"0.711319\"/>\n",
       "</g>\n",
       "<use x=\"366.006458\" y=\"750.480057\" xlink:href=\"#g1-53\"/>\n",
       "<g transform=\"translate(141.803 394.37)scale(.996264)\">\n",
       "<path d=\"M220.865 341.789V343.923\" fill=\"none\" stroke=\"#000000\" stroke-linecap=\"round\" stroke-linejoin=\"round\" stroke-miterlimit=\"10.0375\" stroke-width=\"0.426791\"/>\n",
       "</g>\n",
       "<g transform=\"translate(141.803 394.37)scale(.996264)\">\n",
       "<path d=\"M213.751 341.789V343.923\" fill=\"none\" stroke=\"#000000\" stroke-linecap=\"round\" stroke-linejoin=\"round\" stroke-miterlimit=\"10.0375\" stroke-width=\"0.426791\"/>\n",
       "</g>\n",
       "<g transform=\"translate(141.803 394.37)scale(.996264)\">\n",
       "<path d=\"M206.638 341.789V343.923\" fill=\"none\" stroke=\"#000000\" stroke-linecap=\"round\" stroke-linejoin=\"round\" stroke-miterlimit=\"10.0375\" stroke-width=\"0.426791\"/>\n",
       "</g>\n",
       "<g transform=\"translate(141.803 394.37)scale(.996264)\">\n",
       "<path d=\"M256.43 341.789V346.057\" fill=\"none\" stroke=\"#000000\" stroke-linecap=\"round\" stroke-linejoin=\"round\" stroke-miterlimit=\"10.0375\" stroke-width=\"0.711319\"/>\n",
       "</g>\n",
       "<use x=\"394.352918\" y=\"750.480057\" xlink:href=\"#g1-54\"/>\n",
       "<g transform=\"translate(141.803 394.37)scale(.996264)\">\n",
       "<path d=\"M249.317 341.789V343.923\" fill=\"none\" stroke=\"#000000\" stroke-linecap=\"round\" stroke-linejoin=\"round\" stroke-miterlimit=\"10.0375\" stroke-width=\"0.426791\"/>\n",
       "</g>\n",
       "<g transform=\"translate(141.803 394.37)scale(.996264)\">\n",
       "<path d=\"M242.204 341.789V343.923\" fill=\"none\" stroke=\"#000000\" stroke-linecap=\"round\" stroke-linejoin=\"round\" stroke-miterlimit=\"10.0375\" stroke-width=\"0.426791\"/>\n",
       "</g>\n",
       "<g transform=\"translate(141.803 394.37)scale(.996264)\">\n",
       "<path d=\"M235.091 341.789V343.923\" fill=\"none\" stroke=\"#000000\" stroke-linecap=\"round\" stroke-linejoin=\"round\" stroke-miterlimit=\"10.0375\" stroke-width=\"0.426791\"/>\n",
       "</g>\n",
       "<g transform=\"translate(141.803 394.37)scale(.996264)\">\n",
       "<path d=\"M284.883 341.789V346.057\" fill=\"none\" stroke=\"#000000\" stroke-linecap=\"round\" stroke-linejoin=\"round\" stroke-miterlimit=\"10.0375\" stroke-width=\"0.711319\"/>\n",
       "</g>\n",
       "<use x=\"422.699377\" y=\"750.480057\" xlink:href=\"#g1-55\"/>\n",
       "<g transform=\"translate(141.803 394.37)scale(.996264)\">\n",
       "<path d=\"M277.77 341.789V343.923\" fill=\"none\" stroke=\"#000000\" stroke-linecap=\"round\" stroke-linejoin=\"round\" stroke-miterlimit=\"10.0375\" stroke-width=\"0.426791\"/>\n",
       "</g>\n",
       "<g transform=\"translate(141.803 394.37)scale(.996264)\">\n",
       "<path d=\"M270.657 341.789V343.923\" fill=\"none\" stroke=\"#000000\" stroke-linecap=\"round\" stroke-linejoin=\"round\" stroke-miterlimit=\"10.0375\" stroke-width=\"0.426791\"/>\n",
       "</g>\n",
       "<g transform=\"translate(141.803 394.37)scale(.996264)\">\n",
       "<path d=\"M263.544 341.789V343.923\" fill=\"none\" stroke=\"#000000\" stroke-linecap=\"round\" stroke-linejoin=\"round\" stroke-miterlimit=\"10.0375\" stroke-width=\"0.426791\"/>\n",
       "</g>\n",
       "<g transform=\"translate(141.803 394.37)scale(.996264)\">\n",
       "<path d=\"M313.336 341.789V346.057\" fill=\"none\" stroke=\"#000000\" stroke-linecap=\"round\" stroke-linejoin=\"round\" stroke-miterlimit=\"10.0375\" stroke-width=\"0.711319\"/>\n",
       "</g>\n",
       "<use x=\"451.045822\" y=\"750.480057\" xlink:href=\"#g1-56\"/>\n",
       "<g transform=\"translate(141.803 394.37)scale(.996264)\">\n",
       "<path d=\"M306.223 341.789V343.923\" fill=\"none\" stroke=\"#000000\" stroke-linecap=\"round\" stroke-linejoin=\"round\" stroke-miterlimit=\"10.0375\" stroke-width=\"0.426791\"/>\n",
       "</g>\n",
       "<g transform=\"translate(141.803 394.37)scale(.996264)\">\n",
       "<path d=\"M299.11 341.789V343.923\" fill=\"none\" stroke=\"#000000\" stroke-linecap=\"round\" stroke-linejoin=\"round\" stroke-miterlimit=\"10.0375\" stroke-width=\"0.426791\"/>\n",
       "</g>\n",
       "<g transform=\"translate(141.803 394.37)scale(.996264)\">\n",
       "<path d=\"M291.996 341.789V343.923\" fill=\"none\" stroke=\"#000000\" stroke-linecap=\"round\" stroke-linejoin=\"round\" stroke-miterlimit=\"10.0375\" stroke-width=\"0.426791\"/>\n",
       "</g>\n",
       "<g transform=\"translate(141.803 394.37)scale(.996264)\">\n",
       "<path d=\"M341.789 341.789V346.057\" fill=\"none\" stroke=\"#000000\" stroke-linecap=\"round\" stroke-linejoin=\"round\" stroke-miterlimit=\"10.0375\" stroke-width=\"0.711319\"/>\n",
       "</g>\n",
       "<use x=\"479.392281\" y=\"750.480057\" xlink:href=\"#g1-57\"/>\n",
       "<g transform=\"translate(141.803 394.37)scale(.996264)\">\n",
       "<path d=\"M334.676 341.789V343.923\" fill=\"none\" stroke=\"#000000\" stroke-linecap=\"round\" stroke-linejoin=\"round\" stroke-miterlimit=\"10.0375\" stroke-width=\"0.426791\"/>\n",
       "</g>\n",
       "<g transform=\"translate(141.803 394.37)scale(.996264)\">\n",
       "<path d=\"M327.562 341.789V343.923\" fill=\"none\" stroke=\"#000000\" stroke-linecap=\"round\" stroke-linejoin=\"round\" stroke-miterlimit=\"10.0375\" stroke-width=\"0.426791\"/>\n",
       "</g>\n",
       "<g transform=\"translate(141.803 394.37)scale(.996264)\">\n",
       "<path d=\"M320.449 341.789V343.923\" fill=\"none\" stroke=\"#000000\" stroke-linecap=\"round\" stroke-linejoin=\"round\" stroke-miterlimit=\"10.0375\" stroke-width=\"0.426791\"/>\n",
       "</g>\n",
       "<g transform=\"translate(141.803 394.37)scale(.996264)\">\n",
       "<path d=\"M370.241 341.789V346.057\" fill=\"none\" stroke=\"#000000\" stroke-linecap=\"round\" stroke-linejoin=\"round\" stroke-miterlimit=\"10.0375\" stroke-width=\"0.711319\"/>\n",
       "</g>\n",
       "<use x=\"504.812246\" y=\"750.480057\" xlink:href=\"#g1-49\"/>\n",
       "<use x=\"510.665236\" y=\"750.480057\" xlink:href=\"#g1-48\"/>\n",
       "<g transform=\"translate(141.803 394.37)scale(.996264)\">\n",
       "<path d=\"M363.128 341.789V343.923\" fill=\"none\" stroke=\"#000000\" stroke-linecap=\"round\" stroke-linejoin=\"round\" stroke-miterlimit=\"10.0375\" stroke-width=\"0.426791\"/>\n",
       "</g>\n",
       "<g transform=\"translate(141.803 394.37)scale(.996264)\">\n",
       "<path d=\"M356.015 341.789V343.923\" fill=\"none\" stroke=\"#000000\" stroke-linecap=\"round\" stroke-linejoin=\"round\" stroke-miterlimit=\"10.0375\" stroke-width=\"0.426791\"/>\n",
       "</g>\n",
       "<g transform=\"translate(141.803 394.37)scale(.996264)\">\n",
       "<path d=\"M348.902 341.789V343.923\" fill=\"none\" stroke=\"#000000\" stroke-linecap=\"round\" stroke-linejoin=\"round\" stroke-miterlimit=\"10.0375\" stroke-width=\"0.426791\"/>\n",
       "</g>\n",
       "<g transform=\"translate(141.803 394.37)scale(.996264)\">\n",
       "<path d=\"M398.694 341.789V346.057\" fill=\"none\" stroke=\"#000000\" stroke-linecap=\"round\" stroke-linejoin=\"round\" stroke-miterlimit=\"10.0375\" stroke-width=\"0.711319\"/>\n",
       "</g>\n",
       "<use x=\"533.158705\" y=\"750.480057\" xlink:href=\"#g1-49\"/>\n",
       "<use x=\"539.011696\" y=\"750.480057\" xlink:href=\"#g1-49\"/>\n",
       "<g transform=\"translate(141.803 394.37)scale(.996264)\">\n",
       "<path d=\"M391.581 341.789V343.923\" fill=\"none\" stroke=\"#000000\" stroke-linecap=\"round\" stroke-linejoin=\"round\" stroke-miterlimit=\"10.0375\" stroke-width=\"0.426791\"/>\n",
       "</g>\n",
       "<g transform=\"translate(141.803 394.37)scale(.996264)\">\n",
       "<path d=\"M384.468 341.789V343.923\" fill=\"none\" stroke=\"#000000\" stroke-linecap=\"round\" stroke-linejoin=\"round\" stroke-miterlimit=\"10.0375\" stroke-width=\"0.426791\"/>\n",
       "</g>\n",
       "<g transform=\"translate(141.803 394.37)scale(.996264)\">\n",
       "<path d=\"M377.355 341.789V343.923\" fill=\"none\" stroke=\"#000000\" stroke-linecap=\"round\" stroke-linejoin=\"round\" stroke-miterlimit=\"10.0375\" stroke-width=\"0.426791\"/>\n",
       "</g>\n",
       "<g transform=\"translate(141.803 394.37)scale(.996264)\">\n",
       "<path d=\"M85.7139 398.694H81.446\" fill=\"none\" stroke=\"#000000\" stroke-linecap=\"round\" stroke-linejoin=\"round\" stroke-miterlimit=\"10.0375\" stroke-width=\"0.711319\"/>\n",
       "</g>\n",
       "<use x=\"204.095436\" y=\"794.868882\" xlink:href=\"#g0-0\"/>\n",
       "<use x=\"213.393933\" y=\"794.868882\" xlink:href=\"#g1-50\"/>\n",
       "<g transform=\"translate(141.803 394.37)scale(.996264)\">\n",
       "<path d=\"M85.7139 391.581H83.58\" fill=\"none\" stroke=\"#000000\" stroke-linecap=\"round\" stroke-linejoin=\"round\" stroke-miterlimit=\"10.0375\" stroke-width=\"0.426791\"/>\n",
       "</g>\n",
       "<g transform=\"translate(141.803 394.37)scale(.996264)\">\n",
       "<path d=\"M85.7139 384.468H83.58\" fill=\"none\" stroke=\"#000000\" stroke-linecap=\"round\" stroke-linejoin=\"round\" stroke-miterlimit=\"10.0375\" stroke-width=\"0.426791\"/>\n",
       "</g>\n",
       "<g transform=\"translate(141.803 394.37)scale(.996264)\">\n",
       "<path d=\"M85.7139 377.355H83.58\" fill=\"none\" stroke=\"#000000\" stroke-linecap=\"round\" stroke-linejoin=\"round\" stroke-miterlimit=\"10.0375\" stroke-width=\"0.426791\"/>\n",
       "</g>\n",
       "<g transform=\"translate(141.803 394.37)scale(.996264)\">\n",
       "<path d=\"M85.7139 370.241H81.446\" fill=\"none\" stroke=\"#000000\" stroke-linecap=\"round\" stroke-linejoin=\"round\" stroke-miterlimit=\"10.0375\" stroke-width=\"0.711319\"/>\n",
       "</g>\n",
       "<use x=\"204.095436\" y=\"766.522422\" xlink:href=\"#g0-0\"/>\n",
       "<use x=\"213.393933\" y=\"766.522422\" xlink:href=\"#g1-49\"/>\n",
       "<g transform=\"translate(141.803 394.37)scale(.996264)\">\n",
       "<path d=\"M85.7139 363.128H83.58\" fill=\"none\" stroke=\"#000000\" stroke-linecap=\"round\" stroke-linejoin=\"round\" stroke-miterlimit=\"10.0375\" stroke-width=\"0.426791\"/>\n",
       "</g>\n",
       "<g transform=\"translate(141.803 394.37)scale(.996264)\">\n",
       "<path d=\"M85.7139 356.015H83.58\" fill=\"none\" stroke=\"#000000\" stroke-linecap=\"round\" stroke-linejoin=\"round\" stroke-miterlimit=\"10.0375\" stroke-width=\"0.426791\"/>\n",
       "</g>\n",
       "<g transform=\"translate(141.803 394.37)scale(.996264)\">\n",
       "<path d=\"M85.7139 348.902H83.58\" fill=\"none\" stroke=\"#000000\" stroke-linecap=\"round\" stroke-linejoin=\"round\" stroke-miterlimit=\"10.0375\" stroke-width=\"0.426791\"/>\n",
       "</g>\n",
       "<g transform=\"translate(141.803 394.37)scale(.996264)\">\n",
       "<path d=\"M85.7139 313.336H81.446\" fill=\"none\" stroke=\"#000000\" stroke-linecap=\"round\" stroke-linejoin=\"round\" stroke-miterlimit=\"10.0375\" stroke-width=\"0.711319\"/>\n",
       "</g>\n",
       "<use x=\"213.393926\" y=\"710.32762\" xlink:href=\"#g1-49\"/>\n",
       "<g transform=\"translate(141.803 394.37)scale(.996264)\">\n",
       "<path d=\"M85.7139 320.449H83.58\" fill=\"none\" stroke=\"#000000\" stroke-linecap=\"round\" stroke-linejoin=\"round\" stroke-miterlimit=\"10.0375\" stroke-width=\"0.426791\"/>\n",
       "</g>\n",
       "<g transform=\"translate(141.803 394.37)scale(.996264)\">\n",
       "<path d=\"M85.7139 327.562H83.58\" fill=\"none\" stroke=\"#000000\" stroke-linecap=\"round\" stroke-linejoin=\"round\" stroke-miterlimit=\"10.0375\" stroke-width=\"0.426791\"/>\n",
       "</g>\n",
       "<g transform=\"translate(141.803 394.37)scale(.996264)\">\n",
       "<path d=\"M85.7139 334.676H83.58\" fill=\"none\" stroke=\"#000000\" stroke-linecap=\"round\" stroke-linejoin=\"round\" stroke-miterlimit=\"10.0375\" stroke-width=\"0.426791\"/>\n",
       "</g>\n",
       "<g transform=\"translate(141.803 394.37)scale(.996264)\">\n",
       "<path d=\"M85.7139 284.883H81.446\" fill=\"none\" stroke=\"#000000\" stroke-linecap=\"round\" stroke-linejoin=\"round\" stroke-miterlimit=\"10.0375\" stroke-width=\"0.711319\"/>\n",
       "</g>\n",
       "<use x=\"213.393926\" y=\"681.981175\" xlink:href=\"#g1-50\"/>\n",
       "<g transform=\"translate(141.803 394.37)scale(.996264)\">\n",
       "<path d=\"M85.7139 291.996H83.58\" fill=\"none\" stroke=\"#000000\" stroke-linecap=\"round\" stroke-linejoin=\"round\" stroke-miterlimit=\"10.0375\" stroke-width=\"0.426791\"/>\n",
       "</g>\n",
       "<g transform=\"translate(141.803 394.37)scale(.996264)\">\n",
       "<path d=\"M85.7139 299.11H83.58\" fill=\"none\" stroke=\"#000000\" stroke-linecap=\"round\" stroke-linejoin=\"round\" stroke-miterlimit=\"10.0375\" stroke-width=\"0.426791\"/>\n",
       "</g>\n",
       "<g transform=\"translate(141.803 394.37)scale(.996264)\">\n",
       "<path d=\"M85.7139 306.223H83.58\" fill=\"none\" stroke=\"#000000\" stroke-linecap=\"round\" stroke-linejoin=\"round\" stroke-miterlimit=\"10.0375\" stroke-width=\"0.426791\"/>\n",
       "</g>\n",
       "<g transform=\"translate(141.803 394.37)scale(.996264)\">\n",
       "<path d=\"M85.7139 256.43H81.446\" fill=\"none\" stroke=\"#000000\" stroke-linecap=\"round\" stroke-linejoin=\"round\" stroke-miterlimit=\"10.0375\" stroke-width=\"0.711319\"/>\n",
       "</g>\n",
       "<use x=\"213.393926\" y=\"653.634716\" xlink:href=\"#g1-51\"/>\n",
       "<g transform=\"translate(141.803 394.37)scale(.996264)\">\n",
       "<path d=\"M85.7139 263.544H83.58\" fill=\"none\" stroke=\"#000000\" stroke-linecap=\"round\" stroke-linejoin=\"round\" stroke-miterlimit=\"10.0375\" stroke-width=\"0.426791\"/>\n",
       "</g>\n",
       "<g transform=\"translate(141.803 394.37)scale(.996264)\">\n",
       "<path d=\"M85.7139 270.657H83.58\" fill=\"none\" stroke=\"#000000\" stroke-linecap=\"round\" stroke-linejoin=\"round\" stroke-miterlimit=\"10.0375\" stroke-width=\"0.426791\"/>\n",
       "</g>\n",
       "<g transform=\"translate(141.803 394.37)scale(.996264)\">\n",
       "<path d=\"M85.7139 277.77H83.58\" fill=\"none\" stroke=\"#000000\" stroke-linecap=\"round\" stroke-linejoin=\"round\" stroke-miterlimit=\"10.0375\" stroke-width=\"0.426791\"/>\n",
       "</g>\n",
       "<g transform=\"translate(141.803 394.37)scale(.996264)\">\n",
       "<path d=\"M85.7139 227.978H81.446\" fill=\"none\" stroke=\"#000000\" stroke-linecap=\"round\" stroke-linejoin=\"round\" stroke-miterlimit=\"10.0375\" stroke-width=\"0.711319\"/>\n",
       "</g>\n",
       "<use x=\"213.393926\" y=\"625.288256\" xlink:href=\"#g1-52\"/>\n",
       "<g transform=\"translate(141.803 394.37)scale(.996264)\">\n",
       "<path d=\"M85.7139 235.091H83.58\" fill=\"none\" stroke=\"#000000\" stroke-linecap=\"round\" stroke-linejoin=\"round\" stroke-miterlimit=\"10.0375\" stroke-width=\"0.426791\"/>\n",
       "</g>\n",
       "<g transform=\"translate(141.803 394.37)scale(.996264)\">\n",
       "<path d=\"M85.7139 242.204H83.58\" fill=\"none\" stroke=\"#000000\" stroke-linecap=\"round\" stroke-linejoin=\"round\" stroke-miterlimit=\"10.0375\" stroke-width=\"0.426791\"/>\n",
       "</g>\n",
       "<g transform=\"translate(141.803 394.37)scale(.996264)\">\n",
       "<path d=\"M85.7139 249.317H83.58\" fill=\"none\" stroke=\"#000000\" stroke-linecap=\"round\" stroke-linejoin=\"round\" stroke-miterlimit=\"10.0375\" stroke-width=\"0.426791\"/>\n",
       "</g>\n",
       "<g transform=\"translate(141.803 394.37)scale(.996264)\">\n",
       "<path d=\"M85.7139 199.525H81.446\" fill=\"none\" stroke=\"#000000\" stroke-linecap=\"round\" stroke-linejoin=\"round\" stroke-miterlimit=\"10.0375\" stroke-width=\"0.711319\"/>\n",
       "</g>\n",
       "<use x=\"213.393926\" y=\"596.941797\" xlink:href=\"#g1-53\"/>\n",
       "<g transform=\"translate(141.803 394.37)scale(.996264)\">\n",
       "<path d=\"M85.7139 206.638H83.58\" fill=\"none\" stroke=\"#000000\" stroke-linecap=\"round\" stroke-linejoin=\"round\" stroke-miterlimit=\"10.0375\" stroke-width=\"0.426791\"/>\n",
       "</g>\n",
       "<g transform=\"translate(141.803 394.37)scale(.996264)\">\n",
       "<path d=\"M85.7139 213.751H83.58\" fill=\"none\" stroke=\"#000000\" stroke-linecap=\"round\" stroke-linejoin=\"round\" stroke-miterlimit=\"10.0375\" stroke-width=\"0.426791\"/>\n",
       "</g>\n",
       "<g transform=\"translate(141.803 394.37)scale(.996264)\">\n",
       "<path d=\"M85.7139 220.865H83.58\" fill=\"none\" stroke=\"#000000\" stroke-linecap=\"round\" stroke-linejoin=\"round\" stroke-miterlimit=\"10.0375\" stroke-width=\"0.426791\"/>\n",
       "</g>\n",
       "<g transform=\"translate(141.803 394.37)scale(.996264)\">\n",
       "<path d=\"M85.7139 171.072H81.446\" fill=\"none\" stroke=\"#000000\" stroke-linecap=\"round\" stroke-linejoin=\"round\" stroke-miterlimit=\"10.0375\" stroke-width=\"0.711319\"/>\n",
       "</g>\n",
       "<use x=\"213.393926\" y=\"568.595337\" xlink:href=\"#g1-54\"/>\n",
       "<g transform=\"translate(141.803 394.37)scale(.996264)\">\n",
       "<path d=\"M85.7139 178.185H83.58\" fill=\"none\" stroke=\"#000000\" stroke-linecap=\"round\" stroke-linejoin=\"round\" stroke-miterlimit=\"10.0375\" stroke-width=\"0.426791\"/>\n",
       "</g>\n",
       "<g transform=\"translate(141.803 394.37)scale(.996264)\">\n",
       "<path d=\"M85.7139 185.299H83.58\" fill=\"none\" stroke=\"#000000\" stroke-linecap=\"round\" stroke-linejoin=\"round\" stroke-miterlimit=\"10.0375\" stroke-width=\"0.426791\"/>\n",
       "</g>\n",
       "<g transform=\"translate(141.803 394.37)scale(.996264)\">\n",
       "<path d=\"M85.7139 192.412H83.58\" fill=\"none\" stroke=\"#000000\" stroke-linecap=\"round\" stroke-linejoin=\"round\" stroke-miterlimit=\"10.0375\" stroke-width=\"0.426791\"/>\n",
       "</g>\n",
       "<g transform=\"translate(141.803 394.37)scale(.996264)\">\n",
       "<path d=\"M85.7139 142.619H81.446\" fill=\"none\" stroke=\"#000000\" stroke-linecap=\"round\" stroke-linejoin=\"round\" stroke-miterlimit=\"10.0375\" stroke-width=\"0.711319\"/>\n",
       "</g>\n",
       "<use x=\"213.393926\" y=\"540.248893\" xlink:href=\"#g1-55\"/>\n",
       "<g transform=\"translate(141.803 394.37)scale(.996264)\">\n",
       "<path d=\"M85.7139 149.733H83.58\" fill=\"none\" stroke=\"#000000\" stroke-linecap=\"round\" stroke-linejoin=\"round\" stroke-miterlimit=\"10.0375\" stroke-width=\"0.426791\"/>\n",
       "</g>\n",
       "<g transform=\"translate(141.803 394.37)scale(.996264)\">\n",
       "<path d=\"M85.7139 156.846H83.58\" fill=\"none\" stroke=\"#000000\" stroke-linecap=\"round\" stroke-linejoin=\"round\" stroke-miterlimit=\"10.0375\" stroke-width=\"0.426791\"/>\n",
       "</g>\n",
       "<g transform=\"translate(141.803 394.37)scale(.996264)\">\n",
       "<path d=\"M85.7139 163.959H83.58\" fill=\"none\" stroke=\"#000000\" stroke-linecap=\"round\" stroke-linejoin=\"round\" stroke-miterlimit=\"10.0375\" stroke-width=\"0.426791\"/>\n",
       "</g>\n",
       "<g transform=\"translate(141.803 394.37)scale(.996264)\">\n",
       "<path d=\"M85.7139 114.167H81.446\" fill=\"none\" stroke=\"#000000\" stroke-linecap=\"round\" stroke-linejoin=\"round\" stroke-miterlimit=\"10.0375\" stroke-width=\"0.711319\"/>\n",
       "</g>\n",
       "<use x=\"213.393926\" y=\"511.902433\" xlink:href=\"#g1-56\"/>\n",
       "<g transform=\"translate(141.803 394.37)scale(.996264)\">\n",
       "<path d=\"M85.7139 121.28H83.58\" fill=\"none\" stroke=\"#000000\" stroke-linecap=\"round\" stroke-linejoin=\"round\" stroke-miterlimit=\"10.0375\" stroke-width=\"0.426791\"/>\n",
       "</g>\n",
       "<g transform=\"translate(141.803 394.37)scale(.996264)\">\n",
       "<path d=\"M85.7139 128.393H83.58\" fill=\"none\" stroke=\"#000000\" stroke-linecap=\"round\" stroke-linejoin=\"round\" stroke-miterlimit=\"10.0375\" stroke-width=\"0.426791\"/>\n",
       "</g>\n",
       "<g transform=\"translate(141.803 394.37)scale(.996264)\">\n",
       "<path d=\"M85.7139 135.506H83.58\" fill=\"none\" stroke=\"#000000\" stroke-linecap=\"round\" stroke-linejoin=\"round\" stroke-miterlimit=\"10.0375\" stroke-width=\"0.426791\"/>\n",
       "</g>\n",
       "<g transform=\"translate(141.803 394.37)scale(.996264)\">\n",
       "<path d=\"M85.7139 85.7139H81.446\" fill=\"none\" stroke=\"#000000\" stroke-linecap=\"round\" stroke-linejoin=\"round\" stroke-miterlimit=\"10.0375\" stroke-width=\"0.711319\"/>\n",
       "</g>\n",
       "<use x=\"213.393926\" y=\"483.555974\" xlink:href=\"#g1-57\"/>\n",
       "<g transform=\"translate(141.803 394.37)scale(.996264)\">\n",
       "<path d=\"M85.7139 92.8271H83.58\" fill=\"none\" stroke=\"#000000\" stroke-linecap=\"round\" stroke-linejoin=\"round\" stroke-miterlimit=\"10.0375\" stroke-width=\"0.426791\"/>\n",
       "</g>\n",
       "<g transform=\"translate(141.803 394.37)scale(.996264)\">\n",
       "<path d=\"M85.7139 99.9403H83.58\" fill=\"none\" stroke=\"#000000\" stroke-linecap=\"round\" stroke-linejoin=\"round\" stroke-miterlimit=\"10.0375\" stroke-width=\"0.426791\"/>\n",
       "</g>\n",
       "<g transform=\"translate(141.803 394.37)scale(.996264)\">\n",
       "<path d=\"M85.7139 107.053H83.58\" fill=\"none\" stroke=\"#000000\" stroke-linecap=\"round\" stroke-linejoin=\"round\" stroke-miterlimit=\"10.0375\" stroke-width=\"0.426791\"/>\n",
       "</g>\n",
       "<g transform=\"translate(141.803 394.37)scale(.996264)\">\n",
       "<path d=\"M85.7139 57.2612H81.446\" fill=\"none\" stroke=\"#000000\" stroke-linecap=\"round\" stroke-linejoin=\"round\" stroke-miterlimit=\"10.0375\" stroke-width=\"0.711319\"/>\n",
       "</g>\n",
       "<use x=\"207.540935\" y=\"455.209514\" xlink:href=\"#g1-49\"/>\n",
       "<use x=\"213.393926\" y=\"455.209514\" xlink:href=\"#g1-48\"/>\n",
       "<g transform=\"translate(141.803 394.37)scale(.996264)\">\n",
       "<path d=\"M85.7139 64.3744H83.58\" fill=\"none\" stroke=\"#000000\" stroke-linecap=\"round\" stroke-linejoin=\"round\" stroke-miterlimit=\"10.0375\" stroke-width=\"0.426791\"/>\n",
       "</g>\n",
       "<g transform=\"translate(141.803 394.37)scale(.996264)\">\n",
       "<path d=\"M85.7139 71.4875H83.58\" fill=\"none\" stroke=\"#000000\" stroke-linecap=\"round\" stroke-linejoin=\"round\" stroke-miterlimit=\"10.0375\" stroke-width=\"0.426791\"/>\n",
       "</g>\n",
       "<g transform=\"translate(141.803 394.37)scale(.996264)\">\n",
       "<path d=\"M85.7139 78.6007H83.58\" fill=\"none\" stroke=\"#000000\" stroke-linecap=\"round\" stroke-linejoin=\"round\" stroke-miterlimit=\"10.0375\" stroke-width=\"0.426791\"/>\n",
       "</g>\n",
       "<g transform=\"translate(141.803 394.37)scale(.996264)\">\n",
       "<path d=\"M85.7139 28.8084H81.446\" fill=\"none\" stroke=\"#000000\" stroke-linecap=\"round\" stroke-linejoin=\"round\" stroke-miterlimit=\"10.0375\" stroke-width=\"0.711319\"/>\n",
       "</g>\n",
       "<use x=\"207.540935\" y=\"426.863054\" xlink:href=\"#g1-49\"/>\n",
       "<use x=\"213.393926\" y=\"426.863054\" xlink:href=\"#g1-49\"/>\n",
       "<g transform=\"translate(141.803 394.37)scale(.996264)\">\n",
       "<path d=\"M85.7139 35.9216H83.58\" fill=\"none\" stroke=\"#000000\" stroke-linecap=\"round\" stroke-linejoin=\"round\" stroke-miterlimit=\"10.0375\" stroke-width=\"0.426791\"/>\n",
       "</g>\n",
       "<g transform=\"translate(141.803 394.37)scale(.996264)\">\n",
       "<path d=\"M85.7139 43.0348H83.58\" fill=\"none\" stroke=\"#000000\" stroke-linecap=\"round\" stroke-linejoin=\"round\" stroke-miterlimit=\"10.0375\" stroke-width=\"0.426791\"/>\n",
       "</g>\n",
       "<g transform=\"translate(141.803 394.37)scale(.996264)\">\n",
       "<path d=\"M85.7139 50.148H83.58\" fill=\"none\" stroke=\"#000000\" stroke-linecap=\"round\" stroke-linejoin=\"round\" stroke-miterlimit=\"10.0375\" stroke-width=\"0.426791\"/>\n",
       "</g>\n",
       "<g transform=\"translate(141.803 394.37)scale(.996264)\">\n",
       "<path d=\"M114.167 341.789L199.525 256.43L171.072 227.978L85.7139 313.336L114.167 341.789Z\" fill=\"#8080ff\" opacity=\"0.5\"/>\n",
       "</g>\n",
       "<g transform=\"translate(141.803 394.37)scale(.996264)\">\n",
       "<path d=\"M114.167 341.789L199.525 256.43L171.072 227.978L85.7139 313.336L114.167 341.789Z\" fill=\"none\" stroke=\"#0000ff\" stroke-linecap=\"round\" stroke-linejoin=\"round\" stroke-miterlimit=\"10.0375\" stroke-width=\"1.00375\"/>\n",
       "</g>\n",
       "<g transform=\"translate(141.803 394.37)scale(.996264)\">\n",
       "<path d=\"M213.751 356.015L384.468 142.619L356.015 99.9403L185.299 313.336L213.751 356.015Z\" fill=\"#80ff80\" opacity=\"0.5\"/>\n",
       "</g>\n",
       "<g transform=\"translate(141.803 394.37)scale(.996264)\">\n",
       "<path d=\"M213.751 356.015L384.468 142.619L356.015 99.9403L185.299 313.336L213.751 356.015Z\" fill=\"none\" stroke=\"#00ff00\" stroke-linecap=\"round\" stroke-linejoin=\"round\" stroke-miterlimit=\"10.0375\" stroke-width=\"1.00375\"/>\n",
       "</g>\n",
       "</g>\n",
       "</svg>"
      ],
      "text/plain": [
       "<IPython.core.display.SVG object>"
      ]
     },
     "execution_count": 84,
     "metadata": {},
     "output_type": "execute_result"
    }
   ],
   "source": [
    "%%asy --fmt svg\n",
    "import geometry;\n",
    "import coordenades;\n",
    "import graph;\n",
    "\n",
    "unitsize(1cm);\n",
    "\n",
    "pen g = opacity(.5)+lightgreen,\n",
    "    b = opacity(.5)+lightblue;\n",
    "\n",
    "path P = (1,0)--(4,3)--(3,4)--(0,1)--cycle;\n",
    "\n",
    "real B[] = {3,-1};\n",
    "real A[][] = {{3/2,1/2},{1/2,2}};\n",
    "transform tr = TransformacioAfi(B,A);\n",
    "\n",
    "Canonica(-3,12,-3,12);\n",
    "filldraw(P,b,1bp+blue);\n",
    "filldraw(tr*P,g,1bp+green);"
   ]
  },
  {
   "cell_type": "markdown",
   "metadata": {},
   "source": [
    "Per trabar els punts fixos, hem de resoldre el sistema d'equacions\n",
    "$$\n",
    "  \\left(\\begin{array}{c} x \\\\ y \\end{array}\\right)\n",
    "  =\\left(\\begin{array}{r} 3 \\\\ -1 \\end{array}\\right)\n",
    "  +\\frac{1}{2}\\left(\\begin{array}{rr}\n",
    "   3 & 1\\\\\n",
    "   1 & 4\n",
    "  \\end{array}\\right)\n",
    "  \\left(\\begin{array}{c} x \\\\ y \\end{array}\\right)\\,.\n",
    "$$"
   ]
  },
  {
   "cell_type": "code",
   "execution_count": 85,
   "metadata": {},
   "outputs": [
    {
     "data": {
      "text/html": [
       "<html>\\(\\displaystyle \\left(\\frac{3}{2} \\, x + \\frac{1}{2} \\, y + 3,\\,\\frac{1}{2} \\, x + 2 \\, y - 1\\right)\\)</html>"
      ],
      "text/latex": [
       "$\\displaystyle \\left(\\frac{3}{2} \\, x + \\frac{1}{2} \\, y + 3,\\,\\frac{1}{2} \\, x + 2 \\, y - 1\\right)$"
      ],
      "text/plain": [
       "(3/2*x + 1/2*y + 3, 1/2*x + 2*y - 1)"
      ]
     },
     "metadata": {},
     "output_type": "display_data"
    }
   ],
   "source": [
    "x, y = var('x y')\n",
    "X = vector([x,y])\n",
    "A = 1/2*matrix([[3,1],[1,4]])\n",
    "B = vector([3,-1])\n",
    "TX = B + A * X \n",
    "show(TX)"
   ]
  },
  {
   "cell_type": "code",
   "execution_count": 86,
   "metadata": {},
   "outputs": [
    {
     "data": {
      "text/html": [
       "<html>\\(\\displaystyle \\left[\\left[x = \\left(-14\\right), y = 8\\right]\\right]\\)</html>"
      ],
      "text/latex": [
       "$\\displaystyle \\left[\\left[x = \\left(-14\\right), y = 8\\right]\\right]$"
      ],
      "text/plain": [
       "[[x == -14, y == 8]]"
      ]
     },
     "metadata": {},
     "output_type": "display_data"
    }
   ],
   "source": [
    "show(solve([X[i] == TX[i] for i in range(2)],[x,y]))"
   ]
  },
  {
   "cell_type": "markdown",
   "metadata": {},
   "source": [
    "Aquesta transformació afí té un únic punt fix, el $(-14,8)$."
   ]
  },
  {
   "cell_type": "markdown",
   "metadata": {},
   "source": [
    "## Exercici 23\n",
    "Sabent que la transformació afí $T$ del pla transforma els punts\n",
    "$p=\\left(-1,1\\right)$, $q=\\left(2,-2\\right)$ i $r=\\left(-2,-2\\right)$ ens els punts $T(p)=\\left(4,1\\right)$, $T(q)=\\left(-14,7\\right)$ \n",
    "i $T(r)=\\left(-6,11\\right)$, trobeu l'expressió de $T$ en la referència canònica."
   ]
  },
  {
   "cell_type": "markdown",
   "metadata": {},
   "source": [
    "La transformació afí serà de la forma\n",
    "$$\n",
    "  \\left(\\begin{array}{c} u \\\\ v \\end{array}\\right)\n",
    "  = B + A\\left(\\begin{array}{c} x \\\\ y \\end{array}\\right)\n",
    "$$\n",
    "Aleshores tindrem que\n",
    "$$\n",
    "  \\left(\\begin{array}{r} 4 \\\\ 1 \\end{array}\\right)\n",
    "  = B + A\\left(\\begin{array}{r} -1 \\\\ 1 \\end{array}\\right)\\,,\\qquad\n",
    "  \\left(\\begin{array}{r} -14 \\\\ 7 \\end{array}\\right)\n",
    "  = B + A\\left(\\begin{array}{r} 2 \\\\ -2 \\end{array}\\right)\\,,\\qquad\\text{i}\\qquad\n",
    "  \\left(\\begin{array}{r} -6 \\\\ 11 \\end{array}\\right)\n",
    "  = B + A\\left(\\begin{array}{r} -2 \\\\ -2 \\end{array}\\right)\\,,\\qquad\n",
    "$$"
   ]
  },
  {
   "cell_type": "markdown",
   "metadata": {},
   "source": [
    "Si restem la segona igualtat menys la primera, obtenim que\n",
    "$$\n",
    "  \\left(\\begin{array}{r} -18 \\\\ 6 \\end{array}\\right)\n",
    "  =A\\left(\\begin{array}{r} 3 \\\\ -3 \\end{array}\\right)\\,.\n",
    "$$\n",
    "\n",
    "De manera semblant, si restem la tercera menys la primera, tenim que\n",
    "$$\n",
    "  \\left(\\begin{array}{r} -10 \\\\ 10 \\end{array}\\right)\n",
    "  =A\\left(\\begin{array}{r} -1 \\\\ -3 \\end{array}\\right)\\,.\n",
    "$$\n",
    "\n",
    "Per tant, la matriu $A$ ha de complir que\n",
    "$$\n",
    "  A\\left(\\begin{array}{rr} \n",
    "   3 & -1 \\\\\n",
    "  -3 & -3 \n",
    "  \\end{array}\\right)\n",
    "  =\\left(\\begin{array}{rr} \n",
    "   -18 & -10 \\\\\n",
    "     6 &  10 \n",
    "  \\end{array}\\right)\\,.\n",
    "$$"
   ]
  },
  {
   "cell_type": "markdown",
   "metadata": {},
   "source": [
    "D'aquí, podrem calcular la matriu $A$:\n",
    "$$\n",
    "  A=\\left(\\begin{array}{rr} \n",
    "   -18 & -10 \\\\\n",
    "     6 &  10 \n",
    "  \\end{array}\\right)\n",
    "  \\left(\\begin{array}{rr} \n",
    "   3 & -1 \\\\\n",
    "  -1 & -3 \n",
    "  \\end{array}\\right)^{-1}\\,.\n",
    "$$"
   ]
  },
  {
   "cell_type": "markdown",
   "metadata": {},
   "source": [
    "A continuació fem els càlculs"
   ]
  },
  {
   "cell_type": "code",
   "execution_count": 87,
   "metadata": {},
   "outputs": [],
   "source": [
    "p = vector([-1,1])\n",
    "q = vector([2,-2])\n",
    "r = vector([-2,-2])\n",
    "Tp = vector([4,1])\n",
    "Tq = vector([-14,7])\n",
    "Tr = vector([-6,11])"
   ]
  },
  {
   "cell_type": "code",
   "execution_count": 88,
   "metadata": {},
   "outputs": [
    {
     "data": {
      "text/html": [
       "<html>\\(\\displaystyle \\left(\\begin{array}{rr}\n",
       "3 & -1 \\\\\n",
       "-3 & -3\n",
       "\\end{array}\\right)\\)</html>"
      ],
      "text/latex": [
       "$\\displaystyle \\left(\\begin{array}{rr}\n",
       "3 & -1 \\\\\n",
       "-3 & -3\n",
       "\\end{array}\\right)$"
      ],
      "text/plain": [
       "[ 3 -1]\n",
       "[-3 -3]"
      ]
     },
     "metadata": {},
     "output_type": "display_data"
    }
   ],
   "source": [
    "C = matrix([q-p,r-p]).T\n",
    "show(C)"
   ]
  },
  {
   "cell_type": "code",
   "execution_count": 89,
   "metadata": {},
   "outputs": [
    {
     "data": {
      "text/html": [
       "<html>\\(\\displaystyle \\left(\\begin{array}{rr}\n",
       "-18 & -10 \\\\\n",
       "6 & 10\n",
       "\\end{array}\\right)\\)</html>"
      ],
      "text/latex": [
       "$\\displaystyle \\left(\\begin{array}{rr}\n",
       "-18 & -10 \\\\\n",
       "6 & 10\n",
       "\\end{array}\\right)$"
      ],
      "text/plain": [
       "[-18 -10]\n",
       "[  6  10]"
      ]
     },
     "metadata": {},
     "output_type": "display_data"
    }
   ],
   "source": [
    "D = matrix([Tq-Tp,Tr-Tp]).T\n",
    "show(D)"
   ]
  },
  {
   "cell_type": "markdown",
   "metadata": {},
   "source": [
    "Per tant, "
   ]
  },
  {
   "cell_type": "code",
   "execution_count": 90,
   "metadata": {},
   "outputs": [
    {
     "data": {
      "text/html": [
       "<html>\\(\\displaystyle \\left(\\begin{array}{rr}\n",
       "-2 & 4 \\\\\n",
       "-1 & -3\n",
       "\\end{array}\\right)\\)</html>"
      ],
      "text/latex": [
       "$\\displaystyle \\left(\\begin{array}{rr}\n",
       "-2 & 4 \\\\\n",
       "-1 & -3\n",
       "\\end{array}\\right)$"
      ],
      "text/plain": [
       "[-2  4]\n",
       "[-1 -3]"
      ]
     },
     "metadata": {},
     "output_type": "display_data"
    }
   ],
   "source": [
    "A = D * C.inverse()\n",
    "show(A)"
   ]
  },
  {
   "cell_type": "markdown",
   "metadata": {},
   "source": [
    "Finalment, calculem la $B$ a partir de la iguatat\n",
    "$$\n",
    "  \\left(\\begin{array}{r} 4 \\\\ 1 \\end{array}\\right)\n",
    "  = B + A\\left(\\begin{array}{r} -1 \\\\ 1 \\end{array}\\right)\\,.\n",
    "$$"
   ]
  },
  {
   "cell_type": "code",
   "execution_count": 91,
   "metadata": {},
   "outputs": [
    {
     "data": {
      "text/html": [
       "<html>\\(\\displaystyle \\left(-2,\\,3\\right)\\)</html>"
      ],
      "text/latex": [
       "$\\displaystyle \\left(-2,\\,3\\right)$"
      ],
      "text/plain": [
       "(-2, 3)"
      ]
     },
     "metadata": {},
     "output_type": "display_data"
    }
   ],
   "source": [
    "B = Tp - A * p\n",
    "show(B)"
   ]
  },
  {
   "cell_type": "markdown",
   "metadata": {},
   "source": [
    "La representació de la transformació afí $T$ en la referència canònica és\n",
    "$$\n",
    "  \\left(\\begin{array}{c} u \\\\ v \\end{array}\\right)\n",
    "  = \\left(\\begin{array}{r} -2 \\\\ 3 \\end{array}\\right)\n",
    "  + \\left(\\begin{array}{rr}\n",
    "   -2 & 4 \\\\\n",
    "   -1 & -3\n",
    "   \\end{array}\\right)\n",
    "   \\left(\\begin{array}{c} x \\\\ y \\end{array}\\right)\\,.\n",
    "$$"
   ]
  },
  {
   "cell_type": "markdown",
   "metadata": {},
   "source": [
    "## Exercici 24\n",
    "Calculeu la representació en la referència $\\mathcal{R}'=\\big\\{(-1,2); \\, (2,1),(3,2)\\big\\}$ \n",
    "de la transformació afí $T$ de $P_2$ representada en la referència canònica per\n",
    "$$\n",
    "  \\left(\\begin{array}{c} u \\\\ v \\end{array}\\right)\n",
    "  =\\left(\\begin{array}{r} 1 \\\\ 1 \\end{array}\\right)\n",
    "  +\\left(\\begin{array}{rr}\n",
    "  2 & -1\\\\\n",
    "  1 & -1\n",
    "  \\end{array}\\right)\n",
    "  \\left(\\begin{array}{c} x \\\\ y \\end{array}\\right)\\,.\n",
    "$$"
   ]
  },
  {
   "cell_type": "markdown",
   "metadata": {},
   "source": [
    "La fórmula del canvi de coordenades de la referència $\\mathcal{R}'$ a la referència canònica és\n",
    "$$\n",
    "  \\left(\\begin{array}{c} x \\\\ y \\end{array}\\right)\n",
    "  =\\left(\\begin{array}{r} -1 \\\\ 2 \\end{array}\\right)\n",
    "  +\\left(\\begin{array}{rr}\n",
    "  2 & 3\\\\\n",
    "  1 & 2\n",
    "  \\end{array}\\right)\n",
    "  \\left(\\begin{array}{c} x' \\\\ y' \\end{array}\\right)\\qquad\\text{i}\\qquad\n",
    "  \\left(\\begin{array}{c} u \\\\ v \\end{array}\\right)\n",
    "  =\\left(\\begin{array}{r} -1 \\\\ 2 \\end{array}\\right)\n",
    "  +\\left(\\begin{array}{rr}\n",
    "  2 & 3\\\\\n",
    "  1 & 2\n",
    "  \\end{array}\\right)\n",
    "  \\left(\\begin{array}{c} u' \\\\ v' \\end{array}\\right)\n",
    "$$"
   ]
  },
  {
   "cell_type": "markdown",
   "metadata": {},
   "source": [
    "Hem de combinar aquestes igualtats per a obtenir $(u',v')$ en funció de $(x',y')$. Si representem\n",
    "$$\n",
    "  U=\\left(\\begin{array}{c} u \\\\ v \\end{array}\\right)\\,,\\qquad\n",
    "  X=\\left(\\begin{array}{c} x \\\\ y \\end{array}\\right)\\,,\\qquad\n",
    "  U'=\\left(\\begin{array}{c} u' \\\\ v' \\end{array}\\right)\\qquad\\text{i}\\qquad\n",
    "  X'=\\left(\\begin{array}{c} x' \\\\ y' \\end{array}\\right)\\,,\n",
    "$$\n",
    "tindrem que\n",
    "$$\n",
    "   U = P+AX\\,,\\qquad X=O+CX'\\qquad U=O+CU'\\,.\n",
    "$$"
   ]
  },
  {
   "cell_type": "markdown",
   "metadata": {},
   "source": [
    "Aleshores,\n",
    "$$\n",
    "  \\begin{aligned}\n",
    "   U' &= C^{-1}\\big(U-O\\big)=-C^{-1}O+C^{-1}U\\\\\n",
    "      &= -C^{-1}O+C^{-1}\\big(P+AX\\big)=-C^{-1}O+C^{-1}P+C^{-1}AX\\\\\n",
    "      &= C^{-1}\\big(P - O\\big)+C^{-1}A\\big(O+CX'\\big)\\\\\n",
    "      &= C^{-1}\\big(P - O + AO\\big) + C^{-1}ACX'\n",
    "  \\end{aligned}\n",
    "$$"
   ]
  },
  {
   "cell_type": "code",
   "execution_count": 100,
   "metadata": {},
   "outputs": [],
   "source": [
    "O = vector([-1,2])\n",
    "C = matrix([[2,1],[3,2]]).T\n",
    "P = vector([1,1])\n",
    "A = matrix([[2,-1],[1,-1]])"
   ]
  },
  {
   "cell_type": "code",
   "execution_count": 101,
   "metadata": {},
   "outputs": [
    {
     "data": {
      "text/html": [
       "<html>\\(\\displaystyle \\left(8,\\,-6\\right)\\)</html>"
      ],
      "text/latex": [
       "$\\displaystyle \\left(8,\\,-6\\right)$"
      ],
      "text/plain": [
       "(8, -6)"
      ]
     },
     "metadata": {},
     "output_type": "display_data"
    }
   ],
   "source": [
    "B1 = C.inverse()*(P-O+A*O)\n",
    "show(B1)"
   ]
  },
  {
   "cell_type": "code",
   "execution_count": 95,
   "metadata": {
    "tags": []
   },
   "outputs": [
    {
     "data": {
      "text/html": [
       "<html>\\(\\displaystyle \\left(\\begin{array}{rr}\n",
       "3 & 5 \\\\\n",
       "-1 & -2\n",
       "\\end{array}\\right)\\)</html>"
      ],
      "text/latex": [
       "$\\displaystyle \\left(\\begin{array}{rr}\n",
       "3 & 5 \\\\\n",
       "-1 & -2\n",
       "\\end{array}\\right)$"
      ],
      "text/plain": [
       "[ 3  5]\n",
       "[-1 -2]"
      ]
     },
     "metadata": {},
     "output_type": "display_data"
    }
   ],
   "source": [
    "A1 = C.inverse() * A * C\n",
    "show(A1)"
   ]
  },
  {
   "cell_type": "markdown",
   "metadata": {},
   "source": [
    "La representació de la transformació afí en la referència $\\mathcal{R}'$ és\n",
    "$$\n",
    "  \\left(\\begin{array}{c} u' \\\\ v' \\end{array}\\right)\n",
    "  =\\left(\\begin{array}{r} 8 \\\\ -6 \\end{array}\\right)\n",
    "  +\\left(\\begin{array}{rr}\n",
    "   3 &  5\\\\\n",
    "  -1 & -2\n",
    "  \\end{array}\\right)\n",
    "  \\left(\\begin{array}{c} x' \\\\ y' \\end{array}\\right)\\,.\n",
    "$$"
   ]
  },
  {
   "cell_type": "markdown",
   "metadata": {},
   "source": [
    "## Exercici 25\n",
    "Calculeu la representació en la referència $\\mathcal{R}'=\\big\\{(1,2);\\,(1,2),(2,1)\\big\\}$\n",
    "del gir afí d'angle $\\dfrac{3\\pi}{4}$ al voltant del punt $(1,-1)$."
   ]
  },
  {
   "cell_type": "markdown",
   "metadata": {},
   "source": [
    "La matriu del gir vectorial d'angle $\\dfrac{3\\pi}{4}$ és"
   ]
  },
  {
   "cell_type": "code",
   "execution_count": 105,
   "metadata": {},
   "outputs": [
    {
     "data": {
      "text/html": [
       "<html>\\(\\displaystyle \\left(\\begin{array}{rr}\n",
       "-\\frac{1}{2} \\, \\sqrt{2} & -\\frac{1}{2} \\, \\sqrt{2} \\\\\n",
       "\\frac{1}{2} \\, \\sqrt{2} & -\\frac{1}{2} \\, \\sqrt{2}\n",
       "\\end{array}\\right)\\)</html>"
      ],
      "text/latex": [
       "$\\displaystyle \\left(\\begin{array}{rr}\n",
       "-\\frac{1}{2} \\, \\sqrt{2} & -\\frac{1}{2} \\, \\sqrt{2} \\\\\n",
       "\\frac{1}{2} \\, \\sqrt{2} & -\\frac{1}{2} \\, \\sqrt{2}\n",
       "\\end{array}\\right)$"
      ],
      "text/plain": [
       "[-1/2*sqrt(2) -1/2*sqrt(2)]\n",
       "[ 1/2*sqrt(2) -1/2*sqrt(2)]"
      ]
     },
     "metadata": {},
     "output_type": "display_data"
    }
   ],
   "source": [
    "alfa = 3*pi/4\n",
    "A = matrix([[cos(alfa),-sin(alfa)],[sin(alfa),cos(alfa)]])\n",
    "show(A)"
   ]
  },
  {
   "cell_type": "markdown",
   "metadata": {},
   "source": [
    "La representació en la referència canònica del gir afí d'angle $\\dfrac{3\\pi}{4}$ al voltant del punt $(1,-1)$ és\n",
    "$$\n",
    "  \\left(\\begin{array}{c} u \\\\ v \\end{array}\\right)\n",
    "  =\\left(\\begin{array}{r} 1 \\\\ -1 \\end{array}\\right)\n",
    "  +\\frac{1}{\\sqrt{2}}\\left(\\begin{array}{rr}\n",
    "  -1 & -1\\\\\n",
    "   1 & -1\n",
    "  \\end{array}\\right)\n",
    "  \\left(\\begin{array}{c} x - 1\\\\ y + 1 \\end{array}\\right)\\,.\n",
    "$$"
   ]
  },
  {
   "cell_type": "code",
   "execution_count": 110,
   "metadata": {},
   "outputs": [
    {
     "data": {
      "text/html": [
       "<html>\\(\\displaystyle \\left(1,\\,-\\sqrt{2} - 1\\right)\\)</html>"
      ],
      "text/latex": [
       "$\\displaystyle \\left(1,\\,-\\sqrt{2} - 1\\right)$"
      ],
      "text/plain": [
       "(1, -sqrt(2) - 1)"
      ]
     },
     "metadata": {},
     "output_type": "display_data"
    }
   ],
   "source": [
    "F = vector([1,-1])\n",
    "P = F - A*F\n",
    "show(B)"
   ]
  },
  {
   "cell_type": "markdown",
   "metadata": {},
   "source": [
    "és a dir,\n",
    "$$\n",
    "  \\left(\\begin{array}{c} u \\\\ v \\end{array}\\right)\n",
    "  =\\left(\\begin{array}{c} 1 \\\\ -1 - \\sqrt{2} \\end{array}\\right)\n",
    "  +\\frac{1}{\\sqrt{2}}\\left(\\begin{array}{rr}\n",
    "  -1 & -1\\\\\n",
    "   1 & -1\n",
    "  \\end{array}\\right)\n",
    "  \\left(\\begin{array}{c} x\\\\ y \\end{array}\\right)\\,.\n",
    "$$"
   ]
  },
  {
   "cell_type": "markdown",
   "metadata": {},
   "source": [
    "Per calcular la representació en la referència $\\mathcal{R}'=\\{(1,2);\\,(1,2),(2,1)\\}$, hem de procedir com a l'exercici anterior:"
   ]
  },
  {
   "cell_type": "code",
   "execution_count": 111,
   "metadata": {},
   "outputs": [],
   "source": [
    "O = vector([1,2])\n",
    "C = matrix([[1,2],[2,1]]).T"
   ]
  },
  {
   "cell_type": "code",
   "execution_count": 112,
   "metadata": {},
   "outputs": [
    {
     "data": {
      "text/html": [
       "<html>\\(\\displaystyle \\left(-\\frac{1}{2} \\, \\sqrt{2} - 2,\\,-\\frac{1}{2} \\, \\sqrt{2} + 1\\right)\\)</html>"
      ],
      "text/latex": [
       "$\\displaystyle \\left(-\\frac{1}{2} \\, \\sqrt{2} - 2,\\,-\\frac{1}{2} \\, \\sqrt{2} + 1\\right)$"
      ],
      "text/plain": [
       "(-1/2*sqrt(2) - 2, -1/2*sqrt(2) + 1)"
      ]
     },
     "metadata": {},
     "output_type": "display_data"
    }
   ],
   "source": [
    "B1 = C.inverse()*(P-O+A*O)\n",
    "show(B1)"
   ]
  },
  {
   "cell_type": "code",
   "execution_count": 113,
   "metadata": {},
   "outputs": [
    {
     "data": {
      "text/html": [
       "<html>\\(\\displaystyle \\left(\\begin{array}{rr}\n",
       "\\frac{1}{6} \\, \\sqrt{2} & \\frac{5}{6} \\, \\sqrt{2} \\\\\n",
       "-\\frac{5}{6} \\, \\sqrt{2} & -\\frac{7}{6} \\, \\sqrt{2}\n",
       "\\end{array}\\right)\\)</html>"
      ],
      "text/latex": [
       "$\\displaystyle \\left(\\begin{array}{rr}\n",
       "\\frac{1}{6} \\, \\sqrt{2} & \\frac{5}{6} \\, \\sqrt{2} \\\\\n",
       "-\\frac{5}{6} \\, \\sqrt{2} & -\\frac{7}{6} \\, \\sqrt{2}\n",
       "\\end{array}\\right)$"
      ],
      "text/plain": [
       "[ 1/6*sqrt(2)  5/6*sqrt(2)]\n",
       "[-5/6*sqrt(2) -7/6*sqrt(2)]"
      ]
     },
     "metadata": {},
     "output_type": "display_data"
    }
   ],
   "source": [
    "A1 = C.inverse() * A * C\n",
    "show(A1)"
   ]
  },
  {
   "cell_type": "markdown",
   "metadata": {},
   "source": [
    "Per tant, la representació en la referència $\\mathcal{R}'$ és\n",
    "$$\n",
    "  \\left(\\begin{array}{c} u' \\\\ v' \\end{array}\\right)\n",
    "  =\\frac{1}{2}\\left(\\begin{array}{c} -4-\\sqrt{2} \\\\ 2 - \\sqrt{2} \\end{array}\\right)\n",
    "  +\\frac{1}{3\\sqrt{2}}\\left(\\begin{array}{rr}\n",
    "   1 &  5\\\\\n",
    "  -5 & -7\n",
    "  \\end{array}\\right)\n",
    "  \\left(\\begin{array}{c} x'\\\\ y' \\end{array}\\right)\\,.\n",
    "$$"
   ]
  },
  {
   "cell_type": "markdown",
   "metadata": {},
   "source": [
    "## Exercici 26\n",
    "Siguin $G_1$ el gir de $120^\\circ$ al voltant del punt $(2,3)$ i $G_2$ el gir de $-30^\\circ$ al voltant del punt $(1,-3)$.\n",
    "1. Trobeu la representació en la referència canònica de la transformació afí que consisteix en aplicar primer $G_2$ i després $G_1$.\n",
    "1. Representeu en què es transforma el triangle de vèrtexs $(5,1)$, $(3,8)$ i $(-2,-1)$.\n",
    "1. Trobeu un punt fix de la transformació afí."
   ]
  },
  {
   "cell_type": "markdown",
   "metadata": {},
   "source": [
    "Recordem que la representació en la referència canònica d'un gir d'angle $\\alpha$ al voltant del punt $(x_0,y_0)$ és\n",
    "$$\n",
    "  \\left(\\begin{array}{c} u \\\\ v  \\end{array}\\right)\n",
    "  = \\left(\\begin{array}{c} x_0 \\\\ y_0  \\end{array}\\right)\n",
    "  + \\left(\\begin{array}{rr}\n",
    "   \\cos\\alpha & -\\sin\\alpha \\\\\n",
    "   \\sin\\alpha & \\cos\\alpha\n",
    "  \\end{array}\\right)\n",
    "  \\left(\\begin{array}{c} x-x_0 \\\\ y-y_0\\end{array}\\right)=\n",
    "  \\left(\\begin{array}{c} x_0 \\\\ y_0  \\end{array}\\right)\n",
    "  -\\left(\\begin{array}{rr}\n",
    "   \\cos\\alpha & -\\sin\\alpha \\\\\n",
    "   \\sin\\alpha & \\cos\\alpha\n",
    "  \\end{array}\\right)\n",
    "  \\left(\\begin{array}{c} x_0 \\\\ y_0\\end{array}\\right)\n",
    "  + \\left(\\begin{array}{rr}\n",
    "   \\cos\\alpha & -\\sin\\alpha \\\\\n",
    "   \\sin\\alpha & \\cos\\alpha\n",
    "  \\end{array}\\right)\n",
    "  \\left(\\begin{array}{c} x \\\\ y\\end{array}\\right)\n",
    "$$"
   ]
  },
  {
   "cell_type": "markdown",
   "metadata": {},
   "source": [
    "En el cas de $G_1$, tenim que"
   ]
  },
  {
   "cell_type": "code",
   "execution_count": 114,
   "metadata": {},
   "outputs": [
    {
     "data": {
      "text/html": [
       "<html>\\(\\displaystyle \\left(\\begin{array}{rr}\n",
       "-\\frac{1}{2} & -\\frac{1}{2} \\, \\sqrt{3} \\\\\n",
       "\\frac{1}{2} \\, \\sqrt{3} & -\\frac{1}{2}\n",
       "\\end{array}\\right)\\)</html>"
      ],
      "text/latex": [
       "$\\displaystyle \\left(\\begin{array}{rr}\n",
       "-\\frac{1}{2} & -\\frac{1}{2} \\, \\sqrt{3} \\\\\n",
       "\\frac{1}{2} \\, \\sqrt{3} & -\\frac{1}{2}\n",
       "\\end{array}\\right)$"
      ],
      "text/plain": [
       "[        -1/2 -1/2*sqrt(3)]\n",
       "[ 1/2*sqrt(3)         -1/2]"
      ]
     },
     "metadata": {},
     "output_type": "display_data"
    }
   ],
   "source": [
    "alfa = 120*pi/180\n",
    "A = matrix([[cos(alfa),-sin(alfa)],[sin(alfa),cos(alfa)]])\n",
    "F1 = vector([2,3])\n",
    "show(A)"
   ]
  },
  {
   "cell_type": "code",
   "execution_count": 115,
   "metadata": {},
   "outputs": [
    {
     "data": {
      "text/html": [
       "<html>\\(\\displaystyle \\left(\\frac{3}{2} \\, \\sqrt{3} + 3,\\,-\\sqrt{3} + \\frac{9}{2}\\right)\\)</html>"
      ],
      "text/latex": [
       "$\\displaystyle \\left(\\frac{3}{2} \\, \\sqrt{3} + 3,\\,-\\sqrt{3} + \\frac{9}{2}\\right)$"
      ],
      "text/plain": [
       "(3/2*sqrt(3) + 3, -sqrt(3) + 9/2)"
      ]
     },
     "metadata": {},
     "output_type": "display_data"
    }
   ],
   "source": [
    "P = F1-A*F1\n",
    "show(P)"
   ]
  },
  {
   "cell_type": "markdown",
   "metadata": {},
   "source": [
    "La representació de $G_1$ en la referència canònica és\n",
    "$$\n",
    "  \\left(\\begin{array}{c} u \\\\ v  \\end{array}\\right)\n",
    "  =\\frac{1}{2}\\left(\\begin{array}{c} 6+3\\sqrt{3} \\\\ 9-2\\sqrt{3} \\end{array}\\right)\n",
    "  + \\frac{1}{2}\\left(\\begin{array}{rr}\n",
    "     -1     & -\\sqrt{3} \\\\\n",
    "   \\sqrt{3} &    -1\n",
    "  \\end{array}\\right)\n",
    "  \\left(\\begin{array}{c} x \\\\ y\\end{array}\\right)\\,.\n",
    "$$"
   ]
  },
  {
   "cell_type": "markdown",
   "metadata": {},
   "source": [
    "Per a $G_2$ tenim que"
   ]
  },
  {
   "cell_type": "code",
   "execution_count": 116,
   "metadata": {},
   "outputs": [
    {
     "data": {
      "text/html": [
       "<html>\\(\\displaystyle \\left(\\begin{array}{rr}\n",
       "\\frac{1}{2} \\, \\sqrt{3} & \\frac{1}{2} \\\\\n",
       "-\\frac{1}{2} & \\frac{1}{2} \\, \\sqrt{3}\n",
       "\\end{array}\\right)\\)</html>"
      ],
      "text/latex": [
       "$\\displaystyle \\left(\\begin{array}{rr}\n",
       "\\frac{1}{2} \\, \\sqrt{3} & \\frac{1}{2} \\\\\n",
       "-\\frac{1}{2} & \\frac{1}{2} \\, \\sqrt{3}\n",
       "\\end{array}\\right)$"
      ],
      "text/plain": [
       "[1/2*sqrt(3)         1/2]\n",
       "[       -1/2 1/2*sqrt(3)]"
      ]
     },
     "metadata": {},
     "output_type": "display_data"
    }
   ],
   "source": [
    "beta = -30*pi/180\n",
    "B = matrix([[cos(beta),-sin(beta)],[sin(beta),cos(beta)]])\n",
    "F2 = vector([1,-3])\n",
    "show(B)"
   ]
  },
  {
   "cell_type": "code",
   "execution_count": 117,
   "metadata": {},
   "outputs": [
    {
     "data": {
      "text/html": [
       "<html>\\(\\displaystyle \\left(-\\frac{1}{2} \\, \\sqrt{3} + \\frac{5}{2},\\,\\frac{3}{2} \\, \\sqrt{3} - \\frac{5}{2}\\right)\\)</html>"
      ],
      "text/latex": [
       "$\\displaystyle \\left(-\\frac{1}{2} \\, \\sqrt{3} + \\frac{5}{2},\\,\\frac{3}{2} \\, \\sqrt{3} - \\frac{5}{2}\\right)$"
      ],
      "text/plain": [
       "(-1/2*sqrt(3) + 5/2, 3/2*sqrt(3) - 5/2)"
      ]
     },
     "metadata": {},
     "output_type": "display_data"
    }
   ],
   "source": [
    "Q = F2-B*F2\n",
    "show(Q)"
   ]
  },
  {
   "cell_type": "markdown",
   "metadata": {},
   "source": [
    "La representació de $G_2$ en la referència canònica és\n",
    "$$\n",
    "  \\left(\\begin{array}{c} u \\\\ v  \\end{array}\\right)\n",
    "  =\\frac{1}{2}\\left(\\begin{array}{c} 5-\\sqrt{3} \\\\ -5+3\\sqrt{3} \\end{array}\\right)\n",
    "  + \\frac{1}{2}\\left(\\begin{array}{rr}\n",
    "   \\sqrt{3} &    1 \\\\\n",
    "      -1    & \\sqrt{3}\n",
    "  \\end{array}\\right)\n",
    "  \\left(\\begin{array}{c} x \\\\ y\\end{array}\\right)\n",
    "$$"
   ]
  },
  {
   "cell_type": "markdown",
   "metadata": {},
   "source": [
    "Aleshores, si primer apliquem $G_2$ i després $G_1$, tindrem la transformació afí\n",
    "$$\n",
    "  \\left(\\begin{array}{c} u \\\\ v  \\end{array}\\right)\n",
    "  =\\frac{1}{2}\\left(\\begin{array}{c} 6+3\\sqrt{3} \\\\ 9-2\\sqrt{3} \\end{array}\\right)\n",
    "     + \\frac{1}{2}\\left(\\begin{array}{rr}\n",
    "       -1     & -\\sqrt{3} \\\\\n",
    "     \\sqrt{3} &    -1\n",
    "    \\end{array}\\right)\n",
    "  \\left[\n",
    "    \\frac{1}{2}\\left(\\begin{array}{c} 5-\\sqrt{3} \\\\ -5+3\\sqrt{3} \\end{array}\\right)\n",
    "    + \\frac{1}{2}\\left(\\begin{array}{rr}\n",
    "     \\sqrt{3} &    1 \\\\\n",
    "      -1    & \\sqrt{3}\n",
    "    \\end{array}\\right)\n",
    "    \\left(\\begin{array}{c} x \\\\ y  \\end{array}\\right)\n",
    "  \\right]\\,.\n",
    "$$"
   ]
  },
  {
   "cell_type": "code",
   "execution_count": 118,
   "metadata": {},
   "outputs": [
    {
     "data": {
      "text/html": [
       "<html>\\(\\displaystyle \\left(\\begin{array}{rr}\n",
       "0 & -1 \\\\\n",
       "1 & 0\n",
       "\\end{array}\\right)\\)</html>"
      ],
      "text/latex": [
       "$\\displaystyle \\left(\\begin{array}{rr}\n",
       "0 & -1 \\\\\n",
       "1 & 0\n",
       "\\end{array}\\right)$"
      ],
      "text/plain": [
       "[ 0 -1]\n",
       "[ 1  0]"
      ]
     },
     "metadata": {},
     "output_type": "display_data"
    }
   ],
   "source": [
    "show(A*B)"
   ]
  },
  {
   "cell_type": "code",
   "execution_count": 119,
   "metadata": {},
   "outputs": [
    {
     "data": {
      "text/html": [
       "<html>\\(\\displaystyle \\left(3 \\, \\sqrt{3} - \\frac{1}{2},\\,-\\frac{1}{2} \\, \\sqrt{3} + 5\\right)\\)</html>"
      ],
      "text/latex": [
       "$\\displaystyle \\left(3 \\, \\sqrt{3} - \\frac{1}{2},\\,-\\frac{1}{2} \\, \\sqrt{3} + 5\\right)$"
      ],
      "text/plain": [
       "(3*sqrt(3) - 1/2, -1/2*sqrt(3) + 5)"
      ]
     },
     "metadata": {},
     "output_type": "display_data"
    }
   ],
   "source": [
    "R = simplificar_radicals(P+A*Q)\n",
    "show(R)"
   ]
  },
  {
   "cell_type": "markdown",
   "metadata": {},
   "source": [
    "Així doncs, la representació en la referència canònica és\n",
    "$$\n",
    "  \\left(\\begin{array}{c} u \\\\ v  \\end{array}\\right)\n",
    "  =\\frac{1}{2}\\left(\\begin{array}{c} -1+6\\sqrt{3} \\\\ 10-\\sqrt{3} \\end{array}\\right)\n",
    "  +\\left(\\begin{array}{rr}\n",
    "     0 & -1 \\\\\n",
    "     1 &  0\n",
    "  \\end{array}\\right)\n",
    "  \\left(\\begin{array}{c} x \\\\ y\\end{array}\\right)\\,.\n",
    "$$"
   ]
  },
  {
   "cell_type": "markdown",
   "metadata": {},
   "source": [
    "2. Per fer el gràfic hem de calcular els transformats de cada vèrtex del triangle:"
   ]
  },
  {
   "cell_type": "code",
   "execution_count": 120,
   "metadata": {},
   "outputs": [
    {
     "data": {
      "image/svg+xml": [
       "<svg xmlns=\"http://www.w3.org/2000/svg\" xmlns:xlink=\"http://www.w3.org/1999/xlink\" version=\"1.1\" width=\"567.637796pt\" height=\"397.559055pt\" viewBox=\"340.228346 337.677165 567.637796 397.559055\">\n",
       "<defs>\n",
       "<path id=\"g0-0\" d=\"M7.878456-2.749689C8.081694-2.749689 8.296887-2.749689 8.296887-2.988792S8.081694-3.227895 7.878456-3.227895H1.41071C1.207472-3.227895 .992279-3.227895 .992279-2.988792S1.207472-2.749689 1.41071-2.749689H7.878456Z\"/>\n",
       "<path id=\"g1-49\" d=\"M3.443088-7.663263C3.443088-7.938232 3.443088-7.950187 3.203985-7.950187C2.917061-7.627397 2.319303-7.185056 1.08792-7.185056V-6.838356C1.362889-6.838356 1.960648-6.838356 2.618182-7.149191V-.920548C2.618182-.490162 2.582316-.3467 1.530262-.3467H1.159651V0C1.482441-.02391 2.642092-.02391 3.036613-.02391S4.578829-.02391 4.901619 0V-.3467H4.531009C3.478954-.3467 3.443088-.490162 3.443088-.920548V-7.663263Z\"/>\n",
       "<path id=\"g1-50\" d=\"M5.260274-2.008468H4.99726C4.961395-1.80523 4.865753-1.147696 4.746202-.956413C4.662516-.848817 3.981071-.848817 3.622416-.848817H1.41071C1.733499-1.123786 2.462765-1.888917 2.773599-2.175841C4.590785-3.849564 5.260274-4.471233 5.260274-5.654795C5.260274-7.029639 4.172354-7.950187 2.785554-7.950187S.585803-6.766625 .585803-5.738481C.585803-5.128767 1.111831-5.128767 1.147696-5.128767C1.398755-5.128767 1.709589-5.308095 1.709589-5.69066C1.709589-6.025405 1.482441-6.252553 1.147696-6.252553C1.0401-6.252553 1.016189-6.252553 .980324-6.240598C1.207472-7.053549 1.853051-7.603487 2.630137-7.603487C3.646326-7.603487 4.267995-6.75467 4.267995-5.654795C4.267995-4.638605 3.682192-3.753923 3.000747-2.988792L.585803-.286924V0H4.94944L5.260274-2.008468Z\"/>\n",
       "<path id=\"g1-51\" d=\"M2.199751-4.291905C1.996513-4.27995 1.948692-4.267995 1.948692-4.160399C1.948692-4.040847 2.008468-4.040847 2.223661-4.040847H2.773599C3.789788-4.040847 4.244085-3.203985 4.244085-2.056289C4.244085-.490162 3.431133-.071731 2.84533-.071731C2.271482-.071731 1.291158-.3467 .944458-1.135741C1.327024-1.075965 1.673724-1.291158 1.673724-1.721544C1.673724-2.068244 1.422665-2.307347 1.08792-2.307347C.800996-2.307347 .490162-2.139975 .490162-1.685679C.490162-.621669 1.554172 .251059 2.881196 .251059C4.303861 .251059 5.355915-.836862 5.355915-2.044334C5.355915-3.144209 4.471233-4.004981 3.323537-4.208219C4.363636-4.507098 5.033126-5.379826 5.033126-6.312329C5.033126-7.256787 4.052802-7.950187 2.893151-7.950187C1.697634-7.950187 .812951-7.220922 .812951-6.348194C.812951-5.869988 1.183562-5.774346 1.362889-5.774346C1.613948-5.774346 1.900872-5.953674 1.900872-6.312329C1.900872-6.694894 1.613948-6.862267 1.350934-6.862267C1.279203-6.862267 1.255293-6.862267 1.219427-6.850311C1.673724-7.663263 2.797509-7.663263 2.857285-7.663263C3.251806-7.663263 4.028892-7.483935 4.028892-6.312329C4.028892-6.085181 3.993026-5.415691 3.646326-4.901619C3.287671-4.375592 2.881196-4.339726 2.558406-4.327771L2.199751-4.291905Z\"/>\n",
       "<path id=\"g1-52\" d=\"M4.315816-7.782814C4.315816-8.009963 4.315816-8.069738 4.148443-8.069738C4.052802-8.069738 4.016936-8.069738 3.921295-7.926276L.32279-2.343213V-1.996513H3.466999V-.908593C3.466999-.466252 3.443088-.3467 2.570361-.3467H2.331258V0C2.606227-.02391 3.550685-.02391 3.88543-.02391S5.176588-.02391 5.451557 0V-.3467H5.212453C4.351681-.3467 4.315816-.466252 4.315816-.908593V-1.996513H5.523288V-2.343213H4.315816V-7.782814ZM3.526775-6.850311V-2.343213H.621669L3.526775-6.850311Z\"/>\n",
       "<path id=\"g1-53\" d=\"M1.530262-6.850311C2.044334-6.682939 2.462765-6.670984 2.594271-6.670984C3.945205-6.670984 4.805978-7.663263 4.805978-7.830635C4.805978-7.878456 4.782067-7.938232 4.710336-7.938232C4.686426-7.938232 4.662516-7.938232 4.554919-7.890411C3.88543-7.603487 3.311582-7.567621 3.000747-7.567621C2.211706-7.567621 1.649813-7.806725 1.422665-7.902366C1.338979-7.938232 1.315068-7.938232 1.303113-7.938232C1.207472-7.938232 1.207472-7.866501 1.207472-7.675218V-4.124533C1.207472-3.90934 1.207472-3.837609 1.350934-3.837609C1.41071-3.837609 1.422665-3.849564 1.542217-3.993026C1.876961-4.483188 2.438854-4.770112 3.036613-4.770112C3.670237-4.770112 3.981071-4.184309 4.076712-3.981071C4.27995-3.514819 4.291905-2.929016 4.291905-2.47472S4.291905-1.338979 3.957161-.800996C3.694147-.37061 3.227895-.071731 2.701868-.071731C1.912827-.071731 1.135741-.609714 .920548-1.482441C.980324-1.458531 1.052055-1.446575 1.111831-1.446575C1.315068-1.446575 1.637858-1.566127 1.637858-1.972603C1.637858-2.307347 1.41071-2.49863 1.111831-2.49863C.896638-2.49863 .585803-2.391034 .585803-1.924782C.585803-.908593 1.398755 .251059 2.725778 .251059C4.076712 .251059 5.260274-.884682 5.260274-2.402989C5.260274-3.825654 4.303861-5.009215 3.048568-5.009215C2.367123-5.009215 1.841096-4.710336 1.530262-4.375592V-6.850311Z\"/>\n",
       "<path id=\"g1-54\" d=\"M1.470486-4.160399C1.470486-7.185056 2.940971-7.663263 3.58655-7.663263C4.016936-7.663263 4.447323-7.531756 4.674471-7.173101C4.531009-7.173101 4.076712-7.173101 4.076712-6.682939C4.076712-6.419925 4.25604-6.192777 4.566874-6.192777C4.865753-6.192777 5.068991-6.372105 5.068991-6.718804C5.068991-7.340473 4.614695-7.950187 3.574595-7.950187C2.068244-7.950187 .490162-6.40797 .490162-3.777833C.490162-.490162 1.924782 .251059 2.940971 .251059C4.244085 .251059 5.355915-.884682 5.355915-2.438854C5.355915-4.028892 4.244085-5.092902 3.048568-5.092902C1.984558-5.092902 1.590037-4.172354 1.470486-3.837609V-4.160399ZM2.940971-.071731C2.187796-.071731 1.829141-.74122 1.721544-.992279C1.613948-1.303113 1.494396-1.888917 1.494396-2.725778C1.494396-3.670237 1.924782-4.853798 3.000747-4.853798C3.658281-4.853798 4.004981-4.411457 4.184309-4.004981C4.375592-3.56264 4.375592-2.964882 4.375592-2.450809C4.375592-1.841096 4.375592-1.303113 4.148443-.848817C3.849564-.274969 3.419178-.071731 2.940971-.071731Z\"/>\n",
       "<path id=\"g1-55\" d=\"M5.678705-7.424159V-7.699128H2.797509C1.350934-7.699128 1.327024-7.854545 1.279203-8.081694H1.016189L.645579-5.69066H.908593C.944458-5.905853 1.052055-6.647073 1.207472-6.77858C1.303113-6.850311 2.199751-6.850311 2.367123-6.850311H4.901619L3.634371-5.033126C3.311582-4.566874 2.10411-2.606227 2.10411-.358655C2.10411-.227148 2.10411 .251059 2.594271 .251059C3.096389 .251059 3.096389-.215193 3.096389-.37061V-.968369C3.096389-2.749689 3.383313-4.136488 3.945205-4.937484L5.678705-7.424159Z\"/>\n",
       "<path id=\"g1-56\" d=\"M3.56264-4.315816C4.160399-4.638605 5.033126-5.188543 5.033126-6.192777C5.033126-7.232877 4.028892-7.950187 2.929016-7.950187C1.745455-7.950187 .812951-7.07746 .812951-5.989539C.812951-5.583064 .932503-5.176588 1.267248-4.770112C1.398755-4.614695 1.41071-4.60274 2.247572-4.016936C1.08792-3.478954 .490162-2.677958 .490162-1.80523C.490162-.537983 1.697634 .251059 2.917061 .251059C4.244085 .251059 5.355915-.729265 5.355915-1.984558C5.355915-3.203985 4.495143-3.741968 3.56264-4.315816ZM1.936737-5.391781C1.78132-5.499377 1.303113-5.810212 1.303113-6.396015C1.303113-7.173101 2.116065-7.663263 2.917061-7.663263C3.777833-7.663263 4.542964-7.041594 4.542964-6.180822C4.542964-5.451557 4.016936-4.865753 3.323537-4.483188L1.936737-5.391781ZM2.49863-3.849564L3.945205-2.905106C4.25604-2.701868 4.805978-2.331258 4.805978-1.601993C4.805978-.6934 3.88543-.071731 2.929016-.071731C1.912827-.071731 1.0401-.812951 1.0401-1.80523C1.0401-2.737733 1.721544-3.490909 2.49863-3.849564Z\"/>\n",
       "<path id=\"g1-57\" d=\"M4.375592-3.478954C4.375592-.657534 3.120299-.071731 2.402989-.071731C2.116065-.071731 1.482441-.107597 1.183562-.526027H1.255293C1.338979-.502117 1.769365-.573848 1.769365-1.016189C1.769365-1.279203 1.590037-1.506351 1.279203-1.506351S.777086-1.303113 .777086-.992279C.777086-.251059 1.374844 .251059 2.414944 .251059C3.90934 .251059 5.355915-1.338979 5.355915-3.93325C5.355915-7.149191 4.016936-7.950187 2.964882-7.950187C1.649813-7.950187 .490162-6.850311 .490162-5.272229S1.601993-2.618182 2.797509-2.618182C3.682192-2.618182 4.136488-3.263761 4.375592-3.873474V-3.478954ZM2.84533-2.857285C2.092154-2.857285 1.769365-3.466999 1.661768-3.694147C1.470486-4.148443 1.470486-4.722291 1.470486-5.260274C1.470486-5.929763 1.470486-6.503611 1.78132-6.993773C1.996513-7.316563 2.319303-7.663263 2.964882-7.663263C3.646326-7.663263 3.993026-7.065504 4.112578-6.790535C4.351681-6.204732 4.351681-5.188543 4.351681-5.009215C4.351681-4.004981 3.897385-2.857285 2.84533-2.857285Z\"/>\n",
       "</defs>\n",
       "<g id=\"page1\">\n",
       "<g transform=\"translate(340.228 337.677)scale(.996264)\">\n",
       "<path d=\"M.355659 398.694V.355659\" fill=\"none\" stroke=\"#cccccc\" stroke-linecap=\"round\" stroke-linejoin=\"round\" stroke-miterlimit=\"10.0375\" stroke-width=\"0.426791\"/>\n",
       "</g>\n",
       "<g transform=\"translate(340.228 337.677)scale(.996264)\">\n",
       "<path d=\"M7.46885 398.694V.355659\" fill=\"none\" stroke=\"#cccccc\" stroke-dasharray=\"0,0.683086\" stroke-linecap=\"round\" stroke-linejoin=\"round\" stroke-miterlimit=\"10.0375\" stroke-width=\"0.170717\"/>\n",
       "</g>\n",
       "<g transform=\"translate(340.228 337.677)scale(.996264)\">\n",
       "<path d=\"M14.582 398.694V.355659\" fill=\"none\" stroke=\"#cccccc\" stroke-dasharray=\"0,0.683086\" stroke-linecap=\"round\" stroke-linejoin=\"round\" stroke-miterlimit=\"10.0375\" stroke-width=\"0.170717\"/>\n",
       "</g>\n",
       "<g transform=\"translate(340.228 337.677)scale(.996264)\">\n",
       "<path d=\"M21.6952 398.694V.355659\" fill=\"none\" stroke=\"#cccccc\" stroke-dasharray=\"0,0.683086\" stroke-linecap=\"round\" stroke-linejoin=\"round\" stroke-miterlimit=\"10.0375\" stroke-width=\"0.170717\"/>\n",
       "</g>\n",
       "<g transform=\"translate(340.228 337.677)scale(.996264)\">\n",
       "<path d=\"M28.8084 398.694V.355659\" fill=\"none\" stroke=\"#cccccc\" stroke-linecap=\"round\" stroke-linejoin=\"round\" stroke-miterlimit=\"10.0375\" stroke-width=\"0.426791\"/>\n",
       "</g>\n",
       "<g transform=\"translate(340.228 337.677)scale(.996264)\">\n",
       "<path d=\"M35.9216 398.694V.355659\" fill=\"none\" stroke=\"#cccccc\" stroke-dasharray=\"0,0.683086\" stroke-linecap=\"round\" stroke-linejoin=\"round\" stroke-miterlimit=\"10.0375\" stroke-width=\"0.170717\"/>\n",
       "</g>\n",
       "<g transform=\"translate(340.228 337.677)scale(.996264)\">\n",
       "<path d=\"M43.0348 398.694V.355659\" fill=\"none\" stroke=\"#cccccc\" stroke-dasharray=\"0,0.683086\" stroke-linecap=\"round\" stroke-linejoin=\"round\" stroke-miterlimit=\"10.0375\" stroke-width=\"0.170717\"/>\n",
       "</g>\n",
       "<g transform=\"translate(340.228 337.677)scale(.996264)\">\n",
       "<path d=\"M50.148 398.694V.355659\" fill=\"none\" stroke=\"#cccccc\" stroke-dasharray=\"0,0.683086\" stroke-linecap=\"round\" stroke-linejoin=\"round\" stroke-miterlimit=\"10.0375\" stroke-width=\"0.170717\"/>\n",
       "</g>\n",
       "<g transform=\"translate(340.228 337.677)scale(.996264)\">\n",
       "<path d=\"M57.2612 398.694V.355659\" fill=\"none\" stroke=\"#cccccc\" stroke-linecap=\"round\" stroke-linejoin=\"round\" stroke-miterlimit=\"10.0375\" stroke-width=\"0.426791\"/>\n",
       "</g>\n",
       "<g transform=\"translate(340.228 337.677)scale(.996264)\">\n",
       "<path d=\"M64.3744 398.694V.355659\" fill=\"none\" stroke=\"#cccccc\" stroke-dasharray=\"0,0.683086\" stroke-linecap=\"round\" stroke-linejoin=\"round\" stroke-miterlimit=\"10.0375\" stroke-width=\"0.170717\"/>\n",
       "</g>\n",
       "<g transform=\"translate(340.228 337.677)scale(.996264)\">\n",
       "<path d=\"M71.4875 398.694V.355659\" fill=\"none\" stroke=\"#cccccc\" stroke-dasharray=\"0,0.683086\" stroke-linecap=\"round\" stroke-linejoin=\"round\" stroke-miterlimit=\"10.0375\" stroke-width=\"0.170717\"/>\n",
       "</g>\n",
       "<g transform=\"translate(340.228 337.677)scale(.996264)\">\n",
       "<path d=\"M78.6007 398.694V.355659\" fill=\"none\" stroke=\"#cccccc\" stroke-dasharray=\"0,0.683086\" stroke-linecap=\"round\" stroke-linejoin=\"round\" stroke-miterlimit=\"10.0375\" stroke-width=\"0.170717\"/>\n",
       "</g>\n",
       "<g transform=\"translate(340.228 337.677)scale(.996264)\">\n",
       "<path d=\"M85.7139 398.694V.355659\" fill=\"none\" stroke=\"#cccccc\" stroke-linecap=\"round\" stroke-linejoin=\"round\" stroke-miterlimit=\"10.0375\" stroke-width=\"0.426791\"/>\n",
       "</g>\n",
       "<g transform=\"translate(340.228 337.677)scale(.996264)\">\n",
       "<path d=\"M92.8271 398.694V.355659\" fill=\"none\" stroke=\"#cccccc\" stroke-dasharray=\"0,0.683086\" stroke-linecap=\"round\" stroke-linejoin=\"round\" stroke-miterlimit=\"10.0375\" stroke-width=\"0.170717\"/>\n",
       "</g>\n",
       "<g transform=\"translate(340.228 337.677)scale(.996264)\">\n",
       "<path d=\"M99.9403 398.694V.355659\" fill=\"none\" stroke=\"#cccccc\" stroke-dasharray=\"0,0.683086\" stroke-linecap=\"round\" stroke-linejoin=\"round\" stroke-miterlimit=\"10.0375\" stroke-width=\"0.170717\"/>\n",
       "</g>\n",
       "<g transform=\"translate(340.228 337.677)scale(.996264)\">\n",
       "<path d=\"M107.053 398.694V.355659\" fill=\"none\" stroke=\"#cccccc\" stroke-dasharray=\"0,0.683086\" stroke-linecap=\"round\" stroke-linejoin=\"round\" stroke-miterlimit=\"10.0375\" stroke-width=\"0.170717\"/>\n",
       "</g>\n",
       "<g transform=\"translate(340.228 337.677)scale(.996264)\">\n",
       "<path d=\"M114.167 398.694V.355659\" fill=\"none\" stroke=\"#cccccc\" stroke-linecap=\"round\" stroke-linejoin=\"round\" stroke-miterlimit=\"10.0375\" stroke-width=\"0.426791\"/>\n",
       "</g>\n",
       "<g transform=\"translate(340.228 337.677)scale(.996264)\">\n",
       "<path d=\"M121.28 398.694V.355659\" fill=\"none\" stroke=\"#cccccc\" stroke-dasharray=\"0,0.683086\" stroke-linecap=\"round\" stroke-linejoin=\"round\" stroke-miterlimit=\"10.0375\" stroke-width=\"0.170717\"/>\n",
       "</g>\n",
       "<g transform=\"translate(340.228 337.677)scale(.996264)\">\n",
       "<path d=\"M128.393 398.694V.355659\" fill=\"none\" stroke=\"#cccccc\" stroke-dasharray=\"0,0.683086\" stroke-linecap=\"round\" stroke-linejoin=\"round\" stroke-miterlimit=\"10.0375\" stroke-width=\"0.170717\"/>\n",
       "</g>\n",
       "<g transform=\"translate(340.228 337.677)scale(.996264)\">\n",
       "<path d=\"M135.506 398.694V.355659\" fill=\"none\" stroke=\"#cccccc\" stroke-dasharray=\"0,0.683086\" stroke-linecap=\"round\" stroke-linejoin=\"round\" stroke-miterlimit=\"10.0375\" stroke-width=\"0.170717\"/>\n",
       "</g>\n",
       "<g transform=\"translate(340.228 337.677)scale(.996264)\">\n",
       "<path d=\"M142.619 398.694V.355659\" fill=\"none\" stroke=\"#cccccc\" stroke-linecap=\"round\" stroke-linejoin=\"round\" stroke-miterlimit=\"10.0375\" stroke-width=\"0.426791\"/>\n",
       "</g>\n",
       "<g transform=\"translate(340.228 337.677)scale(.996264)\">\n",
       "<path d=\"M149.733 398.694V.355659\" fill=\"none\" stroke=\"#cccccc\" stroke-dasharray=\"0,0.683086\" stroke-linecap=\"round\" stroke-linejoin=\"round\" stroke-miterlimit=\"10.0375\" stroke-width=\"0.170717\"/>\n",
       "</g>\n",
       "<g transform=\"translate(340.228 337.677)scale(.996264)\">\n",
       "<path d=\"M156.846 398.694V.355659\" fill=\"none\" stroke=\"#cccccc\" stroke-dasharray=\"0,0.683086\" stroke-linecap=\"round\" stroke-linejoin=\"round\" stroke-miterlimit=\"10.0375\" stroke-width=\"0.170717\"/>\n",
       "</g>\n",
       "<g transform=\"translate(340.228 337.677)scale(.996264)\">\n",
       "<path d=\"M163.959 398.694V.355659\" fill=\"none\" stroke=\"#cccccc\" stroke-dasharray=\"0,0.683086\" stroke-linecap=\"round\" stroke-linejoin=\"round\" stroke-miterlimit=\"10.0375\" stroke-width=\"0.170717\"/>\n",
       "</g>\n",
       "<g transform=\"translate(340.228 337.677)scale(.996264)\">\n",
       "<path d=\"M171.072 398.694V.355659\" fill=\"none\" stroke=\"#cccccc\" stroke-linecap=\"round\" stroke-linejoin=\"round\" stroke-miterlimit=\"10.0375\" stroke-width=\"0.426791\"/>\n",
       "</g>\n",
       "<g transform=\"translate(340.228 337.677)scale(.996264)\">\n",
       "<path d=\"M178.185 398.694V.355659\" fill=\"none\" stroke=\"#cccccc\" stroke-dasharray=\"0,0.683086\" stroke-linecap=\"round\" stroke-linejoin=\"round\" stroke-miterlimit=\"10.0375\" stroke-width=\"0.170717\"/>\n",
       "</g>\n",
       "<g transform=\"translate(340.228 337.677)scale(.996264)\">\n",
       "<path d=\"M185.299 398.694V.355659\" fill=\"none\" stroke=\"#cccccc\" stroke-dasharray=\"0,0.683086\" stroke-linecap=\"round\" stroke-linejoin=\"round\" stroke-miterlimit=\"10.0375\" stroke-width=\"0.170717\"/>\n",
       "</g>\n",
       "<g transform=\"translate(340.228 337.677)scale(.996264)\">\n",
       "<path d=\"M192.412 398.694V.355659\" fill=\"none\" stroke=\"#cccccc\" stroke-dasharray=\"0,0.683086\" stroke-linecap=\"round\" stroke-linejoin=\"round\" stroke-miterlimit=\"10.0375\" stroke-width=\"0.170717\"/>\n",
       "</g>\n",
       "<g transform=\"translate(340.228 337.677)scale(.996264)\">\n",
       "<path d=\"M199.525 398.694V.355659\" fill=\"none\" stroke=\"#cccccc\" stroke-linecap=\"round\" stroke-linejoin=\"round\" stroke-miterlimit=\"10.0375\" stroke-width=\"0.426791\"/>\n",
       "</g>\n",
       "<g transform=\"translate(340.228 337.677)scale(.996264)\">\n",
       "<path d=\"M206.638 398.694V.355659\" fill=\"none\" stroke=\"#cccccc\" stroke-dasharray=\"0,0.683086\" stroke-linecap=\"round\" stroke-linejoin=\"round\" stroke-miterlimit=\"10.0375\" stroke-width=\"0.170717\"/>\n",
       "</g>\n",
       "<g transform=\"translate(340.228 337.677)scale(.996264)\">\n",
       "<path d=\"M213.751 398.694V.355659\" fill=\"none\" stroke=\"#cccccc\" stroke-dasharray=\"0,0.683086\" stroke-linecap=\"round\" stroke-linejoin=\"round\" stroke-miterlimit=\"10.0375\" stroke-width=\"0.170717\"/>\n",
       "</g>\n",
       "<g transform=\"translate(340.228 337.677)scale(.996264)\">\n",
       "<path d=\"M220.865 398.694V.355659\" fill=\"none\" stroke=\"#cccccc\" stroke-dasharray=\"0,0.683086\" stroke-linecap=\"round\" stroke-linejoin=\"round\" stroke-miterlimit=\"10.0375\" stroke-width=\"0.170717\"/>\n",
       "</g>\n",
       "<g transform=\"translate(340.228 337.677)scale(.996264)\">\n",
       "<path d=\"M227.978 398.694V.355659\" fill=\"none\" stroke=\"#cccccc\" stroke-linecap=\"round\" stroke-linejoin=\"round\" stroke-miterlimit=\"10.0375\" stroke-width=\"0.426791\"/>\n",
       "</g>\n",
       "<g transform=\"translate(340.228 337.677)scale(.996264)\">\n",
       "<path d=\"M235.091 398.694V.355659\" fill=\"none\" stroke=\"#cccccc\" stroke-dasharray=\"0,0.683086\" stroke-linecap=\"round\" stroke-linejoin=\"round\" stroke-miterlimit=\"10.0375\" stroke-width=\"0.170717\"/>\n",
       "</g>\n",
       "<g transform=\"translate(340.228 337.677)scale(.996264)\">\n",
       "<path d=\"M242.204 398.694V.355659\" fill=\"none\" stroke=\"#cccccc\" stroke-dasharray=\"0,0.683086\" stroke-linecap=\"round\" stroke-linejoin=\"round\" stroke-miterlimit=\"10.0375\" stroke-width=\"0.170717\"/>\n",
       "</g>\n",
       "<g transform=\"translate(340.228 337.677)scale(.996264)\">\n",
       "<path d=\"M249.317 398.694V.355659\" fill=\"none\" stroke=\"#cccccc\" stroke-dasharray=\"0,0.683086\" stroke-linecap=\"round\" stroke-linejoin=\"round\" stroke-miterlimit=\"10.0375\" stroke-width=\"0.170717\"/>\n",
       "</g>\n",
       "<g transform=\"translate(340.228 337.677)scale(.996264)\">\n",
       "<path d=\"M256.43 398.694V.355659\" fill=\"none\" stroke=\"#cccccc\" stroke-linecap=\"round\" stroke-linejoin=\"round\" stroke-miterlimit=\"10.0375\" stroke-width=\"0.426791\"/>\n",
       "</g>\n",
       "<g transform=\"translate(340.228 337.677)scale(.996264)\">\n",
       "<path d=\"M263.544 398.694V.355659\" fill=\"none\" stroke=\"#cccccc\" stroke-dasharray=\"0,0.683086\" stroke-linecap=\"round\" stroke-linejoin=\"round\" stroke-miterlimit=\"10.0375\" stroke-width=\"0.170717\"/>\n",
       "</g>\n",
       "<g transform=\"translate(340.228 337.677)scale(.996264)\">\n",
       "<path d=\"M270.657 398.694V.355659\" fill=\"none\" stroke=\"#cccccc\" stroke-dasharray=\"0,0.683086\" stroke-linecap=\"round\" stroke-linejoin=\"round\" stroke-miterlimit=\"10.0375\" stroke-width=\"0.170717\"/>\n",
       "</g>\n",
       "<g transform=\"translate(340.228 337.677)scale(.996264)\">\n",
       "<path d=\"M277.77 398.694V.355659\" fill=\"none\" stroke=\"#cccccc\" stroke-dasharray=\"0,0.683086\" stroke-linecap=\"round\" stroke-linejoin=\"round\" stroke-miterlimit=\"10.0375\" stroke-width=\"0.170717\"/>\n",
       "</g>\n",
       "<g transform=\"translate(340.228 337.677)scale(.996264)\">\n",
       "<path d=\"M284.883 398.694V.355659\" fill=\"none\" stroke=\"#cccccc\" stroke-linecap=\"round\" stroke-linejoin=\"round\" stroke-miterlimit=\"10.0375\" stroke-width=\"0.426791\"/>\n",
       "</g>\n",
       "<g transform=\"translate(340.228 337.677)scale(.996264)\">\n",
       "<path d=\"M291.996 398.694V.355659\" fill=\"none\" stroke=\"#cccccc\" stroke-dasharray=\"0,0.683086\" stroke-linecap=\"round\" stroke-linejoin=\"round\" stroke-miterlimit=\"10.0375\" stroke-width=\"0.170717\"/>\n",
       "</g>\n",
       "<g transform=\"translate(340.228 337.677)scale(.996264)\">\n",
       "<path d=\"M299.11 398.694V.355659\" fill=\"none\" stroke=\"#cccccc\" stroke-dasharray=\"0,0.683086\" stroke-linecap=\"round\" stroke-linejoin=\"round\" stroke-miterlimit=\"10.0375\" stroke-width=\"0.170717\"/>\n",
       "</g>\n",
       "<g transform=\"translate(340.228 337.677)scale(.996264)\">\n",
       "<path d=\"M306.223 398.694V.355659\" fill=\"none\" stroke=\"#cccccc\" stroke-dasharray=\"0,0.683086\" stroke-linecap=\"round\" stroke-linejoin=\"round\" stroke-miterlimit=\"10.0375\" stroke-width=\"0.170717\"/>\n",
       "</g>\n",
       "<g transform=\"translate(340.228 337.677)scale(.996264)\">\n",
       "<path d=\"M313.336 398.694V.355659\" fill=\"none\" stroke=\"#cccccc\" stroke-linecap=\"round\" stroke-linejoin=\"round\" stroke-miterlimit=\"10.0375\" stroke-width=\"0.426791\"/>\n",
       "</g>\n",
       "<g transform=\"translate(340.228 337.677)scale(.996264)\">\n",
       "<path d=\"M320.449 398.694V.355659\" fill=\"none\" stroke=\"#cccccc\" stroke-dasharray=\"0,0.683086\" stroke-linecap=\"round\" stroke-linejoin=\"round\" stroke-miterlimit=\"10.0375\" stroke-width=\"0.170717\"/>\n",
       "</g>\n",
       "<g transform=\"translate(340.228 337.677)scale(.996264)\">\n",
       "<path d=\"M327.562 398.694V.355659\" fill=\"none\" stroke=\"#cccccc\" stroke-dasharray=\"0,0.683086\" stroke-linecap=\"round\" stroke-linejoin=\"round\" stroke-miterlimit=\"10.0375\" stroke-width=\"0.170717\"/>\n",
       "</g>\n",
       "<g transform=\"translate(340.228 337.677)scale(.996264)\">\n",
       "<path d=\"M334.676 398.694V.355659\" fill=\"none\" stroke=\"#cccccc\" stroke-dasharray=\"0,0.683086\" stroke-linecap=\"round\" stroke-linejoin=\"round\" stroke-miterlimit=\"10.0375\" stroke-width=\"0.170717\"/>\n",
       "</g>\n",
       "<g transform=\"translate(340.228 337.677)scale(.996264)\">\n",
       "<path d=\"M341.789 398.694V.355659\" fill=\"none\" stroke=\"#cccccc\" stroke-linecap=\"round\" stroke-linejoin=\"round\" stroke-miterlimit=\"10.0375\" stroke-width=\"0.426791\"/>\n",
       "</g>\n",
       "<g transform=\"translate(340.228 337.677)scale(.996264)\">\n",
       "<path d=\"M348.902 398.694V.355659\" fill=\"none\" stroke=\"#cccccc\" stroke-dasharray=\"0,0.683086\" stroke-linecap=\"round\" stroke-linejoin=\"round\" stroke-miterlimit=\"10.0375\" stroke-width=\"0.170717\"/>\n",
       "</g>\n",
       "<g transform=\"translate(340.228 337.677)scale(.996264)\">\n",
       "<path d=\"M356.015 398.694V.355659\" fill=\"none\" stroke=\"#cccccc\" stroke-dasharray=\"0,0.683086\" stroke-linecap=\"round\" stroke-linejoin=\"round\" stroke-miterlimit=\"10.0375\" stroke-width=\"0.170717\"/>\n",
       "</g>\n",
       "<g transform=\"translate(340.228 337.677)scale(.996264)\">\n",
       "<path d=\"M363.128 398.694V.355659\" fill=\"none\" stroke=\"#cccccc\" stroke-dasharray=\"0,0.683086\" stroke-linecap=\"round\" stroke-linejoin=\"round\" stroke-miterlimit=\"10.0375\" stroke-width=\"0.170717\"/>\n",
       "</g>\n",
       "<g transform=\"translate(340.228 337.677)scale(.996264)\">\n",
       "<path d=\"M370.241 398.694V.355659\" fill=\"none\" stroke=\"#cccccc\" stroke-linecap=\"round\" stroke-linejoin=\"round\" stroke-miterlimit=\"10.0375\" stroke-width=\"0.426791\"/>\n",
       "</g>\n",
       "<g transform=\"translate(340.228 337.677)scale(.996264)\">\n",
       "<path d=\"M377.355 398.694V.355659\" fill=\"none\" stroke=\"#cccccc\" stroke-dasharray=\"0,0.683086\" stroke-linecap=\"round\" stroke-linejoin=\"round\" stroke-miterlimit=\"10.0375\" stroke-width=\"0.170717\"/>\n",
       "</g>\n",
       "<g transform=\"translate(340.228 337.677)scale(.996264)\">\n",
       "<path d=\"M384.468 398.694V.355659\" fill=\"none\" stroke=\"#cccccc\" stroke-dasharray=\"0,0.683086\" stroke-linecap=\"round\" stroke-linejoin=\"round\" stroke-miterlimit=\"10.0375\" stroke-width=\"0.170717\"/>\n",
       "</g>\n",
       "<g transform=\"translate(340.228 337.677)scale(.996264)\">\n",
       "<path d=\"M391.581 398.694V.355659\" fill=\"none\" stroke=\"#cccccc\" stroke-dasharray=\"0,0.683086\" stroke-linecap=\"round\" stroke-linejoin=\"round\" stroke-miterlimit=\"10.0375\" stroke-width=\"0.170717\"/>\n",
       "</g>\n",
       "<g transform=\"translate(340.228 337.677)scale(.996264)\">\n",
       "<path d=\"M398.694 398.694V.355659\" fill=\"none\" stroke=\"#cccccc\" stroke-linecap=\"round\" stroke-linejoin=\"round\" stroke-miterlimit=\"10.0375\" stroke-width=\"0.426791\"/>\n",
       "</g>\n",
       "<g transform=\"translate(340.228 337.677)scale(.996264)\">\n",
       "<path d=\"M405.807 398.694V.355659\" fill=\"none\" stroke=\"#cccccc\" stroke-dasharray=\"0,0.683086\" stroke-linecap=\"round\" stroke-linejoin=\"round\" stroke-miterlimit=\"10.0375\" stroke-width=\"0.170717\"/>\n",
       "</g>\n",
       "<g transform=\"translate(340.228 337.677)scale(.996264)\">\n",
       "<path d=\"M412.921 398.694V.355659\" fill=\"none\" stroke=\"#cccccc\" stroke-dasharray=\"0,0.683086\" stroke-linecap=\"round\" stroke-linejoin=\"round\" stroke-miterlimit=\"10.0375\" stroke-width=\"0.170717\"/>\n",
       "</g>\n",
       "<g transform=\"translate(340.228 337.677)scale(.996264)\">\n",
       "<path d=\"M420.034 398.694V.355659\" fill=\"none\" stroke=\"#cccccc\" stroke-dasharray=\"0,0.683086\" stroke-linecap=\"round\" stroke-linejoin=\"round\" stroke-miterlimit=\"10.0375\" stroke-width=\"0.170717\"/>\n",
       "</g>\n",
       "<g transform=\"translate(340.228 337.677)scale(.996264)\">\n",
       "<path d=\"M427.147 398.694V.355659\" fill=\"none\" stroke=\"#cccccc\" stroke-linecap=\"round\" stroke-linejoin=\"round\" stroke-miterlimit=\"10.0375\" stroke-width=\"0.426791\"/>\n",
       "</g>\n",
       "<g transform=\"translate(340.228 337.677)scale(.996264)\">\n",
       "<path d=\"M434.26 398.694V.355659\" fill=\"none\" stroke=\"#cccccc\" stroke-dasharray=\"0,0.683086\" stroke-linecap=\"round\" stroke-linejoin=\"round\" stroke-miterlimit=\"10.0375\" stroke-width=\"0.170717\"/>\n",
       "</g>\n",
       "<g transform=\"translate(340.228 337.677)scale(.996264)\">\n",
       "<path d=\"M441.373 398.694V.355659\" fill=\"none\" stroke=\"#cccccc\" stroke-dasharray=\"0,0.683086\" stroke-linecap=\"round\" stroke-linejoin=\"round\" stroke-miterlimit=\"10.0375\" stroke-width=\"0.170717\"/>\n",
       "</g>\n",
       "<g transform=\"translate(340.228 337.677)scale(.996264)\">\n",
       "<path d=\"M448.487 398.694V.355659\" fill=\"none\" stroke=\"#cccccc\" stroke-dasharray=\"0,0.683086\" stroke-linecap=\"round\" stroke-linejoin=\"round\" stroke-miterlimit=\"10.0375\" stroke-width=\"0.170717\"/>\n",
       "</g>\n",
       "<g transform=\"translate(340.228 337.677)scale(.996264)\">\n",
       "<path d=\"M455.6 398.694V.355659\" fill=\"none\" stroke=\"#cccccc\" stroke-linecap=\"round\" stroke-linejoin=\"round\" stroke-miterlimit=\"10.0375\" stroke-width=\"0.426791\"/>\n",
       "</g>\n",
       "<g transform=\"translate(340.228 337.677)scale(.996264)\">\n",
       "<path d=\"M462.713 398.694V.355659\" fill=\"none\" stroke=\"#cccccc\" stroke-dasharray=\"0,0.683086\" stroke-linecap=\"round\" stroke-linejoin=\"round\" stroke-miterlimit=\"10.0375\" stroke-width=\"0.170717\"/>\n",
       "</g>\n",
       "<g transform=\"translate(340.228 337.677)scale(.996264)\">\n",
       "<path d=\"M469.826 398.694V.355659\" fill=\"none\" stroke=\"#cccccc\" stroke-dasharray=\"0,0.683086\" stroke-linecap=\"round\" stroke-linejoin=\"round\" stroke-miterlimit=\"10.0375\" stroke-width=\"0.170717\"/>\n",
       "</g>\n",
       "<g transform=\"translate(340.228 337.677)scale(.996264)\">\n",
       "<path d=\"M476.939 398.694V.355659\" fill=\"none\" stroke=\"#cccccc\" stroke-dasharray=\"0,0.683086\" stroke-linecap=\"round\" stroke-linejoin=\"round\" stroke-miterlimit=\"10.0375\" stroke-width=\"0.170717\"/>\n",
       "</g>\n",
       "<g transform=\"translate(340.228 337.677)scale(.996264)\">\n",
       "<path d=\"M484.053 398.694V.355659\" fill=\"none\" stroke=\"#cccccc\" stroke-linecap=\"round\" stroke-linejoin=\"round\" stroke-miterlimit=\"10.0375\" stroke-width=\"0.426791\"/>\n",
       "</g>\n",
       "<g transform=\"translate(340.228 337.677)scale(.996264)\">\n",
       "<path d=\"M491.166 398.694V.355659\" fill=\"none\" stroke=\"#cccccc\" stroke-dasharray=\"0,0.683086\" stroke-linecap=\"round\" stroke-linejoin=\"round\" stroke-miterlimit=\"10.0375\" stroke-width=\"0.170717\"/>\n",
       "</g>\n",
       "<g transform=\"translate(340.228 337.677)scale(.996264)\">\n",
       "<path d=\"M498.279 398.694V.355659\" fill=\"none\" stroke=\"#cccccc\" stroke-dasharray=\"0,0.683086\" stroke-linecap=\"round\" stroke-linejoin=\"round\" stroke-miterlimit=\"10.0375\" stroke-width=\"0.170717\"/>\n",
       "</g>\n",
       "<g transform=\"translate(340.228 337.677)scale(.996264)\">\n",
       "<path d=\"M505.392 398.694V.355659\" fill=\"none\" stroke=\"#cccccc\" stroke-dasharray=\"0,0.683086\" stroke-linecap=\"round\" stroke-linejoin=\"round\" stroke-miterlimit=\"10.0375\" stroke-width=\"0.170717\"/>\n",
       "</g>\n",
       "<g transform=\"translate(340.228 337.677)scale(.996264)\">\n",
       "<path d=\"M512.505 398.694V.355659\" fill=\"none\" stroke=\"#cccccc\" stroke-linecap=\"round\" stroke-linejoin=\"round\" stroke-miterlimit=\"10.0375\" stroke-width=\"0.426791\"/>\n",
       "</g>\n",
       "<g transform=\"translate(340.228 337.677)scale(.996264)\">\n",
       "<path d=\"M519.618 398.694V.355659\" fill=\"none\" stroke=\"#cccccc\" stroke-dasharray=\"0,0.683086\" stroke-linecap=\"round\" stroke-linejoin=\"round\" stroke-miterlimit=\"10.0375\" stroke-width=\"0.170717\"/>\n",
       "</g>\n",
       "<g transform=\"translate(340.228 337.677)scale(.996264)\">\n",
       "<path d=\"M526.732 398.694V.355659\" fill=\"none\" stroke=\"#cccccc\" stroke-dasharray=\"0,0.683086\" stroke-linecap=\"round\" stroke-linejoin=\"round\" stroke-miterlimit=\"10.0375\" stroke-width=\"0.170717\"/>\n",
       "</g>\n",
       "<g transform=\"translate(340.228 337.677)scale(.996264)\">\n",
       "<path d=\"M533.845 398.694V.355659\" fill=\"none\" stroke=\"#cccccc\" stroke-dasharray=\"0,0.683086\" stroke-linecap=\"round\" stroke-linejoin=\"round\" stroke-miterlimit=\"10.0375\" stroke-width=\"0.170717\"/>\n",
       "</g>\n",
       "<g transform=\"translate(340.228 337.677)scale(.996264)\">\n",
       "<path d=\"M540.958 398.694V.355659\" fill=\"none\" stroke=\"#cccccc\" stroke-linecap=\"round\" stroke-linejoin=\"round\" stroke-miterlimit=\"10.0375\" stroke-width=\"0.426791\"/>\n",
       "</g>\n",
       "<g transform=\"translate(340.228 337.677)scale(.996264)\">\n",
       "<path d=\"M548.071 398.694V.355659\" fill=\"none\" stroke=\"#cccccc\" stroke-dasharray=\"0,0.683086\" stroke-linecap=\"round\" stroke-linejoin=\"round\" stroke-miterlimit=\"10.0375\" stroke-width=\"0.170717\"/>\n",
       "</g>\n",
       "<g transform=\"translate(340.228 337.677)scale(.996264)\">\n",
       "<path d=\"M555.184 398.694V.355659\" fill=\"none\" stroke=\"#cccccc\" stroke-dasharray=\"0,0.683086\" stroke-linecap=\"round\" stroke-linejoin=\"round\" stroke-miterlimit=\"10.0375\" stroke-width=\"0.170717\"/>\n",
       "</g>\n",
       "<g transform=\"translate(340.228 337.677)scale(.996264)\">\n",
       "<path d=\"M562.298 398.694V.355659\" fill=\"none\" stroke=\"#cccccc\" stroke-dasharray=\"0,0.683086\" stroke-linecap=\"round\" stroke-linejoin=\"round\" stroke-miterlimit=\"10.0375\" stroke-width=\"0.170717\"/>\n",
       "</g>\n",
       "<g transform=\"translate(340.228 337.677)scale(.996264)\">\n",
       "<path d=\"M569.411 398.694V.355659\" fill=\"none\" stroke=\"#cccccc\" stroke-linecap=\"round\" stroke-linejoin=\"round\" stroke-miterlimit=\"10.0375\" stroke-width=\"0.426791\"/>\n",
       "</g>\n",
       "<g transform=\"translate(340.228 337.677)scale(.996264)\">\n",
       "<path d=\"M.355659 398.694H569.411\" fill=\"none\" stroke=\"#cccccc\" stroke-linecap=\"round\" stroke-linejoin=\"round\" stroke-miterlimit=\"10.0375\" stroke-width=\"0.426791\"/>\n",
       "</g>\n",
       "<g transform=\"translate(340.228 337.677)scale(.996264)\">\n",
       "<path d=\"M.355659 391.581H569.411\" fill=\"none\" stroke=\"#cccccc\" stroke-dasharray=\"0,0.682969\" stroke-linecap=\"round\" stroke-linejoin=\"round\" stroke-miterlimit=\"10.0375\" stroke-width=\"0.170717\"/>\n",
       "</g>\n",
       "<g transform=\"translate(340.228 337.677)scale(.996264)\">\n",
       "<path d=\"M.355659 384.468H569.411\" fill=\"none\" stroke=\"#cccccc\" stroke-dasharray=\"0,0.682969\" stroke-linecap=\"round\" stroke-linejoin=\"round\" stroke-miterlimit=\"10.0375\" stroke-width=\"0.170717\"/>\n",
       "</g>\n",
       "<g transform=\"translate(340.228 337.677)scale(.996264)\">\n",
       "<path d=\"M.355659 377.355H569.411\" fill=\"none\" stroke=\"#cccccc\" stroke-dasharray=\"0,0.682969\" stroke-linecap=\"round\" stroke-linejoin=\"round\" stroke-miterlimit=\"10.0375\" stroke-width=\"0.170717\"/>\n",
       "</g>\n",
       "<g transform=\"translate(340.228 337.677)scale(.996264)\">\n",
       "<path d=\"M.355659 370.241H569.411\" fill=\"none\" stroke=\"#cccccc\" stroke-dasharray=\"0,0.682969\" stroke-linecap=\"round\" stroke-linejoin=\"round\" stroke-miterlimit=\"10.0375\" stroke-width=\"0.170717\"/>\n",
       "</g>\n",
       "<g transform=\"translate(340.228 337.677)scale(.996264)\">\n",
       "<path d=\"M.355659 370.241H569.411\" fill=\"none\" stroke=\"#cccccc\" stroke-linecap=\"round\" stroke-linejoin=\"round\" stroke-miterlimit=\"10.0375\" stroke-width=\"0.426791\"/>\n",
       "</g>\n",
       "<g transform=\"translate(340.228 337.677)scale(.996264)\">\n",
       "<path d=\"M.355659 363.128H569.411\" fill=\"none\" stroke=\"#cccccc\" stroke-dasharray=\"0,0.682969\" stroke-linecap=\"round\" stroke-linejoin=\"round\" stroke-miterlimit=\"10.0375\" stroke-width=\"0.170717\"/>\n",
       "</g>\n",
       "<g transform=\"translate(340.228 337.677)scale(.996264)\">\n",
       "<path d=\"M.355659 356.015H569.411\" fill=\"none\" stroke=\"#cccccc\" stroke-dasharray=\"0,0.682969\" stroke-linecap=\"round\" stroke-linejoin=\"round\" stroke-miterlimit=\"10.0375\" stroke-width=\"0.170717\"/>\n",
       "</g>\n",
       "<g transform=\"translate(340.228 337.677)scale(.996264)\">\n",
       "<path d=\"M.355659 348.902H569.411\" fill=\"none\" stroke=\"#cccccc\" stroke-dasharray=\"0,0.682969\" stroke-linecap=\"round\" stroke-linejoin=\"round\" stroke-miterlimit=\"10.0375\" stroke-width=\"0.170717\"/>\n",
       "</g>\n",
       "<g transform=\"translate(340.228 337.677)scale(.996264)\">\n",
       "<path d=\"M.355659 341.789H569.411\" fill=\"none\" stroke=\"#cccccc\" stroke-dasharray=\"0,0.682969\" stroke-linecap=\"round\" stroke-linejoin=\"round\" stroke-miterlimit=\"10.0375\" stroke-width=\"0.170717\"/>\n",
       "</g>\n",
       "<g transform=\"translate(340.228 337.677)scale(.996264)\">\n",
       "<path d=\"M.355659 341.789H569.411\" fill=\"none\" stroke=\"#cccccc\" stroke-linecap=\"round\" stroke-linejoin=\"round\" stroke-miterlimit=\"10.0375\" stroke-width=\"0.426791\"/>\n",
       "</g>\n",
       "<g transform=\"translate(340.228 337.677)scale(.996264)\">\n",
       "<path d=\"M.355659 334.676H569.411\" fill=\"none\" stroke=\"#cccccc\" stroke-dasharray=\"0,0.682969\" stroke-linecap=\"round\" stroke-linejoin=\"round\" stroke-miterlimit=\"10.0375\" stroke-width=\"0.170717\"/>\n",
       "</g>\n",
       "<g transform=\"translate(340.228 337.677)scale(.996264)\">\n",
       "<path d=\"M.355659 327.562H569.411\" fill=\"none\" stroke=\"#cccccc\" stroke-dasharray=\"0,0.682969\" stroke-linecap=\"round\" stroke-linejoin=\"round\" stroke-miterlimit=\"10.0375\" stroke-width=\"0.170717\"/>\n",
       "</g>\n",
       "<g transform=\"translate(340.228 337.677)scale(.996264)\">\n",
       "<path d=\"M.355659 320.449H569.411\" fill=\"none\" stroke=\"#cccccc\" stroke-dasharray=\"0,0.682969\" stroke-linecap=\"round\" stroke-linejoin=\"round\" stroke-miterlimit=\"10.0375\" stroke-width=\"0.170717\"/>\n",
       "</g>\n",
       "<g transform=\"translate(340.228 337.677)scale(.996264)\">\n",
       "<path d=\"M.355659 313.336H569.411\" fill=\"none\" stroke=\"#cccccc\" stroke-dasharray=\"0,0.682969\" stroke-linecap=\"round\" stroke-linejoin=\"round\" stroke-miterlimit=\"10.0375\" stroke-width=\"0.170717\"/>\n",
       "</g>\n",
       "<g transform=\"translate(340.228 337.677)scale(.996264)\">\n",
       "<path d=\"M.355659 313.336H569.411\" fill=\"none\" stroke=\"#cccccc\" stroke-linecap=\"round\" stroke-linejoin=\"round\" stroke-miterlimit=\"10.0375\" stroke-width=\"0.426791\"/>\n",
       "</g>\n",
       "<g transform=\"translate(340.228 337.677)scale(.996264)\">\n",
       "<path d=\"M.355659 306.223H569.411\" fill=\"none\" stroke=\"#cccccc\" stroke-dasharray=\"0,0.682969\" stroke-linecap=\"round\" stroke-linejoin=\"round\" stroke-miterlimit=\"10.0375\" stroke-width=\"0.170717\"/>\n",
       "</g>\n",
       "<g transform=\"translate(340.228 337.677)scale(.996264)\">\n",
       "<path d=\"M.355659 299.11H569.411\" fill=\"none\" stroke=\"#cccccc\" stroke-dasharray=\"0,0.682969\" stroke-linecap=\"round\" stroke-linejoin=\"round\" stroke-miterlimit=\"10.0375\" stroke-width=\"0.170717\"/>\n",
       "</g>\n",
       "<g transform=\"translate(340.228 337.677)scale(.996264)\">\n",
       "<path d=\"M.355659 291.996H569.411\" fill=\"none\" stroke=\"#cccccc\" stroke-dasharray=\"0,0.682969\" stroke-linecap=\"round\" stroke-linejoin=\"round\" stroke-miterlimit=\"10.0375\" stroke-width=\"0.170717\"/>\n",
       "</g>\n",
       "<g transform=\"translate(340.228 337.677)scale(.996264)\">\n",
       "<path d=\"M.355659 284.883H569.411\" fill=\"none\" stroke=\"#cccccc\" stroke-dasharray=\"0,0.682969\" stroke-linecap=\"round\" stroke-linejoin=\"round\" stroke-miterlimit=\"10.0375\" stroke-width=\"0.170717\"/>\n",
       "</g>\n",
       "<g transform=\"translate(340.228 337.677)scale(.996264)\">\n",
       "<path d=\"M.355659 284.883H569.411\" fill=\"none\" stroke=\"#cccccc\" stroke-linecap=\"round\" stroke-linejoin=\"round\" stroke-miterlimit=\"10.0375\" stroke-width=\"0.426791\"/>\n",
       "</g>\n",
       "<g transform=\"translate(340.228 337.677)scale(.996264)\">\n",
       "<path d=\"M.355659 277.77H569.411\" fill=\"none\" stroke=\"#cccccc\" stroke-dasharray=\"0,0.682969\" stroke-linecap=\"round\" stroke-linejoin=\"round\" stroke-miterlimit=\"10.0375\" stroke-width=\"0.170717\"/>\n",
       "</g>\n",
       "<g transform=\"translate(340.228 337.677)scale(.996264)\">\n",
       "<path d=\"M.355659 270.657H569.411\" fill=\"none\" stroke=\"#cccccc\" stroke-dasharray=\"0,0.682969\" stroke-linecap=\"round\" stroke-linejoin=\"round\" stroke-miterlimit=\"10.0375\" stroke-width=\"0.170717\"/>\n",
       "</g>\n",
       "<g transform=\"translate(340.228 337.677)scale(.996264)\">\n",
       "<path d=\"M.355659 263.544H569.411\" fill=\"none\" stroke=\"#cccccc\" stroke-dasharray=\"0,0.682969\" stroke-linecap=\"round\" stroke-linejoin=\"round\" stroke-miterlimit=\"10.0375\" stroke-width=\"0.170717\"/>\n",
       "</g>\n",
       "<g transform=\"translate(340.228 337.677)scale(.996264)\">\n",
       "<path d=\"M.355659 256.43H569.411\" fill=\"none\" stroke=\"#cccccc\" stroke-dasharray=\"0,0.682969\" stroke-linecap=\"round\" stroke-linejoin=\"round\" stroke-miterlimit=\"10.0375\" stroke-width=\"0.170717\"/>\n",
       "</g>\n",
       "<g transform=\"translate(340.228 337.677)scale(.996264)\">\n",
       "<path d=\"M.355659 256.43H569.411\" fill=\"none\" stroke=\"#cccccc\" stroke-linecap=\"round\" stroke-linejoin=\"round\" stroke-miterlimit=\"10.0375\" stroke-width=\"0.426791\"/>\n",
       "</g>\n",
       "<g transform=\"translate(340.228 337.677)scale(.996264)\">\n",
       "<path d=\"M.355659 249.317H569.411\" fill=\"none\" stroke=\"#cccccc\" stroke-dasharray=\"0,0.682969\" stroke-linecap=\"round\" stroke-linejoin=\"round\" stroke-miterlimit=\"10.0375\" stroke-width=\"0.170717\"/>\n",
       "</g>\n",
       "<g transform=\"translate(340.228 337.677)scale(.996264)\">\n",
       "<path d=\"M.355659 242.204H569.411\" fill=\"none\" stroke=\"#cccccc\" stroke-dasharray=\"0,0.682969\" stroke-linecap=\"round\" stroke-linejoin=\"round\" stroke-miterlimit=\"10.0375\" stroke-width=\"0.170717\"/>\n",
       "</g>\n",
       "<g transform=\"translate(340.228 337.677)scale(.996264)\">\n",
       "<path d=\"M.355659 235.091H569.411\" fill=\"none\" stroke=\"#cccccc\" stroke-dasharray=\"0,0.682969\" stroke-linecap=\"round\" stroke-linejoin=\"round\" stroke-miterlimit=\"10.0375\" stroke-width=\"0.170717\"/>\n",
       "</g>\n",
       "<g transform=\"translate(340.228 337.677)scale(.996264)\">\n",
       "<path d=\"M.355659 227.978H569.411\" fill=\"none\" stroke=\"#cccccc\" stroke-dasharray=\"0,0.682969\" stroke-linecap=\"round\" stroke-linejoin=\"round\" stroke-miterlimit=\"10.0375\" stroke-width=\"0.170717\"/>\n",
       "</g>\n",
       "<g transform=\"translate(340.228 337.677)scale(.996264)\">\n",
       "<path d=\"M.355659 227.978H569.411\" fill=\"none\" stroke=\"#cccccc\" stroke-linecap=\"round\" stroke-linejoin=\"round\" stroke-miterlimit=\"10.0375\" stroke-width=\"0.426791\"/>\n",
       "</g>\n",
       "<g transform=\"translate(340.228 337.677)scale(.996264)\">\n",
       "<path d=\"M.355659 220.865H569.411\" fill=\"none\" stroke=\"#cccccc\" stroke-dasharray=\"0,0.682969\" stroke-linecap=\"round\" stroke-linejoin=\"round\" stroke-miterlimit=\"10.0375\" stroke-width=\"0.170717\"/>\n",
       "</g>\n",
       "<g transform=\"translate(340.228 337.677)scale(.996264)\">\n",
       "<path d=\"M.355659 213.751H569.411\" fill=\"none\" stroke=\"#cccccc\" stroke-dasharray=\"0,0.682969\" stroke-linecap=\"round\" stroke-linejoin=\"round\" stroke-miterlimit=\"10.0375\" stroke-width=\"0.170717\"/>\n",
       "</g>\n",
       "<g transform=\"translate(340.228 337.677)scale(.996264)\">\n",
       "<path d=\"M.355659 206.638H569.411\" fill=\"none\" stroke=\"#cccccc\" stroke-dasharray=\"0,0.682969\" stroke-linecap=\"round\" stroke-linejoin=\"round\" stroke-miterlimit=\"10.0375\" stroke-width=\"0.170717\"/>\n",
       "</g>\n",
       "<g transform=\"translate(340.228 337.677)scale(.996264)\">\n",
       "<path d=\"M.355659 199.525H569.411\" fill=\"none\" stroke=\"#cccccc\" stroke-dasharray=\"0,0.682969\" stroke-linecap=\"round\" stroke-linejoin=\"round\" stroke-miterlimit=\"10.0375\" stroke-width=\"0.170717\"/>\n",
       "</g>\n",
       "<g transform=\"translate(340.228 337.677)scale(.996264)\">\n",
       "<path d=\"M.355659 199.525H569.411\" fill=\"none\" stroke=\"#cccccc\" stroke-linecap=\"round\" stroke-linejoin=\"round\" stroke-miterlimit=\"10.0375\" stroke-width=\"0.426791\"/>\n",
       "</g>\n",
       "<g transform=\"translate(340.228 337.677)scale(.996264)\">\n",
       "<path d=\"M.355659 192.412H569.411\" fill=\"none\" stroke=\"#cccccc\" stroke-dasharray=\"0,0.682969\" stroke-linecap=\"round\" stroke-linejoin=\"round\" stroke-miterlimit=\"10.0375\" stroke-width=\"0.170717\"/>\n",
       "</g>\n",
       "<g transform=\"translate(340.228 337.677)scale(.996264)\">\n",
       "<path d=\"M.355659 185.299H569.411\" fill=\"none\" stroke=\"#cccccc\" stroke-dasharray=\"0,0.682969\" stroke-linecap=\"round\" stroke-linejoin=\"round\" stroke-miterlimit=\"10.0375\" stroke-width=\"0.170717\"/>\n",
       "</g>\n",
       "<g transform=\"translate(340.228 337.677)scale(.996264)\">\n",
       "<path d=\"M.355659 178.185H569.411\" fill=\"none\" stroke=\"#cccccc\" stroke-dasharray=\"0,0.682969\" stroke-linecap=\"round\" stroke-linejoin=\"round\" stroke-miterlimit=\"10.0375\" stroke-width=\"0.170717\"/>\n",
       "</g>\n",
       "<g transform=\"translate(340.228 337.677)scale(.996264)\">\n",
       "<path d=\"M.355659 171.072H569.411\" fill=\"none\" stroke=\"#cccccc\" stroke-dasharray=\"0,0.682969\" stroke-linecap=\"round\" stroke-linejoin=\"round\" stroke-miterlimit=\"10.0375\" stroke-width=\"0.170717\"/>\n",
       "</g>\n",
       "<g transform=\"translate(340.228 337.677)scale(.996264)\">\n",
       "<path d=\"M.355659 171.072H569.411\" fill=\"none\" stroke=\"#cccccc\" stroke-linecap=\"round\" stroke-linejoin=\"round\" stroke-miterlimit=\"10.0375\" stroke-width=\"0.426791\"/>\n",
       "</g>\n",
       "<g transform=\"translate(340.228 337.677)scale(.996264)\">\n",
       "<path d=\"M.355659 163.959H569.411\" fill=\"none\" stroke=\"#cccccc\" stroke-dasharray=\"0,0.682969\" stroke-linecap=\"round\" stroke-linejoin=\"round\" stroke-miterlimit=\"10.0375\" stroke-width=\"0.170717\"/>\n",
       "</g>\n",
       "<g transform=\"translate(340.228 337.677)scale(.996264)\">\n",
       "<path d=\"M.355659 156.846H569.411\" fill=\"none\" stroke=\"#cccccc\" stroke-dasharray=\"0,0.682969\" stroke-linecap=\"round\" stroke-linejoin=\"round\" stroke-miterlimit=\"10.0375\" stroke-width=\"0.170717\"/>\n",
       "</g>\n",
       "<g transform=\"translate(340.228 337.677)scale(.996264)\">\n",
       "<path d=\"M.355659 149.733H569.411\" fill=\"none\" stroke=\"#cccccc\" stroke-dasharray=\"0,0.682969\" stroke-linecap=\"round\" stroke-linejoin=\"round\" stroke-miterlimit=\"10.0375\" stroke-width=\"0.170717\"/>\n",
       "</g>\n",
       "<g transform=\"translate(340.228 337.677)scale(.996264)\">\n",
       "<path d=\"M.355659 142.619H569.411\" fill=\"none\" stroke=\"#cccccc\" stroke-dasharray=\"0,0.682969\" stroke-linecap=\"round\" stroke-linejoin=\"round\" stroke-miterlimit=\"10.0375\" stroke-width=\"0.170717\"/>\n",
       "</g>\n",
       "<g transform=\"translate(340.228 337.677)scale(.996264)\">\n",
       "<path d=\"M.355659 142.619H569.411\" fill=\"none\" stroke=\"#cccccc\" stroke-linecap=\"round\" stroke-linejoin=\"round\" stroke-miterlimit=\"10.0375\" stroke-width=\"0.426791\"/>\n",
       "</g>\n",
       "<g transform=\"translate(340.228 337.677)scale(.996264)\">\n",
       "<path d=\"M.355659 135.506H569.411\" fill=\"none\" stroke=\"#cccccc\" stroke-dasharray=\"0,0.682969\" stroke-linecap=\"round\" stroke-linejoin=\"round\" stroke-miterlimit=\"10.0375\" stroke-width=\"0.170717\"/>\n",
       "</g>\n",
       "<g transform=\"translate(340.228 337.677)scale(.996264)\">\n",
       "<path d=\"M.355659 128.393H569.411\" fill=\"none\" stroke=\"#cccccc\" stroke-dasharray=\"0,0.682969\" stroke-linecap=\"round\" stroke-linejoin=\"round\" stroke-miterlimit=\"10.0375\" stroke-width=\"0.170717\"/>\n",
       "</g>\n",
       "<g transform=\"translate(340.228 337.677)scale(.996264)\">\n",
       "<path d=\"M.355659 121.28H569.411\" fill=\"none\" stroke=\"#cccccc\" stroke-dasharray=\"0,0.682969\" stroke-linecap=\"round\" stroke-linejoin=\"round\" stroke-miterlimit=\"10.0375\" stroke-width=\"0.170717\"/>\n",
       "</g>\n",
       "<g transform=\"translate(340.228 337.677)scale(.996264)\">\n",
       "<path d=\"M.355659 114.167H569.411\" fill=\"none\" stroke=\"#cccccc\" stroke-dasharray=\"0,0.682969\" stroke-linecap=\"round\" stroke-linejoin=\"round\" stroke-miterlimit=\"10.0375\" stroke-width=\"0.170717\"/>\n",
       "</g>\n",
       "<g transform=\"translate(340.228 337.677)scale(.996264)\">\n",
       "<path d=\"M.355659 114.167H569.411\" fill=\"none\" stroke=\"#cccccc\" stroke-linecap=\"round\" stroke-linejoin=\"round\" stroke-miterlimit=\"10.0375\" stroke-width=\"0.426791\"/>\n",
       "</g>\n",
       "<g transform=\"translate(340.228 337.677)scale(.996264)\">\n",
       "<path d=\"M.355659 107.053H569.411\" fill=\"none\" stroke=\"#cccccc\" stroke-dasharray=\"0,0.682969\" stroke-linecap=\"round\" stroke-linejoin=\"round\" stroke-miterlimit=\"10.0375\" stroke-width=\"0.170717\"/>\n",
       "</g>\n",
       "<g transform=\"translate(340.228 337.677)scale(.996264)\">\n",
       "<path d=\"M.355659 99.9403H569.411\" fill=\"none\" stroke=\"#cccccc\" stroke-dasharray=\"0,0.682969\" stroke-linecap=\"round\" stroke-linejoin=\"round\" stroke-miterlimit=\"10.0375\" stroke-width=\"0.170717\"/>\n",
       "</g>\n",
       "<g transform=\"translate(340.228 337.677)scale(.996264)\">\n",
       "<path d=\"M.355659 92.8271H569.411\" fill=\"none\" stroke=\"#cccccc\" stroke-dasharray=\"0,0.682969\" stroke-linecap=\"round\" stroke-linejoin=\"round\" stroke-miterlimit=\"10.0375\" stroke-width=\"0.170717\"/>\n",
       "</g>\n",
       "<g transform=\"translate(340.228 337.677)scale(.996264)\">\n",
       "<path d=\"M.355659 85.7139H569.411\" fill=\"none\" stroke=\"#cccccc\" stroke-dasharray=\"0,0.682969\" stroke-linecap=\"round\" stroke-linejoin=\"round\" stroke-miterlimit=\"10.0375\" stroke-width=\"0.170717\"/>\n",
       "</g>\n",
       "<g transform=\"translate(340.228 337.677)scale(.996264)\">\n",
       "<path d=\"M.355659 85.7139H569.411\" fill=\"none\" stroke=\"#cccccc\" stroke-linecap=\"round\" stroke-linejoin=\"round\" stroke-miterlimit=\"10.0375\" stroke-width=\"0.426791\"/>\n",
       "</g>\n",
       "<g transform=\"translate(340.228 337.677)scale(.996264)\">\n",
       "<path d=\"M.355659 78.6007H569.411\" fill=\"none\" stroke=\"#cccccc\" stroke-dasharray=\"0,0.682969\" stroke-linecap=\"round\" stroke-linejoin=\"round\" stroke-miterlimit=\"10.0375\" stroke-width=\"0.170717\"/>\n",
       "</g>\n",
       "<g transform=\"translate(340.228 337.677)scale(.996264)\">\n",
       "<path d=\"M.355659 71.4875H569.411\" fill=\"none\" stroke=\"#cccccc\" stroke-dasharray=\"0,0.682969\" stroke-linecap=\"round\" stroke-linejoin=\"round\" stroke-miterlimit=\"10.0375\" stroke-width=\"0.170717\"/>\n",
       "</g>\n",
       "<g transform=\"translate(340.228 337.677)scale(.996264)\">\n",
       "<path d=\"M.355659 64.3744H569.411\" fill=\"none\" stroke=\"#cccccc\" stroke-dasharray=\"0,0.682969\" stroke-linecap=\"round\" stroke-linejoin=\"round\" stroke-miterlimit=\"10.0375\" stroke-width=\"0.170717\"/>\n",
       "</g>\n",
       "<g transform=\"translate(340.228 337.677)scale(.996264)\">\n",
       "<path d=\"M.355659 57.2612H569.411\" fill=\"none\" stroke=\"#cccccc\" stroke-dasharray=\"0,0.682969\" stroke-linecap=\"round\" stroke-linejoin=\"round\" stroke-miterlimit=\"10.0375\" stroke-width=\"0.170717\"/>\n",
       "</g>\n",
       "<g transform=\"translate(340.228 337.677)scale(.996264)\">\n",
       "<path d=\"M.355659 57.2612H569.411\" fill=\"none\" stroke=\"#cccccc\" stroke-linecap=\"round\" stroke-linejoin=\"round\" stroke-miterlimit=\"10.0375\" stroke-width=\"0.426791\"/>\n",
       "</g>\n",
       "<g transform=\"translate(340.228 337.677)scale(.996264)\">\n",
       "<path d=\"M.355659 50.148H569.411\" fill=\"none\" stroke=\"#cccccc\" stroke-dasharray=\"0,0.682969\" stroke-linecap=\"round\" stroke-linejoin=\"round\" stroke-miterlimit=\"10.0375\" stroke-width=\"0.170717\"/>\n",
       "</g>\n",
       "<g transform=\"translate(340.228 337.677)scale(.996264)\">\n",
       "<path d=\"M.355659 43.0348H569.411\" fill=\"none\" stroke=\"#cccccc\" stroke-dasharray=\"0,0.682969\" stroke-linecap=\"round\" stroke-linejoin=\"round\" stroke-miterlimit=\"10.0375\" stroke-width=\"0.170717\"/>\n",
       "</g>\n",
       "<g transform=\"translate(340.228 337.677)scale(.996264)\">\n",
       "<path d=\"M.355659 35.9216H569.411\" fill=\"none\" stroke=\"#cccccc\" stroke-dasharray=\"0,0.682969\" stroke-linecap=\"round\" stroke-linejoin=\"round\" stroke-miterlimit=\"10.0375\" stroke-width=\"0.170717\"/>\n",
       "</g>\n",
       "<g transform=\"translate(340.228 337.677)scale(.996264)\">\n",
       "<path d=\"M.355659 28.8084H569.411\" fill=\"none\" stroke=\"#cccccc\" stroke-dasharray=\"0,0.682969\" stroke-linecap=\"round\" stroke-linejoin=\"round\" stroke-miterlimit=\"10.0375\" stroke-width=\"0.170717\"/>\n",
       "</g>\n",
       "<g transform=\"translate(340.228 337.677)scale(.996264)\">\n",
       "<path d=\"M.355659 28.8084H569.411\" fill=\"none\" stroke=\"#cccccc\" stroke-linecap=\"round\" stroke-linejoin=\"round\" stroke-miterlimit=\"10.0375\" stroke-width=\"0.426791\"/>\n",
       "</g>\n",
       "<g transform=\"translate(340.228 337.677)scale(.996264)\">\n",
       "<path d=\"M.355659 21.6952H569.411\" fill=\"none\" stroke=\"#cccccc\" stroke-dasharray=\"0,0.682969\" stroke-linecap=\"round\" stroke-linejoin=\"round\" stroke-miterlimit=\"10.0375\" stroke-width=\"0.170717\"/>\n",
       "</g>\n",
       "<g transform=\"translate(340.228 337.677)scale(.996264)\">\n",
       "<path d=\"M.355659 14.582H569.411\" fill=\"none\" stroke=\"#cccccc\" stroke-dasharray=\"0,0.682969\" stroke-linecap=\"round\" stroke-linejoin=\"round\" stroke-miterlimit=\"10.0375\" stroke-width=\"0.170717\"/>\n",
       "</g>\n",
       "<g transform=\"translate(340.228 337.677)scale(.996264)\">\n",
       "<path d=\"M.355659 7.46885H569.411\" fill=\"none\" stroke=\"#cccccc\" stroke-dasharray=\"0,0.682969\" stroke-linecap=\"round\" stroke-linejoin=\"round\" stroke-miterlimit=\"10.0375\" stroke-width=\"0.170717\"/>\n",
       "</g>\n",
       "<g transform=\"translate(340.228 337.677)scale(.996264)\">\n",
       "<path d=\"M.355659 .355659H569.411\" fill=\"none\" stroke=\"#cccccc\" stroke-dasharray=\"0,0.682969\" stroke-linecap=\"round\" stroke-linejoin=\"round\" stroke-miterlimit=\"10.0375\" stroke-width=\"0.170717\"/>\n",
       "</g>\n",
       "<g transform=\"translate(340.228 337.677)scale(.996264)\">\n",
       "<path d=\"M.355659 .355659H569.411\" fill=\"none\" stroke=\"#cccccc\" stroke-linecap=\"round\" stroke-linejoin=\"round\" stroke-miterlimit=\"10.0375\" stroke-width=\"0.426791\"/>\n",
       "</g>\n",
       "<g transform=\"translate(340.228 337.677)scale(.996264)\">\n",
       "<path d=\"M.355659 284.883H569.411\" fill=\"none\" stroke=\"#000000\" stroke-linecap=\"round\" stroke-linejoin=\"round\" stroke-miterlimit=\"10.0375\" stroke-width=\"0.711319\"/>\n",
       "</g>\n",
       "<g transform=\"translate(340.228 337.677)scale(.996264)\">\n",
       "<path d=\"M284.883 398.694V.355659\" fill=\"none\" stroke=\"#000000\" stroke-linecap=\"round\" stroke-linejoin=\"round\" stroke-miterlimit=\"10.0375\" stroke-width=\"0.711319\"/>\n",
       "</g>\n",
       "<g transform=\"translate(340.228 337.677)scale(.996264)\">\n",
       "<path d=\"M28.8084 284.883V289.151\" fill=\"none\" stroke=\"#000000\" stroke-linecap=\"round\" stroke-linejoin=\"round\" stroke-miterlimit=\"10.0375\" stroke-width=\"0.711319\"/>\n",
       "</g>\n",
       "<use x=\"361.357221\" y=\"637.094234\" xlink:href=\"#g0-0\"/>\n",
       "<use x=\"370.655718\" y=\"637.094234\" xlink:href=\"#g1-57\"/>\n",
       "<g transform=\"translate(340.228 337.677)scale(.996264)\">\n",
       "<path d=\"M35.9216 284.883V287.017\" fill=\"none\" stroke=\"#000000\" stroke-linecap=\"round\" stroke-linejoin=\"round\" stroke-miterlimit=\"10.0375\" stroke-width=\"0.426791\"/>\n",
       "</g>\n",
       "<g transform=\"translate(340.228 337.677)scale(.996264)\">\n",
       "<path d=\"M43.0348 284.883V287.017\" fill=\"none\" stroke=\"#000000\" stroke-linecap=\"round\" stroke-linejoin=\"round\" stroke-miterlimit=\"10.0375\" stroke-width=\"0.426791\"/>\n",
       "</g>\n",
       "<g transform=\"translate(340.228 337.677)scale(.996264)\">\n",
       "<path d=\"M50.148 284.883V287.017\" fill=\"none\" stroke=\"#000000\" stroke-linecap=\"round\" stroke-linejoin=\"round\" stroke-miterlimit=\"10.0375\" stroke-width=\"0.426791\"/>\n",
       "</g>\n",
       "<g transform=\"translate(340.228 337.677)scale(.996264)\">\n",
       "<path d=\"M57.2612 284.883V289.151\" fill=\"none\" stroke=\"#000000\" stroke-linecap=\"round\" stroke-linejoin=\"round\" stroke-miterlimit=\"10.0375\" stroke-width=\"0.711319\"/>\n",
       "</g>\n",
       "<use x=\"389.703681\" y=\"637.094234\" xlink:href=\"#g0-0\"/>\n",
       "<use x=\"399.002178\" y=\"637.094234\" xlink:href=\"#g1-56\"/>\n",
       "<g transform=\"translate(340.228 337.677)scale(.996264)\">\n",
       "<path d=\"M64.3744 284.883V287.017\" fill=\"none\" stroke=\"#000000\" stroke-linecap=\"round\" stroke-linejoin=\"round\" stroke-miterlimit=\"10.0375\" stroke-width=\"0.426791\"/>\n",
       "</g>\n",
       "<g transform=\"translate(340.228 337.677)scale(.996264)\">\n",
       "<path d=\"M71.4875 284.883V287.017\" fill=\"none\" stroke=\"#000000\" stroke-linecap=\"round\" stroke-linejoin=\"round\" stroke-miterlimit=\"10.0375\" stroke-width=\"0.426791\"/>\n",
       "</g>\n",
       "<g transform=\"translate(340.228 337.677)scale(.996264)\">\n",
       "<path d=\"M78.6007 284.883V287.017\" fill=\"none\" stroke=\"#000000\" stroke-linecap=\"round\" stroke-linejoin=\"round\" stroke-miterlimit=\"10.0375\" stroke-width=\"0.426791\"/>\n",
       "</g>\n",
       "<g transform=\"translate(340.228 337.677)scale(.996264)\">\n",
       "<path d=\"M85.7139 284.883V289.151\" fill=\"none\" stroke=\"#000000\" stroke-linecap=\"round\" stroke-linejoin=\"round\" stroke-miterlimit=\"10.0375\" stroke-width=\"0.711319\"/>\n",
       "</g>\n",
       "<use x=\"418.05014\" y=\"637.094234\" xlink:href=\"#g0-0\"/>\n",
       "<use x=\"427.348637\" y=\"637.094234\" xlink:href=\"#g1-55\"/>\n",
       "<g transform=\"translate(340.228 337.677)scale(.996264)\">\n",
       "<path d=\"M92.8271 284.883V287.017\" fill=\"none\" stroke=\"#000000\" stroke-linecap=\"round\" stroke-linejoin=\"round\" stroke-miterlimit=\"10.0375\" stroke-width=\"0.426791\"/>\n",
       "</g>\n",
       "<g transform=\"translate(340.228 337.677)scale(.996264)\">\n",
       "<path d=\"M99.9403 284.883V287.017\" fill=\"none\" stroke=\"#000000\" stroke-linecap=\"round\" stroke-linejoin=\"round\" stroke-miterlimit=\"10.0375\" stroke-width=\"0.426791\"/>\n",
       "</g>\n",
       "<g transform=\"translate(340.228 337.677)scale(.996264)\">\n",
       "<path d=\"M107.053 284.883V287.017\" fill=\"none\" stroke=\"#000000\" stroke-linecap=\"round\" stroke-linejoin=\"round\" stroke-miterlimit=\"10.0375\" stroke-width=\"0.426791\"/>\n",
       "</g>\n",
       "<g transform=\"translate(340.228 337.677)scale(.996264)\">\n",
       "<path d=\"M114.167 284.883V289.151\" fill=\"none\" stroke=\"#000000\" stroke-linecap=\"round\" stroke-linejoin=\"round\" stroke-miterlimit=\"10.0375\" stroke-width=\"0.711319\"/>\n",
       "</g>\n",
       "<use x=\"446.396585\" y=\"637.094234\" xlink:href=\"#g0-0\"/>\n",
       "<use x=\"455.695082\" y=\"637.094234\" xlink:href=\"#g1-54\"/>\n",
       "<g transform=\"translate(340.228 337.677)scale(.996264)\">\n",
       "<path d=\"M121.28 284.883V287.017\" fill=\"none\" stroke=\"#000000\" stroke-linecap=\"round\" stroke-linejoin=\"round\" stroke-miterlimit=\"10.0375\" stroke-width=\"0.426791\"/>\n",
       "</g>\n",
       "<g transform=\"translate(340.228 337.677)scale(.996264)\">\n",
       "<path d=\"M128.393 284.883V287.017\" fill=\"none\" stroke=\"#000000\" stroke-linecap=\"round\" stroke-linejoin=\"round\" stroke-miterlimit=\"10.0375\" stroke-width=\"0.426791\"/>\n",
       "</g>\n",
       "<g transform=\"translate(340.228 337.677)scale(.996264)\">\n",
       "<path d=\"M135.506 284.883V287.017\" fill=\"none\" stroke=\"#000000\" stroke-linecap=\"round\" stroke-linejoin=\"round\" stroke-miterlimit=\"10.0375\" stroke-width=\"0.426791\"/>\n",
       "</g>\n",
       "<g transform=\"translate(340.228 337.677)scale(.996264)\">\n",
       "<path d=\"M142.619 284.883V289.151\" fill=\"none\" stroke=\"#000000\" stroke-linecap=\"round\" stroke-linejoin=\"round\" stroke-miterlimit=\"10.0375\" stroke-width=\"0.711319\"/>\n",
       "</g>\n",
       "<use x=\"474.743044\" y=\"637.094234\" xlink:href=\"#g0-0\"/>\n",
       "<use x=\"484.041541\" y=\"637.094234\" xlink:href=\"#g1-53\"/>\n",
       "<g transform=\"translate(340.228 337.677)scale(.996264)\">\n",
       "<path d=\"M149.733 284.883V287.017\" fill=\"none\" stroke=\"#000000\" stroke-linecap=\"round\" stroke-linejoin=\"round\" stroke-miterlimit=\"10.0375\" stroke-width=\"0.426791\"/>\n",
       "</g>\n",
       "<g transform=\"translate(340.228 337.677)scale(.996264)\">\n",
       "<path d=\"M156.846 284.883V287.017\" fill=\"none\" stroke=\"#000000\" stroke-linecap=\"round\" stroke-linejoin=\"round\" stroke-miterlimit=\"10.0375\" stroke-width=\"0.426791\"/>\n",
       "</g>\n",
       "<g transform=\"translate(340.228 337.677)scale(.996264)\">\n",
       "<path d=\"M163.959 284.883V287.017\" fill=\"none\" stroke=\"#000000\" stroke-linecap=\"round\" stroke-linejoin=\"round\" stroke-miterlimit=\"10.0375\" stroke-width=\"0.426791\"/>\n",
       "</g>\n",
       "<g transform=\"translate(340.228 337.677)scale(.996264)\">\n",
       "<path d=\"M171.072 284.883V289.151\" fill=\"none\" stroke=\"#000000\" stroke-linecap=\"round\" stroke-linejoin=\"round\" stroke-miterlimit=\"10.0375\" stroke-width=\"0.711319\"/>\n",
       "</g>\n",
       "<use x=\"503.089504\" y=\"637.094234\" xlink:href=\"#g0-0\"/>\n",
       "<use x=\"512.388001\" y=\"637.094234\" xlink:href=\"#g1-52\"/>\n",
       "<g transform=\"translate(340.228 337.677)scale(.996264)\">\n",
       "<path d=\"M178.185 284.883V287.017\" fill=\"none\" stroke=\"#000000\" stroke-linecap=\"round\" stroke-linejoin=\"round\" stroke-miterlimit=\"10.0375\" stroke-width=\"0.426791\"/>\n",
       "</g>\n",
       "<g transform=\"translate(340.228 337.677)scale(.996264)\">\n",
       "<path d=\"M185.299 284.883V287.017\" fill=\"none\" stroke=\"#000000\" stroke-linecap=\"round\" stroke-linejoin=\"round\" stroke-miterlimit=\"10.0375\" stroke-width=\"0.426791\"/>\n",
       "</g>\n",
       "<g transform=\"translate(340.228 337.677)scale(.996264)\">\n",
       "<path d=\"M192.412 284.883V287.017\" fill=\"none\" stroke=\"#000000\" stroke-linecap=\"round\" stroke-linejoin=\"round\" stroke-miterlimit=\"10.0375\" stroke-width=\"0.426791\"/>\n",
       "</g>\n",
       "<g transform=\"translate(340.228 337.677)scale(.996264)\">\n",
       "<path d=\"M199.525 284.883V289.151\" fill=\"none\" stroke=\"#000000\" stroke-linecap=\"round\" stroke-linejoin=\"round\" stroke-miterlimit=\"10.0375\" stroke-width=\"0.711319\"/>\n",
       "</g>\n",
       "<use x=\"531.435963\" y=\"637.094234\" xlink:href=\"#g0-0\"/>\n",
       "<use x=\"540.73446\" y=\"637.094234\" xlink:href=\"#g1-51\"/>\n",
       "<g transform=\"translate(340.228 337.677)scale(.996264)\">\n",
       "<path d=\"M206.638 284.883V287.017\" fill=\"none\" stroke=\"#000000\" stroke-linecap=\"round\" stroke-linejoin=\"round\" stroke-miterlimit=\"10.0375\" stroke-width=\"0.426791\"/>\n",
       "</g>\n",
       "<g transform=\"translate(340.228 337.677)scale(.996264)\">\n",
       "<path d=\"M213.751 284.883V287.017\" fill=\"none\" stroke=\"#000000\" stroke-linecap=\"round\" stroke-linejoin=\"round\" stroke-miterlimit=\"10.0375\" stroke-width=\"0.426791\"/>\n",
       "</g>\n",
       "<g transform=\"translate(340.228 337.677)scale(.996264)\">\n",
       "<path d=\"M220.865 284.883V287.017\" fill=\"none\" stroke=\"#000000\" stroke-linecap=\"round\" stroke-linejoin=\"round\" stroke-miterlimit=\"10.0375\" stroke-width=\"0.426791\"/>\n",
       "</g>\n",
       "<g transform=\"translate(340.228 337.677)scale(.996264)\">\n",
       "<path d=\"M227.978 284.883V289.151\" fill=\"none\" stroke=\"#000000\" stroke-linecap=\"round\" stroke-linejoin=\"round\" stroke-miterlimit=\"10.0375\" stroke-width=\"0.711319\"/>\n",
       "</g>\n",
       "<use x=\"559.782423\" y=\"637.094234\" xlink:href=\"#g0-0\"/>\n",
       "<use x=\"569.08092\" y=\"637.094234\" xlink:href=\"#g1-50\"/>\n",
       "<g transform=\"translate(340.228 337.677)scale(.996264)\">\n",
       "<path d=\"M235.091 284.883V287.017\" fill=\"none\" stroke=\"#000000\" stroke-linecap=\"round\" stroke-linejoin=\"round\" stroke-miterlimit=\"10.0375\" stroke-width=\"0.426791\"/>\n",
       "</g>\n",
       "<g transform=\"translate(340.228 337.677)scale(.996264)\">\n",
       "<path d=\"M242.204 284.883V287.017\" fill=\"none\" stroke=\"#000000\" stroke-linecap=\"round\" stroke-linejoin=\"round\" stroke-miterlimit=\"10.0375\" stroke-width=\"0.426791\"/>\n",
       "</g>\n",
       "<g transform=\"translate(340.228 337.677)scale(.996264)\">\n",
       "<path d=\"M249.317 284.883V287.017\" fill=\"none\" stroke=\"#000000\" stroke-linecap=\"round\" stroke-linejoin=\"round\" stroke-miterlimit=\"10.0375\" stroke-width=\"0.426791\"/>\n",
       "</g>\n",
       "<g transform=\"translate(340.228 337.677)scale(.996264)\">\n",
       "<path d=\"M256.43 284.883V289.151\" fill=\"none\" stroke=\"#000000\" stroke-linecap=\"round\" stroke-linejoin=\"round\" stroke-miterlimit=\"10.0375\" stroke-width=\"0.711319\"/>\n",
       "</g>\n",
       "<use x=\"588.128867\" y=\"637.094234\" xlink:href=\"#g0-0\"/>\n",
       "<use x=\"597.427364\" y=\"637.094234\" xlink:href=\"#g1-49\"/>\n",
       "<g transform=\"translate(340.228 337.677)scale(.996264)\">\n",
       "<path d=\"M263.544 284.883V287.017\" fill=\"none\" stroke=\"#000000\" stroke-linecap=\"round\" stroke-linejoin=\"round\" stroke-miterlimit=\"10.0375\" stroke-width=\"0.426791\"/>\n",
       "</g>\n",
       "<g transform=\"translate(340.228 337.677)scale(.996264)\">\n",
       "<path d=\"M270.657 284.883V287.017\" fill=\"none\" stroke=\"#000000\" stroke-linecap=\"round\" stroke-linejoin=\"round\" stroke-miterlimit=\"10.0375\" stroke-width=\"0.426791\"/>\n",
       "</g>\n",
       "<g transform=\"translate(340.228 337.677)scale(.996264)\">\n",
       "<path d=\"M277.77 284.883V287.017\" fill=\"none\" stroke=\"#000000\" stroke-linecap=\"round\" stroke-linejoin=\"round\" stroke-miterlimit=\"10.0375\" stroke-width=\"0.426791\"/>\n",
       "</g>\n",
       "<g transform=\"translate(340.228 337.677)scale(.996264)\">\n",
       "<path d=\"M313.336 284.883V289.151\" fill=\"none\" stroke=\"#000000\" stroke-linecap=\"round\" stroke-linejoin=\"round\" stroke-miterlimit=\"10.0375\" stroke-width=\"0.711319\"/>\n",
       "</g>\n",
       "<use x=\"649.471024\" y=\"637.094219\" xlink:href=\"#g1-49\"/>\n",
       "<g transform=\"translate(340.228 337.677)scale(.996264)\">\n",
       "<path d=\"M306.223 284.883V287.017\" fill=\"none\" stroke=\"#000000\" stroke-linecap=\"round\" stroke-linejoin=\"round\" stroke-miterlimit=\"10.0375\" stroke-width=\"0.426791\"/>\n",
       "</g>\n",
       "<g transform=\"translate(340.228 337.677)scale(.996264)\">\n",
       "<path d=\"M299.11 284.883V287.017\" fill=\"none\" stroke=\"#000000\" stroke-linecap=\"round\" stroke-linejoin=\"round\" stroke-miterlimit=\"10.0375\" stroke-width=\"0.426791\"/>\n",
       "</g>\n",
       "<g transform=\"translate(340.228 337.677)scale(.996264)\">\n",
       "<path d=\"M291.996 284.883V287.017\" fill=\"none\" stroke=\"#000000\" stroke-linecap=\"round\" stroke-linejoin=\"round\" stroke-miterlimit=\"10.0375\" stroke-width=\"0.426791\"/>\n",
       "</g>\n",
       "<g transform=\"translate(340.228 337.677)scale(.996264)\">\n",
       "<path d=\"M341.789 284.883V289.151\" fill=\"none\" stroke=\"#000000\" stroke-linecap=\"round\" stroke-linejoin=\"round\" stroke-miterlimit=\"10.0375\" stroke-width=\"0.711319\"/>\n",
       "</g>\n",
       "<use x=\"677.817483\" y=\"637.094219\" xlink:href=\"#g1-50\"/>\n",
       "<g transform=\"translate(340.228 337.677)scale(.996264)\">\n",
       "<path d=\"M334.676 284.883V287.017\" fill=\"none\" stroke=\"#000000\" stroke-linecap=\"round\" stroke-linejoin=\"round\" stroke-miterlimit=\"10.0375\" stroke-width=\"0.426791\"/>\n",
       "</g>\n",
       "<g transform=\"translate(340.228 337.677)scale(.996264)\">\n",
       "<path d=\"M327.562 284.883V287.017\" fill=\"none\" stroke=\"#000000\" stroke-linecap=\"round\" stroke-linejoin=\"round\" stroke-miterlimit=\"10.0375\" stroke-width=\"0.426791\"/>\n",
       "</g>\n",
       "<g transform=\"translate(340.228 337.677)scale(.996264)\">\n",
       "<path d=\"M320.449 284.883V287.017\" fill=\"none\" stroke=\"#000000\" stroke-linecap=\"round\" stroke-linejoin=\"round\" stroke-miterlimit=\"10.0375\" stroke-width=\"0.426791\"/>\n",
       "</g>\n",
       "<g transform=\"translate(340.228 337.677)scale(.996264)\">\n",
       "<path d=\"M370.241 284.883V289.151\" fill=\"none\" stroke=\"#000000\" stroke-linecap=\"round\" stroke-linejoin=\"round\" stroke-miterlimit=\"10.0375\" stroke-width=\"0.711319\"/>\n",
       "</g>\n",
       "<use x=\"706.163943\" y=\"637.094219\" xlink:href=\"#g1-51\"/>\n",
       "<g transform=\"translate(340.228 337.677)scale(.996264)\">\n",
       "<path d=\"M363.128 284.883V287.017\" fill=\"none\" stroke=\"#000000\" stroke-linecap=\"round\" stroke-linejoin=\"round\" stroke-miterlimit=\"10.0375\" stroke-width=\"0.426791\"/>\n",
       "</g>\n",
       "<g transform=\"translate(340.228 337.677)scale(.996264)\">\n",
       "<path d=\"M356.015 284.883V287.017\" fill=\"none\" stroke=\"#000000\" stroke-linecap=\"round\" stroke-linejoin=\"round\" stroke-miterlimit=\"10.0375\" stroke-width=\"0.426791\"/>\n",
       "</g>\n",
       "<g transform=\"translate(340.228 337.677)scale(.996264)\">\n",
       "<path d=\"M348.902 284.883V287.017\" fill=\"none\" stroke=\"#000000\" stroke-linecap=\"round\" stroke-linejoin=\"round\" stroke-miterlimit=\"10.0375\" stroke-width=\"0.426791\"/>\n",
       "</g>\n",
       "<g transform=\"translate(340.228 337.677)scale(.996264)\">\n",
       "<path d=\"M398.694 284.883V289.151\" fill=\"none\" stroke=\"#000000\" stroke-linecap=\"round\" stroke-linejoin=\"round\" stroke-miterlimit=\"10.0375\" stroke-width=\"0.711319\"/>\n",
       "</g>\n",
       "<use x=\"734.510387\" y=\"637.094219\" xlink:href=\"#g1-52\"/>\n",
       "<g transform=\"translate(340.228 337.677)scale(.996264)\">\n",
       "<path d=\"M391.581 284.883V287.017\" fill=\"none\" stroke=\"#000000\" stroke-linecap=\"round\" stroke-linejoin=\"round\" stroke-miterlimit=\"10.0375\" stroke-width=\"0.426791\"/>\n",
       "</g>\n",
       "<g transform=\"translate(340.228 337.677)scale(.996264)\">\n",
       "<path d=\"M384.468 284.883V287.017\" fill=\"none\" stroke=\"#000000\" stroke-linecap=\"round\" stroke-linejoin=\"round\" stroke-miterlimit=\"10.0375\" stroke-width=\"0.426791\"/>\n",
       "</g>\n",
       "<g transform=\"translate(340.228 337.677)scale(.996264)\">\n",
       "<path d=\"M377.355 284.883V287.017\" fill=\"none\" stroke=\"#000000\" stroke-linecap=\"round\" stroke-linejoin=\"round\" stroke-miterlimit=\"10.0375\" stroke-width=\"0.426791\"/>\n",
       "</g>\n",
       "<g transform=\"translate(340.228 337.677)scale(.996264)\">\n",
       "<path d=\"M427.147 284.883V289.151\" fill=\"none\" stroke=\"#000000\" stroke-linecap=\"round\" stroke-linejoin=\"round\" stroke-miterlimit=\"10.0375\" stroke-width=\"0.711319\"/>\n",
       "</g>\n",
       "<use x=\"762.856847\" y=\"637.094219\" xlink:href=\"#g1-53\"/>\n",
       "<g transform=\"translate(340.228 337.677)scale(.996264)\">\n",
       "<path d=\"M420.034 284.883V287.017\" fill=\"none\" stroke=\"#000000\" stroke-linecap=\"round\" stroke-linejoin=\"round\" stroke-miterlimit=\"10.0375\" stroke-width=\"0.426791\"/>\n",
       "</g>\n",
       "<g transform=\"translate(340.228 337.677)scale(.996264)\">\n",
       "<path d=\"M412.921 284.883V287.017\" fill=\"none\" stroke=\"#000000\" stroke-linecap=\"round\" stroke-linejoin=\"round\" stroke-miterlimit=\"10.0375\" stroke-width=\"0.426791\"/>\n",
       "</g>\n",
       "<g transform=\"translate(340.228 337.677)scale(.996264)\">\n",
       "<path d=\"M405.807 284.883V287.017\" fill=\"none\" stroke=\"#000000\" stroke-linecap=\"round\" stroke-linejoin=\"round\" stroke-miterlimit=\"10.0375\" stroke-width=\"0.426791\"/>\n",
       "</g>\n",
       "<g transform=\"translate(340.228 337.677)scale(.996264)\">\n",
       "<path d=\"M455.6 284.883V289.151\" fill=\"none\" stroke=\"#000000\" stroke-linecap=\"round\" stroke-linejoin=\"round\" stroke-miterlimit=\"10.0375\" stroke-width=\"0.711319\"/>\n",
       "</g>\n",
       "<use x=\"791.203306\" y=\"637.094219\" xlink:href=\"#g1-54\"/>\n",
       "<g transform=\"translate(340.228 337.677)scale(.996264)\">\n",
       "<path d=\"M448.487 284.883V287.017\" fill=\"none\" stroke=\"#000000\" stroke-linecap=\"round\" stroke-linejoin=\"round\" stroke-miterlimit=\"10.0375\" stroke-width=\"0.426791\"/>\n",
       "</g>\n",
       "<g transform=\"translate(340.228 337.677)scale(.996264)\">\n",
       "<path d=\"M441.373 284.883V287.017\" fill=\"none\" stroke=\"#000000\" stroke-linecap=\"round\" stroke-linejoin=\"round\" stroke-miterlimit=\"10.0375\" stroke-width=\"0.426791\"/>\n",
       "</g>\n",
       "<g transform=\"translate(340.228 337.677)scale(.996264)\">\n",
       "<path d=\"M434.26 284.883V287.017\" fill=\"none\" stroke=\"#000000\" stroke-linecap=\"round\" stroke-linejoin=\"round\" stroke-miterlimit=\"10.0375\" stroke-width=\"0.426791\"/>\n",
       "</g>\n",
       "<g transform=\"translate(340.228 337.677)scale(.996264)\">\n",
       "<path d=\"M484.053 284.883V289.151\" fill=\"none\" stroke=\"#000000\" stroke-linecap=\"round\" stroke-linejoin=\"round\" stroke-miterlimit=\"10.0375\" stroke-width=\"0.711319\"/>\n",
       "</g>\n",
       "<use x=\"819.549766\" y=\"637.094219\" xlink:href=\"#g1-55\"/>\n",
       "<g transform=\"translate(340.228 337.677)scale(.996264)\">\n",
       "<path d=\"M476.939 284.883V287.017\" fill=\"none\" stroke=\"#000000\" stroke-linecap=\"round\" stroke-linejoin=\"round\" stroke-miterlimit=\"10.0375\" stroke-width=\"0.426791\"/>\n",
       "</g>\n",
       "<g transform=\"translate(340.228 337.677)scale(.996264)\">\n",
       "<path d=\"M469.826 284.883V287.017\" fill=\"none\" stroke=\"#000000\" stroke-linecap=\"round\" stroke-linejoin=\"round\" stroke-miterlimit=\"10.0375\" stroke-width=\"0.426791\"/>\n",
       "</g>\n",
       "<g transform=\"translate(340.228 337.677)scale(.996264)\">\n",
       "<path d=\"M462.713 284.883V287.017\" fill=\"none\" stroke=\"#000000\" stroke-linecap=\"round\" stroke-linejoin=\"round\" stroke-miterlimit=\"10.0375\" stroke-width=\"0.426791\"/>\n",
       "</g>\n",
       "<g transform=\"translate(340.228 337.677)scale(.996264)\">\n",
       "<path d=\"M512.505 284.883V289.151\" fill=\"none\" stroke=\"#000000\" stroke-linecap=\"round\" stroke-linejoin=\"round\" stroke-miterlimit=\"10.0375\" stroke-width=\"0.711319\"/>\n",
       "</g>\n",
       "<use x=\"847.896225\" y=\"637.094219\" xlink:href=\"#g1-56\"/>\n",
       "<g transform=\"translate(340.228 337.677)scale(.996264)\">\n",
       "<path d=\"M505.392 284.883V287.017\" fill=\"none\" stroke=\"#000000\" stroke-linecap=\"round\" stroke-linejoin=\"round\" stroke-miterlimit=\"10.0375\" stroke-width=\"0.426791\"/>\n",
       "</g>\n",
       "<g transform=\"translate(340.228 337.677)scale(.996264)\">\n",
       "<path d=\"M498.279 284.883V287.017\" fill=\"none\" stroke=\"#000000\" stroke-linecap=\"round\" stroke-linejoin=\"round\" stroke-miterlimit=\"10.0375\" stroke-width=\"0.426791\"/>\n",
       "</g>\n",
       "<g transform=\"translate(340.228 337.677)scale(.996264)\">\n",
       "<path d=\"M491.166 284.883V287.017\" fill=\"none\" stroke=\"#000000\" stroke-linecap=\"round\" stroke-linejoin=\"round\" stroke-miterlimit=\"10.0375\" stroke-width=\"0.426791\"/>\n",
       "</g>\n",
       "<g transform=\"translate(340.228 337.677)scale(.996264)\">\n",
       "<path d=\"M540.958 284.883V289.151\" fill=\"none\" stroke=\"#000000\" stroke-linecap=\"round\" stroke-linejoin=\"round\" stroke-miterlimit=\"10.0375\" stroke-width=\"0.711319\"/>\n",
       "</g>\n",
       "<use x=\"876.242685\" y=\"637.094219\" xlink:href=\"#g1-57\"/>\n",
       "<g transform=\"translate(340.228 337.677)scale(.996264)\">\n",
       "<path d=\"M533.845 284.883V287.017\" fill=\"none\" stroke=\"#000000\" stroke-linecap=\"round\" stroke-linejoin=\"round\" stroke-miterlimit=\"10.0375\" stroke-width=\"0.426791\"/>\n",
       "</g>\n",
       "<g transform=\"translate(340.228 337.677)scale(.996264)\">\n",
       "<path d=\"M526.732 284.883V287.017\" fill=\"none\" stroke=\"#000000\" stroke-linecap=\"round\" stroke-linejoin=\"round\" stroke-miterlimit=\"10.0375\" stroke-width=\"0.426791\"/>\n",
       "</g>\n",
       "<g transform=\"translate(340.228 337.677)scale(.996264)\">\n",
       "<path d=\"M519.618 284.883V287.017\" fill=\"none\" stroke=\"#000000\" stroke-linecap=\"round\" stroke-linejoin=\"round\" stroke-miterlimit=\"10.0375\" stroke-width=\"0.426791\"/>\n",
       "</g>\n",
       "<g transform=\"translate(340.228 337.677)scale(.996264)\">\n",
       "<path d=\"M284.883 370.241H280.615\" fill=\"none\" stroke=\"#000000\" stroke-linecap=\"round\" stroke-linejoin=\"round\" stroke-miterlimit=\"10.0375\" stroke-width=\"0.711319\"/>\n",
       "</g>\n",
       "<use x=\"600.94584\" y=\"709.829503\" xlink:href=\"#g0-0\"/>\n",
       "<use x=\"610.244337\" y=\"709.829503\" xlink:href=\"#g1-51\"/>\n",
       "<g transform=\"translate(340.228 337.677)scale(.996264)\">\n",
       "<path d=\"M284.883 363.128H282.749\" fill=\"none\" stroke=\"#000000\" stroke-linecap=\"round\" stroke-linejoin=\"round\" stroke-miterlimit=\"10.0375\" stroke-width=\"0.426791\"/>\n",
       "</g>\n",
       "<g transform=\"translate(340.228 337.677)scale(.996264)\">\n",
       "<path d=\"M284.883 356.015H282.749\" fill=\"none\" stroke=\"#000000\" stroke-linecap=\"round\" stroke-linejoin=\"round\" stroke-miterlimit=\"10.0375\" stroke-width=\"0.426791\"/>\n",
       "</g>\n",
       "<g transform=\"translate(340.228 337.677)scale(.996264)\">\n",
       "<path d=\"M284.883 348.902H282.749\" fill=\"none\" stroke=\"#000000\" stroke-linecap=\"round\" stroke-linejoin=\"round\" stroke-miterlimit=\"10.0375\" stroke-width=\"0.426791\"/>\n",
       "</g>\n",
       "<g transform=\"translate(340.228 337.677)scale(.996264)\">\n",
       "<path d=\"M284.883 341.789H280.615\" fill=\"none\" stroke=\"#000000\" stroke-linecap=\"round\" stroke-linejoin=\"round\" stroke-miterlimit=\"10.0375\" stroke-width=\"0.711319\"/>\n",
       "</g>\n",
       "<use x=\"600.94584\" y=\"681.483043\" xlink:href=\"#g0-0\"/>\n",
       "<use x=\"610.244337\" y=\"681.483043\" xlink:href=\"#g1-50\"/>\n",
       "<g transform=\"translate(340.228 337.677)scale(.996264)\">\n",
       "<path d=\"M284.883 334.676H282.749\" fill=\"none\" stroke=\"#000000\" stroke-linecap=\"round\" stroke-linejoin=\"round\" stroke-miterlimit=\"10.0375\" stroke-width=\"0.426791\"/>\n",
       "</g>\n",
       "<g transform=\"translate(340.228 337.677)scale(.996264)\">\n",
       "<path d=\"M284.883 327.562H282.749\" fill=\"none\" stroke=\"#000000\" stroke-linecap=\"round\" stroke-linejoin=\"round\" stroke-miterlimit=\"10.0375\" stroke-width=\"0.426791\"/>\n",
       "</g>\n",
       "<g transform=\"translate(340.228 337.677)scale(.996264)\">\n",
       "<path d=\"M284.883 320.449H282.749\" fill=\"none\" stroke=\"#000000\" stroke-linecap=\"round\" stroke-linejoin=\"round\" stroke-miterlimit=\"10.0375\" stroke-width=\"0.426791\"/>\n",
       "</g>\n",
       "<g transform=\"translate(340.228 337.677)scale(.996264)\">\n",
       "<path d=\"M284.883 313.336H280.615\" fill=\"none\" stroke=\"#000000\" stroke-linecap=\"round\" stroke-linejoin=\"round\" stroke-miterlimit=\"10.0375\" stroke-width=\"0.711319\"/>\n",
       "</g>\n",
       "<use x=\"600.94584\" y=\"653.136599\" xlink:href=\"#g0-0\"/>\n",
       "<use x=\"610.244337\" y=\"653.136599\" xlink:href=\"#g1-49\"/>\n",
       "<g transform=\"translate(340.228 337.677)scale(.996264)\">\n",
       "<path d=\"M284.883 306.223H282.749\" fill=\"none\" stroke=\"#000000\" stroke-linecap=\"round\" stroke-linejoin=\"round\" stroke-miterlimit=\"10.0375\" stroke-width=\"0.426791\"/>\n",
       "</g>\n",
       "<g transform=\"translate(340.228 337.677)scale(.996264)\">\n",
       "<path d=\"M284.883 299.11H282.749\" fill=\"none\" stroke=\"#000000\" stroke-linecap=\"round\" stroke-linejoin=\"round\" stroke-miterlimit=\"10.0375\" stroke-width=\"0.426791\"/>\n",
       "</g>\n",
       "<g transform=\"translate(340.228 337.677)scale(.996264)\">\n",
       "<path d=\"M284.883 291.996H282.749\" fill=\"none\" stroke=\"#000000\" stroke-linecap=\"round\" stroke-linejoin=\"round\" stroke-miterlimit=\"10.0375\" stroke-width=\"0.426791\"/>\n",
       "</g>\n",
       "<g transform=\"translate(340.228 337.677)scale(.996264)\">\n",
       "<path d=\"M284.883 256.43H280.615\" fill=\"none\" stroke=\"#000000\" stroke-linecap=\"round\" stroke-linejoin=\"round\" stroke-miterlimit=\"10.0375\" stroke-width=\"0.711319\"/>\n",
       "</g>\n",
       "<use x=\"610.244329\" y=\"596.941797\" xlink:href=\"#g1-49\"/>\n",
       "<g transform=\"translate(340.228 337.677)scale(.996264)\">\n",
       "<path d=\"M284.883 263.544H282.749\" fill=\"none\" stroke=\"#000000\" stroke-linecap=\"round\" stroke-linejoin=\"round\" stroke-miterlimit=\"10.0375\" stroke-width=\"0.426791\"/>\n",
       "</g>\n",
       "<g transform=\"translate(340.228 337.677)scale(.996264)\">\n",
       "<path d=\"M284.883 270.657H282.749\" fill=\"none\" stroke=\"#000000\" stroke-linecap=\"round\" stroke-linejoin=\"round\" stroke-miterlimit=\"10.0375\" stroke-width=\"0.426791\"/>\n",
       "</g>\n",
       "<g transform=\"translate(340.228 337.677)scale(.996264)\">\n",
       "<path d=\"M284.883 277.77H282.749\" fill=\"none\" stroke=\"#000000\" stroke-linecap=\"round\" stroke-linejoin=\"round\" stroke-miterlimit=\"10.0375\" stroke-width=\"0.426791\"/>\n",
       "</g>\n",
       "<g transform=\"translate(340.228 337.677)scale(.996264)\">\n",
       "<path d=\"M284.883 227.978H280.615\" fill=\"none\" stroke=\"#000000\" stroke-linecap=\"round\" stroke-linejoin=\"round\" stroke-miterlimit=\"10.0375\" stroke-width=\"0.711319\"/>\n",
       "</g>\n",
       "<use x=\"610.244329\" y=\"568.595337\" xlink:href=\"#g1-50\"/>\n",
       "<g transform=\"translate(340.228 337.677)scale(.996264)\">\n",
       "<path d=\"M284.883 235.091H282.749\" fill=\"none\" stroke=\"#000000\" stroke-linecap=\"round\" stroke-linejoin=\"round\" stroke-miterlimit=\"10.0375\" stroke-width=\"0.426791\"/>\n",
       "</g>\n",
       "<g transform=\"translate(340.228 337.677)scale(.996264)\">\n",
       "<path d=\"M284.883 242.204H282.749\" fill=\"none\" stroke=\"#000000\" stroke-linecap=\"round\" stroke-linejoin=\"round\" stroke-miterlimit=\"10.0375\" stroke-width=\"0.426791\"/>\n",
       "</g>\n",
       "<g transform=\"translate(340.228 337.677)scale(.996264)\">\n",
       "<path d=\"M284.883 249.317H282.749\" fill=\"none\" stroke=\"#000000\" stroke-linecap=\"round\" stroke-linejoin=\"round\" stroke-miterlimit=\"10.0375\" stroke-width=\"0.426791\"/>\n",
       "</g>\n",
       "<g transform=\"translate(340.228 337.677)scale(.996264)\">\n",
       "<path d=\"M284.883 199.525H280.615\" fill=\"none\" stroke=\"#000000\" stroke-linecap=\"round\" stroke-linejoin=\"round\" stroke-miterlimit=\"10.0375\" stroke-width=\"0.711319\"/>\n",
       "</g>\n",
       "<use x=\"610.244329\" y=\"540.248878\" xlink:href=\"#g1-51\"/>\n",
       "<g transform=\"translate(340.228 337.677)scale(.996264)\">\n",
       "<path d=\"M284.883 206.638H282.749\" fill=\"none\" stroke=\"#000000\" stroke-linecap=\"round\" stroke-linejoin=\"round\" stroke-miterlimit=\"10.0375\" stroke-width=\"0.426791\"/>\n",
       "</g>\n",
       "<g transform=\"translate(340.228 337.677)scale(.996264)\">\n",
       "<path d=\"M284.883 213.751H282.749\" fill=\"none\" stroke=\"#000000\" stroke-linecap=\"round\" stroke-linejoin=\"round\" stroke-miterlimit=\"10.0375\" stroke-width=\"0.426791\"/>\n",
       "</g>\n",
       "<g transform=\"translate(340.228 337.677)scale(.996264)\">\n",
       "<path d=\"M284.883 220.865H282.749\" fill=\"none\" stroke=\"#000000\" stroke-linecap=\"round\" stroke-linejoin=\"round\" stroke-miterlimit=\"10.0375\" stroke-width=\"0.426791\"/>\n",
       "</g>\n",
       "<g transform=\"translate(340.228 337.677)scale(.996264)\">\n",
       "<path d=\"M284.883 171.072H280.615\" fill=\"none\" stroke=\"#000000\" stroke-linecap=\"round\" stroke-linejoin=\"round\" stroke-miterlimit=\"10.0375\" stroke-width=\"0.711319\"/>\n",
       "</g>\n",
       "<use x=\"610.244329\" y=\"511.902433\" xlink:href=\"#g1-52\"/>\n",
       "<g transform=\"translate(340.228 337.677)scale(.996264)\">\n",
       "<path d=\"M284.883 178.185H282.749\" fill=\"none\" stroke=\"#000000\" stroke-linecap=\"round\" stroke-linejoin=\"round\" stroke-miterlimit=\"10.0375\" stroke-width=\"0.426791\"/>\n",
       "</g>\n",
       "<g transform=\"translate(340.228 337.677)scale(.996264)\">\n",
       "<path d=\"M284.883 185.299H282.749\" fill=\"none\" stroke=\"#000000\" stroke-linecap=\"round\" stroke-linejoin=\"round\" stroke-miterlimit=\"10.0375\" stroke-width=\"0.426791\"/>\n",
       "</g>\n",
       "<g transform=\"translate(340.228 337.677)scale(.996264)\">\n",
       "<path d=\"M284.883 192.412H282.749\" fill=\"none\" stroke=\"#000000\" stroke-linecap=\"round\" stroke-linejoin=\"round\" stroke-miterlimit=\"10.0375\" stroke-width=\"0.426791\"/>\n",
       "</g>\n",
       "<g transform=\"translate(340.228 337.677)scale(.996264)\">\n",
       "<path d=\"M284.883 142.619H280.615\" fill=\"none\" stroke=\"#000000\" stroke-linecap=\"round\" stroke-linejoin=\"round\" stroke-miterlimit=\"10.0375\" stroke-width=\"0.711319\"/>\n",
       "</g>\n",
       "<use x=\"610.244329\" y=\"483.555974\" xlink:href=\"#g1-53\"/>\n",
       "<g transform=\"translate(340.228 337.677)scale(.996264)\">\n",
       "<path d=\"M284.883 149.733H282.749\" fill=\"none\" stroke=\"#000000\" stroke-linecap=\"round\" stroke-linejoin=\"round\" stroke-miterlimit=\"10.0375\" stroke-width=\"0.426791\"/>\n",
       "</g>\n",
       "<g transform=\"translate(340.228 337.677)scale(.996264)\">\n",
       "<path d=\"M284.883 156.846H282.749\" fill=\"none\" stroke=\"#000000\" stroke-linecap=\"round\" stroke-linejoin=\"round\" stroke-miterlimit=\"10.0375\" stroke-width=\"0.426791\"/>\n",
       "</g>\n",
       "<g transform=\"translate(340.228 337.677)scale(.996264)\">\n",
       "<path d=\"M284.883 163.959H282.749\" fill=\"none\" stroke=\"#000000\" stroke-linecap=\"round\" stroke-linejoin=\"round\" stroke-miterlimit=\"10.0375\" stroke-width=\"0.426791\"/>\n",
       "</g>\n",
       "<g transform=\"translate(340.228 337.677)scale(.996264)\">\n",
       "<path d=\"M284.883 114.167H280.615\" fill=\"none\" stroke=\"#000000\" stroke-linecap=\"round\" stroke-linejoin=\"round\" stroke-miterlimit=\"10.0375\" stroke-width=\"0.711319\"/>\n",
       "</g>\n",
       "<use x=\"610.244329\" y=\"455.209514\" xlink:href=\"#g1-54\"/>\n",
       "<g transform=\"translate(340.228 337.677)scale(.996264)\">\n",
       "<path d=\"M284.883 121.28H282.749\" fill=\"none\" stroke=\"#000000\" stroke-linecap=\"round\" stroke-linejoin=\"round\" stroke-miterlimit=\"10.0375\" stroke-width=\"0.426791\"/>\n",
       "</g>\n",
       "<g transform=\"translate(340.228 337.677)scale(.996264)\">\n",
       "<path d=\"M284.883 128.393H282.749\" fill=\"none\" stroke=\"#000000\" stroke-linecap=\"round\" stroke-linejoin=\"round\" stroke-miterlimit=\"10.0375\" stroke-width=\"0.426791\"/>\n",
       "</g>\n",
       "<g transform=\"translate(340.228 337.677)scale(.996264)\">\n",
       "<path d=\"M284.883 135.506H282.749\" fill=\"none\" stroke=\"#000000\" stroke-linecap=\"round\" stroke-linejoin=\"round\" stroke-miterlimit=\"10.0375\" stroke-width=\"0.426791\"/>\n",
       "</g>\n",
       "<g transform=\"translate(340.228 337.677)scale(.996264)\">\n",
       "<path d=\"M284.883 85.7139H280.615\" fill=\"none\" stroke=\"#000000\" stroke-linecap=\"round\" stroke-linejoin=\"round\" stroke-miterlimit=\"10.0375\" stroke-width=\"0.711319\"/>\n",
       "</g>\n",
       "<use x=\"610.244329\" y=\"426.863054\" xlink:href=\"#g1-55\"/>\n",
       "<g transform=\"translate(340.228 337.677)scale(.996264)\">\n",
       "<path d=\"M284.883 92.8271H282.749\" fill=\"none\" stroke=\"#000000\" stroke-linecap=\"round\" stroke-linejoin=\"round\" stroke-miterlimit=\"10.0375\" stroke-width=\"0.426791\"/>\n",
       "</g>\n",
       "<g transform=\"translate(340.228 337.677)scale(.996264)\">\n",
       "<path d=\"M284.883 99.9403H282.749\" fill=\"none\" stroke=\"#000000\" stroke-linecap=\"round\" stroke-linejoin=\"round\" stroke-miterlimit=\"10.0375\" stroke-width=\"0.426791\"/>\n",
       "</g>\n",
       "<g transform=\"translate(340.228 337.677)scale(.996264)\">\n",
       "<path d=\"M284.883 107.053H282.749\" fill=\"none\" stroke=\"#000000\" stroke-linecap=\"round\" stroke-linejoin=\"round\" stroke-miterlimit=\"10.0375\" stroke-width=\"0.426791\"/>\n",
       "</g>\n",
       "<g transform=\"translate(340.228 337.677)scale(.996264)\">\n",
       "<path d=\"M284.883 57.2612H280.615\" fill=\"none\" stroke=\"#000000\" stroke-linecap=\"round\" stroke-linejoin=\"round\" stroke-miterlimit=\"10.0375\" stroke-width=\"0.711319\"/>\n",
       "</g>\n",
       "<use x=\"610.244329\" y=\"398.516595\" xlink:href=\"#g1-56\"/>\n",
       "<g transform=\"translate(340.228 337.677)scale(.996264)\">\n",
       "<path d=\"M284.883 64.3744H282.749\" fill=\"none\" stroke=\"#000000\" stroke-linecap=\"round\" stroke-linejoin=\"round\" stroke-miterlimit=\"10.0375\" stroke-width=\"0.426791\"/>\n",
       "</g>\n",
       "<g transform=\"translate(340.228 337.677)scale(.996264)\">\n",
       "<path d=\"M284.883 71.4875H282.749\" fill=\"none\" stroke=\"#000000\" stroke-linecap=\"round\" stroke-linejoin=\"round\" stroke-miterlimit=\"10.0375\" stroke-width=\"0.426791\"/>\n",
       "</g>\n",
       "<g transform=\"translate(340.228 337.677)scale(.996264)\">\n",
       "<path d=\"M284.883 78.6007H282.749\" fill=\"none\" stroke=\"#000000\" stroke-linecap=\"round\" stroke-linejoin=\"round\" stroke-miterlimit=\"10.0375\" stroke-width=\"0.426791\"/>\n",
       "</g>\n",
       "<g transform=\"translate(340.228 337.677)scale(.996264)\">\n",
       "<path d=\"M284.883 28.8084H280.615\" fill=\"none\" stroke=\"#000000\" stroke-linecap=\"round\" stroke-linejoin=\"round\" stroke-miterlimit=\"10.0375\" stroke-width=\"0.711319\"/>\n",
       "</g>\n",
       "<use x=\"610.244329\" y=\"370.170151\" xlink:href=\"#g1-57\"/>\n",
       "<g transform=\"translate(340.228 337.677)scale(.996264)\">\n",
       "<path d=\"M284.883 35.9216H282.749\" fill=\"none\" stroke=\"#000000\" stroke-linecap=\"round\" stroke-linejoin=\"round\" stroke-miterlimit=\"10.0375\" stroke-width=\"0.426791\"/>\n",
       "</g>\n",
       "<g transform=\"translate(340.228 337.677)scale(.996264)\">\n",
       "<path d=\"M284.883 43.0348H282.749\" fill=\"none\" stroke=\"#000000\" stroke-linecap=\"round\" stroke-linejoin=\"round\" stroke-miterlimit=\"10.0375\" stroke-width=\"0.426791\"/>\n",
       "</g>\n",
       "<g transform=\"translate(340.228 337.677)scale(.996264)\">\n",
       "<path d=\"M284.883 50.148H282.749\" fill=\"none\" stroke=\"#000000\" stroke-linecap=\"round\" stroke-linejoin=\"round\" stroke-miterlimit=\"10.0375\" stroke-width=\"0.426791\"/>\n",
       "</g>\n",
       "<g transform=\"translate(340.228 337.677)scale(.996264)\">\n",
       "<path d=\"M427.147 256.43L370.241 57.2612L227.978 313.336L427.147 256.43Z\" fill=\"#8080ff\" opacity=\"0.5\"/>\n",
       "</g>\n",
       "<g transform=\"translate(340.228 337.677)scale(.996264)\">\n",
       "<path d=\"M427.147 256.43L370.241 57.2612L227.978 313.336L427.147 256.43Z\" fill=\"none\" stroke=\"#0000ff\" stroke-linecap=\"round\" stroke-linejoin=\"round\" stroke-miterlimit=\"10.0375\" stroke-width=\"1.00375\"/>\n",
       "</g>\n",
       "<g transform=\"translate(340.228 337.677)scale(.996264)\">\n",
       "<path d=\"M390.049 24.9965L190.88 81.902L446.954 224.166L390.049 24.9965Z\" fill=\"#80ff80\" opacity=\"0.5\"/>\n",
       "</g>\n",
       "<g transform=\"translate(340.228 337.677)scale(.996264)\">\n",
       "<path d=\"M390.049 24.9965L190.88 81.902L446.954 224.166L390.049 24.9965Z\" fill=\"none\" stroke=\"#00ff00\" stroke-linecap=\"round\" stroke-linejoin=\"round\" stroke-miterlimit=\"10.0375\" stroke-width=\"1.00375\"/>\n",
       "</g>\n",
       "</g>\n",
       "</svg>"
      ],
      "text/plain": [
       "<IPython.core.display.SVG object>"
      ]
     },
     "execution_count": 120,
     "metadata": {},
     "output_type": "execute_result"
    }
   ],
   "source": [
    "%%asy --fmt svg\n",
    "import geometry;\n",
    "import coordenades;\n",
    "import graph;\n",
    "\n",
    "unitsize(1cm);\n",
    "\n",
    "pen g = opacity(.5)+lightgreen,\n",
    "    b = opacity(.5)+lightblue;\n",
    "transform t1 = rotate(120,(2,3)),\n",
    "          t2 = rotate(-30,(1,-3)),\n",
    "          tr = t1*t2;\n",
    "path P = (5,1)--(3,8)--(-2,-1)--cycle;\n",
    "Canonica(-10,10,-4,10);\n",
    "filldraw(P,b,1bp+blue);\n",
    "filldraw(tr*P,g,1bp+green);"
   ]
  },
  {
   "cell_type": "markdown",
   "metadata": {},
   "source": [
    "3. Per trobar un punt fix de la transformació afí, hem de resoldre els sistema d'equacions\n",
    "$$\n",
    "  \\left(\\begin{array}{c} x \\\\ y  \\end{array}\\right)\n",
    "  =\\frac{1}{2}\\left(\\begin{array}{c} -1+6\\sqrt{3} \\\\ 10-\\sqrt{3} \\end{array}\\right)\n",
    "  +\\left(\\begin{array}{rr}\n",
    "     0 & -1 \\\\\n",
    "     1 &  0\n",
    "  \\end{array}\\right)\n",
    "  \\left(\\begin{array}{c} x \\\\ y\\end{array}\\right)\\,.\n",
    "$$"
   ]
  },
  {
   "cell_type": "code",
   "execution_count": 121,
   "metadata": {},
   "outputs": [
    {
     "data": {
      "text/html": [
       "<html>\\(\\displaystyle \\left[\\left[x = \\frac{7}{4} \\, \\sqrt{3} - \\frac{11}{4}, y = \\frac{5}{4} \\, \\sqrt{3} + \\frac{9}{4}\\right]\\right]\\)</html>"
      ],
      "text/latex": [
       "$\\displaystyle \\left[\\left[x = \\frac{7}{4} \\, \\sqrt{3} - \\frac{11}{4}, y = \\frac{5}{4} \\, \\sqrt{3} + \\frac{9}{4}\\right]\\right]$"
      ],
      "text/plain": [
       "[[x == 7/4*sqrt(3) - 11/4, y == 5/4*sqrt(3) + 9/4]]"
      ]
     },
     "metadata": {},
     "output_type": "display_data"
    }
   ],
   "source": [
    "x, y = var('x y')\n",
    "X = vector([x,y])\n",
    "TX = R+A*B*X\n",
    "sol = solve([X[i] == TX[i] for i in range(2)],[x,y])\n",
    "show(sol)"
   ]
  },
  {
   "cell_type": "markdown",
   "metadata": {},
   "source": [
    "El punt de coordenades\n",
    "$$\n",
    "  \\frac{1}{4}\\left(-11+7\\sqrt{3},9+5\\sqrt{3}\\right)\n",
    "$$\n",
    "és un punt fix d'aquesta transformació afí."
   ]
  },
  {
   "cell_type": "markdown",
   "metadata": {},
   "source": [
    "## Exercici 27\n",
    "Determineu la representació en la referència canònica de la rotació afí d'angle $\\dfrac{3\\pi}{2}$\n",
    "al voltant de la recta afí que passa pel punt $(1,-1,2)$ i té vector director $(0,-1,0)$."
   ]
  },
  {
   "cell_type": "markdown",
   "metadata": {},
   "source": [
    "Calculem en primer la matriu en la base canònica de la rotació vectorial d'angle $\\dfrac{3\\pi}{2}$ al voltant del vector $(0,-1,0)$. per això, hem de trobar\n",
    "una base ortonormal positiva $\\mathcal{B}'=\\{\\vec u_1,\\vec u_2,\\vec u_3\\}$ tal que $\\vec u_1$ tingui la mateixa direcció i sentit que $(0,-1,0)$. És evident que:"
   ]
  },
  {
   "cell_type": "code",
   "execution_count": 122,
   "metadata": {
    "scrolled": true,
    "tags": []
   },
   "outputs": [
    {
     "data": {
      "text/html": [
       "<html>\\(\\displaystyle \\left(0,\\,0,\\,1\\right)\\)</html>"
      ],
      "text/latex": [
       "$\\displaystyle \\left(0,\\,0,\\,1\\right)$"
      ],
      "text/plain": [
       "(0, 0, 1)"
      ]
     },
     "metadata": {},
     "output_type": "display_data"
    }
   ],
   "source": [
    "u1 = vector([0,-1,0])\n",
    "u2 = vector([1,0,0])\n",
    "u3 = u1.cross_product(u2)\n",
    "show(u3)"
   ]
  },
  {
   "cell_type": "markdown",
   "metadata": {},
   "source": [
    "La matriu de la rotació vectorial en la base $\\mathcal{B}'$ és"
   ]
  },
  {
   "cell_type": "code",
   "execution_count": 123,
   "metadata": {},
   "outputs": [
    {
     "data": {
      "text/html": [
       "<html>\\(\\displaystyle \\left(\\begin{array}{rrr}\n",
       "1 & 0 & 0 \\\\\n",
       "0 & 0 & 1 \\\\\n",
       "0 & -1 & 0\n",
       "\\end{array}\\right)\\)</html>"
      ],
      "text/latex": [
       "$\\displaystyle \\left(\\begin{array}{rrr}\n",
       "1 & 0 & 0 \\\\\n",
       "0 & 0 & 1 \\\\\n",
       "0 & -1 & 0\n",
       "\\end{array}\\right)$"
      ],
      "text/plain": [
       "[ 1  0  0]\n",
       "[ 0  0  1]\n",
       "[ 0 -1  0]"
      ]
     },
     "metadata": {},
     "output_type": "display_data"
    }
   ],
   "source": [
    "alfa = 3*pi/2\n",
    "A1 = matrix([[1,0,0],[0,cos(alfa),-sin(alfa)],[0,sin(alfa),cos(alfa)]])\n",
    "show(A1)"
   ]
  },
  {
   "cell_type": "markdown",
   "metadata": {},
   "source": [
    "Per trobar la matriu de la rotació vectorial en la base canònica, hem d'aplicar la fórmula del canvi de base $A=CA'C^{-1}$ (en aquest cas també és $A=CAC^t$)."
   ]
  },
  {
   "cell_type": "code",
   "execution_count": 124,
   "metadata": {},
   "outputs": [
    {
     "data": {
      "text/html": [
       "<html>\\(\\displaystyle \\left(\\begin{array}{rrr}\n",
       "0 & 0 & 1 \\\\\n",
       "0 & 1 & 0 \\\\\n",
       "-1 & 0 & 0\n",
       "\\end{array}\\right)\\)</html>"
      ],
      "text/latex": [
       "$\\displaystyle \\left(\\begin{array}{rrr}\n",
       "0 & 0 & 1 \\\\\n",
       "0 & 1 & 0 \\\\\n",
       "-1 & 0 & 0\n",
       "\\end{array}\\right)$"
      ],
      "text/plain": [
       "[ 0  0  1]\n",
       "[ 0  1  0]\n",
       "[-1  0  0]"
      ]
     },
     "metadata": {},
     "output_type": "display_data"
    }
   ],
   "source": [
    "C = matrix([u1,u2,u3]).T\n",
    "A = C * A1 * C.inverse()\n",
    "show(A)"
   ]
  },
  {
   "cell_type": "markdown",
   "metadata": {},
   "source": [
    "També podem trobar aquesta matriu a partir del quaternió corresponent a aquesta rotació\n",
    "$$\n",
    "  q = \\cos\\frac{\\alpha}{2} + \\sin\\frac{\\alpha}{2}\\,\\vec u_1\n",
    "$$"
   ]
  },
  {
   "cell_type": "code",
   "execution_count": 125,
   "metadata": {},
   "outputs": [
    {
     "data": {
      "text/html": [
       "<html>\\(\\displaystyle \\left(\\begin{array}{rrr}\n",
       "0 & 0 & 1 \\\\\n",
       "0 & 1 & 0 \\\\\n",
       "-1 & 0 & 0\n",
       "\\end{array}\\right)\\)</html>"
      ],
      "text/latex": [
       "$\\displaystyle \\left(\\begin{array}{rrr}\n",
       "0 & 0 & 1 \\\\\n",
       "0 & 1 & 0 \\\\\n",
       "-1 & 0 & 0\n",
       "\\end{array}\\right)$"
      ],
      "text/plain": [
       "[ 0  0  1]\n",
       "[ 0  1  0]\n",
       "[-1  0  0]"
      ]
     },
     "metadata": {},
     "output_type": "display_data"
    }
   ],
   "source": [
    "alfa = 3*pi/2\n",
    "a = cos(alfa/2)\n",
    "b, c, d = sin(alfa/2)*u1\n",
    "A = quaternio_a_rotacio(a,b,c,d)\n",
    "show(A)"
   ]
  },
  {
   "cell_type": "markdown",
   "metadata": {},
   "source": [
    "La representació en la referència canònica de la rotació afí d'angle $\\frac{3\\pi}{2}$\n",
    "al voltant de la recta que passa pel punt $(1,-1,2)$ i té vector director $(0,-1,0)$ és\n",
    "$$\n",
    "  \\left(\\begin{array}{c} u \\\\ v \\\\ w \\end{array}\\right)\n",
    "  = \\left(\\begin{array}{r} 1 \\\\ -1 \\\\ 2 \\end{array}\\right)\n",
    "  + \\left(\\begin{array}{rrr}\n",
    "   0 & 0 & 1 \\\\\n",
    "   0 & 1 & 0 \\\\\n",
    "  -1 & 0 & 0 \n",
    "  \\end{array}\\right)\n",
    "  \\left(\\begin{array}{c} x-1 \\\\ y+1 \\\\ z-2 \\end{array}\\right)\\,.\n",
    "$$"
   ]
  },
  {
   "cell_type": "markdown",
   "metadata": {},
   "source": [
    "Amb un últim càlcul: "
   ]
  },
  {
   "cell_type": "code",
   "execution_count": 126,
   "metadata": {},
   "outputs": [
    {
     "data": {
      "text/html": [
       "<html>\\(\\displaystyle \\left(-1,\\,0,\\,3\\right)\\)</html>"
      ],
      "text/latex": [
       "$\\displaystyle \\left(-1,\\,0,\\,3\\right)$"
      ],
      "text/plain": [
       "(-1, 0, 3)"
      ]
     },
     "metadata": {},
     "output_type": "display_data"
    }
   ],
   "source": [
    "F = vector([1,-1,2])\n",
    "show(F - A*F)"
   ]
  },
  {
   "cell_type": "markdown",
   "metadata": {},
   "source": [
    "podem escrirure que\n",
    "$$\n",
    "  \\left(\\begin{array}{c} u \\\\ v \\\\ w \\end{array}\\right)\n",
    "  = \\left(\\begin{array}{r} -1 \\\\ 0 \\\\ 3 \\end{array}\\right)\n",
    "  + \\left(\\begin{array}{rrr}\n",
    "   0 & 0 & 1 \\\\\n",
    "   0 & 1 & 0 \\\\\n",
    "  -1 & 0 & 0 \n",
    "  \\end{array}\\right)\n",
    "  \\left(\\begin{array}{c} x \\\\ y \\\\ z \\end{array}\\right)\\,.\n",
    "$$"
   ]
  },
  {
   "cell_type": "markdown",
   "metadata": {
    "tags": []
   },
   "source": [
    "## Exercici 28\n",
    "Trobeu la representació en la referència canònica del moviment helicoidal consistent en una rotació d'angle $\\dfrac{5\\pi}{4}$ al voltant de la recta que passa pel punt $(1,1,-1)$ i té vector director $(1,-1,0)$ i una translació de vector $(2,-2,0)$."
   ]
  },
  {
   "cell_type": "markdown",
   "metadata": {},
   "source": [
    "Aquest exercici és semblant a l'anterior, així que anem fen càlculs semblants. Comencem per la base $\\mathcal{B}'$."
   ]
  },
  {
   "cell_type": "code",
   "execution_count": 128,
   "metadata": {},
   "outputs": [
    {
     "data": {
      "text/html": [
       "<html>\\(\\displaystyle \\left(\\begin{array}{rrr}\n",
       "\\frac{1}{2} \\, \\sqrt{2} & 0 & -\\frac{1}{2} \\, \\sqrt{2} \\\\\n",
       "-\\frac{1}{2} \\, \\sqrt{2} & 0 & -\\frac{1}{2} \\, \\sqrt{2} \\\\\n",
       "0 & 1 & 0\n",
       "\\end{array}\\right)\\)</html>"
      ],
      "text/latex": [
       "$\\displaystyle \\left(\\begin{array}{rrr}\n",
       "\\frac{1}{2} \\, \\sqrt{2} & 0 & -\\frac{1}{2} \\, \\sqrt{2} \\\\\n",
       "-\\frac{1}{2} \\, \\sqrt{2} & 0 & -\\frac{1}{2} \\, \\sqrt{2} \\\\\n",
       "0 & 1 & 0\n",
       "\\end{array}\\right)$"
      ],
      "text/plain": [
       "[ 1/2*sqrt(2)            0 -1/2*sqrt(2)]\n",
       "[-1/2*sqrt(2)            0 -1/2*sqrt(2)]\n",
       "[           0            1            0]"
      ]
     },
     "metadata": {},
     "output_type": "display_data"
    }
   ],
   "source": [
    "u1 = 1/sqrt(2)*vector([1,-1,0])\n",
    "u2 = vector([0,0,1])\n",
    "u3 = u1.cross_product(u2)\n",
    "C = matrix([u1,u2,u3]).T\n",
    "show(C)"
   ]
  },
  {
   "cell_type": "markdown",
   "metadata": {},
   "source": [
    "Matriu de la reotació vectorial en la base $\\mathcal{B}'$:"
   ]
  },
  {
   "cell_type": "code",
   "execution_count": 132,
   "metadata": {},
   "outputs": [
    {
     "data": {
      "text/html": [
       "<html>\\(\\displaystyle \\left(\\begin{array}{rrr}\n",
       "1 & 0 & 0 \\\\\n",
       "0 & -\\frac{1}{2} \\, \\sqrt{2} & \\frac{1}{2} \\, \\sqrt{2} \\\\\n",
       "0 & -\\frac{1}{2} \\, \\sqrt{2} & -\\frac{1}{2} \\, \\sqrt{2}\n",
       "\\end{array}\\right)\\)</html>"
      ],
      "text/latex": [
       "$\\displaystyle \\left(\\begin{array}{rrr}\n",
       "1 & 0 & 0 \\\\\n",
       "0 & -\\frac{1}{2} \\, \\sqrt{2} & \\frac{1}{2} \\, \\sqrt{2} \\\\\n",
       "0 & -\\frac{1}{2} \\, \\sqrt{2} & -\\frac{1}{2} \\, \\sqrt{2}\n",
       "\\end{array}\\right)$"
      ],
      "text/plain": [
       "[           1            0            0]\n",
       "[           0 -1/2*sqrt(2)  1/2*sqrt(2)]\n",
       "[           0 -1/2*sqrt(2) -1/2*sqrt(2)]"
      ]
     },
     "metadata": {},
     "output_type": "display_data"
    }
   ],
   "source": [
    "alfa = 5*pi/4\n",
    "A1 = matrix([[1,0,0],[0,cos(alfa),-sin(alfa)],[0,sin(alfa),cos(alfa)]])\n",
    "show(A1)"
   ]
  },
  {
   "cell_type": "markdown",
   "metadata": {},
   "source": [
    "Matriu de la rotació vectorial en la base canònica:"
   ]
  },
  {
   "cell_type": "code",
   "execution_count": 133,
   "metadata": {},
   "outputs": [
    {
     "data": {
      "text/html": [
       "<html>\\(\\displaystyle \\left(\\begin{array}{rrr}\n",
       "-\\frac{1}{4} \\, \\sqrt{2} + \\frac{1}{2} & -\\frac{1}{4} \\, \\sqrt{2} - \\frac{1}{2} & \\frac{1}{2} \\\\\n",
       "-\\frac{1}{4} \\, \\sqrt{2} - \\frac{1}{2} & -\\frac{1}{4} \\, \\sqrt{2} + \\frac{1}{2} & \\frac{1}{2} \\\\\n",
       "-\\frac{1}{2} & -\\frac{1}{2} & -\\frac{1}{2} \\, \\sqrt{2}\n",
       "\\end{array}\\right)\\)</html>"
      ],
      "text/latex": [
       "$\\displaystyle \\left(\\begin{array}{rrr}\n",
       "-\\frac{1}{4} \\, \\sqrt{2} + \\frac{1}{2} & -\\frac{1}{4} \\, \\sqrt{2} - \\frac{1}{2} & \\frac{1}{2} \\\\\n",
       "-\\frac{1}{4} \\, \\sqrt{2} - \\frac{1}{2} & -\\frac{1}{4} \\, \\sqrt{2} + \\frac{1}{2} & \\frac{1}{2} \\\\\n",
       "-\\frac{1}{2} & -\\frac{1}{2} & -\\frac{1}{2} \\, \\sqrt{2}\n",
       "\\end{array}\\right)$"
      ],
      "text/plain": [
       "[-1/4*sqrt(2) + 1/2 -1/4*sqrt(2) - 1/2                1/2]\n",
       "[-1/4*sqrt(2) - 1/2 -1/4*sqrt(2) + 1/2                1/2]\n",
       "[              -1/2               -1/2       -1/2*sqrt(2)]"
      ]
     },
     "metadata": {},
     "output_type": "display_data"
    }
   ],
   "source": [
    "A = C*A1*C.inverse()\n",
    "show(A)"
   ]
  },
  {
   "cell_type": "markdown",
   "metadata": {},
   "source": [
    "La representació del moviment helicoïdal en la base canònica és\n",
    "$$\n",
    "  \\left(\\begin{array}{c} u \\\\ v \\\\ w \\end{array}\\right)\n",
    "  = \\left(\\begin{array}{r} 2 \\\\ -2 \\\\ 0 \\end{array}\\right)\n",
    "  + \\left(\\begin{array}{r} 1 \\\\ 1 \\\\ -1 \\end{array}\\right)\n",
    "  + \\frac{1}{4}\\left(\\begin{array}{ccc}\n",
    "    2-\\sqrt{2} & -2-\\sqrt{2} &   2     \\\\\n",
    "   -2-\\sqrt{2} &  2-\\sqrt{2} &   2     \\\\\n",
    "        -2      &      -2     & -2\\sqrt{2} \n",
    "  \\end{array}\\right)\n",
    "  \\left(\\begin{array}{c} x-1 \\\\ y-1 \\\\ z+1 \\end{array}\\right)\\,.\n",
    "$$"
   ]
  },
  {
   "cell_type": "markdown",
   "metadata": {},
   "source": [
    "Fent un càlcul senzill,"
   ]
  },
  {
   "cell_type": "code",
   "execution_count": 135,
   "metadata": {},
   "outputs": [
    {
     "data": {
      "text/html": [
       "<html>\\(\\displaystyle \\left(\\frac{1}{2} \\, \\sqrt{2} + \\frac{7}{2},\\,\\frac{1}{2} \\, \\sqrt{2} - \\frac{1}{2},\\,-\\frac{1}{2} \\, \\sqrt{2}\\right)\\)</html>"
      ],
      "text/latex": [
       "$\\displaystyle \\left(\\frac{1}{2} \\, \\sqrt{2} + \\frac{7}{2},\\,\\frac{1}{2} \\, \\sqrt{2} - \\frac{1}{2},\\,-\\frac{1}{2} \\, \\sqrt{2}\\right)$"
      ],
      "text/plain": [
       "(1/2*sqrt(2) + 7/2, 1/2*sqrt(2) - 1/2, -1/2*sqrt(2))"
      ]
     },
     "metadata": {},
     "output_type": "display_data"
    }
   ],
   "source": [
    "F = vector([1,1,-1])\n",
    "T = vector([2,-2,0])\n",
    "show(T+F-A*F)"
   ]
  },
  {
   "cell_type": "markdown",
   "metadata": {},
   "source": [
    "tindrem que\n",
    "$$\n",
    "  \\left(\\begin{array}{c} u \\\\ v \\\\ w \\end{array}\\right)\n",
    "  = \\frac{1}{2}\\left(\\begin{array}{c} 7+\\sqrt{2} \\\\ -1+\\sqrt{2} \\\\ -\\sqrt{2} \\end{array}\\right)\n",
    "  + \\frac{1}{4}\\left(\\begin{array}{ccc}\n",
    "  2-\\sqrt{2} & -2-\\sqrt{2} &   2     \\\\\n",
    "  -2-\\sqrt{2} &  2-\\sqrt{2} &   2     \\\\\n",
    "     -2      &      -2     & -2\\sqrt{2} \n",
    "  \\end{array}\\right)\n",
    "  \\left(\\begin{array}{c} x \\\\ y \\\\ z \\end{array}\\right)\\,.\n",
    "$$"
   ]
  },
  {
   "cell_type": "markdown",
   "metadata": {},
   "source": [
    "## Exercici 29\n",
    "Determineu si la transformació afí $T$ de $V_2$ que en la referència $\\mathcal{R}'=\\{(0,-1); \\, (3,1),(5,2)\\}$\n",
    "té representació\n",
    "$$\n",
    "  \\left(\\begin{array}{c} u' \\\\ v' \\end{array}\\right)\n",
    "  =\\frac{1}{\\sqrt2}\\left(\\begin{array}{rr}\n",
    "   18 &  29\\\\\n",
    "  -10 & -16\n",
    "  \\end{array}\\right)\n",
    "  \\left(\\begin{array}{c} x' \\\\ y' \\end{array}\\right)\n",
    "$$\n",
    "és un gir afí i, en cas afirmatiu, determineu el centre i l'angle de gir."
   ]
  },
  {
   "cell_type": "markdown",
   "metadata": {},
   "source": [
    "En aquest cas, el canvi de coordenades de la referència de $\\mathcal{R}'$ a la referència canònica són\n",
    "$$\n",
    "  \\left(\\begin{array}{c} x \\\\ y \\end{array}\\right)\n",
    "  =\\left(\\begin{array}{r} 0 \\\\ -1 \\end{array}\\right)\n",
    "  +\\left(\\begin{array}{rr}\n",
    "  3 & 5\\\\\n",
    "  1 & 2\n",
    "  \\end{array}\\right)\n",
    "  \\left(\\begin{array}{c} x' \\\\ y' \\end{array}\\right)\\qquad\\text{i}\\qquad\n",
    "  \\left(\\begin{array}{c} u \\\\ v \\end{array}\\right)\n",
    "  =\\left(\\begin{array}{r} 0 \\\\ -1 \\end{array}\\right)\n",
    "  +\\left(\\begin{array}{rr}\n",
    "  3 & 5\\\\\n",
    "  1 & 2\n",
    "  \\end{array}\\right)\n",
    "  \\left(\\begin{array}{c} u' \\\\ v' \\end{array}\\right)\\,.\n",
    "$$\n",
    "Si representem\n",
    "$$\n",
    "  U=\\left(\\begin{array}{c} u \\\\ v \\end{array}\\right)\\,,\\qquad\n",
    "  X=\\left(\\begin{array}{c} x \\\\ y \\end{array}\\right)\\,,\\qquad\n",
    "  U'=\\left(\\begin{array}{c} u' \\\\ v' \\end{array}\\right)\\qquad\\text{i}\\qquad\n",
    "  X'=\\left(\\begin{array}{c} x' \\\\ y' \\end{array}\\right)\\,,\n",
    "$$\n",
    "tindrem que\n",
    "$$\n",
    "   U' = P'+A'X'\\,,\\qquad X=O+CX'\\qquad U=O+CU'\\,.\n",
    "$$"
   ]
  },
  {
   "cell_type": "markdown",
   "metadata": {},
   "source": [
    "En aquest cas, ens interessa expressar $(u,v)$ en funció de $(x,y)$:\n",
    "$$\n",
    "  \\begin{aligned}\n",
    "   U &= O + CU'=O+C\\big(P'+A'X'\\big) \\\\\n",
    "     &= O + CP' + CA'X' = O + CP' + CA'C^{-1}\\big(-O + X\\big) \\\\\n",
    "     &= O + CP' - CA'C^{-1}O + CA'C^{-1}X\n",
    "  \\end{aligned}\n",
    "$$\n",
    "Fem, doncs, els càlculs"
   ]
  },
  {
   "cell_type": "code",
   "execution_count": 136,
   "metadata": {},
   "outputs": [],
   "source": [
    "P1 = vector([0,0])\n",
    "A1 = 1/sqrt(2)*matrix([[18,29],[-10,-16]])\n",
    "O = vector([0,-1])\n",
    "C = matrix([[3,1],[5,2]]).T"
   ]
  },
  {
   "cell_type": "code",
   "execution_count": 137,
   "metadata": {},
   "outputs": [
    {
     "data": {
      "text/html": [
       "<html>\\(\\displaystyle \\left(\\frac{1}{2} \\, \\sqrt{2},\\,\\frac{1}{2} \\, \\sqrt{2} - 1\\right)\\)</html>"
      ],
      "text/latex": [
       "$\\displaystyle \\left(\\frac{1}{2} \\, \\sqrt{2},\\,\\frac{1}{2} \\, \\sqrt{2} - 1\\right)$"
      ],
      "text/plain": [
       "(1/2*sqrt(2), 1/2*sqrt(2) - 1)"
      ]
     },
     "metadata": {},
     "output_type": "display_data"
    }
   ],
   "source": [
    "P = O + C*P1 - C*A1*C.inverse()*O\n",
    "show(P)"
   ]
  },
  {
   "cell_type": "code",
   "execution_count": 138,
   "metadata": {},
   "outputs": [
    {
     "data": {
      "text/html": [
       "<html>\\(\\displaystyle \\left(\\begin{array}{rr}\n",
       "\\frac{1}{2} \\, \\sqrt{2} & \\frac{1}{2} \\, \\sqrt{2} \\\\\n",
       "-\\frac{1}{2} \\, \\sqrt{2} & \\frac{1}{2} \\, \\sqrt{2}\n",
       "\\end{array}\\right)\\)</html>"
      ],
      "text/latex": [
       "$\\displaystyle \\left(\\begin{array}{rr}\n",
       "\\frac{1}{2} \\, \\sqrt{2} & \\frac{1}{2} \\, \\sqrt{2} \\\\\n",
       "-\\frac{1}{2} \\, \\sqrt{2} & \\frac{1}{2} \\, \\sqrt{2}\n",
       "\\end{array}\\right)$"
      ],
      "text/plain": [
       "[ 1/2*sqrt(2)  1/2*sqrt(2)]\n",
       "[-1/2*sqrt(2)  1/2*sqrt(2)]"
      ]
     },
     "metadata": {},
     "output_type": "display_data"
    }
   ],
   "source": [
    "A = C*A1*C.inverse()\n",
    "show(A)"
   ]
  },
  {
   "cell_type": "markdown",
   "metadata": {},
   "source": [
    "La representació de la transformació afí en la referència canònica és\n",
    "En aquest cas, ens interessa expressar $(u,v)$ en funció de $(x,y)$:\n",
    "$$\n",
    "  \\left(\\begin{array}{c} u \\\\ v \\end{array}\\right)\n",
    "  =\\frac{1}{2}\\left(\\begin{array}{c} \\sqrt{2} \\\\ -2+\\sqrt{2} \\end{array}\\right)\n",
    "  + \\frac{1}{\\sqrt{2}}\\left(\\begin{array}{rr}\n",
    "   1 & 1\\\\\n",
    "  -1 & 1\n",
    "  \\end{array}\\right)\n",
    "  \\left(\\begin{array}{c} x \\\\ y \\end{array}\\right)\\,.\n",
    "$$"
   ]
  },
  {
   "cell_type": "markdown",
   "metadata": {},
   "source": [
    "$T$ és un gir si la matriu $A$ compleix que $A^tA=I$ i $\\det(A)=1$. Comprovem-ho:"
   ]
  },
  {
   "cell_type": "code",
   "execution_count": 139,
   "metadata": {},
   "outputs": [
    {
     "data": {
      "text/html": [
       "<html>\\(\\displaystyle \\left(\\begin{array}{rr}\n",
       "1 & 0 \\\\\n",
       "0 & 1\n",
       "\\end{array}\\right)\\)</html>"
      ],
      "text/latex": [
       "$\\displaystyle \\left(\\begin{array}{rr}\n",
       "1 & 0 \\\\\n",
       "0 & 1\n",
       "\\end{array}\\right)$"
      ],
      "text/plain": [
       "[1 0]\n",
       "[0 1]"
      ]
     },
     "metadata": {},
     "output_type": "display_data"
    }
   ],
   "source": [
    "show(A.T*A)"
   ]
  },
  {
   "cell_type": "code",
   "execution_count": 140,
   "metadata": {},
   "outputs": [
    {
     "data": {
      "text/html": [
       "<html>\\(\\displaystyle 1\\)</html>"
      ],
      "text/latex": [
       "$\\displaystyle 1$"
      ],
      "text/plain": [
       "1"
      ]
     },
     "metadata": {},
     "output_type": "display_data"
    }
   ],
   "source": [
    "show(A.det())"
   ]
  },
  {
   "cell_type": "markdown",
   "metadata": {},
   "source": [
    "El centre de gir és un punt fix de la transformació afí $T$, és a dir, un punt que compleixi $T(x,y)=(x,y)$. Per trobar-lo, hem de resoldre un sistema d'equacions:\n",
    "$$\n",
    "  \\left(\\begin{array}{c} x \\\\ y \\end{array}\\right)\n",
    "  =\\frac{1}{2}\\left(\\begin{array}{c} \\sqrt{2} \\\\ -2+\\sqrt{2} \\end{array}\\right)\n",
    "  + \\frac{1}{\\sqrt{2}}\\left(\\begin{array}{rr}\n",
    "   1 & 1\\\\\n",
    "  -1 & 1\n",
    "  \\end{array}\\right)\n",
    "  \\left(\\begin{array}{c} x \\\\ y \\end{array}\\right)\\,.\n",
    "$$"
   ]
  },
  {
   "cell_type": "code",
   "execution_count": 142,
   "metadata": {},
   "outputs": [],
   "source": [
    "x, y = var('x y')\n",
    "X = vector([x,y])\n",
    "TX = P + A*X"
   ]
  },
  {
   "cell_type": "code",
   "execution_count": 145,
   "metadata": {},
   "outputs": [
    {
     "data": {
      "text/html": [
       "<html>\\(\\displaystyle \\left[\\left[x = 0, y = \\left(-1\\right)\\right]\\right]\\)</html>"
      ],
      "text/latex": [
       "$\\displaystyle \\left[\\left[x = 0, y = \\left(-1\\right)\\right]\\right]$"
      ],
      "text/plain": [
       "[[x == 0, y == -1]]"
      ]
     },
     "metadata": {},
     "output_type": "display_data"
    }
   ],
   "source": [
    "show(solve([TX[0] == x, TX[1] == y],[x,y]))"
   ]
  },
  {
   "cell_type": "markdown",
   "metadata": {},
   "source": [
    "Finalment, per trobar l'angle de gir només cal que fem"
   ]
  },
  {
   "cell_type": "code",
   "execution_count": 146,
   "metadata": {},
   "outputs": [
    {
     "data": {
      "text/html": [
       "<html>\\(\\displaystyle -\\frac{1}{4} \\, \\pi\\)</html>"
      ],
      "text/latex": [
       "$\\displaystyle -\\frac{1}{4} \\, \\pi$"
      ],
      "text/plain": [
       "-1/4*pi"
      ]
     },
     "metadata": {},
     "output_type": "display_data"
    }
   ],
   "source": [
    "alfa = atan2(A[1,0],A[0,0])\n",
    "show(alfa)"
   ]
  },
  {
   "cell_type": "markdown",
   "metadata": {},
   "source": [
    "La transformació afí $T$ és un gir afí d'angle $\\alpha=\\dfrac{7\\pi}{4}$ al voltant del punt $(0,-1)$. (Observem que l'angle $\\alpha=-\\dfrac{\\pi}{4}$ és equivalent a $\\alpha=\\dfrac{7\\pi}{4}$.)"
   ]
  },
  {
   "cell_type": "markdown",
   "metadata": {},
   "source": [
    "## Exercici 30\n",
    "Determineu si la transformació afí $T:P_3\\longrightarrow P_3$ que en la referència canònica té representació\n",
    "$$\n",
    "  \\left(\\begin{array}{c} u \\\\ v \\\\ w \\end{array}\\right)\n",
    "  = \\left(\\begin{array}{r} -1 \\\\ 3 \\\\ 0 \\end{array}\\right)\n",
    "  +\\left(\\begin{array}{rrr}\n",
    "  0 & -1 & 0 \\\\\n",
    "  1 &  0 & 0 \\\\\n",
    "  0 &  0 & 1\n",
    "  \\end{array}\\right)\n",
    "  \\left(\\begin{array}{c} x \\\\ y \\\\ z \\end{array}\\right)\n",
    "$$\n",
    "és una rotació afí o un moviment helicoïdal. En cas afirmatiu, trobeu un punt i el vector director de la recta de gir,\n",
    "l'angle de gir i, si és necessari, el vector de translació."
   ]
  },
  {
   "cell_type": "markdown",
   "metadata": {},
   "source": [
    "Per saber si $T$ és una rotació o un moviment helicoïdal, hem de comprovar si la transformació lineal\n",
    "$$\n",
    "  \\left(\\begin{array}{c} u \\\\ v \\\\ w \\end{array}\\right)\n",
    "  =\\left(\\begin{array}{rrr}\n",
    "  0 & -1 & 0 \\\\\n",
    "  1 &  0 & 0 \\\\\n",
    "  0 &  0 & 1\n",
    "  \\end{array}\\right)\n",
    "  \\left(\\begin{array}{c} x \\\\ y \\\\ z \\end{array}\\right)\n",
    "$$\n",
    "és una rotació vectorial, és a dir, si la matriu\n",
    "$$\n",
    "  A=\\left(\\begin{array}{rrr}\n",
    "  0 & -1 & 0 \\\\\n",
    "  1 &  0 & 0 \\\\\n",
    "  0 &  0 & 1\n",
    "  \\end{array}\\right)\n",
    "$$\n",
    "compleix que $A^tA=I$ i $\\det(A)=1$."
   ]
  },
  {
   "cell_type": "code",
   "execution_count": 147,
   "metadata": {},
   "outputs": [
    {
     "data": {
      "text/html": [
       "<html>\\(\\displaystyle \\left(\\begin{array}{rrr}\n",
       "0 & -1 & 0 \\\\\n",
       "1 & 0 & 0 \\\\\n",
       "0 & 0 & 1\n",
       "\\end{array}\\right)\\)</html>"
      ],
      "text/latex": [
       "$\\displaystyle \\left(\\begin{array}{rrr}\n",
       "0 & -1 & 0 \\\\\n",
       "1 & 0 & 0 \\\\\n",
       "0 & 0 & 1\n",
       "\\end{array}\\right)$"
      ],
      "text/plain": [
       "[ 0 -1  0]\n",
       "[ 1  0  0]\n",
       "[ 0  0  1]"
      ]
     },
     "metadata": {},
     "output_type": "display_data"
    }
   ],
   "source": [
    "A = matrix([[0,-1,0],[1,0,0],[0,0,1]])\n",
    "show(A)"
   ]
  },
  {
   "cell_type": "code",
   "execution_count": 148,
   "metadata": {},
   "outputs": [
    {
     "data": {
      "text/html": [
       "<html>\\(\\displaystyle \\left(\\begin{array}{rrr}\n",
       "1 & 0 & 0 \\\\\n",
       "0 & 1 & 0 \\\\\n",
       "0 & 0 & 1\n",
       "\\end{array}\\right)\\)</html>"
      ],
      "text/latex": [
       "$\\displaystyle \\left(\\begin{array}{rrr}\n",
       "1 & 0 & 0 \\\\\n",
       "0 & 1 & 0 \\\\\n",
       "0 & 0 & 1\n",
       "\\end{array}\\right)$"
      ],
      "text/plain": [
       "[1 0 0]\n",
       "[0 1 0]\n",
       "[0 0 1]"
      ]
     },
     "metadata": {},
     "output_type": "display_data"
    }
   ],
   "source": [
    "show(A.T*A)"
   ]
  },
  {
   "cell_type": "code",
   "execution_count": 149,
   "metadata": {},
   "outputs": [
    {
     "data": {
      "text/html": [
       "<html>\\(\\displaystyle 1\\)</html>"
      ],
      "text/latex": [
       "$\\displaystyle 1$"
      ],
      "text/plain": [
       "1"
      ]
     },
     "metadata": {},
     "output_type": "display_data"
    }
   ],
   "source": [
    "show(A.det())"
   ]
  },
  {
   "cell_type": "markdown",
   "metadata": {},
   "source": [
    "Efectivament, ls matriu $A$ correspon a una rotació vectorial. Determinem el vector i l'angle de gir com ja hem fet en un exercici anterior: el vector que ens dona l'eix de rotació és solució del sistema d'equacions\n",
    "$$\n",
    "  \\left(\\begin{array}{c} x \\\\ y \\\\ z \\end{array}\\right)\n",
    "  =\\left(\\begin{array}{rrr}\n",
    "  0 & -1 & 0 \\\\\n",
    "  1 &  0 & 0 \\\\\n",
    "  0 &  0 & 1\n",
    "  \\end{array}\\right)\n",
    "  \\left(\\begin{array}{c} x \\\\ y \\\\ z \\end{array}\\right)\n",
    "$$"
   ]
  },
  {
   "cell_type": "code",
   "execution_count": 150,
   "metadata": {},
   "outputs": [
    {
     "data": {
      "text/html": [
       "<html>\\(\\displaystyle \\left[\\left[x = 0, y = 0, z = r_{6}\\right]\\right]\\)</html>"
      ],
      "text/latex": [
       "$\\displaystyle \\left[\\left[x = 0, y = 0, z = r_{6}\\right]\\right]$"
      ],
      "text/plain": [
       "[[x == 0, y == 0, z == r6]]"
      ]
     },
     "metadata": {},
     "output_type": "display_data"
    }
   ],
   "source": [
    "x, y, z = var('x y z')\n",
    "X = vector([x,y,z])\n",
    "TX = A * X\n",
    "sol = solve([TX[0] == x, TX[1] == y, TX[2] == z],[x,y,z])\n",
    "show(sol)"
   ]
  },
  {
   "cell_type": "markdown",
   "metadata": {},
   "source": [
    "Es tracta d'una rotació vectorial al voltant del vector $\\vec w=(0,0,1)$. Calculem ara l'angle de rotació"
   ]
  },
  {
   "cell_type": "code",
   "execution_count": 151,
   "metadata": {},
   "outputs": [
    {
     "data": {
      "text/html": [
       "<html>\\(\\displaystyle \\frac{1}{2} \\, \\pi\\)</html>"
      ],
      "text/latex": [
       "$\\displaystyle \\frac{1}{2} \\, \\pi$"
      ],
      "text/plain": [
       "1/2*pi"
      ]
     },
     "metadata": {},
     "output_type": "display_data"
    }
   ],
   "source": [
    "a = acos((-1+A.trace())/2)\n",
    "show(a)"
   ]
  },
  {
   "cell_type": "markdown",
   "metadata": {},
   "source": [
    "L'angle de gir és $\\alpha=\\dfrac{\\pi}{2}$ o $\\alpha=\\dfrac{3\\pi}{2}$. Per detertminar quin dels dos és, escollim un vector qualsevol $\\vec u$ (que no sigui múltiple de $\\vec w$) i calculem el seu transformat $\\vec v=T(\\vec u)$ i el determinant $\\det(\\vec w,\\vec u,\\vec v)$:"
   ]
  },
  {
   "cell_type": "code",
   "execution_count": 152,
   "metadata": {
    "tags": []
   },
   "outputs": [
    {
     "data": {
      "text/html": [
       "<html>\\(\\displaystyle 1\\)</html>"
      ],
      "text/latex": [
       "$\\displaystyle 1$"
      ],
      "text/plain": [
       "1"
      ]
     },
     "metadata": {},
     "output_type": "display_data"
    }
   ],
   "source": [
    "u = vector([1,0,0])\n",
    "w = vector([0,0,1])\n",
    "Tu = A * u\n",
    "show(matrix([w,u,Tu]).det())"
   ]
  },
  {
   "cell_type": "markdown",
   "metadata": {},
   "source": [
    "Per tant, podem afirmar que la transformació lineal amb representació\n",
    "$$\n",
    "  \\left(\\begin{array}{c} u \\\\ v \\\\ w \\end{array}\\right)\n",
    "  = \\left(\\begin{array}{rrr}\n",
    "  0 & -1 & 0 \\\\\n",
    "  1 &  0 & 0 \\\\\n",
    "  0 &  0 & 1\n",
    "  \\end{array}\\right)\n",
    "  \\left(\\begin{array}{c} x \\\\ y \\\\ z \\end{array}\\right)\n",
    "$$\n",
    "és la rotació d'angle $\\dfrac{\\pi}{2}$ al voltant del vector $\\vec w=(0,0,1)$."
   ]
  },
  {
   "cell_type": "markdown",
   "metadata": {},
   "source": [
    "Per saber si la transformació afí $T$ és una rotació o un moviment helicoïdal, hem de resoldre el sistema d'equacions\n",
    "$$\n",
    "  T(x,y,z)=(x,y,z)+t(0,0,1)\\,,\n",
    "$$\n",
    "és a dir,\n",
    "$$\n",
    "  \\left(\\begin{array}{r} -1 \\\\ 3 \\\\ 0 \\end{array}\\right)\n",
    "  +\\left(\\begin{array}{rrr}\n",
    "  0 & -1 & 0 \\\\\n",
    "  1 &  0 & 0 \\\\\n",
    "  0 &  0 & 1\n",
    "  \\end{array}\\right)\n",
    "  \\left(\\begin{array}{c} x \\\\ y \\\\ z \\end{array}\\right)\n",
    "  = \\left(\\begin{array}{c} x \\\\ y \\\\ z \\end{array}\\right)\n",
    "  +t\\left(\\begin{array}{c} 0 \\\\ 0 \\\\ 1 \\end{array}\\right)\\,.\n",
    "$$"
   ]
  },
  {
   "cell_type": "code",
   "execution_count": 153,
   "metadata": {},
   "outputs": [],
   "source": [
    "x, y, z, t = var('x y z t')\n",
    "P = vector([-1,3,0])\n",
    "w = vector([0,0,1])\n",
    "X = vector([x,y,z])\n",
    "e = P + A*X\n",
    "d = X + t*w"
   ]
  },
  {
   "cell_type": "code",
   "execution_count": 154,
   "metadata": {},
   "outputs": [
    {
     "data": {
      "text/html": [
       "<html>\\(\\displaystyle \\left[\\left[x = \\left(-2\\right), y = 1, z = r_{7}, t = 0\\right]\\right]\\)</html>"
      ],
      "text/latex": [
       "$\\displaystyle \\left[\\left[x = \\left(-2\\right), y = 1, z = r_{7}, t = 0\\right]\\right]$"
      ],
      "text/plain": [
       "[[x == -2, y == 1, z == r7, t == 0]]"
      ]
     },
     "metadata": {},
     "output_type": "display_data"
    }
   ],
   "source": [
    "show(solve([e[i] == d[i] for i in range(3)],[x,y,z,t]))"
   ]
  },
  {
   "cell_type": "markdown",
   "metadata": {},
   "source": [
    "Com que $t=0$, es tracta d'una rotació. La rotació afí d'angle $\\dfrac{\\pi}{2}$ al voltant de la recta que passa pel punt $(-2,1,0)$ i té vector director $(0,0,1)$."
   ]
  },
  {
   "cell_type": "markdown",
   "metadata": {},
   "source": [
    "## Exercici 31\n",
    "Determineu si la transformació afí $T:P_3\\longrightarrow P_3$ que en la referència canònica té representació\n",
    "$$\n",
    "  \\left(\\begin{array}{c} u \\\\ v \\\\ w \\end{array}\\right)\n",
    "  = \\left(\\begin{array}{r} 3 \\\\ 0 \\\\ 1 \\end{array}\\right)\n",
    "  +\\left(\\begin{array}{rrr}\n",
    "  0 & 1 & 0 \\\\\n",
    "  0 & 0 & 1 \\\\\n",
    "  1 & 0 & 0\n",
    "  \\end{array}\\right)\n",
    "  \\left(\\begin{array}{c} x \\\\ y \\\\ z \\end{array}\\right)\n",
    "$$\n",
    "és una rotació afí o un moviment helicoïdal. En cas afirmatiu, trobeu un punt i el vector director de la recta de gir,\n",
    "l'angle de gir i, si és necessari, el vector de translació."
   ]
  },
  {
   "cell_type": "markdown",
   "metadata": {},
   "source": [
    "Aquest exercici és igual que l'anterior, per tant, només farem els càlculs. "
   ]
  },
  {
   "cell_type": "code",
   "execution_count": 155,
   "metadata": {},
   "outputs": [
    {
     "data": {
      "text/html": [
       "<html>\\(\\displaystyle \\left(\\begin{array}{rrr}\n",
       "0 & 1 & 0 \\\\\n",
       "0 & 0 & 1 \\\\\n",
       "1 & 0 & 0\n",
       "\\end{array}\\right)\\)</html>"
      ],
      "text/latex": [
       "$\\displaystyle \\left(\\begin{array}{rrr}\n",
       "0 & 1 & 0 \\\\\n",
       "0 & 0 & 1 \\\\\n",
       "1 & 0 & 0\n",
       "\\end{array}\\right)$"
      ],
      "text/plain": [
       "[0 1 0]\n",
       "[0 0 1]\n",
       "[1 0 0]"
      ]
     },
     "metadata": {},
     "output_type": "display_data"
    }
   ],
   "source": [
    "A = matrix([[0,1,0],[0,0,1],[1,0,0]])\n",
    "show(A)"
   ]
  },
  {
   "cell_type": "code",
   "execution_count": 156,
   "metadata": {},
   "outputs": [
    {
     "data": {
      "text/html": [
       "<html>\\(\\displaystyle \\left(\\begin{array}{rrr}\n",
       "1 & 0 & 0 \\\\\n",
       "0 & 1 & 0 \\\\\n",
       "0 & 0 & 1\n",
       "\\end{array}\\right)\\)</html>"
      ],
      "text/latex": [
       "$\\displaystyle \\left(\\begin{array}{rrr}\n",
       "1 & 0 & 0 \\\\\n",
       "0 & 1 & 0 \\\\\n",
       "0 & 0 & 1\n",
       "\\end{array}\\right)$"
      ],
      "text/plain": [
       "[1 0 0]\n",
       "[0 1 0]\n",
       "[0 0 1]"
      ]
     },
     "metadata": {},
     "output_type": "display_data"
    }
   ],
   "source": [
    "show(A.T*A)"
   ]
  },
  {
   "cell_type": "code",
   "execution_count": 157,
   "metadata": {},
   "outputs": [
    {
     "data": {
      "text/html": [
       "<html>\\(\\displaystyle 1\\)</html>"
      ],
      "text/latex": [
       "$\\displaystyle 1$"
      ],
      "text/plain": [
       "1"
      ]
     },
     "metadata": {},
     "output_type": "display_data"
    }
   ],
   "source": [
    "show(A.det())"
   ]
  },
  {
   "cell_type": "code",
   "execution_count": 158,
   "metadata": {},
   "outputs": [
    {
     "data": {
      "text/html": [
       "<html>\\(\\displaystyle \\left[\\left[x = r_{8}, y = r_{8}, z = r_{8}\\right]\\right]\\)</html>"
      ],
      "text/latex": [
       "$\\displaystyle \\left[\\left[x = r_{8}, y = r_{8}, z = r_{8}\\right]\\right]$"
      ],
      "text/plain": [
       "[[x == r8, y == r8, z == r8]]"
      ]
     },
     "metadata": {},
     "output_type": "display_data"
    }
   ],
   "source": [
    "x, y, z = var('x y z')\n",
    "X = vector([x,y,z])\n",
    "TX = A * X\n",
    "sol = solve([TX[0] == x, TX[1] == y, TX[2] == z],[x,y,z])\n",
    "show(sol)"
   ]
  },
  {
   "cell_type": "code",
   "execution_count": 159,
   "metadata": {},
   "outputs": [
    {
     "data": {
      "text/html": [
       "<html>\\(\\displaystyle \\frac{2}{3} \\, \\pi\\)</html>"
      ],
      "text/latex": [
       "$\\displaystyle \\frac{2}{3} \\, \\pi$"
      ],
      "text/plain": [
       "2/3*pi"
      ]
     },
     "metadata": {},
     "output_type": "display_data"
    }
   ],
   "source": [
    "a = acos((-1+A.trace())/2)\n",
    "show(a)"
   ]
  },
  {
   "cell_type": "code",
   "execution_count": 160,
   "metadata": {},
   "outputs": [
    {
     "data": {
      "text/html": [
       "<html>\\(\\displaystyle -1\\)</html>"
      ],
      "text/latex": [
       "$\\displaystyle -1$"
      ],
      "text/plain": [
       "-1"
      ]
     },
     "metadata": {},
     "output_type": "display_data"
    }
   ],
   "source": [
    "u = vector([1,0,0])\n",
    "w = vector([1,1,1])\n",
    "Tu = A * u\n",
    "show(matrix([w,u,Tu]).det())"
   ]
  },
  {
   "cell_type": "markdown",
   "metadata": {},
   "source": [
    "La transformació lineal amb representació en la base canònica\n",
    "$$\n",
    "  \\left(\\begin{array}{c} u \\\\ v \\\\ w \\end{array}\\right)\n",
    "  = \\left(\\begin{array}{rrr}\n",
    "  0 & 1 & 0 \\\\\n",
    "  0 & 0 & 1 \\\\\n",
    "  1 & 0 & 0\n",
    "  \\end{array}\\right)\n",
    "  \\left(\\begin{array}{c} x \\\\ y \\\\ z \\end{array}\\right)\n",
    "$$\n",
    "és la rotació d'angle $\\dfrac{4\\pi}{3}$ al voltant del vector $\\vec w=(1,1,1)$."
   ]
  },
  {
   "cell_type": "markdown",
   "metadata": {},
   "source": [
    "Per veure si la transformació afí és una rotació o un moviment helicoidal, hem de resoldre el sistema d'equacions $T(x,y,z)=(x,y,z)+t\\vec w$, és a dir,\n",
    "$$\n",
    "  \\left(\\begin{array}{r} 3 \\\\ 0 \\\\ 1 \\end{array}\\right)\n",
    "  +\\left(\\begin{array}{rrr}\n",
    "  0 & 1 & 0 \\\\\n",
    "  0 & 0 & 1 \\\\\n",
    "  1 & 0 & 0\n",
    "  \\end{array}\\right)\n",
    "  \\left(\\begin{array}{c} x \\\\ y \\\\ z \\end{array}\\right)\n",
    "  = \\left(\\begin{array}{c} x \\\\ y \\\\ z \\end{array}\\right) +\n",
    "  t\\left(\\begin{array}{c} 1 \\\\ 1 \\\\ 1 \\end{array}\\right)\\,.\n",
    "$$"
   ]
  },
  {
   "cell_type": "code",
   "execution_count": 161,
   "metadata": {},
   "outputs": [],
   "source": [
    "x, y, z, t = var('x y z t')\n",
    "P = vector([3,0,1])\n",
    "w = vector([1,1,1])\n",
    "X = vector([x,y,z])\n",
    "e = P + A*X\n",
    "d = X + t*w"
   ]
  },
  {
   "cell_type": "code",
   "execution_count": 162,
   "metadata": {
    "tags": []
   },
   "outputs": [
    {
     "data": {
      "text/html": [
       "<html>\\(\\displaystyle \\left[\\left[x = r_{9} + \\frac{1}{3}, y = r_{9} - \\frac{4}{3}, z = r_{9}, t = \\left(\\frac{4}{3}\\right)\\right]\\right]\\)</html>"
      ],
      "text/latex": [
       "$\\displaystyle \\left[\\left[x = r_{9} + \\frac{1}{3}, y = r_{9} - \\frac{4}{3}, z = r_{9}, t = \\left(\\frac{4}{3}\\right)\\right]\\right]$"
      ],
      "text/plain": [
       "[[x == r9 + 1/3, y == r9 - 4/3, z == r9, t == (4/3)]]"
      ]
     },
     "metadata": {},
     "output_type": "display_data"
    }
   ],
   "source": [
    "show(solve([e[i] == d[i] for i in range(3)],[x,y,z,t]))"
   ]
  },
  {
   "cell_type": "markdown",
   "metadata": {},
   "source": [
    "Com que $t\\neq0$, es tracta d'un moviment helicoïdal, format per la rotació afí d'angle $\\dfrac{4\\pi}{3}$ al voltant de la recta que passa pel punt $\\frac{1}{3}(4,-1,3)$ i té vector director $(1,1,1)$ i la translació de vector $\\dfrac{4}{3}(1,1,1)$."
   ]
  },
  {
   "cell_type": "code",
   "execution_count": null,
   "metadata": {},
   "outputs": [],
   "source": []
  }
 ],
 "metadata": {
  "kernelspec": {
   "display_name": "SageMath 10.6",
   "language": "sage",
   "name": "sagemath"
  },
  "language_info": {
   "codemirror_mode": {
    "name": "ipython",
    "version": 3
   },
   "file_extension": ".py",
   "mimetype": "text/x-python",
   "name": "python",
   "nbconvert_exporter": "python",
   "pygments_lexer": "ipython3",
   "version": "3.13.5"
  }
 },
 "nbformat": 4,
 "nbformat_minor": 4
}
