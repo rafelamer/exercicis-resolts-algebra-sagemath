{
 "cells": [
  {
   "cell_type": "markdown",
   "metadata": {},
   "source": [
    "# Tema 6"
   ]
  },
  {
   "cell_type": "markdown",
   "metadata": {},
   "source": [
    "## Exercici 1\n",
    "Analitzeu si la matriu\n",
    "$$\n",
    "  A=\\left(\\begin{array}{rr}\n",
    "  1 & -1\\\\\n",
    "  1 &  1\n",
    "  \\end{array}\\right)\n",
    "$$\n",
    "és o no diagonalitzable i, en cas afirmatiu, diagonalitzeu-la."
   ]
  },
  {
   "cell_type": "markdown",
   "metadata": {},
   "source": [
    "Càlcul del polinomi característic i dels valors propis:"
   ]
  },
  {
   "cell_type": "code",
   "execution_count": null,
   "metadata": {},
   "outputs": [],
   "source": [
    "A = matrix([[1,-1],[1,1]])\n",
    "p = A.charpoly()\n",
    "show(p)"
   ]
  },
  {
   "cell_type": "code",
   "execution_count": null,
   "metadata": {},
   "outputs": [],
   "source": [
    "show(p.roots())"
   ]
  },
  {
   "cell_type": "code",
   "execution_count": null,
   "metadata": {},
   "outputs": [],
   "source": [
    "x = var('x')\n",
    "show(solve(x^2-2*x+2==0,x))"
   ]
  },
  {
   "cell_type": "markdown",
   "metadata": {},
   "source": [
    "La matriu $A$ no té valors propis reals, per tant, no és diagonalitzable sobre els reals."
   ]
  },
  {
   "cell_type": "markdown",
   "metadata": {},
   "source": [
    "## Exercici 2\n",
    "Analitzeu si la matriu\n",
    "$$\n",
    "  A=\\left(\\begin{array}{rr}\n",
    "   0 & -2 \\\\\n",
    "   2 &  4  \n",
    "  \\end{array}\\right)\n",
    "$$\n",
    "és o no diagonalitzable i, en cas afirmatiu, diagonalitzeu-la."
   ]
  },
  {
   "cell_type": "code",
   "execution_count": null,
   "metadata": {},
   "outputs": [],
   "source": [
    "A = matrix([[0,-2],[2,4]])\n",
    "p = A.charpoly()\n",
    "show(p)"
   ]
  },
  {
   "cell_type": "code",
   "execution_count": null,
   "metadata": {},
   "outputs": [],
   "source": [
    "show(p.roots())"
   ]
  },
  {
   "cell_type": "markdown",
   "metadata": {},
   "source": [
    "La matriu $A$ té el valor propi $\\lambda_1=2$ amb multiplicitat 2. Per saber si és diagonalitzable, hem de resoldre el sistema\n",
    "$$\n",
    "  \\left(\\begin{array}{rr}\n",
    "   0 & -2 \\\\\n",
    "   2 &  4  \n",
    "  \\end{array}\\right)\n",
    "  \\left(\\begin{array}{c} x\\\\ y \\end{array}\\right)\n",
    "  = 2\\left(\\begin{array}{c} x\\\\ y \\end{array}\\right)\\,.\n",
    "$$"
   ]
  },
  {
   "cell_type": "code",
   "execution_count": null,
   "metadata": {},
   "outputs": [],
   "source": [
    "x, y = var('x y')\n",
    "X = vector([x,y])\n",
    "AX = A * X\n",
    "show(solve([AX[i] == 2*X[i] for i in range(2)],[x,y]))"
   ]
  },
  {
   "cell_type": "markdown",
   "metadata": {},
   "source": [
    "El vectors propis amb valor propi 2 formen la recta vectorial generada pel vector $(-1,1)$. La matriu no és diagonalitzable."
   ]
  },
  {
   "cell_type": "markdown",
   "metadata": {},
   "source": [
    "## Exercici 3\n",
    "Analitzeu si la matriu següent és diagonalitzable\n",
    "$$\n",
    "  A=\\left(\\begin{array}{rr}\n",
    "   3 & 4 \\\\\n",
    "   2 & 1  \n",
    "  \\end{array}\\right)\n",
    "$$\n",
    "i, en cas afirmatiu, expresseu-la en funció de la matriu diagonal i de la de canvi de base."
   ]
  },
  {
   "cell_type": "code",
   "execution_count": null,
   "metadata": {},
   "outputs": [],
   "source": [
    "A = matrix([[3,4],[2,1]])\n",
    "p = A.charpoly()\n",
    "show(p)"
   ]
  },
  {
   "cell_type": "code",
   "execution_count": null,
   "metadata": {},
   "outputs": [],
   "source": [
    "show(p.roots())"
   ]
  },
  {
   "cell_type": "markdown",
   "metadata": {},
   "source": [
    "Els valors propis de $A$ són $\\lambda_1=5$ i $\\lambda_2=-1$."
   ]
  },
  {
   "cell_type": "markdown",
   "metadata": {},
   "source": [
    "Vectors propis amb valor propi $\\lambda_1=5$:"
   ]
  },
  {
   "cell_type": "code",
   "execution_count": null,
   "metadata": {},
   "outputs": [],
   "source": [
    "x, y = var('x y')\n",
    "X = vector([x,y])\n",
    "AX = A * X\n",
    "show(solve([AX[i] == 5*X[i] for i in range(2)],[x,y]))"
   ]
  },
  {
   "cell_type": "markdown",
   "metadata": {},
   "source": [
    "$V_5$ és la recta vectorial generada pel vector $(2,1)$."
   ]
  },
  {
   "cell_type": "markdown",
   "metadata": {},
   "source": [
    "Vectors propis amb valor propi $\\lambda_2=-1$:"
   ]
  },
  {
   "cell_type": "code",
   "execution_count": null,
   "metadata": {},
   "outputs": [],
   "source": [
    "show(solve([AX[i] == -X[i] for i in range(2)],[x,y]))"
   ]
  },
  {
   "cell_type": "markdown",
   "metadata": {},
   "source": [
    "$V_{-1}$ és la recta vectorial generada pel vector $(-1,1)$."
   ]
  },
  {
   "cell_type": "markdown",
   "metadata": {},
   "source": [
    "Hi ha dues maneres d'enunciar el resultat d'una diagonalització:\n",
    "1. Si $T$ és la transformació lineal que en la base canònica tè representació\n",
    "$$\n",
    "  \\left(\\begin{array}{c} u\\\\ v \\end{array}\\right)\n",
    "  = \\left(\\begin{array}{rr}\n",
    "   3 & 4 \\\\\n",
    "   2 & 1  \n",
    "  \\end{array}\\right)\n",
    "  \\left(\\begin{array}{c} x\\\\ y \\end{array}\\right)\\,,\n",
    "$$\n",
    "la seva representació en la base $\\mathcal{B}'=\\{(2,1),(-1,1)\\}$ és\n",
    "$$\n",
    "  \\left(\\begin{array}{c} u'\\\\ v' \\end{array}\\right)\n",
    "  = \\left(\\begin{array}{rr}\n",
    "   5 &  0 \\\\\n",
    "   0 & -1  \n",
    "  \\end{array}\\right)\n",
    "  \\left(\\begin{array}{c} x'\\\\ y' \\end{array}\\right)\\,\n",
    "$$\n",
    "1. Donada la matriu\n",
    "$$\n",
    "  A = \\left(\\begin{array}{rr}\n",
    "   3 & 4 \\\\\n",
    "   2 & 1  \n",
    "  \\end{array}\\right)\\,,\n",
    "$$\n",
    "hem trobat una matriu\n",
    "$$\n",
    "  C = \\left(\\begin{array}{rr}\n",
    "   2 & -1 \\\\\n",
    "   1 &  1  \n",
    "  \\end{array}\\right)\n",
    "$$\n",
    "tal que $C^{-1}AC$ és la matriu diagonal formada pels valors propis de $A$, és a dir,\n",
    "$$\n",
    "  \\left(\\begin{array}{rr}\n",
    "   2 & -1 \\\\\n",
    "   1 &  1  \n",
    "  \\end{array}\\right)^{-1}\n",
    "  \\left(\\begin{array}{rr}\n",
    "   3 & 4 \\\\\n",
    "   2 & 1  \n",
    "  \\end{array}\\right)\n",
    "  \\left(\\begin{array}{rr}\n",
    "   2 & -1 \\\\\n",
    "   1 &  1  \n",
    "  \\end{array}\\right)\n",
    "  =  \\left(\\begin{array}{rr}\n",
    "   5 &  0 \\\\\n",
    "   0 & -1  \n",
    "  \\end{array}\\right)\\,.\n",
    "$$"
   ]
  },
  {
   "cell_type": "markdown",
   "metadata": {},
   "source": [
    "Comprovem-ho:"
   ]
  },
  {
   "cell_type": "code",
   "execution_count": null,
   "metadata": {},
   "outputs": [],
   "source": [
    "C = matrix([[2,-1],[1,1]])\n",
    "show(C.inverse()*A*C)"
   ]
  },
  {
   "cell_type": "markdown",
   "metadata": {},
   "source": [
    "## Exercici 4\n",
    "Analitzeu si la matriu\n",
    "$$\n",
    "  A=\\left(\\begin{array}{rrr}\n",
    "  1 & 1 & 1 \\\\\n",
    "  0 & 1 & 0 \\\\\n",
    "  0 & 0 & 1\n",
    "\\end{array}\\right)\n",
    "$$\n",
    "és o no diagonalitzable i, en cas afirmatiu, diagonalitzeu-la."
   ]
  },
  {
   "cell_type": "code",
   "execution_count": null,
   "metadata": {},
   "outputs": [],
   "source": [
    "A = matrix([[1,1,1],[0,1,0],[0,0,1]])\n",
    "p = A.charpoly()\n",
    "show(p)"
   ]
  },
  {
   "cell_type": "code",
   "execution_count": null,
   "metadata": {},
   "outputs": [],
   "source": [
    "show(p.roots())"
   ]
  },
  {
   "cell_type": "markdown",
   "metadata": {},
   "source": [
    "La matriu  A  té el valor propi $\\lambda_1=1$ amb multiplicitat 3. Calculem els vectors propis:"
   ]
  },
  {
   "cell_type": "code",
   "execution_count": null,
   "metadata": {},
   "outputs": [],
   "source": [
    "x, y, z = var('x y z')\n",
    "X = vector([x,y,z])\n",
    "AX = A * X\n",
    "show(solve([AX[i] == X[i] for i in range(3)],[x,y,z]))"
   ]
  },
  {
   "cell_type": "markdown",
   "metadata": {},
   "source": [
    "$V_1$ és el pla vectorial generat pels vectors $(1,0,0)$ i $(0,-1,1)$. La matriu $A$ no és diagonalitzable."
   ]
  },
  {
   "cell_type": "markdown",
   "metadata": {},
   "source": [
    "## Exercici 5\n",
    "Analitzeu si la matriu\n",
    "$$\n",
    "  A=\\left(\\begin{array}{rrr}\n",
    "  -2 &  5 & -1 \\\\\n",
    "  -1 &  4 & -1 \\\\\n",
    "   4 & -3 &  3\n",
    "  \\end{array}\\right)\n",
    "$$\n",
    "és o no diagonalitzable i, en cas afirmatiu, diagonalitzeu-la."
   ]
  },
  {
   "cell_type": "code",
   "execution_count": null,
   "metadata": {},
   "outputs": [],
   "source": [
    "A = matrix([[-2,5,-1],[-1,4,-1],[4,-3,3]])\n",
    "p = A.charpoly()\n",
    "show(p)"
   ]
  },
  {
   "cell_type": "code",
   "execution_count": null,
   "metadata": {},
   "outputs": [],
   "source": [
    "show(p.roots())"
   ]
  },
  {
   "cell_type": "markdown",
   "metadata": {},
   "source": [
    "Aquest polinomi només té una arrel real i, per tant, les altres dues són complexes conjugades. Per tant, la matriu $A$ no és diagonalitzable sobre els reals."
   ]
  },
  {
   "cell_type": "markdown",
   "metadata": {},
   "source": [
    "## Exercici 6\n",
    "Analitzeu si la matriu\n",
    "$$\n",
    "  A=\\left(\\begin{array}{rrr}\n",
    "  -1 & 3 & 12 \\\\\n",
    "   1 & 2 & -3 \\\\\n",
    "  -1 & 1 &  6 \n",
    "  \\end{array}\\right)\n",
    "$$\n",
    "és o no diagonalitzable i, en cas afirmatiu, diagonalitzeu-la."
   ]
  },
  {
   "cell_type": "code",
   "execution_count": null,
   "metadata": {},
   "outputs": [],
   "source": [
    "A = matrix([[-1,3,12],[1,2,-3],[-1,1,6]])\n",
    "p = A.charpoly()\n",
    "show(p)"
   ]
  },
  {
   "cell_type": "code",
   "execution_count": null,
   "metadata": {},
   "outputs": [],
   "source": [
    "show(p.roots())"
   ]
  },
  {
   "cell_type": "markdown",
   "metadata": {},
   "source": [
    "Els valors propis de la matriu $A$ són $\\lambda_1=3$ (simple) i $\\lambda_2=2$ amb multiplicitat 2."
   ]
  },
  {
   "cell_type": "markdown",
   "metadata": {},
   "source": [
    "Vectors propis de $A$ amb valor propi $\\lambda_1=3$:"
   ]
  },
  {
   "cell_type": "code",
   "execution_count": null,
   "metadata": {},
   "outputs": [],
   "source": [
    "x, y, z = var('x y z')\n",
    "X = vector([x,y,z])\n",
    "AX = A * X\n",
    "l = 3\n",
    "show(solve([AX[i] == l*X[i] for i in range(3)],[x,y,z]))"
   ]
  },
  {
   "cell_type": "markdown",
   "metadata": {},
   "source": [
    "$V_3$ és la recta generada pel vector $(3,0,1)$."
   ]
  },
  {
   "cell_type": "markdown",
   "metadata": {},
   "source": [
    "Vectors propis de $A$ amb valor propi $\\lambda_2=2$:"
   ]
  },
  {
   "cell_type": "code",
   "execution_count": null,
   "metadata": {},
   "outputs": [],
   "source": [
    "x, y, z = var('x y z')\n",
    "X = vector([x,y,z])\n",
    "AX = A * X\n",
    "l = 2\n",
    "show(solve([AX[i] == l*X[i] for i in range(3)],[x,y,z]))"
   ]
  },
  {
   "cell_type": "markdown",
   "metadata": {},
   "source": [
    "$V_2$ és la recta generada pel vector $(3,-1,1)$. Com que només hem trobat dos vectors propis linealment independents, la matriu $A$ no és diagonalitzable."
   ]
  },
  {
   "cell_type": "markdown",
   "metadata": {},
   "source": [
    "## Exercici 7\n",
    "Analitzeu si la matriu\n",
    "$$\n",
    "  A=\\left(\\begin{array}{rrr}\n",
    "   1 &  6 &  6 \\\\\n",
    "   2 &  3 &  4 \\\\\n",
    "  -2 & -5 & -6\n",
    "  \\end{array}\\right)\n",
    "$$\n",
    "és diagonalitzable i, en cas afirmatiu, determineu la matriu diagonal i la matriu de canvi de base."
   ]
  },
  {
   "cell_type": "code",
   "execution_count": null,
   "metadata": {},
   "outputs": [],
   "source": [
    "A = matrix([[1,6,6],[2,3,4],[-2,-5,-6]])\n",
    "p = A.charpoly()\n",
    "show(p)"
   ]
  },
  {
   "cell_type": "code",
   "execution_count": null,
   "metadata": {},
   "outputs": [],
   "source": [
    "show(p.roots())"
   ]
  },
  {
   "cell_type": "markdown",
   "metadata": {},
   "source": [
    "Els valors propis de la matriu $A$ són $\\lambda_1=1$, $\\lambda_2=-1$ i $\\lambda_3=-2$, tots simples. Per aquest motiu, ja podem assegurar que $A$ és diagonalitzable."
   ]
  },
  {
   "cell_type": "markdown",
   "metadata": {},
   "source": [
    "Vectors propis de $A$ amb valor propi $\\lambda_1=1$:"
   ]
  },
  {
   "cell_type": "code",
   "execution_count": null,
   "metadata": {},
   "outputs": [],
   "source": [
    "x, y, z = var('x y z')\n",
    "X = vector([x,y,z])\n",
    "AX = A * X\n",
    "l = 1\n",
    "show(solve([AX[i] == l*X[i] for i in range(3)],[x,y,z]))"
   ]
  },
  {
   "cell_type": "markdown",
   "metadata": {},
   "source": [
    "$V_1$ és la recta vectorial generada pel vector $(-1,-1,1)$."
   ]
  },
  {
   "cell_type": "markdown",
   "metadata": {},
   "source": [
    "Vectors propis de $A$ amb valor propi $\\lambda_2=-1$:"
   ]
  },
  {
   "cell_type": "code",
   "execution_count": null,
   "metadata": {},
   "outputs": [],
   "source": [
    "x, y, z = var('x y z')\n",
    "X = vector([x,y,z])\n",
    "AX = A * X\n",
    "l = -1\n",
    "show(solve([AX[i] == l*X[i] for i in range(3)],[x,y,z]))"
   ]
  },
  {
   "cell_type": "markdown",
   "metadata": {},
   "source": [
    "$V_{-1}$ és la recta vectorial generada pel vector $(0,-1,1)$."
   ]
  },
  {
   "cell_type": "markdown",
   "metadata": {},
   "source": [
    "Vectors propis de $A$ amb valor propi $\\lambda_3=-2$:"
   ]
  },
  {
   "cell_type": "code",
   "execution_count": null,
   "metadata": {},
   "outputs": [],
   "source": [
    "X = vector([x,y,z])\n",
    "AX = A * X\n",
    "l = -2\n",
    "show(solve([AX[i] == l*X[i] for i in range(3)],[x,y,z]))"
   ]
  },
  {
   "cell_type": "markdown",
   "metadata": {},
   "source": [
    "$V_{-2}$ és la recta vectorial generada pel vector $(-2,0,1)$. Ara sí, hem trobat tres vectors propis linealment independents que formen base de $V_3$:\n",
    "$$\n",
    "  \\mathcal{B}'=\\{(-1,-1,1),(0,-1,1),(-2,0,1)\\}\\,.\n",
    "$$"
   ]
  },
  {
   "cell_type": "markdown",
   "metadata": {},
   "source": [
    "Aleshores, si prenem la matriu\n",
    "$$\n",
    "  C=\\left(\\begin{array}{rrr}\n",
    "  -1 &  0 & -2 \\\\\n",
    "  -1 & -1 &  0 \\\\\n",
    "   1 &  1 &  1\n",
    "  \\end{array}\\right),\n",
    "$$\n",
    "tindrem que\n",
    "$$·\n",
    "  \\left(\\begin{array}{rrr}\n",
    "  -1 &  0 & -2 \\\\\n",
    "  -1 & -1 &  0 \\\\\n",
    "   1 &  1 &  1\n",
    "  \\end{array}\\right)^{-1}\n",
    "  \\left(\\begin{array}{rrr}\n",
    "   1 &  6 &  6 \\\\\n",
    "   2 &  3 &  4 \\\\\n",
    "  -2 & -5 & -6\n",
    "  \\end{array}\\right)\n",
    "  \\left(\\begin{array}{rrr}\n",
    "  -1 &  0 & -2 \\\\\n",
    "  -1 & -1 &  0 \\\\\n",
    "   1 &  1 &  1\n",
    "  \\end{array}\\right)\n",
    "  = \\left(\\begin{array}{rrr}\n",
    "   1 &  0 &  0\\\\\n",
    "   0 & -1 &  0\\\\\n",
    "   0 &  0 & -2 \n",
    "  \\end{array}\\right)\\,,\n",
    "$$"
   ]
  },
  {
   "cell_type": "markdown",
   "metadata": {},
   "source": [
    "Comprovació:"
   ]
  },
  {
   "cell_type": "code",
   "execution_count": null,
   "metadata": {},
   "outputs": [],
   "source": [
    "C = matrix([[-1,0,-2],[-1,-1,0],[1,1,1]])\n",
    "show(C.inverse()*A*C)"
   ]
  },
  {
   "cell_type": "markdown",
   "metadata": {},
   "source": [
    "## Exercici 8\n",
    "Analitzeu si la matriu següent és diagonalitzable\n",
    "$$\n",
    "  A=\\frac{1}{2}\\left(\\begin{array}{rrr}\n",
    "   1 & -2 & -1\\\\\n",
    "  -1 &  0 & -1\\\\\n",
    "  -1 & -2 &  1\n",
    "  \\end{array}\\right)\n",
    "$$\n",
    "i, en cas afirmatiu, expresseu la matriu diagonal en funció de la matriu $A$ i de la de canvi de base."
   ]
  },
  {
   "cell_type": "code",
   "execution_count": null,
   "metadata": {},
   "outputs": [],
   "source": [
    "A = 1/2*matrix([[1,-2,-1],[-1,0,-1],[-1,-2,1]])\n",
    "p = A.charpoly()\n",
    "show(p)"
   ]
  },
  {
   "cell_type": "code",
   "execution_count": null,
   "metadata": {},
   "outputs": [],
   "source": [
    "show(p.roots())"
   ]
  },
  {
   "cell_type": "markdown",
   "metadata": {},
   "source": [
    "Els valors propis de la matriu $A$ són $\\lambda_1=1$ (doble) i $\\lambda_2=-1$ (simple)."
   ]
  },
  {
   "cell_type": "markdown",
   "metadata": {},
   "source": [
    "Vectors propis de $A$ amb valor propi $\\lambda_1=1$:"
   ]
  },
  {
   "cell_type": "code",
   "execution_count": null,
   "metadata": {},
   "outputs": [],
   "source": [
    "X = vector([x,y,z])\n",
    "AX = A * X\n",
    "l = 1\n",
    "show(solve([AX[i] == l*X[i] for i in range(3)],[x,y,z]))"
   ]
  },
  {
   "cell_type": "markdown",
   "metadata": {},
   "source": [
    "$V_1$ és el pla vectorial generat pels vectors $(1,0,-1)$ i $(2,-1,0)$."
   ]
  },
  {
   "cell_type": "markdown",
   "metadata": {},
   "source": [
    "Vectors propis de $A$ amb valor propi $\\lambda_1=-1$:"
   ]
  },
  {
   "cell_type": "code",
   "execution_count": null,
   "metadata": {},
   "outputs": [],
   "source": [
    "X = vector([x,y,z])\n",
    "AX = A * X\n",
    "l = -1\n",
    "show(solve([AX[i] == l*X[i] for i in range(3)],[x,y,z]))"
   ]
  },
  {
   "cell_type": "markdown",
   "metadata": {},
   "source": [
    "$V_{-1}$ és la recta vectorial generada pel vector $(1,1,1)$. Com que hem trobat tres vectors propis linealment independents, tenim que la base de $V_3$\n",
    "$$\n",
    "  \\mathcal{B}'=\\{1,0,-1),(2,-1,0),(1,1,1)\\}\n",
    "$$\n",
    "està formada per vectors propis de $A$."
   ]
  },
  {
   "cell_type": "markdown",
   "metadata": {},
   "source": [
    "Aleshores, si prenem la matriu\n",
    "$$\n",
    "  C=\\left(\\begin{array}{rrr}\n",
    "   1 &  2 & 1 \\\\\n",
    "   0 & -1 & 1 \\\\\n",
    "  -1 &  0 & 1\n",
    "  \\end{array}\\right),\n",
    "$$\n",
    "tindrem que\n",
    "$$·\n",
    "  \\left(\\begin{array}{rrr}\n",
    "  1 &  2 & 1 \\\\\n",
    "   0 & -1 & 1 \\\\\n",
    "  -1 &  0 & 1\n",
    "  \\end{array}\\right)^{-1}\n",
    "  \\frac{1}{2}\\left(\\begin{array}{rrr}\n",
    "   1 & -2 & -1\\\\\n",
    "  -1 &  0 & -1\\\\\n",
    "  -1 & -2 &  1\n",
    "  \\end{array}\\right)\n",
    "  \\left(\\begin{array}{rrr}\n",
    "   1 &  2 & 1 \\\\\n",
    "   0 & -1 & 1 \\\\\n",
    "  -1 &  0 & 1\n",
    "  \\end{array}\\right)\n",
    "  = \\left(\\begin{array}{rrr}\n",
    "   1 & 0 &  0\\\\\n",
    "   0 & 1 &  0\\\\\n",
    "   0 & 0 & -1 \n",
    "  \\end{array}\\right)\\,.\n",
    "$$"
   ]
  },
  {
   "cell_type": "markdown",
   "metadata": {},
   "source": [
    "Comprovació:"
   ]
  },
  {
   "cell_type": "code",
   "execution_count": null,
   "metadata": {},
   "outputs": [],
   "source": [
    "C = matrix([[1,0,-1],[2,-1,0],[1,1,1]]).T\n",
    "show(C.inverse()*A*C)"
   ]
  },
  {
   "cell_type": "markdown",
   "metadata": {},
   "source": [
    "## Exercici 9\n",
    "Analitzeu si la transformació lineal $T:V_2\\longrightarrow V_2$ que en la base canònica té representació\n",
    "$$\n",
    "  \\left(\\begin{array}{c} u\\\\ v \\end{array}\\right)\n",
    "  = \\left(\\begin{array}{rr}\n",
    "  2 & -1\\\\\n",
    "  1 &  4\n",
    "  \\end{array}\\right)\n",
    "  \\left(\\begin{array}{c} x\\\\ y \\end{array}\\right)\n",
    "$$\n",
    "és o no diagonalitzable i, en cas afirmatiu, diagonalitzeu-la."
   ]
  },
  {
   "cell_type": "markdown",
   "metadata": {},
   "source": [
    "El procediment és exactament el mateix que en els exercicis anteriors."
   ]
  },
  {
   "cell_type": "code",
   "execution_count": null,
   "metadata": {},
   "outputs": [],
   "source": [
    "A = matrix([[2,-1],[1,4]])\n",
    "p = A.charpoly()\n",
    "show(p)"
   ]
  },
  {
   "cell_type": "code",
   "execution_count": null,
   "metadata": {},
   "outputs": [],
   "source": [
    "show(p.roots())"
   ]
  },
  {
   "cell_type": "markdown",
   "metadata": {},
   "source": [
    "Els valors propis de $T$ són $\\lambda_1=3$ amb multiciplicat 2."
   ]
  },
  {
   "cell_type": "markdown",
   "metadata": {},
   "source": [
    "Vectors propis de $T$ amb valor propi $\\lambda_1=3$:"
   ]
  },
  {
   "cell_type": "code",
   "execution_count": null,
   "metadata": {},
   "outputs": [],
   "source": [
    "x, y = var('x y')\n",
    "X = vector([x,y])\n",
    "AX = A * X\n",
    "l = 3\n",
    "show(solve([AX[i] == l*X[i] for i in range(2)],[x,y]))"
   ]
  },
  {
   "cell_type": "markdown",
   "metadata": {},
   "source": [
    "$V_3$ és la recta vectorial generada pel vector $(-1,1)$. Com que no hi ha més vectors propis, no hi cap base de $V_2$ formada per vectors propis de $T$ i aquesta transformació lineal no és diagonalitzable."
   ]
  },
  {
   "cell_type": "markdown",
   "metadata": {},
   "source": [
    "## Exercici 10\n",
    "Analitzeu si la transformació lineal $T$ de $V_2$ que en la base $\\mathcal{B}'=\\{(2,-3),(1,4)\\}$ té representació\n",
    "$$\n",
    "  \\left(\\begin{array}{c} u'\\\\ v' \\end{array}\\right)\n",
    "  = \\left(\\begin{array}{rr}\n",
    "  1 & -3\\\\\n",
    "  1 &  2\n",
    "  \\end{array}\\right)\n",
    "  \\left(\\begin{array}{c} x'\\\\ y' \\end{array}\\right)\n",
    "$$\n",
    "és o no diagonalitzable i, en cas afirmatiu, diagonalitzeu-la."
   ]
  },
  {
   "cell_type": "markdown",
   "metadata": {},
   "source": [
    "En primer lloc, calculem la representació de $T$ en la base canònica:"
   ]
  },
  {
   "cell_type": "code",
   "execution_count": null,
   "metadata": {},
   "outputs": [],
   "source": [
    "A1 = matrix([[1,-3],[1,2]])\n",
    "C = matrix([[2,-3],[1,4]]).T\n",
    "A = C*A1*C.inverse()\n",
    "show(A)"
   ]
  },
  {
   "cell_type": "markdown",
   "metadata": {},
   "source": [
    "És a dir, la representació en la base canònica és\n",
    "$$\n",
    "  \\left(\\begin{array}{c} u\\\\ v \\end{array}\\right)\n",
    "  = \\left(\\begin{array}{rr}\n",
    "  0 & -1\\\\\n",
    "  5 &  3\n",
    "  \\end{array}\\right)\n",
    "  \\left(\\begin{array}{c} x\\\\ y \\end{array}\\right)\\,.\n",
    "$$"
   ]
  },
  {
   "cell_type": "markdown",
   "metadata": {},
   "source": [
    "Aleshores,"
   ]
  },
  {
   "cell_type": "code",
   "execution_count": null,
   "metadata": {},
   "outputs": [],
   "source": [
    "p = A.charpoly()\n",
    "show(p)"
   ]
  },
  {
   "cell_type": "code",
   "execution_count": null,
   "metadata": {},
   "outputs": [],
   "source": [
    "show(p.roots())"
   ]
  },
  {
   "cell_type": "markdown",
   "metadata": {},
   "source": [
    "Com que les arrels del polinomi característic són complexes conjugades, $T$ no és diagonalizable, és a dir, no existeix cap base de $V_2$ en la que la representació de $T$ sigui diagonal."
   ]
  },
  {
   "cell_type": "markdown",
   "metadata": {},
   "source": [
    "**Observació**: també es pot calcular el polinomi característic a partir de la matriu $A'$:"
   ]
  },
  {
   "cell_type": "code",
   "execution_count": null,
   "metadata": {},
   "outputs": [],
   "source": [
    "p = A1.charpoly()\n",
    "show(p)"
   ]
  },
  {
   "cell_type": "markdown",
   "metadata": {},
   "source": [
    "## Exercici 11\n",
    "Analitzeu si la transformació lineal $T:V_2\\longrightarrow V_2$ que en la base canònica té la matriu associada següent és o no diagonalitzable i, en cas afirmatiu, diagonalitzeu--la:\n",
    "$$\n",
    "  A=\\left(\\begin{array}{rr}\n",
    "  1 & 2\\\\\n",
    "  3 & 2\n",
    "  \\end{array}\\right)\\,.\n",
    "$$"
   ]
  },
  {
   "cell_type": "code",
   "execution_count": null,
   "metadata": {},
   "outputs": [],
   "source": [
    "A = matrix([[1,2],[3,2]])\n",
    "p = A.charpoly()\n",
    "show(p)"
   ]
  },
  {
   "cell_type": "code",
   "execution_count": null,
   "metadata": {},
   "outputs": [],
   "source": [
    "show(p.roots())"
   ]
  },
  {
   "cell_type": "markdown",
   "metadata": {},
   "source": [
    "Els valors propis de $T$ són $\\lambda_1=4$ i $\\lambda_2=-1$; per tant, la transformació lineal és diagonalitzable."
   ]
  },
  {
   "cell_type": "markdown",
   "metadata": {},
   "source": [
    "Vectors propis de $T$ amb valor propi $\\lambda_1=4$:"
   ]
  },
  {
   "cell_type": "code",
   "execution_count": null,
   "metadata": {},
   "outputs": [],
   "source": [
    "x, y = var('x y')\n",
    "X = vector([x,y])\n",
    "AX = A * X\n",
    "l = 4\n",
    "show(solve([AX[i] == l*X[i] for i in range(2)],[x,y]))"
   ]
  },
  {
   "cell_type": "markdown",
   "metadata": {},
   "source": [
    "$V_4$ és la recta vectorial generada pel vector $(2,3)$."
   ]
  },
  {
   "cell_type": "markdown",
   "metadata": {},
   "source": [
    "Vectors propis de $T$ amb valor propi $\\lambda_1=-1$:"
   ]
  },
  {
   "cell_type": "code",
   "execution_count": null,
   "metadata": {},
   "outputs": [],
   "source": [
    "x, y = var('x y')\n",
    "X = vector([x,y])\n",
    "AX = A * X\n",
    "l = -1\n",
    "show(solve([AX[i] == l*X[i] for i in range(2)],[x,y]))"
   ]
  },
  {
   "cell_type": "markdown",
   "metadata": {},
   "source": [
    "$V_{-1}$ és la recta vectorial generada pel vector $(-1,1)$. Aleshores, la base $\\mathcal{B}'=\\{(2,3),(-1,1)\\}$ és una base formada per vectors propis de $T$ i la seva representació (de $T$) en la base $\\mathcal{B}'$ és\n",
    "$$\n",
    "  \\left(\\begin{array}{c} u'\\\\ v' \\end{array}\\right)\n",
    "  = \\left(\\begin{array}{rr}\n",
    "  4 &  0\\\\\n",
    "  0 & -1\n",
    "  \\end{array}\\right)\n",
    "  \\left(\\begin{array}{c} x'\\\\ y' \\end{array}\\right)\\,.\n",
    "$$"
   ]
  },
  {
   "cell_type": "markdown",
   "metadata": {},
   "source": [
    "## Exercici 12\n",
    "Analitzeu si la transformació lineal $T:V_3\\longrightarrow V_3$ que en la base canònica té representació\n",
    "$$\n",
    "  \\left(\\begin{array}{c} u\\\\ v\\\\ w \\end{array}\\right)\n",
    "  = \\left(\\begin{array}{rrr}\n",
    "   -3 & -3 & -2 \\\\\n",
    "    8 &  7 &  4 \\\\\n",
    "   -4 & -3 & -1\n",
    "  \\end{array}\\right) \n",
    "  \\left(\\begin{array}{c} x\\\\ y\\\\ z \\end{array}\\right)\n",
    "$$\n",
    "és o no diagonalitzable i, en cas afirmatiu, diagonalitzeu-la."
   ]
  },
  {
   "cell_type": "code",
   "execution_count": null,
   "metadata": {},
   "outputs": [],
   "source": [
    "A = matrix([[-3,-3,-2],[8,7,4],[-4,-3,-1]])\n",
    "p = A.charpoly()\n",
    "show(p)"
   ]
  },
  {
   "cell_type": "code",
   "execution_count": null,
   "metadata": {},
   "outputs": [],
   "source": [
    "show(p.roots())"
   ]
  },
  {
   "cell_type": "markdown",
   "metadata": {},
   "source": [
    "Els valors propis de $T$ són $\\lambda_1=1$ amb multiplicitat 3. Com que la matriu $A$ no és múltiple de la identitat, podem afirmar que $T$ no és diagonalitzable. "
   ]
  },
  {
   "cell_type": "markdown",
   "metadata": {},
   "source": [
    "## Exercici 13\n",
    "Analitzeu si la transformació lineal $T:V_3\\longrightarrow V_3$ que en la base canònica té representació\n",
    "$$\n",
    "  \\left(\\begin{array}{c} u\\\\ v\\\\ w \\end{array}\\right)\n",
    "  = \\left(\\begin{array}{rrr}\n",
    "    1 & 0 &  1 \\\\\n",
    "   -6 & 3 & -7 \\\\\n",
    "   -2 & 0 & -1\n",
    "  \\end{array}\\right) \n",
    "  \\left(\\begin{array}{c} x\\\\ y\\\\ z \\end{array}\\right)\n",
    "$$\n",
    "és o no diagonalitzable i, en cas afirmatiu, diagonalitzeu-la."
   ]
  },
  {
   "cell_type": "code",
   "execution_count": null,
   "metadata": {},
   "outputs": [],
   "source": [
    "A = matrix([[1,0,1],[-6,3,-7],[-2,0,-1]])\n",
    "p = A.charpoly()\n",
    "show(p)"
   ]
  },
  {
   "cell_type": "code",
   "execution_count": null,
   "metadata": {},
   "outputs": [],
   "source": [
    "show(p.roots())"
   ]
  },
  {
   "cell_type": "markdown",
   "metadata": {},
   "source": [
    "Els valors propis de $T$ són $\\lambda_1=3$ amb multiplicitat 1 i dos valors propis complexos conjugats. Per tant, la transformació lineal $T$ no és diagonalitzable."
   ]
  },
  {
   "cell_type": "markdown",
   "metadata": {},
   "source": [
    "## Exercici 14\n",
    "Analitzeu si la transformació lineal $T:V_3\\longrightarrow V_3$ que en la base $\\mathcal{B}'=\\{(1,1,0),(1,0,1),(0,1,1)\\}$ té representació\n",
    "$$\n",
    "  \\left(\\begin{array}{c} u'\\\\ v'\\\\ w' \\end{array}\\right)\n",
    "  = \\left(\\begin{array}{rrr}\n",
    "   -2 & 0 &  0 \\\\\n",
    "   -4 & 0 & -1 \\\\\n",
    "   -2 & 1 &  2\n",
    "  \\end{array}\\right) \n",
    "  \\left(\\begin{array}{c} x'\\\\ y'\\\\ z' \\end{array}\\right)\n",
    "$$\n",
    "és o no diagonalitzable i, en cas afirmatiu, diagonalitzeu-la."
   ]
  },
  {
   "cell_type": "markdown",
   "metadata": {},
   "source": [
    "En primer lloc, calculem la representació de $T$ en la base canònica:"
   ]
  },
  {
   "cell_type": "code",
   "execution_count": null,
   "metadata": {},
   "outputs": [],
   "source": [
    "A1 = matrix([[-2,0,0],[-4,0,-1],[-2,1,2]])\n",
    "C = matrix([[1,1,0],[1,0,1],[0,1,1]]).T\n",
    "A = C*A1*C.inverse()\n",
    "show(A)"
   ]
  },
  {
   "cell_type": "markdown",
   "metadata": {},
   "source": [
    "La representació de $T$ en la base canònica és\n",
    "$$\n",
    "  \\left(\\begin{array}{c} u\\\\ v\\\\ w \\end{array}\\right)\n",
    "  = \\frac{1}{2}\\left(\\begin{array}{rrr}\n",
    "   -5 & -5 & 5 \\\\\n",
    "   -5 & -3 & 7 \\\\\n",
    "   -6 & -6 & 8\n",
    "  \\end{array}\\right) \n",
    "  \\left(\\begin{array}{c} x\\\\ y\\\\ z \\end{array}\\right)\n",
    "$$"
   ]
  },
  {
   "cell_type": "code",
   "execution_count": null,
   "metadata": {},
   "outputs": [],
   "source": [
    "p = A.charpoly()\n",
    "show(p)"
   ]
  },
  {
   "cell_type": "code",
   "execution_count": null,
   "metadata": {},
   "outputs": [],
   "source": [
    "show(p.roots())"
   ]
  },
  {
   "cell_type": "markdown",
   "metadata": {},
   "source": [
    "El valors propis de $T$ son $\\lambda_1=1$ amb multiplicitat 2 i $\\lambda_2=-2$."
   ]
  },
  {
   "cell_type": "markdown",
   "metadata": {},
   "source": [
    "Vectors propis amb valor propi $\\lambda_1=1$:"
   ]
  },
  {
   "cell_type": "code",
   "execution_count": null,
   "metadata": {},
   "outputs": [],
   "source": [
    "x, y, z = var('x y z')\n",
    "X = vector([x,y,z])\n",
    "AX = A * X\n",
    "l = 1\n",
    "show(solve([AX[i] == l*X[i] for i in range(3)],[x,y,z]))"
   ]
  },
  {
   "cell_type": "markdown",
   "metadata": {},
   "source": [
    "$V_1$ és la recta vectorial generada pel vector $(-1,1,0)$. Per tant, la transformació lineal $T$ no és diagonalitzable."
   ]
  },
  {
   "cell_type": "markdown",
   "metadata": {},
   "source": [
    "## Exercici 15\n",
    "Analitzeu si la transformació lineal $T:V_3\\longrightarrow V_3$ que en la base canònica està representada per\n",
    "$$\n",
    "  \\left(\\begin{array}{c} u\\\\ v\\\\ w \\end{array}\\right)\n",
    "  = \\left(\\begin{array}{rrr}\n",
    "   1 & -1 & -1 \\\\\n",
    "  -8 & -6 & -3 \\\\\n",
    "   8 &  8 &  5\n",
    "  \\end{array}\\right) \n",
    "  \\left(\\begin{array}{c} x\\\\ y\\\\ z \\end{array}\\right)\n",
    "$$\n",
    "és o no diagonalitzable i, en cas afirmatiu, diagonalitzeu-la."
   ]
  },
  {
   "cell_type": "code",
   "execution_count": null,
   "metadata": {},
   "outputs": [],
   "source": [
    "A = matrix([[1,-1,-1],[-8,-6,-3],[8,8,5]])\n",
    "p = A.charpoly()\n",
    "show(p)"
   ]
  },
  {
   "cell_type": "code",
   "execution_count": null,
   "metadata": {},
   "outputs": [],
   "source": [
    "show(p.roots())"
   ]
  },
  {
   "cell_type": "markdown",
   "metadata": {},
   "source": [
    "El valors propis de $T$ son $\\lambda_1=2$, $\\lambda_2=1$ i $\\lambda_3=-3$ tots simples. Per tant, la transformació lineal $T$ és diagonalizable.   "
   ]
  },
  {
   "cell_type": "markdown",
   "metadata": {},
   "source": [
    "Vectors propis amb valor propi $\\lambda_1=2$:"
   ]
  },
  {
   "cell_type": "code",
   "execution_count": null,
   "metadata": {},
   "outputs": [],
   "source": [
    "x, y, z = var('x y z')\n",
    "X = vector([x,y,z])\n",
    "AX = A * X\n",
    "l = 2\n",
    "show(solve([AX[i] == l*X[i] for i in range(3)],[x,y,z]))"
   ]
  },
  {
   "cell_type": "markdown",
   "metadata": {},
   "source": [
    "$V_2$ és la recta vectorial generada pel vector $(-1,1,0)$."
   ]
  },
  {
   "cell_type": "markdown",
   "metadata": {},
   "source": [
    "Vectors propis amb valor propi $\\lambda_2=1$:"
   ]
  },
  {
   "cell_type": "code",
   "execution_count": null,
   "metadata": {},
   "outputs": [],
   "source": [
    "x, y, z = var('x y z')\n",
    "X = vector([x,y,z])\n",
    "AX = A * X\n",
    "l = 1\n",
    "show(solve([AX[i] == l*X[i] for i in range(3)],[x,y,z]))"
   ]
  },
  {
   "cell_type": "markdown",
   "metadata": {},
   "source": [
    "$V_1$ és la recta vectorial generada pel vector $(1,-2,2)$."
   ]
  },
  {
   "cell_type": "markdown",
   "metadata": {},
   "source": [
    "Vectors propis amb valor propi $\\lambda_3=-3$:"
   ]
  },
  {
   "cell_type": "code",
   "execution_count": null,
   "metadata": {},
   "outputs": [],
   "source": [
    "x, y, z = var('x y z')\n",
    "X = vector([x,y,z])\n",
    "AX = A * X\n",
    "l = -3\n",
    "show(solve([AX[i] == l*X[i] for i in range(3)],[x,y,z]))"
   ]
  },
  {
   "cell_type": "markdown",
   "metadata": {},
   "source": [
    "$V_{-3}$ és la recta vectorial generada pel vector $(0,-1,1)$."
   ]
  },
  {
   "cell_type": "markdown",
   "metadata": {},
   "source": [
    "La representació de la transformació lineal $T$ en la base $\\mathcal{B}'=\\{(-1,1,0),(1,-2,2),(0,-1,1)\\}$ és\n",
    "$$\n",
    "  \\left(\\begin{array}{c} u'\\\\ v'\\\\ w' \\end{array}\\right)\n",
    "  = \\left(\\begin{array}{rrr}\n",
    "   2 & 0 &  0 \\\\\n",
    "   0 & 1 &  0 \\\\\n",
    "   0 & 0 & -3 \n",
    "  \\end{array}\\right) \n",
    "  \\left(\\begin{array}{c} x'\\\\ y'\\\\ z' \\end{array}\\right)\\,,\n",
    "$$\n",
    "és a dir, $T$ és diagonalitzable."
   ]
  },
  {
   "cell_type": "markdown",
   "metadata": {},
   "source": [
    "Comprovació:"
   ]
  },
  {
   "cell_type": "code",
   "execution_count": null,
   "metadata": {},
   "outputs": [],
   "source": [
    "C = matrix([[-1,1,0],[1,-2,2],[0,-1,1]]).T\n",
    "show(C.inverse() * A * C)"
   ]
  },
  {
   "cell_type": "markdown",
   "metadata": {},
   "source": [
    "## Exercici 16\n",
    "Analitzeu si la transformació lineal $T:V_3\\longrightarrow V_3$ que en la base $\\mathcal{B}'=\\{(1,0,0),(1,1,0),(1,1,1)\\}$ té representació\n",
    "$$\n",
    "  \\left(\\begin{array}{c} u'\\\\ v'\\\\ w' \\end{array}\\right)\n",
    "  = \\left(\\begin{array}{rrr}\n",
    "    1 & -2 &  4 \\\\\n",
    "   -4 &  3 & -8 \\\\\n",
    "   -2 &  2 & -5\n",
    "  \\end{array}\\right) \n",
    "  \\left(\\begin{array}{c} x'\\\\ y'\\\\ z' \\end{array}\\right)\n",
    "$$\n",
    "és o no diagonalitzable i, en cas afirmatiu, diagonalitzeu-la."
   ]
  },
  {
   "cell_type": "markdown",
   "metadata": {},
   "source": [
    "En primer lloc, calculem la representació de $T$ en la base canònica:"
   ]
  },
  {
   "cell_type": "code",
   "execution_count": null,
   "metadata": {},
   "outputs": [],
   "source": [
    "A1 = matrix([[1,-2,4],[-4,3,-8],[-2,2,-5]])\n",
    "## C = matrix([[1,1,1],[0,1,1],[0,0,1]])\n",
    "C = matrix([[1,0,0],[1,1,0],[1,1,1]]).T\n",
    "A = C*A1*C.inverse()\n",
    "show(A)"
   ]
  },
  {
   "cell_type": "markdown",
   "metadata": {},
   "source": [
    "La representació de $T$ en la base canònica és\n",
    "$$\n",
    "  \\left(\\begin{array}{c} u\\\\ v\\\\ w \\end{array}\\right)\n",
    "  = \\left(\\begin{array}{rrr}\n",
    "  -5 &  8 & -12 \\\\\n",
    "  -6 & 11 & -18 \\\\\n",
    "  -2 &  4 &  -7\n",
    "  \\end{array}\\right) \n",
    "  \\left(\\begin{array}{c} x\\\\ y\\\\ z \\end{array}\\right)\n",
    "$$"
   ]
  },
  {
   "cell_type": "code",
   "execution_count": null,
   "metadata": {},
   "outputs": [],
   "source": [
    "p = A.charpoly()\n",
    "show(p)"
   ]
  },
  {
   "cell_type": "code",
   "execution_count": null,
   "metadata": {},
   "outputs": [],
   "source": [
    "show(p.roots())"
   ]
  },
  {
   "cell_type": "markdown",
   "metadata": {},
   "source": [
    "El valors propis de $T$ son $\\lambda_1=1$, $\\lambda_2=-1$ amb multiplicitat 2."
   ]
  },
  {
   "cell_type": "markdown",
   "metadata": {},
   "source": [
    "Vectors propis amb valor propi $\\lambda_1=1$:"
   ]
  },
  {
   "cell_type": "code",
   "execution_count": null,
   "metadata": {},
   "outputs": [],
   "source": [
    "x, y, z = var('x y z')\n",
    "X = vector([x,y,z])\n",
    "AX = A * X\n",
    "l = 1\n",
    "show(solve([AX[i] == l*X[i] for i in range(3)],[x,y,z]))"
   ]
  },
  {
   "cell_type": "markdown",
   "metadata": {},
   "source": [
    "$V_1$ és la recta vectorial generada pel vector $(2,3,1)$."
   ]
  },
  {
   "cell_type": "markdown",
   "metadata": {},
   "source": [
    "Vectors propis amb valor propi $\\lambda_2=-1$:"
   ]
  },
  {
   "cell_type": "code",
   "execution_count": null,
   "metadata": {},
   "outputs": [],
   "source": [
    "x, y, z = var('x y z')\n",
    "X = vector([x,y,z])\n",
    "AX = A * X\n",
    "l = -1\n",
    "show(solve([AX[i] == l*X[i] for i in range(3)],[x,y,z]))"
   ]
  },
  {
   "cell_type": "markdown",
   "metadata": {},
   "source": [
    "$V_{-1}$ és el pla vectorial generat pel vector $(-3,0,1)$ i $(2,1,0)$. La base $\\mathcal{B}''=\\{(2,3,1),(-3,0,1),(2,1,0)\\}$ és una base de $V_3$ formada per vectors propis de $T$, és a dir, la transformació lineal $T$ és diagonalitzable i la seva representació en la base $\\mathcal{B}''$ és \n",
    "$$\n",
    "  \\left(\\begin{array}{c} u''\\\\ v''\\\\ w'' \\end{array}\\right)\n",
    "  = \\left(\\begin{array}{rrr}\n",
    "    1 &  0 &  0 \\\\\n",
    "    0 & -1 &  0 \\\\\n",
    "    0 &  0 & -1\n",
    "  \\end{array}\\right) \n",
    "  \\left(\\begin{array}{c} x''\\\\ y''\\\\ z'' \\end{array}\\right)\\,.\n",
    "$$"
   ]
  },
  {
   "cell_type": "markdown",
   "metadata": {},
   "source": [
    "Comprovació:"
   ]
  },
  {
   "cell_type": "code",
   "execution_count": null,
   "metadata": {},
   "outputs": [],
   "source": [
    "C = matrix([[2,3,1],[-3,0,1],[2,1,0]]).T\n",
    "show(C.inverse() * A * C)"
   ]
  },
  {
   "cell_type": "markdown",
   "metadata": {},
   "source": [
    "## Exercici 17\n",
    "La transformació lineal $T$ de $V_3$ diagonalitza en la base $\\mathcal{B}'=\\{(2,-2,-1),(2,-1,-1),(1,-2,-1)\\}$ i la seva matriu en la base canònica és\n",
    "$$\n",
    "  A=\\left(\\begin{array}{rrr}\n",
    "   1 &  2 & a \\\\ \n",
    "   2 &  1 & b \\\\ \n",
    "   1 & -1 & c\n",
    "  \\end{array}\\right) \\,.\n",
    "$$\n",
    "Determineu els coeficients $a$, $b$ i $c$ i la matriu diagonal corresponent."
   ]
  },
  {
   "cell_type": "markdown",
   "metadata": {},
   "source": [
    "La matriu diagonal serà de la forma\n",
    "$$\n",
    "  A'=\\left(\\begin{array}{rrr}\n",
    "   \\alpha &   0   &   0 \\\\ \n",
    "      0   & \\beta &   0 \\\\ \n",
    "      0   &   0   & \\gamma\n",
    "  \\end{array}\\right)\n",
    "$$\n",
    "i la matriu del canvi de base de la base $\\mathcal{B}'$ a la base canònica \n",
    "$$\n",
    "  C=\\left(\\begin{array}{rrr}\n",
    "    2 &  2 &  1 \\\\ \n",
    "   -2 & -1 & -2 \\\\ \n",
    "   -1 & -1 & -1\n",
    "  \\end{array}\\right) \\,.\n",
    "$$\n",
    "i s'ha de complir que $A=CA'C^{-1}$."
   ]
  },
  {
   "cell_type": "code",
   "execution_count": null,
   "metadata": {},
   "outputs": [],
   "source": [
    "a, b ,c = var('a b c')\n",
    "alpha, beta, gamma = var('alpha beta gamma')\n",
    "A = matrix(3,3,[1,2,a,2,1,b,1,-1,c])\n",
    "show(A)"
   ]
  },
  {
   "cell_type": "code",
   "execution_count": null,
   "metadata": {},
   "outputs": [],
   "source": [
    "u1 = vector([2,-2,-1])\n",
    "u2 = vector([2,-1,-1])\n",
    "u3 = vector([1,-2,-1])\n",
    "C = matrix([u1,u2,u3]).T\n",
    "show(C)"
   ]
  },
  {
   "cell_type": "code",
   "execution_count": null,
   "metadata": {},
   "outputs": [],
   "source": [
    "A1 = matrix.diagonal([alpha,beta,gamma])\n",
    "show(A1)"
   ]
  },
  {
   "cell_type": "markdown",
   "metadata": {},
   "source": [
    "A més, s'ha de complir la igualtat $A=CA'C^{-1}$. Representem per $B$ la matriu $CA'C^{-1}$:"
   ]
  },
  {
   "cell_type": "code",
   "execution_count": null,
   "metadata": {},
   "outputs": [],
   "source": [
    "B = C * A1 * C.inverse()\n",
    "show(B)"
   ]
  },
  {
   "cell_type": "markdown",
   "metadata": {},
   "source": [
    "Igualem terme a terme amb la matriu $A$ i resolem el corresponent sistema d'equacions:"
   ]
  },
  {
   "cell_type": "code",
   "execution_count": null,
   "metadata": {},
   "outputs": [],
   "source": [
    "sol = solve([A[i,j] == B[i,j] for i in range(3) for j in range(3)],[a,b,c,alpha,beta,gamma])\n",
    "show(sol)"
   ]
  },
  {
   "cell_type": "markdown",
   "metadata": {},
   "source": [
    "Per tant $a=-6$, $b=6$, $c=6$ i la matriu diagonal és\n",
    "$$\n",
    "  A'=\\left(\\begin{array}{rrr}\n",
    "   2 & 0 & 0 \\\\ \n",
    "   0 & 3 & 0 \\\\ \n",
    "   0 & 0 & 3\n",
    "  \\end{array}\\right)\\,.\n",
    "$$"
   ]
  },
  {
   "cell_type": "markdown",
   "metadata": {},
   "source": [
    "## Exercici 18\n",
    "La transformació lineal $T$ diagonalitza en la base $\\mathcal{B}'=\\{(-1,-1,-1),(1,2,1),(2,1,1)\\}$, i el vector $(-3,-1,-2)$ es transforma en el\n",
    "vector $(-4,0,-2)$. Trobeu la representació de $T$ en la base canònica."
   ]
  },
  {
   "cell_type": "markdown",
   "metadata": {},
   "source": [
    "La matriu diagonal serà de la forma\n",
    "$$\n",
    "  A'=\\left(\\begin{array}{rrr}\n",
    "   \\alpha &   0   &   0 \\\\ \n",
    "      0   & \\beta &   0 \\\\ \n",
    "      0   &   0   & \\gamma\n",
    "  \\end{array}\\right)\n",
    "$$\n",
    "i la matriu del canvi de base de la base $\\mathcal{B}'$ a la base canònica \n",
    "$$\n",
    "  C=\\left(\\begin{array}{rrr}\n",
    "  -1 & 1 & 2\\\\\n",
    "  -1 & 2 & 1\\\\\n",
    "  -1 & 1 & 1\n",
    "  \\end{array}\\right) \\,.\n",
    "$$\n",
    "i s'ha de complir que $A=CA'C^{-1}$."
   ]
  },
  {
   "cell_type": "code",
   "execution_count": null,
   "metadata": {},
   "outputs": [],
   "source": [
    "alpha, beta, gamma = var('alpha beta gamma')\n",
    "A1 = matrix.diagonal([alpha,beta,gamma])\n",
    "u1 = vector([-1,-1,-1])\n",
    "u2 = vector([1,2,1])\n",
    "u3 = vector([2,1,1])\n",
    "C = matrix([u1,u2,u3]).T\n",
    "show(C)"
   ]
  },
  {
   "cell_type": "code",
   "execution_count": null,
   "metadata": {},
   "outputs": [],
   "source": [
    "A = C * A1 * C.inverse()\n",
    "show(A)"
   ]
  },
  {
   "cell_type": "markdown",
   "metadata": {},
   "source": [
    "Com que el vector $(-3,-1,-2)$ es transforma en el vector $(-4,0,-2)$, s'ha de complir que\n",
    "$$\n",
    "  A\\left(\\begin{array}{r} -3\\\\ -1\\\\ -2 \\end{array}\\right)\n",
    "  =\\left(\\begin{array}{r} -4\\\\ 0\\\\ -2 \\end{array}\\right)\\,,\n",
    "$$\n",
    "és a dir,"
   ]
  },
  {
   "cell_type": "code",
   "execution_count": null,
   "metadata": {},
   "outputs": [],
   "source": [
    "u = vector([-3,-1,-2])\n",
    "Tu = vector([-4,0,-2])\n",
    "Au = A * u\n",
    "show(Au)"
   ]
  },
  {
   "cell_type": "code",
   "execution_count": null,
   "metadata": {},
   "outputs": [],
   "source": [
    "show(solve([Au[i] == Tu[i] for i in range(3)],[alpha,beta,gamma]))"
   ]
  },
  {
   "cell_type": "code",
   "execution_count": null,
   "metadata": {},
   "outputs": [],
   "source": [
    "A = A.subs(alpha=1,beta=2,gamma=2)\n",
    "show(A)"
   ]
  },
  {
   "cell_type": "markdown",
   "metadata": {},
   "source": [
    "Per tant, la representació de $T$ en la base canònica és\n",
    "$$\n",
    "  \\left(\\begin{array}{c} u\\\\ v\\\\ w \\end{array}\\right)\n",
    "  = \\left(\\begin{array}{rrr}\n",
    "  3 & 1 & -3 \\\\\n",
    "  1 & 3 & -3 \\\\\n",
    "  1 & 1 & -1\n",
    "  \\end{array}\\right)\n",
    "  \\left(\\begin{array}{c} x\\\\ y\\\\ z \\end{array}\\right)\\,.\n",
    "$$"
   ]
  },
  {
   "cell_type": "markdown",
   "metadata": {},
   "source": [
    "## Exercici 19\n",
    "Donada la matriu simètrica\n",
    "$$\n",
    "  A=\\left(\\begin{array}{rrr}\n",
    "   5 & -2 & 2 \\\\\n",
    "  -2 &  2 & 4 \\\\\n",
    "   2 &  4 & 2\n",
    "  \\end{array}\\right) \\,,\n",
    "$$\n",
    "1. diagonalitzeu-la i expresseu la matriu diagonal en funció de la matriu $A$ i de la matriu de canvi de base;\n",
    "2. diagonalitzeu-la ortogonalment i expresseu la matriu diagonal en funció de la matriu $A$ i de la matriu ortogonal de canvi de base."
   ]
  },
  {
   "cell_type": "markdown",
   "metadata": {},
   "source": [
    "El primer pas és el mateix que en els exercicis anteriors: trobar una base de vectors propis per a la matriu $A$. Com que $A$ és simètrica, ja sabem que serà diagonalitzable."
   ]
  },
  {
   "cell_type": "code",
   "execution_count": null,
   "metadata": {},
   "outputs": [],
   "source": [
    "A = matrix([[5,-2,2],[-2,2,4],[2,4,2]])\n",
    "p = A.charpoly()\n",
    "show(p)"
   ]
  },
  {
   "cell_type": "code",
   "execution_count": null,
   "metadata": {},
   "outputs": [],
   "source": [
    "show(p.roots())"
   ]
  },
  {
   "cell_type": "markdown",
   "metadata": {},
   "source": [
    "El valors propis de la matriu $A$ son $\\lambda_1=-3$, $\\lambda_2=6$ amb multiplicitat 2."
   ]
  },
  {
   "cell_type": "markdown",
   "metadata": {},
   "source": [
    "Vectors propis amb valor propi $\\lambda_1=-3$:"
   ]
  },
  {
   "cell_type": "code",
   "execution_count": null,
   "metadata": {},
   "outputs": [],
   "source": [
    "x, y, z = var('x y z')\n",
    "X = vector([x,y,z])\n",
    "AX = A * X\n",
    "l = -3\n",
    "show(solve([AX[i] == l*X[i] for i in range(3)],[x,y,z]))"
   ]
  },
  {
   "cell_type": "markdown",
   "metadata": {},
   "source": [
    "$V_{-3}$ és la recta vectorial generada pel vector $(1,2,-2)$."
   ]
  },
  {
   "cell_type": "markdown",
   "metadata": {},
   "source": [
    "Vectors propis amb valor propi $\\lambda_2=6$:"
   ]
  },
  {
   "cell_type": "code",
   "execution_count": null,
   "metadata": {},
   "outputs": [],
   "source": [
    "x, y, z = var('x y z')\n",
    "X = vector([x,y,z])\n",
    "AX = A * X\n",
    "l = 6\n",
    "show(solve([AX[i] == l*X[i] for i in range(3)],[x,y,z]))"
   ]
  },
  {
   "cell_type": "markdown",
   "metadata": {},
   "source": [
    "$V_6$ és el pla vectorial generat pels vectors $(2,0,1)$ i $(-2,1,0)$. Aleshores, $\\mathcal{B}'=\\{(1,2,-2),(2,0,1),(-2,1,0)\\}$ és una base de $V_3$ formada per vectors propis mde $A$ i, si posem\n",
    "$$\n",
    "  C=\\left(\\begin{array}{rrr}\n",
    "   1 & 2 & -2 \\\\\n",
    "   2 & 0 &  1 \\\\\n",
    "  -2 & 1 &  0\n",
    "  \\end{array}\\right) \\,,\n",
    "$$\n",
    "es compleix que\n",
    "$$\n",
    "  \\left(\\begin{array}{rrr}\n",
    "   1 & 2 & -2 \\\\\n",
    "   2 & 0 &  1 \\\\\n",
    "  -2 & 1 &  0\n",
    "  \\end{array}\\right)^{-1}\n",
    "  \\left(\\begin{array}{rrr}\n",
    "   5 & -2 & 2 \\\\\n",
    "  -2 &  2 & 4 \\\\\n",
    "   2 &  4 & 2\n",
    "  \\end{array}\\right)\n",
    "  \\left(\\begin{array}{rrr}\n",
    "   1 & 2 & -2 \\\\\n",
    "   2 & 0 &  1 \\\\\n",
    "  -2 & 1 &  0\n",
    "  \\end{array}\\right)\n",
    "  = \\left(\\begin{array}{rrr}\n",
    "   -3 & 0 & 0 \\\\\n",
    "    0 & 6 & 0 \\\\\n",
    "    0 & 0 & 6\n",
    "  \\end{array}\\right)\\,,\n",
    "$$\n",
    "o bé\n",
    "$$\n",
    "  \\left(\\begin{array}{rrr}\n",
    "   5 & -2 & 2 \\\\\n",
    "  -2 &  2 & 4 \\\\\n",
    "   2 &  4 & 2\n",
    "  \\end{array}\\right)\n",
    "  =\\left(\\begin{array}{rrr}\n",
    "   1 & 2 & -2 \\\\\n",
    "   2 & 0 &  1 \\\\\n",
    "  -2 & 1 &  0\n",
    "  \\end{array}\\right)\n",
    "  \\left(\\begin{array}{rrr}\n",
    "   -3 & 0 & 0 \\\\\n",
    "    0 & 6 & 0 \\\\\n",
    "    0 & 0 & 6\n",
    "  \\end{array}\\right)\n",
    "  \\left(\\begin{array}{rrr}\n",
    "   1 & 2 & -2 \\\\\n",
    "   2 & 0 &  1 \\\\\n",
    "  -2 & 1 &  0\n",
    "  \\end{array}\\right)^{-1}\\,.\n",
    "$$"
   ]
  },
  {
   "cell_type": "markdown",
   "metadata": {},
   "source": [
    "Comprovació:"
   ]
  },
  {
   "cell_type": "code",
   "execution_count": null,
   "metadata": {},
   "outputs": [],
   "source": [
    "C = matrix([[1,2,-2],[2,0,1],[-2,1,0]])\n",
    "show(C.inverse() * A * C)"
   ]
  },
  {
   "cell_type": "code",
   "execution_count": null,
   "metadata": {},
   "outputs": [],
   "source": [
    "A1 = diagonal_matrix([-3,6,6])\n",
    "show(C*A1*C.inverse())"
   ]
  },
  {
   "cell_type": "markdown",
   "metadata": {},
   "source": [
    "A la segona part, hem de trobar una base ortonormal de vectors propis de $A$. Observem que $(1,2,-2)$ ja es perpendicular als altres dos (*recordem que vectors propis amb valors propis diferents d'una transformació lineal o una matriu simètrica són ortogonals*). Per tant, només cal aplicar Gram-Schmidt als dos últims:"
   ]
  },
  {
   "cell_type": "code",
   "execution_count": null,
   "metadata": {},
   "outputs": [],
   "source": [
    "u1 = vector([2,0,1])\n",
    "u2 = vector([-2,1,0])\n",
    "v1 = u1\n",
    "v2 = u2 - (u2*v1)/(v1*v1)*v1\n",
    "v2 = 5*v2\n",
    "show(v2)"
   ]
  },
  {
   "cell_type": "code",
   "execution_count": null,
   "metadata": {},
   "outputs": [],
   "source": [
    "show(v1.norm())"
   ]
  },
  {
   "cell_type": "code",
   "execution_count": null,
   "metadata": {},
   "outputs": [],
   "source": [
    "show(v2.norm())"
   ]
  },
  {
   "cell_type": "markdown",
   "metadata": {},
   "source": [
    "Aleshores la base\n",
    "$$\n",
    "  \\mathcal{B}''=\\left\\{\\frac{1}{3}(1,2,-2),\\frac{1}{\\sqrt{5}}(2,0,1),\\frac{1}{3\\sqrt{5}}(-2,5,4)\\right\\}\n",
    "$$\n",
    "és una és una **base ortonormal** de $V_3$ formada per vectors propis de la matriu $A$. Si posem\n",
    "$$\n",
    "  P = \\frac{1}{3\\sqrt{5}}\\left(\\begin{array}{rrr}\n",
    "   \\sqrt{5}  & 6 & -2 \\\\\n",
    "   2\\sqrt{5} & 0 &  5 \\\\\n",
    "  -2\\sqrt{5} & 3 &  4\n",
    "  \\end{array}\\right)\\,,\n",
    "$$\n",
    "es compleix que $P^tP=I$ i $A=PDP^t$."
   ]
  },
  {
   "cell_type": "code",
   "execution_count": null,
   "metadata": {},
   "outputs": [],
   "source": [
    "P = 1/(3*sqrt(5))*matrix([[sqrt(5),6,-2],[2*sqrt(5),0,5],[-2*sqrt(5),3,4]])\n",
    "show(P.T*P)"
   ]
  },
  {
   "cell_type": "code",
   "execution_count": null,
   "metadata": {},
   "outputs": [],
   "source": [
    "show(P*A1*P.T)"
   ]
  },
  {
   "cell_type": "markdown",
   "metadata": {},
   "source": [
    "La matriu diagonal en funció de la matriu $A$ i de la matriu ortogonal de canvi de base és\n",
    "$$\n",
    "  A=PA'P^t\\,.\n",
    "$$"
   ]
  },
  {
   "cell_type": "markdown",
   "metadata": {},
   "source": [
    "## Exercici 20\n",
    "Diagonalitzeu ortogonalment la transformació lineal de $V_3$ que en la base canònica representació\n",
    "$$\n",
    "  \\left(\\begin{array}{c} u\\\\ v\\\\ w \\end{array}\\right)\n",
    "  = \\left(\\begin{array}{rrr}\n",
    "  0 & 1 & 0 \\\\\n",
    "  1 & 0 & 0 \\\\\n",
    "  0 & 0 & 2\n",
    "  \\end{array}\\right) \n",
    "  \\left(\\begin{array}{c} x\\\\ y\\\\ z \\end{array}\\right)\\,.\n",
    "$$"
   ]
  },
  {
   "cell_type": "code",
   "execution_count": null,
   "metadata": {},
   "outputs": [],
   "source": [
    "A = matrix([[0,1,0],[1,0,0],[0,0,2]])\n",
    "p = A.charpoly()\n",
    "show(p)"
   ]
  },
  {
   "cell_type": "code",
   "execution_count": null,
   "metadata": {},
   "outputs": [],
   "source": [
    "show(p.roots())"
   ]
  },
  {
   "cell_type": "markdown",
   "metadata": {},
   "source": [
    "El valors propis de $T$ son $\\lambda_1=2$, $\\lambda_2=1$ i $\\lambda_3=-1$, tots simples."
   ]
  },
  {
   "cell_type": "markdown",
   "metadata": {},
   "source": [
    "Vectors propis amb valor propi $\\lambda_1=2$:"
   ]
  },
  {
   "cell_type": "code",
   "execution_count": null,
   "metadata": {},
   "outputs": [],
   "source": [
    "x, y, z = var('x y z')\n",
    "X = vector([x,y,z])\n",
    "AX = A * X\n",
    "l = 2\n",
    "show(solve([AX[i] == l*X[i] for i in range(3)],[x,y,z]))"
   ]
  },
  {
   "cell_type": "markdown",
   "metadata": {},
   "source": [
    "$V_2$ és la recta vectorial generada pel vector $(0,0,1)$."
   ]
  },
  {
   "cell_type": "markdown",
   "metadata": {},
   "source": [
    "Vectors propis amb valor propi $\\lambda_2=1$:"
   ]
  },
  {
   "cell_type": "code",
   "execution_count": null,
   "metadata": {},
   "outputs": [],
   "source": [
    "x, y, z = var('x y z')\n",
    "X = vector([x,y,z])\n",
    "AX = A * X\n",
    "l = 1\n",
    "show(solve([AX[i] == l*X[i] for i in range(3)],[x,y,z]))"
   ]
  },
  {
   "cell_type": "markdown",
   "metadata": {},
   "source": [
    "$V_1$ és la recta vectorial generada pel vector $(1,1,0)$."
   ]
  },
  {
   "cell_type": "markdown",
   "metadata": {},
   "source": [
    "Vectors propis amb valor propi $\\lambda_3=-1$:"
   ]
  },
  {
   "cell_type": "code",
   "execution_count": null,
   "metadata": {},
   "outputs": [],
   "source": [
    "x, y, z = var('x y z')\n",
    "X = vector([x,y,z])\n",
    "AX = A * X\n",
    "l = -1\n",
    "show(solve([AX[i] == l*X[i] for i in range(3)],[x,y,z]))"
   ]
  },
  {
   "cell_type": "markdown",
   "metadata": {},
   "source": [
    "$V_{-1}$ és la recta vectorial generada pel vector $(1,-1,0)$. Aleshores, com que aquests tres vectors ja són perpendiculars entre ells, la base\n",
    "$$\n",
    "  \\mathcal{B}'=\\left\\{(0,0,1),\\frac{1}{\\sqrt{2}}(1,1,0),\\frac{1}{\\sqrt{2}}(1,-1,0)\\right\\}\n",
    "$$\n",
    "és una base ortonormal de $V_3$ formada per vectors propis de $T$. Així docs, la representació de la transfornació lineal $T$ en la base $\\mathcal{B}'$ és\n",
    "$$\n",
    "  \\left(\\begin{array}{c} u'\\\\ v'\\\\ w' \\end{array}\\right)\n",
    "  = \\left(\\begin{array}{rrr}\n",
    "  2 & 0 &  0 \\\\\n",
    "  0 & 1 &  0 \\\\\n",
    "  0 & 0 & -1\n",
    "  \\end{array}\\right) \n",
    "  \\left(\\begin{array}{c} x'\\\\ y'\\\\ z' \\end{array}\\right)\\,.\n",
    "$$"
   ]
  },
  {
   "cell_type": "markdown",
   "metadata": {},
   "source": [
    "## Exercici 21\n",
    "Diagonalitzeu ortogonalment la transformació lineal $T:V_3\\longrightarrow V_3$ amb representació\n",
    "$$\n",
    "  \\left(\\begin{array}{c} u'\\\\ v'\\\\ w' \\end{array}\\right)\n",
    "  = \\left(\\begin{array}{rrr}\n",
    "  0 & 2 & 2\\\\\n",
    "  2 & 0 & 2\\\\\n",
    "  2 & 2 & 0\n",
    "  \\end{array}\\right) \n",
    "  \\left(\\begin{array}{c} x'\\\\ y'\\\\ z' \\end{array}\\right)\\,.\n",
    "$$\n",
    "en la base $\\mathcal{B}'=\\left\\{\\frac{1}{3}(2,2,-1),\\frac{1}{3}(2,-1,2),\\frac{1}{3}(-1,2,2)\\right\\}$."
   ]
  },
  {
   "cell_type": "markdown",
   "metadata": {},
   "source": [
    "En primer lloc, trobem la representació de $T$ en la base canónica:"
   ]
  },
  {
   "cell_type": "code",
   "execution_count": null,
   "metadata": {},
   "outputs": [],
   "source": [
    "A1 = matrix([[0,2,2],[2,0,2],[2,2,0]])\n",
    "C = 1/3*matrix([[2,2,-1],[2,-1,2],[-1,2,2]]).T\n",
    "A = C*A1*C.inverse()\n",
    "show(A)"
   ]
  },
  {
   "cell_type": "markdown",
   "metadata": {},
   "source": [
    "La representació de $T$ en la base canònica és\n",
    "$$\n",
    "  \\left(\\begin{array}{c} u\\\\ v\\\\ w \\end{array}\\right)\n",
    "  = \\left(\\begin{array}{rrr}\n",
    "  0 & 2 & 2\\\\\n",
    "  2 & 0 & 2\\\\\n",
    "  2 & 2 & 0\n",
    "  \\end{array}\\right) \n",
    "  \\left(\\begin{array}{c} x\\\\ y\\\\ z \\end{array}\\right)\\,.\n",
    "$$\n",
    "És una coincidència que les matrius de les dues representacions coincideixin."
   ]
  },
  {
   "cell_type": "code",
   "execution_count": null,
   "metadata": {},
   "outputs": [],
   "source": [
    "p = A.charpoly()\n",
    "show(p)"
   ]
  },
  {
   "cell_type": "code",
   "execution_count": null,
   "metadata": {},
   "outputs": [],
   "source": [
    "show(p.roots())"
   ]
  },
  {
   "cell_type": "markdown",
   "metadata": {},
   "source": [
    "Els valors propis de $T$ són $\\lambda_1=4$ i $\\lambda_2=-2$ amb multiplicitat 2."
   ]
  },
  {
   "cell_type": "markdown",
   "metadata": {},
   "source": [
    "Vectors propis amb valor propi $\\lambda_1=4$:"
   ]
  },
  {
   "cell_type": "code",
   "execution_count": null,
   "metadata": {},
   "outputs": [],
   "source": [
    "x, y, z = var('x y z')\n",
    "X = vector([x,y,z])\n",
    "AX = A * X\n",
    "l = 4\n",
    "show(solve([AX[i] == l*X[i] for i in range(3)],[x,y,z]))"
   ]
  },
  {
   "cell_type": "markdown",
   "metadata": {},
   "source": [
    "$V_{4}$ és la recta vectorial generada pel vector $(1,1,1)$."
   ]
  },
  {
   "cell_type": "markdown",
   "metadata": {},
   "source": [
    "Vectors propis amb valor propi $\\lambda_1=-2$:"
   ]
  },
  {
   "cell_type": "code",
   "execution_count": null,
   "metadata": {},
   "outputs": [],
   "source": [
    "x, y, z = var('x y z')\n",
    "X = vector([x,y,z])\n",
    "AX = A * X\n",
    "l = -2\n",
    "show(solve([AX[i] == l*X[i] for i in range(3)],[x,y,z]))"
   ]
  },
  {
   "cell_type": "markdown",
   "metadata": {},
   "source": [
    "$V_{-2}$ és el pla vectorial generat pels vectors $(-1,0,1)$ i $(-1,1,0)$. Com que aquests dos vectors no són perpenciculars entre ells, hem d'aplicar el mètode de Gram-Schmidt."
   ]
  },
  {
   "cell_type": "code",
   "execution_count": null,
   "metadata": {},
   "outputs": [],
   "source": [
    "u1 = vector([-1,0,1])\n",
    "u2 = vector([-1,1,0])\n",
    "v1 = u1\n",
    "v2 = u2 - (u2*v1)/(v1*v1)*v1\n",
    "v2 = 2*v2\n",
    "show(v2)"
   ]
  },
  {
   "cell_type": "markdown",
   "metadata": {},
   "source": [
    "Així doncs, la base $\\mathcal{B}''=\\left\\{\\frac{1}{\\sqrt{3}}(1,1,1),\\frac{1}{\\sqrt{2}}(-1,0,1),\\frac{1}{\\sqrt{6}}(1,-2,1)\\right\\}$ és una base ortonormal de $V_3$ formada per vectors propis de $T$ i la representació de la transformació lineal en aquesta base és\n",
    "$$\n",
    "  \\left(\\begin{array}{c} u''\\\\ v''\\\\ w'' \\end{array}\\right)\n",
    "  = \\left(\\begin{array}{rrr}\n",
    "  4 &  0 &  0\\\\\n",
    "  0 & -2 &  0\\\\\n",
    "  0 &  0 & -2\n",
    "  \\end{array}\\right) \n",
    "  \\left(\\begin{array}{c} x''\\\\ y''\\\\ z'' \\end{array}\\right)\\,.\n",
    "$$"
   ]
  },
  {
   "cell_type": "markdown",
   "metadata": {},
   "source": [
    "## Exercici 22\n",
    "La representació en la base $\\mathcal{B}'=\\{(1,0,1),(1,1,0),(1,2,0)\\}$ de la transformació lineal $T:V_3\\longrightarrow V_3$ és\n",
    "$$\n",
    "  \\left(\\begin{array}{c} u'\\\\ v'\\\\ w' \\end{array}\\right)\n",
    "  = \\left(\\begin{array}{rrr}\n",
    "   2 & 0 &  0\\\\\n",
    "  -5 & 1 &  3\\\\\n",
    "   3 & 0 & -1\n",
    "  \\end{array}\\right) \n",
    "  \\left(\\begin{array}{c} x'\\\\ y'\\\\ z' \\end{array}\\right)\\,.\n",
    "$$\n",
    "Analitzeu si la transformació lineal $T$ és simètrica i, en cas afirmatiu, diagonalitzeu-la ortogonalment."
   ]
  },
  {
   "cell_type": "markdown",
   "metadata": {},
   "source": [
    "En primer lloc, trobem la representació de $T$ en la base canónica:"
   ]
  },
  {
   "cell_type": "code",
   "execution_count": null,
   "metadata": {},
   "outputs": [],
   "source": [
    "A1 = matrix([[2,0,0],[-5,1,3],[3,0,-1]])\n",
    "C = matrix([[1,0,1],[1,1,0],[1,2,0]]).T\n",
    "A = C*A1*C.inverse()\n",
    "show(A)"
   ]
  },
  {
   "cell_type": "markdown",
   "metadata": {},
   "source": [
    "Com que aquesta matriu és simètrica, la transformació lineal $T$ és simètrica i la seva representació en la base canònica és\n",
    "$$\n",
    "  \\left(\\begin{array}{c} u\\\\ v\\\\ w \\end{array}\\right)\n",
    "  = \\left(\\begin{array}{rrr}\n",
    "  0 & 1 & 0 \\\\\n",
    "  1 & 0 & 0 \\\\\n",
    "  0 & 0 & 2\n",
    "  \\end{array}\\right)\n",
    "  \\left(\\begin{array}{c} x\\\\ y\\\\ z \\end{array}\\right)\\,.\n",
    "$$"
   ]
  },
  {
   "cell_type": "code",
   "execution_count": null,
   "metadata": {},
   "outputs": [],
   "source": [
    "p = A.charpoly()\n",
    "show(p)"
   ]
  },
  {
   "cell_type": "code",
   "execution_count": null,
   "metadata": {},
   "outputs": [],
   "source": [
    "show(p.roots())"
   ]
  },
  {
   "cell_type": "markdown",
   "metadata": {},
   "source": [
    "Els valors propis de $T$ són $\\lambda_1=2$, $\\lambda_2=1$ i $\\lambda_3=-1$, tots simples."
   ]
  },
  {
   "cell_type": "markdown",
   "metadata": {},
   "source": [
    "Vectors propis amb valor propi $\\lambda_1=2$:"
   ]
  },
  {
   "cell_type": "code",
   "execution_count": null,
   "metadata": {},
   "outputs": [],
   "source": [
    "x, y, z = var('x y z')\n",
    "X = vector([x,y,z])\n",
    "AX = A * X\n",
    "l = 2\n",
    "show(solve([AX[i] == l*X[i] for i in range(3)],[x,y,z]))"
   ]
  },
  {
   "cell_type": "markdown",
   "metadata": {},
   "source": [
    "$V_2$ és la recta vectorial generada perl vector $(0,0,1)$."
   ]
  },
  {
   "cell_type": "markdown",
   "metadata": {},
   "source": [
    "Vectors propis amb valor propi $\\lambda_2=1$:"
   ]
  },
  {
   "cell_type": "code",
   "execution_count": null,
   "metadata": {},
   "outputs": [],
   "source": [
    "x, y, z = var('x y z')\n",
    "X = vector([x,y,z])\n",
    "AX = A * X\n",
    "l = 1\n",
    "show(solve([AX[i] == l*X[i] for i in range(3)],[x,y,z]))"
   ]
  },
  {
   "cell_type": "markdown",
   "metadata": {},
   "source": [
    "$V_1$ és la recta vectorial generada perl vector $(1,1,0)$."
   ]
  },
  {
   "cell_type": "markdown",
   "metadata": {},
   "source": [
    "Vectors propis amb valor propi $\\lambda_3=-1$:"
   ]
  },
  {
   "cell_type": "code",
   "execution_count": null,
   "metadata": {},
   "outputs": [],
   "source": [
    "x, y, z = var('x y z')\n",
    "X = vector([x,y,z])\n",
    "AX = A * X\n",
    "l = -1\n",
    "show(solve([AX[i] == l*X[i] for i in range(3)],[x,y,z]))"
   ]
  },
  {
   "cell_type": "markdown",
   "metadata": {},
   "source": [
    "$V_{-1}$ és la recta vectorial generada perl vector $(1,-1,0)$."
   ]
  },
  {
   "cell_type": "markdown",
   "metadata": {},
   "source": [
    "Com que aquests tres vectors ja són perpendiculars, $\\mathcal{B}''=\\left\\{(0,0,1),\\frac{1}{\\sqrt{2}}(1,1,0),\\frac{1}{\\sqrt{2}}(1,-1,0)\\right\\}$ és una base ortonormal de $V_3$ formada per vectors propis de $T$ i la representació de la transformació lineal en la base $\\mathcal{B}''$ és\n",
    "$$\n",
    "  \\left(\\begin{array}{c} u''\\\\ v''\\\\ w'' \\end{array}\\right)\n",
    "  = \\left(\\begin{array}{rrr}\n",
    "  2 & 0 &  0\\\\\n",
    "  0 & 1 &  0\\\\\n",
    "  0 & 0 & -1\n",
    "  \\end{array}\\right) \n",
    "  \\left(\\begin{array}{c} x''\\\\ y''\\\\ z'' \\end{array}\\right)\\,.\n",
    "$$"
   ]
  },
  {
   "cell_type": "markdown",
   "metadata": {},
   "source": [
    "## Exercici 23\n",
    "Una transformació lineal simètrica $T$ de $V_3$ compleix\n",
    "$$\n",
    "  \\left.\\begin{aligned}\n",
    "    T(0,-6,-6) &= (-9,3,12) \\\\\n",
    "    T(6,0,-9) &= (-5,11,16)  \n",
    "  \\end{aligned}\\,\\right\\}\n",
    "$$\n",
    "i, a més, el vector $(1,-1,1)$ és un vector propi de $T$. Determineu la representació de $T$ en la base canònica."
   ]
  },
  {
   "cell_type": "markdown",
   "metadata": {},
   "source": [
    "Com que el vector $(1,-1,1)$ és un vector propi de $T$, es compleix que $T(1,-1,1)=\\lambda(1,-1,1)$. Aleshores,\n",
    "$$\n",
    "  \\left.\\begin{aligned}\n",
    "    T(0,-6,-6) &= (-9,3,12) \\\\\n",
    "    T(6,0,-9) &= (-5,11,16) \\\\\n",
    "    T(1,-1,1) &= \\lambda(1,-1,1)\n",
    "  \\end{aligned}\\,\\right\\}\\,.\n",
    "$$"
   ]
  },
  {
   "cell_type": "markdown",
   "metadata": {},
   "source": [
    "Si $A$ és la matriu de $T$ en la base canònica, tindrem que\n",
    "$$\n",
    "  A\\left(\\begin{array}{rrr}\n",
    "   0 &  6 &  1 \\\\\n",
    "  -6 &  0 & -1 \\\\\n",
    "  -6 & -9 &  1\n",
    "  \\end{array}\\right)\n",
    "  =\\left(\\begin{array}{rrr}\n",
    "  -9 &  -5 &  \\lambda \\\\\n",
    "   3 &  11 & -\\lambda \\\\\n",
    "  12 &  16 &  \\lambda\n",
    "  \\end{array}\\right)\\,.\n",
    "$$\n",
    "Aleshores,\n",
    "$$\n",
    "  A = \\left(\\begin{array}{rrr}\n",
    "  -9 &  -5 &  \\lambda \\\\\n",
    "   3 &  11 & -\\lambda \\\\\n",
    "  12 &  16 &  \\lambda\n",
    "  \\end{array}\\right)\n",
    "  \\left(\\begin{array}{rrr}\n",
    "   0 &  6 &  1 \\\\\n",
    "  -6 &  0 & -1 \\\\\n",
    "  -6 & -9 &  1\n",
    "  \\end{array}\\right)^{-1}\\,.\n",
    "$$"
   ]
  },
  {
   "cell_type": "code",
   "execution_count": null,
   "metadata": {},
   "outputs": [],
   "source": [
    "l = var('l', latex_name='\\\\lambda')\n",
    "B = matrix([[-9,-5,l],[3,11,-l],[12,16,l]])\n",
    "show(B)"
   ]
  },
  {
   "cell_type": "code",
   "execution_count": null,
   "metadata": {},
   "outputs": [],
   "source": [
    "C = matrix([[0,6,1],[-6,0,-1],[-6,-9,1]])\n",
    "show(C)"
   ]
  },
  {
   "cell_type": "code",
   "execution_count": null,
   "metadata": {},
   "outputs": [],
   "source": [
    "A = B * C.inverse()\n",
    "show(A)"
   ]
  },
  {
   "cell_type": "markdown",
   "metadata": {},
   "source": [
    "L'última condició que hem d'aplicar és que la matriu $A$ ha ser simètrica:"
   ]
  },
  {
   "cell_type": "code",
   "execution_count": null,
   "metadata": {},
   "outputs": [],
   "source": [
    "show(solve([A[i,j] == A[j,i] for i in range(3) for j in range(3)],l))"
   ]
  },
  {
   "cell_type": "code",
   "execution_count": null,
   "metadata": {},
   "outputs": [],
   "source": [
    "show(A.subs(l=0))"
   ]
  },
  {
   "cell_type": "markdown",
   "metadata": {},
   "source": [
    "La representació de $T$ en la base canònica és\n",
    "$$\n",
    "  \\left(\\begin{array}{c} u\\\\ v\\\\ w \\end{array}\\right)\n",
    "  = \\frac{1}{6}\\left(\\begin{array}{rrr}\n",
    "  1 &  5 &  4 \\\\\n",
    "  5 &  1 & -4 \\\\\n",
    "  4 & -4 & -8\n",
    "  \\end{array}\\right)\n",
    "  \\left(\\begin{array}{c} x\\\\ y\\\\ z \\end{array}\\right)\\,.\n",
    "$$"
   ]
  },
  {
   "cell_type": "markdown",
   "metadata": {},
   "source": [
    "Trobem els valors i vectors propis d'aquesta transfrmació lineal:"
   ]
  },
  {
   "cell_type": "code",
   "execution_count": null,
   "metadata": {},
   "outputs": [],
   "source": [
    "A = A.subs(l=0)\n",
    "p = A.charpoly()\n",
    "show(p)"
   ]
  },
  {
   "cell_type": "code",
   "execution_count": null,
   "metadata": {},
   "outputs": [],
   "source": [
    "show(p.roots())"
   ]
  },
  {
   "cell_type": "markdown",
   "metadata": {},
   "source": [
    "Els valors propis de $T$ són $\\lambda_1=1$, $\\lambda_2=-2$ i $\\lambda_3=0$, tots simples."
   ]
  },
  {
   "cell_type": "markdown",
   "metadata": {},
   "source": [
    "Vectors propis amb valor propi $\\lambda_1=1$:"
   ]
  },
  {
   "cell_type": "code",
   "execution_count": null,
   "metadata": {},
   "outputs": [],
   "source": [
    "x, y, z = var('x y z')\n",
    "X = vector([x,y,z])\n",
    "AX = A * X\n",
    "l = 1\n",
    "show(solve([AX[i] == l*X[i] for i in range(3)],[x,y,z]))"
   ]
  },
  {
   "cell_type": "markdown",
   "metadata": {},
   "source": [
    "$V_{1}$ és la recta vectorial generada perl vector $(1,1,0)$."
   ]
  },
  {
   "cell_type": "markdown",
   "metadata": {},
   "source": [
    "Vectors propis amb valor propi $\\lambda_2=-2$:"
   ]
  },
  {
   "cell_type": "code",
   "execution_count": null,
   "metadata": {},
   "outputs": [],
   "source": [
    "x, y, z = var('x y z')\n",
    "X = vector([x,y,z])\n",
    "AX = A * X\n",
    "l = -2\n",
    "show(solve([AX[i] == l*X[i] for i in range(3)],[x,y,z]))"
   ]
  },
  {
   "cell_type": "markdown",
   "metadata": {},
   "source": [
    "$V_{-2}$ és la recta vectorial generada perl vector $(1,-1,-2)$."
   ]
  },
  {
   "cell_type": "markdown",
   "metadata": {},
   "source": [
    "Vectors propis amb valor propi $\\lambda_3=0$:"
   ]
  },
  {
   "cell_type": "code",
   "execution_count": null,
   "metadata": {},
   "outputs": [],
   "source": [
    "x, y, z = var('x y z')\n",
    "X = vector([x,y,z])\n",
    "AX = A * X\n",
    "l = 0\n",
    "show(solve([AX[i] == l*X[i] for i in range(3)],[x,y,z]))"
   ]
  },
  {
   "cell_type": "markdown",
   "metadata": {},
   "source": [
    "$V_{0}$ és la recta vectorial generada perl vector $(1,-1,1)$."
   ]
  },
  {
   "cell_type": "markdown",
   "metadata": {},
   "source": [
    "La representació de $T$ en la base\n",
    "$$\n",
    "  \\mathcal{B}'=\\left\\{\\frac{1}{\\sqrt{2}}(1,1,0),\\frac{1}{\\sqrt{6}}(1,-1,-2),\\frac{1}{\\sqrt{3}}(1,-1,1)  \\right\\}\n",
    "$$\n",
    "és\n",
    "$$\n",
    "  \\left(\\begin{array}{c} u'\\\\ v'\\\\ w' \\end{array}\\right)\n",
    "  = \\left(\\begin{array}{rrr}\n",
    "  1 & 0 &  0\\\\\n",
    "  0 & -2 &  0\\\\\n",
    "  0 & 0 & 0\n",
    "  \\end{array}\\right) \n",
    "  \\left(\\begin{array}{c} x' \\\\ y'\\\\ z' \\end{array}\\right)\\,.\n",
    "$$"
   ]
  },
  {
   "cell_type": "code",
   "execution_count": null,
   "metadata": {},
   "outputs": [],
   "source": []
  }
 ],
 "metadata": {
  "kernelspec": {
   "display_name": "SageMath 9.6",
   "language": "sage",
   "name": "sagemath"
  },
  "language_info": {
   "codemirror_mode": {
    "name": "ipython",
    "version": 3
   },
   "file_extension": ".py",
   "mimetype": "text/x-python",
   "name": "python",
   "nbconvert_exporter": "python",
   "pygments_lexer": "ipython3",
   "version": "3.11.1"
  }
 },
 "nbformat": 4,
 "nbformat_minor": 4
}
