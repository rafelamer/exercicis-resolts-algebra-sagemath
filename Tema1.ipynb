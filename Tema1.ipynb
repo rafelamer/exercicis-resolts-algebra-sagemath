{
 "cells": [
  {
   "cell_type": "markdown",
   "metadata": {},
   "source": [
    "# Tema 1"
   ]
  },
  {
   "cell_type": "code",
   "execution_count": null,
   "metadata": {},
   "outputs": [],
   "source": [
    "from sage.matrix.matrix_symbolic_dense import Matrix_symbolic_dense\n",
    "\n",
    "def TE(j,i,t,s,A,simplificar=True):\n",
    "    \"\"\"\n",
    "    Substitueix la fila j de la matriu A per t * F_j + s * F_i\n",
    "    \"\"\"\n",
    "    n = A.nrows()\n",
    "    if simplificar:\n",
    "        g = gcd(t,s)\n",
    "        t /= g\n",
    "        s /= g\n",
    "    E1 = elementary_matrix(n,row1=j,scale=t)\n",
    "    E2 = elementary_matrix(n,row1=j,row2=i,scale=s)\n",
    "    return E2 * E1 * A\n",
    "\n",
    "def P(i,j,A):\n",
    "    \"\"\"\n",
    "    Permuta les files i i j de la matriu A\n",
    "    \"\"\"\n",
    "    n = A.nrows()\n",
    "    E = elementary_matrix(n,row1=i,row2=j)\n",
    "    return E * A\n",
    "\n",
    "def S(i,t,A):\n",
    "    \"\"\"\n",
    "    Divideix la fila i de la matriu A per t\n",
    "    \"\"\"\n",
    "    n = A.nrows()\n",
    "    E = elementary_matrix(n,row1=i,scale=1/t)\n",
    "    return E * A\n",
    "\n",
    "def concatena_matrius(A,B):\n",
    "    \"\"\"\n",
    "    Concatena les matrius A i B. Han de tenir el mateix nombre de files\n",
    "    \"\"\"\n",
    "    if A.nrows() != B.nrows():\n",
    "        return None\n",
    "    if isinstance(A,Matrix_symbolic_dense) or isinstance(B,Matrix_symbolic_dense):\n",
    "        C = matrix(SR,A.nrows(),A.ncols() + B.ncols())\n",
    "    else:\n",
    "        C = matrix(A.nrows(),A.ncols() + B.ncols())\n",
    "    C[:,range(A.ncols())] = A\n",
    "    C[:,range(A.ncols(),A.ncols() + B.ncols())] = B\n",
    "    return C\n",
    "\n",
    "def concatena_matriu_vector(A,u):\n",
    "    \"\"\"\n",
    "    Concatena la matriu A el vector columna u. El nombre de components de u ha \n",
    "    de coincidir amb el nombre de files de A\n",
    "    \"\"\"\n",
    "    if A.nrows() != len(u):\n",
    "        return None\n",
    "    return A.T.insert_row(A.ncols(),u).T"
   ]
  },
  {
   "cell_type": "markdown",
   "metadata": {},
   "source": [
    "## Exercici 1\n",
    "Si $A$ i $B$ són les matrius\n",
    "$$\n",
    "  A=\\left(\\begin{array}{rrr}\n",
    "  -2 & -1 & 1\\\\\n",
    "   3 & -2 & 2\\\\\n",
    "   5 &  1 & 1\\\\\n",
    "  -1 &  2 & 4\n",
    "  \\end{array}\\right)\\qquad\\text{i}\\qquad\n",
    "  B=\\left(\\begin{array}{rrr}\n",
    "  -3 &  0 &  1\\\\\n",
    "   1 & -2 & -3\\\\\n",
    "  -2 & -2 &  1\\\\\n",
    "   0 &  1 & -1\n",
    "  \\end{array}\\right)\\,,\n",
    "$$\n",
    "calculeu $A+B$."
   ]
  },
  {
   "cell_type": "code",
   "execution_count": null,
   "metadata": {},
   "outputs": [],
   "source": [
    "A = matrix([[-2,-1,1],[3,-2,2],[5,1,1],[-1,2,4]])\n",
    "B = matrix([[-3,0,1],[1,-2,-3],[-2,-2,1],[0,1,-1]])\n",
    "show(A+B)"
   ]
  },
  {
   "cell_type": "markdown",
   "metadata": {},
   "source": [
    "## Exercici 2\n",
    "Si $A$ és la matriu\n",
    "$$\n",
    "  A=\\left(\\begin{array}{rrr}\n",
    "   1 & -2 &  1\\\\\n",
    "   3 & -2 & -1\\\\\n",
    "   4 & -1 &  2\\\\\n",
    "  -2 &  1 &  3\n",
    "  \\end{array}\\right)\\,,\n",
    "$$\n",
    "calculeu $-3A$."
   ]
  },
  {
   "cell_type": "code",
   "execution_count": null,
   "metadata": {},
   "outputs": [],
   "source": [
    "A = matrix([[1,-2,1],[3,-2,-1],[4,-1,2],[-2,1,3]])\n",
    "show(-3*A)"
   ]
  },
  {
   "cell_type": "markdown",
   "metadata": {
    "tags": []
   },
   "source": [
    "## Exercici 3\n",
    "Donades les matrius\n",
    "$$\n",
    "  A=\\left(\\begin{array}{rrrr}\n",
    "   2 &  3 &  2 &  3 \\\\\n",
    "   2 & -1 &  2 & -2 \\\\\n",
    "   1 &  4 & -1 &  4\n",
    "  \\end{array}\\right)\\qquad\\text{i}\\qquad\n",
    "  B=\\left(\\begin{array}{rrr}\n",
    "  -2 &  2 &  1 \\\\\n",
    "   1 & -1 & -2 \\\\\n",
    "   3 &  3 &  4 \\\\\n",
    "   3 & -1 &  2\n",
    "  \\end{array}\\right)\\,,\n",
    "$$\n",
    "calculeu la segona columna i la tercera fila de la matriu $AB$."
   ]
  },
  {
   "cell_type": "code",
   "execution_count": null,
   "metadata": {},
   "outputs": [],
   "source": [
    "A = matrix([[2,3,2,3],[2,-1,2,-2],[1,4,-1,4]])\n",
    "show(A)"
   ]
  },
  {
   "cell_type": "code",
   "execution_count": null,
   "metadata": {},
   "outputs": [],
   "source": [
    "B = matrix([[-2,2,1],[1,-1,-2],[3,3,4],[3,-1,2]])\n",
    "show(B)"
   ]
  },
  {
   "cell_type": "markdown",
   "metadata": {},
   "source": [
    "Per calcular la segona columna de $AB$ s'ha de multiplicar $A$ per la segona columna de $B$:"
   ]
  },
  {
   "cell_type": "code",
   "execution_count": null,
   "metadata": {},
   "outputs": [],
   "source": [
    "show(A * B[:,1])"
   ]
  },
  {
   "cell_type": "markdown",
   "metadata": {},
   "source": [
    "Per calcular la tercera fila de $AB$ s'ha de multiplicar la tercera fila de $A$ per $B$:"
   ]
  },
  {
   "cell_type": "code",
   "execution_count": null,
   "metadata": {},
   "outputs": [],
   "source": [
    "show(A[2,:] * B)"
   ]
  },
  {
   "cell_type": "markdown",
   "metadata": {},
   "source": [
    "## Exercici 4\n",
    "Si $A$ i $B$ són les matrius\n",
    "$$\n",
    " A=\\left(\\begin{array}{rrr}\n",
    "  -2 & -1 & 1\\\\\n",
    "   4 &  0 & 2\\\\\n",
    "  -1 &  1 & 2\n",
    "  \\end{array}\\right)\\qquad\\text{i}\\qquad\n",
    "  B=\\left(\\begin{array}{rrr}\n",
    "  -1 &  0 &  1\\\\\n",
    "   2 & -1 & -1\\\\\n",
    "  -1 &  2 &  1\n",
    "  \\end{array}\\right)\\,,\n",
    "$$\n",
    "calculeu $AB$."
   ]
  },
  {
   "cell_type": "code",
   "execution_count": null,
   "metadata": {},
   "outputs": [],
   "source": [
    "A = matrix([[-2,-1,1],[4,0,2],[-1,1,2]])\n",
    "B = matrix([[-1,0,1],[2,-1,-1],[-1,2,1]])\n",
    "show(A * B)"
   ]
  },
  {
   "cell_type": "markdown",
   "metadata": {},
   "source": [
    "## Exercici 5\n",
    "Si $A$ és la matriu\n",
    "$$\n",
    " A=\\left(\\begin{array}{rrr}\n",
    "   1 & -2 & -1\\\\\n",
    "   0 &  1 & -2\\\\\n",
    "   3 & -1 &  0\n",
    "  \\end{array}\\right)\\,,\n",
    "$$\n",
    "calculeu $A^4$."
   ]
  },
  {
   "cell_type": "code",
   "execution_count": null,
   "metadata": {},
   "outputs": [],
   "source": [
    "A = matrix([[1,-2,-1],[0,1,2],[3,-1,0]])\n",
    "show(A^4)"
   ]
  },
  {
   "cell_type": "markdown",
   "metadata": {},
   "source": [
    "## Exercici 6\n",
    "Donada la matriu\n",
    "$$\n",
    "  A=\\left(\\begin{array}{rrr}\n",
    "   0 & -2 &  3\\\\\n",
    "   3 & -1 & -1\\\\\n",
    "  -1 & -1 &  2\\\\\n",
    "   3 &  0 & -1\n",
    "  \\end{array}\\right)\\,,\n",
    "$$\n",
    "calculeu $A^t$."
   ]
  },
  {
   "cell_type": "code",
   "execution_count": null,
   "metadata": {},
   "outputs": [],
   "source": [
    "A = matrix([[0,-2,3],[3,-1,-1],[-1,-1,2],[3,0,-1]])\n",
    "show(A.T)"
   ]
  },
  {
   "cell_type": "markdown",
   "metadata": {},
   "source": [
    "## Exercici 7\n",
    "Si $A$ i $B$ són les matrius\n",
    "$$\n",
    "  A=\\left(\\begin{array}{rrr}\n",
    "   3 & -1 & 0\\\\\n",
    "   4 & -1 & 2\\\\\n",
    "   3 &  1 & 1\n",
    "  \\end{array}\\right)\\qquad\\text{i}\\qquad\n",
    "  B=\\left(\\begin{array}{rrr}\n",
    "  -1 &  3 &  1\\\\\n",
    "   1 & -1 &  3\\\\\n",
    "  -1 &  0 &  1\n",
    "  \\end{array}\\right)\\,,\n",
    "$$\n",
    "calculeu $AB$ i $BA$."
   ]
  },
  {
   "cell_type": "code",
   "execution_count": null,
   "metadata": {},
   "outputs": [],
   "source": [
    "A = matrix([[3,-1,0],[4,-1,2],[3,1,1]])\n",
    "B = matrix([[-1,3,1],[1,-1,3],[-1,0,1]])"
   ]
  },
  {
   "cell_type": "code",
   "execution_count": null,
   "metadata": {},
   "outputs": [],
   "source": [
    "show(A*B)"
   ]
  },
  {
   "cell_type": "code",
   "execution_count": null,
   "metadata": {},
   "outputs": [],
   "source": [
    "show(B*A)"
   ]
  },
  {
   "cell_type": "markdown",
   "metadata": {},
   "source": [
    "## Exercici 8\n",
    "Donada la matriu\n",
    "$$\n",
    "  A=\\left(\\begin{array}{rr}\n",
    "   1 & 1\\\\\n",
    "   1 & 1\n",
    "  \\end{array}\\right)\\,,\n",
    "$$\n",
    "trobeu una matriu quadrada d'ordre 2 no nul·la B tal que $AB=0$."
   ]
  },
  {
   "cell_type": "code",
   "execution_count": null,
   "metadata": {},
   "outputs": [],
   "source": [
    "x, y, z, t = var('x y z t')\n",
    "A = matrix([[1,1],[1,1]])\n",
    "B = matrix([[x,y],[z,t]])\n",
    "AB = A * B\n",
    "show(AB)"
   ]
  },
  {
   "cell_type": "code",
   "execution_count": null,
   "metadata": {},
   "outputs": [],
   "source": [
    "# eqs = [x+z==0,t+y==0]\n",
    "eqs = [AB[i,j] == 0 for i in [0,1] for j in [0,1]]\n",
    "solve(eqs,[x,y])"
   ]
  },
  {
   "cell_type": "markdown",
   "metadata": {},
   "source": [
    "Totes les matrius de la forma\n",
    "$$\n",
    "  B=\\left(\\begin{array}{rr}\n",
    "   -z & -t\\\\\n",
    "   z & t\\\\\n",
    "  \\end{array}\\right)\n",
    "$$\n",
    "compleixen que $AB=0$. En particular, la matriu\n",
    "$$\n",
    "  B=\\left(\\begin{array}{rr}\n",
    "   -1 & -1\\\\\n",
    "   1 & 1\\\\\n",
    "  \\end{array}\\right)\n",
    "$$\n",
    "és una d'elles."
   ]
  },
  {
   "cell_type": "markdown",
   "metadata": {},
   "source": [
    "## Exercici 9\n",
    "Donada la matriu\n",
    "$$\n",
    "  A=\\left(\\begin{array}{rr}\n",
    "   1 & 1\\\\\n",
    "   1 & 1\n",
    "  \\end{array}\\right)\\,,\n",
    "$$\n",
    "trobeu dues matrius quadrades diferents d’ordre 2 no nul·les $B$ i $C$ tals que $AB=AC$."
   ]
  },
  {
   "cell_type": "code",
   "execution_count": null,
   "metadata": {},
   "outputs": [],
   "source": [
    "x1, x2, x3, x4 = var('x1 x2 x3 x4')\n",
    "y1, y2, y3, y4 = var('y1 y2 y3 y4')\n",
    "A = matrix([[1,1],[1,1]])\n",
    "B = matrix([[x1,x2],[x3,x4]])\n",
    "C = matrix([[y1,y2],[y3,y4]])\n",
    "AB = A * B\n",
    "AC = A * C\n",
    "show(AB)"
   ]
  },
  {
   "cell_type": "code",
   "execution_count": null,
   "metadata": {},
   "outputs": [],
   "source": [
    "show(AC)"
   ]
  },
  {
   "cell_type": "code",
   "execution_count": null,
   "metadata": {},
   "outputs": [],
   "source": [
    "# eqs = [x1+x3==y1+y3,x2+x4==y2+y4]\n",
    "eqs = [AB[i,j] == AC[i,j] for i in [0,1] for j in [0,1]]\n",
    "show(eqs)"
   ]
  },
  {
   "cell_type": "code",
   "execution_count": null,
   "metadata": {},
   "outputs": [],
   "source": [
    "solve(eqs,[y3,y4])"
   ]
  },
  {
   "cell_type": "markdown",
   "metadata": {},
   "source": [
    "Totes les matrius de la forma\n",
    "$$\n",
    "  B=\\left(\\begin{array}{cc}\n",
    "   x_1 & x_2\\\\\n",
    "   x_3 & x_4\n",
    "  \\end{array}\\right)\\qquad\\text{i}\\qquad\n",
    "  C=\\left(\\begin{array}{cc}\n",
    "   y_1 & y_2\\\\\n",
    "   x_1 + x_3 - y_1 & x_2 + x_4 - y_2\n",
    "  \\end{array}\\right)\n",
    "$$\n",
    "compleixen que $AB=AC$. En particular, si posem $x_1=1$, $x_2=0$, $x_3=1$, $x_4=0$, $y_1=1$ i $y_2=1$, obtenim les matrius\n",
    "$$\n",
    "  B=\\left(\\begin{array}{cc}\n",
    "   1 & 0\\\\\n",
    "   1 & 0\n",
    "  \\end{array}\\right)\\qquad\\text{i}\\qquad\n",
    "  C=\\left(\\begin{array}{cc}\n",
    "   1 &  1\\\\\n",
    "   1 & -1\n",
    "  \\end{array}\\right)\\,,\n",
    "$$\n",
    "que són diferents i, evidentment, $AB=AC$."
   ]
  },
  {
   "cell_type": "markdown",
   "metadata": {},
   "source": [
    "## Exercici 10\n",
    "Donada la matriu\n",
    "$$\n",
    "  A=\\left(\\begin{array}{rr}\n",
    "   1 & 1\\\\\n",
    "   1 & 1\n",
    "  \\end{array}\\right)\\,,\n",
    "$$\n",
    "comproveu que no hi ha cap matriu quadrada d’ordre 2 no nul·la $X$ tal que $AX=I$."
   ]
  },
  {
   "cell_type": "code",
   "execution_count": null,
   "metadata": {},
   "outputs": [],
   "source": [
    "x, y, z, t = var('x y z t')\n",
    "A = matrix([[1,1],[1,1]])\n",
    "X = matrix([[x,y],[z,t]])\n",
    "C = matrix.identity(2)\n",
    "AX = A * X\n",
    "show(AX)"
   ]
  },
  {
   "cell_type": "code",
   "execution_count": null,
   "metadata": {},
   "outputs": [],
   "source": [
    "eqs = [x+z==1,y+t==0,x+z==0,t+y==1]\n",
    "# eqs = [AB[i,j] == C[i,j] for i in [0,1] for j in [0,1]]\n",
    "solve(eqs,[x,y,z,t])"
   ]
  },
  {
   "cell_type": "markdown",
   "metadata": {},
   "source": [
    "Com que el sistema d'equacions és incompatible, no existeix cap matriu $X$ tal que $AX=I$,"
   ]
  },
  {
   "cell_type": "markdown",
   "metadata": {},
   "source": [
    "## Exercici 11\n",
    "Donada la matriu\n",
    "$$\n",
    "  A=\\left(\\begin{array}{rrr} \n",
    "   4 &  1 & -2 \\\\ \n",
    "  -3 & -1 &  2 \\\\\n",
    "   1 &  1 & -1\n",
    "   \\end{array}\\right)\\,,\n",
    "$$\n",
    "trobeu dues matrius\n",
    "$$\n",
    "  L=\\left(\\begin{array}{ccc} \n",
    "  1 & 0 & 0 \\\\\n",
    "  a & 1 & 0 \\\\\n",
    "  b & c & 1\n",
    "  \\end{array}\\right)\\qquad\\text{i}\\qquad\n",
    "  U=\\left(\\begin{array}{ccc} \n",
    "  4 & 1 & -2 \\\\ \n",
    "  0 & d &  e \\\\\n",
    "  0 & 0 &  f\n",
    "  \\end{array}\\right)\n",
    "$$\n",
    "tals que $A=LU$."
   ]
  },
  {
   "cell_type": "code",
   "execution_count": null,
   "metadata": {},
   "outputs": [],
   "source": [
    "a, b, c, d, e, f = var('a b c d e f')\n",
    "A = matrix([[4,1,-2],[-3,-1,2],[1,1,-1]])\n",
    "L = matrix([[1,0,0],[a,1,0],[b,c,1]])\n",
    "U = matrix([[4,1,-2],[0,d,e],[0,0,f]])"
   ]
  },
  {
   "cell_type": "code",
   "execution_count": null,
   "metadata": {},
   "outputs": [],
   "source": [
    "LU = L * U\n",
    "show(LU)"
   ]
  },
  {
   "cell_type": "code",
   "execution_count": null,
   "metadata": {},
   "outputs": [],
   "source": [
    "# eqs = [4*a==-3,a+d==-1,-2*a+e==2,4*b==1,c*d+b==1,c*e-2*b+f==-1]\n",
    "eqs = [A[i,j] == LU[i,j] for i in [0,1,2] for j in [0,1,2]]\n",
    "## eqs = [A[i,j] == LU[i,j] for i in range(3) for j in range(3)]\n",
    "s = solve(eqs,[a,b,c,d,e,f])\n",
    "show(s)"
   ]
  },
  {
   "cell_type": "code",
   "execution_count": null,
   "metadata": {},
   "outputs": [],
   "source": [
    "show(L.subs(s[0]))"
   ]
  },
  {
   "cell_type": "code",
   "execution_count": null,
   "metadata": {},
   "outputs": [],
   "source": [
    "show(U.subs(s[0]))"
   ]
  },
  {
   "cell_type": "markdown",
   "metadata": {},
   "source": [
    "Per tant, les matrius són\n",
    "$$\n",
    "  L=\\frac{1}{4}\\left(\\begin{array}{rrr} \n",
    "   4 &   0 &  0 \\\\\n",
    "  -3 &   4 &  0 \\\\\n",
    "   1 & -12 & 4\n",
    "  \\end{array}\\right)\\qquad\\text{i}\\qquad\n",
    "  U=\\frac{1}{4}\\left(\\begin{array}{rrr} \n",
    "  16 &  4 & -8 \\\\ \n",
    "   0 & -1 &  2 \\\\\n",
    "   0 &  0 &  4\n",
    "  \\end{array}\\right)\\,.\n",
    "$$"
   ]
  },
  {
   "cell_type": "markdown",
   "metadata": {},
   "source": [
    "## Exercici 12\n",
    "Es consideren les matrius\n",
    "$$\n",
    "  A=\\left(\\begin{array}{rrr}\n",
    "   3 &  1 & -1\\\\\n",
    "   1 &  0 & -2\\\\\n",
    "   4 & -1 &  0\\\\\n",
    "   3 &  1 & -1\n",
    "  \\end{array}\\right)\\qquad\\text{i}\\qquad\n",
    "  B=\\left(\\begin{array}{rrr}\n",
    "   2 &  1 & -2\\\\\n",
    "   1 & -2 &  5\\\\\n",
    "   0 &  3 & -2\\\\\n",
    "   4 &  1 &  1\n",
    "  \\end{array}\\right)\\,.\n",
    "$$\n",
    "Resoleu l'equació matricial $A+X=B$."
   ]
  },
  {
   "cell_type": "code",
   "execution_count": null,
   "metadata": {},
   "outputs": [],
   "source": [
    "A = matrix([[3,1,-1],[1,0,-2],[4,-1,0],[3,1,-1]])\n",
    "B = matrix([[2,1,-2],[1,-2,5],[0,3,-2],[4,1,1]])\n",
    "X = B - A\n",
    "show(X)"
   ]
  },
  {
   "cell_type": "markdown",
   "metadata": {},
   "source": [
    "## Exercici 13\n",
    "Es considera la matriu\n",
    "$$\n",
    "  A=\\left(\\begin{array}{rrrr}\n",
    "  -1 &  0 & -1 & -2\\\\\n",
    "   0 & -2 &  7 &  3\\\\\n",
    "   3 &  1 &  0 &  4\n",
    "  \\end{array}\\right)\\,.\n",
    "$$\n",
    "Resoleu l'equació matricial $-2X=A$."
   ]
  },
  {
   "cell_type": "code",
   "execution_count": null,
   "metadata": {},
   "outputs": [],
   "source": [
    "A = matrix([[-1,0,-1,2],[0,-2,7,3],[3,1,0,4]])\n",
    "X = -1/2 * A\n",
    "show(X)"
   ]
  },
  {
   "cell_type": "markdown",
   "metadata": {},
   "source": [
    "## Exercici 14\n",
    "Es considera la matriu\n",
    "$$\n",
    "  A=\\left(\\begin{array}{rrrr}\n",
    "   3 &  4 & -2 &  3\\\\\n",
    "   6 & -2 &  3 &  1\\\\\n",
    "   1 &  0 &  2 &  1\n",
    "  \\end{array}\\right)\\,.\n",
    "$$\n",
    "Resoleu l'equació matricial $X^t=A$."
   ]
  },
  {
   "cell_type": "code",
   "execution_count": null,
   "metadata": {},
   "outputs": [],
   "source": [
    "A = matrix([[3,4,-2,3],[6,-2,3,1],[1,0,2,1]])\n",
    "X = A.T\n",
    "show(X)"
   ]
  },
  {
   "cell_type": "markdown",
   "metadata": {},
   "source": [
    "## Exercici 15\n",
    "Esbrineu si les matrius\n",
    "$$\n",
    "  A=\\left(\\begin{array}{rrr}\n",
    "   0 &  3 & -1\\\\\n",
    "  -2 & -1 & -1\\\\\n",
    "   3 & -1 &  2\n",
    "  \\end{array}\\right)\\qquad\\text{i}\\qquad\n",
    "  B=\\left(\\begin{array}{rrr}\n",
    "   2 & -3 & -1\\\\\n",
    "  -3 &  0 &  4\\\\\n",
    "  -1 &  4 & -5\n",
    "  \\end{array}\\right)\n",
    "$$\n",
    "són simètriques."
   ]
  },
  {
   "cell_type": "code",
   "execution_count": null,
   "metadata": {},
   "outputs": [],
   "source": [
    "A = matrix([[0,3,-1],[-2,-1,-1],[3,-1,2]])\n",
    "B = matrix([[2,-3,-1],[-3,0,4],[-1,4,-5]])"
   ]
  },
  {
   "cell_type": "code",
   "execution_count": null,
   "metadata": {},
   "outputs": [],
   "source": [
    "show(A.T == A)"
   ]
  },
  {
   "cell_type": "code",
   "execution_count": null,
   "metadata": {},
   "outputs": [],
   "source": [
    "show(B == B.T)"
   ]
  },
  {
   "cell_type": "markdown",
   "metadata": {},
   "source": [
    "Només és simètrica la $B$."
   ]
  },
  {
   "cell_type": "markdown",
   "metadata": {},
   "source": [
    "## Exercici 16\n",
    "Determineu si les matrius quadrades següents d’ordre 2 són ortogonals:\n",
    "$$\n",
    "  A=\\frac{1}{5}\\left(\\begin{array}{rr}\n",
    "   3 & 4 \\\\\n",
    "  -4 & 3 \\\\\n",
    "  \\end{array}\\right)\\,;\\qquad\n",
    "  B=\\left(\\begin{array}{rr}\n",
    "   5 & 12 \\\\\n",
    "  12 & -5 \\\\\n",
    "  \\end{array}\\right)\\qquad\\text{i}\\qquad\n",
    "  C=\\left(\\begin{array}{rrr}\n",
    "  1 & 3 \\\\\n",
    "  2 & 4 \\\\\n",
    "  \\end{array}\\right)\\,.\n",
    "$$"
   ]
  },
  {
   "cell_type": "code",
   "execution_count": null,
   "metadata": {},
   "outputs": [],
   "source": [
    "A = 1/5 * matrix([[3,4],[-4,3]])\n",
    "show(A.T * A  == matrix.identity(2))"
   ]
  },
  {
   "cell_type": "code",
   "execution_count": null,
   "metadata": {},
   "outputs": [],
   "source": [
    "B = matrix([[5,12],[12,-5]])\n",
    "show(B.T * B == matrix.identity(2))"
   ]
  },
  {
   "cell_type": "code",
   "execution_count": null,
   "metadata": {},
   "outputs": [],
   "source": [
    "C = matrix([[1,3],[2,4]])\n",
    "show(C.T * C == matrix.identity(2))"
   ]
  },
  {
   "cell_type": "markdown",
   "metadata": {},
   "source": [
    "Només és ortogonal la matriu $A$."
   ]
  },
  {
   "cell_type": "markdown",
   "metadata": {},
   "source": [
    "## Exercici 17\n",
    "Analitzeu si les matrius quadrades següents són ortogonals:\n",
    "$$\n",
    "  A=\\left(\\begin{array}{rrr}\n",
    "  -1 &  2 &  2 \\\\\n",
    "   2 & -1 &  2 \\\\\n",
    "   2 &  2 & -1\n",
    "  \\end{array}\\right)\\,;\\qquad\n",
    "  B=\\left(\\begin{array}{rrr}\n",
    "   1 & -1 &  1 \\\\\n",
    "  -1 &  1 &  1 \\\\\n",
    "   1 &  1 & -1\n",
    "  \\end{array}\\right)\\qquad\\text{i}\\qquad\n",
    "  C=\\left(\\begin{array}{rrr}\n",
    "  0 & 0 & 1 \\\\\n",
    "  0 & 1 & 0 \\\\\n",
    "  1 & 0 & 0\n",
    "  \\end{array}\\right)\\,.\n",
    "$$"
   ]
  },
  {
   "cell_type": "code",
   "execution_count": null,
   "metadata": {},
   "outputs": [],
   "source": [
    "A = matrix([[-1,2,2],[2,-1,2],[2,2,-1]])\n",
    "show(A.T * A == matrix.identity(3))"
   ]
  },
  {
   "cell_type": "code",
   "execution_count": null,
   "metadata": {},
   "outputs": [],
   "source": [
    "B = matrix([[1,-1,1],[-1,1,1],[1,1,-1]])\n",
    "show(B.T * B == matrix.identity(3))"
   ]
  },
  {
   "cell_type": "code",
   "execution_count": null,
   "metadata": {},
   "outputs": [],
   "source": [
    "C = matrix([[0,0,1],[0,1,0],[1,0,0]])\n",
    "show(C.T * C == matrix.identity(3))"
   ]
  },
  {
   "cell_type": "markdown",
   "metadata": {},
   "source": [
    "Només és ortogonal la matriu $C$"
   ]
  },
  {
   "cell_type": "markdown",
   "metadata": {},
   "source": [
    "## Exercici 18\n",
    "Determineu si les matrius quadrades següents d’ordre 4 són ortogonals:\n",
    "$$\n",
    "  A=\\left(\\begin{array}{rrrr}\n",
    "   4 &  2 &  2 &  1 \\\\\n",
    "   2 & -4 & -1 &  2 \\\\\n",
    "   2 &  1 & -4 & -2 \\\\\n",
    "   1 & -2 &  2 & -4\n",
    "  \\end{array}\\right)\\,;\\qquad\n",
    "  B=\\frac{1}{25}\\left(\\begin{array}{rrrr}\n",
    "   4 &  2 &  2 &  1 \\\\\n",
    "   2 & -4 & -1 &  2 \\\\\n",
    "   2 &  1 & -4 & -2 \\\\\n",
    "   1 & -2 &  2 & -4\n",
    "  \\end{array}\\right)\\qquad\\text{i}\\qquad\n",
    "  C=\\frac{1}{5}\\left(\\begin{array}{rrrr}\n",
    "   4 &  2 &  2 &  1 \\\\\n",
    "   2 & -4 & -1 &  2 \\\\\n",
    "   2 &  1 & -4 & -2 \\\\\n",
    "   1 & -2 &  2 & -4\n",
    "  \\end{array}\\right)\\,.\n",
    "$$"
   ]
  },
  {
   "cell_type": "code",
   "execution_count": null,
   "metadata": {},
   "outputs": [],
   "source": [
    "A = matrix([[4,2,2,1],[2,-4,-1,2],[2,1,-4,-2],[1,-2,2,-4]])\n",
    "show(A.T * A == matrix.identity(4))"
   ]
  },
  {
   "cell_type": "code",
   "execution_count": null,
   "metadata": {},
   "outputs": [],
   "source": [
    "B = 1/25 * A\n",
    "show(B.T * B == matrix.identity(4))"
   ]
  },
  {
   "cell_type": "code",
   "execution_count": null,
   "metadata": {},
   "outputs": [],
   "source": [
    "C = 1/5 * A\n",
    "show(C.T * C == matrix.identity(4))"
   ]
  },
  {
   "cell_type": "markdown",
   "metadata": {},
   "source": [
    "Només la matriu $C$ és ortogonal."
   ]
  },
  {
   "cell_type": "markdown",
   "metadata": {},
   "source": [
    "## Exercici 19\n",
    "Donada la matriu\n",
    "$$  \n",
    "  A=\\frac{1}{3}\\left(\\begin{array}{ccc} \n",
    "   a & b & c\\\\ \n",
    "   1 & 2 & -2\\\\ \n",
    "   2 & 1 & 2\n",
    "   \\end{array}\\right)\\,,\n",
    "$$\n",
    "trobeu els valors de $a$, $b$ i $c$ sabent que $A$ és una matriu ortogonal."
   ]
  },
  {
   "cell_type": "markdown",
   "metadata": {},
   "source": [
    "Recordem que una matriu quadrada $A$ és ortogonal si $A^tA=I$. Calculem en primer lloc $A^tA$:"
   ]
  },
  {
   "cell_type": "code",
   "execution_count": null,
   "metadata": {},
   "outputs": [],
   "source": [
    "a, b, c = var('a b c')\n",
    "A = 1/3 * matrix([[a,b,c],[1,2,-2],[2,1,2]])\n",
    "show(A)"
   ]
  },
  {
   "cell_type": "code",
   "execution_count": null,
   "metadata": {},
   "outputs": [],
   "source": [
    "B = A.T * A\n",
    "show(B)"
   ]
  },
  {
   "cell_type": "markdown",
   "metadata": {},
   "source": [
    "Ara hem d'igualar aquesta matriu a la identitat i determinar els coeficients $a$, $b$ in $c$:"
   ]
  },
  {
   "cell_type": "code",
   "execution_count": null,
   "metadata": {},
   "outputs": [],
   "source": [
    "E = matrix.identity(3)\n",
    "eqs = [B[i,j] == E[i,j] for i in [0,1,2] for j in [0,1,2]]\n",
    "show(eqs)"
   ]
  },
  {
   "cell_type": "code",
   "execution_count": null,
   "metadata": {},
   "outputs": [],
   "source": [
    "show(solve(eqs,[a,b,c]))"
   ]
  },
  {
   "cell_type": "markdown",
   "metadata": {},
   "source": [
    "Per tant, tenim dues possibles solucions. La primera és $a=-2$, $b=2$ i $c=1$ i la segona $a=2$, $b=-2$ i $c=-1$."
   ]
  },
  {
   "cell_type": "markdown",
   "metadata": {},
   "source": [
    "## Exercici 20\n",
    "Donada la matriu\n",
    "$$\n",
    "  A=\\left(\\begin{array}{rrrr}\n",
    "   6 & -2 &  3 & -3 \\\\\n",
    "  -3 & -1 &  1 &  2 \\\\\n",
    "   4 &  3 & -3 & -4\n",
    "  \\end{array}\\right)\\,,\n",
    "$$\n",
    "apliqueu-li la transfomació elemental $F_3\\sim 6F_3-4F_1$ i comproveu que el resultat és el mateix que si multipliquem\n",
    "la matriu $A$ per l'esquerra per la matriu\n",
    "$$\n",
    "  T=\\left(\\begin{array}{rrr}\n",
    "  1&0&0\\\\\n",
    "  0&1&0\\\\\n",
    "  -4&0&6\n",
    "  \\end{array}\\right)\\,.\n",
    "$$"
   ]
  },
  {
   "cell_type": "code",
   "execution_count": null,
   "metadata": {},
   "outputs": [],
   "source": [
    "A = matrix([[6,-2,3,-3],[-3,-1,1,2],[4,3,-3,-4]])\n",
    "show(A)"
   ]
  },
  {
   "cell_type": "markdown",
   "metadata": {},
   "source": [
    "Ho podem fer de dues maners. Directament (recordem que en Sagemath els índexs comencen per zero):"
   ]
  },
  {
   "cell_type": "code",
   "execution_count": null,
   "metadata": {},
   "outputs": [],
   "source": [
    "A[2,:] = 6*A[2,:] - 4*A[0,:]\n",
    "show(A)"
   ]
  },
  {
   "cell_type": "markdown",
   "metadata": {},
   "source": [
    "Utlitzant la funcio *TE*:"
   ]
  },
  {
   "cell_type": "code",
   "execution_count": null,
   "metadata": {},
   "outputs": [],
   "source": [
    "A = matrix([[6,-2,3,-3],[-3,-1,1,2],[4,3,-3,-4]])\n",
    "AT = TE(2,0,6,-4,A,simplificar=False)\n",
    "show(AT)"
   ]
  },
  {
   "cell_type": "markdown",
   "metadata": {},
   "source": [
    "D'altra banda, si multipliquem $T$ per $A$, obtenim el mateix resultat:"
   ]
  },
  {
   "cell_type": "code",
   "execution_count": null,
   "metadata": {},
   "outputs": [],
   "source": [
    "T = matrix([[1,0,0],[0,1,0],[-4,0,6]])\n",
    "show(T*A)"
   ]
  },
  {
   "cell_type": "markdown",
   "metadata": {},
   "source": [
    "## Exercici 21\n",
    "Donada una matriu quadrada $A$, d'ordre 3, apliquem les transformacions elementals per files següents:\n",
    "* En primer lloc, $F_2\\sim - 3 F_{1} + 3 F_{2}$ i $F_3\\sim - 2 F_{1} - 2 F_{3}$ per a obtenir la matriu $A'$.\n",
    "* En segon lloc, a la matriu $A'$ li apliquem $F_3\\sim - 2 F_{2} - F_{3}$ per a obtenir la matriu $B$.\n",
    "\n",
    "Trobeu una matriu $T$ tal que $B=TA$"
   ]
  },
  {
   "cell_type": "markdown",
   "metadata": {},
   "source": [
    "Recordem que aplicar la transformació elemental $F_i\\sim tF_i+sF_j$ amb $i\\neq j$ a la matriu $A$ és equivalent\n",
    "a multiplicar-la a l'esquerra per la matriu que s'obté aplicant la mateixa transformació elemental a la matriu identitat.\n",
    "Apliquem, doncs, les tres transformacions elementals de l'enunciat a la matriu identitat:"
   ]
  },
  {
   "cell_type": "code",
   "execution_count": null,
   "metadata": {},
   "outputs": [],
   "source": [
    "E = matrix.identity(3)\n",
    "show(E)"
   ]
  },
  {
   "cell_type": "code",
   "execution_count": null,
   "metadata": {},
   "outputs": [],
   "source": [
    "T1 = TE(1,0,3,-3,E,simplificar=False)\n",
    "show(T1)"
   ]
  },
  {
   "cell_type": "code",
   "execution_count": null,
   "metadata": {},
   "outputs": [],
   "source": [
    "T2 = TE(2,0,-2,-2,E,simplificar=False)\n",
    "show(T2)"
   ]
  },
  {
   "cell_type": "code",
   "execution_count": null,
   "metadata": {},
   "outputs": [],
   "source": [
    "T3 = TE(2,1,-1,-2,E,simplificar=False)\n",
    "show(T3)"
   ]
  },
  {
   "cell_type": "markdown",
   "metadata": {},
   "source": [
    "La matriu $T$ és el producte d'aquestes tres matrius, $T=T_3T_2T_1$."
   ]
  },
  {
   "cell_type": "code",
   "execution_count": null,
   "metadata": {},
   "outputs": [],
   "source": [
    "T = T3 * T2 * T1\n",
    "show(T)"
   ]
  },
  {
   "cell_type": "markdown",
   "metadata": {},
   "source": [
    "## Exercici 22\n",
    "Trianguleu la matriu següent pel mètode de Gauss:\n",
    "$$\n",
    "  A=\\left(\\begin{array}{rrrr}\n",
    "   2 &  0 & 1 &  2 \\\\\n",
    "   1 & -2 & 0 &  1 \\\\\n",
    "  -1 &  6 & 1 & -3\n",
    "  \\end{array}\\right)\\,.\n",
    "$$"
   ]
  },
  {
   "cell_type": "code",
   "execution_count": null,
   "metadata": {},
   "outputs": [],
   "source": [
    "A = matrix([[2,0,1,2],[1,-2,0,1],[-1,6,1,-3]])\n",
    "show(A)"
   ]
  },
  {
   "cell_type": "code",
   "execution_count": null,
   "metadata": {},
   "outputs": [],
   "source": [
    "A = TE(1,0,2,-1,A)\n",
    "A = TE(2,0,2,1,A)\n",
    "show(A)"
   ]
  },
  {
   "cell_type": "code",
   "execution_count": null,
   "metadata": {},
   "outputs": [],
   "source": [
    "A = TE(2,1,-4,-12,A)\n",
    "show(A)"
   ]
  },
  {
   "cell_type": "markdown",
   "metadata": {},
   "source": [
    "## Exercici 23\n",
    "Calculeu el rang i determineu files i columnes linealment independents en nombre maxim de la matriu\n",
    "$$\n",
    "  A=\\left(\\begin{array}{rr}\n",
    "   5 & -1 \\\\\n",
    "  -5 &  1 \\\\\n",
    "  -2 &  4 \\\\\n",
    "   3 & -1\n",
    "  \\end{array}\\right)\\,.\n",
    "$$"
   ]
  },
  {
   "cell_type": "code",
   "execution_count": null,
   "metadata": {},
   "outputs": [],
   "source": [
    "A = matrix([[5,-1],[-5,1],[-2,4],[3,-1]])\n",
    "show(A)"
   ]
  },
  {
   "cell_type": "code",
   "execution_count": null,
   "metadata": {},
   "outputs": [],
   "source": [
    "A = TE(1,0,5,5,A)\n",
    "show(A)"
   ]
  },
  {
   "cell_type": "code",
   "execution_count": null,
   "metadata": {},
   "outputs": [],
   "source": [
    "A = TE(2,0,5,2,A)\n",
    "show(A)"
   ]
  },
  {
   "cell_type": "code",
   "execution_count": null,
   "metadata": {},
   "outputs": [],
   "source": [
    "A = TE(3,0,5,-3,A)\n",
    "show(A)"
   ]
  },
  {
   "cell_type": "code",
   "execution_count": null,
   "metadata": {},
   "outputs": [],
   "source": [
    "A = P(1,2,A)\n",
    "show(A)"
   ]
  },
  {
   "cell_type": "code",
   "execution_count": null,
   "metadata": {},
   "outputs": [],
   "source": [
    "A = TE(3,1,18,2,A)\n",
    "show(A)"
   ]
  },
  {
   "cell_type": "markdown",
   "metadata": {},
   "source": [
    "El rang de $A$ és 2. Les files 1a i 3a són linealment independents. Les columnes 1a i 2a són linealment independents."
   ]
  },
  {
   "cell_type": "markdown",
   "metadata": {},
   "source": [
    "## Exercici 24\n",
    "Calculeu el rang i determineu files i columnes linealment independents en nombre màxim de la matriu seguent pel mètode de Gauss:\n",
    "$$\n",
    "  A=\\left(\\begin{array}{rrrr}\n",
    "  1 &  3 &  5 & -1 \\\\\n",
    "  2 & -1 & -3 &  4 \\\\\n",
    "  5 &  1 & -1 &  7 \\\\\n",
    "  7 &  7 &  9 &  1\n",
    "  \\end{array}\\right)\\,.\n",
    "$$"
   ]
  },
  {
   "cell_type": "code",
   "execution_count": null,
   "metadata": {},
   "outputs": [],
   "source": [
    "A = matrix([[1,3,5,-1],[2,-1,-3,4],[5,1,-1,7],[7,7,9,1]])\n",
    "show(A)"
   ]
  },
  {
   "cell_type": "code",
   "execution_count": null,
   "metadata": {},
   "outputs": [],
   "source": [
    "A = TE(1,0,1,-2,A)\n",
    "A = TE(2,0,1,-5,A)\n",
    "A = TE(3,0,1,-7,A)\n",
    "show(A)"
   ]
  },
  {
   "cell_type": "code",
   "execution_count": null,
   "metadata": {},
   "outputs": [],
   "source": [
    "A = TE(2,1,-7,14,A)\n",
    "A = TE(3,1,-7,14,A)\n",
    "show(A)"
   ]
  },
  {
   "cell_type": "markdown",
   "metadata": {},
   "source": [
    "El rang de $A$ és 3.\n",
    "\n",
    "Les files 1a, 2a i 4a són linealment independents. Les columnes 1a, 2a i 4a són linealment independents."
   ]
  },
  {
   "cell_type": "markdown",
   "metadata": {},
   "source": [
    "## Exercici 25\n",
    "Analitzeu si la matriu següent és regular i, en cas negatiu, trobeu una submatriu regular d’ordre màxim:\n",
    "$$\n",
    "  A=\\left(\\begin{array}{rr}\n",
    "  1 & -3 \\\\\n",
    "  0 & -6 \n",
    "  \\end{array}\\right)\\,.\n",
    "$$"
   ]
  },
  {
   "cell_type": "code",
   "execution_count": null,
   "metadata": {},
   "outputs": [],
   "source": [
    "A = matrix([[1,-3],[0,-6]])\n",
    "show(A.rank())"
   ]
  },
  {
   "cell_type": "markdown",
   "metadata": {},
   "source": [
    "Com que el rang de $A$ és 2, la matriu és regular."
   ]
  },
  {
   "cell_type": "markdown",
   "metadata": {},
   "source": [
    "## Exercici 26\n",
    "Analitzeu si les matrius següents són regulars i, en cas negatiu, trobeu una submatriu regular d’ordre màxim pel mètode de Gauss:\n",
    "$$\n",
    "  A=\\left(\\begin{array}{rrr}\n",
    "   1 & -3 & -1\\\\\n",
    "   2 & -1 & -3\\\\\n",
    "   1 & -1 & -6\n",
    "  \\end{array}\\right)\\qquad\\text{i}\\qquad\n",
    "  B=\\left(\\begin{array}{rrrr}\n",
    "   3 & 1 &  1 & -1 \\\\\n",
    "   5 & 0 &  3 & -1 \\\\\n",
    "   1 & 2 & -1 & -2 \\\\\n",
    "  -2 & 1 & -2 &  0\n",
    "  \\end{array}\\right)\n",
    "$$"
   ]
  },
  {
   "cell_type": "code",
   "execution_count": null,
   "metadata": {},
   "outputs": [],
   "source": [
    "A = matrix([[1,-3,-1],[2,-1,-3],[1,-1,-6]])\n",
    "B = matrix([[3,1,1,-1],[5,0,3,-1],[1,2,-1,-2],[-2,1,-2,0]])"
   ]
  },
  {
   "cell_type": "code",
   "execution_count": null,
   "metadata": {},
   "outputs": [],
   "source": [
    "AT = TE(1,0,1,-2,A)\n",
    "AT = TE(2,0,1,-1,AT)\n",
    "show(AT)"
   ]
  },
  {
   "cell_type": "code",
   "execution_count": null,
   "metadata": {},
   "outputs": [],
   "source": [
    "AT = TE(2,1,5,-2,AT)\n",
    "show(AT)"
   ]
  },
  {
   "cell_type": "markdown",
   "metadata": {},
   "source": [
    "La matriu $A$ té rang 3 i és regular."
   ]
  },
  {
   "cell_type": "code",
   "execution_count": null,
   "metadata": {},
   "outputs": [],
   "source": [
    "BT = TE(1,0,3,-5,B)\n",
    "BT = TE(2,0,3,-1,BT)\n",
    "BT = TE(3,0,3,2,BT)\n",
    "show(BT)"
   ]
  },
  {
   "cell_type": "code",
   "execution_count": null,
   "metadata": {},
   "outputs": [],
   "source": [
    "BT = TE(2,1,-5,-5,BT)\n",
    "BT = TE(3,1,-5,-5,BT)\n",
    "show(BT)"
   ]
  },
  {
   "cell_type": "markdown",
   "metadata": {},
   "source": [
    "La matriu $B$ no és regular ja que té rang 3. La submatriu formada per les files 1a, 2a i 3a i les columnes 1a, 2a i 4a és regular d'ordre màxim."
   ]
  },
  {
   "cell_type": "code",
   "execution_count": null,
   "metadata": {},
   "outputs": [],
   "source": [
    "BS = B[[0,1,2],[0,1,3]]\n",
    "show(BS)"
   ]
  },
  {
   "cell_type": "code",
   "execution_count": null,
   "metadata": {},
   "outputs": [],
   "source": [
    "show(BS.rank())"
   ]
  },
  {
   "cell_type": "markdown",
   "metadata": {},
   "source": [
    "## Exercici 27\n",
    "Resoleu l'equació lineal\n",
    "$$\n",
    "  x-2y+3z=-2\\,.\n",
    "$$"
   ]
  },
  {
   "cell_type": "code",
   "execution_count": null,
   "metadata": {},
   "outputs": [],
   "source": [
    "x, y ,z = var('x y z')\n",
    "show(solve(x-2*y+3*z==-2,x))"
   ]
  },
  {
   "cell_type": "markdown",
   "metadata": {},
   "source": [
    "## Exercici 28\n",
    "Resoleu els sistemes d’equacions lineals seguents pel mètode de Gauss:\n",
    "$$\n",
    "  \\left.\\begin{aligned}\n",
    "  x − 2y + z &= 2 \\\\\n",
    "  2x − y + 3z &= 0 \\\\\n",
    "  x + 2y &= −1 \\\\\n",
    "  3x − 5y + z &= −2\n",
    "  \\end{aligned}\\right\\}\\,;\\qquad\n",
    "  \\left.\\begin{aligned}\n",
    "  x + 2y − 3z &= −2 \\\\\n",
    "  3x + z &= 0 \\\\\n",
    "  2x − y + 2z &= 3\n",
    "  \\end{aligned}\\right\\}\\qquad\\text{i}\\qquad\n",
    "  \\left.\\begin{aligned}\n",
    "  2x − y + 3z &= 4 \\\\\n",
    "  x + 2y − 2z &= −2 \\\\\n",
    "  4x + 3y − z &= 0\n",
    "  \\end{aligned}\\right\\}\n",
    "$$"
   ]
  },
  {
   "cell_type": "code",
   "execution_count": null,
   "metadata": {},
   "outputs": [],
   "source": [
    "A = matrix([[1,-2,1,2],[2,-1,3,0],[1,2,0,-1],[3,-5,1,-2]])\n",
    "show(A)"
   ]
  },
  {
   "cell_type": "code",
   "execution_count": null,
   "metadata": {},
   "outputs": [],
   "source": [
    "AT = TE(1,0,1,-2,A)\n",
    "AT = TE(2,0,1,-1,AT)\n",
    "AT = TE(3,0,1,-3,AT)\n",
    "show(AT)"
   ]
  },
  {
   "cell_type": "code",
   "execution_count": null,
   "metadata": {},
   "outputs": [],
   "source": [
    "AT = TE(0,1,3,2,AT)\n",
    "AT = TE(2,1,3,-4,AT)\n",
    "AT = TE(3,1,3,-1,AT)\n",
    "show(AT)"
   ]
  },
  {
   "cell_type": "code",
   "execution_count": null,
   "metadata": {},
   "outputs": [],
   "source": [
    "AT = TE(0,2,-7,-5,AT)\n",
    "AT = TE(1,2,-7,-1,AT)\n",
    "AT = TE(3,2,-7,7,AT)\n",
    "show(AT)"
   ]
  },
  {
   "cell_type": "markdown",
   "metadata": {},
   "source": [
    "El sistema és incompatible"
   ]
  },
  {
   "cell_type": "code",
   "execution_count": null,
   "metadata": {},
   "outputs": [],
   "source": [
    "A = matrix([[1,2,-3,-2],[3,0,1,0],[2,-1,2,3]])\n",
    "show(A)"
   ]
  },
  {
   "cell_type": "code",
   "execution_count": null,
   "metadata": {},
   "outputs": [],
   "source": [
    "AT = TE(1,0,1,-3,A)\n",
    "AT = TE(2,0,1,-2,AT)\n",
    "show(AT)"
   ]
  },
  {
   "cell_type": "code",
   "execution_count": null,
   "metadata": {},
   "outputs": [],
   "source": [
    "AT = TE(0,1,-6,-2,AT)\n",
    "AT = TE(2,1,-6,5,AT)\n",
    "show(AT)"
   ]
  },
  {
   "cell_type": "code",
   "execution_count": null,
   "metadata": {},
   "outputs": [],
   "source": [
    "AT = TE(0,2,2,1,AT)\n",
    "AT = TE(1,2,2,-10,AT)\n",
    "show(AT)"
   ]
  },
  {
   "cell_type": "code",
   "execution_count": null,
   "metadata": {},
   "outputs": [],
   "source": [
    "AT = S(0,-6,AT)\n",
    "AT = S(1,-6,AT)\n",
    "AT = S(2,2,AT)\n",
    "show(AT)"
   ]
  },
  {
   "cell_type": "markdown",
   "metadata": {},
   "source": [
    "El sistema és compatible determinat i la solució és $x=2$, $y=-11$ i $z=-6$."
   ]
  },
  {
   "cell_type": "code",
   "execution_count": null,
   "metadata": {},
   "outputs": [],
   "source": [
    "A = matrix([[2,-1,3,4],[1,2,-2,-2],[4,3,-1,0]])\n",
    "show(A)"
   ]
  },
  {
   "cell_type": "code",
   "execution_count": null,
   "metadata": {},
   "outputs": [],
   "source": [
    "AT = TE(1,0,2,-1,A)\n",
    "AT = TE(2,0,2,-4,AT)\n",
    "show(AT)"
   ]
  },
  {
   "cell_type": "code",
   "execution_count": null,
   "metadata": {},
   "outputs": [],
   "source": [
    "AT = TE(0,1,5,1,AT)\n",
    "AT = TE(2,1,5,-5,AT)\n",
    "show(AT)"
   ]
  },
  {
   "cell_type": "code",
   "execution_count": null,
   "metadata": {},
   "outputs": [],
   "source": [
    "AT = S(0,10,AT)\n",
    "AT = S(1,5,AT)\n",
    "show(AT)"
   ]
  },
  {
   "cell_type": "code",
   "execution_count": null,
   "metadata": {},
   "outputs": [],
   "source": [
    "z = var('z')\n",
    "show(AT[[0,1],[3]] - z * AT[[0,1],[2]])"
   ]
  },
  {
   "cell_type": "markdown",
   "metadata": {},
   "source": [
    "El sistema és compatible indeterminat i la solució és\n",
    "$$\n",
    "  \\left.\\begin{aligned}\n",
    "  x &= \\frac{6-4z}{5} \\\\\n",
    "  y &= \\frac{-8+7z}{5} \n",
    "  \\end{aligned}\\right\\}\\,.\n",
    "$$"
   ]
  },
  {
   "cell_type": "markdown",
   "metadata": {},
   "source": [
    "També es poden resoldre sistemes d'equacions amb la funció *solve*."
   ]
  },
  {
   "cell_type": "code",
   "execution_count": null,
   "metadata": {},
   "outputs": [],
   "source": [
    "x, y, z = var('x y z')\n",
    "### sol = solve([2*x-y+3*z==4,x+2*y-2*z==-2,4*x+3*y-z==0],[x,y,z])\n",
    "sol = solve([2*x-y+3*z==4,x+2*y-2*z==-2,4*x+3*y-z==0],[x,y])\n",
    "show(sol)"
   ]
  },
  {
   "cell_type": "markdown",
   "metadata": {},
   "source": [
    "## Exercici 29\n",
    "Resoleu l'equació lineal homogènia\n",
    "$$\n",
    "  −3x+2y−z=0\\,.\n",
    "$$"
   ]
  },
  {
   "cell_type": "code",
   "execution_count": null,
   "metadata": {},
   "outputs": [],
   "source": [
    "show(solve(-3*x+2*y-z==0,z))"
   ]
  },
  {
   "cell_type": "markdown",
   "metadata": {},
   "source": [
    "## Exercici 30\n",
    "Resoleu els sistemes d’equacions lineals homogenis seguents pel mètode de Gauss:\n",
    "$$\n",
    "  \\left.\\begin{aligned}\n",
    "  3x + 5y + 2z &= 0 \\\\\n",
    "  3x + 5y + 4z &= 0 \\\\\n",
    "  x + y − 4z &= 0 \\\\\n",
    "  2x + 9y + 6z &= 0\n",
    "  \\end{aligned}\\right\\}\\qquad\\text{i}\\qquad\n",
    "  \\left.\\begin{aligned}\n",
    "  2x + y − 4z &= 0 \\\\\n",
    "  3x + 5y − 7z &= 0 \\\\\n",
    "  4x − 5y − 6z &= 0 \\\\\n",
    "  \\end{aligned}\\right\\}\n",
    "$$"
   ]
  },
  {
   "cell_type": "code",
   "execution_count": null,
   "metadata": {},
   "outputs": [],
   "source": [
    "A = matrix([[3,5,2,0],[3,5,4,0],[1,1,-4,0],[2,9,6,0]])\n",
    "show(A)"
   ]
  },
  {
   "cell_type": "code",
   "execution_count": null,
   "metadata": {},
   "outputs": [],
   "source": [
    "AT = TE(1,0,3,-3,A)\n",
    "AT = TE(2,0,3,-1,AT)\n",
    "AT = TE(3,0,3,-2,AT)\n",
    "show(AT)"
   ]
  },
  {
   "cell_type": "code",
   "execution_count": null,
   "metadata": {},
   "outputs": [],
   "source": [
    "AT = P(1,2,AT)\n",
    "show(AT)"
   ]
  },
  {
   "cell_type": "code",
   "execution_count": null,
   "metadata": {},
   "outputs": [],
   "source": [
    "AT = TE(0,1,-2,-5,AT)\n",
    "AT = TE(3,1,-2,-17,AT)\n",
    "show(AT)"
   ]
  },
  {
   "cell_type": "code",
   "execution_count": null,
   "metadata": {},
   "outputs": [],
   "source": [
    "AT = TE(0,2,2,-66,AT)\n",
    "AT = TE(1,2,2,14,AT)\n",
    "AT = TE(3,2,2,-210,AT)\n",
    "show(AT)"
   ]
  },
  {
   "cell_type": "markdown",
   "metadata": {},
   "source": [
    "El sistema és compatible determinat i la solució és $x=0$, $y=0$ i $z=0$."
   ]
  },
  {
   "cell_type": "code",
   "execution_count": null,
   "metadata": {},
   "outputs": [],
   "source": [
    "A = matrix([[2,1,-4,0],[3,5,-7,0],[4,-5,-6,0]])\n",
    "show(A)"
   ]
  },
  {
   "cell_type": "code",
   "execution_count": null,
   "metadata": {},
   "outputs": [],
   "source": [
    "AT = TE(1,0,2,-3,A)\n",
    "AT = TE(2,0,2,-4,AT)\n",
    "show(AT)"
   ]
  },
  {
   "cell_type": "code",
   "execution_count": null,
   "metadata": {},
   "outputs": [],
   "source": [
    "AT = TE(0,1,7,-1,AT)\n",
    "AT = TE(2,1,7,7,AT)\n",
    "show(AT)"
   ]
  },
  {
   "cell_type": "code",
   "execution_count": null,
   "metadata": {},
   "outputs": [],
   "source": [
    "AT = S(0,14,AT)\n",
    "AT = S(1,7,AT)\n",
    "show(AT)"
   ]
  },
  {
   "cell_type": "code",
   "execution_count": null,
   "metadata": {},
   "outputs": [],
   "source": [
    "show(AT[[0,1],[3]] - z * AT[[0,1],[2]])"
   ]
  },
  {
   "cell_type": "markdown",
   "metadata": {},
   "source": [
    "El sistema és compatible indeterminat i la solució és\n",
    "$$\n",
    "  \\left.\\begin{aligned}\n",
    "  x &= \\frac{13z}{7} \\\\\n",
    "  y &= \\frac{2z}{7} \n",
    "  \\end{aligned}\\right\\}\\,.\n",
    "$$"
   ]
  },
  {
   "cell_type": "markdown",
   "metadata": {},
   "source": [
    "Amb la funció *solve* es poden resoldre els sistemes d'equacions lineal:"
   ]
  },
  {
   "cell_type": "code",
   "execution_count": null,
   "metadata": {},
   "outputs": [],
   "source": [
    "sol = solve([2*x+y-4*z==0,3*x+5*y-7*z==0,4*x-5*y-6*z==0],[x,y,z])\n",
    "show(sol)"
   ]
  },
  {
   "cell_type": "markdown",
   "metadata": {
    "tags": []
   },
   "source": [
    "## Exercici 31\n",
    "Donada la matriu\n",
    "$$\n",
    "  A=\\left(\\begin{array}{rrr}\n",
    "  -2 & -3 &  2 \\\\\n",
    "   2 &  2 & -2 \\\\\n",
    "  -1 & -2 &  1 \\\\\n",
    "  -3 &  1 & -2 \n",
    "  \\end{array}\\right)\\,,\n",
    "$$\n",
    "trobeu una relació de depència entre les seves files."
   ]
  },
  {
   "cell_type": "markdown",
   "metadata": {},
   "source": [
    "Hem de trobar uns coeficients $t_1$, $t_2$, $t_3$ i $t_4$ tals que\n",
    "$$\n",
    "   t_1F_1 + t_2F_2 + t_3F_3 + t_4F_4 = \\left(\\begin{array}{rrr} 0 & 0 & 0 \\end{array}\\right)\\,. \n",
    "$$"
   ]
  },
  {
   "cell_type": "code",
   "execution_count": null,
   "metadata": {
    "tags": []
   },
   "outputs": [],
   "source": [
    "A = matrix([[-2,-3,2],[2,2,-2],[-1,-2,1],[-3,1,-2]])\n",
    "show(A)"
   ]
  },
  {
   "cell_type": "code",
   "execution_count": null,
   "metadata": {},
   "outputs": [],
   "source": [
    "t1, t2, t3, t4 = var('t1 t2 t3 t4')\n",
    "cl = t1*A[0] + t2*A[1] + t3*A[2] + t4*A[3]\n",
    "show(cl)"
   ]
  },
  {
   "cell_type": "markdown",
   "metadata": {},
   "source": [
    "Si igualem a zero cada un d'aquests termes, veiem que hem de resoldre el sistema d'equacions\n",
    "$$\n",
    "  \\left.\\begin{aligned}\n",
    "  -2t_1+2t_2-t_3-3t_4 &= 0 \\\\\n",
    "  -3t_1+2t_2-2t_3+t_4 &= 0 \\\\\n",
    "  2t_1-2t_2+t_3-2t_4  &= 0\n",
    "  \\end{aligned}\\,\\right\\}\\,.\n",
    "$$\n",
    "Podríem resoldre aquest sistema d'equacions triangulant la matriu corresponent, però en aquest cas, ho farem amb la funció *solve*. "
   ]
  },
  {
   "cell_type": "code",
   "execution_count": null,
   "metadata": {},
   "outputs": [],
   "source": [
    "eqs = [cl[0] == 0,cl[1] == 0,cl[2] == 0]\n",
    "show(eqs)"
   ]
  },
  {
   "cell_type": "code",
   "execution_count": null,
   "metadata": {},
   "outputs": [],
   "source": [
    "show(solve(eqs,[t1,t2,t3,t4]))"
   ]
  },
  {
   "cell_type": "markdown",
   "metadata": {
    "tags": []
   },
   "source": [
    "El sistema és compatible indeterminat. Si donem el valor 1 al paràmetre, obtenim la relació de dependència\n",
    "$$\n",
    "   2F_1 + F_2 - 2F_3 = \\left(\\begin{array}{rrr} 0 & 0 & 0 \\end{array}\\right)\\,.\n",
    "$$"
   ]
  },
  {
   "cell_type": "markdown",
   "metadata": {
    "tags": []
   },
   "source": [
    "## Exercici 32\n",
    "Donada la matriu\n",
    "$$\n",
    "  A=\\left(\\begin{array}{rrrr}\n",
    "  -3 & -5 &  4 & -5 \\\\\n",
    "  -1 & -3 &  1 & -2\\\\\n",
    "   2 &  3 & -2 &  3\n",
    "  \\end{array}\\right)\\,,\n",
    "$$\n",
    "expresseu la segona columna com a combinació lineal de les altres tres."
   ]
  },
  {
   "cell_type": "markdown",
   "metadata": {},
   "source": [
    "Hem de trobar uns coeficients $t_1$, $t_2$ i $t_3$ tals que\n",
    "$$\n",
    "   t_1C_1 + t_2C_3 + t_3C_4 = C_2\\,. \n",
    "$$"
   ]
  },
  {
   "cell_type": "code",
   "execution_count": null,
   "metadata": {},
   "outputs": [],
   "source": [
    "A = matrix([[-3,-5,4,-5],[-1,-3,1,-2],[2,3,-2,3]])\n",
    "show(A)"
   ]
  },
  {
   "cell_type": "code",
   "execution_count": null,
   "metadata": {},
   "outputs": [],
   "source": [
    "t1, t2, t3 = var('t1 t2 t3')\n",
    "cl = t1*A[:,0] + t2*A[:,2] + t3*A[:,3]\n",
    "show(cl)"
   ]
  },
  {
   "cell_type": "markdown",
   "metadata": {},
   "source": [
    "Si igualem cada un d'aquests termes al terme corresponent de la segona columna,veiem que hem de resoldre el sistema d'equacions\n",
    "$$\n",
    "  \\left.\\begin{aligned}\n",
    "  -3t_1+4t_2-5t_3 &= -5 \\\\\n",
    "  -t_1+t_2-2t_3 &= -3 \\\\\n",
    "  2t_1-2t_2+3t_3  &= 3\n",
    "  \\end{aligned}\\,\\right\\}\\,.\n",
    "$$"
   ]
  },
  {
   "cell_type": "code",
   "execution_count": null,
   "metadata": {},
   "outputs": [],
   "source": [
    "eqs = [cl[0,0] == A[0,1],cl[1,0] == A[1,1],cl[2,0] == A[2,1]]\n",
    "show(eqs)"
   ]
  },
  {
   "cell_type": "code",
   "execution_count": null,
   "metadata": {},
   "outputs": [],
   "source": [
    "show(solve(eqs,[t1,t2,t3]))"
   ]
  },
  {
   "cell_type": "markdown",
   "metadata": {},
   "source": [
    "El sistema és compatible determinat i tenim que\n",
    "$$\n",
    "  C_2 = -2C_1 + C_3 + 3C_4\\,.\n",
    "$$"
   ]
  },
  {
   "cell_type": "markdown",
   "metadata": {},
   "source": [
    "## Exercici 33\n",
    "Trobeu la forma triangular reduı̈da de la matriu següent pel mètode de Gauss–Jordan:\n",
    "$$\n",
    "  A=\\left(\\begin{array}{rrr}\n",
    "    3 & 1 & -1 \\\\\n",
    "    1 & 2 &  3\\\\\n",
    "    2 & 1 &  0\\\\\n",
    "   -1 & 2 &  5\n",
    "  \\end{array}\\right)\\,.\n",
    "$$"
   ]
  },
  {
   "cell_type": "code",
   "execution_count": null,
   "metadata": {},
   "outputs": [],
   "source": [
    "A = matrix(4,3,[3,1,-1,1,2,3,2,1,0,-1,2,5])\n",
    "show(A)"
   ]
  },
  {
   "cell_type": "code",
   "execution_count": null,
   "metadata": {},
   "outputs": [],
   "source": [
    "AT = TE(1,0,3,-1,A)\n",
    "AT = TE(2,0,3,-2,AT)\n",
    "AT = TE(3,0,3,1,AT)\n",
    "show(AT)"
   ]
  },
  {
   "cell_type": "code",
   "execution_count": null,
   "metadata": {},
   "outputs": [],
   "source": [
    "AT = TE(0,1,5,-1,AT)\n",
    "AT = TE(2,1,5,-1,AT)\n",
    "AT = TE(3,1,5,-7,AT)\n",
    "show(AT)"
   ]
  },
  {
   "cell_type": "code",
   "execution_count": null,
   "metadata": {},
   "outputs": [],
   "source": [
    "AT = S(0,15,AT)\n",
    "AT = S(1,5,AT)\n",
    "show(AT)"
   ]
  },
  {
   "cell_type": "code",
   "execution_count": null,
   "metadata": {},
   "outputs": [],
   "source": [
    "show(A.rref())"
   ]
  },
  {
   "cell_type": "markdown",
   "metadata": {},
   "source": [
    "## Exercici 34\n",
    "Resoleu simultaniament, pel mètode de Gauss–Jordan, els sistemes d’equacions lineals\n",
    "$$\n",
    "  \\left.\\begin{aligned}\n",
    "  2x + y + 3z &= 2 \\\\\n",
    "  x − 3y + z &= 1 \\\\\n",
    "  5x − 8y + 6z &= −2\n",
    "  \\end{aligned}\\right\\}\\qquad\\text{i}\\qquad\n",
    "  \\left.\\begin{aligned}\n",
    "  2x + y + 3z &= 1 \\\\\n",
    "  x − 3y + z &= -2 \\\\\n",
    "  5x − 8y + 6z &= −5\n",
    "  \\end{aligned}\\right\\}\n",
    "$$"
   ]
  },
  {
   "cell_type": "code",
   "execution_count": null,
   "metadata": {},
   "outputs": [],
   "source": [
    "A = matrix([[2,1,3,2,1],[1,-3,1,1,-2],[5,-8,6,-2,-5]])\n",
    "show(A)"
   ]
  },
  {
   "cell_type": "code",
   "execution_count": null,
   "metadata": {},
   "outputs": [],
   "source": [
    "AT = TE(1,0,2,-1,A)\n",
    "AT = TE(2,0,2,-5,AT)\n",
    "show(AT)"
   ]
  },
  {
   "cell_type": "code",
   "execution_count": null,
   "metadata": {},
   "outputs": [],
   "source": [
    "AT = TE(0,1,-7,-1,AT)\n",
    "AT = TE(2,1,-7,21,AT)\n",
    "show(AT)"
   ]
  },
  {
   "cell_type": "code",
   "execution_count": null,
   "metadata": {},
   "outputs": [],
   "source": [
    "AT = S(0,-14,AT)\n",
    "AT = S(1,-7,AT)\n",
    "show(AT)"
   ]
  },
  {
   "cell_type": "markdown",
   "metadata": {},
   "source": [
    "El primer sistema d'equacions és incompatible."
   ]
  },
  {
   "cell_type": "code",
   "execution_count": null,
   "metadata": {},
   "outputs": [],
   "source": [
    "z = var('z')\n",
    "show(AT[[0,1],[4]] - z * AT[[0,1],[2]])"
   ]
  },
  {
   "cell_type": "markdown",
   "metadata": {},
   "source": [
    "El segon sistema és compatible indeterminat i la solució és\n",
    "$$\n",
    "  \\left.\\begin{aligned}\n",
    "  x &= \\frac{1-10z}{7} \\\\\n",
    "  y &= \\frac{5-z}{7} \n",
    "  \\end{aligned}\\right\\}\\,.\n",
    "$$"
   ]
  },
  {
   "cell_type": "markdown",
   "metadata": {},
   "source": [
    "## Exercici 35\n",
    "Trobeu la inversa de les matrius seguents pel mètode de Gauss–Jordan:\n",
    "$$\n",
    "  A=\\left(\\begin{array}{rrr}\n",
    "  2 & 7 & 3 \\\\\n",
    "  3 & 9 & 4 \\\\\n",
    "  2 & 4 & 2\n",
    "  \\end{array}\\right)\\qquad\\text{i}\\qquad\n",
    "  B=\\left(\\begin{array}{rrrr}\n",
    "  1 &  1 &  1 &  1 \\\\\n",
    "  1 &  1 & −1 & −1 \\\\\n",
    "  1 & −1 &  1 & −1 \\\\\n",
    "  1 & −1 & −1 &  1\n",
    "  \\end{array}\\right)\\,.\n",
    "$$"
   ]
  },
  {
   "cell_type": "code",
   "execution_count": null,
   "metadata": {},
   "outputs": [],
   "source": [
    "A = concatena_matrius(matrix([[2,7,3],[3,9,4],[2,4,2]]),matrix.identity(3))\n",
    "show(A)"
   ]
  },
  {
   "cell_type": "code",
   "execution_count": null,
   "metadata": {},
   "outputs": [],
   "source": [
    "AT = TE(1,0,2,-3,A)\n",
    "AT = TE(2,0,2,-2,AT)\n",
    "show(AT)"
   ]
  },
  {
   "cell_type": "code",
   "execution_count": null,
   "metadata": {},
   "outputs": [],
   "source": [
    "AT = TE(0,1,-3,-7,AT)\n",
    "AT = TE(2,1,-3,3,AT)\n",
    "show(AT)"
   ]
  },
  {
   "cell_type": "markdown",
   "metadata": {},
   "source": [
    "La matriu $A$ té rang 2 i no té inversa, és a dir, és singular."
   ]
  },
  {
   "cell_type": "code",
   "execution_count": null,
   "metadata": {},
   "outputs": [],
   "source": [
    "B = concatena_matrius(matrix([[1,1,1,1],[1,1,-1,-1],[1,-1,1,-1],[1,-1,-1,1]]),matrix.identity(4))\n",
    "show(B)"
   ]
  },
  {
   "cell_type": "code",
   "execution_count": null,
   "metadata": {},
   "outputs": [],
   "source": [
    "BT = TE(1,0,1,-1,B)\n",
    "BT = TE(2,0,1,-1,BT)\n",
    "BT = TE(3,0,1,-1,BT)\n",
    "show(BT)"
   ]
  },
  {
   "cell_type": "code",
   "execution_count": null,
   "metadata": {},
   "outputs": [],
   "source": [
    "BT = P(1,2,BT)\n",
    "show(BT)"
   ]
  },
  {
   "cell_type": "code",
   "execution_count": null,
   "metadata": {},
   "outputs": [],
   "source": [
    "BT = TE(0,1,-2,-1,BT)\n",
    "BT = TE(3,1,-2,2,BT)\n",
    "show(BT)"
   ]
  },
  {
   "cell_type": "code",
   "execution_count": null,
   "metadata": {},
   "outputs": [],
   "source": [
    "BT = TE(0,2,-2,2,BT)\n",
    "BT = TE(3,2,-2,-2,BT)\n",
    "show(BT)"
   ]
  },
  {
   "cell_type": "code",
   "execution_count": null,
   "metadata": {},
   "outputs": [],
   "source": [
    "BT = TE(0,3,4,2,BT)\n",
    "BT = TE(1,3,4,2,BT)\n",
    "BT = TE(2,3,4,2,BT)\n",
    "show(BT)"
   ]
  },
  {
   "cell_type": "code",
   "execution_count": null,
   "metadata": {},
   "outputs": [],
   "source": [
    "BT = S(0,4,BT)\n",
    "BT = S(1,-4,BT)\n",
    "BT = S(2,-4,BT)\n",
    "BT = S(3,4,BT)\n",
    "show(BT)"
   ]
  },
  {
   "cell_type": "code",
   "execution_count": null,
   "metadata": {},
   "outputs": [],
   "source": [
    "show(BT[:,[4,5,6,7]])"
   ]
  },
  {
   "cell_type": "markdown",
   "metadata": {},
   "source": [
    "La matriu $B$ és regular i la seva inversa és\n",
    "$$\n",
    "  B^{-1}=\\frac{1}{4}\n",
    "  \\left(\\begin{array}{rrrr}\n",
    "  1 &  1 &  1 &  1 \\\\\n",
    "  1 &  1 & -1 & -1 \\\\\n",
    "  1 & -1 &  1 & -1 \\\\\n",
    "  1 & -1 & -1 &  1\n",
    "  \\end{array}\\right)\\,.\n",
    "$$"
   ]
  },
  {
   "cell_type": "markdown",
   "metadata": {},
   "source": [
    "La manera més senzilla de calcular la inversa és"
   ]
  },
  {
   "cell_type": "code",
   "execution_count": null,
   "metadata": {},
   "outputs": [],
   "source": [
    "B = matrix([[1,1,1,1],[1,1,-1,-1],[1,-1,1,-1],[1,-1,-1,1]])\n",
    "show(B.inverse())"
   ]
  }
 ],
 "metadata": {
  "kernelspec": {
   "display_name": "SageMath 9.6",
   "language": "sage",
   "name": "sagemath"
  },
  "language_info": {
   "codemirror_mode": {
    "name": "ipython",
    "version": 3
   },
   "file_extension": ".py",
   "mimetype": "text/x-python",
   "name": "python",
   "nbconvert_exporter": "python",
   "pygments_lexer": "ipython3",
   "version": "3.11.1"
  }
 },
 "nbformat": 4,
 "nbformat_minor": 4
}
