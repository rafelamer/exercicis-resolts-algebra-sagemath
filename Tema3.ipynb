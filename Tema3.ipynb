{
 "cells": [
  {
   "cell_type": "markdown",
   "metadata": {},
   "source": [
    "# Tema 3"
   ]
  },
  {
   "cell_type": "code",
   "execution_count": null,
   "metadata": {},
   "outputs": [],
   "source": [
    "%load_ext asymagic"
   ]
  },
  {
   "cell_type": "markdown",
   "metadata": {},
   "source": [
    "## Exercici 1\n",
    "Calculeu la suma dels vectors $(1,-3,2)$ i $(0,1,3)$."
   ]
  },
  {
   "cell_type": "code",
   "execution_count": null,
   "metadata": {},
   "outputs": [],
   "source": [
    "u = vector([1,-3,2])\n",
    "v = vector([0,1,3])\n",
    "show(u+v)"
   ]
  },
  {
   "cell_type": "markdown",
   "metadata": {},
   "source": [
    "## Exercici 2\n",
    "Calculeu el producte de l'escalar $-3$ i el vector $(-1,2,3)$."
   ]
  },
  {
   "cell_type": "code",
   "execution_count": null,
   "metadata": {},
   "outputs": [],
   "source": [
    "u = vector([-1,2,3])\n",
    "show(-3*u)"
   ]
  },
  {
   "cell_type": "markdown",
   "metadata": {},
   "source": [
    "## Exercici 3\n",
    "Calculeu la combinació lineal dels vectors\n",
    "$$(-1,2,-2) \\,, \\qquad (3,-2,1) \\qquad \\text{i} \\qquad (-5,2,1)$$\n",
    "amb els escalars $3$, $2$ i $-1$, respectivament."
   ]
  },
  {
   "cell_type": "code",
   "execution_count": null,
   "metadata": {},
   "outputs": [],
   "source": [
    "u1 = vector([-1,2,-2])\n",
    "u2 = vector([3,-2,1])\n",
    "u3 = vector([-5,2,1])\n",
    "u = 3*u1+2*u2-u3\n",
    "show(u)"
   ]
  },
  {
   "cell_type": "markdown",
   "metadata": {},
   "source": [
    "## Exercici 4\n",
    "Determineu si el vector $(1,-1,1)$ és combinació lineal dels vectors del sistema \n",
    "$$\\{(2,-1,3),(-3,1,2),(7,-3,4)\\} \\,. $$"
   ]
  },
  {
   "cell_type": "markdown",
   "metadata": {},
   "source": [
    "Hem de comprovar si podem trobar coeficients $t_1$, $t_2$ i $t_3$ tals que\n",
    "$$\n",
    "  t_1(2,-1,3)+t_2(-3,1,2)+t_3(7,-3,4)=(1,-1,1)\\,.\n",
    "$$"
   ]
  },
  {
   "cell_type": "code",
   "execution_count": null,
   "metadata": {},
   "outputs": [],
   "source": [
    "t1, t2, t3 = var('t1 t2 t3')\n",
    "u1 = vector([2,-1,3])\n",
    "u2 = vector([-3,1,2])\n",
    "u3 = vector([7,-3,4])\n",
    "u = vector([1,-1,1])"
   ]
  },
  {
   "cell_type": "code",
   "execution_count": null,
   "metadata": {},
   "outputs": [],
   "source": [
    "cl = t1*u1+t2*u2+t3*u3\n",
    "show(cl)"
   ]
  },
  {
   "cell_type": "code",
   "execution_count": null,
   "metadata": {},
   "outputs": [],
   "source": [
    "## eqs = [cl[0]==u[0],cl[1]==u[1],cl[2]==u[2]]\n",
    "eqs = [cl[i] == u[i] for i in range(3)]\n",
    "show(eqs)"
   ]
  },
  {
   "cell_type": "code",
   "execution_count": null,
   "metadata": {},
   "outputs": [],
   "source": [
    "solve(eqs,[t1,t2,t3])"
   ]
  },
  {
   "cell_type": "markdown",
   "metadata": {},
   "source": [
    "El sistema d'equacions és incompatible, per tant el vector $(1,-1,1)$ no és combinació lineal dels vectors $(2,-1,3)$, $(-3,1,2)$ i $(7,-3,4)$."
   ]
  },
  {
   "cell_type": "markdown",
   "metadata": {},
   "source": [
    "## Exercici 5\n",
    "Analitzeu si el vectors de $V_3$\n",
    "$$(4,0,-5) \\,, \\qquad (2,-1,-3) \\qquad \\text{i} \\qquad (0,2,1)$$\n",
    "són linealment dependents i, en cas afirmatiu, determineu una relació de dependència lineal entre ells."
   ]
  },
  {
   "cell_type": "markdown",
   "metadata": {},
   "source": [
    "Hem de veure si és possible trobar uns coeficients $t_1$, $t_2$ i $t_3$ tals que\n",
    "$$\n",
    "  t_1\\vec u_1 + t_2\\vec u_2 +t_3\\vec u_3 = \\vec 0\\,.\n",
    "$$"
   ]
  },
  {
   "cell_type": "code",
   "execution_count": null,
   "metadata": {},
   "outputs": [],
   "source": [
    "u1 = vector([4,0,-5])\n",
    "u2 = vector([2,-1,-3])\n",
    "u3 = vector([0,2,1])"
   ]
  },
  {
   "cell_type": "code",
   "execution_count": null,
   "metadata": {},
   "outputs": [],
   "source": [
    "cl = t1*u1+t2*u2+t3*u3\n",
    "eqs = [cl[i] == 0 for i in range(3)]\n",
    "show(eqs)"
   ]
  },
  {
   "cell_type": "code",
   "execution_count": null,
   "metadata": {},
   "outputs": [],
   "source": [
    "solve(eqs,[t1,t2,t3])"
   ]
  },
  {
   "cell_type": "markdown",
   "metadata": {},
   "source": [
    "El sistema és compatible indeterminat i els tres vectors són linealment dependents. A partir de la solució, escrivim una relació de dependència (prenent $r_1=1$)\n",
    "$$\n",
    "  -(4,0,-5)+2(2,-1,-3)+(0,2,1)=(0,0,0)\\,.\n",
    "$$"
   ]
  },
  {
   "cell_type": "markdown",
   "metadata": {},
   "source": [
    "## Exercici 6\n",
    "Determineu el rang del sistema de vectors\n",
    "$$\\{(-1,4,2),(3,0,-1),(-1,2,1)\\} \\,. $$"
   ]
  },
  {
   "cell_type": "code",
   "execution_count": null,
   "metadata": {},
   "outputs": [],
   "source": [
    "u1 = vector([-1,4,2])\n",
    "u2 = vector([3,0,-1])\n",
    "u3 = vector([-1,2,1])\n",
    "A = matrix([u1,u2,u3]).T\n",
    "show(A)"
   ]
  },
  {
   "cell_type": "code",
   "execution_count": null,
   "metadata": {},
   "outputs": [],
   "source": [
    "A.rank()"
   ]
  },
  {
   "cell_type": "markdown",
   "metadata": {},
   "source": [
    "El rang és 3. Per tant, els tres vectors són linealment independents."
   ]
  },
  {
   "cell_type": "markdown",
   "metadata": {},
   "source": [
    "## Exercici 7\n",
    "Comproveu que el conjunt definit per generadors\n",
    "$$V=\\langle (3,5,1),(1,3,3),(3,2,-5),(2,3,0) \\rangle$$\n",
    "és un pla vectorial de $V_3$ i determineu una base i una equació implícita minimal seva."
   ]
  },
  {
   "cell_type": "markdown",
   "metadata": {},
   "source": [
    "Hem de veure que el conjunt de totes les combinacions lineals d'aquests vectors formen un pla vectorial."
   ]
  },
  {
   "cell_type": "code",
   "execution_count": null,
   "metadata": {},
   "outputs": [],
   "source": [
    "u1 = vector([3,5,1])\n",
    "u2 = vector([1,3,3])\n",
    "u3 = vector([3,2,-5])\n",
    "u4 = vector([2,3,0])\n",
    "A = matrix([u1,u2,u3,u4]).T\n",
    "show(A)"
   ]
  },
  {
   "cell_type": "code",
   "execution_count": null,
   "metadata": {},
   "outputs": [],
   "source": [
    "A.rank()"
   ]
  },
  {
   "cell_type": "markdown",
   "metadata": {},
   "source": [
    "Com que el rang és 2, els quatre vectors estan continguts en un pla. Com a base d'aquest pla podem agafar els dos primers vectors, és a dir, es tracta del pla generat pels vectors $(3,5,1)$ i $(1,3,3)$.\n",
    "\n",
    "L'equació implícita del pla és"
   ]
  },
  {
   "cell_type": "code",
   "execution_count": null,
   "metadata": {},
   "outputs": [],
   "source": [
    "x, y, z = var('x y z')\n",
    "u = vector([x,y,z])\n",
    "A = matrix([u1,u2,u]).T\n",
    "show(A)"
   ]
  },
  {
   "cell_type": "code",
   "execution_count": null,
   "metadata": {},
   "outputs": [],
   "source": [
    "show(A.det() == 0)"
   ]
  },
  {
   "cell_type": "markdown",
   "metadata": {},
   "source": [
    "Si simplifiquem per 4, ens queda l'equació\n",
    "$$\n",
    "  3x-2y+z=0\\,.\n",
    "$$"
   ]
  },
  {
   "cell_type": "markdown",
   "metadata": {},
   "source": [
    "## Exercici 8\n",
    "Comproveu que el conjunt definit per les solucions de les equacions implícites\n",
    "$$V: \\, \\left. \\begin{aligned} 2x-y+5z&=0\\\\\n",
    "                              4x-2y+7z&=0\\\\\n",
    "                                2x-y+z&=0\n",
    "               \\end{aligned} \\, \\right\\}\n",
    "$$\n",
    "és una recta vectorial de $V_3$ i trobeu-ne unes equacions implícites minimals i una base."
   ]
  },
  {
   "cell_type": "code",
   "execution_count": null,
   "metadata": {},
   "outputs": [],
   "source": [
    "solve([2*x-y+5*z==0,4*x-2*y+7*z==0,2*x-y+z==0],[x,y,z])"
   ]
  },
  {
   "cell_type": "markdown",
   "metadata": {},
   "source": [
    "La solució d'aquest sistema és\n",
    "$$\\left.\\begin{aligned} \n",
    "  x &= \\frac{t}{2}\\\\\n",
    "  y &= t \\\\\n",
    "  z &= 0\n",
    "  \\end{aligned}\\right\\}\\,,\n",
    "$$\n",
    "és a dir, els vectors de la forma $\\left(\\frac{t}{2},t,0\\right)=t\\left(\\frac{1}{2},1,0\\right)$. Així doncs, el vector $(1,2,0)$ és una base de la recta vectorial."
   ]
  },
  {
   "cell_type": "markdown",
   "metadata": {},
   "source": [
    "Pel que fa al sistema d'equacions, calculem el rang de la seva matriu dels coeficients de les incògnites."
   ]
  },
  {
   "cell_type": "code",
   "execution_count": null,
   "metadata": {},
   "outputs": [],
   "source": [
    "A = matrix([[2,-1,5],[4,-2,5],[2,-1,0]])\n",
    "A.rank()"
   ]
  },
  {
   "cell_type": "markdown",
   "metadata": {},
   "source": [
    "Veiem que les dues primeres equacions del sistema són linealment independents i la tercera és combinació lineal de les dues primeres. Unes equacions implícites minimals (linealment independents) seràn\n",
    "$$\n",
    "  \\left. \\begin{aligned} \n",
    "  2x-y+5z&=0\\\\\n",
    "  4x-2y+7z&=0\n",
    "  \\end{aligned}\\right\\}\\,.\n",
    "$$"
   ]
  },
  {
   "cell_type": "markdown",
   "metadata": {
    "tags": []
   },
   "source": [
    "## Exercici 9\n",
    "Determineu quins dels sistemes següents són base de $V_3$ i, en cas afirmatiu, trobeu la seva orientació:\n",
    "1. $\\{(-2,3,-1),(1,2,5),(-3,2,9)\\}$;\n",
    "1. $\\{(-1,1,-1),(8,-7,6),(8,-3,-2)\\}$;\n",
    "1. $\\{(-1,5,-4),(5,0,1),(2,-2,-3)\\}$."
   ]
  },
  {
   "cell_type": "code",
   "execution_count": null,
   "metadata": {},
   "outputs": [],
   "source": [
    "A = matrix([[-2,3,-1],[1,2,5],[-3,2,9]]).T\n",
    "show(A)"
   ]
  },
  {
   "cell_type": "code",
   "execution_count": null,
   "metadata": {},
   "outputs": [],
   "source": [
    "show(A.det())"
   ]
  },
  {
   "cell_type": "markdown",
   "metadata": {},
   "source": [
    "És base amb orientació negativa."
   ]
  },
  {
   "cell_type": "code",
   "execution_count": null,
   "metadata": {},
   "outputs": [],
   "source": [
    "A = matrix([[-1,1,-1],[8,-7,6],[8,-3,-2]]).T\n",
    "show(A)"
   ]
  },
  {
   "cell_type": "code",
   "execution_count": null,
   "metadata": {},
   "outputs": [],
   "source": [
    "show(A.det())"
   ]
  },
  {
   "cell_type": "markdown",
   "metadata": {},
   "source": [
    "No és base."
   ]
  },
  {
   "cell_type": "code",
   "execution_count": null,
   "metadata": {},
   "outputs": [],
   "source": [
    "A = matrix([[-1,5,-4],[5,0,1],[2,-2,-3]]).T\n",
    "show(A)"
   ]
  },
  {
   "cell_type": "code",
   "execution_count": null,
   "metadata": {},
   "outputs": [],
   "source": [
    "show(A.det())"
   ]
  },
  {
   "cell_type": "markdown",
   "metadata": {},
   "source": [
    "És base amb orientació positiva."
   ]
  },
  {
   "cell_type": "markdown",
   "metadata": {},
   "source": [
    "## Exercici 10\n",
    "Representeu gràficament el vector que en la base $\\mathcal{B}'=\\{((2,-1),(1,1)\\}$ té components $(-4,3)$, és a dir, $\\vec u=(-4,3)_{\\mathcal{B}'}$ i trobeu les seves components en la base canònica."
   ]
  },
  {
   "cell_type": "code",
   "execution_count": null,
   "metadata": {},
   "outputs": [],
   "source": [
    "%%asy --fmt svg\n",
    "import geometry;\n",
    "import coordenades;\n",
    "import graph;\n",
    "\n",
    "unitsize(1cm);\n",
    "pair o = (0,0),\n",
    "     u = (-4,3);\n",
    "\n",
    "Canonica(-10,10,-10,10);\n",
    "picture p = Coordenades(-5,5,-8,8,color=red,tickx=0.12,ticky=0.1,base=true,quadricula=false);\n",
    "draw(p,o--u,blue+linewidth(0.55mm),Arrow(8));\n",
    "draw(p,(u.x,0)--u--(0,u.y),linetype(\"8 8 8 8\")+linewidth(0.1mm)+red);\n",
    "transform tr = Base((2,-1),(1,1));\n",
    "add(tr*p);"
   ]
  },
  {
   "cell_type": "markdown",
   "metadata": {},
   "source": [
    "Les coordenades del vector $\\vec u$ en la base canònica seran "
   ]
  },
  {
   "cell_type": "code",
   "execution_count": null,
   "metadata": {},
   "outputs": [],
   "source": [
    "u1 = vector([2,-1])\n",
    "u2 = vector([1,1])\n",
    "u = -4*u1+3*u2\n",
    "show(u)"
   ]
  },
  {
   "cell_type": "markdown",
   "metadata": {},
   "source": [
    "és a dir, $\\vec u=(-4,3)_{\\mathcal{B}'}=(-5,7)$."
   ]
  },
  {
   "cell_type": "markdown",
   "metadata": {},
   "source": [
    "## Exercici 11\n",
    "Determineu el vector que té components $(1,-2,1)$ en la base\n",
    "$$\n",
    "  \\mathcal{B}'=\\{(3,-1,1),(2,1,0),(-1,2,4)\\} \\,. \n",
    "$$"
   ]
  },
  {
   "cell_type": "markdown",
   "metadata": {},
   "source": [
    "Observem que també podríem escriure $\\vec u=(1,-2,1)_{\\mathcal{B}'}$. Aleshores, $\\vec u=1(3,-1,1)-2(2,1,0)+1(-1,2,4)$."
   ]
  },
  {
   "cell_type": "code",
   "execution_count": null,
   "metadata": {},
   "outputs": [],
   "source": [
    "u1 = vector([3,-1,1])\n",
    "u2 = vector([2,1,0])\n",
    "u3 = vector([-1,2,4])\n",
    "u = u1-2*u2+u3\n",
    "show(u)"
   ]
  },
  {
   "cell_type": "markdown",
   "metadata": {},
   "source": [
    "Les components del vector $\\vec u$ en la base canònica són $(-2,-1,5)$, és a dir, $\\vec u=(-2,-1,5)$."
   ]
  },
  {
   "cell_type": "markdown",
   "metadata": {},
   "source": [
    "## Exercici 12\n",
    "Calculeu les components del vector $\\vec u=(-2,2,-10)$ en la base\n",
    "$$\\mathcal{B}'=\\{(1,2,-1),(2,1,-2),(3,2,1)\\} \\,. $$"
   ]
  },
  {
   "cell_type": "markdown",
   "metadata": {},
   "source": [
    "Hem de trobar els coeficients $x'$, $y'$ i $z'$ tals que\n",
    "$$\n",
    "  (-2,2,-10)=x'(1,2,-1) + y'(2,1,-2) + z'(3,2,1)\\,.\n",
    "$$\n",
    "**Observació**: Com a variables o incògnites $x'$, $y'$ i $z'$, farem servir x1, y1 i z1."
   ]
  },
  {
   "cell_type": "code",
   "execution_count": null,
   "metadata": {},
   "outputs": [],
   "source": [
    "x1, y1, z1 = var('x1 y1 z1')\n",
    "u1 = vector([1,2,-1])\n",
    "u2 = vector([2,1,-2])\n",
    "u3 = vector([3,2,1])\n",
    "u = vector([-2,2,-10])"
   ]
  },
  {
   "cell_type": "code",
   "execution_count": null,
   "metadata": {},
   "outputs": [],
   "source": [
    "cl = x1*u1 + y1*u2 + z1*u3\n",
    "eqs = [cl[i] == u[i] for i in range(3)]\n",
    "show(eqs)"
   ]
  },
  {
   "cell_type": "code",
   "execution_count": null,
   "metadata": {},
   "outputs": [],
   "source": [
    "show(solve(eqs,[x1,y1,z1]))"
   ]
  },
  {
   "cell_type": "markdown",
   "metadata": {},
   "source": [
    "Les components del vector $\\vec u=(-2,2,-1)$ en la base $\\mathcal{B}'$ són $(3,2,-3)$, és a dir,\n",
    "$$\n",
    "  \\vec u=(-2,2,-1)=(3,2,-3)_{\\mathcal{B}'}\\,.\n",
    "$$"
   ]
  },
  {
   "cell_type": "markdown",
   "metadata": {},
   "source": [
    "## Exercici 13\n",
    "Les equacions d'una recta de $V_3$ en la base canònica són\n",
    "$$\n",
    "  \\left.\\begin{aligned} \n",
    "    x+3y-z&=0\\\\\n",
    "   -2x+y+3z&=0\n",
    "  \\end{aligned}\\right\\}\\,.\n",
    "$$\n",
    "1. Calculeu la matriu de canvi de base de la base $\\mathcal{B}'=\\{(1,1,1),(2,3,3),(1,2,0)\\}$ a la base canònica i escriviu la corresponent fórmula del canvi de base.\n",
    "2. Determineu les equacions de la recta anterior en la base $\\mathcal{B}'$."
   ]
  },
  {
   "cell_type": "markdown",
   "metadata": {},
   "source": [
    "La matriu del canvi de base de base de la base $\\mathcal{B}'=\\{(1,1,1),(2,3,3),(1,2,0)\\}$ a la base canònica és\n",
    "$$\n",
    "  C=\\left(\\begin{array}{rrr}\n",
    "  1 & 2 & 1 \\\\\n",
    "  1 & 3 & 2 \\\\\n",
    "  1 & 3 & 0\n",
    "  \\end{array}\\right) \n",
    "$$\n",
    "i l'expressió o fórmula del canvi de base de $\\mathcal{B}'$ a $\\mathcal{B}_c$ és\n",
    "$$\n",
    "  \\left(\\begin{array}{c} x \\\\ y \\\\ z\\end{array}\\right) \n",
    "  =\\left(\\begin{array}{rrr}\n",
    "  1 & 2 & 1 \\\\\n",
    "  1 & 3 & 2 \\\\\n",
    "  1 & 3 & 0\n",
    "  \\end{array}\\right) \n",
    "  \\left(\\begin{array}{c} x' \\\\ y' \\\\ z'\\end{array}\\right)\\,. \n",
    "$$"
   ]
  },
  {
   "cell_type": "markdown",
   "metadata": {},
   "source": [
    "D'altra banda, les equacions implícites de la recta es poden escriure en forma matricial\n",
    "$$\n",
    "  \\left(\\begin{array}{rrr}\n",
    "   1 & 3 & -1 \\\\\n",
    "  -2 & 1 & 3\n",
    "  \\end{array}\\right) \n",
    "  \\left(\\begin{array}{c} x \\\\ y \\\\ z\\end{array}\\right)\n",
    "  =\\left(\\begin{array}{c} 0 \\\\ 0\\end{array}\\right)\\,.\n",
    "$$\n",
    "Si substituim, tindrem les equacions de la recta en la recta $\\mathcal{B}'$:\n",
    "$$\n",
    "  \\left(\\begin{array}{rrr}\n",
    "   1 & 3 & -1 \\\\\n",
    "  -2 & 1 & 3\n",
    "  \\end{array}\\right)\n",
    "  \\left(\\begin{array}{rrr}\n",
    "  1 & 2 & 1 \\\\\n",
    "  1 & 3 & 2 \\\\\n",
    "  1 & 3 & 0\n",
    "  \\end{array}\\right) \n",
    "  \\left(\\begin{array}{c} x' \\\\ y' \\\\ z'\\end{array}\\right)\n",
    "  =\\left(\\begin{array}{c} 0 \\\\ 0\\end{array}\\right)\\,.\n",
    "$$"
   ]
  },
  {
   "cell_type": "code",
   "execution_count": null,
   "metadata": {},
   "outputs": [],
   "source": [
    "A = matrix([[1,3,-1],[-2,1,3]])\n",
    "C = matrix([[1,2,1],[1,3,2],[1,3,0]])\n",
    "show(A * C)"
   ]
  },
  {
   "cell_type": "markdown",
   "metadata": {},
   "source": [
    "Les equacions de la recta en la base $\\mathcal{B}'$ són\n",
    "$$\n",
    "  \\left(\\begin{array}{rrr}\n",
    "   3 & 8 & 7 \\\\\n",
    "   2 & 8 & 0\n",
    "  \\end{array}\\right) \n",
    "  \\left(\\begin{array}{c} x' \\\\ y' \\\\ z'\\end{array}\\right)\n",
    "  =\\left(\\begin{array}{c} 0 \\\\ 0\\end{array}\\right)\\,.\n",
    "  \\qquad\\text{o bé}\\qquad\n",
    "  \\left.\\begin{aligned} \n",
    "    3x'+8y'+7z'&=0\\\\\n",
    "   x'+4y'&=0\n",
    "  \\end{aligned}\\right\\}\\,.\n",
    "$$"
   ]
  },
  {
   "cell_type": "markdown",
   "metadata": {
    "tags": []
   },
   "source": [
    "## Exercici 14\n",
    "L'equació d'un pla vectorial de $V_3$ en la base $\\mathcal{B}'=\\{(1,1,1),(1,2,2),(-1,-1,0)\\}$ és\n",
    "$$x'-2y'-3z'=0 \\,. $$\n",
    "1. Calculeu la matriu de canvi de base de la base canònica a la base $\\mathcal{B}'$ i escriviu la corresponent fórmula de canvi de base.\n",
    "1. Determineu l'equació del pla anterior en la base canònica."
   ]
  },
  {
   "cell_type": "markdown",
   "metadata": {},
   "source": [
    "La matriu del canvi de base de la base $\\mathcal{B}'$ a la base canònica és\n",
    "$$\n",
    "  C=\\left(\\begin{array}{rrr}\n",
    "  1 & 1 & -1 \\\\\n",
    "  1 & 2 & -1 \\\\\n",
    "  1 & 2 & 0\n",
    "  \\end{array}\\right)\\,, \n",
    "$$\n",
    "aleshores, la matriu del canvi de base de la base caǹonica a $\\mathcal{B}'$ és $C^{-1}$."
   ]
  },
  {
   "cell_type": "code",
   "execution_count": null,
   "metadata": {},
   "outputs": [],
   "source": [
    "C = matrix([[1,1,-1],[1,2,-1],[1,2,0]])\n",
    "show(C.inverse())"
   ]
  },
  {
   "cell_type": "markdown",
   "metadata": {},
   "source": [
    "L'expressió o fórmula del canvi de base de $\\mathcal{B}_c$ a $\\mathcal{B}'$ és\n",
    "$$\n",
    "  \\left(\\begin{array}{c} x' \\\\ y' \\\\ z'\\end{array}\\right) \n",
    "  =\\left(\\begin{array}{rrr}\n",
    "   2 & -2 & 1 \\\\\n",
    "  -1 &  1 & 0 \\\\\n",
    "   0 & -1 & 1\n",
    "  \\end{array}\\right) \n",
    "  \\left(\\begin{array}{c} x \\\\ y \\\\ z\\end{array}\\right)\\,. \n",
    "$$"
   ]
  },
  {
   "cell_type": "markdown",
   "metadata": {},
   "source": [
    "L'equació del pla en la base $\\mathcal{B}'$ es pot escriure en forma matricial com a \n",
    "$$ \n",
    "  \\left(\\begin{array}{rrr}\n",
    "   1 & -2 & -3\n",
    "  \\end{array}\\right)\n",
    "  \\left(\\begin{array}{c} x' \\\\ y' \\\\ z'\\end{array}\\right)=0\\,.\n",
    "$$\n",
    "Si substituim, tindrem les equacions del pla en la recta $\\mathcal{B}_c$:\n",
    "$$\n",
    "  \\left(\\begin{array}{rrr}\n",
    "   1 & -2 & -3\n",
    "  \\end{array}\\right)\n",
    "  \\left(\\begin{array}{rrr}\n",
    "   2 & -2 & 1 \\\\\n",
    "  -1 &  1 & 0 \\\\\n",
    "   0 & -1 & 1\n",
    "  \\end{array}\\right) \n",
    "  \\left(\\begin{array}{c} x \\\\ y \\\\ z\\end{array}\\right) = 0\\,.\n",
    "$$"
   ]
  },
  {
   "cell_type": "code",
   "execution_count": null,
   "metadata": {},
   "outputs": [],
   "source": [
    "A = matrix([[1,-2,-3]])\n",
    "show(A * C.inverse())"
   ]
  },
  {
   "cell_type": "markdown",
   "metadata": {},
   "source": [
    "Així doncs, l'equació del pla en la base canònica és\n",
    "$$\n",
    "  4x-y-2z=0\\,.\n",
    "$$"
   ]
  },
  {
   "cell_type": "markdown",
   "metadata": {},
   "source": [
    "## Exercici 15\n",
    "L'equació d'un pla de $V_3$ en la base $\\mathcal{B}'=\\{(1,1,1),(0,1,1),(0,0,1)\\}$ és\n",
    "$$\n",
    "  2x'+y'-z'=0 \\,.\n",
    "$$\n",
    "1. Calculeu la matriu de canvi de base de la base $\\mathcal{B}''=\\{(1,2,1),(2,1,1),(1,1,2)\\}$ a la base $\\mathcal{B}'$ i escriviu la corresponent fórmula de canvi de base.\n",
    "1. Calculeu l'equació del pla anterior en la base $\\mathcal{B}''$."
   ]
  },
  {
   "cell_type": "markdown",
   "metadata": {},
   "source": [
    "La matriu del canvi de base de base de la base $\\mathcal{B}'=\\{(1,1,1),(0,1,1),(0,0,1)\\}$ a la base canònica és\n",
    "$$\n",
    "  C=\\left(\\begin{array}{rrr}\n",
    "  1 & 0 & 0 \\\\\n",
    "  1 & 1 & 0 \\\\\n",
    "  1 & 1 & 1\n",
    "  \\end{array}\\right) \n",
    "$$\n",
    "i l'expressió o fórmula d'aquest canvi de base és\n",
    "$$\n",
    "  \\left(\\begin{array}{c} x \\\\ y \\\\ z\\end{array}\\right) \n",
    "  =\\left(\\begin{array}{rrr}\n",
    "  1 & 0 & 0 \\\\\n",
    "  1 & 1 & 0 \\\\\n",
    "  1 & 1 & 1\n",
    "  \\end{array}\\right) \n",
    "  \\left(\\begin{array}{c} x' \\\\ y' \\\\ z'\\end{array}\\right)\\,. \n",
    "$$"
   ]
  },
  {
   "cell_type": "markdown",
   "metadata": {},
   "source": [
    "La matriu del canvi de base de base de la base $\\mathcal{B}''=\\{(1,2,1),(2,1,1),(1,1,2)\\}$ a la base canònica és\n",
    "$$\n",
    "  D=\\left(\\begin{array}{rrr}\n",
    "  1 & 2 & 1 \\\\\n",
    "  2 & 1 & 1 \\\\\n",
    "  1 & 1 & 2\n",
    "  \\end{array}\\right) \n",
    "$$\n",
    "i l'expressió o fórmula d'aquest segon canvi de base és\n",
    "$$\n",
    "  \\left(\\begin{array}{c} x \\\\ y \\\\ z\\end{array}\\right) \n",
    "  =\\left(\\begin{array}{rrr}\n",
    "  1 & 2 & 1 \\\\\n",
    "  2 & 1 & 1 \\\\\n",
    "  1 & 1 & 2\n",
    "  \\end{array}\\right) \n",
    "  \\left(\\begin{array}{c} x'' \\\\ y'' \\\\ z''\\end{array}\\right)\\,. \n",
    "$$"
   ]
  },
  {
   "cell_type": "markdown",
   "metadata": {},
   "source": [
    "Per tant,\n",
    "$$\n",
    "  \\left(\\begin{array}{rrr}\n",
    "  1 & 0 & 0 \\\\\n",
    "  1 & 1 & 0 \\\\\n",
    "  1 & 1 & 1\n",
    "  \\end{array}\\right) \n",
    "  \\left(\\begin{array}{c} x' \\\\ y' \\\\ z'\\end{array}\\right)\n",
    "  =\\left(\\begin{array}{rrr}\n",
    "  1 & 2 & 1 \\\\\n",
    "  2 & 1 & 1 \\\\\n",
    "  1 & 1 & 2\n",
    "  \\end{array}\\right) \n",
    "  \\left(\\begin{array}{c} x'' \\\\ y'' \\\\ z''\\end{array}\\right)\n",
    "$$\n",
    "i, si aïllem $(x',y',z')$, tenim que\n",
    "$$\n",
    "  \\left(\\begin{array}{c} x' \\\\ y' \\\\ z'\\end{array}\\right)\n",
    "  =\\left(\\begin{array}{rrr}\n",
    "  1 & 0 & 0 \\\\\n",
    "  1 & 1 & 0 \\\\\n",
    "  1 & 1 & 1\n",
    "  \\end{array}\\right)^{-1}\n",
    "  \\left(\\begin{array}{rrr}\n",
    "  1 & 2 & 1 \\\\\n",
    "  2 & 1 & 1 \\\\\n",
    "  1 & 1 & 2\n",
    "  \\end{array}\\right) \n",
    "  \\left(\\begin{array}{c} x'' \\\\ y'' \\\\ z''\\end{array}\\right)\\,.\n",
    "$$"
   ]
  },
  {
   "cell_type": "code",
   "execution_count": null,
   "metadata": {},
   "outputs": [],
   "source": [
    "C = matrix([[1,0,0],[1,1,0],[1,1,1]])\n",
    "D = matrix([[1,2,1],[2,1,1],[1,1,2]])\n",
    "E = C.inverse() * D\n",
    "show(E)"
   ]
  },
  {
   "cell_type": "markdown",
   "metadata": {},
   "source": [
    "La matriu del canvi de base de $\\mathcal{B}''$ a $\\mathcal{B}'$ és\n",
    "$$\n",
    "  E=\\left(\\begin{array}{rrr}\n",
    "  -1 &  2 & 1 \\\\\n",
    "  -1 & -1 & 0 \\\\\n",
    "  -1 &  0 & 1\n",
    "  \\end{array}\\right) \n",
    "$$\n",
    "i l'expressió del canvi de base de $\\mathcal{B}''$ a $\\mathcal{B}'$\n",
    "$$\n",
    "  \\left(\\begin{array}{c} x' \\\\ y' \\\\ z'\\end{array}\\right)\n",
    "  =\\left(\\begin{array}{rrr}\n",
    "   1 &  2 & 1 \\\\\n",
    "   1 & -1 & 0 \\\\\n",
    "  -1 &  0 & 1\n",
    "  \\end{array}\\right) \n",
    "  \\left(\\begin{array}{c} x'' \\\\ y'' \\\\ z''\\end{array}\\right)\\,.\n",
    "$$"
   ]
  },
  {
   "cell_type": "markdown",
   "metadata": {},
   "source": [
    "L'equació del pla en la $\\mathcal{B}'$ es pot escriure en forma matricial\n",
    "$$\n",
    "  \\left(\\begin{array}{rrr} 2 & 1 & -1\\end{array}\\right)\n",
    "  \\left(\\begin{array}{c} x' \\\\ y' \\\\ z'\\end{array}\\right) = 0\\,.\n",
    "$$\n",
    "Substituint, tindrem l'equació del pla en la base $\\mathcal{B}''$:\n",
    "$$\n",
    "  \\left(\\begin{array}{rrr} 2 & 1 & -1\\end{array}\\right)\n",
    "  \\left(\\begin{array}{rrr}\n",
    "   1 &  2 & 1 \\\\\n",
    "   1 & -1 & 0 \\\\\n",
    "  -1 &  0 & 1\n",
    "  \\end{array}\\right) \n",
    "  \\left(\\begin{array}{c} x'' \\\\ y'' \\\\ z''\\end{array}\\right) = 0\\,.\n",
    "$$"
   ]
  },
  {
   "cell_type": "code",
   "execution_count": null,
   "metadata": {},
   "outputs": [],
   "source": [
    "A = matrix([[2,1,-1]])\n",
    "show(A * E)"
   ]
  },
  {
   "cell_type": "markdown",
   "metadata": {},
   "source": [
    "L'equació del pla en la base $\\mathcal{B}''$ és\n",
    "$$\n",
    "  4x''+3y''+z''=0\\,.\n",
    "$$"
   ]
  },
  {
   "cell_type": "markdown",
   "metadata": {},
   "source": [
    "## Exercici 16\n",
    "L'equació implícita del pla vectorial $P$ és $x-2y+3z=0$. Calculeu la seva equació en la base $\\mathcal{B}'=\\{(-2,1,1),(1,-1,2),(-1,1,-1)\\}$."
   ]
  },
  {
   "cell_type": "markdown",
   "metadata": {},
   "source": [
    "L'expressió o fórmula del canvi de base de $\\mathcal{B}'$ a la base canònica és\n",
    "$$\n",
    "  \\left(\\begin{array}{c} x \\\\ y \\\\ z\\end{array}\\right) \n",
    "  =\\left(\\begin{array}{rrr}\n",
    "  -2 &  1 & -1 \\\\\n",
    "   1 & -1 &  1 \\\\\n",
    "   1 &  2 & -1\n",
    "  \\end{array}\\right) \n",
    "  \\left(\\begin{array}{c} x' \\\\ y' \\\\ z'\\end{array}\\right)\n",
    "$$\n",
    "i l'equació del pla $P$ (en la base canònica) es pot escriure com a\n",
    "$$\n",
    "  \\left(\\begin{array}{rrr}\n",
    "   1 & -2 & 3\n",
    "  \\end{array}\\right)\n",
    "  \\left(\\begin{array}{c} x \\\\ y \\\\ z\\end{array}\\right) = 0\\,.\n",
    "$$"
   ]
  },
  {
   "cell_type": "markdown",
   "metadata": {},
   "source": [
    "Aleshores, l'equació de $P$ en la base $\\mathcal{B}'$ serà\n",
    "$$\n",
    "  \\left(\\begin{array}{rrr}\n",
    "   1 & -2 & 3\n",
    "  \\end{array}\\right)\n",
    "  \\left(\\begin{array}{rrr}\n",
    "  -2 &  1 & -1 \\\\\n",
    "   1 & -1 &  1 \\\\\n",
    "   1 &  2 & -1\n",
    "  \\end{array}\\right) \n",
    "  \\left(\\begin{array}{c} x' \\\\ y' \\\\ z'\\end{array}\\right)=0\\,.\n",
    "$$"
   ]
  },
  {
   "cell_type": "code",
   "execution_count": null,
   "metadata": {},
   "outputs": [],
   "source": [
    "u1 = vector([-2,1,1])\n",
    "u2 = vector([1,-1,2])\n",
    "u3 = vector([-1,1,-1])\n",
    "C = matrix([u1,u2,u3]).T\n",
    "show(C)"
   ]
  },
  {
   "cell_type": "code",
   "execution_count": null,
   "metadata": {},
   "outputs": [],
   "source": [
    "x1, y1, z1 = var('x1 y1 z1')\n",
    "X1 = vector([x1,y1,z1])\n",
    "A = vector([1,-2,3])\n",
    "eq = A * C * X1 == 0\n",
    "show(eq)"
   ]
  },
  {
   "cell_type": "markdown",
   "metadata": {},
   "source": [
    "Si canviem de signe, tenim que l'equació de $P$ en la base $\\mathcal{B}'$ és $x'-9y'+6z'=0$."
   ]
  },
  {
   "cell_type": "markdown",
   "metadata": {
    "tags": []
   },
   "source": [
    "## Exercici 17\n",
    "Representeu la recta vectorial que en la base $\\mathcal{B}'=\\{(1,1),(-2,1)\\}$ té equació $2x'-3y'=0$. Quina és la seva equació en la base canònica?"
   ]
  },
  {
   "cell_type": "markdown",
   "metadata": {},
   "source": [
    "El vector $\\vec u=(3,2)_{\\mathcal{B}'}$ és un generador de la recta vectorial. Aleshores, la representació gràfica és"
   ]
  },
  {
   "cell_type": "code",
   "execution_count": null,
   "metadata": {},
   "outputs": [],
   "source": [
    "%%asy --fmt svg\n",
    "import geometry;\n",
    "import coordenades;\n",
    "import graph;\n",
    "\n",
    "unitsize(1cm);\n",
    "pair o = (0,0),\n",
    "     u = (3,2);\n",
    "\n",
    "Canonica(-10,10,-10,10);\n",
    "picture p = Coordenades(-8,8,-5,5,color=red,tickx=0.08,base=true,quadricula=false);\n",
    "draw(p,o--u,blue+linewidth(0.55mm),Arrow(8));\n",
    "draw(p,-2*u--2*u,blue+linewidth(0.25mm));\n",
    "transform tr = Base((1,1),(-2,1));\n",
    "draw(p,(u.x,0)--u--(0,u.y),linetype(\"8 8 8 8\")+linewidth(0.1mm)+red);\n",
    "add(tr*p);"
   ]
  },
  {
   "cell_type": "markdown",
   "metadata": {},
   "source": [
    "El canvi de base de la base $\\mathcal{B}'$ a la base canònica ve donat per\n",
    "$$\n",
    "  \\left(\\begin{array}{c} x \\\\ y \\end{array}\\right) \n",
    "  =\\left(\\begin{array}{rrr}\n",
    "  1 & -2 \\\\\n",
    "  1 &  1\n",
    "  \\end{array}\\right) \n",
    "  \\left(\\begin{array}{c} x' \\\\ y'\\end{array}\\right)\\,,\n",
    "$$\n",
    "i l'equació de la recta en la base $\\mathcal{B}'$ per\n",
    "$$\n",
    "  \\left(\\begin{array}{rr} 2 & -3 \\end{array}\\right) \n",
    "  \\left(\\begin{array}{c} x' \\\\ y'\\end{array}\\right)=0\\,.\n",
    "$$.\n",
    "Si aïllem $(x',y')$ i msubstituim, tindrem que\n",
    "$$\n",
    "  \\left(\\begin{array}{rr} 2 & -3 \\end{array}\\right)\n",
    "  \\left(\\begin{array}{rrr}\n",
    "  1 & -2 \\\\\n",
    "  1 &  1\n",
    "  \\end{array}\\right)^{-1}\n",
    "  \\left(\\begin{array}{c} x \\\\ y\\end{array}\\right)=0\\,.\n",
    "$$\n",
    "Aleshores, l'equació de la recta vectorial en la base canònica és"
   ]
  },
  {
   "cell_type": "code",
   "execution_count": null,
   "metadata": {},
   "outputs": [],
   "source": [
    "x, y = var('x y')\n",
    "B = vector([2,-3])\n",
    "C = matrix([[1,-2],[1,1]])\n",
    "X = vector([x,y])\n",
    "eq = B * C.inverse() * X == 0\n",
    "## show(eq)\n",
    "show(3*eq)"
   ]
  },
  {
   "cell_type": "markdown",
   "metadata": {},
   "source": [
    "L'equació de la recta vectorial en la base canònica és $5x+y=0$."
   ]
  },
  {
   "cell_type": "markdown",
   "metadata": {},
   "source": [
    "## Exercici 18\n",
    "Donades les bases $\\mathcal{B}'=\\{(-1,-2,2),(-1,2,-1),(1,1,-1)\\}$ i $\\mathcal{B}''=\\{(1,-2,1),(-3,-1,2),(-1,-1,1)\\}$, trobeu l'expressió del canvi de base de la base $\\mathcal{B}'$ a $\\mathcal{B}''$."
   ]
  },
  {
   "cell_type": "markdown",
   "metadata": {},
   "source": [
    "L'expressió del canvi de base de la base $\\mathcal{B}'$ a la base canònica és\n",
    "$$\n",
    "  \\left(\\begin{array}{c} x \\\\ y \\\\ z\\end{array}\\right) \n",
    "  =\\left(\\begin{array}{rrr}\n",
    "  -1 & -1 &  1 \\\\\n",
    "  -2 &  2 &  1 \\\\\n",
    "   2 & -1 & -1\n",
    "  \\end{array}\\right) \n",
    "  \\left(\\begin{array}{c} x' \\\\ y' \\\\ z'\\end{array}\\right)\n",
    "$$\n",
    "i l'expressió del canvi de base de la base $\\mathcal{B}''$ a la base canònica és\n",
    "$$\n",
    "  \\left(\\begin{array}{c} x \\\\ y \\\\ z\\end{array}\\right) \n",
    "  =\\left(\\begin{array}{rrr}\n",
    "   1 & -3 & -1 \\\\\n",
    "  -2 & -1 & -1 \\\\\n",
    "   1 &  2 &  1\n",
    "  \\end{array}\\right) \n",
    "  \\left(\\begin{array}{c} x'' \\\\ y'' \\\\ z''\\end{array}\\right)\\,.\n",
    "$$"
   ]
  },
  {
   "cell_type": "markdown",
   "metadata": {},
   "source": [
    "Aleshores, tindrem que\n",
    "$$\n",
    "  \\left(\\begin{array}{rrr}\n",
    "  -1 & -1 &  1 \\\\\n",
    "  -2 &  2 &  1 \\\\\n",
    "   2 & -1 & -1\n",
    "  \\end{array}\\right) \n",
    "  \\left(\\begin{array}{c} x' \\\\ y' \\\\ z'\\end{array}\\right)\n",
    "  =\\left(\\begin{array}{rrr}\n",
    "   1 & -3 & -1 \\\\\n",
    "  -2 & -1 & -1 \\\\\n",
    "   1 &  2 &  1\n",
    "  \\end{array}\\right) \n",
    "  \\left(\\begin{array}{c} x'' \\\\ y'' \\\\ z''\\end{array}\\right)\n",
    "$$\n",
    "i, si aïllem $(x'',y'',z'')$ en funció de $(x',y',z')$,\n",
    "$$\n",
    "  \\left(\\begin{array}{c} x'' \\\\ y'' \\\\ z''\\end{array}\\right)\n",
    "  =\\left(\\begin{array}{rrr}\n",
    "   1 & -3 & -1 \\\\\n",
    "  -2 & -1 & -1 \\\\\n",
    "   1 &  2 &  1\n",
    "  \\end{array}\\right)^{-1} \n",
    "  \\left(\\begin{array}{rrr}\n",
    "  -1 & -1 &  1 \\\\\n",
    "  -2 &  2 &  1 \\\\\n",
    "   2 & -1 & -1\n",
    "  \\end{array}\\right) \n",
    "  \\left(\\begin{array}{c} x' \\\\ y' \\\\ z'\\end{array}\\right)\\,.\n",
    "$$"
   ]
  },
  {
   "cell_type": "code",
   "execution_count": null,
   "metadata": {},
   "outputs": [],
   "source": [
    "u1 = vector([-1,-2,2])\n",
    "u2 = vector([-1,2,-1])\n",
    "u3 = vector([1,1,-1])\n",
    "v1 = vector([1,-2,1])\n",
    "v2 = vector([-3,-1,2])\n",
    "v3 = vector([-1,-1,1])"
   ]
  },
  {
   "cell_type": "code",
   "execution_count": null,
   "metadata": {},
   "outputs": [],
   "source": [
    "P = matrix([u1,u2,u3]).T\n",
    "Q = matrix([v1,v2,v3]).T\n",
    "C = Q.inverse() * P\n",
    "show(C)"
   ]
  },
  {
   "cell_type": "markdown",
   "metadata": {},
   "source": [
    "Per tant, el canvi de base de $\\mathcal{B}'$ a $\\mathcal{B}''$ ve donat per\n",
    "$$ \n",
    "  \\left(\\begin{array}{c} x'' \\\\ y'' \\\\ z''\\end{array}\\right)\n",
    "  =\\left(\\begin{array}{rrr}\n",
    "   1 & -1 &  0 \\\\\n",
    "   1 &  0 &  0 \\\\\n",
    "  -1 &  0 & -1\n",
    "  \\end{array}\\right) \n",
    "  \\left(\\begin{array}{c} x' \\\\ y' \\\\ z'\\end{array}\\right)\\,.\n",
    "$$"
   ]
  },
  {
   "cell_type": "markdown",
   "metadata": {},
   "source": [
    "## Exercici 19\n",
    "Trobeu una base $\\mathcal{B}'$ sabent que les components dels vectors $(-1,-2,-1)$, $(3,3,2)$ i $(-2,-3,-2)$ en aquesta base són\n",
    "$(0,1,3)_{\\mathcal{B}'}$, $(-1,-3,-7)_{\\mathcal{B}'}$ i $(0,1,4)_{\\mathcal{B}'}$"
   ]
  },
  {
   "cell_type": "markdown",
   "metadata": {},
   "source": [
    "L'expressió del canvi de base de la base $\\mathcal{B}'$ a la base canònica és\n",
    "$$\n",
    "  \\left(\\begin{array}{c} x \\\\ y\\\\ z \\end{array}\\right) \n",
    "  = C \\left(\\begin{array}{c} x' \\\\ y' \\\\ z' \\end{array}\\right)\\,,\n",
    "$$\n",
    "on $C$ és la matriu del canvi de base de $\\mathcal{B}'$ a $\\mathcal{B}_c$."
   ]
  },
  {
   "cell_type": "markdown",
   "metadata": {},
   "source": [
    "Alehores, tindrem que\n",
    "$$\n",
    "  \\left(\\begin{array}{r} -1 \\\\ -2\\\\ -1 \\end{array}\\right) \n",
    "  = C \\left(\\begin{array}{r} 0 \\\\ 1 \\\\ 3 \\end{array}\\right)\\,,\\qquad\n",
    "  \\left(\\begin{array}{r} 3 \\\\ 3\\\\ 2 \\end{array}\\right) \n",
    "  = C \\left(\\begin{array}{r} -1 \\\\ -3 \\\\ -7 \\end{array}\\right)\\qquad\\text{i}\\qquad\n",
    "  \\left(\\begin{array}{r} -2 \\\\ -3\\\\ -2 \\end{array}\\right) \n",
    "  = C \\left(\\begin{array}{r} 0 \\\\ 1 \\\\ 4 \\end{array}\\right)\n",
    "$$\n",
    "i, en conseqüència,\n",
    "$$\n",
    "  \\left(\\begin{array}{rrr}\n",
    "  -1 & 3 & -2 \\\\\n",
    "  -2 & 3 & -3 \\\\\n",
    "  -1 & 2 & -2\n",
    "  \\end{array}\\right)=\n",
    "  C\\left(\\begin{array}{rrr}\n",
    "  0 & -1 & 0 \\\\\n",
    "  1 & -3 & 1 \\\\\n",
    "  3 & -7 & 4\n",
    "  \\end{array}\\right)\\,.\n",
    "$$"
   ]
  },
  {
   "cell_type": "code",
   "execution_count": null,
   "metadata": {},
   "outputs": [],
   "source": [
    "u1 = vector([-1,-2,-1])\n",
    "u2 = vector([3,3,2])\n",
    "u3 = vector([-2,-3,-2])\n",
    "u11 = vector([0,1,3])\n",
    "u21 = vector([-1,-3,-7])\n",
    "u31 = vector([0,1,4])"
   ]
  },
  {
   "cell_type": "code",
   "execution_count": null,
   "metadata": {},
   "outputs": [],
   "source": [
    "P = matrix([u1,u2,u3]).T\n",
    "Q = matrix([u11,u21,u31]).T\n",
    "C = P * Q.inverse()\n",
    "show(C)"
   ]
  },
  {
   "cell_type": "markdown",
   "metadata": {},
   "source": [
    "Per tant, tenim que\n",
    "$$\n",
    "  \\mathcal{B}' = \\{(-2,1,-1),(2,1,2),(-1,-1,-1)\\}\\,.\n",
    "$$"
   ]
  },
  {
   "cell_type": "markdown",
   "metadata": {},
   "source": [
    "## Exercici 20\n",
    "Sigui $P$ el pla vectorial generat pels vectors $\\vec{v}_1$ i $\\vec{v}_2$ de components $(1,-1,2)$ i $(3,-1,-2)$\n",
    "en una base $\\mathcal{B}'$. Trobeu les equacions implícites de $P$ en la base $\\mathcal{B}'$."
   ]
  },
  {
   "cell_type": "markdown",
   "metadata": {},
   "source": [
    "L'equació implícita del pla vectorial en la base $\\mathcal{B}'$ és\n",
    "$$\n",
    "  \\left|\\begin{array}{rrr}\n",
    "   1 &  3 & x' \\\\\n",
    "  -1 & -1 & y' \\\\\n",
    "   2 & -2 & z'\n",
    "  \\end{array}\\right|=0\\,.\n",
    "$$"
   ]
  },
  {
   "cell_type": "code",
   "execution_count": null,
   "metadata": {},
   "outputs": [],
   "source": [
    "x1, y1, z1 = var('x1 y1 z1')\n",
    "A = matrix([[1,-1,2],[3,-1,-2],[x1,y1,z1]]).T\n",
    "eq = A.det() == 0\n",
    "show(eq)"
   ]
  },
  {
   "cell_type": "markdown",
   "metadata": {},
   "source": [
    "Si simplifiquem per $2$, tenim que l'equació implícita del pla vectorial en la base $\\mathcal{B}'$ és $2x'+4y'+z'=0$."
   ]
  },
  {
   "cell_type": "markdown",
   "metadata": {},
   "source": [
    "Una altra manera d'obtenir-la és tenint en compte que l'equació implícita del pla en la base $\\mathcal{B}'$ serà de la forma\n",
    "$$\n",
    "  Ax'+By'+Cz'=0\\,.\n",
    "$$\n",
    "Les components dels vectors $\\vec v_1$ i $\\vec v_2$ en la base $\\mathcal{B}'$ han de complir aquesta equació, ñes a dir,\n",
    "$$\n",
    "  \\left. \\begin{aligned} \n",
    "  A-B+2C&=0\\\\\n",
    "  3A-B-2C&=0\n",
    "  \\end{aligned}\\right\\}\n",
    "  \\qquad\\text{o bé}\\qquad\n",
    "  \\left(\\begin{array}{rrr}\n",
    "   1 & -1 & 2 \\\\\n",
    "   3 & -1 & -2\n",
    "  \\end{array}\\right)\n",
    "  \\left(\\begin{array}{c} A \\\\ B \\\\ C \\end{array}\\right)\n",
    "  =  \\left(\\begin{array}{c} 0 \\\\ 0 \\end{array}\\right)\\,.\n",
    "$$\n",
    "Una manera de resoldre aquest sistema d'equacions és:"
   ]
  },
  {
   "cell_type": "code",
   "execution_count": null,
   "metadata": {},
   "outputs": [],
   "source": [
    "A = matrix([[1,-1,2],[3,-1,-2]])\n",
    "A.right_kernel()"
   ]
  },
  {
   "cell_type": "markdown",
   "metadata": {
    "tags": []
   },
   "source": [
    "L'equació implícita del pla en la base $\\mathcal{B}'$ és\n",
    "$$\n",
    "  2x'+4y'+z'=0\\,.\n",
    "$$"
   ]
  },
  {
   "cell_type": "markdown",
   "metadata": {},
   "source": [
    "## Exercici 21\n",
    "Determineu una base del pla vectorial $P$ de $V_3$ que en la base $\\mathcal{B}'=\\{(1,0,-2),(2,3,1),(1,1,0)\\}$ té equació implícita\n",
    "$$\n",
    "-2x'+2y'+z'=0 \\,.\n",
    "$$"
   ]
  },
  {
   "cell_type": "markdown",
   "metadata": {},
   "source": [
    "És evident que els vectors $\\vec u_1=(1,1,0)_{\\mathcal{B}'}$ i $\\vec u_2=(1,0,2)_{\\mathcal{B}'}$ són una base del pla $P$.\n",
    "\n",
    "Calculem les components d'aquests dos vectors en la base canònica. La matriu del canvi de base de la base $\\mathcal{B}'$ a la base canònica és\n",
    "$$\n",
    "  C=\\left(\\begin{array}{rrr}\n",
    "   1 & 2 & 1 \\\\\n",
    "   0 & 3 & 1 \\\\\n",
    "  -2 & 1 & 0\n",
    "  \\end{array}\\right)\\,, \n",
    "$$\n",
    "aleshores:"
   ]
  },
  {
   "cell_type": "code",
   "execution_count": null,
   "metadata": {},
   "outputs": [],
   "source": [
    "C = matrix(3,3,[1,2,1,0,3,1,-2,1,0])\n",
    "u1 = vector([1,1,0])\n",
    "u2 = vector([1,0,2])\n",
    "show(C*u1,C*u2)"
   ]
  },
  {
   "cell_type": "markdown",
   "metadata": {},
   "source": [
    "Els vectors $\\{(3,3,-1),(3,2,-2\\}$ formen una base del pla."
   ]
  },
  {
   "cell_type": "markdown",
   "metadata": {},
   "source": [
    "## Exercici 22\n",
    "Calculeu el producte escalar dels vectors $(1,3,0)$ i $(2,1,-2)$."
   ]
  },
  {
   "cell_type": "code",
   "execution_count": null,
   "metadata": {},
   "outputs": [],
   "source": [
    "u1 = vector([1,3,0])\n",
    "u2 = vector([2,1,-2])\n",
    "show(u1*u2)"
   ]
  },
  {
   "cell_type": "markdown",
   "metadata": {},
   "source": [
    "## Exercici 23\n",
    "Calculeu la norma del vector $(2,-3,6)$."
   ]
  },
  {
   "cell_type": "code",
   "execution_count": null,
   "metadata": {},
   "outputs": [],
   "source": [
    "u = vector([2,-3,6])\n",
    "u.norm()"
   ]
  },
  {
   "cell_type": "markdown",
   "metadata": {},
   "source": [
    "## Exercici 24\n",
    "Calculeu l'angle que formen els vectors $(-1,1,-2)$ i $(2,1,1)$."
   ]
  },
  {
   "cell_type": "code",
   "execution_count": null,
   "metadata": {},
   "outputs": [],
   "source": [
    "u1 = vector([-1,1,-2])\n",
    "u2 = vector([2,1,1])\n",
    "c = (u1*u2)/(u1.norm()*u2.norm())\n",
    "show(c)"
   ]
  },
  {
   "cell_type": "code",
   "execution_count": null,
   "metadata": {},
   "outputs": [],
   "source": [
    "show(acos(c))"
   ]
  },
  {
   "cell_type": "markdown",
   "metadata": {},
   "source": [
    "## Exercici 25\n",
    "Calculeu el producte vectorial dels vectors  $(-1,2,2)$ i $(1,-1,0)$."
   ]
  },
  {
   "cell_type": "code",
   "execution_count": null,
   "metadata": {},
   "outputs": [],
   "source": [
    "u1 = vector([-1,2,2])\n",
    "u2 = vector([-1,1,0])\n",
    "w = u1.cross_product(u2)\n",
    "show(w)"
   ]
  },
  {
   "cell_type": "markdown",
   "metadata": {},
   "source": [
    "## Exercici 26\n",
    "Determineu quins dels sistemes de vectors de $V_3$ següents són ortogonals i quins ortonormals:\n",
    "1. $\\{(3,1,2),(-1,2,4),(4,-1,3)\\}$;\n",
    "2. $\\{(1,-1,1),(1,2,1),(-1,0,1)\\}$;\n",
    "3. $\\{\\frac13(2,2,-1),\\frac13(2,-1,2),\\frac13(-1,2,2)\\}$."
   ]
  },
  {
   "cell_type": "code",
   "execution_count": null,
   "metadata": {},
   "outputs": [],
   "source": [
    "B = [vector([3,1,2]),vector([-1,2,4]),vector([4,-1,3])]\n",
    "show(B)"
   ]
  },
  {
   "cell_type": "code",
   "execution_count": null,
   "metadata": {},
   "outputs": [],
   "source": [
    "show(matrix(3,3,[a*b for a in u for b in B]))"
   ]
  },
  {
   "cell_type": "markdown",
   "metadata": {},
   "source": [
    "No és ni ortogonal ni ortonormal"
   ]
  },
  {
   "cell_type": "code",
   "execution_count": null,
   "metadata": {},
   "outputs": [],
   "source": [
    "B = [vector([1,-1,1]),vector([1,2,1]),vector([-1,0,1])]\n",
    "show(B)"
   ]
  },
  {
   "cell_type": "code",
   "execution_count": null,
   "metadata": {},
   "outputs": [],
   "source": [
    "matrix(3,3,[a*b for a in u for b in B])"
   ]
  },
  {
   "cell_type": "markdown",
   "metadata": {},
   "source": [
    "És ortogonal, però no és ortonormal"
   ]
  },
  {
   "cell_type": "code",
   "execution_count": null,
   "metadata": {},
   "outputs": [],
   "source": [
    "B = [1/3*vector([2,2,-1]),1/3*vector([2,-1,2]),1/3*vector([-1,2,2])]\n",
    "show(B)"
   ]
  },
  {
   "cell_type": "code",
   "execution_count": null,
   "metadata": {},
   "outputs": [],
   "source": [
    "matrix(3,3,[a*b for a in u for b in B])"
   ]
  },
  {
   "cell_type": "markdown",
   "metadata": {},
   "source": [
    "És ortonormal (per tant, també ortogonal)."
   ]
  },
  {
   "cell_type": "markdown",
   "metadata": {},
   "source": [
    "## Exercici 27\n",
    "Determineu una base ortogonal i una base ortonormal de $V_3$ a partir del sistema de vectors linealment independent\n",
    "$$\\{(2,1,0),(-3,0,1),(-1,0,0)\\} \\,. $$"
   ]
  },
  {
   "cell_type": "code",
   "execution_count": null,
   "metadata": {},
   "outputs": [],
   "source": [
    "u1 = vector([2,1,0])\n",
    "u2 = vector([-3,0,1])\n",
    "u3 = vector([-1,0,0])"
   ]
  },
  {
   "cell_type": "markdown",
   "metadata": {},
   "source": [
    "Apliquem ara el mètode de Gram-Schmidt a aquests tres vectors:"
   ]
  },
  {
   "cell_type": "code",
   "execution_count": null,
   "metadata": {},
   "outputs": [],
   "source": [
    "v1 = u1\n",
    "show(v1)"
   ]
  },
  {
   "cell_type": "code",
   "execution_count": null,
   "metadata": {},
   "outputs": [],
   "source": [
    "v2 = u2 - (u2*v1)/(v1*v1) * v1\n",
    "v2 = 5 * v2\n",
    "show(v2)"
   ]
  },
  {
   "cell_type": "code",
   "execution_count": null,
   "metadata": {},
   "outputs": [],
   "source": [
    "v3 = u3 - (u3*v1)/(v1*v1) * v1 - (u3*v2)/(v2*v2) * v2\n",
    "v3 = 14 * v3\n",
    "show(v3)"
   ]
  },
  {
   "cell_type": "markdown",
   "metadata": {},
   "source": [
    "Base ortogonal de $V_3$\n",
    "$$\\left\\{(2,1,0),(-3,6,5),(-1,2,-3)\\right\\}\\,.$$"
   ]
  },
  {
   "cell_type": "code",
   "execution_count": null,
   "metadata": {},
   "outputs": [],
   "source": [
    "show(v1.norm(),v2.norm(),v3.norm())"
   ]
  },
  {
   "cell_type": "markdown",
   "metadata": {},
   "source": [
    "Base ortonormal de $V_3$\n",
    "$$\\left\\{\\frac{1}{\\sqrt{5}}(2,1,0),\\frac{1}{\\sqrt{70}}(-3,6,5),\\frac{1}{\\sqrt{14}}(-1,2,-3)\\right\\}\\,.$$"
   ]
  },
  {
   "cell_type": "markdown",
   "metadata": {},
   "source": [
    "## Exercici 28\n",
    "Trobeu una base ortogonal i una base ortonormal del pla vectorial $P$ de $V_3$ d'equació implícita\n",
    "$$x-2y-z=0 \\,. $$"
   ]
  },
  {
   "cell_type": "markdown",
   "metadata": {},
   "source": [
    "Una base estarà formada per dues solucions linealment independents de l'equació $x-2y-z=0$."
   ]
  },
  {
   "cell_type": "code",
   "execution_count": null,
   "metadata": {},
   "outputs": [],
   "source": [
    "u1 = vector([2,1,0])\n",
    "u2 = vector([1,0,1])"
   ]
  },
  {
   "cell_type": "markdown",
   "metadata": {},
   "source": [
    "Com que l'equació del pla es pot escriure\n",
    "$$\n",
    "  \\left(\\begin{array}{r} 1 & -2 & -1 \\end{array}\\right) \n",
    "  \\left(\\begin{array}{c} x \\\\ y\\\\ z \\end{array}\\right) = 0\\,,\n",
    "$$\n",
    "també podem fer"
   ]
  },
  {
   "cell_type": "code",
   "execution_count": null,
   "metadata": {},
   "outputs": [],
   "source": [
    "A = matrix([[1,-2,-1]])\n",
    "show(A.right_kernel())"
   ]
  },
  {
   "cell_type": "markdown",
   "metadata": {},
   "source": [
    "i escollir els vectors $\\vec u_1=(1,0,1)$ i $\\vec u_2=(0,1,-2)$."
   ]
  },
  {
   "cell_type": "markdown",
   "metadata": {},
   "source": [
    "Apliquem el mètode de Gram-Schmidt:"
   ]
  },
  {
   "cell_type": "code",
   "execution_count": null,
   "metadata": {},
   "outputs": [],
   "source": [
    "v1 = u1\n",
    "show(v1)"
   ]
  },
  {
   "cell_type": "code",
   "execution_count": null,
   "metadata": {},
   "outputs": [],
   "source": [
    "v2 = u2 - (u2*v1)/(v1*v1) * v1\n",
    "v2 = 5 * v2\n",
    "show(v2)"
   ]
  },
  {
   "cell_type": "markdown",
   "metadata": {},
   "source": [
    "Base ortogonal del pla vectorial $P$\n",
    "$$\\left\\{(2,1,0),(1,-2,5)\\right\\}\\,.$$"
   ]
  },
  {
   "cell_type": "code",
   "execution_count": null,
   "metadata": {},
   "outputs": [],
   "source": [
    "show(v1.norm(),v2.norm())"
   ]
  },
  {
   "cell_type": "markdown",
   "metadata": {},
   "source": [
    "Base ortonormal del pla vectorial $P$\n",
    "$$\\left\\{\\frac{1}{\\sqrt{5}}(2,1,0),\\frac{1}{\\sqrt{30}}(1,-2,5)\\right\\}\\,.$$"
   ]
  },
  {
   "cell_type": "markdown",
   "metadata": {},
   "source": [
    "## Exercici 29\n",
    "Es considera el pla vectorial $P$ de $V_3$ generat pels vectors $(2,1,-1)$ i $(2,-1,1)$.\n",
    "Calculeu una base i unes equacions implícites minimals de la seva recta vectorial perpendicular."
   ]
  },
  {
   "cell_type": "markdown",
   "metadata": {},
   "source": [
    "Les equacions implícites de la recta vectorial perpendicular al pla $P$ són\n",
    "$$\n",
    "  \\left. \\begin{aligned} \n",
    "  2x+y-z&=0\\\\\n",
    "  2x-y+z&=0\n",
    "  \\end{aligned}\\right\\}\\,.\n",
    "$$\n",
    "ja que els vectors $(x,y,z)$ de la recta han de ser perpendiculars a $(2,1,-1)$ i a $(2,-1,1)$.\n",
    "\n",
    "Com que no són múltiple una de l'altra, són minimals (linealment independents)."
   ]
  },
  {
   "cell_type": "markdown",
   "metadata": {},
   "source": [
    "Per trobar una base o generador de la recta, hem de resoldre el sistema d'equacions. Ho podem der de dues maneres:"
   ]
  },
  {
   "cell_type": "code",
   "execution_count": null,
   "metadata": {},
   "outputs": [],
   "source": [
    "x, y, z = var('x y z')\n",
    "show(solve([2*x+y-z==0,2*x-y+z==0],[x,y,z]))"
   ]
  },
  {
   "cell_type": "code",
   "execution_count": null,
   "metadata": {},
   "outputs": [],
   "source": [
    "A = matrix([[2,1,-1],[2,-1,1]])\n",
    "show(A.right_kernel())"
   ]
  },
  {
   "cell_type": "markdown",
   "metadata": {},
   "source": [
    "Per tant, una base de la recta és $\\{(0,1,1)\\}$."
   ]
  },
  {
   "cell_type": "markdown",
   "metadata": {},
   "source": [
    "## Exercici 30\n",
    "Determineu una base i unes equacions implícites minimals de la recta perpendicullar al pla $P$ de $V_3$ d'equació implícita\n",
    "$$\n",
    "  x-2y+z=0\\,.\n",
    "$$"
   ]
  },
  {
   "cell_type": "markdown",
   "metadata": {},
   "source": [
    "La recta perpendicular al pla és la generada pel vector $(1,-2,1)$, és a dir, aquest vector és una base de la recta."
   ]
  },
  {
   "cell_type": "markdown",
   "metadata": {},
   "source": [
    "Les equacions implícites d'aquesta recta, seran dues equacions linealment linealment independents que tinguin per solució el vector $(1,-2,1)$. És immediat que\n",
    "$$\n",
    "  \\left. \\begin{aligned} \n",
    "  2x+y&=0\\\\\n",
    "  x-z&=0\n",
    "  \\end{aligned}\\right\\}\\,.\n",
    "$$"
   ]
  },
  {
   "cell_type": "markdown",
   "metadata": {},
   "source": [
    "Una altra manera de trobar-les és"
   ]
  },
  {
   "cell_type": "code",
   "execution_count": null,
   "metadata": {},
   "outputs": [],
   "source": [
    "A = matrix([[1,-2,1]])\n",
    "show(A.right_kernel())"
   ]
  },
  {
   "cell_type": "markdown",
   "metadata": {},
   "source": [
    "i tenim les equacions\n",
    "$$\n",
    "  \\left. \\begin{aligned} \n",
    "  x-z&=0\\\\\n",
    "  y+2z&=0\n",
    "  \\end{aligned}\\right\\}\\,.\n",
    "$$"
   ]
  },
  {
   "cell_type": "markdown",
   "metadata": {},
   "source": [
    "## Exercici 31\n",
    "Calculeu la projecció ortogonal i el simètric del vector $(1,-2,1)$ respecte del pla vectorial\n",
    "$$P=\\langle (1,0,-1),(0,1,1) \\rangle \\,. $$"
   ]
  },
  {
   "cell_type": "code",
   "execution_count": null,
   "metadata": {},
   "outputs": [],
   "source": [
    "t1, t2 = var('t1 t2')\n",
    "v1 = vector([1,0,-1])\n",
    "v2 = vector([0,1,1])\n",
    "show(v1*v2)"
   ]
  },
  {
   "cell_type": "markdown",
   "metadata": {},
   "source": [
    "Com que els vectors $\\vec u_1$ i $\\vec u_2$ no són perpendicilars, la projecció ortogonal de $\\vec u$ sobre el pla vectorial generat per $\\vec v_1$ i $\\vec v_2$ és\n",
    "$$\n",
    "   \\vec u'=t_1\\vec v_1 + t_2\\vec v_2\\,,\n",
    "$$\n",
    "on $t_1$ i $t_2$ són les solucions del sistema d'equacions\n",
    "$$\n",
    "  \\left.\\begin{aligned}\n",
    "  \\vec v_1\\cdot(t_1\\vec v_1+t_2\\vec v_2) &= \\vec v_1\\cdot\\vec u \\\\\n",
    "  \\vec v_2\\cdot(t_1\\vec v_1+t_2\\vec v_2) &= \\vec v_2\\cdot\\vec u\n",
    "  \\end{aligned}\\,\\right\\}\n",
    "  \\qquad\\text{o bé}\\qquad\n",
    "  \\left.\\begin{aligned}\n",
    "  \\vec v_1\\cdot\\vec u' &= \\vec v_1\\cdot\\vec u \\\\\n",
    "  \\vec v_2\\cdot\\vec u' &= \\vec v_2\\cdot\\vec u\n",
    "  \\end{aligned}\\,\\right\\}\n",
    "$$"
   ]
  },
  {
   "cell_type": "code",
   "execution_count": null,
   "metadata": {},
   "outputs": [],
   "source": [
    "u = vector([1,-2,1])\n",
    "# Representem per u1 la projecció ortogonal del vector u sobre el pla \n",
    "u1 = t1*v1 + t2*v2\n",
    "show(u1)"
   ]
  },
  {
   "cell_type": "code",
   "execution_count": null,
   "metadata": {},
   "outputs": [],
   "source": [
    "eqs = [v1*u1 == v1*u,v2*u1 == v2*u]\n",
    "show(eqs)"
   ]
  },
  {
   "cell_type": "code",
   "execution_count": null,
   "metadata": {},
   "outputs": [],
   "source": [
    "s = solve(eqs,[t1,t2])\n",
    "show(s)"
   ]
  },
  {
   "cell_type": "code",
   "execution_count": null,
   "metadata": {},
   "outputs": [],
   "source": [
    "u1 = u1.subs(t1=-1/9,t2=-1/3)\n",
    "show(u1)"
   ]
  },
  {
   "cell_type": "markdown",
   "metadata": {},
   "source": [
    "La projecció ortogonal sobre el pla és el vector $\\vec u'=\\frac{1}{3}(-1,-2,-1)$. "
   ]
  },
  {
   "cell_type": "code",
   "execution_count": null,
   "metadata": {},
   "outputs": [],
   "source": [
    "s = 2*u1 - u\n",
    "show(s)"
   ]
  },
  {
   "cell_type": "markdown",
   "metadata": {},
   "source": [
    "El simètric respecte al pla és el vector $\\vec u^*=\\frac{1}{3}(-5,2,-5)$. "
   ]
  },
  {
   "cell_type": "markdown",
   "metadata": {},
   "source": [
    "## Exercici 32\n",
    "Trobeu la projecció ortogonal i el simètric del vector $(3,1,-4)$\n",
    "respecte del pla vectorial $P$ generat pels vectors $(1,2,-2)$ i $(2,4,5)$."
   ]
  },
  {
   "cell_type": "markdown",
   "metadata": {},
   "source": [
    "Els vectors $\\vec v_1=(1,2,-2)$ i $\\vec v_2=(2,4,5)$ són perpendiculars:"
   ]
  },
  {
   "cell_type": "code",
   "execution_count": null,
   "metadata": {},
   "outputs": [],
   "source": [
    "v1 = vector([1,2,-2])\n",
    "v2 = vector([2,4,5])\n",
    "show(v1*v2)"
   ]
  },
  {
   "cell_type": "markdown",
   "metadata": {},
   "source": [
    "Aleshores, podem aplicar la fórmula següent per calcular la projecció ortogonal\n",
    "$$\n",
    "  \\vec u'=\\frac{\\vec u\\cdot\\vec v_1}{\\vec v_1\\cdot\\vec v_1}\\vec v_1 + \\frac{\\vec u\\cdot\\vec v_2}{\\vec v_2\\cdot\\vec v_2}\\vec v_2\n",
    "$$"
   ]
  },
  {
   "cell_type": "code",
   "execution_count": null,
   "metadata": {},
   "outputs": [],
   "source": [
    "u = vector([3,1,-4])\n",
    "u1 = (u*v1)/(v1*v1) * v1 + (u*v2)/(v2*v2) * v2\n",
    "show(u1)"
   ]
  },
  {
   "cell_type": "code",
   "execution_count": null,
   "metadata": {},
   "outputs": [],
   "source": [
    "s = 2*u1 - u\n",
    "show(s)"
   ]
  },
  {
   "cell_type": "markdown",
   "metadata": {},
   "source": [
    "La projecció ortogonal sobre el pla és el vector $\\vec u'=(1,2,-4)$.\n",
    "\n",
    "El simètric respecte el pla és el vector  $\\vec u^*=(-1,3,-4)$."
   ]
  },
  {
   "cell_type": "markdown",
   "metadata": {},
   "source": [
    "## Exercici 33\n",
    "Calculeu la projecció ortogonal i el simètric del vector $(3,2,7)$ respecte del pla vectorial $P$ d'equació implícita\n",
    "$$\n",
    "  2x-y+z=0 \\,.\n",
    "$$"
   ]
  },
  {
   "cell_type": "markdown",
   "metadata": {},
   "source": [
    "La recta perpencular al pla és la generada pel vector $(2,-1,1)$. Calculem en primer lloc la projecció ortogonal del vector $(3,2,7)$ sobre aquesta recta:"
   ]
  },
  {
   "cell_type": "code",
   "execution_count": null,
   "metadata": {},
   "outputs": [],
   "source": [
    "w = vector([2,-1,1])\n",
    "u = vector([3,2,7])\n",
    "u2 = (u*w)/(w*w) * w\n",
    "show(u2)"
   ]
  },
  {
   "cell_type": "markdown",
   "metadata": {},
   "source": [
    "Aleshores, la projecció ortogonal i el simètric del vector $\\vec u=(3,2,7)$ respecte al pla $P$ seran:"
   ]
  },
  {
   "cell_type": "code",
   "execution_count": null,
   "metadata": {},
   "outputs": [],
   "source": [
    "u1 = u - u2\n",
    "show(u1)"
   ]
  },
  {
   "cell_type": "markdown",
   "metadata": {},
   "source": [
    "I el simètric de $\\vec u$ respecte al pla vectorial $P$"
   ]
  },
  {
   "cell_type": "code",
   "execution_count": null,
   "metadata": {},
   "outputs": [],
   "source": [
    "## s = u - 2*u2\n",
    "## s = u1 - u2\n",
    "s = 2*u1 - u \n",
    "show(s)"
   ]
  },
  {
   "cell_type": "markdown",
   "metadata": {},
   "source": [
    "Així doncs, $\\vec u'=\\frac{1}{6}(-4,23,31)$ i $\\vec u^*=\\frac{1}{3}(-13,17,10)$."
   ]
  },
  {
   "cell_type": "markdown",
   "metadata": {},
   "source": [
    "## Exercici 34\n",
    "Digueu quines de les bases de $V_3$ següents són ortogonals i quines ortonormals:\n",
    "1. $\\{(-1,2,3),(1,0,-3),(2,1,-4)\\}$;\n",
    "1. $\\{\\tfrac17(2,3,6),\\tfrac17(-6,-2,3),\\tfrac17(3,-6,2)\\}$;\n",
    "1. $\\{(5,2,4),(0,-2,1),(-2,1,2)\\}$."
   ]
  },
  {
   "cell_type": "markdown",
   "metadata": {},
   "source": [
    "Calculem la matriu de Gram d'aquests tres bases:"
   ]
  },
  {
   "cell_type": "code",
   "execution_count": null,
   "metadata": {},
   "outputs": [],
   "source": [
    "B = [vector([-1,2,3]),vector([1,0,-3]),vector([2,1,-4])]\n",
    "show(B)"
   ]
  },
  {
   "cell_type": "code",
   "execution_count": null,
   "metadata": {},
   "outputs": [],
   "source": [
    "G = matrix(3,3,[a*b for a in B for b in B])\n",
    "show(G)"
   ]
  },
  {
   "cell_type": "markdown",
   "metadata": {},
   "source": [
    "La base no és ortogonal ni ortonormal."
   ]
  },
  {
   "cell_type": "code",
   "execution_count": null,
   "metadata": {},
   "outputs": [],
   "source": [
    "B = [1/7*vector([2,3,6]),1/7*vector([-6,-2,3]),1/7*vector([3,-6,2])]\n",
    "show(B)"
   ]
  },
  {
   "cell_type": "code",
   "execution_count": null,
   "metadata": {},
   "outputs": [],
   "source": [
    "G = matrix(3,3,[a*b for a in B for b in B])\n",
    "show(G)"
   ]
  },
  {
   "cell_type": "markdown",
   "metadata": {},
   "source": [
    "La base és ortonormal i, per tant, també ortogonal."
   ]
  },
  {
   "cell_type": "code",
   "execution_count": null,
   "metadata": {},
   "outputs": [],
   "source": [
    "B = [vector([5,2,4]),vector([0,-2,1]),vector([-2,1,2])]\n",
    "show(B)"
   ]
  },
  {
   "cell_type": "code",
   "execution_count": null,
   "metadata": {},
   "outputs": [],
   "source": [
    "G = matrix(3,3,[a*b for a in B for b in B])\n",
    "show(G)"
   ]
  },
  {
   "cell_type": "markdown",
   "metadata": {},
   "source": [
    "La base és ortogonal, però no ortonormal."
   ]
  },
  {
   "cell_type": "markdown",
   "metadata": {},
   "source": [
    "## Exercici 35\n",
    "Calculeu les components del vector $(-1,3,1)$ en la base\n",
    "$$\\mathcal{B}'=\\left\\{ \\frac13(2,2,-1),\\frac13(2,-1,2),\\frac13(-1,2,2) \\right\\} \\,. $$"
   ]
  },
  {
   "cell_type": "markdown",
   "metadata": {},
   "source": [
    "Calculem, en primer lloc, les components pel mètode de resoldre el sistema d'equacions\n",
    "$$\n",
    "  (-1,3,1) = \\frac{x'}{3}(2,2,-1) + \\frac{y'}{3}(2,-1,2) + \\frac{z'}{3}(-1,2,2)\n",
    "$$"
   ]
  },
  {
   "cell_type": "code",
   "execution_count": null,
   "metadata": {},
   "outputs": [],
   "source": [
    "u1 = 1/3*vector([2,2,-1])\n",
    "u2 = 1/3*vector([2,-1,2])\n",
    "u3 = 1/3*vector([-1,2,2])\n",
    "u = vector([-1,3,1])"
   ]
  },
  {
   "cell_type": "code",
   "execution_count": null,
   "metadata": {},
   "outputs": [],
   "source": [
    "x1, y1, z1 = var('x1 y1 z1')\n",
    "cl = x1*u1 + y1*u2 + z1*u3\n",
    "show(cl)"
   ]
  },
  {
   "cell_type": "code",
   "execution_count": null,
   "metadata": {},
   "outputs": [],
   "source": [
    "eqs = [cl[i] == u[i] for i in range(3)]\n",
    "show(solve(eqs,[x1,y1,z1]))"
   ]
  },
  {
   "cell_type": "markdown",
   "metadata": {},
   "source": [
    "En aquest cas $\\vec u=(-1,3,1)=(1,-1,3)_{\\mathcal{B}'}$."
   ]
  },
  {
   "cell_type": "markdown",
   "metadata": {},
   "source": [
    "Com que la base $\\mathcal{B}'$ és ortonormal, podem calcular aquestes components d'una altra manera"
   ]
  },
  {
   "cell_type": "code",
   "execution_count": null,
   "metadata": {},
   "outputs": [],
   "source": [
    "B1 = [1/3*vector([2,2,-1]),1/3*vector([2,-1,2]),1/3*vector([-1,2,2])]\n",
    "show(B1)"
   ]
  },
  {
   "cell_type": "code",
   "execution_count": null,
   "metadata": {},
   "outputs": [],
   "source": [
    "cs = [a*u for a in B1]\n",
    "show(cs)"
   ]
  },
  {
   "cell_type": "markdown",
   "metadata": {},
   "source": [
    "Evidentment, tornem a obtenir que les components del vector $(-1,3,1)$ en la base $\\mathcal{B}'$ són $(1,-1,3)$."
   ]
  },
  {
   "cell_type": "markdown",
   "metadata": {},
   "source": [
    "## Exercici 36\n",
    "Donada la base \n",
    "$$\n",
    "  \\mathcal{B'}=\\left\\{\\frac{1}{5}(4,3),\\frac{1}{5}(-3,4)\\right\\}\\,,\n",
    "$$\n",
    "representeu els eixos de coordenades corresponent, el vector $\\vec u=(0,7)$ i calculeu les components de $\\vec u$ en la base $\\mathcal{B'}$."
   ]
  },
  {
   "cell_type": "code",
   "execution_count": null,
   "metadata": {},
   "outputs": [],
   "source": [
    "%%asy --fmt svg\n",
    "import geometry;\n",
    "import coordenades;\n",
    "import graph;\n",
    "\n",
    "unitsize(1cm);\n",
    "pair o = (0,0),\n",
    "     u = (0,7);\n",
    "\n",
    "Canonica(-8,8,-8,8);\n",
    "picture p = Coordenades(-7,7,-7,7,color=red,base=true,quadricula=false);\n",
    "draw(o--u,blue+linewidth(0.55mm),Arrow(8));\n",
    "transform tr = Base(1/5*(4,3),1/5*(-3,4));\n",
    "pair u1 = inverse(tr)*u;\n",
    "draw(p,(u1.x,0)--u1--(0,u1.y),linetype(\"8 8 8 8\")+linewidth(0.1mm)+red);\n",
    "add(tr*p);"
   ]
  },
  {
   "cell_type": "markdown",
   "metadata": {},
   "source": [
    "L'expressió del canvi de base de la base $\\mathcal{B}'$ a la base canònica és\n",
    "$$\n",
    "  \\left(\\begin{array}{c} x \\\\ y \\end{array}\\right) \n",
    "  =\\frac{1}{5}\\left(\\begin{array}{rrr}\n",
    "  4 & -3 \\\\\n",
    "  3 &  4\n",
    "  \\end{array}\\right) \n",
    "  \\left(\\begin{array}{c} x' \\\\ y'\\end{array}\\right)\\,,\n",
    "$$\n",
    "aleshores les components del vector $\\vec u$ en la base $\\mathcal{B}'$ són"
   ]
  },
  {
   "cell_type": "code",
   "execution_count": null,
   "metadata": {},
   "outputs": [],
   "source": [
    "C = 1/5*matrix([[4,-3],[3,4]])\n",
    "u = vector([0,7])\n",
    "## show(C.inverse() * u)\n",
    "show(C.T * u)"
   ]
  },
  {
   "cell_type": "markdown",
   "metadata": {},
   "source": [
    "Podem fer servir que $C^{-1}=C^t$, ja que la base $\\mathcal{B}'$ és ortonormal."
   ]
  },
  {
   "cell_type": "markdown",
   "metadata": {},
   "source": [
    "és a dir $\\vec u=(0,7)=\\frac{1}{5}(21,28)_{\\mathcal{B}'}$."
   ]
  },
  {
   "cell_type": "markdown",
   "metadata": {},
   "source": [
    "## Exercici 37\n",
    "Trobeu una base ortogonal i una ortonormal del pla vectorial $P$ d'equació implícita en la base $\\mathcal{B}'=\\left\\{ \\frac15(-3,4,0),\\frac15(4,3,0),(0,0,1) \\right\\}$\n",
    "$$\n",
    "  x'-2y'-z'=0 \\,.\n",
    "$$"
   ]
  },
  {
   "cell_type": "markdown",
   "metadata": {},
   "source": [
    "Comprovem en primer lloc que la base $\\mathcal{B}'$ és ortonormal:"
   ]
  },
  {
   "cell_type": "code",
   "execution_count": null,
   "metadata": {},
   "outputs": [],
   "source": [
    "B1 = [1/5*vector([-3,4,0]),1/5*vector([4,3,0]),vector([0,0,1])]\n",
    "G = matrix(3,3,[a*b for a in B1 for b in B1])\n",
    "show(G)"
   ]
  },
  {
   "cell_type": "markdown",
   "metadata": {},
   "source": [
    "Com que la base $\\mathcal{B}'$ és ortonormal, treballarem amb les components dels vectors en aquesta base.\n",
    "\n",
    "És evident que els vectors $\\vec u_1=(1,0,1)_{\\mathcal{B}'}$ i $\\vec u_2=(2,0,1)_{\\mathcal{B}'}$. Apliquem ara el mètode de Gram-Schmidt a aquests dos vectors:"
   ]
  },
  {
   "cell_type": "code",
   "execution_count": null,
   "metadata": {},
   "outputs": [],
   "source": [
    "u1 = vector([1,0,1])\n",
    "u2 = vector([2,1,0])"
   ]
  },
  {
   "cell_type": "markdown",
   "metadata": {},
   "source": [
    "Apliquem el mètode de Gram-Schmidt:"
   ]
  },
  {
   "cell_type": "code",
   "execution_count": null,
   "metadata": {},
   "outputs": [],
   "source": [
    "v1 = u1\n",
    "v2 = u2 - u2*v1/(v1*v1) * v1\n",
    "show(v2)"
   ]
  },
  {
   "cell_type": "markdown",
   "metadata": {},
   "source": [
    "Els vectors $\\vec v_1=(1,0,1)_{\\mathcal{B}'}$ i $\\vec u_2=(1,1,-1)_{\\mathcal{B}'}$ formen una base ortogonal del pla $P$. La matriu del canvi de base de la base $\\mathcal{B}'$ a la base canònica és"
   ]
  },
  {
   "cell_type": "code",
   "execution_count": null,
   "metadata": {},
   "outputs": [],
   "source": [
    "C = matrix([es[0],es[1],es[2]]).T\n",
    "show(C)"
   ]
  },
  {
   "cell_type": "markdown",
   "metadata": {},
   "source": [
    "Aleshores les components dels vectors $\\vec v_1$ i $\\vec v_3$ en la base canònica són"
   ]
  },
  {
   "cell_type": "code",
   "execution_count": null,
   "metadata": {},
   "outputs": [],
   "source": [
    "show(C*v1)"
   ]
  },
  {
   "cell_type": "code",
   "execution_count": null,
   "metadata": {},
   "outputs": [],
   "source": [
    "show(C*v2)"
   ]
  },
  {
   "cell_type": "markdown",
   "metadata": {},
   "source": [
    "Els vectors $\\{(-3,4,5),(1,7,-5)\\}$ formen una base ortogonal del pla $P$. Si els dividim per la seva longitud, tindrem una base ortonormal del pla $P$."
   ]
  },
  {
   "cell_type": "code",
   "execution_count": null,
   "metadata": {},
   "outputs": [],
   "source": [
    "w1 = 5 * C * v1\n",
    "show(w1.norm())"
   ]
  },
  {
   "cell_type": "code",
   "execution_count": null,
   "metadata": {},
   "outputs": [],
   "source": [
    "w2 = 5 * C * v2\n",
    "show(w2.norm())"
   ]
  },
  {
   "cell_type": "markdown",
   "metadata": {},
   "source": [
    "Per tant,\n",
    "$$\n",
    "  \\left\\{\\frac{1}{5\\sqrt{2}}(-3,4,5),\\frac{1}{5\\sqrt{3}}(1,7,-5)\\right\\}\n",
    "$$\n",
    "és una base ortonormal del pla $P$."
   ]
  },
  {
   "cell_type": "markdown",
   "metadata": {},
   "source": [
    "## Exercici 38\n",
    "Trobeu una base ortogonal i una ortonormal del pla vectorial $P$ generat pels vectors de components $(1,1,1)$ i $(1,2,3)$ en la base\n",
    "$$\\mathcal{B}'=\\{(1,-1,-1),(-1,1,-1),(-1,-1,1)\\} \\,. $$"
   ]
  },
  {
   "cell_type": "markdown",
   "metadata": {},
   "source": [
    "En primer lloc, calculem les components d'aquests dos vectors en la base canònica:"
   ]
  },
  {
   "cell_type": "code",
   "execution_count": null,
   "metadata": {},
   "outputs": [],
   "source": [
    "u1 = vector([1,1,1])\n",
    "u2 = vector([1,2,3])\n",
    "C = matrix([[1,-1,-1],[-1,1,-1],[-1,-1,1]])\n",
    "w1 = C * u1\n",
    "w2 = C * u2\n",
    "show(w1)"
   ]
  },
  {
   "cell_type": "code",
   "execution_count": null,
   "metadata": {},
   "outputs": [],
   "source": [
    "show(w2)"
   ]
  },
  {
   "cell_type": "markdown",
   "metadata": {},
   "source": [
    "Ara apliquem el mètode de Gram-Schmidt:"
   ]
  },
  {
   "cell_type": "code",
   "execution_count": null,
   "metadata": {},
   "outputs": [],
   "source": [
    "v1 = w1\n",
    "v2 = w2 - (w2*v1)/(v1*v1) * v1"
   ]
  },
  {
   "cell_type": "code",
   "execution_count": null,
   "metadata": {},
   "outputs": [],
   "source": [
    "v1 = -v1\n",
    "show(v1)"
   ]
  },
  {
   "cell_type": "code",
   "execution_count": null,
   "metadata": {},
   "outputs": [],
   "source": [
    "v2 = -1/2*v2\n",
    "show(v2)"
   ]
  },
  {
   "cell_type": "markdown",
   "metadata": {},
   "source": [
    "Els vectors $\\{(1,1,1),(1,0,-1)\\}$ són base ortogonal de $P$, mentre que els vectors\n",
    "$$\n",
    "  \\left\\{\\frac{1}{\\sqrt{3}}(1,1,1),\\frac{1}{\\sqrt{2}}(1,0,-1)\\right\\}\n",
    "$$\n",
    "en són base ortonormal."
   ]
  },
  {
   "cell_type": "markdown",
   "metadata": {
    "tags": []
   },
   "source": [
    "## Exercici 39\n",
    "La base d'un pla vectorial $P$ està formada pels vectors de components $(4,3,-2)$ i $(1,2,0)$ en la base\n",
    "$\\mathcal{B}'=\\left\\{ \\frac13(-1,2,2),\\frac13(2,-1,2),\\frac13(2,2,-1) \\right\\}$.\n",
    "\n",
    "Determineu les equacions implícites en la base $\\mathcal{B}'$ i una base de la seva recta perpendicular."
   ]
  },
  {
   "cell_type": "markdown",
   "metadata": {},
   "source": [
    "Comprovem en primer lloc que la base $\\mathcal{B}'$ és ortonormal:"
   ]
  },
  {
   "cell_type": "code",
   "execution_count": null,
   "metadata": {},
   "outputs": [],
   "source": [
    "B = [1/3*vector([-1,2,2]),1/3*vector([2,-1,2]),1/3*vector([2,2,-1])]\n",
    "G = matrix(3,3,[a*b for a in B for b in B])\n",
    "show(G)"
   ]
  },
  {
   "cell_type": "markdown",
   "metadata": {},
   "source": [
    "Com que la base $\\mathcal{B}'$ és ortonormal, les equacions implícites, en la base $\\mathcal{B}'$, de la recta perpendicular a $P$ són\n",
    "$$\n",
    "  \\left. \\begin{aligned} \n",
    "  4x'+3y'-2z'&=0\\\\\n",
    "  x'+2y'&=0\n",
    "  \\end{aligned}\\right\\}\\,.\n",
    "$$\n",
    "Per trobar una base d'aquesta recta, hem de resoldre el sistema d'equacions:"
   ]
  },
  {
   "cell_type": "code",
   "execution_count": null,
   "metadata": {},
   "outputs": [],
   "source": [
    "x1, y1, z1 = var('x1 y1 z1')\n",
    "show(solve([4*x1+3*y1-z1==0,x1+2*y1==0],[x1,y1,z1]))"
   ]
  },
  {
   "cell_type": "markdown",
   "metadata": {},
   "source": [
    "El vector $(4,-2,5)_{\\mathcal{B}'}$ és una base de la recta perpendicular al pla $P$. Una altra manera d'obtenir-lo és"
   ]
  },
  {
   "cell_type": "code",
   "execution_count": null,
   "metadata": {},
   "outputs": [],
   "source": [
    "A = matrix([[4,3,-2],[1,2,0]])\n",
    "show(A.right_kernel())"
   ]
  },
  {
   "cell_type": "markdown",
   "metadata": {},
   "source": [
    "Les components d'aquest vector en la base canònica són:"
   ]
  },
  {
   "cell_type": "code",
   "execution_count": null,
   "metadata": {},
   "outputs": [],
   "source": [
    "u1 = vector([4,-2,5])\n",
    "C = matrix([B[0],B[1],B[2]]).T\n",
    "show(C * u1)"
   ]
  },
  {
   "cell_type": "markdown",
   "metadata": {},
   "source": [
    "El vector $(2,20,-1)$ és una base de la recta."
   ]
  },
  {
   "cell_type": "markdown",
   "metadata": {},
   "source": [
    "## Exercici 40\n",
    "La base d'una recta vectorial $R$ està formada pel vector de components $(1,-2)$ en la base\n",
    "$\\mathcal{B}'=\\{(1,0),(-1,1)\\}$. \n",
    "Determineu unes equacions implícicites en la base $\\mathcal{B}'$ i una base de la seva recta perpendicular."
   ]
  },
  {
   "cell_type": "markdown",
   "metadata": {},
   "source": [
    "Tenim que el vector $\\vec u=(1,-2)_{\\mathcal{B}'}$ és una base de la recta $R$. Calculem les seves components en la base canònica:"
   ]
  },
  {
   "cell_type": "code",
   "execution_count": null,
   "metadata": {},
   "outputs": [],
   "source": [
    "u1 = vector([1,-2])\n",
    "C = matrix([[1,0],[-1,1]]).T\n",
    "show(C * u1)"
   ]
  },
  {
   "cell_type": "markdown",
   "metadata": {},
   "source": [
    "Com que $u=(3,-2)$ és un generador de la recta $R$, el vector $\\vec v=(2,3)$ serà un generador de la recta perpendicular a $R$ i la seva equació implícita en la base canònica és $3x-2y=0$.\n",
    "\n",
    "Per trobar la seva equació implícita en la base $\\mathcal{B}'$, hem de procedir com en casos angteriors:"
   ]
  },
  {
   "cell_type": "code",
   "execution_count": null,
   "metadata": {},
   "outputs": [],
   "source": [
    "A = matrix([[3,-2]])\n",
    "show(A * C)"
   ]
  },
  {
   "cell_type": "markdown",
   "metadata": {},
   "source": [
    "L'equació de la recta perpendicular a $R$ en la base $\\mathcal{B}'$ és $3x'-5y'=0$."
   ]
  },
  {
   "cell_type": "markdown",
   "metadata": {},
   "source": [
    "## Exercici 41\n",
    "Calculeu la projeció ortogonal i el simètric del vector $\\vec{u}$\n",
    "de components $(1,2,-3)$ en la base $\\mathcal{B}'=\\{\\frac13(2,2,-1),\\frac13(2,-1,2),\\frac13(-1,2,2)\\}$\n",
    "respecte del pla $P$ que en aquesta base $\\mathcal{B}'$ té equació\n",
    "$$2x'-y'-z'=0 \\,. $$"
   ]
  },
  {
   "cell_type": "markdown",
   "metadata": {},
   "source": [
    "Comprovem en primer lloc que la base $\\mathcal{B}'$ és ortonormal:"
   ]
  },
  {
   "cell_type": "code",
   "execution_count": null,
   "metadata": {},
   "outputs": [],
   "source": [
    "B = [1/3*vector([2,2,-1]),1/3*vector([2,-1,2]),1/3*vector([-1,2,2])]\n",
    "G = matrix(3,3,[a*b for a in B for b in B])\n",
    "show(G)"
   ]
  },
  {
   "cell_type": "markdown",
   "metadata": {},
   "source": [
    "Com que $\\mathcal{B}'$ és ortonormal, podem fer els càlculs amb les components dels vectors en aquesta base. És evident que els vectors\n",
    "$\\vec u_1=(0,1,-1)_{\\mathcal{B}'}$ i $\\vec u_1=(1,0,2)_{\\mathcal{B}'}$ formen una base del pla $P$. Aleshores:"
   ]
  },
  {
   "cell_type": "code",
   "execution_count": null,
   "metadata": {},
   "outputs": [],
   "source": [
    "t1, t2 = var('t1 t2')\n",
    "v1 = vector([0,1,-1])\n",
    "v2 = vector([1,0,2])\n",
    "us = [v1,v2]\n",
    "u = vector([1,2,-3])\n",
    "cl = t1 * v1 + t2 * v2\n",
    "show(cl)"
   ]
  },
  {
   "cell_type": "code",
   "execution_count": null,
   "metadata": {},
   "outputs": [],
   "source": [
    "eqs = [a*cl == a*u for a in us]\n",
    "show(eqs)"
   ]
  },
  {
   "cell_type": "code",
   "execution_count": null,
   "metadata": {},
   "outputs": [],
   "source": [
    "sol = solve(eqs,[t1,t2])\n",
    "show(sol)"
   ]
  },
  {
   "cell_type": "markdown",
   "metadata": {},
   "source": [
    "Calculem ara la projecció ortogonal i el simètric"
   ]
  },
  {
   "cell_type": "code",
   "execution_count": null,
   "metadata": {},
   "outputs": [],
   "source": [
    "u1 = sol[0][0].right() * v1 + sol[0][1].right() * v2\n",
    "show(u1)"
   ]
  },
  {
   "cell_type": "code",
   "execution_count": null,
   "metadata": {},
   "outputs": [],
   "source": [
    "s = 2*u1 - u\n",
    "show(s)"
   ]
  },
  {
   "cell_type": "markdown",
   "metadata": {},
   "source": [
    "La projecció ortogonal del vector $\\vec u$ sobre el pla $P$ és el vector $\\vec u'=\\frac{1}{2}(0,5,-5)_{\\mathcal{B}'}$ i el simètric respecte \n",
    "al pla $P$ és $\\vec u^*=(-1,3,-2)_{\\mathcal{B}'}$.\n",
    "\n",
    "Per calcular les components d'aquests vectors en la base canònica hem de fer el següent: "
   ]
  },
  {
   "cell_type": "code",
   "execution_count": null,
   "metadata": {},
   "outputs": [],
   "source": [
    "C = matrix([es[0],es[1],es[2]]).T\n",
    "show(C * u1)"
   ]
  },
  {
   "cell_type": "code",
   "execution_count": null,
   "metadata": {},
   "outputs": [],
   "source": [
    "show(C * s)"
   ]
  },
  {
   "cell_type": "markdown",
   "metadata": {},
   "source": [
    "La projecció ortogonal del vector $\\vec u$ sobre el pla $P$ és el vector $\\vec u'=\\frac{1}{2}(5,-5,0)$ i el simètric respecte \n",
    "al pla $P$ és $\\vec u^*=(2,-3,1)$."
   ]
  },
  {
   "cell_type": "markdown",
   "metadata": {},
   "source": [
    "## Exercici 42\n",
    "Calculeu la projecció ortogonal i el simètric del vector $\\vec{u}$ de components $(-3,1)$\n",
    "en la base $\\mathcal{B}'=\\{(1,2),(3,-1)\\}$ respecte de la recta $R$ que en aquesta base $\\mathcal{B}'$ té equació\n",
    "$$x'-4y'=0 \\,. $$"
   ]
  },
  {
   "cell_type": "markdown",
   "metadata": {},
   "source": [
    "Com en casos anteriors, calculem les components de $\\vec u$ i l'equació de la recta $R$ en la base canònica:"
   ]
  },
  {
   "cell_type": "code",
   "execution_count": null,
   "metadata": {},
   "outputs": [],
   "source": [
    "u = vector([-3,1])\n",
    "C = matrix([[1,2],[3,-1]]).T\n",
    "A = matrix([1,-4])"
   ]
  },
  {
   "cell_type": "code",
   "execution_count": null,
   "metadata": {},
   "outputs": [],
   "source": [
    "u = C * u\n",
    "show(u)"
   ]
  },
  {
   "cell_type": "code",
   "execution_count": null,
   "metadata": {},
   "outputs": [],
   "source": [
    "show(A * C.inverse())"
   ]
  },
  {
   "cell_type": "markdown",
   "metadata": {},
   "source": [
    "Tenim, doncs, que $\\vec u=(0,-7)$ i que l'equació de la recta en la base canònica és $-x+y=0$, és a dir, és la recta generada pel vector $\\vec v=(1,1)$.\n",
    "\n",
    "Ara hem de calcular la projecció ortogonal i el simètric del vector $\\vec u$ respecte a la recta vectorial generada pel vector $(1,1)$."
   ]
  },
  {
   "cell_type": "code",
   "execution_count": null,
   "metadata": {},
   "outputs": [],
   "source": [
    "v = vector([1,1])\n",
    "u1 = (u*v)/(v*v) * v\n",
    "s = 2*u1 - u"
   ]
  },
  {
   "cell_type": "code",
   "execution_count": null,
   "metadata": {},
   "outputs": [],
   "source": [
    "show(u1)"
   ]
  },
  {
   "cell_type": "code",
   "execution_count": null,
   "metadata": {},
   "outputs": [],
   "source": [
    "show(s)"
   ]
  },
  {
   "cell_type": "markdown",
   "metadata": {},
   "source": [
    "Resumint, la projecció ortogonal del vector $\\vec u=(0,-7)$ sobre la recta és el vector $\\vec u'=\\frac{1}{2}(-7,-7)$ i el simètric del \n",
    "vector $\\vec u$ respecte a la recta $R$ és $\\vec u^*=(-7,0)$."
   ]
  },
  {
   "cell_type": "markdown",
   "metadata": {},
   "source": [
    "## Exercici 43\n",
    "Sigui $\\mathcal{B}'=\\{\\vec e_1,\\vec e_2\\}$ una base de $V_2$ tal que $\\vec e_1\\cdot\\vec e_1=a$, $\\vec e_1\\cdot\\vec e_2=b$ i \n",
    "$\\vec e_2\\cdot\\vec e_2=c$ i considerem la matriu\n",
    "$$\n",
    "  G=\\left(\\begin{array}{cc}\n",
    "  a & b \\\\\n",
    "  b & c\n",
    "  \\end{array}\\right)\\,.\n",
    "$$\n",
    "Comproveu que el producte escalar dels vectors $\\vec u=x'_1\\vec e_1+y'_1\\vec e_2$ i $\\vec v=x'_2\\vec e_1+y'_2\\vec e_2$ és igual al producte de matrius\n",
    "$$\n",
    "  \\left(\\begin{array}{cc} x'_1 & y'_1\\end{array}\\right)\n",
    "  G\\left(\\begin{array}{c} x'_2\\\\ y'_2\\end{array}\\right)\\,.\n",
    "$$\n",
    "La matriu $G$ s'anomena _matriu de Gram_ de la base $\\cal B'$."
   ]
  },
  {
   "cell_type": "markdown",
   "metadata": {},
   "source": [
    "D'una banda tenim que\n",
    "$$\n",
    "  \\begin{aligned}\n",
    "   \\vec u\\cdot v &= (x_1'\\vec e_1+y_1'\\vec e_2)\\cdot(x_2'\\vec e_1+y_2'\\vec e_2) \\\\\n",
    "      &= x_1'x_2' \\vec e_1\\cdot \\vec e_1 + x_1'y_2' \\vec e_1\\cdot \\vec e_2 +\n",
    "         y_1'x_2' \\vec e_2\\cdot \\vec e_1 + y_1'y_2' \\vec e_2\\cdot \\vec e_2 \\\\\n",
    "      &= ax_1'x_2' + bx_1'y_2' + b y_1'x_2' + cy_1'y_2' = ax_1'x_2' + b(x_1'y_2' + y_1'x_2') + cy_1'y_2'\n",
    "  \\end{aligned}\n",
    "$$"
   ]
  },
  {
   "cell_type": "markdown",
   "metadata": {},
   "source": [
    "De l'altra,"
   ]
  },
  {
   "cell_type": "code",
   "execution_count": null,
   "metadata": {},
   "outputs": [],
   "source": [
    "x1, y1, x2, y2 = var('x1 y1 x2 y2')\n",
    "a, b, c = var('a b c')\n",
    "U = vector([x1,y1])\n",
    "V = vector([x2,y2])\n",
    "G = matrix([[a,b],[b,c]])\n",
    "show(G)"
   ]
  },
  {
   "cell_type": "code",
   "execution_count": null,
   "metadata": {},
   "outputs": [],
   "source": [
    "show((U*G*V).expand())"
   ]
  },
  {
   "cell_type": "markdown",
   "metadata": {},
   "source": [
    "Per tant, és immediat que\n",
    "$$\n",
    "  \\vec u\\cdot v=\n",
    "  \\left(\\begin{array}{cc} x'_1 & y'_1\\end{array}\\right)\n",
    "  G\\left(\\begin{array}{c} x'_2\\\\ y'_2\\end{array}\\right)\\,.\n",
    "$$"
   ]
  },
  {
   "cell_type": "markdown",
   "metadata": {},
   "source": [
    "## Exercici 44\n",
    "Sigui $\\mathcal{B}'=\\{\\vec u_1,\\vec u_2\\}$ una base de $V_2$ tal que $||\\vec u_1||=2$, $||\\vec u_2||=\\frac{3}{2}$ i formen un angle de $120^\\circ$.\n",
    "Representeu uns eixos de coordenades corresponents a aquesta base i els vectors $\\vec v_1=(3,4)_{\\mathcal{B}'}$ i $\\vec v_2=(-1,-4)_{\\mathcal{B}'}$ i\n",
    "calculeu la longitud dels vectors $\\vec v_1$ i $\\vec v_2$ i l'angle que formen."
   ]
  },
  {
   "cell_type": "code",
   "execution_count": null,
   "metadata": {},
   "outputs": [],
   "source": [
    "%%asy --fmt svg\n",
    "import geometry;\n",
    "import coordenades;\n",
    "import graph;\n",
    "\n",
    "unitsize(1cm);\n",
    "srand(seconds());\n",
    "pair o = (0,0), \n",
    "    u1 = (1,0.5+unitrand()),\n",
    "    v1 = (3,4),\n",
    "    v2 = (-1,-4);\n",
    "real a = 120;\n",
    "\n",
    "transform tr = (0,0,Cos(a),-Sin(a),Sin(a),Cos(a));\n",
    "u1 = 2 * u1 / length(u1);\n",
    "pair u2 = tr * u1;\n",
    "u2 = 3/2 * u2 / length(u2);\n",
    "    \n",
    "Canonica(-11,11,-10,10);\n",
    "picture p = Coordenades(-6,6,-7,7,color=red,ticky=0.08,tickx=0.17,base=true,quadricula=false);\n",
    "draw(p,o--v1,blue+linewidth(0.55mm),Arrow(6));\n",
    "label(p,\"$\\vec v_1$\",v1,N,blue);\n",
    "draw(p,(v1.x,0)--v1--(0,v1.y),linetype(\"8 8 8 8\")+linewidth(0.1mm)+red);\n",
    "draw(p,o--v2,blue+linewidth(0.55mm),Arrow(6));\n",
    "label(p,\"$\\vec v_2$\",v2,S,blue);\n",
    "draw(p,(v2.x,0)--v2--(0,v2.y),linetype(\"8 8 8 8\")+linewidth(0.1mm)+red);\n",
    "transform b = Base(u1,u2);\n",
    "add(b * p);"
   ]
  },
  {
   "cell_type": "markdown",
   "metadata": {},
   "source": [
    "La matriu de Gram de la base $\\mathcal{B}'$ és\n",
    "$$\n",
    "  G=\\left(\\begin{array}{rr}\n",
    "   4 & -\\frac{3}{2}\\\\\n",
    "   -\\frac{3}{2} & \\frac{9}{4} \n",
    "  \\end{array}\\right)=\n",
    "  \\frac{1}{4}\\left(\\begin{array}{rr}\n",
    "   16 & -6\\\\\n",
    "   -6 &  9 \n",
    "  \\end{array}\\right)\\,, \n",
    "$$\n",
    "Aleshores,"
   ]
  },
  {
   "cell_type": "code",
   "execution_count": null,
   "metadata": {},
   "outputs": [],
   "source": [
    "G = 1/4*matrix([[16,-6],[-6,9]])\n",
    "v1 = vector([3,4])\n",
    "v2 = vector([-1,-4])\n",
    "n1 = sqrt(v1*G*v1)\n",
    "show(n1)"
   ]
  },
  {
   "cell_type": "code",
   "execution_count": null,
   "metadata": {},
   "outputs": [],
   "source": [
    "n2 = sqrt(v2*G*v2)\n",
    "show(n2)"
   ]
  },
  {
   "cell_type": "code",
   "execution_count": null,
   "metadata": {},
   "outputs": [],
   "source": [
    "p12 = v1*G*v2\n",
    "show(p12)"
   ]
  },
  {
   "cell_type": "code",
   "execution_count": null,
   "metadata": {},
   "outputs": [],
   "source": [
    "a = N(acos(p12/(n1*n2))*180/pi,digits=5)\n",
    "show(a)"
   ]
  },
  {
   "cell_type": "markdown",
   "metadata": {},
   "source": [
    "Per tant, $||\\vec v_1||=6$, $||\\vec v_2||=2\\sqrt{7}$ i $\\vec v_1$ i $\\vec v_2$ formen un angle de $139.11^\\circ$."
   ]
  }
 ],
 "metadata": {
  "kernelspec": {
   "display_name": "SageMath 9.6",
   "language": "sage",
   "name": "sagemath"
  },
  "language_info": {
   "codemirror_mode": {
    "name": "ipython",
    "version": 3
   },
   "file_extension": ".py",
   "mimetype": "text/x-python",
   "name": "python",
   "nbconvert_exporter": "python",
   "pygments_lexer": "ipython3",
   "version": "3.10.7"
  }
 },
 "nbformat": 4,
 "nbformat_minor": 4
}
