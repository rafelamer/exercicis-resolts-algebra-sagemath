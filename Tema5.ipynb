{
 "cells": [
  {
   "cell_type": "markdown",
   "metadata": {},
   "source": [
    "# Tema 5"
   ]
  },
  {
   "cell_type": "code",
   "execution_count": null,
   "metadata": {},
   "outputs": [],
   "source": [
    "%load_ext asymagic\n",
    "\n",
    "Q.<i,j,k> = QuaternionAlgebra(QQ,-1,-1)\n",
    "\n",
    "def euler(psi,theta,phi):\n",
    "    \"\"\"\n",
    "    Retorna la matriu en la base canònica de la rotació de V_3 amb angles\n",
    "    d'Euler psi, theta o phi.\n",
    "    \"\"\"\n",
    "    A = matrix(3,3,[cos(psi),-sin(psi),0,sin(psi),cos(psi),0,0,0,1])\n",
    "    B = matrix(3,3,[1,0,0,0,cos(theta),-sin(theta),0,sin(theta),cos(theta)])\n",
    "    C = matrix(3,3,[cos(phi),-sin(phi),0,sin(phi),cos(phi),0,0,0,1])\n",
    "    return C * B * A\n",
    "\n",
    "def quaternio_a_rotacio(a,b,c,d):\n",
    "    \"\"\"\n",
    "    Retorna la matriu en la base canònica de la rotació de V_3 corresponent\n",
    "    al quaternió unitari q = a + bi + cj + dk\n",
    "    \"\"\"\n",
    "    return simplificar_radicals(matrix([[2*a^2+2*b^2-1,2*b*c-2*a*d,2*a*c+2*b*d],\n",
    "                                        [2*a*d+2*b*c,2*a^2+2*c^2-1,2*c*d-2*a*b],\n",
    "                                        [2*b*d-2*a*c,2*a*b+2*c*d,2*a^2+2*d^2-1]]))\n",
    "\n",
    "def angles_euler_rotacio(A):\n",
    "    \"\"\"\n",
    "    Retorna els angles d'Euler (en radiants) d'una rotació\n",
    "    A és la matriu de la rotació en la base canònica\n",
    "    \"\"\"\n",
    "    if abs(A[2,2]) != 1:\n",
    "        psi = atan2(A[2,0],A[2,1])\n",
    "        theta = acos(A[2,2])\n",
    "        phi = atan2(A[0,2],-A[1,2])\n",
    "    else:\n",
    "        phi = 0\n",
    "        theta = acos(A[2,2])\n",
    "        psi = atan2(A[2,2]*A[1,0],A[0,0])\n",
    "    return psi, theta, phi\n",
    "\n",
    "def simplificar_radicals(A):\n",
    "    \"\"\"\n",
    "    Simplifica les arrels quadrades en una matriu o en un vector\n",
    "    \"\"\"\n",
    "    try:\n",
    "        for i in range(A.nrows()):\n",
    "            for j in range(A.ncols()):\n",
    "                A[i,j] = A[i,j]._sympy_().simplify()._sage_()\n",
    "        return A\n",
    "    except:\n",
    "        pass\n",
    "    try:\n",
    "        for i in range(A.length()):\n",
    "            A[i] = A[i]._sympy_().simplify()._sage_()\n",
    "        return A\n",
    "    except:\n",
    "        pass\n",
    "    try:\n",
    "        return A._sympy_().simplify()._sage_()\n",
    "    except:\n",
    "        pass\n",
    "    if isinstance(A,list):\n",
    "        try:\n",
    "            return [simplificar_radicals(x) for x in A]\n",
    "        except:\n",
    "            pass\n",
    "    return None"
   ]
  },
  {
   "cell_type": "markdown",
   "metadata": {},
   "source": [
    "## Exercici 1\n",
    "Escriviu la part escalar i la part vectorial del quaternió\n",
    "$$-4+2\\vec{i}-3\\vec{j}+4\\vec{k} \\,. $$"
   ]
  },
  {
   "cell_type": "code",
   "execution_count": null,
   "metadata": {},
   "outputs": [],
   "source": [
    "q = -4 + 2*i - 3*j + 4*k"
   ]
  },
  {
   "cell_type": "code",
   "execution_count": null,
   "metadata": {},
   "outputs": [],
   "source": [
    "a = (q+q.conjugate())/2\n",
    "show(a)"
   ]
  },
  {
   "cell_type": "code",
   "execution_count": null,
   "metadata": {},
   "outputs": [],
   "source": [
    "v = (q-q.conjugate())/2\n",
    "show(v)"
   ]
  },
  {
   "cell_type": "markdown",
   "metadata": {},
   "source": [
    "## Exercici 2\n",
    "Calculeu la suma dels quaternions\n",
    "$$-3+2\\vec{i}+\\vec{j}-2\\vec{k} \\qquad \\text{i} \\qquad -1-\\vec{i}+3\\vec{j}-\\vec{k} \\,. $$"
   ]
  },
  {
   "cell_type": "code",
   "execution_count": null,
   "metadata": {},
   "outputs": [],
   "source": [
    "p = -3 + 2*i + j - 2*k\n",
    "q = -1 - i + 3*j - k"
   ]
  },
  {
   "cell_type": "code",
   "execution_count": null,
   "metadata": {},
   "outputs": [],
   "source": [
    "show(p+q)"
   ]
  },
  {
   "cell_type": "markdown",
   "metadata": {},
   "source": [
    "## Exercici 3\n",
    "Calculeu el producte de l'escalar $-3$ i el quaternió\n",
    "$$4-2\\vec{i}+3\\vec{j}-5\\vec{k} \\,. $$"
   ]
  },
  {
   "cell_type": "code",
   "execution_count": null,
   "metadata": {},
   "outputs": [],
   "source": [
    "q = 4 - 2*i + 3*j - 5*k"
   ]
  },
  {
   "cell_type": "code",
   "execution_count": null,
   "metadata": {},
   "outputs": [],
   "source": [
    "show(-3*q)"
   ]
  },
  {
   "cell_type": "markdown",
   "metadata": {},
   "source": [
    "## Exercici 4\n",
    "Calculeu el producte dels quaternions\n",
    "$$1-3\\vec{i}+2\\vec{j}-4\\vec{k} \\qquad \\text{i} \\qquad -1+3\\vec{i}-\\vec{j}-2\\vec{k} \\,. $$"
   ]
  },
  {
   "cell_type": "code",
   "execution_count": null,
   "metadata": {},
   "outputs": [],
   "source": [
    "p = 1 - 3*i + 2*j - 4*k\n",
    "q = -1 + 3*i - j - 2*k"
   ]
  },
  {
   "cell_type": "code",
   "execution_count": null,
   "metadata": {},
   "outputs": [],
   "source": [
    "show(p*q)"
   ]
  },
  {
   "cell_type": "markdown",
   "metadata": {},
   "source": [
    "## Exercici 5\n",
    "Calculeu el conjugat del quaternió\n",
    "$$-2+\\vec{i}-\\vec{j}+4\\vec{k} \\,. $$"
   ]
  },
  {
   "cell_type": "code",
   "execution_count": null,
   "metadata": {},
   "outputs": [],
   "source": [
    "q = -2 + i - j + 4*k"
   ]
  },
  {
   "cell_type": "code",
   "execution_count": null,
   "metadata": {},
   "outputs": [],
   "source": [
    "show(q.conjugate())"
   ]
  },
  {
   "cell_type": "markdown",
   "metadata": {},
   "source": [
    "## Exercici 6\n",
    "Calculeu la norma del quaternió\n",
    "$$2-\\vec{i}+3\\vec{j}-4\\vec{k} \\,. $$"
   ]
  },
  {
   "cell_type": "code",
   "execution_count": null,
   "metadata": {},
   "outputs": [],
   "source": [
    "q = 2 - i + 3*j - 4*k"
   ]
  },
  {
   "cell_type": "code",
   "execution_count": null,
   "metadata": {},
   "outputs": [],
   "source": [
    "v = sqrt(q.reduced_norm())\n",
    "show(v)"
   ]
  },
  {
   "cell_type": "markdown",
   "metadata": {},
   "source": [
    "## Exercici 7\n",
    "Calculeu la imatge del vector $(-2,3,4)$ i les antiïmatges dels vectors $(-2,3,2)$ i $(0,3,1)$ de la transformació lineal $T:V_3\\longrightarrow V_3$ donada per\n",
    "$$\n",
    "  \\left(\\begin{array}{c} u \\\\ v \\\\ w \\end{array}\\right)\n",
    "  =\\left(\\begin{array}{rrr}\n",
    "  0&1&-1\\\\\n",
    "  -1&0&-4\\\\\n",
    "  0&-1&1\n",
    "  \\end{array}\\right)\n",
    "  \\left(\\begin{array}{c} x \\\\ y \\\\ z \\end{array}\\right)\\,.\n",
    "$$"
   ]
  },
  {
   "cell_type": "code",
   "execution_count": null,
   "metadata": {},
   "outputs": [],
   "source": [
    "A = matrix([[0,1,-1],[-1,0,-4],[0,-1,1]])\n",
    "u = vector([-2,3,4])\n",
    "w1 = vector([-2,3,2])\n",
    "w2 = vector([0,3,1])"
   ]
  },
  {
   "cell_type": "markdown",
   "metadata": {},
   "source": [
    "Per calcular la imatge de qualsevol vector només cal multiplicar per la matriu:"
   ]
  },
  {
   "cell_type": "code",
   "execution_count": null,
   "metadata": {},
   "outputs": [],
   "source": [
    "show(A * u)"
   ]
  },
  {
   "cell_type": "markdown",
   "metadata": {},
   "source": [
    "La imatge del vector $(-2,3,4)$ és el vector $(-1,-14,1)$, és a dir, $T(-2,3,4)=(-1,-14,1)$."
   ]
  },
  {
   "cell_type": "markdown",
   "metadata": {},
   "source": [
    "Per calcular les antiimatges de $\\vec w_1$ i $\\vec w_2$, hem de resoldre els sistemes d'equacions\n",
    "$$\n",
    "  \\left(\\begin{array}{rrr}\n",
    "  0&1&-1\\\\\n",
    "  -1&0&-4\\\\\n",
    "  0&-1&1\n",
    "  \\end{array}\\right)\n",
    "  \\left(\\begin{array}{c} x\\\\ y\\\\ z \\end{array}\\right)\n",
    "  = \\left(\\begin{array}{r} -2\\\\ 3\\\\ 2 \\end{array}\\right)\n",
    "  \\qquad\\text{i}\\qquad\n",
    "  \\left(\\begin{array}{rrr}\n",
    "  0&1&-1\\\\\n",
    "  -1&0&-4\\\\\n",
    "  0&-1&1\n",
    "  \\end{array}\\right)\n",
    "  \\left(\\begin{array}{c} x\\\\ y\\\\ z \\end{array}\\right)\n",
    "  = \\left(\\begin{array}{r} 0\\\\ 3\\\\ 1 \\end{array}\\right)\\,.\n",
    "$$"
   ]
  },
  {
   "cell_type": "code",
   "execution_count": null,
   "metadata": {},
   "outputs": [],
   "source": [
    "x, y, z = var('x y z')\n",
    "X = vector([x,y,z])\n",
    "TX = A * X\n",
    "show(TX)"
   ]
  },
  {
   "cell_type": "markdown",
   "metadata": {},
   "source": [
    "Ara, hem d'igualar aquesta expressió als vectors $\\vec w_1$ i $\\vec w_2$ i resoldre el sistema d'equacions obtingut:"
   ]
  },
  {
   "cell_type": "code",
   "execution_count": null,
   "metadata": {},
   "outputs": [],
   "source": [
    "show(solve([TX[i] == w1[i] for i in range(3)],[x,y,z]))"
   ]
  },
  {
   "cell_type": "markdown",
   "metadata": {},
   "source": [
    "Tots els vectors de la forma $(-3-4t,-2+t,t)$ són antiimatges del vector $(-2,3,2)$:\n",
    "$$\n",
    "  T^{-1}(-2,3,2)=\\{(-3-4t,-2+t,t)\\quad\\text{amb}\\quad t\\in\\mathbb{R}\\}\\,.\n",
    "$$"
   ]
  },
  {
   "cell_type": "code",
   "execution_count": null,
   "metadata": {},
   "outputs": [],
   "source": [
    "show(solve([p[i] == w2[i] for i in range(3)],[x,y,z]))"
   ]
  },
  {
   "cell_type": "markdown",
   "metadata": {},
   "source": [
    "El sistema és incompatible, és a dir, el vector $(0,3,1)$ no té antiimatges."
   ]
  },
  {
   "cell_type": "markdown",
   "metadata": {},
   "source": [
    "## Exercici 8\n",
    "Donada la tranformació lineal\n",
    "$$\n",
    "  \\left(\\begin{array}{c} u\\\\ v \\end{array}\\right) = \n",
    "  \\left(\\begin{array}{rr}\n",
    "   1 & 2 \\\\\n",
    "  -1 & 3\n",
    "  \\end{array}\\right)\n",
    "  \\left(\\begin{array}{c} x\\\\ y \\end{array}\\right)\\,,\n",
    "$$\n",
    "representeu en què es transforma el triangle de vèrtexs $(0,0)$, $(4,0)$ i $(0,3)$."
   ]
  },
  {
   "cell_type": "markdown",
   "metadata": {},
   "source": [
    "Només cal observar que $T(0,0)=(0,0)$, $T(4,0)=(4,-4)$ i $T(0,3)=(6,9)$."
   ]
  },
  {
   "cell_type": "code",
   "execution_count": null,
   "metadata": {},
   "outputs": [],
   "source": [
    "%%asy --fmt svg\n",
    "import geometry;\n",
    "import coordenades;\n",
    "import graph;\n",
    "\n",
    "unitsize(1cm);\n",
    "\n",
    "pen g = opacity(.5)+lightgreen,\n",
    "    b = opacity(.5)+lightblue;\n",
    "pair P = (0,0),\n",
    "     Q = (4,0),\n",
    "     R = (0,3);\n",
    "real A[][] = {{1,2},{-1,3}};\n",
    "transform tr = TransformacioLineal(A);\n",
    "Canonica(-10,10,-10,10);\n",
    "filldraw(P--Q--R--cycle,b,1.5bp+blue);\n",
    "filldraw(tr*P--tr*Q--tr*R--cycle,g,1.5bp+green);"
   ]
  },
  {
   "cell_type": "markdown",
   "metadata": {
    "tags": []
   },
   "source": [
    "## Exercici 9\n",
    "Trobeu la matriu i la representació en la base canònica de la transformació lineal $T:V_3\\longrightarrow V_3$ definida per\n",
    "$$\n",
    "  \\left. \\begin{aligned}\n",
    "  T(1,1,1)&=(-1,1,-3)\\\\\n",
    "  T(1,2,2)&=(0,1,-4)\\\\\n",
    "  T(1,2,3)&=(1,4,-7)\n",
    "  \\end{aligned} \\right\\}\\,.\n",
    "$$"
   ]
  },
  {
   "cell_type": "markdown",
   "metadata": {},
   "source": [
    "Si $A$ és la matriu en la base canònica de la transformació lineal $T$, haurà de complir\n",
    "$$\n",
    "  A\\left(\\begin{array}{rrr}\n",
    "  1 & 1 & 1\\\\\n",
    "  1 & 2 & 2\\\\\n",
    "  1 & 2 & 3\n",
    "  \\end{array}\\right)\n",
    "  =\\left(\\begin{array}{rrr}\n",
    "  -1 &  0 &  1 \\\\\n",
    "   1 &  1 &  4 \\\\\n",
    "  -3 & -4 & -7\n",
    "  \\end{array}\\right)\\,.\n",
    "$$\n",
    "Aleshores,\n",
    "$$\n",
    "  A = \\left(\\begin{array}{rrr}\n",
    "  -1 &  0 &  1 \\\\\n",
    "   1 &  1 &  4 \\\\\n",
    "  -3 & -4 & -7\n",
    "  \\end{array}\\right)\n",
    "  \\left(\\begin{array}{rrr}\n",
    "  1 & 1 & 1\\\\\n",
    "  1 & 2 & 2\\\\\n",
    "  1 & 2 & 3\n",
    "  \\end{array}\\right)^{-1}\\,.\n",
    "$$"
   ]
  },
  {
   "cell_type": "code",
   "execution_count": null,
   "metadata": {},
   "outputs": [],
   "source": [
    "B = matrix(3,3,[1,1,1,1,2,2,1,2,3])\n",
    "C = matrix(3,3,[-1,0,1,1,1,4,-3,-4,-7])"
   ]
  },
  {
   "cell_type": "code",
   "execution_count": null,
   "metadata": {},
   "outputs": [],
   "source": [
    "A = C*B.inverse()\n",
    "show(A)"
   ]
  },
  {
   "cell_type": "markdown",
   "metadata": {},
   "source": [
    "La matriu i la representació en la base canònica de $T$ són\n",
    "$$\n",
    "  A=\\left(\\begin{array}{rrr}\n",
    "  -2 & 0 & 1 \\\\\n",
    "   1 & -3 & 3 \\\\\n",
    "  -2 & 2 & -3\n",
    "  \\end{array}\\right)\\qquad\\text{i}\\qquad \n",
    "  \\left(\\begin{array}{c} u \\\\ v \\\\ w \\end{array}\\right)\n",
    "  =\\left(\\begin{array}{rrr}\n",
    "  -2 & 0 & 1 \\\\\n",
    "   1 & -3 & 3 \\\\\n",
    "  -2 & 2 & -3\n",
    "  \\end{array}\\right)\n",
    "  \\left(\\begin{array}{c} x \\\\ y \\\\ z \\end{array}\\right)\\,.\n",
    "$$"
   ]
  },
  {
   "cell_type": "markdown",
   "metadata": {},
   "source": [
    "## Exercici 10\n",
    "Calculeu la matriu respecte de la base $\\mathcal{B}'=\\{(2,-1,3),(2,1,2),(1,-1,2)\\}$ de la transformació lineal $T:V_3\\longrightarrow V_3$ definida per\n",
    "$$T(x,y,z)=(2x+3y-z,x-y+4z,x-3y+2z) \\,. $$"
   ]
  },
  {
   "cell_type": "markdown",
   "metadata": {},
   "source": [
    "La representació d'aquesta transformació lineal en la base canònica és\n",
    "$$\n",
    "  \\left(\\begin{array}{c} u\\\\ v\\\\ w \\end{array}\\right)\n",
    "  = \\left(\\begin{array}{rrr}\n",
    "  2 &  3 & -1\\\\\n",
    "  1 & -1 &  4\\\\\n",
    "  1 & -3 &  2\n",
    "  \\end{array}\\right)\n",
    "  \\left(\\begin{array}{c} x\\\\ y\\\\ z \\end{array}\\right)\\,.\n",
    "$$\n",
    "El que hem de fer es representar aquesta transformació com a\n",
    "$$\n",
    "  \\left(\\begin{array}{c} u'\\\\ v'\\\\ w' \\end{array}\\right)\n",
    "  = A'\n",
    "  \\left(\\begin{array}{c} x'\\\\ y'\\\\ z' \\end{array}\\right)\\,.\n",
    "$$\n",
    "on $(x',y',z')$ i $(u',v',w')$ són components en la base $\\mathcal{B}'$ d'un vector i el seu transformat."
   ]
  },
  {
   "cell_type": "markdown",
   "metadata": {},
   "source": [
    "Hem de fer servir la fórmula $A'=C^{-1}AC$. on $A$ és la matriu de la transformació lineal en la base canònica i $C$ és la matriu del canvi de base de la base $\\mathcal{B}'$ a la base canònica."
   ]
  },
  {
   "cell_type": "code",
   "execution_count": null,
   "metadata": {},
   "outputs": [],
   "source": [
    "A = matrix([[2,3,-1],[1,-1,4],[1,-3,2]])\n",
    "C = matrix([[2,-1,3],[2,1,2],[1,-1,2]]).T"
   ]
  },
  {
   "cell_type": "code",
   "execution_count": null,
   "metadata": {},
   "outputs": [],
   "source": [
    "show(C.inverse() * A * C)"
   ]
  },
  {
   "cell_type": "markdown",
   "metadata": {},
   "source": [
    "Així doncs, la representació de la transformació lineal $T$ en la base $\\mathcal{B}'$ és\n",
    "$$\n",
    "  \\left(\\begin{array}{c} u'\\\\ v'\\\\ w' \\end{array}\\right)\n",
    "  = \\left(\\begin{array}{rrr}\n",
    "  -71 & -7 & -56 \\\\\n",
    "   28 & 7 & 21 \\\\\n",
    "   84 & 5 & 67\n",
    "\\end{array}\\right)\n",
    "  \\left(\\begin{array}{c} x'\\\\ y'\\\\ z' \\end{array}\\right)\\,.\n",
    "$$"
   ]
  },
  {
   "cell_type": "markdown",
   "metadata": {},
   "source": [
    "## Exercici 11\n",
    "Trobeu la representació en la base canònica de la transformació lineal que consisteix en un escalat de factor $1$ en la direcció $(-3,3,1)$, un de factor $1$ en la direcció $(1,-3,-2)$ i un amb factor $3$ en la direcció $(1,-2,-1)$."
   ]
  },
  {
   "cell_type": "markdown",
   "metadata": {},
   "source": [
    "En aquestes condicions, la representació de la transformació lineal en la base $\\mathcal{B}'=\\{(-3,3,1),(1,-3,-2),(1,-2,-1)\\}$ és\n",
    "$$\n",
    "  \\left(\\begin{array}{c} u'\\\\ v'\\\\ w' \\end{array}\\right)\n",
    "  = \\left(\\begin{array}{rrr}\n",
    "  1 & 0 & 0 \\\\\n",
    "  0 & 1 & 0 \\\\\n",
    "  0 & 0 & 3\n",
    "  \\end{array}\\right)\n",
    "  \\left(\\begin{array}{c} x'\\\\ y'\\\\ z' \\end{array}\\right)\\,.\n",
    "$$\n",
    "Ara hem d'aplicar la fòrmula del canvi de base per a transformacions lineals amb"
   ]
  },
  {
   "cell_type": "code",
   "execution_count": null,
   "metadata": {},
   "outputs": [],
   "source": [
    "u1 = vector([-3,3,1])\n",
    "u2 = vector([1,-3,-2])\n",
    "u3 = vector([1,-2,-1])\n",
    "C = matrix([u1,u2,u3]).T\n",
    "A1 = matrix([[1,0,0],[0,1,0],[0,0,3]])"
   ]
  },
  {
   "cell_type": "code",
   "execution_count": null,
   "metadata": {},
   "outputs": [],
   "source": [
    "A = C * A1 * C.inverse()\n",
    "show(A)"
   ]
  },
  {
   "cell_type": "markdown",
   "metadata": {},
   "source": [
    "Per tant, la representació de la transformació lineal en la base canònica és\n",
    "$$\n",
    "  \\left(\\begin{array}{c} u\\\\ v\\\\ w \\end{array}\\right)\n",
    "  = \\left(\\begin{array}{rrr}\n",
    "  -5 & -10 &  12 \\\\\n",
    "  12 &  21 & -24 \\\\\n",
    "   6 &  10 & -11\n",
    "  \\end{array}\\right)\n",
    "  \\left(\\begin{array}{c} x\\\\ y\\\\ z \\end{array}\\right)\\,.\n",
    "$$"
   ]
  },
  {
   "cell_type": "markdown",
   "metadata": {},
   "source": [
    "## Exercici 12\n",
    "Calculeu la matriu associada en la base $\\mathcal{B}'=\\{(1,2),(2,1)\\}$\n",
    "del gir vectorial d'angle $\\frac{3\\pi}{4}$."
   ]
  },
  {
   "cell_type": "markdown",
   "metadata": {},
   "source": [
    "La representació d'un gir d'angle $\\alpha$ en la base canònica és\n",
    "$$\n",
    "  \\left(\\begin{array}{c} u\\\\ v \\end{array}\\right)\n",
    "  = \\left(\\begin{array}{rr}\n",
    "  \\cos\\alpha & -\\sin\\alpha \\\\\n",
    "  \\sin\\alpha &  \\cos\\alpha\n",
    "  \\end{array}\\right)\n",
    "  \\left(\\begin{array}{c} x\\\\ y \\end{array}\\right)\\,.\n",
    "$$"
   ]
  },
  {
   "cell_type": "markdown",
   "metadata": {},
   "source": [
    "En aquest cas $\\alpha=\\frac{3\\pi}{4}$ i la matriu corresponent serà"
   ]
  },
  {
   "cell_type": "code",
   "execution_count": null,
   "metadata": {},
   "outputs": [],
   "source": [
    "alfa = 3*pi/4\n",
    "A = matrix([[cos(alfa),-sin(alfa)],[sin(alfa),cos(alfa)]])\n",
    "show(A)"
   ]
  },
  {
   "cell_type": "markdown",
   "metadata": {},
   "source": [
    "La resta és com l'exercici 10:"
   ]
  },
  {
   "cell_type": "code",
   "execution_count": null,
   "metadata": {},
   "outputs": [],
   "source": [
    "C = matrix([[1,2],[2,1]]).T\n",
    "A1 = C.inverse() * A * C\n",
    "show(A1)"
   ]
  },
  {
   "cell_type": "markdown",
   "metadata": {},
   "source": [
    "La representació del gir en la base $\\mathcal{B}'$ és\n",
    "$$ \n",
    "  \\left(\\begin{array}{c} u'\\\\ v' \\end{array}\\right)\n",
    "  =\\frac{\\sqrt{2}}{6}\\left(\\begin{array}{rr}\n",
    "   1 &  5 \\\\\n",
    "  -5 & -7 \\\\\n",
    "  \\end{array}\\right)\n",
    "  \\left(\\begin{array}{c} x'\\\\ y' \\end{array}\\right)=\n",
    "  \\frac{1}{3\\sqrt{2}}\\left(\\begin{array}{rr}\n",
    "   1 &  5 \\\\\n",
    "  -5 & -7 \\\\\n",
    "  \\end{array}\\right)\n",
    "  \\left(\\begin{array}{c} x'\\\\ y' \\end{array}\\right)\\,.\n",
    "$$"
   ]
  },
  {
   "cell_type": "markdown",
   "metadata": {},
   "source": [
    "## Exercici 13\n",
    "Sigui $T$ l'escalat de factors 4 en la direcció de les $x$ i 3 en la direcció de les $y$ i $G$ el gir de $120^\\circ$.\n",
    "1. Trobeu la representació en la base canònica de la transformació lineal que consisten en aplicar primer l'escalat i després el gir.\n",
    "1. Representeu en què que es transforma el rectangle de vèrtexs $(-2,-1)$, $(2,-1)$, $(2,1)$ i $(-2,1)$. "
   ]
  },
  {
   "cell_type": "markdown",
   "metadata": {},
   "source": [
    "La representació en la base canònica de l'escalat i del gir són, repectivament,\n",
    "$$\n",
    "  \\left(\\begin{array}{c} u\\\\ v \\end{array}\\right)\n",
    "  =\\left(\\begin{array}{rr}\n",
    "   4 & 0 \\\\\n",
    "   0 & 3 \n",
    "  \\end{array}\\right)\n",
    "  \\left(\\begin{array}{c} x\\\\ y \\end{array}\\right)\\qquad\\text{i}\\qquad\n",
    "  \\left(\\begin{array}{c} u\\\\ v \\end{array}\\right)\n",
    "  =\\frac{1}{2}\\left(\\begin{array}{cc}\n",
    "     -1     & -\\sqrt{3} \\\\\n",
    "   \\sqrt{3} &    -1\n",
    "  \\end{array}\\right)\n",
    "  \\left(\\begin{array}{c} x\\\\ y \\end{array}\\right)\\,.\n",
    "$$\n",
    "Aleshores, si apliquem primer l'escalat i després el gir, tindrem que\n",
    "$$\n",
    "  \\left(\\begin{array}{c} u\\\\ v \\end{array}\\right)=\n",
    "  \\frac{1}{2}\\left(\\begin{array}{cc}\n",
    "     -1     & -\\sqrt{3} \\\\\n",
    "   \\sqrt{3} &    -1\n",
    "  \\end{array}\\right)\n",
    "  \\left(\\begin{array}{rr}\n",
    "   4 & 0 \\\\\n",
    "   0 & 3 \n",
    "  \\end{array}\\right)\n",
    "  \\left(\\begin{array}{c} x\\\\ y \\end{array}\\right)\n",
    "$$\n"
   ]
  },
  {
   "cell_type": "code",
   "execution_count": null,
   "metadata": {},
   "outputs": [],
   "source": [
    "A = matrix([[4,0],[0,3]])\n",
    "alfa = 2*pi/3\n",
    "B = matrix([[cos(alfa),-sin(alfa)],[sin(alfa),cos(alfa)]])\n",
    "show(B*A)"
   ]
  },
  {
   "cell_type": "markdown",
   "metadata": {},
   "source": [
    "La representació en la base canònica de la transformació resultant és\n",
    "$$\n",
    "  \\left(\\begin{array}{c} u\\\\ v \\end{array}\\right) \n",
    "  =\\frac{1}{2}\\left(\\begin{array}{cc}\n",
    "     -4     & -3\\sqrt{3} \\\\\n",
    "   4\\sqrt{3} &    -3\n",
    "  \\end{array}\\right)\n",
    "  \\left(\\begin{array}{c} x\\\\ y \\end{array}\\right)\\,.\n",
    "$$"
   ]
  },
  {
   "cell_type": "code",
   "execution_count": null,
   "metadata": {},
   "outputs": [],
   "source": [
    "%%asy --fmt svg\n",
    "import geometry;\n",
    "import coordenades;\n",
    "import graph;\n",
    "\n",
    "unitsize(1cm);\n",
    "\n",
    "pen g = opacity(.5)+lightgreen,\n",
    "    b = opacity(.5)+lightblue;\n",
    "pair P[] = {(-2,-1), (2,-1), (2,1), (-2,1)};\n",
    "real A[][] = {{-2,-3*sqrt(3)/2},{2*sqrt(3),-3/2}};\n",
    "transform tr = TransformacioLineal(A);\n",
    "Canonica(-10,10,-10,10);\n",
    "filldraw(P[0]--P[1]--P[2]--P[3]--cycle,b,1bp+blue);\n",
    "filldraw(tr*P[0]--tr*P[1]--tr*P[2]--tr*P[3]--cycle,g,1bp+green);"
   ]
  },
  {
   "cell_type": "markdown",
   "metadata": {},
   "source": [
    "## Exercici 14\n",
    "Trobeu la matriu en la base canònica de la rotació vectorial d'angles respectius d'Euler\n",
    "$$\\psi=\\dfrac{3\\pi}{2} \\,, \\qquad \\theta=\\dfrac{5\\pi}{4} \\qquad \\text{i} \\qquad \\phi=\\dfrac{\\pi}{4} \\,. $$"
   ]
  },
  {
   "cell_type": "code",
   "execution_count": null,
   "metadata": {},
   "outputs": [],
   "source": [
    "psi = 3*pi/2\n",
    "theta = 5*pi/4\n",
    "phi = pi/4"
   ]
  },
  {
   "cell_type": "code",
   "execution_count": null,
   "metadata": {},
   "outputs": [],
   "source": [
    "A = euler(psi,theta,phi)\n",
    "show(A)"
   ]
  },
  {
   "cell_type": "markdown",
   "metadata": {},
   "source": [
    "La matriu de la rotació en la base canònica és\n",
    "$$\n",
    "  A = \\frac{1}{2}\\left(\\begin{array}{ccc}\n",
    "     -1    & \\sqrt{2} &  -1 \\\\\n",
    "     1     & \\sqrt{2} &   1 \\\\\n",
    "  \\sqrt{2} &   0      & -\\sqrt{2}\n",
    "  \\end{array}\\right)\\,.\n",
    "$$"
   ]
  },
  {
   "cell_type": "markdown",
   "metadata": {},
   "source": [
    "## Exercici 15\n",
    "Trobeu la matriu en la base canònica de la rotació vectorial d'angle $\\frac{\\pi}{2}$ al voltant del vector $(1,0,1)$ \n",
    "1. directament;\n",
    "1. fent servir quaternions."
   ]
  },
  {
   "cell_type": "markdown",
   "metadata": {},
   "source": [
    "En primer hem de determinar una base ortonormal positiva de manera que el primer sigui proporcional (amb la mateixa direcció i sentit) al vector $(1,0,1)$."
   ]
  },
  {
   "cell_type": "code",
   "execution_count": null,
   "metadata": {},
   "outputs": [],
   "source": [
    "u1 = vector([1,0,1])\n",
    "u1 = u1 / u1.norm()\n",
    "show(u1)"
   ]
  },
  {
   "cell_type": "markdown",
   "metadata": {},
   "source": [
    "El segon vector pot ser qualsevol vector perpendicular al primer:"
   ]
  },
  {
   "cell_type": "code",
   "execution_count": null,
   "metadata": {},
   "outputs": [],
   "source": [
    "u2 = vector([0,1,0])\n",
    "u2 = u2 / u2.norm()\n",
    "show(u2)"
   ]
  },
  {
   "cell_type": "markdown",
   "metadata": {},
   "source": [
    "El tercer ha de ser el producte vectorial del dos primers:"
   ]
  },
  {
   "cell_type": "code",
   "execution_count": null,
   "metadata": {},
   "outputs": [],
   "source": [
    "u3 = u1.cross_product(u2)\n",
    "show(u3)"
   ]
  },
  {
   "cell_type": "markdown",
   "metadata": {},
   "source": [
    "La matriu de la rotació en la base $\\mathcal{B}'=\\{\\vec u_1,\\vec u_2,\\vec u_3\\}$ és\n",
    "$$\n",
    "  A' = \\left(\\begin{array}{rcc}\n",
    "  1 &     0      &    0       \\\\\n",
    "  0 & \\cos\\alpha & -\\sin\\alpha \\\\\n",
    "  0 & \\sin\\alpha &  \\cos\\alpha\n",
    "  \\end{array}\\right)\\,.\n",
    "$$\n",
    "Només cal substituir $\\alpha=\\frac{\\pi}{2}$ i aplicar la fórmula del canvi de base per a transformacions lineals:"
   ]
  },
  {
   "cell_type": "code",
   "execution_count": null,
   "metadata": {},
   "outputs": [],
   "source": [
    "alfa = pi/2\n",
    "A1 = matrix([[1,0,0],[0,cos(alfa),-sin(alfa)],[0,sin(alfa),cos(alfa)]])\n",
    "C = matrix([u1,u2,u3]).T\n",
    "show(C * A1 * C.inverse())"
   ]
  },
  {
   "cell_type": "markdown",
   "metadata": {},
   "source": [
    "La matriu i la representació de la rotació vectorial d'angle $\\frac{\\pi}{2}$ al voltant del vector $(1,0,1)$ en la base canónica són\n",
    "$$\n",
    "  A=\\frac{1}{2}\\left(\\begin{array}{rrr}\n",
    "   1 & -\\sqrt{2} & 1 \\\\\n",
    "   \\sqrt{2} & 0 & -\\sqrt{2} \\\\\n",
    "   1 & \\sqrt{2} & 1\n",
    "  \\end{array}\\right)\\qquad\\text{i}\\qquad \n",
    "  \\left(\\begin{array}{c} u \\\\ v \\\\ w \\end{array}\\right)\n",
    "  =\\frac{1}{2}\\left(\\begin{array}{rrr}\n",
    "  1 & -\\sqrt{2} & 1 \\\\\n",
    "   \\sqrt{2} & 0 & -\\sqrt{2} \\\\\n",
    "   1 & \\sqrt{2} & 1\n",
    "  \\end{array}\\right)\n",
    "  \\left(\\begin{array}{c} x \\\\ y \\\\ z \\end{array}\\right)\\,.\n",
    "$$"
   ]
  },
  {
   "cell_type": "markdown",
   "metadata": {},
   "source": [
    "El quaternió que determina aquesta rotació és\n",
    "$$\n",
    "  q = \\cos\\frac{\\alpha}{2} + \\sin\\frac{\\alpha}{2}\\vec u_1\\,.\n",
    "$$"
   ]
  },
  {
   "cell_type": "code",
   "execution_count": null,
   "metadata": {},
   "outputs": [],
   "source": [
    "a  = cos(alfa/2)\n",
    "b,c,d = sin(alfa/2)*u1"
   ]
  },
  {
   "cell_type": "code",
   "execution_count": null,
   "metadata": {},
   "outputs": [],
   "source": [
    "show(quaternio_a_rotacio(a,b,c,d))"
   ]
  },
  {
   "cell_type": "markdown",
   "metadata": {},
   "source": [
    "Evidentment, obtenim el mateix resultat que abans."
   ]
  },
  {
   "cell_type": "markdown",
   "metadata": {},
   "source": [
    "## Exercici 16\n",
    "Trobeu l'expressió en la base canònica de la transformació lineal de $V_3$ que consisteix en aplicar successivament una rotació vectorial de $60^\\circ$ al voltant de l'eix de les $x$, una rotació vectorial de $30^\\circ$ al voltant de l'eix de les $y$ i una rotació vectorial de $120^\\circ$ al voltant de l'eix de les $z$. Trobeu també l'eix de la combinació de les tres rotacions."
   ]
  },
  {
   "cell_type": "markdown",
   "metadata": {},
   "source": [
    "Recordem que una rotació d'angle $\\alpha$ al voltant de l'eix de les $x$ ve donada per\n",
    "$$\n",
    "  \\left(\\begin{array}{c} u\\\\ v\\\\ w \\end{array}\\right)\n",
    "  =\\left(\\begin{array}{ccc}\n",
    "     1      &     0       &    0 \\\\\n",
    "     0      &  \\cos\\alpha & -\\sin\\alpha \\\\\n",
    "     0      &  \\sin\\alpha &   \\cos\\alpha\n",
    "  \\end{array}\\right)\n",
    "  \\left(\\begin{array}{c} x\\\\ y\\\\ z \\end{array}\\right)\\,,\n",
    "$$\n",
    "que la rotació d'angle $\\alpha$ al voltant de l'eix de les $y$ ve donada per\n",
    "$$\n",
    "  \\left(\\begin{array}{c} u\\\\ v\\\\ w \\end{array}\\right)\n",
    "  =\\left(\\begin{array}{ccc}\n",
    "   \\cos\\alpha  &   0   & \\sin\\alpha \\\\\n",
    "      0        &   1   &    0 \\\\\n",
    "   -\\sin\\alpha &   0   & \\cos\\alpha\n",
    "  \\end{array}\\right)\n",
    "  \\left(\\begin{array}{c} x\\\\ y\\\\ z \\end{array}\\right)\\,,\n",
    "$$\n",
    "i que la rotació d'angle $\\alpha$ al voltant de l'eix de les $z$ ve donada per\n",
    "$$\n",
    "  \\left(\\begin{array}{c} u\\\\ v\\\\ w \\end{array}\\right)\n",
    "  =\\left(\\begin{array}{ccc}\n",
    "   \\cos\\alpha  & -\\sin\\alpha  &    0 \\\\\n",
    "   \\sin\\alpha  &  \\cos\\alpha  &    0 \\\\\n",
    "      0        &      0       &    1\n",
    "  \\end{array}\\right)\n",
    "  \\left(\\begin{array}{c} x\\\\ y\\\\ z \\end{array}\\right)\\,.\n",
    "$$"
   ]
  },
  {
   "cell_type": "markdown",
   "metadata": {},
   "source": [
    "Escrivim primer els angles expressats en radiants:"
   ]
  },
  {
   "cell_type": "code",
   "execution_count": null,
   "metadata": {},
   "outputs": [],
   "source": [
    "g = pi/180\n",
    "alfa = 60*g\n",
    "beta = 30*g\n",
    "gamma = 120*g"
   ]
  },
  {
   "cell_type": "markdown",
   "metadata": {},
   "source": [
    "Aleshores, la matriu de la rotació de $60^\\circ$ al voltant de l'eix de les $x$ és"
   ]
  },
  {
   "cell_type": "code",
   "execution_count": null,
   "metadata": {},
   "outputs": [],
   "source": [
    "A = matrix([[1,0,0],[0,cos(alfa),-sin(alfa)],[0,sin(alfa),cos(alfa)]])\n",
    "show(A)"
   ]
  },
  {
   "cell_type": "markdown",
   "metadata": {},
   "source": [
    "La matriu de la rotació de $30^\\circ$ al voltant de l'eix de les $y$ és"
   ]
  },
  {
   "cell_type": "code",
   "execution_count": null,
   "metadata": {},
   "outputs": [],
   "source": [
    "B = matrix(3,3,[cos(beta),0,sin(beta),0,1,0,-sin(beta),0,cos(beta)])\n",
    "show(B)"
   ]
  },
  {
   "cell_type": "markdown",
   "metadata": {},
   "source": [
    "De manera semblant, La matriu de la rotació de $120^\\circ$ al voltant de l'eix de les $z$"
   ]
  },
  {
   "cell_type": "code",
   "execution_count": null,
   "metadata": {},
   "outputs": [],
   "source": [
    "C = matrix(3,3,[cos(gamma),-sin(gamma),0,sin(gamma),cos(gamma),0,0,0,1])\n",
    "show(C)"
   ]
  },
  {
   "cell_type": "markdown",
   "metadata": {},
   "source": [
    "Tenint en compte l'ordre en que hem d'aplicar les rotacions, la matriu resultant serà"
   ]
  },
  {
   "cell_type": "code",
   "execution_count": null,
   "metadata": {},
   "outputs": [],
   "source": [
    "R = C * B * A\n",
    "show(R)"
   ]
  },
  {
   "cell_type": "markdown",
   "metadata": {},
   "source": [
    "Per tant, la transformació lineal ve donada per\n",
    "$$\n",
    "  \\left(\\begin{array}{c} u\\\\ v\\\\ w \\end{array}\\right)\n",
    "  =\\frac{1}{8}\\left(\\begin{array}{ccc}\n",
    "   -2\\sqrt{3} & -3\\sqrt{3} &     5  \\\\\n",
    "        6     &     1      & 3\\sqrt{3} \\\\\n",
    "       -4     &     6      & 2\\sqrt{3}\n",
    "   \\end{array}\\right)\n",
    "  \\left(\\begin{array}{c} x\\\\ y\\\\ z \\end{array}\\right)\\,,\n",
    "$$"
   ]
  },
  {
   "cell_type": "markdown",
   "metadata": {},
   "source": [
    "Per trobar l'eix de rotació, hem de resoldre el sistema d'equacions\n",
    "$$\n",
    "  \\left(\\begin{array}{c} x\\\\ y\\\\ z \\end{array}\\right)\n",
    "  =\\frac{1}{8}\\left(\\begin{array}{ccc}\n",
    "   -2\\sqrt{3} & -3\\sqrt{3} &     5  \\\\\n",
    "        6     &     1      & 3\\sqrt{3} \\\\\n",
    "       -4     &     6      & 2\\sqrt{3}\n",
    "   \\end{array}\\right)\n",
    "  \\left(\\begin{array}{c} x\\\\ y\\\\ z \\end{array}\\right)\\,,\n",
    "$$"
   ]
  },
  {
   "cell_type": "code",
   "execution_count": null,
   "metadata": {},
   "outputs": [],
   "source": [
    "x, y, z = var('x y z')\n",
    "X = vector([x,y,z])\n",
    "TX = R * X\n",
    "show(solve([X[i] == TX[i] for i in range(3)],[x,y,z]))"
   ]
  },
  {
   "cell_type": "markdown",
   "metadata": {},
   "source": [
    "L'eix de rotació ve donat pel vector $\\vec w=(1,6+3\\sqrt{3},7+4\\sqrt{3})$. Per comprovar que és correcte, fem el càlcul següent:"
   ]
  },
  {
   "cell_type": "code",
   "execution_count": null,
   "metadata": {},
   "outputs": [],
   "source": [
    "w = vector([1,6+3*sqrt(3),7+4*sqrt(3)])\n",
    "## show(simplificar_radicals(R*w))\n",
    "simplificar_radicals(R*w) == w"
   ]
  },
  {
   "cell_type": "markdown",
   "metadata": {},
   "source": [
    "## Exercici 17\n",
    "Donada la rotació representada en la base canònica per\n",
    "$$\n",
    "  \\left(\\begin{array}{c} u\\\\ v\\\\ w \\end{array}\\right)\n",
    "  =\\frac{1}{3}\\left(\\begin{array}{ccc}\n",
    "         1     & -1+\\sqrt{3} & -1-\\sqrt{3}\\\\ \n",
    "   -1-\\sqrt{3} &      1      & 1-\\sqrt{3}\\\\ \n",
    "   -1+\\sqrt{3} &  1+\\sqrt{3} &     1\n",
    "   \\end{array}\\right)\n",
    "  \\left(\\begin{array}{c} x\\\\ y\\\\ z \\end{array}\\right)\\,,\n",
    "$$\n",
    "trobeu l'eix i l'angle de rotació i el quaternió que la defineix."
   ]
  },
  {
   "cell_type": "markdown",
   "metadata": {},
   "source": [
    "Per trobar l'eix de rotació hem de resoldre el sistema d'equacions\n",
    "$$\n",
    "  \\left(\\begin{array}{c} x\\\\ y\\\\ z\\end{array}\\right)\n",
    "  =\\frac{1}{3}\\left(\\begin{array}{ccc}\n",
    "         1     & -1+\\sqrt{3} & -1-\\sqrt{3}\\\\ \n",
    "   -1-\\sqrt{3} &      1      & 1-\\sqrt{3}\\\\ \n",
    "   -1+\\sqrt{3} &  1+\\sqrt{3} &     1\n",
    "   \\end{array}\\right)\n",
    "  \\left(\\begin{array}{c} x\\\\ y\\\\ z \\end{array}\\right)\\,.\n",
    "$$"
   ]
  },
  {
   "cell_type": "code",
   "execution_count": null,
   "metadata": {},
   "outputs": [],
   "source": [
    "x, y, z = var('x y z')\n",
    "X = vector([x,y,z])\n",
    "A = 1/3*matrix([[1,-1+sqrt(3),-1-sqrt(3)],[-1-sqrt(3),1,1-sqrt(3)],[-1+sqrt(3),1+sqrt(3),1]])\n",
    "show(A)"
   ]
  },
  {
   "cell_type": "code",
   "execution_count": null,
   "metadata": {},
   "outputs": [],
   "source": [
    "TX = A * X\n",
    "show(solve([X[i] == TX[i] for i in range(3)],[x,y,z]))"
   ]
  },
  {
   "cell_type": "markdown",
   "metadata": {},
   "source": [
    "L'eix de rotació ve donat pel vector $\\vec w = (-1,1,1)$. Per trobar l'angle de rotació, hem de començar aplicant la fórmula\n",
    "$$\n",
    "  \\cos\\alpha=\\frac{-1+\\text{traça}(A)}{2}\n",
    "$$"
   ]
  },
  {
   "cell_type": "code",
   "execution_count": null,
   "metadata": {},
   "outputs": [],
   "source": [
    "w = vector([-1,1,1])\n",
    "a = acos((-1+A.trace())/2)\n",
    "show(a)"
   ]
  },
  {
   "cell_type": "markdown",
   "metadata": {},
   "source": [
    "Amb això, només podem afirmar que l'angle de rotació és de $90^\\circ$ o de $270^\\circ$. Per determinar quin dels dos és, escollim un vector qualsevol i calculem"
   ]
  },
  {
   "cell_type": "code",
   "execution_count": null,
   "metadata": {},
   "outputs": [],
   "source": [
    "u = vector([1,0,0])\n",
    "v = A * u\n",
    "M = matrix([w,u,v]).T\n",
    "show(M.det())"
   ]
  },
  {
   "cell_type": "markdown",
   "metadata": {},
   "source": [
    "Com que el determinant és negatiu, l'angle de rotació és $\\alpha=270^\\circ$."
   ]
  },
  {
   "cell_type": "markdown",
   "metadata": {},
   "source": [
    "El quaternió que detetrmina la rotació és\n",
    "$$\n",
    "   q = \\cos(135^\\circ)+\\sin(135^\\circ)\\frac{1}{\\sqrt{3}}(-1,1,1)\n",
    "$$"
   ]
  },
  {
   "cell_type": "markdown",
   "metadata": {},
   "source": [
    "La part escalar del quaternió és"
   ]
  },
  {
   "cell_type": "code",
   "execution_count": null,
   "metadata": {},
   "outputs": [],
   "source": [
    "a = cos(135*pi/180)\n",
    "show(a)"
   ]
  },
  {
   "cell_type": "markdown",
   "metadata": {},
   "source": [
    "La part vectorial del quaternió és"
   ]
  },
  {
   "cell_type": "code",
   "execution_count": null,
   "metadata": {},
   "outputs": [],
   "source": [
    "u = simplificar_radicals(sin(135*pi/180)*1/sqrt(3)*w)\n",
    "show(u)"
   ]
  },
  {
   "cell_type": "markdown",
   "metadata": {},
   "source": [
    "és a dir, la part vectorial és\n",
    "$$\n",
    "  \\vec u=\\frac{1}{\\sqrt{6}}\\big(-\\vec\\imath + \\vec\\jmath + \\vec k\\big)\\,.\n",
    "$$"
   ]
  },
  {
   "cell_type": "markdown",
   "metadata": {},
   "source": [
    "Per tant, el quaternió és\n",
    "$$\n",
    "  q = -\\frac{1}{\\sqrt{2}}+ \\frac{1}{\\sqrt{6}}\\left(-i+j+k\\right)=\n",
    "  \\frac{1}{\\sqrt{6}}\\left(-\\sqrt{3}-i+j+k\\right)\\,.\n",
    "$$\n",
    "Recordem que el seu oposat $q = \\frac{1}{\\sqrt{6}}\\left(\\sqrt{3}+i-j-k\\right)$ també és correcte ja que defineix la mateixa rotació."
   ]
  },
  {
   "cell_type": "markdown",
   "metadata": {},
   "source": [
    "## Exercici 18\n",
    "Determineu si la transformació lineal $T:V_2\\longrightarrow V_2$ que en la base $\\mathcal{B}'=\\{(1,2),(1,1)\\}$ ve donada per la matriu\n",
    "$$\n",
    "  A'=\\frac{1}{\\sqrt2} \\,\n",
    "  \\left(\\begin{array}{rr}\n",
    "  4 & 2\\\\\n",
    " -5 & 2\n",
    "  \\end{array}\\right)\n",
    "$$\n",
    "és un gir vectorial i, en cas afirmatiu, calculeu l'angle de gir."
   ]
  },
  {
   "cell_type": "markdown",
   "metadata": {},
   "source": [
    "En primer lloc, hem de trobar la matriu de la transformació lineal en la base canònica aplicant la fórmula\n",
    "$$\n",
    "  A = CA'C^{-1}\\,.\n",
    "$$"
   ]
  },
  {
   "cell_type": "code",
   "execution_count": null,
   "metadata": {},
   "outputs": [],
   "source": [
    "A1 = 1/sqrt(2)*matrix([[4,2],[-5,-2]])\n",
    "C = matrix([[1,2],[1,1]]).T\n",
    "A = C * A1 * C.inverse()\n",
    "show(A)"
   ]
  },
  {
   "cell_type": "markdown",
   "metadata": {},
   "source": [
    "Una transformació lineal de $V_2$ és un gir si compleix que $A^tA=I$ i $\\det(A)=1$. Comprovem-ho:"
   ]
  },
  {
   "cell_type": "code",
   "execution_count": null,
   "metadata": {},
   "outputs": [],
   "source": [
    "show(A.T * A)"
   ]
  },
  {
   "cell_type": "code",
   "execution_count": null,
   "metadata": {},
   "outputs": [],
   "source": [
    "show(A.det())"
   ]
  },
  {
   "cell_type": "markdown",
   "metadata": {},
   "source": [
    "Efectivament, $T$ és un gir. La millor manera de determinar l'angle de gir és"
   ]
  },
  {
   "cell_type": "code",
   "execution_count": null,
   "metadata": {},
   "outputs": [],
   "source": [
    "show(atan2(A[1,0],A[0,0]))"
   ]
  },
  {
   "cell_type": "markdown",
   "metadata": {},
   "source": [
    "Així doncs, és tracta d'un gir d'angle $\\frac{\\pi}{4}$."
   ]
  },
  {
   "cell_type": "markdown",
   "metadata": {
    "tags": []
   },
   "source": [
    "## Exercici 19\n",
    "Analitzeu si la transformació lineal $T$ de $V_3$ representada per\n",
    "$$\n",
    "  \\left(\\begin{array}{c} u\\\\ v\\\\ w \\end{array}\\right)\n",
    "  =\\frac{1}{2}\n",
    "  \\left(\\begin{array}{ccc}\n",
    "      1    &    1      & -\\sqrt{2} \\\\\n",
    "      1    &    1      &  \\sqrt{2} \\\\\n",
    "  \\sqrt{2} & -\\sqrt{2} &     0\n",
    "  \\end{array}\\right)\n",
    "  \\left(\\begin{array}{c} x\\\\ y\\\\ z \\end{array}\\right)\n",
    "$$\n",
    "és una rotació vectorial i, en cas afirmatiu, calculeu els angles d'Euler i el vector i l'angle de gir\n",
    "1. directament;\n",
    "2. fent servir quaternions."
   ]
  },
  {
   "cell_type": "markdown",
   "metadata": {},
   "source": [
    "La matriu en la base canònica de $T$ és"
   ]
  },
  {
   "cell_type": "code",
   "execution_count": null,
   "metadata": {},
   "outputs": [],
   "source": [
    "A = 1/2*matrix([[1,1,-sqrt(2)],[1,1,sqrt(2)],[sqrt(2),-sqrt(2),0]])\n",
    "show(A)"
   ]
  },
  {
   "cell_type": "markdown",
   "metadata": {},
   "source": [
    "Per saber si és una rotació vectorial hem de comprovar si compleix $A^tA=I$ i $\\det(A)=1$."
   ]
  },
  {
   "cell_type": "code",
   "execution_count": null,
   "metadata": {},
   "outputs": [],
   "source": [
    "show(A.T * A)"
   ]
  },
  {
   "cell_type": "code",
   "execution_count": null,
   "metadata": {},
   "outputs": [],
   "source": [
    "show(A.det())"
   ]
  },
  {
   "cell_type": "markdown",
   "metadata": {},
   "source": [
    "Efectivament, és una rotació vectorial. Per calcular els angles d'Euler, hem definit una funció."
   ]
  },
  {
   "cell_type": "code",
   "execution_count": null,
   "metadata": {},
   "outputs": [],
   "source": [
    "psi, theta, phi = angles_euler_rotacio(A)\n",
    "show(psi)\n",
    "show(theta)\n",
    "show(phi)"
   ]
  },
  {
   "cell_type": "markdown",
   "metadata": {},
   "source": [
    "Els angles d'Euler són $\\psi=\\frac{3\\pi}{4}$, $\\theta=\\frac{\\pi}{2}$ i $\\phi=-\\frac{3\\pi}{4}$."
   ]
  },
  {
   "cell_type": "markdown",
   "metadata": {},
   "source": [
    "Comprovacio:"
   ]
  },
  {
   "cell_type": "code",
   "execution_count": null,
   "metadata": {},
   "outputs": [],
   "source": [
    "show(euler(psi,theta,phi))"
   ]
  },
  {
   "cell_type": "markdown",
   "metadata": {},
   "source": [
    "Per trobar el vector de gir hem de resoldre el sistema d'equacions\n",
    "$$\n",
    "  \\left(\\begin{array}{c} x\\\\ y\\\\ z \\end{array}\\right)\n",
    "  =\\frac{1}{2}\n",
    "  \\left(\\begin{array}{ccc}\n",
    "      1    &    1      & -\\sqrt{2} \\\\\n",
    "      1    &    1      &  \\sqrt{2} \\\\\n",
    "  \\sqrt{2} & -\\sqrt{2} &     0\n",
    "  \\end{array}\\right)\n",
    "  \\left(\\begin{array}{c} x\\\\ y\\\\ z \\end{array}\\right)\\,.\n",
    "$$"
   ]
  },
  {
   "cell_type": "code",
   "execution_count": null,
   "metadata": {},
   "outputs": [],
   "source": [
    "x, y, z = var('x y z')\n",
    "X = vector([x,y,z])\n",
    "TX = A * X\n",
    "sol = solve([TX[i] == X[i] for i in range(3)],[x,y,z])\n",
    "show(sol)"
   ]
  },
  {
   "cell_type": "markdown",
   "metadata": {},
   "source": [
    "El vector de gir és $\\vec w=(1,1,0)$. Una altra manera de trobar-lo seria"
   ]
  },
  {
   "cell_type": "code",
   "execution_count": null,
   "metadata": {},
   "outputs": [],
   "source": [
    "w = (A - matrix.identity(3)).right_kernel()\n",
    "show(w)"
   ]
  },
  {
   "cell_type": "markdown",
   "metadata": {},
   "source": [
    "Per determinar l'angle de gir, hem de fer el següent"
   ]
  },
  {
   "cell_type": "code",
   "execution_count": null,
   "metadata": {},
   "outputs": [],
   "source": [
    "a = acos((-1+A.trace())/2)\n",
    "show(a)"
   ]
  },
  {
   "cell_type": "markdown",
   "metadata": {},
   "source": [
    "Amb això sabem que l'angle de gir pot ser $\\alpha=\\frac{\\pi}{2}$ o $\\alpha=\\frac{3\\pi}{2}$. Per saber quin dels dos és:"
   ]
  },
  {
   "cell_type": "code",
   "execution_count": null,
   "metadata": {},
   "outputs": [],
   "source": [
    "u = vector([1,0,0])\n",
    "w = vector([1,1,0])\n",
    "Tu = A * u\n",
    "show(matrix([w,u,Tu]).T.det())"
   ]
  },
  {
   "cell_type": "markdown",
   "metadata": {},
   "source": [
    "Com que és negatiu, l'angle de gir és $\\alpha=\\frac{3\\pi}{2}$."
   ]
  },
  {
   "cell_type": "markdown",
   "metadata": {},
   "source": [
    "Per a obtenir el vector i l'angle de gir mitjançant quaternions, hem de determinar el quaternió unitari\n",
    "$$\n",
    "  q = a + bi + cj + dk\n",
    "$$\n",
    "que determina la rotació."
   ]
  },
  {
   "cell_type": "code",
   "execution_count": null,
   "metadata": {},
   "outputs": [],
   "source": [
    "a, b, c, d = var('a b c d')\n",
    "M = quaternio_a_rotacio(a,b,c,d)\n",
    "show(M)"
   ]
  },
  {
   "cell_type": "markdown",
   "metadata": {},
   "source": [
    "Ara hem d'igualar aquesta matriu a la matriu $A$ de l'enunciat i resoldre el corresponent sistema d'equacions"
   ]
  },
  {
   "cell_type": "code",
   "execution_count": null,
   "metadata": {},
   "outputs": [],
   "source": [
    "show(solve([M[i,j] == A[i,j] for i in range(3) for j in range(3)],[a,b,c,d]))"
   ]
  },
  {
   "cell_type": "markdown",
   "metadata": {},
   "source": [
    "Podem escollir qualsevol de les dues solucions. Si prenem la primera, tindrem que\n",
    "$$\n",
    "  a=-\\frac{\\sqrt{2}}{2}\\,,\\qquad b=\\frac{1}{2}\\,,\\qquad c=\\frac{1}{2}\\,,\\quad\\text{i}\\quad d=0\\,, \n",
    "$$\n",
    "és a dir, el quaternió és\n",
    "$$\n",
    "  q=-\\frac{\\sqrt{2}}{2} + \\frac{i}{2} + \\frac{j}{2}=-\\frac{\\sqrt{2}}{2} +\\frac{\\sqrt{2}}{2}\\cdot\\frac{1}{\\sqrt{2}}(i+j)\\,.\n",
    "$$\n",
    "Per tant, el vector de gir és $\\vec w=(1,1,0)$ i $\\cos\\frac{\\alpha}{2}=-\\frac{\\sqrt{2}}{2}$ i $\\sin\\frac{\\alpha}{2}=\\frac{\\sqrt{2}}{2}$."
   ]
  },
  {
   "cell_type": "code",
   "execution_count": null,
   "metadata": {},
   "outputs": [],
   "source": [
    "c = -sqrt(2)/2\n",
    "s = sqrt(2)/2\n",
    "show(2 * atan2(c,s))"
   ]
  },
  {
   "cell_type": "markdown",
   "metadata": {},
   "source": [
    "El vector de gir és $\\vec w=(1,1,0)$ i l'angle de gir $\\alpha=-\\frac{\\pi}{2}$ (que és equivalent a $\\frac{3\\pi}{2}$)."
   ]
  },
  {
   "cell_type": "markdown",
   "metadata": {},
   "source": [
    "## Exercici 20\n",
    "Trobeu la imatge del punt $(0,1,-2)$ i les antiimatges del punt $(3,1,-1)$\n",
    "en la transformació afí $T$ de $P_3$ tal que\n",
    "$$\n",
    "  \\left(\\begin{array}{c} u \\\\ v \\\\ w \\end{array}\\right)\n",
    "  = \\left(\\begin{array}{r} 4 \\\\ 1 \\\\ -2 \\end{array}\\right)\n",
    "  + \\left(\\begin{array}{rrr}\n",
    "   -1 &  1 &  0\\\\\n",
    "   -4 &  0 & -1\\\\\n",
    "    1 & -1 &  0\n",
    "  \\end{array}\\right)\n",
    "  \\left(\\begin{array}{c} x \\\\ y \\\\ z \\end{array}\\right)\\,.\n",
    "$$"
   ]
  },
  {
   "cell_type": "markdown",
   "metadata": {},
   "source": [
    "Per calcular les imatges hem de substituir ls $x$, la $y$ i la $z$ per les coordenades del punt del que volem calcular la imatge"
   ]
  },
  {
   "cell_type": "code",
   "execution_count": null,
   "metadata": {},
   "outputs": [],
   "source": [
    "P = vector([4,1,-2])\n",
    "A = matrix([[-1,1,0],[-4,0,-1],[1,-1,0]])\n",
    "p = vector([0,1,-2])\n",
    "show(P + A*p)"
   ]
  },
  {
   "cell_type": "markdown",
   "metadata": {},
   "source": [
    "La imatge del punt $(0,1,-2)$ és el punt $(5,3,-3)$, és a dir, $T(0,1,-2)=(5,3,-3)$."
   ]
  },
  {
   "cell_type": "markdown",
   "metadata": {},
   "source": [
    "Per trobar antiimatges, hem de resoldre un sistema d'equacions:"
   ]
  },
  {
   "cell_type": "code",
   "execution_count": null,
   "metadata": {},
   "outputs": [],
   "source": [
    "x, y, z = var('x y z')\n",
    "X = vector([x,y,z])\n",
    "q = vector([3,1,-1])\n",
    "TX = P + A*X\n",
    "show(TX)"
   ]
  },
  {
   "cell_type": "code",
   "execution_count": null,
   "metadata": {},
   "outputs": [],
   "source": [
    "show(solve([TX[i] == q[i] for i in range(3)],[x,y,z]))"
   ]
  },
  {
   "cell_type": "markdown",
   "metadata": {},
   "source": [
    "Tots els punts de la forma $(t,t-1,-4t)$ són antiimatges de $(3,1,-1)$, és a dir, \n",
    "$$\n",
    "  T^{-1}(3,1,-1)=\\{(t,t-1,-4t)\\quad\\text{amb}\\quad t\\in\\mathbb{R}\\}\\,.\n",
    "$$"
   ]
  },
  {
   "cell_type": "markdown",
   "metadata": {},
   "source": [
    "## Exercici 21\n",
    "Donada la transformació afí \n",
    "$$\n",
    "  \\left(\\begin{array}{c} u \\\\ v \\end{array}\\right)\n",
    "  =\\left(\\begin{array}{r} 2 \\\\ 3 \\end{array}\\right)\n",
    "  +\\frac{1}{9}\\left(\\begin{array}{rr}\n",
    "   1 & 4\\\\\n",
    "   8 & 5\n",
    "  \\end{array}\\right)\n",
    "  \\left(\\begin{array}{c} x \\\\ y \\end{array}\\right)\\,,\n",
    "$$\n",
    "representeu gràficament la figura que s'ha transformat en la circumferència de centre $(3,-1)$ i radi 2."
   ]
  },
  {
   "cell_type": "code",
   "execution_count": null,
   "metadata": {},
   "outputs": [],
   "source": [
    "%%asy --fmt svg\n",
    "import geometry;\n",
    "import coordenades;\n",
    "import graph;\n",
    "\n",
    "unitsize(1cm);\n",
    "\n",
    "pen g = opacity(.5)+lightgreen,\n",
    "    b = opacity(.5)+lightblue;\n",
    "\n",
    "path c = circle((3,-1),2);\n",
    "real B[] = {2,3};\n",
    "real A[][] = {{1/9,4/9},{8/5,5/9}};\n",
    "transform tr = TransformacioAfi(B,A);\n",
    "\n",
    "Canonica(-10,10,-10,10);\n",
    "filldraw(c,g,1bp+green);\n",
    "filldraw(inverse(tr)*c,b,1bp+blue);"
   ]
  },
  {
   "cell_type": "markdown",
   "metadata": {
    "tags": []
   },
   "source": [
    "## Exercici 22\n",
    "Donada la transformació afí de $P_2$\n",
    "$$\n",
    "  \\left(\\begin{array}{c} u \\\\ v \\end{array}\\right)\n",
    "  =\\left(\\begin{array}{r} 3 \\\\ -1 \\end{array}\\right)\n",
    "  +\\frac{1}{2}\\left(\\begin{array}{rr}\n",
    "   3 & 1\\\\\n",
    "   1 & 4\n",
    "  \\end{array}\\right)\n",
    "  \\left(\\begin{array}{c} x \\\\ y \\end{array}\\right)\\,,\n",
    "$$\n",
    "representeu en què es transforma el rectangle de vèrtexs $(1,0)$, $(4,3)$, $(3,4)$ i $(0,1)$ i trobeu els punts fixos d'aquesta transformació. Un punt fix d'una transformació afí és el que compleix $T(x,y)=(x,y)$."
   ]
  },
  {
   "cell_type": "code",
   "execution_count": null,
   "metadata": {},
   "outputs": [],
   "source": [
    "%%asy --fmt svg\n",
    "import geometry;\n",
    "import coordenades;\n",
    "import graph;\n",
    "\n",
    "unitsize(1cm);\n",
    "\n",
    "pen g = opacity(.5)+lightgreen,\n",
    "    b = opacity(.5)+lightblue;\n",
    "\n",
    "path P = (1,0)--(4,3)--(3,4)--(0,1)--cycle;\n",
    "\n",
    "real B[] = {3,-1};\n",
    "real A[][] = {{3/2,1/2},{1/2,2}};\n",
    "transform tr = TransformacioAfi(B,A);\n",
    "\n",
    "Canonica(-3,12,-3,12);\n",
    "filldraw(P,b,1bp+blue);\n",
    "filldraw(tr*P,g,1bp+green);"
   ]
  },
  {
   "cell_type": "markdown",
   "metadata": {},
   "source": [
    "Per trabar els punts fixos, hem de resoldre el sistema d'equacions\n",
    "$$\n",
    "  \\left(\\begin{array}{c} x \\\\ y \\end{array}\\right)\n",
    "  =\\left(\\begin{array}{r} 3 \\\\ -1 \\end{array}\\right)\n",
    "  +\\frac{1}{2}\\left(\\begin{array}{rr}\n",
    "   3 & 1\\\\\n",
    "   1 & 4\n",
    "  \\end{array}\\right)\n",
    "  \\left(\\begin{array}{c} x \\\\ y \\end{array}\\right)\\,.\n",
    "$$"
   ]
  },
  {
   "cell_type": "code",
   "execution_count": null,
   "metadata": {},
   "outputs": [],
   "source": [
    "x, y = var('x y')\n",
    "X = vector([x,y])\n",
    "A = 1/2*matrix([[3,1],[1,4]])\n",
    "P = vector([3,-1])\n",
    "TX = P + A * X \n",
    "show(TX)"
   ]
  },
  {
   "cell_type": "code",
   "execution_count": null,
   "metadata": {},
   "outputs": [],
   "source": [
    "show(solve([X[i] == TX[i] for i in range(2)],[x,y]))"
   ]
  },
  {
   "cell_type": "markdown",
   "metadata": {},
   "source": [
    "Aquesta transformació afí té un únic punt fix, el $(-14,8)$."
   ]
  },
  {
   "cell_type": "markdown",
   "metadata": {},
   "source": [
    "## Exercici 23\n",
    "Sabent que la transformació afí $T$ del pla transforma els punts\n",
    "$p=\\left(-1,1\\right)$, $q=\\left(2,-2\\right)$ i $r=\\left(-2,-2\\right)$ ens els punts $T(p)=\\left(4,1\\right)$, $T(q)=\\left(-14,7\\right)$ \n",
    "i $T(r)=\\left(-6,11\\right)$, trobeu l'expressió de $T$ en la referència canònica."
   ]
  },
  {
   "cell_type": "markdown",
   "metadata": {},
   "source": [
    "La transformació afí serà de la forma\n",
    "$$\n",
    "  \\left(\\begin{array}{c} u \\\\ v \\end{array}\\right)\n",
    "  = B + A\\left(\\begin{array}{c} x \\\\ y \\end{array}\\right)\n",
    "$$\n",
    "Aleshores tindrem que\n",
    "$$\n",
    "  \\left(\\begin{array}{r} 4 \\\\ 1 \\end{array}\\right)\n",
    "  = B + A\\left(\\begin{array}{r} -1 \\\\ 1 \\end{array}\\right)\\,,\\qquad\n",
    "  \\left(\\begin{array}{r} -14 \\\\ 7 \\end{array}\\right)\n",
    "  = B + A\\left(\\begin{array}{r} 2 \\\\ -2 \\end{array}\\right)\\,,\\qquad\\text{i}\\qquad\n",
    "  \\left(\\begin{array}{r} -6 \\\\ 11 \\end{array}\\right)\n",
    "  = B + A\\left(\\begin{array}{r} -2 \\\\ -2 \\end{array}\\right)\\,,\\qquad\n",
    "$$"
   ]
  },
  {
   "cell_type": "markdown",
   "metadata": {},
   "source": [
    "Si restem la segona igualtat menys la primera, obtenim que\n",
    "$$\n",
    "  \\left(\\begin{array}{r} -18 \\\\ 6 \\end{array}\\right)\n",
    "  =A\\left(\\begin{array}{r} 3 \\\\ -3 \\end{array}\\right)\\,.\n",
    "$$\n",
    "\n",
    "De manera semblant, si restem la tercera menys la primera, tenim que\n",
    "$$\n",
    "  \\left(\\begin{array}{r} -10 \\\\ 10 \\end{array}\\right)\n",
    "  =A\\left(\\begin{array}{r} -1 \\\\ -3 \\end{array}\\right)\\,.\n",
    "$$\n",
    "\n",
    "Per tant, la matriu $A$ ha de complir que\n",
    "$$\n",
    "  A\\left(\\begin{array}{rr} \n",
    "   3 & -1 \\\\\n",
    "  -3 & -3 \n",
    "  \\end{array}\\right)\n",
    "  =\\left(\\begin{array}{rr} \n",
    "   -18 & -10 \\\\\n",
    "     6 &  10 \n",
    "  \\end{array}\\right)\\,.\n",
    "$$"
   ]
  },
  {
   "cell_type": "markdown",
   "metadata": {},
   "source": [
    "D'aquí, podrem calcular la matriu $A$:\n",
    "$$\n",
    "  A=\\left(\\begin{array}{rr} \n",
    "   -18 & -10 \\\\\n",
    "     6 &  10 \n",
    "  \\end{array}\\right)\n",
    "  \\left(\\begin{array}{rr} \n",
    "   3 & -1 \\\\\n",
    "  -1 & -3 \n",
    "  \\end{array}\\right)^{-1}\\,.\n",
    "$$"
   ]
  },
  {
   "cell_type": "markdown",
   "metadata": {},
   "source": [
    "A continuació fem els càlculs"
   ]
  },
  {
   "cell_type": "code",
   "execution_count": null,
   "metadata": {},
   "outputs": [],
   "source": [
    "p = vector([-1,1])\n",
    "q = vector([2,-2])\n",
    "r = vector([-2,-2])\n",
    "Tp = vector([4,1])\n",
    "Tq = vector([-14,7])\n",
    "Tr = vector([-6,11])"
   ]
  },
  {
   "cell_type": "code",
   "execution_count": null,
   "metadata": {},
   "outputs": [],
   "source": [
    "C = matrix([q-p,r-p]).T\n",
    "show(C)"
   ]
  },
  {
   "cell_type": "code",
   "execution_count": null,
   "metadata": {},
   "outputs": [],
   "source": [
    "D = matrix([Tq-Tp,Tr-Tp]).T\n",
    "show(D)"
   ]
  },
  {
   "cell_type": "markdown",
   "metadata": {},
   "source": [
    "Per tant, "
   ]
  },
  {
   "cell_type": "code",
   "execution_count": null,
   "metadata": {},
   "outputs": [],
   "source": [
    "A = D * C.inverse()\n",
    "show(A)"
   ]
  },
  {
   "cell_type": "markdown",
   "metadata": {},
   "source": [
    "Finalment, calculem la $B$ a partir de la iguatat\n",
    "$$\n",
    "  \\left(\\begin{array}{r} 4 \\\\ 1 \\end{array}\\right)\n",
    "  = B + A\\left(\\begin{array}{r} -1 \\\\ 1 \\end{array}\\right)\\,.\n",
    "$$"
   ]
  },
  {
   "cell_type": "code",
   "execution_count": null,
   "metadata": {},
   "outputs": [],
   "source": [
    "B = Tp - A * p\n",
    "show(B)"
   ]
  },
  {
   "cell_type": "markdown",
   "metadata": {},
   "source": [
    "La representació de la transformació afí $T$ en la referència canònica és\n",
    "$$\n",
    "  \\left(\\begin{array}{c} u \\\\ v \\end{array}\\right)\n",
    "  = \\left(\\begin{array}{r} -2 \\\\ 3 \\end{array}\\right)\n",
    "  + \\left(\\begin{array}{rr}\n",
    "   -2 & 4 \\\\\n",
    "   -1 & -3\n",
    "   \\end{array}\\right)\n",
    "   \\left(\\begin{array}{c} x \\\\ y \\end{array}\\right)\\,.\n",
    "$$"
   ]
  },
  {
   "cell_type": "markdown",
   "metadata": {},
   "source": [
    "## Exercici 24\n",
    "Calculeu la representació en la referència $\\mathcal{R}'=\\big\\{(-1,2); \\, (2,1),(3,2)\\big\\}$ \n",
    "de la transformació afí $T$ de $P_2$ representada en la referència canònica per\n",
    "$$\n",
    "  \\left(\\begin{array}{c} u \\\\ v \\end{array}\\right)\n",
    "  =\\left(\\begin{array}{r} 1 \\\\ 1 \\end{array}\\right)\n",
    "  +\\left(\\begin{array}{rr}\n",
    "  2 & -1\\\\\n",
    "  1 & -1\n",
    "  \\end{array}\\right)\n",
    "  \\left(\\begin{array}{c} x \\\\ y \\end{array}\\right)\\,.\n",
    "$$"
   ]
  },
  {
   "cell_type": "markdown",
   "metadata": {},
   "source": [
    "La fórmula del canvi de coordenades de la referència $\\mathcal{R}'$ a la referència canònica és\n",
    "$$\n",
    "  \\left(\\begin{array}{c} x \\\\ y \\end{array}\\right)\n",
    "  =\\left(\\begin{array}{r} -1 \\\\ 2 \\end{array}\\right)\n",
    "  +\\left(\\begin{array}{rr}\n",
    "  2 & 3\\\\\n",
    "  1 & 2\n",
    "  \\end{array}\\right)\n",
    "  \\left(\\begin{array}{c} x' \\\\ y' \\end{array}\\right)\\qquad\\text{i}\\qquad\n",
    "  \\left(\\begin{array}{c} u \\\\ v \\end{array}\\right)\n",
    "  =\\left(\\begin{array}{r} -1 \\\\ 2 \\end{array}\\right)\n",
    "  +\\left(\\begin{array}{rr}\n",
    "  2 & 3\\\\\n",
    "  1 & 2\n",
    "  \\end{array}\\right)\n",
    "  \\left(\\begin{array}{c} u' \\\\ v' \\end{array}\\right)\n",
    "$$"
   ]
  },
  {
   "cell_type": "markdown",
   "metadata": {},
   "source": [
    "Hem de combinar aquestes igualtats per a obtenir $(u',v')$ en funció de $(x',y')$. Si representem\n",
    "$$\n",
    "  U=\\left(\\begin{array}{c} u \\\\ v \\end{array}\\right)\\,,\\qquad\n",
    "  X=\\left(\\begin{array}{c} x \\\\ y \\end{array}\\right)\\,,\\qquad\n",
    "  U'=\\left(\\begin{array}{c} u' \\\\ v' \\end{array}\\right)\\qquad\\text{i}\\qquad\n",
    "  X'=\\left(\\begin{array}{c} x' \\\\ y' \\end{array}\\right)\\,,\n",
    "$$\n",
    "tindrem que\n",
    "$$\n",
    "   U = P+AX\\,,\\qquad X=O+CX'\\qquad U=O+CU'\\,.\n",
    "$$"
   ]
  },
  {
   "cell_type": "markdown",
   "metadata": {},
   "source": [
    "Aleshores,\n",
    "$$\n",
    "  \\begin{aligned}\n",
    "   U' &= C^{-1}\\big(U-O\\big)=-C^{-1}O+C^{-1}U\\\\\n",
    "      &= -C^{-1}O+C^{-1}\\big(P+AX\\big)=-C^{-1}O+C^{-1}P+C^{-1}AX\\\\\n",
    "      &= C^{-1}\\big(P - O\\big)+C^{-1}A\\big(O+CX'\\big)\\\\\n",
    "      &= C^{-1}\\big(P - O + AO\\big) + C^{-1}ACX'\n",
    "  \\end{aligned}\n",
    "$$"
   ]
  },
  {
   "cell_type": "code",
   "execution_count": null,
   "metadata": {},
   "outputs": [],
   "source": [
    "O = vector([-1,2])\n",
    "C = matrix([[2,1],[3,2]]).T\n",
    "P = vector([1,1])\n",
    "A = matrix([[2,-1],[1,-1]])"
   ]
  },
  {
   "cell_type": "code",
   "execution_count": null,
   "metadata": {},
   "outputs": [],
   "source": [
    "P1 = C.inverse()*(P-O+A*O)\n",
    "show(P1)"
   ]
  },
  {
   "cell_type": "code",
   "execution_count": null,
   "metadata": {
    "tags": []
   },
   "outputs": [],
   "source": [
    "A1 = C.inverse() * A * C\n",
    "show(A1)"
   ]
  },
  {
   "cell_type": "markdown",
   "metadata": {},
   "source": [
    "La representació de la transformació afí en la referència $\\mathcal{R}'$ és\n",
    "$$\n",
    "  \\left(\\begin{array}{c} u' \\\\ v' \\end{array}\\right)\n",
    "  =\\left(\\begin{array}{r} 8 \\\\ -6 \\end{array}\\right)\n",
    "  +\\left(\\begin{array}{rr}\n",
    "   3 &  5\\\\\n",
    "  -1 & -2\n",
    "  \\end{array}\\right)\n",
    "  \\left(\\begin{array}{c} x' \\\\ y' \\end{array}\\right)\\,.\n",
    "$$"
   ]
  },
  {
   "cell_type": "markdown",
   "metadata": {},
   "source": [
    "## Exercici 25\n",
    "Calculeu la representació en la referència $\\mathcal{R}'=\\big\\{(1,2);\\,(1,2),(2,1)\\big\\}$\n",
    "del gir afí d'angle $\\frac{3\\pi}{4}$ al voltant del punt $(1,-1)$."
   ]
  },
  {
   "cell_type": "markdown",
   "metadata": {},
   "source": [
    "La matriu del gir vectorial d'angle $\\frac{3\\pi}{4}$ és"
   ]
  },
  {
   "cell_type": "code",
   "execution_count": null,
   "metadata": {},
   "outputs": [],
   "source": [
    "alfa = 3*pi/4\n",
    "A = matrix([[cos(alfa),-sin(alfa)],[sin(alfa),cos(alfa)]])\n",
    "show(A)"
   ]
  },
  {
   "cell_type": "markdown",
   "metadata": {},
   "source": [
    "La representació en la referència canònica del gir afí d'angle $\\frac{3\\pi}{4}$ al voltant del punt $(1,-1)$ és\n",
    "$$\n",
    "  \\left(\\begin{array}{c} u \\\\ v \\end{array}\\right)\n",
    "  =\\left(\\begin{array}{r} 1 \\\\ -1 \\end{array}\\right)\n",
    "  +\\frac{1}{\\sqrt{2}}\\left(\\begin{array}{rr}\n",
    "  -1 & -1\\\\\n",
    "   1 & -1\n",
    "  \\end{array}\\right)\n",
    "  \\left(\\begin{array}{c} x - 1\\\\ y + 1 \\end{array}\\right)\\,.\n",
    "$$"
   ]
  },
  {
   "cell_type": "code",
   "execution_count": null,
   "metadata": {},
   "outputs": [],
   "source": [
    "G = vector([1,-1])\n",
    "P = G - A*G\n",
    "show(P)"
   ]
  },
  {
   "cell_type": "markdown",
   "metadata": {},
   "source": [
    "és a dir,\n",
    "$$\n",
    "  \\left(\\begin{array}{c} u \\\\ v \\end{array}\\right)\n",
    "  =\\left(\\begin{array}{c} 1 \\\\ -1 - \\sqrt{2} \\end{array}\\right)\n",
    "  +\\frac{1}{\\sqrt{2}}\\left(\\begin{array}{rr}\n",
    "  -1 & -1\\\\\n",
    "   1 & -1\n",
    "  \\end{array}\\right)\n",
    "  \\left(\\begin{array}{c} x\\\\ y \\end{array}\\right)\\,.\n",
    "$$"
   ]
  },
  {
   "cell_type": "markdown",
   "metadata": {},
   "source": [
    "Per calcular la representació en la referència $\\mathcal{R}'=\\{(1,2);\\,(1,2),(2,1)\\}$, hem de procedir com a l'exercici anterior:"
   ]
  },
  {
   "cell_type": "code",
   "execution_count": null,
   "metadata": {},
   "outputs": [],
   "source": [
    "O = vector([1,2])\n",
    "C = matrix([[1,2],[2,1]]).T"
   ]
  },
  {
   "cell_type": "code",
   "execution_count": null,
   "metadata": {},
   "outputs": [],
   "source": [
    "P1 = C.inverse()*(P-O+A*O)\n",
    "show(P1)"
   ]
  },
  {
   "cell_type": "code",
   "execution_count": null,
   "metadata": {},
   "outputs": [],
   "source": [
    "A1 = C.inverse() * A * C\n",
    "show(A1)"
   ]
  },
  {
   "cell_type": "markdown",
   "metadata": {},
   "source": [
    "Per tant, la representació en la referència $\\mathcal{R}'$ és\n",
    "$$\n",
    "  \\left(\\begin{array}{c} u' \\\\ v' \\end{array}\\right)\n",
    "  =\\frac{1}{2}\\left(\\begin{array}{c} -4-\\sqrt{2} \\\\ 2 - \\sqrt{2} \\end{array}\\right)\n",
    "  +\\frac{1}{3\\sqrt{2}}\\left(\\begin{array}{rr}\n",
    "   1 &  5\\\\\n",
    "  -5 & -7\n",
    "  \\end{array}\\right)\n",
    "  \\left(\\begin{array}{c} x'\\\\ y' \\end{array}\\right)\\,.\n",
    "$$"
   ]
  },
  {
   "cell_type": "markdown",
   "metadata": {},
   "source": [
    "## Exercici 26\n",
    "Siguin $G_1$ el gir de $120^\\circ$ al voltant del punt $(2,3)$ i $G_2$ el gir de $-30^\\circ$ al voltant del punt $(1,-3)$.\n",
    "1. Trobeu la representació en la referència canònica de la transformació afí que consisteix en aplicar primer $G_2$ i després $G_1$.\n",
    "1. Representeu en què es transforma el triangle de vèrtexs $(5,1)$, $(3,8)$ i $(-2,-1)$.\n",
    "1. Trobeu un punt fix de la transformació afí."
   ]
  },
  {
   "cell_type": "markdown",
   "metadata": {},
   "source": [
    "Recordem que la representació en la referència canònica d'un gir d'angle $\\alpha$ al voltant del punt $(x_0,y_0)$ és\n",
    "$$\n",
    "  \\left(\\begin{array}{c} u \\\\ v  \\end{array}\\right)\n",
    "  = \\left(\\begin{array}{c} x_0 \\\\ y_0  \\end{array}\\right)\n",
    "  + \\left(\\begin{array}{rr}\n",
    "   \\cos\\alpha & -\\sin\\alpha \\\\\n",
    "   \\sin\\alpha & \\cos\\alpha\n",
    "  \\end{array}\\right)\n",
    "  \\left(\\begin{array}{c} x-x_0 \\\\ y-y_0\\end{array}\\right)=\n",
    "  \\left(\\begin{array}{c} x_0 \\\\ y_0  \\end{array}\\right)\n",
    "  -\\left(\\begin{array}{rr}\n",
    "   \\cos\\alpha & -\\sin\\alpha \\\\\n",
    "   \\sin\\alpha & \\cos\\alpha\n",
    "  \\end{array}\\right)\n",
    "  \\left(\\begin{array}{c} x_0 \\\\ y_0\\end{array}\\right)\n",
    "  + \\left(\\begin{array}{rr}\n",
    "   \\cos\\alpha & -\\sin\\alpha \\\\\n",
    "   \\sin\\alpha & \\cos\\alpha\n",
    "  \\end{array}\\right)\n",
    "  \\left(\\begin{array}{c} x \\\\ y\\end{array}\\right)\n",
    "$$"
   ]
  },
  {
   "cell_type": "markdown",
   "metadata": {},
   "source": [
    "En el cas de $G_1$, tenim que"
   ]
  },
  {
   "cell_type": "code",
   "execution_count": null,
   "metadata": {},
   "outputs": [],
   "source": [
    "alfa = 120*pi/180\n",
    "A = matrix([[cos(alfa),-sin(alfa)],[sin(alfa),cos(alfa)]])\n",
    "g1 = vector([2,3])\n",
    "show(A)"
   ]
  },
  {
   "cell_type": "code",
   "execution_count": null,
   "metadata": {},
   "outputs": [],
   "source": [
    "P = g1-A*g1\n",
    "show(P)"
   ]
  },
  {
   "cell_type": "markdown",
   "metadata": {},
   "source": [
    "La representació de $G_1$ en la referència canònica és\n",
    "$$\n",
    "  \\left(\\begin{array}{c} u \\\\ v  \\end{array}\\right)\n",
    "  =\\frac{1}{2}\\left(\\begin{array}{c} 6+3\\sqrt{3} \\\\ 9-2\\sqrt{3} \\end{array}\\right)\n",
    "  + \\frac{1}{2}\\left(\\begin{array}{rr}\n",
    "     -1     & -\\sqrt{3} \\\\\n",
    "   \\sqrt{3} &    -1\n",
    "  \\end{array}\\right)\n",
    "  \\left(\\begin{array}{c} x \\\\ y\\end{array}\\right)\\,.\n",
    "$$"
   ]
  },
  {
   "cell_type": "markdown",
   "metadata": {},
   "source": [
    "Per a $G_2$ tenim que"
   ]
  },
  {
   "cell_type": "code",
   "execution_count": null,
   "metadata": {},
   "outputs": [],
   "source": [
    "beta = -30*pi/180\n",
    "B = matrix([[cos(beta),-sin(beta)],[sin(beta),cos(beta)]])\n",
    "g2 = vector([1,-3])\n",
    "show(B)"
   ]
  },
  {
   "cell_type": "code",
   "execution_count": null,
   "metadata": {},
   "outputs": [],
   "source": [
    "Q = g2-B*g2\n",
    "show(Q)"
   ]
  },
  {
   "cell_type": "markdown",
   "metadata": {},
   "source": [
    "La representació de $G_2$ en la referència canònica és\n",
    "$$\n",
    "  \\left(\\begin{array}{c} u \\\\ v  \\end{array}\\right)\n",
    "  =\\frac{1}{2}\\left(\\begin{array}{c} 5-\\sqrt{3} \\\\ -5+3\\sqrt{3} \\end{array}\\right)\n",
    "  + \\frac{1}{2}\\left(\\begin{array}{rr}\n",
    "   \\sqrt{3} &    1 \\\\\n",
    "      -1    & \\sqrt{3}\n",
    "  \\end{array}\\right)\n",
    "  \\left(\\begin{array}{c} x \\\\ y\\end{array}\\right)\n",
    "$$"
   ]
  },
  {
   "cell_type": "markdown",
   "metadata": {},
   "source": [
    "Aleshores, si primer apliquem $G_2$ i després $G_1$, tindrem la transformació afí\n",
    "$$\n",
    "  \\left(\\begin{array}{c} u \\\\ v  \\end{array}\\right)\n",
    "  =\\frac{1}{2}\\left(\\begin{array}{c} 6+3\\sqrt{3} \\\\ 9-2\\sqrt{3} \\end{array}\\right)\n",
    "     + \\frac{1}{2}\\left(\\begin{array}{rr}\n",
    "       -1     & -\\sqrt{3} \\\\\n",
    "     \\sqrt{3} &    -1\n",
    "    \\end{array}\\right)\n",
    "  \\left[\n",
    "    \\frac{1}{2}\\left(\\begin{array}{c} 5-\\sqrt{3} \\\\ -5+3\\sqrt{3} \\end{array}\\right)\n",
    "    + \\frac{1}{2}\\left(\\begin{array}{rr}\n",
    "     \\sqrt{3} &    1 \\\\\n",
    "      -1    & \\sqrt{3}\n",
    "    \\end{array}\\right)\n",
    "    \\left(\\begin{array}{c} x \\\\ y  \\end{array}\\right)\n",
    "  \\right]\\,.\n",
    "$$"
   ]
  },
  {
   "cell_type": "code",
   "execution_count": null,
   "metadata": {},
   "outputs": [],
   "source": [
    "show(A*B)"
   ]
  },
  {
   "cell_type": "code",
   "execution_count": null,
   "metadata": {},
   "outputs": [],
   "source": [
    "R = simplificar_radicals(P+A*Q)\n",
    "show(R)"
   ]
  },
  {
   "cell_type": "markdown",
   "metadata": {},
   "source": [
    "Així doncs, la representació en la referència canònica és\n",
    "$$\n",
    "  \\left(\\begin{array}{c} u \\\\ v  \\end{array}\\right)\n",
    "  =\\frac{1}{2}\\left(\\begin{array}{c} -1+6\\sqrt{3} \\\\ 10-\\sqrt{3} \\end{array}\\right)\n",
    "  +\\left(\\begin{array}{rr}\n",
    "     0 & -1 \\\\\n",
    "     1 &  0\n",
    "  \\end{array}\\right)\n",
    "  \\left(\\begin{array}{c} x \\\\ y\\end{array}\\right)\\,.\n",
    "$$"
   ]
  },
  {
   "cell_type": "markdown",
   "metadata": {},
   "source": [
    "2. Per fer el gràfic hem de calcular els transformats de cada vèrtex del triangle:"
   ]
  },
  {
   "cell_type": "code",
   "execution_count": null,
   "metadata": {},
   "outputs": [],
   "source": [
    "%%asy --fmt svg\n",
    "import geometry;\n",
    "import coordenades;\n",
    "import graph;\n",
    "\n",
    "unitsize(1cm);\n",
    "\n",
    "pen g = opacity(.5)+lightgreen,\n",
    "    b = opacity(.5)+lightblue;\n",
    "transform t1 = rotate(120,(2,3)),\n",
    "          t2 = rotate(-30,(1,-3)),\n",
    "          tr = t1*t2;\n",
    "path P = (5,1)--(3,8)--(-2,-1)--cycle;\n",
    "Canonica(-10,10,-4,10);\n",
    "filldraw(P,b,1bp+blue);\n",
    "filldraw(tr*P,g,1bp+green);"
   ]
  },
  {
   "cell_type": "markdown",
   "metadata": {},
   "source": [
    "3. Per trobar un punt fix de la transformació afí, hem de resoldre els sistema d'equacions\n",
    "$$\n",
    "  \\left(\\begin{array}{c} x \\\\ y  \\end{array}\\right)\n",
    "  =\\frac{1}{2}\\left(\\begin{array}{c} -1+6\\sqrt{3} \\\\ 10-\\sqrt{3} \\end{array}\\right)\n",
    "  +\\left(\\begin{array}{rr}\n",
    "     0 & -1 \\\\\n",
    "     1 &  0\n",
    "  \\end{array}\\right)\n",
    "  \\left(\\begin{array}{c} x \\\\ y\\end{array}\\right)\\,.\n",
    "$$"
   ]
  },
  {
   "cell_type": "code",
   "execution_count": null,
   "metadata": {},
   "outputs": [],
   "source": [
    "x, y = var('x y')\n",
    "X = vector([x,y])\n",
    "TX = R+A*B*X\n",
    "sol = solve([X[i] == TX[i] for i in range(2)],[x,y])\n",
    "show(sol)"
   ]
  },
  {
   "cell_type": "markdown",
   "metadata": {},
   "source": [
    "El punt de coordenades\n",
    "$$\n",
    "  \\frac{1}{4}\\left(-11+7\\sqrt{3},9+5\\sqrt{3}\\right)\n",
    "$$\n",
    "és un punt fix d'aquesta transformació afí."
   ]
  },
  {
   "cell_type": "markdown",
   "metadata": {},
   "source": [
    "## Exercici 27\n",
    "Determineu la representació en la referència canònica de la rotació afí d'angle $\\frac{3\\pi}{2}$\n",
    "al voltant de la recta afí que passa pel punt $(1,-1,2)$ i té vector director $(0,-1,0)$."
   ]
  },
  {
   "cell_type": "markdown",
   "metadata": {},
   "source": [
    "Calculem en primer la matriu en la base canònica de la rotació vectorial d'angle $\\frac{3\\pi}{2}$ al voltant del vector $(0,-1,0)$. per això, hem de trobar\n",
    "una base ortonormal positiva $\\mathcal{B}'=\\{\\vec u_1,\\vec u_2,\\vec u_3\\}$ tal que $\\vec u_1$ tingui la mateixa direcció i sentit que $(0,-1,0)$. És evident que:"
   ]
  },
  {
   "cell_type": "code",
   "execution_count": null,
   "metadata": {
    "scrolled": true,
    "tags": []
   },
   "outputs": [],
   "source": [
    "u1 = vector([0,-1,0])\n",
    "u2 = vector([1,0,0])\n",
    "u3 = u1.cross_product(u2)\n",
    "show(u3)"
   ]
  },
  {
   "cell_type": "markdown",
   "metadata": {},
   "source": [
    "La matriu de la rotació vectorial en la base $\\mathcal{B}'$ és"
   ]
  },
  {
   "cell_type": "code",
   "execution_count": null,
   "metadata": {},
   "outputs": [],
   "source": [
    "alfa = 3*pi/2\n",
    "A1 = matrix([[1,0,0],[0,cos(alfa),-sin(alfa)],[0,sin(alfa),cos(alfa)]])\n",
    "show(A1)"
   ]
  },
  {
   "cell_type": "markdown",
   "metadata": {},
   "source": [
    "Per trobar la matriu de la rotació vectorial en la base canònica, hem d'aplicar la fórmula del canvi de base $A=CA'C^{-1}$ (en aquest cas també és $A=CAC^t$)."
   ]
  },
  {
   "cell_type": "code",
   "execution_count": null,
   "metadata": {},
   "outputs": [],
   "source": [
    "C = matrix([u1,u2,u3]).T\n",
    "A = C * A1 * C.inverse()\n",
    "show(A)"
   ]
  },
  {
   "cell_type": "markdown",
   "metadata": {},
   "source": [
    "També podem trobar aquesta matriu a partir del quaternió corresponent a aquesta rotació\n",
    "$$\n",
    "  q = \\cos\\frac{\\alpha}{2} + \\sin\\frac{\\alpha}{2}\\,\\vec u_1\n",
    "$$"
   ]
  },
  {
   "cell_type": "code",
   "execution_count": null,
   "metadata": {},
   "outputs": [],
   "source": [
    "alfa = 3*pi/2\n",
    "a = cos(alfa/2)\n",
    "b, c, d = sin(alfa/2)*u1\n",
    "A = quaternio_a_rotacio(a,b,c,d)\n",
    "show(A)"
   ]
  },
  {
   "cell_type": "markdown",
   "metadata": {},
   "source": [
    "La representació en la referència canònica de la rotació afí d'angle $\\frac{3\\pi}{2}$\n",
    "al voltant de la recta que passa pel punt $(1,-1,2)$ i té vector director $(0,-1,0)$ és\n",
    "$$\n",
    "  \\left(\\begin{array}{c} u \\\\ v \\\\ w \\end{array}\\right)\n",
    "  = \\left(\\begin{array}{r} 1 \\\\ -1 \\\\ 2 \\end{array}\\right)\n",
    "  + \\left(\\begin{array}{rrr}\n",
    "   0 & 0 & 1 \\\\\n",
    "   0 & 1 & 0 \\\\\n",
    "  -1 & 0 & 0 \n",
    "  \\end{array}\\right)\n",
    "  \\left(\\begin{array}{c} x-1 \\\\ y+1 \\\\ z-2 \\end{array}\\right)\\,.\n",
    "$$"
   ]
  },
  {
   "cell_type": "markdown",
   "metadata": {},
   "source": [
    "Amb un últim càlcul: "
   ]
  },
  {
   "cell_type": "code",
   "execution_count": null,
   "metadata": {},
   "outputs": [],
   "source": [
    "F = vector([1,-1,2])\n",
    "show(F - A*F)"
   ]
  },
  {
   "cell_type": "markdown",
   "metadata": {},
   "source": [
    "podem escrirure que\n",
    "$$\n",
    "  \\left(\\begin{array}{c} u \\\\ v \\\\ w \\end{array}\\right)\n",
    "  = \\left(\\begin{array}{r} -1 \\\\ 0 \\\\ 3 \\end{array}\\right)\n",
    "  + \\left(\\begin{array}{rrr}\n",
    "   0 & 0 & 1 \\\\\n",
    "   0 & 1 & 0 \\\\\n",
    "  -1 & 0 & 0 \n",
    "  \\end{array}\\right)\n",
    "  \\left(\\begin{array}{c} x \\\\ y \\\\ z \\end{array}\\right)\\,.\n",
    "$$"
   ]
  },
  {
   "cell_type": "markdown",
   "metadata": {
    "tags": []
   },
   "source": [
    "## Exercici 28\n",
    "Trobeu la representació en la referència canònica del moviment helicoïdal d'angle $\\frac{\\pi}{4}$\n",
    "al voltant de la recta que passa pel punt $(1,1,-1)$ i té vector director $(1,-1,0)$\n",
    "amb vector de translació $(2,-2,0)$."
   ]
  },
  {
   "cell_type": "markdown",
   "metadata": {},
   "source": [
    "Aquest exercici és semblant a l'anterior, així que anem fen càlculs semblants. Comencem per la base $\\mathcal{B}'$."
   ]
  },
  {
   "cell_type": "code",
   "execution_count": null,
   "metadata": {},
   "outputs": [],
   "source": [
    "u1 = vector([1,-1,0])\n",
    "u1 = u1 / u1.norm()\n",
    "u2 = vector([0,0,1])\n",
    "u3 = u1.cross_product(u2)"
   ]
  },
  {
   "cell_type": "markdown",
   "metadata": {},
   "source": [
    "Matriu de la reotació vectorial en la base $\\mathcal{B}'$:"
   ]
  },
  {
   "cell_type": "code",
   "execution_count": null,
   "metadata": {},
   "outputs": [],
   "source": [
    "alfa = pi/4\n",
    "A1 = matrix([[1,0,0],[0,cos(alfa),-sin(alfa)],[0,sin(alfa),cos(alfa)]])\n",
    "show(A1)"
   ]
  },
  {
   "cell_type": "markdown",
   "metadata": {},
   "source": [
    "Matriu de la rotació vectorial en la base canònica:"
   ]
  },
  {
   "cell_type": "code",
   "execution_count": null,
   "metadata": {},
   "outputs": [],
   "source": [
    "C = matrix([u1,u2,u3]).T\n",
    "A = C*A1*C.inverse()\n",
    "show(A)"
   ]
  },
  {
   "cell_type": "markdown",
   "metadata": {},
   "source": [
    "La representació del moviment helicoïdal en la base canònica és\n",
    "$$\n",
    "  \\left(\\begin{array}{c} u \\\\ v \\\\ w \\end{array}\\right)\n",
    "  = \\left(\\begin{array}{r} 2 \\\\ -2 \\\\ 0 \\end{array}\\right)\n",
    "  + \\left(\\begin{array}{r} 1 \\\\ 1 \\\\ -1 \\end{array}\\right)\n",
    "  + \\frac{1}{4}\\left(\\begin{array}{ccc}\n",
    "    2+\\sqrt{2} & -2+\\sqrt{2} &   -2     \\\\\n",
    "   -2+\\sqrt{2} &  2+\\sqrt{2} &   -2     \\\\\n",
    "        2      &       2     & 2\\sqrt{2} \n",
    "  \\end{array}\\right)\n",
    "  \\left(\\begin{array}{c} x-1 \\\\ y-1 \\\\ z+1 \\end{array}\\right)\\,.\n",
    "$$"
   ]
  },
  {
   "cell_type": "markdown",
   "metadata": {},
   "source": [
    "Fent un càlcul senzill,"
   ]
  },
  {
   "cell_type": "code",
   "execution_count": null,
   "metadata": {},
   "outputs": [],
   "source": [
    "F = vector([1,1,-1])\n",
    "T = vector([2,-2,0])\n",
    "show(T+F-A*F)"
   ]
  },
  {
   "cell_type": "markdown",
   "metadata": {},
   "source": [
    "tindrem que\n",
    "$$\n",
    "  \\left(\\begin{array}{c} u \\\\ v \\\\ w \\end{array}\\right)\n",
    "  = \\frac{1}{2}\\left(\\begin{array}{c} 5-\\sqrt{2} \\\\ -3-\\sqrt{2} \\\\ -4+\\sqrt{2} \\end{array}\\right)\n",
    "  + \\frac{1}{4}\\left(\\begin{array}{ccc}\n",
    "    2+\\sqrt{2} & -2+\\sqrt{2} &   -2     \\\\\n",
    "   -2+\\sqrt{2} &  2+\\sqrt{2} &   -2     \\\\\n",
    "        2      &       2     & 2\\sqrt{2} \n",
    "  \\end{array}\\right)\n",
    "  \\left(\\begin{array}{c} x \\\\ y \\\\ z \\end{array}\\right)\\,.\n",
    "$$"
   ]
  },
  {
   "cell_type": "markdown",
   "metadata": {},
   "source": [
    "## Exercici 29\n",
    "Determineu si la transformació afí $T$ de $V_2$ que en la referència $\\mathcal{R}'=\\{(0,-1); \\, (3,1),(5,2)\\}$\n",
    "té representació\n",
    "$$\n",
    "  \\left(\\begin{array}{c} u' \\\\ v' \\end{array}\\right)\n",
    "  =\\frac{1}{\\sqrt2}\\left(\\begin{array}{rr}\n",
    "   18 &  29\\\\\n",
    "  -10 & -16\n",
    "  \\end{array}\\right)\n",
    "  \\left(\\begin{array}{c} x' \\\\ y' \\end{array}\\right)\n",
    "$$\n",
    "és un gir afí i, en cas afirmatiu, determineu el centre i l'angle de gir."
   ]
  },
  {
   "cell_type": "markdown",
   "metadata": {},
   "source": [
    "En aquest cas, el canvi de coordenades de la referència de $\\mathcal{R}'$ a la referència canònica són\n",
    "$$\n",
    "  \\left(\\begin{array}{c} x \\\\ y \\end{array}\\right)\n",
    "  =\\left(\\begin{array}{r} 0 \\\\ -1 \\end{array}\\right)\n",
    "  +\\left(\\begin{array}{rr}\n",
    "  3 & 5\\\\\n",
    "  1 & 2\n",
    "  \\end{array}\\right)\n",
    "  \\left(\\begin{array}{c} x' \\\\ y' \\end{array}\\right)\\qquad\\text{i}\\qquad\n",
    "  \\left(\\begin{array}{c} u \\\\ v \\end{array}\\right)\n",
    "  =\\left(\\begin{array}{r} 0 \\\\ -1 \\end{array}\\right)\n",
    "  +\\left(\\begin{array}{rr}\n",
    "  3 & 5\\\\\n",
    "  1 & 2\n",
    "  \\end{array}\\right)\n",
    "  \\left(\\begin{array}{c} u' \\\\ v' \\end{array}\\right)\\,.\n",
    "$$\n",
    "Si representem\n",
    "$$\n",
    "  U=\\left(\\begin{array}{c} u \\\\ v \\end{array}\\right)\\,,\\qquad\n",
    "  X=\\left(\\begin{array}{c} x \\\\ y \\end{array}\\right)\\,,\\qquad\n",
    "  U'=\\left(\\begin{array}{c} u' \\\\ v' \\end{array}\\right)\\qquad\\text{i}\\qquad\n",
    "  X'=\\left(\\begin{array}{c} x' \\\\ y' \\end{array}\\right)\\,,\n",
    "$$\n",
    "tindrem que\n",
    "$$\n",
    "   U' = P'+A'X'\\,,\\qquad X=O+CX'\\qquad U=O+CU'\\,.\n",
    "$$"
   ]
  },
  {
   "cell_type": "markdown",
   "metadata": {},
   "source": [
    "En aquest cas, ens interessa expressar $(u,v)$ en funció de $(x,y)$:\n",
    "$$\n",
    "  \\begin{aligned}\n",
    "   U &= O + CU'=O+C\\big(P'+A'X'\\big) \\\\\n",
    "     &= O + CP' + CA'X' = O + CP' + CA'C^{-1}\\big(-O + X\\big) \\\\\n",
    "     &= O + CP' - CA'C^{-1}O + CA'C^{-1}X\n",
    "  \\end{aligned}\n",
    "$$\n",
    "Fem, doncs, els càlculs"
   ]
  },
  {
   "cell_type": "code",
   "execution_count": null,
   "metadata": {},
   "outputs": [],
   "source": [
    "P1 = vector([0,0])\n",
    "A1 = 1/sqrt(2)*matrix([[18,29],[-10,-16]])\n",
    "O = vector([0,-1])\n",
    "C = matrix([[3,1],[5,2]]).T"
   ]
  },
  {
   "cell_type": "code",
   "execution_count": null,
   "metadata": {},
   "outputs": [],
   "source": [
    "P = O + C*P1 - C*A1*C.inverse()*O\n",
    "show(P)"
   ]
  },
  {
   "cell_type": "code",
   "execution_count": null,
   "metadata": {},
   "outputs": [],
   "source": [
    "A = C*A1*C.inverse()\n",
    "show(A)"
   ]
  },
  {
   "cell_type": "markdown",
   "metadata": {},
   "source": [
    "La representació de la transformació afí en la referència canònica és\n",
    "En aquest cas, ens interessa expressar $(u,v)$ en funció de $(x,y)$:\n",
    "$$\n",
    "  \\left(\\begin{array}{c} u \\\\ v \\end{array}\\right)\n",
    "  =\\frac{1}{2}\\left(\\begin{array}{c} \\sqrt{2} \\\\ -2+\\sqrt{2} \\end{array}\\right)\n",
    "  + \\frac{1}{\\sqrt{2}}\\left(\\begin{array}{rr}\n",
    "   1 & 1\\\\\n",
    "  -1 & 1\n",
    "  \\end{array}\\right)\n",
    "  \\left(\\begin{array}{c} x \\\\ y \\end{array}\\right)\\,.\n",
    "$$"
   ]
  },
  {
   "cell_type": "markdown",
   "metadata": {},
   "source": [
    "$T$ és un gir si la matriu $A$ compleix que $A^tA=I$ i $\\det(A)=1$. Comprovem-ho:"
   ]
  },
  {
   "cell_type": "code",
   "execution_count": null,
   "metadata": {},
   "outputs": [],
   "source": [
    "show(A.T*A)"
   ]
  },
  {
   "cell_type": "code",
   "execution_count": null,
   "metadata": {},
   "outputs": [],
   "source": [
    "show(A.det())"
   ]
  },
  {
   "cell_type": "markdown",
   "metadata": {},
   "source": [
    "El centre de gir és un punt fix de la transformació afí $T$, és a dir, un punt que compleixi $T(x,y)=(x,y)$. Per trobar-lo, hem de resoldre un sistema d'equacions:\n",
    "$$\n",
    "  \\left(\\begin{array}{c} x \\\\ y \\end{array}\\right)\n",
    "  =\\frac{1}{2}\\left(\\begin{array}{c} \\sqrt{2} \\\\ -2+\\sqrt{2} \\end{array}\\right)\n",
    "  + \\frac{1}{\\sqrt{2}}\\left(\\begin{array}{rr}\n",
    "   1 & 1\\\\\n",
    "  -1 & 1\n",
    "  \\end{array}\\right)\n",
    "  \\left(\\begin{array}{c} x \\\\ y \\end{array}\\right)\\,.\n",
    "$$"
   ]
  },
  {
   "cell_type": "code",
   "execution_count": null,
   "metadata": {},
   "outputs": [],
   "source": [
    "x, y = var('x y')\n",
    "X = vector([x,y])\n",
    "TX = P + A*X"
   ]
  },
  {
   "cell_type": "code",
   "execution_count": null,
   "metadata": {},
   "outputs": [],
   "source": [
    "show(solve([X[i] == TX[i] for i in [0,1]],[x,y]))"
   ]
  },
  {
   "cell_type": "markdown",
   "metadata": {},
   "source": [
    "Finalment, per trobar l'angle de gir només cal que fem"
   ]
  },
  {
   "cell_type": "code",
   "execution_count": null,
   "metadata": {},
   "outputs": [],
   "source": [
    "alfa = atan2(A[1,0],A[0,0])\n",
    "show(alfa)"
   ]
  },
  {
   "cell_type": "markdown",
   "metadata": {},
   "source": [
    "La transformació afí $T$ és un gir afí d'angle $\\alpha=\\frac{7\\pi}{4}$ al voltant del punt $(0,-1)$. (Observem que l'angle $\\alpha=-\\frac{\\pi}{4}$ és equivalent a $\\alpha=\\frac{7\\pi}{4}$.)"
   ]
  },
  {
   "cell_type": "markdown",
   "metadata": {},
   "source": [
    "## Exercici 30\n",
    "Determineu si la transformació afí $T:P_3\\longrightarrow P_3$ que en la referència canònica té representació\n",
    "$$\n",
    "  \\left(\\begin{array}{c} u \\\\ v \\\\ w \\end{array}\\right)\n",
    "  = \\left(\\begin{array}{r} -1 \\\\ 3 \\\\ 0 \\end{array}\\right)\n",
    "  +\\left(\\begin{array}{rrr}\n",
    "  0 & -1 & 0 \\\\\n",
    "  1 &  0 & 0 \\\\\n",
    "  0 &  0 & 1\n",
    "  \\end{array}\\right)\n",
    "  \\left(\\begin{array}{c} x \\\\ y \\\\ z \\end{array}\\right)\n",
    "$$\n",
    "és una rotació afí o un moviment helicoïdal. En cas afirmatiu, trobeu un punt i el vector director de la recta de gir,\n",
    "l'angle de gir i, si és necessari, el vector de translació."
   ]
  },
  {
   "cell_type": "markdown",
   "metadata": {},
   "source": [
    "Per saber si $T$ és una rotació o un moviment helicoïdal, hem de comprovar si la transformació lineal\n",
    "$$\n",
    "  \\left(\\begin{array}{c} u \\\\ v \\\\ w \\end{array}\\right)\n",
    "  =\\left(\\begin{array}{rrr}\n",
    "  0 & -1 & 0 \\\\\n",
    "  1 &  0 & 0 \\\\\n",
    "  0 &  0 & 1\n",
    "  \\end{array}\\right)\n",
    "  \\left(\\begin{array}{c} x \\\\ y \\\\ z \\end{array}\\right)\n",
    "$$\n",
    "és una rotació vectorial, és a dir, si la matriu\n",
    "$$\n",
    "  A=\\left(\\begin{array}{rrr}\n",
    "  0 & -1 & 0 \\\\\n",
    "  1 &  0 & 0 \\\\\n",
    "  0 &  0 & 1\n",
    "  \\end{array}\\right)\n",
    "$$\n",
    "compleix que $A^tA=I$ i $\\det(A)=1$."
   ]
  },
  {
   "cell_type": "code",
   "execution_count": null,
   "metadata": {},
   "outputs": [],
   "source": [
    "A = matrix([[0,-1,0],[1,0,0],[0,0,1]])\n",
    "show(A.T*A)"
   ]
  },
  {
   "cell_type": "code",
   "execution_count": null,
   "metadata": {},
   "outputs": [],
   "source": [
    "show(A.det())"
   ]
  },
  {
   "cell_type": "markdown",
   "metadata": {},
   "source": [
    "Efectivament, ls matriu $A$ correspon a una rotació vectorial. Determinem el vector i l'angle de gir com ja hem fet en un exercici anterior: el vector que ens dona l'eix de rotació és solució del sistema d'equacions\n",
    "$$\n",
    "  \\left(\\begin{array}{c} x \\\\ y \\\\ z \\end{array}\\right)\n",
    "  =\\left(\\begin{array}{rrr}\n",
    "  0 & -1 & 0 \\\\\n",
    "  1 &  0 & 0 \\\\\n",
    "  0 &  0 & 1\n",
    "  \\end{array}\\right)\n",
    "  \\left(\\begin{array}{c} x \\\\ y \\\\ z \\end{array}\\right)\n",
    "$$"
   ]
  },
  {
   "cell_type": "code",
   "execution_count": null,
   "metadata": {},
   "outputs": [],
   "source": [
    "x, y, z = var('x y z')\n",
    "X = vector([x,y,z])\n",
    "TX = A * X\n",
    "sol = solve([X[i] == TX[i] for i in range(3)],[x,y,z])\n",
    "show(sol)"
   ]
  },
  {
   "cell_type": "markdown",
   "metadata": {},
   "source": [
    "Es tracta d'una rotació vectorial al voltant del vector $\\vec w=(0,0,1)$. Calculem ara l'angle de rotació"
   ]
  },
  {
   "cell_type": "code",
   "execution_count": null,
   "metadata": {},
   "outputs": [],
   "source": [
    "a = acos((-1+A.trace())/2)\n",
    "show(a)"
   ]
  },
  {
   "cell_type": "markdown",
   "metadata": {},
   "source": [
    "L'angle de gir és $\\alpha=\\frac{\\pi}{2}$ o $\\alpha=\\frac{3\\pi}{2}$. Per detertminar quin dels dos és, escollim un vector qualsevol $\\vec u$ (que no sigui múltiple de $\\vec w$) i calculem el seu transformat $\\vec v=T(\\vec u)$ i el determinant $\\det(\\vec w,\\vec u,\\vec v)$:"
   ]
  },
  {
   "cell_type": "code",
   "execution_count": null,
   "metadata": {
    "tags": []
   },
   "outputs": [],
   "source": [
    "u = vector([1,0,0])\n",
    "w = vector([0,0,1])\n",
    "Tu = A * u\n",
    "show(matrix([w,u,Tu]).det())"
   ]
  },
  {
   "cell_type": "markdown",
   "metadata": {},
   "source": [
    "Per tant, podem afirmar que la transformació lineal amb representació\n",
    "$$\n",
    "  \\left(\\begin{array}{c} u \\\\ v \\\\ w \\end{array}\\right)\n",
    "  = \\left(\\begin{array}{rrr}\n",
    "  0 & -1 & 0 \\\\\n",
    "  1 &  0 & 0 \\\\\n",
    "  0 &  0 & 1\n",
    "  \\end{array}\\right)\n",
    "  \\left(\\begin{array}{c} x \\\\ y \\\\ z \\end{array}\\right)\n",
    "$$\n",
    "és la rotació d'angle $\\frac{\\pi}{2}$ al voltant del vector $\\vec w=(0,0,1)$."
   ]
  },
  {
   "cell_type": "markdown",
   "metadata": {},
   "source": [
    "Per saber si la transformació afí $T$ és una rotació o un moviment helicoïdal, hem de resoldre el sistema d'equacions\n",
    "$$\n",
    "  T(x,y,z)=(x,y,z)+t(0,0,1)\\,,\n",
    "$$\n",
    "és a dir,\n",
    "$$\n",
    "  \\left(\\begin{array}{r} -1 \\\\ 3 \\\\ 0 \\end{array}\\right)\n",
    "  +\\left(\\begin{array}{rrr}\n",
    "  0 & -1 & 0 \\\\\n",
    "  1 &  0 & 0 \\\\\n",
    "  0 &  0 & 1\n",
    "  \\end{array}\\right)\n",
    "  \\left(\\begin{array}{c} x \\\\ y \\\\ z \\end{array}\\right)\n",
    "  = \\left(\\begin{array}{c} x \\\\ y \\\\ z \\end{array}\\right)\n",
    "  +t\\left(\\begin{array}{c} 0 \\\\ 0 \\\\ 1 \\end{array}\\right)\\,.\n",
    "$$"
   ]
  },
  {
   "cell_type": "code",
   "execution_count": null,
   "metadata": {},
   "outputs": [],
   "source": [
    "x, y, z, t = var('x y z t')\n",
    "P = vector([-1,3,0])\n",
    "w = vector([0,0,1])\n",
    "X = vector([x,y,z])\n",
    "e = P + A*X\n",
    "d = X + t*w"
   ]
  },
  {
   "cell_type": "code",
   "execution_count": null,
   "metadata": {},
   "outputs": [],
   "source": [
    "show(solve([e[i] == d[i] for i in range(3)],[x,y,z,t]))"
   ]
  },
  {
   "cell_type": "markdown",
   "metadata": {},
   "source": [
    "Com que $t=0$, es tracta d'una rotació. La rotació afí d'angle $\\frac{\\pi}{2}$ al voltant de la recta que passa pel punt $(-2,1,0)$ i té vector director $(0,0,1)$."
   ]
  },
  {
   "cell_type": "markdown",
   "metadata": {},
   "source": [
    "## Exercici 31\n",
    "Determineu si la transformació afí $T:P_3\\longrightarrow P_3$ que en la referència canònica té representació\n",
    "$$\n",
    "  \\left(\\begin{array}{c} u \\\\ v \\\\ w \\end{array}\\right)\n",
    "  = \\left(\\begin{array}{r} 3 \\\\ 0 \\\\ 1 \\end{array}\\right)\n",
    "  +\\left(\\begin{array}{rrr}\n",
    "  0 & 1 & 0 \\\\\n",
    "  0 & 0 & 1 \\\\\n",
    "  1 & 0 & 0\n",
    "  \\end{array}\\right)\n",
    "  \\left(\\begin{array}{c} x \\\\ y \\\\ z \\end{array}\\right)\n",
    "$$\n",
    "és una rotació afí o un moviment helicoïdal. En cas afirmatiu, trobeu un punt i el vector director de la recta de gir,\n",
    "l'angle de gir i, si és necessari, el vector de translació."
   ]
  },
  {
   "cell_type": "markdown",
   "metadata": {},
   "source": [
    "Aquest exercici és igual que l'anterior, per tant, només farem els càlculs. "
   ]
  },
  {
   "cell_type": "code",
   "execution_count": null,
   "metadata": {},
   "outputs": [],
   "source": [
    "A = matrix([[0,1,0],[0,0,1],[1,0,0]])\n",
    "show(A.T*A)"
   ]
  },
  {
   "cell_type": "code",
   "execution_count": null,
   "metadata": {},
   "outputs": [],
   "source": [
    "show(A.det())"
   ]
  },
  {
   "cell_type": "code",
   "execution_count": null,
   "metadata": {},
   "outputs": [],
   "source": [
    "x, y, z = var('x y z')\n",
    "X = vector([x,y,z])\n",
    "TX = A * X\n",
    "sol = solve([X[i] == TX[i] for i in range(3)],[x,y,z])\n",
    "show(sol)"
   ]
  },
  {
   "cell_type": "code",
   "execution_count": null,
   "metadata": {},
   "outputs": [],
   "source": [
    "a = acos((-1+A.trace())/2)\n",
    "show(a)"
   ]
  },
  {
   "cell_type": "code",
   "execution_count": null,
   "metadata": {},
   "outputs": [],
   "source": [
    "u = vector([1,0,0])\n",
    "w = vector([1,1,1])\n",
    "Tu = A * u\n",
    "show(matrix([w,u,Tu]).det())"
   ]
  },
  {
   "cell_type": "markdown",
   "metadata": {},
   "source": [
    "La transformació lineal amb representació en la base canònica\n",
    "$$\n",
    "  \\left(\\begin{array}{c} u \\\\ v \\\\ w \\end{array}\\right)\n",
    "  = \\left(\\begin{array}{rrr}\n",
    "  0 & 1 & 0 \\\\\n",
    "  0 & 0 & 1 \\\\\n",
    "  1 & 0 & 0\n",
    "  \\end{array}\\right)\n",
    "  \\left(\\begin{array}{c} x \\\\ y \\\\ z \\end{array}\\right)\n",
    "$$\n",
    "és la rotació d'angle $\\frac{4\\pi}{3}$ al voltant del vector $\\vec w=(1,1,1)$."
   ]
  },
  {
   "cell_type": "markdown",
   "metadata": {},
   "source": [
    "Per veure si la transformació afí és una rotació o un moviment helicoidal, hem de resoldre el sistema d'equacions $T(x,y,z)=(x,y,z)+t\\vec w$, és a dir,\n",
    "$$\n",
    "  \\left(\\begin{array}{r} 3 \\\\ 0 \\\\ 1 \\end{array}\\right)\n",
    "  +\\left(\\begin{array}{rrr}\n",
    "  0 & 1 & 0 \\\\\n",
    "  0 & 0 & 1 \\\\\n",
    "  1 & 0 & 0\n",
    "  \\end{array}\\right)\n",
    "  \\left(\\begin{array}{c} x \\\\ y \\\\ z \\end{array}\\right)\n",
    "  = \\left(\\begin{array}{c} x \\\\ y \\\\ z \\end{array}\\right) +\n",
    "  t\\left(\\begin{array}{c} 1 \\\\ 1 \\\\ 1 \\end{array}\\right)\\,.\n",
    "$$"
   ]
  },
  {
   "cell_type": "code",
   "execution_count": null,
   "metadata": {},
   "outputs": [],
   "source": [
    "x, y, z, t = var('x y z t')\n",
    "P = vector([3,0,1])\n",
    "w = vector([1,1,1])\n",
    "X = vector([x,y,z])\n",
    "e = P + A*X\n",
    "d = X + t*w"
   ]
  },
  {
   "cell_type": "code",
   "execution_count": null,
   "metadata": {
    "tags": []
   },
   "outputs": [],
   "source": [
    "show(solve([e[i] == d[i] for i in range(3)],[x,y,z,t]))"
   ]
  },
  {
   "cell_type": "markdown",
   "metadata": {},
   "source": [
    "Com que $t\\neq0$, es tracta d'un moviment helicoïdal, format per la rotació afí d'angle $\\frac{4\\pi}{3}$ al voltant de la recta que passa pel punt $\\frac{1}{3}(4,-1,3)$ i té vector director $(1,1,1)$ i la translació de vector $\\frac{4}{3}(1,1,1)$."
   ]
  }
 ],
 "metadata": {
  "kernelspec": {
   "display_name": "SageMath 9.6",
   "language": "sage",
   "name": "sagemath"
  },
  "language_info": {
   "codemirror_mode": {
    "name": "ipython",
    "version": 3
   },
   "file_extension": ".py",
   "mimetype": "text/x-python",
   "name": "python",
   "nbconvert_exporter": "python",
   "pygments_lexer": "ipython3",
   "version": "3.11.1"
  }
 },
 "nbformat": 4,
 "nbformat_minor": 4
}
