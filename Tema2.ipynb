{
 "cells": [
  {
   "cell_type": "markdown",
   "metadata": {},
   "source": [
    "# Tema 2"
   ]
  },
  {
   "cell_type": "code",
   "execution_count": null,
   "metadata": {},
   "outputs": [],
   "source": [
    "from sage.matrix.matrix_symbolic_dense import Matrix_symbolic_dense\n",
    "\n",
    "def TE(j,i,t,s,A):\n",
    "    \"\"\"\n",
    "    Substitueix la fila j de la matriu A per t * F_j + s * F_i\n",
    "    Retorna la matriu resultant i el factor pel que s'ha de multiplicar el\n",
    "    determinant\n",
    "    \"\"\"\n",
    "    n = A.nrows()\n",
    "    g = gcd(t,s)\n",
    "    t /= g\n",
    "    s /= g\n",
    "    E1 = elementary_matrix(n,row1=j,scale=t)\n",
    "    E2 = elementary_matrix(n,row1=j,row2=i,scale=s)\n",
    "    return E2 * E1 * A, 1/t\n",
    "\n",
    "def P(i,j,A):\n",
    "    \"\"\"\n",
    "    Permuta les files i i j de la matriu A\n",
    "    Retorna la matriu resultant i el factor pel que s'ha de multiplicar el\n",
    "    determinant\n",
    "    \"\"\"\n",
    "    n = A.nrows()\n",
    "    E = elementary_matrix(n,row1=i,row2=j)\n",
    "    return E * A, -1\n",
    "\n",
    "def S(i,t,A):\n",
    "    \"\"\"\n",
    "    Divideix la fila i de la matriu A per t\n",
    "    Retorna la matriu resultant i el factor pel que s'ha de multiplicar el\n",
    "    determinant\n",
    "    \"\"\"\n",
    "    n = A.nrows()\n",
    "    E = elementary_matrix(n,row1=i,scale=1/t)\n",
    "    return E * A, 1/t\n",
    "\n",
    "def concatena_matrius(A,B):\n",
    "    \"\"\"\n",
    "    Concatena les matrius A i B. Han de tenir el mateix nombre de files\n",
    "    \"\"\"\n",
    "    if A.nrows() != B.nrows():\n",
    "        return None\n",
    "    if isinstance(A,Matrix_symbolic_dense) or isinstance(B,Matrix_symbolic_dense):\n",
    "        C = matrix(SR,A.nrows(),A.ncols() + B.ncols())\n",
    "    else:\n",
    "        C = matrix(A.nrows(),A.ncols() + B.ncols())\n",
    "    C[:,range(A.ncols())] = A\n",
    "    C[:,range(A.ncols(),A.ncols() + B.ncols())] = B\n",
    "    return C\n",
    "\n",
    "def concatena_matriu_vector(A,u):\n",
    "    \"\"\"\n",
    "    Concatena la matriu A el vector columna u. El nombre de components de u ha \n",
    "    de coincidir amb el nombre de files de A\n",
    "    \"\"\"\n",
    "    if A.nrows() != len(u):\n",
    "        return None\n",
    "    return A.T.insert_row(A.ncols(),u).T\n",
    "\n",
    "def elimina_fila_columna(i,j,A):\n",
    "    \"\"\"\n",
    "    Elimina la fila i i la columna j de la matriu \n",
    "    \"\"\"\n",
    "    if i >= A.nrows() or j >= A.ncols():\n",
    "        return None\n",
    "    r = list(range(A.nrows()))\n",
    "    c = list(range(A.ncols()))\n",
    "    r.remove(i)\n",
    "    c.remove(j)\n",
    "    return A[r,c]\n",
    "\n",
    "def menors_que_contenen(r,c,A):\n",
    "    \"\"\"\n",
    "    Calcula el determinant de tots els menors d'ordre un més que contenen\n",
    "    el menor determinat per les files r i les columnes c\n",
    "    \"\"\"\n",
    "    if len(r) != len(c):\n",
    "        return None\n",
    "    for i in r:\n",
    "        if i >= A.nrows():\n",
    "            return None\n",
    "    for i in c:\n",
    "        if i >= A.ncols():\n",
    "            return None\n",
    "    for i in range(A.nrows()):\n",
    "        if i in r:\n",
    "            continue\n",
    "        for j in range(A.ncols()):\n",
    "            if j in c:\n",
    "                continue\n",
    "            ra = sorted(r+[i])\n",
    "            ca = sorted(c+[j])\n",
    "            B = A[ra,ca]\n",
    "            print(\"Files\",ra,\"Columnes\",ca)\n",
    "            show(\"det\",B,\"=\",B.det())\n",
    "\n",
    "def adjunt(i,j,A):\n",
    "    \"\"\"\n",
    "    Retorna l'adjunt del coefient que ocupa la fila i i la columna j de la matriu\n",
    "    quadrada A\n",
    "    \"\"\"\n",
    "    if A.nrows() != A.ncols():\n",
    "        return None\n",
    "    B = elimina_fila_columna(i,j,A)\n",
    "    return (-1)**(i+j) * B.det()"
   ]
  },
  {
   "cell_type": "markdown",
   "metadata": {},
   "source": [
    "## Exercici 1\n",
    "Calculeu el determinant de la matriu d’ordre 1\n",
    "$$\n",
    "  A=\\left(\\begin{array}{r}\n",
    "  -4\n",
    "  \\end{array}\\right)\\,. \n",
    "$$"
   ]
  },
  {
   "cell_type": "code",
   "execution_count": null,
   "metadata": {},
   "outputs": [],
   "source": [
    "A = matrix([[-4]])\n",
    "show(A.det())"
   ]
  },
  {
   "cell_type": "markdown",
   "metadata": {},
   "source": [
    "## Exercici 2\n",
    "Calculeu el determinant de la matriu d’ordre 2\n",
    "$$\n",
    "  A=\\left(\\begin{array}{rr}\n",
    "  -4 & -5 \\\\\n",
    "   8 &  7\n",
    "  \\end{array}\\right)\\,.\n",
    "$$"
   ]
  },
  {
   "cell_type": "code",
   "execution_count": null,
   "metadata": {},
   "outputs": [],
   "source": [
    "A = matrix([[-4,-5],[8,7]])\n",
    "show(A.det())"
   ]
  },
  {
   "cell_type": "markdown",
   "metadata": {},
   "source": [
    "## Exercici 3\n",
    "Calculeu el determinant de la matriu d’ordre 3\n",
    "$$\n",
    "  A=\\left(\\begin{array}{rrr}\n",
    "  3 &  4 & -5 \\\\\n",
    "  8 &  7 & -2 \\\\\n",
    "  2 & -1 &  8\n",
    "  \\end{array}\\right)\\,. \n",
    "$$"
   ]
  },
  {
   "cell_type": "code",
   "execution_count": null,
   "metadata": {},
   "outputs": [],
   "source": [
    "A = matrix([[3,4,-5],[8,7,-2],[2,-1,8]])\n",
    "show(A.det())"
   ]
  },
  {
   "cell_type": "markdown",
   "metadata": {},
   "source": [
    "## Exercici 4\n",
    "Calculeu el determinant d’ordre 4 següent posant zeros en alguna fila o columna i desenvolupant després per aquesta mateixa fila o columna: \n",
    "$$\n",
    "  A=\\left(\\begin{array}{rrrr}\n",
    "  -3 &  2 &  1 &  2 \\\\\n",
    "   5 &  0 &  2 &  0 \\\\\n",
    "   6 & -4 &  2 &  1 \\\\\n",
    "   4 &  1 & -3 & -4\n",
    "  \\end{array}\\right)\\,. \n",
    "$$"
   ]
  },
  {
   "cell_type": "code",
   "execution_count": null,
   "metadata": {},
   "outputs": [],
   "source": [
    "A = matrix(4,4,[-3,2,1,2,5,0,2,0,6,-4,2,1,4,1,-3,-4])\n",
    "show(A)"
   ]
  },
  {
   "cell_type": "code",
   "execution_count": null,
   "metadata": {},
   "outputs": [],
   "source": [
    "AT = A.T\n",
    "show(AT)"
   ]
  },
  {
   "cell_type": "code",
   "execution_count": null,
   "metadata": {},
   "outputs": [],
   "source": [
    "factor = 1\n",
    "AT, f = TE(0,2,2,-5,AT)\n",
    "factor *= f\n",
    "show(AT)"
   ]
  },
  {
   "cell_type": "markdown",
   "metadata": {},
   "source": [
    "El determinant de $A$ és"
   ]
  },
  {
   "cell_type": "code",
   "execution_count": null,
   "metadata": {},
   "outputs": [],
   "source": [
    "det = factor * adjunt(2,1,AT) * AT[2,1]\n",
    "show(det)"
   ]
  },
  {
   "cell_type": "markdown",
   "metadata": {},
   "source": [
    "## Exercici 5\n",
    "Calculeu el determinant d’ordre 4 seguent pel mètode de Gauss:\n",
    "$$\n",
    "  A=\\left(\\begin{array}{rrrr}\n",
    "  2 &  2 & −1 & 0 \\\\\n",
    "  5 & −1 &  2 & 1 \\\\\n",
    "  6 &  3 & −2 & 1 \\\\\n",
    "  4 &  1 &  3 & 2\n",
    "  \\end{array}\\right)\\,. \n",
    "$$"
   ]
  },
  {
   "cell_type": "code",
   "execution_count": null,
   "metadata": {},
   "outputs": [],
   "source": [
    "A = matrix(4,4,[2,2,-1,0,5,-1,2,1,6,3,-2,1,4,1,3,2])\n",
    "show(A)"
   ]
  },
  {
   "cell_type": "code",
   "execution_count": null,
   "metadata": {},
   "outputs": [],
   "source": [
    "factor = 1\n",
    "A1, f = TE(1,0,2,-5,A)\n",
    "factor *= f\n",
    "A2, f = TE(2,0,2,-6,A1)\n",
    "factor *= f\n",
    "A3, f = TE(3,0,2,-4,A2)\n",
    "factor *= f\n",
    "show(A3)"
   ]
  },
  {
   "cell_type": "code",
   "execution_count": null,
   "metadata": {},
   "outputs": [],
   "source": [
    "A4, f = TE(2,1,-12,3,A3)\n",
    "factor *= f\n",
    "A5, f = TE(3,1,-12,3,A4)\n",
    "factor *= f\n",
    "show(A5)"
   ]
  },
  {
   "cell_type": "code",
   "execution_count": null,
   "metadata": {},
   "outputs": [],
   "source": [
    "A6, f = TE(3,2,5,11,A5)\n",
    "factor *= f\n",
    "show(A6)"
   ]
  },
  {
   "cell_type": "markdown",
   "metadata": {},
   "source": [
    "El determinant de la matriu és"
   ]
  },
  {
   "cell_type": "code",
   "execution_count": null,
   "metadata": {},
   "outputs": [],
   "source": [
    "det = factor * prod([A6[i,i] for i in range(4)])\n",
    "show(det)"
   ]
  },
  {
   "cell_type": "markdown",
   "metadata": {},
   "source": [
    "## Exercici 6\n",
    "Calculeu el determinant de la matriu\n",
    "$$\n",
    "  A=\\frac{1}{2}\n",
    "  \\left(\\begin{array}{rrr}\n",
    "  -2 & 1 &  4 \\\\\n",
    "  -1 & 0 &  2 \\\\\n",
    "   1 & 3 & -4\n",
    "  \\end{array}\\right)\\,. \n",
    "$$"
   ]
  },
  {
   "cell_type": "code",
   "execution_count": null,
   "metadata": {},
   "outputs": [],
   "source": [
    "A = 1/2 * matrix([[-2,1,4],[-1,0,2],[1,3,-4]])\n",
    "show(A.det())"
   ]
  },
  {
   "cell_type": "markdown",
   "metadata": {},
   "source": [
    "## Exercici 7\n",
    "Analitzeu si les matrius seguents són directes, inverses o singulars:\n",
    "$$\n",
    "  A=\\left(\\begin{array}{rrr}\n",
    "   4 & 7 &  1 \\\\\n",
    "   1 & 2 &  0 \\\\\n",
    "  -2 & 3 & -7\n",
    "  \\end{array}\\right)\\,;\\qquad\n",
    "  B=\\left(\\begin{array}{rrr}\n",
    "  1 &  0 & -1 \\\\\n",
    "  2 & -1 &  0 \\\\\n",
    "  1 & 10 & -6\n",
    "  \\end{array}\\right)\\qquad\\text{i}\\qquad\n",
    "  C=\\left(\\begin{array}{rrr}\n",
    "  1 &  4 & -1 \\\\\n",
    "  2 & -1 &  4 \\\\\n",
    "  1 & 10 & -6\n",
    "  \\end{array}\\right)\\,.\n",
    "$$"
   ]
  },
  {
   "cell_type": "code",
   "execution_count": null,
   "metadata": {},
   "outputs": [],
   "source": [
    "A = matrix([[4,7,1],[1,2,0],[-2,3,-7]])\n",
    "show(A.det())"
   ]
  },
  {
   "cell_type": "markdown",
   "metadata": {},
   "source": [
    "La matriu $A$ és singular."
   ]
  },
  {
   "cell_type": "code",
   "execution_count": null,
   "metadata": {},
   "outputs": [],
   "source": [
    "B = matrix([[1,0,-1],[2,-1,0],[1,10,-6]])\n",
    "show(B.det())"
   ]
  },
  {
   "cell_type": "markdown",
   "metadata": {},
   "source": [
    "La matriu és inversa."
   ]
  },
  {
   "cell_type": "code",
   "execution_count": null,
   "metadata": {},
   "outputs": [],
   "source": [
    "C = matrix([[1,4,-1],[2,-1,4],[1,10,-6]])\n",
    "show(C.det())"
   ]
  },
  {
   "cell_type": "markdown",
   "metadata": {},
   "source": [
    "La matriu $C$ és directa."
   ]
  },
  {
   "cell_type": "markdown",
   "metadata": {},
   "source": [
    "## Exercici 8\n",
    "Determineu si les matrius seguents són ortogonals i, en cas afirmatiu, si són directes o inverses:\n",
    "$$\n",
    "  A=\\frac{1}{5}\\left(\\begin{array}{rr}\n",
    "   3 & 4 \\\\\n",
    "  -4 & 3 \n",
    "  \\end{array}\\right)\\,;\\qquad\n",
    "  B=\\left(\\begin{array}{rrr}\n",
    "    1 & -1 &  1 \\\\\n",
    "   -1 &  1 &  1 \\\\\n",
    "    1 &  1 & -1\n",
    "  \\end{array}\\right)\\qquad\\text{i}\\qquad\n",
    "  C=\\left(\\begin{array}{rrrr}\n",
    "  0 & 0 & 0 & 1 \\\\\n",
    "  0 & 0 & 1 & 0 \\\\\n",
    "  0 & 1 & 0 & 0 \\\\\n",
    "  1 & 0 & 0 & 0\n",
    "  \\end{array}\\right)\\,.\n",
    "$$"
   ]
  },
  {
   "cell_type": "code",
   "execution_count": null,
   "metadata": {},
   "outputs": [],
   "source": [
    "A = 1/5 * matrix([[3,4],[-4,3]])\n",
    "show(A.T * A == matrix.identity(2))"
   ]
  },
  {
   "cell_type": "code",
   "execution_count": null,
   "metadata": {},
   "outputs": [],
   "source": [
    "show(A.det())"
   ]
  },
  {
   "cell_type": "markdown",
   "metadata": {},
   "source": [
    "La matriu $A$ és ortogonal i directa."
   ]
  },
  {
   "cell_type": "code",
   "execution_count": null,
   "metadata": {},
   "outputs": [],
   "source": [
    "B = matrix([[1,-1,1],[-1,1,1],[1,1,-1]])\n",
    "show(B.T * B == matrix.identity(3))"
   ]
  },
  {
   "cell_type": "code",
   "execution_count": null,
   "metadata": {},
   "outputs": [],
   "source": [
    "show(B.det())"
   ]
  },
  {
   "cell_type": "markdown",
   "metadata": {},
   "source": [
    "La matriu $B$ no és ortogonal i és inversa."
   ]
  },
  {
   "cell_type": "code",
   "execution_count": null,
   "metadata": {},
   "outputs": [],
   "source": [
    "C = matrix([[0,0,0,1],[0,0,1,0],[0,1,0,0],[1,0,0,0]])\n",
    "show(C.T * C == matrix.identity(4))"
   ]
  },
  {
   "cell_type": "code",
   "execution_count": null,
   "metadata": {},
   "outputs": [],
   "source": [
    "show(C.det())"
   ]
  },
  {
   "cell_type": "markdown",
   "metadata": {},
   "source": [
    "La matriu $C$ és ortogonal i és directa."
   ]
  },
  {
   "cell_type": "markdown",
   "metadata": {},
   "source": [
    "## Exercici 9\n",
    "Calculeu els menors que contenen el menor format per les dues darreres files i les dues darreres columnes columnes de la matriu\n",
    "$$\n",
    "  A=\\left(\\begin{array}{rrrrr}\n",
    "  -1 & 2 &  2 &  0 \\\\\n",
    "   2 & 4 & -1 &  3 \\\\\n",
    "  -3 & 0 & -2 & -1 \n",
    "  \\end{array}\\right)\\,. \n",
    "$$"
   ]
  },
  {
   "cell_type": "code",
   "execution_count": null,
   "metadata": {},
   "outputs": [],
   "source": [
    "A = matrix(3,4,[-1,2,2,0,2,4,-1,3,-3,0,-2,-1])\n",
    "show(A)"
   ]
  },
  {
   "cell_type": "code",
   "execution_count": null,
   "metadata": {},
   "outputs": [],
   "source": [
    "r = [1,2]\n",
    "c = [2,3]\n",
    "show(A[r,c])"
   ]
  },
  {
   "cell_type": "code",
   "execution_count": null,
   "metadata": {},
   "outputs": [],
   "source": [
    "menors_que_contenen(r,c,A)"
   ]
  },
  {
   "cell_type": "markdown",
   "metadata": {},
   "source": [
    "## Exercici 10\n",
    "Calculeu el rang i determineu files i columnes linealment independents en nombre maxim de la matriu seguent pel mètode dels menors:\n",
    "$$\n",
    "  A=\\left(\\begin{array}{rrrrr}\n",
    "  3 & 2 &  5 & 2 &   7 \\\\\n",
    "  6 & 4 &  7 & 4 &   5 \\\\\n",
    "  3 & 2 & -1 & 2 & -11 \\\\\n",
    "  6 & 4 &  1 & 4 & -13\n",
    "  \\end{array}\\right)\\,. \n",
    "$$"
   ]
  },
  {
   "cell_type": "code",
   "execution_count": null,
   "metadata": {},
   "outputs": [],
   "source": [
    "A = matrix([[3,2,5,2,7],[6,4,7,4,5],[3,2,-1,2,-11],[6,4,1,4,-13]])\n",
    "show(A)"
   ]
  },
  {
   "cell_type": "markdown",
   "metadata": {},
   "source": [
    "Observem que el menor d'ordre 2 determinat per les files primera i segona i per les columnes primera i segona té determinant nul."
   ]
  },
  {
   "cell_type": "markdown",
   "metadata": {},
   "source": [
    "Mentre que el menor d'ordre 2 determinat per les files primera i segona i per les columnes primera i tercera té determinant diferent de zero. Els índexs de les files sòn 0 i 1 i el de les columnes 0 i 2:"
   ]
  },
  {
   "cell_type": "code",
   "execution_count": null,
   "metadata": {},
   "outputs": [],
   "source": [
    "r = [0,1]\n",
    "c = [0,2]\n",
    "show(A[r,c].det())"
   ]
  },
  {
   "cell_type": "markdown",
   "metadata": {},
   "source": [
    "Ja podem assegurar que el rang de la matriu $A$ és com a mínim 2."
   ]
  },
  {
   "cell_type": "code",
   "execution_count": null,
   "metadata": {},
   "outputs": [],
   "source": [
    "menors_que_contenen(r,c,A)"
   ]
  },
  {
   "cell_type": "markdown",
   "metadata": {},
   "source": [
    "Com que tots aquests menors d'ordre 3 són nuls, el rang de la matriu $A$ és 2. Les files 1a i 2a són linealment independents. Les columnes 1a i 3a són linealment independents."
   ]
  },
  {
   "cell_type": "markdown",
   "metadata": {
    "tags": []
   },
   "source": [
    "## Exercici 11\n",
    "Calculeu el rang de la matriu\n",
    "$$\n",
    "  A=\\left(\\begin{array}{ccc} \n",
    "   a^{2} - 5 a - 10    &    a^{2} - 5 a - 14  &    a^{2} - 3 a - 8 \\\\ \n",
    "       - 2 a - 4       &       - 2 a - 4      &      - a - 2       \\\\ \n",
    "  - a^{2} + 3 a + 8    &  - a^{2} + 3 a + 10  &  - a^{2} + 2 a + 7\n",
    "  \\end{array}\\right)\n",
    "$$\n",
    "en funció del paràmetre $a$."
   ]
  },
  {
   "cell_type": "code",
   "execution_count": null,
   "metadata": {},
   "outputs": [],
   "source": [
    "a = var('a')\n",
    "A = matrix([[a^2-5*a-10, a^2-5*a-14,a^2-3*a-8],\n",
    "            [  -2*a-4  ,  -2*a-4   , -a-2],\n",
    "            [-a^2+3*a+8,-a^2+3*a+10,-a^2+2*a+7]])"
   ]
  },
  {
   "cell_type": "markdown",
   "metadata": {},
   "source": [
    "En primer lloc, calculem el determinant de la matriu $A$ i veiem per a quins valors de $a$ s'anul·la:"
   ]
  },
  {
   "cell_type": "code",
   "execution_count": null,
   "metadata": {},
   "outputs": [],
   "source": [
    "p = expand(A.det())\n",
    "show(p)"
   ]
  },
  {
   "cell_type": "code",
   "execution_count": null,
   "metadata": {},
   "outputs": [],
   "source": [
    "show(solve(p,a))"
   ]
  },
  {
   "cell_type": "markdown",
   "metadata": {},
   "source": [
    "Per tant, si $a\\neq -2$ i $a\\neq 3$, el rang de la matriu $A$ és 3."
   ]
  },
  {
   "cell_type": "markdown",
   "metadata": {},
   "source": [
    "Per $a=-2$, la matriu $A$ és"
   ]
  },
  {
   "cell_type": "code",
   "execution_count": null,
   "metadata": {},
   "outputs": [],
   "source": [
    "A1 = A.subs(a=-2)\n",
    "show(A1)"
   ]
  },
  {
   "cell_type": "code",
   "execution_count": null,
   "metadata": {},
   "outputs": [],
   "source": [
    "show(A1.rank())"
   ]
  },
  {
   "cell_type": "markdown",
   "metadata": {},
   "source": [
    "Per a $a=-2$, el rang de la matriu $A$ és 1."
   ]
  },
  {
   "cell_type": "markdown",
   "metadata": {},
   "source": [
    "Finalment, per a $a=3$, la matriu $A$ és"
   ]
  },
  {
   "cell_type": "code",
   "execution_count": null,
   "metadata": {},
   "outputs": [],
   "source": [
    "A2 = A.subs(a=3)\n",
    "show(A2)"
   ]
  },
  {
   "cell_type": "code",
   "execution_count": null,
   "metadata": {},
   "outputs": [],
   "source": [
    "show(A2.rank())"
   ]
  },
  {
   "cell_type": "markdown",
   "metadata": {},
   "source": [
    "Per a $a=3$, el rang de la matriu $A$ és 2."
   ]
  },
  {
   "cell_type": "markdown",
   "metadata": {},
   "source": [
    "## Exercici 12\n",
    "Analitzeu si les matrius seguents són regulars i, en cas negatiu, determineu una submatriu regular d’ordre maxim pel mètode dels menors:\n",
    "$$\n",
    "  A=\\left(\\begin{array}{rrr}\n",
    "    0 & 1 &  4 \\\\\n",
    "   -1 & 2 &  3 \\\\\n",
    "    2 & 1 & -2\n",
    "  \\end{array}\\right)\\qquad\\text{i}\\qquad\n",
    "  B=\\left(\\begin{array}{rrrr}\n",
    "   3 & 2  &  5 &   4 \\\\\n",
    "   2 & 3  &  6 &   8 \\\\\n",
    "   4 & 1  &  4 &   2 \\\\\n",
    "   1 & -6 & -9 & -20\n",
    "  \\end{array}\\right)\\,.\n",
    "$$"
   ]
  },
  {
   "cell_type": "code",
   "execution_count": null,
   "metadata": {},
   "outputs": [],
   "source": [
    "A = matrix([[0,1,4],[-1,2,3],[2,1,-2]])\n",
    "show(A)"
   ]
  },
  {
   "cell_type": "code",
   "execution_count": null,
   "metadata": {},
   "outputs": [],
   "source": [
    "r = [0,1]\n",
    "c = [0,1]\n",
    "show(A[r,c].det())"
   ]
  },
  {
   "cell_type": "code",
   "execution_count": null,
   "metadata": {},
   "outputs": [],
   "source": [
    "menors_que_contenen(r,c,A)"
   ]
  },
  {
   "cell_type": "markdown",
   "metadata": {},
   "source": [
    "La matriu $A$ té rang 3, és a dir, és regular."
   ]
  },
  {
   "cell_type": "code",
   "execution_count": null,
   "metadata": {},
   "outputs": [],
   "source": [
    "B = matrix([[3,2,5,4],[2,3,6,8],[4,1,4,2],[1,-6,-9,-20]])\n",
    "show(B)"
   ]
  },
  {
   "cell_type": "code",
   "execution_count": null,
   "metadata": {},
   "outputs": [],
   "source": [
    "r = [0,1]\n",
    "c = [0,1]\n",
    "show(B[r,c].det())"
   ]
  },
  {
   "cell_type": "code",
   "execution_count": null,
   "metadata": {},
   "outputs": [],
   "source": [
    "menors_que_contenen(r,c,B)"
   ]
  },
  {
   "cell_type": "code",
   "execution_count": null,
   "metadata": {},
   "outputs": [],
   "source": [
    "r = [0,1,2]\n",
    "c = [0,1,3]\n",
    "menors_que_contenen(r,c,B)"
   ]
  },
  {
   "cell_type": "markdown",
   "metadata": {},
   "source": [
    "La matriu $B$ té rang 3, és a dir, és singular. La submatriu formada per les files 1a, 2a i 3a i les columnes 1a, 2a i 4a és regular."
   ]
  },
  {
   "cell_type": "code",
   "execution_count": null,
   "metadata": {},
   "outputs": [],
   "source": [
    "show(B[[0,1,2],[0,1,3]])"
   ]
  },
  {
   "cell_type": "markdown",
   "metadata": {},
   "source": [
    "## Exercici 13\n",
    "Resoleu els sistemes d’equacions lineals seguents pel mètode de Cramer:\n",
    "$$\n",
    "  \\left.\\begin{aligned}\n",
    "  5x - 6y + z &= 4 \\\\\n",
    "  3x - 5y - 2z &= 3 \\\\\n",
    "  2x - y + 3z &= 5\n",
    "  \\end{aligned}\\right\\}\\,;\\qquad\n",
    "  \\left.\\begin{aligned}\n",
    "  2x + 3y + 5z &= 10 \\\\\n",
    "  3x + 7y + 4z &= 3 \\\\\n",
    "  x + 2y + 2z &= 3\n",
    "  \\end{aligned}\\right\\}\\qquad\\text{i}\\qquad\n",
    "  \\left.\\begin{aligned}\n",
    "  2x - 3y + z &= 2 \\\\\n",
    "  3x - 5y + 5z &= 3 \\\\\n",
    "  5x - 8y + 6z &= 5\n",
    "  \\end{aligned}\\right\\}\n",
    "$$"
   ]
  },
  {
   "cell_type": "code",
   "execution_count": null,
   "metadata": {},
   "outputs": [],
   "source": [
    "A = matrix(3,3,[5,-6,1,3,-5,-2,2,-1,3])\n",
    "show(A.det())"
   ]
  },
  {
   "cell_type": "code",
   "execution_count": null,
   "metadata": {},
   "outputs": [],
   "source": [
    "AB = concatena_matriu_vector(A,vector([4,3,5]))\n",
    "show(AB)"
   ]
  },
  {
   "cell_type": "code",
   "execution_count": null,
   "metadata": {},
   "outputs": [],
   "source": [
    "r = [0,1]\n",
    "c = [0,1]\n",
    "menors_que_contenen(r,c,AB)"
   ]
  },
  {
   "cell_type": "markdown",
   "metadata": {},
   "source": [
    "El primer sistema d'equacions és incompatible"
   ]
  },
  {
   "cell_type": "code",
   "execution_count": null,
   "metadata": {},
   "outputs": [],
   "source": [
    "B = matrix(3,3,[2,3,5,3,7,4,1,2,2])\n",
    "show(B.det())"
   ]
  },
  {
   "cell_type": "code",
   "execution_count": null,
   "metadata": {},
   "outputs": [],
   "source": [
    "AB = concatena_matriu_vector(B,vector([10,3,3]))\n",
    "show(AB)"
   ]
  },
  {
   "cell_type": "code",
   "execution_count": null,
   "metadata": {},
   "outputs": [],
   "source": [
    "show(\"x = \",AB[:,[3,1,2]].det()/B.det())"
   ]
  },
  {
   "cell_type": "code",
   "execution_count": null,
   "metadata": {},
   "outputs": [],
   "source": [
    "show(\"y = \",AB[:,[0,3,2]].det()/B.det())"
   ]
  },
  {
   "cell_type": "code",
   "execution_count": null,
   "metadata": {},
   "outputs": [],
   "source": [
    "show(\"z = \",AB[:,[0,1,3]].det()/B.det())"
   ]
  },
  {
   "cell_type": "markdown",
   "metadata": {},
   "source": [
    "El segon sistema és compatible determinat i la solució és $x=3$, $y=-2$ i $z=2$."
   ]
  },
  {
   "cell_type": "code",
   "execution_count": null,
   "metadata": {},
   "outputs": [],
   "source": [
    "C = matrix(3,3,[2,-3,1,3,-5,5,5,-8,6])\n",
    "show(C.det())"
   ]
  },
  {
   "cell_type": "code",
   "execution_count": null,
   "metadata": {},
   "outputs": [],
   "source": [
    "r = [0,1]\n",
    "c = [0,1]\n",
    "dt = C[r,c].det()\n",
    "show(dt)"
   ]
  },
  {
   "cell_type": "code",
   "execution_count": null,
   "metadata": {},
   "outputs": [],
   "source": [
    "AB = concatena_matriu_vector(C,vector([2,3,5]))\n",
    "show(AB)"
   ]
  },
  {
   "cell_type": "code",
   "execution_count": null,
   "metadata": {},
   "outputs": [],
   "source": [
    "menors_que_contenen(r,c,AB)"
   ]
  },
  {
   "cell_type": "markdown",
   "metadata": {},
   "source": [
    "El tercer sistema és compatible indeterminat. Per resoldre'l, aplicarem la regla de Cramer al sistema d'equacions\n",
    "$$\n",
    "  \\left.\\begin{aligned}\n",
    "  2x - 3y + z &= 2 - z\\\\\n",
    "  3x - 5y + 5z &= 3 - 5z\\\\\n",
    "  \\end{aligned}\\right\\}\\,.\n",
    "$$"
   ]
  },
  {
   "cell_type": "code",
   "execution_count": null,
   "metadata": {},
   "outputs": [],
   "source": [
    "z = var('z')\n",
    "M = AB[r,c]\n",
    "T = AB[r,[3]] - AB[r,[2]] * z\n",
    "MT = MT = concatena_matrius(M,T)\n",
    "show(MT)"
   ]
  },
  {
   "cell_type": "code",
   "execution_count": null,
   "metadata": {},
   "outputs": [],
   "source": [
    "show(\"x = \",MT[:,[2,1]].det()/dt)"
   ]
  },
  {
   "cell_type": "code",
   "execution_count": null,
   "metadata": {},
   "outputs": [],
   "source": [
    "show(\"x = \",MT[:,[0,2]].det()/dt)"
   ]
  },
  {
   "cell_type": "markdown",
   "metadata": {},
   "source": [
    "La solució del tercer sistema d'equacions és\n",
    "$$\n",
    "  \\left.\\begin{aligned}\n",
    "  x &= 1+10z  \\\\\n",
    "  y &= 7z\n",
    "  \\end{aligned}\\right\\}\n",
    "$$"
   ]
  },
  {
   "cell_type": "markdown",
   "metadata": {},
   "source": [
    "## Exercici 14\n",
    "Resoleus els sistemes d’equacions lineals homogenis seguents pel mètode de Cramer:\n",
    "$$\n",
    "  \\left.\\begin{aligned}\n",
    "  -x + 2y - 3z &= 0 \\\\\n",
    "  2x + 3y - 5z &= 0 \\\\\n",
    "  -x + 3y - 3z &= 0\n",
    "  \\end{aligned}\\right\\}\\qquad\\text{i}\\qquad\n",
    "  \\left.\\begin{aligned}\n",
    "  3x + 2y + 5z &= 0 \\\\\n",
    "  6x + 4y + 7z &= 0 \\\\\n",
    "  3x + 2y - z &= 0\n",
    "  \\end{aligned}\\right\\}\\,.\n",
    "$$"
   ]
  },
  {
   "cell_type": "code",
   "execution_count": null,
   "metadata": {},
   "outputs": [],
   "source": [
    "A = matrix(3,3,[-1,2,-3,2,3,-5,-1,3,-3])\n",
    "show(A.det())"
   ]
  },
  {
   "cell_type": "markdown",
   "metadata": {},
   "source": [
    "El primer sistema és compatible determinat i, com que és homogeni, la seva solució és $x=0$, $y=0$ i $z=0$."
   ]
  },
  {
   "cell_type": "code",
   "execution_count": null,
   "metadata": {},
   "outputs": [],
   "source": [
    "B = matrix(3,3,[3,2,5,6,4,7,3,2,-1])\n",
    "show(B)"
   ]
  },
  {
   "cell_type": "code",
   "execution_count": null,
   "metadata": {},
   "outputs": [],
   "source": [
    "B.det()"
   ]
  },
  {
   "cell_type": "code",
   "execution_count": null,
   "metadata": {},
   "outputs": [],
   "source": [
    "r = [0,2]\n",
    "c = [0,2]\n",
    "dt = B[r,c].det()\n",
    "show(dt)"
   ]
  },
  {
   "cell_type": "markdown",
   "metadata": {},
   "source": [
    "El segon sistema és compatible indeterminat ja que les seves matrius tenen rang 2. Alehores, podem eliminar la segona equació\n",
    "$$\n",
    "  \\left.\\begin{aligned}\n",
    "   3x + 2y + 5z &= 0 \\\\\n",
    "   3x + 2y - z &= 0\n",
    "  \\end{aligned}\\right\\}\n",
    "$$\n",
    "i podem passar la incògnita $y$ a la dreta de la igualtat\n",
    "$$\n",
    "  \\left.\\begin{aligned}\n",
    "   3x + 5z &= -2y \\\\\n",
    "   3x - z &= -2y\n",
    "  \\end{aligned}\\right\\}\n",
    "$$"
   ]
  },
  {
   "cell_type": "markdown",
   "metadata": {},
   "source": [
    "Podem escriure la matriu d'aquest sistema d'equacions de dues maneres diferents"
   ]
  },
  {
   "cell_type": "code",
   "execution_count": null,
   "metadata": {},
   "outputs": [],
   "source": [
    "y = var('y')\n",
    "A = matrix([[3,5,-2*y],[3,-1,-2*y]])\n",
    "show(A)"
   ]
  },
  {
   "cell_type": "markdown",
   "metadata": {},
   "source": [
    "o bé,"
   ]
  },
  {
   "cell_type": "code",
   "execution_count": null,
   "metadata": {},
   "outputs": [],
   "source": [
    "y = var('y')\n",
    "M = A[[0,1],[0,1]]\n",
    "T = - B[r,[1]] * y\n",
    "MT = concatena_matrius(M,T)\n",
    "show(MT)"
   ]
  },
  {
   "cell_type": "markdown",
   "metadata": {},
   "source": [
    "Per la regla de Cramer tenim la solució d'aquest sistema"
   ]
  },
  {
   "cell_type": "code",
   "execution_count": null,
   "metadata": {},
   "outputs": [],
   "source": [
    "show(\"x = \",MT[:,[2,1]].det()/dt)"
   ]
  },
  {
   "cell_type": "code",
   "execution_count": null,
   "metadata": {},
   "outputs": [],
   "source": [
    "show(\"z = \",MT[:,[0,2]].det()/dt)"
   ]
  },
  {
   "cell_type": "markdown",
   "metadata": {},
   "source": [
    "La solució és\n",
    "$$\n",
    "  \\left.\\begin{aligned}\n",
    "  x &= -\\frac{2y}{3}  \\\\\n",
    "  z &= 0\n",
    "  \\end{aligned}\\right\\}\n",
    "$$"
   ]
  },
  {
   "cell_type": "markdown",
   "metadata": {},
   "source": [
    "## Exercici 15\n",
    "Resoleu el sistema d'equacions\n",
    "$$\n",
    "  \\left.\\begin{aligned}\n",
    "   - 2 x + 2 y - z - 2 t &= -1 \\\\ \n",
    "   x - 2 y + 3 z + 4 t &= 2 \\\\\n",
    "   - x + 2 z + 2 t &= 1\n",
    "  \\end{aligned}\\;\\right\\}\n",
    "$$"
   ]
  },
  {
   "cell_type": "markdown",
   "metadata": {},
   "source": [
    "La matriu dels coeficients de les incògnites és"
   ]
  },
  {
   "cell_type": "code",
   "execution_count": null,
   "metadata": {},
   "outputs": [],
   "source": [
    "A = matrix([[-2,2,-1,-2],[1,-2,3,4],[-1,0,2,2]])\n",
    "show(A)"
   ]
  },
  {
   "cell_type": "markdown",
   "metadata": {},
   "source": [
    "És immediat que el menor format per les files 1a i 2a i les columnes 1a i 2a és no nul:"
   ]
  },
  {
   "cell_type": "code",
   "execution_count": null,
   "metadata": {},
   "outputs": [],
   "source": [
    "r = [0,1]\n",
    "c = [0,1]\n",
    "dt = A[r,c].det()\n",
    "show(dt)"
   ]
  },
  {
   "cell_type": "markdown",
   "metadata": {},
   "source": [
    "Calculem el rang de la matriu $A$:"
   ]
  },
  {
   "cell_type": "code",
   "execution_count": null,
   "metadata": {},
   "outputs": [],
   "source": [
    "menors_que_contenen(r,c,A)"
   ]
  },
  {
   "cell_type": "markdown",
   "metadata": {},
   "source": [
    "Per tant, el rang de la matriu $A$ és 2."
   ]
  },
  {
   "cell_type": "markdown",
   "metadata": {},
   "source": [
    "La matriu ampliada és"
   ]
  },
  {
   "cell_type": "code",
   "execution_count": null,
   "metadata": {},
   "outputs": [],
   "source": [
    "AB = concatena_matriu_vector(A,vector([-1,2,1]))\n",
    "show(AB)"
   ]
  },
  {
   "cell_type": "markdown",
   "metadata": {},
   "source": [
    "i calculem també el seu rang:"
   ]
  },
  {
   "cell_type": "code",
   "execution_count": null,
   "metadata": {},
   "outputs": [],
   "source": [
    "menors_que_contenen(r,c,AB)"
   ]
  },
  {
   "cell_type": "markdown",
   "metadata": {},
   "source": [
    "Com que aquests tres menors d'ordre 3 s'anul·len, el rang de la matriu ampliada també és 2 i el sistema és compatible indeterminat. Com que el menor d'ordre màxim no nul que hem trobat és $M_{1,2}^{1,2}$ (això vol dir les files 1a i 2a i les columnes 1a i 2a, que recordem tenen índexs 0 i 1), hem d'eliminar la tercera equació i passar les incògnites $z$ i $t$ a la dreta:\n",
    "$$\n",
    "  \\left.\\begin{aligned}\n",
    "   - 2 x + 2 y &= -1 + z + 2t\\\\ \n",
    "   x - 2 y  &= 2 - 3z - 4t\n",
    "  \\end{aligned}\\;\\right\\}\n",
    "$$"
   ]
  },
  {
   "cell_type": "code",
   "execution_count": null,
   "metadata": {},
   "outputs": [],
   "source": [
    "z, t = var('z t')\n",
    "M = AB[r,c]\n",
    "T = AB[[0,1],4] - z * AB[[0,1],2] - t * AB[[0,1],3]\n",
    "MT = concatena_matrius(M,T)\n",
    "show(MT)"
   ]
  },
  {
   "cell_type": "code",
   "execution_count": null,
   "metadata": {},
   "outputs": [],
   "source": [
    "show(\"x = \",MT[:,[2,1]].det()/dt)"
   ]
  },
  {
   "cell_type": "code",
   "execution_count": null,
   "metadata": {},
   "outputs": [],
   "source": [
    "show(\"y = \",MT[:,[0,2]].det()/dt)"
   ]
  },
  {
   "cell_type": "markdown",
   "metadata": {},
   "source": [
    "Per tant, la solució del sistema d'equacions és\n",
    "$$\n",
    "  \\left.\\begin{aligned}\n",
    "    x &= -1 + 2z + 2t\\\\ \n",
    "    y &= \\frac{-3+5z+6t}{2}\n",
    "  \\end{aligned}\\;\\right\\}\n",
    "$$"
   ]
  },
  {
   "cell_type": "markdown",
   "metadata": {},
   "source": [
    "## Exercici 16\n",
    "Resoleu, en funció del paràmetre $a$, el sistema d’equacions lineals\n",
    "$$\n",
    "  \\left.\\begin{aligned}\n",
    "  ax + y + z  &= a \\\\\n",
    "  x + ay - z  &= 1 \\\\\n",
    "  3x + y + az &= 2\n",
    "  \\end{aligned}\\right\\}\n",
    "$$"
   ]
  },
  {
   "cell_type": "code",
   "execution_count": null,
   "metadata": {},
   "outputs": [],
   "source": [
    "a = var('a')\n",
    "A = matrix(3,3,[a,1,1,1,a,-1,3,1,a])\n",
    "dt = A.det().expand()\n",
    "show(dt)"
   ]
  },
  {
   "cell_type": "code",
   "execution_count": null,
   "metadata": {},
   "outputs": [],
   "source": [
    "show(solve(dt==0,a))"
   ]
  },
  {
   "cell_type": "markdown",
   "metadata": {},
   "source": [
    "Si $a\\neq -1$ i $a\\neq 2$, el sistema és compatible determinat. La solució serà"
   ]
  },
  {
   "cell_type": "code",
   "execution_count": null,
   "metadata": {},
   "outputs": [],
   "source": [
    "B = matrix(3,1,[a,1,2])\n",
    "AB = concatena_matrius(A,B)\n",
    "show(AB)"
   ]
  },
  {
   "cell_type": "code",
   "execution_count": null,
   "metadata": {},
   "outputs": [],
   "source": [
    "show(\"x = \",(AB[:,[3,1,2]].det()/A.det()).simplify_rational())"
   ]
  },
  {
   "cell_type": "code",
   "execution_count": null,
   "metadata": {},
   "outputs": [],
   "source": [
    "show(\"y = \",(AB[:,[0,3,2]].det()/A.det()).simplify_rational())"
   ]
  },
  {
   "cell_type": "code",
   "execution_count": null,
   "metadata": {},
   "outputs": [],
   "source": [
    "show(\"z = \",(AB[:,[0,1,3]].det()/A.det()).simplify_rational())"
   ]
  },
  {
   "cell_type": "markdown",
   "metadata": {},
   "source": [
    "Si $a\\neq -1$ i $a\\neq 2$, la solució del sistema d'equacions és\n",
    "$$\n",
    "  \\left.\\begin{aligned}\n",
    "  x &= \\frac{a^2-a-1}{a^2-a-2}\\\\\n",
    "  y &= -\\frac{1}{a^2-a-2}\\\\\n",
    "  z &= -\\frac{a-1}{a^2-a-2} \n",
    "  \\end{aligned}\\right\\}\n",
    "$$"
   ]
  },
  {
   "cell_type": "markdown",
   "metadata": {},
   "source": [
    "Si $a=-1$ la matriu del sistema és"
   ]
  },
  {
   "cell_type": "code",
   "execution_count": null,
   "metadata": {},
   "outputs": [],
   "source": [
    "A = AB.subs(a=-1)\n",
    "show(A)"
   ]
  },
  {
   "cell_type": "code",
   "execution_count": null,
   "metadata": {},
   "outputs": [],
   "source": [
    "r = [0,2]\n",
    "c = [0,2]\n",
    "dt = A[r,c].det()\n",
    "show(dt)"
   ]
  },
  {
   "cell_type": "code",
   "execution_count": null,
   "metadata": {},
   "outputs": [],
   "source": [
    "menors_que_contenen(r,c,A)"
   ]
  },
  {
   "cell_type": "markdown",
   "metadata": {},
   "source": [
    "El sistema és compatible indeterminat.\n",
    "\n",
    "Com que el menor d'ordre 2 amb determinant no nul conté les files primera i tercera, podem eliminar la segona equació. A més, hem de passar la $y$ a la dreta, i ens quedarà el sistema\n",
    "$$\n",
    "  \\left.\\begin{aligned}\n",
    "  -x+z &= -1-y \\\\\n",
    "  3x+y &= 2-y\n",
    "  \\end{aligned}\\right\\}\\,.\n",
    "$$\n",
    "i hem d'escriure la matriu d'aquesta sistema d'equacions"
   ]
  },
  {
   "cell_type": "code",
   "execution_count": null,
   "metadata": {},
   "outputs": [],
   "source": [
    "y = var('y')\n",
    "M = A[r,c]\n",
    "T = A[r,[3]] - A[r,[1]] * y\n",
    "MT = concatena_matrius(M,T)\n",
    "show(MT)"
   ]
  },
  {
   "cell_type": "markdown",
   "metadata": {},
   "source": [
    "Apliquem ara la regla de Cramer:"
   ]
  },
  {
   "cell_type": "code",
   "execution_count": null,
   "metadata": {},
   "outputs": [],
   "source": [
    "show(\"x = \",MT[:,[2,1]].det()/dt)"
   ]
  },
  {
   "cell_type": "code",
   "execution_count": null,
   "metadata": {},
   "outputs": [],
   "source": [
    "show(\"z = \",MT[:,[0,2]].det()/dt)"
   ]
  },
  {
   "cell_type": "markdown",
   "metadata": {},
   "source": [
    "La solució és\n",
    "$$\n",
    "  \\left.\\begin{aligned}\n",
    "  x &= \\frac{1-2y}{2} \\\\\n",
    "  z &= -\\frac{1+4y}{2}\n",
    "  \\end{aligned}\\right\\}\n",
    "$$"
   ]
  },
  {
   "cell_type": "markdown",
   "metadata": {},
   "source": [
    "Si $a=2$ la matriu del sistema és"
   ]
  },
  {
   "cell_type": "code",
   "execution_count": null,
   "metadata": {},
   "outputs": [],
   "source": [
    "A = AB.subs(a=2)\n",
    "show(A)"
   ]
  },
  {
   "cell_type": "code",
   "execution_count": null,
   "metadata": {},
   "outputs": [],
   "source": [
    "r = [0,1]\n",
    "c = [0,1]\n",
    "dt = A[r,c].det()\n",
    "show(dt)"
   ]
  },
  {
   "cell_type": "code",
   "execution_count": null,
   "metadata": {},
   "outputs": [],
   "source": [
    "menors_que_contenen(r,c,A)"
   ]
  },
  {
   "cell_type": "markdown",
   "metadata": {},
   "source": [
    "Si $a=2$, el rang de la matriu $A$ és 2, el de l'ampliada és 3 i el sistema és incompatible."
   ]
  },
  {
   "cell_type": "markdown",
   "metadata": {},
   "source": [
    "## Exercici 17\n",
    "Trobeu els valors de $\\lambda$ per als quals el sistema d'equacions\n",
    "$$\n",
    "  \\left.\\begin{aligned}\n",
    "  - 3 x + 2 y - 2 z &= \\lambda x \\\\\n",
    "  - 2 x + y - 2 z &= \\lambda y \\\\ \n",
    "  2 x - 2 y + z &= \\lambda z\n",
    "  \\end{aligned}\\;\\right\\}\n",
    "$$\n",
    "és compatible indeterminat."
   ]
  },
  {
   "cell_type": "markdown",
   "metadata": {},
   "source": [
    "El primer que hem d'observar és que tenim les incògnites $x$, $y$ i $z$ tant a la dreta com a l'esquerra de les igualtats i que, en realitat, es tracta d'un sistema d'equacions homegeni:\n",
    "$$\n",
    "  \\left.\\begin{aligned}\n",
    "  (- 3 - \\lambda)x + 2 y - 2 z &= 0 \\\\\n",
    "  - 2 x + (1 - \\lambda)y - 2 z &= 0 \\\\ \n",
    "  2 x - 2 y + (1 - \\lambda)z &= 0\n",
    "  \\end{aligned}\\;\\right\\}\n",
    "$$"
   ]
  },
  {
   "cell_type": "markdown",
   "metadata": {},
   "source": [
    "D'altra banda, un sistema d'equacions homogeni és compatible indeterminat si, i només si, el determinant de la matriu dels coeficients de les incògnites és zero. Farem servir la $l$ com a paràmetre $\\lambda$."
   ]
  },
  {
   "cell_type": "code",
   "execution_count": null,
   "metadata": {},
   "outputs": [],
   "source": [
    "l = var('l')\n",
    "A = matrix([[-3-l,2,-2],[-2,1-l,-2],[2,-2,1-l]])\n",
    "show(A)"
   ]
  },
  {
   "cell_type": "code",
   "execution_count": null,
   "metadata": {},
   "outputs": [],
   "source": [
    "dt = A.det().expand()\n",
    "show(dt)"
   ]
  },
  {
   "cell_type": "code",
   "execution_count": null,
   "metadata": {},
   "outputs": [],
   "source": [
    "show(solve(dt == 0,l))"
   ]
  },
  {
   "cell_type": "markdown",
   "metadata": {},
   "source": [
    "El sistema d'equacions és compatible indeterminat per a $\\lambda=-1$ i $\\lambda=1$. Per a qualsevol altre valor de $\\lambda$ és compatible determinat."
   ]
  },
  {
   "cell_type": "markdown",
   "metadata": {},
   "source": [
    "## Exercici 18\n",
    "Calculeu la matriu adjunta de la matriu\n",
    "$$\n",
    "  A=\\left(\\begin{array}{rrr}\n",
    "   2 & -1 &  1 \\\\\n",
    "  -1 &  2 &  3 \\\\\n",
    "   0 &  1 & -1\n",
    "  \\end{array}\\right)\\,.\n",
    "$$"
   ]
  },
  {
   "cell_type": "code",
   "execution_count": null,
   "metadata": {},
   "outputs": [],
   "source": [
    "A = matrix([[2,-1,1],[-1,2,3],[0,1,-1]])\n",
    "AD =  matrix(3,3,[adjunt(i,j,A) for i in range(3) for j in range(3)])\n",
    "show(AD)"
   ]
  },
  {
   "cell_type": "markdown",
   "metadata": {},
   "source": [
    "## Exercici 19\n",
    "Trobeu la inversa de les matrius següents pel mètode de l’adjunta:\n",
    "$$\n",
    "  A=\\left(\\begin{array}{rrr}\n",
    "   4 & 7 &  1 \\\\\n",
    "   1 & 2 &  0 \\\\\n",
    "  -2 & 3 & -7\n",
    "  \\end{array}\\right)\\qquad\\text{i}\\qquad\n",
    "  B=\\left(\\begin{array}{rrr}\n",
    "   1 &  3 & -2 \\\\\n",
    "   4 &  1 &  5 \\\\\n",
    "   2 & -1 &  5   \n",
    "  \\end{array}\\right)\\,.\n",
    "$$"
   ]
  },
  {
   "cell_type": "code",
   "execution_count": null,
   "metadata": {},
   "outputs": [],
   "source": [
    "A = matrix([[4,7,1],[1,2,0],[-2,3,-7]])\n",
    "show(A.det())"
   ]
  },
  {
   "cell_type": "markdown",
   "metadata": {},
   "source": [
    "La matriu $A$ no té inversa"
   ]
  },
  {
   "cell_type": "code",
   "execution_count": null,
   "metadata": {},
   "outputs": [],
   "source": [
    "B = matrix([[1,3,-2],[4,1,5],[2,-1,5]])\n",
    "show(B.det())"
   ]
  },
  {
   "cell_type": "code",
   "execution_count": null,
   "metadata": {},
   "outputs": [],
   "source": [
    "BI = 1/B.det() * matrix(3,3,[adjunt(i,j,B) for i in range(3) for j in range(3)]).T\n",
    "show(BI)"
   ]
  },
  {
   "cell_type": "markdown",
   "metadata": {},
   "source": [
    "La inversa de la matriu $B$ és\n",
    "$$\n",
    "  B^{-1}=\\frac{1}{8}\\left(\\begin{array}{rrr}\n",
    "  -10 & 13 & -17 \\\\\n",
    "   10 & -9 &  13 \\\\\n",
    "    6 & -7 &  11   \n",
    "  \\end{array}\\right)\\,.\n",
    "$$"
   ]
  },
  {
   "cell_type": "markdown",
   "metadata": {},
   "source": [
    "## Exercici 20\n",
    " Resoleu simultàniament, pel mètode de l’adjunta, els sistemes d’equacions lineals\n",
    "$$\n",
    "  \\left.\\begin{aligned}\n",
    "  3x + y + 2z &= 2 \\\\\n",
    "  x - 3y + z &= 1 \\\\\n",
    "  6x - 8y + 5z &= -2\n",
    "  \\end{aligned}\\right\\}\\qquad\\text{i}\\qquad\n",
    "  \\left.\\begin{aligned}\n",
    "   3x + y + 2z &= 1 \\\\\n",
    "  x - 3y + z &= -2 \\\\\n",
    "  6x - 8y + 5z &= -5\n",
    "  \\end{aligned}\\right\\}\\,.\n",
    "$$"
   ]
  },
  {
   "cell_type": "code",
   "execution_count": null,
   "metadata": {},
   "outputs": [],
   "source": [
    "A = matrix([[3,1,2],[1,-3,1],[6,-8,5]])\n",
    "show(A.det())"
   ]
  },
  {
   "cell_type": "markdown",
   "metadata": {},
   "source": [
    "Els sistemes no són compatibles determinats."
   ]
  },
  {
   "cell_type": "code",
   "execution_count": null,
   "metadata": {},
   "outputs": [],
   "source": [
    "r = [0,1]\n",
    "c = [0,1]\n",
    "dt = A[r,c].determinant()\n",
    "show(dt)"
   ]
  },
  {
   "cell_type": "code",
   "execution_count": null,
   "metadata": {},
   "outputs": [],
   "source": [
    "B = matrix([[2,1],[1,-2],[-2,-5]])\n",
    "AB = concatena_matrius(A,B)\n",
    "show(AB)"
   ]
  },
  {
   "cell_type": "code",
   "execution_count": null,
   "metadata": {},
   "outputs": [],
   "source": [
    "menors_que_contenen(r,c,AB)"
   ]
  },
  {
   "cell_type": "markdown",
   "metadata": {},
   "source": [
    "El primer sistema d'equacions és incompatible i el segon compatible indeterminat"
   ]
  },
  {
   "cell_type": "code",
   "execution_count": null,
   "metadata": {},
   "outputs": [],
   "source": [
    "z = var('z')\n",
    "M = AB[r,c]\n",
    "T = AB[r,[4]] - AB[r,[2]] * z\n",
    "MT = concatena_matrius(M,T)\n",
    "show(MT)"
   ]
  },
  {
   "cell_type": "code",
   "execution_count": null,
   "metadata": {},
   "outputs": [],
   "source": [
    "show(\"x = \",MT[:,[2,1]].det()/dt)"
   ]
  },
  {
   "cell_type": "code",
   "execution_count": null,
   "metadata": {},
   "outputs": [],
   "source": [
    "show(\"y = \",MT[:,[0,2]].det()/dt)"
   ]
  },
  {
   "cell_type": "markdown",
   "metadata": {},
   "source": [
    "La solució del segon sistema d'equacions és\n",
    "$$\n",
    "  \\left.\\begin{aligned}\n",
    "  x &= \\frac{1-7z}{10} \\\\\n",
    "  y &= -\\frac{7+z}{10}\n",
    "  \\end{aligned}\\right\\}\n",
    "$$"
   ]
  },
  {
   "cell_type": "markdown",
   "metadata": {},
   "source": [
    "Una altra manera d'obtenir la solució és"
   ]
  },
  {
   "cell_type": "code",
   "execution_count": null,
   "metadata": {},
   "outputs": [],
   "source": [
    "show(M.inverse() * T)"
   ]
  },
  {
   "cell_type": "markdown",
   "metadata": {},
   "source": [
    "## Exercici 21\n",
    "Es consideren les matrius\n",
    "1. $A=\\left(\\begin{array}{rrr}\n",
    "   3 &  1 & 2 \\\\\n",
    "   1 & -3 & 1 \\\\\n",
    "   6 & -8 & 5\n",
    "  \\end{array}\\right)$ i \n",
    "  $B=\\left(\\begin{array}{rr}\n",
    "   2 &  1 \\\\\n",
    "   1 & -2 \\\\\n",
    "  -2 &  5    \n",
    "  \\end{array}\\right)\\,.$\n",
    "2. $A=\\left(\\begin{array}{rr}\n",
    "    0 & -1 \\\\\n",
    "   -1 &  1 \n",
    "  \\end{array}\\right)$ i \n",
    "  $B=\\left(\\begin{array}{rr}\n",
    "   2 & -1 \\\\\n",
    "   0 &  0    \n",
    "  \\end{array}\\right)\\,.$\n",
    "\n",
    "Analitzeu, en cada cas, si la matriu A és regular pel mètode dels menors i, en cas afirmatiu, resoleu les\n",
    "equacions matricials $AX=B$ pel mètode de l’adjunta."
   ]
  },
  {
   "cell_type": "code",
   "execution_count": null,
   "metadata": {},
   "outputs": [],
   "source": [
    "A = matrix([[3,1,2],[1,-3,1],[6,-8,5]])\n",
    "B = matrix([[2,1],[1,-2],[-2,5]])\n",
    "show(A.det())"
   ]
  },
  {
   "cell_type": "markdown",
   "metadata": {},
   "source": [
    "Com que la matriu $A$ de l'apartat 1 és singular, no podem resoldre l'equació matricial amb $X=A^{-1}B$."
   ]
  },
  {
   "cell_type": "code",
   "execution_count": null,
   "metadata": {},
   "outputs": [],
   "source": [
    "x1, y1, z1 = var('x1 y1 z1')\n",
    "x2, y2, z2 = var('x2 y2 z2')\n",
    "X = matrix([[x1,x2],[y1,y2],[z1,z2]])"
   ]
  },
  {
   "cell_type": "code",
   "execution_count": null,
   "metadata": {},
   "outputs": [],
   "source": [
    "AX = A * X\n",
    "show(AX)"
   ]
  },
  {
   "cell_type": "code",
   "execution_count": null,
   "metadata": {},
   "outputs": [],
   "source": [
    "eqs = [AX[i,j] == B[i,j] for i in range(3) for j in range(2)]\n",
    "show(eqs)"
   ]
  },
  {
   "cell_type": "code",
   "execution_count": null,
   "metadata": {},
   "outputs": [],
   "source": [
    "show(solve(eqs,[x1,y1,z1,x2,y2,z2]))"
   ]
  },
  {
   "cell_type": "markdown",
   "metadata": {},
   "source": [
    "La primer equació matricial no té solució."
   ]
  },
  {
   "cell_type": "code",
   "execution_count": null,
   "metadata": {},
   "outputs": [],
   "source": [
    "A = matrix([[0,-1],[-1,1]])\n",
    "B = matrix([[2,-1],[0,0]])\n",
    "show(A.det())"
   ]
  },
  {
   "cell_type": "code",
   "execution_count": null,
   "metadata": {},
   "outputs": [],
   "source": [
    "X = A.inverse() * B\n",
    "show(X)"
   ]
  },
  {
   "cell_type": "markdown",
   "metadata": {},
   "source": [
    "## Exercici 22\n",
    "Es consideren les matrius\n",
    "1. $A=\\left(\\begin{array}{rrr}\n",
    "   3 &  1 &  6 \\\\\n",
    "   1 & -3 & -8 \\\\\n",
    "   2 &  1 &  5\n",
    "  \\end{array}\\right)$ i \n",
    "  $B=\\left(\\begin{array}{rrr}\n",
    "   2 &  1 & -2\\\\\n",
    "   1 & -2 &  5\n",
    "  \\end{array}\\right)\\,.$\n",
    "2. $A=\\left(\\begin{array}{rr}\n",
    "    0 & -1 \\\\\n",
    "   -1 &  1 \n",
    "  \\end{array}\\right)$ i \n",
    "  $B=\\left(\\begin{array}{rr}\n",
    "   2 & -1 \\\\\n",
    "   0 &  0    \n",
    "  \\end{array}\\right)\\,.$\n",
    "\n",
    "Analitzeu, en cada cas, si la matriu A és regular pel mètode dels menors i, en cas afirmatiu, resoleu les\n",
    "equacions matricials $XA=B$."
   ]
  },
  {
   "cell_type": "code",
   "execution_count": null,
   "metadata": {},
   "outputs": [],
   "source": [
    "A = matrix([[3,1,6],[1,-3,-8],[2,1,5]])\n",
    "B = matrix([[2,1,-2],[1,-2,5]])\n",
    "show(A.det())"
   ]
  },
  {
   "cell_type": "markdown",
   "metadata": {},
   "source": [
    "Com que la matriu $A$ de l'apartat 1 és singular, no podem resoldre l'equació matricial amb $X=BA^{-1}$. L'hem de resoldre escrivint tota la matriu incògnita\n",
    "$$\n",
    "  \\left(\\begin{array}{rrr}\n",
    "   x_1 & x_2 & x_3 \\\\\n",
    "   y_1 & y_2 & y_3\n",
    "  \\end{array}\\right)\n",
    "  \\left(\\begin{array}{rrr}\n",
    "   3 &  1 &  6 \\\\\n",
    "   1 & -3 & -8 \\\\\n",
    "   2 &  1 &  5\n",
    "  \\end{array}\\right)\n",
    "  =\n",
    "  \\left(\\begin{array}{rrr}\n",
    "   2 &  1 & -2\\\\\n",
    "   1 & -2 &  5\n",
    "  \\end{array}\\right)\n",
    "$$"
   ]
  },
  {
   "cell_type": "code",
   "execution_count": null,
   "metadata": {},
   "outputs": [],
   "source": [
    "x1, y1 = var('x1 y1')\n",
    "x2, y2 = var('x2 y2')\n",
    "x3, y3 = var('x3 y3')\n",
    "X = matrix([[x1,x2,x3],[y1,y2,y3]])\n",
    "show(X)"
   ]
  },
  {
   "cell_type": "code",
   "execution_count": null,
   "metadata": {},
   "outputs": [],
   "source": [
    "XA = X * A\n",
    "show(XA)"
   ]
  },
  {
   "cell_type": "code",
   "execution_count": null,
   "metadata": {},
   "outputs": [],
   "source": [
    "eqs = [XA[i,j] == B[i,j] for i in range(2) for j in range(3)]\n",
    "show(eqs)"
   ]
  },
  {
   "cell_type": "code",
   "execution_count": null,
   "metadata": {},
   "outputs": [],
   "source": [
    "show(solve(eqs,[x1,y1,x2,y2,x3,y3]))"
   ]
  },
  {
   "cell_type": "markdown",
   "metadata": {},
   "source": [
    "La primera equació matricial no té solució."
   ]
  },
  {
   "cell_type": "code",
   "execution_count": null,
   "metadata": {},
   "outputs": [],
   "source": [
    "A = matrix([[0,-1],[-1,1]])\n",
    "B = matrix([[2,0],[-1,0]])\n",
    "show(A.det())"
   ]
  },
  {
   "cell_type": "markdown",
   "metadata": {},
   "source": [
    "Com que la matriu $A$ té inversa, la solució de l'equació matricial és $X=BA^{-1}$:"
   ]
  },
  {
   "cell_type": "code",
   "execution_count": null,
   "metadata": {},
   "outputs": [],
   "source": [
    "X = B * A.inverse()\n",
    "show(X)"
   ]
  }
 ],
 "metadata": {
  "kernelspec": {
   "display_name": "SageMath 9.5",
   "language": "sage",
   "name": "sagemath"
  },
  "language_info": {
   "codemirror_mode": {
    "name": "ipython",
    "version": 3
   },
   "file_extension": ".py",
   "mimetype": "text/x-python",
   "name": "python",
   "nbconvert_exporter": "python",
   "pygments_lexer": "ipython3",
   "version": "3.10.4"
  }
 },
 "nbformat": 4,
 "nbformat_minor": 4
}
