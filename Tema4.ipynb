{
 "cells": [
  {
   "cell_type": "markdown",
   "metadata": {},
   "source": [
    "# Tema 4"
   ]
  },
  {
   "cell_type": "code",
   "execution_count": null,
   "metadata": {},
   "outputs": [],
   "source": [
    "%load_ext asymagic\n",
    "\n",
    "def menors_que_contenen(r,c,A):\n",
    "    \"\"\"\n",
    "    Calcula el determinant de tots els menors d'ordre un més que contenen\n",
    "    el menor determinat per les files r i les columnes c\n",
    "    \"\"\"\n",
    "    if len(r) != len(c):\n",
    "        return None\n",
    "    for i in r:\n",
    "        if i >= A.nrows():\n",
    "            return None\n",
    "    for i in c:\n",
    "        if i >= A.ncols():\n",
    "            return None\n",
    "    for i in range(A.nrows()):\n",
    "        if i in r:\n",
    "            continue\n",
    "        for j in range(A.ncols()):\n",
    "            if j in c:\n",
    "                continue\n",
    "            ra = sorted(r+[i])\n",
    "            ca = sorted(c+[j])\n",
    "            B = A[ra,ca]\n",
    "            print(\"Files\",ra,\"Columnes\",ca)\n",
    "            show(\"det\",B,\"=\",B.determinant())\n",
    "            \n",
    "def completa_quadrats(expr,vi,vf):\n",
    "    l = len(vi)\n",
    "    d2 = [diff(expr,t,2)/2 for t in vi]\n",
    "    zeros = len([t for t in d2 if t != 0])\n",
    "    if zeros < len(d2) - 1:\n",
    "        print(\"Expressió no vàlida\")\n",
    "        return None, None\n",
    "    d1 = [diff(expr,t) for t in vi]\n",
    "    d1 = [d1[i] - 2*d2[i]*vi[i] for i in range(l)]\n",
    "    ti = expr - sum([d2[i]*vi[i]^2 + d1[i]*vi[i] for i in range(l) if d2[i] != 0])\n",
    "    c = [d1[i]/(2*d2[i]) if d2[i] != 0 else 0 for i in range(l)]\n",
    "    if zeros == len(d2):\n",
    "        s = sum([d2[i]*vf[i]^2 for i in range(l)]) == -ti + sum([d2[i]*c[i]^2 for i in range(l)])\n",
    "        r = [vf[i] == vi[i] + c[i] for i in range(l)]\n",
    "        return s, r\n",
    "    ti = expr - sum([d2[i]*vi[i]^2 + d1[i]*vi[i] for i in range(l)])\n",
    "    ti -= sum([d2[i]*c[i]^2 for i in range(l)])\n",
    "    k = d2.index(0)\n",
    "    s = vf[k] == - sum([d2[i]*vf[i]^2 for i in range(l)])/d1[k]\n",
    "    r = [vf[i] == vi[i] + c[i] if d2[i] != 0 else vf[i] == vi[i] + ti/d1[k] for i in range(l)]\n",
    "    return s,r\n",
    "\n",
    "def simplificar_radicals(A):\n",
    "    \"\"\"\n",
    "    Simplifica les arrels quadrades en una matriu o en un vector\n",
    "    \"\"\"\n",
    "    try:\n",
    "        for i in range(A.nrows()):\n",
    "            for j in range(A.ncols()):\n",
    "                A[i,j] = A[i,j]._sympy_().simplify()._sage_()\n",
    "        return A\n",
    "    except:\n",
    "        pass\n",
    "    try:\n",
    "        for i in range(A.length()):\n",
    "            A[i] = A[i]._sympy_().simplify()._sage_()\n",
    "        return A\n",
    "    except:\n",
    "        pass\n",
    "    try:\n",
    "        return A._sympy_().simplify()._sage_()\n",
    "    except:\n",
    "        pass\n",
    "    if isinstance(A,list):\n",
    "        try:\n",
    "            return [simplificar_radicals(x) for x in A]\n",
    "        except:\n",
    "            pass\n",
    "    return None"
   ]
  },
  {
   "cell_type": "markdown",
   "metadata": {},
   "source": [
    "## Exercici 1\n",
    "Calculeu la suma del punt $p=(1,3,3)$ i el vector $\\vec u=(0,-1,2)$."
   ]
  },
  {
   "cell_type": "code",
   "execution_count": null,
   "metadata": {},
   "outputs": [],
   "source": [
    "p = vector([1,3,3])\n",
    "u = vector([0,-1,2])\n",
    "show(p+u)"
   ]
  },
  {
   "cell_type": "markdown",
   "metadata": {},
   "source": [
    "**Observació**: el Sagemath no distingeix entre punts i vectors. De fet, un _vector_ no és més que una llista de nombres reals.\n",
    "\n",
    "Correspon a l'usuari distingir entre punts i vectors."
   ]
  },
  {
   "cell_type": "markdown",
   "metadata": {
    "tags": []
   },
   "source": [
    "## Exercici 2\n",
    "Trobeu el vector lliure d'origen $p=(3,-1,4)$ i extrem $q=(-1,0,2)$."
   ]
  },
  {
   "cell_type": "code",
   "execution_count": null,
   "metadata": {},
   "outputs": [],
   "source": [
    "p = vector([3,-1,4])\n",
    "q = vector([-1,0,2])\n",
    "u = q - p\n",
    "show(u)"
   ]
  },
  {
   "cell_type": "markdown",
   "metadata": {},
   "source": [
    "## Exercici 3\n",
    "Donats els punts $(0,1,-2)$ i $(2,-3,2)$, calculeu el seu punt mitjà."
   ]
  },
  {
   "cell_type": "code",
   "execution_count": null,
   "metadata": {},
   "outputs": [],
   "source": [
    "p = vector([0,1,-2])\n",
    "q = vector([2,-3,2])\n",
    "m = (p + q)/2\n",
    "show(m)"
   ]
  },
  {
   "cell_type": "markdown",
   "metadata": {},
   "source": [
    "## Exercici 4\n",
    "Representeu gràficament les rectes d'equacions $x+3y=5$ i $4x-y=4$."
   ]
  },
  {
   "cell_type": "code",
   "execution_count": null,
   "metadata": {},
   "outputs": [],
   "source": [
    "%%asy --fmt svg\n",
    "import geometry;\n",
    "import coordenades;\n",
    "import graph;\n",
    "\n",
    "unitsize(1cm);\n",
    "\n",
    "real f(real x)\n",
    "{\n",
    "    return (5-x)/3;\n",
    "}\n",
    "real g(real x)\n",
    "{\n",
    "    return 4*x-4;\n",
    "}\n",
    "\n",
    "Canonica(-10,10,-10,10);\n",
    "draw((-10,f(-10))--(10,f(10)),blue+linewidth(0.55mm));\n",
    "draw((-10,g(-10))--(10,g(10)),red+linewidth(0.55mm));\n",
    "path cl = (-10,-10)--(10,-10)--(10,10)--(-10,10)--cycle;\n",
    "label(rotate(degrees(atan2(-1,3)))*\"$x+3y=5$\",(-9.5,f(-9.5)),NE,blue);\n",
    "label(rotate(degrees(atan2(4,1)))*\"$4x-y=4$\",(3.4,g(3.4)),SE,red);\n",
    "clip(cl);"
   ]
  },
  {
   "cell_type": "markdown",
   "metadata": {},
   "source": [
    "## Exercici 5\n",
    "Calculeu les equacions implícites de la recta i el pla següents:\n",
    "$$\n",
    "  \\text{(a)}\\quad\n",
    "  \\dfrac{x-1}{-1}=\\dfrac{y-3}{0}=-z+3\\,;\\qquad\n",
    "  \\text{(b)}\\quad\n",
    "  (x,y,z)=(1,2,-3)+\\alpha (-2,1,3)+\\beta (1,2,0)\\,.\n",
    "$$"
   ]
  },
  {
   "cell_type": "code",
   "execution_count": null,
   "metadata": {},
   "outputs": [],
   "source": [
    "x, y, z = var('x y z')\n",
    "p = vector([1,3,3])\n",
    "u = vector([-1,0,-1])\n",
    "X = vector([x,y,z])\n",
    "A = matrix([u,X-p]).T\n",
    "show(A)"
   ]
  },
  {
   "cell_type": "code",
   "execution_count": null,
   "metadata": {},
   "outputs": [],
   "source": [
    "menors_que_contenen([0],[0],A)"
   ]
  },
  {
   "cell_type": "markdown",
   "metadata": {},
   "source": [
    "Les equacions implícites de la recta són\n",
    "$$\n",
    "  \\left.\\begin{aligned} \n",
    "  y&=3\\\\\n",
    "  x-z&=-2\n",
    "  \\end{aligned}\\,\\right\\}\\,.\n",
    "$$"
   ]
  },
  {
   "cell_type": "code",
   "execution_count": null,
   "metadata": {},
   "outputs": [],
   "source": [
    "p = vector([1,2,-3])\n",
    "u = vector([-2,1,3])\n",
    "v = vector([1,2,0])\n",
    "A = matrix([u,v,X-p]).T\n",
    "show(A)"
   ]
  },
  {
   "cell_type": "code",
   "execution_count": null,
   "metadata": {},
   "outputs": [],
   "source": [
    "show(-A.det() == 0)"
   ]
  },
  {
   "cell_type": "markdown",
   "metadata": {},
   "source": [
    "L'equació implícita del pla és\n",
    "$$\n",
    "  6x-3y+5z=-15\\,.\n",
    "$$"
   ]
  },
  {
   "cell_type": "markdown",
   "metadata": {},
   "source": [
    "## Exercici 6\n",
    "Calculeu les equacions de tipus vectorial de la recta i el pla següents:\n",
    "$$\n",
    "  \\text{(a)}\\quad\n",
    "  \\left.\\begin{aligned} \n",
    "  x+2y+4z&=0\\\\\n",
    "  2x+5y+2z&=4\n",
    "  \\end{aligned}\\,\\right\\}\\,;\n",
    "  \\qquad\\text{(b)}\\quad\n",
    "  x-3y+2z=-5\\,.\n",
    "$$"
   ]
  },
  {
   "cell_type": "markdown",
   "metadata": {},
   "source": [
    "Resolem el primer sistema d'equacions per trobar unes equacions paramètriques de la recta:"
   ]
  },
  {
   "cell_type": "code",
   "execution_count": null,
   "metadata": {},
   "outputs": [],
   "source": [
    "x, y, z = var('x y z')\n",
    "show(solve([x+2*y+4*z==0,2*x+5*y+2*z==4],[x,y]))"
   ]
  },
  {
   "cell_type": "markdown",
   "metadata": {},
   "source": [
    "Les equacions paramètriques de la recta són\n",
    "$$\n",
    "  \\left.\\begin{aligned} \n",
    "  x&=-8-16t\\\\\n",
    "  y&=4+6t\\\\\n",
    "  z&=t\n",
    "  \\end{aligned}\\,\\right\\}\\,,\n",
    "$$\n",
    "mentre que la vectorial i la contínua són\n",
    "$$\n",
    "  (x,y,z)=(-8,6,0)+t(-16,6,1)\\qquad\\text{i}\\qquad\n",
    "  \\frac{x+8}{-16}=\\frac{y-4}{6}=z\\,.\n",
    "$$"
   ]
  },
  {
   "cell_type": "markdown",
   "metadata": {},
   "source": [
    "Fem el mateix amb l'equació de l'apartat (b) per trobar les equacions paramètriques de pla:"
   ]
  },
  {
   "cell_type": "code",
   "execution_count": null,
   "metadata": {},
   "outputs": [],
   "source": [
    "show(solve([x-3*y+2*z==-5],[x]))"
   ]
  },
  {
   "cell_type": "markdown",
   "metadata": {},
   "source": [
    "Les equacions paramètriques de la recta són\n",
    "$$\n",
    "  \\left.\\begin{aligned} \n",
    "  x&=-5+3t-2s \\\\\n",
    "  y&=t \\\\\n",
    "  z&=s\n",
    "  \\end{aligned}\\,\\right\\}\\,,\n",
    "$$\n",
    "mentre que la vectorial és\n",
    "$$\n",
    "  (x,y,z)=(-5,0,0)+t(3,1,0)+s(-2,0,1)\\,.\n",
    "$$"
   ]
  },
  {
   "cell_type": "markdown",
   "metadata": {},
   "source": [
    "## Exercici 7\n",
    "Donades les rectes d'equacions\n",
    "$$\n",
    "  R_1:\\frac{x - 1}{3} = \\frac{y + 2}{-2} = \\frac{z - 1}{-2}\n",
    "  \\qquad\\text{i}\\qquad \n",
    "  R_2:\\left.\\begin{aligned}\n",
    "  7 x - 4 y + 6 z &= 21 \\\\ \n",
    "  - 5 x + 2 y - 4 z &= -13 \n",
    "  \\end{aligned}\\;\\right\\}\\,,\n",
    "$$\n",
    "determineu, si és possible, l'equació implícita del pla que les conté."
   ]
  },
  {
   "cell_type": "markdown",
   "metadata": {},
   "source": [
    "El vector director de la primera és $\\vec u=(3,-2,-2)$"
   ]
  },
  {
   "cell_type": "code",
   "execution_count": null,
   "metadata": {},
   "outputs": [],
   "source": [
    "u = vector([3,-2,-2])"
   ]
  },
  {
   "cell_type": "markdown",
   "metadata": {},
   "source": [
    "Trobem ara el vector director de la segona"
   ]
  },
  {
   "cell_type": "code",
   "execution_count": null,
   "metadata": {},
   "outputs": [],
   "source": [
    "x, y, z = var('x y z')\n",
    "eq1 = 7*x - 4*y + 6*z  == 21\n",
    "eq2 = -5*x + 2*y - 4*z == -13\n",
    "show(solve([eq1,eq2],[x,y,z]))"
   ]
  },
  {
   "cell_type": "markdown",
   "metadata": {},
   "source": [
    "Les equacions paramètriques de la segon recta són\n",
    "$$\n",
    "  \\left.\\begin{aligned} \n",
    "  x&=\\frac{-2t+5}{3} \\\\\n",
    "  y&=\\frac{t-7}{3} \\\\\n",
    "  z&=t\n",
    "  \\end{aligned}\\,\\right\\}\\,,\n",
    "$$\n",
    "i el vector director de la segona és $\\vec v = \\left(-\\frac{2}{3},\\frac{1}{3},1\\right)\\simeq(-2,1,3)$, és a dir, les rectes no són paral·les."
   ]
  },
  {
   "cell_type": "code",
   "execution_count": null,
   "metadata": {},
   "outputs": [],
   "source": [
    "v = vector([-2,1,3])"
   ]
  },
  {
   "cell_type": "markdown",
   "metadata": {},
   "source": [
    "Comprovem, doncs, si es tallen o s'encreuen. Escrivim, en primer lloc, les equacions implícites de la primera recta:"
   ]
  },
  {
   "cell_type": "code",
   "execution_count": null,
   "metadata": {},
   "outputs": [],
   "source": [
    "eq3 = (x-1)/3 == (y+2)/(-2)\n",
    "eq4 = (x-1)/3 == (z-1)/(-2)"
   ]
  },
  {
   "cell_type": "markdown",
   "metadata": {},
   "source": [
    "I ara resolem el sistema d'equacions format per les equacions implícites de les dues rectes"
   ]
  },
  {
   "cell_type": "code",
   "execution_count": null,
   "metadata": {},
   "outputs": [],
   "source": [
    "show(solve([eq1,eq2,eq3,eq4],[x,y,z]))"
   ]
  },
  {
   "cell_type": "markdown",
   "metadata": {},
   "source": [
    "Com que les rectes es tallen en el punt $(1,-2,1)$, l'equacio del pla que les conté és"
   ]
  },
  {
   "cell_type": "code",
   "execution_count": null,
   "metadata": {},
   "outputs": [],
   "source": [
    "x, y, z = var('x y z')\n",
    "p = vector([1,-2,1])\n",
    "X = vector([x,y,z])\n",
    "show(matrix([u,v,X-p]).det() == 0)"
   ]
  },
  {
   "cell_type": "markdown",
   "metadata": {},
   "source": [
    "L'equació és $4x+5y+z=-5$."
   ]
  },
  {
   "cell_type": "markdown",
   "metadata": {},
   "source": [
    "## Exercici 8\n",
    "Trobeu l'equació de la recta que és paral·lela a la recta\n",
    "$$\n",
    "  \\left.\\begin{aligned} \n",
    "  x-2y+3z-2&=0\\\\\n",
    "  -x+y+z&=0\n",
    "  \\end{aligned}\\,\\right\\}\n",
    "$$\n",
    "i passa pel punt $(1,2,1)$."
   ]
  },
  {
   "cell_type": "markdown",
   "metadata": {},
   "source": [
    "Una recta parel·lela a aquesta serà de la forma\n",
    "$$\n",
    "  \\left.\\begin{aligned} \n",
    "  x-2y+3z&=D_1\\\\\n",
    "  -x+y+z&=D_2\n",
    "  \\end{aligned}\\,\\right\\}\n",
    "$$\n",
    "ja que és evident que les dues tenen el mateix vector director. Per calcular la $D_1$ i la $D_2$, fem el següent:"
   ]
  },
  {
   "cell_type": "code",
   "execution_count": null,
   "metadata": {},
   "outputs": [],
   "source": [
    "A = matrix([[1,-2,3],[-1,1,1]])\n",
    "p = vector([1,2,1])\n",
    "show(A * p)"
   ]
  },
  {
   "cell_type": "markdown",
   "metadata": {},
   "source": [
    "La recta paral·lela té equació implícita\n",
    "$$\n",
    "  \\left.\\begin{aligned} \n",
    "  x-2y+3z&=0\\\\\n",
    "  -x+y+z&=2\n",
    "  \\end{aligned}\\,\\right\\}\\,.\n",
    "$$"
   ]
  },
  {
   "cell_type": "markdown",
   "metadata": {},
   "source": [
    "## Exercici 9\n",
    "Determineu el pla que és paral·lel al pla\n",
    "$$(x,y,z)=(-1,2,2)+\\alpha (3,1,-1)+\\beta (1,-3,-1)$$\n",
    "i passa pel punt $(-5,3,-2)$."
   ]
  },
  {
   "cell_type": "markdown",
   "metadata": {},
   "source": [
    "El pla paral·lel que ens demanen té equació vectorial\n",
    "$$(x,y,z)=(-5,3,-2)+\\alpha (3,1,-1)+\\beta (1,-3,-1)$$\n",
    "i la seva equació implícita s'obté de la forma següent:"
   ]
  },
  {
   "cell_type": "code",
   "execution_count": null,
   "metadata": {},
   "outputs": [],
   "source": [
    "p = vector([-5,3,-2])\n",
    "u = vector([3,1,-1])\n",
    "v = vector([1,-3,-1])\n",
    "A = matrix([u,v,X-p]).T\n",
    "show(A)"
   ]
  },
  {
   "cell_type": "code",
   "execution_count": null,
   "metadata": {},
   "outputs": [],
   "source": [
    "eq = A.det() == 0\n",
    "# show(eq)\n",
    "show(-eq/2)"
   ]
  },
  {
   "cell_type": "markdown",
   "metadata": {},
   "source": [
    "L'equació implícita és\n",
    "$$\n",
    "  2x-y+5z=-23\\,.\n",
    "$$"
   ]
  },
  {
   "cell_type": "markdown",
   "metadata": {
    "tags": []
   },
   "source": [
    "## Exercici 10\n",
    "Donats el punt $p=(-3,-3,-2)$ i la recta i el pla d'equacions\n",
    "$$\n",
    "  R:\\left.\\begin{aligned} \n",
    "  2 x - 2 y + z &= 8 \\\\ \n",
    "  - 5 x + 4 y - 3 z &= -20 \n",
    "  \\end{aligned}\\;\\right\\}\\qquad\\text{i}\\qquad P:x + 2 z = 1\\,,\n",
    "$$\n",
    "trobeu el vector director de la recta que passa pel punt $p$, és paral·lela al pla $P$ i talla la recta $R$."
   ]
  },
  {
   "cell_type": "markdown",
   "metadata": {},
   "source": [
    "Escrivim les equacions impícites de la recta $R$ i del pla $P$ de manera ràpida:"
   ]
  },
  {
   "cell_type": "code",
   "execution_count": null,
   "metadata": {},
   "outputs": [],
   "source": [
    "x,y,z = var('x y z')\n",
    "X = vector([x,y,z])\n",
    "w1 = vector([2,-2,1])\n",
    "w2 = vector([-5,4,-3])\n",
    "w3 = vector([1,0,2])"
   ]
  },
  {
   "cell_type": "markdown",
   "metadata": {},
   "source": [
    "Equacions implícites de la recta $R$:"
   ]
  },
  {
   "cell_type": "code",
   "execution_count": null,
   "metadata": {},
   "outputs": [],
   "source": [
    "R = [w1*X == 8,w2*X == -20]\n",
    "show(R)"
   ]
  },
  {
   "cell_type": "markdown",
   "metadata": {},
   "source": [
    "Equació del pla"
   ]
  },
  {
   "cell_type": "code",
   "execution_count": null,
   "metadata": {},
   "outputs": [],
   "source": [
    "P = x+2*z == 1\n",
    "show(P)"
   ]
  },
  {
   "cell_type": "markdown",
   "metadata": {},
   "source": [
    "Per saber la posició relativa del pla i la recta, resolem el sistema d'equacions"
   ]
  },
  {
   "cell_type": "code",
   "execution_count": null,
   "metadata": {},
   "outputs": [],
   "source": [
    "show(solve([P,R[0],R[1]],[x,y,z]))"
   ]
  },
  {
   "cell_type": "markdown",
   "metadata": {},
   "source": [
    "La recta $R$ i el pla $P$ són secants."
   ]
  },
  {
   "cell_type": "markdown",
   "metadata": {},
   "source": [
    "L'equació del pla paral·lel a $P$ que passa pel punt $p$ és"
   ]
  },
  {
   "cell_type": "code",
   "execution_count": null,
   "metadata": {},
   "outputs": [],
   "source": [
    "p = vector([-3,-3,-2])\n",
    "Q = w3*X == w3*p\n",
    "show(Q)"
   ]
  },
  {
   "cell_type": "markdown",
   "metadata": {},
   "source": [
    "La intersecció del pla Q amb la recta $R$ és"
   ]
  },
  {
   "cell_type": "code",
   "execution_count": null,
   "metadata": {},
   "outputs": [],
   "source": [
    "q = solve([R[0],R[1],Q],[x,y,z])\n",
    "show(q)"
   ]
  },
  {
   "cell_type": "markdown",
   "metadata": {},
   "source": [
    "Finalment, tenim que"
   ]
  },
  {
   "cell_type": "code",
   "execution_count": null,
   "metadata": {},
   "outputs": [],
   "source": [
    "p1 = vector([15,11/2,-11])\n",
    "show(p1-p)"
   ]
  },
  {
   "cell_type": "markdown",
   "metadata": {},
   "source": [
    "El vector director de la recta que passa pel punt $p$, és paral·lela al pla $P$ i talla la recta $R$ és $(36,17,-18)$."
   ]
  },
  {
   "cell_type": "markdown",
   "metadata": {},
   "source": [
    "## Exercici 11\n",
    "Determineu la posició relativa de les rectes i plans següents i trobeu la seva intersecció, si n'hi ha:\n",
    "1. $\\dfrac{x+1}{2}=y-3=2-z\\quad \\text{i} \\quad \\dfrac{x-1}{-2}=\\dfrac{y+1}{7}=\\dfrac{z}{3}$.\n",
    "1. $x+2y+3z=11\\quad \\text{i} \\quad (x,y,z)=(-1,3,4)+\\alpha(1,1,-1)+\\beta(5,-1,-1)$.\n",
    "1. $\\left.\\begin{aligned} \n",
    "   3x+y+z&=-3\\\\\n",
    "   -x+y+z&=9\n",
    "  \\end{aligned}\\,\\right\\}\\quad \\text{i} \\quad x+2y+3z=11$."
   ]
  },
  {
   "cell_type": "markdown",
   "metadata": {},
   "source": [
    "En el primer cas tenim la recta $R_1$ que passa pel punt $p=(-1,3,2)$ i té vector director $\\vec u=(2,1,-1)$ i la recta $R_2$ que passa pel punt $q=(1,-1,0)$ i té vector director $\\vec v=(-2,7,3)$."
   ]
  },
  {
   "cell_type": "code",
   "execution_count": null,
   "metadata": {},
   "outputs": [],
   "source": [
    "p = vector([-1,3,2])\n",
    "u = vector([2,1,-1])\n",
    "q = vector([1,-1,0])\n",
    "v = vector([-2,7,3])\n",
    "A = matrix([u,v,q-p]).T\n",
    "show(A.det())"
   ]
  },
  {
   "cell_type": "markdown",
   "metadata": {},
   "source": [
    "Com que el determinant és no nul, les rectes s'encreuen."
   ]
  },
  {
   "cell_type": "markdown",
   "metadata": {},
   "source": [
    "En el segon cas, per calcular l'equació implícta del segon pla fem el següent:"
   ]
  },
  {
   "cell_type": "code",
   "execution_count": null,
   "metadata": {},
   "outputs": [],
   "source": [
    "x, y, z = var('x y z')\n",
    "p = vector([-1,3,4])\n",
    "u = vector([1,1,-1])\n",
    "v = vector([5,-1,-1])\n",
    "A = matrix([u,v,X-p]).T\n",
    "## show(A.det() == 0)\n",
    "show(-A.det()/2 == 0)"
   ]
  },
  {
   "cell_type": "markdown",
   "metadata": {},
   "source": [
    "Els plans d'equacions $x+2y+3z=11$ i $x+2y+3z=17$ són estrictament paral·lels."
   ]
  },
  {
   "cell_type": "markdown",
   "metadata": {},
   "source": [
    "En el tercer cas, resolem el sistema d'equacions format per les equacions implícites de la recta i el pla:"
   ]
  },
  {
   "cell_type": "code",
   "execution_count": null,
   "metadata": {},
   "outputs": [],
   "source": [
    "show(solve([3*x+y+z==-3,-x+y+z==9,x+2*y+3*z==11],[x,y,z]))"
   ]
  },
  {
   "cell_type": "markdown",
   "metadata": {},
   "source": [
    "Com que el sistema és compatible determinat, el pla i la recta són secants i el punt de tall és $(-3,4,2)$."
   ]
  },
  {
   "cell_type": "markdown",
   "metadata": {},
   "source": [
    "## Exercici 12\n",
    "Estudieu la posició relativa dels plans d'equacions\n",
    "$$\n",
    "  \\left.\\begin{aligned}\n",
    "  mx+y+z &= 1 \\\\\n",
    "  4x+2y+2z &= 2m \\\\\n",
    "  2x+y+mz &= 1\n",
    "  \\end{aligned}\\right\\}\n",
    "$$\n",
    "en funció del paràmetre $m$. "
   ]
  },
  {
   "cell_type": "markdown",
   "metadata": {},
   "source": [
    "Escrivim la matriu dels coeficients de les incògnites i els termes independents:"
   ]
  },
  {
   "cell_type": "code",
   "execution_count": null,
   "metadata": {},
   "outputs": [],
   "source": [
    "m = var('m')\n",
    "A = matrix([[m,1,1],[4,2,2],[2,1,m]])\n",
    "B = vector([1,2*m,1])\n",
    "d = expand(A.det())\n",
    "show(d)"
   ]
  },
  {
   "cell_type": "markdown",
   "metadata": {},
   "source": [
    "A continuació, trobem les arrels d'aquest polinomi:"
   ]
  },
  {
   "cell_type": "code",
   "execution_count": null,
   "metadata": {},
   "outputs": [],
   "source": [
    "show(solve(d == 0,m))"
   ]
  },
  {
   "cell_type": "markdown",
   "metadata": {},
   "source": [
    "Si $m\\neq 1$ i $m\\neq 2$, el sistema és compatible determinat i els tres plans es tallen en un punt. Anem a trobar-lo:"
   ]
  },
  {
   "cell_type": "code",
   "execution_count": null,
   "metadata": {},
   "outputs": [],
   "source": [
    "x, y, z = var('x y z')\n",
    "X = vector([x,y,z])\n",
    "AX = A * X\n",
    "eqs = [AX[i] == B[i] for i in range(3)]\n",
    "show(eqs)"
   ]
  },
  {
   "cell_type": "code",
   "execution_count": null,
   "metadata": {},
   "outputs": [],
   "source": [
    "show(solve(eqs,[x,y,z]))"
   ]
  },
  {
   "cell_type": "markdown",
   "metadata": {},
   "source": [
    "Per tant, si $m\\neq 1$ i $m\\neq 2$, els tres plans es tallen el punt\n",
    "$$\n",
    "  \\left(-\\frac{m-1}{m-2},\\frac{m^2+m-4}{m-2},-1\\right)\\,.\n",
    "$$"
   ]
  },
  {
   "cell_type": "markdown",
   "metadata": {},
   "source": [
    "Si $m=1$, el sistema d'equacions és\n",
    "$$\n",
    "  \\left.\\begin{aligned}\n",
    "  x+y+z &= 1 \\\\\n",
    "  4x+2y+2z &= 2 \\\\\n",
    "  2x+y+z &= 1\n",
    "  \\end{aligned}\\right\\}\n",
    "$$\n",
    "i la seva solució,"
   ]
  },
  {
   "cell_type": "code",
   "execution_count": null,
   "metadata": {},
   "outputs": [],
   "source": [
    "show(solve([eq.subs(m=1) for eq in eqs],[x,y,z]))"
   ]
  },
  {
   "cell_type": "markdown",
   "metadata": {},
   "source": [
    "és a dir, el sistema és compatible indeternminat i els tres plans es tallen en la recta d'equació vectorial $(x,y,z)=(0,1,0)+t(0,-1,1)$. D'altra banda, la segona equació és el doble que la tercera; per tant, tenim dos plans coincidents (el segon i el tercer) i el primer pla és secant als dos anteriors."
   ]
  },
  {
   "cell_type": "markdown",
   "metadata": {},
   "source": [
    "Finalment, si $m=2$, el sistema d'equacions és\n",
    "$$\n",
    "  \\left.\\begin{aligned}\n",
    "  2x+y+z &= 1 \\\\\n",
    "  4x+2y+2z &= 4 \\\\\n",
    "  2x+y+2z &= 1\n",
    "  \\end{aligned}\\right\\}\n",
    "$$\n",
    "i té solució:"
   ]
  },
  {
   "cell_type": "code",
   "execution_count": null,
   "metadata": {},
   "outputs": [],
   "source": [
    "show(solve([eq.subs(m=2) for eq in eqs],[x,y,z]))"
   ]
  },
  {
   "cell_type": "markdown",
   "metadata": {},
   "source": [
    "és a dir, és incompatible.\n",
    "\n",
    "El primer i el segon pla són paral·lels estrictes ja que els coeficients de $x$, $y$ i $z$ de la segona equació \n",
    "són el doble que els de la primera, però els termes independents no compleixen la mateixa proporció. \n",
    "El tercer és secant als dos primers."
   ]
  },
  {
   "cell_type": "markdown",
   "metadata": {},
   "source": [
    "## Exercici 13\n",
    "Analitzeu si el sistema següent és una referència de l'espai $V_3$\n",
    "$$\n",
    "  \\big\\{ (1,-1,0);\\,(1,4,1),(3,1,2),(5,-2,3) \\big\\}\\,.\n",
    "$$"
   ]
  },
  {
   "cell_type": "markdown",
   "metadata": {},
   "source": [
    "Tenim un punt i tres vectors, per tant, només cal comprovar que els tres vectors formen una base de $V_3$."
   ]
  },
  {
   "cell_type": "code",
   "execution_count": null,
   "metadata": {},
   "outputs": [],
   "source": [
    "u1 = vector([1,4,1])\n",
    "u2 = vector([3,1,2])\n",
    "u3 = vector([5,-2,3])\n",
    "C = matrix([u1,u2,u3]).T\n",
    "show(C)"
   ]
  },
  {
   "cell_type": "code",
   "execution_count": null,
   "metadata": {},
   "outputs": [],
   "source": [
    "show(C.det())"
   ]
  },
  {
   "cell_type": "markdown",
   "metadata": {},
   "source": [
    "Els tres vectors són linealment dependents, per tant, no es tracta d'una referència."
   ]
  },
  {
   "cell_type": "markdown",
   "metadata": {},
   "source": [
    "## Exercici 14\n",
    "Determineu les coordenades en la referència canònica del punt que té coordenades $(1,2,-1)$ en la referència\n",
    "$$\\mathcal{R}'=\\{(3,4,-1);\\,(0,-2,1),(2,-1,1),(3,2,1)\\}\\,.$$"
   ]
  },
  {
   "cell_type": "markdown",
   "metadata": {},
   "source": [
    "Tenim que $p=(1,2,-1)_{\\mathcal{R}'}$ i hem de determinar les seves coordenades en la referència canònica:"
   ]
  },
  {
   "cell_type": "code",
   "execution_count": null,
   "metadata": {},
   "outputs": [],
   "source": [
    "O = vector([3,4,-1])\n",
    "u1 = vector([0,-2,1])\n",
    "u2 = vector([2,-1,1])\n",
    "u3 = vector([3,2,1])\n",
    "p1 = vector([1,2,-1])"
   ]
  },
  {
   "cell_type": "code",
   "execution_count": null,
   "metadata": {},
   "outputs": [],
   "source": [
    "p = O+p1[0]*u1+p1[1]*u2+p1[2]*u3\n",
    "show(p)"
   ]
  },
  {
   "cell_type": "markdown",
   "metadata": {},
   "source": [
    "Per tant, $p=(1,2,-1)_{\\mathcal{R}'}=(4,-2,1)$."
   ]
  },
  {
   "cell_type": "markdown",
   "metadata": {},
   "source": [
    "El canvi de coordenades de la referència $\\mathcal{R}'$ a la referència canònica vé donat per\n",
    "$$\n",
    "  \\left(\\begin{array}{c} x \\\\ y \\\\ z \\end{array}\\right) = \n",
    "  \\left(\\begin{array}{r} 3 \\\\ 4 \\\\ -1 \\end{array}\\right)\n",
    "  +\\left(\\begin{array}{rrr} \n",
    "   0 &  2 & 3 \\\\\n",
    "  -2 & -1 & 2 \\\\\n",
    "   1 &  1 & 1\n",
    "  \\end{array}\\right)\n",
    "  \\left(\\begin{array}{c} x' \\\\ y' \\\\ z' \\end{array}\\right)\\,,\n",
    "$$"
   ]
  },
  {
   "cell_type": "markdown",
   "metadata": {},
   "source": [
    "és a dir, també es pot fer"
   ]
  },
  {
   "cell_type": "code",
   "execution_count": null,
   "metadata": {},
   "outputs": [],
   "source": [
    "C = matrix([u1,u2,u3]).T\n",
    "show(O + C * p1)"
   ]
  },
  {
   "cell_type": "markdown",
   "metadata": {},
   "source": [
    "## Exercici 15\n",
    "Calculeu les coordenades del punt $(2,-2)$ en la referència\n",
    "$$\\mathcal{R}'=\\big\\{(-4,1);\\,(2,1),(-1,1)\\big\\}\\,.$$\n",
    "Representeu-ho gràficament."
   ]
  },
  {
   "cell_type": "markdown",
   "metadata": {},
   "source": [
    "Per trobar aquestes coordenades, hem de posar\n",
    "$$\n",
    "  (2,-2)=(-4,1)+x'(2,1)+y'(-1,1)\\,.\n",
    "$$"
   ]
  },
  {
   "cell_type": "code",
   "execution_count": null,
   "metadata": {},
   "outputs": [],
   "source": [
    "x1, y1 = var('x1 y1')\n",
    "p = vector([2,-2])\n",
    "O = vector([-4,1])\n",
    "u1 = vector([2,1])\n",
    "u2 = vector([-1,1])\n",
    "cl = O+x1*u1+y1*u2\n",
    "show(cl)"
   ]
  },
  {
   "cell_type": "code",
   "execution_count": null,
   "metadata": {},
   "outputs": [],
   "source": [
    "show(solve([cl[0] == p[0],cl[1] == p[1]],[x1,y1]))"
   ]
  },
  {
   "cell_type": "markdown",
   "metadata": {},
   "source": [
    "Les coordenades de $p$ en la referència $\\mathcal{R}'$ són $(1,-4)$, és a dir, $p=(2,-2)=(1,-4)_{\\mathcal{R}'}$."
   ]
  },
  {
   "cell_type": "code",
   "execution_count": null,
   "metadata": {},
   "outputs": [],
   "source": [
    "%%asy --fmt svg\n",
    "import geometry;\n",
    "import coordenades;\n",
    "import graph;\n",
    "\n",
    "unitsize(1cm);\n",
    "\n",
    "pair F=(2,-2);\n",
    "\n",
    "Canonica(-14,6,-10,10);\n",
    "picture p = Coordenades(-5,5,-9,9,color=red,tickx=0.12,ticky=0.075,base=true,quadricula=false);\n",
    "transform tr = Referencia((-4,1),(2,1),(-1,1));\n",
    "pair F1 = inverse(tr)*F;\n",
    "dot(p,F1,black+2.5mm);\n",
    "draw((F.x,0)--F--(0,F.y),linetype(\"8 8 8 8\")+linewidth(0.1mm)+black);\n",
    "draw(p,(F1.x,0)--F1--(0,F1.y),linetype(\"8 8 8 8\")+linewidth(0.1mm)+red);\n",
    "add (tr*p);"
   ]
  },
  {
   "cell_type": "markdown",
   "metadata": {},
   "source": [
    "## Exercici 16\n",
    "Trobeu el punt mitjà (expressat en la referència canònica) del segment amb extrems de coordenades $(2,4,1)$ i $(-3,1,0)$ en la referència\n",
    "$$\n",
    "  \\mathcal{R}'=\\big\\{(0,3,-2);\\,(4,1,-1),(2,0,-1),(3,1,3)\\big\\}\\,.\n",
    "$$"
   ]
  },
  {
   "cell_type": "markdown",
   "metadata": {},
   "source": [
    "Les coordenades del punt mitjà en la referència $\\mathcal{R}'$ són"
   ]
  },
  {
   "cell_type": "code",
   "execution_count": null,
   "metadata": {},
   "outputs": [],
   "source": [
    "p1 = vector([2,4,1])\n",
    "q1 = vector([-3,1,0])\n",
    "m1 = (p1+q1)/2\n",
    "show(m1)"
   ]
  },
  {
   "cell_type": "markdown",
   "metadata": {},
   "source": [
    "és a dir, el punt mitjà és $m=\\left(-\\frac{1}{2},\\frac{5}{2},\\frac{1}{2}\\right)_{\\mathcal{R}'}$."
   ]
  },
  {
   "cell_type": "markdown",
   "metadata": {},
   "source": [
    "Ara hem de procedir com a l'exercici anterior per calcular les seves coordenades en la referència canònica."
   ]
  },
  {
   "cell_type": "code",
   "execution_count": null,
   "metadata": {},
   "outputs": [],
   "source": [
    "O = vector([0,3,-2])\n",
    "u1 = vector([4,1,-1])\n",
    "u2 = vector([2,0,-1])\n",
    "u3 = vector([3,1,3])"
   ]
  },
  {
   "cell_type": "code",
   "execution_count": null,
   "metadata": {},
   "outputs": [],
   "source": [
    "show(O + m1[0]*u1 + m1[1]*u2 + m1[2]*u3)"
   ]
  },
  {
   "cell_type": "markdown",
   "metadata": {},
   "source": [
    "Les coordenades del punt mitjà en la referència canònica són $m=\\left(\\frac{9}{2},3,-\\frac{5}{2}\\right)$"
   ]
  },
  {
   "cell_type": "markdown",
   "metadata": {},
   "source": [
    "## Exercici 17\n",
    "Es considera la referència\n",
    "$$\\mathcal{R}'=\\big\\{(2,1);\\,(1,1),(-1,1)\\big\\}\\,.$$\n",
    "1. Determineu la fórmula del canvi de referència de la referència $\\mathcal{R}'$ a la referència canònica.\n",
    "1. Calculeu l'equació en la referència $\\mathcal{R}'$ de la recta que en la referència canònica té equació\n",
    "$$2x-3y=2\\,.$$"
   ]
  },
  {
   "cell_type": "markdown",
   "metadata": {},
   "source": [
    "La fórmula del canvi de referència és\n",
    "$$\n",
    "  \\left(\\begin{array}{c} x \\\\ y \\end{array}\\right) \n",
    "  = \\left(\\begin{array}{r} 2 \\\\ 1 \\end{array}\\right) \n",
    "  + \\left(\\begin{array}{rr}\n",
    "  1 & -1 \\\\\n",
    "  1 &  1 \\\\\n",
    "  \\end{array}\\right) \n",
    "  \\left(\\begin{array}{c} x' \\\\ y' \\end{array}\\right)\\,. \n",
    "$$"
   ]
  },
  {
   "cell_type": "markdown",
   "metadata": {},
   "source": [
    "D'altra banda, l'equació de la recta es pot escriure com a \n",
    "$$\n",
    "  \\left(\\begin{array}{rr} 2 & -3 \\end{array}\\right) \n",
    "  \\left(\\begin{array}{c} x \\\\ y \\end{array}\\right) = 2\\,; \n",
    "$$\n",
    "aleshores, l'equació de la recta en la referència $\\mathcal{R}'$ serà\n",
    "$$\n",
    "  \\left(\\begin{array}{rr} 2 & -3 \\end{array}\\right)\n",
    "  \\left[\n",
    "    \\left(\\begin{array}{r} 2 \\\\ 1 \\end{array}\\right) \n",
    "    + \\left(\\begin{array}{rr}\n",
    "    1 & -1 \\\\\n",
    "    1 &  1 \\\\\n",
    "    \\end{array}\\right) \n",
    "    \\left(\\begin{array}{c} x' \\\\ y' \\end{array}\\right)\n",
    "  \\right] = 2\\,.\n",
    "$$"
   ]
  },
  {
   "cell_type": "code",
   "execution_count": null,
   "metadata": {},
   "outputs": [],
   "source": [
    "A = vector([2,-3])\n",
    "O = vector([2,1])\n",
    "C = matrix([[1,-1],[1,1]])"
   ]
  },
  {
   "cell_type": "code",
   "execution_count": null,
   "metadata": {},
   "outputs": [],
   "source": [
    "c = 2-A*O\n",
    "show(c)"
   ]
  },
  {
   "cell_type": "code",
   "execution_count": null,
   "metadata": {},
   "outputs": [],
   "source": [
    "Cp = A * C\n",
    "show(Cp)"
   ]
  },
  {
   "cell_type": "markdown",
   "metadata": {},
   "source": [
    "L'equació de la recta en la referència $\\mathcal{R}'$ és $-x'-5y'=1$, o bé, $x'+5y'=-1$."
   ]
  },
  {
   "cell_type": "markdown",
   "metadata": {},
   "source": [
    "## Exercici 18\n",
    "Es considera la referència de $P_2$\n",
    "$$\\mathcal{R}'=\\left\\{ (-2,1);\\,(3,-1),(4,3)\\right\\}\\,.$$\n",
    "1. Determineu la fórmula del canvi de referència de la referència canònica a la referència $\\mathcal{R}'$.\n",
    "1. Calculeu l'equació en la referència canònica de la recta que en la referència $\\mathcal{R}'$ té equació\n",
    "$$x'+2y'=-2\\,.$$"
   ]
  },
  {
   "cell_type": "markdown",
   "metadata": {},
   "source": [
    "La fórmula del canvi de referència de $\\mathcal{R}'$ a la referència canònica és\n",
    "$$\n",
    "  \\left(\\begin{array}{c} x \\\\ y \\end{array}\\right) \n",
    "  = \\left(\\begin{array}{r} -2 \\\\ 1 \\end{array}\\right) \n",
    "  + \\left(\\begin{array}{rr}\n",
    "   3 & 4 \\\\\n",
    "  -1 & 3 \\\\\n",
    "  \\end{array}\\right) \n",
    "  \\left(\\begin{array}{c} x' \\\\ y' \\end{array}\\right)\\,. \n",
    "$$\n",
    "Si aïllem $(x',y')$ en funció de $(x,y)$, tindrem la fórmula del canvi de referència de la referència canònica a la referència $\\mathcal{R}'$.\n",
    "$$\n",
    "  \\left(\\begin{array}{c} x' \\\\ y' \\end{array}\\right) \n",
    "  = \\left(\\begin{array}{rr}\n",
    "   3 & 4 \\\\\n",
    "  -1 & 3 \\\\\n",
    "  \\end{array}\\right)^{-1}\n",
    "  \\left[\n",
    "    \\left(\\begin{array}{c} x \\\\ y \\end{array}\\right)\n",
    "    - \\left(\\begin{array}{r} -2 \\\\ 1 \\end{array}\\right) \n",
    "  \\right]\\,. \n",
    "$$"
   ]
  },
  {
   "cell_type": "code",
   "execution_count": null,
   "metadata": {},
   "outputs": [],
   "source": [
    "O = vector([-2,1])\n",
    "C = matrix([[3,4],[-1,3]])\n",
    "CI = C.inverse()\n",
    "show(CI)"
   ]
  },
  {
   "cell_type": "code",
   "execution_count": null,
   "metadata": {},
   "outputs": [],
   "source": [
    "OP = - CI * O \n",
    "show(OP)"
   ]
  },
  {
   "cell_type": "markdown",
   "metadata": {},
   "source": [
    "La fórmula del canvi de coordenades de la referència canònica a la referència $\\mathcal{R}'$ és\n",
    "$$\n",
    "  \\left(\\begin{array}{c} x' \\\\ y' \\end{array}\\right) \n",
    "  = \\frac{1}{13}\\left(\\begin{array}{r} 10 \\\\ -1 \\end{array}\\right) \n",
    "  + \n",
    "  \\frac{1}{13}\\left(\\begin{array}{rr}\n",
    "   3 & -4 \\\\\n",
    "   1 &  3 \\\\\n",
    "  \\end{array}\\right)\n",
    "  \\left(\\begin{array}{c} x \\\\ y \\end{array}\\right)\\,. \n",
    "$$"
   ]
  },
  {
   "cell_type": "markdown",
   "metadata": {},
   "source": [
    "De manera semblant a l'exercici anterior l'equació de la recta en la referència $\\mathcal{R}'$ es pot escriure\n",
    "$$\n",
    "  \\left(\\begin{array}{rr} 1 & 2 \\end{array}\\right) \n",
    "  \\left(\\begin{array}{c} x' \\\\ y' \\end{array}\\right) = -2\n",
    "$$\n",
    "i, substituint,\n",
    "$$\n",
    "  \\left(\\begin{array}{rr} 1 & 2 \\end{array}\\right)\n",
    "  \\left[\n",
    "    \\frac{1}{13}\\left(\\begin{array}{r} 10 \\\\ -1 \\end{array}\\right) \n",
    "    +\n",
    "    \\frac{1}{13}\\left(\\begin{array}{rr}\n",
    "     3 & -4 \\\\\n",
    "     1 &  3 \\\\\n",
    "    \\end{array}\\right)\n",
    "    \\left(\\begin{array}{c} x \\\\ y \\end{array}\\right)\n",
    "  \\right] = -2\n",
    "$$"
   ]
  },
  {
   "cell_type": "code",
   "execution_count": null,
   "metadata": {},
   "outputs": [],
   "source": [
    "x, y = var('x y')\n",
    "A = vector([1,2])\n",
    "X = vector([x,y])\n",
    "X1 = C.inverse() * (X - O)\n",
    "eq = A * X1 + 2 == 0\n",
    "## show(eq)\n",
    "show(13*eq)"
   ]
  },
  {
   "cell_type": "markdown",
   "metadata": {},
   "source": [
    "L'equació de la recta en la referència canònica és $5x+2y+34=0$."
   ]
  },
  {
   "cell_type": "markdown",
   "metadata": {},
   "source": [
    "## Exercici 19\n",
    "Es consideren les referències de $P_2$\n",
    "$$\\mathcal{R}'=\\{(4,-2);\\,(2,-1),(1,2)\\} \\qquad \\text{i} \\qquad \\mathcal{R}''=\\{(-5,5);\\,(3,1),(-1,3)\\}\\,.$$\n",
    "1. Determineu la fórmula del canvi de referència de la referència $\\mathcal{R}''$ a la referència $\\mathcal{R}'$.\n",
    "2. Calculeu l'equació en la referència $\\mathcal{R}''$ de la recta que en la referència $\\mathcal{R}'$ té equació\n",
    "$$x'-2y'=-1\\,.$$"
   ]
  },
  {
   "cell_type": "markdown",
   "metadata": {},
   "source": [
    "La fórmula del canvi de coordenades de la referència $\\mathcal{R}'$ a la referència canònica és\n",
    "$$\n",
    "  \\left(\\begin{array}{c} x \\\\ y \\end{array}\\right) \n",
    "  = \\left(\\begin{array}{r} 4 \\\\ -2 \\end{array}\\right) \n",
    "  + \\left(\\begin{array}{rr}\n",
    "   2 & 1 \\\\\n",
    "  -1 & 2 \\\\\n",
    "  \\end{array}\\right) \n",
    "  \\left(\\begin{array}{c} x' \\\\ y' \\end{array}\\right)\\,,\n",
    "$$\n",
    "mentre que la del canvi de coordenades de la referència $\\mathcal{R}''$ a la referència canònica és\n",
    "$$\n",
    "  \\left(\\begin{array}{c} x \\\\ y \\end{array}\\right) \n",
    "  = \\left(\\begin{array}{r} -5 \\\\ 5 \\end{array}\\right) \n",
    "  + \\left(\\begin{array}{rr}\n",
    "   3 & -1 \\\\\n",
    "   1 &  3 \\\\\n",
    "  \\end{array}\\right) \n",
    "  \\left(\\begin{array}{c} x'' \\\\ y'' \\end{array}\\right)\\,,\n",
    "$$"
   ]
  },
  {
   "cell_type": "markdown",
   "metadata": {},
   "source": [
    "Per tant, tindrem que\n",
    "$$\n",
    "  P+CX'=Q+DX''\\,,\\qquad\\text{on}\\qquad\n",
    "  P = \\left(\\begin{array}{r} 4 \\\\ -2 \\end{array}\\right)\\,,\\qquad\n",
    "  C = \\left(\\begin{array}{rr}\n",
    "   2 & 1 \\\\\n",
    "  -1 & 2 \\\\\n",
    "  \\end{array}\\right)\\,,\\qquad\n",
    "  X' = \\left(\\begin{array}{c} x' \\\\ y' \\end{array}\\right)\\,,\\qquad\n",
    "  Q = \\left(\\begin{array}{r} -5 \\\\ 5 \\end{array}\\right) \\,,\\qquad\n",
    "  D = \\left(\\begin{array}{rr}\n",
    "   3 & -1 \\\\\n",
    "   1 &  3 \\\\\n",
    "  \\end{array}\\right)\\quad\\text{i}\\quad\n",
    "  X'' = \\left(\\begin{array}{c} x'' \\\\ y'' \\end{array}\\right)\\,.\n",
    "$$"
   ]
  },
  {
   "cell_type": "markdown",
   "metadata": {},
   "source": [
    "Per tenir la fórmula del canvi de corrdenades de $\\mathcal{R}''$ a la referència $\\mathcal{R}'$, hem de tenir $X'$ en funció de $X''$. Si aïllem, tenim que\n",
    "$$\n",
    "  X'=C^{-1}\\big(Q - P + DX''\\big)\\,.\n",
    "$$"
   ]
  },
  {
   "cell_type": "markdown",
   "metadata": {},
   "source": [
    "A continuació fem els càlculs"
   ]
  },
  {
   "cell_type": "code",
   "execution_count": null,
   "metadata": {},
   "outputs": [],
   "source": [
    "C = matrix([[2,1],[-1,2]])\n",
    "D = matrix([[3,-1],[1,3]])\n",
    "P = vector([4,-2])\n",
    "Q = vector([-5,5])"
   ]
  },
  {
   "cell_type": "code",
   "execution_count": null,
   "metadata": {},
   "outputs": [],
   "source": [
    "OP = C.inverse() * (Q-P)\n",
    "show(OP)"
   ]
  },
  {
   "cell_type": "code",
   "execution_count": null,
   "metadata": {},
   "outputs": [],
   "source": [
    "E = C.inverse() * D\n",
    "show(E)"
   ]
  },
  {
   "cell_type": "markdown",
   "metadata": {},
   "source": [
    "La fórmula del canvi de referència de la referència $\\mathcal{R}''$ a la referència $\\mathcal{R}'$ és\n",
    "$$\n",
    "  \\left(\\begin{array}{c} x' \\\\ y' \\end{array}\\right) \n",
    "  = \\left(\\begin{array}{r} -5 \\\\ 1 \\end{array}\\right) \n",
    "  + \\left(\\begin{array}{rr}\n",
    "   1 & -1 \\\\\n",
    "   1 &  1 \\\\\n",
    "  \\end{array}\\right) \n",
    "  \\left(\\begin{array}{c} x'' \\\\ y'' \\end{array}\\right)\\,,\n",
    "$$"
   ]
  },
  {
   "cell_type": "markdown",
   "metadata": {},
   "source": [
    "L'equació de la recta en la referència $\\mathcal{R}'$ es pot escriure com\n",
    "$$\n",
    "  \\left(\\begin{array}{rr} 1 & -2 \\end{array}\\right)\n",
    "  \\left(\\begin{array}{c} x' \\\\ y' \\end{array}\\right) = -1\\,.\n",
    "$$\n",
    "Substituint, tenim que\n",
    "$$\n",
    "  \\left(\\begin{array}{rr} 1 & -2 \\end{array}\\right)\n",
    "  \\left[\n",
    "    \\left(\\begin{array}{r} -5 \\\\ 1 \\end{array}\\right) \n",
    "    + \\left(\\begin{array}{rr}\n",
    "     1 & -1 \\\\\n",
    "     1 &  1 \\\\\n",
    "    \\end{array}\\right) \n",
    "    \\left(\\begin{array}{c} x'' \\\\ y'' \\end{array}\\right)\n",
    "  \\right] = -1\\,.\n",
    "$$"
   ]
  },
  {
   "cell_type": "code",
   "execution_count": null,
   "metadata": {},
   "outputs": [],
   "source": [
    "A = vector([1,-2])\n",
    "c = -1 - A * OP\n",
    "show(c)"
   ]
  },
  {
   "cell_type": "code",
   "execution_count": null,
   "metadata": {},
   "outputs": [],
   "source": [
    "show(A * E)"
   ]
  },
  {
   "cell_type": "markdown",
   "metadata": {},
   "source": [
    "L'equació de la recta en la referència $\\mathcal{R}''$ és $x''+3y''=-6$."
   ]
  },
  {
   "cell_type": "markdown",
   "metadata": {},
   "source": [
    "## Exercici 20\n",
    "La representació del punt $p$ en la referència\n",
    "$$\n",
    "  \\mathcal{R}'=\\left\\{(-2,-3,-1);(1,-1,1),(-1,2,-1),(2,-1,1)\\right\\}\n",
    "$$ \n",
    "és $p=(-2,2,-1)_{\\mathcal{R}'}$. Quines són les seves coordenades en la referència \n",
    "$$\n",
    "  \\mathcal{R}''=\\left\\{(2,-1,-2);(-3,1,1),(2,2,-1),(2,1,-1)\\right\\}\\,\\text{?}\n",
    "$$"
   ]
  },
  {
   "cell_type": "markdown",
   "metadata": {},
   "source": [
    "L'expressió del canvi de coordenades de la referència $\\mathcal{R}'$ a la referència canònica és\n",
    "$$\n",
    "  \\left(\\begin{array}{c} x \\\\ y \\\\ z \\end{array}\\right) = \n",
    "  \\left(\\begin{array}{r} -2 \\\\ -3 \\\\ -1 \\end{array}\\right)\n",
    "  +\\left(\\begin{array}{rrr} \n",
    "    1 & -1 &  2 \\\\  \n",
    "   -1 &  2 & -1 \\\\  \n",
    "    1 & -1 &  1\n",
    "   \\end{array}\\right)\n",
    "  \\left(\\begin{array}{c} x' \\\\ y' \\\\ z' \\end{array}\\right)\\,,\n",
    "$$\n",
    "mentre que l'expressió del canvi de coordenades de la referència $\\mathcal{R}''$ a la referència canònica és\n",
    "$$\n",
    "  \\left(\\begin{array}{c} x \\\\ y \\\\ z \\end{array}\\right) = \n",
    "  \\left(\\begin{array}{r} 2 \\\\ -1 \\\\ -2 \\end{array}\\right)\n",
    "  +\\left(\\begin{array}{rrr} \n",
    "   -3 &  2 &  2 \\\\  \n",
    "    1 &  2 &  1 \\\\  \n",
    "    1 & -1 & -1\n",
    "   \\end{array}\\right)\n",
    "  \\left(\\begin{array}{c} x'' \\\\ y'' \\\\ z'' \\end{array}\\right)\\,.\n",
    "$$"
   ]
  },
  {
   "cell_type": "markdown",
   "metadata": {},
   "source": [
    "Si igualem les dues expressions, tenim que\n",
    "$$\n",
    "  \\left(\\begin{array}{r} -2 \\\\ -3 \\\\ -1 \\end{array}\\right)\n",
    "  +\\left(\\begin{array}{rrr} \n",
    "    1 & -1 &  2 \\\\  \n",
    "   -1 &  2 & -1 \\\\  \n",
    "    1 & -1 &  1\n",
    "   \\end{array}\\right)\n",
    "  \\left(\\begin{array}{c} x' \\\\ y' \\\\ z' \\end{array}\\right)\n",
    "  = \\left(\\begin{array}{r} 2 \\\\ -1 \\\\ -2 \\end{array}\\right)\n",
    "  +\\left(\\begin{array}{rrr} \n",
    "   -3 &  2 &  2 \\\\  \n",
    "    1 &  2 &  1 \\\\  \n",
    "    1 & -1 & -1\n",
    "   \\end{array}\\right)\n",
    "  \\left(\\begin{array}{c} x'' \\\\ y'' \\\\ z'' \\end{array}\\right)\n",
    "$$\n",
    "i, com que les coordenades del punt $p$ en la referència $\\mathcal{R}'$ són $p=(-2,2,-1)_{\\mathcal{R}'}$, hem de trobar $(x'',y'',z'')$ tals que\n",
    "$$\n",
    "  \\left(\\begin{array}{r} -2 \\\\ -3 \\\\ -1 \\end{array}\\right)\n",
    "  +\\left(\\begin{array}{rrr} \n",
    "    1 & -1 &  2 \\\\  \n",
    "   -1 &  2 & -1 \\\\  \n",
    "    1 & -1 &  1\n",
    "   \\end{array}\\right)\n",
    "  \\left(\\begin{array}{r} -2 \\\\ 2 \\\\ -1 \\end{array}\\right)\n",
    "  = \\left(\\begin{array}{r} 2 \\\\ -1 \\\\ -2 \\end{array}\\right)\n",
    "  +\\left(\\begin{array}{rrr} \n",
    "   -3 &  2 &  2 \\\\  \n",
    "    1 &  2 &  1 \\\\  \n",
    "    1 & -1 & -1\n",
    "   \\end{array}\\right)\n",
    "  \\left(\\begin{array}{c} x'' \\\\ y'' \\\\ z'' \\end{array}\\right)\\,.\n",
    "$$"
   ]
  },
  {
   "cell_type": "markdown",
   "metadata": {},
   "source": [
    "Fem els càlculs:"
   ]
  },
  {
   "cell_type": "code",
   "execution_count": null,
   "metadata": {},
   "outputs": [],
   "source": [
    "P = vector([-2,-3,-1])\n",
    "Q = vector([2,-1,-2])\n",
    "X1 = vector([-2,2,-1])\n",
    "C = matrix([[1,-1,2],[-1,2,-1],[1,-1,1]])\n",
    "D = matrix([[-3,2,2],[1,2,1],[1,-1,-1]])"
   ]
  },
  {
   "cell_type": "code",
   "execution_count": null,
   "metadata": {},
   "outputs": [],
   "source": [
    "X2 = D.inverse() * (P + C * X1 - Q)\n",
    "show(X2)"
   ]
  },
  {
   "cell_type": "markdown",
   "metadata": {},
   "source": [
    "Per tant, less coordenades de del punt $p$ en la referència $\\mathcal{R}''$ són \n",
    "$$\n",
    "  p=(18,-35,57)_{\\mathcal{R}''}\\,.\n",
    "$$"
   ]
  },
  {
   "cell_type": "markdown",
   "metadata": {},
   "source": [
    "## Exercici 21\n",
    "Sabem que l'origen de la referència $\\cal R'$ és el punt $(4,1,5)$ i que les coordenades dels punts $(2,2,1)$, $(-4,-1,2)$ i $(4,2,-1)$ en aquesta referència són $(-3,6,13)_{\\mathcal{R}'}$, $(-6,11,19)_{\\mathcal{R}'}$ i $(-1,6,17)_{\\mathcal{R}'}$. Trobeu la referència $\\mathcal{R}'$."
   ]
  },
  {
   "cell_type": "markdown",
   "metadata": {},
   "source": [
    "L'expressió del canvi de coordenades és\n",
    "$$\n",
    "  \\left(\\begin{array}{c} x \\\\ y \\\\ z \\end{array}\\right) = \n",
    "  \\left(\\begin{array}{r} 4 \\\\ 1 \\\\ 5 \\end{array}\\right)\n",
    "  +C\\left(\\begin{array}{c} x' \\\\ y' \\\\ z' \\end{array}\\right)\\,,\n",
    "$$\n",
    "on $C$ és la matriu del canvi de base de la base continguda a $\\mathcal{R}'$."
   ]
  },
  {
   "cell_type": "markdown",
   "metadata": {},
   "source": [
    "Aleshores tindrem que\n",
    "$$\n",
    "  \\left(\\begin{array}{r} 2 \\\\ 2 \\\\ 1 \\end{array}\\right) = \n",
    "  \\left(\\begin{array}{r} 4 \\\\ 1 \\\\ 5 \\end{array}\\right)\n",
    "  +C\\left(\\begin{array}{r} -3 \\\\ 6 \\\\ 13 \\end{array}\\right)\\,,\\qquad\n",
    "  \\left(\\begin{array}{r} -4 \\\\ -1 \\\\ 2 \\end{array}\\right) = \n",
    "  \\left(\\begin{array}{r} 4 \\\\ 1 \\\\ 5 \\end{array}\\right)\n",
    "  +C\\left(\\begin{array}{r} -6 \\\\ 11 \\\\ 19 \\end{array}\\right)\\,,\\qquad\\text{i}\\qquad\n",
    "  \\left(\\begin{array}{r} 4 \\\\ 2 \\\\ -1 \\end{array}\\right) = \n",
    "  \\left(\\begin{array}{r} 4 \\\\ 1 \\\\ 5 \\end{array}\\right)\n",
    "  +C\\left(\\begin{array}{r} -1 \\\\ 6 \\\\ 17 \\end{array}\\right)\\,.\n",
    "$$"
   ]
  },
  {
   "cell_type": "markdown",
   "metadata": {},
   "source": [
    "O, de manera equivalent,\n",
    "$$\n",
    "  C\\left(\\begin{array}{rrr} \n",
    "  -3 & -6 & -1 \\\\ \n",
    "   6 & 11 &  6 \\\\ \n",
    "  13 & 19 & 17\n",
    "  \\end{array}\\right)\n",
    "  = \\left(\\begin{array}{rrr} \n",
    "  2 - 4 & -4 - 4 &  4 - 4 \\\\ \n",
    "  2 - 1 & -1 - 1 &  2 - 1 \\\\ \n",
    "  1 - 5 &  2 - 5 & -1 - 5\n",
    "  \\end{array}\\right)\n",
    "$$"
   ]
  },
  {
   "cell_type": "code",
   "execution_count": null,
   "metadata": {},
   "outputs": [],
   "source": [
    "O = vector([4,1,5])\n",
    "p1 = vector([2,2,1])\n",
    "p2 = vector([-4,-1,2])\n",
    "p3 = vector([4,2,-1])\n",
    "p11 = vector([-3,6,13])\n",
    "p21 = vector([-6,11,19])\n",
    "p31 = vector([-1,6,17])"
   ]
  },
  {
   "cell_type": "code",
   "execution_count": null,
   "metadata": {},
   "outputs": [],
   "source": [
    "P = matrix([p11,p21,p31]).T\n",
    "Q = matrix([p1 - O,p2 - O,p3 - O]).T\n",
    "show(P)"
   ]
  },
  {
   "cell_type": "code",
   "execution_count": null,
   "metadata": {},
   "outputs": [],
   "source": [
    "show(Q)"
   ]
  },
  {
   "cell_type": "code",
   "execution_count": null,
   "metadata": {},
   "outputs": [],
   "source": [
    "C = Q * P.inverse()\n",
    "show(C)"
   ]
  },
  {
   "cell_type": "markdown",
   "metadata": {},
   "source": [
    "Per tant, la referència és\n",
    "$$\n",
    "  \\mathcal{R}'= \\left\\{(4,1,5);(-1,-2,1),(-3,-3,2),(1,1,-1)\\right\\}\n",
    "$$"
   ]
  },
  {
   "cell_type": "markdown",
   "metadata": {},
   "source": [
    "## Exercici 22\n",
    "Trobeu l'equació implícita en la referència $\\mathcal{R}'=\\big\\{(1,4);\\,(-3,1),(-1,0)\\big\\}$ de la recta que passa pel punt $(-3,2)$ i és paral·lela a la recta  d'equació implícita\n",
    "$$x'+y'=-4$$\n",
    "en la referència $\\mathcal{R}'$."
   ]
  },
  {
   "cell_type": "markdown",
   "metadata": {},
   "source": [
    "Les rectes paral·leles a la recta d'equació $x'+y'=-4$ són de la forma\n",
    "$$\n",
    "  x'+y'=C\\,.\n",
    "$$\n",
    "Per determinar $C$, necessitem les coordenades del punt $p=(-3,2)$ en la referència $\\mathcal{R}'$. Anem a calcular-les a partir de la igualtat\n",
    "$$\n",
    "  (-3,2) = (1,4) + x'(-3,1) + y'(-1,0)\\,.\n",
    "$$"
   ]
  },
  {
   "cell_type": "code",
   "execution_count": null,
   "metadata": {},
   "outputs": [],
   "source": [
    "x1, y1 = var('x1 y1')\n",
    "O = vector([1,4])\n",
    "u1 = vector([-3,1])\n",
    "u2 = vector([-1,0])\n",
    "p = vector([-3,2])\n",
    "cl = O + x1*u1+y1*u2\n",
    "show(cl)"
   ]
  },
  {
   "cell_type": "markdown",
   "metadata": {},
   "source": [
    "Ho igualem a $(-3,2)$ i resolem el corresponent sistema d'equacions"
   ]
  },
  {
   "cell_type": "code",
   "execution_count": null,
   "metadata": {},
   "outputs": [],
   "source": [
    "show(solve([cl[i] == p[i] for i in range(2)],[x1,y1]))"
   ]
  },
  {
   "cell_type": "markdown",
   "metadata": {},
   "source": [
    "Aleshores, $p=(-2,10)_{\\mathcal{R}'}$ i"
   ]
  },
  {
   "cell_type": "code",
   "execution_count": null,
   "metadata": {},
   "outputs": [],
   "source": [
    "C = -2 + 10\n",
    "show(C)"
   ]
  },
  {
   "cell_type": "markdown",
   "metadata": {},
   "source": [
    "L'equació implícita en la referència $\\mathcal{R}'$ de la recta demanada és $x'+y'=8$."
   ]
  },
  {
   "cell_type": "markdown",
   "metadata": {
    "tags": []
   },
   "source": [
    "## Exercici 23\n",
    "Analitzeu la posició relativa de les dues rectes de $P_3$ que tenen equacions\n",
    "$$\\dfrac{x'-2}{-3}=\\dfrac{y'+1}{-2}=\\dfrac{z'+1}{1} \\qquad \\text{i} \\qquad \\dfrac{x'-3}{2}=\\dfrac{y'-2}{-1}=\\dfrac{z'}{-2}$$\n",
    "en la referència $\\mathcal{R}'=\\{(-1,0,2);\\,(-1,2,3),(1,3,2),(0,1,1)\\}$."
   ]
  },
  {
   "cell_type": "markdown",
   "metadata": {},
   "source": [
    "El fet que les rectes sigui paral·leles o no, només depèn de si els seus vectors directors $\\vec u=(-3,-2,1)_{\\mathcal{B}'}$ i $\\vec v=(2,-1,-2)_{\\mathcal{B}'}$ són proporcionals. Com que és evident que no ho són, les dues rectes no són paral·leles."
   ]
  },
  {
   "cell_type": "markdown",
   "metadata": {},
   "source": [
    "La primera recta passa pel punt $p=(2,-1,-1)_{\\mathcal{R}'}$ i la segona pel punt $q=(3,2,0)_{\\mathcal{R}'}$. Aleshores, les rectes es tallen si, i només si, els vectors $\\vec u$, $\\vec v$ i $\\overrightarrow{pq}$ són linealment dependents."
   ]
  },
  {
   "cell_type": "code",
   "execution_count": null,
   "metadata": {},
   "outputs": [],
   "source": [
    "u = vector([-3,-2,1])\n",
    "v = vector([2,-1,-2])\n",
    "p = vector([2,-1,-1])\n",
    "q = vector([3,2,0])\n",
    "show(matrix([u,v,q-p]).T)"
   ]
  },
  {
   "cell_type": "markdown",
   "metadata": {},
   "source": [
    "Calculem el determinant d'aquesta matriu:"
   ]
  },
  {
   "cell_type": "code",
   "execution_count": null,
   "metadata": {},
   "outputs": [],
   "source": [
    "show(matrix([u,v,q-p]).T.det())"
   ]
  },
  {
   "cell_type": "markdown",
   "metadata": {},
   "source": [
    "Com que el determinant s'anul·la, les rectes són estrictament secants.\n",
    "\n",
    "Per saber si són perpendiculars, hem de calcular les components dels seus vectors directors en la base canònica."
   ]
  },
  {
   "cell_type": "code",
   "execution_count": null,
   "metadata": {},
   "outputs": [],
   "source": [
    "O = vector([-1,0,2])\n",
    "u1 = vector([-1,2,3])\n",
    "u2 = vector([1,3,2])\n",
    "u3 = vector([0,1,1])\n",
    "u = u[0]*u1 + u[1]*u2 + u[2]*u3\n",
    "v = v[0]*u1 + v[1]*u2 + v[2]*u3\n",
    "show(u * v)"
   ]
  },
  {
   "cell_type": "markdown",
   "metadata": {},
   "source": [
    "Les rectes no són perpendiculars. L'angle que formen serà"
   ]
  },
  {
   "cell_type": "code",
   "execution_count": null,
   "metadata": {},
   "outputs": [],
   "source": [
    "alfa = N(180 * acos(u*v / (u.norm() * v.norm()))/pi,digits=5)\n",
    "show(alfa)"
   ]
  },
  {
   "cell_type": "markdown",
   "metadata": {},
   "source": [
    "Finalment, anem a calcular el punt de tall resolent un sistema de quatre equacions amb tres incògnites:"
   ]
  },
  {
   "cell_type": "code",
   "execution_count": null,
   "metadata": {},
   "outputs": [],
   "source": [
    "x1, y1, z1 = var('x1 y1 z1')\n",
    "eq1 = (x1-2)/(-3)==(y1+1)/(-2)\n",
    "eq2 = (x1-2)/(-3)==z1+1\n",
    "eq3 = (x1-3)/2==(y1-2)/(-1)\n",
    "eq4 = (x1-3)/2==z1/(-2)\n",
    "show(solve([eq1,eq2,eq3,eq4],[x1,y1,z1]))"
   ]
  },
  {
   "cell_type": "markdown",
   "metadata": {},
   "source": [
    "Es tallen en el punt de coordenades $(5,1,-2)$ en la referència $\\mathcal{R}'$. Les seves coordenades en la referència canònica són"
   ]
  },
  {
   "cell_type": "code",
   "execution_count": null,
   "metadata": {},
   "outputs": [],
   "source": [
    "p1 = vector([5,1,-2])\n",
    "p = O + p1[0]*u1 + p1[1]*u2 + p1[2]*u3\n",
    "show(p)"
   ]
  },
  {
   "cell_type": "markdown",
   "metadata": {},
   "source": [
    "Per tant, les dues rectes es tallen en el punt $(-5,11,17)$ i formen un angle de $105.20^\\circ$."
   ]
  },
  {
   "cell_type": "markdown",
   "metadata": {},
   "source": [
    "## Exercici 24\n",
    "Calculeu la distància del punt $(3,1,2)$ al punt $(2,3,0)$."
   ]
  },
  {
   "cell_type": "markdown",
   "metadata": {},
   "source": [
    "La distància entre dos punts és la norma del vector que els uneix:"
   ]
  },
  {
   "cell_type": "code",
   "execution_count": null,
   "metadata": {},
   "outputs": [],
   "source": [
    "p = vector([3,1,2])\n",
    "q = vector([2,3,0])\n",
    "u = q - p\n",
    "show(u.norm())"
   ]
  },
  {
   "cell_type": "markdown",
   "metadata": {},
   "source": [
    "La distància és $d(p,q)=3$."
   ]
  },
  {
   "cell_type": "markdown",
   "metadata": {},
   "source": [
    "## Exercici 25\n",
    "Trobeu un vector associat al pla que passa pel punt $p=(1,2,-4)$ i té vectors directors $\\vec u=(2,-3,-2)$ i $\\vec v=(-1,2,3)$."
   ]
  },
  {
   "cell_type": "code",
   "execution_count": null,
   "metadata": {},
   "outputs": [],
   "source": [
    "u = vector([2,-3,-2])\n",
    "v = vector([-1,2,3])\n",
    "show(u.cross_product(v))"
   ]
  },
  {
   "cell_type": "markdown",
   "metadata": {},
   "source": [
    "Un vector associat és $\\vec u\\times\\vec v=(-5,-4,1)$."
   ]
  },
  {
   "cell_type": "markdown",
   "metadata": {},
   "source": [
    "## Exercici 26\n",
    "Donades les rectes d'equacions\n",
    "$$\n",
    "  R_1:x - 1 = y - 4 = z - 2\n",
    "  \\qquad\\text{i}\\qquad\n",
    "  R_2:\\left.\\begin{aligned}\n",
    "  - x + 2 y - z &= 3 \\\\ \n",
    "  x - 3 y + 2 z &= 9\n",
    "  \\end{aligned}\\right\\}\\,,\n",
    "$$\n",
    "determineu, si és possible, l'equació implícita del pla que les conté."
   ]
  },
  {
   "cell_type": "markdown",
   "metadata": {},
   "source": [
    "Determinem en primer lloc la posició relativa de les dues rectes. El vector director de la primera recta és"
   ]
  },
  {
   "cell_type": "code",
   "execution_count": null,
   "metadata": {},
   "outputs": [],
   "source": [
    "u = vector([1,1,1])\n",
    "show(u)"
   ]
  },
  {
   "cell_type": "markdown",
   "metadata": {},
   "source": [
    "i el vector director de la segona"
   ]
  },
  {
   "cell_type": "code",
   "execution_count": null,
   "metadata": {},
   "outputs": [],
   "source": [
    "w1 = vector([-1,2,-1])\n",
    "w2 = vector([1,-3,2])\n",
    "v = w1.cross_product(w2)\n",
    "show(v)"
   ]
  },
  {
   "cell_type": "markdown",
   "metadata": {},
   "source": [
    "Com que els vectors directors són proporcionals, les rectes són paral·leles, pot ser que coincidents o paral·leles esctrictes. Anem a veure si tenen algun punt en comú: "
   ]
  },
  {
   "cell_type": "code",
   "execution_count": null,
   "metadata": {},
   "outputs": [],
   "source": [
    "x, y, z = var('x y z')\n",
    "eq1 = x-1 == y-4\n",
    "eq2 = x-1 == z-2\n",
    "eq3 = -x+2*y-z == 3\n",
    "eq4 = x-3*y+2*z == 9\n",
    "show(solve([eq1,eq2,eq3,eq4],[x,y,z]))"
   ]
  },
  {
   "cell_type": "markdown",
   "metadata": {},
   "source": [
    "Com que no es tallen són paral·leles estrictes. El pla que busquem ha de contenir la segona recta, per tant, ha de ser del feix de plans que contenen aquesta recta:"
   ]
  },
  {
   "cell_type": "code",
   "execution_count": null,
   "metadata": {},
   "outputs": [],
   "source": [
    "a, b = var('a b')\n",
    "P = a*(-x+2*y-z-3)+b*(x-3*y+2*z-9)==0\n",
    "show(P)"
   ]
  },
  {
   "cell_type": "markdown",
   "metadata": {},
   "source": [
    "i ha de passar pel punt $(1,4,2)$ de la primera recta. Per tant, s'ha de complir que"
   ]
  },
  {
   "cell_type": "code",
   "execution_count": null,
   "metadata": {},
   "outputs": [],
   "source": [
    "eq = P.subs(x=1,y=4,z=2)\n",
    "show(eq)"
   ]
  },
  {
   "cell_type": "markdown",
   "metadata": {},
   "source": [
    "Com que $a=8$ i $b=1$ és una solució d'aquesta equació, l'equació del pla que conté les dues rectes (hem canviat el signe) és"
   ]
  },
  {
   "cell_type": "code",
   "execution_count": null,
   "metadata": {},
   "outputs": [],
   "source": [
    "show(-P.subs(a=8,b=1))"
   ]
  },
  {
   "cell_type": "markdown",
   "metadata": {},
   "source": [
    "## Exercici 27\n",
    "Determineu si són perpendiculars o no les rectes i plans següents:\n",
    "1. $\\dfrac{x+1}{2}=y-3=\\dfrac{z-2}{-1} \\quad \\text{i} \\quad \\dfrac{x+1}{2}=\\dfrac{y-3}{-7}=\\dfrac{z-2}{-3}$;\n",
    "2. $-x+2y-3z=0 \\quad \\text{i} \\quad 2x+y+3z=-2$;\n",
    "2. $\\dfrac{x-4}{-1}=y=\\dfrac{z+1}{0} \\quad \\text{i} \\quad x-y=-2$."
   ]
  },
  {
   "cell_type": "markdown",
   "metadata": {},
   "source": [
    "1. En el primer cas, els vectors directors de les dues rectes són $\\vec u=(2,1,-1)$ i $\\vec v=(2,-7,-3)$."
   ]
  },
  {
   "cell_type": "code",
   "execution_count": null,
   "metadata": {},
   "outputs": [],
   "source": [
    "u = vector([2,1,-1])\n",
    "v = vector([2,-7,-3])\n",
    "show(u * v)"
   ]
  },
  {
   "cell_type": "markdown",
   "metadata": {},
   "source": [
    "Les dues rectes són perpendiculars."
   ]
  },
  {
   "cell_type": "markdown",
   "metadata": {},
   "source": [
    "2. Els vectors associats als dos plans són $\\vec u=(-1,2,-3)$ i $\\vec v=(2,1,3)$."
   ]
  },
  {
   "cell_type": "code",
   "execution_count": null,
   "metadata": {},
   "outputs": [],
   "source": [
    "u = vector([-1,2,-3])\n",
    "v = vector([2,1,3])\n",
    "show(u.dot_product(v))"
   ]
  },
  {
   "cell_type": "markdown",
   "metadata": {},
   "source": [
    "Els dos plans no són perpendiculars."
   ]
  },
  {
   "cell_type": "markdown",
   "metadata": {},
   "source": [
    "3. En el tercer cas, el vector director de la recta és $\\vec u=(-1,1,0)$ i el vector associat al pla $\\vec v=(1,-1,0)$. Com que són múltiple un de l'altre, la recta i el pla són perpendiculars."
   ]
  },
  {
   "cell_type": "markdown",
   "metadata": {},
   "source": [
    "## Exercici 28\n",
    "Trobeu l'equació del pla que passa pel punt $(1,0,3)$ i és perpendicular a la recta\n",
    "$$\\frac{x-7}{1}=\\frac{y}{5}=\\frac{z-2}{3} \\,. $$"
   ]
  },
  {
   "cell_type": "markdown",
   "metadata": {},
   "source": [
    "Si la recta i el pla són perpendiculars, el vector $\\vec u=(1,5,3)$ és associat (perpendicular) al pla. Així, l'equació del pla serà\n",
    "$$\n",
    "  x+5y+3z=D\\,.\n",
    "$$\n",
    "Calculem la $D$:"
   ]
  },
  {
   "cell_type": "code",
   "execution_count": null,
   "metadata": {},
   "outputs": [],
   "source": [
    "A = matrix([[1,5,3]])\n",
    "p = vector([1,0,3])\n",
    "D = A * p\n",
    "show(D)"
   ]
  },
  {
   "cell_type": "markdown",
   "metadata": {},
   "source": [
    "L'equació del pla és\n",
    "$$\n",
    "  x+5y+3z=10\\,.\n",
    "$$"
   ]
  },
  {
   "cell_type": "markdown",
   "metadata": {},
   "source": [
    "## Exercici 29\n",
    "Trobeu l'equació de la recta que passa pel punt $(3,1,2)$ i és perpendicular al pla\n",
    "$$x+3y-4z=3 \\,. $$"
   ]
  },
  {
   "cell_type": "markdown",
   "metadata": {},
   "source": [
    "En aquest cas, el vector associat al pla $\\vec u=(1,3,-4)$ és el vector director de la recta. Les seves equacions vectorial i contúnua són\n",
    "$$\n",
    "  (x,y,z)=(3,1,2)+t(1,3,-4)\\qquad\\text{i}\\qquad\n",
    "  x-3=\\frac{y-1}{3}=\\frac{z-2}{-4}\\,.\n",
    "$$\n",
    "Calculem-ne, ara, unes equacions implícites: "
   ]
  },
  {
   "cell_type": "code",
   "execution_count": null,
   "metadata": {},
   "outputs": [],
   "source": [
    "x, y, z = var('x y z')\n",
    "u = vector([1,3,-4])\n",
    "p = vector([3,1,2])\n",
    "X = vector([x,y,z])\n",
    "A = matrix([u,X-p]).T\n",
    "show(A)"
   ]
  },
  {
   "cell_type": "code",
   "execution_count": null,
   "metadata": {},
   "outputs": [],
   "source": [
    " menors_que_contenen([0],[0],A)"
   ]
  },
  {
   "cell_type": "markdown",
   "metadata": {},
   "source": [
    "Les equacions implícites de la recta són\n",
    "$$\n",
    "  \\left.\\begin{aligned}\n",
    "  3x - y &= 8 \\\\\n",
    "  4x + z &= 14\n",
    "  \\end{aligned}\\,\\right\\}\\,.\n",
    "$$"
   ]
  },
  {
   "cell_type": "markdown",
   "metadata": {},
   "source": [
    "## Exercici 30\n",
    "Calculeu l'angle format per les rectes i plans següents:\n",
    "1. $x=y-3=\\dfrac{z+1}{0} \\quad \\text{i} \\quad (x,y,z)=(-1,3,2)+\\alpha (-1,0,1)$;\n",
    "1. $2x+2y+z=-1 \\quad \\text{i} \\quad x+z=-3$;\n",
    "1. $\\dfrac{x-3}{-1}=y=\\dfrac{z}{2} \\quad \\text{i} \\quad x+2y+z=11$."
   ]
  },
  {
   "cell_type": "markdown",
   "metadata": {},
   "source": [
    "1. En el primer cas, els vectors directors de les rectes són $\\vec u=(1,1,0)$ i $\\vec v=(-1,0,1)$. L'angle format per les rectes és l'angle entre els seus vectors directors:"
   ]
  },
  {
   "cell_type": "code",
   "execution_count": null,
   "metadata": {},
   "outputs": [],
   "source": [
    "u = vector([1,1,0])\n",
    "v = vector([-1,0,1])\n",
    "alfa = acos(abs(u * v) / (u.norm() * v.norm()))\n",
    "show(alfa)"
   ]
  },
  {
   "cell_type": "markdown",
   "metadata": {},
   "source": [
    "L'angle és $\\frac{\\pi}{3}$."
   ]
  },
  {
   "cell_type": "markdown",
   "metadata": {},
   "source": [
    "2. En el segon cas, el vectors associats als dos plans són $\\vec u=(2,2,1)$ i $\\vec v=(1,0,1)$. L'angle format pels plans és l'angle entre els seus vectors associats:"
   ]
  },
  {
   "cell_type": "code",
   "execution_count": null,
   "metadata": {},
   "outputs": [],
   "source": [
    "u = vector([2,2,1])\n",
    "v = vector([1,0,1])\n",
    "alfa = acos(abs(u * v) / (u.norm() * v.norm()))\n",
    "show(alfa.simplify())"
   ]
  },
  {
   "cell_type": "markdown",
   "metadata": {},
   "source": [
    "L'angle és $\\frac{\\pi}{4}$."
   ]
  },
  {
   "cell_type": "markdown",
   "metadata": {},
   "source": [
    "3. En l'últim cas, el vector director de la recta és $\\vec u=(-1,1,2)$ i el vector associat al pla $\\vec v=(1,2,1)$. L'angle entre la recta i el pla és el complementari de l'angle format pels vectors $\\vec u$ i $\\vec v$."
   ]
  },
  {
   "cell_type": "code",
   "execution_count": null,
   "metadata": {},
   "outputs": [],
   "source": [
    "u = vector([-1,1,2])\n",
    "v = vector([1,2,1])\n",
    "alfa = pi/2 - acos(abs(u*v) / (u.norm() * v.norm()))\n",
    "show(alfa.simplify())"
   ]
  },
  {
   "cell_type": "markdown",
   "metadata": {},
   "source": [
    "L'angle és $\\frac{\\pi}{6}$."
   ]
  },
  {
   "cell_type": "markdown",
   "metadata": {},
   "source": [
    "## Exercici 31\n",
    "Calculeu la projecció ortogonal i el simètric del punt $(3,6,5)$ respecte del pla\n",
    "$$x+2y+3z=2\\,.$$"
   ]
  },
  {
   "cell_type": "markdown",
   "metadata": {},
   "source": [
    "La recta perpendicular al pla que passa per punt $p=(3,6,5)$ té equació vectorial i paramètriques\n",
    "$$\n",
    "  (x,y,z)=(3,6,5)+t(1,2,3)\\qquad\\text{i}\\qquad\n",
    "  \\left.\\begin{aligned} \n",
    "  x&=3+t \\\\\n",
    "  y&=6+2t \\\\\n",
    "  z&=5+3t\n",
    "  \\end{aligned}\\right\\}\\,.\n",
    "$$\n",
    "La projecció ortogonal del punt $p$ sobre el la pla és la intersecció del pla i la recta. Resolem, doncs, el sistema"
   ]
  },
  {
   "cell_type": "code",
   "execution_count": null,
   "metadata": {},
   "outputs": [],
   "source": [
    "x, y, z, t = var('x y z t')\n",
    "sol = solve([x+2*y+3*z==2,x==3+t,y==6+2*t,z==5+3*t],[x,y,z,t])\n",
    "show(sol)"
   ]
  },
  {
   "cell_type": "code",
   "execution_count": null,
   "metadata": {},
   "outputs": [],
   "source": [
    "p = vector([3,6,5])\n",
    "p1 = vector([1,2,-1])\n",
    "show(p1)"
   ]
  },
  {
   "cell_type": "code",
   "execution_count": null,
   "metadata": {},
   "outputs": [],
   "source": [
    "s = 2*p1-p\n",
    "show(s)"
   ]
  },
  {
   "cell_type": "markdown",
   "metadata": {},
   "source": [
    "La projecció ortogonal del punt $p=(3,6,5)$ sobre el pla és el punt $p'=(1,2,-1)$ i el simetric de $p$ respecte al pla és el punt $p^*=(-1,-2,-7)$."
   ]
  },
  {
   "cell_type": "markdown",
   "metadata": {},
   "source": [
    "## Exercici 32\n",
    "Calculeu la projecció ortogonal i el simètric del punt $(3,5,-1)$ respecte de la recta\n",
    "$$\\frac{x+4}{5}=\\frac{y-3}{-2}=\\frac{z}{1}\\,.$$"
   ]
  },
  {
   "cell_type": "markdown",
   "metadata": {},
   "source": [
    "Trobem en primer lloc l'equació del pla perpendicular a la recta que passa pel punt $(3,5,-1)$:"
   ]
  },
  {
   "cell_type": "code",
   "execution_count": null,
   "metadata": {},
   "outputs": [],
   "source": [
    "x, y, z = var('x y z')\n",
    "X = vector([x,y,z])\n",
    "p = vector([3,5,-1])\n",
    "u = vector([5,-2,1])\n",
    "eq = p*X == p*u\n",
    "show(eq)"
   ]
  },
  {
   "cell_type": "markdown",
   "metadata": {},
   "source": [
    "L'equació d'aquest pla és $5x-2y+z=4$. Per trobar la projecció ortogonal hem de fer la interecció de la recta i el pla:"
   ]
  },
  {
   "cell_type": "code",
   "execution_count": null,
   "metadata": {},
   "outputs": [],
   "source": [
    "show(solve([5*x-2*y+z==4,(x+4)/5==(y-3)/(-2),(x+4)/5==z],[x,y,z]))"
   ]
  },
  {
   "cell_type": "code",
   "execution_count": null,
   "metadata": {},
   "outputs": [],
   "source": [
    "p1 = vector([1,1,1])\n",
    "s = 2*p1-p\n",
    "show(s)"
   ]
  },
  {
   "cell_type": "markdown",
   "metadata": {},
   "source": [
    "La projecció ortogonal del punt $p=(5,5,-1)$ sobre la recta és el punt $p'=(1,1,1)$ i el simetric de $p$ respecte a la recta és el punt $p^*=(-1,-3,3)$."
   ]
  },
  {
   "cell_type": "markdown",
   "metadata": {},
   "source": [
    "## Exercici 33\n",
    "Calculeu la distància del punt $(1,1,1)$ a la recta\n",
    "$$\\frac{x-7}{2}=\\frac{y-12}{3}=\\frac{z}{-1}\\,.$$"
   ]
  },
  {
   "cell_type": "markdown",
   "metadata": {},
   "source": [
    "La distànci del punt $p$ a la recta $R$ que passa pel punt $p_0$ i té vector director $\\vec u$ és\n",
    "$$\n",
    "  d(p,R)=\\frac{|| \\overrightarrow{p_0p}\\times \\vec u ||}{|| u ||}\\,.\n",
    "$$\n",
    "Aleshores,"
   ]
  },
  {
   "cell_type": "code",
   "execution_count": null,
   "metadata": {},
   "outputs": [],
   "source": [
    "p = vector([1,1,1])\n",
    "p0 = vector([7,12,0])\n",
    "u = vector([2,3,-1])\n",
    "d = u.cross_product(p-p0).norm()/u.norm()\n",
    "d = simplificar_radicals(d)\n",
    "show(d)"
   ]
  },
  {
   "cell_type": "markdown",
   "metadata": {},
   "source": [
    "La distància és $d=\\frac{4\\sqrt{21}}{7}$."
   ]
  },
  {
   "cell_type": "markdown",
   "metadata": {},
   "source": [
    "## Exercici 34\n",
    "Calculeu la distància del punt $(1,-3,2)$ al pla\n",
    "$$-3x+2y+z=7\\,.$$"
   ]
  },
  {
   "cell_type": "markdown",
   "metadata": {},
   "source": [
    "La distància d'un punt $p$ al pla $P$ que passa pel punt $p_0$ i té vector associat $\\vec w$ (o vectors directors $\\vec u$ i $\\vec v$) és\n",
    "$$\n",
    "  d(p,P)=\\frac{| \\overrightarrow{p_0p}\\cdot\\vec w |}{|| \\vec w ||}=\\frac{| \\overrightarrow{p_0p}\\cdot(\\vec u\\times\\vec v) |}{|| \\vec u\\times\\vec v ||}\\,.\n",
    "$$\n",
    "Aleshores,"
   ]
  },
  {
   "cell_type": "code",
   "execution_count": null,
   "metadata": {},
   "outputs": [],
   "source": [
    "p = vector([1,-3,2])\n",
    "p0 = vector([-2,0,1])\n",
    "w = vector([-3,2,1])\n",
    "d = abs(w.dot_product(p0-p))/w.norm()\n",
    "d = d.simplify_full()\n",
    "show(d)"
   ]
  },
  {
   "cell_type": "markdown",
   "metadata": {},
   "source": [
    "La distància és $d=\\sqrt{14}$."
   ]
  },
  {
   "cell_type": "markdown",
   "metadata": {},
   "source": [
    "## Exercici 35\n",
    "Calculeu la distància que hi ha entre les rectes i plans següents:\n",
    "1. $\\dfrac{x-\\frac12}{3}=\\dfrac{y}{4}=\\dfrac{z-\\frac12}{5}$ i $\\dfrac{x}{-1}=\\dfrac{y}{-3}=\\dfrac{z-1}{3}$:\n",
    "1. $\\dfrac{x}{1}=\\dfrac{y-1}{3}=\\dfrac{z-2}{-2}$ i $\\dfrac{x+2}{-1}=\\dfrac{y}{-3}=\\dfrac{z-1}{2}$;\n",
    "1. $\\dfrac{x-1}{1}=\\dfrac{y-3}{3}=\\dfrac{z+2}{1}$ i $x-2y+5z-1=0$;\n",
    "1. $x-2y+3z=1$ i $x-2y+3z=4$."
   ]
  },
  {
   "cell_type": "markdown",
   "metadata": {},
   "source": [
    "1. En el primer cas tenim dues rectes no paral·leles, $R_1$ qoe passa pel punt $p_0$ i té vector director $\\vec u$ i $R_2$ qoe passa pel punt $q_0$ i té vector director $\\vec v$. La distància entre elles és\n",
    "$$\n",
    "  d(R_1,R_2)=\\frac{| \\overrightarrow{p_0q_0}\\cdot(\\vec u\\times\\vec v) |}{|| \\vec u\\times\\vec v ||}\\,.\n",
    "$$\n",
    "Aleshores,"
   ]
  },
  {
   "cell_type": "code",
   "execution_count": null,
   "metadata": {},
   "outputs": [],
   "source": [
    "p0 = vector([1/2,0,1/2])\n",
    "q0 = vector([0,0,1])\n",
    "u = vector([3,4,5])\n",
    "v = vector([-1,-3,3])\n",
    "w = u.cross_product(v)\n",
    "d = d = abs(w.dot_product(p0-q0))/w.norm()\n",
    "d = d.simplify_full()\n",
    "show(d)"
   ]
  },
  {
   "cell_type": "markdown",
   "metadata": {},
   "source": [
    "La distància és $d=\\frac{8\\sqrt{38}}{95}$."
   ]
  },
  {
   "cell_type": "markdown",
   "metadata": {},
   "source": [
    "2. En el segon cas, tenim dues rectes paral·leles. La distància entre elles és\n",
    "$$\n",
    "  d(R_1,R_2)=d(p,R_2)\\,,\n",
    "$$\n",
    "on $p$ és un punt qualsevol de la primera recta. Aleshores,"
   ]
  },
  {
   "cell_type": "code",
   "execution_count": null,
   "metadata": {},
   "outputs": [],
   "source": [
    "p = vector([0,1,2])\n",
    "p0 = vector([-2,0,1])\n",
    "u = vector([-1,-3,2])\n",
    "d = u.cross_product(p-p0).norm()/u.norm()\n",
    "d = d.simplify_full()\n",
    "show(d)"
   ]
  },
  {
   "cell_type": "markdown",
   "metadata": {},
   "source": [
    "La distància és $d=\\frac{5\\sqrt{42}}{14}$."
   ]
  },
  {
   "cell_type": "markdown",
   "metadata": {},
   "source": [
    "3. En el tercer cas, tenim una recta i un pla paral·lels, per tant, la distància és la d'un punt de la recta al pla, és a dir, "
   ]
  },
  {
   "cell_type": "code",
   "execution_count": null,
   "metadata": {},
   "outputs": [],
   "source": [
    "u = vector([1,3,1])\n",
    "w = vector([1,-2,5])\n",
    "u.dot_product(w)"
   ]
  },
  {
   "cell_type": "code",
   "execution_count": null,
   "metadata": {},
   "outputs": [],
   "source": [
    "p = vector([1,3,-2])\n",
    "p0 = vector([1,0,0])\n",
    "d = abs(w.dot_product(p0-p))/w.norm()\n",
    "d = d.simplify_full()\n",
    "show(d)"
   ]
  },
  {
   "cell_type": "markdown",
   "metadata": {},
   "source": [
    "La distància és $d=\\frac{8\\sqrt{30}}{15}$."
   ]
  },
  {
   "cell_type": "markdown",
   "metadata": {},
   "source": [
    "4. Per últim, tenim dos plans paral·lels. La distància entre ells és la d'un prunt del primer pla al segon."
   ]
  },
  {
   "cell_type": "code",
   "execution_count": null,
   "metadata": {},
   "outputs": [],
   "source": [
    "p = vector([1,0,0])\n",
    "p0 = vector([4,0,0])\n",
    "w = vector([1,-2,3])\n",
    "d = abs(w.dot_product(p0-p))/w.norm()\n",
    "d = d.simplify_full()\n",
    "show(d)"
   ]
  },
  {
   "cell_type": "markdown",
   "metadata": {},
   "source": [
    "La distància és $d=\\frac{3\\sqrt{14}}{14}$."
   ]
  },
  {
   "cell_type": "markdown",
   "metadata": {
    "tags": []
   },
   "source": [
    "## Exercici 36\n",
    "Donats el punt $p=(-1,3,-2)$ i el pla $P$ d'equació $x-3y+3z=5$, trobeu l'equació dels dos plans paral·lels a $P$ que estan a una distància $d=2\\sqrt{19}$ del punt $p$. "
   ]
  },
  {
   "cell_type": "markdown",
   "metadata": {
    "tags": []
   },
   "source": [
    "L'equació dels dos plans serà de la forma $x-3y+3z+D=0$ i la distància entre un punt $p=(x_0,y_0,z_0)$ al pla d'equació $Ax+By+Cz+D=0$ és\n",
    "$$\n",
    "  d(p,P)=\\frac{|Ax_0+By_0+Cz_0+D|}{\\sqrt{A^2+B^2+C^2}}\n",
    "$$"
   ]
  },
  {
   "cell_type": "code",
   "execution_count": null,
   "metadata": {},
   "outputs": [],
   "source": [
    "x, y, z = var('x y z')\n",
    "d, D = var('d D')\n",
    "eq = x-3*y+3*z+D\n",
    "d = abs(eq.subs(x=-1,y=3,z=-2))/sqrt(1+9+9)\n",
    "show(d == 2*sqrt(19))"
   ]
  },
  {
   "cell_type": "markdown",
   "metadata": {},
   "source": [
    "Aquesta equació es pot escriure de la forma següent (hem multiplicat per $19$ i dividit per $\\sqrt{19}$):"
   ]
  },
  {
   "cell_type": "code",
   "execution_count": null,
   "metadata": {},
   "outputs": [],
   "source": [
    "eq = (d == 2*sqrt(19))/sqrt(19)*19\n",
    "show(eq)"
   ]
  },
  {
   "cell_type": "markdown",
   "metadata": {},
   "source": [
    "És evident que les solucions d'aquesta equació s'obtenen a partir de $D-16=38$ i $D-16=-38$. Per tant, ten im que $D=54$ i $D=-22$. Per tant, les equacions dels dos plan són\n",
    "$$\n",
    "  x-3y+3z=-54\\qquad\\text{i}\\qquad x-3y+3z=22\\,.\n",
    "$$"
   ]
  },
  {
   "cell_type": "markdown",
   "metadata": {},
   "source": [
    "## Exercici 37\n",
    "Donades les rectes d'equacions\n",
    "$$\n",
    "  R_1:\\frac{x - 1}{2} = \\frac{y - 4}{-3} = \\frac{z + 4}{-3}\n",
    "  \\qquad\\text{i}\\qquad \n",
    "  R_2:\\left.\\begin{aligned} \n",
    "  - 9 x + 2 y - z &= 35 \\\\ \n",
    "  - 12 x + 3 y - z &= 46\n",
    "  \\end{aligned}\\;\\right\\}\\,,\n",
    "$$\n",
    "calculeu la distància entre elles, les equacions implícites de la perpendicular comuna a $R_1$ i $R_2$ que les talla i les interseccions d'aquesta recta amb $R_1$ i $R_2$."
   ]
  },
  {
   "cell_type": "markdown",
   "metadata": {},
   "source": [
    "La primera recta té vector director $\\vec u=(2,-3,-3)$ i passa pel punt $p_0=(1,4,-4)$."
   ]
  },
  {
   "cell_type": "code",
   "execution_count": null,
   "metadata": {},
   "outputs": [],
   "source": [
    "p0 = vector([1,4,-4])\n",
    "u = vector([2,-3,-3])\n",
    "show(p0,u)"
   ]
  },
  {
   "cell_type": "markdown",
   "metadata": {},
   "source": [
    "Les equacions implícites de la primera recta són"
   ]
  },
  {
   "cell_type": "code",
   "execution_count": null,
   "metadata": {},
   "outputs": [],
   "source": [
    "x, y, z = var('x y z')\n",
    "eq1 = (x-1)/2 == (y-4)/(-3) \n",
    "eq2 = (x-1)/2 == (z+4)/(-3)\n",
    "show(eq1,\";\",eq2)"
   ]
  },
  {
   "cell_type": "markdown",
   "metadata": {},
   "source": [
    "Per trobar un punt i el vector director de la segona, resolem el corresponent sistema d'equacions:"
   ]
  },
  {
   "cell_type": "code",
   "execution_count": null,
   "metadata": {},
   "outputs": [],
   "source": [
    "eq3 = -9*x+2*y-z == 35\n",
    "eq4 = -12*x+3*y-z == 46\n",
    "show(solve([eq3,eq4],[x,y,z]))"
   ]
  },
  {
   "cell_type": "markdown",
   "metadata": {},
   "source": [
    "És evident que $q_0=\\left(-\\frac{13}{3},-2,0\\right)$ és un punt de la segona recta i que $\\vec v=(-1,-3,3)$ és el seu vector director."
   ]
  },
  {
   "cell_type": "code",
   "execution_count": null,
   "metadata": {},
   "outputs": [],
   "source": [
    "q0 = vector([-13/3,-2,0])\n",
    "v = vector([-1,-3,3])\n",
    "show(q0,v)"
   ]
  },
  {
   "cell_type": "markdown",
   "metadata": {},
   "source": [
    "Per calcular la distància entre les rectes, apliquem la fórmula\n",
    "$$\n",
    "  d=\\frac{|\\overrightarrow{p_0q_0}\\cdot(\\vec u\\times\\vec v)|}{||\\vec u\\times\\vec v||}\n",
    "$$"
   ]
  },
  {
   "cell_type": "code",
   "execution_count": null,
   "metadata": {},
   "outputs": [],
   "source": [
    "w = u.cross_product(v)\n",
    "pq = q0-p0\n",
    "d = abs(pq * w)/w.norm()\n",
    "show(d)"
   ]
  },
  {
   "cell_type": "markdown",
   "metadata": {},
   "source": [
    "La distància entre les dues rectes és $d=\\frac{13\\sqrt{46}}{23}$."
   ]
  },
  {
   "cell_type": "markdown",
   "metadata": {},
   "source": [
    "L'equació del pla que conté la primera recta i té $\\vec u\\times\\vec v$ com a vector director és"
   ]
  },
  {
   "cell_type": "code",
   "execution_count": null,
   "metadata": {},
   "outputs": [],
   "source": [
    "X = vector([x,y,z])\n",
    "P = matrix([u,w,X-p0]).det() == 0\n",
    "show(P/6)"
   ]
  },
  {
   "cell_type": "markdown",
   "metadata": {},
   "source": [
    "L'equació del pla que conté la segon recta i té $\\vec u\\times\\vec v$ com a vector director és"
   ]
  },
  {
   "cell_type": "code",
   "execution_count": null,
   "metadata": {},
   "outputs": [],
   "source": [
    "Q = matrix([v,w,X-q0]).det() == 0\n",
    "show(Q/3)"
   ]
  },
  {
   "cell_type": "markdown",
   "metadata": {},
   "source": [
    "Per tant, les equacions implícites de la perpendicular comuna a $R_1$ i $R_2$ que les talla són\n",
    "$$\n",
    "  \\left.\\begin{aligned} \n",
    "   3x + 12y - 10z &= 91\\\\ \n",
    "  12x - 21y - 17z &= -10\n",
    "  \\end{aligned}\\;\\right\\}\\,.\n",
    "$$"
   ]
  },
  {
   "cell_type": "markdown",
   "metadata": {},
   "source": [
    "Els punts que busquem són les interseccions del pla $Q$ amb la primera recta i del pla $P$ amb la segona"
   ]
  },
  {
   "cell_type": "code",
   "execution_count": null,
   "metadata": {},
   "outputs": [],
   "source": [
    "show(solve([P,eq3,eq4],[x,y,z]))"
   ]
  },
  {
   "cell_type": "code",
   "execution_count": null,
   "metadata": {},
   "outputs": [],
   "source": [
    "show(solve([Q,eq1,eq2],[x,y,z]))"
   ]
  },
  {
   "cell_type": "markdown",
   "metadata": {},
   "source": [
    "Per tant el punts intersecció són $\\frac{1}{23}(-57,82,-128)$ i $\\frac{1}{23}(21,95,-89)$"
   ]
  },
  {
   "cell_type": "markdown",
   "metadata": {},
   "source": [
    "## Exercici 38\n",
    "Trobeu l'ortocentre del triangle a l'espai que té els vèrtexs en els punts $(1,4,4)$, $(-3,-3,3)$ i $(-2,1,1)$. L'ortocentre d'un triangle és el punt on es tallen les seves altures, és a dir, les rectes perpendiculars a cada costat que passen pel vèrtex oposat."
   ]
  },
  {
   "cell_type": "code",
   "execution_count": null,
   "metadata": {},
   "outputs": [],
   "source": [
    "p1 = vector([1,4,4])\n",
    "p2 = vector([-3,-3,3])\n",
    "p3 = vector([-2,1,1])"
   ]
  },
  {
   "cell_type": "markdown",
   "metadata": {},
   "source": [
    "Els vectors determinats pels tres costats del triangle són "
   ]
  },
  {
   "cell_type": "code",
   "execution_count": null,
   "metadata": {},
   "outputs": [],
   "source": [
    "u12 = p2 - p1\n",
    "u13 = p3 - p1\n",
    "u23 = p3 - p2"
   ]
  },
  {
   "cell_type": "markdown",
   "metadata": {},
   "source": [
    "Les tres altures estaran contingudes en el mateix pla que els tres vèrtexs. Calculem, per tant, l'equació del pla que conté el triangle:"
   ]
  },
  {
   "cell_type": "code",
   "execution_count": null,
   "metadata": {},
   "outputs": [],
   "source": [
    "x, y, z = var('x y z')\n",
    "X = vector([x,y,z])\n",
    "P1 = matrix([u12,u13,X-p1]).det() == 0\n",
    "show(P1)"
   ]
  },
  {
   "cell_type": "markdown",
   "metadata": {},
   "source": [
    "L'equació del pla $P_1$ que conté el triangle és $2x-y-z+6=0$."
   ]
  },
  {
   "cell_type": "markdown",
   "metadata": {},
   "source": [
    "L'altura que passa pel punt $p_1$ és la intersecció del pla $P_1$ i el pla perpendicular a $\\vec u_{23}$ que passa per $p_1$. L'equació d'aquesta pla és"
   ]
  },
  {
   "cell_type": "code",
   "execution_count": null,
   "metadata": {},
   "outputs": [],
   "source": [
    "P2 = u23*X == u23*p1\n",
    "show(P2)"
   ]
  },
  {
   "cell_type": "markdown",
   "metadata": {},
   "source": [
    "L'equació del pla $P_2$ que passa pel punt $p_1$ i és perpenduclar al costat oposat a $p_1$ és $x+4y-2z=9$."
   ]
  },
  {
   "cell_type": "markdown",
   "metadata": {},
   "source": [
    "De manera semblant, l'altura que passa pel punt $p_2$ és la intersecció del pla $P_1$ i el pla perpendicular a $\\vec u_{13}$ que passa per $p_2$. L'equació d'aquesta pla és"
   ]
  },
  {
   "cell_type": "code",
   "execution_count": null,
   "metadata": {},
   "outputs": [],
   "source": [
    "P3 = u13*X == u13*p2\n",
    "show(P3)"
   ]
  },
  {
   "cell_type": "markdown",
   "metadata": {},
   "source": [
    "L'equació del pla $P_3$ que passa pel punt $p_2$ i és perpenduclar al costat oposat a $p_2$ és $x+y+z=-3$."
   ]
  },
  {
   "cell_type": "markdown",
   "metadata": {},
   "source": [
    "Si fem la intersecció dels plans $P_1$, $P_2$ i $P_3$, obtindrem l'ortocentre del triangle:"
   ]
  },
  {
   "cell_type": "code",
   "execution_count": null,
   "metadata": {},
   "outputs": [],
   "source": [
    "show(solve([P1,P2,P3],[x,y,z]))"
   ]
  },
  {
   "cell_type": "markdown",
   "metadata": {},
   "source": [
    "Per tant, l'ortocentre del triangle és el punt $(-3,2,-2)$."
   ]
  },
  {
   "cell_type": "markdown",
   "metadata": {},
   "source": [
    "## Exercici 39\n",
    "Els vectors de la base $\\mathcal{B}'=\\{\\vec e_1,\\vec e_2\\}$ compleixen que $\\vec e_1\\cdot\\vec e_1=3$, $\\vec e_1\\cdot\\vec e_2=-1$ i $\\vec e_2\\cdot\\vec e_2=2$. Donades la recta $R$ d'equació $4x'-3y'=1$ en la referència $\\mathcal{R}'=\\{o;\\,\\vec e_1,\\vec e_2\\}$ i el punt $p=(5,-3)_{\\mathcal{R}'}$, calculeu la distància del punt $p$ a la recta $R$."
   ]
  },
  {
   "cell_type": "markdown",
   "metadata": {},
   "source": [
    "Com que la referència $\\mathcal{R}'$ no és rectangular, no podem aplicar cap fórmula per al càlcul de la distància. \n",
    "Així doncs, hem de trobar la projecció ortogonal de $p$ sobre la recta $R$.\n",
    "\n",
    "En primer lloc, el vector director de la recta $R$ és $\\vec u=(3,4)_{\\mathcal{B}'}$ i hem de trobar un vector $\\vec v$ perpendicular a $\\vec u$. \n",
    "Si posem $\\vec v=(a,b)_{\\mathcal{B}'}$, tindrem que\n",
    "$$\n",
    "  \\vec u\\cdot\\vec v = \\left(\\begin{array}{rr}3 & 4\\end{array}\\right)\n",
    "  G\\left(\\begin{array}{r}a \\\\ b\\end{array}\\right)\\,,\n",
    "$$\n",
    "on $G$ és la matriu de Gram de la base $\\mathcal{B}'$."
   ]
  },
  {
   "cell_type": "code",
   "execution_count": null,
   "metadata": {},
   "outputs": [],
   "source": [
    "G = matrix([[3,-1],[-1,2]])\n",
    "show(G)"
   ]
  },
  {
   "cell_type": "markdown",
   "metadata": {},
   "source": [
    "El producte escalar dels vectors $\\vec u$ i $\\vec v$ és"
   ]
  },
  {
   "cell_type": "code",
   "execution_count": null,
   "metadata": {},
   "outputs": [],
   "source": [
    "a, b = var('a b')\n",
    "u = vector([3,4])\n",
    "v = vector([a,b])\n",
    "show(u*G*v)"
   ]
  },
  {
   "cell_type": "markdown",
   "metadata": {},
   "source": [
    "Podem prendre $a=1$ i $b=-1$ i així els vectors $\\vec u=(3,4)_{\\mathcal{B}'}$ i $\\vec u=(1,-1)_{\\mathcal{B}'}$ són perpendiculars. Ara la recta perpendicular a que passa per $p$ tindrà equació $x'+y'=2$.\n",
    "\n",
    "A continuació calculem la intersecció de les dues rectes:"
   ]
  },
  {
   "cell_type": "code",
   "execution_count": null,
   "metadata": {},
   "outputs": [],
   "source": [
    "x1, y1 = var('x1 y1')\n",
    "eq1 = 4*x1-3*y1==1\n",
    "eq2 = x1-5 == (y1+3)/(-1)\n",
    "show(solve([eq1,eq2],[x1,y1]))"
   ]
  },
  {
   "cell_type": "markdown",
   "metadata": {},
   "source": [
    "Per tant, la projecció ortogonal del punt $p$ sobre la recta $R$ és el punt $p'=(1,1)$ i la distància entre el punt $p$ i la recta $R$ és"
   ]
  },
  {
   "cell_type": "code",
   "execution_count": null,
   "metadata": {},
   "outputs": [],
   "source": [
    "p = vector([5,-3])\n",
    "p1 = vector([1,1])\n",
    "w = p1-p\n",
    "d = sqrt(w*G*w)\n",
    "show(d)"
   ]
  },
  {
   "cell_type": "markdown",
   "metadata": {},
   "source": [
    "Per tant, $d(p,R)=4\\sqrt{7}$."
   ]
  },
  {
   "cell_type": "markdown",
   "metadata": {},
   "source": [
    "Per fer una possible representació gràfica, calculem l'angle entre els vector $\\vec e_1$ i $\\vec e_2$"
   ]
  },
  {
   "cell_type": "code",
   "execution_count": null,
   "metadata": {},
   "outputs": [],
   "source": [
    "alfa = N(acos(-1/(sqrt(3)*sqrt(2)))*180/pi)\n",
    "show(alfa)"
   ]
  },
  {
   "cell_type": "code",
   "execution_count": null,
   "metadata": {},
   "outputs": [],
   "source": [
    "%%asy --fmt svg\n",
    "import geometry;\n",
    "import coordenades;\n",
    "import graph;\n",
    "\n",
    "unitsize(1cm);\n",
    "\n",
    "real alfa = acos(-1/sqrt(6));\n",
    "pair o = (0,0),\n",
    "     F = (5,-3),\n",
    "     F1 = (1,1);\n",
    "\n",
    "real f(real x) {\n",
    "    return (4*x-1)/3;\n",
    "}\n",
    "\n",
    "real g(real x) {\n",
    "    return 2-x;\n",
    "}\n",
    "\n",
    "Canonica(-14,12,-10,10);\n",
    "path cl = (-14,-10)--(12,-10)--(12,10)--(-14,10)--cycle;\n",
    "picture p = Coordenades(-7,7,-9,9,color=red,ticky=0.05,base=true,quadricula=false);\n",
    "draw(p,(-7,f(-7))--(7,f(7)),blue+linewidth(0.55mm));\n",
    "draw(p,(-7,g(-7))--(7,g(7)),green+linewidth(0.55mm));\n",
    "draw(p,(F.x,0)--F--(0,F.y),linetype(\"8 8 8 8\")+linewidth(0.1mm)+red);\n",
    "dot(p,F,black+2.5mm);\n",
    "label(p,\"$p$\",F,1.5S);\n",
    "dot(p,F1,blue+2.5mm);\n",
    "label(p,\"$p'$\",F1,1.5S);\n",
    "transform tr = Referencia((-1,1),(sqrt(3),0),sqrt(2)*(cos(alfa),sin(alfa)));\n",
    "add(rotate(35,(-1,1)) * tr * p);\n",
    "clip(cl);"
   ]
  },
  {
   "cell_type": "markdown",
   "metadata": {},
   "source": [
    "## Exercici 40\n",
    "Determineu si la recta $x-y+1=0$ és secant, tangent o exterior a la circumferència\n",
    "$$x^2+y^2-2x+4y-3=0 \\,. $$"
   ]
  },
  {
   "cell_type": "markdown",
   "metadata": {},
   "source": [
    "Calculem la intersecció de la recta i la circumferència resolent un sistema d0equacions:"
   ]
  },
  {
   "cell_type": "code",
   "execution_count": null,
   "metadata": {},
   "outputs": [],
   "source": [
    "x, y = var('x y')\n",
    "show(solve([x-y+1==0,x^2+y^2-2*x+4*y-3==0],[x,y]))"
   ]
  },
  {
   "cell_type": "markdown",
   "metadata": {},
   "source": [
    "Com que la solució és única, la recta és tangent a la circumferència en el punt $(-1,0)$."
   ]
  },
  {
   "cell_type": "markdown",
   "metadata": {},
   "source": [
    "## Exercici 41\n",
    "Determineu els vèrtexs i els focus de l'e\"lipse d'equació\n",
    "$$\\frac{x^2}{4}+\\frac{y^2}{2}=1 \\,. $$\n",
    "Representeu-la gràficament."
   ]
  },
  {
   "cell_type": "markdown",
   "metadata": {},
   "source": [
    "El centre de l'el·lipse és el punt $(0,0)$, el semieix major és $a=2$ i el semieix menor, $b=\\sqrt{2}$. La semidistància focal serà"
   ]
  },
  {
   "cell_type": "code",
   "execution_count": null,
   "metadata": {},
   "outputs": [],
   "source": [
    "a = 2\n",
    "b = sqrt(2)\n",
    "c = sqrt(a^2-b^2)\n",
    "show(c)"
   ]
  },
  {
   "cell_type": "markdown",
   "metadata": {},
   "source": [
    "El focus són els punts $(\\sqrt{2},0)$ i $(-\\sqrt{2},0)$.\n",
    "\n",
    "Els vèrtexs són $(2,0)$, $(-2,0)$,  $(0,\\sqrt{2})$ i $(0,-\\sqrt{2})$."
   ]
  },
  {
   "cell_type": "code",
   "execution_count": null,
   "metadata": {},
   "outputs": [],
   "source": [
    "%%asy --fmt svg\n",
    "import geometry;\n",
    "import coordenades;\n",
    "import graph;\n",
    "\n",
    "unitsize(1cm);\n",
    "\n",
    "add(Quadricula(-6,6,-6,6));\n",
    "Elipse((0,0),(1,0),4,2,x=6,y=6);"
   ]
  },
  {
   "cell_type": "markdown",
   "metadata": {},
   "source": [
    "## Exercici 42\n",
    "Determineu el focus i la directriu de la paràbola d'equació\n",
    "$$y=\\frac{x^2}{4\\sqrt5}$$\n",
    "i reprenteu-ho gràficament."
   ]
  },
  {
   "cell_type": "markdown",
   "metadata": {},
   "source": [
    "El vèrtex de la paràbola és el punt $(0,0)$ i el seu paràmetre $p=2\\sqrt{5}$.\n",
    "\n",
    "Per tant, el focus és el punt $F=(0,\\sqrt{5})$ i la recta directriu té equació $y=-\\sqrt{5}$:"
   ]
  },
  {
   "cell_type": "code",
   "execution_count": null,
   "metadata": {},
   "outputs": [],
   "source": [
    "%%asy --fmt svg\n",
    "import geometry;\n",
    "import coordenades;\n",
    "import graph;\n",
    "\n",
    "unitsize(1cm);\n",
    "\n",
    "picture p = Quadricula(-10,10,-10,10);\n",
    "add(p);\n",
    "Parabola((0,0),(0,sqrt(5)),x=10,y=10);"
   ]
  },
  {
   "cell_type": "markdown",
   "metadata": {},
   "source": [
    "## Exercici 43\n",
    "Determineu els vèrtexs, els focus i les asímptotes de la hipèrbola d'equació\n",
    "$$x^2-\\frac{y^2}{4}=1 $$\n",
    "i representau-la gràficament."
   ]
  },
  {
   "cell_type": "markdown",
   "metadata": {},
   "source": [
    "El centre de la hipèrbola és el punt $(0,0)$, el semieix real és $a=1$ i el semieix imaginari, $b=2$. La semidistància focal serà"
   ]
  },
  {
   "cell_type": "code",
   "execution_count": null,
   "metadata": {},
   "outputs": [],
   "source": [
    "a = 1\n",
    "b = 2\n",
    "c = sqrt(a^2+b^2)\n",
    "show(c)"
   ]
  },
  {
   "cell_type": "markdown",
   "metadata": {},
   "source": [
    "El focus són els punts $(\\sqrt{5},0)$ i $(-\\sqrt{5},0)$.\n",
    "\n",
    "Els vèrtexs són $(1,0)$ i $(-1,0)$ i les asímptotes són les rectes d'equacions $y=2x$ i $y=-2x$."
   ]
  },
  {
   "cell_type": "code",
   "execution_count": null,
   "metadata": {},
   "outputs": [],
   "source": [
    "%%asy --fmt svg\n",
    "import geometry;\n",
    "import coordenades;\n",
    "import graph;\n",
    "\n",
    "unitsize(1cm);\n",
    "\n",
    "picture p = Quadricula(-10,10,-10,10);\n",
    "add(p);\n",
    "Hiperbola((0,0),(1,0),1,4,x=10,y=10);"
   ]
  },
  {
   "cell_type": "markdown",
   "metadata": {
    "tags": []
   },
   "source": [
    "## Exercfici 44\n",
    "Trobeu el centre i els focus de la hipèrbola d'equació\n",
    "$$\n",
    "  4x^2-9y^2-24x+18y-9=0\\,.\n",
    "$$\n",
    "Representeu-ho gràficament."
   ]
  },
  {
   "cell_type": "markdown",
   "metadata": {},
   "source": [
    "En primer lloc hem de completar quadrats per veure com s'escriu l'equació de la hipèrbola:"
   ]
  },
  {
   "cell_type": "code",
   "execution_count": null,
   "metadata": {},
   "outputs": [],
   "source": [
    "x, y = var('x y')\n",
    "x1, y1 = var('x1 y1')\n",
    "eq = 4*x^2-9*y^2-24*x+18*y-9\n",
    "e, c = completa_quadrats(eq,[x,y],[x1,y1])\n",
    "#show(e,c)\n",
    "show(e/36,\";\",c)"
   ]
  },
  {
   "cell_type": "markdown",
   "metadata": {},
   "source": [
    "És a dir, l'equació de la hipèrbola es pot escriure de la forma següent\n",
    "$$\n",
    "  \\frac{(x-3)^2}{9}-\\frac{(y-1)^2}{4} = 1\\,.\n",
    "$$"
   ]
  },
  {
   "cell_type": "markdown",
   "metadata": {},
   "source": [
    "El centre de la hipèrbola és el punt $C=(3,1)$, semieix real $a=3$ i el semieix imaginari $b=2$. La semidistància focal és"
   ]
  },
  {
   "cell_type": "code",
   "execution_count": null,
   "metadata": {},
   "outputs": [],
   "source": [
    "a = 3\n",
    "b = 2\n",
    "c = sqrt(a^2+b^2)\n",
    "show(c)"
   ]
  },
  {
   "cell_type": "markdown",
   "metadata": {},
   "source": [
    "Els focus són els punts $F_1=(3+\\sqrt{13},1)$ i $F_2=(3-\\sqrt{13},1)$. En el gràfic següent es pot veure la hipèrbola"
   ]
  },
  {
   "cell_type": "code",
   "execution_count": null,
   "metadata": {},
   "outputs": [],
   "source": [
    "%%asy --fmt svg\n",
    "import geometry;\n",
    "import coordenades;\n",
    "import graph;\n",
    "\n",
    "unitsize(1cm);\n",
    "\n",
    "Canonica(-6,13,-8,9);\n",
    "Hiperbola((3,1),(1,0),9,4,x=10,y=8);"
   ]
  },
  {
   "cell_type": "markdown",
   "metadata": {},
   "source": [
    "## Exercici 45\n",
    "Trobeu el centre i els focus de l'el·lipse d'equació\n",
    "$$\n",
    "   5x^2+2y^2-20x+12y+8=0\\,.\n",
    "$$\n",
    "Representeu-ho gràficament."
   ]
  },
  {
   "cell_type": "markdown",
   "metadata": {},
   "source": [
    "Com a l'exercici anterior, completem quadrats:"
   ]
  },
  {
   "cell_type": "code",
   "execution_count": null,
   "metadata": {},
   "outputs": [],
   "source": [
    "x, y = var('x y')\n",
    "x1, y1 = var('x1 y1')\n",
    "eq = 5*x^2 + 2*y^2 - 20*x + 12*y + 8\n",
    "e, c = completa_quadrats(eq,[x,y],[x1,y1])\n",
    "# show(e,c)\n",
    "show(e/30,\";\",c)"
   ]
  },
  {
   "cell_type": "markdown",
   "metadata": {},
   "source": [
    "L'equació de l'el·lipse es pot escriure com a\n",
    "$$\n",
    "  \\frac{(x-2)^2}{6}+\\frac{(y+3)^2}{15} = 1\\,.\n",
    "$$"
   ]
  },
  {
   "cell_type": "markdown",
   "metadata": {},
   "source": [
    "El centre de l'el·lipse és el punt $C=(2,-3)$, el semieix major $a=\\sqrt{15}$ i el semieix menor $b=\\sqrt{6}$. Observem que el semieix major $a=\\sqrt{15}$ esta dividint el terme $(y+3)^2$ i que això vol dir que els focus estaran sobre la recta $x=2$.\n",
    "\n",
    "La semidistància focal és"
   ]
  },
  {
   "cell_type": "code",
   "execution_count": null,
   "metadata": {},
   "outputs": [],
   "source": [
    "a = sqrt(15)\n",
    "b = sqrt(6)\n",
    "c = sqrt(a^2-b^2)\n",
    "show(c)"
   ]
  },
  {
   "cell_type": "markdown",
   "metadata": {},
   "source": [
    "Per tant els focus són els punts $F_1=(2,0)$ i $F_2=(2,-6)$. En el gràfic següent es pot veure l'el·lipse."
   ]
  },
  {
   "cell_type": "code",
   "execution_count": null,
   "metadata": {},
   "outputs": [],
   "source": [
    "%%asy --fmt svg\n",
    "import geometry;\n",
    "import coordenades;\n",
    "import graph;\n",
    "\n",
    "unitsize(1cm);\n",
    "\n",
    "Canonica(-7,9,-11,6);\n",
    "Elipse((2,-3),(1,0),6,15,x=7,y=7);"
   ]
  },
  {
   "cell_type": "markdown",
   "metadata": {},
   "source": [
    "## Exercici 46\n",
    "Determineu el focus, el vèrtex i la recta directriu de la paràbola\n",
    "$$\n",
    "  y^2+8x-4y+12=0\\,.\n",
    "$$\n",
    "Representeu-ho gràficament."
   ]
  },
  {
   "cell_type": "code",
   "execution_count": null,
   "metadata": {},
   "outputs": [],
   "source": [
    "Tornem a completar quadrats:"
   ]
  },
  {
   "cell_type": "code",
   "execution_count": null,
   "metadata": {},
   "outputs": [],
   "source": [
    "x, y = var('x y')\n",
    "x1, y1 = var('x1 y1')\n",
    "eq = y^2+8*x-4*y+12\n",
    "e, c = completa_quadrats(eq,[x,y],[x1,y1])\n",
    "show(e,\";\",c)"
   ]
  },
  {
   "cell_type": "markdown",
   "metadata": {},
   "source": [
    "L'equació de la paràbola és\n",
    "$$\n",
    "  x + 1 = -\\frac{(y-2)^2}{8}\\,.\n",
    "$$"
   ]
  },
  {
   "cell_type": "markdown",
   "metadata": {},
   "source": [
    "El vèrtex de la paràbola és el punt $V=(-1,2)$ i el paràmetre $p=4$. Com que la seva equació és\n",
    "$$\n",
    "  x+1=-\\frac{(y-2)^2}{8}\\,,\n",
    "$$\n",
    "el focus és el punt $F=(-3,2)$ i la recta directriu té equació $x=1$. En el gràfic següent podem veure el gràfic de la paràbola."
   ]
  },
  {
   "cell_type": "code",
   "execution_count": null,
   "metadata": {},
   "outputs": [],
   "source": [
    "%%asy --fmt svg\n",
    "import geometry;\n",
    "import coordenades;\n",
    "import graph;\n",
    "\n",
    "unitsize(1cm);\n",
    "\n",
    "Canonica(-10,8,-8,11);\n",
    "Parabola((-1,2),(-3,2),x=8,y=8);"
   ]
  },
  {
   "cell_type": "markdown",
   "metadata": {},
   "source": [
    "## Exercici 47\n",
    "Donada la quàdrica d'equació\n",
    "$$\n",
    "  40 x^{2} - 5 y^{2} - 2 z^{2} - 240 x - 20 y + 4 z + 298 = 0\\,,\n",
    "$$\n",
    "completeu quadrats i determineu el seu tipus i el seu vèrtex o centre."
   ]
  },
  {
   "cell_type": "code",
   "execution_count": null,
   "metadata": {},
   "outputs": [],
   "source": [
    "x, y, z = var('x y z')\n",
    "x1, y1, z1 = var('x1 y1 z1')\n",
    "eq = 40*x^2 - 5*y^2 - 2*z^2 - 240*x - 20*y + 4*z + 298\n",
    "e, c = completa_quadrats(eq,[x,y,z],[x1,y1,z1])\n",
    "#show(e,c)\n",
    "show(-e/40,c)"
   ]
  },
  {
   "cell_type": "markdown",
   "metadata": {},
   "source": [
    "L'equació de la quàdrica es pot escriure com\n",
    "$$\n",
    "  -(x-3)^2+\\frac{(y+2)^2}{8}+\\frac{(z-1)^2}{20}=-1\\,.\n",
    "$$\n",
    "Es tracta d'un hiperboloide de dues fulles i el seu centre és el punt $(3,-2,1)$."
   ]
  },
  {
   "cell_type": "markdown",
   "metadata": {
    "tags": []
   },
   "source": [
    "## Exercici 48\n",
    "Donada la quàdrica d'equació\n",
    "$$\n",
    "  5 x^{2} + 4 z^{2} - 30 x - 200 y - 16 z + 461\\,,\n",
    "$$\n",
    "completeu quadrats i determineu el seu tipus i el seu vèrtex o centre."
   ]
  },
  {
   "cell_type": "code",
   "execution_count": null,
   "metadata": {},
   "outputs": [],
   "source": [
    "x, y, z = var('x y z')\n",
    "x1, y1, z1 = var('x1 y1 z1')\n",
    "eq = 5*x^2 + 4*z^2 - 30*x - 200*y - 16*z + 461\n",
    "e, c = completa_quadrats(eq,[x,y,z],[x1,y1,z1])\n",
    "show(e,c)"
   ]
  },
  {
   "cell_type": "markdown",
   "metadata": {},
   "source": [
    "L'equació de la quàdrica es pot escriure com\n",
    "$$\n",
    "  y-2=\\frac{(x-3)^2}{40}+\\frac{(z-2)^2}{50}\\,.\n",
    "$$\n",
    "Es tracta d'un paraboloide el·lípticde i el seu vèrtex és el punt $(3,2,2)$."
   ]
  },
  {
   "cell_type": "markdown",
   "metadata": {},
   "source": [
    "## Exercici 49\n",
    "Analitzeu si el sistema següent és referència euclidiana de $P_3$ i, en cas afirmatiu, determineu la seva orientació\n",
    "$$\n",
    "  \\mathcal{R}'=\\left\\{(-1,1,2);\\,\\frac{1}{13}(-3,4,12),\\frac{1}{13}(12,-3,4),\\frac{1}{13}(4,12,-3)\\right\\}\\,.\n",
    "$$"
   ]
  },
  {
   "cell_type": "markdown",
   "metadata": {},
   "source": [
    "Una referència de $P_3$ està formada per un punt $O\\in P_3$ i una base $\\vec e_1,\\vec e_2,\\vec e_3$ de $V_3$, $\\mathcal{R}=\\{O;\\,\\vec e_1,\\vec e_2,\\vec e_3\\}$. Així doncs, només cal que comprovem si els tres vectors formen una base de $V_3$ i, a més, és ortonormal."
   ]
  },
  {
   "cell_type": "markdown",
   "metadata": {},
   "source": [
    "Els tres vectors de la referència són"
   ]
  },
  {
   "cell_type": "code",
   "execution_count": null,
   "metadata": {},
   "outputs": [],
   "source": [
    "e1 = 1/13*vector([-3,4,12])\n",
    "e2 = 1/13*vector([12,-3,4])\n",
    "e3 = 1/13*vector([4,12,-3])\n",
    "show(e1,\";\",e2,\";\",e3)"
   ]
  },
  {
   "cell_type": "markdown",
   "metadata": {},
   "source": [
    "Escrivim la matriu del canvi de base d'aquesta base a la canònica i calculem el seu determinant"
   ]
  },
  {
   "cell_type": "code",
   "execution_count": null,
   "metadata": {},
   "outputs": [],
   "source": [
    "C = matrix([e1,e2,e3]).T\n",
    "show(C.det())"
   ]
  },
  {
   "cell_type": "markdown",
   "metadata": {},
   "source": [
    "Això ens dius que aquests tres vectors formen una base $V_3$ i que la seva orientació és positiva."
   ]
  },
  {
   "cell_type": "markdown",
   "metadata": {},
   "source": [
    "Per determinar si la base és ortogonal, hem de calcular els productes escalars dels seus vectors entre ells. La manera més senzilla de fer-ho és"
   ]
  },
  {
   "cell_type": "code",
   "execution_count": null,
   "metadata": {},
   "outputs": [],
   "source": [
    "show(C.T * C)"
   ]
  },
  {
   "cell_type": "markdown",
   "metadata": {},
   "source": [
    "Per tant, $\\mathcal{R}'$ és una referència euclidiana de $P_3$ amb orientació positiva."
   ]
  },
  {
   "cell_type": "markdown",
   "metadata": {},
   "source": [
    "## Exercici 50\n",
    "Calculeu les coordenades del punt $(5,2)$ en la referència\n",
    "$$\\mathcal{R}'=\\left\\{ (0,-3);\\,\\frac15(3,-4),\\frac15(4,3) \\right\\}\\,.$$\n",
    "Representeu-ho gràficament."
   ]
  },
  {
   "cell_type": "markdown",
   "metadata": {},
   "source": [
    "Hem de trobar coeficients $(x',y')$ tals que\n",
    "$$\n",
    "  (5,2) = (0,-3) + \\frac{x'}{5}(3,-4) + \\frac{y'}{5}(4,3)\\,.\n",
    "$$"
   ]
  },
  {
   "cell_type": "code",
   "execution_count": null,
   "metadata": {},
   "outputs": [],
   "source": [
    "x1, y1 = var('x1 y1')\n",
    "p = vector([5,2])\n",
    "O = vector([0,-3])\n",
    "u1 = 1/5*vector([3,-4])\n",
    "u2 = 1/5*vector([4,3])"
   ]
  },
  {
   "cell_type": "code",
   "execution_count": null,
   "metadata": {},
   "outputs": [],
   "source": [
    "cl = O+x1*u1+y1*u2\n",
    "show(cl)"
   ]
  },
  {
   "cell_type": "markdown",
   "metadata": {},
   "source": [
    "Igualem a $(5,2)$ i resolem el sistema d'equacions"
   ]
  },
  {
   "cell_type": "code",
   "execution_count": null,
   "metadata": {},
   "outputs": [],
   "source": [
    "show(solve([cl[0] == p[0],cl[1] == p[1]],[x1,y1]))"
   ]
  },
  {
   "cell_type": "markdown",
   "metadata": {},
   "source": [
    "Les coordenades de $p$ en la referència $\\mathcal{R}'$ són $(-1,7)$, és a dir, $p=(5,2)=(-1,7)_{\\mathcal{R}'}$."
   ]
  },
  {
   "cell_type": "markdown",
   "metadata": {},
   "source": [
    "Una altra manera d'obtenir el mateix resultat és utilitzar les equacions del canvi de coordenades de $\\mathcal{R}'$ a la referència canònica:\n",
    "$$\n",
    "  \\left(\\begin{array}{c} x \\\\ y \\end{array}\\right) \n",
    "  = \\left(\\begin{array}{r} 0 \\\\ -3 \\end{array}\\right) \n",
    "  + \\frac{1}{13}\\left(\\begin{array}{rr}\n",
    "   3 & 4 \\\\\n",
    "  -4 & 3 \\\\\n",
    "  \\end{array}\\right) \n",
    "  \\left(\\begin{array}{c} x' \\\\ y' \\end{array}\\right) \n",
    "  \\qquad\\text{i, aleshores}\\qquad\n",
    "  \\left(\\begin{array}{c} 5 \\\\ 2 \\end{array}\\right) \n",
    "  = \\left(\\begin{array}{r} 0 \\\\ -3 \\end{array}\\right) \n",
    "  + \\frac{1}{13}\\left(\\begin{array}{rr}\n",
    "   3 & 4 \\\\\n",
    "  -4 & 3 \\\\\n",
    "  \\end{array}\\right) \n",
    "  \\left(\\begin{array}{c} x' \\\\ y' \\end{array}\\right) \n",
    "$$"
   ]
  },
  {
   "cell_type": "markdown",
   "metadata": {},
   "source": [
    "Aleshores,"
   ]
  },
  {
   "cell_type": "code",
   "execution_count": null,
   "metadata": {},
   "outputs": [],
   "source": [
    "C = matrix([u1,u2]).T\n",
    "X1 = C.inverse() * (O -p)\n",
    "show(X1)"
   ]
  },
  {
   "cell_type": "code",
   "execution_count": null,
   "metadata": {},
   "outputs": [],
   "source": [
    "%%asy --fmt svg\n",
    "import geometry;\n",
    "import coordenades;\n",
    "import graph;\n",
    "\n",
    "unitsize(1cm);\n",
    "\n",
    "pair F = (5,2),\n",
    "     O = (0,-3),\n",
    "     u1 = 1/5*(3,-4),\n",
    "     u2 = 1/5*(4,3);  \n",
    "\n",
    "Canonica(-10,10,-12,8);\n",
    "picture p = Coordenades(-10,10,-10,10,color=red,base=true,quadricula=false);\n",
    "transform tr = Referencia(O,u1,u2);\n",
    "pair F1 = inverse(tr)*F;\n",
    "dot(p,F1,black+2.5mm);\n",
    "draw(p,(F1.x,0)--F1--(0,F1.y),linetype(\"8 8 8 8\")+linewidth(0.1mm)+red);\n",
    "draw((F.x,0)--F--(0,F.y),linetype(\"8 8 8 8\")+linewidth(0.1mm)+black);\n",
    "add (tr*p);"
   ]
  },
  {
   "cell_type": "markdown",
   "metadata": {},
   "source": [
    "## Exercici 51\n",
    "Representeu gràficament la recta qye en la referència\n",
    "$$\n",
    "  \\mathcal{R}'=\\left\\{(2,1);\\,\\frac{1}{\\sqrt{2}}(1,1),\\frac{1}{\\sqrt{2}}(-1,1)\\right\\}\n",
    "$$\n",
    "té equació $2x'-3y'+6=0$."
   ]
  },
  {
   "cell_type": "code",
   "execution_count": null,
   "metadata": {},
   "outputs": [],
   "source": [
    "%%asy --fmt svg\n",
    "import geometry;\n",
    "import coordenades;\n",
    "import graph;\n",
    "\n",
    "unitsize(1cm);\n",
    "\n",
    "real f(real x)\n",
    "{\n",
    "    return (2*x+6)/3;\n",
    "}\n",
    "\n",
    "pair O = (2,1),\n",
    "     u1 = 1/sqrt(2)*(1,1),\n",
    "     u2 = 1/sqrt(2)*(-1,1);\n",
    "\n",
    "Canonica(-8,10,-10,10);\n",
    "picture p = Coordenades(-10,10,-10,10,color=red,base=true,quadricula=false);\n",
    "transform tr = Referencia(O,u1,u2);\n",
    "draw(p,(-10,f(-10))--(6,f(6)),blue+linewidth(0.55mm));\n",
    "label(p,rotate(degrees(atan2(2,3)))*\"$2x'-3'+6=0$\",(4.8,f(4.8)),SE,blue);\n",
    "add(tr*p);"
   ]
  },
  {
   "cell_type": "markdown",
   "metadata": {},
   "source": [
    "## Exercici 52\n",
    "Determineu l'angle que formen la recta i el pla d'equacions respectives\n",
    "$$\n",
    "  \\dfrac{x'+2}{2}=\\dfrac{y'-3}{-1}=\\dfrac{z'}{2} \\qquad \\text{i} \\qquad -x'+2y'+2z'=-1\n",
    "$$\n",
    "en la referència $\\mathcal{R}'=\\left\\{(2,-1,3);\\,\\frac13(-1,2,2),\\frac13(2,-1,2),\\frac13(2,2,-1)\\right\\}$."
   ]
  },
  {
   "cell_type": "markdown",
   "metadata": {},
   "source": [
    "De manera semblant a l'exercici anterior, la primera recta passa pel punt $p=(-2,3,0)_{\\mathcal{R}'}$ i té vector director $\\vec u=(2,-1,2)_{\\mathcal{B}'}$, mentre que el pla passa el punt $q=(1,0,0)_{\\mathcal{R}'}$ i té vector associat (la referència és euclidiana) $\\vec w=(-1,2,2)_{\\mathcal{B}'}$. Com que la referència és euclidiana, podem calcular el producte escalar de $\\vec u$ i $\\vec w$ de la forma següent:"
   ]
  },
  {
   "cell_type": "code",
   "execution_count": null,
   "metadata": {},
   "outputs": [],
   "source": [
    "u = vector([2,-1,2])\n",
    "w = vector([-1,2,2])\n",
    "show(u * w)"
   ]
  },
  {
   "cell_type": "markdown",
   "metadata": {},
   "source": [
    "Aleshores, la recta i el pla són parel·lels. Per saber si la recta esta inclosa al pla, podem resoldre el sistema"
   ]
  },
  {
   "cell_type": "code",
   "execution_count": null,
   "metadata": {},
   "outputs": [],
   "source": [
    "x1, y1, z1 = var('x1 y1 z1')\n",
    "show(solve([-x1+2*y1+2*z1==-1,(x1+2)/2==(y1-3)/(-1),(x1+2)/2==z1/2],[x1,y1,z1]))"
   ]
  },
  {
   "cell_type": "markdown",
   "metadata": {},
   "source": [
    "Com que la recta i el pla no es tallen, són estrictament paral·les."
   ]
  },
  {
   "cell_type": "markdown",
   "metadata": {},
   "source": [
    "## Exercici 53\n",
    "Trobeu l'angle entre la recta i el pla que tenen equacions respectives\n",
    "$$\\dfrac{x'+6}{2}=\\dfrac{y'-8}{-5}=\\dfrac{z'-7}{5} \\qquad \\text{i} \\qquad x'-y'+2z'=1$$\n",
    "en la referència $\\mathcal{R}'=\\{(1,-2,3);\\,(1,1,1),(1,1,0),(1,0,0)\\}$."
   ]
  },
  {
   "cell_type": "markdown",
   "metadata": {},
   "source": [
    "El primer que hem de fer és calcular les components del vector director de la recta i del vector associat al pla en la base canònica. D'entrada, sabem que\n",
    "el vector director de la recta és $\\vec u=(2,-5,5)_{\\mathcal{B}'}$ i que dos vectors directors del pla són $\\vec v_1=(1,1,0)_{\\mathcal{B}'}$ i $(2,0,-1)_{\\mathcal{B}'}$. Calculem les seves components en la base canònica."
   ]
  },
  {
   "cell_type": "code",
   "execution_count": null,
   "metadata": {},
   "outputs": [],
   "source": [
    "e1 = vector([1,1,1])\n",
    "e2 = vector([1,1,0])\n",
    "e3 = vector([1,0,0])\n",
    "u1 = vector([2,-5,5])\n",
    "v11 = vector([1,1,0])\n",
    "v21 = vector([2,0,-1])"
   ]
  },
  {
   "cell_type": "markdown",
   "metadata": {},
   "source": [
    "Calculem les components dels vectors $\\vec u$, $\\vec v_1$ i $\\vec v_2$ en la base canónica"
   ]
  },
  {
   "cell_type": "code",
   "execution_count": null,
   "metadata": {},
   "outputs": [],
   "source": [
    "u = u1[0]*e1 +  u1[1]*e2 +  u1[2]*e3\n",
    "v1 = v11[0]*e1 +  v11[1]*e2 +  v11[2]*e3\n",
    "v2 = v21[0]*e1 +  v21[1]*e2 +  v21[2]*e3"
   ]
  },
  {
   "cell_type": "markdown",
   "metadata": {},
   "source": [
    "Per acabar, obtenim l'angle entre la recta i el pla"
   ]
  },
  {
   "cell_type": "code",
   "execution_count": null,
   "metadata": {},
   "outputs": [],
   "source": [
    "w = v1.cross_product(v2)\n",
    "alfa = pi/2 - acos(abs(u * w) / simplificar_radicals(u.norm() * w.norm()))\n",
    "show(alfa)"
   ]
  },
  {
   "cell_type": "markdown",
   "metadata": {},
   "source": [
    "L'angle entre la recta i el pla és de $\\frac{\\pi}{2}$, és a dir, són perpendiculars."
   ]
  },
  {
   "cell_type": "markdown",
   "metadata": {},
   "source": [
    "## Exercici 54\n",
    "Determineu la distància que hi ha entre el punt $(1,2)$\n",
    "i la recta que té equació \n",
    "$$x'-3y'=0$$\n",
    "en la referència $\\mathcal{R}'=\\{(0,-1);\\,\\frac{1}{\\sqrt5}(2,1),\\frac{1}{\\sqrt5}(-1,2)\\}$. Representeu-ho gràficament."
   ]
  },
  {
   "cell_type": "markdown",
   "metadata": {},
   "source": [
    "Calculem en primer lloc les coordenades de $p=(1,2)$ en la referència $\\mathcal{R}'$:"
   ]
  },
  {
   "cell_type": "code",
   "execution_count": null,
   "metadata": {},
   "outputs": [],
   "source": [
    "x1, y1 = var('x1 y1')\n",
    "p = vector([1,2])\n",
    "O = vector([0,-1])\n",
    "u1 = 1/sqrt(5)*vector([2,1])\n",
    "u2 = 1/sqrt(5)*vector([-1,2])\n",
    "cl = O + x1*u1+y1*u2\n",
    "sol = solve([p[i] == cl[i] for i in range(2)],[x1,y1])\n",
    "p1 = vector([s.right() for s in sol[0]])\n",
    "show(p1)"
   ]
  },
  {
   "cell_type": "markdown",
   "metadata": {},
   "source": [
    "Com que la referència és euclidiana o rectangular, calculem la projecció ortogonal de $p=(\\sqrt{5},\\sqrt{5})_{\\mathcal{R}'}$ sobre la recta $R$ d'equació $x'-3y'=0$ en la referència $\\mathcal{R}'$. És evident que l'equació (també en la referència $\\mathcal{R}'$) de la recta perpendicular a $R$ que passa pel punt $p$ és\n",
    "$$\n",
    "  3x'+y'=4\\sqrt{5}\\,.\n",
    "$$\n",
    "La intersecció de les dues rectes és"
   ]
  },
  {
   "cell_type": "code",
   "execution_count": null,
   "metadata": {},
   "outputs": [],
   "source": [
    "x1, y1 = var('x1 y1')\n",
    "sol = solve([x1-3*y1==0,3*x1+y1==4*sqrt(5)],[x1,y1])\n",
    "q1 = vector([s.right() for s in sol[0]])\n",
    "show(q1)"
   ]
  },
  {
   "cell_type": "markdown",
   "metadata": {},
   "source": [
    "La projecció ortogonal de $p$ sobre la recta $R$ és el punt\n",
    "$$\n",
    "  \\frac{1}{5}(6\\sqrt{5},2\\sqrt{5})_{\\mathcal{R}'}\\,.\n",
    "$$\n",
    "La distància $d(p,R)$ serà"
   ]
  },
  {
   "cell_type": "code",
   "execution_count": null,
   "metadata": {},
   "outputs": [],
   "source": [
    "show((p1-q1).norm())"
   ]
  },
  {
   "cell_type": "code",
   "execution_count": null,
   "metadata": {},
   "outputs": [],
   "source": [
    "%%asy --fmt svg\n",
    "import geometry;\n",
    "import coordenades;\n",
    "import graph;\n",
    "\n",
    "unitsize(1cm);\n",
    "\n",
    "real f(real x)\n",
    "{\n",
    "    return x/3;\n",
    "}\n",
    "\n",
    "pair F = (1,2),\n",
    "     O = (0,-1),\n",
    "     u1 = 1/sqrt(5)*(2,1),\n",
    "     u2 = 1/sqrt(5)*(-1,2);\n",
    "\n",
    "line l1 = line(1,-3,0);    \n",
    "Canonica(-10,10,-10,10);    \n",
    "picture p = Coordenades(-10,10,-10,10,color=red,base=true,quadricula=false);\n",
    "transform tr = Referencia(O,u1,u2);\n",
    "draw(p,(-10,f(-10))--(10,f(10)),blue+linewidth(0.55mm));\n",
    "pair F1 = inverse(tr)*F;\n",
    "dot(p,F1,black+2.5mm);\n",
    "line l2 = perpendicular(F1,l1);\n",
    "pair P = intersectionpoint(l1,l2);\n",
    "dot(p,P,blue+2.5mm);\n",
    "draw(p,F1--P,linetype(\"8 8 8 8\")+linewidth(0.15mm)+blue);\n",
    "label(p,\"$d$\",(F1+P)/2,E,blue);\n",
    "add(tr*p);"
   ]
  },
  {
   "cell_type": "markdown",
   "metadata": {},
   "source": [
    "## Exercici 55\n",
    "Calculeu la distància del punt $(1,2)$ a la recta d'equació \n",
    "$$x'+2y'=0$$\n",
    "en la referència $\\mathcal{R}'=\\{(3,1);\\,(1,3),(2,1)\\}$."
   ]
  },
  {
   "cell_type": "markdown",
   "metadata": {},
   "source": [
    "Com que la referència $\\mathcal{R}'$ no és euclidiana, clacularem l'equació de la recta en la referència canònica. La fórmula del canvi de coordenades de  $\\mathcal{R}'$ a la referència canònica és\n",
    "$$\n",
    "  \\left(\\begin{array}{c} x \\\\ y \\end{array}\\right) \n",
    "  = \\left(\\begin{array}{r} 3 \\\\ 1 \\end{array}\\right) \n",
    "  + \\left(\\begin{array}{rr}\n",
    "   1 & 2 \\\\\n",
    "   3 & 1 \\\\\n",
    "  \\end{array}\\right) \n",
    "  \\left(\\begin{array}{c} x' \\\\ y' \\end{array}\\right)\\qquad\\text{o}\\qquad X=A+CX'\\,.\n",
    "$$\n",
    "Si aïllem $X'$, tindrem que $X' = C^{-1}\\big(X-A\\big)$."
   ]
  },
  {
   "cell_type": "code",
   "execution_count": null,
   "metadata": {},
   "outputs": [],
   "source": [
    "A = vector([3,1])\n",
    "C = matrix([[1,2],[3,1]])\n",
    "CI = C.inverse()\n",
    "show(CI)"
   ]
  },
  {
   "cell_type": "code",
   "execution_count": null,
   "metadata": {},
   "outputs": [],
   "source": [
    "B = -CI * A\n",
    "show(B)"
   ]
  },
  {
   "cell_type": "markdown",
   "metadata": {},
   "source": [
    "Així doncs,\n",
    "$$\n",
    "  \\left(\\begin{array}{c} x' \\\\ y' \\end{array}\\right) \n",
    "  = \\frac{1}{5}\\left(\\begin{array}{r} 1 \\\\ -8 \\end{array}\\right) \n",
    "  + \\frac{1}{5}\\left(\\begin{array}{rr}\n",
    "   -1 &  2 \\\\\n",
    "    3 & -1 \\\\\n",
    "  \\end{array}\\right) \n",
    "  \\left(\\begin{array}{c} x \\\\ y \\end{array}\\right)\\,.\n",
    "$$"
   ]
  },
  {
   "cell_type": "markdown",
   "metadata": {},
   "source": [
    "D'altra banda, l'equació de la recta en la referència $\\mathcal{R}'$ es pot escriure\n",
    "$$\n",
    "  \\left(\\begin{array}{rr} 1 & 2 \\end{array}\\right)\n",
    "  \\left(\\begin{array}{c} x' \\\\ y' \\end{array}\\right) = 0\\,,\n",
    "$$\n",
    "i, en substituir, ens queda\n",
    "$$\n",
    "  \\left(\\begin{array}{rr} 1 & 2 \\end{array}\\right)\n",
    "  \\left[\n",
    "    \\frac{1}{5}\\left(\\begin{array}{r} 1 \\\\ -8 \\end{array}\\right) \n",
    "    + \\frac{1}{5}\\left(\\begin{array}{rr}\n",
    "     -1 &  2 \\\\\n",
    "      3 & -1 \\\\\n",
    "    \\end{array}\\right) \n",
    "    \\left(\\begin{array}{c} x \\\\ y \\end{array}\\right)\n",
    "  \\right] = 0\\,.\n",
    "$$\n",
    "Aleshores,"
   ]
  },
  {
   "cell_type": "code",
   "execution_count": null,
   "metadata": {},
   "outputs": [],
   "source": [
    "A = vector([1,2])\n",
    "show(A * CI)"
   ]
  },
  {
   "cell_type": "code",
   "execution_count": null,
   "metadata": {},
   "outputs": [],
   "source": [
    "c = - A.dot_product(B)\n",
    "show(c)"
   ]
  },
  {
   "cell_type": "markdown",
   "metadata": {},
   "source": [
    "L'equació de la recta en la referència canònica és $x=3$ i és evident que la distància del punt $(1,2)$ a aquesta recta és $d=2$."
   ]
  },
  {
   "cell_type": "markdown",
   "metadata": {},
   "source": [
    "## Exercici 56\n",
    "Trobeu l'equació de la cònica d'equació \n",
    "$$\n",
    "  x^{2} + y^{2} - 2 x y - 26 x - 6 y + 9 = 0\n",
    "$$\n",
    "en la referència $\\mathcal{R}'=\\left\\{(2,-3);\\frac{1}{\\sqrt{2}}(1,-1),\\frac{1}{\\sqrt{2}}(1,1)\\right\\}$."
   ]
  },
  {
   "cell_type": "markdown",
   "metadata": {},
   "source": [
    "Les equacions del canvi de referència són\n",
    "$$\n",
    "  \\left(\\begin{array}{c} x \\\\ y \\end{array}\\right) \n",
    "  = \\left(\\begin{array}{r} 2 \\\\ -3 \\end{array}\\right) \n",
    "  + \\frac{1}{\\sqrt{2}}\\left(\\begin{array}{rr}\n",
    "   1 & 1 \\\\\n",
    "  -1 & 1 \\\\\n",
    "  \\end{array}\\right) \n",
    "  \\left(\\begin{array}{c} x' \\\\ y' \\end{array}\\right)\n",
    "$$"
   ]
  },
  {
   "cell_type": "code",
   "execution_count": null,
   "metadata": {},
   "outputs": [],
   "source": [
    "x, y = var('x y')\n",
    "x1, y1 = var('x1 y1')\n",
    "eq = x^2 + y^2 - 2*x*y - 26*x - 6*y + 9\n",
    "show(eq)"
   ]
  },
  {
   "cell_type": "code",
   "execution_count": null,
   "metadata": {},
   "outputs": [],
   "source": [
    "B = vector([2,-3])\n",
    "X = vector([x1,y1])\n",
    "C = 1/sqrt(2)*matrix([[1,1],[-1,1]])\n",
    "e = B + C*X\n",
    "show(e)"
   ]
  },
  {
   "cell_type": "code",
   "execution_count": null,
   "metadata": {},
   "outputs": [],
   "source": [
    "show(eq.subs(x=e[0],y=e[1]).expand())"
   ]
  },
  {
   "cell_type": "markdown",
   "metadata": {},
   "source": [
    "Per tant, l'equació és\n",
    "$$\n",
    "  2x'^2-16\\sqrt{2}\\,y'=0\\qquad\\text{o bé}\\qquad y'=\\frac{x'^2}{8\\sqrt{2}}\\,,\n",
    "$$\n",
    "és a dir, és una paràbola."
   ]
  },
  {
   "cell_type": "markdown",
   "metadata": {},
   "source": [
    "## Exercici 57\n",
    "Trobeu l'equació de la quàdrica d'equació \n",
    "$$\n",
    "  3 x^{2} + 3 y^{2} + 5 z^{2} + 2 x y - 6 x z + 6 y z - 6 x - 2 y + 22 z + 3 = 0\n",
    "$$\n",
    "en la referència $\\mathcal{R}'=\\left\\{(4,-3,2);\\frac{1}{\\sqrt{2}}(1,1,0),\\frac{1}{\\sqrt{6}}(1,-1,-2),\\frac{1}{\\sqrt{3}}(-1,1,-1)\\right\\}$."
   ]
  },
  {
   "cell_type": "markdown",
   "metadata": {},
   "source": [
    "Les equacions del canvi de referència són\n",
    "$$\n",
    "  \\left(\\begin{array}{c} x \\\\ y \\\\ z\\end{array}\\right) \n",
    "  = \\left(\\begin{array}{r} 4 \\\\ -3 \\\\ 2\\end{array}\\right) \n",
    "  + \\frac{1}{\\sqrt{6}}\\left(\\begin{array}{crc}\n",
    "   \\sqrt{3} &  1 & -\\sqrt{2} \\\\\n",
    "   \\sqrt{3} & -1 &  \\sqrt{2} \\\\\n",
    "      0     & -2 & -\\sqrt{2}\n",
    "  \\end{array}\\right) \n",
    "  \\left(\\begin{array}{c} x' \\\\ y' \\\\ z' \\end{array}\\right)\n",
    "$$"
   ]
  },
  {
   "cell_type": "code",
   "execution_count": null,
   "metadata": {},
   "outputs": [],
   "source": [
    "x, y, z = var('x y z')\n",
    "x1, y1, z1 = var('x1 y1 z1')\n",
    "eq =  3*x^2 + 3*y^2 + 5*z^2 + 2*x*y - 6*x*z + 6*y*z - 6*x - 2*y + 22*z + 3\n",
    "show(eq)"
   ]
  },
  {
   "cell_type": "code",
   "execution_count": null,
   "metadata": {},
   "outputs": [],
   "source": [
    "B = vector([4,-3,2])\n",
    "X = vector([x1,y1,z1])\n",
    "u1 = 1/sqrt(2)*vector([1,1,0])\n",
    "u2 = 1/sqrt(6)*vector([1,-1,-2])\n",
    "u3 = 1/sqrt(3)*vector([-1,1,-1])\n",
    "C = matrix([u1,u2,u3]).T\n",
    "e = B + C*X\n",
    "show(e)"
   ]
  },
  {
   "cell_type": "code",
   "execution_count": null,
   "metadata": {},
   "outputs": [],
   "source": [
    "eqt = eq.subs(x=e[0],y=e[1],z=e[2]).expand()\n",
    "## show(eqt)\n",
    "show(eqt/16)"
   ]
  },
  {
   "cell_type": "markdown",
   "metadata": {},
   "source": [
    "L'equació de la quàdrica en la referència $\\mathcal{R}'$ és\n",
    "$$\n",
    "  \\frac{x'^2}{4} + \\frac{y'^2}{2} - \\frac{z'^2}{16} = -1\\,,\n",
    "$$\n",
    "és a dir, és un hiperboloide de dues fulles."
   ]
  }
 ],
 "metadata": {
  "kernelspec": {
   "display_name": "SageMath 9.6",
   "language": "sage",
   "name": "sagemath"
  },
  "language_info": {
   "codemirror_mode": {
    "name": "ipython",
    "version": 3
   },
   "file_extension": ".py",
   "mimetype": "text/x-python",
   "name": "python",
   "nbconvert_exporter": "python",
   "pygments_lexer": "ipython3",
   "version": "3.10.7"
  }
 },
 "nbformat": 4,
 "nbformat_minor": 4
}
